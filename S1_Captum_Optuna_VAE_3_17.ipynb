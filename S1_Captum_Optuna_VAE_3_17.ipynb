{
  "cells": [
    {
      "cell_type": "markdown",
      "metadata": {
        "id": "view-in-github",
        "colab_type": "text"
      },
      "source": [
        "<a href=\"https://colab.research.google.com/github/Kcurr01/HUT_Research/blob/main/S1_Captum_Optuna_VAE_3_17.ipynb\" target=\"_parent\"><img src=\"https://colab.research.google.com/assets/colab-badge.svg\" alt=\"Open In Colab\"/></a>"
      ]
    },
    {
      "cell_type": "markdown",
      "metadata": {
        "id": "M8iJEJRDVWqt"
      },
      "source": [
        "---\n",
        "Instalation \n",
        "---"
      ]
    },
    {
      "cell_type": "code",
      "execution_count": null,
      "metadata": {
        "id": "Du8slAkNSRBk"
      },
      "outputs": [],
      "source": [
        "# !pip install captum\n",
        "# !pip install umap-learn\n",
        "# !pip install datashader\n",
        "# !pip install bokeh\n",
        "# !pip install holoviews\n",
        "!pip install tensorboardX\n",
        "!pip install optuna\n",
        "!pip install captum"
      ]
    },
    {
      "cell_type": "code",
      "execution_count": null,
      "metadata": {
        "id": "YmJPqHjmOY4t"
      },
      "outputs": [],
      "source": [
        "from google.colab import drive\n",
        "drive.mount('/content/drive')"
      ]
    },
    {
      "cell_type": "markdown",
      "metadata": {
        "id": "bERxPXvorNic"
      },
      "source": [
        "---\n",
        "VAE Experiment 1 **[]** 2/27\n",
        "---"
      ]
    },
    {
      "cell_type": "code",
      "execution_count": null,
      "metadata": {
        "id": "R9Op8v3LrcHv"
      },
      "outputs": [],
      "source": [
        "import torch   \n",
        "import torch.nn as nn                          \n",
        "import torch.nn.functional as F                \n",
        "import torch.optim as optim   \n",
        "from torch.utils.data import TensorDataset, Dataset, DataLoader\n",
        "from torch.autograd import Variable\n",
        "import torch.utils.data\n",
        "\n",
        "import pandas as pd \n",
        "import numpy as np\n",
        "import os                             \n",
        "\n",
        "import matplotlib.cm as cm\n",
        "import matplotlib.pyplot as plt\n",
        "import seaborn as sns    \n",
        "\n",
        "from sklearn.model_selection import train_test_split\n",
        "from sklearn import preprocessing\n",
        "from sklearn import metrics\n",
        "from sklearn.metrics import accuracy_score, roc_auc_score, f1_score, precision_score, recall_score\n",
        "from sklearn.manifold import TSNE\n",
        "from sklearn.decomposition import PCA, TruncatedSVD\n",
        "\n",
        "device = torch.device(\"cuda:0\" if torch.cuda.is_available() else \"cpu\")\n",
        "torch.cuda.empty_cache()\n",
        "\n",
        "import torchvision\n",
        "from torchvision import datasets\n",
        "\n",
        "#based on sensor data can you determine the stimulus that is currently in use?\n",
        "import optuna\n",
        "from optuna.pruners import ThresholdPruner\n",
        "from optuna import TrialPruned\n",
        "\n",
        "from captum.attr import IntegratedGradients\n",
        "from captum.attr import LayerConductance\n",
        "from captum.attr import NeuronConductance"
      ]
    },
    {
      "cell_type": "code",
      "execution_count": null,
      "metadata": {
        "id": "FNJdjUb6ulmv"
      },
      "outputs": [],
      "source": [
        "df = pd.read_csv(\"/content/drive/MyDrive/WEAR_LAB/Research_Pytorch/Subject_1/S1_E1_A1.csv\")\n",
        "#drops all 0 labels (no label)\n",
        "indices_to_drop = df[df[\"stimulus\"] == 0].index\n",
        "df.drop(indices_to_drop, inplace=True)\n",
        "\n",
        "#Removes number of features from data\n",
        "# df.drop('Cyber Glove (angles of the joints) Sensor 1', inplace=True, axis=1)\n",
        "# df.drop('Cyber Glove (angles of the joints) Sensor 2', inplace=True, axis=1)\n",
        "# df.drop('Cyber Glove (angles of the joints) Sensor 3', inplace=True, axis=1)\n",
        "# df.drop('Cyber Glove (angles of the joints) Sensor 4', inplace=True, axis=1)\n",
        "# df.drop('Cyber Glove (angles of the joints) Sensor 5', inplace=True, axis=1)\n",
        "# df.drop('Cyber Glove (angles of the joints) Sensor 6', inplace=True, axis=1)\n",
        "# df.drop('Cyber Glove (angles of the joints) Sensor 7', inplace=True, axis=1)\n",
        "# df.drop('Cyber Glove (angles of the joints) Sensor 8', inplace=True, axis=1)\n",
        "# df.drop('Cyber Glove (angles of the joints) Sensor 9', inplace=True, axis=1)\n",
        "# df.drop('Cyber Glove (angles of the joints) Sensor 10', inplace=True, axis=1)\n",
        "# df.drop('Cyber Glove (angles of the joints) Sensor 11', inplace=True, axis=1)\n",
        "# df.drop('Cyber Glove (angles of the joints) Sensor 12', inplace=True, axis=1)\n",
        "# df.drop('Cyber Glove (angles of the joints) Sensor 13', inplace=True, axis=1)\n",
        "# df.drop('Cyber Glove (angles of the joints) Sensor 14', inplace=True, axis=1)\n",
        "# df.drop('Cyber Glove (angles of the joints) Sensor 15', inplace=True, axis=1)\n",
        "# df.drop('Cyber Glove (angles of the joints) Sensor 16', inplace=True, axis=1)\n",
        "# df.drop('Cyber Glove (angles of the joints) Sensor 17', inplace=True, axis=1)\n",
        "# df.drop('Cyber Glove (angles of the joints) Sensor 18', inplace=True, axis=1)\n",
        "# df.drop('Cyber Glove (angles of the joints) Sensor 19', inplace=True, axis=1)\n",
        "# df.drop('Cyber Glove (angles of the joints) Sensor 20', inplace=True, axis=1)\n",
        "# df.drop('Cyber Glove (angles of the joints) Sensor 21', inplace=True, axis=1)\n",
        "# df.drop('Cyber Glove (angles of the joints) Sensor 22', inplace=True, axis=1)"
      ]
    },
    {
      "cell_type": "code",
      "execution_count": null,
      "metadata": {
        "colab": {
          "base_uri": "https://localhost:8080/",
          "height": 404
        },
        "id": "XAq5Zx7euqOH",
        "outputId": "ecaae3d7-c7da-4eb4-d89a-c5f208790d34"
      },
      "outputs": [
        {
          "output_type": "execute_result",
          "data": {
            "text/plain": [
              "     stimulus     Acc 1    Acc 2    Acc 3  EMG Channel 1  EMG Channel 2  \\\n",
              "767         1 -0.054199  0.74414 -0.67529              0              0   \n",
              "768         1 -0.054199  0.74414 -0.67529              4              0   \n",
              "769         1 -0.053853  0.74483 -0.67495             -2             -1   \n",
              "770         1 -0.050781  0.75098 -0.67188              1             -1   \n",
              "771         1 -0.050781  0.75098 -0.67188             -3              1   \n",
              "\n",
              "     EMG Channel 3  EMG Channel 4  EMG Channel 5  EMG Channel 6  ...  \\\n",
              "767             -2             -2             -1              1  ...   \n",
              "768             -2             -1              0             -1  ...   \n",
              "769             -1              1             -2             -2  ...   \n",
              "770             -2             -1             -1              0  ...   \n",
              "771              0             -2             -2             -1  ...   \n",
              "\n",
              "     Cyber Glove (angles of the joints) Sensor 13  \\\n",
              "767                                        26.486   \n",
              "768                                        26.486   \n",
              "769                                        26.486   \n",
              "770                                        26.486   \n",
              "771                                        26.486   \n",
              "\n",
              "     Cyber Glove (angles of the joints) Sensor 14  \\\n",
              "767                                       -25.345   \n",
              "768                                       -25.345   \n",
              "769                                       -25.345   \n",
              "770                                       -25.345   \n",
              "771                                       -25.345   \n",
              "\n",
              "     Cyber Glove (angles of the joints) Sensor 15  \\\n",
              "767                                        6.3106   \n",
              "768                                        6.3106   \n",
              "769                                        6.3106   \n",
              "770                                        6.3106   \n",
              "771                                        6.3106   \n",
              "\n",
              "     Cyber Glove (angles of the joints) Sensor 16  \\\n",
              "767                                        34.944   \n",
              "768                                        34.944   \n",
              "769                                        34.944   \n",
              "770                                        34.944   \n",
              "771                                        34.944   \n",
              "\n",
              "     Cyber Glove (angles of the joints) Sensor 17  \\\n",
              "767                                        19.858   \n",
              "768                                        19.858   \n",
              "769                                        19.858   \n",
              "770                                        19.858   \n",
              "771                                        19.858   \n",
              "\n",
              "     Cyber Glove (angles of the joints) Sensor 18  \\\n",
              "767                                          0.48   \n",
              "768                                          0.48   \n",
              "769                                          0.48   \n",
              "770                                          0.48   \n",
              "771                                          0.48   \n",
              "\n",
              "     Cyber Glove (angles of the joints) Sensor 19  \\\n",
              "767                                        15.833   \n",
              "768                                        15.833   \n",
              "769                                        15.833   \n",
              "770                                        15.833   \n",
              "771                                        15.833   \n",
              "\n",
              "     Cyber Glove (angles of the joints) Sensor 20  \\\n",
              "767                                        64.597   \n",
              "768                                        64.597   \n",
              "769                                        64.597   \n",
              "770                                        64.597   \n",
              "771                                        64.597   \n",
              "\n",
              "     Cyber Glove (angles of the joints) Sensor 21  \\\n",
              "767                                        9.5294   \n",
              "768                                        9.5294   \n",
              "769                                        9.5294   \n",
              "770                                        9.5294   \n",
              "771                                        9.5294   \n",
              "\n",
              "     Cyber Glove (angles of the joints) Sensor 22  \n",
              "767                                        10.165  \n",
              "768                                        10.165  \n",
              "769                                        10.165  \n",
              "770                                        10.165  \n",
              "771                                        10.165  \n",
              "\n",
              "[5 rows x 42 columns]"
            ],
            "text/html": [
              "\n",
              "  <div id=\"df-b07f9f59-9ca6-4f47-9a0b-1a0d4bc948f6\">\n",
              "    <div class=\"colab-df-container\">\n",
              "      <div>\n",
              "<style scoped>\n",
              "    .dataframe tbody tr th:only-of-type {\n",
              "        vertical-align: middle;\n",
              "    }\n",
              "\n",
              "    .dataframe tbody tr th {\n",
              "        vertical-align: top;\n",
              "    }\n",
              "\n",
              "    .dataframe thead th {\n",
              "        text-align: right;\n",
              "    }\n",
              "</style>\n",
              "<table border=\"1\" class=\"dataframe\">\n",
              "  <thead>\n",
              "    <tr style=\"text-align: right;\">\n",
              "      <th></th>\n",
              "      <th>stimulus</th>\n",
              "      <th>Acc 1</th>\n",
              "      <th>Acc 2</th>\n",
              "      <th>Acc 3</th>\n",
              "      <th>EMG Channel 1</th>\n",
              "      <th>EMG Channel 2</th>\n",
              "      <th>EMG Channel 3</th>\n",
              "      <th>EMG Channel 4</th>\n",
              "      <th>EMG Channel 5</th>\n",
              "      <th>EMG Channel 6</th>\n",
              "      <th>...</th>\n",
              "      <th>Cyber Glove (angles of the joints) Sensor 13</th>\n",
              "      <th>Cyber Glove (angles of the joints) Sensor 14</th>\n",
              "      <th>Cyber Glove (angles of the joints) Sensor 15</th>\n",
              "      <th>Cyber Glove (angles of the joints) Sensor 16</th>\n",
              "      <th>Cyber Glove (angles of the joints) Sensor 17</th>\n",
              "      <th>Cyber Glove (angles of the joints) Sensor 18</th>\n",
              "      <th>Cyber Glove (angles of the joints) Sensor 19</th>\n",
              "      <th>Cyber Glove (angles of the joints) Sensor 20</th>\n",
              "      <th>Cyber Glove (angles of the joints) Sensor 21</th>\n",
              "      <th>Cyber Glove (angles of the joints) Sensor 22</th>\n",
              "    </tr>\n",
              "  </thead>\n",
              "  <tbody>\n",
              "    <tr>\n",
              "      <th>767</th>\n",
              "      <td>1</td>\n",
              "      <td>-0.054199</td>\n",
              "      <td>0.74414</td>\n",
              "      <td>-0.67529</td>\n",
              "      <td>0</td>\n",
              "      <td>0</td>\n",
              "      <td>-2</td>\n",
              "      <td>-2</td>\n",
              "      <td>-1</td>\n",
              "      <td>1</td>\n",
              "      <td>...</td>\n",
              "      <td>26.486</td>\n",
              "      <td>-25.345</td>\n",
              "      <td>6.3106</td>\n",
              "      <td>34.944</td>\n",
              "      <td>19.858</td>\n",
              "      <td>0.48</td>\n",
              "      <td>15.833</td>\n",
              "      <td>64.597</td>\n",
              "      <td>9.5294</td>\n",
              "      <td>10.165</td>\n",
              "    </tr>\n",
              "    <tr>\n",
              "      <th>768</th>\n",
              "      <td>1</td>\n",
              "      <td>-0.054199</td>\n",
              "      <td>0.74414</td>\n",
              "      <td>-0.67529</td>\n",
              "      <td>4</td>\n",
              "      <td>0</td>\n",
              "      <td>-2</td>\n",
              "      <td>-1</td>\n",
              "      <td>0</td>\n",
              "      <td>-1</td>\n",
              "      <td>...</td>\n",
              "      <td>26.486</td>\n",
              "      <td>-25.345</td>\n",
              "      <td>6.3106</td>\n",
              "      <td>34.944</td>\n",
              "      <td>19.858</td>\n",
              "      <td>0.48</td>\n",
              "      <td>15.833</td>\n",
              "      <td>64.597</td>\n",
              "      <td>9.5294</td>\n",
              "      <td>10.165</td>\n",
              "    </tr>\n",
              "    <tr>\n",
              "      <th>769</th>\n",
              "      <td>1</td>\n",
              "      <td>-0.053853</td>\n",
              "      <td>0.74483</td>\n",
              "      <td>-0.67495</td>\n",
              "      <td>-2</td>\n",
              "      <td>-1</td>\n",
              "      <td>-1</td>\n",
              "      <td>1</td>\n",
              "      <td>-2</td>\n",
              "      <td>-2</td>\n",
              "      <td>...</td>\n",
              "      <td>26.486</td>\n",
              "      <td>-25.345</td>\n",
              "      <td>6.3106</td>\n",
              "      <td>34.944</td>\n",
              "      <td>19.858</td>\n",
              "      <td>0.48</td>\n",
              "      <td>15.833</td>\n",
              "      <td>64.597</td>\n",
              "      <td>9.5294</td>\n",
              "      <td>10.165</td>\n",
              "    </tr>\n",
              "    <tr>\n",
              "      <th>770</th>\n",
              "      <td>1</td>\n",
              "      <td>-0.050781</td>\n",
              "      <td>0.75098</td>\n",
              "      <td>-0.67188</td>\n",
              "      <td>1</td>\n",
              "      <td>-1</td>\n",
              "      <td>-2</td>\n",
              "      <td>-1</td>\n",
              "      <td>-1</td>\n",
              "      <td>0</td>\n",
              "      <td>...</td>\n",
              "      <td>26.486</td>\n",
              "      <td>-25.345</td>\n",
              "      <td>6.3106</td>\n",
              "      <td>34.944</td>\n",
              "      <td>19.858</td>\n",
              "      <td>0.48</td>\n",
              "      <td>15.833</td>\n",
              "      <td>64.597</td>\n",
              "      <td>9.5294</td>\n",
              "      <td>10.165</td>\n",
              "    </tr>\n",
              "    <tr>\n",
              "      <th>771</th>\n",
              "      <td>1</td>\n",
              "      <td>-0.050781</td>\n",
              "      <td>0.75098</td>\n",
              "      <td>-0.67188</td>\n",
              "      <td>-3</td>\n",
              "      <td>1</td>\n",
              "      <td>0</td>\n",
              "      <td>-2</td>\n",
              "      <td>-2</td>\n",
              "      <td>-1</td>\n",
              "      <td>...</td>\n",
              "      <td>26.486</td>\n",
              "      <td>-25.345</td>\n",
              "      <td>6.3106</td>\n",
              "      <td>34.944</td>\n",
              "      <td>19.858</td>\n",
              "      <td>0.48</td>\n",
              "      <td>15.833</td>\n",
              "      <td>64.597</td>\n",
              "      <td>9.5294</td>\n",
              "      <td>10.165</td>\n",
              "    </tr>\n",
              "  </tbody>\n",
              "</table>\n",
              "<p>5 rows × 42 columns</p>\n",
              "</div>\n",
              "      <button class=\"colab-df-convert\" onclick=\"convertToInteractive('df-b07f9f59-9ca6-4f47-9a0b-1a0d4bc948f6')\"\n",
              "              title=\"Convert this dataframe to an interactive table.\"\n",
              "              style=\"display:none;\">\n",
              "        \n",
              "  <svg xmlns=\"http://www.w3.org/2000/svg\" height=\"24px\"viewBox=\"0 0 24 24\"\n",
              "       width=\"24px\">\n",
              "    <path d=\"M0 0h24v24H0V0z\" fill=\"none\"/>\n",
              "    <path d=\"M18.56 5.44l.94 2.06.94-2.06 2.06-.94-2.06-.94-.94-2.06-.94 2.06-2.06.94zm-11 1L8.5 8.5l.94-2.06 2.06-.94-2.06-.94L8.5 2.5l-.94 2.06-2.06.94zm10 10l.94 2.06.94-2.06 2.06-.94-2.06-.94-.94-2.06-.94 2.06-2.06.94z\"/><path d=\"M17.41 7.96l-1.37-1.37c-.4-.4-.92-.59-1.43-.59-.52 0-1.04.2-1.43.59L10.3 9.45l-7.72 7.72c-.78.78-.78 2.05 0 2.83L4 21.41c.39.39.9.59 1.41.59.51 0 1.02-.2 1.41-.59l7.78-7.78 2.81-2.81c.8-.78.8-2.07 0-2.86zM5.41 20L4 18.59l7.72-7.72 1.47 1.35L5.41 20z\"/>\n",
              "  </svg>\n",
              "      </button>\n",
              "      \n",
              "  <style>\n",
              "    .colab-df-container {\n",
              "      display:flex;\n",
              "      flex-wrap:wrap;\n",
              "      gap: 12px;\n",
              "    }\n",
              "\n",
              "    .colab-df-convert {\n",
              "      background-color: #E8F0FE;\n",
              "      border: none;\n",
              "      border-radius: 50%;\n",
              "      cursor: pointer;\n",
              "      display: none;\n",
              "      fill: #1967D2;\n",
              "      height: 32px;\n",
              "      padding: 0 0 0 0;\n",
              "      width: 32px;\n",
              "    }\n",
              "\n",
              "    .colab-df-convert:hover {\n",
              "      background-color: #E2EBFA;\n",
              "      box-shadow: 0px 1px 2px rgba(60, 64, 67, 0.3), 0px 1px 3px 1px rgba(60, 64, 67, 0.15);\n",
              "      fill: #174EA6;\n",
              "    }\n",
              "\n",
              "    [theme=dark] .colab-df-convert {\n",
              "      background-color: #3B4455;\n",
              "      fill: #D2E3FC;\n",
              "    }\n",
              "\n",
              "    [theme=dark] .colab-df-convert:hover {\n",
              "      background-color: #434B5C;\n",
              "      box-shadow: 0px 1px 3px 1px rgba(0, 0, 0, 0.15);\n",
              "      filter: drop-shadow(0px 1px 2px rgba(0, 0, 0, 0.3));\n",
              "      fill: #FFFFFF;\n",
              "    }\n",
              "  </style>\n",
              "\n",
              "      <script>\n",
              "        const buttonEl =\n",
              "          document.querySelector('#df-b07f9f59-9ca6-4f47-9a0b-1a0d4bc948f6 button.colab-df-convert');\n",
              "        buttonEl.style.display =\n",
              "          google.colab.kernel.accessAllowed ? 'block' : 'none';\n",
              "\n",
              "        async function convertToInteractive(key) {\n",
              "          const element = document.querySelector('#df-b07f9f59-9ca6-4f47-9a0b-1a0d4bc948f6');\n",
              "          const dataTable =\n",
              "            await google.colab.kernel.invokeFunction('convertToInteractive',\n",
              "                                                     [key], {});\n",
              "          if (!dataTable) return;\n",
              "\n",
              "          const docLinkHtml = 'Like what you see? Visit the ' +\n",
              "            '<a target=\"_blank\" href=https://colab.research.google.com/notebooks/data_table.ipynb>data table notebook</a>'\n",
              "            + ' to learn more about interactive tables.';\n",
              "          element.innerHTML = '';\n",
              "          dataTable['output_type'] = 'display_data';\n",
              "          await google.colab.output.renderOutput(dataTable, element);\n",
              "          const docLink = document.createElement('div');\n",
              "          docLink.innerHTML = docLinkHtml;\n",
              "          element.appendChild(docLink);\n",
              "        }\n",
              "      </script>\n",
              "    </div>\n",
              "  </div>\n",
              "  "
            ]
          },
          "metadata": {},
          "execution_count": 5
        }
      ],
      "source": [
        "df.head()"
      ]
    },
    {
      "cell_type": "code",
      "execution_count": null,
      "metadata": {
        "colab": {
          "base_uri": "https://localhost:8080/"
        },
        "id": "uBKcgR245EOX",
        "outputId": "25e2e1d9-5a56-4451-d934-ef38116ab105"
      },
      "outputs": [
        {
          "output_type": "stream",
          "name": "stdout",
          "text": [
            "(80601, 41) <class 'pandas.core.frame.DataFrame'> (80601, 1) <class 'pandas.core.frame.DataFrame'>\n",
            "\n"
          ]
        }
      ],
      "source": [
        "X = df.drop('stimulus', axis=1)\n",
        "#y = df['stimulus']\n",
        "y = df.iloc[:, 0:1]\n",
        "print(X.shape, type(X), y.shape, type(y))\n",
        "print()"
      ]
    },
    {
      "cell_type": "code",
      "execution_count": null,
      "metadata": {
        "colab": {
          "base_uri": "https://localhost:8080/",
          "height": 404
        },
        "id": "XlcbdijIOabG",
        "outputId": "a4d8e381-ad8a-4058-f70a-a494956a42b5"
      },
      "outputs": [
        {
          "output_type": "execute_result",
          "data": {
            "text/plain": [
              "        Acc 1    Acc 2    Acc 3  EMG Channel 1  EMG Channel 2  EMG Channel 3  \\\n",
              "767 -0.054199  0.74414 -0.67529              0              0             -2   \n",
              "768 -0.054199  0.74414 -0.67529              4              0             -2   \n",
              "769 -0.053853  0.74483 -0.67495             -2             -1             -1   \n",
              "770 -0.050781  0.75098 -0.67188              1             -1             -2   \n",
              "771 -0.050781  0.75098 -0.67188             -3              1              0   \n",
              "\n",
              "     EMG Channel 4  EMG Channel 5  EMG Channel 6  EMG Channel 7  ...  \\\n",
              "767             -2             -1              1              1  ...   \n",
              "768             -1              0             -1             -2  ...   \n",
              "769              1             -2             -2              0  ...   \n",
              "770             -1             -1              0             -2  ...   \n",
              "771             -2             -2             -1             -1  ...   \n",
              "\n",
              "     Cyber Glove (angles of the joints) Sensor 13  \\\n",
              "767                                        26.486   \n",
              "768                                        26.486   \n",
              "769                                        26.486   \n",
              "770                                        26.486   \n",
              "771                                        26.486   \n",
              "\n",
              "     Cyber Glove (angles of the joints) Sensor 14  \\\n",
              "767                                       -25.345   \n",
              "768                                       -25.345   \n",
              "769                                       -25.345   \n",
              "770                                       -25.345   \n",
              "771                                       -25.345   \n",
              "\n",
              "     Cyber Glove (angles of the joints) Sensor 15  \\\n",
              "767                                        6.3106   \n",
              "768                                        6.3106   \n",
              "769                                        6.3106   \n",
              "770                                        6.3106   \n",
              "771                                        6.3106   \n",
              "\n",
              "     Cyber Glove (angles of the joints) Sensor 16  \\\n",
              "767                                        34.944   \n",
              "768                                        34.944   \n",
              "769                                        34.944   \n",
              "770                                        34.944   \n",
              "771                                        34.944   \n",
              "\n",
              "     Cyber Glove (angles of the joints) Sensor 17  \\\n",
              "767                                        19.858   \n",
              "768                                        19.858   \n",
              "769                                        19.858   \n",
              "770                                        19.858   \n",
              "771                                        19.858   \n",
              "\n",
              "     Cyber Glove (angles of the joints) Sensor 18  \\\n",
              "767                                          0.48   \n",
              "768                                          0.48   \n",
              "769                                          0.48   \n",
              "770                                          0.48   \n",
              "771                                          0.48   \n",
              "\n",
              "     Cyber Glove (angles of the joints) Sensor 19  \\\n",
              "767                                        15.833   \n",
              "768                                        15.833   \n",
              "769                                        15.833   \n",
              "770                                        15.833   \n",
              "771                                        15.833   \n",
              "\n",
              "     Cyber Glove (angles of the joints) Sensor 20  \\\n",
              "767                                        64.597   \n",
              "768                                        64.597   \n",
              "769                                        64.597   \n",
              "770                                        64.597   \n",
              "771                                        64.597   \n",
              "\n",
              "     Cyber Glove (angles of the joints) Sensor 21  \\\n",
              "767                                        9.5294   \n",
              "768                                        9.5294   \n",
              "769                                        9.5294   \n",
              "770                                        9.5294   \n",
              "771                                        9.5294   \n",
              "\n",
              "     Cyber Glove (angles of the joints) Sensor 22  \n",
              "767                                        10.165  \n",
              "768                                        10.165  \n",
              "769                                        10.165  \n",
              "770                                        10.165  \n",
              "771                                        10.165  \n",
              "\n",
              "[5 rows x 41 columns]"
            ],
            "text/html": [
              "\n",
              "  <div id=\"df-212a1718-a5e2-408e-b573-622c5774af20\">\n",
              "    <div class=\"colab-df-container\">\n",
              "      <div>\n",
              "<style scoped>\n",
              "    .dataframe tbody tr th:only-of-type {\n",
              "        vertical-align: middle;\n",
              "    }\n",
              "\n",
              "    .dataframe tbody tr th {\n",
              "        vertical-align: top;\n",
              "    }\n",
              "\n",
              "    .dataframe thead th {\n",
              "        text-align: right;\n",
              "    }\n",
              "</style>\n",
              "<table border=\"1\" class=\"dataframe\">\n",
              "  <thead>\n",
              "    <tr style=\"text-align: right;\">\n",
              "      <th></th>\n",
              "      <th>Acc 1</th>\n",
              "      <th>Acc 2</th>\n",
              "      <th>Acc 3</th>\n",
              "      <th>EMG Channel 1</th>\n",
              "      <th>EMG Channel 2</th>\n",
              "      <th>EMG Channel 3</th>\n",
              "      <th>EMG Channel 4</th>\n",
              "      <th>EMG Channel 5</th>\n",
              "      <th>EMG Channel 6</th>\n",
              "      <th>EMG Channel 7</th>\n",
              "      <th>...</th>\n",
              "      <th>Cyber Glove (angles of the joints) Sensor 13</th>\n",
              "      <th>Cyber Glove (angles of the joints) Sensor 14</th>\n",
              "      <th>Cyber Glove (angles of the joints) Sensor 15</th>\n",
              "      <th>Cyber Glove (angles of the joints) Sensor 16</th>\n",
              "      <th>Cyber Glove (angles of the joints) Sensor 17</th>\n",
              "      <th>Cyber Glove (angles of the joints) Sensor 18</th>\n",
              "      <th>Cyber Glove (angles of the joints) Sensor 19</th>\n",
              "      <th>Cyber Glove (angles of the joints) Sensor 20</th>\n",
              "      <th>Cyber Glove (angles of the joints) Sensor 21</th>\n",
              "      <th>Cyber Glove (angles of the joints) Sensor 22</th>\n",
              "    </tr>\n",
              "  </thead>\n",
              "  <tbody>\n",
              "    <tr>\n",
              "      <th>767</th>\n",
              "      <td>-0.054199</td>\n",
              "      <td>0.74414</td>\n",
              "      <td>-0.67529</td>\n",
              "      <td>0</td>\n",
              "      <td>0</td>\n",
              "      <td>-2</td>\n",
              "      <td>-2</td>\n",
              "      <td>-1</td>\n",
              "      <td>1</td>\n",
              "      <td>1</td>\n",
              "      <td>...</td>\n",
              "      <td>26.486</td>\n",
              "      <td>-25.345</td>\n",
              "      <td>6.3106</td>\n",
              "      <td>34.944</td>\n",
              "      <td>19.858</td>\n",
              "      <td>0.48</td>\n",
              "      <td>15.833</td>\n",
              "      <td>64.597</td>\n",
              "      <td>9.5294</td>\n",
              "      <td>10.165</td>\n",
              "    </tr>\n",
              "    <tr>\n",
              "      <th>768</th>\n",
              "      <td>-0.054199</td>\n",
              "      <td>0.74414</td>\n",
              "      <td>-0.67529</td>\n",
              "      <td>4</td>\n",
              "      <td>0</td>\n",
              "      <td>-2</td>\n",
              "      <td>-1</td>\n",
              "      <td>0</td>\n",
              "      <td>-1</td>\n",
              "      <td>-2</td>\n",
              "      <td>...</td>\n",
              "      <td>26.486</td>\n",
              "      <td>-25.345</td>\n",
              "      <td>6.3106</td>\n",
              "      <td>34.944</td>\n",
              "      <td>19.858</td>\n",
              "      <td>0.48</td>\n",
              "      <td>15.833</td>\n",
              "      <td>64.597</td>\n",
              "      <td>9.5294</td>\n",
              "      <td>10.165</td>\n",
              "    </tr>\n",
              "    <tr>\n",
              "      <th>769</th>\n",
              "      <td>-0.053853</td>\n",
              "      <td>0.74483</td>\n",
              "      <td>-0.67495</td>\n",
              "      <td>-2</td>\n",
              "      <td>-1</td>\n",
              "      <td>-1</td>\n",
              "      <td>1</td>\n",
              "      <td>-2</td>\n",
              "      <td>-2</td>\n",
              "      <td>0</td>\n",
              "      <td>...</td>\n",
              "      <td>26.486</td>\n",
              "      <td>-25.345</td>\n",
              "      <td>6.3106</td>\n",
              "      <td>34.944</td>\n",
              "      <td>19.858</td>\n",
              "      <td>0.48</td>\n",
              "      <td>15.833</td>\n",
              "      <td>64.597</td>\n",
              "      <td>9.5294</td>\n",
              "      <td>10.165</td>\n",
              "    </tr>\n",
              "    <tr>\n",
              "      <th>770</th>\n",
              "      <td>-0.050781</td>\n",
              "      <td>0.75098</td>\n",
              "      <td>-0.67188</td>\n",
              "      <td>1</td>\n",
              "      <td>-1</td>\n",
              "      <td>-2</td>\n",
              "      <td>-1</td>\n",
              "      <td>-1</td>\n",
              "      <td>0</td>\n",
              "      <td>-2</td>\n",
              "      <td>...</td>\n",
              "      <td>26.486</td>\n",
              "      <td>-25.345</td>\n",
              "      <td>6.3106</td>\n",
              "      <td>34.944</td>\n",
              "      <td>19.858</td>\n",
              "      <td>0.48</td>\n",
              "      <td>15.833</td>\n",
              "      <td>64.597</td>\n",
              "      <td>9.5294</td>\n",
              "      <td>10.165</td>\n",
              "    </tr>\n",
              "    <tr>\n",
              "      <th>771</th>\n",
              "      <td>-0.050781</td>\n",
              "      <td>0.75098</td>\n",
              "      <td>-0.67188</td>\n",
              "      <td>-3</td>\n",
              "      <td>1</td>\n",
              "      <td>0</td>\n",
              "      <td>-2</td>\n",
              "      <td>-2</td>\n",
              "      <td>-1</td>\n",
              "      <td>-1</td>\n",
              "      <td>...</td>\n",
              "      <td>26.486</td>\n",
              "      <td>-25.345</td>\n",
              "      <td>6.3106</td>\n",
              "      <td>34.944</td>\n",
              "      <td>19.858</td>\n",
              "      <td>0.48</td>\n",
              "      <td>15.833</td>\n",
              "      <td>64.597</td>\n",
              "      <td>9.5294</td>\n",
              "      <td>10.165</td>\n",
              "    </tr>\n",
              "  </tbody>\n",
              "</table>\n",
              "<p>5 rows × 41 columns</p>\n",
              "</div>\n",
              "      <button class=\"colab-df-convert\" onclick=\"convertToInteractive('df-212a1718-a5e2-408e-b573-622c5774af20')\"\n",
              "              title=\"Convert this dataframe to an interactive table.\"\n",
              "              style=\"display:none;\">\n",
              "        \n",
              "  <svg xmlns=\"http://www.w3.org/2000/svg\" height=\"24px\"viewBox=\"0 0 24 24\"\n",
              "       width=\"24px\">\n",
              "    <path d=\"M0 0h24v24H0V0z\" fill=\"none\"/>\n",
              "    <path d=\"M18.56 5.44l.94 2.06.94-2.06 2.06-.94-2.06-.94-.94-2.06-.94 2.06-2.06.94zm-11 1L8.5 8.5l.94-2.06 2.06-.94-2.06-.94L8.5 2.5l-.94 2.06-2.06.94zm10 10l.94 2.06.94-2.06 2.06-.94-2.06-.94-.94-2.06-.94 2.06-2.06.94z\"/><path d=\"M17.41 7.96l-1.37-1.37c-.4-.4-.92-.59-1.43-.59-.52 0-1.04.2-1.43.59L10.3 9.45l-7.72 7.72c-.78.78-.78 2.05 0 2.83L4 21.41c.39.39.9.59 1.41.59.51 0 1.02-.2 1.41-.59l7.78-7.78 2.81-2.81c.8-.78.8-2.07 0-2.86zM5.41 20L4 18.59l7.72-7.72 1.47 1.35L5.41 20z\"/>\n",
              "  </svg>\n",
              "      </button>\n",
              "      \n",
              "  <style>\n",
              "    .colab-df-container {\n",
              "      display:flex;\n",
              "      flex-wrap:wrap;\n",
              "      gap: 12px;\n",
              "    }\n",
              "\n",
              "    .colab-df-convert {\n",
              "      background-color: #E8F0FE;\n",
              "      border: none;\n",
              "      border-radius: 50%;\n",
              "      cursor: pointer;\n",
              "      display: none;\n",
              "      fill: #1967D2;\n",
              "      height: 32px;\n",
              "      padding: 0 0 0 0;\n",
              "      width: 32px;\n",
              "    }\n",
              "\n",
              "    .colab-df-convert:hover {\n",
              "      background-color: #E2EBFA;\n",
              "      box-shadow: 0px 1px 2px rgba(60, 64, 67, 0.3), 0px 1px 3px 1px rgba(60, 64, 67, 0.15);\n",
              "      fill: #174EA6;\n",
              "    }\n",
              "\n",
              "    [theme=dark] .colab-df-convert {\n",
              "      background-color: #3B4455;\n",
              "      fill: #D2E3FC;\n",
              "    }\n",
              "\n",
              "    [theme=dark] .colab-df-convert:hover {\n",
              "      background-color: #434B5C;\n",
              "      box-shadow: 0px 1px 3px 1px rgba(0, 0, 0, 0.15);\n",
              "      filter: drop-shadow(0px 1px 2px rgba(0, 0, 0, 0.3));\n",
              "      fill: #FFFFFF;\n",
              "    }\n",
              "  </style>\n",
              "\n",
              "      <script>\n",
              "        const buttonEl =\n",
              "          document.querySelector('#df-212a1718-a5e2-408e-b573-622c5774af20 button.colab-df-convert');\n",
              "        buttonEl.style.display =\n",
              "          google.colab.kernel.accessAllowed ? 'block' : 'none';\n",
              "\n",
              "        async function convertToInteractive(key) {\n",
              "          const element = document.querySelector('#df-212a1718-a5e2-408e-b573-622c5774af20');\n",
              "          const dataTable =\n",
              "            await google.colab.kernel.invokeFunction('convertToInteractive',\n",
              "                                                     [key], {});\n",
              "          if (!dataTable) return;\n",
              "\n",
              "          const docLinkHtml = 'Like what you see? Visit the ' +\n",
              "            '<a target=\"_blank\" href=https://colab.research.google.com/notebooks/data_table.ipynb>data table notebook</a>'\n",
              "            + ' to learn more about interactive tables.';\n",
              "          element.innerHTML = '';\n",
              "          dataTable['output_type'] = 'display_data';\n",
              "          await google.colab.output.renderOutput(dataTable, element);\n",
              "          const docLink = document.createElement('div');\n",
              "          docLink.innerHTML = docLinkHtml;\n",
              "          element.appendChild(docLink);\n",
              "        }\n",
              "      </script>\n",
              "    </div>\n",
              "  </div>\n",
              "  "
            ]
          },
          "metadata": {},
          "execution_count": 7
        }
      ],
      "source": [
        "X.head()"
      ]
    },
    {
      "cell_type": "markdown",
      "metadata": {
        "id": "3WHYTiyNxjbB"
      },
      "source": [
        "---\n",
        "Visualization number of labels"
      ]
    },
    {
      "cell_type": "code",
      "execution_count": null,
      "metadata": {
        "colab": {
          "base_uri": "https://localhost:8080/",
          "height": 522
        },
        "id": "GrBPneNpxio1",
        "outputId": "fa8575d2-bb08-4076-dd09-b8dd027bc635"
      },
      "outputs": [
        {
          "output_type": "execute_result",
          "data": {
            "text/plain": [
              "stimulus\n",
              "8           6795\n",
              "5           6782\n",
              "6           6776\n",
              "7           6776\n",
              "11          6773\n",
              "1           6753\n",
              "12          6701\n",
              "10          6696\n",
              "2           6656\n",
              "4           6654\n",
              "9           6626\n",
              "3           6613\n",
              "dtype: int64"
            ]
          },
          "metadata": {},
          "execution_count": 8
        },
        {
          "output_type": "display_data",
          "data": {
            "text/plain": [
              "<Figure size 432x288 with 1 Axes>"
            ],
            "image/png": "[encoded data removed]"
          },
          "metadata": {
            "needs_background": "light"
          }
        }
      ],
      "source": [
        "sns.countplot(x = 'stimulus', data=df)\n",
        "y.value_counts()"
      ]
    },
    {
      "cell_type": "markdown",
      "metadata": {
        "id": "Ac9B5iPx9HWR"
      },
      "source": [
        "---\n",
        "Fixing Data Imbalance via Undersampling"
      ]
    },
    {
      "cell_type": "code",
      "execution_count": null,
      "metadata": {
        "colab": {
          "base_uri": "https://localhost:8080/",
          "height": 364
        },
        "id": "F8Pf2yx55xks",
        "outputId": "992fa693-0cc0-482e-b9a3-d2fc402bbbb2"
      },
      "outputs": [
        {
          "output_type": "execute_result",
          "data": {
            "text/plain": [
              "<Axes: xlabel='stimulus'>"
            ]
          },
          "metadata": {},
          "execution_count": 9
        },
        {
          "output_type": "display_data",
          "data": {
            "text/plain": [
              "<Figure size 576x360 with 1 Axes>"
            ],
            "image/png": "[encoded data removed]"
          },
          "metadata": {
            "needs_background": "light"
          }
        }
      ],
      "source": [
        "from imblearn.under_sampling import RandomUnderSampler\n",
        "\n",
        "sampling_strategy = \"not minority\"\n",
        "rus = RandomUnderSampler(sampling_strategy=sampling_strategy)\n",
        "X_res, y_res = rus.fit_resample(X, y)\n",
        "y_res.value_counts().plot(kind='bar', figsize=(8,5))"
      ]
    },
    {
      "cell_type": "code",
      "execution_count": null,
      "metadata": {
        "colab": {
          "base_uri": "https://localhost:8080/"
        },
        "id": "yYCz3Q5H9gN9",
        "outputId": "d90255d3-0d76-49d9-cab5-9dd542b59b03"
      },
      "outputs": [
        {
          "output_type": "stream",
          "name": "stdout",
          "text": [
            "stimulus\n",
            "1           6613\n",
            "2           6613\n",
            "3           6613\n",
            "4           6613\n",
            "5           6613\n",
            "6           6613\n",
            "7           6613\n",
            "8           6613\n",
            "9           6613\n",
            "10          6613\n",
            "11          6613\n",
            "12          6613\n",
            "dtype: int64\n",
            "79356\n"
          ]
        }
      ],
      "source": [
        "print(y_res.value_counts())\n",
        "print(len(X_res.value_counts()))"
      ]
    },
    {
      "cell_type": "code",
      "execution_count": null,
      "metadata": {
        "colab": {
          "base_uri": "https://localhost:8080/"
        },
        "id": "hpNYb9reRugs",
        "outputId": "4eaada94-db10-4a85-a68f-b773c5584672"
      },
      "outputs": [
        {
          "output_type": "stream",
          "name": "stdout",
          "text": [
            "        stimulus\n",
            "767            1\n",
            "768            1\n",
            "769            1\n",
            "770            1\n",
            "771            1\n",
            "...          ...\n",
            "130195        12\n",
            "130196        12\n",
            "130197        12\n",
            "130198        12\n",
            "130199        12\n",
            "\n",
            "[80601 rows x 1 columns]\n"
          ]
        }
      ],
      "source": [
        "print(y)"
      ]
    },
    {
      "cell_type": "markdown",
      "metadata": {
        "id": "hPN8DmEJxrse"
      },
      "source": [
        "---\n",
        "Visualization of Data Distributions"
      ]
    },
    {
      "cell_type": "code",
      "execution_count": null,
      "metadata": {
        "id": "y5a9acbLxwRe"
      },
      "outputs": [],
      "source": [
        "# #distribution of first 19 features\n",
        "\n",
        "\n",
        "# fig, axs = plt.subplots(nrows=5, ncols=4, figsize=(40, 40))\n",
        "# axs = axs.flatten()\n",
        "# index = 0\n",
        "# for k, v in df.items():\n",
        "#   print(f\"[{index +1}] Updating plot\")\n",
        "#   sns.distplot(v, ax=axs[index])\n",
        "#   index += 1\n",
        "#   if index == 20:\n",
        "#     break \n",
        "# plt.tight_layout()"
      ]
    },
    {
      "cell_type": "markdown",
      "metadata": {
        "id": "j-Q8ps35WPO3"
      },
      "source": [
        "---\n",
        "Defining Hyperparmaeters"
      ]
    },
    {
      "cell_type": "code",
      "execution_count": null,
      "metadata": {
        "id": "MZoF6guXlSot"
      },
      "outputs": [],
      "source": [
        "#############################################################################################################################################################################################################\n",
        "#############################################################################################################################################################################################################\n",
        "#############################################################################################################################################################################################################\n",
        "#############################################################################################################################################################################################################\n",
        "\n",
        "#Hyperparameters\n",
        "emg_channels = 16\n",
        "imu_channels = 3\n",
        "\n",
        "latent_dim = 2\n",
        "input_dim= len(X.columns)\n",
        "\n",
        "hidden_dim= round(input_dim/2)\n",
        "hidden_dim_2 = round(input_dim/4)\n",
        "output_dim = len(X.columns)\n",
        "num_classes = 12\n",
        "num_layers = round(num_classes/2)\n",
        "tempature = 1\n",
        "\n",
        "num_epochs= 10\n",
        "batch_size= 100\n",
        "learning_rate= 0.001 #3e-4 #Karpathy constant\n",
        "l2_lambda = 0\n",
        "\n",
        "\n",
        "alpha = 2        # Reconstruction Loss\n",
        "beta = 2         # Kl Divergence Loss\n",
        "gamma = 3        # Classifcation Loss\n",
        "delta = 5        # Contrastive Loss\n",
        "epsilon = 3      # Triplet Loss\n",
        "\n",
        "#############################################################################################################################################################################################################\n",
        "#############################################################################################################################################################################################################\n",
        "#############################################################################################################################################################################################################\n",
        "#############################################################################################################################################################################################################"
      ]
    },
    {
      "cell_type": "markdown",
      "metadata": {
        "id": "D3t0Wyvt9zUN"
      },
      "source": [
        "---\n",
        "Train Test Split"
      ]
    },
    {
      "cell_type": "code",
      "execution_count": null,
      "metadata": {
        "colab": {
          "base_uri": "https://localhost:8080/"
        },
        "id": "XmDYv1vB9Wyh",
        "outputId": "11dc57d9-2c2f-47e3-cfd2-1d599059e4cf"
      },
      "outputs": [
        {
          "output_type": "stream",
          "name": "stdout",
          "text": [
            "(79356, 41) <class 'numpy.ndarray'> (79356, 1) <class 'numpy.ndarray'>\n",
            "\n",
            "X_train size: 47613 | X_val size: 15871 | X_test size: 15872\n",
            "y_train size: 47613 | y_val size: 15871 | y_test size: 15872\n",
            "\n",
            "Training Feature Split: (47613, 41) | Training Labels (47613, 1)\n",
            "Validation Feature Split: (15871, 41) | Validation Labels (15871, 1)\n",
            "Testing Feature Split: (15872, 41) | Testing Labels (15872, 1)\n",
            "\n"
          ]
        }
      ],
      "source": [
        "X = X_res.values\n",
        "y = y_res.values\n",
        "print(X.shape, type(X), y.shape, type(y))\n",
        "print()\n",
        "\n",
        "# Data Split\n",
        "X_train, X_test, y_train, y_test = train_test_split(X, y, test_size=0.2, random_state=42)\n",
        "X_train, X_val, y_train, y_val = train_test_split(X_train, y_train, test_size=0.25, random_state=42) # 0.25 x 0.8 = 0.2\n",
        "\n",
        "print(f\"X_train size: {len(X_train)} | X_val size: {len(X_val)} | X_test size: {len(X_test)}\")\n",
        "print(f\"y_train size: {len(y_train)} | y_val size: {len(y_val)} | y_test size: {len(y_test)}\")\n",
        "print()\n",
        "print(f\"Training Feature Split: {X_train.shape} | Training Labels { y_train.shape}\")\n",
        "print(f\"Validation Feature Split: {X_val.shape} | Validation Labels { y_val.shape}\")\n",
        "print(f\"Testing Feature Split: {X_test.shape} | Testing Labels { y_test.shape}\")\n",
        "print()"
      ]
    },
    {
      "cell_type": "markdown",
      "metadata": {
        "id": "4cC0dknyWXmN"
      },
      "source": [
        "---\n",
        "Scaling/Normalizing Data"
      ]
    },
    {
      "cell_type": "code",
      "execution_count": null,
      "metadata": {
        "colab": {
          "base_uri": "https://localhost:8080/"
        },
        "id": "f1X-8DFZMt_M",
        "outputId": "35c8e4c1-468e-4ccd-bfa1-9fda80f98045"
      },
      "outputs": [
        {
          "output_type": "stream",
          "name": "stdout",
          "text": [
            "X_train: <class 'torch.Tensor'> | y_train <class 'torch.Tensor'>\n",
            "X_val: <class 'torch.Tensor'> | y_train <class 'torch.Tensor'>\n",
            "X_test: <class 'torch.Tensor'> | y_test <class 'torch.Tensor'>\n",
            "\n",
            "Training: torch.Size([47613, 41]) , torch.Size([47613, 1])\n",
            "Validation: torch.Size([15871, 41]) , torch.Size([15871, 1])\n",
            "Testing:  torch.Size([15872, 41]) , torch.Size([15872, 1])\n"
          ]
        }
      ],
      "source": [
        "#Normalization Data \n",
        "\n",
        "#No Normalization \n",
        "# X_train_Normalized = X_train\n",
        "# X_val_Normalized = X_val\n",
        "# X_test_Normalized = X_test\n",
        "#----------------------------------------------------------------------------------------------------------\n",
        "# Minmax without preprocessing\n",
        "# Minmax = preprocessing.MinMaxScaler()\n",
        "# X_train_Normalized= Minmax.fit_transform(X_train)\n",
        "# X_val_Normalized = Minmax.transform(X_val)\n",
        "# X_test_Normalized = Minmax.transform(X_test)\n",
        "#----------------------------------------------------------------------------------------------------------\n",
        "# Minmax with preprocessing\n",
        "# Minmax = preprocessing.MinMaxScaler()\n",
        "# X_train_Normalized= Minmax.fit_transform(X_train_preprocessed)\n",
        "# X_val_Normalized = Minmax.transform(X_val_preprocessed)\n",
        "# X_test_Normalized = Minmax.transform(X_test_preprocessed)\n",
        "\n",
        "#----------------------------------------------------------------------------------------------------------\n",
        "# # Standardization without preprocessing\n",
        "Standardized = preprocessing.StandardScaler()\n",
        "X_train_Normalized= Standardized.fit_transform(X_train)\n",
        "X_val_Normalized = Standardized.transform(X_val)\n",
        "X_test_Normalized = Standardized.transform(X_test)\n",
        "\n",
        "# Standardization with preprocessing\n",
        "# Standardized = preprocessing.StandardScaler()\n",
        "# X_train_Normalized= Standardized.fit_transform(X_train_preprocessed)\n",
        "# X_val_Normalized = Standardized.transform(X_val_preprocessed)\n",
        "# X_test_Normalized = Standardized.transform(X_test_preprocessed)\n",
        "#----------------------------------------------------------------------------------------------------------\n",
        "\n",
        "#Convert to numpy then to torch \n",
        "\n",
        "X_train = torch.from_numpy(X_train_Normalized).float()\n",
        "y_train = torch.from_numpy(y_train).long()\n",
        "\n",
        "X_val = torch.from_numpy(X_val_Normalized).float()\n",
        "y_val = torch.from_numpy(y_val).long()\n",
        "\n",
        "X_test = torch.from_numpy(X_test_Normalized).float()\n",
        "y_test = torch.from_numpy(y_test).long()\n",
        "\n",
        "print(f\"X_train: {type(X_train)} | y_train {type(y_train)}\")\n",
        "print(f\"X_val: {type(X_val)} | y_train {type(y_val)}\")\n",
        "print(f\"X_test: {type(X_test)} | y_test {type(y_test)}\")\n",
        "print()\n",
        "print(f\"Training: {X_train.shape} , { y_train.shape}\")\n",
        "print(f\"Validation: {X_val.shape} , { y_val.shape}\")\n",
        "print(f\"Testing:  {X_test.shape} , { y_test.shape}\")"
      ]
    },
    {
      "cell_type": "markdown",
      "metadata": {
        "id": "C3UmdyVaWc2f"
      },
      "source": [
        "---\n",
        "Defining Dataloaders\n"
      ]
    },
    {
      "cell_type": "code",
      "execution_count": null,
      "metadata": {
        "id": "pnr0p08ESkXE"
      },
      "outputs": [],
      "source": [
        "class ClassifierDataset(Dataset):\n",
        "    def __init__(self, X_data, y_data):\n",
        "        self.X_data = X_data\n",
        "        self.y_data = y_data\n",
        "\n",
        "    def __getitem__(self, index):\n",
        "        return self.X_data[index], self.y_data[index]\n",
        "\n",
        "    def __len__ (self):\n",
        "        return len(self.X_data)"
      ]
    },
    {
      "cell_type": "code",
      "execution_count": null,
      "metadata": {
        "id": "45Ta3rYVknAi"
      },
      "outputs": [],
      "source": [
        "training = ClassifierDataset(X_train, y_train)\n",
        "validating = ClassifierDataset(X_val, y_val)\n",
        "testing = ClassifierDataset(X_test, y_test)\n",
        "\n",
        "\n",
        "train_loader = DataLoader(training, batch_size=batch_size, shuffle=True)\n",
        "val_loader = DataLoader(validating, batch_size=batch_size, shuffle=False)\n",
        "test_loader = DataLoader(testing, batch_size=batch_size, shuffle=False)\n",
        "\n",
        "def get_data_loader(optuna_batch_size):\n",
        "  train_loader = DataLoader(training, batch_size=optuna_batch_size, shuffle=True)\n",
        "  val_loader = DataLoader(validating, batch_size=optuna_batch_size, shuffle=False)\n",
        "  test_loader = DataLoader(testing, batch_size=optuna_batch_size, shuffle=False)\n",
        "  return train_loader, val_loader, test_loader"
      ]
    },
    {
      "cell_type": "markdown",
      "metadata": {
        "id": "dTrRsJbCWmG-"
      },
      "source": [
        "---\n",
        "Defining VAE Model, Loss and Optmizers"
      ]
    },
    {
      "cell_type": "code",
      "execution_count": null,
      "metadata": {
        "colab": {
          "base_uri": "https://localhost:8080/"
        },
        "id": "sgYYoP4DSnAB",
        "outputId": "c5653a5b-a202-4259-d4f5-0b344e25e033"
      },
      "outputs": [
        {
          "output_type": "stream",
          "name": "stdout",
          "text": [
            "Reconstruction X: torch.Size([100, 41])\n",
            "Mu: torch.Size([100, 2]) \n",
            "Logvar: torch.Size([100, 2])\n",
            "Latent Space Z: torch.Size([100, 2])\n",
            "Classifier: torch.Size([100, 13])\n"
          ]
        }
      ],
      "source": [
        "class VAE(nn.Module):  \n",
        "  def __init__(self, input_dim, hidden_dim, latent_dim):\n",
        "    super(VAE,self).__init__()  \n",
        "    self.encoder = nn.Sequential(\n",
        "        nn.Linear(input_dim, hidden_dim),\n",
        "        nn.ReLU(),\n",
        "        nn.Linear(hidden_dim, hidden_dim),\n",
        "        nn.ReLU(),\n",
        "        nn.Linear(hidden_dim, hidden_dim),\n",
        "        nn.ReLU(),\n",
        "        nn.Linear(hidden_dim, hidden_dim_2),\n",
        "        nn.ReLU(),\n",
        "        nn.Linear(hidden_dim_2, hidden_dim_2),\n",
        "        nn.ReLU(),\n",
        "        nn.Linear(hidden_dim_2, hidden_dim_2),\n",
        "    )\n",
        "    self.mu = nn.Linear(hidden_dim_2, latent_dim)   # mu\n",
        "    self.logvar = nn.Linear(hidden_dim_2, latent_dim)   # log-var\n",
        "    self.decoder = nn.Sequential(\n",
        "        nn.Linear(latent_dim, hidden_dim_2),\n",
        "        nn.ReLU(),\n",
        "        nn.Linear(hidden_dim_2, hidden_dim_2),\n",
        "        nn.ReLU(),\n",
        "        nn.Linear(hidden_dim_2, hidden_dim_2),\n",
        "        nn.ReLU(),\n",
        "        nn.Linear(hidden_dim_2, hidden_dim),\n",
        "        nn.ReLU(),\n",
        "        nn.Linear(hidden_dim, hidden_dim),\n",
        "        nn.ReLU(),\n",
        "        nn.Linear(hidden_dim, hidden_dim),\n",
        "        nn.ReLU(),\n",
        "        nn.Linear(hidden_dim, input_dim),\n",
        "    )\n",
        "    self.classifier = nn.Sequential(\n",
        "        nn.Linear(latent_dim, num_layers),\n",
        "        nn.ReLU(),\n",
        "        nn.Linear(num_layers, 13),\n",
        "        nn.Softmax(dim=1)\n",
        "    )\n",
        "\n",
        "  def encode(self, x):  \n",
        "    z = self.encoder(x)\n",
        "    z1 = self.mu(z)               \n",
        "    z2 = self.logvar(z) \n",
        "    return z1, z2                 # (mu, log-var)\n",
        "\n",
        "  def decode(self, x):\n",
        "\n",
        "    return self.decoder(x)\n",
        "\n",
        "  def forward(self, x):\n",
        "#  Reparamaterize\n",
        "    mu, logvar = self.encode(x)\n",
        "    stdev = torch.exp(0.5 * logvar)\n",
        "    esp = torch.randn_like(stdev)\n",
        "    z_reparmeterized = mu + (esp * stdev)   \n",
        "\n",
        "    x_reconstructed = self.decode(z_reparmeterized)\n",
        "    classified = self.classifier(z_reparmeterized)\n",
        "    classified = classified / tempature\n",
        "\n",
        "    return (x_reconstructed, z_reparmeterized, classified, mu, logvar)\n",
        "\n",
        "if __name__ == \"__main__\":\n",
        "  x = torch.rand(batch_size,input_dim)\n",
        "  vae = VAE(input_dim, hidden_dim, latent_dim)\n",
        "  x_reconstructed, z_reparmeterized, classified, mu, logvar = vae(x)\n",
        "  print(f\"Reconstruction X: {x_reconstructed.shape}\")\n",
        "\n",
        "  print(f\"Mu: {mu.shape} \")\n",
        "  \n",
        "  print(f\"Logvar: {logvar.shape}\")\n",
        " \n",
        "  print(f\"Latent Space Z: {z_reparmeterized.shape}\")\n",
        " \n",
        "  print(f\"Classifier: {classified.shape}\")"
      ]
    },
    {
      "cell_type": "code",
      "execution_count": null,
      "metadata": {
        "id": "fusjHJ7PMDSS"
      },
      "outputs": [],
      "source": [
        "class ContrastiveLoss(nn.Module):\n",
        "  def __init__(self, margin=1.0):\n",
        "    super(ContrastiveLoss, self).__init__()\n",
        "    self.margin = margin\n",
        "        \n",
        "  def forward(self, z_reparmeterized, labels):\n",
        "    # Compute the pairwise euclidean distances between the examples in the latent space\n",
        "    distances = torch.pow(z_reparmeterized, 2).sum(dim=1, keepdim=True) + torch.pow(z_reparmeterized, 2).sum(dim=1, keepdim=True).t() - 2 * torch.matmul(z_reparmeterized, z_reparmeterized.t())\n",
        "    # Create a mask for the positive pairs (i.e. examples with the same label)\n",
        "    positive_mask = labels.expand(z_reparmeterized.size(0), z_reparmeterized.size(0)).eq(labels.expand(z_reparmeterized.size(0), z_reparmeterized.size(0)).t())\n",
        "    # Create a mask for the negative pairs (i.e. examples with different labels)\n",
        "    negative_mask = labels.expand(z_reparmeterized.size(0), z_reparmeterized.size(0)).ne(labels.expand(z_reparmeterized.size(0), z_reparmeterized.size(0)).t())\n",
        "    # Set the distances for the positive pairs to a large value\n",
        "    distances.masked_fill_(positive_mask, 1e7)\n",
        "    # Compute the contrastive loss as the sum of the max(0, margin - distance) for the negative pairs\n",
        "    contrastive_loss = torch.sum(torch.max(torch.zeros_like(distances), self.margin - distances))\n",
        "    return contrastive_loss"
      ]
    },
    {
      "cell_type": "code",
      "execution_count": null,
      "metadata": {
        "id": "k1-AmtAYjZpS"
      },
      "outputs": [],
      "source": [
        "def train_VAE(trial, model, train_loader, val_loader, optimizer, epoch,alpha,beta,gamma, delta):\n",
        "  train_losses=[]\n",
        "  train_accuracy = []\n",
        "  accuracy_log = []\n",
        "  val_losses=[]\n",
        "  val_accuracy=[]\n",
        "\n",
        "  recon_loss_fn = nn.MSELoss(reduction=\"sum\")\n",
        "  classifier_loss_fn = nn.CrossEntropyLoss()\n",
        "  contrastive_loss_fn = ContrastiveLoss(margin=1)\n",
        "\n",
        "  train_running_loss = 0\n",
        "  model.train()\n",
        "  for i, data in enumerate(train_loader):\n",
        "    inputs, labels = data\n",
        "    inputs = inputs.to(device)\n",
        "    labels = labels.to(device)\n",
        "    # print(f\"Input shape: {inputs.shape}\")\n",
        "    # print(f\"Labels shape: {labels.shape}\")\n",
        "    optimizer.zero_grad()\n",
        "    \n",
        "    x_reconstructed, z_reparmeterized, classified, mu, logvar = model(inputs)\n",
        "\n",
        "    # Compute the reconstruction loss and KL divergence loss #################################################\n",
        "\n",
        "    reconstruction_loss = recon_loss_fn(x_reconstructed, inputs)\n",
        "    kld_loss = -0.5 * torch.sum(1 + logvar - mu.pow(2) - logvar.exp())\n",
        "\n",
        "    contrastive_loss = contrastive_loss_fn(mu, labels)\n",
        "\n",
        "    # Compute the classificaiton loss #########################################################################\n",
        "    classified = classified.view(-1, 13)\n",
        "    classification_loss = classifier_loss_fn(classified, labels.flatten())\n",
        "\n",
        "  \n",
        "    loss = (alpha*reconstruction_loss + kld_loss*beta) + gamma*classification_loss + (delta*contrastive_loss)\n",
        "\n",
        "    accuracy = accuracy_score(labels, classified.argmax(dim=1))\n",
        "    train_accuracy.append(accuracy)\n",
        "    train_acc = sum(train_accuracy)/len(train_accuracy)\n",
        "    accuracy_log.append(train_acc)\n",
        "\n",
        "    loss.backward()\n",
        "    optimizer.step()\n",
        "\n",
        "    train_running_loss += loss.item()\n",
        "    train_loss= train_running_loss/len(train_loader)\n",
        "\n",
        "  with torch.inference_mode():\n",
        "    val_running_loss = 0\n",
        "    val_running_acc = 0\n",
        "\n",
        "    model.eval()\n",
        "    # Iterate over the validation data\n",
        "    for X, Y in val_loader:\n",
        "      # Pass the data through the model and get the reconstructed data and the latent representation\n",
        "      y_pred, z_reparmeterized, v_classified, mu, logvar = model(X)\n",
        "\n",
        "      # Compute the reconstruction loss\n",
        "      v_reconstruction_loss = recon_loss_fn(y_pred, X)\n",
        "\n",
        "      # Compute the KL divergence loss\n",
        "      v_kld_loss = -0.5 * torch.sum(1 + logvar - mu.pow(2) - logvar.exp())\n",
        "\n",
        "      v_contrastive_loss_value = contrastive_loss_fn(mu, Y)\n",
        "\n",
        "      # Reshape the classified output to have the same shape as the labels\n",
        "      v_classified = v_classified.view(-1, 13)\n",
        "      # Compute the classification loss\n",
        "      v_classification_loss = classifier_loss_fn(v_classified, Y.flatten())\n",
        "\n",
        "      # Compute the total loss\n",
        "      vloss = (alpha*v_reconstruction_loss + v_kld_loss*beta) + gamma*v_classification_loss + delta*v_contrastive_loss_value\n",
        "      val_running_loss += vloss.item()\n",
        "      val_loss = val_running_loss/len(val_loader)\n",
        "\n",
        "      v_accuracy = accuracy_score(Y, v_classified.argmax(dim=1))\n",
        "      val_accuracy.append(v_accuracy)\n",
        "      val_acc = sum(val_accuracy)/len(val_accuracy)\n",
        "\n",
        "  print(f\"Epoch: {epoch+1} / {num_epochs} | Reconst_loss: {reconstruction_loss:.3f} | Kldiv loss: {kld_loss:.3f} | Classifcation loss: {classification_loss:.3f} | Constrast loss: {contrastive_loss:.2f} | Total loss: {train_loss:.3f} | Train acc: {train_acc*100:.3f} % ||| Val Loss: {val_loss:.3f} | Val acc: {val_acc*100:.3f} %\")\n",
        "  print(\"-------------------------------------------------------------------------------------------------------------------------------------------------------------------------------------\")\n",
        "  train_losses.append(train_loss)\n",
        "  val_losses.append(val_loss)\n",
        "\n",
        "  trial.report(train_acc, epoch)\n",
        "  if trial.should_prune():\n",
        "      raise optuna.TrialPruned()\n",
        "\n",
        "  return train_losses, val_losses, train_acc, val_acc\n",
        "\n"
      ]
    },
    {
      "cell_type": "code",
      "execution_count": null,
      "metadata": {
        "id": "p-3XPHXlpsve"
      },
      "outputs": [],
      "source": [
        "def objective(trial):\n",
        "  params = {\n",
        "          'optuna_batch_size' : trial.suggest_int('optuna_batch_size', 1e2, 1e3),\n",
        "          'num_epochs' : num_epochs,\n",
        "          'optimizer': trial.suggest_categorical(\"optimizer\", [\"Adam\", \"RMSprop\"]),\n",
        "          \"lr\": trial.suggest_float('lr', 1e-4, 1e-2),\n",
        "          \"hidden_dim\": trial.suggest_int('hidden_dim', 1e2, 1e3),\n",
        "          'alpha': trial.suggest_int('alpha', 1e-1, 1e1),\n",
        "          'beta': trial.suggest_int('beta', 1e-1, 1e1), \n",
        "          'gamma': trial.suggest_int('gamma', 1e-1, 1e1), \n",
        "          'delta': trial.suggest_int('delta', 1e-1, 1e1),        \n",
        "  }\n",
        "\n",
        "  train_loader, val_loader, test_loader = get_data_loader(params['optuna_batch_size'])\n",
        "  model  = VAE(input_dim, params['hidden_dim'], latent_dim).to(device)\n",
        "  optimizer = getattr(optim, params['optimizer'])(model.parameters(), lr=params['lr'])\n",
        "\n",
        "  for epoch in range(params['num_epochs']):\n",
        "    train_losses, val_losses, train_acc, val_acc = train_VAE(trial, model, train_loader, val_loader, optimizer, epoch, alpha, beta, gamma, delta)\n",
        "  return train_acc\n"
      ]
    },
    {
      "cell_type": "code",
      "execution_count": 22,
      "metadata": {
        "colab": {
          "base_uri": "https://localhost:8080/",
          "height": 1000
        },
        "id": "23icBK73s9bH",
        "outputId": "6582648c-18c6-4dc2-fd62-2c2905400194"
      },
      "outputs": [
        {
          "metadata": {
            "tags": null
          },
          "name": "stderr",
          "output_type": "stream",
          "text": [
            "\u001b[32m[I 2023-03-17 20:27:26,506]\u001b[0m A new study created in memory with name: no-name-8ca5838a-a51e-4f92-a5a3-ceebe396031a\u001b[0m\n"
          ]
        },
        {
          "metadata": {
            "tags": null
          },
          "name": "stdout",
          "output_type": "stream",
          "text": [
            "Epoch: 1 / 10 | Reconst_loss: 14791.948 | Kldiv loss: 7426.449 | Classifcation loss: 2.487 | Constrast loss: 2257.91 | Total loss: 96818426.901 | Train acc: 13.534 % ||| Val Loss: 109402.027 | Val acc: 16.324 %\n",
            "-------------------------------------------------------------------------------------------------------------------------------------------------------------------------------------\n",
            "Epoch: 2 / 10 | Reconst_loss: 15392.527 | Kldiv loss: 6219.307 | Classifcation loss: 2.443 | Constrast loss: 1377.13 | Total loss: 97190.654 | Train acc: 16.776 % ||| Val Loss: 86853.628 | Val acc: 17.826 %\n",
            "-------------------------------------------------------------------------------------------------------------------------------------------------------------------------------------\n",
            "Epoch: 3 / 10 | Reconst_loss: 12912.701 | Kldiv loss: 4400.440 | Classifcation loss: 2.384 | Constrast loss: 1124.58 | Total loss: 78692.824 | Train acc: 25.947 % ||| Val Loss: 70395.951 | Val acc: 34.757 %\n",
            "-------------------------------------------------------------------------------------------------------------------------------------------------------------------------------------\n",
            "Epoch: 4 / 10 | Reconst_loss: 10965.816 | Kldiv loss: 4724.927 | Classifcation loss: 2.301 | Constrast loss: 691.26 | Total loss: 67150.564 | Train acc: 40.239 % ||| Val Loss: 66828.595 | Val acc: 41.843 %\n",
            "-------------------------------------------------------------------------------------------------------------------------------------------------------------------------------------\n",
            "Epoch: 5 / 10 | Reconst_loss: 10425.853 | Kldiv loss: 4191.510 | Classifcation loss: 2.217 | Constrast loss: 656.25 | Total loss: 62226.247 | Train acc: 46.971 % ||| Val Loss: 58846.184 | Val acc: 48.659 %\n",
            "-------------------------------------------------------------------------------------------------------------------------------------------------------------------------------------\n",
            "Epoch: 6 / 10 | Reconst_loss: 9812.817 | Kldiv loss: 3837.876 | Classifcation loss: 2.185 | Constrast loss: 475.86 | Total loss: 58011.770 | Train acc: 50.216 % ||| Val Loss: 55509.290 | Val acc: 51.459 %\n",
            "-------------------------------------------------------------------------------------------------------------------------------------------------------------------------------------\n",
            "Epoch: 7 / 10 | Reconst_loss: 10205.998 | Kldiv loss: 3829.791 | Classifcation loss: 2.157 | Constrast loss: 381.78 | Total loss: 55112.051 | Train acc: 52.801 % ||| Val Loss: 54230.027 | Val acc: 53.197 %\n",
            "-------------------------------------------------------------------------------------------------------------------------------------------------------------------------------------\n",
            "Epoch: 8 / 10 | Reconst_loss: 8875.738 | Kldiv loss: 3645.634 | Classifcation loss: 2.196 | Constrast loss: 457.27 | Total loss: 53367.460 | Train acc: 55.376 % ||| Val Loss: 50596.541 | Val acc: 56.082 %\n",
            "-------------------------------------------------------------------------------------------------------------------------------------------------------------------------------------\n",
            "Epoch: 9 / 10 | Reconst_loss: 8775.642 | Kldiv loss: 3591.005 | Classifcation loss: 2.119 | Constrast loss: 318.84 | Total loss: 50719.057 | Train acc: 57.656 % ||| Val Loss: 49258.104 | Val acc: 59.244 %\n",
            "-------------------------------------------------------------------------------------------------------------------------------------------------------------------------------------\n"
          ]
        },
        {
          "metadata": {
            "tags": null
          },
          "name": "stderr",
          "output_type": "stream",
          "text": [
            "\u001b[32m[I 2023-03-17 20:32:12,210]\u001b[0m Trial 0 finished with value: 0.6041932720322027 and parameters: {'optuna_batch_size': 726, 'optimizer': 'Adam', 'lr': 0.004051849855739276, 'hidden_dim': 857, 'alpha': 4, 'beta': 10, 'gamma': 6, 'delta': 0}. Best is trial 0 with value: 0.6041932720322027.\u001b[0m\n"
          ]
        },
        {
          "metadata": {
            "tags": null
          },
          "name": "stdout",
          "output_type": "stream",
          "text": [
            "Epoch: 10 / 10 | Reconst_loss: 9769.335 | Kldiv loss: 3680.631 | Classifcation loss: 2.131 | Constrast loss: 292.95 | Total loss: 49742.079 | Train acc: 60.419 % ||| Val Loss: 48360.979 | Val acc: 60.240 %\n",
            "-------------------------------------------------------------------------------------------------------------------------------------------------------------------------------------\n",
            "Epoch: 1 / 10 | Reconst_loss: nan | Kldiv loss: nan | Classifcation loss: nan | Constrast loss: nan | Total loss: nan | Train acc: 0.138 % ||| Val Loss: nan | Val acc: 0.000 %\n",
            "-------------------------------------------------------------------------------------------------------------------------------------------------------------------------------------\n",
            "Epoch: 2 / 10 | Reconst_loss: nan | Kldiv loss: nan | Classifcation loss: nan | Constrast loss: nan | Total loss: nan | Train acc: 0.000 % ||| Val Loss: nan | Val acc: 0.000 %\n",
            "-------------------------------------------------------------------------------------------------------------------------------------------------------------------------------------\n",
            "Epoch: 3 / 10 | Reconst_loss: nan | Kldiv loss: nan | Classifcation loss: nan | Constrast loss: nan | Total loss: nan | Train acc: 0.000 % ||| Val Loss: nan | Val acc: 0.000 %\n",
            "-------------------------------------------------------------------------------------------------------------------------------------------------------------------------------------\n"
          ]
        },
        {
          "metadata": {
            "tags": null
          },
          "name": "stderr",
          "output_type": "stream",
          "text": [
            "\u001b[32m[I 2023-03-17 20:33:41,262]\u001b[0m Trial 1 pruned. \u001b[0m\n"
          ]
        },
        {
          "metadata": {
            "tags": null
          },
          "name": "stdout",
          "output_type": "stream",
          "text": [
            "Epoch: 4 / 10 | Reconst_loss: nan | Kldiv loss: nan | Classifcation loss: nan | Constrast loss: nan | Total loss: nan | Train acc: 0.000 % ||| Val Loss: nan | Val acc: 0.000 %\n",
            "-------------------------------------------------------------------------------------------------------------------------------------------------------------------------------------\n",
            "Epoch: 1 / 10 | Reconst_loss: 7033.657 | Kldiv loss: 3168.535 | Classifcation loss: 2.536 | Constrast loss: 249.50 | Total loss: 314862.982 | Train acc: 11.317 % ||| Val Loss: 112929.708 | Val acc: 14.262 %\n",
            "-------------------------------------------------------------------------------------------------------------------------------------------------------------------------------------\n",
            "Epoch: 2 / 10 | Reconst_loss: 7286.917 | Kldiv loss: 2848.901 | Classifcation loss: 2.514 | Constrast loss: 182.84 | Total loss: 109950.324 | Train acc: 19.632 % ||| Val Loss: 100389.006 | Val acc: 21.825 %\n",
            "-------------------------------------------------------------------------------------------------------------------------------------------------------------------------------------\n",
            "Epoch: 3 / 10 | Reconst_loss: 7151.417 | Kldiv loss: 2382.214 | Classifcation loss: 2.460 | Constrast loss: 173.98 | Total loss: 98109.990 | Train acc: 25.410 % ||| Val Loss: 88115.786 | Val acc: 27.635 %\n",
            "-------------------------------------------------------------------------------------------------------------------------------------------------------------------------------------\n"
          ]
        },
        {
          "metadata": {
            "tags": null
          },
          "name": "stderr",
          "output_type": "stream",
          "text": [
            "\u001b[32m[I 2023-03-17 20:34:26,680]\u001b[0m Trial 2 pruned. \u001b[0m\n"
          ]
        },
        {
          "metadata": {
            "tags": null
          },
          "name": "stdout",
          "output_type": "stream",
          "text": [
            "Epoch: 4 / 10 | Reconst_loss: 6388.633 | Kldiv loss: 1958.827 | Classifcation loss: 2.420 | Constrast loss: 201.83 | Total loss: 89175.721 | Train acc: 28.298 % ||| Val Loss: 81536.252 | Val acc: 30.435 %\n",
            "-------------------------------------------------------------------------------------------------------------------------------------------------------------------------------------\n",
            "Epoch: 1 / 10 | Reconst_loss: 19813.043 | Kldiv loss: 18706.111 | Classifcation loss: 2.454 | Constrast loss: 4907.96 | Total loss: 644884.635 | Train acc: 15.250 % ||| Val Loss: 132601.100 | Val acc: 17.771 %\n",
            "-------------------------------------------------------------------------------------------------------------------------------------------------------------------------------------\n",
            "Epoch: 2 / 10 | Reconst_loss: 21151.066 | Kldiv loss: 9021.927 | Classifcation loss: 2.438 | Constrast loss: 3103.69 | Total loss: 108664.077 | Train acc: 21.996 % ||| Val Loss: 91965.938 | Val acc: 23.318 %\n",
            "-------------------------------------------------------------------------------------------------------------------------------------------------------------------------------------\n",
            "Epoch: 3 / 10 | Reconst_loss: 16558.648 | Kldiv loss: 7036.052 | Classifcation loss: 2.387 | Constrast loss: 2130.93 | Total loss: 84790.623 | Train acc: 26.115 % ||| Val Loss: 77416.775 | Val acc: 35.501 %\n",
            "-------------------------------------------------------------------------------------------------------------------------------------------------------------------------------------\n",
            "Epoch: 4 / 10 | Reconst_loss: 16178.237 | Kldiv loss: 6455.671 | Classifcation loss: 2.327 | Constrast loss: 1755.41 | Total loss: 73641.468 | Train acc: 40.387 % ||| Val Loss: 68965.862 | Val acc: 45.562 %\n",
            "-------------------------------------------------------------------------------------------------------------------------------------------------------------------------------------\n",
            "Epoch: 5 / 10 | Reconst_loss: 15397.416 | Kldiv loss: 5683.889 | Classifcation loss: 2.259 | Constrast loss: 1171.49 | Total loss: 66801.288 | Train acc: 49.943 % ||| Val Loss: 63583.411 | Val acc: 53.401 %\n",
            "-------------------------------------------------------------------------------------------------------------------------------------------------------------------------------------\n",
            "Epoch: 6 / 10 | Reconst_loss: 16401.695 | Kldiv loss: 5487.630 | Classifcation loss: 2.205 | Constrast loss: 1146.91 | Total loss: 62603.242 | Train acc: 54.663 % ||| Val Loss: 60724.524 | Val acc: 55.183 %\n",
            "-------------------------------------------------------------------------------------------------------------------------------------------------------------------------------------\n",
            "Epoch: 7 / 10 | Reconst_loss: 16340.242 | Kldiv loss: 5299.334 | Classifcation loss: 2.147 | Constrast loss: 1187.79 | Total loss: 59887.447 | Train acc: 57.343 % ||| Val Loss: 58168.512 | Val acc: 59.184 %\n",
            "-------------------------------------------------------------------------------------------------------------------------------------------------------------------------------------\n",
            "Epoch: 8 / 10 | Reconst_loss: 14678.384 | Kldiv loss: 4849.392 | Classifcation loss: 2.122 | Constrast loss: 775.10 | Total loss: 57624.997 | Train acc: 61.188 % ||| Val Loss: 55833.697 | Val acc: 63.654 %\n",
            "-------------------------------------------------------------------------------------------------------------------------------------------------------------------------------------\n",
            "Epoch: 9 / 10 | Reconst_loss: 14948.783 | Kldiv loss: 5260.325 | Classifcation loss: 2.087 | Constrast loss: 710.47 | Total loss: 55530.697 | Train acc: 65.326 % ||| Val Loss: 54114.666 | Val acc: 66.810 %\n",
            "-------------------------------------------------------------------------------------------------------------------------------------------------------------------------------------\n"
          ]
        },
        {
          "metadata": {
            "tags": null
          },
          "name": "stderr",
          "output_type": "stream",
          "text": [
            "\u001b[32m[I 2023-03-17 20:34:52,676]\u001b[0m Trial 3 finished with value: 0.678854983701249 and parameters: {'optuna_batch_size': 796, 'optimizer': 'Adam', 'lr': 0.002722277025487078, 'hidden_dim': 159, 'alpha': 2, 'beta': 0, 'gamma': 1, 'delta': 7}. Best is trial 3 with value: 0.678854983701249.\u001b[0m\n"
          ]
        },
        {
          "metadata": {
            "tags": null
          },
          "name": "stdout",
          "output_type": "stream",
          "text": [
            "Epoch: 10 / 10 | Reconst_loss: 15031.694 | Kldiv loss: 4794.913 | Classifcation loss: 2.060 | Constrast loss: 643.77 | Total loss: 54346.362 | Train acc: 67.885 % ||| Val Loss: 53154.287 | Val acc: 68.996 %\n",
            "-------------------------------------------------------------------------------------------------------------------------------------------------------------------------------------\n",
            "Epoch: 1 / 10 | Reconst_loss: 5161.558 | Kldiv loss: 1007.842 | Classifcation loss: 2.474 | Constrast loss: 232.79 | Total loss: 24612.604 | Train acc: 19.288 % ||| Val Loss: 17952.406 | Val acc: 25.104 %\n",
            "-------------------------------------------------------------------------------------------------------------------------------------------------------------------------------------\n",
            "Epoch: 2 / 10 | Reconst_loss: 4071.103 | Kldiv loss: 971.590 | Classifcation loss: 2.452 | Constrast loss: 145.43 | Total loss: 17103.144 | Train acc: 28.351 % ||| Val Loss: 15271.483 | Val acc: 29.521 %\n",
            "-------------------------------------------------------------------------------------------------------------------------------------------------------------------------------------\n",
            "Epoch: 3 / 10 | Reconst_loss: 4124.672 | Kldiv loss: 916.354 | Classifcation loss: 2.363 | Constrast loss: 90.76 | Total loss: 15293.504 | Train acc: 30.629 % ||| Val Loss: 14186.518 | Val acc: 32.836 %\n",
            "-------------------------------------------------------------------------------------------------------------------------------------------------------------------------------------\n",
            "Epoch: 4 / 10 | Reconst_loss: 4230.841 | Kldiv loss: 953.193 | Classifcation loss: 2.374 | Constrast loss: 159.59 | Total loss: 14493.578 | Train acc: 33.085 % ||| Val Loss: 13615.419 | Val acc: 32.962 %\n",
            "-------------------------------------------------------------------------------------------------------------------------------------------------------------------------------------\n",
            "Epoch: 5 / 10 | Reconst_loss: 3792.319 | Kldiv loss: 1168.647 | Classifcation loss: 2.269 | Constrast loss: 52.34 | Total loss: 13994.633 | Train acc: 33.425 % ||| Val Loss: 13431.140 | Val acc: 33.435 %\n",
            "-------------------------------------------------------------------------------------------------------------------------------------------------------------------------------------\n",
            "Epoch: 6 / 10 | Reconst_loss: 3583.596 | Kldiv loss: 1045.648 | Classifcation loss: 2.241 | Constrast loss: 63.91 | Total loss: 13712.838 | Train acc: 37.875 % ||| Val Loss: 13059.366 | Val acc: 41.395 %\n",
            "-------------------------------------------------------------------------------------------------------------------------------------------------------------------------------------\n",
            "Epoch: 7 / 10 | Reconst_loss: 3919.907 | Kldiv loss: 916.578 | Classifcation loss: 2.250 | Constrast loss: 63.40 | Total loss: 13367.755 | Train acc: 43.765 % ||| Val Loss: 12672.580 | Val acc: 46.675 %\n",
            "-------------------------------------------------------------------------------------------------------------------------------------------------------------------------------------\n",
            "Epoch: 8 / 10 | Reconst_loss: 3268.036 | Kldiv loss: 944.450 | Classifcation loss: 2.203 | Constrast loss: 133.98 | Total loss: 13193.034 | Train acc: 49.209 % ||| Val Loss: 12505.865 | Val acc: 53.215 %\n",
            "-------------------------------------------------------------------------------------------------------------------------------------------------------------------------------------\n",
            "Epoch: 9 / 10 | Reconst_loss: 3242.679 | Kldiv loss: 919.936 | Classifcation loss: 2.178 | Constrast loss: 66.77 | Total loss: 12954.844 | Train acc: 55.019 % ||| Val Loss: 12335.844 | Val acc: 58.756 %\n",
            "-------------------------------------------------------------------------------------------------------------------------------------------------------------------------------------\n"
          ]
        },
        {
          "metadata": {
            "tags": null
          },
          "name": "stderr",
          "output_type": "stream",
          "text": [
            "\u001b[32m[I 2023-03-17 20:35:52,188]\u001b[0m Trial 4 finished with value: 0.6067314502893681 and parameters: {'optuna_batch_size': 227, 'optimizer': 'RMSprop', 'lr': 0.0007578141392989757, 'hidden_dim': 294, 'alpha': 7, 'beta': 3, 'gamma': 0, 'delta': 5}. Best is trial 3 with value: 0.678854983701249.\u001b[0m\n"
          ]
        },
        {
          "metadata": {
            "tags": null
          },
          "name": "stdout",
          "output_type": "stream",
          "text": [
            "Epoch: 10 / 10 | Reconst_loss: 3302.541 | Kldiv loss: 967.478 | Classifcation loss: 2.145 | Constrast loss: 44.15 | Total loss: 12795.084 | Train acc: 60.673 % ||| Val Loss: 12192.951 | Val acc: 61.976 %\n",
            "-------------------------------------------------------------------------------------------------------------------------------------------------------------------------------------\n",
            "Epoch: 1 / 10 | Reconst_loss: 3357.783 | Kldiv loss: 984.244 | Classifcation loss: 2.396 | Constrast loss: 168.08 | Total loss: 9663093886.314 | Train acc: 16.085 % ||| Val Loss: 38230.920 | Val acc: 31.519 %\n",
            "-------------------------------------------------------------------------------------------------------------------------------------------------------------------------------------\n",
            "Epoch: 2 / 10 | Reconst_loss: 3279.798 | Kldiv loss: 866.755 | Classifcation loss: 2.227 | Constrast loss: 53.23 | Total loss: 34753.718 | Train acc: 44.057 % ||| Val Loss: 30909.808 | Val acc: 51.166 %\n",
            "-------------------------------------------------------------------------------------------------------------------------------------------------------------------------------------\n",
            "Epoch: 3 / 10 | Reconst_loss: 3053.321 | Kldiv loss: 840.324 | Classifcation loss: 2.079 | Constrast loss: 53.74 | Total loss: 29447.064 | Train acc: 63.156 % ||| Val Loss: 28254.833 | Val acc: 66.447 %\n",
            "-------------------------------------------------------------------------------------------------------------------------------------------------------------------------------------\n",
            "Epoch: 4 / 10 | Reconst_loss: 2881.765 | Kldiv loss: 906.382 | Classifcation loss: 1.999 | Constrast loss: 42.01 | Total loss: 26697.739 | Train acc: 72.404 % ||| Val Loss: 26221.059 | Val acc: 72.819 %\n",
            "-------------------------------------------------------------------------------------------------------------------------------------------------------------------------------------\n",
            "Epoch: 5 / 10 | Reconst_loss: 3047.902 | Kldiv loss: 839.622 | Classifcation loss: 1.968 | Constrast loss: 25.29 | Total loss: 25633.204 | Train acc: 75.264 % ||| Val Loss: 24235.797 | Val acc: 77.117 %\n",
            "-------------------------------------------------------------------------------------------------------------------------------------------------------------------------------------\n",
            "Epoch: 6 / 10 | Reconst_loss: 2417.303 | Kldiv loss: 769.872 | Classifcation loss: 1.900 | Constrast loss: 27.04 | Total loss: 25002.913 | Train acc: 77.402 % ||| Val Loss: 25457.386 | Val acc: 75.547 %\n",
            "-------------------------------------------------------------------------------------------------------------------------------------------------------------------------------------\n",
            "Epoch: 7 / 10 | Reconst_loss: 3049.854 | Kldiv loss: 757.268 | Classifcation loss: 1.926 | Constrast loss: 16.05 | Total loss: 24473.687 | Train acc: 78.633 % ||| Val Loss: 27904.196 | Val acc: 69.572 %\n",
            "-------------------------------------------------------------------------------------------------------------------------------------------------------------------------------------\n",
            "Epoch: 8 / 10 | Reconst_loss: 3126.033 | Kldiv loss: 833.573 | Classifcation loss: 1.875 | Constrast loss: 14.00 | Total loss: 23824.497 | Train acc: 80.022 % ||| Val Loss: 23340.675 | Val acc: 81.042 %\n",
            "-------------------------------------------------------------------------------------------------------------------------------------------------------------------------------------\n",
            "Epoch: 9 / 10 | Reconst_loss: 2717.347 | Kldiv loss: 779.986 | Classifcation loss: 1.902 | Constrast loss: 18.32 | Total loss: 23281.655 | Train acc: 81.416 % ||| Val Loss: 23655.982 | Val acc: 80.329 %\n",
            "-------------------------------------------------------------------------------------------------------------------------------------------------------------------------------------\n"
          ]
        },
        {
          "metadata": {
            "tags": null
          },
          "name": "stderr",
          "output_type": "stream",
          "text": [
            "\u001b[32m[I 2023-03-17 20:39:09,837]\u001b[0m Trial 5 finished with value: 0.8164077422695987 and parameters: {'optuna_batch_size': 383, 'optimizer': 'Adam', 'lr': 0.00818175550348311, 'hidden_dim': 696, 'alpha': 8, 'beta': 1, 'gamma': 9, 'delta': 7}. Best is trial 5 with value: 0.8164077422695987.\u001b[0m\n"
          ]
        },
        {
          "metadata": {
            "tags": null
          },
          "name": "stdout",
          "output_type": "stream",
          "text": [
            "Epoch: 10 / 10 | Reconst_loss: 2917.777 | Kldiv loss: 794.277 | Classifcation loss: 1.817 | Constrast loss: 8.68 | Total loss: 23157.441 | Train acc: 81.641 % ||| Val Loss: 22915.417 | Val acc: 81.768 %\n",
            "-------------------------------------------------------------------------------------------------------------------------------------------------------------------------------------\n",
            "Epoch: 1 / 10 | Reconst_loss: nan | Kldiv loss: nan | Classifcation loss: nan | Constrast loss: nan | Total loss: nan | Train acc: 0.077 % ||| Val Loss: nan | Val acc: 0.000 %\n",
            "-------------------------------------------------------------------------------------------------------------------------------------------------------------------------------------\n",
            "Epoch: 2 / 10 | Reconst_loss: nan | Kldiv loss: nan | Classifcation loss: nan | Constrast loss: nan | Total loss: nan | Train acc: 0.000 % ||| Val Loss: nan | Val acc: 0.000 %\n",
            "-------------------------------------------------------------------------------------------------------------------------------------------------------------------------------------\n",
            "Epoch: 3 / 10 | Reconst_loss: nan | Kldiv loss: nan | Classifcation loss: nan | Constrast loss: nan | Total loss: nan | Train acc: 0.000 % ||| Val Loss: nan | Val acc: 0.000 %\n",
            "-------------------------------------------------------------------------------------------------------------------------------------------------------------------------------------\n"
          ]
        },
        {
          "metadata": {
            "tags": null
          },
          "name": "stderr",
          "output_type": "stream",
          "text": [
            "\u001b[32m[I 2023-03-17 20:41:07,431]\u001b[0m Trial 6 pruned. \u001b[0m\n"
          ]
        },
        {
          "metadata": {
            "tags": null
          },
          "name": "stdout",
          "output_type": "stream",
          "text": [
            "Epoch: 4 / 10 | Reconst_loss: nan | Kldiv loss: nan | Classifcation loss: nan | Constrast loss: nan | Total loss: nan | Train acc: 0.000 % ||| Val Loss: nan | Val acc: 0.000 %\n",
            "-------------------------------------------------------------------------------------------------------------------------------------------------------------------------------------\n",
            "Epoch: 1 / 10 | Reconst_loss: nan | Kldiv loss: nan | Classifcation loss: nan | Constrast loss: nan | Total loss: nan | Train acc: 0.079 % ||| Val Loss: nan | Val acc: 0.000 %\n",
            "-------------------------------------------------------------------------------------------------------------------------------------------------------------------------------------\n",
            "Epoch: 2 / 10 | Reconst_loss: nan | Kldiv loss: nan | Classifcation loss: nan | Constrast loss: nan | Total loss: nan | Train acc: 0.000 % ||| Val Loss: nan | Val acc: 0.000 %\n",
            "-------------------------------------------------------------------------------------------------------------------------------------------------------------------------------------\n",
            "Epoch: 3 / 10 | Reconst_loss: nan | Kldiv loss: nan | Classifcation loss: nan | Constrast loss: nan | Total loss: nan | Train acc: 0.000 % ||| Val Loss: nan | Val acc: 0.000 %\n",
            "-------------------------------------------------------------------------------------------------------------------------------------------------------------------------------------\n"
          ]
        },
        {
          "metadata": {
            "tags": null
          },
          "name": "stderr",
          "output_type": "stream",
          "text": [
            "\u001b[32m[I 2023-03-17 20:41:39,323]\u001b[0m Trial 7 pruned. \u001b[0m\n"
          ]
        },
        {
          "metadata": {
            "tags": null
          },
          "name": "stdout",
          "output_type": "stream",
          "text": [
            "Epoch: 4 / 10 | Reconst_loss: nan | Kldiv loss: nan | Classifcation loss: nan | Constrast loss: nan | Total loss: nan | Train acc: 0.000 % ||| Val Loss: nan | Val acc: 0.000 %\n",
            "-------------------------------------------------------------------------------------------------------------------------------------------------------------------------------------\n",
            "Epoch: 1 / 10 | Reconst_loss: 8281.028 | Kldiv loss: 2659.055 | Classifcation loss: 2.392 | Constrast loss: 380.56 | Total loss: 54828.143 | Train acc: 18.304 % ||| Val Loss: 29604.016 | Val acc: 36.154 %\n",
            "-------------------------------------------------------------------------------------------------------------------------------------------------------------------------------------\n",
            "Epoch: 2 / 10 | Reconst_loss: 7316.409 | Kldiv loss: 2478.399 | Classifcation loss: 2.198 | Constrast loss: 282.98 | Total loss: 28086.705 | Train acc: 48.256 % ||| Val Loss: 25594.866 | Val acc: 59.502 %\n",
            "-------------------------------------------------------------------------------------------------------------------------------------------------------------------------------------\n",
            "Epoch: 3 / 10 | Reconst_loss: 7254.650 | Kldiv loss: 2158.292 | Classifcation loss: 2.092 | Constrast loss: 227.48 | Total loss: 26341.279 | Train acc: 58.941 % ||| Val Loss: 24475.554 | Val acc: 63.604 %\n",
            "-------------------------------------------------------------------------------------------------------------------------------------------------------------------------------------\n",
            "Epoch: 4 / 10 | Reconst_loss: 7692.118 | Kldiv loss: 2416.601 | Classifcation loss: 2.038 | Constrast loss: 121.94 | Total loss: 24149.483 | Train acc: 66.180 % ||| Val Loss: 23658.441 | Val acc: 67.443 %\n",
            "-------------------------------------------------------------------------------------------------------------------------------------------------------------------------------------\n",
            "Epoch: 5 / 10 | Reconst_loss: 7083.537 | Kldiv loss: 2031.291 | Classifcation loss: 2.077 | Constrast loss: 255.35 | Total loss: 23770.914 | Train acc: 66.911 % ||| Val Loss: 23165.929 | Val acc: 67.412 %\n",
            "-------------------------------------------------------------------------------------------------------------------------------------------------------------------------------------\n",
            "Epoch: 6 / 10 | Reconst_loss: 7174.134 | Kldiv loss: 2479.725 | Classifcation loss: 2.058 | Constrast loss: 113.49 | Total loss: 23388.278 | Train acc: 68.497 % ||| Val Loss: 22789.675 | Val acc: 68.165 %\n",
            "-------------------------------------------------------------------------------------------------------------------------------------------------------------------------------------\n",
            "Epoch: 7 / 10 | Reconst_loss: 7631.241 | Kldiv loss: 2255.196 | Classifcation loss: 2.037 | Constrast loss: 229.45 | Total loss: 23880.006 | Train acc: 68.078 % ||| Val Loss: 22834.023 | Val acc: 68.899 %\n",
            "-------------------------------------------------------------------------------------------------------------------------------------------------------------------------------------\n",
            "Epoch: 8 / 10 | Reconst_loss: 5923.135 | Kldiv loss: 1944.477 | Classifcation loss: 2.051 | Constrast loss: 191.28 | Total loss: 22625.790 | Train acc: 69.843 % ||| Val Loss: 21385.739 | Val acc: 70.112 %\n",
            "-------------------------------------------------------------------------------------------------------------------------------------------------------------------------------------\n",
            "Epoch: 9 / 10 | Reconst_loss: 6808.035 | Kldiv loss: 2138.998 | Classifcation loss: 1.968 | Constrast loss: 221.25 | Total loss: 23151.484 | Train acc: 69.428 % ||| Val Loss: 23107.831 | Val acc: 68.793 %\n",
            "-------------------------------------------------------------------------------------------------------------------------------------------------------------------------------------\n"
          ]
        },
        {
          "metadata": {
            "tags": null
          },
          "name": "stderr",
          "output_type": "stream",
          "text": [
            "\u001b[32m[I 2023-03-17 20:43:46,309]\u001b[0m Trial 8 finished with value: 0.6915694063825122 and parameters: {'optuna_batch_size': 394, 'optimizer': 'Adam', 'lr': 0.009529509832233206, 'hidden_dim': 529, 'alpha': 1, 'beta': 0, 'gamma': 3, 'delta': 2}. Best is trial 5 with value: 0.8164077422695987.\u001b[0m\n"
          ]
        },
        {
          "metadata": {
            "tags": null
          },
          "name": "stdout",
          "output_type": "stream",
          "text": [
            "Epoch: 10 / 10 | Reconst_loss: 7003.203 | Kldiv loss: 2047.427 | Classifcation loss: 1.964 | Constrast loss: 94.39 | Total loss: 23631.183 | Train acc: 69.157 % ||| Val Loss: 21658.637 | Val acc: 70.075 %\n",
            "-------------------------------------------------------------------------------------------------------------------------------------------------------------------------------------\n",
            "Epoch: 1 / 10 | Reconst_loss: 1042.160 | Kldiv loss: 332.237 | Classifcation loss: 2.530 | Constrast loss: 12.04 | Total loss: 296463418116020608.000 | Train acc: 16.204 % ||| Val Loss: 28941.349 | Val acc: 19.618 %\n",
            "-------------------------------------------------------------------------------------------------------------------------------------------------------------------------------------\n",
            "Epoch: 2 / 10 | Reconst_loss: 1421.731 | Kldiv loss: 275.930 | Classifcation loss: 2.346 | Constrast loss: 15.82 | Total loss: 26541.709 | Train acc: 24.689 % ||| Val Loss: 24902.804 | Val acc: 27.880 %\n",
            "-------------------------------------------------------------------------------------------------------------------------------------------------------------------------------------\n",
            "Epoch: 3 / 10 | Reconst_loss: 978.119 | Kldiv loss: 273.005 | Classifcation loss: 2.333 | Constrast loss: 10.94 | Total loss: 23269.389 | Train acc: 35.566 % ||| Val Loss: 21552.111 | Val acc: 39.958 %\n",
            "-------------------------------------------------------------------------------------------------------------------------------------------------------------------------------------\n",
            "Epoch: 4 / 10 | Reconst_loss: 1163.217 | Kldiv loss: 304.443 | Classifcation loss: 2.313 | Constrast loss: 10.52 | Total loss: 21234.215 | Train acc: 44.584 % ||| Val Loss: 19773.668 | Val acc: 51.621 %\n",
            "-------------------------------------------------------------------------------------------------------------------------------------------------------------------------------------\n",
            "Epoch: 5 / 10 | Reconst_loss: 1283.072 | Kldiv loss: 300.373 | Classifcation loss: 2.208 | Constrast loss: 13.13 | Total loss: 20178.300 | Train acc: 52.052 % ||| Val Loss: 18845.088 | Val acc: 56.157 %\n",
            "-------------------------------------------------------------------------------------------------------------------------------------------------------------------------------------\n",
            "Epoch: 6 / 10 | Reconst_loss: 950.794 | Kldiv loss: 276.920 | Classifcation loss: 2.147 | Constrast loss: 8.96 | Total loss: 19406.700 | Train acc: 57.549 % ||| Val Loss: 17996.746 | Val acc: 60.975 %\n",
            "-------------------------------------------------------------------------------------------------------------------------------------------------------------------------------------\n",
            "Epoch: 7 / 10 | Reconst_loss: 660.479 | Kldiv loss: 211.660 | Classifcation loss: 2.129 | Constrast loss: 10.21 | Total loss: 18830.390 | Train acc: 60.260 % ||| Val Loss: 17645.383 | Val acc: 62.286 %\n",
            "-------------------------------------------------------------------------------------------------------------------------------------------------------------------------------------\n",
            "Epoch: 8 / 10 | Reconst_loss: 645.122 | Kldiv loss: 271.072 | Classifcation loss: 2.163 | Constrast loss: 11.39 | Total loss: 18445.950 | Train acc: 61.751 % ||| Val Loss: 17900.368 | Val acc: 63.743 %\n",
            "-------------------------------------------------------------------------------------------------------------------------------------------------------------------------------------\n",
            "Epoch: 9 / 10 | Reconst_loss: 835.590 | Kldiv loss: 225.767 | Classifcation loss: 2.070 | Constrast loss: 0.28 | Total loss: 17968.769 | Train acc: 66.252 % ||| Val Loss: 16932.117 | Val acc: 69.610 %\n",
            "-------------------------------------------------------------------------------------------------------------------------------------------------------------------------------------\n"
          ]
        },
        {
          "metadata": {
            "tags": null
          },
          "name": "stderr",
          "output_type": "stream",
          "text": [
            "\u001b[32m[I 2023-03-17 20:45:40,333]\u001b[0m Trial 9 finished with value: 0.6877269977451463 and parameters: {'optuna_batch_size': 275, 'optimizer': 'RMSprop', 'lr': 0.0014917195336417526, 'hidden_dim': 479, 'alpha': 4, 'beta': 4, 'gamma': 9, 'delta': 9}. Best is trial 5 with value: 0.8164077422695987.\u001b[0m\n"
          ]
        },
        {
          "metadata": {
            "tags": null
          },
          "name": "stdout",
          "output_type": "stream",
          "text": [
            "Epoch: 10 / 10 | Reconst_loss: 1079.972 | Kldiv loss: 224.441 | Classifcation loss: 2.159 | Constrast loss: 4.57 | Total loss: 17756.302 | Train acc: 68.773 % ||| Val Loss: 22813.068 | Val acc: 48.206 %\n",
            "-------------------------------------------------------------------------------------------------------------------------------------------------------------------------------------\n",
            "Epoch: 1 / 10 | Reconst_loss: 967.345 | Kldiv loss: 238.739 | Classifcation loss: 2.129 | Constrast loss: 19.94 | Total loss: 9882.876 | Train acc: 42.233 % ||| Val Loss: 7108.229 | Val acc: 64.328 %\n",
            "-------------------------------------------------------------------------------------------------------------------------------------------------------------------------------------\n",
            "Epoch: 2 / 10 | Reconst_loss: 1591.105 | Kldiv loss: 293.554 | Classifcation loss: 1.988 | Constrast loss: 15.93 | Total loss: 6990.317 | Train acc: 66.847 % ||| Val Loss: 7406.311 | Val acc: 62.449 %\n",
            "-------------------------------------------------------------------------------------------------------------------------------------------------------------------------------------\n",
            "Epoch: 3 / 10 | Reconst_loss: 989.121 | Kldiv loss: 328.966 | Classifcation loss: 1.987 | Constrast loss: 8.82 | Total loss: 6809.352 | Train acc: 68.678 % ||| Val Loss: 7113.037 | Val acc: 69.371 %\n",
            "-------------------------------------------------------------------------------------------------------------------------------------------------------------------------------------\n",
            "Epoch: 4 / 10 | Reconst_loss: 1023.239 | Kldiv loss: 312.197 | Classifcation loss: 1.939 | Constrast loss: 3.72 | Total loss: 6562.517 | Train acc: 70.154 % ||| Val Loss: 6613.946 | Val acc: 70.398 %\n",
            "-------------------------------------------------------------------------------------------------------------------------------------------------------------------------------------\n",
            "Epoch: 5 / 10 | Reconst_loss: 1227.464 | Kldiv loss: 288.218 | Classifcation loss: 2.007 | Constrast loss: 6.15 | Total loss: 6400.200 | Train acc: 71.464 % ||| Val Loss: 6308.039 | Val acc: 71.631 %\n",
            "-------------------------------------------------------------------------------------------------------------------------------------------------------------------------------------\n",
            "Epoch: 6 / 10 | Reconst_loss: 1143.477 | Kldiv loss: 274.736 | Classifcation loss: 1.999 | Constrast loss: 7.17 | Total loss: 6663.555 | Train acc: 71.241 % ||| Val Loss: 6530.696 | Val acc: 71.071 %\n",
            "-------------------------------------------------------------------------------------------------------------------------------------------------------------------------------------\n",
            "Epoch: 7 / 10 | Reconst_loss: 1011.485 | Kldiv loss: 278.639 | Classifcation loss: 1.992 | Constrast loss: 10.10 | Total loss: 6278.050 | Train acc: 72.139 % ||| Val Loss: 6299.592 | Val acc: 71.335 %\n",
            "-------------------------------------------------------------------------------------------------------------------------------------------------------------------------------------\n",
            "Epoch: 8 / 10 | Reconst_loss: 782.232 | Kldiv loss: 294.399 | Classifcation loss: 1.824 | Constrast loss: 3.04 | Total loss: 6420.807 | Train acc: 71.817 % ||| Val Loss: 6096.512 | Val acc: 72.080 %\n",
            "-------------------------------------------------------------------------------------------------------------------------------------------------------------------------------------\n",
            "Epoch: 9 / 10 | Reconst_loss: 900.105 | Kldiv loss: 262.508 | Classifcation loss: 1.991 | Constrast loss: 3.27 | Total loss: 6178.265 | Train acc: 72.229 % ||| Val Loss: 5998.895 | Val acc: 71.857 %\n",
            "-------------------------------------------------------------------------------------------------------------------------------------------------------------------------------------\n"
          ]
        },
        {
          "metadata": {
            "tags": null
          },
          "name": "stderr",
          "output_type": "stream",
          "text": [
            "\u001b[32m[I 2023-03-17 20:49:55,069]\u001b[0m Trial 10 finished with value: 0.7145571443723105 and parameters: {'optuna_batch_size': 116, 'optimizer': 'Adam', 'lr': 0.005503001381885199, 'hidden_dim': 694, 'alpha': 10, 'beta': 7, 'gamma': 10, 'delta': 8}. Best is trial 5 with value: 0.8164077422695987.\u001b[0m\n"
          ]
        },
        {
          "metadata": {
            "tags": null
          },
          "name": "stdout",
          "output_type": "stream",
          "text": [
            "Epoch: 10 / 10 | Reconst_loss: 1262.658 | Kldiv loss: 322.804 | Classifcation loss: 2.077 | Constrast loss: 16.99 | Total loss: 6215.072 | Train acc: 71.456 % ||| Val Loss: 6570.393 | Val acc: 70.116 %\n",
            "-------------------------------------------------------------------------------------------------------------------------------------------------------------------------------------\n",
            "Epoch: 1 / 10 | Reconst_loss: 479.465 | Kldiv loss: 104.633 | Classifcation loss: 1.968 | Constrast loss: 0.00 | Total loss: 8152.083 | Train acc: 50.525 % ||| Val Loss: 7166.159 | Val acc: 67.494 %\n",
            "-------------------------------------------------------------------------------------------------------------------------------------------------------------------------------------\n",
            "Epoch: 2 / 10 | Reconst_loss: 377.524 | Kldiv loss: 66.849 | Classifcation loss: 1.944 | Constrast loss: 5.66 | Total loss: 6286.269 | Train acc: 79.945 % ||| Val Loss: 6129.539 | Val acc: 84.941 %\n",
            "-------------------------------------------------------------------------------------------------------------------------------------------------------------------------------------\n",
            "Epoch: 3 / 10 | Reconst_loss: 486.280 | Kldiv loss: 101.206 | Classifcation loss: 1.904 | Constrast loss: 3.07 | Total loss: 5982.646 | Train acc: 87.626 % ||| Val Loss: 5772.522 | Val acc: 89.924 %\n",
            "-------------------------------------------------------------------------------------------------------------------------------------------------------------------------------------\n",
            "Epoch: 4 / 10 | Reconst_loss: 285.630 | Kldiv loss: 112.565 | Classifcation loss: 1.931 | Constrast loss: 1.17 | Total loss: 5833.476 | Train acc: 90.334 % ||| Val Loss: 5766.458 | Val acc: 89.497 %\n",
            "-------------------------------------------------------------------------------------------------------------------------------------------------------------------------------------\n",
            "Epoch: 5 / 10 | Reconst_loss: 351.337 | Kldiv loss: 116.191 | Classifcation loss: 1.847 | Constrast loss: 5.78 | Total loss: 5852.921 | Train acc: 90.235 % ||| Val Loss: 5554.982 | Val acc: 92.183 %\n",
            "-------------------------------------------------------------------------------------------------------------------------------------------------------------------------------------\n",
            "Epoch: 6 / 10 | Reconst_loss: 261.310 | Kldiv loss: 114.697 | Classifcation loss: 1.838 | Constrast loss: 0.00 | Total loss: 5716.398 | Train acc: 91.694 % ||| Val Loss: 5523.192 | Val acc: 91.401 %\n",
            "-------------------------------------------------------------------------------------------------------------------------------------------------------------------------------------\n",
            "Epoch: 7 / 10 | Reconst_loss: 180.472 | Kldiv loss: 85.359 | Classifcation loss: 1.800 | Constrast loss: 0.24 | Total loss: 5582.636 | Train acc: 91.782 % ||| Val Loss: 5489.173 | Val acc: 91.533 %\n",
            "-------------------------------------------------------------------------------------------------------------------------------------------------------------------------------------\n",
            "Epoch: 8 / 10 | Reconst_loss: 355.725 | Kldiv loss: 91.776 | Classifcation loss: 1.774 | Constrast loss: 0.75 | Total loss: 5581.245 | Train acc: 92.565 % ||| Val Loss: 5641.737 | Val acc: 90.321 %\n",
            "-------------------------------------------------------------------------------------------------------------------------------------------------------------------------------------\n",
            "Epoch: 9 / 10 | Reconst_loss: 343.028 | Kldiv loss: 108.756 | Classifcation loss: 1.694 | Constrast loss: 0.18 | Total loss: 5495.128 | Train acc: 93.440 % ||| Val Loss: 5490.887 | Val acc: 91.709 %\n",
            "-------------------------------------------------------------------------------------------------------------------------------------------------------------------------------------\n"
          ]
        },
        {
          "metadata": {
            "tags": null
          },
          "name": "stderr",
          "output_type": "stream",
          "text": [
            "\u001b[32m[I 2023-03-17 20:54:20,756]\u001b[0m Trial 11 finished with value: 0.928888888888889 and parameters: {'optuna_batch_size': 106, 'optimizer': 'Adam', 'lr': 0.005897994275222237, 'hidden_dim': 705, 'alpha': 10, 'beta': 6, 'gamma': 10, 'delta': 8}. Best is trial 11 with value: 0.928888888888889.\u001b[0m\n"
          ]
        },
        {
          "metadata": {
            "tags": null
          },
          "name": "stdout",
          "output_type": "stream",
          "text": [
            "Epoch: 10 / 10 | Reconst_loss: 532.419 | Kldiv loss: 113.289 | Classifcation loss: 1.694 | Constrast loss: 0.00 | Total loss: 5586.664 | Train acc: 92.889 % ||| Val Loss: 5325.779 | Val acc: 93.212 %\n",
            "-------------------------------------------------------------------------------------------------------------------------------------------------------------------------------------\n",
            "Epoch: 1 / 10 | Reconst_loss: 16759.627 | Kldiv loss: 10821.368 | Classifcation loss: 2.483 | Constrast loss: 3855.91 | Total loss: 247543.656 | Train acc: 13.362 % ||| Val Loss: 75826.596 | Val acc: 17.615 %\n",
            "-------------------------------------------------------------------------------------------------------------------------------------------------------------------------------------\n",
            "Epoch: 2 / 10 | Reconst_loss: 16021.497 | Kldiv loss: 6074.646 | Classifcation loss: 2.352 | Constrast loss: 1392.49 | Total loss: 60557.781 | Train acc: 29.543 % ||| Val Loss: 49836.736 | Val acc: 36.401 %\n",
            "-------------------------------------------------------------------------------------------------------------------------------------------------------------------------------------\n",
            "Epoch: 3 / 10 | Reconst_loss: 14209.161 | Kldiv loss: 4648.331 | Classifcation loss: 2.280 | Constrast loss: 944.54 | Total loss: 45591.463 | Train acc: 43.875 % ||| Val Loss: 45207.025 | Val acc: 41.124 %\n",
            "-------------------------------------------------------------------------------------------------------------------------------------------------------------------------------------\n",
            "Epoch: 4 / 10 | Reconst_loss: 13476.069 | Kldiv loss: 4538.500 | Classifcation loss: 2.196 | Constrast loss: 795.15 | Total loss: 40965.819 | Train acc: 51.238 % ||| Val Loss: 37782.200 | Val acc: 54.387 %\n",
            "-------------------------------------------------------------------------------------------------------------------------------------------------------------------------------------\n",
            "Epoch: 5 / 10 | Reconst_loss: 13050.543 | Kldiv loss: 4525.334 | Classifcation loss: 2.139 | Constrast loss: 462.39 | Total loss: 37361.579 | Train acc: 58.501 % ||| Val Loss: 36179.007 | Val acc: 61.029 %\n",
            "-------------------------------------------------------------------------------------------------------------------------------------------------------------------------------------\n",
            "Epoch: 6 / 10 | Reconst_loss: 12290.950 | Kldiv loss: 4168.926 | Classifcation loss: 2.106 | Constrast loss: 531.21 | Total loss: 36548.763 | Train acc: 60.872 % ||| Val Loss: 34737.708 | Val acc: 61.076 %\n",
            "-------------------------------------------------------------------------------------------------------------------------------------------------------------------------------------\n",
            "Epoch: 7 / 10 | Reconst_loss: 13086.500 | Kldiv loss: 4000.978 | Classifcation loss: 2.087 | Constrast loss: 561.12 | Total loss: 36520.659 | Train acc: 62.044 % ||| Val Loss: 33863.140 | Val acc: 63.646 %\n",
            "-------------------------------------------------------------------------------------------------------------------------------------------------------------------------------------\n",
            "Epoch: 8 / 10 | Reconst_loss: 11351.896 | Kldiv loss: 3678.906 | Classifcation loss: 2.080 | Constrast loss: 517.18 | Total loss: 34009.872 | Train acc: 63.273 % ||| Val Loss: 33109.479 | Val acc: 63.749 %\n",
            "-------------------------------------------------------------------------------------------------------------------------------------------------------------------------------------\n",
            "Epoch: 9 / 10 | Reconst_loss: 11651.812 | Kldiv loss: 3920.489 | Classifcation loss: 2.074 | Constrast loss: 421.21 | Total loss: 34228.214 | Train acc: 63.623 % ||| Val Loss: 34451.200 | Val acc: 63.714 %\n",
            "-------------------------------------------------------------------------------------------------------------------------------------------------------------------------------------\n"
          ]
        },
        {
          "metadata": {
            "tags": null
          },
          "name": "stderr",
          "output_type": "stream",
          "text": [
            "\u001b[32m[I 2023-03-17 21:00:29,907]\u001b[0m Trial 12 finished with value: 0.6470505002306062 and parameters: {'optuna_batch_size': 535, 'optimizer': 'Adam', 'lr': 0.005678659077869902, 'hidden_dim': 990, 'alpha': 10, 'beta': 6, 'gamma': 8, 'delta': 3}. Best is trial 11 with value: 0.928888888888889.\u001b[0m\n"
          ]
        },
        {
          "metadata": {
            "tags": null
          },
          "name": "stdout",
          "output_type": "stream",
          "text": [
            "Epoch: 10 / 10 | Reconst_loss: 10670.260 | Kldiv loss: 3597.221 | Classifcation loss: 2.048 | Constrast loss: 391.23 | Total loss: 32906.841 | Train acc: 64.705 % ||| Val Loss: 31750.853 | Val acc: 63.418 %\n",
            "-------------------------------------------------------------------------------------------------------------------------------------------------------------------------------------\n",
            "Epoch: 1 / 10 | Reconst_loss: 686.995 | Kldiv loss: 198.429 | Classifcation loss: 2.152 | Constrast loss: 4.34 | Total loss: 13410.805 | Train acc: 47.260 % ||| Val Loss: 9580.936 | Val acc: 73.183 %\n",
            "-------------------------------------------------------------------------------------------------------------------------------------------------------------------------------------\n",
            "Epoch: 2 / 10 | Reconst_loss: 1062.708 | Kldiv loss: 201.707 | Classifcation loss: 1.814 | Constrast loss: 3.27 | Total loss: 9018.081 | Train acc: 82.942 % ||| Val Loss: 8710.493 | Val acc: 89.246 %\n",
            "-------------------------------------------------------------------------------------------------------------------------------------------------------------------------------------\n",
            "Epoch: 3 / 10 | Reconst_loss: 754.991 | Kldiv loss: 202.418 | Classifcation loss: 1.764 | Constrast loss: 0.00 | Total loss: 8767.147 | Train acc: 90.414 % ||| Val Loss: 8455.334 | Val acc: 93.348 %\n",
            "-------------------------------------------------------------------------------------------------------------------------------------------------------------------------------------\n",
            "Epoch: 4 / 10 | Reconst_loss: 576.889 | Kldiv loss: 178.982 | Classifcation loss: 1.831 | Constrast loss: 0.05 | Total loss: 8589.574 | Train acc: 93.217 % ||| Val Loss: 9016.420 | Val acc: 88.157 %\n",
            "-------------------------------------------------------------------------------------------------------------------------------------------------------------------------------------\n",
            "Epoch: 5 / 10 | Reconst_loss: 650.668 | Kldiv loss: 214.625 | Classifcation loss: 1.785 | Constrast loss: 0.00 | Total loss: 8490.251 | Train acc: 94.147 % ||| Val Loss: 8282.024 | Val acc: 95.249 %\n",
            "-------------------------------------------------------------------------------------------------------------------------------------------------------------------------------------\n",
            "Epoch: 6 / 10 | Reconst_loss: 735.903 | Kldiv loss: 164.203 | Classifcation loss: 1.704 | Constrast loss: 1.09 | Total loss: 8411.969 | Train acc: 94.758 % ||| Val Loss: 8407.341 | Val acc: 93.086 %\n",
            "-------------------------------------------------------------------------------------------------------------------------------------------------------------------------------------\n",
            "Epoch: 7 / 10 | Reconst_loss: 968.502 | Kldiv loss: 185.117 | Classifcation loss: 1.759 | Constrast loss: 6.51 | Total loss: 8392.055 | Train acc: 94.730 % ||| Val Loss: 8322.404 | Val acc: 95.584 %\n",
            "-------------------------------------------------------------------------------------------------------------------------------------------------------------------------------------\n",
            "Epoch: 8 / 10 | Reconst_loss: 915.296 | Kldiv loss: 197.945 | Classifcation loss: 1.692 | Constrast loss: 0.33 | Total loss: 8214.323 | Train acc: 95.514 % ||| Val Loss: 8081.173 | Val acc: 96.273 %\n",
            "-------------------------------------------------------------------------------------------------------------------------------------------------------------------------------------\n",
            "Epoch: 9 / 10 | Reconst_loss: 543.136 | Kldiv loss: 201.654 | Classifcation loss: 1.715 | Constrast loss: 0.95 | Total loss: 8223.721 | Train acc: 95.545 % ||| Val Loss: 8115.341 | Val acc: 95.545 %\n",
            "-------------------------------------------------------------------------------------------------------------------------------------------------------------------------------------\n"
          ]
        },
        {
          "metadata": {
            "tags": null
          },
          "name": "stderr",
          "output_type": "stream",
          "text": [
            "\u001b[32m[I 2023-03-17 21:03:53,023]\u001b[0m Trial 13 finished with value: 0.9585126527801691 and parameters: {'optuna_batch_size': 152, 'optimizer': 'Adam', 'lr': 0.009656988494695613, 'hidden_dim': 656, 'alpha': 10, 'beta': 7, 'gamma': 7, 'delta': 10}. Best is trial 13 with value: 0.9585126527801691.\u001b[0m\n"
          ]
        },
        {
          "metadata": {
            "tags": null
          },
          "name": "stdout",
          "output_type": "stream",
          "text": [
            "Epoch: 10 / 10 | Reconst_loss: 1006.006 | Kldiv loss: 201.993 | Classifcation loss: 1.719 | Constrast loss: 0.30 | Total loss: 8152.537 | Train acc: 95.851 % ||| Val Loss: 8062.482 | Val acc: 95.743 %\n",
            "-------------------------------------------------------------------------------------------------------------------------------------------------------------------------------------\n",
            "Epoch: 1 / 10 | Reconst_loss: 964.369 | Kldiv loss: 241.978 | Classifcation loss: 2.093 | Constrast loss: 7.44 | Total loss: 11982.219 | Train acc: 42.614 % ||| Val Loss: 8521.008 | Val acc: 62.507 %\n",
            "-------------------------------------------------------------------------------------------------------------------------------------------------------------------------------------\n",
            "Epoch: 2 / 10 | Reconst_loss: 1214.309 | Kldiv loss: 253.061 | Classifcation loss: 2.027 | Constrast loss: 9.69 | Total loss: 8469.076 | Train acc: 70.053 % ||| Val Loss: 8973.643 | Val acc: 68.411 %\n",
            "-------------------------------------------------------------------------------------------------------------------------------------------------------------------------------------\n",
            "Epoch: 3 / 10 | Reconst_loss: 1312.385 | Kldiv loss: 199.036 | Classifcation loss: 1.921 | Constrast loss: 3.37 | Total loss: 8287.738 | Train acc: 71.561 % ||| Val Loss: 8054.387 | Val acc: 70.981 %\n",
            "-------------------------------------------------------------------------------------------------------------------------------------------------------------------------------------\n",
            "Epoch: 4 / 10 | Reconst_loss: 1202.953 | Kldiv loss: 210.630 | Classifcation loss: 1.904 | Constrast loss: 2.31 | Total loss: 8078.183 | Train acc: 72.343 % ||| Val Loss: 7989.545 | Val acc: 72.584 %\n",
            "-------------------------------------------------------------------------------------------------------------------------------------------------------------------------------------\n",
            "Epoch: 5 / 10 | Reconst_loss: 731.083 | Kldiv loss: 230.999 | Classifcation loss: 1.992 | Constrast loss: 0.70 | Total loss: 7908.472 | Train acc: 72.584 % ||| Val Loss: 7703.267 | Val acc: 72.519 %\n",
            "-------------------------------------------------------------------------------------------------------------------------------------------------------------------------------------\n",
            "Epoch: 6 / 10 | Reconst_loss: 1038.856 | Kldiv loss: 259.094 | Classifcation loss: 2.067 | Constrast loss: 7.27 | Total loss: 7857.707 | Train acc: 72.129 % ||| Val Loss: 7625.648 | Val acc: 71.949 %\n",
            "-------------------------------------------------------------------------------------------------------------------------------------------------------------------------------------\n",
            "Epoch: 7 / 10 | Reconst_loss: 942.211 | Kldiv loss: 253.259 | Classifcation loss: 1.873 | Constrast loss: 5.88 | Total loss: 7705.171 | Train acc: 73.549 % ||| Val Loss: 7732.784 | Val acc: 74.931 %\n",
            "-------------------------------------------------------------------------------------------------------------------------------------------------------------------------------------\n",
            "Epoch: 8 / 10 | Reconst_loss: 867.683 | Kldiv loss: 222.394 | Classifcation loss: 1.933 | Constrast loss: 0.63 | Total loss: 7674.883 | Train acc: 75.352 % ||| Val Loss: 7368.771 | Val acc: 74.948 %\n",
            "-------------------------------------------------------------------------------------------------------------------------------------------------------------------------------------\n",
            "Epoch: 9 / 10 | Reconst_loss: 975.576 | Kldiv loss: 225.279 | Classifcation loss: 2.061 | Constrast loss: 2.52 | Total loss: 7566.784 | Train acc: 76.094 % ||| Val Loss: 7337.128 | Val acc: 76.392 %\n",
            "-------------------------------------------------------------------------------------------------------------------------------------------------------------------------------------\n"
          ]
        },
        {
          "metadata": {
            "tags": null
          },
          "name": "stderr",
          "output_type": "stream",
          "text": [
            "\u001b[32m[I 2023-03-17 21:07:20,177]\u001b[0m Trial 14 finished with value: 0.7635766147271225 and parameters: {'optuna_batch_size': 142, 'optimizer': 'Adam', 'lr': 0.009746567407136295, 'hidden_dim': 633, 'alpha': 10, 'beta': 8, 'gamma': 7, 'delta': 10}. Best is trial 13 with value: 0.9585126527801691.\u001b[0m\n"
          ]
        },
        {
          "metadata": {
            "tags": null
          },
          "name": "stdout",
          "output_type": "stream",
          "text": [
            "Epoch: 10 / 10 | Reconst_loss: 598.664 | Kldiv loss: 223.253 | Classifcation loss: 2.022 | Constrast loss: 9.52 | Total loss: 7637.586 | Train acc: 76.358 % ||| Val Loss: 7567.691 | Val acc: 74.332 %\n",
            "-------------------------------------------------------------------------------------------------------------------------------------------------------------------------------------\n",
            "Epoch: 1 / 10 | Reconst_loss: 272.517 | Kldiv loss: 89.477 | Classifcation loss: 1.998 | Constrast loss: 0.00 | Total loss: 13474.224 | Train acc: 39.108 % ||| Val Loss: 6515.102 | Val acc: 69.239 %\n",
            "-------------------------------------------------------------------------------------------------------------------------------------------------------------------------------------\n",
            "Epoch: 2 / 10 | Reconst_loss: 153.266 | Kldiv loss: 86.008 | Classifcation loss: 1.940 | Constrast loss: 0.00 | Total loss: 5941.598 | Train acc: 73.956 % ||| Val Loss: 5701.541 | Val acc: 77.370 %\n",
            "-------------------------------------------------------------------------------------------------------------------------------------------------------------------------------------\n",
            "Epoch: 3 / 10 | Reconst_loss: 459.902 | Kldiv loss: 61.310 | Classifcation loss: 1.815 | Constrast loss: 0.00 | Total loss: 5601.245 | Train acc: 78.735 % ||| Val Loss: 5402.932 | Val acc: 80.128 %\n",
            "-------------------------------------------------------------------------------------------------------------------------------------------------------------------------------------\n",
            "Epoch: 4 / 10 | Reconst_loss: 170.354 | Kldiv loss: 61.696 | Classifcation loss: 1.838 | Constrast loss: 0.00 | Total loss: 5430.172 | Train acc: 80.527 % ||| Val Loss: 5286.654 | Val acc: 81.372 %\n",
            "-------------------------------------------------------------------------------------------------------------------------------------------------------------------------------------\n",
            "Epoch: 5 / 10 | Reconst_loss: 188.638 | Kldiv loss: 86.569 | Classifcation loss: 1.828 | Constrast loss: 1.56 | Total loss: 5332.914 | Train acc: 82.597 % ||| Val Loss: 5391.074 | Val acc: 82.503 %\n",
            "-------------------------------------------------------------------------------------------------------------------------------------------------------------------------------------\n",
            "Epoch: 6 / 10 | Reconst_loss: 188.015 | Kldiv loss: 58.420 | Classifcation loss: 1.868 | Constrast loss: 1.46 | Total loss: 5184.749 | Train acc: 83.379 % ||| Val Loss: 5046.409 | Val acc: 83.417 %\n",
            "-------------------------------------------------------------------------------------------------------------------------------------------------------------------------------------\n",
            "Epoch: 7 / 10 | Reconst_loss: 203.547 | Kldiv loss: 74.236 | Classifcation loss: 1.705 | Constrast loss: 0.13 | Total loss: 5161.145 | Train acc: 83.683 % ||| Val Loss: 5087.534 | Val acc: 84.221 %\n",
            "-------------------------------------------------------------------------------------------------------------------------------------------------------------------------------------\n",
            "Epoch: 8 / 10 | Reconst_loss: 187.215 | Kldiv loss: 56.067 | Classifcation loss: 1.924 | Constrast loss: 0.07 | Total loss: 5211.045 | Train acc: 83.386 % ||| Val Loss: 5126.372 | Val acc: 83.820 %\n",
            "-------------------------------------------------------------------------------------------------------------------------------------------------------------------------------------\n",
            "Epoch: 9 / 10 | Reconst_loss: 176.794 | Kldiv loss: 67.718 | Classifcation loss: 2.010 | Constrast loss: 0.62 | Total loss: 5102.282 | Train acc: 83.741 % ||| Val Loss: 5212.556 | Val acc: 81.432 %\n",
            "-------------------------------------------------------------------------------------------------------------------------------------------------------------------------------------\n"
          ]
        },
        {
          "metadata": {
            "tags": null
          },
          "name": "stderr",
          "output_type": "stream",
          "text": [
            "\u001b[32m[I 2023-03-17 21:13:07,843]\u001b[0m Trial 15 finished with value: 0.8408514755684564 and parameters: {'optuna_batch_size': 100, 'optimizer': 'Adam', 'lr': 0.004282083280330081, 'hidden_dim': 823, 'alpha': 5, 'beta': 5, 'gamma': 6, 'delta': 9}. Best is trial 13 with value: 0.9585126527801691.\u001b[0m\n"
          ]
        },
        {
          "metadata": {
            "tags": null
          },
          "name": "stdout",
          "output_type": "stream",
          "text": [
            "Epoch: 10 / 10 | Reconst_loss: 262.040 | Kldiv loss: 72.784 | Classifcation loss: 1.843 | Constrast loss: 0.00 | Total loss: 5075.509 | Train acc: 84.085 % ||| Val Loss: 5025.970 | Val acc: 83.812 %\n",
            "-------------------------------------------------------------------------------------------------------------------------------------------------------------------------------------\n",
            "Epoch: 1 / 10 | Reconst_loss: 4284.016 | Kldiv loss: 1406.654 | Classifcation loss: 2.421 | Constrast loss: 155.73 | Total loss: 789850.079 | Train acc: 14.477 % ||| Val Loss: 43850.192 | Val acc: 23.652 %\n",
            "-------------------------------------------------------------------------------------------------------------------------------------------------------------------------------------\n",
            "Epoch: 2 / 10 | Reconst_loss: 3899.487 | Kldiv loss: 1179.110 | Classifcation loss: 2.300 | Constrast loss: 99.50 | Total loss: 39922.616 | Train acc: 35.937 % ||| Val Loss: 35504.693 | Val acc: 43.451 %\n",
            "-------------------------------------------------------------------------------------------------------------------------------------------------------------------------------------\n",
            "Epoch: 3 / 10 | Reconst_loss: 3582.222 | Kldiv loss: 1029.131 | Classifcation loss: 2.180 | Constrast loss: 59.32 | Total loss: 33533.273 | Train acc: 48.689 % ||| Val Loss: 30485.315 | Val acc: 51.108 %\n",
            "-------------------------------------------------------------------------------------------------------------------------------------------------------------------------------------\n",
            "Epoch: 4 / 10 | Reconst_loss: 3279.148 | Kldiv loss: 866.782 | Classifcation loss: 2.135 | Constrast loss: 31.24 | Total loss: 29109.148 | Train acc: 53.396 % ||| Val Loss: 26918.840 | Val acc: 54.488 %\n",
            "-------------------------------------------------------------------------------------------------------------------------------------------------------------------------------------\n",
            "Epoch: 5 / 10 | Reconst_loss: 3172.130 | Kldiv loss: 796.506 | Classifcation loss: 2.152 | Constrast loss: 52.75 | Total loss: 26860.781 | Train acc: 55.248 % ||| Val Loss: 25478.817 | Val acc: 55.151 %\n",
            "-------------------------------------------------------------------------------------------------------------------------------------------------------------------------------------\n",
            "Epoch: 6 / 10 | Reconst_loss: 3359.016 | Kldiv loss: 850.454 | Classifcation loss: 2.154 | Constrast loss: 31.24 | Total loss: 25934.486 | Train acc: 55.670 % ||| Val Loss: 26430.751 | Val acc: 55.295 %\n",
            "-------------------------------------------------------------------------------------------------------------------------------------------------------------------------------------\n",
            "Epoch: 7 / 10 | Reconst_loss: 3341.636 | Kldiv loss: 794.974 | Classifcation loss: 2.070 | Constrast loss: 41.49 | Total loss: 25002.379 | Train acc: 56.751 % ||| Val Loss: 24569.562 | Val acc: 55.831 %\n",
            "-------------------------------------------------------------------------------------------------------------------------------------------------------------------------------------\n",
            "Epoch: 8 / 10 | Reconst_loss: 2756.757 | Kldiv loss: 798.166 | Classifcation loss: 2.065 | Constrast loss: 23.50 | Total loss: 25329.643 | Train acc: 56.482 % ||| Val Loss: 23966.408 | Val acc: 56.272 %\n",
            "-------------------------------------------------------------------------------------------------------------------------------------------------------------------------------------\n",
            "Epoch: 9 / 10 | Reconst_loss: 2601.027 | Kldiv loss: 779.869 | Classifcation loss: 2.119 | Constrast loss: 17.51 | Total loss: 24104.941 | Train acc: 57.331 % ||| Val Loss: 23376.680 | Val acc: 57.298 %\n",
            "-------------------------------------------------------------------------------------------------------------------------------------------------------------------------------------\n"
          ]
        },
        {
          "metadata": {
            "tags": null
          },
          "name": "stderr",
          "output_type": "stream",
          "text": [
            "\u001b[32m[I 2023-03-17 21:19:25,906]\u001b[0m Trial 16 finished with value: 0.5767745722115528 and parameters: {'optuna_batch_size': 383, 'optimizer': 'Adam', 'lr': 0.006272127124625823, 'hidden_dim': 994, 'alpha': 9, 'beta': 8, 'gamma': 10, 'delta': 8}. Best is trial 13 with value: 0.9585126527801691.\u001b[0m\n"
          ]
        },
        {
          "metadata": {
            "tags": null
          },
          "name": "stdout",
          "output_type": "stream",
          "text": [
            "Epoch: 10 / 10 | Reconst_loss: 3085.194 | Kldiv loss: 778.117 | Classifcation loss: 2.187 | Constrast loss: 12.93 | Total loss: 23812.488 | Train acc: 57.677 % ||| Val Loss: 23269.449 | Val acc: 57.971 %\n",
            "-------------------------------------------------------------------------------------------------------------------------------------------------------------------------------------\n",
            "Epoch: 1 / 10 | Reconst_loss: 2640.789 | Kldiv loss: 544.188 | Classifcation loss: 2.106 | Constrast loss: 43.08 | Total loss: 25926.245 | Train acc: 37.738 % ||| Val Loss: 13787.567 | Val acc: 71.326 %\n",
            "-------------------------------------------------------------------------------------------------------------------------------------------------------------------------------------\n",
            "Epoch: 2 / 10 | Reconst_loss: 1917.166 | Kldiv loss: 485.533 | Classifcation loss: 1.879 | Constrast loss: 26.41 | Total loss: 13641.604 | Train acc: 78.096 % ||| Val Loss: 12475.336 | Val acc: 82.486 %\n",
            "-------------------------------------------------------------------------------------------------------------------------------------------------------------------------------------\n",
            "Epoch: 3 / 10 | Reconst_loss: 2341.620 | Kldiv loss: 483.448 | Classifcation loss: 1.865 | Constrast loss: 18.83 | Total loss: 12758.331 | Train acc: 84.336 % ||| Val Loss: 12214.530 | Val acc: 86.654 %\n",
            "-------------------------------------------------------------------------------------------------------------------------------------------------------------------------------------\n",
            "Epoch: 4 / 10 | Reconst_loss: 2315.115 | Kldiv loss: 478.863 | Classifcation loss: 1.837 | Constrast loss: 30.19 | Total loss: 12453.947 | Train acc: 87.144 % ||| Val Loss: 12181.689 | Val acc: 86.169 %\n",
            "-------------------------------------------------------------------------------------------------------------------------------------------------------------------------------------\n",
            "Epoch: 5 / 10 | Reconst_loss: 2723.125 | Kldiv loss: 449.704 | Classifcation loss: 1.832 | Constrast loss: 22.26 | Total loss: 12315.010 | Train acc: 87.785 % ||| Val Loss: 11834.299 | Val acc: 89.267 %\n",
            "-------------------------------------------------------------------------------------------------------------------------------------------------------------------------------------\n",
            "Epoch: 6 / 10 | Reconst_loss: 1918.783 | Kldiv loss: 477.064 | Classifcation loss: 1.846 | Constrast loss: 21.86 | Total loss: 12209.854 | Train acc: 87.710 % ||| Val Loss: 11905.267 | Val acc: 89.161 %\n",
            "-------------------------------------------------------------------------------------------------------------------------------------------------------------------------------------\n",
            "Epoch: 7 / 10 | Reconst_loss: 1889.159 | Kldiv loss: 425.637 | Classifcation loss: 1.808 | Constrast loss: 2.57 | Total loss: 12273.324 | Train acc: 88.119 % ||| Val Loss: 11456.092 | Val acc: 88.870 %\n",
            "-------------------------------------------------------------------------------------------------------------------------------------------------------------------------------------\n",
            "Epoch: 8 / 10 | Reconst_loss: 2192.456 | Kldiv loss: 505.727 | Classifcation loss: 1.850 | Constrast loss: 10.09 | Total loss: 11926.513 | Train acc: 89.124 % ||| Val Loss: 11775.465 | Val acc: 88.932 %\n",
            "-------------------------------------------------------------------------------------------------------------------------------------------------------------------------------------\n",
            "Epoch: 9 / 10 | Reconst_loss: 1879.095 | Kldiv loss: 468.828 | Classifcation loss: 1.784 | Constrast loss: 18.99 | Total loss: 11775.138 | Train acc: 89.288 % ||| Val Loss: 11674.792 | Val acc: 88.104 %\n",
            "-------------------------------------------------------------------------------------------------------------------------------------------------------------------------------------\n"
          ]
        },
        {
          "metadata": {
            "tags": null
          },
          "name": "stderr",
          "output_type": "stream",
          "text": [
            "\u001b[32m[I 2023-03-17 21:21:02,424]\u001b[0m Trial 17 finished with value: 0.8950788995950307 and parameters: {'optuna_batch_size': 217, 'optimizer': 'Adam', 'lr': 0.008035534760574907, 'hidden_dim': 409, 'alpha': 6, 'beta': 6, 'gamma': 8, 'delta': 10}. Best is trial 13 with value: 0.9585126527801691.\u001b[0m\n"
          ]
        },
        {
          "metadata": {
            "tags": null
          },
          "name": "stdout",
          "output_type": "stream",
          "text": [
            "Epoch: 10 / 10 | Reconst_loss: 2042.927 | Kldiv loss: 501.179 | Classifcation loss: 1.809 | Constrast loss: 5.78 | Total loss: 11671.198 | Train acc: 89.508 % ||| Val Loss: 11476.931 | Val acc: 88.820 %\n",
            "-------------------------------------------------------------------------------------------------------------------------------------------------------------------------------------\n",
            "Epoch: 1 / 10 | Reconst_loss: 14860.459 | Kldiv loss: 6285.234 | Classifcation loss: 2.487 | Constrast loss: 1779.16 | Total loss: 175023.006 | Train acc: 14.064 % ||| Val Loss: 65315.283 | Val acc: 16.109 %\n",
            "-------------------------------------------------------------------------------------------------------------------------------------------------------------------------------------\n",
            "Epoch: 2 / 10 | Reconst_loss: 13241.406 | Kldiv loss: 4649.430 | Classifcation loss: 2.320 | Constrast loss: 804.70 | Total loss: 57068.560 | Train acc: 26.373 % ||| Val Loss: 47739.464 | Val acc: 38.989 %\n",
            "-------------------------------------------------------------------------------------------------------------------------------------------------------------------------------------\n",
            "Epoch: 3 / 10 | Reconst_loss: 11951.750 | Kldiv loss: 3878.080 | Classifcation loss: 2.250 | Constrast loss: 499.06 | Total loss: 46518.311 | Train acc: 43.631 % ||| Val Loss: 41279.303 | Val acc: 46.654 %\n",
            "-------------------------------------------------------------------------------------------------------------------------------------------------------------------------------------\n",
            "Epoch: 4 / 10 | Reconst_loss: 11281.647 | Kldiv loss: 3268.474 | Classifcation loss: 2.225 | Constrast loss: 440.67 | Total loss: 40393.705 | Train acc: 50.765 % ||| Val Loss: 37349.387 | Val acc: 51.836 %\n",
            "-------------------------------------------------------------------------------------------------------------------------------------------------------------------------------------\n",
            "Epoch: 5 / 10 | Reconst_loss: 14524.168 | Kldiv loss: 4106.947 | Classifcation loss: 2.203 | Constrast loss: 302.84 | Total loss: 39195.607 | Train acc: 53.098 % ||| Val Loss: 45771.530 | Val acc: 51.258 %\n",
            "-------------------------------------------------------------------------------------------------------------------------------------------------------------------------------------\n",
            "Epoch: 6 / 10 | Reconst_loss: 11154.195 | Kldiv loss: 3544.911 | Classifcation loss: 2.097 | Constrast loss: 262.94 | Total loss: 38646.140 | Train acc: 57.836 % ||| Val Loss: 35220.186 | Val acc: 60.456 %\n",
            "-------------------------------------------------------------------------------------------------------------------------------------------------------------------------------------\n",
            "Epoch: 7 / 10 | Reconst_loss: 11060.678 | Kldiv loss: 2994.900 | Classifcation loss: 2.110 | Constrast loss: 220.03 | Total loss: 36079.770 | Train acc: 61.391 % ||| Val Loss: 34135.449 | Val acc: 62.561 %\n",
            "-------------------------------------------------------------------------------------------------------------------------------------------------------------------------------------\n",
            "Epoch: 8 / 10 | Reconst_loss: 10513.887 | Kldiv loss: 3338.190 | Classifcation loss: 2.092 | Constrast loss: 206.32 | Total loss: 35320.916 | Train acc: 63.995 % ||| Val Loss: 33948.828 | Val acc: 64.265 %\n",
            "-------------------------------------------------------------------------------------------------------------------------------------------------------------------------------------\n",
            "Epoch: 9 / 10 | Reconst_loss: 10164.990 | Kldiv loss: 3220.297 | Classifcation loss: 2.045 | Constrast loss: 240.31 | Total loss: 35191.360 | Train acc: 66.370 % ||| Val Loss: 33286.590 | Val acc: 68.440 %\n",
            "-------------------------------------------------------------------------------------------------------------------------------------------------------------------------------------\n"
          ]
        },
        {
          "metadata": {
            "tags": null
          },
          "name": "stderr",
          "output_type": "stream",
          "text": [
            "\u001b[32m[I 2023-03-17 21:23:33,083]\u001b[0m Trial 18 finished with value: 0.6954910281708364 and parameters: {'optuna_batch_size': 604, 'optimizer': 'Adam', 'lr': 0.004706753575347085, 'hidden_dim': 616, 'alpha': 9, 'beta': 8, 'gamma': 5, 'delta': 8}. Best is trial 13 with value: 0.9585126527801691.\u001b[0m\n"
          ]
        },
        {
          "metadata": {
            "tags": null
          },
          "name": "stdout",
          "output_type": "stream",
          "text": [
            "Epoch: 10 / 10 | Reconst_loss: 9770.411 | Kldiv loss: 2861.777 | Classifcation loss: 2.069 | Constrast loss: 241.23 | Total loss: 33470.738 | Train acc: 69.549 % ||| Val Loss: 31967.777 | Val acc: 68.558 %\n",
            "-------------------------------------------------------------------------------------------------------------------------------------------------------------------------------------\n",
            "Epoch: 1 / 10 | Reconst_loss: 7926.398 | Kldiv loss: 1445.749 | Classifcation loss: 2.247 | Constrast loss: 198.30 | Total loss: 46326.675 | Train acc: 27.524 % ||| Val Loss: 25927.779 | Val acc: 47.088 %\n",
            "-------------------------------------------------------------------------------------------------------------------------------------------------------------------------------------\n",
            "Epoch: 2 / 10 | Reconst_loss: 5881.488 | Kldiv loss: 1359.904 | Classifcation loss: 2.130 | Constrast loss: 105.83 | Total loss: 22861.243 | Train acc: 53.361 % ||| Val Loss: 20190.499 | Val acc: 55.309 %\n",
            "-------------------------------------------------------------------------------------------------------------------------------------------------------------------------------------\n",
            "Epoch: 3 / 10 | Reconst_loss: 5344.339 | Kldiv loss: 1324.255 | Classifcation loss: 2.132 | Constrast loss: 114.22 | Total loss: 19785.048 | Train acc: 59.648 % ||| Val Loss: 18710.354 | Val acc: 62.085 %\n",
            "-------------------------------------------------------------------------------------------------------------------------------------------------------------------------------------\n",
            "Epoch: 4 / 10 | Reconst_loss: 5952.200 | Kldiv loss: 1351.742 | Classifcation loss: 2.046 | Constrast loss: 52.18 | Total loss: 18923.945 | Train acc: 64.090 % ||| Val Loss: 18112.424 | Val acc: 64.521 %\n",
            "-------------------------------------------------------------------------------------------------------------------------------------------------------------------------------------\n",
            "Epoch: 5 / 10 | Reconst_loss: 5185.362 | Kldiv loss: 1495.654 | Classifcation loss: 1.999 | Constrast loss: 31.58 | Total loss: 18550.895 | Train acc: 64.357 % ||| Val Loss: 18273.579 | Val acc: 64.363 %\n",
            "-------------------------------------------------------------------------------------------------------------------------------------------------------------------------------------\n",
            "Epoch: 6 / 10 | Reconst_loss: 5472.740 | Kldiv loss: 1476.700 | Classifcation loss: 2.011 | Constrast loss: 69.92 | Total loss: 18550.604 | Train acc: 64.210 % ||| Val Loss: 17693.112 | Val acc: 64.792 %\n",
            "-------------------------------------------------------------------------------------------------------------------------------------------------------------------------------------\n",
            "Epoch: 7 / 10 | Reconst_loss: 5047.427 | Kldiv loss: 1475.740 | Classifcation loss: 2.135 | Constrast loss: 191.29 | Total loss: 18806.039 | Train acc: 64.340 % ||| Val Loss: 19077.040 | Val acc: 63.392 %\n",
            "-------------------------------------------------------------------------------------------------------------------------------------------------------------------------------------\n",
            "Epoch: 8 / 10 | Reconst_loss: 5713.046 | Kldiv loss: 1550.614 | Classifcation loss: 2.079 | Constrast loss: 95.16 | Total loss: 18796.674 | Train acc: 64.457 % ||| Val Loss: 18259.399 | Val acc: 64.431 %\n",
            "-------------------------------------------------------------------------------------------------------------------------------------------------------------------------------------\n",
            "Epoch: 9 / 10 | Reconst_loss: 4991.455 | Kldiv loss: 1301.675 | Classifcation loss: 2.038 | Constrast loss: 105.95 | Total loss: 18849.779 | Train acc: 64.629 % ||| Val Loss: 17342.001 | Val acc: 64.502 %\n",
            "-------------------------------------------------------------------------------------------------------------------------------------------------------------------------------------\n"
          ]
        },
        {
          "metadata": {
            "tags": null
          },
          "name": "stderr",
          "output_type": "stream",
          "text": [
            "\u001b[32m[I 2023-03-17 21:26:12,847]\u001b[0m Trial 19 finished with value: 0.6380783782529112 and parameters: {'optuna_batch_size': 320, 'optimizer': 'Adam', 'lr': 0.009920943380370216, 'hidden_dim': 604, 'alpha': 3, 'beta': 5, 'gamma': 7, 'delta': 3}. Best is trial 13 with value: 0.9585126527801691.\u001b[0m\n"
          ]
        },
        {
          "metadata": {
            "tags": null
          },
          "name": "stdout",
          "output_type": "stream",
          "text": [
            "Epoch: 10 / 10 | Reconst_loss: 5726.711 | Kldiv loss: 1449.066 | Classifcation loss: 2.067 | Constrast loss: 108.21 | Total loss: 18817.955 | Train acc: 63.808 % ||| Val Loss: 17502.189 | Val acc: 64.529 %\n",
            "-------------------------------------------------------------------------------------------------------------------------------------------------------------------------------------\n",
            "Epoch: 1 / 10 | Reconst_loss: 4103.410 | Kldiv loss: 851.773 | Classifcation loss: 2.172 | Constrast loss: 94.47 | Total loss: 16930.204 | Train acc: 37.634 % ||| Val Loss: 11818.209 | Val acc: 66.445 %\n",
            "-------------------------------------------------------------------------------------------------------------------------------------------------------------------------------------\n",
            "Epoch: 2 / 10 | Reconst_loss: 3972.530 | Kldiv loss: 785.981 | Classifcation loss: 1.964 | Constrast loss: 85.82 | Total loss: 10849.254 | Train acc: 77.851 % ||| Val Loss: 10199.918 | Val acc: 82.204 %\n",
            "-------------------------------------------------------------------------------------------------------------------------------------------------------------------------------------\n",
            "Epoch: 3 / 10 | Reconst_loss: 3104.181 | Kldiv loss: 828.162 | Classifcation loss: 1.889 | Constrast loss: 22.07 | Total loss: 10154.399 | Train acc: 84.950 % ||| Val Loss: 9802.704 | Val acc: 86.411 %\n",
            "-------------------------------------------------------------------------------------------------------------------------------------------------------------------------------------\n",
            "Epoch: 4 / 10 | Reconst_loss: 3817.449 | Kldiv loss: 717.059 | Classifcation loss: 1.813 | Constrast loss: 49.07 | Total loss: 10001.472 | Train acc: 88.268 % ||| Val Loss: 9956.227 | Val acc: 89.381 %\n",
            "-------------------------------------------------------------------------------------------------------------------------------------------------------------------------------------\n",
            "Epoch: 5 / 10 | Reconst_loss: 2839.393 | Kldiv loss: 719.141 | Classifcation loss: 1.781 | Constrast loss: 36.05 | Total loss: 9597.721 | Train acc: 90.624 % ||| Val Loss: 9212.391 | Val acc: 91.521 %\n",
            "-------------------------------------------------------------------------------------------------------------------------------------------------------------------------------------\n",
            "Epoch: 6 / 10 | Reconst_loss: 2835.703 | Kldiv loss: 724.653 | Classifcation loss: 1.787 | Constrast loss: 38.95 | Total loss: 9529.007 | Train acc: 90.726 % ||| Val Loss: 9327.412 | Val acc: 90.802 %\n",
            "-------------------------------------------------------------------------------------------------------------------------------------------------------------------------------------\n",
            "Epoch: 7 / 10 | Reconst_loss: 3031.879 | Kldiv loss: 742.040 | Classifcation loss: 1.781 | Constrast loss: 45.50 | Total loss: 9427.249 | Train acc: 90.795 % ||| Val Loss: 9558.950 | Val acc: 89.425 %\n",
            "-------------------------------------------------------------------------------------------------------------------------------------------------------------------------------------\n",
            "Epoch: 8 / 10 | Reconst_loss: 3410.664 | Kldiv loss: 777.122 | Classifcation loss: 1.761 | Constrast loss: 36.80 | Total loss: 9219.142 | Train acc: 91.712 % ||| Val Loss: 8792.124 | Val acc: 91.829 %\n",
            "-------------------------------------------------------------------------------------------------------------------------------------------------------------------------------------\n",
            "Epoch: 9 / 10 | Reconst_loss: 2918.942 | Kldiv loss: 739.552 | Classifcation loss: 1.778 | Constrast loss: 33.63 | Total loss: 8947.410 | Train acc: 92.430 % ||| Val Loss: 8789.752 | Val acc: 92.977 %\n",
            "-------------------------------------------------------------------------------------------------------------------------------------------------------------------------------------\n"
          ]
        },
        {
          "metadata": {
            "tags": null
          },
          "name": "stderr",
          "output_type": "stream",
          "text": [
            "\u001b[32m[I 2023-03-17 21:30:33,968]\u001b[0m Trial 20 finished with value: 0.9269494912325499 and parameters: {'optuna_batch_size': 172, 'optimizer': 'Adam', 'lr': 0.007346076126315902, 'hidden_dim': 758, 'alpha': 0, 'beta': 7, 'gamma': 3, 'delta': 9}. Best is trial 13 with value: 0.9585126527801691.\u001b[0m\n"
          ]
        },
        {
          "metadata": {
            "tags": null
          },
          "name": "stdout",
          "output_type": "stream",
          "text": [
            "Epoch: 10 / 10 | Reconst_loss: 2852.002 | Kldiv loss: 727.732 | Classifcation loss: 1.771 | Constrast loss: 40.30 | Total loss: 9010.900 | Train acc: 92.695 % ||| Val Loss: 9110.304 | Val acc: 90.600 %\n",
            "-------------------------------------------------------------------------------------------------------------------------------------------------------------------------------------\n",
            "Epoch: 1 / 10 | Reconst_loss: 4903.263 | Kldiv loss: 1200.305 | Classifcation loss: 2.192 | Constrast loss: 91.31 | Total loss: 18647.273 | Train acc: 38.493 % ||| Val Loss: 12408.980 | Val acc: 63.094 %\n",
            "-------------------------------------------------------------------------------------------------------------------------------------------------------------------------------------\n",
            "Epoch: 2 / 10 | Reconst_loss: 4347.584 | Kldiv loss: 1007.404 | Classifcation loss: 1.982 | Constrast loss: 64.63 | Total loss: 11851.017 | Train acc: 66.654 % ||| Val Loss: 11026.467 | Val acc: 68.644 %\n",
            "-------------------------------------------------------------------------------------------------------------------------------------------------------------------------------------\n",
            "Epoch: 3 / 10 | Reconst_loss: 3868.169 | Kldiv loss: 873.979 | Classifcation loss: 2.009 | Constrast loss: 59.84 | Total loss: 11105.588 | Train acc: 69.270 % ||| Val Loss: 10865.335 | Val acc: 70.768 %\n",
            "-------------------------------------------------------------------------------------------------------------------------------------------------------------------------------------\n",
            "Epoch: 4 / 10 | Reconst_loss: 3915.081 | Kldiv loss: 981.732 | Classifcation loss: 1.979 | Constrast loss: 90.72 | Total loss: 10625.390 | Train acc: 71.678 % ||| Val Loss: 10575.149 | Val acc: 72.565 %\n",
            "-------------------------------------------------------------------------------------------------------------------------------------------------------------------------------------\n",
            "Epoch: 5 / 10 | Reconst_loss: 4623.754 | Kldiv loss: 919.866 | Classifcation loss: 1.995 | Constrast loss: 98.59 | Total loss: 10483.874 | Train acc: 73.914 % ||| Val Loss: 10283.888 | Val acc: 74.247 %\n",
            "-------------------------------------------------------------------------------------------------------------------------------------------------------------------------------------\n",
            "Epoch: 6 / 10 | Reconst_loss: 4006.972 | Kldiv loss: 915.702 | Classifcation loss: 1.936 | Constrast loss: 48.06 | Total loss: 10605.195 | Train acc: 74.325 % ||| Val Loss: 10464.242 | Val acc: 74.909 %\n",
            "-------------------------------------------------------------------------------------------------------------------------------------------------------------------------------------\n",
            "Epoch: 7 / 10 | Reconst_loss: 3884.764 | Kldiv loss: 943.214 | Classifcation loss: 1.870 | Constrast loss: 36.49 | Total loss: 10260.531 | Train acc: 76.089 % ||| Val Loss: 10307.207 | Val acc: 78.343 %\n",
            "-------------------------------------------------------------------------------------------------------------------------------------------------------------------------------------\n",
            "Epoch: 8 / 10 | Reconst_loss: 3928.229 | Kldiv loss: 1020.362 | Classifcation loss: 1.952 | Constrast loss: 54.82 | Total loss: 10095.859 | Train acc: 80.262 % ||| Val Loss: 9838.588 | Val acc: 80.214 %\n",
            "-------------------------------------------------------------------------------------------------------------------------------------------------------------------------------------\n",
            "Epoch: 9 / 10 | Reconst_loss: 3076.896 | Kldiv loss: 980.895 | Classifcation loss: 1.929 | Constrast loss: 71.79 | Total loss: 10012.990 | Train acc: 80.487 % ||| Val Loss: 9715.278 | Val acc: 80.744 %\n",
            "-------------------------------------------------------------------------------------------------------------------------------------------------------------------------------------\n"
          ]
        },
        {
          "metadata": {
            "tags": null
          },
          "name": "stderr",
          "output_type": "stream",
          "text": [
            "\u001b[32m[I 2023-03-17 21:34:36,218]\u001b[0m Trial 21 finished with value: 0.8092450688236134 and parameters: {'optuna_batch_size': 189, 'optimizer': 'Adam', 'lr': 0.007367026524391258, 'hidden_dim': 752, 'alpha': 0, 'beta': 7, 'gamma': 3, 'delta': 9}. Best is trial 13 with value: 0.9585126527801691.\u001b[0m\n"
          ]
        },
        {
          "metadata": {
            "tags": null
          },
          "name": "stdout",
          "output_type": "stream",
          "text": [
            "Epoch: 10 / 10 | Reconst_loss: 3040.052 | Kldiv loss: 945.359 | Classifcation loss: 1.910 | Constrast loss: 12.99 | Total loss: 9875.961 | Train acc: 80.925 % ||| Val Loss: 9729.980 | Val acc: 80.819 %\n",
            "-------------------------------------------------------------------------------------------------------------------------------------------------------------------------------------\n",
            "Epoch: 1 / 10 | Reconst_loss: 1158.511 | Kldiv loss: 231.062 | Classifcation loss: 2.028 | Constrast loss: 6.75 | Total loss: 15685.646 | Train acc: 42.473 % ||| Val Loss: 12413.341 | Val acc: 56.895 %\n",
            "-------------------------------------------------------------------------------------------------------------------------------------------------------------------------------------\n",
            "Epoch: 2 / 10 | Reconst_loss: 1244.141 | Kldiv loss: 181.929 | Classifcation loss: 2.124 | Constrast loss: 1.80 | Total loss: 10753.779 | Train acc: 61.161 % ||| Val Loss: 10096.196 | Val acc: 62.695 %\n",
            "-------------------------------------------------------------------------------------------------------------------------------------------------------------------------------------\n",
            "Epoch: 3 / 10 | Reconst_loss: 1129.094 | Kldiv loss: 207.134 | Classifcation loss: 2.143 | Constrast loss: 3.82 | Total loss: 10368.288 | Train acc: 63.610 % ||| Val Loss: 10028.063 | Val acc: 63.886 %\n",
            "-------------------------------------------------------------------------------------------------------------------------------------------------------------------------------------\n",
            "Epoch: 4 / 10 | Reconst_loss: 961.263 | Kldiv loss: 210.783 | Classifcation loss: 2.023 | Constrast loss: 0.94 | Total loss: 9987.535 | Train acc: 64.482 % ||| Val Loss: 10001.599 | Val acc: 65.971 %\n",
            "-------------------------------------------------------------------------------------------------------------------------------------------------------------------------------------\n",
            "Epoch: 5 / 10 | Reconst_loss: 673.977 | Kldiv loss: 196.370 | Classifcation loss: 2.097 | Constrast loss: 9.17 | Total loss: 9754.469 | Train acc: 67.418 % ||| Val Loss: 9601.377 | Val acc: 72.851 %\n",
            "-------------------------------------------------------------------------------------------------------------------------------------------------------------------------------------\n",
            "Epoch: 6 / 10 | Reconst_loss: 783.725 | Kldiv loss: 192.708 | Classifcation loss: 1.993 | Constrast loss: 1.74 | Total loss: 9732.892 | Train acc: 75.084 % ||| Val Loss: 9745.097 | Val acc: 77.107 %\n",
            "-------------------------------------------------------------------------------------------------------------------------------------------------------------------------------------\n",
            "Epoch: 7 / 10 | Reconst_loss: 621.445 | Kldiv loss: 206.169 | Classifcation loss: 1.860 | Constrast loss: 2.07 | Total loss: 9759.325 | Train acc: 74.807 % ||| Val Loss: 10080.757 | Val acc: 72.105 %\n",
            "-------------------------------------------------------------------------------------------------------------------------------------------------------------------------------------\n",
            "Epoch: 8 / 10 | Reconst_loss: 845.947 | Kldiv loss: 194.042 | Classifcation loss: 2.018 | Constrast loss: 0.55 | Total loss: 9420.839 | Train acc: 72.425 % ||| Val Loss: 9028.102 | Val acc: 72.030 %\n",
            "-------------------------------------------------------------------------------------------------------------------------------------------------------------------------------------\n",
            "Epoch: 9 / 10 | Reconst_loss: 658.866 | Kldiv loss: 219.110 | Classifcation loss: 1.955 | Constrast loss: 4.48 | Total loss: 9218.570 | Train acc: 72.310 % ||| Val Loss: 9273.549 | Val acc: 72.734 %\n",
            "-------------------------------------------------------------------------------------------------------------------------------------------------------------------------------------\n"
          ]
        },
        {
          "metadata": {
            "tags": null
          },
          "name": "stderr",
          "output_type": "stream",
          "text": [
            "\u001b[32m[I 2023-03-17 21:40:14,617]\u001b[0m Trial 22 finished with value: 0.7250455240891877 and parameters: {'optuna_batch_size': 173, 'optimizer': 'Adam', 'lr': 0.008854572484634745, 'hidden_dim': 896, 'alpha': 0, 'beta': 7, 'gamma': 2, 'delta': 9}. Best is trial 13 with value: 0.9585126527801691.\u001b[0m\n"
          ]
        },
        {
          "metadata": {
            "tags": null
          },
          "name": "stdout",
          "output_type": "stream",
          "text": [
            "Epoch: 10 / 10 | Reconst_loss: 726.520 | Kldiv loss: 192.229 | Classifcation loss: 1.951 | Constrast loss: 0.61 | Total loss: 9237.901 | Train acc: 72.505 % ||| Val Loss: 9032.565 | Val acc: 73.314 %\n",
            "-------------------------------------------------------------------------------------------------------------------------------------------------------------------------------------\n",
            "Epoch: 1 / 10 | Reconst_loss: 232.011 | Kldiv loss: 81.370 | Classifcation loss: 2.281 | Constrast loss: 5.26 | Total loss: 54040.748 | Train acc: 23.451 % ||| Val Loss: 21861.908 | Val acc: 43.499 %\n",
            "-------------------------------------------------------------------------------------------------------------------------------------------------------------------------------------\n",
            "Epoch: 2 / 10 | Reconst_loss: 278.573 | Kldiv loss: 80.117 | Classifcation loss: 1.971 | Constrast loss: 0.18 | Total loss: 18993.802 | Train acc: 58.445 % ||| Val Loss: 17587.786 | Val acc: 65.059 %\n",
            "-------------------------------------------------------------------------------------------------------------------------------------------------------------------------------------\n",
            "Epoch: 3 / 10 | Reconst_loss: 481.038 | Kldiv loss: 65.588 | Classifcation loss: 1.853 | Constrast loss: 0.00 | Total loss: 17377.509 | Train acc: 68.751 % ||| Val Loss: 17013.478 | Val acc: 74.905 %\n",
            "-------------------------------------------------------------------------------------------------------------------------------------------------------------------------------------\n",
            "Epoch: 4 / 10 | Reconst_loss: 262.938 | Kldiv loss: 86.008 | Classifcation loss: 2.197 | Constrast loss: 0.00 | Total loss: 16596.885 | Train acc: 75.408 % ||| Val Loss: 16351.057 | Val acc: 75.299 %\n",
            "-------------------------------------------------------------------------------------------------------------------------------------------------------------------------------------\n",
            "Epoch: 5 / 10 | Reconst_loss: 357.199 | Kldiv loss: 88.659 | Classifcation loss: 1.920 | Constrast loss: 0.07 | Total loss: 16313.163 | Train acc: 76.471 % ||| Val Loss: 16949.153 | Val acc: 78.759 %\n",
            "-------------------------------------------------------------------------------------------------------------------------------------------------------------------------------------\n",
            "Epoch: 6 / 10 | Reconst_loss: 249.003 | Kldiv loss: 96.920 | Classifcation loss: 1.762 | Constrast loss: 1.57 | Total loss: 16028.267 | Train acc: 80.416 % ||| Val Loss: 15963.578 | Val acc: 83.860 %\n",
            "-------------------------------------------------------------------------------------------------------------------------------------------------------------------------------------\n",
            "Epoch: 7 / 10 | Reconst_loss: 456.158 | Kldiv loss: 104.545 | Classifcation loss: 1.881 | Constrast loss: 0.00 | Total loss: 15695.541 | Train acc: 84.208 % ||| Val Loss: 15515.607 | Val acc: 84.801 %\n",
            "-------------------------------------------------------------------------------------------------------------------------------------------------------------------------------------\n",
            "Epoch: 8 / 10 | Reconst_loss: 504.076 | Kldiv loss: 74.379 | Classifcation loss: 1.804 | Constrast loss: 0.00 | Total loss: 15648.945 | Train acc: 84.701 % ||| Val Loss: 15268.710 | Val acc: 85.118 %\n",
            "-------------------------------------------------------------------------------------------------------------------------------------------------------------------------------------\n",
            "Epoch: 9 / 10 | Reconst_loss: 170.223 | Kldiv loss: 82.361 | Classifcation loss: 1.869 | Constrast loss: 3.12 | Total loss: 15361.786 | Train acc: 85.123 % ||| Val Loss: 15276.518 | Val acc: 84.876 %\n",
            "-------------------------------------------------------------------------------------------------------------------------------------------------------------------------------------\n"
          ]
        },
        {
          "metadata": {
            "tags": null
          },
          "name": "stderr",
          "output_type": "stream",
          "text": [
            "\u001b[32m[I 2023-03-17 21:43:45,322]\u001b[0m Trial 23 finished with value: 0.851016342053026 and parameters: {'optuna_batch_size': 292, 'optimizer': 'Adam', 'lr': 0.006405695529224112, 'hidden_dim': 701, 'alpha': 2, 'beta': 6, 'gamma': 4, 'delta': 10}. Best is trial 13 with value: 0.9585126527801691.\u001b[0m\n"
          ]
        },
        {
          "metadata": {
            "tags": null
          },
          "name": "stdout",
          "output_type": "stream",
          "text": [
            "Epoch: 10 / 10 | Reconst_loss: 288.906 | Kldiv loss: 95.623 | Classifcation loss: 1.874 | Constrast loss: 0.00 | Total loss: 15357.640 | Train acc: 85.102 % ||| Val Loss: 15807.526 | Val acc: 84.104 %\n",
            "-------------------------------------------------------------------------------------------------------------------------------------------------------------------------------------\n",
            "Epoch: 1 / 10 | Reconst_loss: 2711.100 | Kldiv loss: 2024.238 | Classifcation loss: 2.427 | Constrast loss: 378.62 | Total loss: 270816.910 | Train acc: 15.615 % ||| Val Loss: 111386.640 | Val acc: 25.139 %\n",
            "-------------------------------------------------------------------------------------------------------------------------------------------------------------------------------------\n",
            "Epoch: 2 / 10 | Reconst_loss: 3031.917 | Kldiv loss: 2039.525 | Classifcation loss: 2.449 | Constrast loss: 307.52 | Total loss: 101001.127 | Train acc: 30.236 % ||| Val Loss: 97153.302 | Val acc: 30.459 %\n",
            "-------------------------------------------------------------------------------------------------------------------------------------------------------------------------------------\n",
            "Epoch: 3 / 10 | Reconst_loss: 2508.332 | Kldiv loss: 2110.070 | Classifcation loss: 2.316 | Constrast loss: 170.17 | Total loss: 86291.979 | Train acc: 34.760 % ||| Val Loss: 79183.830 | Val acc: 39.899 %\n",
            "-------------------------------------------------------------------------------------------------------------------------------------------------------------------------------------\n",
            "Epoch: 4 / 10 | Reconst_loss: 2816.186 | Kldiv loss: 1187.395 | Classifcation loss: 2.342 | Constrast loss: 217.33 | Total loss: 74856.581 | Train acc: 42.383 % ||| Val Loss: 83622.762 | Val acc: 34.867 %\n",
            "-------------------------------------------------------------------------------------------------------------------------------------------------------------------------------------\n",
            "Epoch: 5 / 10 | Reconst_loss: 2043.714 | Kldiv loss: 1215.071 | Classifcation loss: 2.159 | Constrast loss: 150.93 | Total loss: 68193.807 | Train acc: 47.133 % ||| Val Loss: 62558.981 | Val acc: 49.454 %\n",
            "-------------------------------------------------------------------------------------------------------------------------------------------------------------------------------------\n",
            "Epoch: 6 / 10 | Reconst_loss: 2354.017 | Kldiv loss: 1578.383 | Classifcation loss: 2.246 | Constrast loss: 134.03 | Total loss: 61531.818 | Train acc: 50.901 % ||| Val Loss: 62750.752 | Val acc: 49.647 %\n",
            "-------------------------------------------------------------------------------------------------------------------------------------------------------------------------------------\n",
            "Epoch: 7 / 10 | Reconst_loss: 2492.330 | Kldiv loss: 1654.278 | Classifcation loss: 2.272 | Constrast loss: 136.67 | Total loss: 60103.654 | Train acc: 51.333 % ||| Val Loss: 58240.322 | Val acc: 52.344 %\n",
            "-------------------------------------------------------------------------------------------------------------------------------------------------------------------------------------\n",
            "Epoch: 8 / 10 | Reconst_loss: 2028.034 | Kldiv loss: 1389.961 | Classifcation loss: 2.131 | Constrast loss: 63.90 | Total loss: 55027.851 | Train acc: 53.753 % ||| Val Loss: 57511.734 | Val acc: 52.515 %\n",
            "-------------------------------------------------------------------------------------------------------------------------------------------------------------------------------------\n",
            "Epoch: 9 / 10 | Reconst_loss: 2400.252 | Kldiv loss: 1309.761 | Classifcation loss: 2.141 | Constrast loss: 49.97 | Total loss: 52804.356 | Train acc: 53.215 % ||| Val Loss: 59547.078 | Val acc: 47.120 %\n",
            "-------------------------------------------------------------------------------------------------------------------------------------------------------------------------------------\n"
          ]
        },
        {
          "metadata": {
            "tags": null
          },
          "name": "stderr",
          "output_type": "stream",
          "text": [
            "\u001b[32m[I 2023-03-17 21:47:44,906]\u001b[0m Trial 24 finished with value: 0.5342073809830278 and parameters: {'optuna_batch_size': 457, 'optimizer': 'Adam', 'lr': 0.008956022648415723, 'hidden_dim': 766, 'alpha': 9, 'beta': 9, 'gamma': 5, 'delta': 7}. Best is trial 13 with value: 0.9585126527801691.\u001b[0m\n"
          ]
        },
        {
          "metadata": {
            "tags": null
          },
          "name": "stdout",
          "output_type": "stream",
          "text": [
            "Epoch: 10 / 10 | Reconst_loss: 2571.707 | Kldiv loss: 1420.291 | Classifcation loss: 2.180 | Constrast loss: 67.64 | Total loss: 51538.060 | Train acc: 53.421 % ||| Val Loss: 49731.330 | Val acc: 54.228 %\n",
            "-------------------------------------------------------------------------------------------------------------------------------------------------------------------------------------\n",
            "Epoch: 1 / 10 | Reconst_loss: 15984.552 | Kldiv loss: 5480.967 | Classifcation loss: 2.464 | Constrast loss: 1190.73 | Total loss: 181489.538 | Train acc: 14.327 % ||| Val Loss: 68655.303 | Val acc: 26.582 %\n",
            "-------------------------------------------------------------------------------------------------------------------------------------------------------------------------------------\n",
            "Epoch: 2 / 10 | Reconst_loss: 12930.414 | Kldiv loss: 3816.604 | Classifcation loss: 2.326 | Constrast loss: 688.02 | Total loss: 62455.382 | Train acc: 32.227 % ||| Val Loss: 53289.197 | Val acc: 40.990 %\n",
            "-------------------------------------------------------------------------------------------------------------------------------------------------------------------------------------\n",
            "Epoch: 3 / 10 | Reconst_loss: 12750.584 | Kldiv loss: 3429.705 | Classifcation loss: 2.244 | Constrast loss: 464.61 | Total loss: 51033.480 | Train acc: 42.491 % ||| Val Loss: 46114.611 | Val acc: 49.404 %\n",
            "-------------------------------------------------------------------------------------------------------------------------------------------------------------------------------------\n",
            "Epoch: 4 / 10 | Reconst_loss: 11056.164 | Kldiv loss: 3013.087 | Classifcation loss: 2.162 | Constrast loss: 309.68 | Total loss: 45794.882 | Train acc: 53.650 % ||| Val Loss: 42281.566 | Val acc: 56.484 %\n",
            "-------------------------------------------------------------------------------------------------------------------------------------------------------------------------------------\n",
            "Epoch: 5 / 10 | Reconst_loss: 10942.414 | Kldiv loss: 2770.523 | Classifcation loss: 2.116 | Constrast loss: 349.99 | Total loss: 42272.119 | Train acc: 59.282 % ||| Val Loss: 40811.395 | Val acc: 59.592 %\n",
            "-------------------------------------------------------------------------------------------------------------------------------------------------------------------------------------\n",
            "Epoch: 6 / 10 | Reconst_loss: 8884.729 | Kldiv loss: 2948.950 | Classifcation loss: 2.058 | Constrast loss: 183.75 | Total loss: 40269.433 | Train acc: 62.605 % ||| Val Loss: 39747.146 | Val acc: 64.320 %\n",
            "-------------------------------------------------------------------------------------------------------------------------------------------------------------------------------------\n",
            "Epoch: 7 / 10 | Reconst_loss: 11498.515 | Kldiv loss: 2836.940 | Classifcation loss: 2.071 | Constrast loss: 150.13 | Total loss: 40184.448 | Train acc: 64.261 % ||| Val Loss: 37386.499 | Val acc: 64.517 %\n",
            "-------------------------------------------------------------------------------------------------------------------------------------------------------------------------------------\n",
            "Epoch: 8 / 10 | Reconst_loss: 9676.918 | Kldiv loss: 2629.127 | Classifcation loss: 2.032 | Constrast loss: 65.33 | Total loss: 38309.644 | Train acc: 65.669 % ||| Val Loss: 36316.887 | Val acc: 65.691 %\n",
            "-------------------------------------------------------------------------------------------------------------------------------------------------------------------------------------\n",
            "Epoch: 9 / 10 | Reconst_loss: 13283.271 | Kldiv loss: 3564.618 | Classifcation loss: 2.070 | Constrast loss: 194.94 | Total loss: 37852.959 | Train acc: 66.401 % ||| Val Loss: 45048.575 | Val acc: 61.798 %\n",
            "-------------------------------------------------------------------------------------------------------------------------------------------------------------------------------------\n"
          ]
        },
        {
          "metadata": {
            "tags": null
          },
          "name": "stderr",
          "output_type": "stream",
          "text": [
            "\u001b[32m[I 2023-03-17 21:53:09,348]\u001b[0m Trial 25 finished with value: 0.6595338499787371 and parameters: {'optuna_batch_size': 629, 'optimizer': 'Adam', 'lr': 0.00749941948764706, 'hidden_dim': 922, 'alpha': 5, 'beta': 4, 'gamma': 2, 'delta': 8}. Best is trial 13 with value: 0.9585126527801691.\u001b[0m\n"
          ]
        },
        {
          "metadata": {
            "tags": null
          },
          "name": "stdout",
          "output_type": "stream",
          "text": [
            "Epoch: 10 / 10 | Reconst_loss: 9861.122 | Kldiv loss: 2657.099 | Classifcation loss: 2.069 | Constrast loss: 90.34 | Total loss: 38432.900 | Train acc: 65.953 % ||| Val Loss: 35775.941 | Val acc: 65.911 %\n",
            "-------------------------------------------------------------------------------------------------------------------------------------------------------------------------------------\n",
            "Epoch: 1 / 10 | Reconst_loss: 741.172 | Kldiv loss: 90.918 | Classifcation loss: 1.958 | Constrast loss: 0.00 | Total loss: 8360.920 | Train acc: 46.124 % ||| Val Loss: 6183.538 | Val acc: 67.023 %\n",
            "-------------------------------------------------------------------------------------------------------------------------------------------------------------------------------------\n",
            "Epoch: 2 / 10 | Reconst_loss: 237.331 | Kldiv loss: 63.707 | Classifcation loss: 1.937 | Constrast loss: 0.00 | Total loss: 6120.688 | Train acc: 66.939 % ||| Val Loss: 5769.401 | Val acc: 69.153 %\n",
            "-------------------------------------------------------------------------------------------------------------------------------------------------------------------------------------\n",
            "Epoch: 3 / 10 | Reconst_loss: 260.411 | Kldiv loss: 70.894 | Classifcation loss: 2.073 | Constrast loss: 0.15 | Total loss: 5817.650 | Train acc: 69.779 % ||| Val Loss: 5574.037 | Val acc: 70.732 %\n",
            "-------------------------------------------------------------------------------------------------------------------------------------------------------------------------------------\n",
            "Epoch: 4 / 10 | Reconst_loss: 244.191 | Kldiv loss: 64.788 | Classifcation loss: 2.105 | Constrast loss: 0.00 | Total loss: 5911.147 | Train acc: 67.802 % ||| Val Loss: 5551.764 | Val acc: 69.944 %\n",
            "-------------------------------------------------------------------------------------------------------------------------------------------------------------------------------------\n",
            "Epoch: 5 / 10 | Reconst_loss: 424.443 | Kldiv loss: 59.969 | Classifcation loss: 1.767 | Constrast loss: 1.01 | Total loss: 5553.756 | Train acc: 71.477 % ||| Val Loss: 5638.866 | Val acc: 71.517 %\n",
            "-------------------------------------------------------------------------------------------------------------------------------------------------------------------------------------\n",
            "Epoch: 6 / 10 | Reconst_loss: 318.770 | Kldiv loss: 56.665 | Classifcation loss: 1.878 | Constrast loss: 0.01 | Total loss: 5545.214 | Train acc: 71.657 % ||| Val Loss: 5430.924 | Val acc: 70.956 %\n",
            "-------------------------------------------------------------------------------------------------------------------------------------------------------------------------------------\n",
            "Epoch: 7 / 10 | Reconst_loss: 307.046 | Kldiv loss: 65.530 | Classifcation loss: 1.845 | Constrast loss: 2.08 | Total loss: 5566.628 | Train acc: 71.507 % ||| Val Loss: 5656.036 | Val acc: 72.498 %\n",
            "-------------------------------------------------------------------------------------------------------------------------------------------------------------------------------------\n",
            "Epoch: 8 / 10 | Reconst_loss: 644.580 | Kldiv loss: 67.085 | Classifcation loss: 1.842 | Constrast loss: 0.10 | Total loss: 5367.859 | Train acc: 72.297 % ||| Val Loss: 5273.527 | Val acc: 72.698 %\n",
            "-------------------------------------------------------------------------------------------------------------------------------------------------------------------------------------\n",
            "Epoch: 9 / 10 | Reconst_loss: 354.093 | Kldiv loss: 65.875 | Classifcation loss: 1.769 | Constrast loss: 0.00 | Total loss: 5390.326 | Train acc: 72.099 % ||| Val Loss: 5152.265 | Val acc: 72.635 %\n",
            "-------------------------------------------------------------------------------------------------------------------------------------------------------------------------------------\n"
          ]
        },
        {
          "metadata": {
            "tags": null
          },
          "name": "stderr",
          "output_type": "stream",
          "text": [
            "\u001b[32m[I 2023-03-17 21:56:49,022]\u001b[0m Trial 26 finished with value: 0.7228221254636349 and parameters: {'optuna_batch_size': 100, 'optimizer': 'Adam', 'lr': 0.007883624293384156, 'hidden_dim': 615, 'alpha': 10, 'beta': 9, 'gamma': 9, 'delta': 6}. Best is trial 13 with value: 0.9585126527801691.\u001b[0m\n"
          ]
        },
        {
          "metadata": {
            "tags": null
          },
          "name": "stdout",
          "output_type": "stream",
          "text": [
            "Epoch: 10 / 10 | Reconst_loss: 191.094 | Kldiv loss: 66.293 | Classifcation loss: 1.864 | Constrast loss: 2.40 | Total loss: 5294.265 | Train acc: 72.282 % ||| Val Loss: 5216.642 | Val acc: 71.742 %\n",
            "-------------------------------------------------------------------------------------------------------------------------------------------------------------------------------------\n",
            "Epoch: 1 / 10 | Reconst_loss: 2090.786 | Kldiv loss: 494.907 | Classifcation loss: 2.085 | Constrast loss: 33.76 | Total loss: 26884.012 | Train acc: 34.618 % ||| Val Loss: 16261.555 | Val acc: 49.548 %\n",
            "-------------------------------------------------------------------------------------------------------------------------------------------------------------------------------------\n",
            "Epoch: 2 / 10 | Reconst_loss: 2456.979 | Kldiv loss: 463.135 | Classifcation loss: 2.098 | Constrast loss: 30.46 | Total loss: 14737.547 | Train acc: 59.848 % ||| Val Loss: 14717.703 | Val acc: 55.359 %\n",
            "-------------------------------------------------------------------------------------------------------------------------------------------------------------------------------------\n",
            "Epoch: 3 / 10 | Reconst_loss: 1924.287 | Kldiv loss: 488.028 | Classifcation loss: 2.135 | Constrast loss: 26.14 | Total loss: 13529.761 | Train acc: 62.570 % ||| Val Loss: 13536.879 | Val acc: 62.710 %\n",
            "-------------------------------------------------------------------------------------------------------------------------------------------------------------------------------------\n",
            "Epoch: 4 / 10 | Reconst_loss: 2120.570 | Kldiv loss: 481.892 | Classifcation loss: 2.109 | Constrast loss: 12.13 | Total loss: 13158.408 | Train acc: 62.942 % ||| Val Loss: 13202.003 | Val acc: 61.743 %\n",
            "-------------------------------------------------------------------------------------------------------------------------------------------------------------------------------------\n",
            "Epoch: 5 / 10 | Reconst_loss: 2126.571 | Kldiv loss: 545.043 | Classifcation loss: 1.932 | Constrast loss: 13.53 | Total loss: 12703.121 | Train acc: 69.659 % ||| Val Loss: 12847.496 | Val acc: 71.646 %\n",
            "-------------------------------------------------------------------------------------------------------------------------------------------------------------------------------------\n",
            "Epoch: 6 / 10 | Reconst_loss: 1962.408 | Kldiv loss: 480.447 | Classifcation loss: 1.922 | Constrast loss: 3.63 | Total loss: 12444.340 | Train acc: 72.006 % ||| Val Loss: 12376.644 | Val acc: 72.249 %\n",
            "-------------------------------------------------------------------------------------------------------------------------------------------------------------------------------------\n",
            "Epoch: 7 / 10 | Reconst_loss: 1842.648 | Kldiv loss: 453.148 | Classifcation loss: 1.995 | Constrast loss: 31.67 | Total loss: 12147.203 | Train acc: 72.412 % ||| Val Loss: 12351.608 | Val acc: 72.697 %\n",
            "-------------------------------------------------------------------------------------------------------------------------------------------------------------------------------------\n",
            "Epoch: 8 / 10 | Reconst_loss: 2134.936 | Kldiv loss: 484.210 | Classifcation loss: 1.890 | Constrast loss: 22.88 | Total loss: 11973.449 | Train acc: 72.461 % ||| Val Loss: 11731.356 | Val acc: 71.997 %\n",
            "-------------------------------------------------------------------------------------------------------------------------------------------------------------------------------------\n",
            "Epoch: 9 / 10 | Reconst_loss: 2007.586 | Kldiv loss: 471.895 | Classifcation loss: 1.942 | Constrast loss: 11.13 | Total loss: 11937.843 | Train acc: 72.668 % ||| Val Loss: 11626.013 | Val acc: 72.822 %\n",
            "-------------------------------------------------------------------------------------------------------------------------------------------------------------------------------------\n"
          ]
        },
        {
          "metadata": {
            "tags": null
          },
          "name": "stderr",
          "output_type": "stream",
          "text": [
            "\u001b[32m[I 2023-03-17 22:01:25,700]\u001b[0m Trial 27 finished with value: 0.7252547517814623 and parameters: {'optuna_batch_size': 218, 'optimizer': 'Adam', 'lr': 0.00894841336784372, 'hidden_dim': 796, 'alpha': 6, 'beta': 5, 'gamma': 6, 'delta': 9}. Best is trial 13 with value: 0.9585126527801691.\u001b[0m\n"
          ]
        },
        {
          "metadata": {
            "tags": null
          },
          "name": "stdout",
          "output_type": "stream",
          "text": [
            "Epoch: 10 / 10 | Reconst_loss: 1818.190 | Kldiv loss: 459.645 | Classifcation loss: 1.941 | Constrast loss: 29.27 | Total loss: 12104.037 | Train acc: 72.525 % ||| Val Loss: 13338.434 | Val acc: 70.299 %\n",
            "-------------------------------------------------------------------------------------------------------------------------------------------------------------------------------------\n",
            "Epoch: 1 / 10 | Reconst_loss: 8472.992 | Kldiv loss: 2207.210 | Classifcation loss: 2.315 | Constrast loss: 647.43 | Total loss: 112818.197 | Train acc: 21.148 % ||| Val Loss: 26806.516 | Val acc: 42.616 %\n",
            "-------------------------------------------------------------------------------------------------------------------------------------------------------------------------------------\n",
            "Epoch: 2 / 10 | Reconst_loss: 7429.760 | Kldiv loss: 2106.606 | Classifcation loss: 2.083 | Constrast loss: 328.82 | Total loss: 24553.121 | Train acc: 56.580 % ||| Val Loss: 21949.690 | Val acc: 63.894 %\n",
            "-------------------------------------------------------------------------------------------------------------------------------------------------------------------------------------\n",
            "Epoch: 3 / 10 | Reconst_loss: 6883.794 | Kldiv loss: 1742.555 | Classifcation loss: 2.061 | Constrast loss: 226.68 | Total loss: 21854.874 | Train acc: 66.121 % ||| Val Loss: 20717.033 | Val acc: 67.868 %\n",
            "-------------------------------------------------------------------------------------------------------------------------------------------------------------------------------------\n",
            "Epoch: 4 / 10 | Reconst_loss: 5665.962 | Kldiv loss: 1702.792 | Classifcation loss: 2.015 | Constrast loss: 131.88 | Total loss: 20436.087 | Train acc: 69.609 % ||| Val Loss: 19550.286 | Val acc: 69.092 %\n",
            "-------------------------------------------------------------------------------------------------------------------------------------------------------------------------------------\n",
            "Epoch: 5 / 10 | Reconst_loss: 6369.957 | Kldiv loss: 1676.673 | Classifcation loss: 2.062 | Constrast loss: 285.91 | Total loss: 19928.480 | Train acc: 70.761 % ||| Val Loss: 20180.676 | Val acc: 70.061 %\n",
            "-------------------------------------------------------------------------------------------------------------------------------------------------------------------------------------\n",
            "Epoch: 6 / 10 | Reconst_loss: 6053.167 | Kldiv loss: 1654.903 | Classifcation loss: 1.990 | Constrast loss: 149.06 | Total loss: 19423.284 | Train acc: 71.822 % ||| Val Loss: 19392.187 | Val acc: 70.380 %\n",
            "-------------------------------------------------------------------------------------------------------------------------------------------------------------------------------------\n",
            "Epoch: 7 / 10 | Reconst_loss: 6231.401 | Kldiv loss: 1674.741 | Classifcation loss: 1.974 | Constrast loss: 173.48 | Total loss: 18927.282 | Train acc: 72.734 % ||| Val Loss: 18071.004 | Val acc: 73.526 %\n",
            "-------------------------------------------------------------------------------------------------------------------------------------------------------------------------------------\n",
            "Epoch: 8 / 10 | Reconst_loss: 7455.706 | Kldiv loss: 1658.488 | Classifcation loss: 1.930 | Constrast loss: 109.16 | Total loss: 18767.383 | Train acc: 73.022 % ||| Val Loss: 17667.753 | Val acc: 73.405 %\n",
            "-------------------------------------------------------------------------------------------------------------------------------------------------------------------------------------\n",
            "Epoch: 9 / 10 | Reconst_loss: 5634.806 | Kldiv loss: 1754.323 | Classifcation loss: 1.977 | Constrast loss: 136.28 | Total loss: 18223.036 | Train acc: 73.944 % ||| Val Loss: 17560.573 | Val acc: 73.973 %\n",
            "-------------------------------------------------------------------------------------------------------------------------------------------------------------------------------------\n"
          ]
        },
        {
          "metadata": {
            "tags": null
          },
          "name": "stderr",
          "output_type": "stream",
          "text": [
            "\u001b[32m[I 2023-03-17 22:04:41,511]\u001b[0m Trial 28 finished with value: 0.7395787642982596 and parameters: {'optuna_batch_size': 322, 'optimizer': 'Adam', 'lr': 0.006651385422265094, 'hidden_dim': 688, 'alpha': 3, 'beta': 7, 'gamma': 8, 'delta': 10}. Best is trial 13 with value: 0.9585126527801691.\u001b[0m\n"
          ]
        },
        {
          "metadata": {
            "tags": null
          },
          "name": "stdout",
          "output_type": "stream",
          "text": [
            "Epoch: 10 / 10 | Reconst_loss: 5553.173 | Kldiv loss: 1673.617 | Classifcation loss: 1.943 | Constrast loss: 135.41 | Total loss: 18344.567 | Train acc: 73.958 % ||| Val Loss: 17317.134 | Val acc: 74.545 %\n",
            "-------------------------------------------------------------------------------------------------------------------------------------------------------------------------------------\n",
            "Epoch: 1 / 10 | Reconst_loss: 17118.949 | Kldiv loss: 27172.977 | Classifcation loss: 2.517 | Constrast loss: 11145.42 | Total loss: 18997192767.036 | Train acc: 9.631 % ||| Val Loss: 338203.035 | Val acc: 14.117 %\n",
            "-------------------------------------------------------------------------------------------------------------------------------------------------------------------------------------\n",
            "Epoch: 2 / 10 | Reconst_loss: 16787.412 | Kldiv loss: 8316.520 | Classifcation loss: 2.468 | Constrast loss: 2003.54 | Total loss: 212137.004 | Train acc: 15.447 % ||| Val Loss: 121415.633 | Val acc: 17.374 %\n",
            "-------------------------------------------------------------------------------------------------------------------------------------------------------------------------------------\n",
            "Epoch: 3 / 10 | Reconst_loss: 16654.592 | Kldiv loss: 7132.765 | Classifcation loss: 2.397 | Constrast loss: 1630.98 | Total loss: 118319.612 | Train acc: 25.461 % ||| Val Loss: 106318.886 | Val acc: 31.713 %\n",
            "-------------------------------------------------------------------------------------------------------------------------------------------------------------------------------------\n",
            "Epoch: 4 / 10 | Reconst_loss: 14628.399 | Kldiv loss: 6157.379 | Classifcation loss: 2.332 | Constrast loss: 1393.70 | Total loss: 105474.960 | Train acc: 35.404 % ||| Val Loss: 95497.567 | Val acc: 38.016 %\n",
            "-------------------------------------------------------------------------------------------------------------------------------------------------------------------------------------\n",
            "Epoch: 5 / 10 | Reconst_loss: 14302.326 | Kldiv loss: 5557.869 | Classifcation loss: 2.271 | Constrast loss: 956.57 | Total loss: 94812.682 | Train acc: 41.265 % ||| Val Loss: 87069.471 | Val acc: 44.504 %\n",
            "-------------------------------------------------------------------------------------------------------------------------------------------------------------------------------------\n",
            "Epoch: 6 / 10 | Reconst_loss: 12619.956 | Kldiv loss: 5084.192 | Classifcation loss: 2.214 | Constrast loss: 791.49 | Total loss: 87780.127 | Train acc: 49.159 % ||| Val Loss: 81009.565 | Val acc: 52.992 %\n",
            "-------------------------------------------------------------------------------------------------------------------------------------------------------------------------------------\n",
            "Epoch: 7 / 10 | Reconst_loss: 13279.726 | Kldiv loss: 5219.867 | Classifcation loss: 2.129 | Constrast loss: 743.73 | Total loss: 81545.389 | Train acc: 57.902 % ||| Val Loss: 74766.947 | Val acc: 62.900 %\n",
            "-------------------------------------------------------------------------------------------------------------------------------------------------------------------------------------\n",
            "Epoch: 8 / 10 | Reconst_loss: 13686.643 | Kldiv loss: 4633.617 | Classifcation loss: 2.089 | Constrast loss: 636.06 | Total loss: 77030.723 | Train acc: 62.841 % ||| Val Loss: 70467.069 | Val acc: 63.862 %\n",
            "-------------------------------------------------------------------------------------------------------------------------------------------------------------------------------------\n",
            "Epoch: 9 / 10 | Reconst_loss: 12282.602 | Kldiv loss: 4311.372 | Classifcation loss: 2.061 | Constrast loss: 665.57 | Total loss: 71693.174 | Train acc: 67.738 % ||| Val Loss: 65737.291 | Val acc: 71.131 %\n",
            "-------------------------------------------------------------------------------------------------------------------------------------------------------------------------------------\n"
          ]
        },
        {
          "metadata": {
            "tags": null
          },
          "name": "stderr",
          "output_type": "stream",
          "text": [
            "\u001b[32m[I 2023-03-17 22:09:50,057]\u001b[0m Trial 29 finished with value: 0.7065651591096465 and parameters: {'optuna_batch_size': 873, 'optimizer': 'Adam', 'lr': 0.0058229563164784335, 'hidden_dim': 903, 'alpha': 4, 'beta': 6, 'gamma': 6, 'delta': 1}. Best is trial 13 with value: 0.9585126527801691.\u001b[0m\n"
          ]
        },
        {
          "metadata": {
            "tags": null
          },
          "name": "stdout",
          "output_type": "stream",
          "text": [
            "Epoch: 10 / 10 | Reconst_loss: 11524.407 | Kldiv loss: 4011.198 | Classifcation loss: 2.014 | Constrast loss: 463.62 | Total loss: 69532.198 | Train acc: 70.657 % ||| Val Loss: 65560.180 | Val acc: 70.433 %\n",
            "-------------------------------------------------------------------------------------------------------------------------------------------------------------------------------------\n",
            "Epoch: 1 / 10 | Reconst_loss: 5584.519 | Kldiv loss: 1035.295 | Classifcation loss: 2.205 | Constrast loss: 174.87 | Total loss: 20327.566 | Train acc: 27.973 % ||| Val Loss: 13004.813 | Val acc: 51.527 %\n",
            "-------------------------------------------------------------------------------------------------------------------------------------------------------------------------------------\n",
            "Epoch: 2 / 10 | Reconst_loss: 4006.115 | Kldiv loss: 961.240 | Classifcation loss: 2.029 | Constrast loss: 96.71 | Total loss: 12268.373 | Train acc: 64.235 % ||| Val Loss: 11276.175 | Val acc: 74.471 %\n",
            "-------------------------------------------------------------------------------------------------------------------------------------------------------------------------------------\n",
            "Epoch: 3 / 10 | Reconst_loss: 4164.308 | Kldiv loss: 959.828 | Classifcation loss: 1.890 | Constrast loss: 92.72 | Total loss: 11157.176 | Train acc: 81.083 % ||| Val Loss: 10862.437 | Val acc: 82.670 %\n",
            "-------------------------------------------------------------------------------------------------------------------------------------------------------------------------------------\n",
            "Epoch: 4 / 10 | Reconst_loss: 3494.917 | Kldiv loss: 1078.735 | Classifcation loss: 1.868 | Constrast loss: 26.52 | Total loss: 10922.713 | Train acc: 83.400 % ||| Val Loss: 10458.559 | Val acc: 84.431 %\n",
            "-------------------------------------------------------------------------------------------------------------------------------------------------------------------------------------\n",
            "Epoch: 5 / 10 | Reconst_loss: 3805.283 | Kldiv loss: 1109.536 | Classifcation loss: 1.852 | Constrast loss: 41.00 | Total loss: 10628.441 | Train acc: 84.572 % ||| Val Loss: 10447.338 | Val acc: 85.096 %\n",
            "-------------------------------------------------------------------------------------------------------------------------------------------------------------------------------------\n",
            "Epoch: 6 / 10 | Reconst_loss: 3684.292 | Kldiv loss: 990.982 | Classifcation loss: 1.875 | Constrast loss: 50.58 | Total loss: 10393.539 | Train acc: 85.575 % ||| Val Loss: 10029.108 | Val acc: 85.751 %\n",
            "-------------------------------------------------------------------------------------------------------------------------------------------------------------------------------------\n",
            "Epoch: 7 / 10 | Reconst_loss: 4417.860 | Kldiv loss: 1082.633 | Classifcation loss: 1.841 | Constrast loss: 49.78 | Total loss: 10324.035 | Train acc: 85.861 % ||| Val Loss: 10593.911 | Val acc: 85.949 %\n",
            "-------------------------------------------------------------------------------------------------------------------------------------------------------------------------------------\n",
            "Epoch: 8 / 10 | Reconst_loss: 3849.775 | Kldiv loss: 1037.820 | Classifcation loss: 1.858 | Constrast loss: 58.30 | Total loss: 10342.040 | Train acc: 85.832 % ||| Val Loss: 9912.240 | Val acc: 87.057 %\n",
            "-------------------------------------------------------------------------------------------------------------------------------------------------------------------------------------\n",
            "Epoch: 9 / 10 | Reconst_loss: 4055.925 | Kldiv loss: 1029.859 | Classifcation loss: 1.809 | Constrast loss: 41.67 | Total loss: 10042.128 | Train acc: 86.489 % ||| Val Loss: 9705.321 | Val acc: 87.327 %\n",
            "-------------------------------------------------------------------------------------------------------------------------------------------------------------------------------------\n"
          ]
        },
        {
          "metadata": {
            "tags": null
          },
          "name": "stderr",
          "output_type": "stream",
          "text": [
            "\u001b[32m[I 2023-03-17 22:12:29,335]\u001b[0m Trial 30 finished with value: 0.8655823972734257 and parameters: {'optuna_batch_size': 192, 'optimizer': 'Adam', 'lr': 0.003473168184973162, 'hidden_dim': 576, 'alpha': 9, 'beta': 9, 'gamma': 4, 'delta': 5}. Best is trial 13 with value: 0.9585126527801691.\u001b[0m\n"
          ]
        },
        {
          "metadata": {
            "tags": null
          },
          "name": "stdout",
          "output_type": "stream",
          "text": [
            "Epoch: 10 / 10 | Reconst_loss: 3383.451 | Kldiv loss: 927.857 | Classifcation loss: 1.844 | Constrast loss: 36.70 | Total loss: 9943.738 | Train acc: 86.558 % ||| Val Loss: 9696.381 | Val acc: 85.927 %\n",
            "-------------------------------------------------------------------------------------------------------------------------------------------------------------------------------------\n",
            "Epoch: 1 / 10 | Reconst_loss: 1361.179 | Kldiv loss: 367.532 | Classifcation loss: 2.262 | Constrast loss: 27.67 | Total loss: 34946.978 | Train acc: 26.228 % ||| Val Loss: 18289.577 | Val acc: 39.761 %\n",
            "-------------------------------------------------------------------------------------------------------------------------------------------------------------------------------------\n",
            "Epoch: 2 / 10 | Reconst_loss: 1250.481 | Kldiv loss: 303.385 | Classifcation loss: 2.281 | Constrast loss: 14.31 | Total loss: 16889.849 | Train acc: 51.488 % ||| Val Loss: 17379.762 | Val acc: 57.627 %\n",
            "-------------------------------------------------------------------------------------------------------------------------------------------------------------------------------------\n",
            "Epoch: 3 / 10 | Reconst_loss: 1485.749 | Kldiv loss: 322.912 | Classifcation loss: 2.052 | Constrast loss: 15.34 | Total loss: 15128.558 | Train acc: 62.962 % ||| Val Loss: 14266.596 | Val acc: 65.899 %\n",
            "-------------------------------------------------------------------------------------------------------------------------------------------------------------------------------------\n",
            "Epoch: 4 / 10 | Reconst_loss: 1162.276 | Kldiv loss: 358.839 | Classifcation loss: 2.131 | Constrast loss: 3.47 | Total loss: 14462.614 | Train acc: 66.408 % ||| Val Loss: 13853.189 | Val acc: 67.390 %\n",
            "-------------------------------------------------------------------------------------------------------------------------------------------------------------------------------------\n",
            "Epoch: 5 / 10 | Reconst_loss: 1378.024 | Kldiv loss: 339.604 | Classifcation loss: 1.999 | Constrast loss: 4.80 | Total loss: 14252.192 | Train acc: 68.226 % ||| Val Loss: 14266.353 | Val acc: 70.110 %\n",
            "-------------------------------------------------------------------------------------------------------------------------------------------------------------------------------------\n",
            "Epoch: 6 / 10 | Reconst_loss: 1267.359 | Kldiv loss: 352.320 | Classifcation loss: 2.044 | Constrast loss: 2.42 | Total loss: 13725.453 | Train acc: 69.443 % ||| Val Loss: 13196.121 | Val acc: 71.724 %\n",
            "-------------------------------------------------------------------------------------------------------------------------------------------------------------------------------------\n",
            "Epoch: 7 / 10 | Reconst_loss: 1025.138 | Kldiv loss: 301.357 | Classifcation loss: 1.998 | Constrast loss: 4.88 | Total loss: 13752.473 | Train acc: 70.480 % ||| Val Loss: 13861.546 | Val acc: 70.253 %\n",
            "-------------------------------------------------------------------------------------------------------------------------------------------------------------------------------------\n",
            "Epoch: 8 / 10 | Reconst_loss: 1100.759 | Kldiv loss: 320.500 | Classifcation loss: 1.934 | Constrast loss: 8.04 | Total loss: 13646.442 | Train acc: 71.741 % ||| Val Loss: 14309.553 | Val acc: 72.032 %\n",
            "-------------------------------------------------------------------------------------------------------------------------------------------------------------------------------------\n",
            "Epoch: 9 / 10 | Reconst_loss: 1270.405 | Kldiv loss: 328.276 | Classifcation loss: 1.928 | Constrast loss: 2.09 | Total loss: 13415.929 | Train acc: 72.503 % ||| Val Loss: 12973.665 | Val acc: 73.247 %\n",
            "-------------------------------------------------------------------------------------------------------------------------------------------------------------------------------------\n"
          ]
        },
        {
          "metadata": {
            "tags": null
          },
          "name": "stderr",
          "output_type": "stream",
          "text": [
            "\u001b[32m[I 2023-03-17 22:14:00,342]\u001b[0m Trial 31 finished with value: 0.7379051360928809 and parameters: {'optuna_batch_size': 232, 'optimizer': 'Adam', 'lr': 0.007692580192017772, 'hidden_dim': 416, 'alpha': 6, 'beta': 6, 'gamma': 8, 'delta': 10}. Best is trial 13 with value: 0.9585126527801691.\u001b[0m\n"
          ]
        },
        {
          "metadata": {
            "tags": null
          },
          "name": "stdout",
          "output_type": "stream",
          "text": [
            "Epoch: 10 / 10 | Reconst_loss: 1238.823 | Kldiv loss: 317.001 | Classifcation loss: 1.995 | Constrast loss: 5.25 | Total loss: 13064.492 | Train acc: 73.791 % ||| Val Loss: 12707.081 | Val acc: 74.520 %\n",
            "-------------------------------------------------------------------------------------------------------------------------------------------------------------------------------------\n",
            "Epoch: 1 / 10 | Reconst_loss: 4352.940 | Kldiv loss: 836.918 | Classifcation loss: 2.000 | Constrast loss: 103.99 | Total loss: 14315.502 | Train acc: 47.890 % ||| Val Loss: 9941.148 | Val acc: 81.784 %\n",
            "-------------------------------------------------------------------------------------------------------------------------------------------------------------------------------------\n",
            "Epoch: 2 / 10 | Reconst_loss: 2780.765 | Kldiv loss: 743.765 | Classifcation loss: 1.880 | Constrast loss: 59.33 | Total loss: 9633.628 | Train acc: 79.709 % ||| Val Loss: 9112.092 | Val acc: 80.511 %\n",
            "-------------------------------------------------------------------------------------------------------------------------------------------------------------------------------------\n",
            "Epoch: 3 / 10 | Reconst_loss: 2697.168 | Kldiv loss: 790.105 | Classifcation loss: 1.891 | Constrast loss: 52.69 | Total loss: 9254.757 | Train acc: 82.620 % ||| Val Loss: 8904.703 | Val acc: 84.607 %\n",
            "-------------------------------------------------------------------------------------------------------------------------------------------------------------------------------------\n",
            "Epoch: 4 / 10 | Reconst_loss: 3052.679 | Kldiv loss: 751.735 | Classifcation loss: 1.878 | Constrast loss: 22.20 | Total loss: 9010.986 | Train acc: 83.882 % ||| Val Loss: 8882.637 | Val acc: 84.324 %\n",
            "-------------------------------------------------------------------------------------------------------------------------------------------------------------------------------------\n",
            "Epoch: 5 / 10 | Reconst_loss: 3579.794 | Kldiv loss: 730.930 | Classifcation loss: 1.837 | Constrast loss: 21.03 | Total loss: 8910.738 | Train acc: 84.799 % ||| Val Loss: 8665.818 | Val acc: 85.665 %\n",
            "-------------------------------------------------------------------------------------------------------------------------------------------------------------------------------------\n",
            "Epoch: 6 / 10 | Reconst_loss: 3164.146 | Kldiv loss: 753.304 | Classifcation loss: 1.831 | Constrast loss: 24.03 | Total loss: 8889.880 | Train acc: 85.156 % ||| Val Loss: 8644.973 | Val acc: 86.623 %\n",
            "-------------------------------------------------------------------------------------------------------------------------------------------------------------------------------------\n",
            "Epoch: 7 / 10 | Reconst_loss: 3188.542 | Kldiv loss: 764.331 | Classifcation loss: 1.852 | Constrast loss: 75.86 | Total loss: 8714.680 | Train acc: 86.398 % ||| Val Loss: 8489.957 | Val acc: 87.487 %\n",
            "-------------------------------------------------------------------------------------------------------------------------------------------------------------------------------------\n",
            "Epoch: 8 / 10 | Reconst_loss: 3140.633 | Kldiv loss: 814.276 | Classifcation loss: 1.811 | Constrast loss: 26.70 | Total loss: 8638.620 | Train acc: 87.386 % ||| Val Loss: 8587.044 | Val acc: 88.809 %\n",
            "-------------------------------------------------------------------------------------------------------------------------------------------------------------------------------------\n",
            "Epoch: 9 / 10 | Reconst_loss: 2816.321 | Kldiv loss: 703.319 | Classifcation loss: 1.828 | Constrast loss: 103.81 | Total loss: 8466.299 | Train acc: 88.022 % ||| Val Loss: 8254.151 | Val acc: 88.293 %\n",
            "-------------------------------------------------------------------------------------------------------------------------------------------------------------------------------------\n"
          ]
        },
        {
          "metadata": {
            "tags": null
          },
          "name": "stderr",
          "output_type": "stream",
          "text": [
            "\u001b[32m[I 2023-03-17 22:15:42,775]\u001b[0m Trial 32 finished with value: 0.8821542978491471 and parameters: {'optuna_batch_size': 162, 'optimizer': 'Adam', 'lr': 0.007192001840018754, 'hidden_dim': 406, 'alpha': 8, 'beta': 6, 'gamma': 7, 'delta': 9}. Best is trial 13 with value: 0.9585126527801691.\u001b[0m\n"
          ]
        },
        {
          "metadata": {
            "tags": null
          },
          "name": "stdout",
          "output_type": "stream",
          "text": [
            "Epoch: 10 / 10 | Reconst_loss: 3137.014 | Kldiv loss: 837.225 | Classifcation loss: 1.869 | Constrast loss: 24.63 | Total loss: 8478.676 | Train acc: 88.215 % ||| Val Loss: 8975.413 | Val acc: 80.883 %\n",
            "-------------------------------------------------------------------------------------------------------------------------------------------------------------------------------------\n",
            "Epoch: 1 / 10 | Reconst_loss: 2591.026 | Kldiv loss: 556.283 | Classifcation loss: 2.107 | Constrast loss: 31.49 | Total loss: 27847.503 | Train acc: 35.798 % ||| Val Loss: 15750.288 | Val acc: 64.382 %\n",
            "-------------------------------------------------------------------------------------------------------------------------------------------------------------------------------------\n",
            "Epoch: 2 / 10 | Reconst_loss: 1891.663 | Kldiv loss: 442.702 | Classifcation loss: 2.013 | Constrast loss: 19.41 | Total loss: 15153.106 | Train acc: 72.790 % ||| Val Loss: 13900.472 | Val acc: 77.118 %\n",
            "-------------------------------------------------------------------------------------------------------------------------------------------------------------------------------------\n",
            "Epoch: 3 / 10 | Reconst_loss: 2824.976 | Kldiv loss: 502.315 | Classifcation loss: 1.922 | Constrast loss: 13.20 | Total loss: 14292.178 | Train acc: 76.600 % ||| Val Loss: 13440.061 | Val acc: 76.309 %\n",
            "-------------------------------------------------------------------------------------------------------------------------------------------------------------------------------------\n",
            "Epoch: 4 / 10 | Reconst_loss: 1991.645 | Kldiv loss: 485.246 | Classifcation loss: 1.859 | Constrast loss: 14.03 | Total loss: 13931.367 | Train acc: 78.223 % ||| Val Loss: 13806.879 | Val acc: 78.492 %\n",
            "-------------------------------------------------------------------------------------------------------------------------------------------------------------------------------------\n",
            "Epoch: 5 / 10 | Reconst_loss: 2444.608 | Kldiv loss: 545.142 | Classifcation loss: 1.994 | Constrast loss: 17.75 | Total loss: 13626.599 | Train acc: 79.187 % ||| Val Loss: 13097.787 | Val acc: 79.775 %\n",
            "-------------------------------------------------------------------------------------------------------------------------------------------------------------------------------------\n",
            "Epoch: 6 / 10 | Reconst_loss: 1800.668 | Kldiv loss: 516.631 | Classifcation loss: 1.874 | Constrast loss: 3.18 | Total loss: 13278.668 | Train acc: 80.094 % ||| Val Loss: 12835.447 | Val acc: 79.804 %\n",
            "-------------------------------------------------------------------------------------------------------------------------------------------------------------------------------------\n",
            "Epoch: 7 / 10 | Reconst_loss: 1726.026 | Kldiv loss: 489.707 | Classifcation loss: 1.849 | Constrast loss: 2.72 | Total loss: 13129.619 | Train acc: 80.213 % ||| Val Loss: 12745.361 | Val acc: 80.835 %\n",
            "-------------------------------------------------------------------------------------------------------------------------------------------------------------------------------------\n",
            "Epoch: 8 / 10 | Reconst_loss: 1857.831 | Kldiv loss: 510.220 | Classifcation loss: 1.962 | Constrast loss: 1.17 | Total loss: 13052.589 | Train acc: 80.294 % ||| Val Loss: 12649.159 | Val acc: 80.331 %\n",
            "-------------------------------------------------------------------------------------------------------------------------------------------------------------------------------------\n",
            "Epoch: 9 / 10 | Reconst_loss: 1730.382 | Kldiv loss: 511.594 | Classifcation loss: 1.852 | Constrast loss: 4.13 | Total loss: 13042.804 | Train acc: 80.427 % ||| Val Loss: 12668.443 | Val acc: 80.022 %\n",
            "-------------------------------------------------------------------------------------------------------------------------------------------------------------------------------------\n"
          ]
        },
        {
          "metadata": {
            "tags": null
          },
          "name": "stderr",
          "output_type": "stream",
          "text": [
            "\u001b[32m[I 2023-03-17 22:16:39,469]\u001b[0m Trial 33 finished with value: 0.8045969092775709 and parameters: {'optuna_batch_size': 240, 'optimizer': 'Adam', 'lr': 0.008306464287010845, 'hidden_dim': 269, 'alpha': 6, 'beta': 4, 'gamma': 10, 'delta': 10}. Best is trial 13 with value: 0.9585126527801691.\u001b[0m\n"
          ]
        },
        {
          "metadata": {
            "tags": null
          },
          "name": "stdout",
          "output_type": "stream",
          "text": [
            "Epoch: 10 / 10 | Reconst_loss: 1645.873 | Kldiv loss: 505.368 | Classifcation loss: 1.885 | Constrast loss: 8.97 | Total loss: 12861.383 | Train acc: 80.460 % ||| Val Loss: 12370.849 | Val acc: 81.146 %\n",
            "-------------------------------------------------------------------------------------------------------------------------------------------------------------------------------------\n",
            "Epoch: 1 / 10 | Reconst_loss: nan | Kldiv loss: nan | Classifcation loss: nan | Constrast loss: nan | Total loss: nan | Train acc: 0.090 % ||| Val Loss: nan | Val acc: 0.000 %\n",
            "-------------------------------------------------------------------------------------------------------------------------------------------------------------------------------------\n",
            "Epoch: 2 / 10 | Reconst_loss: nan | Kldiv loss: nan | Classifcation loss: nan | Constrast loss: nan | Total loss: nan | Train acc: 0.000 % ||| Val Loss: nan | Val acc: 0.000 %\n",
            "-------------------------------------------------------------------------------------------------------------------------------------------------------------------------------------\n",
            "Epoch: 3 / 10 | Reconst_loss: nan | Kldiv loss: nan | Classifcation loss: nan | Constrast loss: nan | Total loss: nan | Train acc: 0.000 % ||| Val Loss: nan | Val acc: 0.000 %\n",
            "-------------------------------------------------------------------------------------------------------------------------------------------------------------------------------------\n"
          ]
        },
        {
          "metadata": {
            "tags": null
          },
          "name": "stderr",
          "output_type": "stream",
          "text": [
            "\u001b[32m[I 2023-03-17 22:17:10,316]\u001b[0m Trial 34 pruned. \u001b[0m\n"
          ]
        },
        {
          "metadata": {
            "tags": null
          },
          "name": "stdout",
          "output_type": "stream",
          "text": [
            "Epoch: 4 / 10 | Reconst_loss: nan | Kldiv loss: nan | Classifcation loss: nan | Constrast loss: nan | Total loss: nan | Train acc: 0.000 % ||| Val Loss: nan | Val acc: 0.000 %\n",
            "-------------------------------------------------------------------------------------------------------------------------------------------------------------------------------------\n",
            "Epoch: 1 / 10 | Reconst_loss: 7753.036 | Kldiv loss: 2168.865 | Classifcation loss: 2.400 | Constrast loss: 323.49 | Total loss: 90320.761 | Train acc: 17.283 % ||| Val Loss: 42449.871 | Val acc: 28.869 %\n",
            "-------------------------------------------------------------------------------------------------------------------------------------------------------------------------------------\n",
            "Epoch: 2 / 10 | Reconst_loss: 6015.333 | Kldiv loss: 1618.491 | Classifcation loss: 2.181 | Constrast loss: 86.14 | Total loss: 36828.631 | Train acc: 39.665 % ||| Val Loss: 30655.893 | Val acc: 51.672 %\n",
            "-------------------------------------------------------------------------------------------------------------------------------------------------------------------------------------\n",
            "Epoch: 3 / 10 | Reconst_loss: 5285.134 | Kldiv loss: 1573.932 | Classifcation loss: 2.095 | Constrast loss: 83.58 | Total loss: 29706.862 | Train acc: 57.548 % ||| Val Loss: 27311.926 | Val acc: 61.821 %\n",
            "-------------------------------------------------------------------------------------------------------------------------------------------------------------------------------------\n",
            "Epoch: 4 / 10 | Reconst_loss: 4869.919 | Kldiv loss: 1221.906 | Classifcation loss: 2.051 | Constrast loss: 107.84 | Total loss: 27183.524 | Train acc: 64.312 % ||| Val Loss: 26431.355 | Val acc: 64.268 %\n",
            "-------------------------------------------------------------------------------------------------------------------------------------------------------------------------------------\n",
            "Epoch: 5 / 10 | Reconst_loss: 5019.381 | Kldiv loss: 1276.955 | Classifcation loss: 1.996 | Constrast loss: 38.95 | Total loss: 26542.117 | Train acc: 66.564 % ||| Val Loss: 25459.763 | Val acc: 67.410 %\n",
            "-------------------------------------------------------------------------------------------------------------------------------------------------------------------------------------\n",
            "Epoch: 6 / 10 | Reconst_loss: 4745.823 | Kldiv loss: 1234.020 | Classifcation loss: 2.008 | Constrast loss: 23.74 | Total loss: 26083.097 | Train acc: 68.051 % ||| Val Loss: 24560.677 | Val acc: 68.339 %\n",
            "-------------------------------------------------------------------------------------------------------------------------------------------------------------------------------------\n",
            "Epoch: 7 / 10 | Reconst_loss: 4730.227 | Kldiv loss: 1324.091 | Classifcation loss: 1.989 | Constrast loss: 36.04 | Total loss: 25561.110 | Train acc: 69.437 % ||| Val Loss: 24370.024 | Val acc: 69.959 %\n",
            "-------------------------------------------------------------------------------------------------------------------------------------------------------------------------------------\n",
            "Epoch: 8 / 10 | Reconst_loss: 4746.940 | Kldiv loss: 1421.894 | Classifcation loss: 2.040 | Constrast loss: 130.34 | Total loss: 24819.736 | Train acc: 70.414 % ||| Val Loss: 27021.938 | Val acc: 68.673 %\n",
            "-------------------------------------------------------------------------------------------------------------------------------------------------------------------------------------\n",
            "Epoch: 9 / 10 | Reconst_loss: 4640.649 | Kldiv loss: 1167.347 | Classifcation loss: 2.021 | Constrast loss: 72.92 | Total loss: 25881.369 | Train acc: 69.788 % ||| Val Loss: 23894.655 | Val acc: 70.163 %\n",
            "-------------------------------------------------------------------------------------------------------------------------------------------------------------------------------------\n"
          ]
        },
        {
          "metadata": {
            "tags": null
          },
          "name": "stderr",
          "output_type": "stream",
          "text": [
            "\u001b[32m[I 2023-03-17 22:18:55,657]\u001b[0m Trial 35 finished with value: 0.7101332393157628 and parameters: {'optuna_batch_size': 427, 'optimizer': 'Adam', 'lr': 0.007797240029161409, 'hidden_dim': 473, 'alpha': 7, 'beta': 5, 'gamma': 8, 'delta': 7}. Best is trial 13 with value: 0.9585126527801691.\u001b[0m\n"
          ]
        },
        {
          "metadata": {
            "tags": null
          },
          "name": "stdout",
          "output_type": "stream",
          "text": [
            "Epoch: 10 / 10 | Reconst_loss: 4358.368 | Kldiv loss: 1261.811 | Classifcation loss: 1.975 | Constrast loss: 31.97 | Total loss: 24268.093 | Train acc: 71.013 % ||| Val Loss: 23978.374 | Val acc: 71.093 %\n",
            "-------------------------------------------------------------------------------------------------------------------------------------------------------------------------------------\n",
            "Epoch: 1 / 10 | Reconst_loss: 8364.857 | Kldiv loss: 2552.162 | Classifcation loss: 2.306 | Constrast loss: 484.65 | Total loss: 146680850.619 | Train acc: 25.674 % ||| Val Loss: 36005.690 | Val acc: 39.825 %\n",
            "-------------------------------------------------------------------------------------------------------------------------------------------------------------------------------------\n",
            "Epoch: 2 / 10 | Reconst_loss: 6091.584 | Kldiv loss: 1845.425 | Classifcation loss: 2.163 | Constrast loss: 254.24 | Total loss: 34226.500 | Train acc: 48.186 % ||| Val Loss: 28798.812 | Val acc: 55.615 %\n",
            "-------------------------------------------------------------------------------------------------------------------------------------------------------------------------------------\n",
            "Epoch: 3 / 10 | Reconst_loss: 6487.583 | Kldiv loss: 1441.301 | Classifcation loss: 2.079 | Constrast loss: 149.16 | Total loss: 28354.208 | Train acc: 59.214 % ||| Val Loss: 24767.589 | Val acc: 66.524 %\n",
            "-------------------------------------------------------------------------------------------------------------------------------------------------------------------------------------\n",
            "Epoch: 4 / 10 | Reconst_loss: 6168.620 | Kldiv loss: 1503.636 | Classifcation loss: 2.039 | Constrast loss: 104.02 | Total loss: 25540.559 | Train acc: 66.324 % ||| Val Loss: 23018.585 | Val acc: 69.525 %\n",
            "-------------------------------------------------------------------------------------------------------------------------------------------------------------------------------------\n",
            "Epoch: 5 / 10 | Reconst_loss: 5714.208 | Kldiv loss: 1256.745 | Classifcation loss: 1.988 | Constrast loss: 39.90 | Total loss: 23872.206 | Train acc: 69.619 % ||| Val Loss: 21479.225 | Val acc: 71.592 %\n",
            "-------------------------------------------------------------------------------------------------------------------------------------------------------------------------------------\n",
            "Epoch: 6 / 10 | Reconst_loss: 4710.518 | Kldiv loss: 1302.673 | Classifcation loss: 1.970 | Constrast loss: 95.88 | Total loss: 23016.695 | Train acc: 71.160 % ||| Val Loss: 20854.694 | Val acc: 72.968 %\n",
            "-------------------------------------------------------------------------------------------------------------------------------------------------------------------------------------\n",
            "Epoch: 7 / 10 | Reconst_loss: 4897.367 | Kldiv loss: 1263.833 | Classifcation loss: 1.890 | Constrast loss: 64.67 | Total loss: 22593.650 | Train acc: 75.533 % ||| Val Loss: 20544.374 | Val acc: 79.767 %\n",
            "-------------------------------------------------------------------------------------------------------------------------------------------------------------------------------------\n",
            "Epoch: 8 / 10 | Reconst_loss: 4232.500 | Kldiv loss: 1223.685 | Classifcation loss: 1.873 | Constrast loss: 55.28 | Total loss: 22043.843 | Train acc: 77.950 % ||| Val Loss: 20028.823 | Val acc: 80.224 %\n",
            "-------------------------------------------------------------------------------------------------------------------------------------------------------------------------------------\n",
            "Epoch: 9 / 10 | Reconst_loss: 5486.047 | Kldiv loss: 1336.824 | Classifcation loss: 1.917 | Constrast loss: 98.24 | Total loss: 21597.077 | Train acc: 79.088 % ||| Val Loss: 20414.303 | Val acc: 80.874 %\n",
            "-------------------------------------------------------------------------------------------------------------------------------------------------------------------------------------\n"
          ]
        },
        {
          "metadata": {
            "tags": null
          },
          "name": "stderr",
          "output_type": "stream",
          "text": [
            "\u001b[32m[I 2023-03-17 22:19:27,842]\u001b[0m Trial 36 finished with value: 0.7939859206214348 and parameters: {'optuna_batch_size': 341, 'optimizer': 'RMSprop', 'lr': 0.005137927056127781, 'hidden_dim': 190, 'alpha': 4, 'beta': 7, 'gamma': 7, 'delta': 9}. Best is trial 13 with value: 0.9585126527801691.\u001b[0m\n"
          ]
        },
        {
          "metadata": {
            "tags": null
          },
          "name": "stdout",
          "output_type": "stream",
          "text": [
            "Epoch: 10 / 10 | Reconst_loss: 4496.913 | Kldiv loss: 1006.083 | Classifcation loss: 1.918 | Constrast loss: 110.20 | Total loss: 21248.659 | Train acc: 79.399 % ||| Val Loss: 19549.494 | Val acc: 81.886 %\n",
            "-------------------------------------------------------------------------------------------------------------------------------------------------------------------------------------\n",
            "Epoch: 1 / 10 | Reconst_loss: 17993.145 | Kldiv loss: 7443.473 | Classifcation loss: 2.472 | Constrast loss: 1712.99 | Total loss: 606975.451 | Train acc: 11.625 % ||| Val Loss: 124886.676 | Val acc: 15.955 %\n",
            "-------------------------------------------------------------------------------------------------------------------------------------------------------------------------------------\n",
            "Epoch: 2 / 10 | Reconst_loss: 15254.309 | Kldiv loss: 4160.787 | Classifcation loss: 2.400 | Constrast loss: 662.04 | Total loss: 106182.077 | Train acc: 25.018 % ||| Val Loss: 89010.114 | Val acc: 30.341 %\n",
            "-------------------------------------------------------------------------------------------------------------------------------------------------------------------------------------\n",
            "Epoch: 3 / 10 | Reconst_loss: 14683.566 | Kldiv loss: 3688.431 | Classifcation loss: 2.295 | Constrast loss: 417.35 | Total loss: 86389.032 | Train acc: 36.091 % ||| Val Loss: 76229.455 | Val acc: 40.293 %\n",
            "-------------------------------------------------------------------------------------------------------------------------------------------------------------------------------------\n",
            "Epoch: 4 / 10 | Reconst_loss: 13368.885 | Kldiv loss: 3405.007 | Classifcation loss: 2.259 | Constrast loss: 266.62 | Total loss: 76852.175 | Train acc: 45.250 % ||| Val Loss: 69998.884 | Val acc: 48.052 %\n",
            "-------------------------------------------------------------------------------------------------------------------------------------------------------------------------------------\n",
            "Epoch: 5 / 10 | Reconst_loss: 13416.657 | Kldiv loss: 3295.006 | Classifcation loss: 2.209 | Constrast loss: 282.18 | Total loss: 71791.950 | Train acc: 50.417 % ||| Val Loss: 65947.225 | Val acc: 51.895 %\n",
            "-------------------------------------------------------------------------------------------------------------------------------------------------------------------------------------\n",
            "Epoch: 6 / 10 | Reconst_loss: 12228.289 | Kldiv loss: 3252.131 | Classifcation loss: 2.122 | Constrast loss: 129.30 | Total loss: 68966.241 | Train acc: 53.091 % ||| Val Loss: 62563.268 | Val acc: 54.123 %\n",
            "-------------------------------------------------------------------------------------------------------------------------------------------------------------------------------------\n",
            "Epoch: 7 / 10 | Reconst_loss: 12607.636 | Kldiv loss: 2923.794 | Classifcation loss: 2.149 | Constrast loss: 134.02 | Total loss: 68710.613 | Train acc: 54.604 % ||| Val Loss: 61504.216 | Val acc: 53.484 %\n",
            "-------------------------------------------------------------------------------------------------------------------------------------------------------------------------------------\n",
            "Epoch: 8 / 10 | Reconst_loss: 12335.772 | Kldiv loss: 3168.565 | Classifcation loss: 2.109 | Constrast loss: 79.18 | Total loss: 62812.350 | Train acc: 55.450 % ||| Val Loss: 58714.580 | Val acc: 56.007 %\n",
            "-------------------------------------------------------------------------------------------------------------------------------------------------------------------------------------\n",
            "Epoch: 9 / 10 | Reconst_loss: 11634.096 | Kldiv loss: 2720.787 | Classifcation loss: 2.139 | Constrast loss: 179.93 | Total loss: 60745.589 | Train acc: 56.724 % ||| Val Loss: 57248.334 | Val acc: 56.665 %\n",
            "-------------------------------------------------------------------------------------------------------------------------------------------------------------------------------------\n"
          ]
        },
        {
          "metadata": {
            "tags": null
          },
          "name": "stderr",
          "output_type": "stream",
          "text": [
            "\u001b[32m[I 2023-03-17 22:22:54,746]\u001b[0m Trial 37 finished with value: 0.5659768704520326 and parameters: {'optuna_batch_size': 982, 'optimizer': 'Adam', 'lr': 0.009299914383117709, 'hidden_dim': 742, 'alpha': 9, 'beta': 10, 'gamma': 9, 'delta': 4}. Best is trial 13 with value: 0.9585126527801691.\u001b[0m\n"
          ]
        },
        {
          "metadata": {
            "tags": null
          },
          "name": "stdout",
          "output_type": "stream",
          "text": [
            "Epoch: 10 / 10 | Reconst_loss: 11772.044 | Kldiv loss: 3042.487 | Classifcation loss: 2.170 | Constrast loss: 148.06 | Total loss: 61631.886 | Train acc: 56.598 % ||| Val Loss: 57383.009 | Val acc: 56.046 %\n",
            "-------------------------------------------------------------------------------------------------------------------------------------------------------------------------------------\n",
            "Epoch: 1 / 10 | Reconst_loss: 15448.298 | Kldiv loss: 5052.582 | Classifcation loss: 2.390 | Constrast loss: 1104.02 | Total loss: 202341.868 | Train acc: 18.226 % ||| Val Loss: 67434.665 | Val acc: 28.451 %\n",
            "-------------------------------------------------------------------------------------------------------------------------------------------------------------------------------------\n",
            "Epoch: 2 / 10 | Reconst_loss: 11765.569 | Kldiv loss: 3766.021 | Classifcation loss: 2.246 | Constrast loss: 373.32 | Total loss: 58207.401 | Train acc: 36.997 % ||| Val Loss: 47976.481 | Val acc: 48.638 %\n",
            "-------------------------------------------------------------------------------------------------------------------------------------------------------------------------------------\n",
            "Epoch: 3 / 10 | Reconst_loss: 14021.676 | Kldiv loss: 4202.298 | Classifcation loss: 2.139 | Constrast loss: 273.27 | Total loss: 48504.079 | Train acc: 56.578 % ||| Val Loss: 55136.230 | Val acc: 64.279 %\n",
            "-------------------------------------------------------------------------------------------------------------------------------------------------------------------------------------\n",
            "Epoch: 4 / 10 | Reconst_loss: 12006.180 | Kldiv loss: 2679.800 | Classifcation loss: 2.032 | Constrast loss: 170.08 | Total loss: 47300.517 | Train acc: 69.847 % ||| Val Loss: 42235.085 | Val acc: 70.987 %\n",
            "-------------------------------------------------------------------------------------------------------------------------------------------------------------------------------------\n",
            "Epoch: 5 / 10 | Reconst_loss: 11081.200 | Kldiv loss: 2856.900 | Classifcation loss: 1.944 | Constrast loss: 219.30 | Total loss: 41779.492 | Train acc: 75.887 % ||| Val Loss: 39089.075 | Val acc: 76.225 %\n",
            "-------------------------------------------------------------------------------------------------------------------------------------------------------------------------------------\n",
            "Epoch: 6 / 10 | Reconst_loss: 11432.839 | Kldiv loss: 2879.008 | Classifcation loss: 1.975 | Constrast loss: 130.11 | Total loss: 40159.231 | Train acc: 77.047 % ||| Val Loss: 37970.177 | Val acc: 76.437 %\n",
            "-------------------------------------------------------------------------------------------------------------------------------------------------------------------------------------\n",
            "Epoch: 7 / 10 | Reconst_loss: 10528.479 | Kldiv loss: 2923.413 | Classifcation loss: 1.957 | Constrast loss: 133.07 | Total loss: 40431.836 | Train acc: 76.954 % ||| Val Loss: 37371.376 | Val acc: 77.895 %\n",
            "-------------------------------------------------------------------------------------------------------------------------------------------------------------------------------------\n",
            "Epoch: 8 / 10 | Reconst_loss: 11235.863 | Kldiv loss: 2795.347 | Classifcation loss: 1.935 | Constrast loss: 36.80 | Total loss: 38608.920 | Train acc: 77.883 % ||| Val Loss: 36721.259 | Val acc: 77.653 %\n",
            "-------------------------------------------------------------------------------------------------------------------------------------------------------------------------------------\n",
            "Epoch: 9 / 10 | Reconst_loss: 9851.613 | Kldiv loss: 2709.336 | Classifcation loss: 1.907 | Constrast loss: 129.08 | Total loss: 38335.551 | Train acc: 78.368 % ||| Val Loss: 36039.243 | Val acc: 78.933 %\n",
            "-------------------------------------------------------------------------------------------------------------------------------------------------------------------------------------\n"
          ]
        },
        {
          "metadata": {
            "tags": null
          },
          "name": "stderr",
          "output_type": "stream",
          "text": [
            "\u001b[32m[I 2023-03-17 22:25:48,544]\u001b[0m Trial 38 finished with value: 0.7873141972296023 and parameters: {'optuna_batch_size': 683, 'optimizer': 'Adam', 'lr': 0.00856343166839375, 'hidden_dim': 663, 'alpha': 8, 'beta': 6, 'gamma': 3, 'delta': 6}. Best is trial 13 with value: 0.9585126527801691.\u001b[0m\n"
          ]
        },
        {
          "metadata": {
            "tags": null
          },
          "name": "stdout",
          "output_type": "stream",
          "text": [
            "Epoch: 10 / 10 | Reconst_loss: 11917.406 | Kldiv loss: 2726.142 | Classifcation loss: 1.901 | Constrast loss: 84.45 | Total loss: 37335.606 | Train acc: 78.731 % ||| Val Loss: 36024.586 | Val acc: 79.510 %\n",
            "-------------------------------------------------------------------------------------------------------------------------------------------------------------------------------------\n",
            "Epoch: 1 / 10 | Reconst_loss: nan | Kldiv loss: nan | Classifcation loss: nan | Constrast loss: nan | Total loss: nan | Train acc: 0.084 % ||| Val Loss: nan | Val acc: 0.000 %\n",
            "-------------------------------------------------------------------------------------------------------------------------------------------------------------------------------------\n",
            "Epoch: 2 / 10 | Reconst_loss: nan | Kldiv loss: nan | Classifcation loss: nan | Constrast loss: nan | Total loss: nan | Train acc: 0.000 % ||| Val Loss: nan | Val acc: 0.000 %\n",
            "-------------------------------------------------------------------------------------------------------------------------------------------------------------------------------------\n",
            "Epoch: 3 / 10 | Reconst_loss: nan | Kldiv loss: nan | Classifcation loss: nan | Constrast loss: nan | Total loss: nan | Train acc: 0.000 % ||| Val Loss: nan | Val acc: 0.000 %\n",
            "-------------------------------------------------------------------------------------------------------------------------------------------------------------------------------------\n"
          ]
        },
        {
          "metadata": {
            "tags": null
          },
          "name": "stderr",
          "output_type": "stream",
          "text": [
            "\u001b[32m[I 2023-03-17 22:26:46,803]\u001b[0m Trial 39 pruned. \u001b[0m\n"
          ]
        },
        {
          "metadata": {
            "tags": null
          },
          "name": "stdout",
          "output_type": "stream",
          "text": [
            "Epoch: 4 / 10 | Reconst_loss: nan | Kldiv loss: nan | Classifcation loss: nan | Constrast loss: nan | Total loss: nan | Train acc: 0.000 % ||| Val Loss: nan | Val acc: 0.000 %\n",
            "-------------------------------------------------------------------------------------------------------------------------------------------------------------------------------------\n",
            "Epoch: 1 / 10 | Reconst_loss: 2656.685 | Kldiv loss: 629.447 | Classifcation loss: 2.058 | Constrast loss: 24.34 | Total loss: 19135.002 | Train acc: 39.534 % ||| Val Loss: 13348.094 | Val acc: 62.436 %\n",
            "-------------------------------------------------------------------------------------------------------------------------------------------------------------------------------------\n",
            "Epoch: 2 / 10 | Reconst_loss: 2764.121 | Kldiv loss: 542.284 | Classifcation loss: 1.998 | Constrast loss: 73.76 | Total loss: 13126.262 | Train acc: 70.967 % ||| Val Loss: 13133.704 | Val acc: 69.950 %\n",
            "-------------------------------------------------------------------------------------------------------------------------------------------------------------------------------------\n",
            "Epoch: 3 / 10 | Reconst_loss: 2754.903 | Kldiv loss: 598.700 | Classifcation loss: 1.954 | Constrast loss: 46.11 | Total loss: 12575.696 | Train acc: 72.320 % ||| Val Loss: 12186.183 | Val acc: 74.206 %\n",
            "-------------------------------------------------------------------------------------------------------------------------------------------------------------------------------------\n",
            "Epoch: 4 / 10 | Reconst_loss: 3111.292 | Kldiv loss: 626.608 | Classifcation loss: 1.860 | Constrast loss: 40.49 | Total loss: 12031.401 | Train acc: 75.048 % ||| Val Loss: 11721.112 | Val acc: 75.922 %\n",
            "-------------------------------------------------------------------------------------------------------------------------------------------------------------------------------------\n",
            "Epoch: 5 / 10 | Reconst_loss: 2719.476 | Kldiv loss: 590.834 | Classifcation loss: 1.884 | Constrast loss: 44.61 | Total loss: 11863.131 | Train acc: 75.470 % ||| Val Loss: 11598.391 | Val acc: 75.559 %\n",
            "-------------------------------------------------------------------------------------------------------------------------------------------------------------------------------------\n",
            "Epoch: 6 / 10 | Reconst_loss: 2491.859 | Kldiv loss: 619.883 | Classifcation loss: 1.968 | Constrast loss: 25.44 | Total loss: 11650.333 | Train acc: 76.259 % ||| Val Loss: 11513.085 | Val acc: 76.868 %\n",
            "-------------------------------------------------------------------------------------------------------------------------------------------------------------------------------------\n",
            "Epoch: 7 / 10 | Reconst_loss: 2267.843 | Kldiv loss: 672.437 | Classifcation loss: 1.912 | Constrast loss: 10.71 | Total loss: 11592.312 | Train acc: 76.485 % ||| Val Loss: 11350.220 | Val acc: 76.512 %\n",
            "-------------------------------------------------------------------------------------------------------------------------------------------------------------------------------------\n",
            "Epoch: 8 / 10 | Reconst_loss: 2422.265 | Kldiv loss: 652.525 | Classifcation loss: 1.951 | Constrast loss: 1.27 | Total loss: 11447.326 | Train acc: 76.487 % ||| Val Loss: 11072.839 | Val acc: 76.939 %\n",
            "-------------------------------------------------------------------------------------------------------------------------------------------------------------------------------------\n",
            "Epoch: 9 / 10 | Reconst_loss: 2774.309 | Kldiv loss: 687.381 | Classifcation loss: 1.915 | Constrast loss: 48.36 | Total loss: 11384.476 | Train acc: 76.661 % ||| Val Loss: 11908.100 | Val acc: 76.664 %\n",
            "-------------------------------------------------------------------------------------------------------------------------------------------------------------------------------------\n"
          ]
        },
        {
          "metadata": {
            "tags": null
          },
          "name": "stderr",
          "output_type": "stream",
          "text": [
            "\u001b[32m[I 2023-03-17 22:28:49,471]\u001b[0m Trial 40 finished with value: 0.7660211320754714 and parameters: {'optuna_batch_size': 212, 'optimizer': 'Adam', 'lr': 0.009493342237403375, 'hidden_dim': 487, 'alpha': 3, 'beta': 7, 'gamma': 5, 'delta': 7}. Best is trial 13 with value: 0.9585126527801691.\u001b[0m\n"
          ]
        },
        {
          "metadata": {
            "tags": null
          },
          "name": "stdout",
          "output_type": "stream",
          "text": [
            "Epoch: 10 / 10 | Reconst_loss: 2101.018 | Kldiv loss: 635.575 | Classifcation loss: 1.912 | Constrast loss: 29.07 | Total loss: 11120.655 | Train acc: 76.602 % ||| Val Loss: 11205.487 | Val acc: 76.807 %\n",
            "-------------------------------------------------------------------------------------------------------------------------------------------------------------------------------------\n",
            "Epoch: 1 / 10 | Reconst_loss: 921.935 | Kldiv loss: 212.310 | Classifcation loss: 2.157 | Constrast loss: 10.36 | Total loss: 15795.739 | Train acc: 37.350 % ||| Val Loss: 10167.649 | Val acc: 59.145 %\n",
            "-------------------------------------------------------------------------------------------------------------------------------------------------------------------------------------\n",
            "Epoch: 2 / 10 | Reconst_loss: 836.308 | Kldiv loss: 242.588 | Classifcation loss: 2.110 | Constrast loss: 18.55 | Total loss: 8851.350 | Train acc: 63.185 % ||| Val Loss: 8057.305 | Val acc: 66.808 %\n",
            "-------------------------------------------------------------------------------------------------------------------------------------------------------------------------------------\n",
            "Epoch: 3 / 10 | Reconst_loss: 1168.333 | Kldiv loss: 218.190 | Classifcation loss: 1.979 | Constrast loss: 6.83 | Total loss: 8021.069 | Train acc: 70.983 % ||| Val Loss: 7935.766 | Val acc: 72.063 %\n",
            "-------------------------------------------------------------------------------------------------------------------------------------------------------------------------------------\n",
            "Epoch: 4 / 10 | Reconst_loss: 1166.806 | Kldiv loss: 242.986 | Classifcation loss: 1.978 | Constrast loss: 7.22 | Total loss: 7867.437 | Train acc: 72.308 % ||| Val Loss: 7607.831 | Val acc: 73.158 %\n",
            "-------------------------------------------------------------------------------------------------------------------------------------------------------------------------------------\n",
            "Epoch: 5 / 10 | Reconst_loss: 905.431 | Kldiv loss: 222.310 | Classifcation loss: 1.974 | Constrast loss: 6.30 | Total loss: 7667.468 | Train acc: 73.106 % ||| Val Loss: 7530.615 | Val acc: 72.944 %\n",
            "-------------------------------------------------------------------------------------------------------------------------------------------------------------------------------------\n",
            "Epoch: 6 / 10 | Reconst_loss: 1208.549 | Kldiv loss: 240.182 | Classifcation loss: 1.938 | Constrast loss: 3.79 | Total loss: 7624.159 | Train acc: 73.304 % ||| Val Loss: 8063.352 | Val acc: 73.315 %\n",
            "-------------------------------------------------------------------------------------------------------------------------------------------------------------------------------------\n",
            "Epoch: 7 / 10 | Reconst_loss: 594.964 | Kldiv loss: 231.270 | Classifcation loss: 1.937 | Constrast loss: 0.09 | Total loss: 8133.890 | Train acc: 69.802 % ||| Val Loss: 7907.157 | Val acc: 69.863 %\n",
            "-------------------------------------------------------------------------------------------------------------------------------------------------------------------------------------\n",
            "Epoch: 8 / 10 | Reconst_loss: 917.854 | Kldiv loss: 255.845 | Classifcation loss: 1.877 | Constrast loss: 6.08 | Total loss: 7757.022 | Train acc: 69.583 % ||| Val Loss: 7561.125 | Val acc: 72.653 %\n",
            "-------------------------------------------------------------------------------------------------------------------------------------------------------------------------------------\n",
            "Epoch: 9 / 10 | Reconst_loss: 854.541 | Kldiv loss: 230.257 | Classifcation loss: 2.064 | Constrast loss: 20.66 | Total loss: 7416.106 | Train acc: 73.575 % ||| Val Loss: 7522.000 | Val acc: 73.290 %\n",
            "-------------------------------------------------------------------------------------------------------------------------------------------------------------------------------------\n"
          ]
        },
        {
          "metadata": {
            "tags": null
          },
          "name": "stderr",
          "output_type": "stream",
          "text": [
            "\u001b[32m[I 2023-03-17 22:30:23,536]\u001b[0m Trial 41 finished with value: 0.7384910236613483 and parameters: {'optuna_batch_size': 142, 'optimizer': 'Adam', 'lr': 0.006913921172482509, 'hidden_dim': 363, 'alpha': 8, 'beta': 6, 'gamma': 7, 'delta': 9}. Best is trial 13 with value: 0.9585126527801691.\u001b[0m\n"
          ]
        },
        {
          "metadata": {
            "tags": null
          },
          "name": "stdout",
          "output_type": "stream",
          "text": [
            "Epoch: 10 / 10 | Reconst_loss: 824.684 | Kldiv loss: 221.376 | Classifcation loss: 1.862 | Constrast loss: 0.77 | Total loss: 7384.989 | Train acc: 73.849 % ||| Val Loss: 8009.551 | Val acc: 72.079 %\n",
            "-------------------------------------------------------------------------------------------------------------------------------------------------------------------------------------\n",
            "Epoch: 1 / 10 | Reconst_loss: 3412.385 | Kldiv loss: 923.808 | Classifcation loss: 2.192 | Constrast loss: 84.74 | Total loss: 15468.651 | Train acc: 32.081 % ||| Val Loss: 10407.880 | Val acc: 50.732 %\n",
            "-------------------------------------------------------------------------------------------------------------------------------------------------------------------------------------\n",
            "Epoch: 2 / 10 | Reconst_loss: 3276.074 | Kldiv loss: 826.013 | Classifcation loss: 2.121 | Constrast loss: 123.51 | Total loss: 10247.994 | Train acc: 58.798 % ||| Val Loss: 9596.364 | Val acc: 64.979 %\n",
            "-------------------------------------------------------------------------------------------------------------------------------------------------------------------------------------\n",
            "Epoch: 3 / 10 | Reconst_loss: 3714.520 | Kldiv loss: 932.349 | Classifcation loss: 2.129 | Constrast loss: 67.71 | Total loss: 9736.288 | Train acc: 64.594 % ||| Val Loss: 9778.984 | Val acc: 65.427 %\n",
            "-------------------------------------------------------------------------------------------------------------------------------------------------------------------------------------\n",
            "Epoch: 4 / 10 | Reconst_loss: 3126.084 | Kldiv loss: 833.271 | Classifcation loss: 2.078 | Constrast loss: 98.17 | Total loss: 9456.025 | Train acc: 66.025 % ||| Val Loss: 9133.122 | Val acc: 64.481 %\n",
            "-------------------------------------------------------------------------------------------------------------------------------------------------------------------------------------\n",
            "Epoch: 5 / 10 | Reconst_loss: 3275.582 | Kldiv loss: 883.634 | Classifcation loss: 2.001 | Constrast loss: 65.02 | Total loss: 9340.424 | Train acc: 65.861 % ||| Val Loss: 9203.802 | Val acc: 66.013 %\n",
            "-------------------------------------------------------------------------------------------------------------------------------------------------------------------------------------\n",
            "Epoch: 6 / 10 | Reconst_loss: 3376.937 | Kldiv loss: 782.802 | Classifcation loss: 1.984 | Constrast loss: 38.98 | Total loss: 9038.090 | Train acc: 67.315 % ||| Val Loss: 8602.893 | Val acc: 68.936 %\n",
            "-------------------------------------------------------------------------------------------------------------------------------------------------------------------------------------\n",
            "Epoch: 7 / 10 | Reconst_loss: 2511.094 | Kldiv loss: 727.064 | Classifcation loss: 2.024 | Constrast loss: 57.39 | Total loss: 8980.575 | Train acc: 68.031 % ||| Val Loss: 8716.705 | Val acc: 67.752 %\n",
            "-------------------------------------------------------------------------------------------------------------------------------------------------------------------------------------\n",
            "Epoch: 8 / 10 | Reconst_loss: 3293.579 | Kldiv loss: 827.071 | Classifcation loss: 2.056 | Constrast loss: 52.26 | Total loss: 8738.473 | Train acc: 68.623 % ||| Val Loss: 8768.824 | Val acc: 68.029 %\n",
            "-------------------------------------------------------------------------------------------------------------------------------------------------------------------------------------\n",
            "Epoch: 9 / 10 | Reconst_loss: 3052.273 | Kldiv loss: 923.561 | Classifcation loss: 1.997 | Constrast loss: 38.06 | Total loss: 8809.895 | Train acc: 69.032 % ||| Val Loss: 8901.321 | Val acc: 69.503 %\n",
            "-------------------------------------------------------------------------------------------------------------------------------------------------------------------------------------\n"
          ]
        },
        {
          "metadata": {
            "tags": null
          },
          "name": "stderr",
          "output_type": "stream",
          "text": [
            "\u001b[32m[I 2023-03-17 22:32:05,700]\u001b[0m Trial 42 finished with value: 0.6885089888815197 and parameters: {'optuna_batch_size': 162, 'optimizer': 'Adam', 'lr': 0.007352333007469954, 'hidden_dim': 409, 'alpha': 7, 'beta': 6, 'gamma': 7, 'delta': 10}. Best is trial 13 with value: 0.9585126527801691.\u001b[0m\n"
          ]
        },
        {
          "metadata": {
            "tags": null
          },
          "name": "stdout",
          "output_type": "stream",
          "text": [
            "Epoch: 10 / 10 | Reconst_loss: 2454.071 | Kldiv loss: 790.753 | Classifcation loss: 2.000 | Constrast loss: 39.18 | Total loss: 8769.244 | Train acc: 68.851 % ||| Val Loss: 8302.345 | Val acc: 69.100 %\n",
            "-------------------------------------------------------------------------------------------------------------------------------------------------------------------------------------\n",
            "Epoch: 1 / 10 | Reconst_loss: 432.746 | Kldiv loss: 76.464 | Classifcation loss: 2.048 | Constrast loss: 0.00 | Total loss: 14251.057 | Train acc: 39.084 % ||| Val Loss: 8881.381 | Val acc: 74.774 %\n",
            "-------------------------------------------------------------------------------------------------------------------------------------------------------------------------------------\n",
            "Epoch: 2 / 10 | Reconst_loss: 221.627 | Kldiv loss: 69.706 | Classifcation loss: 1.813 | Constrast loss: 0.52 | Total loss: 8341.132 | Train acc: 79.668 % ||| Val Loss: 8135.258 | Val acc: 79.563 %\n",
            "-------------------------------------------------------------------------------------------------------------------------------------------------------------------------------------\n",
            "Epoch: 3 / 10 | Reconst_loss: 192.993 | Kldiv loss: 52.888 | Classifcation loss: 1.908 | Constrast loss: 1.80 | Total loss: 7863.548 | Train acc: 82.401 % ||| Val Loss: 8113.295 | Val acc: 85.438 %\n",
            "-------------------------------------------------------------------------------------------------------------------------------------------------------------------------------------\n",
            "Epoch: 4 / 10 | Reconst_loss: 183.718 | Kldiv loss: 60.125 | Classifcation loss: 1.699 | Constrast loss: 1.06 | Total loss: 7710.168 | Train acc: 86.574 % ||| Val Loss: 7762.857 | Val acc: 86.780 %\n",
            "-------------------------------------------------------------------------------------------------------------------------------------------------------------------------------------\n",
            "Epoch: 5 / 10 | Reconst_loss: 293.579 | Kldiv loss: 66.373 | Classifcation loss: 1.782 | Constrast loss: 0.21 | Total loss: 7646.361 | Train acc: 87.250 % ||| Val Loss: 7804.126 | Val acc: 85.341 %\n",
            "-------------------------------------------------------------------------------------------------------------------------------------------------------------------------------------\n",
            "Epoch: 6 / 10 | Reconst_loss: 194.606 | Kldiv loss: 66.376 | Classifcation loss: 1.841 | Constrast loss: 0.00 | Total loss: 7621.623 | Train acc: 87.330 % ||| Val Loss: 7449.804 | Val acc: 86.944 %\n",
            "-------------------------------------------------------------------------------------------------------------------------------------------------------------------------------------\n",
            "Epoch: 7 / 10 | Reconst_loss: 273.888 | Kldiv loss: 67.889 | Classifcation loss: 1.842 | Constrast loss: 0.00 | Total loss: 7461.777 | Train acc: 88.261 % ||| Val Loss: 7427.699 | Val acc: 88.363 %\n",
            "-------------------------------------------------------------------------------------------------------------------------------------------------------------------------------------\n",
            "Epoch: 8 / 10 | Reconst_loss: 316.913 | Kldiv loss: 65.120 | Classifcation loss: 1.855 | Constrast loss: 1.54 | Total loss: 7407.161 | Train acc: 88.671 % ||| Val Loss: 7170.263 | Val acc: 88.191 %\n",
            "-------------------------------------------------------------------------------------------------------------------------------------------------------------------------------------\n",
            "Epoch: 9 / 10 | Reconst_loss: 223.994 | Kldiv loss: 60.041 | Classifcation loss: 1.994 | Constrast loss: 0.00 | Total loss: 7459.446 | Train acc: 88.257 % ||| Val Loss: 7333.500 | Val acc: 88.272 %\n",
            "-------------------------------------------------------------------------------------------------------------------------------------------------------------------------------------\n"
          ]
        },
        {
          "metadata": {
            "tags": null
          },
          "name": "stderr",
          "output_type": "stream",
          "text": [
            "\u001b[32m[I 2023-03-17 22:32:41,191]\u001b[0m Trial 43 finished with value: 0.890690464219875 and parameters: {'optuna_batch_size': 136, 'optimizer': 'Adam', 'lr': 0.008035587730045925, 'hidden_dim': 112, 'alpha': 10, 'beta': 8, 'gamma': 8, 'delta': 8}. Best is trial 13 with value: 0.9585126527801691.\u001b[0m\n"
          ]
        },
        {
          "metadata": {
            "tags": null
          },
          "name": "stdout",
          "output_type": "stream",
          "text": [
            "Epoch: 10 / 10 | Reconst_loss: 444.848 | Kldiv loss: 65.751 | Classifcation loss: 1.697 | Constrast loss: 0.00 | Total loss: 7339.653 | Train acc: 89.069 % ||| Val Loss: 7207.568 | Val acc: 88.925 %\n",
            "-------------------------------------------------------------------------------------------------------------------------------------------------------------------------------------\n",
            "Epoch: 1 / 10 | Reconst_loss: 1785.990 | Kldiv loss: 343.054 | Classifcation loss: 2.180 | Constrast loss: 15.34 | Total loss: 12624.224 | Train acc: 40.326 % ||| Val Loss: 8936.405 | Val acc: 56.229 %\n",
            "-------------------------------------------------------------------------------------------------------------------------------------------------------------------------------------\n",
            "Epoch: 2 / 10 | Reconst_loss: 1338.455 | Kldiv loss: 310.754 | Classifcation loss: 2.047 | Constrast loss: 2.98 | Total loss: 8165.113 | Train acc: 68.080 % ||| Val Loss: 7488.571 | Val acc: 72.258 %\n",
            "-------------------------------------------------------------------------------------------------------------------------------------------------------------------------------------\n",
            "Epoch: 3 / 10 | Reconst_loss: 1106.409 | Kldiv loss: 316.981 | Classifcation loss: 1.917 | Constrast loss: 7.51 | Total loss: 7596.288 | Train acc: 73.907 % ||| Val Loss: 7321.148 | Val acc: 75.808 %\n",
            "-------------------------------------------------------------------------------------------------------------------------------------------------------------------------------------\n",
            "Epoch: 4 / 10 | Reconst_loss: 1357.668 | Kldiv loss: 277.528 | Classifcation loss: 1.887 | Constrast loss: 15.71 | Total loss: 7392.975 | Train acc: 76.890 % ||| Val Loss: 7232.748 | Val acc: 77.767 %\n",
            "-------------------------------------------------------------------------------------------------------------------------------------------------------------------------------------\n",
            "Epoch: 5 / 10 | Reconst_loss: 1803.630 | Kldiv loss: 335.850 | Classifcation loss: 1.947 | Constrast loss: 6.80 | Total loss: 7297.939 | Train acc: 77.668 % ||| Val Loss: 7093.211 | Val acc: 76.632 %\n",
            "-------------------------------------------------------------------------------------------------------------------------------------------------------------------------------------\n",
            "Epoch: 6 / 10 | Reconst_loss: 1600.769 | Kldiv loss: 345.918 | Classifcation loss: 1.889 | Constrast loss: 9.98 | Total loss: 7230.599 | Train acc: 78.188 % ||| Val Loss: 7059.923 | Val acc: 78.074 %\n",
            "-------------------------------------------------------------------------------------------------------------------------------------------------------------------------------------\n",
            "Epoch: 7 / 10 | Reconst_loss: 996.702 | Kldiv loss: 281.700 | Classifcation loss: 1.938 | Constrast loss: 9.68 | Total loss: 7186.174 | Train acc: 78.065 % ||| Val Loss: 7455.593 | Val acc: 76.954 %\n",
            "-------------------------------------------------------------------------------------------------------------------------------------------------------------------------------------\n",
            "Epoch: 8 / 10 | Reconst_loss: 1581.949 | Kldiv loss: 342.311 | Classifcation loss: 1.939 | Constrast loss: 5.96 | Total loss: 7120.830 | Train acc: 78.463 % ||| Val Loss: 6850.703 | Val acc: 78.822 %\n",
            "-------------------------------------------------------------------------------------------------------------------------------------------------------------------------------------\n",
            "Epoch: 9 / 10 | Reconst_loss: 1134.328 | Kldiv loss: 323.452 | Classifcation loss: 1.883 | Constrast loss: 2.49 | Total loss: 7022.708 | Train acc: 81.388 % ||| Val Loss: 6964.707 | Val acc: 83.512 %\n",
            "-------------------------------------------------------------------------------------------------------------------------------------------------------------------------------------\n"
          ]
        },
        {
          "metadata": {
            "tags": null
          },
          "name": "stderr",
          "output_type": "stream",
          "text": [
            "\u001b[32m[I 2023-03-17 22:33:19,646]\u001b[0m Trial 44 finished with value: 0.8233977854206871 and parameters: {'optuna_batch_size': 131, 'optimizer': 'Adam', 'lr': 0.007959446123360563, 'hidden_dim': 128, 'alpha': 10, 'beta': 8, 'gamma': 8, 'delta': 8}. Best is trial 13 with value: 0.9585126527801691.\u001b[0m\n"
          ]
        },
        {
          "metadata": {
            "tags": null
          },
          "name": "stdout",
          "output_type": "stream",
          "text": [
            "Epoch: 10 / 10 | Reconst_loss: 1026.043 | Kldiv loss: 283.778 | Classifcation loss: 1.795 | Constrast loss: 1.15 | Total loss: 7080.740 | Train acc: 82.340 % ||| Val Loss: 6755.640 | Val acc: 82.886 %\n",
            "-------------------------------------------------------------------------------------------------------------------------------------------------------------------------------------\n",
            "Epoch: 1 / 10 | Reconst_loss: nan | Kldiv loss: nan | Classifcation loss: nan | Constrast loss: nan | Total loss: nan | Train acc: 0.082 % ||| Val Loss: nan | Val acc: 0.000 %\n",
            "-------------------------------------------------------------------------------------------------------------------------------------------------------------------------------------\n",
            "Epoch: 2 / 10 | Reconst_loss: nan | Kldiv loss: nan | Classifcation loss: nan | Constrast loss: nan | Total loss: nan | Train acc: 0.000 % ||| Val Loss: nan | Val acc: 0.000 %\n",
            "-------------------------------------------------------------------------------------------------------------------------------------------------------------------------------------\n",
            "Epoch: 3 / 10 | Reconst_loss: nan | Kldiv loss: nan | Classifcation loss: nan | Constrast loss: nan | Total loss: nan | Train acc: 0.000 % ||| Val Loss: nan | Val acc: 0.000 %\n",
            "-------------------------------------------------------------------------------------------------------------------------------------------------------------------------------------\n"
          ]
        },
        {
          "metadata": {
            "tags": null
          },
          "name": "stderr",
          "output_type": "stream",
          "text": [
            "\u001b[32m[I 2023-03-17 22:33:36,003]\u001b[0m Trial 45 pruned. \u001b[0m\n"
          ]
        },
        {
          "metadata": {
            "tags": null
          },
          "name": "stdout",
          "output_type": "stream",
          "text": [
            "Epoch: 4 / 10 | Reconst_loss: nan | Kldiv loss: nan | Classifcation loss: nan | Constrast loss: nan | Total loss: nan | Train acc: 0.000 % ||| Val Loss: nan | Val acc: 0.000 %\n",
            "-------------------------------------------------------------------------------------------------------------------------------------------------------------------------------------\n",
            "Epoch: 1 / 10 | Reconst_loss: 4621.256 | Kldiv loss: 991.100 | Classifcation loss: 2.152 | Constrast loss: 151.25 | Total loss: 26010.042 | Train acc: 29.585 % ||| Val Loss: 13132.603 | Val acc: 61.734 %\n",
            "-------------------------------------------------------------------------------------------------------------------------------------------------------------------------------------\n",
            "Epoch: 2 / 10 | Reconst_loss: 4757.000 | Kldiv loss: 1061.616 | Classifcation loss: 2.019 | Constrast loss: 152.08 | Total loss: 12379.208 | Train acc: 71.340 % ||| Val Loss: 11957.113 | Val acc: 70.975 %\n",
            "-------------------------------------------------------------------------------------------------------------------------------------------------------------------------------------\n",
            "Epoch: 3 / 10 | Reconst_loss: 4174.165 | Kldiv loss: 1028.603 | Classifcation loss: 1.941 | Constrast loss: 103.36 | Total loss: 11594.215 | Train acc: 77.657 % ||| Val Loss: 11273.154 | Val acc: 81.373 %\n",
            "-------------------------------------------------------------------------------------------------------------------------------------------------------------------------------------\n",
            "Epoch: 4 / 10 | Reconst_loss: 4511.988 | Kldiv loss: 1057.767 | Classifcation loss: 1.876 | Constrast loss: 46.94 | Total loss: 11246.883 | Train acc: 80.965 % ||| Val Loss: 10993.060 | Val acc: 82.283 %\n",
            "-------------------------------------------------------------------------------------------------------------------------------------------------------------------------------------\n",
            "Epoch: 5 / 10 | Reconst_loss: 3679.818 | Kldiv loss: 944.823 | Classifcation loss: 1.903 | Constrast loss: 130.18 | Total loss: 11143.341 | Train acc: 81.723 % ||| Val Loss: 10780.557 | Val acc: 83.689 %\n",
            "-------------------------------------------------------------------------------------------------------------------------------------------------------------------------------------\n",
            "Epoch: 6 / 10 | Reconst_loss: 3810.672 | Kldiv loss: 1171.436 | Classifcation loss: 1.893 | Constrast loss: 75.09 | Total loss: 10976.896 | Train acc: 82.874 % ||| Val Loss: 10848.448 | Val acc: 83.281 %\n",
            "-------------------------------------------------------------------------------------------------------------------------------------------------------------------------------------\n",
            "Epoch: 7 / 10 | Reconst_loss: 4704.206 | Kldiv loss: 979.550 | Classifcation loss: 1.851 | Constrast loss: 115.25 | Total loss: 10885.775 | Train acc: 84.028 % ||| Val Loss: 10956.287 | Val acc: 84.257 %\n",
            "-------------------------------------------------------------------------------------------------------------------------------------------------------------------------------------\n",
            "Epoch: 8 / 10 | Reconst_loss: 3887.476 | Kldiv loss: 980.152 | Classifcation loss: 1.799 | Constrast loss: 50.25 | Total loss: 10668.778 | Train acc: 84.660 % ||| Val Loss: 10285.759 | Val acc: 85.208 %\n",
            "-------------------------------------------------------------------------------------------------------------------------------------------------------------------------------------\n",
            "Epoch: 9 / 10 | Reconst_loss: 4519.323 | Kldiv loss: 1016.778 | Classifcation loss: 1.822 | Constrast loss: 38.32 | Total loss: 10564.709 | Train acc: 85.407 % ||| Val Loss: 10324.083 | Val acc: 85.986 %\n",
            "-------------------------------------------------------------------------------------------------------------------------------------------------------------------------------------\n"
          ]
        },
        {
          "metadata": {
            "tags": null
          },
          "name": "stderr",
          "output_type": "stream",
          "text": [
            "\u001b[32m[I 2023-03-17 22:34:06,167]\u001b[0m Trial 46 finished with value: 0.8561731284135518 and parameters: {'optuna_batch_size': 192, 'optimizer': 'Adam', 'lr': 0.009972618031377336, 'hidden_dim': 113, 'alpha': 9, 'beta': 7, 'gamma': 8, 'delta': 8}. Best is trial 13 with value: 0.9585126527801691.\u001b[0m\n"
          ]
        },
        {
          "metadata": {
            "tags": null
          },
          "name": "stdout",
          "output_type": "stream",
          "text": [
            "Epoch: 10 / 10 | Reconst_loss: 3985.633 | Kldiv loss: 1106.293 | Classifcation loss: 1.850 | Constrast loss: 33.06 | Total loss: 10482.035 | Train acc: 85.617 % ||| Val Loss: 10160.454 | Val acc: 85.619 %\n",
            "-------------------------------------------------------------------------------------------------------------------------------------------------------------------------------------\n",
            "Epoch: 1 / 10 | Reconst_loss: 11697.522 | Kldiv loss: 3681.617 | Classifcation loss: 2.422 | Constrast loss: 514.26 | Total loss: 198737.309 | Train acc: 15.673 % ||| Val Loss: 71466.775 | Val acc: 27.514 %\n",
            "-------------------------------------------------------------------------------------------------------------------------------------------------------------------------------------\n",
            "Epoch: 2 / 10 | Reconst_loss: 9834.637 | Kldiv loss: 2939.578 | Classifcation loss: 2.195 | Constrast loss: 131.09 | Total loss: 63931.240 | Train acc: 40.923 % ||| Val Loss: 54105.473 | Val acc: 54.282 %\n",
            "-------------------------------------------------------------------------------------------------------------------------------------------------------------------------------------\n",
            "Epoch: 3 / 10 | Reconst_loss: 9659.364 | Kldiv loss: 2632.869 | Classifcation loss: 2.110 | Constrast loss: 159.53 | Total loss: 53621.101 | Train acc: 61.045 % ||| Val Loss: 49815.363 | Val acc: 65.932 %\n",
            "-------------------------------------------------------------------------------------------------------------------------------------------------------------------------------------\n",
            "Epoch: 4 / 10 | Reconst_loss: 8721.579 | Kldiv loss: 2495.655 | Classifcation loss: 2.023 | Constrast loss: 150.07 | Total loss: 49964.818 | Train acc: 68.058 % ||| Val Loss: 48672.099 | Val acc: 73.538 %\n",
            "-------------------------------------------------------------------------------------------------------------------------------------------------------------------------------------\n",
            "Epoch: 5 / 10 | Reconst_loss: 9021.320 | Kldiv loss: 2201.874 | Classifcation loss: 1.989 | Constrast loss: 131.66 | Total loss: 51348.121 | Train acc: 75.034 % ||| Val Loss: 47483.812 | Val acc: 77.194 %\n",
            "-------------------------------------------------------------------------------------------------------------------------------------------------------------------------------------\n",
            "Epoch: 6 / 10 | Reconst_loss: 9673.075 | Kldiv loss: 2422.045 | Classifcation loss: 1.959 | Constrast loss: 66.83 | Total loss: 47450.425 | Train acc: 78.858 % ||| Val Loss: 46470.847 | Val acc: 79.522 %\n",
            "-------------------------------------------------------------------------------------------------------------------------------------------------------------------------------------\n",
            "Epoch: 7 / 10 | Reconst_loss: 9327.783 | Kldiv loss: 2416.190 | Classifcation loss: 1.952 | Constrast loss: 73.20 | Total loss: 46955.624 | Train acc: 80.374 % ||| Val Loss: 46064.234 | Val acc: 80.787 %\n",
            "-------------------------------------------------------------------------------------------------------------------------------------------------------------------------------------\n",
            "Epoch: 8 / 10 | Reconst_loss: 8501.079 | Kldiv loss: 2371.125 | Classifcation loss: 1.913 | Constrast loss: 75.87 | Total loss: 45860.449 | Train acc: 81.291 % ||| Val Loss: 44381.597 | Val acc: 82.170 %\n",
            "-------------------------------------------------------------------------------------------------------------------------------------------------------------------------------------\n",
            "Epoch: 9 / 10 | Reconst_loss: 8679.743 | Kldiv loss: 2505.478 | Classifcation loss: 1.890 | Constrast loss: 119.11 | Total loss: 46036.415 | Train acc: 82.055 % ||| Val Loss: 45080.505 | Val acc: 81.783 %\n",
            "-------------------------------------------------------------------------------------------------------------------------------------------------------------------------------------\n"
          ]
        },
        {
          "metadata": {
            "tags": null
          },
          "name": "stderr",
          "output_type": "stream",
          "text": [
            "\u001b[32m[I 2023-03-17 22:36:55,446]\u001b[0m Trial 47 finished with value: 0.819051255798371 and parameters: {'optuna_batch_size': 814, 'optimizer': 'Adam', 'lr': 0.009254375786181991, 'hidden_dim': 657, 'alpha': 5, 'beta': 8, 'gamma': 1, 'delta': 7}. Best is trial 13 with value: 0.9585126527801691.\u001b[0m\n"
          ]
        },
        {
          "metadata": {
            "tags": null
          },
          "name": "stdout",
          "output_type": "stream",
          "text": [
            "Epoch: 10 / 10 | Reconst_loss: 8099.003 | Kldiv loss: 2430.348 | Classifcation loss: 1.896 | Constrast loss: 56.17 | Total loss: 45526.811 | Train acc: 81.905 % ||| Val Loss: 46510.709 | Val acc: 79.976 %\n",
            "-------------------------------------------------------------------------------------------------------------------------------------------------------------------------------------\n",
            "Epoch: 1 / 10 | Reconst_loss: 10900.947 | Kldiv loss: 2360.931 | Classifcation loss: 2.281 | Constrast loss: 655.97 | Total loss: 74990.303 | Train acc: 23.723 % ||| Val Loss: 27286.981 | Val acc: 48.756 %\n",
            "-------------------------------------------------------------------------------------------------------------------------------------------------------------------------------------\n",
            "Epoch: 2 / 10 | Reconst_loss: 8291.139 | Kldiv loss: 2317.044 | Classifcation loss: 2.090 | Constrast loss: 396.23 | Total loss: 25941.333 | Train acc: 56.161 % ||| Val Loss: 23894.609 | Val acc: 61.394 %\n",
            "-------------------------------------------------------------------------------------------------------------------------------------------------------------------------------------\n",
            "Epoch: 3 / 10 | Reconst_loss: 9082.145 | Kldiv loss: 2911.853 | Classifcation loss: 2.128 | Constrast loss: 262.83 | Total loss: 24294.814 | Train acc: 61.714 % ||| Val Loss: 23687.562 | Val acc: 62.034 %\n",
            "-------------------------------------------------------------------------------------------------------------------------------------------------------------------------------------\n",
            "Epoch: 4 / 10 | Reconst_loss: 8156.160 | Kldiv loss: 1981.957 | Classifcation loss: 2.092 | Constrast loss: 252.46 | Total loss: 22783.154 | Train acc: 62.853 % ||| Val Loss: 21636.903 | Val acc: 63.213 %\n",
            "-------------------------------------------------------------------------------------------------------------------------------------------------------------------------------------\n",
            "Epoch: 5 / 10 | Reconst_loss: 9046.770 | Kldiv loss: 2022.952 | Classifcation loss: 2.023 | Constrast loss: 246.27 | Total loss: 22321.140 | Train acc: 63.684 % ||| Val Loss: 20784.123 | Val acc: 64.250 %\n",
            "-------------------------------------------------------------------------------------------------------------------------------------------------------------------------------------\n",
            "Epoch: 6 / 10 | Reconst_loss: 8091.339 | Kldiv loss: 2026.184 | Classifcation loss: 2.022 | Constrast loss: 230.56 | Total loss: 21449.168 | Train acc: 64.982 % ||| Val Loss: 20500.090 | Val acc: 65.448 %\n",
            "-------------------------------------------------------------------------------------------------------------------------------------------------------------------------------------\n",
            "Epoch: 7 / 10 | Reconst_loss: 8841.621 | Kldiv loss: 2038.653 | Classifcation loss: 2.040 | Constrast loss: 254.58 | Total loss: 21169.359 | Train acc: 65.843 % ||| Val Loss: 20254.224 | Val acc: 67.310 %\n",
            "-------------------------------------------------------------------------------------------------------------------------------------------------------------------------------------\n",
            "Epoch: 8 / 10 | Reconst_loss: 7715.789 | Kldiv loss: 2205.264 | Classifcation loss: 1.997 | Constrast loss: 166.74 | Total loss: 20760.584 | Train acc: 67.582 % ||| Val Loss: 20095.580 | Val acc: 67.087 %\n",
            "-------------------------------------------------------------------------------------------------------------------------------------------------------------------------------------\n",
            "Epoch: 9 / 10 | Reconst_loss: 7180.497 | Kldiv loss: 2074.119 | Classifcation loss: 1.989 | Constrast loss: 171.11 | Total loss: 20139.645 | Train acc: 68.353 % ||| Val Loss: 19357.417 | Val acc: 69.657 %\n",
            "-------------------------------------------------------------------------------------------------------------------------------------------------------------------------------------\n"
          ]
        },
        {
          "metadata": {
            "tags": null
          },
          "name": "stderr",
          "output_type": "stream",
          "text": [
            "\u001b[32m[I 2023-03-17 22:41:18,599]\u001b[0m Trial 48 finished with value: 0.6901266240103806 and parameters: {'optuna_batch_size': 358, 'optimizer': 'Adam', 'lr': 0.0082048246957102, 'hidden_dim': 813, 'alpha': 10, 'beta': 5, 'gamma': 6, 'delta': 9}. Best is trial 13 with value: 0.9585126527801691.\u001b[0m\n"
          ]
        },
        {
          "metadata": {
            "tags": null
          },
          "name": "stdout",
          "output_type": "stream",
          "text": [
            "Epoch: 10 / 10 | Reconst_loss: 7375.741 | Kldiv loss: 2030.921 | Classifcation loss: 2.010 | Constrast loss: 169.81 | Total loss: 19936.994 | Train acc: 69.013 % ||| Val Loss: 18987.845 | Val acc: 69.582 %\n",
            "-------------------------------------------------------------------------------------------------------------------------------------------------------------------------------------\n",
            "Epoch: 1 / 10 | Reconst_loss: 1493.682 | Kldiv loss: 229.330 | Classifcation loss: 2.063 | Constrast loss: 23.71 | Total loss: 20280.512 | Train acc: 35.588 % ||| Val Loss: 6592.725 | Val acc: 59.908 %\n",
            "-------------------------------------------------------------------------------------------------------------------------------------------------------------------------------------\n",
            "Epoch: 2 / 10 | Reconst_loss: 1398.480 | Kldiv loss: 272.721 | Classifcation loss: 2.001 | Constrast loss: 11.74 | Total loss: 6410.706 | Train acc: 67.337 % ||| Val Loss: 6244.306 | Val acc: 70.122 %\n",
            "-------------------------------------------------------------------------------------------------------------------------------------------------------------------------------------\n",
            "Epoch: 3 / 10 | Reconst_loss: 1203.701 | Kldiv loss: 227.852 | Classifcation loss: 1.945 | Constrast loss: 19.56 | Total loss: 6039.860 | Train acc: 73.671 % ||| Val Loss: 5795.679 | Val acc: 76.978 %\n",
            "-------------------------------------------------------------------------------------------------------------------------------------------------------------------------------------\n",
            "Epoch: 4 / 10 | Reconst_loss: 995.224 | Kldiv loss: 249.938 | Classifcation loss: 1.919 | Constrast loss: 6.70 | Total loss: 5867.841 | Train acc: 78.624 % ||| Val Loss: 5604.597 | Val acc: 79.217 %\n",
            "-------------------------------------------------------------------------------------------------------------------------------------------------------------------------------------\n",
            "Epoch: 5 / 10 | Reconst_loss: 787.367 | Kldiv loss: 238.135 | Classifcation loss: 1.906 | Constrast loss: 4.63 | Total loss: 5772.318 | Train acc: 79.178 % ||| Val Loss: 5636.656 | Val acc: 78.757 %\n",
            "-------------------------------------------------------------------------------------------------------------------------------------------------------------------------------------\n",
            "Epoch: 6 / 10 | Reconst_loss: 1544.048 | Kldiv loss: 263.522 | Classifcation loss: 1.957 | Constrast loss: 13.40 | Total loss: 5670.192 | Train acc: 79.444 % ||| Val Loss: 5608.716 | Val acc: 79.267 %\n",
            "-------------------------------------------------------------------------------------------------------------------------------------------------------------------------------------\n",
            "Epoch: 7 / 10 | Reconst_loss: 1358.680 | Kldiv loss: 280.291 | Classifcation loss: 1.886 | Constrast loss: 1.90 | Total loss: 5591.679 | Train acc: 79.594 % ||| Val Loss: 5579.728 | Val acc: 79.998 %\n",
            "-------------------------------------------------------------------------------------------------------------------------------------------------------------------------------------\n",
            "Epoch: 8 / 10 | Reconst_loss: 831.829 | Kldiv loss: 233.687 | Classifcation loss: 1.983 | Constrast loss: 9.90 | Total loss: 5535.926 | Train acc: 79.752 % ||| Val Loss: 5318.498 | Val acc: 79.850 %\n",
            "-------------------------------------------------------------------------------------------------------------------------------------------------------------------------------------\n",
            "Epoch: 9 / 10 | Reconst_loss: 821.384 | Kldiv loss: 206.156 | Classifcation loss: 1.934 | Constrast loss: 1.28 | Total loss: 5582.824 | Train acc: 79.433 % ||| Val Loss: 5246.628 | Val acc: 78.459 %\n",
            "-------------------------------------------------------------------------------------------------------------------------------------------------------------------------------------\n"
          ]
        },
        {
          "metadata": {
            "tags": null
          },
          "name": "stderr",
          "output_type": "stream",
          "text": [
            "\u001b[32m[I 2023-03-17 22:45:57,625]\u001b[0m Trial 49 finished with value: 0.7998177574994749 and parameters: {'optuna_batch_size': 105, 'optimizer': 'Adam', 'lr': 0.006115379157010171, 'hidden_dim': 731, 'alpha': 1, 'beta': 8, 'gamma': 10, 'delta': 10}. Best is trial 13 with value: 0.9585126527801691.\u001b[0m\n"
          ]
        },
        {
          "metadata": {
            "tags": null
          },
          "name": "stdout",
          "output_type": "stream",
          "text": [
            "Epoch: 10 / 10 | Reconst_loss: 1053.766 | Kldiv loss: 241.356 | Classifcation loss: 1.884 | Constrast loss: 8.12 | Total loss: 5440.724 | Train acc: 79.982 % ||| Val Loss: 5422.138 | Val acc: 80.161 %\n",
            "-------------------------------------------------------------------------------------------------------------------------------------------------------------------------------------\n",
            "Epoch: 1 / 10 | Reconst_loss: nan | Kldiv loss: nan | Classifcation loss: nan | Constrast loss: nan | Total loss: nan | Train acc: 0.103 % ||| Val Loss: nan | Val acc: 0.000 %\n",
            "-------------------------------------------------------------------------------------------------------------------------------------------------------------------------------------\n",
            "Epoch: 2 / 10 | Reconst_loss: nan | Kldiv loss: nan | Classifcation loss: nan | Constrast loss: nan | Total loss: nan | Train acc: 0.000 % ||| Val Loss: nan | Val acc: 0.000 %\n",
            "-------------------------------------------------------------------------------------------------------------------------------------------------------------------------------------\n",
            "Epoch: 3 / 10 | Reconst_loss: nan | Kldiv loss: nan | Classifcation loss: nan | Constrast loss: nan | Total loss: nan | Train acc: 0.000 % ||| Val Loss: nan | Val acc: 0.000 %\n",
            "-------------------------------------------------------------------------------------------------------------------------------------------------------------------------------------\n"
          ]
        },
        {
          "metadata": {
            "tags": null
          },
          "name": "stderr",
          "output_type": "stream",
          "text": [
            "\u001b[32m[I 2023-03-17 22:47:55,233]\u001b[0m Trial 50 pruned. \u001b[0m\n"
          ]
        },
        {
          "metadata": {
            "tags": null
          },
          "name": "stdout",
          "output_type": "stream",
          "text": [
            "Epoch: 4 / 10 | Reconst_loss: nan | Kldiv loss: nan | Classifcation loss: nan | Constrast loss: nan | Total loss: nan | Train acc: 0.000 % ||| Val Loss: nan | Val acc: 0.000 %\n",
            "-------------------------------------------------------------------------------------------------------------------------------------------------------------------------------------\n",
            "Epoch: 1 / 10 | Reconst_loss: 2785.724 | Kldiv loss: 520.735 | Classifcation loss: 2.248 | Constrast loss: 61.19 | Total loss: 856697.482 | Train acc: 23.096 % ||| Val Loss: 12174.927 | Val acc: 47.999 %\n",
            "-------------------------------------------------------------------------------------------------------------------------------------------------------------------------------------\n",
            "Epoch: 2 / 10 | Reconst_loss: 1915.834 | Kldiv loss: 508.614 | Classifcation loss: 2.112 | Constrast loss: 39.60 | Total loss: 11208.708 | Train acc: 56.773 % ||| Val Loss: 10378.230 | Val acc: 60.749 %\n",
            "-------------------------------------------------------------------------------------------------------------------------------------------------------------------------------------\n",
            "Epoch: 3 / 10 | Reconst_loss: 1718.356 | Kldiv loss: 433.108 | Classifcation loss: 2.052 | Constrast loss: 80.44 | Total loss: 10449.436 | Train acc: 62.613 % ||| Val Loss: 9899.179 | Val acc: 61.865 %\n",
            "-------------------------------------------------------------------------------------------------------------------------------------------------------------------------------------\n",
            "Epoch: 4 / 10 | Reconst_loss: 2154.085 | Kldiv loss: 536.885 | Classifcation loss: 2.113 | Constrast loss: 33.24 | Total loss: 9902.586 | Train acc: 65.147 % ||| Val Loss: 9345.102 | Val acc: 65.463 %\n",
            "-------------------------------------------------------------------------------------------------------------------------------------------------------------------------------------\n",
            "Epoch: 5 / 10 | Reconst_loss: 1682.990 | Kldiv loss: 533.246 | Classifcation loss: 2.074 | Constrast loss: 43.54 | Total loss: 9556.495 | Train acc: 66.732 % ||| Val Loss: 9113.906 | Val acc: 67.617 %\n",
            "-------------------------------------------------------------------------------------------------------------------------------------------------------------------------------------\n",
            "Epoch: 6 / 10 | Reconst_loss: 1854.390 | Kldiv loss: 531.424 | Classifcation loss: 2.043 | Constrast loss: 17.56 | Total loss: 9295.617 | Train acc: 67.760 % ||| Val Loss: 9195.128 | Val acc: 67.413 %\n",
            "-------------------------------------------------------------------------------------------------------------------------------------------------------------------------------------\n",
            "Epoch: 7 / 10 | Reconst_loss: 1497.948 | Kldiv loss: 460.201 | Classifcation loss: 2.003 | Constrast loss: 55.31 | Total loss: 9046.952 | Train acc: 68.679 % ||| Val Loss: 8703.260 | Val acc: 68.773 %\n",
            "-------------------------------------------------------------------------------------------------------------------------------------------------------------------------------------\n",
            "Epoch: 8 / 10 | Reconst_loss: 1989.596 | Kldiv loss: 576.214 | Classifcation loss: 2.054 | Constrast loss: 25.40 | Total loss: 9012.113 | Train acc: 70.293 % ||| Val Loss: 8866.498 | Val acc: 71.218 %\n",
            "-------------------------------------------------------------------------------------------------------------------------------------------------------------------------------------\n",
            "Epoch: 9 / 10 | Reconst_loss: 1965.020 | Kldiv loss: 545.654 | Classifcation loss: 1.933 | Constrast loss: 11.36 | Total loss: 8958.983 | Train acc: 71.878 % ||| Val Loss: 8792.533 | Val acc: 71.757 %\n",
            "-------------------------------------------------------------------------------------------------------------------------------------------------------------------------------------\n"
          ]
        },
        {
          "metadata": {
            "tags": null
          },
          "name": "stderr",
          "output_type": "stream",
          "text": [
            "\u001b[32m[I 2023-03-17 22:50:09,298]\u001b[0m Trial 51 finished with value: 0.7226543817457977 and parameters: {'optuna_batch_size': 165, 'optimizer': 'Adam', 'lr': 0.007208063677031404, 'hidden_dim': 512, 'alpha': 9, 'beta': 6, 'gamma': 7, 'delta': 9}. Best is trial 13 with value: 0.9585126527801691.\u001b[0m\n"
          ]
        },
        {
          "metadata": {
            "tags": null
          },
          "name": "stdout",
          "output_type": "stream",
          "text": [
            "Epoch: 10 / 10 | Reconst_loss: 1903.384 | Kldiv loss: 521.087 | Classifcation loss: 2.008 | Constrast loss: 14.04 | Total loss: 8731.249 | Train acc: 72.265 % ||| Val Loss: 8447.237 | Val acc: 72.576 %\n",
            "-------------------------------------------------------------------------------------------------------------------------------------------------------------------------------------\n",
            "Epoch: 1 / 10 | Reconst_loss: 1145.150 | Kldiv loss: 232.019 | Classifcation loss: 2.013 | Constrast loss: 11.55 | Total loss: 11910.534 | Train acc: 44.472 % ||| Val Loss: 8591.507 | Val acc: 68.456 %\n",
            "-------------------------------------------------------------------------------------------------------------------------------------------------------------------------------------\n",
            "Epoch: 2 / 10 | Reconst_loss: 1201.155 | Kldiv loss: 214.527 | Classifcation loss: 1.943 | Constrast loss: 6.96 | Total loss: 8366.441 | Train acc: 73.333 % ||| Val Loss: 7743.082 | Val acc: 80.641 %\n",
            "-------------------------------------------------------------------------------------------------------------------------------------------------------------------------------------\n",
            "Epoch: 3 / 10 | Reconst_loss: 867.396 | Kldiv loss: 203.487 | Classifcation loss: 1.902 | Constrast loss: 2.46 | Total loss: 7982.459 | Train acc: 81.178 % ||| Val Loss: 7648.236 | Val acc: 84.758 %\n",
            "-------------------------------------------------------------------------------------------------------------------------------------------------------------------------------------\n",
            "Epoch: 4 / 10 | Reconst_loss: 737.461 | Kldiv loss: 237.980 | Classifcation loss: 1.868 | Constrast loss: 4.00 | Total loss: 7675.351 | Train acc: 84.507 % ||| Val Loss: 7576.211 | Val acc: 82.603 %\n",
            "-------------------------------------------------------------------------------------------------------------------------------------------------------------------------------------\n",
            "Epoch: 5 / 10 | Reconst_loss: 1028.452 | Kldiv loss: 219.344 | Classifcation loss: 1.841 | Constrast loss: 4.55 | Total loss: 7521.070 | Train acc: 83.109 % ||| Val Loss: 7385.584 | Val acc: 84.404 %\n",
            "-------------------------------------------------------------------------------------------------------------------------------------------------------------------------------------\n",
            "Epoch: 6 / 10 | Reconst_loss: 945.967 | Kldiv loss: 205.973 | Classifcation loss: 1.810 | Constrast loss: 7.45 | Total loss: 7330.929 | Train acc: 84.365 % ||| Val Loss: 7163.246 | Val acc: 84.986 %\n",
            "-------------------------------------------------------------------------------------------------------------------------------------------------------------------------------------\n",
            "Epoch: 7 / 10 | Reconst_loss: 777.924 | Kldiv loss: 220.622 | Classifcation loss: 1.776 | Constrast loss: 0.00 | Total loss: 7404.821 | Train acc: 83.692 % ||| Val Loss: 7115.602 | Val acc: 84.254 %\n",
            "-------------------------------------------------------------------------------------------------------------------------------------------------------------------------------------\n",
            "Epoch: 8 / 10 | Reconst_loss: 796.349 | Kldiv loss: 238.063 | Classifcation loss: 1.786 | Constrast loss: 0.05 | Total loss: 7199.850 | Train acc: 84.514 % ||| Val Loss: 7277.358 | Val acc: 84.296 %\n",
            "-------------------------------------------------------------------------------------------------------------------------------------------------------------------------------------\n",
            "Epoch: 9 / 10 | Reconst_loss: 898.892 | Kldiv loss: 214.912 | Classifcation loss: 1.888 | Constrast loss: 13.46 | Total loss: 7264.209 | Train acc: 87.404 % ||| Val Loss: 7013.190 | Val acc: 88.089 %\n",
            "-------------------------------------------------------------------------------------------------------------------------------------------------------------------------------------\n"
          ]
        },
        {
          "metadata": {
            "tags": null
          },
          "name": "stderr",
          "output_type": "stream",
          "text": [
            "\u001b[32m[I 2023-03-17 22:52:08,269]\u001b[0m Trial 52 finished with value: 0.8790545573673323 and parameters: {'optuna_batch_size': 134, 'optimizer': 'Adam', 'lr': 0.00756573591782005, 'hidden_dim': 448, 'alpha': 8, 'beta': 5, 'gamma': 6, 'delta': 9}. Best is trial 13 with value: 0.9585126527801691.\u001b[0m\n"
          ]
        },
        {
          "metadata": {
            "tags": null
          },
          "name": "stdout",
          "output_type": "stream",
          "text": [
            "Epoch: 10 / 10 | Reconst_loss: 1000.768 | Kldiv loss: 213.088 | Classifcation loss: 1.817 | Constrast loss: 1.59 | Total loss: 7109.839 | Train acc: 87.905 % ||| Val Loss: 7078.682 | Val acc: 88.528 %\n",
            "-------------------------------------------------------------------------------------------------------------------------------------------------------------------------------------\n",
            "Epoch: 1 / 10 | Reconst_loss: 4483.799 | Kldiv loss: 983.339 | Classifcation loss: 2.266 | Constrast loss: 147.43 | Total loss: 58785.976 | Train acc: 28.911 % ||| Val Loss: 15394.975 | Val acc: 50.723 %\n",
            "-------------------------------------------------------------------------------------------------------------------------------------------------------------------------------------\n",
            "Epoch: 2 / 10 | Reconst_loss: 4310.487 | Kldiv loss: 847.558 | Classifcation loss: 2.080 | Constrast loss: 193.28 | Total loss: 14325.048 | Train acc: 61.664 % ||| Val Loss: 13338.871 | Val acc: 68.894 %\n",
            "-------------------------------------------------------------------------------------------------------------------------------------------------------------------------------------\n",
            "Epoch: 3 / 10 | Reconst_loss: 3203.319 | Kldiv loss: 859.612 | Classifcation loss: 1.991 | Constrast loss: 109.57 | Total loss: 13384.887 | Train acc: 70.778 % ||| Val Loss: 12710.014 | Val acc: 73.539 %\n",
            "-------------------------------------------------------------------------------------------------------------------------------------------------------------------------------------\n",
            "Epoch: 4 / 10 | Reconst_loss: 3084.753 | Kldiv loss: 997.657 | Classifcation loss: 1.967 | Constrast loss: 13.96 | Total loss: 12671.454 | Train acc: 74.244 % ||| Val Loss: 13040.899 | Val acc: 72.525 %\n",
            "-------------------------------------------------------------------------------------------------------------------------------------------------------------------------------------\n",
            "Epoch: 5 / 10 | Reconst_loss: 3078.527 | Kldiv loss: 838.866 | Classifcation loss: 1.988 | Constrast loss: 45.66 | Total loss: 12345.451 | Train acc: 75.238 % ||| Val Loss: 12115.766 | Val acc: 74.403 %\n",
            "-------------------------------------------------------------------------------------------------------------------------------------------------------------------------------------\n",
            "Epoch: 6 / 10 | Reconst_loss: 3684.270 | Kldiv loss: 810.200 | Classifcation loss: 1.857 | Constrast loss: 17.63 | Total loss: 11950.101 | Train acc: 76.170 % ||| Val Loss: 11430.089 | Val acc: 78.067 %\n",
            "-------------------------------------------------------------------------------------------------------------------------------------------------------------------------------------\n",
            "Epoch: 7 / 10 | Reconst_loss: 3209.711 | Kldiv loss: 856.835 | Classifcation loss: 1.916 | Constrast loss: 9.16 | Total loss: 11724.050 | Train acc: 77.061 % ||| Val Loss: 11358.777 | Val acc: 77.833 %\n",
            "-------------------------------------------------------------------------------------------------------------------------------------------------------------------------------------\n",
            "Epoch: 8 / 10 | Reconst_loss: 2912.704 | Kldiv loss: 881.215 | Classifcation loss: 1.959 | Constrast loss: 29.05 | Total loss: 11711.688 | Train acc: 77.053 % ||| Val Loss: 11300.592 | Val acc: 77.950 %\n",
            "-------------------------------------------------------------------------------------------------------------------------------------------------------------------------------------\n",
            "Epoch: 9 / 10 | Reconst_loss: 3319.046 | Kldiv loss: 843.724 | Classifcation loss: 1.878 | Constrast loss: 33.52 | Total loss: 11703.873 | Train acc: 77.115 % ||| Val Loss: 11213.738 | Val acc: 76.844 %\n",
            "-------------------------------------------------------------------------------------------------------------------------------------------------------------------------------------\n"
          ]
        },
        {
          "metadata": {
            "tags": null
          },
          "name": "stderr",
          "output_type": "stream",
          "text": [
            "\u001b[32m[I 2023-03-17 22:53:03,145]\u001b[0m Trial 53 finished with value: 0.770169095538362 and parameters: {'optuna_batch_size': 210, 'optimizer': 'Adam', 'lr': 0.008017650256428374, 'hidden_dim': 254, 'alpha': 10, 'beta': 7, 'gamma': 8, 'delta': 9}. Best is trial 13 with value: 0.9585126527801691.\u001b[0m\n"
          ]
        },
        {
          "metadata": {
            "tags": null
          },
          "name": "stdout",
          "output_type": "stream",
          "text": [
            "Epoch: 10 / 10 | Reconst_loss: 3151.999 | Kldiv loss: 782.325 | Classifcation loss: 1.916 | Constrast loss: 20.49 | Total loss: 11560.492 | Train acc: 77.017 % ||| Val Loss: 11156.799 | Val acc: 77.383 %\n",
            "-------------------------------------------------------------------------------------------------------------------------------------------------------------------------------------\n",
            "Epoch: 1 / 10 | Reconst_loss: 1431.661 | Kldiv loss: 367.425 | Classifcation loss: 2.269 | Constrast loss: 8.59 | Total loss: 30480.691 | Train acc: 25.209 % ||| Val Loss: 17510.809 | Val acc: 46.687 %\n",
            "-------------------------------------------------------------------------------------------------------------------------------------------------------------------------------------\n",
            "Epoch: 2 / 10 | Reconst_loss: 1215.573 | Kldiv loss: 324.641 | Classifcation loss: 2.100 | Constrast loss: 7.60 | Total loss: 15956.710 | Train acc: 52.108 % ||| Val Loss: 15613.133 | Val acc: 57.624 %\n",
            "-------------------------------------------------------------------------------------------------------------------------------------------------------------------------------------\n",
            "Epoch: 3 / 10 | Reconst_loss: 1597.631 | Kldiv loss: 301.706 | Classifcation loss: 2.107 | Constrast loss: 7.83 | Total loss: 14887.334 | Train acc: 60.835 % ||| Val Loss: 14412.994 | Val acc: 63.388 %\n",
            "-------------------------------------------------------------------------------------------------------------------------------------------------------------------------------------\n",
            "Epoch: 4 / 10 | Reconst_loss: 955.618 | Kldiv loss: 338.178 | Classifcation loss: 2.004 | Constrast loss: 4.51 | Total loss: 14479.527 | Train acc: 63.992 % ||| Val Loss: 14080.407 | Val acc: 64.367 %\n",
            "-------------------------------------------------------------------------------------------------------------------------------------------------------------------------------------\n",
            "Epoch: 5 / 10 | Reconst_loss: 986.711 | Kldiv loss: 293.959 | Classifcation loss: 2.044 | Constrast loss: 8.16 | Total loss: 14410.347 | Train acc: 64.463 % ||| Val Loss: 13715.105 | Val acc: 63.850 %\n",
            "-------------------------------------------------------------------------------------------------------------------------------------------------------------------------------------\n",
            "Epoch: 6 / 10 | Reconst_loss: 889.615 | Kldiv loss: 294.833 | Classifcation loss: 2.069 | Constrast loss: 4.11 | Total loss: 13815.847 | Train acc: 66.561 % ||| Val Loss: 13891.064 | Val acc: 65.358 %\n",
            "-------------------------------------------------------------------------------------------------------------------------------------------------------------------------------------\n",
            "Epoch: 7 / 10 | Reconst_loss: 1166.826 | Kldiv loss: 267.750 | Classifcation loss: 2.101 | Constrast loss: 3.03 | Total loss: 13832.753 | Train acc: 67.443 % ||| Val Loss: 13360.932 | Val acc: 67.072 %\n",
            "-------------------------------------------------------------------------------------------------------------------------------------------------------------------------------------\n",
            "Epoch: 8 / 10 | Reconst_loss: 993.488 | Kldiv loss: 321.654 | Classifcation loss: 1.965 | Constrast loss: 5.07 | Total loss: 13526.762 | Train acc: 67.906 % ||| Val Loss: 13321.264 | Val acc: 67.852 %\n",
            "-------------------------------------------------------------------------------------------------------------------------------------------------------------------------------------\n",
            "Epoch: 9 / 10 | Reconst_loss: 1051.015 | Kldiv loss: 293.757 | Classifcation loss: 2.158 | Constrast loss: 11.83 | Total loss: 13895.748 | Train acc: 65.886 % ||| Val Loss: 13414.086 | Val acc: 64.151 %\n",
            "-------------------------------------------------------------------------------------------------------------------------------------------------------------------------------------\n"
          ]
        },
        {
          "metadata": {
            "tags": null
          },
          "name": "stderr",
          "output_type": "stream",
          "text": [
            "\u001b[32m[I 2023-03-17 22:54:19,353]\u001b[0m Trial 54 finished with value: 0.6549984660865686 and parameters: {'optuna_batch_size': 249, 'optimizer': 'Adam', 'lr': 0.006482138955295565, 'hidden_dim': 349, 'alpha': 7, 'beta': 4, 'gamma': 4, 'delta': 10}. Best is trial 13 with value: 0.9585126527801691.\u001b[0m\n"
          ]
        },
        {
          "metadata": {
            "tags": null
          },
          "name": "stdout",
          "output_type": "stream",
          "text": [
            "Epoch: 10 / 10 | Reconst_loss: 809.172 | Kldiv loss: 309.183 | Classifcation loss: 2.075 | Constrast loss: 1.67 | Total loss: 13485.003 | Train acc: 65.500 % ||| Val Loss: 13316.229 | Val acc: 65.118 %\n",
            "-------------------------------------------------------------------------------------------------------------------------------------------------------------------------------------\n",
            "Epoch: 1 / 10 | Reconst_loss: 3205.846 | Kldiv loss: 693.882 | Classifcation loss: 2.215 | Constrast loss: 77.62 | Total loss: 33840.310 | Train acc: 29.230 % ||| Val Loss: 11686.288 | Val acc: 52.755 %\n",
            "-------------------------------------------------------------------------------------------------------------------------------------------------------------------------------------\n",
            "Epoch: 2 / 10 | Reconst_loss: 2300.318 | Kldiv loss: 590.755 | Classifcation loss: 2.037 | Constrast loss: 112.61 | Total loss: 11183.899 | Train acc: 60.623 % ||| Val Loss: 10474.229 | Val acc: 63.481 %\n",
            "-------------------------------------------------------------------------------------------------------------------------------------------------------------------------------------\n",
            "Epoch: 3 / 10 | Reconst_loss: 2045.815 | Kldiv loss: 692.736 | Classifcation loss: 2.075 | Constrast loss: 53.22 | Total loss: 10414.542 | Train acc: 64.821 % ||| Val Loss: 9896.905 | Val acc: 65.548 %\n",
            "-------------------------------------------------------------------------------------------------------------------------------------------------------------------------------------\n",
            "Epoch: 4 / 10 | Reconst_loss: 3154.780 | Kldiv loss: 673.327 | Classifcation loss: 2.009 | Constrast loss: 62.08 | Total loss: 9987.034 | Train acc: 66.036 % ||| Val Loss: 9689.888 | Val acc: 64.900 %\n",
            "-------------------------------------------------------------------------------------------------------------------------------------------------------------------------------------\n",
            "Epoch: 5 / 10 | Reconst_loss: 3310.729 | Kldiv loss: 746.801 | Classifcation loss: 2.058 | Constrast loss: 22.33 | Total loss: 9829.382 | Train acc: 67.091 % ||| Val Loss: 11400.247 | Val acc: 62.718 %\n",
            "-------------------------------------------------------------------------------------------------------------------------------------------------------------------------------------\n",
            "Epoch: 6 / 10 | Reconst_loss: 2662.249 | Kldiv loss: 685.353 | Classifcation loss: 1.996 | Constrast loss: 72.39 | Total loss: 9760.752 | Train acc: 69.658 % ||| Val Loss: 9424.507 | Val acc: 69.776 %\n",
            "-------------------------------------------------------------------------------------------------------------------------------------------------------------------------------------\n",
            "Epoch: 7 / 10 | Reconst_loss: 2801.484 | Kldiv loss: 658.573 | Classifcation loss: 2.081 | Constrast loss: 40.28 | Total loss: 9517.165 | Train acc: 70.009 % ||| Val Loss: 13539.970 | Val acc: 43.010 %\n",
            "-------------------------------------------------------------------------------------------------------------------------------------------------------------------------------------\n",
            "Epoch: 8 / 10 | Reconst_loss: 2191.122 | Kldiv loss: 675.711 | Classifcation loss: 1.994 | Constrast loss: 19.71 | Total loss: 9508.709 | Train acc: 69.636 % ||| Val Loss: 8861.987 | Val acc: 70.149 %\n",
            "-------------------------------------------------------------------------------------------------------------------------------------------------------------------------------------\n",
            "Epoch: 9 / 10 | Reconst_loss: 2542.715 | Kldiv loss: 761.714 | Classifcation loss: 1.912 | Constrast loss: 15.47 | Total loss: 9133.943 | Train acc: 70.381 % ||| Val Loss: 9475.213 | Val acc: 69.909 %\n",
            "-------------------------------------------------------------------------------------------------------------------------------------------------------------------------------------\n"
          ]
        },
        {
          "metadata": {
            "tags": null
          },
          "name": "stderr",
          "output_type": "stream",
          "text": [
            "\u001b[32m[I 2023-03-17 22:58:53,297]\u001b[0m Trial 55 finished with value: 0.6993547101051983 and parameters: {'optuna_batch_size': 169, 'optimizer': 'Adam', 'lr': 0.007183779332096041, 'hidden_dim': 785, 'alpha': 9, 'beta': 6, 'gamma': 7, 'delta': 6}. Best is trial 13 with value: 0.9585126527801691.\u001b[0m\n"
          ]
        },
        {
          "metadata": {
            "tags": null
          },
          "name": "stdout",
          "output_type": "stream",
          "text": [
            "Epoch: 10 / 10 | Reconst_loss: 2332.901 | Kldiv loss: 708.202 | Classifcation loss: 2.015 | Constrast loss: 8.20 | Total loss: 9247.362 | Train acc: 69.935 % ||| Val Loss: 9110.013 | Val acc: 68.358 %\n",
            "-------------------------------------------------------------------------------------------------------------------------------------------------------------------------------------\n",
            "Epoch: 1 / 10 | Reconst_loss: 1124.286 | Kldiv loss: 305.113 | Classifcation loss: 2.114 | Constrast loss: 5.11 | Total loss: 9503.201 | Train acc: 49.125 % ||| Val Loss: 7622.445 | Val acc: 68.386 %\n",
            "-------------------------------------------------------------------------------------------------------------------------------------------------------------------------------------\n",
            "Epoch: 2 / 10 | Reconst_loss: 1400.075 | Kldiv loss: 270.541 | Classifcation loss: 2.043 | Constrast loss: 10.20 | Total loss: 7200.492 | Train acc: 71.680 % ||| Val Loss: 6828.838 | Val acc: 72.307 %\n",
            "-------------------------------------------------------------------------------------------------------------------------------------------------------------------------------------\n",
            "Epoch: 3 / 10 | Reconst_loss: 1830.224 | Kldiv loss: 271.490 | Classifcation loss: 1.917 | Constrast loss: 14.20 | Total loss: 7041.869 | Train acc: 73.023 % ||| Val Loss: 6775.142 | Val acc: 71.079 %\n",
            "-------------------------------------------------------------------------------------------------------------------------------------------------------------------------------------\n",
            "Epoch: 4 / 10 | Reconst_loss: 1937.472 | Kldiv loss: 343.292 | Classifcation loss: 1.921 | Constrast loss: 5.54 | Total loss: 6950.525 | Train acc: 74.906 % ||| Val Loss: 6611.496 | Val acc: 76.814 %\n",
            "-------------------------------------------------------------------------------------------------------------------------------------------------------------------------------------\n",
            "Epoch: 5 / 10 | Reconst_loss: 1744.190 | Kldiv loss: 311.299 | Classifcation loss: 1.858 | Constrast loss: 0.00 | Total loss: 6747.059 | Train acc: 76.672 % ||| Val Loss: 6488.324 | Val acc: 77.240 %\n",
            "-------------------------------------------------------------------------------------------------------------------------------------------------------------------------------------\n",
            "Epoch: 6 / 10 | Reconst_loss: 1157.591 | Kldiv loss: 271.042 | Classifcation loss: 2.037 | Constrast loss: 28.68 | Total loss: 6762.233 | Train acc: 74.117 % ||| Val Loss: 6747.618 | Val acc: 71.404 %\n",
            "-------------------------------------------------------------------------------------------------------------------------------------------------------------------------------------\n",
            "Epoch: 7 / 10 | Reconst_loss: 1242.610 | Kldiv loss: 321.014 | Classifcation loss: 1.925 | Constrast loss: 11.22 | Total loss: 6556.274 | Train acc: 72.481 % ||| Val Loss: 6339.806 | Val acc: 72.269 %\n",
            "-------------------------------------------------------------------------------------------------------------------------------------------------------------------------------------\n",
            "Epoch: 8 / 10 | Reconst_loss: 1113.048 | Kldiv loss: 295.834 | Classifcation loss: 2.038 | Constrast loss: 6.24 | Total loss: 6564.154 | Train acc: 72.483 % ||| Val Loss: 6458.916 | Val acc: 72.488 %\n",
            "-------------------------------------------------------------------------------------------------------------------------------------------------------------------------------------\n",
            "Epoch: 9 / 10 | Reconst_loss: 1194.432 | Kldiv loss: 392.497 | Classifcation loss: 2.030 | Constrast loss: 7.30 | Total loss: 6740.845 | Train acc: 72.120 % ||| Val Loss: 5859227132842.974 | Val acc: 72.438 %\n",
            "-------------------------------------------------------------------------------------------------------------------------------------------------------------------------------------\n"
          ]
        },
        {
          "metadata": {
            "tags": null
          },
          "name": "stderr",
          "output_type": "stream",
          "text": [
            "\u001b[32m[I 2023-03-17 23:03:01,101]\u001b[0m Trial 56 finished with value: 0.6719043224119361 and parameters: {'optuna_batch_size': 121, 'optimizer': 'Adam', 'lr': 0.008678695053644176, 'hidden_dim': 712, 'alpha': 10, 'beta': 7, 'gamma': 2, 'delta': 8}. Best is trial 13 with value: 0.9585126527801691.\u001b[0m\n"
          ]
        },
        {
          "metadata": {
            "tags": null
          },
          "name": "stdout",
          "output_type": "stream",
          "text": [
            "Epoch: 10 / 10 | Reconst_loss: 1911.567 | Kldiv loss: 632.603 | Classifcation loss: 2.318 | Constrast loss: 71.44 | Total loss: 978524.885 | Train acc: 67.190 % ||| Val Loss: 11797.717 | Val acc: 35.634 %\n",
            "-------------------------------------------------------------------------------------------------------------------------------------------------------------------------------------\n",
            "Epoch: 1 / 10 | Reconst_loss: 502.678 | Kldiv loss: 73.753 | Classifcation loss: 1.919 | Constrast loss: 1.96 | Total loss: 7976.332 | Train acc: 54.014 % ||| Val Loss: 6512.432 | Val acc: 80.595 %\n",
            "-------------------------------------------------------------------------------------------------------------------------------------------------------------------------------------\n",
            "Epoch: 2 / 10 | Reconst_loss: 190.334 | Kldiv loss: 44.583 | Classifcation loss: 1.935 | Constrast loss: 1.50 | Total loss: 6141.680 | Train acc: 85.367 % ||| Val Loss: 6236.521 | Val acc: 82.081 %\n",
            "-------------------------------------------------------------------------------------------------------------------------------------------------------------------------------------\n",
            "Epoch: 3 / 10 | Reconst_loss: 267.946 | Kldiv loss: 82.794 | Classifcation loss: 1.707 | Constrast loss: 0.59 | Total loss: 5731.200 | Train acc: 91.444 % ||| Val Loss: 5707.204 | Val acc: 93.206 %\n",
            "-------------------------------------------------------------------------------------------------------------------------------------------------------------------------------------\n",
            "Epoch: 4 / 10 | Reconst_loss: 538.296 | Kldiv loss: 74.457 | Classifcation loss: 1.711 | Constrast loss: 0.00 | Total loss: 5636.828 | Train acc: 92.086 % ||| Val Loss: 5535.281 | Val acc: 93.592 %\n",
            "-------------------------------------------------------------------------------------------------------------------------------------------------------------------------------------\n",
            "Epoch: 5 / 10 | Reconst_loss: 230.638 | Kldiv loss: 66.851 | Classifcation loss: 1.692 | Constrast loss: 0.68 | Total loss: 5504.640 | Train acc: 92.979 % ||| Val Loss: 5692.625 | Val acc: 92.845 %\n",
            "-------------------------------------------------------------------------------------------------------------------------------------------------------------------------------------\n",
            "Epoch: 6 / 10 | Reconst_loss: 227.140 | Kldiv loss: 58.417 | Classifcation loss: 1.696 | Constrast loss: 0.00 | Total loss: 5459.858 | Train acc: 92.975 % ||| Val Loss: 5528.199 | Val acc: 89.991 %\n",
            "-------------------------------------------------------------------------------------------------------------------------------------------------------------------------------------\n",
            "Epoch: 7 / 10 | Reconst_loss: 187.886 | Kldiv loss: 75.720 | Classifcation loss: 1.791 | Constrast loss: 0.04 | Total loss: 5448.628 | Train acc: 93.194 % ||| Val Loss: 5378.207 | Val acc: 93.577 %\n",
            "-------------------------------------------------------------------------------------------------------------------------------------------------------------------------------------\n",
            "Epoch: 8 / 10 | Reconst_loss: 438.776 | Kldiv loss: 73.335 | Classifcation loss: 1.917 | Constrast loss: 0.00 | Total loss: 5430.041 | Train acc: 93.222 % ||| Val Loss: 5807.894 | Val acc: 90.183 %\n",
            "-------------------------------------------------------------------------------------------------------------------------------------------------------------------------------------\n",
            "Epoch: 9 / 10 | Reconst_loss: 372.644 | Kldiv loss: 79.708 | Classifcation loss: 1.884 | Constrast loss: 0.81 | Total loss: 5524.278 | Train acc: 91.987 % ||| Val Loss: 6012.462 | Val acc: 89.055 %\n",
            "-------------------------------------------------------------------------------------------------------------------------------------------------------------------------------------\n"
          ]
        },
        {
          "metadata": {
            "tags": null
          },
          "name": "stderr",
          "output_type": "stream",
          "text": [
            "\u001b[32m[I 2023-03-17 23:06:16,663]\u001b[0m Trial 57 finished with value: 0.9355136268343813 and parameters: {'optuna_batch_size': 100, 'optimizer': 'Adam', 'lr': 0.009096433395847172, 'hidden_dim': 578, 'alpha': 6, 'beta': 8, 'gamma': 5, 'delta': 9}. Best is trial 13 with value: 0.9585126527801691.\u001b[0m\n"
          ]
        },
        {
          "metadata": {
            "tags": null
          },
          "name": "stdout",
          "output_type": "stream",
          "text": [
            "Epoch: 10 / 10 | Reconst_loss: 174.174 | Kldiv loss: 48.768 | Classifcation loss: 1.699 | Constrast loss: 2.97 | Total loss: 5406.056 | Train acc: 93.551 % ||| Val Loss: 5468.301 | Val acc: 92.672 %\n",
            "-------------------------------------------------------------------------------------------------------------------------------------------------------------------------------------\n",
            "Epoch: 1 / 10 | Reconst_loss: 2173.817 | Kldiv loss: 456.129 | Classifcation loss: 1.961 | Constrast loss: 24.09 | Total loss: 8751.289 | Train acc: 52.209 % ||| Val Loss: 6119.813 | Val acc: 76.164 %\n",
            "-------------------------------------------------------------------------------------------------------------------------------------------------------------------------------------\n",
            "Epoch: 2 / 10 | Reconst_loss: 2164.959 | Kldiv loss: 435.649 | Classifcation loss: 1.809 | Constrast loss: 11.19 | Total loss: 6175.095 | Train acc: 77.786 % ||| Val Loss: 5820.095 | Val acc: 79.930 %\n",
            "-------------------------------------------------------------------------------------------------------------------------------------------------------------------------------------\n",
            "Epoch: 3 / 10 | Reconst_loss: 1497.352 | Kldiv loss: 406.371 | Classifcation loss: 1.863 | Constrast loss: 12.40 | Total loss: 6003.890 | Train acc: 81.122 % ||| Val Loss: 5791.919 | Val acc: 84.277 %\n",
            "-------------------------------------------------------------------------------------------------------------------------------------------------------------------------------------\n",
            "Epoch: 4 / 10 | Reconst_loss: 2013.941 | Kldiv loss: 427.648 | Classifcation loss: 1.832 | Constrast loss: 18.58 | Total loss: 5994.118 | Train acc: 82.258 % ||| Val Loss: 5852.628 | Val acc: 82.963 %\n",
            "-------------------------------------------------------------------------------------------------------------------------------------------------------------------------------------\n",
            "Epoch: 5 / 10 | Reconst_loss: 2756.336 | Kldiv loss: 481.355 | Classifcation loss: 1.884 | Constrast loss: 46.62 | Total loss: 5800.724 | Train acc: 83.655 % ||| Val Loss: 5605.240 | Val acc: 83.085 %\n",
            "-------------------------------------------------------------------------------------------------------------------------------------------------------------------------------------\n",
            "Epoch: 6 / 10 | Reconst_loss: 1505.539 | Kldiv loss: 440.806 | Classifcation loss: 1.845 | Constrast loss: 8.51 | Total loss: 5878.907 | Train acc: 81.490 % ||| Val Loss: 5728.688 | Val acc: 80.092 %\n",
            "-------------------------------------------------------------------------------------------------------------------------------------------------------------------------------------\n",
            "Epoch: 7 / 10 | Reconst_loss: 1620.473 | Kldiv loss: 424.860 | Classifcation loss: 1.857 | Constrast loss: 11.13 | Total loss: 5612.928 | Train acc: 80.022 % ||| Val Loss: 5545.298 | Val acc: 80.831 %\n",
            "-------------------------------------------------------------------------------------------------------------------------------------------------------------------------------------\n",
            "Epoch: 8 / 10 | Reconst_loss: 2194.219 | Kldiv loss: 468.899 | Classifcation loss: 1.853 | Constrast loss: 10.03 | Total loss: 5607.275 | Train acc: 80.265 % ||| Val Loss: 5627.577 | Val acc: 80.134 %\n",
            "-------------------------------------------------------------------------------------------------------------------------------------------------------------------------------------\n",
            "Epoch: 9 / 10 | Reconst_loss: 1656.120 | Kldiv loss: 449.729 | Classifcation loss: 1.854 | Constrast loss: 12.98 | Total loss: 5576.143 | Train acc: 80.196 % ||| Val Loss: 5617.278 | Val acc: 78.131 %\n",
            "-------------------------------------------------------------------------------------------------------------------------------------------------------------------------------------\n"
          ]
        },
        {
          "metadata": {
            "tags": null
          },
          "name": "stderr",
          "output_type": "stream",
          "text": [
            "\u001b[32m[I 2023-03-17 23:10:10,188]\u001b[0m Trial 58 finished with value: 0.8011788911063255 and parameters: {'optuna_batch_size': 104, 'optimizer': 'Adam', 'lr': 0.009003910841561706, 'hidden_dim': 664, 'alpha': 6, 'beta': 8, 'gamma': 5, 'delta': 10}. Best is trial 13 with value: 0.9585126527801691.\u001b[0m\n"
          ]
        },
        {
          "metadata": {
            "tags": null
          },
          "name": "stdout",
          "output_type": "stream",
          "text": [
            "Epoch: 10 / 10 | Reconst_loss: 1662.392 | Kldiv loss: 445.548 | Classifcation loss: 1.912 | Constrast loss: 19.23 | Total loss: 5542.835 | Train acc: 80.118 % ||| Val Loss: 5444.939 | Val acc: 80.588 %\n",
            "-------------------------------------------------------------------------------------------------------------------------------------------------------------------------------------\n",
            "Epoch: 1 / 10 | Reconst_loss: 6673.239 | Kldiv loss: 1858.706 | Classifcation loss: 2.362 | Constrast loss: 492.71 | Total loss: 3881546284704304.500 | Train acc: 24.986 % ||| Val Loss: 20574.694 | Val acc: 48.499 %\n",
            "-------------------------------------------------------------------------------------------------------------------------------------------------------------------------------------\n",
            "Epoch: 2 / 10 | Reconst_loss: 6167.262 | Kldiv loss: 1385.745 | Classifcation loss: 2.165 | Constrast loss: 376.64 | Total loss: 19812.884 | Train acc: 51.719 % ||| Val Loss: 19043.092 | Val acc: 44.898 %\n",
            "-------------------------------------------------------------------------------------------------------------------------------------------------------------------------------------\n",
            "Epoch: 3 / 10 | Reconst_loss: 5064.768 | Kldiv loss: 1274.461 | Classifcation loss: 2.045 | Constrast loss: 341.76 | Total loss: 17958.665 | Train acc: 56.758 % ||| Val Loss: 17102.606 | Val acc: 63.151 %\n",
            "-------------------------------------------------------------------------------------------------------------------------------------------------------------------------------------\n",
            "Epoch: 4 / 10 | Reconst_loss: 4663.455 | Kldiv loss: 1226.676 | Classifcation loss: 2.061 | Constrast loss: 245.60 | Total loss: 16295.965 | Train acc: 62.565 % ||| Val Loss: 15181.246 | Val acc: 65.231 %\n",
            "-------------------------------------------------------------------------------------------------------------------------------------------------------------------------------------\n",
            "Epoch: 5 / 10 | Reconst_loss: 4169.262 | Kldiv loss: 1219.766 | Classifcation loss: 2.077 | Constrast loss: 268.23 | Total loss: 15385.731 | Train acc: 64.036 % ||| Val Loss: 14732.270 | Val acc: 65.117 %\n",
            "-------------------------------------------------------------------------------------------------------------------------------------------------------------------------------------\n",
            "Epoch: 6 / 10 | Reconst_loss: 5388.964 | Kldiv loss: 1370.524 | Classifcation loss: 2.095 | Constrast loss: 218.24 | Total loss: 14449.788 | Train acc: 66.597 % ||| Val Loss: 14949.441 | Val acc: 66.369 %\n",
            "-------------------------------------------------------------------------------------------------------------------------------------------------------------------------------------\n",
            "Epoch: 7 / 10 | Reconst_loss: 4724.652 | Kldiv loss: 1206.552 | Classifcation loss: 2.028 | Constrast loss: 116.70 | Total loss: 13912.128 | Train acc: 67.660 % ||| Val Loss: 13642.295 | Val acc: 67.411 %\n",
            "-------------------------------------------------------------------------------------------------------------------------------------------------------------------------------------\n",
            "Epoch: 8 / 10 | Reconst_loss: 4454.336 | Kldiv loss: 1037.538 | Classifcation loss: 1.994 | Constrast loss: 113.04 | Total loss: 13635.639 | Train acc: 68.062 % ||| Val Loss: 13228.832 | Val acc: 68.387 %\n",
            "-------------------------------------------------------------------------------------------------------------------------------------------------------------------------------------\n",
            "Epoch: 9 / 10 | Reconst_loss: 5097.150 | Kldiv loss: 1195.738 | Classifcation loss: 2.022 | Constrast loss: 107.65 | Total loss: 13212.785 | Train acc: 69.120 % ||| Val Loss: 12966.614 | Val acc: 68.890 %\n",
            "-------------------------------------------------------------------------------------------------------------------------------------------------------------------------------------\n"
          ]
        },
        {
          "metadata": {
            "tags": null
          },
          "name": "stderr",
          "output_type": "stream",
          "text": [
            "\u001b[32m[I 2023-03-17 23:12:52,415]\u001b[0m Trial 59 finished with value: 0.694723479078896 and parameters: {'optuna_batch_size': 201, 'optimizer': 'Adam', 'lr': 0.009472748467436067, 'hidden_dim': 573, 'alpha': 5, 'beta': 10, 'gamma': 1, 'delta': 8}. Best is trial 13 with value: 0.9585126527801691.\u001b[0m\n"
          ]
        },
        {
          "metadata": {
            "tags": null
          },
          "name": "stdout",
          "output_type": "stream",
          "text": [
            "Epoch: 10 / 10 | Reconst_loss: 4446.860 | Kldiv loss: 1005.005 | Classifcation loss: 2.002 | Constrast loss: 110.46 | Total loss: 13050.466 | Train acc: 69.472 % ||| Val Loss: 12869.277 | Val acc: 70.076 %\n",
            "-------------------------------------------------------------------------------------------------------------------------------------------------------------------------------------\n",
            "Epoch: 1 / 10 | Reconst_loss: 3849.676 | Kldiv loss: 835.572 | Classifcation loss: 2.275 | Constrast loss: 65.97 | Total loss: 45620.820 | Train acc: 22.922 % ||| Val Loss: 22811.050 | Val acc: 50.245 %\n",
            "-------------------------------------------------------------------------------------------------------------------------------------------------------------------------------------\n",
            "Epoch: 2 / 10 | Reconst_loss: 3144.217 | Kldiv loss: 790.531 | Classifcation loss: 2.058 | Constrast loss: 45.84 | Total loss: 19855.078 | Train acc: 65.506 % ||| Val Loss: 18693.940 | Val acc: 69.305 %\n",
            "-------------------------------------------------------------------------------------------------------------------------------------------------------------------------------------\n",
            "Epoch: 3 / 10 | Reconst_loss: 2700.399 | Kldiv loss: 796.470 | Classifcation loss: 1.933 | Constrast loss: 53.67 | Total loss: 18205.521 | Train acc: 72.664 % ||| Val Loss: 17059.641 | Val acc: 73.851 %\n",
            "-------------------------------------------------------------------------------------------------------------------------------------------------------------------------------------\n",
            "Epoch: 4 / 10 | Reconst_loss: 3316.606 | Kldiv loss: 869.920 | Classifcation loss: 1.891 | Constrast loss: 32.88 | Total loss: 17258.892 | Train acc: 74.699 % ||| Val Loss: 16995.390 | Val acc: 74.781 %\n",
            "-------------------------------------------------------------------------------------------------------------------------------------------------------------------------------------\n",
            "Epoch: 5 / 10 | Reconst_loss: 3056.537 | Kldiv loss: 815.584 | Classifcation loss: 1.935 | Constrast loss: 29.99 | Total loss: 17071.125 | Train acc: 76.057 % ||| Val Loss: 17074.263 | Val acc: 78.261 %\n",
            "-------------------------------------------------------------------------------------------------------------------------------------------------------------------------------------\n",
            "Epoch: 6 / 10 | Reconst_loss: 3297.747 | Kldiv loss: 853.374 | Classifcation loss: 1.955 | Constrast loss: 9.50 | Total loss: 16192.502 | Train acc: 78.818 % ||| Val Loss: 15923.063 | Val acc: 78.573 %\n",
            "-------------------------------------------------------------------------------------------------------------------------------------------------------------------------------------\n",
            "Epoch: 7 / 10 | Reconst_loss: 3164.836 | Kldiv loss: 755.809 | Classifcation loss: 1.924 | Constrast loss: 23.67 | Total loss: 16817.073 | Train acc: 77.261 % ||| Val Loss: 16194.144 | Val acc: 78.941 %\n",
            "-------------------------------------------------------------------------------------------------------------------------------------------------------------------------------------\n",
            "Epoch: 8 / 10 | Reconst_loss: 3885.544 | Kldiv loss: 748.667 | Classifcation loss: 1.905 | Constrast loss: 31.76 | Total loss: 16039.210 | Train acc: 79.445 % ||| Val Loss: 15574.007 | Val acc: 79.697 %\n",
            "-------------------------------------------------------------------------------------------------------------------------------------------------------------------------------------\n",
            "Epoch: 9 / 10 | Reconst_loss: 2594.237 | Kldiv loss: 718.526 | Classifcation loss: 1.921 | Constrast loss: 43.62 | Total loss: 15546.774 | Train acc: 79.920 % ||| Val Loss: 15119.665 | Val acc: 80.284 %\n",
            "-------------------------------------------------------------------------------------------------------------------------------------------------------------------------------------\n"
          ]
        },
        {
          "metadata": {
            "tags": null
          },
          "name": "stderr",
          "output_type": "stream",
          "text": [
            "\u001b[32m[I 2023-03-17 23:15:28,505]\u001b[0m Trial 60 finished with value: 0.8015673517443703 and parameters: {'optuna_batch_size': 286, 'optimizer': 'Adam', 'lr': 0.009097324794827636, 'hidden_dim': 581, 'alpha': 6, 'beta': 9, 'gamma': 3, 'delta': 7}. Best is trial 13 with value: 0.9585126527801691.\u001b[0m\n"
          ]
        },
        {
          "metadata": {
            "tags": null
          },
          "name": "stdout",
          "output_type": "stream",
          "text": [
            "Epoch: 10 / 10 | Reconst_loss: 2931.758 | Kldiv loss: 808.435 | Classifcation loss: 1.904 | Constrast loss: 2.60 | Total loss: 15290.117 | Train acc: 80.157 % ||| Val Loss: 14933.836 | Val acc: 80.284 %\n",
            "-------------------------------------------------------------------------------------------------------------------------------------------------------------------------------------\n",
            "Epoch: 1 / 10 | Reconst_loss: 262.745 | Kldiv loss: 76.629 | Classifcation loss: 2.055 | Constrast loss: 0.00 | Total loss: 11926.622 | Train acc: 51.954 % ||| Val Loss: 8911.414 | Val acc: 71.578 %\n",
            "-------------------------------------------------------------------------------------------------------------------------------------------------------------------------------------\n",
            "Epoch: 2 / 10 | Reconst_loss: 185.332 | Kldiv loss: 87.266 | Classifcation loss: 1.964 | Constrast loss: 0.00 | Total loss: 8443.921 | Train acc: 76.104 % ||| Val Loss: 8223.391 | Val acc: 77.563 %\n",
            "-------------------------------------------------------------------------------------------------------------------------------------------------------------------------------------\n",
            "Epoch: 3 / 10 | Reconst_loss: 523.235 | Kldiv loss: 87.141 | Classifcation loss: 1.897 | Constrast loss: 1.59 | Total loss: 8291.464 | Train acc: 78.171 % ||| Val Loss: 8033.920 | Val acc: 80.336 %\n",
            "-------------------------------------------------------------------------------------------------------------------------------------------------------------------------------------\n",
            "Epoch: 4 / 10 | Reconst_loss: 255.185 | Kldiv loss: 98.968 | Classifcation loss: 1.809 | Constrast loss: 4.48 | Total loss: 8093.226 | Train acc: 86.320 % ||| Val Loss: 8597.217 | Val acc: 87.432 %\n",
            "-------------------------------------------------------------------------------------------------------------------------------------------------------------------------------------\n",
            "Epoch: 5 / 10 | Reconst_loss: 281.857 | Kldiv loss: 87.052 | Classifcation loss: 1.889 | Constrast loss: 0.10 | Total loss: 8122.904 | Train acc: 86.354 % ||| Val Loss: 7858.237 | Val acc: 87.231 %\n",
            "-------------------------------------------------------------------------------------------------------------------------------------------------------------------------------------\n",
            "Epoch: 6 / 10 | Reconst_loss: 219.340 | Kldiv loss: 80.293 | Classifcation loss: 1.707 | Constrast loss: 0.00 | Total loss: 7861.780 | Train acc: 87.520 % ||| Val Loss: 7875.699 | Val acc: 88.292 %\n",
            "-------------------------------------------------------------------------------------------------------------------------------------------------------------------------------------\n",
            "Epoch: 7 / 10 | Reconst_loss: 668.104 | Kldiv loss: 86.450 | Classifcation loss: 1.871 | Constrast loss: 0.09 | Total loss: 7927.019 | Train acc: 86.377 % ||| Val Loss: 8227.709 | Val acc: 85.836 %\n",
            "-------------------------------------------------------------------------------------------------------------------------------------------------------------------------------------\n",
            "Epoch: 8 / 10 | Reconst_loss: 466.255 | Kldiv loss: 88.762 | Classifcation loss: 1.810 | Constrast loss: 0.00 | Total loss: 7709.225 | Train acc: 87.918 % ||| Val Loss: 7661.335 | Val acc: 88.175 %\n",
            "-------------------------------------------------------------------------------------------------------------------------------------------------------------------------------------\n",
            "Epoch: 9 / 10 | Reconst_loss: 414.430 | Kldiv loss: 88.314 | Classifcation loss: 1.921 | Constrast loss: 0.68 | Total loss: 7735.836 | Train acc: 87.922 % ||| Val Loss: 7703.313 | Val acc: 87.953 %\n",
            "-------------------------------------------------------------------------------------------------------------------------------------------------------------------------------------\n"
          ]
        },
        {
          "metadata": {
            "tags": null
          },
          "name": "stderr",
          "output_type": "stream",
          "text": [
            "\u001b[32m[I 2023-03-17 23:18:55,297]\u001b[0m Trial 61 finished with value: 0.8780540996089257 and parameters: {'optuna_batch_size': 146, 'optimizer': 'Adam', 'lr': 0.009700377131322737, 'hidden_dim': 638, 'alpha': 7, 'beta': 8, 'gamma': 6, 'delta': 9}. Best is trial 13 with value: 0.9585126527801691.\u001b[0m\n"
          ]
        },
        {
          "metadata": {
            "tags": null
          },
          "name": "stdout",
          "output_type": "stream",
          "text": [
            "Epoch: 10 / 10 | Reconst_loss: 253.600 | Kldiv loss: 92.549 | Classifcation loss: 1.951 | Constrast loss: 0.00 | Total loss: 7691.822 | Train acc: 87.805 % ||| Val Loss: 7325.090 | Val acc: 88.456 %\n",
            "-------------------------------------------------------------------------------------------------------------------------------------------------------------------------------------\n",
            "Epoch: 1 / 10 | Reconst_loss: 873.731 | Kldiv loss: 196.056 | Classifcation loss: 2.284 | Constrast loss: 2.37 | Total loss: 23885.966 | Train acc: 32.717 % ||| Val Loss: 13149.304 | Val acc: 50.452 %\n",
            "-------------------------------------------------------------------------------------------------------------------------------------------------------------------------------------\n",
            "Epoch: 2 / 10 | Reconst_loss: 708.047 | Kldiv loss: 181.477 | Classifcation loss: 2.079 | Constrast loss: 1.23 | Total loss: 12371.643 | Train acc: 59.230 % ||| Val Loss: 11880.618 | Val acc: 64.789 %\n",
            "-------------------------------------------------------------------------------------------------------------------------------------------------------------------------------------\n",
            "Epoch: 3 / 10 | Reconst_loss: 911.676 | Kldiv loss: 217.746 | Classifcation loss: 2.037 | Constrast loss: 2.93 | Total loss: 11560.898 | Train acc: 66.644 % ||| Val Loss: 11217.741 | Val acc: 67.098 %\n",
            "-------------------------------------------------------------------------------------------------------------------------------------------------------------------------------------\n",
            "Epoch: 4 / 10 | Reconst_loss: 822.267 | Kldiv loss: 178.681 | Classifcation loss: 1.940 | Constrast loss: 2.01 | Total loss: 11136.152 | Train acc: 68.152 % ||| Val Loss: 10748.411 | Val acc: 69.137 %\n",
            "-------------------------------------------------------------------------------------------------------------------------------------------------------------------------------------\n",
            "Epoch: 5 / 10 | Reconst_loss: 739.326 | Kldiv loss: 188.152 | Classifcation loss: 2.064 | Constrast loss: 0.00 | Total loss: 10906.442 | Train acc: 68.714 % ||| Val Loss: 11409.939 | Val acc: 66.928 %\n",
            "-------------------------------------------------------------------------------------------------------------------------------------------------------------------------------------\n",
            "Epoch: 6 / 10 | Reconst_loss: 566.063 | Kldiv loss: 160.731 | Classifcation loss: 1.995 | Constrast loss: 1.68 | Total loss: 10845.124 | Train acc: 69.042 % ||| Val Loss: 11049.788 | Val acc: 67.905 %\n",
            "-------------------------------------------------------------------------------------------------------------------------------------------------------------------------------------\n",
            "Epoch: 7 / 10 | Reconst_loss: 855.680 | Kldiv loss: 175.709 | Classifcation loss: 1.990 | Constrast loss: 0.17 | Total loss: 10670.772 | Train acc: 69.124 % ||| Val Loss: 10451.432 | Val acc: 69.121 %\n",
            "-------------------------------------------------------------------------------------------------------------------------------------------------------------------------------------\n",
            "Epoch: 8 / 10 | Reconst_loss: 563.202 | Kldiv loss: 186.879 | Classifcation loss: 2.087 | Constrast loss: 1.19 | Total loss: 10579.913 | Train acc: 69.036 % ||| Val Loss: 10620.202 | Val acc: 69.258 %\n",
            "-------------------------------------------------------------------------------------------------------------------------------------------------------------------------------------\n",
            "Epoch: 9 / 10 | Reconst_loss: 768.065 | Kldiv loss: 176.035 | Classifcation loss: 2.022 | Constrast loss: 5.44 | Total loss: 10746.681 | Train acc: 68.607 % ||| Val Loss: 10711.216 | Val acc: 68.286 %\n",
            "-------------------------------------------------------------------------------------------------------------------------------------------------------------------------------------\n"
          ]
        },
        {
          "metadata": {
            "tags": null
          },
          "name": "stderr",
          "output_type": "stream",
          "text": [
            "\u001b[32m[I 2023-03-17 23:19:33,428]\u001b[0m Trial 62 finished with value: 0.6901688787403065 and parameters: {'optuna_batch_size': 195, 'optimizer': 'Adam', 'lr': 0.00814782556122632, 'hidden_dim': 165, 'alpha': 8, 'beta': 6, 'gamma': 9, 'delta': 9}. Best is trial 13 with value: 0.9585126527801691.\u001b[0m\n"
          ]
        },
        {
          "metadata": {
            "tags": null
          },
          "name": "stdout",
          "output_type": "stream",
          "text": [
            "Epoch: 10 / 10 | Reconst_loss: 694.070 | Kldiv loss: 174.594 | Classifcation loss: 1.966 | Constrast loss: 1.70 | Total loss: 10543.599 | Train acc: 69.017 % ||| Val Loss: 10280.854 | Val acc: 69.637 %\n",
            "-------------------------------------------------------------------------------------------------------------------------------------------------------------------------------------\n",
            "Epoch: 1 / 10 | Reconst_loss: 2721.011 | Kldiv loss: 778.644 | Classifcation loss: 2.195 | Constrast loss: 82.14 | Total loss: 74127.491 | Train acc: 29.714 % ||| Val Loss: 12562.781 | Val acc: 57.235 %\n",
            "-------------------------------------------------------------------------------------------------------------------------------------------------------------------------------------\n",
            "Epoch: 2 / 10 | Reconst_loss: 2961.825 | Kldiv loss: 666.685 | Classifcation loss: 1.954 | Constrast loss: 61.57 | Total loss: 11792.022 | Train acc: 65.079 % ||| Val Loss: 13048.899 | Val acc: 63.589 %\n",
            "-------------------------------------------------------------------------------------------------------------------------------------------------------------------------------------\n",
            "Epoch: 3 / 10 | Reconst_loss: 2835.316 | Kldiv loss: 624.758 | Classifcation loss: 1.892 | Constrast loss: 29.47 | Total loss: 10554.809 | Train acc: 72.961 % ||| Val Loss: 10019.782 | Val acc: 73.770 %\n",
            "-------------------------------------------------------------------------------------------------------------------------------------------------------------------------------------\n",
            "Epoch: 4 / 10 | Reconst_loss: 2940.987 | Kldiv loss: 669.394 | Classifcation loss: 1.896 | Constrast loss: 17.02 | Total loss: 10112.218 | Train acc: 74.692 % ||| Val Loss: 9484.435 | Val acc: 75.163 %\n",
            "-------------------------------------------------------------------------------------------------------------------------------------------------------------------------------------\n",
            "Epoch: 5 / 10 | Reconst_loss: 2545.330 | Kldiv loss: 704.922 | Classifcation loss: 1.916 | Constrast loss: 54.69 | Total loss: 9853.774 | Train acc: 75.637 % ||| Val Loss: 9472.692 | Val acc: 75.732 %\n",
            "-------------------------------------------------------------------------------------------------------------------------------------------------------------------------------------\n",
            "Epoch: 6 / 10 | Reconst_loss: 2251.867 | Kldiv loss: 620.923 | Classifcation loss: 1.927 | Constrast loss: 72.77 | Total loss: 9826.226 | Train acc: 75.553 % ||| Val Loss: 9661.744 | Val acc: 74.815 %\n",
            "-------------------------------------------------------------------------------------------------------------------------------------------------------------------------------------\n",
            "Epoch: 7 / 10 | Reconst_loss: 1986.758 | Kldiv loss: 559.457 | Classifcation loss: 1.954 | Constrast loss: 12.58 | Total loss: 9400.413 | Train acc: 76.503 % ||| Val Loss: 8956.919 | Val acc: 75.807 %\n",
            "-------------------------------------------------------------------------------------------------------------------------------------------------------------------------------------\n",
            "Epoch: 8 / 10 | Reconst_loss: 1974.924 | Kldiv loss: 587.282 | Classifcation loss: 1.877 | Constrast loss: 26.50 | Total loss: 9343.396 | Train acc: 76.489 % ||| Val Loss: 8963.865 | Val acc: 76.648 %\n",
            "-------------------------------------------------------------------------------------------------------------------------------------------------------------------------------------\n",
            "Epoch: 9 / 10 | Reconst_loss: 2676.963 | Kldiv loss: 688.510 | Classifcation loss: 1.907 | Constrast loss: 31.54 | Total loss: 9114.695 | Train acc: 76.697 % ||| Val Loss: 9455.466 | Val acc: 76.538 %\n",
            "-------------------------------------------------------------------------------------------------------------------------------------------------------------------------------------\n"
          ]
        },
        {
          "metadata": {
            "tags": null
          },
          "name": "stderr",
          "output_type": "stream",
          "text": [
            "\u001b[32m[I 2023-03-17 23:21:56,250]\u001b[0m Trial 63 finished with value: 0.7715253637730357 and parameters: {'optuna_batch_size': 174, 'optimizer': 'Adam', 'lr': 0.0076904928256477136, 'hidden_dim': 529, 'alpha': 10, 'beta': 7, 'gamma': 8, 'delta': 10}. Best is trial 13 with value: 0.9585126527801691.\u001b[0m\n"
          ]
        },
        {
          "metadata": {
            "tags": null
          },
          "name": "stdout",
          "output_type": "stream",
          "text": [
            "Epoch: 10 / 10 | Reconst_loss: 2112.920 | Kldiv loss: 622.827 | Classifcation loss: 1.923 | Constrast loss: 17.62 | Total loss: 8936.908 | Train acc: 77.153 % ||| Val Loss: 8815.990 | Val acc: 76.627 %\n",
            "-------------------------------------------------------------------------------------------------------------------------------------------------------------------------------------\n",
            "Epoch: 1 / 10 | Reconst_loss: 1705.243 | Kldiv loss: 285.400 | Classifcation loss: 2.202 | Constrast loss: 14.75 | Total loss: 25973.393 | Train acc: 34.705 % ||| Val Loss: 15727.149 | Val acc: 51.042 %\n",
            "-------------------------------------------------------------------------------------------------------------------------------------------------------------------------------------\n",
            "Epoch: 2 / 10 | Reconst_loss: 1492.576 | Kldiv loss: 274.321 | Classifcation loss: 1.989 | Constrast loss: 2.60 | Total loss: 15079.139 | Train acc: 65.183 % ||| Val Loss: 14300.755 | Val acc: 71.503 %\n",
            "-------------------------------------------------------------------------------------------------------------------------------------------------------------------------------------\n",
            "Epoch: 3 / 10 | Reconst_loss: 914.958 | Kldiv loss: 326.239 | Classifcation loss: 2.044 | Constrast loss: 0.86 | Total loss: 13855.218 | Train acc: 74.337 % ||| Val Loss: 13399.590 | Val acc: 75.187 %\n",
            "-------------------------------------------------------------------------------------------------------------------------------------------------------------------------------------\n",
            "Epoch: 4 / 10 | Reconst_loss: 996.691 | Kldiv loss: 289.135 | Classifcation loss: 1.862 | Constrast loss: 0.00 | Total loss: 13340.826 | Train acc: 76.812 % ||| Val Loss: 13144.838 | Val acc: 74.731 %\n",
            "-------------------------------------------------------------------------------------------------------------------------------------------------------------------------------------\n",
            "Epoch: 5 / 10 | Reconst_loss: 1228.946 | Kldiv loss: 269.175 | Classifcation loss: 1.983 | Constrast loss: 0.26 | Total loss: 13102.780 | Train acc: 77.905 % ||| Val Loss: 12638.507 | Val acc: 78.597 %\n",
            "-------------------------------------------------------------------------------------------------------------------------------------------------------------------------------------\n",
            "Epoch: 6 / 10 | Reconst_loss: 832.955 | Kldiv loss: 316.072 | Classifcation loss: 1.875 | Constrast loss: 0.32 | Total loss: 12897.658 | Train acc: 78.684 % ||| Val Loss: 12764.411 | Val acc: 78.398 %\n",
            "-------------------------------------------------------------------------------------------------------------------------------------------------------------------------------------\n",
            "Epoch: 7 / 10 | Reconst_loss: 1419.900 | Kldiv loss: 324.730 | Classifcation loss: 1.999 | Constrast loss: 0.33 | Total loss: 12774.314 | Train acc: 79.104 % ||| Val Loss: 14466.915 | Val acc: 75.640 %\n",
            "-------------------------------------------------------------------------------------------------------------------------------------------------------------------------------------\n",
            "Epoch: 8 / 10 | Reconst_loss: 1329.908 | Kldiv loss: 324.258 | Classifcation loss: 1.918 | Constrast loss: 3.73 | Total loss: 12974.609 | Train acc: 78.891 % ||| Val Loss: 13186.935 | Val acc: 78.988 %\n",
            "-------------------------------------------------------------------------------------------------------------------------------------------------------------------------------------\n",
            "Epoch: 9 / 10 | Reconst_loss: 939.074 | Kldiv loss: 280.762 | Classifcation loss: 1.931 | Constrast loss: 0.40 | Total loss: 12732.238 | Train acc: 78.825 % ||| Val Loss: 13201.066 | Val acc: 78.092 %\n",
            "-------------------------------------------------------------------------------------------------------------------------------------------------------------------------------------\n"
          ]
        },
        {
          "metadata": {
            "tags": null
          },
          "name": "stderr",
          "output_type": "stream",
          "text": [
            "\u001b[32m[I 2023-03-17 23:22:59,708]\u001b[0m Trial 64 finished with value: 0.7931681942505577 and parameters: {'optuna_batch_size': 232, 'optimizer': 'Adam', 'lr': 0.008601578036520535, 'hidden_dim': 302, 'alpha': 9, 'beta': 9, 'gamma': 5, 'delta': 9}. Best is trial 13 with value: 0.9585126527801691.\u001b[0m\n"
          ]
        },
        {
          "metadata": {
            "tags": null
          },
          "name": "stdout",
          "output_type": "stream",
          "text": [
            "Epoch: 10 / 10 | Reconst_loss: 1082.653 | Kldiv loss: 277.814 | Classifcation loss: 1.917 | Constrast loss: 4.07 | Total loss: 12587.205 | Train acc: 79.317 % ||| Val Loss: 12380.087 | Val acc: 79.288 %\n",
            "-------------------------------------------------------------------------------------------------------------------------------------------------------------------------------------\n",
            "Epoch: 1 / 10 | Reconst_loss: 5175.468 | Kldiv loss: 1686.707 | Classifcation loss: 2.398 | Constrast loss: 226.41 | Total loss: 106941.313 | Train acc: 20.852 % ||| Val Loss: 48186.002 | Val acc: 36.695 %\n",
            "-------------------------------------------------------------------------------------------------------------------------------------------------------------------------------------\n",
            "Epoch: 2 / 10 | Reconst_loss: 3506.629 | Kldiv loss: 1381.926 | Classifcation loss: 2.206 | Constrast loss: 58.47 | Total loss: 42657.643 | Train acc: 44.594 % ||| Val Loss: 36725.756 | Val acc: 52.502 %\n",
            "-------------------------------------------------------------------------------------------------------------------------------------------------------------------------------------\n",
            "Epoch: 3 / 10 | Reconst_loss: 4127.106 | Kldiv loss: 1575.728 | Classifcation loss: 2.128 | Constrast loss: 44.49 | Total loss: 35765.447 | Train acc: 53.957 % ||| Val Loss: 35653.898 | Val acc: 54.518 %\n",
            "-------------------------------------------------------------------------------------------------------------------------------------------------------------------------------------\n",
            "Epoch: 4 / 10 | Reconst_loss: 4452.383 | Kldiv loss: 1205.596 | Classifcation loss: 2.123 | Constrast loss: 42.51 | Total loss: 34471.582 | Train acc: 55.534 % ||| Val Loss: 33405.079 | Val acc: 55.343 %\n",
            "-------------------------------------------------------------------------------------------------------------------------------------------------------------------------------------\n",
            "Epoch: 5 / 10 | Reconst_loss: 3582.630 | Kldiv loss: 1196.704 | Classifcation loss: 2.154 | Constrast loss: 90.50 | Total loss: 32967.420 | Train acc: 56.960 % ||| Val Loss: 32382.529 | Val acc: 57.587 %\n",
            "-------------------------------------------------------------------------------------------------------------------------------------------------------------------------------------\n",
            "Epoch: 6 / 10 | Reconst_loss: 3893.382 | Kldiv loss: 1113.391 | Classifcation loss: 2.157 | Constrast loss: 75.16 | Total loss: 32701.627 | Train acc: 57.652 % ||| Val Loss: 33336.781 | Val acc: 56.808 %\n",
            "-------------------------------------------------------------------------------------------------------------------------------------------------------------------------------------\n",
            "Epoch: 7 / 10 | Reconst_loss: 4810.288 | Kldiv loss: 1241.722 | Classifcation loss: 2.182 | Constrast loss: 38.45 | Total loss: 33309.622 | Train acc: 57.147 % ||| Val Loss: 37964.533 | Val acc: 51.012 %\n",
            "-------------------------------------------------------------------------------------------------------------------------------------------------------------------------------------\n",
            "Epoch: 8 / 10 | Reconst_loss: 4255.958 | Kldiv loss: 1261.876 | Classifcation loss: 2.009 | Constrast loss: 7.42 | Total loss: 32341.408 | Train acc: 58.788 % ||| Val Loss: 31752.167 | Val acc: 59.122 %\n",
            "-------------------------------------------------------------------------------------------------------------------------------------------------------------------------------------\n",
            "Epoch: 9 / 10 | Reconst_loss: 3429.458 | Kldiv loss: 1127.117 | Classifcation loss: 2.085 | Constrast loss: 20.86 | Total loss: 31329.192 | Train acc: 61.128 % ||| Val Loss: 30914.139 | Val acc: 60.795 %\n",
            "-------------------------------------------------------------------------------------------------------------------------------------------------------------------------------------\n"
          ]
        },
        {
          "metadata": {
            "tags": null
          },
          "name": "stderr",
          "output_type": "stream",
          "text": [
            "\u001b[32m[I 2023-03-17 23:24:11,529]\u001b[0m Trial 65 finished with value: 0.6168083271741807 and parameters: {'optuna_batch_size': 533, 'optimizer': 'Adam', 'lr': 0.008840224746173317, 'hidden_dim': 382, 'alpha': 4, 'beta': 6, 'gamma': 7, 'delta': 10}. Best is trial 13 with value: 0.9585126527801691.\u001b[0m\n"
          ]
        },
        {
          "metadata": {
            "tags": null
          },
          "name": "stdout",
          "output_type": "stream",
          "text": [
            "Epoch: 10 / 10 | Reconst_loss: 3831.237 | Kldiv loss: 1022.672 | Classifcation loss: 2.043 | Constrast loss: 27.33 | Total loss: 32395.856 | Train acc: 61.681 % ||| Val Loss: 31283.506 | Val acc: 61.565 %\n",
            "-------------------------------------------------------------------------------------------------------------------------------------------------------------------------------------\n",
            "Epoch: 1 / 10 | Reconst_loss: 3074.766 | Kldiv loss: 704.102 | Classifcation loss: 2.136 | Constrast loss: 159.87 | Total loss: 14151.727 | Train acc: 36.710 % ||| Val Loss: 8261.120 | Val acc: 61.502 %\n",
            "-------------------------------------------------------------------------------------------------------------------------------------------------------------------------------------\n",
            "Epoch: 2 / 10 | Reconst_loss: 2768.249 | Kldiv loss: 629.763 | Classifcation loss: 2.063 | Constrast loss: 109.33 | Total loss: 8217.339 | Train acc: 64.829 % ||| Val Loss: 8317.721 | Val acc: 63.537 %\n",
            "-------------------------------------------------------------------------------------------------------------------------------------------------------------------------------------\n",
            "Epoch: 3 / 10 | Reconst_loss: 3007.478 | Kldiv loss: 674.524 | Classifcation loss: 2.054 | Constrast loss: 68.44 | Total loss: 7600.106 | Train acc: 70.667 % ||| Val Loss: 7248.771 | Val acc: 73.266 %\n",
            "-------------------------------------------------------------------------------------------------------------------------------------------------------------------------------------\n",
            "Epoch: 4 / 10 | Reconst_loss: 2876.751 | Kldiv loss: 710.640 | Classifcation loss: 1.947 | Constrast loss: 39.67 | Total loss: 7387.802 | Train acc: 73.165 % ||| Val Loss: 7344.149 | Val acc: 73.373 %\n",
            "-------------------------------------------------------------------------------------------------------------------------------------------------------------------------------------\n",
            "Epoch: 5 / 10 | Reconst_loss: 2856.689 | Kldiv loss: 668.467 | Classifcation loss: 1.885 | Constrast loss: 39.56 | Total loss: 7218.107 | Train acc: 75.215 % ||| Val Loss: 6986.309 | Val acc: 77.311 %\n",
            "-------------------------------------------------------------------------------------------------------------------------------------------------------------------------------------\n",
            "Epoch: 6 / 10 | Reconst_loss: 3169.075 | Kldiv loss: 758.863 | Classifcation loss: 1.943 | Constrast loss: 49.11 | Total loss: 7163.834 | Train acc: 76.561 % ||| Val Loss: 7215.777 | Val acc: 76.700 %\n",
            "-------------------------------------------------------------------------------------------------------------------------------------------------------------------------------------\n",
            "Epoch: 7 / 10 | Reconst_loss: 2311.617 | Kldiv loss: 694.101 | Classifcation loss: 1.916 | Constrast loss: 41.98 | Total loss: 7049.337 | Train acc: 77.324 % ||| Val Loss: 6802.846 | Val acc: 78.142 %\n",
            "-------------------------------------------------------------------------------------------------------------------------------------------------------------------------------------\n",
            "Epoch: 8 / 10 | Reconst_loss: 2834.918 | Kldiv loss: 664.443 | Classifcation loss: 1.944 | Constrast loss: 28.19 | Total loss: 6901.358 | Train acc: 78.021 % ||| Val Loss: 6628.652 | Val acc: 77.784 %\n",
            "-------------------------------------------------------------------------------------------------------------------------------------------------------------------------------------\n",
            "Epoch: 9 / 10 | Reconst_loss: 3056.093 | Kldiv loss: 670.929 | Classifcation loss: 1.939 | Constrast loss: 30.87 | Total loss: 6875.712 | Train acc: 78.008 % ||| Val Loss: 6910.604 | Val acc: 76.977 %\n",
            "-------------------------------------------------------------------------------------------------------------------------------------------------------------------------------------\n"
          ]
        },
        {
          "metadata": {
            "tags": null
          },
          "name": "stderr",
          "output_type": "stream",
          "text": [
            "\u001b[32m[I 2023-03-17 23:26:15,562]\u001b[0m Trial 66 finished with value: 0.7776426411290324 and parameters: {'optuna_batch_size': 128, 'optimizer': 'Adam', 'lr': 0.006026421111851547, 'hidden_dim': 441, 'alpha': 6, 'beta': 0, 'gamma': 6, 'delta': 8}. Best is trial 13 with value: 0.9585126527801691.\u001b[0m\n"
          ]
        },
        {
          "metadata": {
            "tags": null
          },
          "name": "stdout",
          "output_type": "stream",
          "text": [
            "Epoch: 10 / 10 | Reconst_loss: 2297.525 | Kldiv loss: 679.194 | Classifcation loss: 1.949 | Constrast loss: 75.36 | Total loss: 6856.315 | Train acc: 77.764 % ||| Val Loss: 6693.160 | Val acc: 77.828 %\n",
            "-------------------------------------------------------------------------------------------------------------------------------------------------------------------------------------\n",
            "Epoch: 1 / 10 | Reconst_loss: 1237.629 | Kldiv loss: 211.785 | Classifcation loss: 2.004 | Constrast loss: 2.27 | Total loss: 14043.899 | Train acc: 46.875 % ||| Val Loss: 9638.945 | Val acc: 76.434 %\n",
            "-------------------------------------------------------------------------------------------------------------------------------------------------------------------------------------\n",
            "Epoch: 2 / 10 | Reconst_loss: 599.771 | Kldiv loss: 214.943 | Classifcation loss: 1.918 | Constrast loss: 7.76 | Total loss: 9504.710 | Train acc: 83.584 % ||| Val Loss: 9046.977 | Val acc: 89.064 %\n",
            "-------------------------------------------------------------------------------------------------------------------------------------------------------------------------------------\n",
            "Epoch: 3 / 10 | Reconst_loss: 1102.319 | Kldiv loss: 200.862 | Classifcation loss: 1.883 | Constrast loss: 11.58 | Total loss: 9122.264 | Train acc: 86.934 % ||| Val Loss: 9340.987 | Val acc: 85.496 %\n",
            "-------------------------------------------------------------------------------------------------------------------------------------------------------------------------------------\n",
            "Epoch: 4 / 10 | Reconst_loss: 1193.450 | Kldiv loss: 207.944 | Classifcation loss: 1.875 | Constrast loss: 1.98 | Total loss: 8907.784 | Train acc: 89.325 % ||| Val Loss: 8473.392 | Val acc: 90.501 %\n",
            "-------------------------------------------------------------------------------------------------------------------------------------------------------------------------------------\n",
            "Epoch: 5 / 10 | Reconst_loss: 898.772 | Kldiv loss: 226.922 | Classifcation loss: 1.824 | Constrast loss: 2.14 | Total loss: 8655.441 | Train acc: 90.830 % ||| Val Loss: 8651.903 | Val acc: 91.406 %\n",
            "-------------------------------------------------------------------------------------------------------------------------------------------------------------------------------------\n",
            "Epoch: 6 / 10 | Reconst_loss: 1126.067 | Kldiv loss: 227.360 | Classifcation loss: 1.866 | Constrast loss: 10.84 | Total loss: 8609.867 | Train acc: 90.774 % ||| Val Loss: 8866.716 | Val acc: 87.034 %\n",
            "-------------------------------------------------------------------------------------------------------------------------------------------------------------------------------------\n",
            "Epoch: 7 / 10 | Reconst_loss: 1038.486 | Kldiv loss: 234.893 | Classifcation loss: 1.760 | Constrast loss: 4.25 | Total loss: 8571.984 | Train acc: 91.399 % ||| Val Loss: 8421.007 | Val acc: 92.519 %\n",
            "-------------------------------------------------------------------------------------------------------------------------------------------------------------------------------------\n",
            "Epoch: 8 / 10 | Reconst_loss: 1278.751 | Kldiv loss: 229.103 | Classifcation loss: 1.743 | Constrast loss: 7.61 | Total loss: 8496.604 | Train acc: 93.003 % ||| Val Loss: 8271.387 | Val acc: 93.779 %\n",
            "-------------------------------------------------------------------------------------------------------------------------------------------------------------------------------------\n",
            "Epoch: 9 / 10 | Reconst_loss: 641.117 | Kldiv loss: 223.461 | Classifcation loss: 1.745 | Constrast loss: 6.40 | Total loss: 8420.439 | Train acc: 94.445 % ||| Val Loss: 8219.868 | Val acc: 95.423 %\n",
            "-------------------------------------------------------------------------------------------------------------------------------------------------------------------------------------\n"
          ]
        },
        {
          "metadata": {
            "tags": null
          },
          "name": "stderr",
          "output_type": "stream",
          "text": [
            "\u001b[32m[I 2023-03-17 23:29:21,151]\u001b[0m Trial 67 finished with value: 0.9498208099867491 and parameters: {'optuna_batch_size': 157, 'optimizer': 'Adam', 'lr': 0.008352835418283225, 'hidden_dim': 609, 'alpha': 5, 'beta': 5, 'gamma': 8, 'delta': 9}. Best is trial 13 with value: 0.9585126527801691.\u001b[0m\n"
          ]
        },
        {
          "metadata": {
            "tags": null
          },
          "name": "stdout",
          "output_type": "stream",
          "text": [
            "Epoch: 10 / 10 | Reconst_loss: 929.084 | Kldiv loss: 202.046 | Classifcation loss: 1.790 | Constrast loss: 0.86 | Total loss: 8353.155 | Train acc: 94.982 % ||| Val Loss: 8271.039 | Val acc: 95.429 %\n",
            "-------------------------------------------------------------------------------------------------------------------------------------------------------------------------------------\n",
            "Epoch: 1 / 10 | Reconst_loss: 1150.566 | Kldiv loss: 221.542 | Classifcation loss: 2.015 | Constrast loss: 10.49 | Total loss: 8936.840 | Train acc: 46.271 % ||| Val Loss: 6594.633 | Val acc: 70.725 %\n",
            "-------------------------------------------------------------------------------------------------------------------------------------------------------------------------------------\n",
            "Epoch: 2 / 10 | Reconst_loss: 1367.917 | Kldiv loss: 247.260 | Classifcation loss: 1.946 | Constrast loss: 1.81 | Total loss: 6182.567 | Train acc: 74.377 % ||| Val Loss: 5999.539 | Val acc: 75.822 %\n",
            "-------------------------------------------------------------------------------------------------------------------------------------------------------------------------------------\n",
            "Epoch: 3 / 10 | Reconst_loss: 918.697 | Kldiv loss: 233.992 | Classifcation loss: 2.028 | Constrast loss: 6.62 | Total loss: 5967.059 | Train acc: 75.863 % ||| Val Loss: 5804.372 | Val acc: 77.361 %\n",
            "-------------------------------------------------------------------------------------------------------------------------------------------------------------------------------------\n",
            "Epoch: 4 / 10 | Reconst_loss: 1130.859 | Kldiv loss: 255.161 | Classifcation loss: 1.890 | Constrast loss: 9.09 | Total loss: 5922.321 | Train acc: 76.281 % ||| Val Loss: 6040.414 | Val acc: 78.135 %\n",
            "-------------------------------------------------------------------------------------------------------------------------------------------------------------------------------------\n",
            "Epoch: 5 / 10 | Reconst_loss: 995.287 | Kldiv loss: 260.817 | Classifcation loss: 1.901 | Constrast loss: 5.51 | Total loss: 5933.423 | Train acc: 77.282 % ||| Val Loss: 5746.830 | Val acc: 80.764 %\n",
            "-------------------------------------------------------------------------------------------------------------------------------------------------------------------------------------\n",
            "Epoch: 6 / 10 | Reconst_loss: 1234.654 | Kldiv loss: 288.969 | Classifcation loss: 1.863 | Constrast loss: 1.96 | Total loss: 5738.538 | Train acc: 80.521 % ||| Val Loss: 5675.934 | Val acc: 82.327 %\n",
            "-------------------------------------------------------------------------------------------------------------------------------------------------------------------------------------\n",
            "Epoch: 7 / 10 | Reconst_loss: 1039.883 | Kldiv loss: 250.129 | Classifcation loss: 1.846 | Constrast loss: 6.04 | Total loss: 5705.298 | Train acc: 84.014 % ||| Val Loss: 5657.905 | Val acc: 84.868 %\n",
            "-------------------------------------------------------------------------------------------------------------------------------------------------------------------------------------\n",
            "Epoch: 8 / 10 | Reconst_loss: 627.426 | Kldiv loss: 228.416 | Classifcation loss: 1.960 | Constrast loss: 26.78 | Total loss: 5726.190 | Train acc: 84.767 % ||| Val Loss: 5400.913 | Val acc: 85.231 %\n",
            "-------------------------------------------------------------------------------------------------------------------------------------------------------------------------------------\n",
            "Epoch: 9 / 10 | Reconst_loss: 1403.510 | Kldiv loss: 262.815 | Classifcation loss: 1.873 | Constrast loss: 12.06 | Total loss: 5871.568 | Train acc: 83.653 % ||| Val Loss: 5773.711 | Val acc: 84.326 %\n",
            "-------------------------------------------------------------------------------------------------------------------------------------------------------------------------------------\n"
          ]
        },
        {
          "metadata": {
            "tags": null
          },
          "name": "stderr",
          "output_type": "stream",
          "text": [
            "\u001b[32m[I 2023-03-17 23:32:55,849]\u001b[0m Trial 68 finished with value: 0.8094805433186485 and parameters: {'optuna_batch_size': 105, 'optimizer': 'Adam', 'lr': 0.0083717673161058, 'hidden_dim': 606, 'alpha': 0, 'beta': 5, 'gamma': 4, 'delta': 7}. Best is trial 13 with value: 0.9585126527801691.\u001b[0m\n"
          ]
        },
        {
          "metadata": {
            "tags": null
          },
          "name": "stdout",
          "output_type": "stream",
          "text": [
            "Epoch: 10 / 10 | Reconst_loss: 924.238 | Kldiv loss: 238.612 | Classifcation loss: 1.922 | Constrast loss: 5.44 | Total loss: 5759.407 | Train acc: 80.948 % ||| Val Loss: 5454.764 | Val acc: 79.419 %\n",
            "-------------------------------------------------------------------------------------------------------------------------------------------------------------------------------------\n",
            "Epoch: 1 / 10 | Reconst_loss: nan | Kldiv loss: nan | Classifcation loss: nan | Constrast loss: nan | Total loss: nan | Train acc: 0.040 % ||| Val Loss: nan | Val acc: 0.000 %\n",
            "-------------------------------------------------------------------------------------------------------------------------------------------------------------------------------------\n",
            "Epoch: 2 / 10 | Reconst_loss: nan | Kldiv loss: nan | Classifcation loss: nan | Constrast loss: nan | Total loss: nan | Train acc: 0.000 % ||| Val Loss: nan | Val acc: 0.000 %\n",
            "-------------------------------------------------------------------------------------------------------------------------------------------------------------------------------------\n",
            "Epoch: 3 / 10 | Reconst_loss: nan | Kldiv loss: nan | Classifcation loss: nan | Constrast loss: nan | Total loss: nan | Train acc: 0.000 % ||| Val Loss: nan | Val acc: 0.000 %\n",
            "-------------------------------------------------------------------------------------------------------------------------------------------------------------------------------------\n"
          ]
        },
        {
          "metadata": {
            "tags": null
          },
          "name": "stderr",
          "output_type": "stream",
          "text": [
            "\u001b[32m[I 2023-03-17 23:34:19,571]\u001b[0m Trial 69 pruned. \u001b[0m\n"
          ]
        },
        {
          "output_type": "stream",
          "name": "stdout",
          "text": [
            "Epoch: 4 / 10 | Reconst_loss: nan | Kldiv loss: nan | Classifcation loss: nan | Constrast loss: nan | Total loss: nan | Train acc: 0.000 % ||| Val Loss: nan | Val acc: 0.000 %\n",
            "-------------------------------------------------------------------------------------------------------------------------------------------------------------------------------------\n",
            "Epoch: 1 / 10 | Reconst_loss: 3017.666 | Kldiv loss: 524.753 | Classifcation loss: 2.302 | Constrast loss: 94.57 | Total loss: 77688656769.245 | Train acc: 23.546 % ||| Val Loss: 14683.628 | Val acc: 42.705 %\n",
            "-------------------------------------------------------------------------------------------------------------------------------------------------------------------------------------\n",
            "Epoch: 2 / 10 | Reconst_loss: 1747.219 | Kldiv loss: 624.925 | Classifcation loss: 2.042 | Constrast loss: 16.28 | Total loss: 13234.092 | Train acc: 53.836 % ||| Val Loss: 12053.355 | Val acc: 61.384 %\n",
            "-------------------------------------------------------------------------------------------------------------------------------------------------------------------------------------\n",
            "Epoch: 3 / 10 | Reconst_loss: 1271.280 | Kldiv loss: 456.490 | Classifcation loss: 2.051 | Constrast loss: 8.59 | Total loss: 11553.472 | Train acc: 63.044 % ||| Val Loss: 10997.521 | Val acc: 63.959 %\n",
            "-------------------------------------------------------------------------------------------------------------------------------------------------------------------------------------\n",
            "Epoch: 4 / 10 | Reconst_loss: 2474.952 | Kldiv loss: 532.705 | Classifcation loss: 1.996 | Constrast loss: 30.05 | Total loss: 10977.515 | Train acc: 65.669 % ||| Val Loss: 10800.893 | Val acc: 67.373 %\n",
            "-------------------------------------------------------------------------------------------------------------------------------------------------------------------------------------\n",
            "Epoch: 5 / 10 | Reconst_loss: 2166.830 | Kldiv loss: 510.225 | Classifcation loss: 1.986 | Constrast loss: 24.33 | Total loss: 10786.056 | Train acc: 67.046 % ||| Val Loss: 11174.151 | Val acc: 65.611 %\n",
            "-------------------------------------------------------------------------------------------------------------------------------------------------------------------------------------\n",
            "Epoch: 6 / 10 | Reconst_loss: 1782.745 | Kldiv loss: 496.358 | Classifcation loss: 1.965 | Constrast loss: 24.77 | Total loss: 10544.404 | Train acc: 68.395 % ||| Val Loss: 10662.883 | Val acc: 68.491 %\n",
            "-------------------------------------------------------------------------------------------------------------------------------------------------------------------------------------\n",
            "Epoch: 7 / 10 | Reconst_loss: 2324.217 | Kldiv loss: 499.100 | Classifcation loss: 1.948 | Constrast loss: 19.70 | Total loss: 10332.188 | Train acc: 69.118 % ||| Val Loss: 10428.152 | Val acc: 68.703 %\n",
            "-------------------------------------------------------------------------------------------------------------------------------------------------------------------------------------\n",
            "Epoch: 8 / 10 | Reconst_loss: 1954.751 | Kldiv loss: 514.281 | Classifcation loss: 1.925 | Constrast loss: 18.00 | Total loss: 10341.362 | Train acc: 69.311 % ||| Val Loss: 11588.224 | Val acc: 63.434 %\n",
            "-------------------------------------------------------------------------------------------------------------------------------------------------------------------------------------\n",
            "Epoch: 9 / 10 | Reconst_loss: 1869.958 | Kldiv loss: 550.236 | Classifcation loss: 2.034 | Constrast loss: 37.81 | Total loss: 10300.535 | Train acc: 69.430 % ||| Val Loss: 9810.799 | Val acc: 69.390 %\n",
            "-------------------------------------------------------------------------------------------------------------------------------------------------------------------------------------\n"
          ]
        },
        {
          "output_type": "stream",
          "name": "stderr",
          "text": [
            "\u001b[32m[I 2023-03-17 23:38:16,423]\u001b[0m Trial 70 finished with value: 0.7043212839329102 and parameters: {'optuna_batch_size': 178, 'optimizer': 'Adam', 'lr': 0.00796698753665218, 'hidden_dim': 718, 'alpha': 5, 'beta': 4, 'gamma': 8, 'delta': 9}. Best is trial 13 with value: 0.9585126527801691.\u001b[0m\n"
          ]
        },
        {
          "output_type": "stream",
          "name": "stdout",
          "text": [
            "Epoch: 10 / 10 | Reconst_loss: 1805.668 | Kldiv loss: 485.608 | Classifcation loss: 1.969 | Constrast loss: 22.43 | Total loss: 10060.908 | Train acc: 70.432 % ||| Val Loss: 10276.242 | Val acc: 72.338 %\n",
            "-------------------------------------------------------------------------------------------------------------------------------------------------------------------------------------\n",
            "Epoch: 1 / 10 | Reconst_loss: 3468.949 | Kldiv loss: 837.910 | Classifcation loss: 2.046 | Constrast loss: 74.37 | Total loss: 16554.724 | Train acc: 38.686 % ||| Val Loss: 9540.942 | Val acc: 64.094 %\n",
            "-------------------------------------------------------------------------------------------------------------------------------------------------------------------------------------\n",
            "Epoch: 2 / 10 | Reconst_loss: 3931.179 | Kldiv loss: 889.926 | Classifcation loss: 2.070 | Constrast loss: 60.94 | Total loss: 9297.693 | Train acc: 74.390 % ||| Val Loss: 10266.524 | Val acc: 66.266 %\n",
            "-------------------------------------------------------------------------------------------------------------------------------------------------------------------------------------\n",
            "Epoch: 3 / 10 | Reconst_loss: 4162.461 | Kldiv loss: 763.264 | Classifcation loss: 1.940 | Constrast loss: 41.27 | Total loss: 8919.388 | Train acc: 84.915 % ||| Val Loss: 9656.927 | Val acc: 80.424 %\n",
            "-------------------------------------------------------------------------------------------------------------------------------------------------------------------------------------\n",
            "Epoch: 4 / 10 | Reconst_loss: 3466.434 | Kldiv loss: 661.756 | Classifcation loss: 1.817 | Constrast loss: 43.02 | Total loss: 8614.353 | Train acc: 88.954 % ||| Val Loss: 8212.238 | Val acc: 91.576 %\n",
            "-------------------------------------------------------------------------------------------------------------------------------------------------------------------------------------\n",
            "Epoch: 5 / 10 | Reconst_loss: 2902.719 | Kldiv loss: 703.886 | Classifcation loss: 1.795 | Constrast loss: 27.44 | Total loss: 8331.038 | Train acc: 91.574 % ||| Val Loss: 8361.058 | Val acc: 90.984 %\n",
            "-------------------------------------------------------------------------------------------------------------------------------------------------------------------------------------\n",
            "Epoch: 6 / 10 | Reconst_loss: 3044.583 | Kldiv loss: 708.244 | Classifcation loss: 1.810 | Constrast loss: 25.02 | Total loss: 8532.895 | Train acc: 90.785 % ||| Val Loss: 8182.518 | Val acc: 93.511 %\n",
            "-------------------------------------------------------------------------------------------------------------------------------------------------------------------------------------\n",
            "Epoch: 7 / 10 | Reconst_loss: 2702.352 | Kldiv loss: 712.846 | Classifcation loss: 1.762 | Constrast loss: 23.95 | Total loss: 8191.881 | Train acc: 92.797 % ||| Val Loss: 8020.212 | Val acc: 93.838 %\n",
            "-------------------------------------------------------------------------------------------------------------------------------------------------------------------------------------\n",
            "Epoch: 8 / 10 | Reconst_loss: 4230.517 | Kldiv loss: 661.450 | Classifcation loss: 1.951 | Constrast loss: 138.31 | Total loss: 8025.835 | Train acc: 93.753 % ||| Val Loss: 11082.463 | Val acc: 78.054 %\n",
            "-------------------------------------------------------------------------------------------------------------------------------------------------------------------------------------\n",
            "Epoch: 9 / 10 | Reconst_loss: 2417.792 | Kldiv loss: 713.177 | Classifcation loss: 1.729 | Constrast loss: 24.68 | Total loss: 8027.092 | Train acc: 94.202 % ||| Val Loss: 7744.116 | Val acc: 95.332 %\n",
            "-------------------------------------------------------------------------------------------------------------------------------------------------------------------------------------\n"
          ]
        },
        {
          "output_type": "stream",
          "name": "stderr",
          "text": [
            "\u001b[32m[I 2023-03-17 23:41:33,995]\u001b[0m Trial 71 finished with value: 0.9514518770471183 and parameters: {'optuna_batch_size': 147, 'optimizer': 'Adam', 'lr': 0.007548097032820144, 'hidden_dim': 629, 'alpha': 6, 'beta': 7, 'gamma': 7, 'delta': 9}. Best is trial 13 with value: 0.9585126527801691.\u001b[0m\n"
          ]
        },
        {
          "output_type": "stream",
          "name": "stdout",
          "text": [
            "Epoch: 10 / 10 | Reconst_loss: 2168.846 | Kldiv loss: 629.736 | Classifcation loss: 1.779 | Constrast loss: 76.15 | Total loss: 7920.313 | Train acc: 95.145 % ||| Val Loss: 7646.829 | Val acc: 96.055 %\n",
            "-------------------------------------------------------------------------------------------------------------------------------------------------------------------------------------\n",
            "Epoch: 1 / 10 | Reconst_loss: 2948.233 | Kldiv loss: 538.064 | Classifcation loss: 1.949 | Constrast loss: 33.38 | Total loss: 10837.836 | Train acc: 46.868 % ||| Val Loss: 7517.663 | Val acc: 77.565 %\n",
            "-------------------------------------------------------------------------------------------------------------------------------------------------------------------------------------\n",
            "Epoch: 2 / 10 | Reconst_loss: 2273.493 | Kldiv loss: 575.551 | Classifcation loss: 1.832 | Constrast loss: 21.50 | Total loss: 7529.411 | Train acc: 85.008 % ||| Val Loss: 7128.733 | Val acc: 89.541 %\n",
            "-------------------------------------------------------------------------------------------------------------------------------------------------------------------------------------\n",
            "Epoch: 3 / 10 | Reconst_loss: 2256.260 | Kldiv loss: 552.724 | Classifcation loss: 1.813 | Constrast loss: 70.46 | Total loss: 7197.914 | Train acc: 90.160 % ||| Val Loss: 6938.915 | Val acc: 92.956 %\n",
            "-------------------------------------------------------------------------------------------------------------------------------------------------------------------------------------\n",
            "Epoch: 4 / 10 | Reconst_loss: 2190.638 | Kldiv loss: 535.270 | Classifcation loss: 1.792 | Constrast loss: 48.51 | Total loss: 6961.161 | Train acc: 91.681 % ||| Val Loss: 6714.742 | Val acc: 92.383 %\n",
            "-------------------------------------------------------------------------------------------------------------------------------------------------------------------------------------\n",
            "Epoch: 5 / 10 | Reconst_loss: 2664.786 | Kldiv loss: 550.942 | Classifcation loss: 1.793 | Constrast loss: 20.76 | Total loss: 6807.149 | Train acc: 92.466 % ||| Val Loss: 6759.803 | Val acc: 92.697 %\n",
            "-------------------------------------------------------------------------------------------------------------------------------------------------------------------------------------\n",
            "Epoch: 6 / 10 | Reconst_loss: 2660.736 | Kldiv loss: 564.610 | Classifcation loss: 1.806 | Constrast loss: 36.37 | Total loss: 6787.305 | Train acc: 92.163 % ||| Val Loss: 6587.491 | Val acc: 91.973 %\n",
            "-------------------------------------------------------------------------------------------------------------------------------------------------------------------------------------\n",
            "Epoch: 7 / 10 | Reconst_loss: 2169.242 | Kldiv loss: 645.797 | Classifcation loss: 1.847 | Constrast loss: 43.25 | Total loss: 6787.089 | Train acc: 91.878 % ||| Val Loss: 6690.229 | Val acc: 89.202 %\n",
            "-------------------------------------------------------------------------------------------------------------------------------------------------------------------------------------\n",
            "Epoch: 8 / 10 | Reconst_loss: 2075.094 | Kldiv loss: 616.113 | Classifcation loss: 1.764 | Constrast loss: 36.94 | Total loss: 6696.091 | Train acc: 91.761 % ||| Val Loss: 6503.706 | Val acc: 91.991 %\n",
            "-------------------------------------------------------------------------------------------------------------------------------------------------------------------------------------\n",
            "Epoch: 9 / 10 | Reconst_loss: 1968.691 | Kldiv loss: 568.341 | Classifcation loss: 1.777 | Constrast loss: 21.12 | Total loss: 6604.275 | Train acc: 92.141 % ||| Val Loss: 6533.480 | Val acc: 91.463 %\n",
            "-------------------------------------------------------------------------------------------------------------------------------------------------------------------------------------\n"
          ]
        },
        {
          "output_type": "stream",
          "name": "stderr",
          "text": [
            "\u001b[32m[I 2023-03-17 23:45:03,740]\u001b[0m Trial 72 finished with value: 0.9230296055692897 and parameters: {'optuna_batch_size': 126, 'optimizer': 'Adam', 'lr': 0.007551610687001889, 'hidden_dim': 631, 'alpha': 6, 'beta': 8, 'gamma': 7, 'delta': 10}. Best is trial 13 with value: 0.9585126527801691.\u001b[0m\n"
          ]
        },
        {
          "output_type": "stream",
          "name": "stdout",
          "text": [
            "Epoch: 10 / 10 | Reconst_loss: 2227.843 | Kldiv loss: 559.752 | Classifcation loss: 1.759 | Constrast loss: 14.75 | Total loss: 6511.937 | Train acc: 92.303 % ||| Val Loss: 6312.066 | Val acc: 92.604 %\n",
            "-------------------------------------------------------------------------------------------------------------------------------------------------------------------------------------\n",
            "Epoch: 1 / 10 | Reconst_loss: 617.811 | Kldiv loss: 197.719 | Classifcation loss: 2.073 | Constrast loss: 4.02 | Total loss: 19910.281 | Train acc: 37.517 % ||| Val Loss: 9857.009 | Val acc: 61.963 %\n",
            "-------------------------------------------------------------------------------------------------------------------------------------------------------------------------------------\n",
            "Epoch: 2 / 10 | Reconst_loss: 762.480 | Kldiv loss: 176.773 | Classifcation loss: 1.863 | Constrast loss: 0.15 | Total loss: 9531.371 | Train acc: 71.017 % ||| Val Loss: 8904.975 | Val acc: 76.939 %\n",
            "-------------------------------------------------------------------------------------------------------------------------------------------------------------------------------------\n",
            "Epoch: 3 / 10 | Reconst_loss: 734.974 | Kldiv loss: 144.865 | Classifcation loss: 1.829 | Constrast loss: 1.08 | Total loss: 9016.862 | Train acc: 80.723 % ||| Val Loss: 8485.368 | Val acc: 86.053 %\n",
            "-------------------------------------------------------------------------------------------------------------------------------------------------------------------------------------\n",
            "Epoch: 4 / 10 | Reconst_loss: 752.974 | Kldiv loss: 136.429 | Classifcation loss: 1.949 | Constrast loss: 4.11 | Total loss: 8635.751 | Train acc: 86.373 % ||| Val Loss: 8330.171 | Val acc: 87.582 %\n",
            "-------------------------------------------------------------------------------------------------------------------------------------------------------------------------------------\n",
            "Epoch: 5 / 10 | Reconst_loss: 839.592 | Kldiv loss: 166.610 | Classifcation loss: 1.753 | Constrast loss: 0.56 | Total loss: 8456.197 | Train acc: 87.671 % ||| Val Loss: 8692.943 | Val acc: 81.864 %\n",
            "-------------------------------------------------------------------------------------------------------------------------------------------------------------------------------------\n",
            "Epoch: 6 / 10 | Reconst_loss: 341.950 | Kldiv loss: 142.203 | Classifcation loss: 1.777 | Constrast loss: 1.98 | Total loss: 8418.425 | Train acc: 88.063 % ||| Val Loss: 8238.526 | Val acc: 87.481 %\n",
            "-------------------------------------------------------------------------------------------------------------------------------------------------------------------------------------\n",
            "Epoch: 7 / 10 | Reconst_loss: 556.273 | Kldiv loss: 171.144 | Classifcation loss: 1.905 | Constrast loss: 0.00 | Total loss: 8320.638 | Train acc: 88.615 % ||| Val Loss: 8075.883 | Val acc: 90.406 %\n",
            "-------------------------------------------------------------------------------------------------------------------------------------------------------------------------------------\n",
            "Epoch: 8 / 10 | Reconst_loss: 588.892 | Kldiv loss: 155.559 | Classifcation loss: 1.896 | Constrast loss: 7.38 | Total loss: 8385.400 | Train acc: 88.810 % ||| Val Loss: 8327.124 | Val acc: 86.052 %\n",
            "-------------------------------------------------------------------------------------------------------------------------------------------------------------------------------------\n",
            "Epoch: 9 / 10 | Reconst_loss: 425.826 | Kldiv loss: 162.370 | Classifcation loss: 1.802 | Constrast loss: 3.60 | Total loss: 8183.071 | Train acc: 89.724 % ||| Val Loss: 8221.561 | Val acc: 88.569 %\n",
            "-------------------------------------------------------------------------------------------------------------------------------------------------------------------------------------\n"
          ]
        },
        {
          "output_type": "stream",
          "name": "stderr",
          "text": [
            "\u001b[32m[I 2023-03-17 23:48:25,688]\u001b[0m Trial 73 finished with value: 0.9044117647058812 and parameters: {'optuna_batch_size': 153, 'optimizer': 'Adam', 'lr': 0.00753633545812771, 'hidden_dim': 638, 'alpha': 6, 'beta': 7, 'gamma': 7, 'delta': 10}. Best is trial 13 with value: 0.9585126527801691.\u001b[0m\n"
          ]
        },
        {
          "output_type": "stream",
          "name": "stdout",
          "text": [
            "Epoch: 10 / 10 | Reconst_loss: 638.300 | Kldiv loss: 141.238 | Classifcation loss: 1.694 | Constrast loss: 0.00 | Total loss: 8060.061 | Train acc: 90.441 % ||| Val Loss: 7772.199 | Val acc: 90.902 %\n",
            "-------------------------------------------------------------------------------------------------------------------------------------------------------------------------------------\n",
            "Epoch: 1 / 10 | Reconst_loss: 1806.956 | Kldiv loss: 349.882 | Classifcation loss: 2.126 | Constrast loss: 18.36 | Total loss: 19782.832 | Train acc: 33.494 % ||| Val Loss: 10581.985 | Val acc: 60.691 %\n",
            "-------------------------------------------------------------------------------------------------------------------------------------------------------------------------------------\n",
            "Epoch: 2 / 10 | Reconst_loss: 1668.370 | Kldiv loss: 320.921 | Classifcation loss: 1.901 | Constrast loss: 22.10 | Total loss: 9824.543 | Train acc: 72.063 % ||| Val Loss: 9958.268 | Val acc: 75.030 %\n",
            "-------------------------------------------------------------------------------------------------------------------------------------------------------------------------------------\n",
            "Epoch: 3 / 10 | Reconst_loss: 1574.434 | Kldiv loss: 329.604 | Classifcation loss: 1.889 | Constrast loss: 3.57 | Total loss: 9152.119 | Train acc: 78.726 % ||| Val Loss: 8827.427 | Val acc: 79.444 %\n",
            "-------------------------------------------------------------------------------------------------------------------------------------------------------------------------------------\n",
            "Epoch: 4 / 10 | Reconst_loss: 1416.898 | Kldiv loss: 351.939 | Classifcation loss: 1.898 | Constrast loss: 8.70 | Total loss: 8798.918 | Train acc: 80.496 % ||| Val Loss: 8530.883 | Val acc: 81.110 %\n",
            "-------------------------------------------------------------------------------------------------------------------------------------------------------------------------------------\n",
            "Epoch: 5 / 10 | Reconst_loss: 1028.956 | Kldiv loss: 341.827 | Classifcation loss: 1.896 | Constrast loss: 7.12 | Total loss: 8929.261 | Train acc: 80.534 % ||| Val Loss: 8553.575 | Val acc: 80.324 %\n",
            "-------------------------------------------------------------------------------------------------------------------------------------------------------------------------------------\n",
            "Epoch: 6 / 10 | Reconst_loss: 994.941 | Kldiv loss: 319.022 | Classifcation loss: 1.841 | Constrast loss: 22.62 | Total loss: 8552.626 | Train acc: 82.042 % ||| Val Loss: 8411.686 | Val acc: 82.096 %\n",
            "-------------------------------------------------------------------------------------------------------------------------------------------------------------------------------------\n",
            "Epoch: 7 / 10 | Reconst_loss: 1400.985 | Kldiv loss: 359.099 | Classifcation loss: 1.974 | Constrast loss: 21.53 | Total loss: 8630.765 | Train acc: 81.612 % ||| Val Loss: 8312.113 | Val acc: 80.973 %\n",
            "-------------------------------------------------------------------------------------------------------------------------------------------------------------------------------------\n",
            "Epoch: 8 / 10 | Reconst_loss: 1170.869 | Kldiv loss: 335.669 | Classifcation loss: 1.890 | Constrast loss: 4.99 | Total loss: 8369.434 | Train acc: 82.809 % ||| Val Loss: 8033.012 | Val acc: 83.034 %\n",
            "-------------------------------------------------------------------------------------------------------------------------------------------------------------------------------------\n",
            "Epoch: 9 / 10 | Reconst_loss: 1307.926 | Kldiv loss: 347.184 | Classifcation loss: 1.835 | Constrast loss: 16.09 | Total loss: 8181.520 | Train acc: 83.406 % ||| Val Loss: 8285.793 | Val acc: 83.268 %\n",
            "-------------------------------------------------------------------------------------------------------------------------------------------------------------------------------------\n"
          ]
        },
        {
          "output_type": "stream",
          "name": "stderr",
          "text": [
            "\u001b[32m[I 2023-03-17 23:51:44,979]\u001b[0m Trial 74 finished with value: 0.8302605570530103 and parameters: {'optuna_batch_size': 150, 'optimizer': 'Adam', 'lr': 0.006581020021992592, 'hidden_dim': 634, 'alpha': 5, 'beta': 7, 'gamma': 7, 'delta': 10}. Best is trial 13 with value: 0.9585126527801691.\u001b[0m\n"
          ]
        },
        {
          "output_type": "stream",
          "name": "stdout",
          "text": [
            "Epoch: 10 / 10 | Reconst_loss: 1232.775 | Kldiv loss: 337.037 | Classifcation loss: 1.896 | Constrast loss: 14.74 | Total loss: 8305.669 | Train acc: 83.026 % ||| Val Loss: 8001.201 | Val acc: 83.523 %\n",
            "-------------------------------------------------------------------------------------------------------------------------------------------------------------------------------------\n",
            "Epoch: 1 / 10 | Reconst_loss: 1096.363 | Kldiv loss: 308.969 | Classifcation loss: 2.330 | Constrast loss: 25.59 | Total loss: 20294.176 | Train acc: 33.173 % ||| Val Loss: 12646.839 | Val acc: 46.479 %\n",
            "-------------------------------------------------------------------------------------------------------------------------------------------------------------------------------------\n",
            "Epoch: 2 / 10 | Reconst_loss: 1230.319 | Kldiv loss: 334.176 | Classifcation loss: 2.165 | Constrast loss: 12.45 | Total loss: 12428.528 | Train acc: 50.827 % ||| Val Loss: 12180.340 | Val acc: 51.762 %\n",
            "-------------------------------------------------------------------------------------------------------------------------------------------------------------------------------------\n",
            "Epoch: 3 / 10 | Reconst_loss: 1063.672 | Kldiv loss: 273.664 | Classifcation loss: 2.133 | Constrast loss: 11.25 | Total loss: 11704.551 | Train acc: 58.171 % ||| Val Loss: 12789.689 | Val acc: 57.988 %\n",
            "-------------------------------------------------------------------------------------------------------------------------------------------------------------------------------------\n",
            "Epoch: 4 / 10 | Reconst_loss: 994.794 | Kldiv loss: 283.146 | Classifcation loss: 2.164 | Constrast loss: 14.85 | Total loss: 11229.728 | Train acc: 62.557 % ||| Val Loss: 10456.017 | Val acc: 63.529 %\n",
            "-------------------------------------------------------------------------------------------------------------------------------------------------------------------------------------\n",
            "Epoch: 5 / 10 | Reconst_loss: 1601.784 | Kldiv loss: 291.077 | Classifcation loss: 2.091 | Constrast loss: 1.26 | Total loss: 10899.029 | Train acc: 61.728 % ||| Val Loss: 10699.628 | Val acc: 57.688 %\n",
            "-------------------------------------------------------------------------------------------------------------------------------------------------------------------------------------\n",
            "Epoch: 6 / 10 | Reconst_loss: 1088.032 | Kldiv loss: 273.252 | Classifcation loss: 2.065 | Constrast loss: 8.76 | Total loss: 10724.840 | Train acc: 58.905 % ||| Val Loss: 11193.243 | Val acc: 57.819 %\n",
            "-------------------------------------------------------------------------------------------------------------------------------------------------------------------------------------\n",
            "Epoch: 7 / 10 | Reconst_loss: 1120.070 | Kldiv loss: 292.400 | Classifcation loss: 2.033 | Constrast loss: 0.03 | Total loss: 10312.659 | Train acc: 59.584 % ||| Val Loss: 9668.320 | Val acc: 60.409 %\n",
            "-------------------------------------------------------------------------------------------------------------------------------------------------------------------------------------\n",
            "Epoch: 8 / 10 | Reconst_loss: 1169.696 | Kldiv loss: 291.238 | Classifcation loss: 2.121 | Constrast loss: 0.83 | Total loss: 10154.986 | Train acc: 59.839 % ||| Val Loss: 9739.567 | Val acc: 60.135 %\n",
            "-------------------------------------------------------------------------------------------------------------------------------------------------------------------------------------\n",
            "Epoch: 9 / 10 | Reconst_loss: 1289.566 | Kldiv loss: 284.117 | Classifcation loss: 1.935 | Constrast loss: 6.24 | Total loss: 10100.078 | Train acc: 60.227 % ||| Val Loss: 9848.822 | Val acc: 60.789 %\n",
            "-------------------------------------------------------------------------------------------------------------------------------------------------------------------------------------\n"
          ]
        },
        {
          "output_type": "stream",
          "name": "stderr",
          "text": [
            "\u001b[32m[I 2023-03-17 23:56:02,924]\u001b[0m Trial 75 finished with value: 0.6057436494085707 and parameters: {'optuna_batch_size': 191, 'optimizer': 'Adam', 'lr': 0.007627442836312184, 'hidden_dim': 766, 'alpha': 7, 'beta': 8, 'gamma': 6, 'delta': 10}. Best is trial 13 with value: 0.9585126527801691.\u001b[0m\n"
          ]
        },
        {
          "output_type": "stream",
          "name": "stdout",
          "text": [
            "Epoch: 10 / 10 | Reconst_loss: 764.624 | Kldiv loss: 249.912 | Classifcation loss: 2.053 | Constrast loss: 1.22 | Total loss: 9871.812 | Train acc: 60.574 % ||| Val Loss: 9884.935 | Val acc: 60.272 %\n",
            "-------------------------------------------------------------------------------------------------------------------------------------------------------------------------------------\n",
            "Epoch: 1 / 10 | Reconst_loss: 925.477 | Kldiv loss: 176.101 | Classifcation loss: 1.984 | Constrast loss: 3.00 | Total loss: 10350.820 | Train acc: 42.486 % ||| Val Loss: 7181.808 | Val acc: 60.717 %\n",
            "-------------------------------------------------------------------------------------------------------------------------------------------------------------------------------------\n",
            "Epoch: 2 / 10 | Reconst_loss: 739.733 | Kldiv loss: 167.052 | Classifcation loss: 2.015 | Constrast loss: 9.10 | Total loss: 7133.351 | Train acc: 61.467 % ||| Val Loss: 6992.049 | Val acc: 63.013 %\n",
            "-------------------------------------------------------------------------------------------------------------------------------------------------------------------------------------\n",
            "Epoch: 3 / 10 | Reconst_loss: 652.428 | Kldiv loss: 164.527 | Classifcation loss: 2.082 | Constrast loss: 11.93 | Total loss: 6955.700 | Train acc: 62.725 % ||| Val Loss: 7295.683 | Val acc: 59.459 %\n",
            "-------------------------------------------------------------------------------------------------------------------------------------------------------------------------------------\n",
            "Epoch: 4 / 10 | Reconst_loss: 856.909 | Kldiv loss: 190.679 | Classifcation loss: 2.130 | Constrast loss: 0.00 | Total loss: 6894.712 | Train acc: 63.117 % ||| Val Loss: 6611.481 | Val acc: 64.433 %\n",
            "-------------------------------------------------------------------------------------------------------------------------------------------------------------------------------------\n",
            "Epoch: 5 / 10 | Reconst_loss: 639.785 | Kldiv loss: 187.102 | Classifcation loss: 2.262 | Constrast loss: 2.36 | Total loss: 6735.957 | Train acc: 63.871 % ||| Val Loss: 6614.995 | Val acc: 65.002 %\n",
            "-------------------------------------------------------------------------------------------------------------------------------------------------------------------------------------\n",
            "Epoch: 6 / 10 | Reconst_loss: 558.151 | Kldiv loss: 157.945 | Classifcation loss: 2.022 | Constrast loss: 3.12 | Total loss: 6761.402 | Train acc: 63.950 % ||| Val Loss: 6394.583 | Val acc: 64.971 %\n",
            "-------------------------------------------------------------------------------------------------------------------------------------------------------------------------------------\n",
            "Epoch: 7 / 10 | Reconst_loss: 608.904 | Kldiv loss: 172.876 | Classifcation loss: 2.141 | Constrast loss: 6.31 | Total loss: 6586.630 | Train acc: 64.596 % ||| Val Loss: 6439.568 | Val acc: 65.278 %\n",
            "-------------------------------------------------------------------------------------------------------------------------------------------------------------------------------------\n",
            "Epoch: 8 / 10 | Reconst_loss: 726.489 | Kldiv loss: 186.035 | Classifcation loss: 2.034 | Constrast loss: 2.56 | Total loss: 6516.049 | Train acc: 70.061 % ||| Val Loss: 6577.883 | Val acc: 72.563 %\n",
            "-------------------------------------------------------------------------------------------------------------------------------------------------------------------------------------\n",
            "Epoch: 9 / 10 | Reconst_loss: 611.372 | Kldiv loss: 180.806 | Classifcation loss: 1.918 | Constrast loss: 1.25 | Total loss: 6455.459 | Train acc: 71.924 % ||| Val Loss: 6799.771 | Val acc: 67.632 %\n",
            "-------------------------------------------------------------------------------------------------------------------------------------------------------------------------------------\n"
          ]
        },
        {
          "output_type": "stream",
          "name": "stderr",
          "text": [
            "\u001b[32m[I 2023-03-17 23:58:49,708]\u001b[0m Trial 76 finished with value: 0.7206832062184042 and parameters: {'optuna_batch_size': 122, 'optimizer': 'Adam', 'lr': 0.007395903747965578, 'hidden_dim': 552, 'alpha': 6, 'beta': 7, 'gamma': 6, 'delta': 9}. Best is trial 13 with value: 0.9585126527801691.\u001b[0m\n"
          ]
        },
        {
          "output_type": "stream",
          "name": "stdout",
          "text": [
            "Epoch: 10 / 10 | Reconst_loss: 626.430 | Kldiv loss: 172.247 | Classifcation loss: 1.983 | Constrast loss: 1.79 | Total loss: 6475.062 | Train acc: 72.068 % ||| Val Loss: 6217.916 | Val acc: 73.101 %\n",
            "-------------------------------------------------------------------------------------------------------------------------------------------------------------------------------------\n",
            "Epoch: 1 / 10 | Reconst_loss: 3011.560 | Kldiv loss: 706.725 | Classifcation loss: 2.122 | Constrast loss: 45.06 | Total loss: 30473.321 | Train acc: 34.072 % ||| Val Loss: 17600.669 | Val acc: 59.149 %\n",
            "-------------------------------------------------------------------------------------------------------------------------------------------------------------------------------------\n",
            "Epoch: 2 / 10 | Reconst_loss: 3323.199 | Kldiv loss: 620.503 | Classifcation loss: 2.028 | Constrast loss: 23.38 | Total loss: 16052.145 | Train acc: 66.146 % ||| Val Loss: 15552.087 | Val acc: 71.309 %\n",
            "-------------------------------------------------------------------------------------------------------------------------------------------------------------------------------------\n",
            "Epoch: 3 / 10 | Reconst_loss: 3271.683 | Kldiv loss: 566.449 | Classifcation loss: 1.956 | Constrast loss: 17.24 | Total loss: 15267.921 | Train acc: 75.020 % ||| Val Loss: 15769.420 | Val acc: 76.143 %\n",
            "-------------------------------------------------------------------------------------------------------------------------------------------------------------------------------------\n",
            "Epoch: 4 / 10 | Reconst_loss: 1928.479 | Kldiv loss: 556.657 | Classifcation loss: 1.894 | Constrast loss: 28.11 | Total loss: 14801.164 | Train acc: 79.240 % ||| Val Loss: 14691.961 | Val acc: 79.013 %\n",
            "-------------------------------------------------------------------------------------------------------------------------------------------------------------------------------------\n",
            "Epoch: 5 / 10 | Reconst_loss: 2732.093 | Kldiv loss: 583.042 | Classifcation loss: 1.871 | Constrast loss: 21.62 | Total loss: 14772.825 | Train acc: 80.271 % ||| Val Loss: 14628.817 | Val acc: 80.950 %\n",
            "-------------------------------------------------------------------------------------------------------------------------------------------------------------------------------------\n",
            "Epoch: 6 / 10 | Reconst_loss: 2088.812 | Kldiv loss: 601.190 | Classifcation loss: 1.840 | Constrast loss: 24.04 | Total loss: 14610.837 | Train acc: 81.099 % ||| Val Loss: 13971.856 | Val acc: 83.304 %\n",
            "-------------------------------------------------------------------------------------------------------------------------------------------------------------------------------------\n",
            "Epoch: 7 / 10 | Reconst_loss: 2075.064 | Kldiv loss: 621.281 | Classifcation loss: 1.888 | Constrast loss: 14.46 | Total loss: 14522.186 | Train acc: 81.629 % ||| Val Loss: 14371.829 | Val acc: 81.625 %\n",
            "-------------------------------------------------------------------------------------------------------------------------------------------------------------------------------------\n",
            "Epoch: 8 / 10 | Reconst_loss: 1960.789 | Kldiv loss: 602.946 | Classifcation loss: 1.895 | Constrast loss: 14.64 | Total loss: 14163.138 | Train acc: 82.728 % ||| Val Loss: 13923.400 | Val acc: 83.501 %\n",
            "-------------------------------------------------------------------------------------------------------------------------------------------------------------------------------------\n",
            "Epoch: 9 / 10 | Reconst_loss: 2495.859 | Kldiv loss: 693.507 | Classifcation loss: 1.860 | Constrast loss: 9.89 | Total loss: 14011.384 | Train acc: 83.147 % ||| Val Loss: 14182.034 | Val acc: 84.151 %\n",
            "-------------------------------------------------------------------------------------------------------------------------------------------------------------------------------------\n"
          ]
        },
        {
          "output_type": "stream",
          "name": "stderr",
          "text": [
            "\u001b[32m[I 2023-03-18 00:01:49,917]\u001b[0m Trial 77 finished with value: 0.834860298399021 and parameters: {'optuna_batch_size': 261, 'optimizer': 'Adam', 'lr': 0.008405294883036341, 'hidden_dim': 644, 'alpha': 3, 'beta': 7, 'gamma': 5, 'delta': 10}. Best is trial 13 with value: 0.9585126527801691.\u001b[0m\n"
          ]
        },
        {
          "output_type": "stream",
          "name": "stdout",
          "text": [
            "Epoch: 10 / 10 | Reconst_loss: 2630.355 | Kldiv loss: 567.863 | Classifcation loss: 1.814 | Constrast loss: 29.12 | Total loss: 13955.430 | Train acc: 83.486 % ||| Val Loss: 14260.200 | Val acc: 80.688 %\n",
            "-------------------------------------------------------------------------------------------------------------------------------------------------------------------------------------\n",
            "Epoch: 1 / 10 | Reconst_loss: 1013.932 | Kldiv loss: 243.884 | Classifcation loss: 2.052 | Constrast loss: 7.92 | Total loss: 9368.092 | Train acc: 43.187 % ||| Val Loss: 6700.020 | Val acc: 68.619 %\n",
            "-------------------------------------------------------------------------------------------------------------------------------------------------------------------------------------\n",
            "Epoch: 2 / 10 | Reconst_loss: 1552.612 | Kldiv loss: 231.069 | Classifcation loss: 1.900 | Constrast loss: 9.17 | Total loss: 6407.486 | Train acc: 70.692 % ||| Val Loss: 6060.876 | Val acc: 72.924 %\n",
            "-------------------------------------------------------------------------------------------------------------------------------------------------------------------------------------\n",
            "Epoch: 3 / 10 | Reconst_loss: 1041.845 | Kldiv loss: 211.504 | Classifcation loss: 1.858 | Constrast loss: 2.04 | Total loss: 6078.068 | Train acc: 75.461 % ||| Val Loss: 5681.565 | Val acc: 77.374 %\n",
            "-------------------------------------------------------------------------------------------------------------------------------------------------------------------------------------\n",
            "Epoch: 4 / 10 | Reconst_loss: 926.466 | Kldiv loss: 230.291 | Classifcation loss: 1.806 | Constrast loss: 0.00 | Total loss: 5892.453 | Train acc: 79.177 % ||| Val Loss: 5740.924 | Val acc: 80.553 %\n",
            "-------------------------------------------------------------------------------------------------------------------------------------------------------------------------------------\n",
            "Epoch: 5 / 10 | Reconst_loss: 1555.605 | Kldiv loss: 241.140 | Classifcation loss: 1.877 | Constrast loss: 1.76 | Total loss: 6056.386 | Train acc: 78.927 % ||| Val Loss: 6354.831 | Val acc: 69.848 %\n",
            "-------------------------------------------------------------------------------------------------------------------------------------------------------------------------------------\n",
            "Epoch: 6 / 10 | Reconst_loss: 1010.476 | Kldiv loss: 229.362 | Classifcation loss: 1.893 | Constrast loss: 3.97 | Total loss: 5787.068 | Train acc: 81.298 % ||| Val Loss: 5585.401 | Val acc: 82.180 %\n",
            "-------------------------------------------------------------------------------------------------------------------------------------------------------------------------------------\n",
            "Epoch: 7 / 10 | Reconst_loss: 701.877 | Kldiv loss: 228.795 | Classifcation loss: 1.762 | Constrast loss: 0.59 | Total loss: 5706.412 | Train acc: 81.786 % ||| Val Loss: 5375.369 | Val acc: 83.128 %\n",
            "-------------------------------------------------------------------------------------------------------------------------------------------------------------------------------------\n",
            "Epoch: 8 / 10 | Reconst_loss: 922.585 | Kldiv loss: 241.712 | Classifcation loss: 1.885 | Constrast loss: 14.77 | Total loss: 5664.486 | Train acc: 81.773 % ||| Val Loss: 5523.435 | Val acc: 82.274 %\n",
            "-------------------------------------------------------------------------------------------------------------------------------------------------------------------------------------\n",
            "Epoch: 9 / 10 | Reconst_loss: 784.903 | Kldiv loss: 221.029 | Classifcation loss: 1.859 | Constrast loss: 1.95 | Total loss: 5912.467 | Train acc: 78.392 % ||| Val Loss: 5474.488 | Val acc: 81.254 %\n",
            "-------------------------------------------------------------------------------------------------------------------------------------------------------------------------------------\n"
          ]
        },
        {
          "output_type": "stream",
          "name": "stderr",
          "text": [
            "\u001b[32m[I 2023-03-18 00:05:11,980]\u001b[0m Trial 78 finished with value: 0.8141167022271231 and parameters: {'optuna_batch_size': 101, 'optimizer': 'Adam', 'lr': 0.00703643025119259, 'hidden_dim': 590, 'alpha': 7, 'beta': 8, 'gamma': 7, 'delta': 9}. Best is trial 13 with value: 0.9585126527801691.\u001b[0m\n"
          ]
        },
        {
          "output_type": "stream",
          "name": "stdout",
          "text": [
            "Epoch: 10 / 10 | Reconst_loss: 1199.789 | Kldiv loss: 239.779 | Classifcation loss: 1.833 | Constrast loss: 17.75 | Total loss: 5557.732 | Train acc: 81.412 % ||| Val Loss: 5794.045 | Val acc: 77.943 %\n",
            "-------------------------------------------------------------------------------------------------------------------------------------------------------------------------------------\n",
            "Epoch: 1 / 10 | Reconst_loss: 732.328 | Kldiv loss: 188.910 | Classifcation loss: 2.081 | Constrast loss: 10.73 | Total loss: 12150.747 | Train acc: 44.746 % ||| Val Loss: 9305.492 | Val acc: 63.715 %\n",
            "-------------------------------------------------------------------------------------------------------------------------------------------------------------------------------------\n",
            "Epoch: 2 / 10 | Reconst_loss: 879.674 | Kldiv loss: 177.929 | Classifcation loss: 2.001 | Constrast loss: 1.07 | Total loss: 9519.561 | Train acc: 65.240 % ||| Val Loss: 8844.198 | Val acc: 71.264 %\n",
            "-------------------------------------------------------------------------------------------------------------------------------------------------------------------------------------\n",
            "Epoch: 3 / 10 | Reconst_loss: 1098.824 | Kldiv loss: 181.773 | Classifcation loss: 2.029 | Constrast loss: 4.80 | Total loss: 8785.520 | Train acc: 73.487 % ||| Val Loss: 8884.725 | Val acc: 71.967 %\n",
            "-------------------------------------------------------------------------------------------------------------------------------------------------------------------------------------\n",
            "Epoch: 4 / 10 | Reconst_loss: 993.734 | Kldiv loss: 214.120 | Classifcation loss: 1.985 | Constrast loss: 3.20 | Total loss: 8792.600 | Train acc: 73.979 % ||| Val Loss: 8911.647 | Val acc: 74.109 %\n",
            "-------------------------------------------------------------------------------------------------------------------------------------------------------------------------------------\n",
            "Epoch: 5 / 10 | Reconst_loss: 575.535 | Kldiv loss: 193.989 | Classifcation loss: 1.983 | Constrast loss: 2.49 | Total loss: 8435.474 | Train acc: 76.278 % ||| Val Loss: 8401.768 | Val acc: 76.091 %\n",
            "-------------------------------------------------------------------------------------------------------------------------------------------------------------------------------------\n",
            "Epoch: 6 / 10 | Reconst_loss: 570.666 | Kldiv loss: 198.822 | Classifcation loss: 2.065 | Constrast loss: 14.21 | Total loss: 8481.137 | Train acc: 76.807 % ||| Val Loss: 8362.099 | Val acc: 76.030 %\n",
            "-------------------------------------------------------------------------------------------------------------------------------------------------------------------------------------\n",
            "Epoch: 7 / 10 | Reconst_loss: 788.270 | Kldiv loss: 215.281 | Classifcation loss: 1.883 | Constrast loss: 4.26 | Total loss: 8237.073 | Train acc: 77.224 % ||| Val Loss: 9116.720 | Val acc: 71.744 %\n",
            "-------------------------------------------------------------------------------------------------------------------------------------------------------------------------------------\n",
            "Epoch: 8 / 10 | Reconst_loss: 815.346 | Kldiv loss: 205.887 | Classifcation loss: 1.987 | Constrast loss: 13.53 | Total loss: 8086.875 | Train acc: 77.738 % ||| Val Loss: 8690.433 | Val acc: 77.025 %\n",
            "-------------------------------------------------------------------------------------------------------------------------------------------------------------------------------------\n",
            "Epoch: 9 / 10 | Reconst_loss: 731.492 | Kldiv loss: 201.591 | Classifcation loss: 2.014 | Constrast loss: 11.43 | Total loss: 8171.059 | Train acc: 77.076 % ||| Val Loss: 8079.431 | Val acc: 76.277 %\n",
            "-------------------------------------------------------------------------------------------------------------------------------------------------------------------------------------\n"
          ]
        },
        {
          "output_type": "stream",
          "name": "stderr",
          "text": [
            "\u001b[32m[I 2023-03-18 00:08:56,896]\u001b[0m Trial 79 finished with value: 0.7501126881155371 and parameters: {'optuna_batch_size': 152, 'optimizer': 'Adam', 'lr': 0.006728899005664664, 'hidden_dim': 682, 'alpha': 6, 'beta': 7, 'gamma': 7, 'delta': 10}. Best is trial 13 with value: 0.9585126527801691.\u001b[0m\n"
          ]
        },
        {
          "output_type": "stream",
          "name": "stdout",
          "text": [
            "Epoch: 10 / 10 | Reconst_loss: 745.104 | Kldiv loss: 202.865 | Classifcation loss: 2.093 | Constrast loss: 0.23 | Total loss: 8176.367 | Train acc: 75.011 % ||| Val Loss: 8577.309 | Val acc: 62.319 %\n",
            "-------------------------------------------------------------------------------------------------------------------------------------------------------------------------------------\n",
            "Epoch: 1 / 10 | Reconst_loss: 3458.503 | Kldiv loss: 667.532 | Classifcation loss: 2.230 | Constrast loss: 114.15 | Total loss: 16501.301 | Train acc: 26.463 % ||| Val Loss: 9106.883 | Val acc: 44.072 %\n",
            "-------------------------------------------------------------------------------------------------------------------------------------------------------------------------------------\n",
            "Epoch: 2 / 10 | Reconst_loss: 2737.133 | Kldiv loss: 729.323 | Classifcation loss: 2.196 | Constrast loss: 62.04 | Total loss: 8455.335 | Train acc: 50.555 % ||| Val Loss: 7887.168 | Val acc: 54.342 %\n",
            "-------------------------------------------------------------------------------------------------------------------------------------------------------------------------------------\n",
            "Epoch: 3 / 10 | Reconst_loss: 3167.946 | Kldiv loss: 722.985 | Classifcation loss: 2.105 | Constrast loss: 28.34 | Total loss: 7780.923 | Train acc: 53.924 % ||| Val Loss: 7500.766 | Val acc: 55.508 %\n",
            "-------------------------------------------------------------------------------------------------------------------------------------------------------------------------------------\n",
            "Epoch: 4 / 10 | Reconst_loss: 2705.770 | Kldiv loss: 656.008 | Classifcation loss: 2.192 | Constrast loss: 17.81 | Total loss: 7591.057 | Train acc: 56.181 % ||| Val Loss: 7238.916 | Val acc: 56.478 %\n",
            "-------------------------------------------------------------------------------------------------------------------------------------------------------------------------------------\n",
            "Epoch: 5 / 10 | Reconst_loss: 2403.575 | Kldiv loss: 702.404 | Classifcation loss: 2.019 | Constrast loss: 19.82 | Total loss: 7417.082 | Train acc: 60.740 % ||| Val Loss: 7159.481 | Val acc: 65.721 %\n",
            "-------------------------------------------------------------------------------------------------------------------------------------------------------------------------------------\n",
            "Epoch: 6 / 10 | Reconst_loss: 2721.457 | Kldiv loss: 711.183 | Classifcation loss: 2.108 | Constrast loss: 23.69 | Total loss: 7442.325 | Train acc: 64.655 % ||| Val Loss: 7765.223 | Val acc: 63.031 %\n",
            "-------------------------------------------------------------------------------------------------------------------------------------------------------------------------------------\n",
            "Epoch: 7 / 10 | Reconst_loss: 2703.190 | Kldiv loss: 647.100 | Classifcation loss: 2.020 | Constrast loss: 44.67 | Total loss: 7288.377 | Train acc: 65.926 % ||| Val Loss: 7031.190 | Val acc: 66.167 %\n",
            "-------------------------------------------------------------------------------------------------------------------------------------------------------------------------------------\n",
            "Epoch: 8 / 10 | Reconst_loss: 2518.905 | Kldiv loss: 618.265 | Classifcation loss: 1.944 | Constrast loss: 25.99 | Total loss: 7274.865 | Train acc: 65.942 % ||| Val Loss: 7173.782 | Val acc: 66.723 %\n",
            "-------------------------------------------------------------------------------------------------------------------------------------------------------------------------------------\n",
            "Epoch: 9 / 10 | Reconst_loss: 2181.288 | Kldiv loss: 671.030 | Classifcation loss: 1.998 | Constrast loss: 25.66 | Total loss: 7235.159 | Train acc: 66.512 % ||| Val Loss: 7099.645 | Val acc: 67.510 %\n",
            "-------------------------------------------------------------------------------------------------------------------------------------------------------------------------------------\n"
          ]
        },
        {
          "output_type": "stream",
          "name": "stderr",
          "text": [
            "\u001b[32m[I 2023-03-18 00:12:19,053]\u001b[0m Trial 80 finished with value: 0.665646376811593 and parameters: {'optuna_batch_size': 127, 'optimizer': 'Adam', 'lr': 0.00746071242452025, 'hidden_dim': 620, 'alpha': 4, 'beta': 9, 'gamma': 10, 'delta': 10}. Best is trial 13 with value: 0.9585126527801691.\u001b[0m\n"
          ]
        },
        {
          "output_type": "stream",
          "name": "stdout",
          "text": [
            "Epoch: 10 / 10 | Reconst_loss: 2432.179 | Kldiv loss: 636.685 | Classifcation loss: 2.079 | Constrast loss: 41.50 | Total loss: 7268.385 | Train acc: 66.565 % ||| Val Loss: 7177.071 | Val acc: 66.389 %\n",
            "-------------------------------------------------------------------------------------------------------------------------------------------------------------------------------------\n",
            "Epoch: 1 / 10 | Reconst_loss: 3549.700 | Kldiv loss: 822.395 | Classifcation loss: 2.199 | Constrast loss: 53.96 | Total loss: 26801.630 | Train acc: 31.912 % ||| Val Loss: 14721.253 | Val acc: 58.987 %\n",
            "-------------------------------------------------------------------------------------------------------------------------------------------------------------------------------------\n",
            "Epoch: 2 / 10 | Reconst_loss: 3740.172 | Kldiv loss: 834.175 | Classifcation loss: 1.940 | Constrast loss: 18.85 | Total loss: 13927.860 | Train acc: 64.078 % ||| Val Loss: 13119.465 | Val acc: 67.360 %\n",
            "-------------------------------------------------------------------------------------------------------------------------------------------------------------------------------------\n",
            "Epoch: 3 / 10 | Reconst_loss: 3398.859 | Kldiv loss: 874.768 | Classifcation loss: 2.022 | Constrast loss: 58.61 | Total loss: 13053.210 | Train acc: 69.116 % ||| Val Loss: 12658.667 | Val acc: 72.033 %\n",
            "-------------------------------------------------------------------------------------------------------------------------------------------------------------------------------------\n",
            "Epoch: 4 / 10 | Reconst_loss: 2699.412 | Kldiv loss: 790.816 | Classifcation loss: 2.000 | Constrast loss: 26.78 | Total loss: 12599.529 | Train acc: 71.271 % ||| Val Loss: 12066.241 | Val acc: 72.088 %\n",
            "-------------------------------------------------------------------------------------------------------------------------------------------------------------------------------------\n",
            "Epoch: 5 / 10 | Reconst_loss: 3632.863 | Kldiv loss: 811.133 | Classifcation loss: 1.938 | Constrast loss: 21.27 | Total loss: 12129.237 | Train acc: 72.440 % ||| Val Loss: 11938.647 | Val acc: 72.763 %\n",
            "-------------------------------------------------------------------------------------------------------------------------------------------------------------------------------------\n",
            "Epoch: 6 / 10 | Reconst_loss: 3499.862 | Kldiv loss: 772.902 | Classifcation loss: 1.955 | Constrast loss: 52.84 | Total loss: 12162.581 | Train acc: 72.896 % ||| Val Loss: 11413.435 | Val acc: 74.222 %\n",
            "-------------------------------------------------------------------------------------------------------------------------------------------------------------------------------------\n",
            "Epoch: 7 / 10 | Reconst_loss: 2848.240 | Kldiv loss: 755.935 | Classifcation loss: 1.942 | Constrast loss: 33.96 | Total loss: 11771.415 | Train acc: 73.750 % ||| Val Loss: 11303.552 | Val acc: 73.676 %\n",
            "-------------------------------------------------------------------------------------------------------------------------------------------------------------------------------------\n",
            "Epoch: 8 / 10 | Reconst_loss: 2917.187 | Kldiv loss: 800.189 | Classifcation loss: 1.957 | Constrast loss: 25.61 | Total loss: 11875.517 | Train acc: 74.011 % ||| Val Loss: 11446.352 | Val acc: 75.176 %\n",
            "-------------------------------------------------------------------------------------------------------------------------------------------------------------------------------------\n",
            "Epoch: 9 / 10 | Reconst_loss: 2983.298 | Kldiv loss: 700.248 | Classifcation loss: 1.990 | Constrast loss: 19.15 | Total loss: 11590.489 | Train acc: 74.284 % ||| Val Loss: 11354.602 | Val acc: 73.332 %\n",
            "-------------------------------------------------------------------------------------------------------------------------------------------------------------------------------------\n"
          ]
        },
        {
          "output_type": "stream",
          "name": "stderr",
          "text": [
            "\u001b[32m[I 2023-03-18 00:14:26,903]\u001b[0m Trial 81 finished with value: 0.7418397342032755 and parameters: {'optuna_batch_size': 211, 'optimizer': 'Adam', 'lr': 0.007754862995322572, 'hidden_dim': 497, 'alpha': 6, 'beta': 5, 'gamma': 8, 'delta': 10}. Best is trial 13 with value: 0.9585126527801691.\u001b[0m\n"
          ]
        },
        {
          "output_type": "stream",
          "name": "stdout",
          "text": [
            "Epoch: 10 / 10 | Reconst_loss: 2640.583 | Kldiv loss: 731.536 | Classifcation loss: 1.971 | Constrast loss: 30.66 | Total loss: 11621.246 | Train acc: 74.184 % ||| Val Loss: 11378.436 | Val acc: 74.353 %\n",
            "-------------------------------------------------------------------------------------------------------------------------------------------------------------------------------------\n",
            "Epoch: 1 / 10 | Reconst_loss: 294.545 | Kldiv loss: 90.093 | Classifcation loss: 1.897 | Constrast loss: 0.28 | Total loss: 393835.017 | Train acc: 41.180 % ||| Val Loss: 11254.344 | Val acc: 71.258 %\n",
            "-------------------------------------------------------------------------------------------------------------------------------------------------------------------------------------\n",
            "Epoch: 2 / 10 | Reconst_loss: 476.353 | Kldiv loss: 71.373 | Classifcation loss: 1.762 | Constrast loss: 0.00 | Total loss: 10710.092 | Train acc: 77.205 % ||| Val Loss: 10119.684 | Val acc: 81.559 %\n",
            "-------------------------------------------------------------------------------------------------------------------------------------------------------------------------------------\n",
            "Epoch: 3 / 10 | Reconst_loss: 202.231 | Kldiv loss: 62.082 | Classifcation loss: 1.992 | Constrast loss: 0.00 | Total loss: 10186.769 | Train acc: 81.756 % ||| Val Loss: 10131.169 | Val acc: 82.468 %\n",
            "-------------------------------------------------------------------------------------------------------------------------------------------------------------------------------------\n",
            "Epoch: 4 / 10 | Reconst_loss: 143.805 | Kldiv loss: 54.810 | Classifcation loss: 1.839 | Constrast loss: 1.89 | Total loss: 9855.684 | Train acc: 83.887 % ||| Val Loss: 9665.011 | Val acc: 84.300 %\n",
            "-------------------------------------------------------------------------------------------------------------------------------------------------------------------------------------\n",
            "Epoch: 5 / 10 | Reconst_loss: 358.005 | Kldiv loss: 65.625 | Classifcation loss: 1.851 | Constrast loss: 0.43 | Total loss: 9561.161 | Train acc: 85.514 % ||| Val Loss: 9381.741 | Val acc: 84.881 %\n",
            "-------------------------------------------------------------------------------------------------------------------------------------------------------------------------------------\n",
            "Epoch: 6 / 10 | Reconst_loss: 144.412 | Kldiv loss: 78.211 | Classifcation loss: 1.768 | Constrast loss: 0.00 | Total loss: 9457.257 | Train acc: 85.729 % ||| Val Loss: 9333.006 | Val acc: 84.107 %\n",
            "-------------------------------------------------------------------------------------------------------------------------------------------------------------------------------------\n",
            "Epoch: 7 / 10 | Reconst_loss: 284.415 | Kldiv loss: 87.740 | Classifcation loss: 1.778 | Constrast loss: 0.79 | Total loss: 9557.583 | Train acc: 85.524 % ||| Val Loss: 9345.035 | Val acc: 85.827 %\n",
            "-------------------------------------------------------------------------------------------------------------------------------------------------------------------------------------\n",
            "Epoch: 8 / 10 | Reconst_loss: 296.814 | Kldiv loss: 71.961 | Classifcation loss: 1.879 | Constrast loss: 0.16 | Total loss: 9357.129 | Train acc: 86.388 % ||| Val Loss: 9222.312 | Val acc: 86.159 %\n",
            "-------------------------------------------------------------------------------------------------------------------------------------------------------------------------------------\n",
            "Epoch: 9 / 10 | Reconst_loss: 213.474 | Kldiv loss: 73.636 | Classifcation loss: 1.804 | Constrast loss: 0.00 | Total loss: 9225.055 | Train acc: 86.925 % ||| Val Loss: 9135.928 | Val acc: 88.217 %\n",
            "-------------------------------------------------------------------------------------------------------------------------------------------------------------------------------------\n"
          ]
        },
        {
          "output_type": "stream",
          "name": "stderr",
          "text": [
            "\u001b[32m[I 2023-03-18 00:17:11,934]\u001b[0m Trial 82 finished with value: 0.881700777765253 and parameters: {'optuna_batch_size': 170, 'optimizer': 'Adam', 'lr': 0.0088408441052417, 'hidden_dim': 563, 'alpha': 6, 'beta': 6, 'gamma': 8, 'delta': 9}. Best is trial 13 with value: 0.9585126527801691.\u001b[0m\n"
          ]
        },
        {
          "output_type": "stream",
          "name": "stdout",
          "text": [
            "Epoch: 10 / 10 | Reconst_loss: 368.840 | Kldiv loss: 68.838 | Classifcation loss: 1.872 | Constrast loss: 1.76 | Total loss: 8989.141 | Train acc: 88.170 % ||| Val Loss: 9370.260 | Val acc: 87.519 %\n",
            "-------------------------------------------------------------------------------------------------------------------------------------------------------------------------------------\n",
            "Epoch: 1 / 10 | Reconst_loss: 1110.535 | Kldiv loss: 272.634 | Classifcation loss: 2.070 | Constrast loss: 11.10 | Total loss: 13757.016 | Train acc: 41.910 % ||| Val Loss: 10974.420 | Val acc: 58.677 %\n",
            "-------------------------------------------------------------------------------------------------------------------------------------------------------------------------------------\n",
            "Epoch: 2 / 10 | Reconst_loss: 969.107 | Kldiv loss: 258.476 | Classifcation loss: 1.939 | Constrast loss: 3.87 | Total loss: 9248.006 | Train acc: 66.432 % ||| Val Loss: 9091.042 | Val acc: 69.123 %\n",
            "-------------------------------------------------------------------------------------------------------------------------------------------------------------------------------------\n",
            "Epoch: 3 / 10 | Reconst_loss: 868.274 | Kldiv loss: 242.782 | Classifcation loss: 2.046 | Constrast loss: 22.30 | Total loss: 8838.820 | Train acc: 70.797 % ||| Val Loss: 9084.099 | Val acc: 67.461 %\n",
            "-------------------------------------------------------------------------------------------------------------------------------------------------------------------------------------\n",
            "Epoch: 4 / 10 | Reconst_loss: 1153.475 | Kldiv loss: 229.986 | Classifcation loss: 2.018 | Constrast loss: 2.23 | Total loss: 8702.651 | Train acc: 73.930 % ||| Val Loss: 8411.631 | Val acc: 77.729 %\n",
            "-------------------------------------------------------------------------------------------------------------------------------------------------------------------------------------\n",
            "Epoch: 5 / 10 | Reconst_loss: 929.854 | Kldiv loss: 237.140 | Classifcation loss: 1.921 | Constrast loss: 2.00 | Total loss: 8429.803 | Train acc: 77.006 % ||| Val Loss: 8119.315 | Val acc: 77.110 %\n",
            "-------------------------------------------------------------------------------------------------------------------------------------------------------------------------------------\n",
            "Epoch: 6 / 10 | Reconst_loss: 1090.611 | Kldiv loss: 271.072 | Classifcation loss: 1.939 | Constrast loss: 4.38 | Total loss: 8270.099 | Train acc: 77.562 % ||| Val Loss: 8219.654 | Val acc: 78.044 %\n",
            "-------------------------------------------------------------------------------------------------------------------------------------------------------------------------------------\n",
            "Epoch: 7 / 10 | Reconst_loss: 1259.515 | Kldiv loss: 222.039 | Classifcation loss: 1.908 | Constrast loss: 4.69 | Total loss: 8182.122 | Train acc: 77.803 % ||| Val Loss: 8296.531 | Val acc: 77.763 %\n",
            "-------------------------------------------------------------------------------------------------------------------------------------------------------------------------------------\n",
            "Epoch: 8 / 10 | Reconst_loss: 936.152 | Kldiv loss: 260.722 | Classifcation loss: 1.837 | Constrast loss: 4.62 | Total loss: 8211.749 | Train acc: 79.453 % ||| Val Loss: 8124.178 | Val acc: 80.346 %\n",
            "-------------------------------------------------------------------------------------------------------------------------------------------------------------------------------------\n",
            "Epoch: 9 / 10 | Reconst_loss: 1485.549 | Kldiv loss: 260.124 | Classifcation loss: 1.944 | Constrast loss: 0.83 | Total loss: 8176.183 | Train acc: 76.038 % ||| Val Loss: 8066.163 | Val acc: 73.789 %\n",
            "-------------------------------------------------------------------------------------------------------------------------------------------------------------------------------------\n"
          ]
        },
        {
          "output_type": "stream",
          "name": "stderr",
          "text": [
            "\u001b[32m[I 2023-03-18 00:20:11,636]\u001b[0m Trial 83 finished with value: 0.7504842016654127 and parameters: {'optuna_batch_size': 151, 'optimizer': 'Adam', 'lr': 0.008287702389275904, 'hidden_dim': 600, 'alpha': 5, 'beta': 6, 'gamma': 7, 'delta': 9}. Best is trial 13 with value: 0.9585126527801691.\u001b[0m\n"
          ]
        },
        {
          "output_type": "stream",
          "name": "stdout",
          "text": [
            "Epoch: 10 / 10 | Reconst_loss: 783.143 | Kldiv loss: 265.100 | Classifcation loss: 1.956 | Constrast loss: 13.35 | Total loss: 7984.760 | Train acc: 75.048 % ||| Val Loss: 7630.883 | Val acc: 75.682 %\n",
            "-------------------------------------------------------------------------------------------------------------------------------------------------------------------------------------\n",
            "Epoch: 1 / 10 | Reconst_loss: 847.605 | Kldiv loss: 221.694 | Classifcation loss: 2.137 | Constrast loss: 2.24 | Total loss: 27915.594 | Train acc: 35.539 % ||| Val Loss: 17027.058 | Val acc: 59.627 %\n",
            "-------------------------------------------------------------------------------------------------------------------------------------------------------------------------------------\n",
            "Epoch: 2 / 10 | Reconst_loss: 725.417 | Kldiv loss: 205.693 | Classifcation loss: 2.016 | Constrast loss: 0.00 | Total loss: 15352.260 | Train acc: 74.864 % ||| Val Loss: 14302.522 | Val acc: 80.152 %\n",
            "-------------------------------------------------------------------------------------------------------------------------------------------------------------------------------------\n",
            "Epoch: 3 / 10 | Reconst_loss: 908.444 | Kldiv loss: 182.335 | Classifcation loss: 1.899 | Constrast loss: 1.99 | Total loss: 14377.717 | Train acc: 80.818 % ||| Val Loss: 14163.061 | Val acc: 82.927 %\n",
            "-------------------------------------------------------------------------------------------------------------------------------------------------------------------------------------\n",
            "Epoch: 4 / 10 | Reconst_loss: 694.053 | Kldiv loss: 179.849 | Classifcation loss: 1.853 | Constrast loss: 6.24 | Total loss: 14159.686 | Train acc: 82.645 % ||| Val Loss: 13680.043 | Val acc: 83.170 %\n",
            "-------------------------------------------------------------------------------------------------------------------------------------------------------------------------------------\n",
            "Epoch: 5 / 10 | Reconst_loss: 824.792 | Kldiv loss: 144.062 | Classifcation loss: 1.810 | Constrast loss: 0.00 | Total loss: 13627.540 | Train acc: 83.807 % ||| Val Loss: 13947.828 | Val acc: 81.883 %\n",
            "-------------------------------------------------------------------------------------------------------------------------------------------------------------------------------------\n",
            "Epoch: 6 / 10 | Reconst_loss: 771.515 | Kldiv loss: 169.543 | Classifcation loss: 1.788 | Constrast loss: 2.03 | Total loss: 13484.169 | Train acc: 84.330 % ||| Val Loss: 13136.316 | Val acc: 84.516 %\n",
            "-------------------------------------------------------------------------------------------------------------------------------------------------------------------------------------\n",
            "Epoch: 7 / 10 | Reconst_loss: 607.370 | Kldiv loss: 160.480 | Classifcation loss: 1.834 | Constrast loss: 0.21 | Total loss: 13164.490 | Train acc: 85.100 % ||| Val Loss: 13179.588 | Val acc: 84.070 %\n",
            "-------------------------------------------------------------------------------------------------------------------------------------------------------------------------------------\n",
            "Epoch: 8 / 10 | Reconst_loss: 713.342 | Kldiv loss: 178.781 | Classifcation loss: 1.768 | Constrast loss: 1.04 | Total loss: 13165.039 | Train acc: 85.294 % ||| Val Loss: 12683.447 | Val acc: 84.977 %\n",
            "-------------------------------------------------------------------------------------------------------------------------------------------------------------------------------------\n",
            "Epoch: 9 / 10 | Reconst_loss: 641.057 | Kldiv loss: 167.096 | Classifcation loss: 1.752 | Constrast loss: 7.72 | Total loss: 12911.669 | Train acc: 85.943 % ||| Val Loss: 12669.228 | Val acc: 85.809 %\n",
            "-------------------------------------------------------------------------------------------------------------------------------------------------------------------------------------\n"
          ]
        },
        {
          "output_type": "stream",
          "name": "stderr",
          "text": [
            "\u001b[32m[I 2023-03-18 00:23:43,660]\u001b[0m Trial 84 finished with value: 0.8606525695225923 and parameters: {'optuna_batch_size': 244, 'optimizer': 'Adam', 'lr': 0.007086965706073089, 'hidden_dim': 694, 'alpha': 7, 'beta': 8, 'gamma': 3, 'delta': 3}. Best is trial 13 with value: 0.9585126527801691.\u001b[0m\n"
          ]
        },
        {
          "output_type": "stream",
          "name": "stdout",
          "text": [
            "Epoch: 10 / 10 | Reconst_loss: 599.412 | Kldiv loss: 189.184 | Classifcation loss: 1.921 | Constrast loss: 0.16 | Total loss: 12894.181 | Train acc: 86.065 % ||| Val Loss: 12933.641 | Val acc: 83.648 %\n",
            "-------------------------------------------------------------------------------------------------------------------------------------------------------------------------------------\n",
            "Epoch: 1 / 10 | Reconst_loss: nan | Kldiv loss: nan | Classifcation loss: nan | Constrast loss: nan | Total loss: nan | Train acc: 0.050 % ||| Val Loss: nan | Val acc: 0.000 %\n",
            "-------------------------------------------------------------------------------------------------------------------------------------------------------------------------------------\n",
            "Epoch: 2 / 10 | Reconst_loss: nan | Kldiv loss: nan | Classifcation loss: nan | Constrast loss: nan | Total loss: nan | Train acc: 0.000 % ||| Val Loss: nan | Val acc: 0.000 %\n",
            "-------------------------------------------------------------------------------------------------------------------------------------------------------------------------------------\n",
            "Epoch: 3 / 10 | Reconst_loss: nan | Kldiv loss: nan | Classifcation loss: nan | Constrast loss: nan | Total loss: nan | Train acc: 0.000 % ||| Val Loss: nan | Val acc: 0.000 %\n",
            "-------------------------------------------------------------------------------------------------------------------------------------------------------------------------------------\n"
          ]
        },
        {
          "output_type": "stream",
          "name": "stderr",
          "text": [
            "\u001b[32m[I 2023-03-18 00:24:44,516]\u001b[0m Trial 85 pruned. \u001b[0m\n"
          ]
        },
        {
          "output_type": "stream",
          "name": "stdout",
          "text": [
            "Epoch: 4 / 10 | Reconst_loss: nan | Kldiv loss: nan | Classifcation loss: nan | Constrast loss: nan | Total loss: nan | Train acc: 0.000 % ||| Val Loss: nan | Val acc: 0.000 %\n",
            "-------------------------------------------------------------------------------------------------------------------------------------------------------------------------------------\n",
            "Epoch: 1 / 10 | Reconst_loss: 2419.044 | Kldiv loss: 623.898 | Classifcation loss: 2.066 | Constrast loss: 42.07 | Total loss: 27349.887 | Train acc: 34.677 % ||| Val Loss: 16830.099 | Val acc: 65.427 %\n",
            "-------------------------------------------------------------------------------------------------------------------------------------------------------------------------------------\n",
            "Epoch: 2 / 10 | Reconst_loss: 2545.080 | Kldiv loss: 624.877 | Classifcation loss: 2.054 | Constrast loss: 22.93 | Total loss: 15342.880 | Train acc: 75.435 % ||| Val Loss: 16879.714 | Val acc: 65.083 %\n",
            "-------------------------------------------------------------------------------------------------------------------------------------------------------------------------------------\n",
            "Epoch: 3 / 10 | Reconst_loss: 2024.255 | Kldiv loss: 486.109 | Classifcation loss: 1.808 | Constrast loss: 12.84 | Total loss: 13930.897 | Train acc: 81.818 % ||| Val Loss: 13286.721 | Val acc: 85.028 %\n",
            "-------------------------------------------------------------------------------------------------------------------------------------------------------------------------------------\n",
            "Epoch: 4 / 10 | Reconst_loss: 2207.611 | Kldiv loss: 429.160 | Classifcation loss: 1.773 | Constrast loss: 16.93 | Total loss: 12541.427 | Train acc: 86.936 % ||| Val Loss: 12313.612 | Val acc: 87.706 %\n",
            "-------------------------------------------------------------------------------------------------------------------------------------------------------------------------------------\n",
            "Epoch: 5 / 10 | Reconst_loss: 2097.854 | Kldiv loss: 434.186 | Classifcation loss: 1.840 | Constrast loss: 40.75 | Total loss: 12158.476 | Train acc: 87.333 % ||| Val Loss: 11640.324 | Val acc: 89.123 %\n",
            "-------------------------------------------------------------------------------------------------------------------------------------------------------------------------------------\n",
            "Epoch: 6 / 10 | Reconst_loss: 1718.134 | Kldiv loss: 483.836 | Classifcation loss: 1.805 | Constrast loss: 8.80 | Total loss: 11844.999 | Train acc: 88.339 % ||| Val Loss: 11566.821 | Val acc: 89.174 %\n",
            "-------------------------------------------------------------------------------------------------------------------------------------------------------------------------------------\n",
            "Epoch: 7 / 10 | Reconst_loss: 1934.465 | Kldiv loss: 508.701 | Classifcation loss: 1.823 | Constrast loss: 1.13 | Total loss: 11678.210 | Train acc: 88.203 % ||| Val Loss: 11585.605 | Val acc: 89.236 %\n",
            "-------------------------------------------------------------------------------------------------------------------------------------------------------------------------------------\n",
            "Epoch: 8 / 10 | Reconst_loss: 1572.860 | Kldiv loss: 480.227 | Classifcation loss: 1.803 | Constrast loss: 12.15 | Total loss: 11464.698 | Train acc: 88.881 % ||| Val Loss: 11296.750 | Val acc: 88.864 %\n",
            "-------------------------------------------------------------------------------------------------------------------------------------------------------------------------------------\n",
            "Epoch: 9 / 10 | Reconst_loss: 2040.686 | Kldiv loss: 479.025 | Classifcation loss: 1.802 | Constrast loss: 4.32 | Total loss: 11474.308 | Train acc: 88.834 % ||| Val Loss: 11187.734 | Val acc: 89.147 %\n",
            "-------------------------------------------------------------------------------------------------------------------------------------------------------------------------------------\n"
          ]
        },
        {
          "output_type": "stream",
          "name": "stderr",
          "text": [
            "\u001b[32m[I 2023-03-18 00:28:47,026]\u001b[0m Trial 86 finished with value: 0.8901908485779475 and parameters: {'optuna_batch_size': 217, 'optimizer': 'Adam', 'lr': 0.009684285800926755, 'hidden_dim': 733, 'alpha': 5, 'beta': 7, 'gamma': 6, 'delta': 9}. Best is trial 13 with value: 0.9585126527801691.\u001b[0m\n"
          ]
        },
        {
          "output_type": "stream",
          "name": "stdout",
          "text": [
            "Epoch: 10 / 10 | Reconst_loss: 1816.717 | Kldiv loss: 503.094 | Classifcation loss: 1.780 | Constrast loss: 1.50 | Total loss: 11461.792 | Train acc: 89.019 % ||| Val Loss: 11315.223 | Val acc: 89.923 %\n",
            "-------------------------------------------------------------------------------------------------------------------------------------------------------------------------------------\n",
            "Epoch: 1 / 10 | Reconst_loss: 14919.517 | Kldiv loss: 10687.422 | Classifcation loss: 2.459 | Constrast loss: 2400.38 | Total loss: 2561947029374.083 | Train acc: 12.120 % ||| Val Loss: 113730.854 | Val acc: 16.752 %\n",
            "-------------------------------------------------------------------------------------------------------------------------------------------------------------------------------------\n",
            "Epoch: 2 / 10 | Reconst_loss: 10171.016 | Kldiv loss: 4245.769 | Classifcation loss: 2.334 | Constrast loss: 1106.11 | Total loss: 79986.582 | Train acc: 24.202 % ||| Val Loss: 62945.849 | Val acc: 34.795 %\n",
            "-------------------------------------------------------------------------------------------------------------------------------------------------------------------------------------\n",
            "Epoch: 3 / 10 | Reconst_loss: 10218.044 | Kldiv loss: 3400.074 | Classifcation loss: 2.239 | Constrast loss: 671.83 | Total loss: 57307.656 | Train acc: 41.692 % ||| Val Loss: 49840.316 | Val acc: 52.170 %\n",
            "-------------------------------------------------------------------------------------------------------------------------------------------------------------------------------------\n",
            "Epoch: 4 / 10 | Reconst_loss: 9002.124 | Kldiv loss: 3270.399 | Classifcation loss: 2.112 | Constrast loss: 491.57 | Total loss: 48112.049 | Train acc: 55.782 % ||| Val Loss: 44644.550 | Val acc: 58.177 %\n",
            "-------------------------------------------------------------------------------------------------------------------------------------------------------------------------------------\n",
            "Epoch: 5 / 10 | Reconst_loss: 8702.699 | Kldiv loss: 3230.443 | Classifcation loss: 2.067 | Constrast loss: 346.01 | Total loss: 44936.049 | Train acc: 62.930 % ||| Val Loss: 43032.846 | Val acc: 65.234 %\n",
            "-------------------------------------------------------------------------------------------------------------------------------------------------------------------------------------\n",
            "Epoch: 6 / 10 | Reconst_loss: 8407.771 | Kldiv loss: 2937.248 | Classifcation loss: 2.034 | Constrast loss: 324.37 | Total loss: 42848.507 | Train acc: 66.882 % ||| Val Loss: 41588.432 | Val acc: 66.843 %\n",
            "-------------------------------------------------------------------------------------------------------------------------------------------------------------------------------------\n",
            "Epoch: 7 / 10 | Reconst_loss: 7729.866 | Kldiv loss: 2864.659 | Classifcation loss: 2.034 | Constrast loss: 340.32 | Total loss: 41454.183 | Train acc: 68.309 % ||| Val Loss: 39406.015 | Val acc: 68.665 %\n",
            "-------------------------------------------------------------------------------------------------------------------------------------------------------------------------------------\n",
            "Epoch: 8 / 10 | Reconst_loss: 8761.353 | Kldiv loss: 2867.975 | Classifcation loss: 1.991 | Constrast loss: 343.78 | Total loss: 40298.800 | Train acc: 69.734 % ||| Val Loss: 39091.763 | Val acc: 70.041 %\n",
            "-------------------------------------------------------------------------------------------------------------------------------------------------------------------------------------\n",
            "Epoch: 9 / 10 | Reconst_loss: 8393.586 | Kldiv loss: 2680.727 | Classifcation loss: 2.040 | Constrast loss: 336.02 | Total loss: 39689.594 | Train acc: 70.359 % ||| Val Loss: 38321.392 | Val acc: 70.460 %\n",
            "-------------------------------------------------------------------------------------------------------------------------------------------------------------------------------------\n"
          ]
        },
        {
          "output_type": "stream",
          "name": "stderr",
          "text": [
            "\u001b[32m[I 2023-03-18 00:31:37,698]\u001b[0m Trial 87 finished with value: 0.7527880446051078 and parameters: {'optuna_batch_size': 598, 'optimizer': 'Adam', 'lr': 0.00788871786953854, 'hidden_dim': 664, 'alpha': 6, 'beta': 6, 'gamma': 9, 'delta': 10}. Best is trial 13 with value: 0.9585126527801691.\u001b[0m\n"
          ]
        },
        {
          "output_type": "stream",
          "name": "stdout",
          "text": [
            "Epoch: 10 / 10 | Reconst_loss: 7782.782 | Kldiv loss: 2919.647 | Classifcation loss: 1.940 | Constrast loss: 178.23 | Total loss: 39111.291 | Train acc: 75.279 % ||| Val Loss: 37930.650 | Val acc: 75.799 %\n",
            "-------------------------------------------------------------------------------------------------------------------------------------------------------------------------------------\n",
            "Epoch: 1 / 10 | Reconst_loss: 3049.959 | Kldiv loss: 656.096 | Classifcation loss: 1.949 | Constrast loss: 44.87 | Total loss: 10436.464 | Train acc: 47.707 % ||| Val Loss: 7756.544 | Val acc: 74.816 %\n",
            "-------------------------------------------------------------------------------------------------------------------------------------------------------------------------------------\n",
            "Epoch: 2 / 10 | Reconst_loss: 3370.857 | Kldiv loss: 696.506 | Classifcation loss: 1.911 | Constrast loss: 35.79 | Total loss: 7622.662 | Train acc: 78.195 % ||| Val Loss: 7382.634 | Val acc: 81.331 %\n",
            "-------------------------------------------------------------------------------------------------------------------------------------------------------------------------------------\n",
            "Epoch: 3 / 10 | Reconst_loss: 2993.540 | Kldiv loss: 499.357 | Classifcation loss: 1.876 | Constrast loss: 80.28 | Total loss: 7482.854 | Train acc: 81.885 % ||| Val Loss: 7075.104 | Val acc: 81.324 %\n",
            "-------------------------------------------------------------------------------------------------------------------------------------------------------------------------------------\n",
            "Epoch: 4 / 10 | Reconst_loss: 2995.777 | Kldiv loss: 676.019 | Classifcation loss: 1.883 | Constrast loss: 31.87 | Total loss: 7094.251 | Train acc: 84.575 % ||| Val Loss: 7022.998 | Val acc: 87.172 %\n",
            "-------------------------------------------------------------------------------------------------------------------------------------------------------------------------------------\n",
            "Epoch: 5 / 10 | Reconst_loss: 2712.293 | Kldiv loss: 629.429 | Classifcation loss: 1.825 | Constrast loss: 46.06 | Total loss: 7348.661 | Train acc: 81.829 % ||| Val Loss: 6910.789 | Val acc: 82.219 %\n",
            "-------------------------------------------------------------------------------------------------------------------------------------------------------------------------------------\n",
            "Epoch: 6 / 10 | Reconst_loss: 2566.878 | Kldiv loss: 595.863 | Classifcation loss: 1.885 | Constrast loss: 64.81 | Total loss: 6927.181 | Train acc: 85.777 % ||| Val Loss: 6780.458 | Val acc: 86.271 %\n",
            "-------------------------------------------------------------------------------------------------------------------------------------------------------------------------------------\n",
            "Epoch: 7 / 10 | Reconst_loss: 2608.698 | Kldiv loss: 552.559 | Classifcation loss: 1.799 | Constrast loss: 56.22 | Total loss: 6708.575 | Train acc: 87.098 % ||| Val Loss: 6528.744 | Val acc: 86.523 %\n",
            "-------------------------------------------------------------------------------------------------------------------------------------------------------------------------------------\n",
            "Epoch: 8 / 10 | Reconst_loss: 2666.188 | Kldiv loss: 655.497 | Classifcation loss: 1.775 | Constrast loss: 23.58 | Total loss: 6733.177 | Train acc: 86.907 % ||| Val Loss: 6467.914 | Val acc: 87.663 %\n",
            "-------------------------------------------------------------------------------------------------------------------------------------------------------------------------------------\n",
            "Epoch: 9 / 10 | Reconst_loss: 2692.864 | Kldiv loss: 633.129 | Classifcation loss: 1.843 | Constrast loss: 75.54 | Total loss: 6831.429 | Train acc: 86.609 % ||| Val Loss: 6844.808 | Val acc: 85.401 %\n",
            "-------------------------------------------------------------------------------------------------------------------------------------------------------------------------------------\n"
          ]
        },
        {
          "output_type": "stream",
          "name": "stderr",
          "text": [
            "\u001b[32m[I 2023-03-18 00:35:01,522]\u001b[0m Trial 88 finished with value: 0.8720493979383276 and parameters: {'optuna_batch_size': 124, 'optimizer': 'Adam', 'lr': 0.00818857572483664, 'hidden_dim': 627, 'alpha': 4, 'beta': 5, 'gamma': 4, 'delta': 5}. Best is trial 13 with value: 0.9585126527801691.\u001b[0m\n"
          ]
        },
        {
          "output_type": "stream",
          "name": "stdout",
          "text": [
            "Epoch: 10 / 10 | Reconst_loss: 2300.773 | Kldiv loss: 567.552 | Classifcation loss: 1.855 | Constrast loss: 171.47 | Total loss: 6694.324 | Train acc: 87.205 % ||| Val Loss: 6984.221 | Val acc: 80.657 %\n",
            "-------------------------------------------------------------------------------------------------------------------------------------------------------------------------------------\n",
            "Epoch: 1 / 10 | Reconst_loss: 7315.383 | Kldiv loss: 4627.915 | Classifcation loss: 2.479 | Constrast loss: 2534.92 | Total loss: 15566695899.136 | Train acc: 10.505 % ||| Val Loss: 73268.491 | Val acc: 19.593 %\n",
            "-------------------------------------------------------------------------------------------------------------------------------------------------------------------------------------\n",
            "Epoch: 2 / 10 | Reconst_loss: 6187.240 | Kldiv loss: 1762.448 | Classifcation loss: 2.374 | Constrast loss: 403.24 | Total loss: 47267.110 | Train acc: 23.845 % ||| Val Loss: 33551.693 | Val acc: 31.641 %\n",
            "-------------------------------------------------------------------------------------------------------------------------------------------------------------------------------------\n",
            "Epoch: 3 / 10 | Reconst_loss: 5600.441 | Kldiv loss: 1565.042 | Classifcation loss: 2.271 | Constrast loss: 242.22 | Total loss: 30779.604 | Train acc: 38.020 % ||| Val Loss: 27315.949 | Val acc: 45.636 %\n",
            "-------------------------------------------------------------------------------------------------------------------------------------------------------------------------------------\n",
            "Epoch: 4 / 10 | Reconst_loss: 5497.100 | Kldiv loss: 1612.764 | Classifcation loss: 2.181 | Constrast loss: 138.76 | Total loss: 26584.553 | Train acc: 47.782 % ||| Val Loss: 24274.648 | Val acc: 50.701 %\n",
            "-------------------------------------------------------------------------------------------------------------------------------------------------------------------------------------\n",
            "Epoch: 5 / 10 | Reconst_loss: 5387.439 | Kldiv loss: 1685.179 | Classifcation loss: 2.234 | Constrast loss: 102.43 | Total loss: 23566.485 | Train acc: 50.702 % ||| Val Loss: 23309.845 | Val acc: 51.989 %\n",
            "-------------------------------------------------------------------------------------------------------------------------------------------------------------------------------------\n",
            "Epoch: 6 / 10 | Reconst_loss: 4217.187 | Kldiv loss: 1357.118 | Classifcation loss: 2.159 | Constrast loss: 191.72 | Total loss: 22361.122 | Train acc: 51.579 % ||| Val Loss: 21546.571 | Val acc: 52.945 %\n",
            "-------------------------------------------------------------------------------------------------------------------------------------------------------------------------------------\n",
            "Epoch: 7 / 10 | Reconst_loss: 4849.719 | Kldiv loss: 1435.806 | Classifcation loss: 2.048 | Constrast loss: 79.83 | Total loss: 21497.945 | Train acc: 52.788 % ||| Val Loss: 21094.807 | Val acc: 54.662 %\n",
            "-------------------------------------------------------------------------------------------------------------------------------------------------------------------------------------\n",
            "Epoch: 8 / 10 | Reconst_loss: 4554.247 | Kldiv loss: 1351.748 | Classifcation loss: 2.114 | Constrast loss: 88.94 | Total loss: 21098.802 | Train acc: 56.687 % ||| Val Loss: 20821.035 | Val acc: 56.043 %\n",
            "-------------------------------------------------------------------------------------------------------------------------------------------------------------------------------------\n",
            "Epoch: 9 / 10 | Reconst_loss: 4335.824 | Kldiv loss: 1253.811 | Classifcation loss: 2.129 | Constrast loss: 126.47 | Total loss: 20442.262 | Train acc: 57.398 % ||| Val Loss: 20346.610 | Val acc: 57.443 %\n",
            "-------------------------------------------------------------------------------------------------------------------------------------------------------------------------------------\n"
          ]
        },
        {
          "output_type": "stream",
          "name": "stderr",
          "text": [
            "\u001b[32m[I 2023-03-18 00:39:03,923]\u001b[0m Trial 89 finished with value: 0.571324161193442 and parameters: {'optuna_batch_size': 312, 'optimizer': 'Adam', 'lr': 0.0073393675529824925, 'hidden_dim': 773, 'alpha': 7, 'beta': 8, 'gamma': 7, 'delta': 10}. Best is trial 13 with value: 0.9585126527801691.\u001b[0m\n"
          ]
        },
        {
          "output_type": "stream",
          "name": "stdout",
          "text": [
            "Epoch: 10 / 10 | Reconst_loss: 4803.079 | Kldiv loss: 1363.406 | Classifcation loss: 2.177 | Constrast loss: 110.94 | Total loss: 20547.973 | Train acc: 57.132 % ||| Val Loss: 22076.245 | Val acc: 57.743 %\n",
            "-------------------------------------------------------------------------------------------------------------------------------------------------------------------------------------\n",
            "Epoch: 1 / 10 | Reconst_loss: 6538.629 | Kldiv loss: 8597.909 | Classifcation loss: 2.528 | Constrast loss: 1586.66 | Total loss: 104404933.566 | Train acc: 10.234 % ||| Val Loss: 282864.588 | Val acc: 15.544 %\n",
            "-------------------------------------------------------------------------------------------------------------------------------------------------------------------------------------\n",
            "Epoch: 2 / 10 | Reconst_loss: 5908.656 | Kldiv loss: 6336.077 | Classifcation loss: 2.452 | Constrast loss: 1272.76 | Total loss: 257437.378 | Train acc: 19.097 % ||| Val Loss: 236748.258 | Val acc: 25.321 %\n",
            "-------------------------------------------------------------------------------------------------------------------------------------------------------------------------------------\n",
            "Epoch: 3 / 10 | Reconst_loss: 5737.546 | Kldiv loss: 4104.959 | Classifcation loss: 2.379 | Constrast loss: 975.02 | Total loss: 211810.176 | Train acc: 29.202 % ||| Val Loss: 189922.712 | Val acc: 30.261 %\n",
            "-------------------------------------------------------------------------------------------------------------------------------------------------------------------------------------\n",
            "Epoch: 4 / 10 | Reconst_loss: 4951.549 | Kldiv loss: 3349.926 | Classifcation loss: 2.331 | Constrast loss: 277.42 | Total loss: 162755.139 | Train acc: 31.560 % ||| Val Loss: 108964.725 | Val acc: 30.969 %\n",
            "-------------------------------------------------------------------------------------------------------------------------------------------------------------------------------------\n",
            "Epoch: 5 / 10 | Reconst_loss: 4937.308 | Kldiv loss: 1664.400 | Classifcation loss: 2.319 | Constrast loss: 149.63 | Total loss: 80072.177 | Train acc: 35.130 % ||| Val Loss: 68738.076 | Val acc: 36.955 %\n",
            "-------------------------------------------------------------------------------------------------------------------------------------------------------------------------------------\n",
            "Epoch: 6 / 10 | Reconst_loss: 5107.873 | Kldiv loss: 1439.643 | Classifcation loss: 2.241 | Constrast loss: 57.66 | Total loss: 64241.358 | Train acc: 44.642 % ||| Val Loss: 60536.096 | Val acc: 49.294 %\n",
            "-------------------------------------------------------------------------------------------------------------------------------------------------------------------------------------\n",
            "Epoch: 7 / 10 | Reconst_loss: 4543.091 | Kldiv loss: 1392.119 | Classifcation loss: 2.202 | Constrast loss: 48.29 | Total loss: 59218.786 | Train acc: 51.630 % ||| Val Loss: 57990.884 | Val acc: 51.231 %\n",
            "-------------------------------------------------------------------------------------------------------------------------------------------------------------------------------------\n",
            "Epoch: 8 / 10 | Reconst_loss: 4564.601 | Kldiv loss: 1259.873 | Classifcation loss: 2.226 | Constrast loss: 78.38 | Total loss: 56838.556 | Train acc: 54.493 % ||| Val Loss: 54280.738 | Val acc: 56.590 %\n",
            "-------------------------------------------------------------------------------------------------------------------------------------------------------------------------------------\n",
            "Epoch: 9 / 10 | Reconst_loss: 4037.856 | Kldiv loss: 1211.005 | Classifcation loss: 2.130 | Constrast loss: 29.15 | Total loss: 54013.806 | Train acc: 57.919 % ||| Val Loss: 53845.678 | Val acc: 59.266 %\n",
            "-------------------------------------------------------------------------------------------------------------------------------------------------------------------------------------\n"
          ]
        },
        {
          "output_type": "stream",
          "name": "stderr",
          "text": [
            "\u001b[32m[I 2023-03-18 00:43:18,550]\u001b[0m Trial 90 finished with value: 0.6083307229790129 and parameters: {'optuna_batch_size': 730, 'optimizer': 'Adam', 'lr': 0.006912432137635682, 'hidden_dim': 822, 'alpha': 5, 'beta': 6, 'gamma': 2, 'delta': 9}. Best is trial 13 with value: 0.9585126527801691.\u001b[0m\n"
          ]
        },
        {
          "output_type": "stream",
          "name": "stdout",
          "text": [
            "Epoch: 10 / 10 | Reconst_loss: 4470.950 | Kldiv loss: 1097.046 | Classifcation loss: 2.127 | Constrast loss: 55.32 | Total loss: 52293.882 | Train acc: 60.833 % ||| Val Loss: 50929.819 | Val acc: 62.058 %\n",
            "-------------------------------------------------------------------------------------------------------------------------------------------------------------------------------------\n",
            "Epoch: 1 / 10 | Reconst_loss: 1952.198 | Kldiv loss: 343.210 | Classifcation loss: 2.191 | Constrast loss: 87.13 | Total loss: 20907.916 | Train acc: 35.584 % ||| Val Loss: 9393.149 | Val acc: 59.898 %\n",
            "-------------------------------------------------------------------------------------------------------------------------------------------------------------------------------------\n",
            "Epoch: 2 / 10 | Reconst_loss: 1916.132 | Kldiv loss: 434.045 | Classifcation loss: 1.991 | Constrast loss: 5.12 | Total loss: 9005.329 | Train acc: 68.243 % ||| Val Loss: 8842.055 | Val acc: 69.523 %\n",
            "-------------------------------------------------------------------------------------------------------------------------------------------------------------------------------------\n",
            "Epoch: 3 / 10 | Reconst_loss: 1716.073 | Kldiv loss: 428.843 | Classifcation loss: 2.046 | Constrast loss: 28.95 | Total loss: 8252.033 | Train acc: 77.596 % ||| Val Loss: 8354.256 | Val acc: 76.958 %\n",
            "-------------------------------------------------------------------------------------------------------------------------------------------------------------------------------------\n",
            "Epoch: 4 / 10 | Reconst_loss: 1839.070 | Kldiv loss: 404.954 | Classifcation loss: 1.822 | Constrast loss: 16.43 | Total loss: 8027.678 | Train acc: 81.595 % ||| Val Loss: 7818.546 | Val acc: 83.117 %\n",
            "-------------------------------------------------------------------------------------------------------------------------------------------------------------------------------------\n",
            "Epoch: 5 / 10 | Reconst_loss: 1535.639 | Kldiv loss: 398.670 | Classifcation loss: 1.803 | Constrast loss: 10.29 | Total loss: 7752.943 | Train acc: 84.726 % ||| Val Loss: 7479.133 | Val acc: 84.503 %\n",
            "-------------------------------------------------------------------------------------------------------------------------------------------------------------------------------------\n",
            "Epoch: 6 / 10 | Reconst_loss: 1608.980 | Kldiv loss: 461.218 | Classifcation loss: 1.901 | Constrast loss: 14.61 | Total loss: 7736.047 | Train acc: 84.935 % ||| Val Loss: 7811.525 | Val acc: 83.371 %\n",
            "-------------------------------------------------------------------------------------------------------------------------------------------------------------------------------------\n",
            "Epoch: 7 / 10 | Reconst_loss: 1651.483 | Kldiv loss: 407.403 | Classifcation loss: 1.825 | Constrast loss: 8.74 | Total loss: 7678.052 | Train acc: 85.432 % ||| Val Loss: 7745.993 | Val acc: 85.103 %\n",
            "-------------------------------------------------------------------------------------------------------------------------------------------------------------------------------------\n",
            "Epoch: 8 / 10 | Reconst_loss: 1439.068 | Kldiv loss: 417.528 | Classifcation loss: 1.820 | Constrast loss: 16.69 | Total loss: 7620.876 | Train acc: 85.463 % ||| Val Loss: 7371.451 | Val acc: 87.150 %\n",
            "-------------------------------------------------------------------------------------------------------------------------------------------------------------------------------------\n",
            "Epoch: 9 / 10 | Reconst_loss: 1453.251 | Kldiv loss: 397.130 | Classifcation loss: 1.777 | Constrast loss: 5.25 | Total loss: 7448.821 | Train acc: 86.444 % ||| Val Loss: 7535.725 | Val acc: 86.026 %\n",
            "-------------------------------------------------------------------------------------------------------------------------------------------------------------------------------------\n"
          ]
        },
        {
          "output_type": "stream",
          "name": "stderr",
          "text": [
            "\u001b[32m[I 2023-03-18 00:46:53,636]\u001b[0m Trial 91 finished with value: 0.8664172102551192 and parameters: {'optuna_batch_size': 139, 'optimizer': 'Adam', 'lr': 0.008060605263140896, 'hidden_dim': 652, 'alpha': 10, 'beta': 8, 'gamma': 8, 'delta': 8}. Best is trial 13 with value: 0.9585126527801691.\u001b[0m\n"
          ]
        },
        {
          "output_type": "stream",
          "name": "stdout",
          "text": [
            "Epoch: 10 / 10 | Reconst_loss: 1163.132 | Kldiv loss: 338.431 | Classifcation loss: 1.810 | Constrast loss: 20.51 | Total loss: 7405.045 | Train acc: 86.642 % ||| Val Loss: 7068.454 | Val acc: 86.577 %\n",
            "-------------------------------------------------------------------------------------------------------------------------------------------------------------------------------------\n",
            "Epoch: 1 / 10 | Reconst_loss: 1891.156 | Kldiv loss: 476.495 | Classifcation loss: 2.050 | Constrast loss: 73.25 | Total loss: 15252.529 | Train acc: 42.618 % ||| Val Loss: 10026.898 | Val acc: 70.552 %\n",
            "-------------------------------------------------------------------------------------------------------------------------------------------------------------------------------------\n",
            "Epoch: 2 / 10 | Reconst_loss: 1636.941 | Kldiv loss: 480.679 | Classifcation loss: 2.039 | Constrast loss: 68.95 | Total loss: 9796.914 | Train acc: 74.719 % ||| Val Loss: 10247.569 | Val acc: 70.143 %\n",
            "-------------------------------------------------------------------------------------------------------------------------------------------------------------------------------------\n",
            "Epoch: 3 / 10 | Reconst_loss: 1850.110 | Kldiv loss: 523.006 | Classifcation loss: 1.911 | Constrast loss: 20.92 | Total loss: 9390.987 | Train acc: 77.692 % ||| Val Loss: 8992.693 | Val acc: 79.292 %\n",
            "-------------------------------------------------------------------------------------------------------------------------------------------------------------------------------------\n",
            "Epoch: 4 / 10 | Reconst_loss: 2108.296 | Kldiv loss: 588.846 | Classifcation loss: 1.867 | Constrast loss: 7.93 | Total loss: 9073.254 | Train acc: 80.104 % ||| Val Loss: 8756.052 | Val acc: 81.493 %\n",
            "-------------------------------------------------------------------------------------------------------------------------------------------------------------------------------------\n",
            "Epoch: 5 / 10 | Reconst_loss: 2279.613 | Kldiv loss: 547.095 | Classifcation loss: 1.831 | Constrast loss: 13.46 | Total loss: 8975.881 | Train acc: 80.550 % ||| Val Loss: 8852.434 | Val acc: 80.993 %\n",
            "-------------------------------------------------------------------------------------------------------------------------------------------------------------------------------------\n",
            "Epoch: 6 / 10 | Reconst_loss: 1862.299 | Kldiv loss: 483.344 | Classifcation loss: 1.855 | Constrast loss: 7.88 | Total loss: 9007.237 | Train acc: 80.841 % ||| Val Loss: 8395.327 | Val acc: 82.175 %\n",
            "-------------------------------------------------------------------------------------------------------------------------------------------------------------------------------------\n",
            "Epoch: 7 / 10 | Reconst_loss: 2132.015 | Kldiv loss: 486.730 | Classifcation loss: 1.889 | Constrast loss: 34.68 | Total loss: 8947.534 | Train acc: 83.115 % ||| Val Loss: 8600.147 | Val acc: 83.849 %\n",
            "-------------------------------------------------------------------------------------------------------------------------------------------------------------------------------------\n",
            "Epoch: 8 / 10 | Reconst_loss: 1799.744 | Kldiv loss: 446.607 | Classifcation loss: 1.877 | Constrast loss: 28.25 | Total loss: 8827.721 | Train acc: 83.259 % ||| Val Loss: 8623.287 | Val acc: 82.606 %\n",
            "-------------------------------------------------------------------------------------------------------------------------------------------------------------------------------------\n",
            "Epoch: 9 / 10 | Reconst_loss: 2051.777 | Kldiv loss: 524.513 | Classifcation loss: 1.897 | Constrast loss: 14.43 | Total loss: 8629.134 | Train acc: 83.437 % ||| Val Loss: 8898.717 | Val acc: 83.576 %\n",
            "-------------------------------------------------------------------------------------------------------------------------------------------------------------------------------------\n"
          ]
        },
        {
          "output_type": "stream",
          "name": "stderr",
          "text": [
            "\u001b[32m[I 2023-03-18 00:49:52,661]\u001b[0m Trial 92 finished with value: 0.8281407862452193 and parameters: {'optuna_batch_size': 160, 'optimizer': 'Adam', 'lr': 0.008538971617932614, 'hidden_dim': 595, 'alpha': 6, 'beta': 8, 'gamma': 8, 'delta': 9}. Best is trial 13 with value: 0.9585126527801691.\u001b[0m\n"
          ]
        },
        {
          "output_type": "stream",
          "name": "stdout",
          "text": [
            "Epoch: 10 / 10 | Reconst_loss: 1661.264 | Kldiv loss: 484.597 | Classifcation loss: 1.870 | Constrast loss: 1.01 | Total loss: 8927.861 | Train acc: 82.814 % ||| Val Loss: 8387.007 | Val acc: 82.638 %\n",
            "-------------------------------------------------------------------------------------------------------------------------------------------------------------------------------------\n",
            "Epoch: 1 / 10 | Reconst_loss: 3422.697 | Kldiv loss: 553.765 | Classifcation loss: 2.065 | Constrast loss: 47.76 | Total loss: 9336.579 | Train acc: 49.379 % ||| Val Loss: 7497.108 | Val acc: 64.369 %\n",
            "-------------------------------------------------------------------------------------------------------------------------------------------------------------------------------------\n",
            "Epoch: 2 / 10 | Reconst_loss: 2323.523 | Kldiv loss: 527.741 | Classifcation loss: 2.017 | Constrast loss: 50.39 | Total loss: 7142.110 | Train acc: 67.369 % ||| Val Loss: 6803.065 | Val acc: 71.167 %\n",
            "-------------------------------------------------------------------------------------------------------------------------------------------------------------------------------------\n",
            "Epoch: 3 / 10 | Reconst_loss: 2713.472 | Kldiv loss: 564.996 | Classifcation loss: 1.969 | Constrast loss: 47.03 | Total loss: 6846.139 | Train acc: 71.953 % ||| Val Loss: 6627.973 | Val acc: 73.515 %\n",
            "-------------------------------------------------------------------------------------------------------------------------------------------------------------------------------------\n",
            "Epoch: 4 / 10 | Reconst_loss: 2624.857 | Kldiv loss: 560.537 | Classifcation loss: 1.987 | Constrast loss: 53.57 | Total loss: 6663.364 | Train acc: 74.435 % ||| Val Loss: 6518.052 | Val acc: 75.122 %\n",
            "-------------------------------------------------------------------------------------------------------------------------------------------------------------------------------------\n",
            "Epoch: 5 / 10 | Reconst_loss: 2363.640 | Kldiv loss: 552.977 | Classifcation loss: 1.918 | Constrast loss: 19.48 | Total loss: 6566.832 | Train acc: 75.524 % ||| Val Loss: 6274.018 | Val acc: 75.848 %\n",
            "-------------------------------------------------------------------------------------------------------------------------------------------------------------------------------------\n",
            "Epoch: 6 / 10 | Reconst_loss: 2092.060 | Kldiv loss: 596.576 | Classifcation loss: 1.999 | Constrast loss: 88.15 | Total loss: 6488.315 | Train acc: 75.869 % ||| Val Loss: 6417.796 | Val acc: 75.024 %\n",
            "-------------------------------------------------------------------------------------------------------------------------------------------------------------------------------------\n",
            "Epoch: 7 / 10 | Reconst_loss: 1963.510 | Kldiv loss: 572.464 | Classifcation loss: 1.944 | Constrast loss: 30.63 | Total loss: 6427.295 | Train acc: 76.221 % ||| Val Loss: 6265.583 | Val acc: 77.029 %\n",
            "-------------------------------------------------------------------------------------------------------------------------------------------------------------------------------------\n",
            "Epoch: 8 / 10 | Reconst_loss: 2002.452 | Kldiv loss: 624.631 | Classifcation loss: 1.855 | Constrast loss: 27.93 | Total loss: 6323.757 | Train acc: 77.194 % ||| Val Loss: 6261.410 | Val acc: 77.130 %\n",
            "-------------------------------------------------------------------------------------------------------------------------------------------------------------------------------------\n",
            "Epoch: 9 / 10 | Reconst_loss: 2410.620 | Kldiv loss: 567.068 | Classifcation loss: 1.874 | Constrast loss: 19.17 | Total loss: 6364.611 | Train acc: 76.459 % ||| Val Loss: 6173.189 | Val acc: 77.057 %\n",
            "-------------------------------------------------------------------------------------------------------------------------------------------------------------------------------------\n"
          ]
        },
        {
          "output_type": "stream",
          "name": "stderr",
          "text": [
            "\u001b[32m[I 2023-03-18 00:54:20,817]\u001b[0m Trial 93 finished with value: 0.7702359323980941 and parameters: {'optuna_batch_size': 117, 'optimizer': 'Adam', 'lr': 0.007666843383210968, 'hidden_dim': 714, 'alpha': 9, 'beta': 7, 'gamma': 7, 'delta': 8}. Best is trial 13 with value: 0.9585126527801691.\u001b[0m\n"
          ]
        },
        {
          "output_type": "stream",
          "name": "stdout",
          "text": [
            "Epoch: 10 / 10 | Reconst_loss: 2603.954 | Kldiv loss: 544.667 | Classifcation loss: 1.878 | Constrast loss: 9.93 | Total loss: 6230.438 | Train acc: 77.024 % ||| Val Loss: 6189.240 | Val acc: 76.296 %\n",
            "-------------------------------------------------------------------------------------------------------------------------------------------------------------------------------------\n",
            "Epoch: 1 / 10 | Reconst_loss: 1671.960 | Kldiv loss: 373.663 | Classifcation loss: 2.155 | Constrast loss: 36.24 | Total loss: 84197.249 | Train acc: 35.349 % ||| Val Loss: 9219.578 | Val acc: 61.525 %\n",
            "-------------------------------------------------------------------------------------------------------------------------------------------------------------------------------------\n",
            "Epoch: 2 / 10 | Reconst_loss: 2222.168 | Kldiv loss: 459.711 | Classifcation loss: 1.909 | Constrast loss: 27.96 | Total loss: 8772.350 | Train acc: 75.416 % ||| Val Loss: 8208.776 | Val acc: 81.591 %\n",
            "-------------------------------------------------------------------------------------------------------------------------------------------------------------------------------------\n",
            "Epoch: 3 / 10 | Reconst_loss: 2285.342 | Kldiv loss: 479.525 | Classifcation loss: 1.852 | Constrast loss: 7.95 | Total loss: 8224.384 | Train acc: 83.612 % ||| Val Loss: 7750.584 | Val acc: 85.567 %\n",
            "-------------------------------------------------------------------------------------------------------------------------------------------------------------------------------------\n",
            "Epoch: 4 / 10 | Reconst_loss: 1529.129 | Kldiv loss: 371.476 | Classifcation loss: 1.840 | Constrast loss: 24.57 | Total loss: 7931.699 | Train acc: 86.525 % ||| Val Loss: 8009.418 | Val acc: 86.329 %\n",
            "-------------------------------------------------------------------------------------------------------------------------------------------------------------------------------------\n",
            "Epoch: 5 / 10 | Reconst_loss: 1584.953 | Kldiv loss: 452.387 | Classifcation loss: 1.845 | Constrast loss: 22.44 | Total loss: 7824.862 | Train acc: 87.983 % ||| Val Loss: 7686.814 | Val acc: 90.081 %\n",
            "-------------------------------------------------------------------------------------------------------------------------------------------------------------------------------------\n",
            "Epoch: 6 / 10 | Reconst_loss: 1586.035 | Kldiv loss: 380.450 | Classifcation loss: 1.822 | Constrast loss: 19.18 | Total loss: 7576.986 | Train acc: 89.126 % ||| Val Loss: 7332.654 | Val acc: 89.753 %\n",
            "-------------------------------------------------------------------------------------------------------------------------------------------------------------------------------------\n",
            "Epoch: 7 / 10 | Reconst_loss: 1223.743 | Kldiv loss: 419.332 | Classifcation loss: 1.787 | Constrast loss: 30.30 | Total loss: 7533.453 | Train acc: 89.601 % ||| Val Loss: 7259.969 | Val acc: 88.936 %\n",
            "-------------------------------------------------------------------------------------------------------------------------------------------------------------------------------------\n",
            "Epoch: 8 / 10 | Reconst_loss: 1717.554 | Kldiv loss: 438.112 | Classifcation loss: 1.763 | Constrast loss: 16.20 | Total loss: 7426.562 | Train acc: 90.152 % ||| Val Loss: 7499.863 | Val acc: 88.842 %\n",
            "-------------------------------------------------------------------------------------------------------------------------------------------------------------------------------------\n",
            "Epoch: 9 / 10 | Reconst_loss: 1677.193 | Kldiv loss: 393.868 | Classifcation loss: 1.760 | Constrast loss: 21.66 | Total loss: 7421.538 | Train acc: 90.010 % ||| Val Loss: 7027.524 | Val acc: 90.988 %\n",
            "-------------------------------------------------------------------------------------------------------------------------------------------------------------------------------------\n"
          ]
        },
        {
          "output_type": "stream",
          "name": "stderr",
          "text": [
            "\u001b[32m[I 2023-03-18 00:58:06,949]\u001b[0m Trial 94 finished with value: 0.9047468031405791 and parameters: {'optuna_batch_size': 139, 'optimizer': 'Adam', 'lr': 0.007848180662389546, 'hidden_dim': 676, 'alpha': 0, 'beta': 9, 'gamma': 0, 'delta': 10}. Best is trial 13 with value: 0.9585126527801691.\u001b[0m\n"
          ]
        },
        {
          "output_type": "stream",
          "name": "stdout",
          "text": [
            "Epoch: 10 / 10 | Reconst_loss: 1377.188 | Kldiv loss: 408.246 | Classifcation loss: 1.827 | Constrast loss: 7.79 | Total loss: 7350.519 | Train acc: 90.475 % ||| Val Loss: 7367.770 | Val acc: 90.834 %\n",
            "-------------------------------------------------------------------------------------------------------------------------------------------------------------------------------------\n",
            "Epoch: 1 / 10 | Reconst_loss: 4149.849 | Kldiv loss: 902.981 | Classifcation loss: 2.026 | Constrast loss: 105.40 | Total loss: 17844.799 | Train acc: 42.148 % ||| Val Loss: 12162.755 | Val acc: 69.431 %\n",
            "-------------------------------------------------------------------------------------------------------------------------------------------------------------------------------------\n",
            "Epoch: 2 / 10 | Reconst_loss: 3623.893 | Kldiv loss: 875.114 | Classifcation loss: 1.977 | Constrast loss: 45.16 | Total loss: 11714.917 | Train acc: 74.284 % ||| Val Loss: 11093.319 | Val acc: 75.469 %\n",
            "-------------------------------------------------------------------------------------------------------------------------------------------------------------------------------------\n",
            "Epoch: 3 / 10 | Reconst_loss: 3727.683 | Kldiv loss: 924.888 | Classifcation loss: 1.943 | Constrast loss: 90.41 | Total loss: 11611.919 | Train acc: 74.368 % ||| Val Loss: 11171.292 | Val acc: 75.720 %\n",
            "-------------------------------------------------------------------------------------------------------------------------------------------------------------------------------------\n",
            "Epoch: 4 / 10 | Reconst_loss: 3508.527 | Kldiv loss: 893.830 | Classifcation loss: 2.009 | Constrast loss: 83.89 | Total loss: 11528.776 | Train acc: 74.286 % ||| Val Loss: 10781.439 | Val acc: 74.960 %\n",
            "-------------------------------------------------------------------------------------------------------------------------------------------------------------------------------------\n",
            "Epoch: 5 / 10 | Reconst_loss: 3521.881 | Kldiv loss: 755.102 | Classifcation loss: 1.942 | Constrast loss: 38.68 | Total loss: 10887.095 | Train acc: 73.782 % ||| Val Loss: 10208.178 | Val acc: 72.200 %\n",
            "-------------------------------------------------------------------------------------------------------------------------------------------------------------------------------------\n",
            "Epoch: 6 / 10 | Reconst_loss: 3434.005 | Kldiv loss: 761.578 | Classifcation loss: 1.965 | Constrast loss: 32.95 | Total loss: 10273.697 | Train acc: 72.491 % ||| Val Loss: 10392.955 | Val acc: 72.499 %\n",
            "-------------------------------------------------------------------------------------------------------------------------------------------------------------------------------------\n",
            "Epoch: 7 / 10 | Reconst_loss: 3265.883 | Kldiv loss: 736.380 | Classifcation loss: 1.970 | Constrast loss: 49.53 | Total loss: 10143.397 | Train acc: 72.887 % ||| Val Loss: 9630.513 | Val acc: 72.861 %\n",
            "-------------------------------------------------------------------------------------------------------------------------------------------------------------------------------------\n",
            "Epoch: 8 / 10 | Reconst_loss: 2527.299 | Kldiv loss: 778.267 | Classifcation loss: 1.943 | Constrast loss: 24.08 | Total loss: 9906.020 | Train acc: 73.013 % ||| Val Loss: 9612.821 | Val acc: 73.136 %\n",
            "-------------------------------------------------------------------------------------------------------------------------------------------------------------------------------------\n",
            "Epoch: 9 / 10 | Reconst_loss: 2853.673 | Kldiv loss: 728.054 | Classifcation loss: 1.928 | Constrast loss: 36.21 | Total loss: 9925.791 | Train acc: 72.903 % ||| Val Loss: 9467.887 | Val acc: 72.924 %\n",
            "-------------------------------------------------------------------------------------------------------------------------------------------------------------------------------------\n"
          ]
        },
        {
          "output_type": "stream",
          "name": "stderr",
          "text": [
            "\u001b[32m[I 2023-03-18 01:01:31,401]\u001b[0m Trial 95 finished with value: 0.728647208064414 and parameters: {'optuna_batch_size': 184, 'optimizer': 'Adam', 'lr': 0.007846406980188333, 'hidden_dim': 680, 'alpha': 0, 'beta': 9, 'gamma': 0, 'delta': 10}. Best is trial 13 with value: 0.9585126527801691.\u001b[0m\n"
          ]
        },
        {
          "output_type": "stream",
          "name": "stdout",
          "text": [
            "Epoch: 10 / 10 | Reconst_loss: 3463.779 | Kldiv loss: 758.402 | Classifcation loss: 1.960 | Constrast loss: 13.65 | Total loss: 9822.872 | Train acc: 72.865 % ||| Val Loss: 9502.466 | Val acc: 73.005 %\n",
            "-------------------------------------------------------------------------------------------------------------------------------------------------------------------------------------\n",
            "Epoch: 1 / 10 | Reconst_loss: 2195.729 | Kldiv loss: 415.180 | Classifcation loss: 2.174 | Constrast loss: 6.89 | Total loss: 20180.925 | Train acc: 36.884 % ||| Val Loss: 13378.474 | Val acc: 65.774 %\n",
            "-------------------------------------------------------------------------------------------------------------------------------------------------------------------------------------\n",
            "Epoch: 2 / 10 | Reconst_loss: 2098.284 | Kldiv loss: 482.000 | Classifcation loss: 1.978 | Constrast loss: 34.07 | Total loss: 12558.232 | Train acc: 72.150 % ||| Val Loss: 13955.664 | Val acc: 74.227 %\n",
            "-------------------------------------------------------------------------------------------------------------------------------------------------------------------------------------\n",
            "Epoch: 3 / 10 | Reconst_loss: 2325.120 | Kldiv loss: 405.948 | Classifcation loss: 1.936 | Constrast loss: 16.05 | Total loss: 12075.280 | Train acc: 79.087 % ||| Val Loss: 11567.767 | Val acc: 81.232 %\n",
            "-------------------------------------------------------------------------------------------------------------------------------------------------------------------------------------\n",
            "Epoch: 4 / 10 | Reconst_loss: 1851.519 | Kldiv loss: 465.745 | Classifcation loss: 1.924 | Constrast loss: 9.52 | Total loss: 11846.584 | Train acc: 81.900 % ||| Val Loss: 11275.295 | Val acc: 83.030 %\n",
            "-------------------------------------------------------------------------------------------------------------------------------------------------------------------------------------\n",
            "Epoch: 5 / 10 | Reconst_loss: 1493.475 | Kldiv loss: 467.263 | Classifcation loss: 1.846 | Constrast loss: 17.86 | Total loss: 11841.101 | Train acc: 82.545 % ||| Val Loss: 12273.139 | Val acc: 84.350 %\n",
            "-------------------------------------------------------------------------------------------------------------------------------------------------------------------------------------\n",
            "Epoch: 6 / 10 | Reconst_loss: 1601.456 | Kldiv loss: 435.301 | Classifcation loss: 1.817 | Constrast loss: 21.87 | Total loss: 11320.454 | Train acc: 84.436 % ||| Val Loss: 11206.624 | Val acc: 83.699 %\n",
            "-------------------------------------------------------------------------------------------------------------------------------------------------------------------------------------\n",
            "Epoch: 7 / 10 | Reconst_loss: 1564.322 | Kldiv loss: 454.551 | Classifcation loss: 1.849 | Constrast loss: 11.34 | Total loss: 11152.651 | Train acc: 84.155 % ||| Val Loss: 11681.677 | Val acc: 81.479 %\n",
            "-------------------------------------------------------------------------------------------------------------------------------------------------------------------------------------\n",
            "Epoch: 8 / 10 | Reconst_loss: 2079.405 | Kldiv loss: 470.293 | Classifcation loss: 1.919 | Constrast loss: 14.36 | Total loss: 11285.611 | Train acc: 81.053 % ||| Val Loss: 11202.100 | Val acc: 81.185 %\n",
            "-------------------------------------------------------------------------------------------------------------------------------------------------------------------------------------\n",
            "Epoch: 9 / 10 | Reconst_loss: 1855.622 | Kldiv loss: 469.579 | Classifcation loss: 1.825 | Constrast loss: 1.16 | Total loss: 11048.583 | Train acc: 80.780 % ||| Val Loss: 11019.596 | Val acc: 81.122 %\n",
            "-------------------------------------------------------------------------------------------------------------------------------------------------------------------------------------\n"
          ]
        },
        {
          "output_type": "stream",
          "name": "stderr",
          "text": [
            "\u001b[32m[I 2023-03-18 01:05:35,924]\u001b[0m Trial 96 finished with value: 0.8128285818917635 and parameters: {'optuna_batch_size': 204, 'optimizer': 'Adam', 'lr': 0.008756722499846728, 'hidden_dim': 755, 'alpha': 1, 'beta': 9, 'gamma': 1, 'delta': 10}. Best is trial 13 with value: 0.9585126527801691.\u001b[0m\n"
          ]
        },
        {
          "output_type": "stream",
          "name": "stdout",
          "text": [
            "Epoch: 10 / 10 | Reconst_loss: 1484.918 | Kldiv loss: 414.815 | Classifcation loss: 1.901 | Constrast loss: 1.35 | Total loss: 10824.663 | Train acc: 81.283 % ||| Val Loss: 10687.334 | Val acc: 80.538 %\n",
            "-------------------------------------------------------------------------------------------------------------------------------------------------------------------------------------\n",
            "Epoch: 1 / 10 | Reconst_loss: nan | Kldiv loss: nan | Classifcation loss: nan | Constrast loss: nan | Total loss: nan | Train acc: 0.025 % ||| Val Loss: nan | Val acc: 0.000 %\n",
            "-------------------------------------------------------------------------------------------------------------------------------------------------------------------------------------\n",
            "Epoch: 2 / 10 | Reconst_loss: nan | Kldiv loss: nan | Classifcation loss: nan | Constrast loss: nan | Total loss: nan | Train acc: 0.000 % ||| Val Loss: nan | Val acc: 0.000 %\n",
            "-------------------------------------------------------------------------------------------------------------------------------------------------------------------------------------\n",
            "Epoch: 3 / 10 | Reconst_loss: nan | Kldiv loss: nan | Classifcation loss: nan | Constrast loss: nan | Total loss: nan | Train acc: 0.000 % ||| Val Loss: nan | Val acc: 0.000 %\n",
            "-------------------------------------------------------------------------------------------------------------------------------------------------------------------------------------\n"
          ]
        },
        {
          "output_type": "stream",
          "name": "stderr",
          "text": [
            "\u001b[32m[I 2023-03-18 01:06:51,380]\u001b[0m Trial 97 pruned. \u001b[0m\n"
          ]
        },
        {
          "output_type": "stream",
          "name": "stdout",
          "text": [
            "Epoch: 4 / 10 | Reconst_loss: nan | Kldiv loss: nan | Classifcation loss: nan | Constrast loss: nan | Total loss: nan | Train acc: 0.000 % ||| Val Loss: nan | Val acc: 0.000 %\n",
            "-------------------------------------------------------------------------------------------------------------------------------------------------------------------------------------\n",
            "Epoch: 1 / 10 | Reconst_loss: 396.808 | Kldiv loss: 61.467 | Classifcation loss: 1.886 | Constrast loss: 0.00 | Total loss: 8760.498 | Train acc: 47.890 % ||| Val Loss: 6830.198 | Val acc: 68.007 %\n",
            "-------------------------------------------------------------------------------------------------------------------------------------------------------------------------------------\n",
            "Epoch: 2 / 10 | Reconst_loss: 272.427 | Kldiv loss: 74.771 | Classifcation loss: 1.874 | Constrast loss: 0.00 | Total loss: 6296.984 | Train acc: 71.712 % ||| Val Loss: 5764.793 | Val acc: 74.197 %\n",
            "-------------------------------------------------------------------------------------------------------------------------------------------------------------------------------------\n",
            "Epoch: 3 / 10 | Reconst_loss: 211.949 | Kldiv loss: 65.154 | Classifcation loss: 2.014 | Constrast loss: 2.62 | Total loss: 5918.095 | Train acc: 70.623 % ||| Val Loss: 6061.043 | Val acc: 70.092 %\n",
            "-------------------------------------------------------------------------------------------------------------------------------------------------------------------------------------\n",
            "Epoch: 4 / 10 | Reconst_loss: 265.638 | Kldiv loss: 76.589 | Classifcation loss: 2.039 | Constrast loss: 0.00 | Total loss: 5727.990 | Train acc: 71.334 % ||| Val Loss: 5891.520 | Val acc: 69.699 %\n",
            "-------------------------------------------------------------------------------------------------------------------------------------------------------------------------------------\n",
            "Epoch: 5 / 10 | Reconst_loss: 121.818 | Kldiv loss: 63.374 | Classifcation loss: 2.149 | Constrast loss: 1.95 | Total loss: 5598.204 | Train acc: 71.664 % ||| Val Loss: 5447.234 | Val acc: 71.714 %\n",
            "-------------------------------------------------------------------------------------------------------------------------------------------------------------------------------------\n",
            "Epoch: 6 / 10 | Reconst_loss: 347.528 | Kldiv loss: 87.825 | Classifcation loss: 2.071 | Constrast loss: 0.00 | Total loss: 5561.174 | Train acc: 72.064 % ||| Val Loss: 5520.532 | Val acc: 72.575 %\n",
            "-------------------------------------------------------------------------------------------------------------------------------------------------------------------------------------\n",
            "Epoch: 7 / 10 | Reconst_loss: 314.900 | Kldiv loss: 62.466 | Classifcation loss: 1.920 | Constrast loss: 0.00 | Total loss: 5695.662 | Train acc: 71.557 % ||| Val Loss: 5458.761 | Val acc: 71.270 %\n",
            "-------------------------------------------------------------------------------------------------------------------------------------------------------------------------------------\n",
            "Epoch: 8 / 10 | Reconst_loss: 265.387 | Kldiv loss: 67.543 | Classifcation loss: 1.919 | Constrast loss: 0.00 | Total loss: 5584.700 | Train acc: 72.086 % ||| Val Loss: 5624.848 | Val acc: 71.625 %\n",
            "-------------------------------------------------------------------------------------------------------------------------------------------------------------------------------------\n",
            "Epoch: 9 / 10 | Reconst_loss: 357.536 | Kldiv loss: 75.723 | Classifcation loss: 1.994 | Constrast loss: 0.79 | Total loss: 5476.673 | Train acc: 72.302 % ||| Val Loss: 5332.044 | Val acc: 72.801 %\n",
            "-------------------------------------------------------------------------------------------------------------------------------------------------------------------------------------\n"
          ]
        },
        {
          "output_type": "stream",
          "name": "stderr",
          "text": [
            "\u001b[32m[I 2023-03-18 01:09:35,207]\u001b[0m Trial 98 finished with value: 0.723939687147234 and parameters: {'optuna_batch_size': 100, 'optimizer': 'Adam', 'lr': 0.009074099754904764, 'hidden_dim': 514, 'alpha': 1, 'beta': 7, 'gamma': 3, 'delta': 9}. Best is trial 13 with value: 0.9585126527801691.\u001b[0m\n"
          ]
        },
        {
          "output_type": "stream",
          "name": "stdout",
          "text": [
            "Epoch: 10 / 10 | Reconst_loss: 231.981 | Kldiv loss: 52.483 | Classifcation loss: 1.897 | Constrast loss: 2.54 | Total loss: 5531.972 | Train acc: 72.394 % ||| Val Loss: 5492.720 | Val acc: 71.531 %\n",
            "-------------------------------------------------------------------------------------------------------------------------------------------------------------------------------------\n",
            "Epoch: 1 / 10 | Reconst_loss: 1778.493 | Kldiv loss: 438.146 | Classifcation loss: 2.096 | Constrast loss: 46.92 | Total loss: 15297.915 | Train acc: 44.446 % ||| Val Loss: 11090.368 | Val acc: 70.731 %\n",
            "-------------------------------------------------------------------------------------------------------------------------------------------------------------------------------------\n",
            "Epoch: 2 / 10 | Reconst_loss: 1819.462 | Kldiv loss: 546.146 | Classifcation loss: 1.873 | Constrast loss: 29.71 | Total loss: 10658.671 | Train acc: 80.995 % ||| Val Loss: 10197.985 | Val acc: 85.579 %\n",
            "-------------------------------------------------------------------------------------------------------------------------------------------------------------------------------------\n",
            "Epoch: 3 / 10 | Reconst_loss: 1875.034 | Kldiv loss: 471.113 | Classifcation loss: 1.804 | Constrast loss: 25.56 | Total loss: 10504.109 | Train acc: 85.653 % ||| Val Loss: 10012.661 | Val acc: 91.833 %\n",
            "-------------------------------------------------------------------------------------------------------------------------------------------------------------------------------------\n",
            "Epoch: 4 / 10 | Reconst_loss: 1821.419 | Kldiv loss: 444.474 | Classifcation loss: 1.747 | Constrast loss: 14.38 | Total loss: 10018.593 | Train acc: 92.841 % ||| Val Loss: 9643.378 | Val acc: 94.801 %\n",
            "-------------------------------------------------------------------------------------------------------------------------------------------------------------------------------------\n",
            "Epoch: 5 / 10 | Reconst_loss: 2083.902 | Kldiv loss: 569.766 | Classifcation loss: 1.768 | Constrast loss: 17.98 | Total loss: 9683.164 | Train acc: 95.003 % ||| Val Loss: 10138.378 | Val acc: 93.713 %\n",
            "-------------------------------------------------------------------------------------------------------------------------------------------------------------------------------------\n",
            "Epoch: 6 / 10 | Reconst_loss: 1760.839 | Kldiv loss: 491.359 | Classifcation loss: 1.722 | Constrast loss: 2.54 | Total loss: 9580.137 | Train acc: 95.291 % ||| Val Loss: 9533.830 | Val acc: 95.802 %\n",
            "-------------------------------------------------------------------------------------------------------------------------------------------------------------------------------------\n",
            "Epoch: 7 / 10 | Reconst_loss: 1940.777 | Kldiv loss: 473.358 | Classifcation loss: 1.754 | Constrast loss: 6.07 | Total loss: 9348.946 | Train acc: 96.181 % ||| Val Loss: 9398.180 | Val acc: 95.962 %\n",
            "-------------------------------------------------------------------------------------------------------------------------------------------------------------------------------------\n",
            "Epoch: 8 / 10 | Reconst_loss: 1756.604 | Kldiv loss: 557.423 | Classifcation loss: 1.787 | Constrast loss: 11.15 | Total loss: 9429.390 | Train acc: 96.045 % ||| Val Loss: 10333.189 | Val acc: 93.363 %\n",
            "-------------------------------------------------------------------------------------------------------------------------------------------------------------------------------------\n",
            "Epoch: 9 / 10 | Reconst_loss: 1992.575 | Kldiv loss: 509.895 | Classifcation loss: 1.700 | Constrast loss: 13.83 | Total loss: 9223.021 | Train acc: 96.805 % ||| Val Loss: 9301.088 | Val acc: 96.662 %\n",
            "-------------------------------------------------------------------------------------------------------------------------------------------------------------------------------------\n"
          ]
        },
        {
          "output_type": "stream",
          "name": "stderr",
          "text": [
            "\u001b[32m[I 2023-03-18 01:14:13,112]\u001b[0m Trial 99 finished with value: 0.9633579876854479 and parameters: {'optuna_batch_size': 176, 'optimizer': 'Adam', 'lr': 0.00934514910614952, 'hidden_dim': 801, 'alpha': 0, 'beta': 7, 'gamma': 6, 'delta': 9}. Best is trial 99 with value: 0.9633579876854479.\u001b[0m\n"
          ]
        },
        {
          "output_type": "stream",
          "name": "stdout",
          "text": [
            "Epoch: 10 / 10 | Reconst_loss: 1820.489 | Kldiv loss: 485.740 | Classifcation loss: 1.724 | Constrast loss: 23.41 | Total loss: 9253.004 | Train acc: 96.336 % ||| Val Loss: 8835.983 | Val acc: 95.563 %\n",
            "-------------------------------------------------------------------------------------------------------------------------------------------------------------------------------------\n",
            "Epoch: 1 / 10 | Reconst_loss: 1022.638 | Kldiv loss: 239.536 | Classifcation loss: 2.253 | Constrast loss: 14.82 | Total loss: 25020.166 | Train acc: 28.714 % ||| Val Loss: 12492.218 | Val acc: 52.028 %\n",
            "-------------------------------------------------------------------------------------------------------------------------------------------------------------------------------------\n",
            "Epoch: 2 / 10 | Reconst_loss: 771.355 | Kldiv loss: 200.536 | Classifcation loss: 2.111 | Constrast loss: 3.83 | Total loss: 11492.522 | Train acc: 58.433 % ||| Val Loss: 11037.355 | Val acc: 65.063 %\n",
            "-------------------------------------------------------------------------------------------------------------------------------------------------------------------------------------\n",
            "Epoch: 3 / 10 | Reconst_loss: 869.996 | Kldiv loss: 168.466 | Classifcation loss: 1.891 | Constrast loss: 9.44 | Total loss: 11182.125 | Train acc: 65.594 % ||| Val Loss: 10393.433 | Val acc: 68.145 %\n",
            "-------------------------------------------------------------------------------------------------------------------------------------------------------------------------------------\n",
            "Epoch: 4 / 10 | Reconst_loss: 606.354 | Kldiv loss: 196.425 | Classifcation loss: 1.995 | Constrast loss: 4.49 | Total loss: 10572.296 | Train acc: 69.580 % ||| Val Loss: 10544.040 | Val acc: 71.996 %\n",
            "-------------------------------------------------------------------------------------------------------------------------------------------------------------------------------------\n",
            "Epoch: 5 / 10 | Reconst_loss: 714.543 | Kldiv loss: 215.826 | Classifcation loss: 1.904 | Constrast loss: 0.62 | Total loss: 10413.290 | Train acc: 71.472 % ||| Val Loss: 10387.225 | Val acc: 74.617 %\n",
            "-------------------------------------------------------------------------------------------------------------------------------------------------------------------------------------\n",
            "Epoch: 6 / 10 | Reconst_loss: 944.573 | Kldiv loss: 183.325 | Classifcation loss: 1.948 | Constrast loss: 2.75 | Total loss: 10113.662 | Train acc: 73.647 % ||| Val Loss: 11724.367 | Val acc: 68.098 %\n",
            "-------------------------------------------------------------------------------------------------------------------------------------------------------------------------------------\n",
            "Epoch: 7 / 10 | Reconst_loss: 959.057 | Kldiv loss: 212.524 | Classifcation loss: 1.845 | Constrast loss: 1.95 | Total loss: 10048.053 | Train acc: 74.396 % ||| Val Loss: 10306.352 | Val acc: 75.958 %\n",
            "-------------------------------------------------------------------------------------------------------------------------------------------------------------------------------------\n",
            "Epoch: 8 / 10 | Reconst_loss: 619.046 | Kldiv loss: 227.261 | Classifcation loss: 1.977 | Constrast loss: 0.76 | Total loss: 9765.250 | Train acc: 75.408 % ||| Val Loss: 9640.110 | Val acc: 75.406 %\n",
            "-------------------------------------------------------------------------------------------------------------------------------------------------------------------------------------\n",
            "Epoch: 9 / 10 | Reconst_loss: 799.497 | Kldiv loss: 205.201 | Classifcation loss: 1.973 | Constrast loss: 1.86 | Total loss: 9618.289 | Train acc: 75.647 % ||| Val Loss: 9830.746 | Val acc: 73.850 %\n",
            "-------------------------------------------------------------------------------------------------------------------------------------------------------------------------------------\n"
          ]
        },
        {
          "output_type": "stream",
          "name": "stderr",
          "text": [
            "\u001b[32m[I 2023-03-18 01:19:34,951]\u001b[0m Trial 100 finished with value: 0.7503169049792107 and parameters: {'optuna_batch_size': 173, 'optimizer': 'Adam', 'lr': 0.009444217234816808, 'hidden_dim': 861, 'alpha': 0, 'beta': 8, 'gamma': 6, 'delta': 9}. Best is trial 99 with value: 0.9633579876854479.\u001b[0m\n"
          ]
        },
        {
          "output_type": "stream",
          "name": "stdout",
          "text": [
            "Epoch: 10 / 10 | Reconst_loss: 950.073 | Kldiv loss: 233.078 | Classifcation loss: 1.871 | Constrast loss: 0.04 | Total loss: 9724.642 | Train acc: 75.032 % ||| Val Loss: 10374.278 | Val acc: 70.792 %\n",
            "-------------------------------------------------------------------------------------------------------------------------------------------------------------------------------------\n",
            "Epoch: 1 / 10 | Reconst_loss: 6419.531 | Kldiv loss: 2999.699 | Classifcation loss: 2.453 | Constrast loss: 534.18 | Total loss: 697358767578955264.000 | Train acc: 13.997 % ||| Val Loss: 54494.692 | Val acc: 22.943 %\n",
            "-------------------------------------------------------------------------------------------------------------------------------------------------------------------------------------\n",
            "Epoch: 2 / 10 | Reconst_loss: 6377.950 | Kldiv loss: 2203.698 | Classifcation loss: 2.349 | Constrast loss: 397.25 | Total loss: 49791.442 | Train acc: 32.743 % ||| Val Loss: 45068.210 | Val acc: 39.769 %\n",
            "-------------------------------------------------------------------------------------------------------------------------------------------------------------------------------------\n",
            "Epoch: 3 / 10 | Reconst_loss: 4531.005 | Kldiv loss: 2086.479 | Classifcation loss: 2.148 | Constrast loss: 248.86 | Total loss: 43390.359 | Train acc: 47.906 % ||| Val Loss: 39541.299 | Val acc: 52.919 %\n",
            "-------------------------------------------------------------------------------------------------------------------------------------------------------------------------------------\n",
            "Epoch: 4 / 10 | Reconst_loss: 5389.204 | Kldiv loss: 2189.147 | Classifcation loss: 2.027 | Constrast loss: 193.98 | Total loss: 38630.890 | Train acc: 56.898 % ||| Val Loss: 36100.077 | Val acc: 57.698 %\n",
            "-------------------------------------------------------------------------------------------------------------------------------------------------------------------------------------\n",
            "Epoch: 5 / 10 | Reconst_loss: 4363.929 | Kldiv loss: 1908.452 | Classifcation loss: 2.103 | Constrast loss: 234.04 | Total loss: 35988.269 | Train acc: 59.785 % ||| Val Loss: 33899.115 | Val acc: 60.543 %\n",
            "-------------------------------------------------------------------------------------------------------------------------------------------------------------------------------------\n",
            "Epoch: 6 / 10 | Reconst_loss: 5168.035 | Kldiv loss: 1782.059 | Classifcation loss: 2.037 | Constrast loss: 134.50 | Total loss: 33884.765 | Train acc: 61.652 % ||| Val Loss: 31638.275 | Val acc: 62.954 %\n",
            "-------------------------------------------------------------------------------------------------------------------------------------------------------------------------------------\n",
            "Epoch: 7 / 10 | Reconst_loss: 5079.192 | Kldiv loss: 1566.605 | Classifcation loss: 2.065 | Constrast loss: 144.03 | Total loss: 32973.594 | Train acc: 62.578 % ||| Val Loss: 30582.211 | Val acc: 62.013 %\n",
            "-------------------------------------------------------------------------------------------------------------------------------------------------------------------------------------\n",
            "Epoch: 8 / 10 | Reconst_loss: 5496.323 | Kldiv loss: 1539.541 | Classifcation loss: 2.062 | Constrast loss: 109.54 | Total loss: 30944.893 | Train acc: 64.425 % ||| Val Loss: 32954.446 | Val acc: 64.356 %\n",
            "-------------------------------------------------------------------------------------------------------------------------------------------------------------------------------------\n",
            "Epoch: 9 / 10 | Reconst_loss: 4262.255 | Kldiv loss: 1289.691 | Classifcation loss: 2.055 | Constrast loss: 147.80 | Total loss: 30185.854 | Train acc: 65.233 % ||| Val Loss: 28945.020 | Val acc: 63.354 %\n",
            "-------------------------------------------------------------------------------------------------------------------------------------------------------------------------------------\n"
          ]
        },
        {
          "output_type": "stream",
          "name": "stderr",
          "text": [
            "\u001b[32m[I 2023-03-18 01:23:10,797]\u001b[0m Trial 101 finished with value: 0.6742545699067439 and parameters: {'optuna_batch_size': 416, 'optimizer': 'Adam', 'lr': 0.008504996199423546, 'hidden_dim': 743, 'alpha': 0, 'beta': 7, 'gamma': 7, 'delta': 10}. Best is trial 99 with value: 0.9633579876854479.\u001b[0m\n"
          ]
        },
        {
          "output_type": "stream",
          "name": "stdout",
          "text": [
            "Epoch: 10 / 10 | Reconst_loss: 4569.506 | Kldiv loss: 1417.804 | Classifcation loss: 2.004 | Constrast loss: 105.59 | Total loss: 29108.295 | Train acc: 67.425 % ||| Val Loss: 28351.896 | Val acc: 68.774 %\n",
            "-------------------------------------------------------------------------------------------------------------------------------------------------------------------------------------\n",
            "Epoch: 1 / 10 | Reconst_loss: 2102.019 | Kldiv loss: 446.077 | Classifcation loss: 2.043 | Constrast loss: 39.99 | Total loss: 11531.348 | Train acc: 48.901 % ||| Val Loss: 7948.746 | Val acc: 70.503 %\n",
            "-------------------------------------------------------------------------------------------------------------------------------------------------------------------------------------\n",
            "Epoch: 2 / 10 | Reconst_loss: 2202.942 | Kldiv loss: 454.699 | Classifcation loss: 1.959 | Constrast loss: 59.26 | Total loss: 8266.950 | Train acc: 70.431 % ||| Val Loss: 8257.352 | Val acc: 66.871 %\n",
            "-------------------------------------------------------------------------------------------------------------------------------------------------------------------------------------\n",
            "Epoch: 3 / 10 | Reconst_loss: 2120.911 | Kldiv loss: 506.312 | Classifcation loss: 1.933 | Constrast loss: 18.43 | Total loss: 7796.210 | Train acc: 74.053 % ||| Val Loss: 7251.513 | Val acc: 74.466 %\n",
            "-------------------------------------------------------------------------------------------------------------------------------------------------------------------------------------\n",
            "Epoch: 4 / 10 | Reconst_loss: 1756.165 | Kldiv loss: 491.462 | Classifcation loss: 1.954 | Constrast loss: 8.63 | Total loss: 7521.976 | Train acc: 74.584 % ||| Val Loss: 7426.794 | Val acc: 74.452 %\n",
            "-------------------------------------------------------------------------------------------------------------------------------------------------------------------------------------\n",
            "Epoch: 5 / 10 | Reconst_loss: 1944.053 | Kldiv loss: 517.378 | Classifcation loss: 1.978 | Constrast loss: 27.39 | Total loss: 7419.422 | Train acc: 73.854 % ||| Val Loss: 7583.594 | Val acc: 73.057 %\n",
            "-------------------------------------------------------------------------------------------------------------------------------------------------------------------------------------\n",
            "Epoch: 6 / 10 | Reconst_loss: 1973.382 | Kldiv loss: 483.465 | Classifcation loss: 1.955 | Constrast loss: 5.93 | Total loss: 7482.006 | Train acc: 73.068 % ||| Val Loss: 6972.894 | Val acc: 74.253 %\n",
            "-------------------------------------------------------------------------------------------------------------------------------------------------------------------------------------\n",
            "Epoch: 7 / 10 | Reconst_loss: 2435.347 | Kldiv loss: 449.541 | Classifcation loss: 1.958 | Constrast loss: 48.25 | Total loss: 7187.091 | Train acc: 74.056 % ||| Val Loss: 7349.380 | Val acc: 72.093 %\n",
            "-------------------------------------------------------------------------------------------------------------------------------------------------------------------------------------\n",
            "Epoch: 8 / 10 | Reconst_loss: 1868.497 | Kldiv loss: 545.954 | Classifcation loss: 1.993 | Constrast loss: 22.49 | Total loss: 7218.260 | Train acc: 73.417 % ||| Val Loss: 7288.782 | Val acc: 73.005 %\n",
            "-------------------------------------------------------------------------------------------------------------------------------------------------------------------------------------\n",
            "Epoch: 9 / 10 | Reconst_loss: 1856.167 | Kldiv loss: 491.819 | Classifcation loss: 1.967 | Constrast loss: 9.38 | Total loss: 7104.375 | Train acc: 74.272 % ||| Val Loss: 6806.748 | Val acc: 75.444 %\n",
            "-------------------------------------------------------------------------------------------------------------------------------------------------------------------------------------\n"
          ]
        },
        {
          "output_type": "stream",
          "name": "stderr",
          "text": [
            "\u001b[32m[I 2023-03-18 01:28:07,962]\u001b[0m Trial 102 finished with value: 0.7481519240298621 and parameters: {'optuna_batch_size': 132, 'optimizer': 'Adam', 'lr': 0.009303509958560366, 'hidden_dim': 799, 'alpha': 0, 'beta': 6, 'gamma': 5, 'delta': 9}. Best is trial 99 with value: 0.9633579876854479.\u001b[0m\n"
          ]
        },
        {
          "output_type": "stream",
          "name": "stdout",
          "text": [
            "Epoch: 10 / 10 | Reconst_loss: 1723.922 | Kldiv loss: 514.736 | Classifcation loss: 1.950 | Constrast loss: 15.15 | Total loss: 7007.057 | Train acc: 74.815 % ||| Val Loss: 6940.264 | Val acc: 75.225 %\n",
            "-------------------------------------------------------------------------------------------------------------------------------------------------------------------------------------\n",
            "Epoch: 1 / 10 | Reconst_loss: 2483.867 | Kldiv loss: 564.401 | Classifcation loss: 2.225 | Constrast loss: 18.48 | Total loss: 20022.783 | Train acc: 34.329 % ||| Val Loss: 13820.898 | Val acc: 58.658 %\n",
            "-------------------------------------------------------------------------------------------------------------------------------------------------------------------------------------\n",
            "Epoch: 2 / 10 | Reconst_loss: 1801.040 | Kldiv loss: 504.760 | Classifcation loss: 1.974 | Constrast loss: 4.58 | Total loss: 12966.295 | Train acc: 66.123 % ||| Val Loss: 12566.038 | Val acc: 70.576 %\n",
            "-------------------------------------------------------------------------------------------------------------------------------------------------------------------------------------\n",
            "Epoch: 3 / 10 | Reconst_loss: 1756.383 | Kldiv loss: 582.730 | Classifcation loss: 1.962 | Constrast loss: 11.53 | Total loss: 12638.314 | Train acc: 70.183 % ||| Val Loss: 12832.362 | Val acc: 72.120 %\n",
            "-------------------------------------------------------------------------------------------------------------------------------------------------------------------------------------\n",
            "Epoch: 4 / 10 | Reconst_loss: 2320.390 | Kldiv loss: 533.264 | Classifcation loss: 1.978 | Constrast loss: 10.81 | Total loss: 12012.296 | Train acc: 72.265 % ||| Val Loss: 11793.828 | Val acc: 72.313 %\n",
            "-------------------------------------------------------------------------------------------------------------------------------------------------------------------------------------\n",
            "Epoch: 5 / 10 | Reconst_loss: 1798.259 | Kldiv loss: 515.087 | Classifcation loss: 1.982 | Constrast loss: 11.18 | Total loss: 11829.995 | Train acc: 72.648 % ||| Val Loss: 11852.134 | Val acc: 68.551 %\n",
            "-------------------------------------------------------------------------------------------------------------------------------------------------------------------------------------\n",
            "Epoch: 6 / 10 | Reconst_loss: 2201.952 | Kldiv loss: 611.623 | Classifcation loss: 1.983 | Constrast loss: 0.96 | Total loss: 11631.738 | Train acc: 73.101 % ||| Val Loss: 14122.965 | Val acc: 71.380 %\n",
            "-------------------------------------------------------------------------------------------------------------------------------------------------------------------------------------\n",
            "Epoch: 7 / 10 | Reconst_loss: 1692.049 | Kldiv loss: 490.804 | Classifcation loss: 1.892 | Constrast loss: 1.97 | Total loss: 11457.300 | Train acc: 73.246 % ||| Val Loss: 11002.808 | Val acc: 73.254 %\n",
            "-------------------------------------------------------------------------------------------------------------------------------------------------------------------------------------\n",
            "Epoch: 8 / 10 | Reconst_loss: 1776.323 | Kldiv loss: 575.436 | Classifcation loss: 1.952 | Constrast loss: 7.57 | Total loss: 11257.773 | Train acc: 73.682 % ||| Val Loss: 10831.150 | Val acc: 73.939 %\n",
            "-------------------------------------------------------------------------------------------------------------------------------------------------------------------------------------\n",
            "Epoch: 9 / 10 | Reconst_loss: 2054.872 | Kldiv loss: 586.668 | Classifcation loss: 1.987 | Constrast loss: 11.82 | Total loss: 11105.141 | Train acc: 73.838 % ||| Val Loss: 11163.369 | Val acc: 73.976 %\n",
            "-------------------------------------------------------------------------------------------------------------------------------------------------------------------------------------\n"
          ]
        },
        {
          "output_type": "stream",
          "name": "stderr",
          "text": [
            "\u001b[32m[I 2023-03-18 01:31:34,361]\u001b[0m Trial 103 finished with value: 0.7367663553927866 and parameters: {'optuna_batch_size': 220, 'optimizer': 'Adam', 'lr': 0.008921633540516123, 'hidden_dim': 675, 'alpha': 1, 'beta': 5, 'gamma': 6, 'delta': 10}. Best is trial 99 with value: 0.9633579876854479.\u001b[0m\n"
          ]
        },
        {
          "output_type": "stream",
          "name": "stdout",
          "text": [
            "Epoch: 10 / 10 | Reconst_loss: 1508.454 | Kldiv loss: 459.031 | Classifcation loss: 1.948 | Constrast loss: 24.06 | Total loss: 11001.180 | Train acc: 73.677 % ||| Val Loss: 11308.420 | Val acc: 73.303 %\n",
            "-------------------------------------------------------------------------------------------------------------------------------------------------------------------------------------\n",
            "Epoch: 1 / 10 | Reconst_loss: 1939.997 | Kldiv loss: 481.778 | Classifcation loss: 2.103 | Constrast loss: 61.09 | Total loss: 13020.692 | Train acc: 43.556 % ||| Val Loss: 8566.379 | Val acc: 64.980 %\n",
            "-------------------------------------------------------------------------------------------------------------------------------------------------------------------------------------\n",
            "Epoch: 2 / 10 | Reconst_loss: 2274.282 | Kldiv loss: 502.956 | Classifcation loss: 1.962 | Constrast loss: 36.99 | Total loss: 8478.386 | Train acc: 69.991 % ||| Val Loss: 8016.566 | Val acc: 72.650 %\n",
            "-------------------------------------------------------------------------------------------------------------------------------------------------------------------------------------\n",
            "Epoch: 3 / 10 | Reconst_loss: 2160.999 | Kldiv loss: 520.832 | Classifcation loss: 1.973 | Constrast loss: 35.52 | Total loss: 8208.308 | Train acc: 74.212 % ||| Val Loss: 8093.883 | Val acc: 73.876 %\n",
            "-------------------------------------------------------------------------------------------------------------------------------------------------------------------------------------\n",
            "Epoch: 4 / 10 | Reconst_loss: 1703.451 | Kldiv loss: 547.102 | Classifcation loss: 1.932 | Constrast loss: 7.85 | Total loss: 8055.722 | Train acc: 75.120 % ||| Val Loss: 8121.432 | Val acc: 74.450 %\n",
            "-------------------------------------------------------------------------------------------------------------------------------------------------------------------------------------\n",
            "Epoch: 5 / 10 | Reconst_loss: 2543.848 | Kldiv loss: 568.472 | Classifcation loss: 1.922 | Constrast loss: 4.74 | Total loss: 7954.303 | Train acc: 76.019 % ||| Val Loss: 7711.834 | Val acc: 76.594 %\n",
            "-------------------------------------------------------------------------------------------------------------------------------------------------------------------------------------\n",
            "Epoch: 6 / 10 | Reconst_loss: 2706.587 | Kldiv loss: 510.618 | Classifcation loss: 1.923 | Constrast loss: 37.34 | Total loss: 7931.311 | Train acc: 76.341 % ||| Val Loss: 8438.421 | Val acc: 76.368 %\n",
            "-------------------------------------------------------------------------------------------------------------------------------------------------------------------------------------\n",
            "Epoch: 7 / 10 | Reconst_loss: 2090.346 | Kldiv loss: 495.649 | Classifcation loss: 1.933 | Constrast loss: 16.59 | Total loss: 7860.471 | Train acc: 78.895 % ||| Val Loss: 7561.953 | Val acc: 80.046 %\n",
            "-------------------------------------------------------------------------------------------------------------------------------------------------------------------------------------\n",
            "Epoch: 8 / 10 | Reconst_loss: 1868.531 | Kldiv loss: 566.888 | Classifcation loss: 1.846 | Constrast loss: 16.72 | Total loss: 7688.818 | Train acc: 82.632 % ||| Val Loss: 7638.131 | Val acc: 84.093 %\n",
            "-------------------------------------------------------------------------------------------------------------------------------------------------------------------------------------\n",
            "Epoch: 9 / 10 | Reconst_loss: 2188.637 | Kldiv loss: 509.342 | Classifcation loss: 1.865 | Constrast loss: 26.88 | Total loss: 7599.421 | Train acc: 81.700 % ||| Val Loss: 7322.337 | Val acc: 79.543 %\n",
            "-------------------------------------------------------------------------------------------------------------------------------------------------------------------------------------\n"
          ]
        },
        {
          "output_type": "stream",
          "name": "stderr",
          "text": [
            "\u001b[32m[I 2023-03-18 01:34:25,608]\u001b[0m Trial 104 finished with value: 0.7971858082588433 and parameters: {'optuna_batch_size': 141, 'optimizer': 'Adam', 'lr': 0.007210054930235237, 'hidden_dim': 563, 'alpha': 0, 'beta': 7, 'gamma': 7, 'delta': 9}. Best is trial 99 with value: 0.9633579876854479.\u001b[0m\n"
          ]
        },
        {
          "output_type": "stream",
          "name": "stdout",
          "text": [
            "Epoch: 10 / 10 | Reconst_loss: 1902.760 | Kldiv loss: 498.396 | Classifcation loss: 1.957 | Constrast loss: 20.09 | Total loss: 7495.030 | Train acc: 79.719 % ||| Val Loss: 7367.527 | Val acc: 79.569 %\n",
            "-------------------------------------------------------------------------------------------------------------------------------------------------------------------------------------\n",
            "Epoch: 1 / 10 | Reconst_loss: 3826.240 | Kldiv loss: 525.570 | Classifcation loss: 2.166 | Constrast loss: 131.15 | Total loss: 11873.530 | Train acc: 36.331 % ||| Val Loss: 8344.579 | Val acc: 54.221 %\n",
            "-------------------------------------------------------------------------------------------------------------------------------------------------------------------------------------\n",
            "Epoch: 2 / 10 | Reconst_loss: 2422.931 | Kldiv loss: 551.057 | Classifcation loss: 2.027 | Constrast loss: 28.07 | Total loss: 7702.245 | Train acc: 63.277 % ||| Val Loss: 7260.587 | Val acc: 65.478 %\n",
            "-------------------------------------------------------------------------------------------------------------------------------------------------------------------------------------\n",
            "Epoch: 3 / 10 | Reconst_loss: 2330.894 | Kldiv loss: 593.827 | Classifcation loss: 2.049 | Constrast loss: 64.78 | Total loss: 7184.996 | Train acc: 66.440 % ||| Val Loss: 6915.860 | Val acc: 68.213 %\n",
            "-------------------------------------------------------------------------------------------------------------------------------------------------------------------------------------\n",
            "Epoch: 4 / 10 | Reconst_loss: 2501.287 | Kldiv loss: 669.745 | Classifcation loss: 2.199 | Constrast loss: 74.87 | Total loss: 7573.463 | Train acc: 61.692 % ||| Val Loss: 7048.213 | Val acc: 53.362 %\n",
            "-------------------------------------------------------------------------------------------------------------------------------------------------------------------------------------\n",
            "Epoch: 5 / 10 | Reconst_loss: 2548.267 | Kldiv loss: 616.892 | Classifcation loss: 2.013 | Constrast loss: 32.84 | Total loss: 7007.751 | Train acc: 59.241 % ||| Val Loss: 6645.786 | Val acc: 63.245 %\n",
            "-------------------------------------------------------------------------------------------------------------------------------------------------------------------------------------\n",
            "Epoch: 6 / 10 | Reconst_loss: 3064.261 | Kldiv loss: 585.868 | Classifcation loss: 2.104 | Constrast loss: 28.37 | Total loss: 6654.898 | Train acc: 62.991 % ||| Val Loss: 6554.294 | Val acc: 61.926 %\n",
            "-------------------------------------------------------------------------------------------------------------------------------------------------------------------------------------\n",
            "Epoch: 7 / 10 | Reconst_loss: 2459.354 | Kldiv loss: 577.298 | Classifcation loss: 2.059 | Constrast loss: 52.46 | Total loss: 6576.735 | Train acc: 63.153 % ||| Val Loss: 6288.199 | Val acc: 63.456 %\n",
            "-------------------------------------------------------------------------------------------------------------------------------------------------------------------------------------\n",
            "Epoch: 8 / 10 | Reconst_loss: 2589.052 | Kldiv loss: 561.096 | Classifcation loss: 1.990 | Constrast loss: 31.95 | Total loss: 6412.172 | Train acc: 63.544 % ||| Val Loss: 6460.252 | Val acc: 63.283 %\n",
            "-------------------------------------------------------------------------------------------------------------------------------------------------------------------------------------\n",
            "Epoch: 9 / 10 | Reconst_loss: 2768.442 | Kldiv loss: 624.404 | Classifcation loss: 2.135 | Constrast loss: 54.14 | Total loss: 6683.752 | Train acc: 62.936 % ||| Val Loss: 6767.952 | Val acc: 57.951 %\n",
            "-------------------------------------------------------------------------------------------------------------------------------------------------------------------------------------\n"
          ]
        },
        {
          "output_type": "stream",
          "name": "stderr",
          "text": [
            "\u001b[32m[I 2023-03-18 01:38:30,826]\u001b[0m Trial 105 finished with value: 0.633004768139903 and parameters: {'optuna_batch_size': 117, 'optimizer': 'Adam', 'lr': 0.008255038551436904, 'hidden_dim': 696, 'alpha': 2, 'beta': 6, 'gamma': 6, 'delta': 10}. Best is trial 99 with value: 0.9633579876854479.\u001b[0m\n"
          ]
        },
        {
          "output_type": "stream",
          "name": "stdout",
          "text": [
            "Epoch: 10 / 10 | Reconst_loss: 1880.230 | Kldiv loss: 518.927 | Classifcation loss: 2.014 | Constrast loss: 51.68 | Total loss: 6526.333 | Train acc: 63.300 % ||| Val Loss: 6244.740 | Val acc: 63.430 %\n",
            "-------------------------------------------------------------------------------------------------------------------------------------------------------------------------------------\n",
            "Epoch: 1 / 10 | Reconst_loss: 11800.349 | Kldiv loss: 12428.447 | Classifcation loss: 2.536 | Constrast loss: 1514.85 | Total loss: 1848015238.744 | Train acc: 9.284 % ||| Val Loss: 189564.483 | Val acc: 16.121 %\n",
            "-------------------------------------------------------------------------------------------------------------------------------------------------------------------------------------\n",
            "Epoch: 2 / 10 | Reconst_loss: 11263.042 | Kldiv loss: 5960.786 | Classifcation loss: 2.427 | Constrast loss: 907.17 | Total loss: 148311.904 | Train acc: 21.144 % ||| Val Loss: 119870.172 | Val acc: 28.237 %\n",
            "-------------------------------------------------------------------------------------------------------------------------------------------------------------------------------------\n",
            "Epoch: 3 / 10 | Reconst_loss: 9275.918 | Kldiv loss: 3691.680 | Classifcation loss: 2.342 | Constrast loss: 599.12 | Total loss: 111723.528 | Train acc: 36.245 % ||| Val Loss: 93576.384 | Val acc: 43.149 %\n",
            "-------------------------------------------------------------------------------------------------------------------------------------------------------------------------------------\n",
            "Epoch: 4 / 10 | Reconst_loss: 8342.606 | Kldiv loss: 2990.931 | Classifcation loss: 2.260 | Constrast loss: 300.01 | Total loss: 88300.536 | Train acc: 46.678 % ||| Val Loss: 77405.033 | Val acc: 47.667 %\n",
            "-------------------------------------------------------------------------------------------------------------------------------------------------------------------------------------\n",
            "Epoch: 5 / 10 | Reconst_loss: 7612.631 | Kldiv loss: 3051.441 | Classifcation loss: 2.261 | Constrast loss: 244.89 | Total loss: 74688.452 | Train acc: 46.591 % ||| Val Loss: 71023.729 | Val acc: 45.994 %\n",
            "-------------------------------------------------------------------------------------------------------------------------------------------------------------------------------------\n",
            "Epoch: 6 / 10 | Reconst_loss: 8076.228 | Kldiv loss: 2839.522 | Classifcation loss: 2.220 | Constrast loss: 278.85 | Total loss: 70138.282 | Train acc: 46.757 % ||| Val Loss: 71077.188 | Val acc: 46.685 %\n",
            "-------------------------------------------------------------------------------------------------------------------------------------------------------------------------------------\n",
            "Epoch: 7 / 10 | Reconst_loss: 7290.870 | Kldiv loss: 2722.214 | Classifcation loss: 2.133 | Constrast loss: 202.61 | Total loss: 67310.724 | Train acc: 53.409 % ||| Val Loss: 63474.491 | Val acc: 57.891 %\n",
            "-------------------------------------------------------------------------------------------------------------------------------------------------------------------------------------\n",
            "Epoch: 8 / 10 | Reconst_loss: 7905.996 | Kldiv loss: 2639.185 | Classifcation loss: 2.068 | Constrast loss: 211.72 | Total loss: 65361.191 | Train acc: 60.248 % ||| Val Loss: 61017.922 | Val acc: 61.805 %\n",
            "-------------------------------------------------------------------------------------------------------------------------------------------------------------------------------------\n",
            "Epoch: 9 / 10 | Reconst_loss: 5810.027 | Kldiv loss: 2416.316 | Classifcation loss: 2.104 | Constrast loss: 222.48 | Total loss: 62764.907 | Train acc: 62.303 % ||| Val Loss: 63255.416 | Val acc: 61.306 %\n",
            "-------------------------------------------------------------------------------------------------------------------------------------------------------------------------------------\n"
          ]
        },
        {
          "output_type": "stream",
          "name": "stderr",
          "text": [
            "\u001b[32m[I 2023-03-18 01:44:01,430]\u001b[0m Trial 106 finished with value: 0.6230311493710882 and parameters: {'optuna_batch_size': 876, 'optimizer': 'Adam', 'lr': 0.006635307973024777, 'hidden_dim': 951, 'alpha': 6, 'beta': 8, 'gamma': 7, 'delta': 8}. Best is trial 99 with value: 0.9633579876854479.\u001b[0m\n"
          ]
        },
        {
          "output_type": "stream",
          "name": "stdout",
          "text": [
            "Epoch: 10 / 10 | Reconst_loss: 6805.130 | Kldiv loss: 2753.135 | Classifcation loss: 2.088 | Constrast loss: 110.88 | Total loss: 64102.155 | Train acc: 62.303 % ||| Val Loss: 58928.269 | Val acc: 63.265 %\n",
            "-------------------------------------------------------------------------------------------------------------------------------------------------------------------------------------\n",
            "Epoch: 1 / 10 | Reconst_loss: 3753.741 | Kldiv loss: 843.046 | Classifcation loss: 2.097 | Constrast loss: 68.15 | Total loss: 31454.283 | Train acc: 37.773 % ||| Val Loss: 17635.929 | Val acc: 63.653 %\n",
            "-------------------------------------------------------------------------------------------------------------------------------------------------------------------------------------\n",
            "Epoch: 2 / 10 | Reconst_loss: 3081.373 | Kldiv loss: 834.427 | Classifcation loss: 1.975 | Constrast loss: 45.37 | Total loss: 17124.303 | Train acc: 71.216 % ||| Val Loss: 16296.690 | Val acc: 77.976 %\n",
            "-------------------------------------------------------------------------------------------------------------------------------------------------------------------------------------\n",
            "Epoch: 3 / 10 | Reconst_loss: 3052.164 | Kldiv loss: 786.841 | Classifcation loss: 1.870 | Constrast loss: 72.80 | Total loss: 16417.321 | Train acc: 80.219 % ||| Val Loss: 16217.829 | Val acc: 79.288 %\n",
            "-------------------------------------------------------------------------------------------------------------------------------------------------------------------------------------\n",
            "Epoch: 4 / 10 | Reconst_loss: 2939.228 | Kldiv loss: 835.918 | Classifcation loss: 1.955 | Constrast loss: 53.49 | Total loss: 16222.189 | Train acc: 82.178 % ||| Val Loss: 15957.080 | Val acc: 82.929 %\n",
            "-------------------------------------------------------------------------------------------------------------------------------------------------------------------------------------\n",
            "Epoch: 5 / 10 | Reconst_loss: 2746.700 | Kldiv loss: 791.701 | Classifcation loss: 1.860 | Constrast loss: 31.69 | Total loss: 16821.978 | Train acc: 82.519 % ||| Val Loss: 16058.122 | Val acc: 85.421 %\n",
            "-------------------------------------------------------------------------------------------------------------------------------------------------------------------------------------\n",
            "Epoch: 6 / 10 | Reconst_loss: 3260.046 | Kldiv loss: 923.029 | Classifcation loss: 1.826 | Constrast loss: 42.22 | Total loss: 16066.363 | Train acc: 86.627 % ||| Val Loss: 15650.539 | Val acc: 87.470 %\n",
            "-------------------------------------------------------------------------------------------------------------------------------------------------------------------------------------\n",
            "Epoch: 7 / 10 | Reconst_loss: 2928.486 | Kldiv loss: 864.811 | Classifcation loss: 1.818 | Constrast loss: 41.75 | Total loss: 15593.807 | Train acc: 89.258 % ||| Val Loss: 16165.994 | Val acc: 84.722 %\n",
            "-------------------------------------------------------------------------------------------------------------------------------------------------------------------------------------\n",
            "Epoch: 8 / 10 | Reconst_loss: 2452.620 | Kldiv loss: 780.341 | Classifcation loss: 1.758 | Constrast loss: 23.65 | Total loss: 15589.093 | Train acc: 89.757 % ||| Val Loss: 14928.627 | Val acc: 91.118 %\n",
            "-------------------------------------------------------------------------------------------------------------------------------------------------------------------------------------\n",
            "Epoch: 9 / 10 | Reconst_loss: 2789.209 | Kldiv loss: 809.156 | Classifcation loss: 1.841 | Constrast loss: 31.23 | Total loss: 15442.944 | Train acc: 89.859 % ||| Val Loss: 14785.261 | Val acc: 87.826 %\n",
            "-------------------------------------------------------------------------------------------------------------------------------------------------------------------------------------\n"
          ]
        },
        {
          "output_type": "stream",
          "name": "stderr",
          "text": [
            "\u001b[32m[I 2023-03-18 01:47:06,286]\u001b[0m Trial 107 finished with value: 0.8741923466996054 and parameters: {'optuna_batch_size': 276, 'optimizer': 'Adam', 'lr': 0.009714174287939975, 'hidden_dim': 647, 'alpha': 3, 'beta': 7, 'gamma': 5, 'delta': 9}. Best is trial 99 with value: 0.9633579876854479.\u001b[0m\n"
          ]
        },
        {
          "output_type": "stream",
          "name": "stdout",
          "text": [
            "Epoch: 10 / 10 | Reconst_loss: 3375.700 | Kldiv loss: 816.229 | Classifcation loss: 1.860 | Constrast loss: 58.31 | Total loss: 15291.450 | Train acc: 87.419 % ||| Val Loss: 15924.719 | Val acc: 85.715 %\n",
            "-------------------------------------------------------------------------------------------------------------------------------------------------------------------------------------\n",
            "Epoch: 1 / 10 | Reconst_loss: 1371.132 | Kldiv loss: 267.416 | Classifcation loss: 2.112 | Constrast loss: 6.43 | Total loss: 21536.296 | Train acc: 31.212 % ||| Val Loss: 13526.169 | Val acc: 50.497 %\n",
            "-------------------------------------------------------------------------------------------------------------------------------------------------------------------------------------\n",
            "Epoch: 2 / 10 | Reconst_loss: 1457.844 | Kldiv loss: 365.195 | Classifcation loss: 2.069 | Constrast loss: 1.95 | Total loss: 13049.312 | Train acc: 58.784 % ||| Val Loss: 12205.905 | Val acc: 65.362 %\n",
            "-------------------------------------------------------------------------------------------------------------------------------------------------------------------------------------\n",
            "Epoch: 3 / 10 | Reconst_loss: 1513.564 | Kldiv loss: 309.802 | Classifcation loss: 2.097 | Constrast loss: 9.61 | Total loss: 12063.479 | Train acc: 66.107 % ||| Val Loss: 13186.597 | Val acc: 67.314 %\n",
            "-------------------------------------------------------------------------------------------------------------------------------------------------------------------------------------\n",
            "Epoch: 4 / 10 | Reconst_loss: 1081.496 | Kldiv loss: 343.313 | Classifcation loss: 1.971 | Constrast loss: 0.00 | Total loss: 11832.194 | Train acc: 69.262 % ||| Val Loss: 12125.199 | Val acc: 66.780 %\n",
            "-------------------------------------------------------------------------------------------------------------------------------------------------------------------------------------\n",
            "Epoch: 5 / 10 | Reconst_loss: 1544.794 | Kldiv loss: 275.987 | Classifcation loss: 1.925 | Constrast loss: 0.03 | Total loss: 11198.829 | Train acc: 71.064 % ||| Val Loss: 11100.880 | Val acc: 71.639 %\n",
            "-------------------------------------------------------------------------------------------------------------------------------------------------------------------------------------\n",
            "Epoch: 6 / 10 | Reconst_loss: 922.809 | Kldiv loss: 300.834 | Classifcation loss: 2.041 | Constrast loss: 0.89 | Total loss: 11046.136 | Train acc: 71.612 % ||| Val Loss: 11621.303 | Val acc: 70.358 %\n",
            "-------------------------------------------------------------------------------------------------------------------------------------------------------------------------------------\n",
            "Epoch: 7 / 10 | Reconst_loss: 824.656 | Kldiv loss: 264.418 | Classifcation loss: 1.944 | Constrast loss: 12.19 | Total loss: 11081.667 | Train acc: 71.318 % ||| Val Loss: 11610.087 | Val acc: 67.322 %\n",
            "-------------------------------------------------------------------------------------------------------------------------------------------------------------------------------------\n",
            "Epoch: 8 / 10 | Reconst_loss: 948.092 | Kldiv loss: 298.555 | Classifcation loss: 1.996 | Constrast loss: 0.14 | Total loss: 12056.794 | Train acc: 61.373 % ||| Val Loss: 11530.665 | Val acc: 60.055 %\n",
            "-------------------------------------------------------------------------------------------------------------------------------------------------------------------------------------\n",
            "Epoch: 9 / 10 | Reconst_loss: 1248.383 | Kldiv loss: 279.080 | Classifcation loss: 2.134 | Constrast loss: 0.62 | Total loss: 11470.650 | Train acc: 59.357 % ||| Val Loss: 12996.209 | Val acc: 54.180 %\n",
            "-------------------------------------------------------------------------------------------------------------------------------------------------------------------------------------\n"
          ]
        },
        {
          "output_type": "stream",
          "name": "stderr",
          "text": [
            "\u001b[32m[I 2023-03-18 01:52:06,545]\u001b[0m Trial 108 finished with value: 0.5716668277283851 and parameters: {'optuna_batch_size': 199, 'optimizer': 'Adam', 'lr': 0.00781369176609848, 'hidden_dim': 838, 'alpha': 7, 'beta': 6, 'gamma': 4, 'delta': 10}. Best is trial 99 with value: 0.9633579876854479.\u001b[0m\n"
          ]
        },
        {
          "output_type": "stream",
          "name": "stdout",
          "text": [
            "Epoch: 10 / 10 | Reconst_loss: 1076.072 | Kldiv loss: 262.904 | Classifcation loss: 2.114 | Constrast loss: 0.07 | Total loss: 11211.699 | Train acc: 57.167 % ||| Val Loss: 10891.548 | Val acc: 57.394 %\n",
            "-------------------------------------------------------------------------------------------------------------------------------------------------------------------------------------\n",
            "Epoch: 1 / 10 | Reconst_loss: 2187.166 | Kldiv loss: 652.405 | Classifcation loss: 2.029 | Constrast loss: 68.89 | Total loss: 13709.276 | Train acc: 45.690 % ||| Val Loss: 9964.406 | Val acc: 73.208 %\n",
            "-------------------------------------------------------------------------------------------------------------------------------------------------------------------------------------\n",
            "Epoch: 2 / 10 | Reconst_loss: 2830.186 | Kldiv loss: 698.897 | Classifcation loss: 1.949 | Constrast loss: 51.73 | Total loss: 9960.090 | Train acc: 78.805 % ||| Val Loss: 10411.264 | Val acc: 79.259 %\n",
            "-------------------------------------------------------------------------------------------------------------------------------------------------------------------------------------\n",
            "Epoch: 3 / 10 | Reconst_loss: 2702.573 | Kldiv loss: 602.370 | Classifcation loss: 1.920 | Constrast loss: 75.63 | Total loss: 9671.491 | Train acc: 81.741 % ||| Val Loss: 9267.245 | Val acc: 82.142 %\n",
            "-------------------------------------------------------------------------------------------------------------------------------------------------------------------------------------\n",
            "Epoch: 4 / 10 | Reconst_loss: 2734.650 | Kldiv loss: 692.422 | Classifcation loss: 1.905 | Constrast loss: 33.80 | Total loss: 9474.671 | Train acc: 82.987 % ||| Val Loss: 9185.450 | Val acc: 85.114 %\n",
            "-------------------------------------------------------------------------------------------------------------------------------------------------------------------------------------\n",
            "Epoch: 5 / 10 | Reconst_loss: 3054.764 | Kldiv loss: 655.294 | Classifcation loss: 1.808 | Constrast loss: 21.40 | Total loss: 9424.575 | Train acc: 85.589 % ||| Val Loss: 9076.434 | Val acc: 86.271 %\n",
            "-------------------------------------------------------------------------------------------------------------------------------------------------------------------------------------\n",
            "Epoch: 6 / 10 | Reconst_loss: 2434.446 | Kldiv loss: 623.188 | Classifcation loss: 1.810 | Constrast loss: 16.70 | Total loss: 9141.288 | Train acc: 87.511 % ||| Val Loss: 8732.850 | Val acc: 87.288 %\n",
            "-------------------------------------------------------------------------------------------------------------------------------------------------------------------------------------\n",
            "Epoch: 7 / 10 | Reconst_loss: 2740.816 | Kldiv loss: 611.134 | Classifcation loss: 1.804 | Constrast loss: 14.42 | Total loss: 9024.153 | Train acc: 88.365 % ||| Val Loss: 9096.963 | Val acc: 86.900 %\n",
            "-------------------------------------------------------------------------------------------------------------------------------------------------------------------------------------\n",
            "Epoch: 8 / 10 | Reconst_loss: 2220.943 | Kldiv loss: 604.649 | Classifcation loss: 1.846 | Constrast loss: 19.49 | Total loss: 8998.939 | Train acc: 88.698 % ||| Val Loss: 8742.195 | Val acc: 89.298 %\n",
            "-------------------------------------------------------------------------------------------------------------------------------------------------------------------------------------\n",
            "Epoch: 9 / 10 | Reconst_loss: 2447.315 | Kldiv loss: 600.012 | Classifcation loss: 1.831 | Constrast loss: 58.09 | Total loss: 8925.400 | Train acc: 88.884 % ||| Val Loss: 8702.687 | Val acc: 87.669 %\n",
            "-------------------------------------------------------------------------------------------------------------------------------------------------------------------------------------\n"
          ]
        },
        {
          "output_type": "stream",
          "name": "stderr",
          "text": [
            "\u001b[32m[I 2023-03-18 01:55:55,928]\u001b[0m Trial 109 finished with value: 0.8981009380788315 and parameters: {'optuna_batch_size': 161, 'optimizer': 'Adam', 'lr': 0.009917147896850085, 'hidden_dim': 720, 'alpha': 0, 'beta': 5, 'gamma': 10, 'delta': 9}. Best is trial 99 with value: 0.9633579876854479.\u001b[0m\n"
          ]
        },
        {
          "output_type": "stream",
          "name": "stdout",
          "text": [
            "Epoch: 10 / 10 | Reconst_loss: 2327.480 | Kldiv loss: 693.354 | Classifcation loss: 1.820 | Constrast loss: 58.07 | Total loss: 8949.479 | Train acc: 89.810 % ||| Val Loss: 9017.476 | Val acc: 90.378 %\n",
            "-------------------------------------------------------------------------------------------------------------------------------------------------------------------------------------\n",
            "Epoch: 1 / 10 | Reconst_loss: 382.835 | Kldiv loss: 69.876 | Classifcation loss: 2.050 | Constrast loss: 0.00 | Total loss: 15739.934 | Train acc: 40.262 % ||| Val Loss: 11831.924 | Val acc: 59.394 %\n",
            "-------------------------------------------------------------------------------------------------------------------------------------------------------------------------------------\n",
            "Epoch: 2 / 10 | Reconst_loss: 301.359 | Kldiv loss: 90.348 | Classifcation loss: 1.973 | Constrast loss: 1.15 | Total loss: 10198.830 | Train acc: 75.786 % ||| Val Loss: 10365.394 | Val acc: 70.816 %\n",
            "-------------------------------------------------------------------------------------------------------------------------------------------------------------------------------------\n",
            "Epoch: 3 / 10 | Reconst_loss: 356.868 | Kldiv loss: 74.830 | Classifcation loss: 1.938 | Constrast loss: 0.00 | Total loss: 9648.022 | Train acc: 79.209 % ||| Val Loss: 10644.075 | Val acc: 81.378 %\n",
            "-------------------------------------------------------------------------------------------------------------------------------------------------------------------------------------\n",
            "Epoch: 4 / 10 | Reconst_loss: 285.421 | Kldiv loss: 87.645 | Classifcation loss: 1.797 | Constrast loss: 0.40 | Total loss: 9448.457 | Train acc: 81.938 % ||| Val Loss: 8960.187 | Val acc: 83.941 %\n",
            "-------------------------------------------------------------------------------------------------------------------------------------------------------------------------------------\n",
            "Epoch: 5 / 10 | Reconst_loss: 296.804 | Kldiv loss: 120.613 | Classifcation loss: 1.813 | Constrast loss: 0.22 | Total loss: 9385.260 | Train acc: 83.716 % ||| Val Loss: 9847.861 | Val acc: 80.863 %\n",
            "-------------------------------------------------------------------------------------------------------------------------------------------------------------------------------------\n",
            "Epoch: 6 / 10 | Reconst_loss: 559.817 | Kldiv loss: 100.781 | Classifcation loss: 1.829 | Constrast loss: 0.00 | Total loss: 9479.601 | Train acc: 82.450 % ||| Val Loss: 9527.414 | Val acc: 82.622 %\n",
            "-------------------------------------------------------------------------------------------------------------------------------------------------------------------------------------\n",
            "Epoch: 7 / 10 | Reconst_loss: 241.772 | Kldiv loss: 73.647 | Classifcation loss: 1.930 | Constrast loss: 4.34 | Total loss: 9007.087 | Train acc: 86.599 % ||| Val Loss: 8365.344 | Val acc: 87.867 %\n",
            "-------------------------------------------------------------------------------------------------------------------------------------------------------------------------------------\n",
            "Epoch: 8 / 10 | Reconst_loss: 363.092 | Kldiv loss: 88.498 | Classifcation loss: 1.822 | Constrast loss: 0.00 | Total loss: 8752.613 | Train acc: 87.474 % ||| Val Loss: 8463.393 | Val acc: 85.746 %\n",
            "-------------------------------------------------------------------------------------------------------------------------------------------------------------------------------------\n",
            "Epoch: 9 / 10 | Reconst_loss: 400.309 | Kldiv loss: 96.239 | Classifcation loss: 1.884 | Constrast loss: 0.00 | Total loss: 8635.911 | Train acc: 88.038 % ||| Val Loss: 8935.617 | Val acc: 88.912 %\n",
            "-------------------------------------------------------------------------------------------------------------------------------------------------------------------------------------\n"
          ]
        },
        {
          "output_type": "stream",
          "name": "stderr",
          "text": [
            "\u001b[32m[I 2023-03-18 01:59:56,432]\u001b[0m Trial 110 finished with value: 0.8815893031556717 and parameters: {'optuna_batch_size': 163, 'optimizer': 'Adam', 'lr': 0.009837076814033502, 'hidden_dim': 723, 'alpha': 0, 'beta': 4, 'gamma': 10, 'delta': 8}. Best is trial 99 with value: 0.9633579876854479.\u001b[0m\n"
          ]
        },
        {
          "output_type": "stream",
          "name": "stdout",
          "text": [
            "Epoch: 10 / 10 | Reconst_loss: 211.841 | Kldiv loss: 88.525 | Classifcation loss: 1.811 | Constrast loss: 0.00 | Total loss: 8636.290 | Train acc: 88.159 % ||| Val Loss: 8422.125 | Val acc: 87.677 %\n",
            "-------------------------------------------------------------------------------------------------------------------------------------------------------------------------------------\n",
            "Epoch: 1 / 10 | Reconst_loss: 2838.719 | Kldiv loss: 562.785 | Classifcation loss: 2.323 | Constrast loss: 44.49 | Total loss: 88260.149 | Train acc: 20.148 % ||| Val Loss: 40714.278 | Val acc: 38.302 %\n",
            "-------------------------------------------------------------------------------------------------------------------------------------------------------------------------------------\n",
            "Epoch: 2 / 10 | Reconst_loss: 2515.244 | Kldiv loss: 586.123 | Classifcation loss: 2.154 | Constrast loss: 10.21 | Total loss: 38051.578 | Train acc: 47.844 % ||| Val Loss: 34588.470 | Val acc: 52.073 %\n",
            "-------------------------------------------------------------------------------------------------------------------------------------------------------------------------------------\n",
            "Epoch: 3 / 10 | Reconst_loss: 2463.007 | Kldiv loss: 597.407 | Classifcation loss: 2.095 | Constrast loss: 11.09 | Total loss: 33952.673 | Train acc: 59.227 % ||| Val Loss: 31423.964 | Val acc: 61.564 %\n",
            "-------------------------------------------------------------------------------------------------------------------------------------------------------------------------------------\n",
            "Epoch: 4 / 10 | Reconst_loss: 1692.275 | Kldiv loss: 533.924 | Classifcation loss: 2.062 | Constrast loss: 9.23 | Total loss: 30928.782 | Train acc: 62.884 % ||| Val Loss: 28661.387 | Val acc: 64.017 %\n",
            "-------------------------------------------------------------------------------------------------------------------------------------------------------------------------------------\n",
            "Epoch: 5 / 10 | Reconst_loss: 1786.600 | Kldiv loss: 539.990 | Classifcation loss: 2.097 | Constrast loss: 13.61 | Total loss: 29144.395 | Train acc: 65.886 % ||| Val Loss: 30173.064 | Val acc: 64.124 %\n",
            "-------------------------------------------------------------------------------------------------------------------------------------------------------------------------------------\n",
            "Epoch: 6 / 10 | Reconst_loss: 1996.323 | Kldiv loss: 480.999 | Classifcation loss: 2.110 | Constrast loss: 7.30 | Total loss: 29315.270 | Train acc: 66.332 % ||| Val Loss: 27430.476 | Val acc: 67.843 %\n",
            "-------------------------------------------------------------------------------------------------------------------------------------------------------------------------------------\n",
            "Epoch: 7 / 10 | Reconst_loss: 1759.590 | Kldiv loss: 575.734 | Classifcation loss: 2.003 | Constrast loss: 7.28 | Total loss: 28246.998 | Train acc: 66.851 % ||| Val Loss: 27965.162 | Val acc: 67.743 %\n",
            "-------------------------------------------------------------------------------------------------------------------------------------------------------------------------------------\n",
            "Epoch: 8 / 10 | Reconst_loss: 1880.004 | Kldiv loss: 524.170 | Classifcation loss: 2.064 | Constrast loss: 8.60 | Total loss: 28370.852 | Train acc: 67.034 % ||| Val Loss: 29058.975 | Val acc: 66.112 %\n",
            "-------------------------------------------------------------------------------------------------------------------------------------------------------------------------------------\n",
            "Epoch: 9 / 10 | Reconst_loss: 1614.958 | Kldiv loss: 533.745 | Classifcation loss: 1.981 | Constrast loss: 10.04 | Total loss: 28857.748 | Train acc: 65.752 % ||| Val Loss: 28281.225 | Val acc: 65.511 %\n",
            "-------------------------------------------------------------------------------------------------------------------------------------------------------------------------------------\n"
          ]
        },
        {
          "output_type": "stream",
          "name": "stderr",
          "text": [
            "\u001b[32m[I 2023-03-18 02:03:55,449]\u001b[0m Trial 111 finished with value: 0.6528121799313654 and parameters: {'optuna_batch_size': 466, 'optimizer': 'Adam', 'lr': 0.00999687023176906, 'hidden_dim': 792, 'alpha': 1, 'beta': 5, 'gamma': 10, 'delta': 9}. Best is trial 99 with value: 0.9633579876854479.\u001b[0m\n"
          ]
        },
        {
          "output_type": "stream",
          "name": "stdout",
          "text": [
            "Epoch: 10 / 10 | Reconst_loss: 1509.436 | Kldiv loss: 446.617 | Classifcation loss: 1.984 | Constrast loss: 5.75 | Total loss: 27933.827 | Train acc: 65.281 % ||| Val Loss: 27725.361 | Val acc: 69.185 %\n",
            "-------------------------------------------------------------------------------------------------------------------------------------------------------------------------------------\n",
            "Epoch: 1 / 10 | Reconst_loss: 4528.667 | Kldiv loss: 999.997 | Classifcation loss: 2.174 | Constrast loss: 128.96 | Total loss: 17758.015 | Train acc: 36.555 % ||| Val Loss: 12497.127 | Val acc: 57.891 %\n",
            "-------------------------------------------------------------------------------------------------------------------------------------------------------------------------------------\n",
            "Epoch: 2 / 10 | Reconst_loss: 3753.259 | Kldiv loss: 959.037 | Classifcation loss: 2.061 | Constrast loss: 115.29 | Total loss: 12152.393 | Train acc: 62.440 % ||| Val Loss: 11405.222 | Val acc: 64.363 %\n",
            "-------------------------------------------------------------------------------------------------------------------------------------------------------------------------------------\n",
            "Epoch: 3 / 10 | Reconst_loss: 3878.644 | Kldiv loss: 820.324 | Classifcation loss: 1.999 | Constrast loss: 118.82 | Total loss: 11843.829 | Train acc: 66.368 % ||| Val Loss: 10887.841 | Val acc: 68.912 %\n",
            "-------------------------------------------------------------------------------------------------------------------------------------------------------------------------------------\n",
            "Epoch: 4 / 10 | Reconst_loss: 4032.544 | Kldiv loss: 934.851 | Classifcation loss: 1.984 | Constrast loss: 71.41 | Total loss: 11169.997 | Train acc: 69.060 % ||| Val Loss: 10526.510 | Val acc: 70.727 %\n",
            "-------------------------------------------------------------------------------------------------------------------------------------------------------------------------------------\n",
            "Epoch: 5 / 10 | Reconst_loss: 3759.549 | Kldiv loss: 905.519 | Classifcation loss: 1.975 | Constrast loss: 57.35 | Total loss: 10912.805 | Train acc: 69.503 % ||| Val Loss: 10661.294 | Val acc: 71.237 %\n",
            "-------------------------------------------------------------------------------------------------------------------------------------------------------------------------------------\n",
            "Epoch: 6 / 10 | Reconst_loss: 3942.468 | Kldiv loss: 881.336 | Classifcation loss: 1.974 | Constrast loss: 133.44 | Total loss: 10998.832 | Train acc: 70.412 % ||| Val Loss: 10595.544 | Val acc: 71.086 %\n",
            "-------------------------------------------------------------------------------------------------------------------------------------------------------------------------------------\n",
            "Epoch: 7 / 10 | Reconst_loss: 3417.991 | Kldiv loss: 910.245 | Classifcation loss: 1.956 | Constrast loss: 108.41 | Total loss: 10844.089 | Train acc: 68.556 % ||| Val Loss: 11563.475 | Val acc: 67.028 %\n",
            "-------------------------------------------------------------------------------------------------------------------------------------------------------------------------------------\n",
            "Epoch: 8 / 10 | Reconst_loss: 3734.052 | Kldiv loss: 828.981 | Classifcation loss: 1.959 | Constrast loss: 63.28 | Total loss: 11085.786 | Train acc: 70.182 % ||| Val Loss: 10829.248 | Val acc: 69.775 %\n",
            "-------------------------------------------------------------------------------------------------------------------------------------------------------------------------------------\n",
            "Epoch: 9 / 10 | Reconst_loss: 3910.209 | Kldiv loss: 927.093 | Classifcation loss: 2.019 | Constrast loss: 35.28 | Total loss: 10645.466 | Train acc: 70.389 % ||| Val Loss: 10339.144 | Val acc: 68.722 %\n",
            "-------------------------------------------------------------------------------------------------------------------------------------------------------------------------------------\n"
          ]
        },
        {
          "output_type": "stream",
          "name": "stderr",
          "text": [
            "\u001b[32m[I 2023-03-18 02:06:59,125]\u001b[0m Trial 112 finished with value: 0.6946232728936609 and parameters: {'optuna_batch_size': 189, 'optimizer': 'Adam', 'lr': 0.009466221527111105, 'hidden_dim': 627, 'alpha': 0, 'beta': 5, 'gamma': 9, 'delta': 9}. Best is trial 99 with value: 0.9633579876854479.\u001b[0m\n"
          ]
        },
        {
          "output_type": "stream",
          "name": "stdout",
          "text": [
            "Epoch: 10 / 10 | Reconst_loss: 3441.786 | Kldiv loss: 876.677 | Classifcation loss: 1.990 | Constrast loss: 44.59 | Total loss: 10558.048 | Train acc: 69.462 % ||| Val Loss: 10436.892 | Val acc: 67.633 %\n",
            "-------------------------------------------------------------------------------------------------------------------------------------------------------------------------------------\n",
            "Epoch: 1 / 10 | Reconst_loss: 53.668 | Kldiv loss: 17.807 | Classifcation loss: 2.339 | Constrast loss: 0.00 | Total loss: 11256.166 | Train acc: 48.972 % ||| Val Loss: 8081.344 | Val acc: 72.507 %\n",
            "-------------------------------------------------------------------------------------------------------------------------------------------------------------------------------------\n",
            "Epoch: 2 / 10 | Reconst_loss: 29.033 | Kldiv loss: 12.670 | Classifcation loss: 2.021 | Constrast loss: 0.00 | Total loss: 8296.079 | Train acc: 73.203 % ||| Val Loss: 8070.445 | Val acc: 74.556 %\n",
            "-------------------------------------------------------------------------------------------------------------------------------------------------------------------------------------\n",
            "Epoch: 3 / 10 | Reconst_loss: 44.086 | Kldiv loss: 11.013 | Classifcation loss: 2.020 | Constrast loss: 0.00 | Total loss: 7964.292 | Train acc: 75.687 % ||| Val Loss: 7528.113 | Val acc: 76.593 %\n",
            "-------------------------------------------------------------------------------------------------------------------------------------------------------------------------------------\n",
            "Epoch: 4 / 10 | Reconst_loss: 40.744 | Kldiv loss: 11.557 | Classifcation loss: 1.758 | Constrast loss: 0.00 | Total loss: 7853.184 | Train acc: 77.289 % ||| Val Loss: 7723.064 | Val acc: 75.850 %\n",
            "-------------------------------------------------------------------------------------------------------------------------------------------------------------------------------------\n",
            "Epoch: 5 / 10 | Reconst_loss: 39.127 | Kldiv loss: 12.189 | Classifcation loss: 1.690 | Constrast loss: 0.00 | Total loss: 7722.583 | Train acc: 77.718 % ||| Val Loss: 7508.333 | Val acc: 77.186 %\n",
            "-------------------------------------------------------------------------------------------------------------------------------------------------------------------------------------\n",
            "Epoch: 6 / 10 | Reconst_loss: 32.406 | Kldiv loss: 20.036 | Classifcation loss: 1.694 | Constrast loss: 0.00 | Total loss: 7525.588 | Train acc: 78.074 % ||| Val Loss: 8831.904 | Val acc: 73.969 %\n",
            "-------------------------------------------------------------------------------------------------------------------------------------------------------------------------------------\n",
            "Epoch: 7 / 10 | Reconst_loss: 74.276 | Kldiv loss: 12.960 | Classifcation loss: 2.338 | Constrast loss: 0.00 | Total loss: 7501.909 | Train acc: 77.917 % ||| Val Loss: 7696.434 | Val acc: 75.618 %\n",
            "-------------------------------------------------------------------------------------------------------------------------------------------------------------------------------------\n",
            "Epoch: 8 / 10 | Reconst_loss: 14.869 | Kldiv loss: 13.324 | Classifcation loss: 2.017 | Constrast loss: 0.00 | Total loss: 7475.430 | Train acc: 78.552 % ||| Val Loss: 7687.819 | Val acc: 79.273 %\n",
            "-------------------------------------------------------------------------------------------------------------------------------------------------------------------------------------\n",
            "Epoch: 9 / 10 | Reconst_loss: 15.076 | Kldiv loss: 10.638 | Classifcation loss: 2.030 | Constrast loss: 3.97 | Total loss: 7360.401 | Train acc: 81.113 % ||| Val Loss: 7931.649 | Val acc: 79.510 %\n",
            "-------------------------------------------------------------------------------------------------------------------------------------------------------------------------------------\n"
          ]
        },
        {
          "output_type": "stream",
          "name": "stderr",
          "text": [
            "\u001b[32m[I 2023-03-18 02:10:55,840]\u001b[0m Trial 113 finished with value: 0.8251654519561055 and parameters: {'optuna_batch_size': 138, 'optimizer': 'Adam', 'lr': 0.0093309412552395, 'hidden_dim': 700, 'alpha': 0, 'beta': 4, 'gamma': 10, 'delta': 10}. Best is trial 99 with value: 0.9633579876854479.\u001b[0m\n"
          ]
        },
        {
          "output_type": "stream",
          "name": "stdout",
          "text": [
            "Epoch: 10 / 10 | Reconst_loss: 59.719 | Kldiv loss: 11.245 | Classifcation loss: 1.689 | Constrast loss: 0.00 | Total loss: 7288.412 | Train acc: 82.517 % ||| Val Loss: 7259.984 | Val acc: 82.515 %\n",
            "-------------------------------------------------------------------------------------------------------------------------------------------------------------------------------------\n",
            "Epoch: 1 / 10 | Reconst_loss: 5390.724 | Kldiv loss: 998.335 | Classifcation loss: 2.146 | Constrast loss: 63.79 | Total loss: 94652.955 | Train acc: 31.350 % ||| Val Loss: 16945.219 | Val acc: 56.820 %\n",
            "-------------------------------------------------------------------------------------------------------------------------------------------------------------------------------------\n",
            "Epoch: 2 / 10 | Reconst_loss: 3985.088 | Kldiv loss: 896.754 | Classifcation loss: 1.993 | Constrast loss: 41.44 | Total loss: 15707.044 | Train acc: 62.344 % ||| Val Loss: 14804.919 | Val acc: 67.548 %\n",
            "-------------------------------------------------------------------------------------------------------------------------------------------------------------------------------------\n",
            "Epoch: 3 / 10 | Reconst_loss: 3211.002 | Kldiv loss: 793.081 | Classifcation loss: 1.969 | Constrast loss: 61.42 | Total loss: 14480.651 | Train acc: 72.516 % ||| Val Loss: 14317.383 | Val acc: 74.098 %\n",
            "-------------------------------------------------------------------------------------------------------------------------------------------------------------------------------------\n",
            "Epoch: 4 / 10 | Reconst_loss: 3286.028 | Kldiv loss: 814.939 | Classifcation loss: 1.956 | Constrast loss: 51.14 | Total loss: 13879.927 | Train acc: 76.495 % ||| Val Loss: 13327.993 | Val acc: 78.756 %\n",
            "-------------------------------------------------------------------------------------------------------------------------------------------------------------------------------------\n",
            "Epoch: 5 / 10 | Reconst_loss: 3290.947 | Kldiv loss: 878.888 | Classifcation loss: 1.914 | Constrast loss: 13.58 | Total loss: 13571.855 | Train acc: 77.869 % ||| Val Loss: 13689.516 | Val acc: 79.950 %\n",
            "-------------------------------------------------------------------------------------------------------------------------------------------------------------------------------------\n",
            "Epoch: 6 / 10 | Reconst_loss: 3683.181 | Kldiv loss: 862.249 | Classifcation loss: 1.874 | Constrast loss: 17.74 | Total loss: 13546.266 | Train acc: 78.306 % ||| Val Loss: 13272.774 | Val acc: 78.656 %\n",
            "-------------------------------------------------------------------------------------------------------------------------------------------------------------------------------------\n",
            "Epoch: 7 / 10 | Reconst_loss: 2870.015 | Kldiv loss: 732.649 | Classifcation loss: 1.931 | Constrast loss: 60.65 | Total loss: 13383.628 | Train acc: 77.140 % ||| Val Loss: 12769.104 | Val acc: 77.317 %\n",
            "-------------------------------------------------------------------------------------------------------------------------------------------------------------------------------------\n",
            "Epoch: 8 / 10 | Reconst_loss: 2931.536 | Kldiv loss: 814.479 | Classifcation loss: 1.985 | Constrast loss: 22.65 | Total loss: 13206.957 | Train acc: 77.048 % ||| Val Loss: 13450.480 | Val acc: 73.886 %\n",
            "-------------------------------------------------------------------------------------------------------------------------------------------------------------------------------------\n",
            "Epoch: 9 / 10 | Reconst_loss: 2943.057 | Kldiv loss: 735.398 | Classifcation loss: 1.888 | Constrast loss: 36.02 | Total loss: 13566.998 | Train acc: 79.085 % ||| Val Loss: 13066.176 | Val acc: 79.885 %\n",
            "-------------------------------------------------------------------------------------------------------------------------------------------------------------------------------------\n"
          ]
        },
        {
          "output_type": "stream",
          "name": "stderr",
          "text": [
            "\u001b[32m[I 2023-03-18 02:14:08,658]\u001b[0m Trial 114 finished with value: 0.8216297275725007 and parameters: {'optuna_batch_size': 235, 'optimizer': 'Adam', 'lr': 0.009089418093325297, 'hidden_dim': 657, 'alpha': 6, 'beta': 7, 'gamma': 9, 'delta': 9}. Best is trial 99 with value: 0.9633579876854479.\u001b[0m\n"
          ]
        },
        {
          "output_type": "stream",
          "name": "stdout",
          "text": [
            "Epoch: 10 / 10 | Reconst_loss: 2890.824 | Kldiv loss: 860.273 | Classifcation loss: 1.847 | Constrast loss: 42.18 | Total loss: 13275.674 | Train acc: 82.163 % ||| Val Loss: 13044.099 | Val acc: 86.140 %\n",
            "-------------------------------------------------------------------------------------------------------------------------------------------------------------------------------------\n",
            "Epoch: 1 / 10 | Reconst_loss: 137.447 | Kldiv loss: 12.570 | Classifcation loss: 2.515 | Constrast loss: 0.00 | Total loss: 21129.119 | Train acc: 34.702 % ||| Val Loss: 8191.286 | Val acc: 58.530 %\n",
            "-------------------------------------------------------------------------------------------------------------------------------------------------------------------------------------\n",
            "Epoch: 2 / 10 | Reconst_loss: 29.094 | Kldiv loss: 13.691 | Classifcation loss: 2.340 | Constrast loss: 0.00 | Total loss: 7490.744 | Train acc: 61.966 % ||| Val Loss: 7208.246 | Val acc: 63.528 %\n",
            "-------------------------------------------------------------------------------------------------------------------------------------------------------------------------------------\n",
            "Epoch: 3 / 10 | Reconst_loss: 24.894 | Kldiv loss: 14.551 | Classifcation loss: 2.287 | Constrast loss: 0.00 | Total loss: 6961.311 | Train acc: 64.822 % ||| Val Loss: 7141.973 | Val acc: 56.541 %\n",
            "-------------------------------------------------------------------------------------------------------------------------------------------------------------------------------------\n",
            "Epoch: 4 / 10 | Reconst_loss: 33.282 | Kldiv loss: 9.833 | Classifcation loss: 1.706 | Constrast loss: 0.00 | Total loss: 7181.622 | Train acc: 60.186 % ||| Val Loss: 6575.040 | Val acc: 63.528 %\n",
            "-------------------------------------------------------------------------------------------------------------------------------------------------------------------------------------\n",
            "Epoch: 5 / 10 | Reconst_loss: 78.150 | Kldiv loss: 11.406 | Classifcation loss: 2.046 | Constrast loss: 0.00 | Total loss: 6708.524 | Train acc: 65.016 % ||| Val Loss: 6482.451 | Val acc: 67.776 %\n",
            "-------------------------------------------------------------------------------------------------------------------------------------------------------------------------------------\n",
            "Epoch: 6 / 10 | Reconst_loss: 31.624 | Kldiv loss: 18.467 | Classifcation loss: 1.695 | Constrast loss: 0.00 | Total loss: 6648.544 | Train acc: 69.201 % ||| Val Loss: 7749.584 | Val acc: 66.644 %\n",
            "-------------------------------------------------------------------------------------------------------------------------------------------------------------------------------------\n",
            "Epoch: 7 / 10 | Reconst_loss: 211.625 | Kldiv loss: 19.772 | Classifcation loss: 2.020 | Constrast loss: 0.00 | Total loss: 6661.963 | Train acc: 69.560 % ||| Val Loss: 6595.270 | Val acc: 69.653 %\n",
            "-------------------------------------------------------------------------------------------------------------------------------------------------------------------------------------\n",
            "Epoch: 8 / 10 | Reconst_loss: 33.443 | Kldiv loss: 8.978 | Classifcation loss: 2.036 | Constrast loss: 0.00 | Total loss: 6429.593 | Train acc: 71.038 % ||| Val Loss: 6609.220 | Val acc: 71.211 %\n",
            "-------------------------------------------------------------------------------------------------------------------------------------------------------------------------------------\n",
            "Epoch: 9 / 10 | Reconst_loss: 135.508 | Kldiv loss: 13.243 | Classifcation loss: 1.708 | Constrast loss: 0.00 | Total loss: 6387.201 | Train acc: 71.417 % ||| Val Loss: 6310.036 | Val acc: 71.630 %\n",
            "-------------------------------------------------------------------------------------------------------------------------------------------------------------------------------------\n"
          ]
        },
        {
          "output_type": "stream",
          "name": "stderr",
          "text": [
            "\u001b[32m[I 2023-03-18 02:17:20,352]\u001b[0m Trial 115 finished with value: 0.7111297363366506 and parameters: {'optuna_batch_size': 115, 'optimizer': 'Adam', 'lr': 0.0096379515938937, 'hidden_dim': 582, 'alpha': 1, 'beta': 9, 'gamma': 1, 'delta': 10}. Best is trial 99 with value: 0.9633579876854479.\u001b[0m\n"
          ]
        },
        {
          "output_type": "stream",
          "name": "stdout",
          "text": [
            "Epoch: 10 / 10 | Reconst_loss: 22.679 | Kldiv loss: 17.446 | Classifcation loss: 2.022 | Constrast loss: 0.00 | Total loss: 6475.765 | Train acc: 71.113 % ||| Val Loss: 6366.822 | Val acc: 71.992 %\n",
            "-------------------------------------------------------------------------------------------------------------------------------------------------------------------------------------\n",
            "Epoch: 1 / 10 | Reconst_loss: 4020.458 | Kldiv loss: 901.156 | Classifcation loss: 2.253 | Constrast loss: 176.48 | Total loss: 26895.680 | Train acc: 30.563 % ||| Val Loss: 13918.504 | Val acc: 49.107 %\n",
            "-------------------------------------------------------------------------------------------------------------------------------------------------------------------------------------\n",
            "Epoch: 2 / 10 | Reconst_loss: 3046.966 | Kldiv loss: 880.561 | Classifcation loss: 2.094 | Constrast loss: 112.43 | Total loss: 11933.584 | Train acc: 55.399 % ||| Val Loss: 10977.222 | Val acc: 59.655 %\n",
            "-------------------------------------------------------------------------------------------------------------------------------------------------------------------------------------\n",
            "Epoch: 3 / 10 | Reconst_loss: 3105.199 | Kldiv loss: 794.906 | Classifcation loss: 2.060 | Constrast loss: 48.48 | Total loss: 10757.290 | Train acc: 61.596 % ||| Val Loss: 10122.198 | Val acc: 62.954 %\n",
            "-------------------------------------------------------------------------------------------------------------------------------------------------------------------------------------\n",
            "Epoch: 4 / 10 | Reconst_loss: 3692.946 | Kldiv loss: 743.043 | Classifcation loss: 2.006 | Constrast loss: 55.93 | Total loss: 10426.017 | Train acc: 66.973 % ||| Val Loss: 10186.793 | Val acc: 64.898 %\n",
            "-------------------------------------------------------------------------------------------------------------------------------------------------------------------------------------\n",
            "Epoch: 5 / 10 | Reconst_loss: 3287.376 | Kldiv loss: 728.003 | Classifcation loss: 1.947 | Constrast loss: 55.51 | Total loss: 10415.262 | Train acc: 67.656 % ||| Val Loss: 9852.705 | Val acc: 73.354 %\n",
            "-------------------------------------------------------------------------------------------------------------------------------------------------------------------------------------\n",
            "Epoch: 6 / 10 | Reconst_loss: 3177.859 | Kldiv loss: 818.171 | Classifcation loss: 1.935 | Constrast loss: 34.24 | Total loss: 10076.734 | Train acc: 74.751 % ||| Val Loss: 9518.195 | Val acc: 75.574 %\n",
            "-------------------------------------------------------------------------------------------------------------------------------------------------------------------------------------\n",
            "Epoch: 7 / 10 | Reconst_loss: 2623.196 | Kldiv loss: 714.658 | Classifcation loss: 1.898 | Constrast loss: 69.21 | Total loss: 9978.908 | Train acc: 75.447 % ||| Val Loss: 9558.174 | Val acc: 75.265 %\n",
            "-------------------------------------------------------------------------------------------------------------------------------------------------------------------------------------\n",
            "Epoch: 8 / 10 | Reconst_loss: 2714.715 | Kldiv loss: 696.601 | Classifcation loss: 1.917 | Constrast loss: 68.32 | Total loss: 9927.654 | Train acc: 78.360 % ||| Val Loss: 9711.921 | Val acc: 80.250 %\n",
            "-------------------------------------------------------------------------------------------------------------------------------------------------------------------------------------\n",
            "Epoch: 9 / 10 | Reconst_loss: 3089.418 | Kldiv loss: 821.887 | Classifcation loss: 1.896 | Constrast loss: 102.76 | Total loss: 10204.976 | Train acc: 78.687 % ||| Val Loss: 9833.791 | Val acc: 80.160 %\n",
            "-------------------------------------------------------------------------------------------------------------------------------------------------------------------------------------\n"
          ]
        },
        {
          "output_type": "stream",
          "name": "stderr",
          "text": [
            "\u001b[32m[I 2023-03-18 02:21:34,337]\u001b[0m Trial 116 finished with value: 0.7748082557931124 and parameters: {'optuna_batch_size': 172, 'optimizer': 'Adam', 'lr': 0.008436269900126622, 'hidden_dim': 747, 'alpha': 5, 'beta': 5, 'gamma': 10, 'delta': 9}. Best is trial 99 with value: 0.9633579876854479.\u001b[0m\n"
          ]
        },
        {
          "output_type": "stream",
          "name": "stdout",
          "text": [
            "Epoch: 10 / 10 | Reconst_loss: 3076.190 | Kldiv loss: 871.877 | Classifcation loss: 1.919 | Constrast loss: 49.95 | Total loss: 9772.890 | Train acc: 77.481 % ||| Val Loss: 9373.755 | Val acc: 78.495 %\n",
            "-------------------------------------------------------------------------------------------------------------------------------------------------------------------------------------\n",
            "Epoch: 1 / 10 | Reconst_loss: nan | Kldiv loss: nan | Classifcation loss: nan | Constrast loss: nan | Total loss: nan | Train acc: 0.019 % ||| Val Loss: nan | Val acc: 0.000 %\n",
            "-------------------------------------------------------------------------------------------------------------------------------------------------------------------------------------\n",
            "Epoch: 2 / 10 | Reconst_loss: nan | Kldiv loss: nan | Classifcation loss: nan | Constrast loss: nan | Total loss: nan | Train acc: 0.000 % ||| Val Loss: nan | Val acc: 0.000 %\n",
            "-------------------------------------------------------------------------------------------------------------------------------------------------------------------------------------\n",
            "Epoch: 3 / 10 | Reconst_loss: nan | Kldiv loss: nan | Classifcation loss: nan | Constrast loss: nan | Total loss: nan | Train acc: 0.000 % ||| Val Loss: nan | Val acc: 0.000 %\n",
            "-------------------------------------------------------------------------------------------------------------------------------------------------------------------------------------\n"
          ]
        },
        {
          "output_type": "stream",
          "name": "stderr",
          "text": [
            "\u001b[32m[I 2023-03-18 02:23:09,171]\u001b[0m Trial 117 pruned. \u001b[0m\n"
          ]
        },
        {
          "output_type": "stream",
          "name": "stdout",
          "text": [
            "Epoch: 4 / 10 | Reconst_loss: nan | Kldiv loss: nan | Classifcation loss: nan | Constrast loss: nan | Total loss: nan | Train acc: 0.000 % ||| Val Loss: nan | Val acc: 0.000 %\n",
            "-------------------------------------------------------------------------------------------------------------------------------------------------------------------------------------\n",
            "Epoch: 1 / 10 | Reconst_loss: 321.970 | Kldiv loss: 68.399 | Classifcation loss: 1.852 | Constrast loss: 0.00 | Total loss: 8008.135 | Train acc: 54.592 % ||| Val Loss: 6296.628 | Val acc: 77.512 %\n",
            "-------------------------------------------------------------------------------------------------------------------------------------------------------------------------------------\n",
            "Epoch: 2 / 10 | Reconst_loss: 252.340 | Kldiv loss: 58.197 | Classifcation loss: 2.022 | Constrast loss: 2.04 | Total loss: 6127.855 | Train acc: 83.252 % ||| Val Loss: 5863.785 | Val acc: 85.503 %\n",
            "-------------------------------------------------------------------------------------------------------------------------------------------------------------------------------------\n",
            "Epoch: 3 / 10 | Reconst_loss: 128.284 | Kldiv loss: 64.971 | Classifcation loss: 1.927 | Constrast loss: 0.76 | Total loss: 5798.442 | Train acc: 86.857 % ||| Val Loss: 5915.254 | Val acc: 87.481 %\n",
            "-------------------------------------------------------------------------------------------------------------------------------------------------------------------------------------\n",
            "Epoch: 4 / 10 | Reconst_loss: 266.910 | Kldiv loss: 76.737 | Classifcation loss: 1.918 | Constrast loss: 0.47 | Total loss: 5733.676 | Train acc: 87.933 % ||| Val Loss: 5751.887 | Val acc: 86.968 %\n",
            "-------------------------------------------------------------------------------------------------------------------------------------------------------------------------------------\n",
            "Epoch: 5 / 10 | Reconst_loss: 312.296 | Kldiv loss: 75.315 | Classifcation loss: 1.834 | Constrast loss: 0.00 | Total loss: 5701.006 | Train acc: 88.722 % ||| Val Loss: 6000.210 | Val acc: 85.981 %\n",
            "-------------------------------------------------------------------------------------------------------------------------------------------------------------------------------------\n",
            "Epoch: 6 / 10 | Reconst_loss: 280.755 | Kldiv loss: 76.088 | Classifcation loss: 1.904 | Constrast loss: 0.00 | Total loss: 5626.750 | Train acc: 88.979 % ||| Val Loss: 5907.657 | Val acc: 89.228 %\n",
            "-------------------------------------------------------------------------------------------------------------------------------------------------------------------------------------\n",
            "Epoch: 7 / 10 | Reconst_loss: 130.230 | Kldiv loss: 66.922 | Classifcation loss: 1.690 | Constrast loss: 0.15 | Total loss: 5586.391 | Train acc: 89.287 % ||| Val Loss: 5469.912 | Val acc: 90.944 %\n",
            "-------------------------------------------------------------------------------------------------------------------------------------------------------------------------------------\n",
            "Epoch: 8 / 10 | Reconst_loss: 262.823 | Kldiv loss: 60.621 | Classifcation loss: 1.769 | Constrast loss: 0.07 | Total loss: 5499.932 | Train acc: 89.812 % ||| Val Loss: 5396.532 | Val acc: 90.186 %\n",
            "-------------------------------------------------------------------------------------------------------------------------------------------------------------------------------------\n",
            "Epoch: 9 / 10 | Reconst_loss: 149.523 | Kldiv loss: 68.663 | Classifcation loss: 1.692 | Constrast loss: 0.06 | Total loss: 5552.454 | Train acc: 90.103 % ||| Val Loss: 5511.105 | Val acc: 90.698 %\n",
            "-------------------------------------------------------------------------------------------------------------------------------------------------------------------------------------\n"
          ]
        },
        {
          "output_type": "stream",
          "name": "stderr",
          "text": [
            "\u001b[32m[I 2023-03-18 02:26:47,519]\u001b[0m Trial 118 finished with value: 0.8996710208030969 and parameters: {'optuna_batch_size': 100, 'optimizer': 'Adam', 'lr': 0.008681592182454415, 'hidden_dim': 613, 'alpha': 0, 'beta': 7, 'gamma': 7, 'delta': 9}. Best is trial 99 with value: 0.9633579876854479.\u001b[0m\n"
          ]
        },
        {
          "output_type": "stream",
          "name": "stdout",
          "text": [
            "Epoch: 10 / 10 | Reconst_loss: 320.661 | Kldiv loss: 69.948 | Classifcation loss: 1.767 | Constrast loss: 1.52 | Total loss: 5612.280 | Train acc: 89.967 % ||| Val Loss: 5359.230 | Val acc: 91.265 %\n",
            "-------------------------------------------------------------------------------------------------------------------------------------------------------------------------------------\n",
            "Epoch: 1 / 10 | Reconst_loss: 684.377 | Kldiv loss: 216.426 | Classifcation loss: 2.146 | Constrast loss: 10.22 | Total loss: 9849.652 | Train acc: 38.141 % ||| Val Loss: 7078.761 | Val acc: 51.303 %\n",
            "-------------------------------------------------------------------------------------------------------------------------------------------------------------------------------------\n",
            "Epoch: 2 / 10 | Reconst_loss: 1114.559 | Kldiv loss: 201.867 | Classifcation loss: 2.218 | Constrast loss: 6.23 | Total loss: 6924.665 | Train acc: 52.705 % ||| Val Loss: 6518.113 | Val acc: 50.703 %\n",
            "-------------------------------------------------------------------------------------------------------------------------------------------------------------------------------------\n",
            "Epoch: 3 / 10 | Reconst_loss: 1093.234 | Kldiv loss: 209.088 | Classifcation loss: 2.243 | Constrast loss: 6.09 | Total loss: 6600.873 | Train acc: 54.217 % ||| Val Loss: 6411.775 | Val acc: 55.041 %\n",
            "-------------------------------------------------------------------------------------------------------------------------------------------------------------------------------------\n",
            "Epoch: 4 / 10 | Reconst_loss: 856.603 | Kldiv loss: 207.019 | Classifcation loss: 2.170 | Constrast loss: 1.65 | Total loss: 6447.014 | Train acc: 54.832 % ||| Val Loss: 6330.971 | Val acc: 54.978 %\n",
            "-------------------------------------------------------------------------------------------------------------------------------------------------------------------------------------\n",
            "Epoch: 5 / 10 | Reconst_loss: 856.345 | Kldiv loss: 236.813 | Classifcation loss: 2.263 | Constrast loss: 1.92 | Total loss: 6494.190 | Train acc: 54.706 % ||| Val Loss: 6132.536 | Val acc: 55.273 %\n",
            "-------------------------------------------------------------------------------------------------------------------------------------------------------------------------------------\n",
            "Epoch: 6 / 10 | Reconst_loss: 594.476 | Kldiv loss: 211.614 | Classifcation loss: 2.119 | Constrast loss: 3.16 | Total loss: 6346.991 | Train acc: 55.345 % ||| Val Loss: 6127.813 | Val acc: 55.505 %\n",
            "-------------------------------------------------------------------------------------------------------------------------------------------------------------------------------------\n",
            "Epoch: 7 / 10 | Reconst_loss: 763.488 | Kldiv loss: 199.979 | Classifcation loss: 2.172 | Constrast loss: 4.81 | Total loss: 6262.775 | Train acc: 55.828 % ||| Val Loss: 6201.843 | Val acc: 55.353 %\n",
            "-------------------------------------------------------------------------------------------------------------------------------------------------------------------------------------\n",
            "Epoch: 8 / 10 | Reconst_loss: 1093.349 | Kldiv loss: 225.133 | Classifcation loss: 2.237 | Constrast loss: 8.80 | Total loss: 6403.069 | Train acc: 55.634 % ||| Val Loss: 7290.313 | Val acc: 52.341 %\n",
            "-------------------------------------------------------------------------------------------------------------------------------------------------------------------------------------\n",
            "Epoch: 9 / 10 | Reconst_loss: 748.184 | Kldiv loss: 247.382 | Classifcation loss: 2.316 | Constrast loss: 7.88 | Total loss: 6431.083 | Train acc: 55.581 % ||| Val Loss: 6615.049 | Val acc: 55.894 %\n",
            "-------------------------------------------------------------------------------------------------------------------------------------------------------------------------------------\n"
          ]
        },
        {
          "output_type": "stream",
          "name": "stderr",
          "text": [
            "\u001b[32m[I 2023-03-18 02:30:16,012]\u001b[0m Trial 119 finished with value: 0.55909071844986 and parameters: {'optuna_batch_size': 113, 'optimizer': 'Adam', 'lr': 0.009889214247903774, 'hidden_dim': 614, 'alpha': 0, 'beta': 7, 'gamma': 7, 'delta': 8}. Best is trial 99 with value: 0.9633579876854479.\u001b[0m\n"
          ]
        },
        {
          "output_type": "stream",
          "name": "stdout",
          "text": [
            "Epoch: 10 / 10 | Reconst_loss: 745.681 | Kldiv loss: 207.987 | Classifcation loss: 2.094 | Constrast loss: 0.00 | Total loss: 6294.145 | Train acc: 55.909 % ||| Val Loss: 6010.977 | Val acc: 55.568 %\n",
            "-------------------------------------------------------------------------------------------------------------------------------------------------------------------------------------\n",
            "Epoch: 1 / 10 | Reconst_loss: 1536.043 | Kldiv loss: 464.536 | Classifcation loss: 2.148 | Constrast loss: 13.44 | Total loss: 23362574165394.039 | Train acc: 29.750 % ||| Val Loss: 11377.828 | Val acc: 50.050 %\n",
            "-------------------------------------------------------------------------------------------------------------------------------------------------------------------------------------\n",
            "Epoch: 2 / 10 | Reconst_loss: 1510.218 | Kldiv loss: 252.093 | Classifcation loss: 1.986 | Constrast loss: 15.62 | Total loss: 10609.502 | Train acc: 60.453 % ||| Val Loss: 10173.133 | Val acc: 64.305 %\n",
            "-------------------------------------------------------------------------------------------------------------------------------------------------------------------------------------\n",
            "Epoch: 3 / 10 | Reconst_loss: 1470.172 | Kldiv loss: 308.777 | Classifcation loss: 2.041 | Constrast loss: 9.25 | Total loss: 9229.293 | Train acc: 69.407 % ||| Val Loss: 9583.829 | Val acc: 69.378 %\n",
            "-------------------------------------------------------------------------------------------------------------------------------------------------------------------------------------\n",
            "Epoch: 4 / 10 | Reconst_loss: 1189.968 | Kldiv loss: 266.283 | Classifcation loss: 1.884 | Constrast loss: 5.91 | Total loss: 8946.255 | Train acc: 70.889 % ||| Val Loss: 8439.284 | Val acc: 72.493 %\n",
            "-------------------------------------------------------------------------------------------------------------------------------------------------------------------------------------\n",
            "Epoch: 5 / 10 | Reconst_loss: 1136.335 | Kldiv loss: 311.980 | Classifcation loss: 1.973 | Constrast loss: 16.23 | Total loss: 8574.974 | Train acc: 72.692 % ||| Val Loss: 9111.746 | Val acc: 71.658 %\n",
            "-------------------------------------------------------------------------------------------------------------------------------------------------------------------------------------\n",
            "Epoch: 6 / 10 | Reconst_loss: 720.703 | Kldiv loss: 300.388 | Classifcation loss: 1.977 | Constrast loss: 9.96 | Total loss: 8531.704 | Train acc: 72.889 % ||| Val Loss: 8208.004 | Val acc: 73.351 %\n",
            "-------------------------------------------------------------------------------------------------------------------------------------------------------------------------------------\n",
            "Epoch: 7 / 10 | Reconst_loss: 1196.162 | Kldiv loss: 311.497 | Classifcation loss: 1.856 | Constrast loss: 3.47 | Total loss: 8389.806 | Train acc: 73.471 % ||| Val Loss: 8542.918 | Val acc: 73.212 %\n",
            "-------------------------------------------------------------------------------------------------------------------------------------------------------------------------------------\n",
            "Epoch: 8 / 10 | Reconst_loss: 1360.304 | Kldiv loss: 313.881 | Classifcation loss: 1.955 | Constrast loss: 4.93 | Total loss: 8305.802 | Train acc: 73.677 % ||| Val Loss: 8313.934 | Val acc: 73.298 %\n",
            "-------------------------------------------------------------------------------------------------------------------------------------------------------------------------------------\n",
            "Epoch: 9 / 10 | Reconst_loss: 873.365 | Kldiv loss: 304.655 | Classifcation loss: 1.902 | Constrast loss: 7.60 | Total loss: 8272.128 | Train acc: 73.543 % ||| Val Loss: 8302.558 | Val acc: 72.417 %\n",
            "-------------------------------------------------------------------------------------------------------------------------------------------------------------------------------------\n"
          ]
        },
        {
          "output_type": "stream",
          "name": "stderr",
          "text": [
            "\u001b[32m[I 2023-03-18 02:33:35,432]\u001b[0m Trial 120 finished with value: 0.7407799111283376 and parameters: {'optuna_batch_size': 145, 'optimizer': 'Adam', 'lr': 0.008680160720041437, 'hidden_dim': 633, 'alpha': 1, 'beta': 8, 'gamma': 6, 'delta': 9}. Best is trial 99 with value: 0.9633579876854479.\u001b[0m\n"
          ]
        },
        {
          "output_type": "stream",
          "name": "stdout",
          "text": [
            "Epoch: 10 / 10 | Reconst_loss: 1424.403 | Kldiv loss: 282.070 | Classifcation loss: 1.895 | Constrast loss: 9.43 | Total loss: 8175.118 | Train acc: 74.078 % ||| Val Loss: 8125.170 | Val acc: 72.947 %\n",
            "-------------------------------------------------------------------------------------------------------------------------------------------------------------------------------------\n",
            "Epoch: 1 / 10 | Reconst_loss: 2554.268 | Kldiv loss: 609.055 | Classifcation loss: 1.992 | Constrast loss: 79.35 | Total loss: 10417.322 | Train acc: 46.768 % ||| Val Loss: 7722.126 | Val acc: 73.048 %\n",
            "-------------------------------------------------------------------------------------------------------------------------------------------------------------------------------------\n",
            "Epoch: 2 / 10 | Reconst_loss: 2964.750 | Kldiv loss: 552.880 | Classifcation loss: 1.930 | Constrast loss: 65.36 | Total loss: 7552.146 | Train acc: 76.614 % ||| Val Loss: 7118.500 | Val acc: 79.303 %\n",
            "-------------------------------------------------------------------------------------------------------------------------------------------------------------------------------------\n",
            "Epoch: 3 / 10 | Reconst_loss: 2361.054 | Kldiv loss: 574.607 | Classifcation loss: 1.859 | Constrast loss: 41.40 | Total loss: 7213.230 | Train acc: 82.604 % ||| Val Loss: 7096.601 | Val acc: 87.172 %\n",
            "-------------------------------------------------------------------------------------------------------------------------------------------------------------------------------------\n",
            "Epoch: 4 / 10 | Reconst_loss: 2373.058 | Kldiv loss: 543.166 | Classifcation loss: 1.788 | Constrast loss: 29.15 | Total loss: 7151.685 | Train acc: 86.331 % ||| Val Loss: 6815.112 | Val acc: 87.544 %\n",
            "-------------------------------------------------------------------------------------------------------------------------------------------------------------------------------------\n",
            "Epoch: 5 / 10 | Reconst_loss: 2214.690 | Kldiv loss: 528.132 | Classifcation loss: 1.807 | Constrast loss: 8.46 | Total loss: 6946.755 | Train acc: 87.827 % ||| Val Loss: 6812.932 | Val acc: 87.752 %\n",
            "-------------------------------------------------------------------------------------------------------------------------------------------------------------------------------------\n",
            "Epoch: 6 / 10 | Reconst_loss: 2735.188 | Kldiv loss: 554.338 | Classifcation loss: 1.832 | Constrast loss: 18.61 | Total loss: 7209.119 | Train acc: 86.754 % ||| Val Loss: 6898.812 | Val acc: 88.640 %\n",
            "-------------------------------------------------------------------------------------------------------------------------------------------------------------------------------------\n",
            "Epoch: 7 / 10 | Reconst_loss: 2554.767 | Kldiv loss: 598.933 | Classifcation loss: 1.831 | Constrast loss: 36.36 | Total loss: 6962.665 | Train acc: 87.706 % ||| Val Loss: 6866.043 | Val acc: 88.042 %\n",
            "-------------------------------------------------------------------------------------------------------------------------------------------------------------------------------------\n",
            "Epoch: 8 / 10 | Reconst_loss: 1982.168 | Kldiv loss: 560.084 | Classifcation loss: 1.869 | Constrast loss: 86.29 | Total loss: 6840.493 | Train acc: 87.838 % ||| Val Loss: 6768.158 | Val acc: 88.571 %\n",
            "-------------------------------------------------------------------------------------------------------------------------------------------------------------------------------------\n",
            "Epoch: 9 / 10 | Reconst_loss: 2562.189 | Kldiv loss: 581.539 | Classifcation loss: 1.846 | Constrast loss: 73.93 | Total loss: 6764.645 | Train acc: 88.065 % ||| Val Loss: 6723.437 | Val acc: 88.029 %\n",
            "-------------------------------------------------------------------------------------------------------------------------------------------------------------------------------------\n"
          ]
        },
        {
          "output_type": "stream",
          "name": "stderr",
          "text": [
            "\u001b[32m[I 2023-03-18 02:38:25,454]\u001b[0m Trial 121 finished with value: 0.8854018417510496 and parameters: {'optuna_batch_size': 126, 'optimizer': 'Adam', 'lr': 0.009152228717725407, 'hidden_dim': 772, 'alpha': 0, 'beta': 7, 'gamma': 8, 'delta': 9}. Best is trial 99 with value: 0.9633579876854479.\u001b[0m\n"
          ]
        },
        {
          "output_type": "stream",
          "name": "stdout",
          "text": [
            "Epoch: 10 / 10 | Reconst_loss: 2385.976 | Kldiv loss: 633.760 | Classifcation loss: 1.770 | Constrast loss: 6.05 | Total loss: 6645.270 | Train acc: 88.540 % ||| Val Loss: 6599.015 | Val acc: 88.401 %\n",
            "-------------------------------------------------------------------------------------------------------------------------------------------------------------------------------------\n",
            "Epoch: 1 / 10 | Reconst_loss: 1367.608 | Kldiv loss: 271.885 | Classifcation loss: 2.244 | Constrast loss: 32.36 | Total loss: 7851140.621 | Train acc: 24.146 % ||| Val Loss: 13010.588 | Val acc: 47.827 %\n",
            "-------------------------------------------------------------------------------------------------------------------------------------------------------------------------------------\n",
            "Epoch: 2 / 10 | Reconst_loss: 994.367 | Kldiv loss: 340.166 | Classifcation loss: 2.114 | Constrast loss: 9.15 | Total loss: 11668.784 | Train acc: 49.254 % ||| Val Loss: 10595.083 | Val acc: 52.375 %\n",
            "-------------------------------------------------------------------------------------------------------------------------------------------------------------------------------------\n",
            "Epoch: 3 / 10 | Reconst_loss: 848.626 | Kldiv loss: 267.906 | Classifcation loss: 2.204 | Constrast loss: 13.31 | Total loss: 10303.526 | Train acc: 55.894 % ||| Val Loss: 9708.203 | Val acc: 56.401 %\n",
            "-------------------------------------------------------------------------------------------------------------------------------------------------------------------------------------\n",
            "Epoch: 4 / 10 | Reconst_loss: 881.781 | Kldiv loss: 275.514 | Classifcation loss: 2.136 | Constrast loss: 22.09 | Total loss: 9754.278 | Train acc: 58.159 % ||| Val Loss: 9097.795 | Val acc: 59.143 %\n",
            "-------------------------------------------------------------------------------------------------------------------------------------------------------------------------------------\n",
            "Epoch: 5 / 10 | Reconst_loss: 1115.698 | Kldiv loss: 308.728 | Classifcation loss: 2.089 | Constrast loss: 6.65 | Total loss: 9308.361 | Train acc: 59.865 % ||| Val Loss: 8893.163 | Val acc: 60.837 %\n",
            "-------------------------------------------------------------------------------------------------------------------------------------------------------------------------------------\n",
            "Epoch: 6 / 10 | Reconst_loss: 1224.348 | Kldiv loss: 276.503 | Classifcation loss: 2.096 | Constrast loss: 9.08 | Total loss: 9113.834 | Train acc: 60.590 % ||| Val Loss: 9023.328 | Val acc: 60.943 %\n",
            "-------------------------------------------------------------------------------------------------------------------------------------------------------------------------------------\n",
            "Epoch: 7 / 10 | Reconst_loss: 831.586 | Kldiv loss: 305.268 | Classifcation loss: 2.140 | Constrast loss: 7.00 | Total loss: 9020.741 | Train acc: 61.099 % ||| Val Loss: 8800.155 | Val acc: 60.474 %\n",
            "-------------------------------------------------------------------------------------------------------------------------------------------------------------------------------------\n",
            "Epoch: 8 / 10 | Reconst_loss: 807.848 | Kldiv loss: 299.711 | Classifcation loss: 2.084 | Constrast loss: 11.02 | Total loss: 8848.362 | Train acc: 61.458 % ||| Val Loss: 8592.558 | Val acc: 61.574 %\n",
            "-------------------------------------------------------------------------------------------------------------------------------------------------------------------------------------\n",
            "Epoch: 9 / 10 | Reconst_loss: 1177.300 | Kldiv loss: 321.509 | Classifcation loss: 2.045 | Constrast loss: 4.35 | Total loss: 8698.176 | Train acc: 62.041 % ||| Val Loss: 8724.426 | Val acc: 61.749 %\n",
            "-------------------------------------------------------------------------------------------------------------------------------------------------------------------------------------\n"
          ]
        },
        {
          "output_type": "stream",
          "name": "stderr",
          "text": [
            "\u001b[32m[I 2023-03-18 02:42:02,847]\u001b[0m Trial 122 finished with value: 0.6228117053678737 and parameters: {'optuna_batch_size': 151, 'optimizer': 'Adam', 'lr': 0.008764868328686854, 'hidden_dim': 661, 'alpha': 0, 'beta': 6, 'gamma': 7, 'delta': 10}. Best is trial 99 with value: 0.9633579876854479.\u001b[0m\n"
          ]
        },
        {
          "output_type": "stream",
          "name": "stdout",
          "text": [
            "Epoch: 10 / 10 | Reconst_loss: 1042.823 | Kldiv loss: 259.434 | Classifcation loss: 2.094 | Constrast loss: 7.88 | Total loss: 8704.813 | Train acc: 62.281 % ||| Val Loss: 8511.112 | Val acc: 62.461 %\n",
            "-------------------------------------------------------------------------------------------------------------------------------------------------------------------------------------\n",
            "Epoch: 1 / 10 | Reconst_loss: 810.965 | Kldiv loss: 116.929 | Classifcation loss: 1.838 | Constrast loss: 0.79 | Total loss: 8450.209 | Train acc: 53.087 % ||| Val Loss: 6166.872 | Val acc: 80.567 %\n",
            "-------------------------------------------------------------------------------------------------------------------------------------------------------------------------------------\n",
            "Epoch: 2 / 10 | Reconst_loss: 367.085 | Kldiv loss: 125.748 | Classifcation loss: 1.822 | Constrast loss: 0.91 | Total loss: 6005.356 | Train acc: 83.215 % ||| Val Loss: 5791.412 | Val acc: 86.740 %\n",
            "-------------------------------------------------------------------------------------------------------------------------------------------------------------------------------------\n",
            "Epoch: 3 / 10 | Reconst_loss: 773.050 | Kldiv loss: 154.737 | Classifcation loss: 1.778 | Constrast loss: 0.80 | Total loss: 5783.223 | Train acc: 85.993 % ||| Val Loss: 5737.371 | Val acc: 85.591 %\n",
            "-------------------------------------------------------------------------------------------------------------------------------------------------------------------------------------\n",
            "Epoch: 4 / 10 | Reconst_loss: 778.110 | Kldiv loss: 135.762 | Classifcation loss: 1.871 | Constrast loss: 0.46 | Total loss: 5660.161 | Train acc: 86.473 % ||| Val Loss: 5594.138 | Val acc: 85.236 %\n",
            "-------------------------------------------------------------------------------------------------------------------------------------------------------------------------------------\n",
            "Epoch: 5 / 10 | Reconst_loss: 509.484 | Kldiv loss: 141.808 | Classifcation loss: 1.976 | Constrast loss: 0.94 | Total loss: 5657.472 | Train acc: 85.801 % ||| Val Loss: 5733.733 | Val acc: 84.310 %\n",
            "-------------------------------------------------------------------------------------------------------------------------------------------------------------------------------------\n",
            "Epoch: 6 / 10 | Reconst_loss: 674.902 | Kldiv loss: 151.157 | Classifcation loss: 1.940 | Constrast loss: 3.74 | Total loss: 5610.843 | Train acc: 86.978 % ||| Val Loss: 5335.301 | Val acc: 88.553 %\n",
            "-------------------------------------------------------------------------------------------------------------------------------------------------------------------------------------\n",
            "Epoch: 7 / 10 | Reconst_loss: 686.097 | Kldiv loss: 142.648 | Classifcation loss: 1.844 | Constrast loss: 0.00 | Total loss: 5420.167 | Train acc: 88.213 % ||| Val Loss: 5269.291 | Val acc: 88.619 %\n",
            "-------------------------------------------------------------------------------------------------------------------------------------------------------------------------------------\n",
            "Epoch: 8 / 10 | Reconst_loss: 343.305 | Kldiv loss: 146.518 | Classifcation loss: 1.887 | Constrast loss: 0.08 | Total loss: 5416.331 | Train acc: 88.075 % ||| Val Loss: 5350.679 | Val acc: 87.780 %\n",
            "-------------------------------------------------------------------------------------------------------------------------------------------------------------------------------------\n",
            "Epoch: 9 / 10 | Reconst_loss: 667.722 | Kldiv loss: 146.084 | Classifcation loss: 1.941 | Constrast loss: 0.00 | Total loss: 5311.915 | Train acc: 88.440 % ||| Val Loss: 5414.770 | Val acc: 87.846 %\n",
            "-------------------------------------------------------------------------------------------------------------------------------------------------------------------------------------\n"
          ]
        },
        {
          "output_type": "stream",
          "name": "stderr",
          "text": [
            "\u001b[33m[W 2023-03-18 02:45:15,495]\u001b[0m Trial 123 failed with parameters: {'optuna_batch_size': 103, 'optimizer': 'Adam', 'lr': 0.00741914267448142, 'hidden_dim': 592, 'alpha': 6, 'beta': 7, 'gamma': 7, 'delta': 9} because of the following error: KeyboardInterrupt().\u001b[0m\n",
            "Traceback (most recent call last):\n",
            "  File \"/usr/local/lib/python3.9/dist-packages/optuna/study/_optimize.py\", line 200, in _run_trial\n",
            "    value_or_values = func(trial)\n",
            "  File \"<ipython-input-21-d965395ef5c4>\", line 19, in objective\n",
            "    train_losses, val_losses, train_acc, val_acc = train_VAE(trial, model, train_loader, val_loader, optimizer, epoch, alpha, beta, gamma, delta)\n",
            "  File \"<ipython-input-20-7332cc24dcc1>\", line 44, in train_VAE\n",
            "    optimizer.step()\n",
            "  File \"/usr/local/lib/python3.9/dist-packages/torch/optim/optimizer.py\", line 140, in wrapper\n",
            "    out = func(*args, **kwargs)\n",
            "  File \"/usr/local/lib/python3.9/dist-packages/torch/optim/optimizer.py\", line 23, in _use_grad\n",
            "    ret = func(self, *args, **kwargs)\n",
            "  File \"/usr/local/lib/python3.9/dist-packages/torch/optim/adam.py\", line 234, in step\n",
            "    adam(params_with_grad,\n",
            "  File \"/usr/local/lib/python3.9/dist-packages/torch/optim/adam.py\", line 300, in adam\n",
            "    func(params,\n",
            "  File \"/usr/local/lib/python3.9/dist-packages/torch/optim/adam.py\", line 412, in _single_tensor_adam\n",
            "    param.addcdiv_(exp_avg, denom, value=-step_size)\n",
            "KeyboardInterrupt\n",
            "\u001b[33m[W 2023-03-18 02:45:15,501]\u001b[0m Trial 123 failed with value None.\u001b[0m\n"
          ]
        },
        {
          "output_type": "error",
          "ename": "KeyboardInterrupt",
          "evalue": "ignored",
          "traceback": [
            "\u001b[0;31m---------------------------------------------------------------------------\u001b[0m",
            "\u001b[0;31mKeyboardInterrupt\u001b[0m                         Traceback (most recent call last)",
            "\u001b[0;32m<ipython-input-22-db2f2820d934>\u001b[0m in \u001b[0;36m<module>\u001b[0;34m\u001b[0m\n\u001b[1;32m      4\u001b[0m     \u001b[0mpruner\u001b[0m\u001b[0;34m=\u001b[0m\u001b[0mThresholdPruner\u001b[0m\u001b[0;34m(\u001b[0m\u001b[0mlower\u001b[0m\u001b[0;34m=\u001b[0m\u001b[0;36m0.3\u001b[0m\u001b[0;34m,\u001b[0m \u001b[0mn_warmup_steps\u001b[0m\u001b[0;34m=\u001b[0m\u001b[0;36m3\u001b[0m\u001b[0;34m,\u001b[0m \u001b[0minterval_steps\u001b[0m\u001b[0;34m=\u001b[0m\u001b[0;36m1\u001b[0m\u001b[0;34m)\u001b[0m\u001b[0;34m,\u001b[0m\u001b[0;34m\u001b[0m\u001b[0;34m\u001b[0m\u001b[0m\n\u001b[1;32m      5\u001b[0m     direction='maximize')\n\u001b[0;32m----> 6\u001b[0;31m \u001b[0mstudy\u001b[0m\u001b[0;34m.\u001b[0m\u001b[0moptimize\u001b[0m\u001b[0;34m(\u001b[0m\u001b[0mfunc\u001b[0m\u001b[0;34m=\u001b[0m\u001b[0mobjective\u001b[0m\u001b[0;34m,\u001b[0m \u001b[0mn_trials\u001b[0m\u001b[0;34m=\u001b[0m\u001b[0;36m200\u001b[0m\u001b[0;34m)\u001b[0m\u001b[0;34m\u001b[0m\u001b[0;34m\u001b[0m\u001b[0m\n\u001b[0m",
            "\u001b[0;32m/usr/local/lib/python3.9/dist-packages/optuna/study/study.py\u001b[0m in \u001b[0;36moptimize\u001b[0;34m(self, func, n_trials, timeout, n_jobs, catch, callbacks, gc_after_trial, show_progress_bar)\u001b[0m\n\u001b[1;32m    423\u001b[0m         \"\"\"\n\u001b[1;32m    424\u001b[0m \u001b[0;34m\u001b[0m\u001b[0m\n\u001b[0;32m--> 425\u001b[0;31m         _optimize(\n\u001b[0m\u001b[1;32m    426\u001b[0m             \u001b[0mstudy\u001b[0m\u001b[0;34m=\u001b[0m\u001b[0mself\u001b[0m\u001b[0;34m,\u001b[0m\u001b[0;34m\u001b[0m\u001b[0;34m\u001b[0m\u001b[0m\n\u001b[1;32m    427\u001b[0m             \u001b[0mfunc\u001b[0m\u001b[0;34m=\u001b[0m\u001b[0mfunc\u001b[0m\u001b[0;34m,\u001b[0m\u001b[0;34m\u001b[0m\u001b[0;34m\u001b[0m\u001b[0m\n",
            "\u001b[0;32m/usr/local/lib/python3.9/dist-packages/optuna/study/_optimize.py\u001b[0m in \u001b[0;36m_optimize\u001b[0;34m(study, func, n_trials, timeout, n_jobs, catch, callbacks, gc_after_trial, show_progress_bar)\u001b[0m\n\u001b[1;32m     64\u001b[0m     \u001b[0;32mtry\u001b[0m\u001b[0;34m:\u001b[0m\u001b[0;34m\u001b[0m\u001b[0;34m\u001b[0m\u001b[0m\n\u001b[1;32m     65\u001b[0m         \u001b[0;32mif\u001b[0m \u001b[0mn_jobs\u001b[0m \u001b[0;34m==\u001b[0m \u001b[0;36m1\u001b[0m\u001b[0;34m:\u001b[0m\u001b[0;34m\u001b[0m\u001b[0;34m\u001b[0m\u001b[0m\n\u001b[0;32m---> 66\u001b[0;31m             _optimize_sequential(\n\u001b[0m\u001b[1;32m     67\u001b[0m                 \u001b[0mstudy\u001b[0m\u001b[0;34m,\u001b[0m\u001b[0;34m\u001b[0m\u001b[0;34m\u001b[0m\u001b[0m\n\u001b[1;32m     68\u001b[0m                 \u001b[0mfunc\u001b[0m\u001b[0;34m,\u001b[0m\u001b[0;34m\u001b[0m\u001b[0;34m\u001b[0m\u001b[0m\n",
            "\u001b[0;32m/usr/local/lib/python3.9/dist-packages/optuna/study/_optimize.py\u001b[0m in \u001b[0;36m_optimize_sequential\u001b[0;34m(study, func, n_trials, timeout, catch, callbacks, gc_after_trial, reseed_sampler_rng, time_start, progress_bar)\u001b[0m\n\u001b[1;32m    161\u001b[0m \u001b[0;34m\u001b[0m\u001b[0m\n\u001b[1;32m    162\u001b[0m         \u001b[0;32mtry\u001b[0m\u001b[0;34m:\u001b[0m\u001b[0;34m\u001b[0m\u001b[0;34m\u001b[0m\u001b[0m\n\u001b[0;32m--> 163\u001b[0;31m             \u001b[0mfrozen_trial\u001b[0m \u001b[0;34m=\u001b[0m \u001b[0m_run_trial\u001b[0m\u001b[0;34m(\u001b[0m\u001b[0mstudy\u001b[0m\u001b[0;34m,\u001b[0m \u001b[0mfunc\u001b[0m\u001b[0;34m,\u001b[0m \u001b[0mcatch\u001b[0m\u001b[0;34m)\u001b[0m\u001b[0;34m\u001b[0m\u001b[0;34m\u001b[0m\u001b[0m\n\u001b[0m\u001b[1;32m    164\u001b[0m         \u001b[0;32mfinally\u001b[0m\u001b[0;34m:\u001b[0m\u001b[0;34m\u001b[0m\u001b[0;34m\u001b[0m\u001b[0m\n\u001b[1;32m    165\u001b[0m             \u001b[0;31m# The following line mitigates memory problems that can be occurred in some\u001b[0m\u001b[0;34m\u001b[0m\u001b[0;34m\u001b[0m\u001b[0m\n",
            "\u001b[0;32m/usr/local/lib/python3.9/dist-packages/optuna/study/_optimize.py\u001b[0m in \u001b[0;36m_run_trial\u001b[0;34m(study, func, catch)\u001b[0m\n\u001b[1;32m    249\u001b[0m         \u001b[0;32mand\u001b[0m \u001b[0;32mnot\u001b[0m \u001b[0misinstance\u001b[0m\u001b[0;34m(\u001b[0m\u001b[0mfunc_err\u001b[0m\u001b[0;34m,\u001b[0m \u001b[0mcatch\u001b[0m\u001b[0;34m)\u001b[0m\u001b[0;34m\u001b[0m\u001b[0;34m\u001b[0m\u001b[0m\n\u001b[1;32m    250\u001b[0m     ):\n\u001b[0;32m--> 251\u001b[0;31m         \u001b[0;32mraise\u001b[0m \u001b[0mfunc_err\u001b[0m\u001b[0;34m\u001b[0m\u001b[0;34m\u001b[0m\u001b[0m\n\u001b[0m\u001b[1;32m    252\u001b[0m     \u001b[0;32mreturn\u001b[0m \u001b[0mfrozen_trial\u001b[0m\u001b[0;34m\u001b[0m\u001b[0;34m\u001b[0m\u001b[0m\n\u001b[1;32m    253\u001b[0m \u001b[0;34m\u001b[0m\u001b[0m\n",
            "\u001b[0;32m/usr/local/lib/python3.9/dist-packages/optuna/study/_optimize.py\u001b[0m in \u001b[0;36m_run_trial\u001b[0;34m(study, func, catch)\u001b[0m\n\u001b[1;32m    198\u001b[0m     \u001b[0;32mwith\u001b[0m \u001b[0mget_heartbeat_thread\u001b[0m\u001b[0;34m(\u001b[0m\u001b[0mtrial\u001b[0m\u001b[0;34m.\u001b[0m\u001b[0m_trial_id\u001b[0m\u001b[0;34m,\u001b[0m \u001b[0mstudy\u001b[0m\u001b[0;34m.\u001b[0m\u001b[0m_storage\u001b[0m\u001b[0;34m)\u001b[0m\u001b[0;34m:\u001b[0m\u001b[0;34m\u001b[0m\u001b[0;34m\u001b[0m\u001b[0m\n\u001b[1;32m    199\u001b[0m         \u001b[0;32mtry\u001b[0m\u001b[0;34m:\u001b[0m\u001b[0;34m\u001b[0m\u001b[0;34m\u001b[0m\u001b[0m\n\u001b[0;32m--> 200\u001b[0;31m             \u001b[0mvalue_or_values\u001b[0m \u001b[0;34m=\u001b[0m \u001b[0mfunc\u001b[0m\u001b[0;34m(\u001b[0m\u001b[0mtrial\u001b[0m\u001b[0;34m)\u001b[0m\u001b[0;34m\u001b[0m\u001b[0;34m\u001b[0m\u001b[0m\n\u001b[0m\u001b[1;32m    201\u001b[0m         \u001b[0;32mexcept\u001b[0m \u001b[0mexceptions\u001b[0m\u001b[0;34m.\u001b[0m\u001b[0mTrialPruned\u001b[0m \u001b[0;32mas\u001b[0m \u001b[0me\u001b[0m\u001b[0;34m:\u001b[0m\u001b[0;34m\u001b[0m\u001b[0;34m\u001b[0m\u001b[0m\n\u001b[1;32m    202\u001b[0m             \u001b[0;31m# TODO(mamu): Handle multi-objective cases.\u001b[0m\u001b[0;34m\u001b[0m\u001b[0;34m\u001b[0m\u001b[0m\n",
            "\u001b[0;32m<ipython-input-21-d965395ef5c4>\u001b[0m in \u001b[0;36mobjective\u001b[0;34m(trial)\u001b[0m\n\u001b[1;32m     17\u001b[0m \u001b[0;34m\u001b[0m\u001b[0m\n\u001b[1;32m     18\u001b[0m   \u001b[0;32mfor\u001b[0m \u001b[0mepoch\u001b[0m \u001b[0;32min\u001b[0m \u001b[0mrange\u001b[0m\u001b[0;34m(\u001b[0m\u001b[0mparams\u001b[0m\u001b[0;34m[\u001b[0m\u001b[0;34m'num_epochs'\u001b[0m\u001b[0;34m]\u001b[0m\u001b[0;34m)\u001b[0m\u001b[0;34m:\u001b[0m\u001b[0;34m\u001b[0m\u001b[0;34m\u001b[0m\u001b[0m\n\u001b[0;32m---> 19\u001b[0;31m     \u001b[0mtrain_losses\u001b[0m\u001b[0;34m,\u001b[0m \u001b[0mval_losses\u001b[0m\u001b[0;34m,\u001b[0m \u001b[0mtrain_acc\u001b[0m\u001b[0;34m,\u001b[0m \u001b[0mval_acc\u001b[0m \u001b[0;34m=\u001b[0m \u001b[0mtrain_VAE\u001b[0m\u001b[0;34m(\u001b[0m\u001b[0mtrial\u001b[0m\u001b[0;34m,\u001b[0m \u001b[0mmodel\u001b[0m\u001b[0;34m,\u001b[0m \u001b[0mtrain_loader\u001b[0m\u001b[0;34m,\u001b[0m \u001b[0mval_loader\u001b[0m\u001b[0;34m,\u001b[0m \u001b[0moptimizer\u001b[0m\u001b[0;34m,\u001b[0m \u001b[0mepoch\u001b[0m\u001b[0;34m,\u001b[0m \u001b[0malpha\u001b[0m\u001b[0;34m,\u001b[0m \u001b[0mbeta\u001b[0m\u001b[0;34m,\u001b[0m \u001b[0mgamma\u001b[0m\u001b[0;34m,\u001b[0m \u001b[0mdelta\u001b[0m\u001b[0;34m)\u001b[0m\u001b[0;34m\u001b[0m\u001b[0;34m\u001b[0m\u001b[0m\n\u001b[0m\u001b[1;32m     20\u001b[0m   \u001b[0;32mreturn\u001b[0m \u001b[0mtrain_acc\u001b[0m\u001b[0;34m\u001b[0m\u001b[0;34m\u001b[0m\u001b[0m\n",
            "\u001b[0;32m<ipython-input-20-7332cc24dcc1>\u001b[0m in \u001b[0;36mtrain_VAE\u001b[0;34m(trial, model, train_loader, val_loader, optimizer, epoch, alpha, beta, gamma, delta)\u001b[0m\n\u001b[1;32m     42\u001b[0m \u001b[0;34m\u001b[0m\u001b[0m\n\u001b[1;32m     43\u001b[0m     \u001b[0mloss\u001b[0m\u001b[0;34m.\u001b[0m\u001b[0mbackward\u001b[0m\u001b[0;34m(\u001b[0m\u001b[0;34m)\u001b[0m\u001b[0;34m\u001b[0m\u001b[0;34m\u001b[0m\u001b[0m\n\u001b[0;32m---> 44\u001b[0;31m     \u001b[0moptimizer\u001b[0m\u001b[0;34m.\u001b[0m\u001b[0mstep\u001b[0m\u001b[0;34m(\u001b[0m\u001b[0;34m)\u001b[0m\u001b[0;34m\u001b[0m\u001b[0;34m\u001b[0m\u001b[0m\n\u001b[0m\u001b[1;32m     45\u001b[0m \u001b[0;34m\u001b[0m\u001b[0m\n\u001b[1;32m     46\u001b[0m     \u001b[0mtrain_running_loss\u001b[0m \u001b[0;34m+=\u001b[0m \u001b[0mloss\u001b[0m\u001b[0;34m.\u001b[0m\u001b[0mitem\u001b[0m\u001b[0;34m(\u001b[0m\u001b[0;34m)\u001b[0m\u001b[0;34m\u001b[0m\u001b[0;34m\u001b[0m\u001b[0m\n",
            "\u001b[0;32m/usr/local/lib/python3.9/dist-packages/torch/optim/optimizer.py\u001b[0m in \u001b[0;36mwrapper\u001b[0;34m(*args, **kwargs)\u001b[0m\n\u001b[1;32m    138\u001b[0m                 \u001b[0mprofile_name\u001b[0m \u001b[0;34m=\u001b[0m \u001b[0;34m\"Optimizer.step#{}.step\"\u001b[0m\u001b[0;34m.\u001b[0m\u001b[0mformat\u001b[0m\u001b[0;34m(\u001b[0m\u001b[0mobj\u001b[0m\u001b[0;34m.\u001b[0m\u001b[0m__class__\u001b[0m\u001b[0;34m.\u001b[0m\u001b[0m__name__\u001b[0m\u001b[0;34m)\u001b[0m\u001b[0;34m\u001b[0m\u001b[0;34m\u001b[0m\u001b[0m\n\u001b[1;32m    139\u001b[0m                 \u001b[0;32mwith\u001b[0m \u001b[0mtorch\u001b[0m\u001b[0;34m.\u001b[0m\u001b[0mautograd\u001b[0m\u001b[0;34m.\u001b[0m\u001b[0mprofiler\u001b[0m\u001b[0;34m.\u001b[0m\u001b[0mrecord_function\u001b[0m\u001b[0;34m(\u001b[0m\u001b[0mprofile_name\u001b[0m\u001b[0;34m)\u001b[0m\u001b[0;34m:\u001b[0m\u001b[0;34m\u001b[0m\u001b[0;34m\u001b[0m\u001b[0m\n\u001b[0;32m--> 140\u001b[0;31m                     \u001b[0mout\u001b[0m \u001b[0;34m=\u001b[0m \u001b[0mfunc\u001b[0m\u001b[0;34m(\u001b[0m\u001b[0;34m*\u001b[0m\u001b[0margs\u001b[0m\u001b[0;34m,\u001b[0m \u001b[0;34m**\u001b[0m\u001b[0mkwargs\u001b[0m\u001b[0;34m)\u001b[0m\u001b[0;34m\u001b[0m\u001b[0;34m\u001b[0m\u001b[0m\n\u001b[0m\u001b[1;32m    141\u001b[0m                     \u001b[0mobj\u001b[0m\u001b[0;34m.\u001b[0m\u001b[0m_optimizer_step_code\u001b[0m\u001b[0;34m(\u001b[0m\u001b[0;34m)\u001b[0m\u001b[0;34m\u001b[0m\u001b[0;34m\u001b[0m\u001b[0m\n\u001b[1;32m    142\u001b[0m                     \u001b[0;32mreturn\u001b[0m \u001b[0mout\u001b[0m\u001b[0;34m\u001b[0m\u001b[0;34m\u001b[0m\u001b[0m\n",
            "\u001b[0;32m/usr/local/lib/python3.9/dist-packages/torch/optim/optimizer.py\u001b[0m in \u001b[0;36m_use_grad\u001b[0;34m(self, *args, **kwargs)\u001b[0m\n\u001b[1;32m     21\u001b[0m         \u001b[0;32mtry\u001b[0m\u001b[0;34m:\u001b[0m\u001b[0;34m\u001b[0m\u001b[0;34m\u001b[0m\u001b[0m\n\u001b[1;32m     22\u001b[0m             \u001b[0mtorch\u001b[0m\u001b[0;34m.\u001b[0m\u001b[0mset_grad_enabled\u001b[0m\u001b[0;34m(\u001b[0m\u001b[0mself\u001b[0m\u001b[0;34m.\u001b[0m\u001b[0mdefaults\u001b[0m\u001b[0;34m[\u001b[0m\u001b[0;34m'differentiable'\u001b[0m\u001b[0;34m]\u001b[0m\u001b[0;34m)\u001b[0m\u001b[0;34m\u001b[0m\u001b[0;34m\u001b[0m\u001b[0m\n\u001b[0;32m---> 23\u001b[0;31m             \u001b[0mret\u001b[0m \u001b[0;34m=\u001b[0m \u001b[0mfunc\u001b[0m\u001b[0;34m(\u001b[0m\u001b[0mself\u001b[0m\u001b[0;34m,\u001b[0m \u001b[0;34m*\u001b[0m\u001b[0margs\u001b[0m\u001b[0;34m,\u001b[0m \u001b[0;34m**\u001b[0m\u001b[0mkwargs\u001b[0m\u001b[0;34m)\u001b[0m\u001b[0;34m\u001b[0m\u001b[0;34m\u001b[0m\u001b[0m\n\u001b[0m\u001b[1;32m     24\u001b[0m         \u001b[0;32mfinally\u001b[0m\u001b[0;34m:\u001b[0m\u001b[0;34m\u001b[0m\u001b[0;34m\u001b[0m\u001b[0m\n\u001b[1;32m     25\u001b[0m             \u001b[0mtorch\u001b[0m\u001b[0;34m.\u001b[0m\u001b[0mset_grad_enabled\u001b[0m\u001b[0;34m(\u001b[0m\u001b[0mprev_grad\u001b[0m\u001b[0;34m)\u001b[0m\u001b[0;34m\u001b[0m\u001b[0;34m\u001b[0m\u001b[0m\n",
            "\u001b[0;32m/usr/local/lib/python3.9/dist-packages/torch/optim/adam.py\u001b[0m in \u001b[0;36mstep\u001b[0;34m(self, closure, grad_scaler)\u001b[0m\n\u001b[1;32m    232\u001b[0m                     \u001b[0mstate_steps\u001b[0m\u001b[0;34m.\u001b[0m\u001b[0mappend\u001b[0m\u001b[0;34m(\u001b[0m\u001b[0mstate\u001b[0m\u001b[0;34m[\u001b[0m\u001b[0;34m'step'\u001b[0m\u001b[0;34m]\u001b[0m\u001b[0;34m)\u001b[0m\u001b[0;34m\u001b[0m\u001b[0;34m\u001b[0m\u001b[0m\n\u001b[1;32m    233\u001b[0m \u001b[0;34m\u001b[0m\u001b[0m\n\u001b[0;32m--> 234\u001b[0;31m             adam(params_with_grad,\n\u001b[0m\u001b[1;32m    235\u001b[0m                  \u001b[0mgrads\u001b[0m\u001b[0;34m,\u001b[0m\u001b[0;34m\u001b[0m\u001b[0;34m\u001b[0m\u001b[0m\n\u001b[1;32m    236\u001b[0m                  \u001b[0mexp_avgs\u001b[0m\u001b[0;34m,\u001b[0m\u001b[0;34m\u001b[0m\u001b[0;34m\u001b[0m\u001b[0m\n",
            "\u001b[0;32m/usr/local/lib/python3.9/dist-packages/torch/optim/adam.py\u001b[0m in \u001b[0;36madam\u001b[0;34m(params, grads, exp_avgs, exp_avg_sqs, max_exp_avg_sqs, state_steps, foreach, capturable, differentiable, fused, grad_scale, found_inf, amsgrad, beta1, beta2, lr, weight_decay, eps, maximize)\u001b[0m\n\u001b[1;32m    298\u001b[0m         \u001b[0mfunc\u001b[0m \u001b[0;34m=\u001b[0m \u001b[0m_single_tensor_adam\u001b[0m\u001b[0;34m\u001b[0m\u001b[0;34m\u001b[0m\u001b[0m\n\u001b[1;32m    299\u001b[0m \u001b[0;34m\u001b[0m\u001b[0m\n\u001b[0;32m--> 300\u001b[0;31m     func(params,\n\u001b[0m\u001b[1;32m    301\u001b[0m          \u001b[0mgrads\u001b[0m\u001b[0;34m,\u001b[0m\u001b[0;34m\u001b[0m\u001b[0;34m\u001b[0m\u001b[0m\n\u001b[1;32m    302\u001b[0m          \u001b[0mexp_avgs\u001b[0m\u001b[0;34m,\u001b[0m\u001b[0;34m\u001b[0m\u001b[0;34m\u001b[0m\u001b[0m\n",
            "\u001b[0;32m/usr/local/lib/python3.9/dist-packages/torch/optim/adam.py\u001b[0m in \u001b[0;36m_single_tensor_adam\u001b[0;34m(params, grads, exp_avgs, exp_avg_sqs, max_exp_avg_sqs, state_steps, grad_scale, found_inf, amsgrad, beta1, beta2, lr, weight_decay, eps, maximize, capturable, differentiable)\u001b[0m\n\u001b[1;32m    410\u001b[0m                 \u001b[0mdenom\u001b[0m \u001b[0;34m=\u001b[0m \u001b[0;34m(\u001b[0m\u001b[0mexp_avg_sq\u001b[0m\u001b[0;34m.\u001b[0m\u001b[0msqrt\u001b[0m\u001b[0;34m(\u001b[0m\u001b[0;34m)\u001b[0m \u001b[0;34m/\u001b[0m \u001b[0mbias_correction2_sqrt\u001b[0m\u001b[0;34m)\u001b[0m\u001b[0;34m.\u001b[0m\u001b[0madd_\u001b[0m\u001b[0;34m(\u001b[0m\u001b[0meps\u001b[0m\u001b[0;34m)\u001b[0m\u001b[0;34m\u001b[0m\u001b[0;34m\u001b[0m\u001b[0m\n\u001b[1;32m    411\u001b[0m \u001b[0;34m\u001b[0m\u001b[0m\n\u001b[0;32m--> 412\u001b[0;31m             \u001b[0mparam\u001b[0m\u001b[0;34m.\u001b[0m\u001b[0maddcdiv_\u001b[0m\u001b[0;34m(\u001b[0m\u001b[0mexp_avg\u001b[0m\u001b[0;34m,\u001b[0m \u001b[0mdenom\u001b[0m\u001b[0;34m,\u001b[0m \u001b[0mvalue\u001b[0m\u001b[0;34m=\u001b[0m\u001b[0;34m-\u001b[0m\u001b[0mstep_size\u001b[0m\u001b[0;34m)\u001b[0m\u001b[0;34m\u001b[0m\u001b[0;34m\u001b[0m\u001b[0m\n\u001b[0m\u001b[1;32m    413\u001b[0m \u001b[0;34m\u001b[0m\u001b[0m\n\u001b[1;32m    414\u001b[0m \u001b[0;34m\u001b[0m\u001b[0m\n",
            "\u001b[0;31mKeyboardInterrupt\u001b[0m: "
          ]
        }
      ],
      "source": [
        "sampler = optuna.samplers.TPESampler()    \n",
        "study = optuna.create_study(\n",
        "    sampler=sampler,\n",
        "    pruner=ThresholdPruner(lower=0.3, n_warmup_steps=3, interval_steps=1),\n",
        "    direction='maximize')\n",
        "study.optimize(func=objective, n_trials=200)"
      ]
    },
    {
      "cell_type": "code",
      "execution_count": 23,
      "metadata": {
        "id": "NsAEDPdGOOj2",
        "colab": {
          "base_uri": "https://localhost:8080/"
        },
        "outputId": "d7f4419a-d23e-4c05-cfac-86ef75a2300a"
      },
      "outputs": [
        {
          "output_type": "stream",
          "name": "stdout",
          "text": [
            "Best Accuracy: 96.34%\n",
            "optuna_batch_size= 176\n",
            "optimizer= Adam\n",
            "lr= 0.00934514910614952\n",
            "hidden_dim= 801\n",
            "alpha= 0\n",
            "beta= 7\n",
            "gamma= 6\n",
            "delta= 9\n"
          ]
        }
      ],
      "source": [
        "best_trial = study.best_trial\n",
        "print(f\"Best Accuracy: {study.best_value*100:.2f}%\")\n",
        "for key, value in best_trial.params.items():\n",
        "    print(\"{}= {}\".format(key, value))"
      ]
    },
    {
      "cell_type": "code",
      "execution_count": 24,
      "metadata": {
        "id": "lRYaeU6SFLeL",
        "colab": {
          "base_uri": "https://localhost:8080/",
          "height": 542
        },
        "outputId": "ca717774-6dcf-4033-a656-2db7beaf5761"
      },
      "outputs": [
        {
          "output_type": "display_data",
          "data": {
            "text/html": [
              "<html>\n",
              "<head><meta charset=\"utf-8\" /></head>\n",
              "<body>\n",
              "    <div>            <script src=\"https://cdnjs.cloudflare.com/ajax/libs/mathjax/2.7.5/MathJax.js?config=TeX-AMS-MML_SVG\"></script><script type=\"text/javascript\">if (window.MathJax) {MathJax.Hub.Config({SVG: {font: \"STIX-Web\"}});}</script>                <script type=\"text/javascript\">window.PlotlyConfig = {MathJaxConfig: 'local'};</script>\n",
              "        <script src=\"https://cdn.plot.ly/plotly-2.8.3.min.js\"></script>                <div id=\"83be29ef-d85e-4039-ac69-4c4e92e4b15a\" class=\"plotly-graph-div\" style=\"height:525px; width:100%;\"></div>            <script type=\"text/javascript\">                                    window.PLOTLYENV=window.PLOTLYENV || {};                                    if (document.getElementById(\"83be29ef-d85e-4039-ac69-4c4e92e4b15a\")) {                    Plotly.newPlot(                        \"83be29ef-d85e-4039-ac69-4c4e92e4b15a\",                        [{\"dimensions\":[{\"label\":\"Objective Value\",\"range\":[0.5342073809830278,0.9633579876854479],\"values\":[0.6041932720322027,0.678854983701249,0.6067314502893681,0.8164077422695987,0.6915694063825122,0.6877269977451463,0.7145571443723105,0.928888888888889,0.6470505002306062,0.9585126527801691,0.7635766147271225,0.8408514755684564,0.5767745722115528,0.8950788995950307,0.6954910281708364,0.6380783782529112,0.9269494912325499,0.8092450688236134,0.7250455240891877,0.851016342053026,0.5342073809830278,0.6595338499787371,0.7228221254636349,0.7252547517814623,0.7395787642982596,0.7065651591096465,0.8655823972734257,0.7379051360928809,0.8821542978491471,0.8045969092775709,0.7101332393157628,0.7939859206214348,0.5659768704520326,0.7873141972296023,0.7660211320754714,0.7384910236613483,0.6885089888815197,0.890690464219875,0.8233977854206871,0.8561731284135518,0.819051255798371,0.6901266240103806,0.7998177574994749,0.7226543817457977,0.8790545573673323,0.770169095538362,0.6549984660865686,0.6993547101051983,0.6719043224119361,0.9355136268343813,0.8011788911063255,0.694723479078896,0.8015673517443703,0.8780540996089257,0.6901688787403065,0.7715253637730357,0.7931681942505577,0.6168083271741807,0.7776426411290324,0.9498208099867491,0.8094805433186485,0.7043212839329102,0.9514518770471183,0.9230296055692897,0.9044117647058812,0.8302605570530103,0.6057436494085707,0.7206832062184042,0.834860298399021,0.8141167022271231,0.7501126881155371,0.665646376811593,0.7418397342032755,0.881700777765253,0.7504842016654127,0.8606525695225923,0.8901908485779475,0.7527880446051078,0.8720493979383276,0.571324161193442,0.6083307229790129,0.8664172102551192,0.8281407862452193,0.7702359323980941,0.9047468031405791,0.728647208064414,0.8128285818917635,0.723939687147234,0.9633579876854479,0.7503169049792107,0.6742545699067439,0.7481519240298621,0.7367663553927866,0.7971858082588433,0.633004768139903,0.6230311493710882,0.8741923466996054,0.5716668277283851,0.8981009380788315,0.8815893031556717,0.6528121799313654,0.6946232728936609,0.8251654519561055,0.8216297275725007,0.7111297363366506,0.7748082557931124,0.8996710208030969,0.55909071844986,0.7407799111283376,0.8854018417510496,0.6228117053678737]},{\"label\":\"alpha\",\"range\":[0,10],\"values\":[4,2,7,8,1,4,10,10,10,10,10,5,9,6,9,3,0,0,0,2,9,5,10,6,3,4,9,6,8,6,7,4,9,8,3,8,7,10,10,9,5,10,1,9,8,10,7,9,10,6,6,5,6,7,8,10,9,4,6,5,0,5,6,6,6,5,7,6,3,7,6,4,6,6,5,7,5,6,4,7,5,10,6,9,0,0,1,1,0,0,0,0,1,0,2,6,3,7,0,0,1,0,0,6,1,5,0,0,1,0,0]},{\"label\":\"beta\",\"range\":[0,10],\"values\":[10,0,3,1,0,4,7,6,6,7,8,5,8,6,8,5,7,7,7,6,9,4,9,5,7,6,9,6,6,4,5,7,10,6,7,6,6,8,8,7,8,5,8,6,5,7,4,6,7,8,8,10,9,8,6,7,9,6,0,5,5,4,7,8,7,7,8,7,7,8,7,9,5,6,6,8,7,6,5,8,6,8,8,7,9,9,9,7,7,8,7,6,5,7,6,8,7,6,5,4,5,5,4,7,9,5,7,7,8,7,6]},{\"label\":\"delta\",\"range\":[0,10],\"values\":[0,7,5,7,2,9,8,8,3,10,10,9,8,10,8,3,9,9,9,10,7,8,6,9,10,1,5,10,9,10,7,9,4,6,7,9,10,8,8,8,7,9,10,9,9,9,10,6,8,9,10,8,7,9,9,10,9,10,8,9,7,9,9,10,10,10,10,9,10,9,10,10,10,9,9,3,9,10,5,10,9,8,9,8,10,10,10,9,9,9,10,9,10,9,10,8,9,10,9,8,9,9,10,9,10,9,9,8,9,9,10]},{\"label\":\"gamma\",\"range\":[0,10],\"values\":[6,1,0,9,3,9,10,10,8,7,7,6,10,8,5,7,3,3,2,4,5,2,9,6,8,6,4,8,7,10,8,7,9,3,5,7,7,8,8,8,1,6,10,7,6,8,4,7,2,5,5,1,3,6,9,8,5,7,6,8,4,8,7,7,7,7,6,6,5,7,7,10,8,8,7,3,6,9,4,7,2,8,8,7,0,0,1,3,6,6,7,5,6,7,6,7,5,4,10,10,10,9,10,9,1,10,7,7,6,8,7]},{\"label\":\"hidden_dim\",\"range\":[112,994],\"values\":[857,159,294,696,529,479,694,705,990,656,633,823,994,409,616,604,758,752,896,701,766,922,615,796,688,903,576,416,406,269,473,190,742,663,487,363,409,112,128,113,657,813,731,512,448,254,349,785,712,578,664,573,581,638,165,529,302,382,441,609,606,718,629,631,638,634,766,552,644,590,682,620,497,563,600,694,733,664,627,773,822,652,595,714,676,680,755,514,801,861,743,799,675,563,696,951,647,838,720,723,792,627,700,657,582,747,613,614,633,772,661]},{\"label\":\"lr\",\"range\":[0.0007578141392989757,0.00999687023176906],\"values\":[0.004051849855739276,0.002722277025487078,0.0007578141392989757,0.00818175550348311,0.009529509832233206,0.0014917195336417526,0.005503001381885199,0.005897994275222237,0.005678659077869902,0.009656988494695613,0.009746567407136295,0.004282083280330081,0.006272127124625823,0.008035534760574907,0.004706753575347085,0.009920943380370216,0.007346076126315902,0.007367026524391258,0.008854572484634745,0.006405695529224112,0.008956022648415723,0.00749941948764706,0.007883624293384156,0.00894841336784372,0.006651385422265094,0.0058229563164784335,0.003473168184973162,0.007692580192017772,0.007192001840018754,0.008306464287010845,0.007797240029161409,0.005137927056127781,0.009299914383117709,0.00856343166839375,0.009493342237403375,0.006913921172482509,0.007352333007469954,0.008035587730045925,0.007959446123360563,0.009972618031377336,0.009254375786181991,0.0082048246957102,0.006115379157010171,0.007208063677031404,0.00756573591782005,0.008017650256428374,0.006482138955295565,0.007183779332096041,0.008678695053644176,0.009096433395847172,0.009003910841561706,0.009472748467436067,0.009097324794827636,0.009700377131322737,0.00814782556122632,0.0076904928256477136,0.008601578036520535,0.008840224746173317,0.006026421111851547,0.008352835418283225,0.0083717673161058,0.00796698753665218,0.007548097032820144,0.007551610687001889,0.00753633545812771,0.006581020021992592,0.007627442836312184,0.007395903747965578,0.008405294883036341,0.00703643025119259,0.006728899005664664,0.00746071242452025,0.007754862995322572,0.0088408441052417,0.008287702389275904,0.007086965706073089,0.009684285800926755,0.00788871786953854,0.00818857572483664,0.0073393675529824925,0.006912432137635682,0.008060605263140896,0.008538971617932614,0.007666843383210968,0.007848180662389546,0.007846406980188333,0.008756722499846728,0.009074099754904764,0.00934514910614952,0.009444217234816808,0.008504996199423546,0.009303509958560366,0.008921633540516123,0.007210054930235237,0.008255038551436904,0.006635307973024777,0.009714174287939975,0.00781369176609848,0.009917147896850085,0.009837076814033502,0.00999687023176906,0.009466221527111105,0.0093309412552395,0.009089418093325297,0.0096379515938937,0.008436269900126622,0.008681592182454415,0.009889214247903774,0.008680160720041437,0.009152228717725407,0.008764868328686854]},{\"label\":\"optimizer\",\"range\":[0,1],\"ticktext\":[\"Adam\",\"RMSprop\"],\"tickvals\":[0,1],\"values\":[0,0,1,0,0,1,0,0,0,0,0,0,0,0,0,0,0,0,0,0,0,0,0,0,0,0,0,0,0,0,0,1,0,0,0,0,0,0,0,0,0,0,0,0,0,0,0,0,0,0,0,0,0,0,0,0,0,0,0,0,0,0,0,0,0,0,0,0,0,0,0,0,0,0,0,0,0,0,0,0,0,0,0,0,0,0,0,0,0,0,0,0,0,0,0,0,0,0,0,0,0,0,0,0,0,0,0,0,0,0,0]},{\"label\":\"optuna_batch_size\",\"range\":[100,982],\"values\":[726,796,227,383,394,275,116,106,535,152,142,100,383,217,604,320,172,189,173,292,457,629,100,218,322,873,192,232,162,240,427,341,982,683,212,142,162,136,131,192,814,358,105,165,134,210,249,169,121,100,104,201,286,146,195,174,232,533,128,157,105,178,147,126,153,150,191,122,261,101,152,127,211,170,151,244,217,598,124,312,730,139,160,117,139,184,204,100,176,173,416,132,220,141,117,876,276,199,161,163,466,189,138,235,115,172,100,113,145,126,151]}],\"labelangle\":30,\"labelside\":\"bottom\",\"line\":{\"color\":[0.6041932720322027,0.678854983701249,0.6067314502893681,0.8164077422695987,0.6915694063825122,0.6877269977451463,0.7145571443723105,0.928888888888889,0.6470505002306062,0.9585126527801691,0.7635766147271225,0.8408514755684564,0.5767745722115528,0.8950788995950307,0.6954910281708364,0.6380783782529112,0.9269494912325499,0.8092450688236134,0.7250455240891877,0.851016342053026,0.5342073809830278,0.6595338499787371,0.7228221254636349,0.7252547517814623,0.7395787642982596,0.7065651591096465,0.8655823972734257,0.7379051360928809,0.8821542978491471,0.8045969092775709,0.7101332393157628,0.7939859206214348,0.5659768704520326,0.7873141972296023,0.7660211320754714,0.7384910236613483,0.6885089888815197,0.890690464219875,0.8233977854206871,0.8561731284135518,0.819051255798371,0.6901266240103806,0.7998177574994749,0.7226543817457977,0.8790545573673323,0.770169095538362,0.6549984660865686,0.6993547101051983,0.6719043224119361,0.9355136268343813,0.8011788911063255,0.694723479078896,0.8015673517443703,0.8780540996089257,0.6901688787403065,0.7715253637730357,0.7931681942505577,0.6168083271741807,0.7776426411290324,0.9498208099867491,0.8094805433186485,0.7043212839329102,0.9514518770471183,0.9230296055692897,0.9044117647058812,0.8302605570530103,0.6057436494085707,0.7206832062184042,0.834860298399021,0.8141167022271231,0.7501126881155371,0.665646376811593,0.7418397342032755,0.881700777765253,0.7504842016654127,0.8606525695225923,0.8901908485779475,0.7527880446051078,0.8720493979383276,0.571324161193442,0.6083307229790129,0.8664172102551192,0.8281407862452193,0.7702359323980941,0.9047468031405791,0.728647208064414,0.8128285818917635,0.723939687147234,0.9633579876854479,0.7503169049792107,0.6742545699067439,0.7481519240298621,0.7367663553927866,0.7971858082588433,0.633004768139903,0.6230311493710882,0.8741923466996054,0.5716668277283851,0.8981009380788315,0.8815893031556717,0.6528121799313654,0.6946232728936609,0.8251654519561055,0.8216297275725007,0.7111297363366506,0.7748082557931124,0.8996710208030969,0.55909071844986,0.7407799111283376,0.8854018417510496,0.6228117053678737],\"colorbar\":{\"title\":{\"text\":\"Objective Value\"}},\"colorscale\":[[0.0,\"rgb(247,251,255)\"],[0.125,\"rgb(222,235,247)\"],[0.25,\"rgb(198,219,239)\"],[0.375,\"rgb(158,202,225)\"],[0.5,\"rgb(107,174,214)\"],[0.625,\"rgb(66,146,198)\"],[0.75,\"rgb(33,113,181)\"],[0.875,\"rgb(8,81,156)\"],[1.0,\"rgb(8,48,107)\"]],\"reversescale\":false,\"showscale\":true},\"type\":\"parcoords\"}],                        {\"title\":{\"text\":\"Parallel Coordinate Plot\"},\"template\":{\"data\":{\"bar\":[{\"error_x\":{\"color\":\"#2a3f5f\"},\"error_y\":{\"color\":\"#2a3f5f\"},\"marker\":{\"line\":{\"color\":\"#E5ECF6\",\"width\":0.5},\"pattern\":{\"fillmode\":\"overlay\",\"size\":10,\"solidity\":0.2}},\"type\":\"bar\"}],\"barpolar\":[{\"marker\":{\"line\":{\"color\":\"#E5ECF6\",\"width\":0.5},\"pattern\":{\"fillmode\":\"overlay\",\"size\":10,\"solidity\":0.2}},\"type\":\"barpolar\"}],\"carpet\":[{\"aaxis\":{\"endlinecolor\":\"#2a3f5f\",\"gridcolor\":\"white\",\"linecolor\":\"white\",\"minorgridcolor\":\"white\",\"startlinecolor\":\"#2a3f5f\"},\"baxis\":{\"endlinecolor\":\"#2a3f5f\",\"gridcolor\":\"white\",\"linecolor\":\"white\",\"minorgridcolor\":\"white\",\"startlinecolor\":\"#2a3f5f\"},\"type\":\"carpet\"}],\"choropleth\":[{\"colorbar\":{\"outlinewidth\":0,\"ticks\":\"\"},\"type\":\"choropleth\"}],\"contour\":[{\"colorbar\":{\"outlinewidth\":0,\"ticks\":\"\"},\"colorscale\":[[0.0,\"#0d0887\"],[0.1111111111111111,\"#46039f\"],[0.2222222222222222,\"#7201a8\"],[0.3333333333333333,\"#9c179e\"],[0.4444444444444444,\"#bd3786\"],[0.5555555555555556,\"#d8576b\"],[0.6666666666666666,\"#ed7953\"],[0.7777777777777778,\"#fb9f3a\"],[0.8888888888888888,\"#fdca26\"],[1.0,\"#f0f921\"]],\"type\":\"contour\"}],\"contourcarpet\":[{\"colorbar\":{\"outlinewidth\":0,\"ticks\":\"\"},\"type\":\"contourcarpet\"}],\"heatmap\":[{\"colorbar\":{\"outlinewidth\":0,\"ticks\":\"\"},\"colorscale\":[[0.0,\"#0d0887\"],[0.1111111111111111,\"#46039f\"],[0.2222222222222222,\"#7201a8\"],[0.3333333333333333,\"#9c179e\"],[0.4444444444444444,\"#bd3786\"],[0.5555555555555556,\"#d8576b\"],[0.6666666666666666,\"#ed7953\"],[0.7777777777777778,\"#fb9f3a\"],[0.8888888888888888,\"#fdca26\"],[1.0,\"#f0f921\"]],\"type\":\"heatmap\"}],\"heatmapgl\":[{\"colorbar\":{\"outlinewidth\":0,\"ticks\":\"\"},\"colorscale\":[[0.0,\"#0d0887\"],[0.1111111111111111,\"#46039f\"],[0.2222222222222222,\"#7201a8\"],[0.3333333333333333,\"#9c179e\"],[0.4444444444444444,\"#bd3786\"],[0.5555555555555556,\"#d8576b\"],[0.6666666666666666,\"#ed7953\"],[0.7777777777777778,\"#fb9f3a\"],[0.8888888888888888,\"#fdca26\"],[1.0,\"#f0f921\"]],\"type\":\"heatmapgl\"}],\"histogram\":[{\"marker\":{\"pattern\":{\"fillmode\":\"overlay\",\"size\":10,\"solidity\":0.2}},\"type\":\"histogram\"}],\"histogram2d\":[{\"colorbar\":{\"outlinewidth\":0,\"ticks\":\"\"},\"colorscale\":[[0.0,\"#0d0887\"],[0.1111111111111111,\"#46039f\"],[0.2222222222222222,\"#7201a8\"],[0.3333333333333333,\"#9c179e\"],[0.4444444444444444,\"#bd3786\"],[0.5555555555555556,\"#d8576b\"],[0.6666666666666666,\"#ed7953\"],[0.7777777777777778,\"#fb9f3a\"],[0.8888888888888888,\"#fdca26\"],[1.0,\"#f0f921\"]],\"type\":\"histogram2d\"}],\"histogram2dcontour\":[{\"colorbar\":{\"outlinewidth\":0,\"ticks\":\"\"},\"colorscale\":[[0.0,\"#0d0887\"],[0.1111111111111111,\"#46039f\"],[0.2222222222222222,\"#7201a8\"],[0.3333333333333333,\"#9c179e\"],[0.4444444444444444,\"#bd3786\"],[0.5555555555555556,\"#d8576b\"],[0.6666666666666666,\"#ed7953\"],[0.7777777777777778,\"#fb9f3a\"],[0.8888888888888888,\"#fdca26\"],[1.0,\"#f0f921\"]],\"type\":\"histogram2dcontour\"}],\"mesh3d\":[{\"colorbar\":{\"outlinewidth\":0,\"ticks\":\"\"},\"type\":\"mesh3d\"}],\"parcoords\":[{\"line\":{\"colorbar\":{\"outlinewidth\":0,\"ticks\":\"\"}},\"type\":\"parcoords\"}],\"pie\":[{\"automargin\":true,\"type\":\"pie\"}],\"scatter\":[{\"marker\":{\"colorbar\":{\"outlinewidth\":0,\"ticks\":\"\"}},\"type\":\"scatter\"}],\"scatter3d\":[{\"line\":{\"colorbar\":{\"outlinewidth\":0,\"ticks\":\"\"}},\"marker\":{\"colorbar\":{\"outlinewidth\":0,\"ticks\":\"\"}},\"type\":\"scatter3d\"}],\"scattercarpet\":[{\"marker\":{\"colorbar\":{\"outlinewidth\":0,\"ticks\":\"\"}},\"type\":\"scattercarpet\"}],\"scattergeo\":[{\"marker\":{\"colorbar\":{\"outlinewidth\":0,\"ticks\":\"\"}},\"type\":\"scattergeo\"}],\"scattergl\":[{\"marker\":{\"colorbar\":{\"outlinewidth\":0,\"ticks\":\"\"}},\"type\":\"scattergl\"}],\"scattermapbox\":[{\"marker\":{\"colorbar\":{\"outlinewidth\":0,\"ticks\":\"\"}},\"type\":\"scattermapbox\"}],\"scatterpolar\":[{\"marker\":{\"colorbar\":{\"outlinewidth\":0,\"ticks\":\"\"}},\"type\":\"scatterpolar\"}],\"scatterpolargl\":[{\"marker\":{\"colorbar\":{\"outlinewidth\":0,\"ticks\":\"\"}},\"type\":\"scatterpolargl\"}],\"scatterternary\":[{\"marker\":{\"colorbar\":{\"outlinewidth\":0,\"ticks\":\"\"}},\"type\":\"scatterternary\"}],\"surface\":[{\"colorbar\":{\"outlinewidth\":0,\"ticks\":\"\"},\"colorscale\":[[0.0,\"#0d0887\"],[0.1111111111111111,\"#46039f\"],[0.2222222222222222,\"#7201a8\"],[0.3333333333333333,\"#9c179e\"],[0.4444444444444444,\"#bd3786\"],[0.5555555555555556,\"#d8576b\"],[0.6666666666666666,\"#ed7953\"],[0.7777777777777778,\"#fb9f3a\"],[0.8888888888888888,\"#fdca26\"],[1.0,\"#f0f921\"]],\"type\":\"surface\"}],\"table\":[{\"cells\":{\"fill\":{\"color\":\"#EBF0F8\"},\"line\":{\"color\":\"white\"}},\"header\":{\"fill\":{\"color\":\"#C8D4E3\"},\"line\":{\"color\":\"white\"}},\"type\":\"table\"}]},\"layout\":{\"annotationdefaults\":{\"arrowcolor\":\"#2a3f5f\",\"arrowhead\":0,\"arrowwidth\":1},\"autotypenumbers\":\"strict\",\"coloraxis\":{\"colorbar\":{\"outlinewidth\":0,\"ticks\":\"\"}},\"colorscale\":{\"diverging\":[[0,\"#8e0152\"],[0.1,\"#c51b7d\"],[0.2,\"#de77ae\"],[0.3,\"#f1b6da\"],[0.4,\"#fde0ef\"],[0.5,\"#f7f7f7\"],[0.6,\"#e6f5d0\"],[0.7,\"#b8e186\"],[0.8,\"#7fbc41\"],[0.9,\"#4d9221\"],[1,\"#276419\"]],\"sequential\":[[0.0,\"#0d0887\"],[0.1111111111111111,\"#46039f\"],[0.2222222222222222,\"#7201a8\"],[0.3333333333333333,\"#9c179e\"],[0.4444444444444444,\"#bd3786\"],[0.5555555555555556,\"#d8576b\"],[0.6666666666666666,\"#ed7953\"],[0.7777777777777778,\"#fb9f3a\"],[0.8888888888888888,\"#fdca26\"],[1.0,\"#f0f921\"]],\"sequentialminus\":[[0.0,\"#0d0887\"],[0.1111111111111111,\"#46039f\"],[0.2222222222222222,\"#7201a8\"],[0.3333333333333333,\"#9c179e\"],[0.4444444444444444,\"#bd3786\"],[0.5555555555555556,\"#d8576b\"],[0.6666666666666666,\"#ed7953\"],[0.7777777777777778,\"#fb9f3a\"],[0.8888888888888888,\"#fdca26\"],[1.0,\"#f0f921\"]]},\"colorway\":[\"#636efa\",\"#EF553B\",\"#00cc96\",\"#ab63fa\",\"#FFA15A\",\"#19d3f3\",\"#FF6692\",\"#B6E880\",\"#FF97FF\",\"#FECB52\"],\"font\":{\"color\":\"#2a3f5f\"},\"geo\":{\"bgcolor\":\"white\",\"lakecolor\":\"white\",\"landcolor\":\"#E5ECF6\",\"showlakes\":true,\"showland\":true,\"subunitcolor\":\"white\"},\"hoverlabel\":{\"align\":\"left\"},\"hovermode\":\"closest\",\"mapbox\":{\"style\":\"light\"},\"paper_bgcolor\":\"white\",\"plot_bgcolor\":\"#E5ECF6\",\"polar\":{\"angularaxis\":{\"gridcolor\":\"white\",\"linecolor\":\"white\",\"ticks\":\"\"},\"bgcolor\":\"#E5ECF6\",\"radialaxis\":{\"gridcolor\":\"white\",\"linecolor\":\"white\",\"ticks\":\"\"}},\"scene\":{\"xaxis\":{\"backgroundcolor\":\"#E5ECF6\",\"gridcolor\":\"white\",\"gridwidth\":2,\"linecolor\":\"white\",\"showbackground\":true,\"ticks\":\"\",\"zerolinecolor\":\"white\"},\"yaxis\":{\"backgroundcolor\":\"#E5ECF6\",\"gridcolor\":\"white\",\"gridwidth\":2,\"linecolor\":\"white\",\"showbackground\":true,\"ticks\":\"\",\"zerolinecolor\":\"white\"},\"zaxis\":{\"backgroundcolor\":\"#E5ECF6\",\"gridcolor\":\"white\",\"gridwidth\":2,\"linecolor\":\"white\",\"showbackground\":true,\"ticks\":\"\",\"zerolinecolor\":\"white\"}},\"shapedefaults\":{\"line\":{\"color\":\"#2a3f5f\"}},\"ternary\":{\"aaxis\":{\"gridcolor\":\"white\",\"linecolor\":\"white\",\"ticks\":\"\"},\"baxis\":{\"gridcolor\":\"white\",\"linecolor\":\"white\",\"ticks\":\"\"},\"bgcolor\":\"#E5ECF6\",\"caxis\":{\"gridcolor\":\"white\",\"linecolor\":\"white\",\"ticks\":\"\"}},\"title\":{\"x\":0.05},\"xaxis\":{\"automargin\":true,\"gridcolor\":\"white\",\"linecolor\":\"white\",\"ticks\":\"\",\"title\":{\"standoff\":15},\"zerolinecolor\":\"white\",\"zerolinewidth\":2},\"yaxis\":{\"automargin\":true,\"gridcolor\":\"white\",\"linecolor\":\"white\",\"ticks\":\"\",\"title\":{\"standoff\":15},\"zerolinecolor\":\"white\",\"zerolinewidth\":2}}}},                        {\"responsive\": true}                    ).then(function(){\n",
              "                            \n",
              "var gd = document.getElementById('83be29ef-d85e-4039-ac69-4c4e92e4b15a');\n",
              "var x = new MutationObserver(function (mutations, observer) {{\n",
              "        var display = window.getComputedStyle(gd).display;\n",
              "        if (!display || display === 'none') {{\n",
              "            console.log([gd, 'removed!']);\n",
              "            Plotly.purge(gd);\n",
              "            observer.disconnect();\n",
              "        }}\n",
              "}});\n",
              "\n",
              "// Listen for the removal of the full notebook cells\n",
              "var notebookContainer = gd.closest('#notebook-container');\n",
              "if (notebookContainer) {{\n",
              "    x.observe(notebookContainer, {childList: true});\n",
              "}}\n",
              "\n",
              "// Listen for the clearing of the current output cell\n",
              "var outputEl = gd.closest('.output');\n",
              "if (outputEl) {{\n",
              "    x.observe(outputEl, {childList: true});\n",
              "}}\n",
              "\n",
              "                        })                };                            </script>        </div>\n",
              "</body>\n",
              "</html>"
            ]
          },
          "metadata": {}
        }
      ],
      "source": [
        "optuna.visualization.plot_parallel_coordinate(study)"
      ]
    },
    {
      "cell_type": "code",
      "execution_count": 25,
      "metadata": {
        "id": "_vOH85Dlpssz",
        "colab": {
          "base_uri": "https://localhost:8080/",
          "height": 542
        },
        "outputId": "f57bfde1-0e1e-49fb-dc70-145f2b05149e"
      },
      "outputs": [
        {
          "output_type": "display_data",
          "data": {
            "text/html": [
              "<html>\n",
              "<head><meta charset=\"utf-8\" /></head>\n",
              "<body>\n",
              "    <div>            <script src=\"https://cdnjs.cloudflare.com/ajax/libs/mathjax/2.7.5/MathJax.js?config=TeX-AMS-MML_SVG\"></script><script type=\"text/javascript\">if (window.MathJax) {MathJax.Hub.Config({SVG: {font: \"STIX-Web\"}});}</script>                <script type=\"text/javascript\">window.PlotlyConfig = {MathJaxConfig: 'local'};</script>\n",
              "        <script src=\"https://cdn.plot.ly/plotly-2.8.3.min.js\"></script>                <div id=\"14ede73b-e647-4ef1-9b76-55ce2ede6cc2\" class=\"plotly-graph-div\" style=\"height:525px; width:100%;\"></div>            <script type=\"text/javascript\">                                    window.PLOTLYENV=window.PLOTLYENV || {};                                    if (document.getElementById(\"14ede73b-e647-4ef1-9b76-55ce2ede6cc2\")) {                    Plotly.newPlot(                        \"14ede73b-e647-4ef1-9b76-55ce2ede6cc2\",                        [{\"cliponaxis\":false,\"hovertemplate\":[\"optimizer (CategoricalDistribution): 0.019322090202192856<extra></extra>\",\"delta (IntDistribution): 0.029703524105881618<extra></extra>\",\"alpha (IntDistribution): 0.04000677110394706<extra></extra>\",\"lr (FloatDistribution): 0.051811154623349835<extra></extra>\",\"gamma (IntDistribution): 0.055754190407873626<extra></extra>\",\"beta (IntDistribution): 0.0894224418214865<extra></extra>\",\"optuna_batch_size (IntDistribution): 0.30480883338913584<extra></extra>\",\"hidden_dim (IntDistribution): 0.4091709943461327<extra></extra>\"],\"marker\":{\"color\":\"rgb(66,146,198)\"},\"orientation\":\"h\",\"text\":[\"0.02\",\"0.03\",\"0.04\",\"0.05\",\"0.06\",\"0.09\",\"0.30\",\"0.41\"],\"textposition\":\"outside\",\"x\":[0.019322090202192856,0.029703524105881618,0.04000677110394706,0.051811154623349835,0.055754190407873626,0.0894224418214865,0.30480883338913584,0.4091709943461327],\"y\":[\"optimizer\",\"delta\",\"alpha\",\"lr\",\"gamma\",\"beta\",\"optuna_batch_size\",\"hidden_dim\"],\"type\":\"bar\"}],                        {\"showlegend\":false,\"title\":{\"text\":\"Hyperparameter Importances\"},\"xaxis\":{\"title\":{\"text\":\"Importance for Objective Value\"}},\"yaxis\":{\"title\":{\"text\":\"Hyperparameter\"}},\"template\":{\"data\":{\"bar\":[{\"error_x\":{\"color\":\"#2a3f5f\"},\"error_y\":{\"color\":\"#2a3f5f\"},\"marker\":{\"line\":{\"color\":\"#E5ECF6\",\"width\":0.5},\"pattern\":{\"fillmode\":\"overlay\",\"size\":10,\"solidity\":0.2}},\"type\":\"bar\"}],\"barpolar\":[{\"marker\":{\"line\":{\"color\":\"#E5ECF6\",\"width\":0.5},\"pattern\":{\"fillmode\":\"overlay\",\"size\":10,\"solidity\":0.2}},\"type\":\"barpolar\"}],\"carpet\":[{\"aaxis\":{\"endlinecolor\":\"#2a3f5f\",\"gridcolor\":\"white\",\"linecolor\":\"white\",\"minorgridcolor\":\"white\",\"startlinecolor\":\"#2a3f5f\"},\"baxis\":{\"endlinecolor\":\"#2a3f5f\",\"gridcolor\":\"white\",\"linecolor\":\"white\",\"minorgridcolor\":\"white\",\"startlinecolor\":\"#2a3f5f\"},\"type\":\"carpet\"}],\"choropleth\":[{\"colorbar\":{\"outlinewidth\":0,\"ticks\":\"\"},\"type\":\"choropleth\"}],\"contour\":[{\"colorbar\":{\"outlinewidth\":0,\"ticks\":\"\"},\"colorscale\":[[0.0,\"#0d0887\"],[0.1111111111111111,\"#46039f\"],[0.2222222222222222,\"#7201a8\"],[0.3333333333333333,\"#9c179e\"],[0.4444444444444444,\"#bd3786\"],[0.5555555555555556,\"#d8576b\"],[0.6666666666666666,\"#ed7953\"],[0.7777777777777778,\"#fb9f3a\"],[0.8888888888888888,\"#fdca26\"],[1.0,\"#f0f921\"]],\"type\":\"contour\"}],\"contourcarpet\":[{\"colorbar\":{\"outlinewidth\":0,\"ticks\":\"\"},\"type\":\"contourcarpet\"}],\"heatmap\":[{\"colorbar\":{\"outlinewidth\":0,\"ticks\":\"\"},\"colorscale\":[[0.0,\"#0d0887\"],[0.1111111111111111,\"#46039f\"],[0.2222222222222222,\"#7201a8\"],[0.3333333333333333,\"#9c179e\"],[0.4444444444444444,\"#bd3786\"],[0.5555555555555556,\"#d8576b\"],[0.6666666666666666,\"#ed7953\"],[0.7777777777777778,\"#fb9f3a\"],[0.8888888888888888,\"#fdca26\"],[1.0,\"#f0f921\"]],\"type\":\"heatmap\"}],\"heatmapgl\":[{\"colorbar\":{\"outlinewidth\":0,\"ticks\":\"\"},\"colorscale\":[[0.0,\"#0d0887\"],[0.1111111111111111,\"#46039f\"],[0.2222222222222222,\"#7201a8\"],[0.3333333333333333,\"#9c179e\"],[0.4444444444444444,\"#bd3786\"],[0.5555555555555556,\"#d8576b\"],[0.6666666666666666,\"#ed7953\"],[0.7777777777777778,\"#fb9f3a\"],[0.8888888888888888,\"#fdca26\"],[1.0,\"#f0f921\"]],\"type\":\"heatmapgl\"}],\"histogram\":[{\"marker\":{\"pattern\":{\"fillmode\":\"overlay\",\"size\":10,\"solidity\":0.2}},\"type\":\"histogram\"}],\"histogram2d\":[{\"colorbar\":{\"outlinewidth\":0,\"ticks\":\"\"},\"colorscale\":[[0.0,\"#0d0887\"],[0.1111111111111111,\"#46039f\"],[0.2222222222222222,\"#7201a8\"],[0.3333333333333333,\"#9c179e\"],[0.4444444444444444,\"#bd3786\"],[0.5555555555555556,\"#d8576b\"],[0.6666666666666666,\"#ed7953\"],[0.7777777777777778,\"#fb9f3a\"],[0.8888888888888888,\"#fdca26\"],[1.0,\"#f0f921\"]],\"type\":\"histogram2d\"}],\"histogram2dcontour\":[{\"colorbar\":{\"outlinewidth\":0,\"ticks\":\"\"},\"colorscale\":[[0.0,\"#0d0887\"],[0.1111111111111111,\"#46039f\"],[0.2222222222222222,\"#7201a8\"],[0.3333333333333333,\"#9c179e\"],[0.4444444444444444,\"#bd3786\"],[0.5555555555555556,\"#d8576b\"],[0.6666666666666666,\"#ed7953\"],[0.7777777777777778,\"#fb9f3a\"],[0.8888888888888888,\"#fdca26\"],[1.0,\"#f0f921\"]],\"type\":\"histogram2dcontour\"}],\"mesh3d\":[{\"colorbar\":{\"outlinewidth\":0,\"ticks\":\"\"},\"type\":\"mesh3d\"}],\"parcoords\":[{\"line\":{\"colorbar\":{\"outlinewidth\":0,\"ticks\":\"\"}},\"type\":\"parcoords\"}],\"pie\":[{\"automargin\":true,\"type\":\"pie\"}],\"scatter\":[{\"marker\":{\"colorbar\":{\"outlinewidth\":0,\"ticks\":\"\"}},\"type\":\"scatter\"}],\"scatter3d\":[{\"line\":{\"colorbar\":{\"outlinewidth\":0,\"ticks\":\"\"}},\"marker\":{\"colorbar\":{\"outlinewidth\":0,\"ticks\":\"\"}},\"type\":\"scatter3d\"}],\"scattercarpet\":[{\"marker\":{\"colorbar\":{\"outlinewidth\":0,\"ticks\":\"\"}},\"type\":\"scattercarpet\"}],\"scattergeo\":[{\"marker\":{\"colorbar\":{\"outlinewidth\":0,\"ticks\":\"\"}},\"type\":\"scattergeo\"}],\"scattergl\":[{\"marker\":{\"colorbar\":{\"outlinewidth\":0,\"ticks\":\"\"}},\"type\":\"scattergl\"}],\"scattermapbox\":[{\"marker\":{\"colorbar\":{\"outlinewidth\":0,\"ticks\":\"\"}},\"type\":\"scattermapbox\"}],\"scatterpolar\":[{\"marker\":{\"colorbar\":{\"outlinewidth\":0,\"ticks\":\"\"}},\"type\":\"scatterpolar\"}],\"scatterpolargl\":[{\"marker\":{\"colorbar\":{\"outlinewidth\":0,\"ticks\":\"\"}},\"type\":\"scatterpolargl\"}],\"scatterternary\":[{\"marker\":{\"colorbar\":{\"outlinewidth\":0,\"ticks\":\"\"}},\"type\":\"scatterternary\"}],\"surface\":[{\"colorbar\":{\"outlinewidth\":0,\"ticks\":\"\"},\"colorscale\":[[0.0,\"#0d0887\"],[0.1111111111111111,\"#46039f\"],[0.2222222222222222,\"#7201a8\"],[0.3333333333333333,\"#9c179e\"],[0.4444444444444444,\"#bd3786\"],[0.5555555555555556,\"#d8576b\"],[0.6666666666666666,\"#ed7953\"],[0.7777777777777778,\"#fb9f3a\"],[0.8888888888888888,\"#fdca26\"],[1.0,\"#f0f921\"]],\"type\":\"surface\"}],\"table\":[{\"cells\":{\"fill\":{\"color\":\"#EBF0F8\"},\"line\":{\"color\":\"white\"}},\"header\":{\"fill\":{\"color\":\"#C8D4E3\"},\"line\":{\"color\":\"white\"}},\"type\":\"table\"}]},\"layout\":{\"annotationdefaults\":{\"arrowcolor\":\"#2a3f5f\",\"arrowhead\":0,\"arrowwidth\":1},\"autotypenumbers\":\"strict\",\"coloraxis\":{\"colorbar\":{\"outlinewidth\":0,\"ticks\":\"\"}},\"colorscale\":{\"diverging\":[[0,\"#8e0152\"],[0.1,\"#c51b7d\"],[0.2,\"#de77ae\"],[0.3,\"#f1b6da\"],[0.4,\"#fde0ef\"],[0.5,\"#f7f7f7\"],[0.6,\"#e6f5d0\"],[0.7,\"#b8e186\"],[0.8,\"#7fbc41\"],[0.9,\"#4d9221\"],[1,\"#276419\"]],\"sequential\":[[0.0,\"#0d0887\"],[0.1111111111111111,\"#46039f\"],[0.2222222222222222,\"#7201a8\"],[0.3333333333333333,\"#9c179e\"],[0.4444444444444444,\"#bd3786\"],[0.5555555555555556,\"#d8576b\"],[0.6666666666666666,\"#ed7953\"],[0.7777777777777778,\"#fb9f3a\"],[0.8888888888888888,\"#fdca26\"],[1.0,\"#f0f921\"]],\"sequentialminus\":[[0.0,\"#0d0887\"],[0.1111111111111111,\"#46039f\"],[0.2222222222222222,\"#7201a8\"],[0.3333333333333333,\"#9c179e\"],[0.4444444444444444,\"#bd3786\"],[0.5555555555555556,\"#d8576b\"],[0.6666666666666666,\"#ed7953\"],[0.7777777777777778,\"#fb9f3a\"],[0.8888888888888888,\"#fdca26\"],[1.0,\"#f0f921\"]]},\"colorway\":[\"#636efa\",\"#EF553B\",\"#00cc96\",\"#ab63fa\",\"#FFA15A\",\"#19d3f3\",\"#FF6692\",\"#B6E880\",\"#FF97FF\",\"#FECB52\"],\"font\":{\"color\":\"#2a3f5f\"},\"geo\":{\"bgcolor\":\"white\",\"lakecolor\":\"white\",\"landcolor\":\"#E5ECF6\",\"showlakes\":true,\"showland\":true,\"subunitcolor\":\"white\"},\"hoverlabel\":{\"align\":\"left\"},\"hovermode\":\"closest\",\"mapbox\":{\"style\":\"light\"},\"paper_bgcolor\":\"white\",\"plot_bgcolor\":\"#E5ECF6\",\"polar\":{\"angularaxis\":{\"gridcolor\":\"white\",\"linecolor\":\"white\",\"ticks\":\"\"},\"bgcolor\":\"#E5ECF6\",\"radialaxis\":{\"gridcolor\":\"white\",\"linecolor\":\"white\",\"ticks\":\"\"}},\"scene\":{\"xaxis\":{\"backgroundcolor\":\"#E5ECF6\",\"gridcolor\":\"white\",\"gridwidth\":2,\"linecolor\":\"white\",\"showbackground\":true,\"ticks\":\"\",\"zerolinecolor\":\"white\"},\"yaxis\":{\"backgroundcolor\":\"#E5ECF6\",\"gridcolor\":\"white\",\"gridwidth\":2,\"linecolor\":\"white\",\"showbackground\":true,\"ticks\":\"\",\"zerolinecolor\":\"white\"},\"zaxis\":{\"backgroundcolor\":\"#E5ECF6\",\"gridcolor\":\"white\",\"gridwidth\":2,\"linecolor\":\"white\",\"showbackground\":true,\"ticks\":\"\",\"zerolinecolor\":\"white\"}},\"shapedefaults\":{\"line\":{\"color\":\"#2a3f5f\"}},\"ternary\":{\"aaxis\":{\"gridcolor\":\"white\",\"linecolor\":\"white\",\"ticks\":\"\"},\"baxis\":{\"gridcolor\":\"white\",\"linecolor\":\"white\",\"ticks\":\"\"},\"bgcolor\":\"#E5ECF6\",\"caxis\":{\"gridcolor\":\"white\",\"linecolor\":\"white\",\"ticks\":\"\"}},\"title\":{\"x\":0.05},\"xaxis\":{\"automargin\":true,\"gridcolor\":\"white\",\"linecolor\":\"white\",\"ticks\":\"\",\"title\":{\"standoff\":15},\"zerolinecolor\":\"white\",\"zerolinewidth\":2},\"yaxis\":{\"automargin\":true,\"gridcolor\":\"white\",\"linecolor\":\"white\",\"ticks\":\"\",\"title\":{\"standoff\":15},\"zerolinecolor\":\"white\",\"zerolinewidth\":2}}}},                        {\"responsive\": true}                    ).then(function(){\n",
              "                            \n",
              "var gd = document.getElementById('14ede73b-e647-4ef1-9b76-55ce2ede6cc2');\n",
              "var x = new MutationObserver(function (mutations, observer) {{\n",
              "        var display = window.getComputedStyle(gd).display;\n",
              "        if (!display || display === 'none') {{\n",
              "            console.log([gd, 'removed!']);\n",
              "            Plotly.purge(gd);\n",
              "            observer.disconnect();\n",
              "        }}\n",
              "}});\n",
              "\n",
              "// Listen for the removal of the full notebook cells\n",
              "var notebookContainer = gd.closest('#notebook-container');\n",
              "if (notebookContainer) {{\n",
              "    x.observe(notebookContainer, {childList: true});\n",
              "}}\n",
              "\n",
              "// Listen for the clearing of the current output cell\n",
              "var outputEl = gd.closest('.output');\n",
              "if (outputEl) {{\n",
              "    x.observe(outputEl, {childList: true});\n",
              "}}\n",
              "\n",
              "                        })                };                            </script>        </div>\n",
              "</body>\n",
              "</html>"
            ]
          },
          "metadata": {}
        }
      ],
      "source": [
        "optuna.visualization.plot_param_importances(study)"
      ]
    },
    {
      "cell_type": "code",
      "execution_count": 26,
      "metadata": {
        "id": "3r3cLVSWHHzV",
        "colab": {
          "base_uri": "https://localhost:8080/",
          "height": 542
        },
        "outputId": "b60196f6-f8bc-4725-b1ad-ea1f68bfdc54"
      },
      "outputs": [
        {
          "output_type": "display_data",
          "data": {
            "text/html": [
              "<html>\n",
              "<head><meta charset=\"utf-8\" /></head>\n",
              "<body>\n",
              "    <div>            <script src=\"https://cdnjs.cloudflare.com/ajax/libs/mathjax/2.7.5/MathJax.js?config=TeX-AMS-MML_SVG\"></script><script type=\"text/javascript\">if (window.MathJax) {MathJax.Hub.Config({SVG: {font: \"STIX-Web\"}});}</script>                <script type=\"text/javascript\">window.PlotlyConfig = {MathJaxConfig: 'local'};</script>\n",
              "        <script src=\"https://cdn.plot.ly/plotly-2.8.3.min.js\"></script>                <div id=\"cd9b2c31-43b7-4f60-b01c-2b5682f5bae4\" class=\"plotly-graph-div\" style=\"height:525px; width:100%;\"></div>            <script type=\"text/javascript\">                                    window.PLOTLYENV=window.PLOTLYENV || {};                                    if (document.getElementById(\"cd9b2c31-43b7-4f60-b01c-2b5682f5bae4\")) {                    Plotly.newPlot(                        \"cd9b2c31-43b7-4f60-b01c-2b5682f5bae4\",                        [{\"mode\":\"markers\",\"name\":\"Objective Value\",\"x\":[0,3,4,5,8,9,10,11,12,13,14,15,16,17,18,19,20,21,22,23,24,25,26,27,28,29,30,31,32,33,35,36,37,38,40,41,42,43,44,46,47,48,49,51,52,53,54,55,56,57,58,59,60,61,62,63,64,65,66,67,68,70,71,72,73,74,75,76,77,78,79,80,81,82,83,84,86,87,88,89,90,91,92,93,94,95,96,98,99,100,101,102,103,104,105,106,107,108,109,110,111,112,113,114,115,116,118,119,120,121,122],\"y\":[0.6041932720322027,0.678854983701249,0.6067314502893681,0.8164077422695987,0.6915694063825122,0.6877269977451463,0.7145571443723105,0.928888888888889,0.6470505002306062,0.9585126527801691,0.7635766147271225,0.8408514755684564,0.5767745722115528,0.8950788995950307,0.6954910281708364,0.6380783782529112,0.9269494912325499,0.8092450688236134,0.7250455240891877,0.851016342053026,0.5342073809830278,0.6595338499787371,0.7228221254636349,0.7252547517814623,0.7395787642982596,0.7065651591096465,0.8655823972734257,0.7379051360928809,0.8821542978491471,0.8045969092775709,0.7101332393157628,0.7939859206214348,0.5659768704520326,0.7873141972296023,0.7660211320754714,0.7384910236613483,0.6885089888815197,0.890690464219875,0.8233977854206871,0.8561731284135518,0.819051255798371,0.6901266240103806,0.7998177574994749,0.7226543817457977,0.8790545573673323,0.770169095538362,0.6549984660865686,0.6993547101051983,0.6719043224119361,0.9355136268343813,0.8011788911063255,0.694723479078896,0.8015673517443703,0.8780540996089257,0.6901688787403065,0.7715253637730357,0.7931681942505577,0.6168083271741807,0.7776426411290324,0.9498208099867491,0.8094805433186485,0.7043212839329102,0.9514518770471183,0.9230296055692897,0.9044117647058812,0.8302605570530103,0.6057436494085707,0.7206832062184042,0.834860298399021,0.8141167022271231,0.7501126881155371,0.665646376811593,0.7418397342032755,0.881700777765253,0.7504842016654127,0.8606525695225923,0.8901908485779475,0.7527880446051078,0.8720493979383276,0.571324161193442,0.6083307229790129,0.8664172102551192,0.8281407862452193,0.7702359323980941,0.9047468031405791,0.728647208064414,0.8128285818917635,0.723939687147234,0.9633579876854479,0.7503169049792107,0.6742545699067439,0.7481519240298621,0.7367663553927866,0.7971858082588433,0.633004768139903,0.6230311493710882,0.8741923466996054,0.5716668277283851,0.8981009380788315,0.8815893031556717,0.6528121799313654,0.6946232728936609,0.8251654519561055,0.8216297275725007,0.7111297363366506,0.7748082557931124,0.8996710208030969,0.55909071844986,0.7407799111283376,0.8854018417510496,0.6228117053678737],\"type\":\"scatter\"},{\"name\":\"Best Value\",\"x\":[0,3,4,5,8,9,10,11,12,13,14,15,16,17,18,19,20,21,22,23,24,25,26,27,28,29,30,31,32,33,35,36,37,38,40,41,42,43,44,46,47,48,49,51,52,53,54,55,56,57,58,59,60,61,62,63,64,65,66,67,68,70,71,72,73,74,75,76,77,78,79,80,81,82,83,84,86,87,88,89,90,91,92,93,94,95,96,98,99,100,101,102,103,104,105,106,107,108,109,110,111,112,113,114,115,116,118,119,120,121,122],\"y\":[0.6041932720322027,0.678854983701249,0.678854983701249,0.8164077422695987,0.8164077422695987,0.8164077422695987,0.8164077422695987,0.928888888888889,0.928888888888889,0.9585126527801691,0.9585126527801691,0.9585126527801691,0.9585126527801691,0.9585126527801691,0.9585126527801691,0.9585126527801691,0.9585126527801691,0.9585126527801691,0.9585126527801691,0.9585126527801691,0.9585126527801691,0.9585126527801691,0.9585126527801691,0.9585126527801691,0.9585126527801691,0.9585126527801691,0.9585126527801691,0.9585126527801691,0.9585126527801691,0.9585126527801691,0.9585126527801691,0.9585126527801691,0.9585126527801691,0.9585126527801691,0.9585126527801691,0.9585126527801691,0.9585126527801691,0.9585126527801691,0.9585126527801691,0.9585126527801691,0.9585126527801691,0.9585126527801691,0.9585126527801691,0.9585126527801691,0.9585126527801691,0.9585126527801691,0.9585126527801691,0.9585126527801691,0.9585126527801691,0.9585126527801691,0.9585126527801691,0.9585126527801691,0.9585126527801691,0.9585126527801691,0.9585126527801691,0.9585126527801691,0.9585126527801691,0.9585126527801691,0.9585126527801691,0.9585126527801691,0.9585126527801691,0.9585126527801691,0.9585126527801691,0.9585126527801691,0.9585126527801691,0.9585126527801691,0.9585126527801691,0.9585126527801691,0.9585126527801691,0.9585126527801691,0.9585126527801691,0.9585126527801691,0.9585126527801691,0.9585126527801691,0.9585126527801691,0.9585126527801691,0.9585126527801691,0.9585126527801691,0.9585126527801691,0.9585126527801691,0.9585126527801691,0.9585126527801691,0.9585126527801691,0.9585126527801691,0.9585126527801691,0.9585126527801691,0.9585126527801691,0.9585126527801691,0.9633579876854479,0.9633579876854479,0.9633579876854479,0.9633579876854479,0.9633579876854479,0.9633579876854479,0.9633579876854479,0.9633579876854479,0.9633579876854479,0.9633579876854479,0.9633579876854479,0.9633579876854479,0.9633579876854479,0.9633579876854479,0.9633579876854479,0.9633579876854479,0.9633579876854479,0.9633579876854479,0.9633579876854479,0.9633579876854479,0.9633579876854479,0.9633579876854479,0.9633579876854479],\"type\":\"scatter\"}],                        {\"title\":{\"text\":\"Optimization History Plot\"},\"xaxis\":{\"title\":{\"text\":\"Trial\"}},\"yaxis\":{\"title\":{\"text\":\"Objective Value\"}},\"template\":{\"data\":{\"bar\":[{\"error_x\":{\"color\":\"#2a3f5f\"},\"error_y\":{\"color\":\"#2a3f5f\"},\"marker\":{\"line\":{\"color\":\"#E5ECF6\",\"width\":0.5},\"pattern\":{\"fillmode\":\"overlay\",\"size\":10,\"solidity\":0.2}},\"type\":\"bar\"}],\"barpolar\":[{\"marker\":{\"line\":{\"color\":\"#E5ECF6\",\"width\":0.5},\"pattern\":{\"fillmode\":\"overlay\",\"size\":10,\"solidity\":0.2}},\"type\":\"barpolar\"}],\"carpet\":[{\"aaxis\":{\"endlinecolor\":\"#2a3f5f\",\"gridcolor\":\"white\",\"linecolor\":\"white\",\"minorgridcolor\":\"white\",\"startlinecolor\":\"#2a3f5f\"},\"baxis\":{\"endlinecolor\":\"#2a3f5f\",\"gridcolor\":\"white\",\"linecolor\":\"white\",\"minorgridcolor\":\"white\",\"startlinecolor\":\"#2a3f5f\"},\"type\":\"carpet\"}],\"choropleth\":[{\"colorbar\":{\"outlinewidth\":0,\"ticks\":\"\"},\"type\":\"choropleth\"}],\"contour\":[{\"colorbar\":{\"outlinewidth\":0,\"ticks\":\"\"},\"colorscale\":[[0.0,\"#0d0887\"],[0.1111111111111111,\"#46039f\"],[0.2222222222222222,\"#7201a8\"],[0.3333333333333333,\"#9c179e\"],[0.4444444444444444,\"#bd3786\"],[0.5555555555555556,\"#d8576b\"],[0.6666666666666666,\"#ed7953\"],[0.7777777777777778,\"#fb9f3a\"],[0.8888888888888888,\"#fdca26\"],[1.0,\"#f0f921\"]],\"type\":\"contour\"}],\"contourcarpet\":[{\"colorbar\":{\"outlinewidth\":0,\"ticks\":\"\"},\"type\":\"contourcarpet\"}],\"heatmap\":[{\"colorbar\":{\"outlinewidth\":0,\"ticks\":\"\"},\"colorscale\":[[0.0,\"#0d0887\"],[0.1111111111111111,\"#46039f\"],[0.2222222222222222,\"#7201a8\"],[0.3333333333333333,\"#9c179e\"],[0.4444444444444444,\"#bd3786\"],[0.5555555555555556,\"#d8576b\"],[0.6666666666666666,\"#ed7953\"],[0.7777777777777778,\"#fb9f3a\"],[0.8888888888888888,\"#fdca26\"],[1.0,\"#f0f921\"]],\"type\":\"heatmap\"}],\"heatmapgl\":[{\"colorbar\":{\"outlinewidth\":0,\"ticks\":\"\"},\"colorscale\":[[0.0,\"#0d0887\"],[0.1111111111111111,\"#46039f\"],[0.2222222222222222,\"#7201a8\"],[0.3333333333333333,\"#9c179e\"],[0.4444444444444444,\"#bd3786\"],[0.5555555555555556,\"#d8576b\"],[0.6666666666666666,\"#ed7953\"],[0.7777777777777778,\"#fb9f3a\"],[0.8888888888888888,\"#fdca26\"],[1.0,\"#f0f921\"]],\"type\":\"heatmapgl\"}],\"histogram\":[{\"marker\":{\"pattern\":{\"fillmode\":\"overlay\",\"size\":10,\"solidity\":0.2}},\"type\":\"histogram\"}],\"histogram2d\":[{\"colorbar\":{\"outlinewidth\":0,\"ticks\":\"\"},\"colorscale\":[[0.0,\"#0d0887\"],[0.1111111111111111,\"#46039f\"],[0.2222222222222222,\"#7201a8\"],[0.3333333333333333,\"#9c179e\"],[0.4444444444444444,\"#bd3786\"],[0.5555555555555556,\"#d8576b\"],[0.6666666666666666,\"#ed7953\"],[0.7777777777777778,\"#fb9f3a\"],[0.8888888888888888,\"#fdca26\"],[1.0,\"#f0f921\"]],\"type\":\"histogram2d\"}],\"histogram2dcontour\":[{\"colorbar\":{\"outlinewidth\":0,\"ticks\":\"\"},\"colorscale\":[[0.0,\"#0d0887\"],[0.1111111111111111,\"#46039f\"],[0.2222222222222222,\"#7201a8\"],[0.3333333333333333,\"#9c179e\"],[0.4444444444444444,\"#bd3786\"],[0.5555555555555556,\"#d8576b\"],[0.6666666666666666,\"#ed7953\"],[0.7777777777777778,\"#fb9f3a\"],[0.8888888888888888,\"#fdca26\"],[1.0,\"#f0f921\"]],\"type\":\"histogram2dcontour\"}],\"mesh3d\":[{\"colorbar\":{\"outlinewidth\":0,\"ticks\":\"\"},\"type\":\"mesh3d\"}],\"parcoords\":[{\"line\":{\"colorbar\":{\"outlinewidth\":0,\"ticks\":\"\"}},\"type\":\"parcoords\"}],\"pie\":[{\"automargin\":true,\"type\":\"pie\"}],\"scatter\":[{\"marker\":{\"colorbar\":{\"outlinewidth\":0,\"ticks\":\"\"}},\"type\":\"scatter\"}],\"scatter3d\":[{\"line\":{\"colorbar\":{\"outlinewidth\":0,\"ticks\":\"\"}},\"marker\":{\"colorbar\":{\"outlinewidth\":0,\"ticks\":\"\"}},\"type\":\"scatter3d\"}],\"scattercarpet\":[{\"marker\":{\"colorbar\":{\"outlinewidth\":0,\"ticks\":\"\"}},\"type\":\"scattercarpet\"}],\"scattergeo\":[{\"marker\":{\"colorbar\":{\"outlinewidth\":0,\"ticks\":\"\"}},\"type\":\"scattergeo\"}],\"scattergl\":[{\"marker\":{\"colorbar\":{\"outlinewidth\":0,\"ticks\":\"\"}},\"type\":\"scattergl\"}],\"scattermapbox\":[{\"marker\":{\"colorbar\":{\"outlinewidth\":0,\"ticks\":\"\"}},\"type\":\"scattermapbox\"}],\"scatterpolar\":[{\"marker\":{\"colorbar\":{\"outlinewidth\":0,\"ticks\":\"\"}},\"type\":\"scatterpolar\"}],\"scatterpolargl\":[{\"marker\":{\"colorbar\":{\"outlinewidth\":0,\"ticks\":\"\"}},\"type\":\"scatterpolargl\"}],\"scatterternary\":[{\"marker\":{\"colorbar\":{\"outlinewidth\":0,\"ticks\":\"\"}},\"type\":\"scatterternary\"}],\"surface\":[{\"colorbar\":{\"outlinewidth\":0,\"ticks\":\"\"},\"colorscale\":[[0.0,\"#0d0887\"],[0.1111111111111111,\"#46039f\"],[0.2222222222222222,\"#7201a8\"],[0.3333333333333333,\"#9c179e\"],[0.4444444444444444,\"#bd3786\"],[0.5555555555555556,\"#d8576b\"],[0.6666666666666666,\"#ed7953\"],[0.7777777777777778,\"#fb9f3a\"],[0.8888888888888888,\"#fdca26\"],[1.0,\"#f0f921\"]],\"type\":\"surface\"}],\"table\":[{\"cells\":{\"fill\":{\"color\":\"#EBF0F8\"},\"line\":{\"color\":\"white\"}},\"header\":{\"fill\":{\"color\":\"#C8D4E3\"},\"line\":{\"color\":\"white\"}},\"type\":\"table\"}]},\"layout\":{\"annotationdefaults\":{\"arrowcolor\":\"#2a3f5f\",\"arrowhead\":0,\"arrowwidth\":1},\"autotypenumbers\":\"strict\",\"coloraxis\":{\"colorbar\":{\"outlinewidth\":0,\"ticks\":\"\"}},\"colorscale\":{\"diverging\":[[0,\"#8e0152\"],[0.1,\"#c51b7d\"],[0.2,\"#de77ae\"],[0.3,\"#f1b6da\"],[0.4,\"#fde0ef\"],[0.5,\"#f7f7f7\"],[0.6,\"#e6f5d0\"],[0.7,\"#b8e186\"],[0.8,\"#7fbc41\"],[0.9,\"#4d9221\"],[1,\"#276419\"]],\"sequential\":[[0.0,\"#0d0887\"],[0.1111111111111111,\"#46039f\"],[0.2222222222222222,\"#7201a8\"],[0.3333333333333333,\"#9c179e\"],[0.4444444444444444,\"#bd3786\"],[0.5555555555555556,\"#d8576b\"],[0.6666666666666666,\"#ed7953\"],[0.7777777777777778,\"#fb9f3a\"],[0.8888888888888888,\"#fdca26\"],[1.0,\"#f0f921\"]],\"sequentialminus\":[[0.0,\"#0d0887\"],[0.1111111111111111,\"#46039f\"],[0.2222222222222222,\"#7201a8\"],[0.3333333333333333,\"#9c179e\"],[0.4444444444444444,\"#bd3786\"],[0.5555555555555556,\"#d8576b\"],[0.6666666666666666,\"#ed7953\"],[0.7777777777777778,\"#fb9f3a\"],[0.8888888888888888,\"#fdca26\"],[1.0,\"#f0f921\"]]},\"colorway\":[\"#636efa\",\"#EF553B\",\"#00cc96\",\"#ab63fa\",\"#FFA15A\",\"#19d3f3\",\"#FF6692\",\"#B6E880\",\"#FF97FF\",\"#FECB52\"],\"font\":{\"color\":\"#2a3f5f\"},\"geo\":{\"bgcolor\":\"white\",\"lakecolor\":\"white\",\"landcolor\":\"#E5ECF6\",\"showlakes\":true,\"showland\":true,\"subunitcolor\":\"white\"},\"hoverlabel\":{\"align\":\"left\"},\"hovermode\":\"closest\",\"mapbox\":{\"style\":\"light\"},\"paper_bgcolor\":\"white\",\"plot_bgcolor\":\"#E5ECF6\",\"polar\":{\"angularaxis\":{\"gridcolor\":\"white\",\"linecolor\":\"white\",\"ticks\":\"\"},\"bgcolor\":\"#E5ECF6\",\"radialaxis\":{\"gridcolor\":\"white\",\"linecolor\":\"white\",\"ticks\":\"\"}},\"scene\":{\"xaxis\":{\"backgroundcolor\":\"#E5ECF6\",\"gridcolor\":\"white\",\"gridwidth\":2,\"linecolor\":\"white\",\"showbackground\":true,\"ticks\":\"\",\"zerolinecolor\":\"white\"},\"yaxis\":{\"backgroundcolor\":\"#E5ECF6\",\"gridcolor\":\"white\",\"gridwidth\":2,\"linecolor\":\"white\",\"showbackground\":true,\"ticks\":\"\",\"zerolinecolor\":\"white\"},\"zaxis\":{\"backgroundcolor\":\"#E5ECF6\",\"gridcolor\":\"white\",\"gridwidth\":2,\"linecolor\":\"white\",\"showbackground\":true,\"ticks\":\"\",\"zerolinecolor\":\"white\"}},\"shapedefaults\":{\"line\":{\"color\":\"#2a3f5f\"}},\"ternary\":{\"aaxis\":{\"gridcolor\":\"white\",\"linecolor\":\"white\",\"ticks\":\"\"},\"baxis\":{\"gridcolor\":\"white\",\"linecolor\":\"white\",\"ticks\":\"\"},\"bgcolor\":\"#E5ECF6\",\"caxis\":{\"gridcolor\":\"white\",\"linecolor\":\"white\",\"ticks\":\"\"}},\"title\":{\"x\":0.05},\"xaxis\":{\"automargin\":true,\"gridcolor\":\"white\",\"linecolor\":\"white\",\"ticks\":\"\",\"title\":{\"standoff\":15},\"zerolinecolor\":\"white\",\"zerolinewidth\":2},\"yaxis\":{\"automargin\":true,\"gridcolor\":\"white\",\"linecolor\":\"white\",\"ticks\":\"\",\"title\":{\"standoff\":15},\"zerolinecolor\":\"white\",\"zerolinewidth\":2}}}},                        {\"responsive\": true}                    ).then(function(){\n",
              "                            \n",
              "var gd = document.getElementById('cd9b2c31-43b7-4f60-b01c-2b5682f5bae4');\n",
              "var x = new MutationObserver(function (mutations, observer) {{\n",
              "        var display = window.getComputedStyle(gd).display;\n",
              "        if (!display || display === 'none') {{\n",
              "            console.log([gd, 'removed!']);\n",
              "            Plotly.purge(gd);\n",
              "            observer.disconnect();\n",
              "        }}\n",
              "}});\n",
              "\n",
              "// Listen for the removal of the full notebook cells\n",
              "var notebookContainer = gd.closest('#notebook-container');\n",
              "if (notebookContainer) {{\n",
              "    x.observe(notebookContainer, {childList: true});\n",
              "}}\n",
              "\n",
              "// Listen for the clearing of the current output cell\n",
              "var outputEl = gd.closest('.output');\n",
              "if (outputEl) {{\n",
              "    x.observe(outputEl, {childList: true});\n",
              "}}\n",
              "\n",
              "                        })                };                            </script>        </div>\n",
              "</body>\n",
              "</html>"
            ]
          },
          "metadata": {}
        }
      ],
      "source": [
        "optuna.visualization.plot_optimization_history(study)"
      ]
    },
    {
      "cell_type": "code",
      "execution_count": 27,
      "metadata": {
        "id": "7CxMNDlDI5w3",
        "colab": {
          "base_uri": "https://localhost:8080/",
          "height": 542
        },
        "outputId": "d884ec56-8fc6-4678-8ab3-fe6abc1af7fb"
      },
      "outputs": [
        {
          "output_type": "display_data",
          "data": {
            "text/html": [
              "<html>\n",
              "<head><meta charset=\"utf-8\" /></head>\n",
              "<body>\n",
              "    <div>            <script src=\"https://cdnjs.cloudflare.com/ajax/libs/mathjax/2.7.5/MathJax.js?config=TeX-AMS-MML_SVG\"></script><script type=\"text/javascript\">if (window.MathJax) {MathJax.Hub.Config({SVG: {font: \"STIX-Web\"}});}</script>                <script type=\"text/javascript\">window.PlotlyConfig = {MathJaxConfig: 'local'};</script>\n",
              "        <script src=\"https://cdn.plot.ly/plotly-2.8.3.min.js\"></script>                <div id=\"9cb9fb7e-3319-4c08-bfca-20517a5fac5e\" class=\"plotly-graph-div\" style=\"height:525px; width:100%;\"></div>            <script type=\"text/javascript\">                                    window.PLOTLYENV=window.PLOTLYENV || {};                                    if (document.getElementById(\"9cb9fb7e-3319-4c08-bfca-20517a5fac5e\")) {                    Plotly.newPlot(                        \"9cb9fb7e-3319-4c08-bfca-20517a5fac5e\",                        [{\"marker\":{\"color\":[0,3,4,5,8,9,10,11,12,13,14,15,16,17,18,19,20,21,22,23,24,25,26,27,28,29,30,31,32,33,35,36,37,38,40,41,42,43,44,46,47,48,49,51,52,53,54,55,56,57,58,59,60,61,62,63,64,65,66,67,68,70,71,72,73,74,75,76,77,78,79,80,81,82,83,84,86,87,88,89,90,91,92,93,94,95,96,98,99,100,101,102,103,104,105,106,107,108,109,110,111,112,113,114,115,116,118,119,120,121,122],\"colorbar\":{\"title\":{\"text\":\"Trial\"},\"x\":1.0,\"xpad\":40},\"colorscale\":[[0.0,\"rgb(247,251,255)\"],[0.125,\"rgb(222,235,247)\"],[0.25,\"rgb(198,219,239)\"],[0.375,\"rgb(158,202,225)\"],[0.5,\"rgb(107,174,214)\"],[0.625,\"rgb(66,146,198)\"],[0.75,\"rgb(33,113,181)\"],[0.875,\"rgb(8,81,156)\"],[1.0,\"rgb(8,48,107)\"]],\"line\":{\"color\":\"Grey\",\"width\":0.5}},\"mode\":\"markers\",\"showlegend\":false,\"x\":[0.004051849855739276,0.002722277025487078,0.0007578141392989757,0.00818175550348311,0.009529509832233206,0.0014917195336417526,0.005503001381885199,0.005897994275222237,0.005678659077869902,0.009656988494695613,0.009746567407136295,0.004282083280330081,0.006272127124625823,0.008035534760574907,0.004706753575347085,0.009920943380370216,0.007346076126315902,0.007367026524391258,0.008854572484634745,0.006405695529224112,0.008956022648415723,0.00749941948764706,0.007883624293384156,0.00894841336784372,0.006651385422265094,0.0058229563164784335,0.003473168184973162,0.007692580192017772,0.007192001840018754,0.008306464287010845,0.007797240029161409,0.005137927056127781,0.009299914383117709,0.00856343166839375,0.009493342237403375,0.006913921172482509,0.007352333007469954,0.008035587730045925,0.007959446123360563,0.009972618031377336,0.009254375786181991,0.0082048246957102,0.006115379157010171,0.007208063677031404,0.00756573591782005,0.008017650256428374,0.006482138955295565,0.007183779332096041,0.008678695053644176,0.009096433395847172,0.009003910841561706,0.009472748467436067,0.009097324794827636,0.009700377131322737,0.00814782556122632,0.0076904928256477136,0.008601578036520535,0.008840224746173317,0.006026421111851547,0.008352835418283225,0.0083717673161058,0.00796698753665218,0.007548097032820144,0.007551610687001889,0.00753633545812771,0.006581020021992592,0.007627442836312184,0.007395903747965578,0.008405294883036341,0.00703643025119259,0.006728899005664664,0.00746071242452025,0.007754862995322572,0.0088408441052417,0.008287702389275904,0.007086965706073089,0.009684285800926755,0.00788871786953854,0.00818857572483664,0.0073393675529824925,0.006912432137635682,0.008060605263140896,0.008538971617932614,0.007666843383210968,0.007848180662389546,0.007846406980188333,0.008756722499846728,0.009074099754904764,0.00934514910614952,0.009444217234816808,0.008504996199423546,0.009303509958560366,0.008921633540516123,0.007210054930235237,0.008255038551436904,0.006635307973024777,0.009714174287939975,0.00781369176609848,0.009917147896850085,0.009837076814033502,0.00999687023176906,0.009466221527111105,0.0093309412552395,0.009089418093325297,0.0096379515938937,0.008436269900126622,0.008681592182454415,0.009889214247903774,0.008680160720041437,0.009152228717725407,0.008764868328686854],\"y\":[0.6041932720322027,0.678854983701249,0.6067314502893681,0.8164077422695987,0.6915694063825122,0.6877269977451463,0.7145571443723105,0.928888888888889,0.6470505002306062,0.9585126527801691,0.7635766147271225,0.8408514755684564,0.5767745722115528,0.8950788995950307,0.6954910281708364,0.6380783782529112,0.9269494912325499,0.8092450688236134,0.7250455240891877,0.851016342053026,0.5342073809830278,0.6595338499787371,0.7228221254636349,0.7252547517814623,0.7395787642982596,0.7065651591096465,0.8655823972734257,0.7379051360928809,0.8821542978491471,0.8045969092775709,0.7101332393157628,0.7939859206214348,0.5659768704520326,0.7873141972296023,0.7660211320754714,0.7384910236613483,0.6885089888815197,0.890690464219875,0.8233977854206871,0.8561731284135518,0.819051255798371,0.6901266240103806,0.7998177574994749,0.7226543817457977,0.8790545573673323,0.770169095538362,0.6549984660865686,0.6993547101051983,0.6719043224119361,0.9355136268343813,0.8011788911063255,0.694723479078896,0.8015673517443703,0.8780540996089257,0.6901688787403065,0.7715253637730357,0.7931681942505577,0.6168083271741807,0.7776426411290324,0.9498208099867491,0.8094805433186485,0.7043212839329102,0.9514518770471183,0.9230296055692897,0.9044117647058812,0.8302605570530103,0.6057436494085707,0.7206832062184042,0.834860298399021,0.8141167022271231,0.7501126881155371,0.665646376811593,0.7418397342032755,0.881700777765253,0.7504842016654127,0.8606525695225923,0.8901908485779475,0.7527880446051078,0.8720493979383276,0.571324161193442,0.6083307229790129,0.8664172102551192,0.8281407862452193,0.7702359323980941,0.9047468031405791,0.728647208064414,0.8128285818917635,0.723939687147234,0.9633579876854479,0.7503169049792107,0.6742545699067439,0.7481519240298621,0.7367663553927866,0.7971858082588433,0.633004768139903,0.6230311493710882,0.8741923466996054,0.5716668277283851,0.8981009380788315,0.8815893031556717,0.6528121799313654,0.6946232728936609,0.8251654519561055,0.8216297275725007,0.7111297363366506,0.7748082557931124,0.8996710208030969,0.55909071844986,0.7407799111283376,0.8854018417510496,0.6228117053678737],\"type\":\"scatter\"}],                        {\"title\":{\"text\":\"Slice Plot\"},\"template\":{\"data\":{\"bar\":[{\"error_x\":{\"color\":\"#2a3f5f\"},\"error_y\":{\"color\":\"#2a3f5f\"},\"marker\":{\"line\":{\"color\":\"#E5ECF6\",\"width\":0.5},\"pattern\":{\"fillmode\":\"overlay\",\"size\":10,\"solidity\":0.2}},\"type\":\"bar\"}],\"barpolar\":[{\"marker\":{\"line\":{\"color\":\"#E5ECF6\",\"width\":0.5},\"pattern\":{\"fillmode\":\"overlay\",\"size\":10,\"solidity\":0.2}},\"type\":\"barpolar\"}],\"carpet\":[{\"aaxis\":{\"endlinecolor\":\"#2a3f5f\",\"gridcolor\":\"white\",\"linecolor\":\"white\",\"minorgridcolor\":\"white\",\"startlinecolor\":\"#2a3f5f\"},\"baxis\":{\"endlinecolor\":\"#2a3f5f\",\"gridcolor\":\"white\",\"linecolor\":\"white\",\"minorgridcolor\":\"white\",\"startlinecolor\":\"#2a3f5f\"},\"type\":\"carpet\"}],\"choropleth\":[{\"colorbar\":{\"outlinewidth\":0,\"ticks\":\"\"},\"type\":\"choropleth\"}],\"contour\":[{\"colorbar\":{\"outlinewidth\":0,\"ticks\":\"\"},\"colorscale\":[[0.0,\"#0d0887\"],[0.1111111111111111,\"#46039f\"],[0.2222222222222222,\"#7201a8\"],[0.3333333333333333,\"#9c179e\"],[0.4444444444444444,\"#bd3786\"],[0.5555555555555556,\"#d8576b\"],[0.6666666666666666,\"#ed7953\"],[0.7777777777777778,\"#fb9f3a\"],[0.8888888888888888,\"#fdca26\"],[1.0,\"#f0f921\"]],\"type\":\"contour\"}],\"contourcarpet\":[{\"colorbar\":{\"outlinewidth\":0,\"ticks\":\"\"},\"type\":\"contourcarpet\"}],\"heatmap\":[{\"colorbar\":{\"outlinewidth\":0,\"ticks\":\"\"},\"colorscale\":[[0.0,\"#0d0887\"],[0.1111111111111111,\"#46039f\"],[0.2222222222222222,\"#7201a8\"],[0.3333333333333333,\"#9c179e\"],[0.4444444444444444,\"#bd3786\"],[0.5555555555555556,\"#d8576b\"],[0.6666666666666666,\"#ed7953\"],[0.7777777777777778,\"#fb9f3a\"],[0.8888888888888888,\"#fdca26\"],[1.0,\"#f0f921\"]],\"type\":\"heatmap\"}],\"heatmapgl\":[{\"colorbar\":{\"outlinewidth\":0,\"ticks\":\"\"},\"colorscale\":[[0.0,\"#0d0887\"],[0.1111111111111111,\"#46039f\"],[0.2222222222222222,\"#7201a8\"],[0.3333333333333333,\"#9c179e\"],[0.4444444444444444,\"#bd3786\"],[0.5555555555555556,\"#d8576b\"],[0.6666666666666666,\"#ed7953\"],[0.7777777777777778,\"#fb9f3a\"],[0.8888888888888888,\"#fdca26\"],[1.0,\"#f0f921\"]],\"type\":\"heatmapgl\"}],\"histogram\":[{\"marker\":{\"pattern\":{\"fillmode\":\"overlay\",\"size\":10,\"solidity\":0.2}},\"type\":\"histogram\"}],\"histogram2d\":[{\"colorbar\":{\"outlinewidth\":0,\"ticks\":\"\"},\"colorscale\":[[0.0,\"#0d0887\"],[0.1111111111111111,\"#46039f\"],[0.2222222222222222,\"#7201a8\"],[0.3333333333333333,\"#9c179e\"],[0.4444444444444444,\"#bd3786\"],[0.5555555555555556,\"#d8576b\"],[0.6666666666666666,\"#ed7953\"],[0.7777777777777778,\"#fb9f3a\"],[0.8888888888888888,\"#fdca26\"],[1.0,\"#f0f921\"]],\"type\":\"histogram2d\"}],\"histogram2dcontour\":[{\"colorbar\":{\"outlinewidth\":0,\"ticks\":\"\"},\"colorscale\":[[0.0,\"#0d0887\"],[0.1111111111111111,\"#46039f\"],[0.2222222222222222,\"#7201a8\"],[0.3333333333333333,\"#9c179e\"],[0.4444444444444444,\"#bd3786\"],[0.5555555555555556,\"#d8576b\"],[0.6666666666666666,\"#ed7953\"],[0.7777777777777778,\"#fb9f3a\"],[0.8888888888888888,\"#fdca26\"],[1.0,\"#f0f921\"]],\"type\":\"histogram2dcontour\"}],\"mesh3d\":[{\"colorbar\":{\"outlinewidth\":0,\"ticks\":\"\"},\"type\":\"mesh3d\"}],\"parcoords\":[{\"line\":{\"colorbar\":{\"outlinewidth\":0,\"ticks\":\"\"}},\"type\":\"parcoords\"}],\"pie\":[{\"automargin\":true,\"type\":\"pie\"}],\"scatter\":[{\"marker\":{\"colorbar\":{\"outlinewidth\":0,\"ticks\":\"\"}},\"type\":\"scatter\"}],\"scatter3d\":[{\"line\":{\"colorbar\":{\"outlinewidth\":0,\"ticks\":\"\"}},\"marker\":{\"colorbar\":{\"outlinewidth\":0,\"ticks\":\"\"}},\"type\":\"scatter3d\"}],\"scattercarpet\":[{\"marker\":{\"colorbar\":{\"outlinewidth\":0,\"ticks\":\"\"}},\"type\":\"scattercarpet\"}],\"scattergeo\":[{\"marker\":{\"colorbar\":{\"outlinewidth\":0,\"ticks\":\"\"}},\"type\":\"scattergeo\"}],\"scattergl\":[{\"marker\":{\"colorbar\":{\"outlinewidth\":0,\"ticks\":\"\"}},\"type\":\"scattergl\"}],\"scattermapbox\":[{\"marker\":{\"colorbar\":{\"outlinewidth\":0,\"ticks\":\"\"}},\"type\":\"scattermapbox\"}],\"scatterpolar\":[{\"marker\":{\"colorbar\":{\"outlinewidth\":0,\"ticks\":\"\"}},\"type\":\"scatterpolar\"}],\"scatterpolargl\":[{\"marker\":{\"colorbar\":{\"outlinewidth\":0,\"ticks\":\"\"}},\"type\":\"scatterpolargl\"}],\"scatterternary\":[{\"marker\":{\"colorbar\":{\"outlinewidth\":0,\"ticks\":\"\"}},\"type\":\"scatterternary\"}],\"surface\":[{\"colorbar\":{\"outlinewidth\":0,\"ticks\":\"\"},\"colorscale\":[[0.0,\"#0d0887\"],[0.1111111111111111,\"#46039f\"],[0.2222222222222222,\"#7201a8\"],[0.3333333333333333,\"#9c179e\"],[0.4444444444444444,\"#bd3786\"],[0.5555555555555556,\"#d8576b\"],[0.6666666666666666,\"#ed7953\"],[0.7777777777777778,\"#fb9f3a\"],[0.8888888888888888,\"#fdca26\"],[1.0,\"#f0f921\"]],\"type\":\"surface\"}],\"table\":[{\"cells\":{\"fill\":{\"color\":\"#EBF0F8\"},\"line\":{\"color\":\"white\"}},\"header\":{\"fill\":{\"color\":\"#C8D4E3\"},\"line\":{\"color\":\"white\"}},\"type\":\"table\"}]},\"layout\":{\"annotationdefaults\":{\"arrowcolor\":\"#2a3f5f\",\"arrowhead\":0,\"arrowwidth\":1},\"autotypenumbers\":\"strict\",\"coloraxis\":{\"colorbar\":{\"outlinewidth\":0,\"ticks\":\"\"}},\"colorscale\":{\"diverging\":[[0,\"#8e0152\"],[0.1,\"#c51b7d\"],[0.2,\"#de77ae\"],[0.3,\"#f1b6da\"],[0.4,\"#fde0ef\"],[0.5,\"#f7f7f7\"],[0.6,\"#e6f5d0\"],[0.7,\"#b8e186\"],[0.8,\"#7fbc41\"],[0.9,\"#4d9221\"],[1,\"#276419\"]],\"sequential\":[[0.0,\"#0d0887\"],[0.1111111111111111,\"#46039f\"],[0.2222222222222222,\"#7201a8\"],[0.3333333333333333,\"#9c179e\"],[0.4444444444444444,\"#bd3786\"],[0.5555555555555556,\"#d8576b\"],[0.6666666666666666,\"#ed7953\"],[0.7777777777777778,\"#fb9f3a\"],[0.8888888888888888,\"#fdca26\"],[1.0,\"#f0f921\"]],\"sequentialminus\":[[0.0,\"#0d0887\"],[0.1111111111111111,\"#46039f\"],[0.2222222222222222,\"#7201a8\"],[0.3333333333333333,\"#9c179e\"],[0.4444444444444444,\"#bd3786\"],[0.5555555555555556,\"#d8576b\"],[0.6666666666666666,\"#ed7953\"],[0.7777777777777778,\"#fb9f3a\"],[0.8888888888888888,\"#fdca26\"],[1.0,\"#f0f921\"]]},\"colorway\":[\"#636efa\",\"#EF553B\",\"#00cc96\",\"#ab63fa\",\"#FFA15A\",\"#19d3f3\",\"#FF6692\",\"#B6E880\",\"#FF97FF\",\"#FECB52\"],\"font\":{\"color\":\"#2a3f5f\"},\"geo\":{\"bgcolor\":\"white\",\"lakecolor\":\"white\",\"landcolor\":\"#E5ECF6\",\"showlakes\":true,\"showland\":true,\"subunitcolor\":\"white\"},\"hoverlabel\":{\"align\":\"left\"},\"hovermode\":\"closest\",\"mapbox\":{\"style\":\"light\"},\"paper_bgcolor\":\"white\",\"plot_bgcolor\":\"#E5ECF6\",\"polar\":{\"angularaxis\":{\"gridcolor\":\"white\",\"linecolor\":\"white\",\"ticks\":\"\"},\"bgcolor\":\"#E5ECF6\",\"radialaxis\":{\"gridcolor\":\"white\",\"linecolor\":\"white\",\"ticks\":\"\"}},\"scene\":{\"xaxis\":{\"backgroundcolor\":\"#E5ECF6\",\"gridcolor\":\"white\",\"gridwidth\":2,\"linecolor\":\"white\",\"showbackground\":true,\"ticks\":\"\",\"zerolinecolor\":\"white\"},\"yaxis\":{\"backgroundcolor\":\"#E5ECF6\",\"gridcolor\":\"white\",\"gridwidth\":2,\"linecolor\":\"white\",\"showbackground\":true,\"ticks\":\"\",\"zerolinecolor\":\"white\"},\"zaxis\":{\"backgroundcolor\":\"#E5ECF6\",\"gridcolor\":\"white\",\"gridwidth\":2,\"linecolor\":\"white\",\"showbackground\":true,\"ticks\":\"\",\"zerolinecolor\":\"white\"}},\"shapedefaults\":{\"line\":{\"color\":\"#2a3f5f\"}},\"ternary\":{\"aaxis\":{\"gridcolor\":\"white\",\"linecolor\":\"white\",\"ticks\":\"\"},\"baxis\":{\"gridcolor\":\"white\",\"linecolor\":\"white\",\"ticks\":\"\"},\"bgcolor\":\"#E5ECF6\",\"caxis\":{\"gridcolor\":\"white\",\"linecolor\":\"white\",\"ticks\":\"\"}},\"title\":{\"x\":0.05},\"xaxis\":{\"automargin\":true,\"gridcolor\":\"white\",\"linecolor\":\"white\",\"ticks\":\"\",\"title\":{\"standoff\":15},\"zerolinecolor\":\"white\",\"zerolinewidth\":2},\"yaxis\":{\"automargin\":true,\"gridcolor\":\"white\",\"linecolor\":\"white\",\"ticks\":\"\",\"title\":{\"standoff\":15},\"zerolinecolor\":\"white\",\"zerolinewidth\":2}}},\"xaxis\":{\"title\":{\"text\":\"lr\"}},\"yaxis\":{\"title\":{\"text\":\"Objective Value\"}}},                        {\"responsive\": true}                    ).then(function(){\n",
              "                            \n",
              "var gd = document.getElementById('9cb9fb7e-3319-4c08-bfca-20517a5fac5e');\n",
              "var x = new MutationObserver(function (mutations, observer) {{\n",
              "        var display = window.getComputedStyle(gd).display;\n",
              "        if (!display || display === 'none') {{\n",
              "            console.log([gd, 'removed!']);\n",
              "            Plotly.purge(gd);\n",
              "            observer.disconnect();\n",
              "        }}\n",
              "}});\n",
              "\n",
              "// Listen for the removal of the full notebook cells\n",
              "var notebookContainer = gd.closest('#notebook-container');\n",
              "if (notebookContainer) {{\n",
              "    x.observe(notebookContainer, {childList: true});\n",
              "}}\n",
              "\n",
              "// Listen for the clearing of the current output cell\n",
              "var outputEl = gd.closest('.output');\n",
              "if (outputEl) {{\n",
              "    x.observe(outputEl, {childList: true});\n",
              "}}\n",
              "\n",
              "                        })                };                            </script>        </div>\n",
              "</body>\n",
              "</html>"
            ]
          },
          "metadata": {}
        }
      ],
      "source": [
        "optuna.visualization.plot_slice(study,params=['lr'])"
      ]
    },
    {
      "cell_type": "code",
      "execution_count": 28,
      "metadata": {
        "id": "D0tsHeBYpsqP",
        "colab": {
          "base_uri": "https://localhost:8080/",
          "height": 542
        },
        "outputId": "a19c8853-3f32-4121-9705-1ff0202ba00f"
      },
      "outputs": [
        {
          "output_type": "display_data",
          "data": {
            "text/html": [
              "<html>\n",
              "<head><meta charset=\"utf-8\" /></head>\n",
              "<body>\n",
              "    <div>            <script src=\"https://cdnjs.cloudflare.com/ajax/libs/mathjax/2.7.5/MathJax.js?config=TeX-AMS-MML_SVG\"></script><script type=\"text/javascript\">if (window.MathJax) {MathJax.Hub.Config({SVG: {font: \"STIX-Web\"}});}</script>                <script type=\"text/javascript\">window.PlotlyConfig = {MathJaxConfig: 'local'};</script>\n",
              "        <script src=\"https://cdn.plot.ly/plotly-2.8.3.min.js\"></script>                <div id=\"9324058a-d872-4e62-af9c-b37637001a3a\" class=\"plotly-graph-div\" style=\"height:525px; width:100%;\"></div>            <script type=\"text/javascript\">                                    window.PLOTLYENV=window.PLOTLYENV || {};                                    if (document.getElementById(\"9324058a-d872-4e62-af9c-b37637001a3a\")) {                    Plotly.newPlot(                        \"9324058a-d872-4e62-af9c-b37637001a3a\",                        [{\"marker\":{\"maxdisplayed\":10},\"mode\":\"lines+markers\",\"name\":\"Trial0\",\"x\":[0,1,2,3,4,5,6,7,8,9],\"y\":[0.13533894125594495,0.1677585597490644,0.25946869788086596,0.4023931655811381,0.4697058504865785,0.5021590679670512,0.5280143028076912,0.5537583797650619,0.5765615832434892,0.6041932720322027],\"type\":\"scatter\"},{\"marker\":{\"maxdisplayed\":10},\"mode\":\"lines+markers\",\"name\":\"Trial1\",\"x\":[0,1,2,3],\"y\":[0.0013802622498274672,0.0,0.0,0.0],\"type\":\"scatter\"},{\"marker\":{\"maxdisplayed\":10},\"mode\":\"lines+markers\",\"name\":\"Trial2\",\"x\":[0,1,2,3],\"y\":[0.11316954427816171,0.1963178924627437,0.254102300574357,0.2829806671584067],\"type\":\"scatter\"},{\"marker\":{\"maxdisplayed\":10},\"mode\":\"lines+markers\",\"name\":\"Trial3\",\"x\":[0,1,2,3,4,5,6,7,8,9],\"y\":[0.15249701254087594,0.21995816266747195,0.26114577122902655,0.40387446993570825,0.4994301566899727,0.5466292040582986,0.5734339068222468,0.6118757629957698,0.6532576209243444,0.678854983701249],\"type\":\"scatter\"},{\"marker\":{\"maxdisplayed\":10},\"mode\":\"lines+markers\",\"name\":\"Trial4\",\"x\":[0,1,2,3,4,5,6,7,8,9],\"y\":[0.19288330310097607,0.28351312331099887,0.3062884537074743,0.33085304606424065,0.3342521501992868,0.3787459124619003,0.4376513777317086,0.4920882538037247,0.5501895383704155,0.6067314502893681],\"type\":\"scatter\"},{\"marker\":{\"maxdisplayed\":10},\"mode\":\"lines+markers\",\"name\":\"Trial5\",\"x\":[0,1,2,3,4,5,6,7,8,9],\"y\":[0.160848456077509,0.4405656949269576,0.631562566083335,0.72403581986492,0.7526414776773188,0.774016356299765,0.7863332110566863,0.8002199253393175,0.8141625703989814,0.8164077422695987],\"type\":\"scatter\"},{\"marker\":{\"maxdisplayed\":10},\"mode\":\"lines+markers\",\"name\":\"Trial6\",\"x\":[0,1,2,3],\"y\":[0.000772765246449457,0.0,0.0,0.0],\"type\":\"scatter\"},{\"marker\":{\"maxdisplayed\":10},\"mode\":\"lines+markers\",\"name\":\"Trial7\",\"x\":[0,1,2,3],\"y\":[0.000791419348120379,0.0,0.0,0.0],\"type\":\"scatter\"},{\"marker\":{\"maxdisplayed\":10},\"mode\":\"lines+markers\",\"name\":\"Trial8\",\"x\":[0,1,2,3,4,5,6,7,8,9],\"y\":[0.18303969111537183,0.4825594147236973,0.5894092901476382,0.6617985187436042,0.6691072286365318,0.6849670075327664,0.6807756911587095,0.6984334672382658,0.6942829686253773,0.6915694063825122],\"type\":\"scatter\"},{\"marker\":{\"maxdisplayed\":10},\"mode\":\"lines+markers\",\"name\":\"Trial9\",\"x\":[0,1,2,3,4,5,6,7,8,9],\"y\":[0.16204201726887757,0.2468932519386241,0.35565968212066223,0.4458422702524336,0.5205169663971841,0.5754902931309462,0.6026007809492385,0.6175125116867402,0.6625160864543806,0.6877269977451463],\"type\":\"scatter\"},{\"marker\":{\"maxdisplayed\":10},\"mode\":\"lines+markers\",\"name\":\"Trial10\",\"x\":[0,1,2,3,4,5,6,7,8,9],\"y\":[0.4223267274226819,0.6684740710487609,0.6867812134423069,0.7015384505791442,0.7146358992380951,0.712412558353792,0.7213937790779571,0.7181743276550663,0.7222917428491357,0.7145571443723105],\"type\":\"scatter\"},{\"marker\":{\"maxdisplayed\":10},\"mode\":\"lines+markers\",\"name\":\"Trial11\",\"x\":[0,1,2,3,4,5,6,7,8,9],\"y\":[0.5052466070837472,0.7994483063003427,0.8762617234911207,0.9033355401081334,0.9023535253227419,0.9169447202912948,0.917816396336752,0.9256482400970965,0.934402515723268,0.928888888888889],\"type\":\"scatter\"},{\"marker\":{\"maxdisplayed\":10},\"mode\":\"lines+markers\",\"name\":\"Trial12\",\"x\":[0,1,2,3,4,5,6,7,8,9],\"y\":[0.13362021325283563,0.295427737999381,0.43874683569491757,0.5123824042867282,0.5850083898782428,0.6087206662097231,0.6204402927719773,0.6327268887273805,0.6362335564001363,0.6470505002306062],\"type\":\"scatter\"},{\"marker\":{\"maxdisplayed\":10},\"mode\":\"lines+markers\",\"name\":\"Trial13\",\"x\":[0,1,2,3,4,5,6,7,8,9],\"y\":[0.47259810095043087,0.8294224705765103,0.9041397876253725,0.9321691159815532,0.941474096456497,0.9475779416694619,0.9473010346920853,0.9551416359369774,0.9554536517744714,0.9585126527801691],\"type\":\"scatter\"},{\"marker\":{\"maxdisplayed\":10},\"mode\":\"lines+markers\",\"name\":\"Trial14\",\"x\":[0,1,2,3,4,5,6,7,8,9],\"y\":[0.4261372498557234,0.700531678442749,0.7156119858687002,0.7234297256406657,0.7258356339587918,0.7212894615756555,0.7354938740972974,0.7535206393399155,0.7609440558077145,0.7635766147271225],\"type\":\"scatter\"},{\"marker\":{\"maxdisplayed\":10},\"mode\":\"lines+markers\",\"name\":\"Trial15\",\"x\":[0,1,2,3,4,5,6,7,8,9],\"y\":[0.39108208353491425,0.7395581357845509,0.7873504273504273,0.8052749556523142,0.8259667795516856,0.8337929366231244,0.8368343815513629,0.8338558297048858,0.8374052572165784,0.8408514755684564],\"type\":\"scatter\"},{\"marker\":{\"maxdisplayed\":10},\"mode\":\"lines+markers\",\"name\":\"Trial16\",\"x\":[0,1,2,3,4,5,6,7,8,9],\"y\":[0.14476853030662667,0.3593719871393738,0.48689105150723966,0.5339614612778629,0.5524785188701637,0.5566978400189889,0.567510433075114,0.5648193686209355,0.5733139416956174,0.5767745722115528],\"type\":\"scatter\"},{\"marker\":{\"maxdisplayed\":10},\"mode\":\"lines+markers\",\"name\":\"Trial17\",\"x\":[0,1,2,3,4,5,6,7,8,9],\"y\":[0.37737909044360574,0.7809644835451316,0.8433649862682144,0.8714423032164991,0.8778482986547526,0.8770979379043919,0.8811874505422912,0.8912370246241236,0.8928806498161359,0.8950788995950307],\"type\":\"scatter\"},{\"marker\":{\"maxdisplayed\":10},\"mode\":\"lines+markers\",\"name\":\"Trial18\",\"x\":[0,1,2,3,4,5,6,7,8,9],\"y\":[0.1406405062287196,0.26372696806069307,0.43631293034686797,0.5076534415451098,0.5309795364422463,0.5783642288731279,0.6139104137269932,0.6399529300858423,0.6637042370954299,0.6954910281708364],\"type\":\"scatter\"},{\"marker\":{\"maxdisplayed\":10},\"mode\":\"lines+markers\",\"name\":\"Trial19\",\"x\":[0,1,2,3,4,5,6,7,8,9],\"y\":[0.2752427248852694,0.5336073659707665,0.5964848827492903,0.6409011327161309,0.6435684537231081,0.6420990894500889,0.643400585590365,0.6445689477942537,0.6462869226994189,0.6380783782529112],\"type\":\"scatter\"},{\"marker\":{\"maxdisplayed\":10},\"mode\":\"lines+markers\",\"name\":\"Trial20\",\"x\":[0,1,2,3,4,5,6,7,8,9],\"y\":[0.376335481058989,0.7785140798987298,0.8494984372869476,0.8826790719109978,0.906237961095618,0.9072618075787829,0.907949830033741,0.91711949321534,0.9242956478039526,0.9269494912325499],\"type\":\"scatter\"},{\"marker\":{\"maxdisplayed\":10},\"mode\":\"lines+markers\",\"name\":\"Trial21\",\"x\":[0,1,2,3,4,5,6,7,8,9],\"y\":[0.38493113294700587,0.6665396043474856,0.6926952560504827,0.7167831585592945,0.7391367147114277,0.7432508550461482,0.760886453346771,0.8026204521825756,0.8048742698441655,0.8092450688236134],\"type\":\"scatter\"},{\"marker\":{\"maxdisplayed\":10},\"mode\":\"lines+markers\",\"name\":\"Trial22\",\"x\":[0,1,2,3,4,5,6,7,8,9],\"y\":[0.42472817819870096,0.6116100757044659,0.6361021459151776,0.6448189618303111,0.6741792436607982,0.7508360780060231,0.7480666040572653,0.72424747468067,0.7230977985300023,0.7250455240891877],\"type\":\"scatter\"},{\"marker\":{\"maxdisplayed\":10},\"mode\":\"lines+markers\",\"name\":\"Trial23\",\"x\":[0,1,2,3,4,5,6,7,8,9],\"y\":[0.23451042628879162,0.584453184882372,0.6875135119199707,0.7540842849000612,0.7647107957783855,0.8041643737347934,0.8420788211709677,0.8470106719600633,0.851225162634382,0.851016342053026],\"type\":\"scatter\"},{\"marker\":{\"maxdisplayed\":10},\"mode\":\"lines+markers\",\"name\":\"Trial24\",\"x\":[0,1,2,3,4,5,6,7,8,9],\"y\":[0.15614585440303033,0.302358212431581,0.3475993110592158,0.42382607309882386,0.47133111450269366,0.5090144591753548,0.5133334559206615,0.5375263103053037,0.5321469331715181,0.5342073809830278],\"type\":\"scatter\"},{\"marker\":{\"maxdisplayed\":10},\"mode\":\"lines+markers\",\"name\":\"Trial25\",\"x\":[0,1,2,3,4,5,6,7,8,9],\"y\":[0.14326918631596527,0.3222728061196612,0.4249056936829954,0.5365025050921399,0.5928217542789832,0.6260542477674246,0.6426052308723328,0.6566884221682985,0.6640131373580629,0.6595338499787371],\"type\":\"scatter\"},{\"marker\":{\"maxdisplayed\":10},\"mode\":\"lines+markers\",\"name\":\"Trial26\",\"x\":[0,1,2,3,4,5,6,7,8,9],\"y\":[0.4612352846315109,0.6693904208998543,0.6977890662796324,0.6780196742460889,0.7147653604257389,0.716574746008709,0.7150653120464437,0.7229688759877438,0.7209917755200772,0.7228221254636349],\"type\":\"scatter\"},{\"marker\":{\"maxdisplayed\":10},\"mode\":\"lines+markers\",\"name\":\"Trial27\",\"x\":[0,1,2,3,4,5,6,7,8,9],\"y\":[0.34618188870045413,0.5984818210616146,0.6256969224563302,0.6294231776698627,0.696589204426978,0.7200580460800772,0.7241184945863038,0.7246106059771648,0.7266790741810261,0.7252547517814623],\"type\":\"scatter\"},{\"marker\":{\"maxdisplayed\":10},\"mode\":\"lines+markers\",\"name\":\"Trial28\",\"x\":[0,1,2,3,4,5,6,7,8,9],\"y\":[0.2114810412496246,0.56580275426699,0.6612109003413355,0.6960939601192057,0.7076107112923379,0.718217265552469,0.7273436028695497,0.7302152132096034,0.7394382711703887,0.7395787642982596],\"type\":\"scatter\"},{\"marker\":{\"maxdisplayed\":10},\"mode\":\"lines+markers\",\"name\":\"Trial29\",\"x\":[0,1,2,3,4,5,6,7,8,9],\"y\":[0.09630960600820739,0.15446672384094418,0.2546120473233221,0.3540432892852618,0.4126498420411347,0.4915925291393152,0.579020356563203,0.6284113709158037,0.6773827977058658,0.7065651591096465],\"type\":\"scatter\"},{\"marker\":{\"maxdisplayed\":10},\"mode\":\"lines+markers\",\"name\":\"Trial30\",\"x\":[0,1,2,3,4,5,6,7,8,9],\"y\":[0.2797285692951015,0.6423527772444101,0.810831226531831,0.8339963757680493,0.8457161258320529,0.8557524348224954,0.8586102843915342,0.8583152655103254,0.8648916864012632,0.8655823972734257],\"type\":\"scatter\"},{\"marker\":{\"maxdisplayed\":10},\"mode\":\"lines+markers\",\"name\":\"Trial31\",\"x\":[0,1,2,3,4,5,6,7,8,9],\"y\":[0.2622835747358049,0.5148832835368358,0.6296234153027901,0.6640797228240616,0.6822630771077182,0.694430188047577,0.7047982294344677,0.7174102715540922,0.7250266090164293,0.7379051360928809],\"type\":\"scatter\"},{\"marker\":{\"maxdisplayed\":10},\"mode\":\"lines+markers\",\"name\":\"Trial32\",\"x\":[0,1,2,3,4,5,6,7,8,9],\"y\":[0.47890196643031113,0.7970868619556666,0.8261955323827683,0.8388163025351228,0.8479877211655634,0.8515591925860789,0.8639802859919473,0.8738612855068953,0.8802166621246635,0.8821542978491471],\"type\":\"scatter\"},{\"marker\":{\"maxdisplayed\":10},\"mode\":\"lines+markers\",\"name\":\"Trial33\",\"x\":[0,1,2,3,4,5,6,7,8,9],\"y\":[0.35798279029556385,0.7278962014372939,0.7660047549575835,0.7822296968714536,0.7918706435402822,0.8009361322742741,0.8021329767115145,0.8029414545847514,0.8042686551034741,0.8045969092775709],\"type\":\"scatter\"},{\"marker\":{\"maxdisplayed\":10},\"mode\":\"lines+markers\",\"name\":\"Trial34\",\"x\":[0,1,2,3],\"y\":[0.0009009386523633926,0.0,0.0,0.0],\"type\":\"scatter\"},{\"marker\":{\"maxdisplayed\":10},\"mode\":\"lines+markers\",\"name\":\"Trial35\",\"x\":[0,1,2,3,4,5,6,7,8,9],\"y\":[0.17283347195891108,0.39664746818581714,0.5754824983271998,0.6431229709552306,0.6656362681684697,0.6805066687421776,0.6943675808210349,0.7041378766898384,0.6978838495780824,0.7101332393157628],\"type\":\"scatter\"},{\"marker\":{\"maxdisplayed\":10},\"mode\":\"lines+markers\",\"name\":\"Trial36\",\"x\":[0,1,2,3,4,5,6,7,8,9],\"y\":[0.2567403654530577,0.4818553770618888,0.5921421132379828,0.6632433665219313,0.6961873896377965,0.7115996303967359,0.7553298826587941,0.7794978837863972,0.7908811944763102,0.7939859206214348],\"type\":\"scatter\"},{\"marker\":{\"maxdisplayed\":10},\"mode\":\"lines+markers\",\"name\":\"Trial37\",\"x\":[0,1,2,3,4,5,6,7,8,9],\"y\":[0.11625321329648822,0.25017747687528824,0.3609051403420122,0.452502247488551,0.5041729612466489,0.5309085988210499,0.5460442153779366,0.5545013250531995,0.5672433238240407,0.5659768704520326],\"type\":\"scatter\"},{\"marker\":{\"maxdisplayed\":10},\"mode\":\"lines+markers\",\"name\":\"Trial38\",\"x\":[0,1,2,3,4,5,6,7,8,9],\"y\":[0.18226183375036475,0.36996870327763437,0.5657763541039933,0.6984653760642052,0.758867146446453,0.7704727991371877,0.7695372113380893,0.7788335687473471,0.7836827101102349,0.7873141972296023],\"type\":\"scatter\"},{\"marker\":{\"maxdisplayed\":10},\"mode\":\"lines+markers\",\"name\":\"Trial39\",\"x\":[0,1,2,3],\"y\":[0.0008380473496752566,0.0,0.0,0.0],\"type\":\"scatter\"},{\"marker\":{\"maxdisplayed\":10},\"mode\":\"lines+markers\",\"name\":\"Trial40\",\"x\":[0,1,2,3,4,5,6,7,8,9],\"y\":[0.39534104821802946,0.7096697693920333,0.7231954716981129,0.7504838574423477,0.7547022222222225,0.7625920335429771,0.764853501048218,0.7648707756813414,0.7666145073375268,0.7660211320754714],\"type\":\"scatter\"},{\"marker\":{\"maxdisplayed\":10},\"mode\":\"lines+markers\",\"name\":\"Trial41\",\"x\":[0,1,2,3,4,5,6,7,8,9],\"y\":[0.3735026437695942,0.6318506972064949,0.7098292273017949,0.7230753708296281,0.7310607833044779,0.7330372740317878,0.6980209746853211,0.6958329433968153,0.7357512321993979,0.7384910236613483],\"type\":\"scatter\"},{\"marker\":{\"maxdisplayed\":10},\"mode\":\"lines+markers\",\"name\":\"Trial42\",\"x\":[0,1,2,3,4,5,6,7,8,9],\"y\":[0.3208145440085838,0.5879751749528235,0.6459388492106344,0.6602457309454397,0.658614894685513,0.6731527330004821,0.680314100949022,0.6862264180048437,0.6903167918716996,0.6885089888815197],\"type\":\"scatter\"},{\"marker\":{\"maxdisplayed\":10},\"mode\":\"lines+markers\",\"name\":\"Trial43\",\"x\":[0,1,2,3,4,5,6,7,8,9],\"y\":[0.3908403269262996,0.7966846501914372,0.8240128398499448,0.8657407407407413,0.8724974539454176,0.8733047788477648,0.8826059352077447,0.8867118510783658,0.8825656495339742,0.890690464219875],\"type\":\"scatter\"},{\"marker\":{\"maxdisplayed\":10},\"mode\":\"lines+markers\",\"name\":\"Trial44\",\"x\":[0,1,2,3,4,5,6,7,8,9],\"y\":[0.4032600033554233,0.6808013869082563,0.7390697089170366,0.7688987221429964,0.7766808573106282,0.7818761709028882,0.7806482957246316,0.7846290160221455,0.8138785196991315,0.8233977854206871],\"type\":\"scatter\"},{\"marker\":{\"maxdisplayed\":10},\"mode\":\"lines+markers\",\"name\":\"Trial45\",\"x\":[0,1,2,3],\"y\":[0.0008191040262113288,0.0,0.0,0.0],\"type\":\"scatter\"},{\"marker\":{\"maxdisplayed\":10},\"mode\":\"lines+markers\",\"name\":\"Trial46\",\"x\":[0,1,2,3,4,5,6,7,8,9],\"y\":[0.295845600785117,0.7133976574500765,0.7765727006528418,0.80965415119901,0.8172329695767194,0.8287430395545319,0.8402754442951016,0.846600182411674,0.8540743274236218,0.8561731284135518],\"type\":\"scatter\"},{\"marker\":{\"maxdisplayed\":10},\"mode\":\"lines+markers\",\"name\":\"Trial47\",\"x\":[0,1,2,3,4,5,6,7,8,9],\"y\":[0.15673305803911494,0.4092267457371646,0.6104501998242226,0.6805811129113042,0.7503418503672109,0.7885792431842562,0.8037370759167964,0.8129062572403374,0.8205535592576465,0.819051255798371],\"type\":\"scatter\"},{\"marker\":{\"maxdisplayed\":10},\"mode\":\"lines+markers\",\"name\":\"Trial48\",\"x\":[0,1,2,3,4,5,6,7,8,9],\"y\":[0.2372303817145795,0.5616130603961665,0.6171412405009049,0.6285252707375217,0.6368439172199308,0.6498230577147063,0.658433735152397,0.6758241667734428,0.6835322191211091,0.6901266240103806],\"type\":\"scatter\"},{\"marker\":{\"maxdisplayed\":10},\"mode\":\"lines+markers\",\"name\":\"Trial49\",\"x\":[0,1,2,3,4,5,6,7,8,9],\"y\":[0.35588420390182474,0.6733663729809105,0.7367094084329754,0.7862374134675887,0.791779421019508,0.7944357037969366,0.7959369100062932,0.797515470946087,0.7943347493182291,0.7998177574994749],\"type\":\"scatter\"},{\"marker\":{\"maxdisplayed\":10},\"mode\":\"lines+markers\",\"name\":\"Trial50\",\"x\":[0,1,2,3],\"y\":[0.0010269092128426523,0.0,0.0,0.0],\"type\":\"scatter\"},{\"marker\":{\"maxdisplayed\":10},\"mode\":\"lines+markers\",\"name\":\"Trial51\",\"x\":[0,1,2,3,4,5,6,7,8,9],\"y\":[0.23096124770418777,0.5677331412123243,0.626134545589842,0.6514701654337776,0.6673194722084109,0.6775972697169254,0.6867893129306236,0.7029349190081413,0.7187788139233608,0.7226543817457977],\"type\":\"scatter\"},{\"marker\":{\"maxdisplayed\":10},\"mode\":\"lines+markers\",\"name\":\"Trial52\",\"x\":[0,1,2,3,4,5,6,7,8,9],\"y\":[0.44471820411920043,0.7333313183234595,0.8117782527134381,0.8450668658276426,0.8310896848394552,0.843648721378735,0.8369221634186004,0.8451395036835684,0.8740371827821964,0.8790545573673323],\"type\":\"scatter\"},{\"marker\":{\"maxdisplayed\":10},\"mode\":\"lines+markers\",\"name\":\"Trial53\",\"x\":[0,1,2,3,4,5,6,7,8,9],\"y\":[0.2891142947634262,0.6166405475552929,0.7077847291633246,0.7424449956193934,0.7523751938367124,0.7617040355055377,0.7706120921202547,0.7705285932287746,0.7711468140853989,0.770169095538362],\"type\":\"scatter\"},{\"marker\":{\"maxdisplayed\":10},\"mode\":\"lines+markers\",\"name\":\"Trial54\",\"x\":[0,1,2,3,4,5,6,7,8,9],\"y\":[0.2520940242451288,0.521079689126878,0.6083535531012939,0.6399184701770041,0.6446282816450988,0.6656080339878031,0.6744303603302096,0.6790588279042097,0.6588588148891866,0.6549984660865686],\"type\":\"scatter\"},{\"marker\":{\"maxdisplayed\":10},\"mode\":\"lines+markers\",\"name\":\"Trial55\",\"x\":[0,1,2,3,4,5,6,7,8,9],\"y\":[0.2923032588374966,0.6062252690202635,0.6482139545335789,0.6603628473843874,0.6709058764124487,0.6965792223896325,0.7000911399636383,0.6963617792903463,0.7038105168681689,0.6993547101051983],\"type\":\"scatter\"},{\"marker\":{\"maxdisplayed\":10},\"mode\":\"lines+markers\",\"name\":\"Trial56\",\"x\":[0,1,2,3,4,5,6,7,8,9],\"y\":[0.4912457524017283,0.7167984645718846,0.7302257694620413,0.7490620324145931,0.7667246996965504,0.7411723371229604,0.7248136650305553,0.7248321936485295,0.7212037308945481,0.6719043224119361],\"type\":\"scatter\"},{\"marker\":{\"maxdisplayed\":10},\"mode\":\"lines+markers\",\"name\":\"Trial57\",\"x\":[0,1,2,3,4,5,6,7,8,9],\"y\":[0.5401386873084986,0.8536671504596031,0.9144444444444445,0.920859538784067,0.92979035639413,0.9297484276729558,0.9319351717464927,0.9322206095790998,0.9198661506208673,0.9355136268343813],\"type\":\"scatter\"},{\"marker\":{\"maxdisplayed\":10},\"mode\":\"lines+markers\",\"name\":\"Trial58\",\"x\":[0,1,2,3,4,5,6,7,8,9],\"y\":[0.5220877215515024,0.7778591752455107,0.8112213242703872,0.8225839277598855,0.8365473532375659,0.8148953249422033,0.8002156237032938,0.80265096129147,0.8019581497362132,0.8011788911063255],\"type\":\"scatter\"},{\"marker\":{\"maxdisplayed\":10},\"mode\":\"lines+markers\",\"name\":\"Trial59\",\"x\":[0,1,2,3,4,5,6,7,8,9],\"y\":[0.24986488568385987,0.5171909173292518,0.567584020824149,0.6256548908180258,0.6403561111698174,0.6659664560697903,0.6765959233369014,0.6806224900670065,0.6912035687969362,0.694723479078896],\"type\":\"scatter\"},{\"marker\":{\"maxdisplayed\":10},\"mode\":\"lines+markers\",\"name\":\"Trial60\",\"x\":[0,1,2,3,4,5,6,7,8,9],\"y\":[0.22922156299926288,0.6550635648716859,0.726636971577747,0.746989712066857,0.7605724185338684,0.7881756776376299,0.7726076100567991,0.7944505557819079,0.7991977863475745,0.8015673517443703],\"type\":\"scatter\"},{\"marker\":{\"maxdisplayed\":10},\"mode\":\"lines+markers\",\"name\":\"Trial61\",\"x\":[0,1,2,3,4,5,6,7,8,9],\"y\":[0.5195437732715297,0.7610415788786297,0.781706574800336,0.8631985155504948,0.8635422750223612,0.8752042226969952,0.8637726801164087,0.8791802507103115,0.8792184462071864,0.8780540996089257],\"type\":\"scatter\"},{\"marker\":{\"maxdisplayed\":10},\"mode\":\"lines+markers\",\"name\":\"Trial62\",\"x\":[0,1,2,3,4,5,6,7,8,9],\"y\":[0.32717377860234986,0.5922972265829411,0.6664364207221354,0.6815222872365722,0.6871395271395268,0.6904219589933867,0.6912382855239994,0.6903648732220155,0.6860701203558348,0.6901688787403065],\"type\":\"scatter\"},{\"marker\":{\"maxdisplayed\":10},\"mode\":\"lines+markers\",\"name\":\"Trial63\",\"x\":[0,1,2,3,4,5,6,7,8,9],\"y\":[0.297135166880951,0.6507937587726155,0.7296078484726861,0.7469183883102833,0.7563724056298939,0.7555305746219414,0.7650293762173964,0.764893889610728,0.7669738074344172,0.7715253637730357],\"type\":\"scatter\"},{\"marker\":{\"maxdisplayed\":10},\"mode\":\"lines+markers\",\"name\":\"Trial64\",\"x\":[0,1,2,3,4,5,6,7,8,9],\"y\":[0.34705224210572855,0.6518344429635337,0.7433714334442966,0.7681197926865481,0.7790496238416794,0.7868388804315566,0.7910442104465265,0.7889075932815793,0.7882510533064667,0.7931681942505577],\"type\":\"scatter\"},{\"marker\":{\"maxdisplayed\":10},\"mode\":\"lines+markers\",\"name\":\"Trial65\",\"x\":[0,1,2,3,4,5,6,7,8,9],\"y\":[0.2085205952584001,0.44593969715920945,0.5395666325544373,0.5553449599181307,0.569597949475998,0.5765201262152482,0.5714735298576763,0.5878783140978261,0.6112793033524743,0.6168083271741807],\"type\":\"scatter\"},{\"marker\":{\"maxdisplayed\":10},\"mode\":\"lines+markers\",\"name\":\"Trial66\",\"x\":[0,1,2,3,4,5,6,7,8,9],\"y\":[0.3670982862903226,0.6482903225806451,0.7066740591397849,0.7316517137096774,0.7521525537634408,0.765609375,0.773235383064516,0.780206317204301,0.7800798051075268,0.7776426411290324],\"type\":\"scatter\"},{\"marker\":{\"maxdisplayed\":10},\"mode\":\"lines+markers\",\"name\":\"Trial67\",\"x\":[0,1,2,3,4,5,6,7,8,9],\"y\":[0.4687524942930572,0.8358425921491628,0.8693394513353447,0.8932457537154995,0.9082993111760294,0.9077445804000451,0.9139872970643166,0.9300310888686686,0.9444461073064835,0.9498208099867491],\"type\":\"scatter\"},{\"marker\":{\"maxdisplayed\":10},\"mode\":\"lines+markers\",\"name\":\"Trial68\",\"x\":[0,1,2,3,4,5,6,7,8,9],\"y\":[0.46271370883154983,0.743774910845395,0.7586322634780774,0.7628133522131314,0.7728157121879591,0.8052129221732737,0.8401444829032922,0.8476728026012155,0.8365284770295778,0.8094805433186485],\"type\":\"scatter\"},{\"marker\":{\"maxdisplayed\":10},\"mode\":\"lines+markers\",\"name\":\"Trial69\",\"x\":[0,1,2,3],\"y\":[0.00039857352632683026,0.0,0.0,0.0],\"type\":\"scatter\"},{\"marker\":{\"maxdisplayed\":10},\"mode\":\"lines+markers\",\"name\":\"Trial70\",\"x\":[0,1,2,3,4,5,6,7,8,9],\"y\":[0.23546472403576854,0.5383584306287224,0.6304394339808111,0.656693286762621,0.6704637891518757,0.6839465978900517,0.6911786958273322,0.6931091828729251,0.6942953770473456,0.7043212839329102],\"type\":\"scatter\"},{\"marker\":{\"maxdisplayed\":10},\"mode\":\"lines+markers\",\"name\":\"Trial71\",\"x\":[0,1,2,3,4,5,6,7,8,9],\"y\":[0.38685704360307505,0.7438968292142891,0.8491486100613084,0.889536903425792,0.9157447490780831,0.9078545278942111,0.9279668376890616,0.9375324484451494,0.9420203547187715,0.9514518770471183],\"type\":\"scatter\"},{\"marker\":{\"maxdisplayed\":10},\"mode\":\"lines+markers\",\"name\":\"Trial72\",\"x\":[0,1,2,3,4,5,6,7,8,9],\"y\":[0.4686801313785439,0.8500779691255885,0.9016022825546657,0.9168062620443601,0.9246587857698993,0.9216296795661896,0.9187810259238851,0.9176097866574082,0.9214072348993009,0.9230296055692897],\"type\":\"scatter\"},{\"marker\":{\"maxdisplayed\":10},\"mode\":\"lines+markers\",\"name\":\"Trial73\",\"x\":[0,1,2,3,4,5,6,7,8,9],\"y\":[0.3751654935478465,0.7101684263448961,0.8072251550192714,0.8637338696162215,0.8767135914194727,0.8806309703368514,0.8861509133567946,0.8881012233953397,0.8972410759175449,0.9044117647058812],\"type\":\"scatter\"},{\"marker\":{\"maxdisplayed\":10},\"mode\":\"lines+markers\",\"name\":\"Trial74\",\"x\":[0,1,2,3,4,5,6,7,8,9],\"y\":[0.3349445941898773,0.7206329240291507,0.7872626534890687,0.8049565738244979,0.8053419187381452,0.8204182889088548,0.8161195966856344,0.8280882499750422,0.8340581012279124,0.8302605570530103],\"type\":\"scatter\"},{\"marker\":{\"maxdisplayed\":10},\"mode\":\"lines+markers\",\"name\":\"Trial75\",\"x\":[0,1,2,3,4,5,6,7,8,9],\"y\":[0.33173356602675974,0.5082730269536556,0.5817114601512509,0.6255730075625363,0.617281365134768,0.5890525499321312,0.5958394415357771,0.598389761489238,0.602273414776032,0.6057436494085707],\"type\":\"scatter\"},{\"marker\":{\"maxdisplayed\":10},\"mode\":\"lines+markers\",\"name\":\"Trial76\",\"x\":[0,1,2,3,4,5,6,7,8,9],\"y\":[0.42486116457857687,0.6146708796912148,0.6272470628891743,0.6311735865213708,0.6387102757904825,0.6394979944935925,0.6459591936301511,0.7006065434013946,0.7192386317580233,0.7206832062184042],\"type\":\"scatter\"},{\"marker\":{\"maxdisplayed\":10},\"mode\":\"lines+markers\",\"name\":\"Trial77\",\"x\":[0,1,2,3,4,5,6,7,8,9],\"y\":[0.3407155035193475,0.6614607824330831,0.7502001719073507,0.7923983904764004,0.8027139632566426,0.8109850947612394,0.8162860429677844,0.8272778148414105,0.831473644362282,0.834860298399021],\"type\":\"scatter\"},{\"marker\":{\"maxdisplayed\":10},\"mode\":\"lines+markers\",\"name\":\"Trial78\",\"x\":[0,1,2,3,4,5,6,7,8,9],\"y\":[0.4318707597151965,0.7069174078424795,0.7546058782633712,0.7917725489255951,0.7892718297253452,0.812979466832883,0.8178550451897492,0.8177286857015001,0.7839227778710078,0.8141167022271231],\"type\":\"scatter\"},{\"marker\":{\"maxdisplayed\":10},\"mode\":\"lines+markers\",\"name\":\"Trial79\",\"x\":[0,1,2,3,4,5,6,7,8,9],\"y\":[0.44746242219423604,0.6524035978653814,0.7348686475614062,0.7397923820568806,0.762779058810738,0.768070870065506,0.772235233892961,0.7773803807159485,0.7707572641364125,0.7501126881155371],\"type\":\"scatter\"},{\"marker\":{\"maxdisplayed\":10},\"mode\":\"lines+markers\",\"name\":\"Trial80\",\"x\":[0,1,2,3,4,5,6,7,8,9],\"y\":[0.26463101677507705,0.5055527102590429,0.5392356042451212,0.5618090608239192,0.6073961885199132,0.6465509985164891,0.6592575145498116,0.6594242154513285,0.6651223553577538,0.665646376811593],\"type\":\"scatter\"},{\"marker\":{\"maxdisplayed\":10},\"mode\":\"lines+markers\",\"name\":\"Trial81\",\"x\":[0,1,2,3,4,5,6,7,8,9],\"y\":[0.3191212503046803,0.6407778055358517,0.6911626600825325,0.712709256871795,0.7243959123906576,0.7289551759790951,0.7375012688681454,0.7401114902012985,0.7428352258463726,0.7418397342032755],\"type\":\"scatter\"},{\"marker\":{\"maxdisplayed\":10},\"mode\":\"lines+markers\",\"name\":\"Trial82\",\"x\":[0,1,2,3,4,5,6,7,8,9],\"y\":[0.4118033526030175,0.7720535901193215,0.8175568831419782,0.8388705495885735,0.8551359881483379,0.8572937633854524,0.855242266630166,0.8638846395388154,0.8692452617510183,0.881700777765253],\"type\":\"scatter\"},{\"marker\":{\"maxdisplayed\":10},\"mode\":\"lines+markers\",\"name\":\"Trial83\",\"x\":[0,1,2,3,4,5,6,7,8,9],\"y\":[0.4190977170480898,0.6643168259423834,0.7079735658199926,0.7393047754771307,0.7700644612568847,0.7756150976611658,0.7780313032665533,0.7945338914969161,0.7603791181155202,0.7504842016654127],\"type\":\"scatter\"},{\"marker\":{\"maxdisplayed\":10},\"mode\":\"lines+markers\",\"name\":\"Trial84\",\"x\":[0,1,2,3,4,5,6,7,8,9],\"y\":[0.3553921195900119,0.7486421170554662,0.8081766983991807,0.8264476058679808,0.8380691322728795,0.8432966331092795,0.8509959497957156,0.8529443819256463,0.8594264829627823,0.8606525695225923],\"type\":\"scatter\"},{\"marker\":{\"maxdisplayed\":10},\"mode\":\"lines+markers\",\"name\":\"Trial85\",\"x\":[0,1,2,3],\"y\":[0.000502828409805154,0.0,0.0,0.0],\"type\":\"scatter\"},{\"marker\":{\"maxdisplayed\":10},\"mode\":\"lines+markers\",\"name\":\"Trial86\",\"x\":[0,1,2,3,4,5,6,7,8,9],\"y\":[0.34676721128334,0.7543450635386149,0.8181757668854466,0.8693573988735301,0.8733275147791301,0.8833868640320276,0.8820290462225967,0.8888120839733766,0.888338919145373,0.8901908485779475],\"type\":\"scatter\"},{\"marker\":{\"maxdisplayed\":10},\"mode\":\"lines+markers\",\"name\":\"Trial87\",\"x\":[0,1,2,3,4,5,6,7,8,9],\"y\":[0.12120365278691773,0.24202321980726413,0.41692394459519155,0.5578201484733477,0.6292971743187084,0.6688225689404937,0.6830934088471008,0.6973401905723482,0.7035933457436736,0.7527880446051078],\"type\":\"scatter\"},{\"marker\":{\"maxdisplayed\":10},\"mode\":\"lines+markers\",\"name\":\"Trial88\",\"x\":[0,1,2,3,4,5,6,7,8,9],\"y\":[0.4770739955456318,0.7819505076424077,0.8188524726739547,0.8457536323647018,0.8182880398560385,0.8577669218763891,0.8709819742513109,0.8690724140229279,0.8660870989958241,0.8720493979383276],\"type\":\"scatter\"},{\"marker\":{\"maxdisplayed\":10},\"mode\":\"lines+markers\",\"name\":\"Trial89\",\"x\":[0,1,2,3,4,5,6,7,8,9],\"y\":[0.10504933217351517,0.23844903583465676,0.38020189082280575,0.4778171477517883,0.5070161017873436,0.515789554188247,0.5278762027128039,0.5668654451334189,0.573975316622375,0.571324161193442],\"type\":\"scatter\"},{\"marker\":{\"maxdisplayed\":10},\"mode\":\"lines+markers\",\"name\":\"Trial90\",\"x\":[0,1,2,3,4,5,6,7,8,9],\"y\":[0.10234460751731116,0.19097428609992695,0.29201842782815973,0.31560304278179735,0.3512998291172927,0.446424196583874,0.5162962510218582,0.5449315832499292,0.5791908920281051,0.6083307229790129],\"type\":\"scatter\"},{\"marker\":{\"maxdisplayed\":10},\"mode\":\"lines+markers\",\"name\":\"Trial91\",\"x\":[0,1,2,3,4,5,6,7,8,9],\"y\":[0.35584090162272525,0.682427166138809,0.7759646510197099,0.8159495493983816,0.8472644391775207,0.8493476239416624,0.8543180149757742,0.8546295558305542,0.8644394571806112,0.8664172102551192],\"type\":\"scatter\"},{\"marker\":{\"maxdisplayed\":10},\"mode\":\"lines+markers\",\"name\":\"Trial92\",\"x\":[0,1,2,3,4,5,6,7,8,9],\"y\":[0.4261835173558495,0.7471884697264913,0.7769150970628566,0.801037607346467,0.8055024085299859,0.8084142942195283,0.8311516742440643,0.8325870949700511,0.834366430324024,0.8281407862452193],\"type\":\"scatter\"},{\"marker\":{\"maxdisplayed\":10},\"mode\":\"lines+markers\",\"name\":\"Trial93\",\"x\":[0,1,2,3,4,5,6,7,8,9],\"y\":[0.4937933586582231,0.6736852142257544,0.7195328006138814,0.7443525551633652,0.7552385119952675,0.7586932992338391,0.7622059784221938,0.7719403395079056,0.7645880618853579,0.7702359323980941],\"type\":\"scatter\"},{\"marker\":{\"maxdisplayed\":10},\"mode\":\"lines+markers\",\"name\":\"Trial94\",\"x\":[0,1,2,3,4,5,6,7,8,9],\"y\":[0.35349427746432593,0.7541623843782114,0.8361183239996915,0.865251868476064,0.8798291279512827,0.8912602163167423,0.8960060406485313,0.9015161748152503,0.9000960630912181,0.9047468031405791],\"type\":\"scatter\"},{\"marker\":{\"maxdisplayed\":10},\"mode\":\"lines+markers\",\"name\":\"Trial95\",\"x\":[0,1,2,3,4,5,6,7,8,9],\"y\":[0.42148116465877766,0.7428385997997463,0.743676162616958,0.7428649410610556,0.7378153063860742,0.7249057072137554,0.7288716296579381,0.7301288668078668,0.7290295284051067,0.728647208064414],\"type\":\"scatter\"},{\"marker\":{\"maxdisplayed\":10},\"mode\":\"lines+markers\",\"name\":\"Trial96\",\"x\":[0,1,2,3,4,5,6,7,8,9],\"y\":[0.3688372468328894,0.7215014369153805,0.7908737252419176,0.8189975420367577,0.825452023164442,0.8443584778007439,0.8415505961802257,0.8105343276911905,0.8078032574219939,0.8128285818917635],\"type\":\"scatter\"},{\"marker\":{\"maxdisplayed\":10},\"mode\":\"lines+markers\",\"name\":\"Trial97\",\"x\":[0,1,2,3],\"y\":[0.00025142474019443513,0.0,0.0,0.0],\"type\":\"scatter\"},{\"marker\":{\"maxdisplayed\":10},\"mode\":\"lines+markers\",\"name\":\"Trial98\",\"x\":[0,1,2,3,4,5,6,7,8,9],\"y\":[0.47889533946137686,0.7171198193839712,0.7062312530237058,0.713344621835188,0.7166424770198357,0.7206402193194649,0.71557490727302,0.7208579261409445,0.723023705853895,0.723939687147234],\"type\":\"scatter\"},{\"marker\":{\"maxdisplayed\":10},\"mode\":\"lines+markers\",\"name\":\"Trial99\",\"x\":[0,1,2,3,4,5,6,7,8,9],\"y\":[0.44445804612005074,0.8099527292926885,0.8565304274743621,0.9284074677257039,0.9500302994232294,0.9529146061255335,0.9618110037405361,0.9604549692857633,0.968049889443176,0.9633579876854479],\"type\":\"scatter\"},{\"marker\":{\"maxdisplayed\":10},\"mode\":\"lines+markers\",\"name\":\"Trial100\",\"x\":[0,1,2,3,4,5,6,7,8,9],\"y\":[0.28714071242443884,0.5843325485112636,0.6559370907792221,0.6957971234948399,0.7147226888533221,0.7364711886527074,0.7439617200830675,0.7540822872713329,0.7564698218277541,0.7503169049792107],\"type\":\"scatter\"},{\"marker\":{\"maxdisplayed\":10},\"mode\":\"lines+markers\",\"name\":\"Trial101\",\"x\":[0,1,2,3,4,5,6,7,8,9],\"y\":[0.1399676611633133,0.3274262975349933,0.4790576171010954,0.5689787165330644,0.5978453309975053,0.6165203455964328,0.625784471164906,0.644254326591283,0.6523312939073812,0.6742545699067439],\"type\":\"scatter\"},{\"marker\":{\"maxdisplayed\":10},\"mode\":\"lines+markers\",\"name\":\"Trial102\",\"x\":[0,1,2,3,4,5,6,7,8,9],\"y\":[0.48900902510946365,0.7043098756305797,0.7405308107434817,0.7458435214444504,0.7385439598378569,0.7306832059311738,0.7405551809760553,0.7341735647963871,0.742720069969646,0.7481519240298621],\"type\":\"scatter\"},{\"marker\":{\"maxdisplayed\":10},\"mode\":\"lines+markers\",\"name\":\"Trial103\",\"x\":[0,1,2,3,4,5,6,7,8,9],\"y\":[0.34328959282133054,0.6612342392259142,0.7018271010986932,0.7226538463271037,0.7264794518696707,0.7310116175881005,0.7324630277804057,0.7368215378100913,0.7383772315093857,0.7367663553927866],\"type\":\"scatter\"},{\"marker\":{\"maxdisplayed\":10},\"mode\":\"lines+markers\",\"name\":\"Trial104\",\"x\":[0,1,2,3,4,5,6,7,8,9],\"y\":[0.4355630219480478,0.6999093803768511,0.74211832221243,0.7511999559360435,0.7601904454656084,0.7634119665113926,0.7889480779722169,0.8263244103823058,0.816998195476099,0.7971858082588433],\"type\":\"scatter\"},{\"marker\":{\"maxdisplayed\":10},\"mode\":\"lines+markers\",\"name\":\"Trial105\",\"x\":[0,1,2,3,4,5,6,7,8,9],\"y\":[0.3633066065498495,0.6327749030451726,0.6643975292623933,0.616917049349482,0.5924139978194031,0.6299075488264673,0.6315279558522795,0.6354441759847159,0.6293581428716564,0.633004768139903],\"type\":\"scatter\"},{\"marker\":{\"maxdisplayed\":10},\"mode\":\"lines+markers\",\"name\":\"Trial106\",\"x\":[0,1,2,3,4,5,6,7,8,9],\"y\":[0.09283733733128602,0.21143547457551976,0.36244725483321033,0.4667754819104733,0.4659067735474173,0.4675710422485258,0.5340934279622936,0.6024767558548649,0.623034575036171,0.6230311493710882],\"type\":\"scatter\"},{\"marker\":{\"maxdisplayed\":10},\"mode\":\"lines+markers\",\"name\":\"Trial107\",\"x\":[0,1,2,3,4,5,6,7,8,9],\"y\":[0.37773398997217666,0.7121603845721961,0.802186657255555,0.8217837797372358,0.8251868408435054,0.8662713287311576,0.8925760954229571,0.897571737437149,0.8985894919961012,0.8741923466996054],\"type\":\"scatter\"},{\"marker\":{\"maxdisplayed\":10},\"mode\":\"lines+markers\",\"name\":\"Trial108\",\"x\":[0,1,2,3,4,5,6,7,8,9],\"y\":[0.31211546514624405,0.5878410481896663,0.6610685639737147,0.6926177361164801,0.7106381265300866,0.7161246939827335,0.7131752512562809,0.6137305115320192,0.5935716241463729,0.5716668277283851],\"type\":\"scatter\"},{\"marker\":{\"maxdisplayed\":10},\"mode\":\"lines+markers\",\"name\":\"Trial109\",\"x\":[0,1,2,3,4,5,6,7,8,9],\"y\":[0.4568951781553107,0.7880468569949038,0.8174050326776937,0.8298713164685899,0.8558893468160245,0.8751104312544997,0.8836451134258799,0.8869776121526306,0.8888394724337989,0.8981009380788315],\"type\":\"scatter\"},{\"marker\":{\"maxdisplayed\":10},\"mode\":\"lines+markers\",\"name\":\"Trial110\",\"x\":[0,1,2,3,4,5,6,7,8,9],\"y\":[0.4026182930719558,0.7578602369987543,0.7920946221408228,0.8193811329678546,0.8371578870874966,0.8244987393814289,0.8659864540468498,0.874742426127259,0.8803834940873475,0.8815893031556717],\"type\":\"scatter\"},{\"marker\":{\"maxdisplayed\":10},\"mode\":\"lines+markers\",\"name\":\"Trial111\",\"x\":[0,1,2,3,4,5,6,7,8,9],\"y\":[0.20148447543339,0.47843968807342285,0.5922674761654164,0.6288420453732895,0.6588587281671715,0.6633172472721344,0.6685106220989661,0.670343774612008,0.6575207094534289,0.6528121799313654],\"type\":\"scatter\"},{\"marker\":{\"maxdisplayed\":10},\"mode\":\"lines+markers\",\"name\":\"Trial112\",\"x\":[0,1,2,3,4,5,6,7,8,9],\"y\":[0.3655525002678806,0.6243961824832097,0.6636787111609224,0.6905956507762747,0.6950294379139482,0.7041207287512706,0.6855638381363612,0.7018184029678276,0.7038944781829295,0.6946232728936609],\"type\":\"scatter\"},{\"marker\":{\"maxdisplayed\":10},\"mode\":\"lines+markers\",\"name\":\"Trial113\",\"x\":[0,1,2,3,4,5,6,7,8,9],\"y\":[0.489716846778922,0.7320306609700926,0.7568693976711084,0.772891011141831,0.7771843846862725,0.780744743235322,0.7791739968166235,0.7855198123481649,0.811133450615736,0.8251654519561055],\"type\":\"scatter\"},{\"marker\":{\"maxdisplayed\":10},\"mode\":\"lines+markers\",\"name\":\"Trial114\",\"x\":[0,1,2,3,4,5,6,7,8,9],\"y\":[0.3134960417425569,0.6234398030436179,0.725161705499197,0.7649478914335843,0.7786901286534456,0.7830608129947819,0.7713952958266983,0.7704848343146213,0.7908452515936014,0.8216297275725007],\"type\":\"scatter\"},{\"marker\":{\"maxdisplayed\":10},\"mode\":\"lines+markers\",\"name\":\"Trial115\",\"x\":[0,1,2,3,4,5,6,7,8,9],\"y\":[0.3470158896455384,0.6196612537104905,0.6482207089226445,0.6018648507071732,0.6501554042255951,0.6920062860136188,0.6956032826960009,0.7103754147022866,0.7141749607124138,0.7111297363366506],\"type\":\"scatter\"},{\"marker\":{\"maxdisplayed\":10},\"mode\":\"lines+markers\",\"name\":\"Trial116\",\"x\":[0,1,2,3,4,5,6,7,8,9],\"y\":[0.3056315724602862,0.5539935371737552,0.6159597689959391,0.6697331449384348,0.6765587385401538,0.74750870969144,0.7544673824958272,0.7835955023397512,0.7868697866147912,0.7748082557931124],\"type\":\"scatter\"},{\"marker\":{\"maxdisplayed\":10},\"mode\":\"lines+markers\",\"name\":\"Trial117\",\"x\":[0,1,2,3],\"y\":[0.00018890894588808195,0.0,0.0,0.0],\"type\":\"scatter\"},{\"marker\":{\"maxdisplayed\":10},\"mode\":\"lines+markers\",\"name\":\"Trial118\",\"x\":[0,1,2,3,4,5,6,7,8,9],\"y\":[0.5459184002580229,0.8325205611998062,0.8685728108369617,0.8793275278180944,0.887224641186905,0.8897887437510079,0.8928721174004195,0.8981196581196579,0.9010272536687624,0.8996710208030969],\"type\":\"scatter\"},{\"marker\":{\"maxdisplayed\":10},\"mode\":\"lines+markers\",\"name\":\"Trial119\",\"x\":[0,1,2,3,4,5,6,7,8,9],\"y\":[0.3814148806777672,0.5270451495197757,0.5421685610032299,0.548322883026465,0.5470583609445121,0.5534533196325967,0.5582838778677182,0.5563446294509918,0.5558104055697688,0.55909071844986],\"type\":\"scatter\"},{\"marker\":{\"maxdisplayed\":10},\"mode\":\"lines+markers\",\"name\":\"Trial120\",\"x\":[0,1,2,3,4,5,6,7,8,9],\"y\":[0.2974966035362774,0.6045325734219547,0.694073047206396,0.7088853864058389,0.7269195705525107,0.7288900139022644,0.7347107715855896,0.7367717873012797,0.735434559488048,0.7407799111283376],\"type\":\"scatter\"},{\"marker\":{\"maxdisplayed\":10},\"mode\":\"lines+markers\",\"name\":\"Trial121\",\"x\":[0,1,2,3,4,5,6,7,8,9],\"y\":[0.46768310260373785,0.7661351828018481,0.8260414609620952,0.8633083196575262,0.8782699933493577,0.8675353357893041,0.8770647064297851,0.8783789458392636,0.8806521941442589,0.8854018417510496],\"type\":\"scatter\"},{\"marker\":{\"maxdisplayed\":10},\"mode\":\"lines+markers\",\"name\":\"Trial122\",\"x\":[0,1,2,3,4,5,6,7,8,9],\"y\":[0.24146294394612589,0.49254093665297594,0.5589424930840828,0.5815855792606277,0.5986509591471784,0.6059021956297004,0.6109856581999074,0.6145785306116771,0.6204107811495819,0.6228117053678737],\"type\":\"scatter\"}],                        {\"showlegend\":false,\"title\":{\"text\":\"Intermediate Values Plot\"},\"xaxis\":{\"title\":{\"text\":\"Step\"}},\"yaxis\":{\"title\":{\"text\":\"Intermediate Value\"}},\"template\":{\"data\":{\"bar\":[{\"error_x\":{\"color\":\"#2a3f5f\"},\"error_y\":{\"color\":\"#2a3f5f\"},\"marker\":{\"line\":{\"color\":\"#E5ECF6\",\"width\":0.5},\"pattern\":{\"fillmode\":\"overlay\",\"size\":10,\"solidity\":0.2}},\"type\":\"bar\"}],\"barpolar\":[{\"marker\":{\"line\":{\"color\":\"#E5ECF6\",\"width\":0.5},\"pattern\":{\"fillmode\":\"overlay\",\"size\":10,\"solidity\":0.2}},\"type\":\"barpolar\"}],\"carpet\":[{\"aaxis\":{\"endlinecolor\":\"#2a3f5f\",\"gridcolor\":\"white\",\"linecolor\":\"white\",\"minorgridcolor\":\"white\",\"startlinecolor\":\"#2a3f5f\"},\"baxis\":{\"endlinecolor\":\"#2a3f5f\",\"gridcolor\":\"white\",\"linecolor\":\"white\",\"minorgridcolor\":\"white\",\"startlinecolor\":\"#2a3f5f\"},\"type\":\"carpet\"}],\"choropleth\":[{\"colorbar\":{\"outlinewidth\":0,\"ticks\":\"\"},\"type\":\"choropleth\"}],\"contour\":[{\"colorbar\":{\"outlinewidth\":0,\"ticks\":\"\"},\"colorscale\":[[0.0,\"#0d0887\"],[0.1111111111111111,\"#46039f\"],[0.2222222222222222,\"#7201a8\"],[0.3333333333333333,\"#9c179e\"],[0.4444444444444444,\"#bd3786\"],[0.5555555555555556,\"#d8576b\"],[0.6666666666666666,\"#ed7953\"],[0.7777777777777778,\"#fb9f3a\"],[0.8888888888888888,\"#fdca26\"],[1.0,\"#f0f921\"]],\"type\":\"contour\"}],\"contourcarpet\":[{\"colorbar\":{\"outlinewidth\":0,\"ticks\":\"\"},\"type\":\"contourcarpet\"}],\"heatmap\":[{\"colorbar\":{\"outlinewidth\":0,\"ticks\":\"\"},\"colorscale\":[[0.0,\"#0d0887\"],[0.1111111111111111,\"#46039f\"],[0.2222222222222222,\"#7201a8\"],[0.3333333333333333,\"#9c179e\"],[0.4444444444444444,\"#bd3786\"],[0.5555555555555556,\"#d8576b\"],[0.6666666666666666,\"#ed7953\"],[0.7777777777777778,\"#fb9f3a\"],[0.8888888888888888,\"#fdca26\"],[1.0,\"#f0f921\"]],\"type\":\"heatmap\"}],\"heatmapgl\":[{\"colorbar\":{\"outlinewidth\":0,\"ticks\":\"\"},\"colorscale\":[[0.0,\"#0d0887\"],[0.1111111111111111,\"#46039f\"],[0.2222222222222222,\"#7201a8\"],[0.3333333333333333,\"#9c179e\"],[0.4444444444444444,\"#bd3786\"],[0.5555555555555556,\"#d8576b\"],[0.6666666666666666,\"#ed7953\"],[0.7777777777777778,\"#fb9f3a\"],[0.8888888888888888,\"#fdca26\"],[1.0,\"#f0f921\"]],\"type\":\"heatmapgl\"}],\"histogram\":[{\"marker\":{\"pattern\":{\"fillmode\":\"overlay\",\"size\":10,\"solidity\":0.2}},\"type\":\"histogram\"}],\"histogram2d\":[{\"colorbar\":{\"outlinewidth\":0,\"ticks\":\"\"},\"colorscale\":[[0.0,\"#0d0887\"],[0.1111111111111111,\"#46039f\"],[0.2222222222222222,\"#7201a8\"],[0.3333333333333333,\"#9c179e\"],[0.4444444444444444,\"#bd3786\"],[0.5555555555555556,\"#d8576b\"],[0.6666666666666666,\"#ed7953\"],[0.7777777777777778,\"#fb9f3a\"],[0.8888888888888888,\"#fdca26\"],[1.0,\"#f0f921\"]],\"type\":\"histogram2d\"}],\"histogram2dcontour\":[{\"colorbar\":{\"outlinewidth\":0,\"ticks\":\"\"},\"colorscale\":[[0.0,\"#0d0887\"],[0.1111111111111111,\"#46039f\"],[0.2222222222222222,\"#7201a8\"],[0.3333333333333333,\"#9c179e\"],[0.4444444444444444,\"#bd3786\"],[0.5555555555555556,\"#d8576b\"],[0.6666666666666666,\"#ed7953\"],[0.7777777777777778,\"#fb9f3a\"],[0.8888888888888888,\"#fdca26\"],[1.0,\"#f0f921\"]],\"type\":\"histogram2dcontour\"}],\"mesh3d\":[{\"colorbar\":{\"outlinewidth\":0,\"ticks\":\"\"},\"type\":\"mesh3d\"}],\"parcoords\":[{\"line\":{\"colorbar\":{\"outlinewidth\":0,\"ticks\":\"\"}},\"type\":\"parcoords\"}],\"pie\":[{\"automargin\":true,\"type\":\"pie\"}],\"scatter\":[{\"marker\":{\"colorbar\":{\"outlinewidth\":0,\"ticks\":\"\"}},\"type\":\"scatter\"}],\"scatter3d\":[{\"line\":{\"colorbar\":{\"outlinewidth\":0,\"ticks\":\"\"}},\"marker\":{\"colorbar\":{\"outlinewidth\":0,\"ticks\":\"\"}},\"type\":\"scatter3d\"}],\"scattercarpet\":[{\"marker\":{\"colorbar\":{\"outlinewidth\":0,\"ticks\":\"\"}},\"type\":\"scattercarpet\"}],\"scattergeo\":[{\"marker\":{\"colorbar\":{\"outlinewidth\":0,\"ticks\":\"\"}},\"type\":\"scattergeo\"}],\"scattergl\":[{\"marker\":{\"colorbar\":{\"outlinewidth\":0,\"ticks\":\"\"}},\"type\":\"scattergl\"}],\"scattermapbox\":[{\"marker\":{\"colorbar\":{\"outlinewidth\":0,\"ticks\":\"\"}},\"type\":\"scattermapbox\"}],\"scatterpolar\":[{\"marker\":{\"colorbar\":{\"outlinewidth\":0,\"ticks\":\"\"}},\"type\":\"scatterpolar\"}],\"scatterpolargl\":[{\"marker\":{\"colorbar\":{\"outlinewidth\":0,\"ticks\":\"\"}},\"type\":\"scatterpolargl\"}],\"scatterternary\":[{\"marker\":{\"colorbar\":{\"outlinewidth\":0,\"ticks\":\"\"}},\"type\":\"scatterternary\"}],\"surface\":[{\"colorbar\":{\"outlinewidth\":0,\"ticks\":\"\"},\"colorscale\":[[0.0,\"#0d0887\"],[0.1111111111111111,\"#46039f\"],[0.2222222222222222,\"#7201a8\"],[0.3333333333333333,\"#9c179e\"],[0.4444444444444444,\"#bd3786\"],[0.5555555555555556,\"#d8576b\"],[0.6666666666666666,\"#ed7953\"],[0.7777777777777778,\"#fb9f3a\"],[0.8888888888888888,\"#fdca26\"],[1.0,\"#f0f921\"]],\"type\":\"surface\"}],\"table\":[{\"cells\":{\"fill\":{\"color\":\"#EBF0F8\"},\"line\":{\"color\":\"white\"}},\"header\":{\"fill\":{\"color\":\"#C8D4E3\"},\"line\":{\"color\":\"white\"}},\"type\":\"table\"}]},\"layout\":{\"annotationdefaults\":{\"arrowcolor\":\"#2a3f5f\",\"arrowhead\":0,\"arrowwidth\":1},\"autotypenumbers\":\"strict\",\"coloraxis\":{\"colorbar\":{\"outlinewidth\":0,\"ticks\":\"\"}},\"colorscale\":{\"diverging\":[[0,\"#8e0152\"],[0.1,\"#c51b7d\"],[0.2,\"#de77ae\"],[0.3,\"#f1b6da\"],[0.4,\"#fde0ef\"],[0.5,\"#f7f7f7\"],[0.6,\"#e6f5d0\"],[0.7,\"#b8e186\"],[0.8,\"#7fbc41\"],[0.9,\"#4d9221\"],[1,\"#276419\"]],\"sequential\":[[0.0,\"#0d0887\"],[0.1111111111111111,\"#46039f\"],[0.2222222222222222,\"#7201a8\"],[0.3333333333333333,\"#9c179e\"],[0.4444444444444444,\"#bd3786\"],[0.5555555555555556,\"#d8576b\"],[0.6666666666666666,\"#ed7953\"],[0.7777777777777778,\"#fb9f3a\"],[0.8888888888888888,\"#fdca26\"],[1.0,\"#f0f921\"]],\"sequentialminus\":[[0.0,\"#0d0887\"],[0.1111111111111111,\"#46039f\"],[0.2222222222222222,\"#7201a8\"],[0.3333333333333333,\"#9c179e\"],[0.4444444444444444,\"#bd3786\"],[0.5555555555555556,\"#d8576b\"],[0.6666666666666666,\"#ed7953\"],[0.7777777777777778,\"#fb9f3a\"],[0.8888888888888888,\"#fdca26\"],[1.0,\"#f0f921\"]]},\"colorway\":[\"#636efa\",\"#EF553B\",\"#00cc96\",\"#ab63fa\",\"#FFA15A\",\"#19d3f3\",\"#FF6692\",\"#B6E880\",\"#FF97FF\",\"#FECB52\"],\"font\":{\"color\":\"#2a3f5f\"},\"geo\":{\"bgcolor\":\"white\",\"lakecolor\":\"white\",\"landcolor\":\"#E5ECF6\",\"showlakes\":true,\"showland\":true,\"subunitcolor\":\"white\"},\"hoverlabel\":{\"align\":\"left\"},\"hovermode\":\"closest\",\"mapbox\":{\"style\":\"light\"},\"paper_bgcolor\":\"white\",\"plot_bgcolor\":\"#E5ECF6\",\"polar\":{\"angularaxis\":{\"gridcolor\":\"white\",\"linecolor\":\"white\",\"ticks\":\"\"},\"bgcolor\":\"#E5ECF6\",\"radialaxis\":{\"gridcolor\":\"white\",\"linecolor\":\"white\",\"ticks\":\"\"}},\"scene\":{\"xaxis\":{\"backgroundcolor\":\"#E5ECF6\",\"gridcolor\":\"white\",\"gridwidth\":2,\"linecolor\":\"white\",\"showbackground\":true,\"ticks\":\"\",\"zerolinecolor\":\"white\"},\"yaxis\":{\"backgroundcolor\":\"#E5ECF6\",\"gridcolor\":\"white\",\"gridwidth\":2,\"linecolor\":\"white\",\"showbackground\":true,\"ticks\":\"\",\"zerolinecolor\":\"white\"},\"zaxis\":{\"backgroundcolor\":\"#E5ECF6\",\"gridcolor\":\"white\",\"gridwidth\":2,\"linecolor\":\"white\",\"showbackground\":true,\"ticks\":\"\",\"zerolinecolor\":\"white\"}},\"shapedefaults\":{\"line\":{\"color\":\"#2a3f5f\"}},\"ternary\":{\"aaxis\":{\"gridcolor\":\"white\",\"linecolor\":\"white\",\"ticks\":\"\"},\"baxis\":{\"gridcolor\":\"white\",\"linecolor\":\"white\",\"ticks\":\"\"},\"bgcolor\":\"#E5ECF6\",\"caxis\":{\"gridcolor\":\"white\",\"linecolor\":\"white\",\"ticks\":\"\"}},\"title\":{\"x\":0.05},\"xaxis\":{\"automargin\":true,\"gridcolor\":\"white\",\"linecolor\":\"white\",\"ticks\":\"\",\"title\":{\"standoff\":15},\"zerolinecolor\":\"white\",\"zerolinewidth\":2},\"yaxis\":{\"automargin\":true,\"gridcolor\":\"white\",\"linecolor\":\"white\",\"ticks\":\"\",\"title\":{\"standoff\":15},\"zerolinecolor\":\"white\",\"zerolinewidth\":2}}}},                        {\"responsive\": true}                    ).then(function(){\n",
              "                            \n",
              "var gd = document.getElementById('9324058a-d872-4e62-af9c-b37637001a3a');\n",
              "var x = new MutationObserver(function (mutations, observer) {{\n",
              "        var display = window.getComputedStyle(gd).display;\n",
              "        if (!display || display === 'none') {{\n",
              "            console.log([gd, 'removed!']);\n",
              "            Plotly.purge(gd);\n",
              "            observer.disconnect();\n",
              "        }}\n",
              "}});\n",
              "\n",
              "// Listen for the removal of the full notebook cells\n",
              "var notebookContainer = gd.closest('#notebook-container');\n",
              "if (notebookContainer) {{\n",
              "    x.observe(notebookContainer, {childList: true});\n",
              "}}\n",
              "\n",
              "// Listen for the clearing of the current output cell\n",
              "var outputEl = gd.closest('.output');\n",
              "if (outputEl) {{\n",
              "    x.observe(outputEl, {childList: true});\n",
              "}}\n",
              "\n",
              "                        })                };                            </script>        </div>\n",
              "</body>\n",
              "</html>"
            ]
          },
          "metadata": {}
        }
      ],
      "source": [
        "optuna.visualization.plot_intermediate_values(study)"
      ]
    },
    {
      "cell_type": "code",
      "execution_count": null,
      "metadata": {
        "id": "PyG4shxFpsnY"
      },
      "outputs": [],
      "source": []
    },
    {
      "cell_type": "code",
      "execution_count": null,
      "metadata": {
        "id": "QqmsOzO4pskg"
      },
      "outputs": [],
      "source": []
    },
    {
      "cell_type": "code",
      "execution_count": null,
      "metadata": {
        "id": "-k0KXnR3yxzw"
      },
      "outputs": [],
      "source": [
        "class ContrastiveLoss(nn.Module):\n",
        "  def __init__(self, margin=1.0):\n",
        "    super(ContrastiveLoss, self).__init__()\n",
        "    self.margin = margin\n",
        "        \n",
        "  def forward(self, z_reparmeterized, labels):\n",
        "    # Compute the pairwise euclidean distances between the examples in the latent space\n",
        "    distances = torch.pow(z_reparmeterized, 2).sum(dim=1, keepdim=True) + torch.pow(z_reparmeterized, 2).sum(dim=1, keepdim=True).t() - 2 * torch.matmul(z_reparmeterized, z_reparmeterized.t())\n",
        "    # Create a mask for the positive pairs (i.e. examples with the same label)\n",
        "    positive_mask = labels.expand(z_reparmeterized.size(0), z_reparmeterized.size(0)).eq(labels.expand(z_reparmeterized.size(0), z_reparmeterized.size(0)).t())\n",
        "    # Create a mask for the negative pairs (i.e. examples with different labels)\n",
        "    negative_mask = labels.expand(z_reparmeterized.size(0), z_reparmeterized.size(0)).ne(labels.expand(z_reparmeterized.size(0), z_reparmeterized.size(0)).t())\n",
        "    # Set the distances for the positive pairs to a large value\n",
        "    distances.masked_fill_(positive_mask, 1e7)\n",
        "    # Compute the contrastive loss as the sum of the max(0, margin - distance) for the negative pairs\n",
        "    contrastive_loss = torch.sum(torch.max(torch.zeros_like(distances), self.margin - distances))\n",
        "    return contrastive_loss\n"
      ]
    },
    {
      "cell_type": "code",
      "execution_count": null,
      "metadata": {
        "id": "00s0At_uPOOb"
      },
      "outputs": [],
      "source": [
        "class MagneticLoss(torch.nn.Module):\n",
        "  def __init__(self, num_classes, strength, width):\n",
        "      super().__init__()\n",
        "      self.num_classes = num_classes\n",
        "      self.strength = strength\n",
        "      self.width = width     \n",
        "\n",
        "  def forward(self, z, y):\n",
        "    N = z.shape[0] # number of samples\n",
        "    K = self.num_classes # number of classes\n",
        "    mu = torch.stack([z[y.squeeze==k].mean(dim=0) for k in range(K)], dim=0) # mean of each class\n",
        "    print(f\"mu: {mu}\")\n",
        "    z_center = z[None, :, :] - mu[:, None, :] # centered z\n",
        "    print(f\"z_center: {z_center}\")\n",
        "    z_Norm = z_center.norm(dim=2) # L2 norm of z_Center\n",
        "    print(f\"z_Norm: {z_Norm}\")\n",
        "    exp_term = torch.exp(-self.width * z_Norm)\n",
        "    pairwise_sum = (exp_term[:, :, None] * exp_term[None, :, :]).sum() - exp_term.sum()\n",
        "    loss = 0.5 * self.strength * pairwise_sum / N / (K - 1)\n",
        "    return loss"
      ]
    },
    {
      "cell_type": "code",
      "execution_count": null,
      "metadata": {
        "id": "HLawvUR-SpJl"
      },
      "outputs": [],
      "source": [
        "# Loss Functions\n",
        "loss_fn = nn.MSELoss(reduction=\"sum\")\n",
        "classifier_loss_fn = nn.CrossEntropyLoss()\n",
        "triplet_loss_fn = nn.TripletMarginLoss(margin=1.0)\n",
        "#triplet_loss_fn = TripletLoss(margin=1.0)\n",
        "\n",
        "contrastive_loss_fn = ContrastiveLoss(margin=1)\n",
        "magnetic_loss_fn = MagneticLoss(num_classes=num_classes, strength=1, width=1)\n",
        "\n",
        "#############################################################################################################################################################################################################\n",
        "#############################################################################################################################################################################################################\n",
        "#############################################################################################################################################################################################################\n",
        "#############################################################################################################################################################################################################\n",
        "\n",
        "num_epochs= 100\n",
        "learning_rate= 0.001 #3e-4 #Karpathy constant\n",
        "l2_lambda = 0\n",
        "\n",
        "batch_size= 192\n",
        "lr= 0.007738229055712843\n",
        "alpha= 6.861503020532726\n",
        "beta= 4.6777471208607455\n",
        "gamma= 8.045332469671456\n",
        "delta= 8.69344645086914\n",
        "\n",
        "train_loader = DataLoader(training, batch_size=batch_size, shuffle=True)\n",
        "val_loader = DataLoader(validating, batch_size=batch_size, shuffle=False)\n",
        "test_loader = DataLoader(testing, batch_size=batch_size, shuffle=False)\n",
        "\n",
        "# #Model and Optmimizer\n",
        "model  = VAE(input_dim, hidden_dim, latent_dim).to(device)\n",
        "optimizer = optim.Adam(model.parameters(), lr=lr)\n",
        "print(model)\n",
        "\n",
        "#############################################################################################################################################################################################################\n",
        "#############################################################################################################################################################################################################\n",
        "#############################################################################################################################################################################################################\n",
        "#############################################################################################################################################################################################################"
      ]
    },
    {
      "cell_type": "markdown",
      "metadata": {
        "id": "6r4_reRyWuIu"
      },
      "source": [
        "---\n",
        "Train and Validation loop"
      ]
    },
    {
      "cell_type": "code",
      "execution_count": 29,
      "metadata": {
        "id": "lH7Muoa_Sr-U",
        "colab": {
          "base_uri": "https://localhost:8080/",
          "height": 235
        },
        "outputId": "69359b37-1eaa-4981-82cc-6a93f606647b"
      },
      "outputs": [
        {
          "output_type": "error",
          "ename": "NameError",
          "evalue": "ignored",
          "traceback": [
            "\u001b[0;31m---------------------------------------------------------------------------\u001b[0m",
            "\u001b[0;31mNameError\u001b[0m                                 Traceback (most recent call last)",
            "\u001b[0;32m<ipython-input-29-04e6c7e4a378>\u001b[0m in \u001b[0;36m<module>\u001b[0;34m\u001b[0m\n\u001b[1;32m     15\u001b[0m \u001b[0;34m\u001b[0m\u001b[0m\n\u001b[1;32m     16\u001b[0m \u001b[0;32mfor\u001b[0m \u001b[0mepoch\u001b[0m \u001b[0;32min\u001b[0m \u001b[0mrange\u001b[0m\u001b[0;34m(\u001b[0m\u001b[0mnum_epochs\u001b[0m\u001b[0;34m)\u001b[0m\u001b[0;34m:\u001b[0m\u001b[0;34m\u001b[0m\u001b[0;34m\u001b[0m\u001b[0m\n\u001b[0;32m---> 17\u001b[0;31m   \u001b[0mmodel\u001b[0m\u001b[0;34m.\u001b[0m\u001b[0mtrain\u001b[0m\u001b[0;34m(\u001b[0m\u001b[0;34m)\u001b[0m\u001b[0;34m\u001b[0m\u001b[0;34m\u001b[0m\u001b[0m\n\u001b[0m\u001b[1;32m     18\u001b[0m   \u001b[0mtrain_running_loss\u001b[0m \u001b[0;34m=\u001b[0m \u001b[0;36m0\u001b[0m\u001b[0;34m\u001b[0m\u001b[0;34m\u001b[0m\u001b[0m\n\u001b[1;32m     19\u001b[0m \u001b[0;34m\u001b[0m\u001b[0m\n",
            "\u001b[0;31mNameError\u001b[0m: name 'model' is not defined"
          ]
        }
      ],
      "source": [
        "train_losses=[]\n",
        "train_accuracy = []\n",
        "accuracy_log = []\n",
        "val_losses=[]\n",
        "val_accuracy=[]\n",
        "\n",
        "dic = dict(latent_space = list(), mu_list=list(), logsig2_list=list(), y=list())\n",
        "\n",
        "from tensorboardX import SummaryWriter\n",
        "\n",
        "# Create a SummaryWriter object\n",
        "writer = SummaryWriter() \n",
        "\n",
        "\n",
        "\n",
        "for epoch in range(num_epochs):\n",
        "  model.train()\n",
        "  train_running_loss = 0\n",
        "  \n",
        "\n",
        "  z_list, means, logvars , labels_list = list(), list(), list(), list()\n",
        "\n",
        "  for i, data in enumerate(train_loader):\n",
        "    inputs, labels = data\n",
        "    # print(f\"Input shape: {inputs.shape}\")\n",
        "    # print(f\"Labels shape: {labels.shape}\")\n",
        "    optimizer.zero_grad()\n",
        "    \n",
        "    x_reconstructed, z_reparmeterized, classified, mu, logvar = model(inputs)\n",
        "\n",
        "    # Compute the reconstruction loss and KL divergence loss #################################################\n",
        "\n",
        "    reconstruction_loss = loss_fn(x_reconstructed, inputs)\n",
        "    kld_loss = -0.5 * torch.sum(1 + logvar - mu.pow(2) - logvar.exp())\n",
        "\n",
        "    # Compute the contrastive loss #############################################################################\n",
        "    contrastive_loss = contrastive_loss_fn(mu, labels)\n",
        "\n",
        "    # Compute the classificaiton loss #########################################################################\n",
        "    classified = classified.view(-1, 13)\n",
        "    classification_loss = classifier_loss_fn(classified, labels.flatten())\n",
        "\n",
        "    # Compute the triplet loss #########################\n",
        "    # Select a random sample as the anchor, then select the positive samples (samples with the same label as the anchor)\n",
        "    # and negative samples (samples with a different label than the anchor) from the mu\n",
        "    batch_size = mu.size(0)\n",
        "    # Select a random sample as the anchor\n",
        "    anchor_index = torch.randint(0, batch_size, (1,))\n",
        "    anchor_embeddings = mu[anchor_index].view(1, -1) # Take the embedding for the current sample\n",
        "    anchor_embeddings = anchor_embeddings.expand(batch_size,-1)\n",
        "    # Select a fixed number of positive samples\n",
        "    positive_indices = torch.randint(0, batch_size, (batch_size,))\n",
        "    positive_embeddings = mu[positive_indices].view(-1,latent_dim)\n",
        "    # Select a fixed number of negative samples\n",
        "    negative_indices = torch.randint(0, batch_size, (batch_size,))\n",
        "    negative_embeddings = mu[negative_indices].view(-1,latent_dim)\n",
        "    #print(f\"anchor_embeddings shape: {anchor_embeddings.shape}, positive_embeddings shape: {positive_embeddings.shape}, negative_embeddings shape: {negative_embeddings.shape}\")\n",
        "    triplet_loss = triplet_loss_fn(anchor_embeddings, positive_embeddings, negative_embeddings)\n",
        "   \n",
        "    loss = (alpha*reconstruction_loss + kld_loss*beta) + gamma*classification_loss + delta*contrastive_loss #+ epsilon*triplet_loss\n",
        "\n",
        "    accuracy = accuracy_score(labels, classified.argmax(dim=1))\n",
        "    train_accuracy.append(accuracy)\n",
        "    train_acc = sum(train_accuracy)/len(train_accuracy)\n",
        "    accuracy_log.append(train_acc)\n",
        "\n",
        "    loss.backward()\n",
        "    optimizer.step()\n",
        "\n",
        "    train_running_loss += loss.item()\n",
        "    train_loss= train_running_loss/len(train_loader)\n",
        "\n",
        "   # log for latent space visualziation (gif)...\n",
        "    z_list.append(z_reparmeterized.detach())\n",
        "    means.append(mu.detach())\n",
        "    logvars.append(logvar.detach())\n",
        "    labels_list.append(labels.detach())\n",
        "\n",
        "   # Write the scalar values to TensorBoard\n",
        "    writer.add_scalar('loss/total', loss.item(), i)\n",
        "    writer.add_scalar('loss/reconstruction', reconstruction_loss.item(), i)\n",
        "    writer.add_scalar('loss/kld', kld_loss.item(), i)\n",
        "    writer.add_scalar('loss/classification', classification_loss.item(), i)\n",
        "\n",
        "  writer.add_embedding(z_reparmeterized, metadata=labels, global_step=epoch)\n",
        "\n",
        "  with torch.inference_mode():\n",
        "    val_running_loss = 0\n",
        "    val_running_acc = 0\n",
        "\n",
        "    model.eval()\n",
        "    # Iterate over the validation data\n",
        "    for X, Y in val_loader:\n",
        "      # Pass the data through the model and get the reconstructed data and the latent representation\n",
        "      y_pred, z_reparmeterized, v_classified, mu, logvar = model(X)\n",
        "\n",
        "      # Compute the reconstruction loss\n",
        "      v_reconstruction_loss = loss_fn(y_pred, X)\n",
        "\n",
        "      # Compute the KL divergence loss\n",
        "      v_kld_loss = -0.5 * torch.sum(1 + logvar - mu.pow(2) - logvar.exp())\n",
        "\n",
        "      # Compute the contrastive loss\n",
        "      v_contrastive_loss_value = contrastive_loss_fn(mu, Y)\n",
        "\n",
        "      # Reshape the classified output to have the same shape as the labels\n",
        "      v_classified = v_classified.view(-1, 13)\n",
        "      # Compute the classification loss\n",
        "      v_classification_loss = classifier_loss_fn(v_classified, Y.flatten())\n",
        "\n",
        "      # Compute the total loss\n",
        "      vloss = (alpha*v_reconstruction_loss + v_kld_loss*beta) + gamma*v_classification_loss + delta*v_contrastive_loss_value\n",
        "      val_running_loss += vloss.item()\n",
        "      val_loss = val_running_loss/len(val_loader)\n",
        "\n",
        "      v_accuracy = accuracy_score(Y, v_classified.argmax(dim=1))\n",
        "      val_accuracy.append(v_accuracy)\n",
        "      val_acc = sum(val_accuracy)/len(val_accuracy)\n",
        "\n",
        "  dic['latent_space'].append(torch.cat(z_list))\n",
        "  dic['mu_list'].append(torch.cat(means))\n",
        "  dic['logsig2_list'].append(torch.cat(logvars))\n",
        "  dic['y'].append(torch.cat(labels_list))\n",
        "\n",
        "  print(f\"Epoch: {epoch+1} / {num_epochs} | Reconst_loss: {reconstruction_loss:.3f} | Kldiv loss: {kld_loss:.3f} | Classifcation loss: {classification_loss:.3f} | Constrast loss: {contrastive_loss:.2f} | Triplet loss: {triplet_loss:.3f} | Total loss: {train_loss:.3f} | Train acc: {train_acc*100:.3f} % ||| Val Loss: {val_loss:.3f} | Val acc: {val_acc*100:.3f} %\")\n",
        "  print(\"-------------------------------------------------------------------------------------------------------------------------------------------------------------------------------------\")\n",
        "  train_losses.append(train_loss)\n",
        "  val_losses.append(val_loss)\n",
        "\n",
        "# Close the SummaryWriter\n",
        "writer.close()"
      ]
    },
    {
      "cell_type": "code",
      "execution_count": null,
      "metadata": {
        "id": "Mu-g_vKRS7V8"
      },
      "outputs": [],
      "source": [
        "torch.save(model.state_dict(), 'VAE_Model.pt') # Save"
      ]
    },
    {
      "cell_type": "markdown",
      "metadata": {
        "id": "aa3Thi-cW05z"
      },
      "source": [
        "---\n",
        "Model Evaluations"
      ]
    },
    {
      "cell_type": "code",
      "execution_count": null,
      "metadata": {
        "id": "OSD621NES9gA"
      },
      "outputs": [],
      "source": [
        "plt.plot(train_losses,'-o', label=\"Training loss\")\n",
        "plt.plot(val_losses,'-r',  label=\"Validation loss\")\n",
        "plt.xlabel('epoch')\n",
        "plt.ylabel('losses')\n",
        "plt.title('Training and Validation Losses')\n",
        "plt.legend()\n",
        "plt.show()"
      ]
    },
    {
      "cell_type": "markdown",
      "metadata": {
        "id": "MhYdRnwjW7SS"
      },
      "source": [
        "---\n",
        "Latent Space Visualization"
      ]
    },
    {
      "cell_type": "code",
      "execution_count": null,
      "metadata": {
        "id": "jRW82C1HTAkI"
      },
      "outputs": [],
      "source": [
        "print(\"Latent Space Visualization\")\n",
        "for i in range (num_epochs):\n",
        "  fig = plt.figure(figsize=(12,12))\n",
        "  z_arr = dic['latent_space'][i].cpu().numpy()\n",
        "  y_arr = dic['y'][i].cpu().numpy()\n",
        "\n",
        "  #Experiment 1\n",
        "  plt.scatter(z_arr[:,0], z_arr[:,1], c = y_arr, edgecolor='none', alpha=0.5,\n",
        "              cmap=plt.cm.get_cmap('gist_rainbow', num_classes))\n",
        "  cb = plt.colorbar(ticks=[1,2,3,4,5,6,7,8,9,10,11,12],values=[1,2,3,4,5,6,7,8,9,10,11,12])\n",
        "  #Experiment 3\n",
        "  # plt.scatter(z_arr[:,0], z_arr[:,1], c = y_arr, edgecolor='none', alpha=0.5,\n",
        "  #             cmap=plt.cm.get_cmap('hsv', 23))\n",
        "  #cb = plt.colorbar(ticks=[0,1,2,3,4,5,6,7,8,9,10,11,12,13,14,15,16,17,18,19,20,21,22,23],values=[0,1,2,3,4,5,6,7,8,9,10,11,12,13,14,15,16,17,18,19,20,21,22,23])\n",
        "  cb.ax.tick_params(labelsize=10)\n",
        "  # plt.xlim(-5, 5)\n",
        "  # plt.ylim(-5, 5)\n",
        "  plt.xticks(fontsize= 10)\n",
        "  plt.yticks(fontsize= 10)\n",
        "  plt.xlabel('z[0]', fontsize= 10)\n",
        "  plt.ylabel('z[1]', fontsize= 10)\n",
        "  plt.title(f'VAE train dataset with {input_dim} features| Acc: {train_acc*100:.1f}% | latent space Dim={latent_dim} | Epoch number: {i+1} ', fontsize= 12)\n",
        "  # plt.show()\n",
        "  plt.close()\n",
        "  fig.savefig(f\"/content/drive/MyDrive/WEAR_LAB/Research_Pytorch/VAE_Images/VAEtrain_images{i:001}\" + \".png\")\n",
        "  print(f\"Latent Space Image {i+1} stored.\")\n",
        "print()\n",
        "print(\"Latent Space Gif being created...\")\n",
        "print()\n",
        "\n",
        "import imageio\n",
        "gif = []\n",
        "for i in range(num_epochs):\n",
        "  each_image = imageio.imread(f\"/content/drive/MyDrive/WEAR_LAB/Research_Pytorch/VAE_Images/VAEtrain_images{i}\" + \".png\")# here read all images\n",
        "  gif.append(each_image)\n",
        "imageio.mimsave(f\"/content/Latent_Space_and_Number_Features_{input_dim}.gif\",gif)\n",
        "\n",
        "from IPython.display import Image\n",
        "\n",
        "fname = f'/content/Latent_Space_and_Number_Features_{input_dim}.gif'\n",
        "Image(open(fname, 'rb').read())  # local"
      ]
    },
    {
      "cell_type": "code",
      "execution_count": null,
      "metadata": {
        "id": "_yhSCW0l98lK"
      },
      "outputs": [],
      "source": [
        "%tensorboard --logdir=runs"
      ]
    }
  ],
  "metadata": {
    "colab": {
      "collapsed_sections": [
        "M8iJEJRDVWqt",
        "nXr0DgjjvCJa",
        "Sl7Bo_dsuqR7"
      ],
      "machine_shape": "hm",
      "provenance": [],
      "include_colab_link": true
    },
    "gpuClass": "standard",
    "kernelspec": {
      "display_name": "Python 3",
      "name": "python3"
    },
    "language_info": {
      "name": "python"
    }
  },
  "nbformat": 4,
  "nbformat_minor": 0
}