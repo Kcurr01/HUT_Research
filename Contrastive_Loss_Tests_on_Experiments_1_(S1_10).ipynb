{
  "cells": [
    {
      "cell_type": "markdown",
      "metadata": {
        "id": "view-in-github",
        "colab_type": "text"
      },
      "source": [
        "<a href=\"https://colab.research.google.com/github/Kcurr01/HUT_Research/blob/main/Contrastive_Loss_Tests_on_Experiments_1_(S1_10).ipynb\" target=\"_parent\"><img src=\"https://colab.research.google.com/assets/colab-badge.svg\" alt=\"Open In Colab\"/></a>"
      ]
    },
    {
      "cell_type": "markdown",
      "metadata": {
        "id": "M8iJEJRDVWqt"
      },
      "source": [
        "---\n",
        "Instalation\n",
        "---"
      ]
    },
    {
      "cell_type": "code",
      "execution_count": 1,
      "metadata": {
        "colab": {
          "base_uri": "https://localhost:8080/"
        },
        "id": "Du8slAkNSRBk",
        "outputId": "d81a99bc-a67b-4b22-f111-6282e2ca0c3b"
      },
      "outputs": [
        {
          "output_type": "stream",
          "name": "stdout",
          "text": [
            "Requirement already satisfied: tensorboardX in c:\\users\\kcurr\\anaconda3\\lib\\site-packages (2.6.1)\n",
            "Requirement already satisfied: packaging in c:\\users\\kcurr\\anaconda3\\lib\\site-packages (from tensorboardX) (22.0)\n",
            "Requirement already satisfied: protobuf>=4.22.3 in c:\\users\\kcurr\\anaconda3\\lib\\site-packages (from tensorboardX) (4.23.3)\n",
            "Requirement already satisfied: numpy in c:\\users\\kcurr\\anaconda3\\lib\\site-packages (from tensorboardX) (1.23.5)\n",
            "Requirement already satisfied: optuna in c:\\users\\kcurr\\anaconda3\\lib\\site-packages (3.2.0)\n",
            "Requirement already satisfied: alembic>=1.5.0 in c:\\users\\kcurr\\anaconda3\\lib\\site-packages (from optuna) (1.11.1)\n",
            "Requirement already satisfied: packaging>=20.0 in c:\\users\\kcurr\\anaconda3\\lib\\site-packages (from optuna) (22.0)\n",
            "Requirement already satisfied: colorlog in c:\\users\\kcurr\\anaconda3\\lib\\site-packages (from optuna) (6.7.0)\n",
            "Requirement already satisfied: tqdm in c:\\users\\kcurr\\anaconda3\\lib\\site-packages (from optuna) (4.64.1)\n",
            "Requirement already satisfied: PyYAML in c:\\users\\kcurr\\anaconda3\\lib\\site-packages (from optuna) (6.0)\n",
            "Requirement already satisfied: numpy in c:\\users\\kcurr\\anaconda3\\lib\\site-packages (from optuna) (1.23.5)\n",
            "Requirement already satisfied: cmaes>=0.9.1 in c:\\users\\kcurr\\anaconda3\\lib\\site-packages (from optuna) (0.9.1)\n",
            "Requirement already satisfied: sqlalchemy>=1.3.0 in c:\\users\\kcurr\\anaconda3\\lib\\site-packages (from optuna) (1.4.39)\n",
            "Requirement already satisfied: typing-extensions>=4 in c:\\users\\kcurr\\anaconda3\\lib\\site-packages (from alembic>=1.5.0->optuna) (4.4.0)\n",
            "Requirement already satisfied: Mako in c:\\users\\kcurr\\anaconda3\\lib\\site-packages (from alembic>=1.5.0->optuna) (1.2.4)\n",
            "Requirement already satisfied: greenlet!=0.4.17 in c:\\users\\kcurr\\anaconda3\\lib\\site-packages (from sqlalchemy>=1.3.0->optuna) (2.0.1)\n",
            "Requirement already satisfied: colorama in c:\\users\\kcurr\\anaconda3\\lib\\site-packages (from colorlog->optuna) (0.4.6)\n",
            "Requirement already satisfied: MarkupSafe>=0.9.2 in c:\\users\\kcurr\\anaconda3\\lib\\site-packages (from Mako->alembic>=1.5.0->optuna) (2.1.1)\n",
            "Requirement already satisfied: captum in c:\\users\\kcurr\\anaconda3\\lib\\site-packages (0.6.0)\n",
            "Requirement already satisfied: numpy in c:\\users\\kcurr\\anaconda3\\lib\\site-packages (from captum) (1.23.5)\n",
            "Requirement already satisfied: matplotlib in c:\\users\\kcurr\\anaconda3\\lib\\site-packages (from captum) (3.7.0)\n",
            "Requirement already satisfied: torch>=1.6 in c:\\users\\kcurr\\anaconda3\\lib\\site-packages (from captum) (2.0.1)\n",
            "Requirement already satisfied: filelock in c:\\users\\kcurr\\anaconda3\\lib\\site-packages (from torch>=1.6->captum) (3.9.0)\n",
            "Requirement already satisfied: jinja2 in c:\\users\\kcurr\\anaconda3\\lib\\site-packages (from torch>=1.6->captum) (3.1.2)\n",
            "Requirement already satisfied: sympy in c:\\users\\kcurr\\anaconda3\\lib\\site-packages (from torch>=1.6->captum) (1.11.1)\n",
            "Requirement already satisfied: typing-extensions in c:\\users\\kcurr\\anaconda3\\lib\\site-packages (from torch>=1.6->captum) (4.4.0)\n",
            "Requirement already satisfied: networkx in c:\\users\\kcurr\\anaconda3\\lib\\site-packages (from torch>=1.6->captum) (2.8.4)\n",
            "Requirement already satisfied: fonttools>=4.22.0 in c:\\users\\kcurr\\anaconda3\\lib\\site-packages (from matplotlib->captum) (4.25.0)\n",
            "Requirement already satisfied: cycler>=0.10 in c:\\users\\kcurr\\anaconda3\\lib\\site-packages (from matplotlib->captum) (0.11.0)\n",
            "Requirement already satisfied: contourpy>=1.0.1 in c:\\users\\kcurr\\anaconda3\\lib\\site-packages (from matplotlib->captum) (1.0.5)\n",
            "Requirement already satisfied: kiwisolver>=1.0.1 in c:\\users\\kcurr\\anaconda3\\lib\\site-packages (from matplotlib->captum) (1.4.4)\n",
            "Requirement already satisfied: pillow>=6.2.0 in c:\\users\\kcurr\\anaconda3\\lib\\site-packages (from matplotlib->captum) (9.4.0)\n",
            "Requirement already satisfied: pyparsing>=2.3.1 in c:\\users\\kcurr\\anaconda3\\lib\\site-packages (from matplotlib->captum) (3.0.9)\n",
            "Requirement already satisfied: python-dateutil>=2.7 in c:\\users\\kcurr\\anaconda3\\lib\\site-packages (from matplotlib->captum) (2.8.2)\n",
            "Requirement already satisfied: packaging>=20.0 in c:\\users\\kcurr\\anaconda3\\lib\\site-packages (from matplotlib->captum) (22.0)\n",
            "Requirement already satisfied: six>=1.5 in c:\\users\\kcurr\\anaconda3\\lib\\site-packages (from python-dateutil>=2.7->matplotlib->captum) (1.16.0)\n",
            "Requirement already satisfied: MarkupSafe>=2.0 in c:\\users\\kcurr\\anaconda3\\lib\\site-packages (from jinja2->torch>=1.6->captum) (2.1.1)\n",
            "Requirement already satisfied: mpmath>=0.19 in c:\\users\\kcurr\\anaconda3\\lib\\site-packages (from sympy->torch>=1.6->captum) (1.2.1)\n",
            "Requirement already satisfied: pandas in c:\\users\\kcurr\\anaconda3\\lib\\site-packages (1.5.3)\n",
            "Requirement already satisfied: numpy>=1.21.0 in c:\\users\\kcurr\\anaconda3\\lib\\site-packages (from pandas) (1.23.5)\n",
            "Requirement already satisfied: python-dateutil>=2.8.1 in c:\\users\\kcurr\\anaconda3\\lib\\site-packages (from pandas) (2.8.2)\n",
            "Requirement already satisfied: pytz>=2020.1 in c:\\users\\kcurr\\anaconda3\\lib\\site-packages (from pandas) (2022.7)\n",
            "Requirement already satisfied: six>=1.5 in c:\\users\\kcurr\\anaconda3\\lib\\site-packages (from python-dateutil>=2.8.1->pandas) (1.16.0)\n",
            "Requirement already satisfied: seaborn in c:\\users\\kcurr\\anaconda3\\lib\\site-packages (0.12.2)\n",
            "Requirement already satisfied: matplotlib!=3.6.1,>=3.1 in c:\\users\\kcurr\\anaconda3\\lib\\site-packages (from seaborn) (3.7.0)\n",
            "Requirement already satisfied: pandas>=0.25 in c:\\users\\kcurr\\anaconda3\\lib\\site-packages (from seaborn) (1.5.3)\n",
            "Requirement already satisfied: numpy!=1.24.0,>=1.17 in c:\\users\\kcurr\\anaconda3\\lib\\site-packages (from seaborn) (1.23.5)\n",
            "Requirement already satisfied: pillow>=6.2.0 in c:\\users\\kcurr\\anaconda3\\lib\\site-packages (from matplotlib!=3.6.1,>=3.1->seaborn) (9.4.0)\n",
            "Requirement already satisfied: python-dateutil>=2.7 in c:\\users\\kcurr\\anaconda3\\lib\\site-packages (from matplotlib!=3.6.1,>=3.1->seaborn) (2.8.2)\n",
            "Requirement already satisfied: cycler>=0.10 in c:\\users\\kcurr\\anaconda3\\lib\\site-packages (from matplotlib!=3.6.1,>=3.1->seaborn) (0.11.0)\n",
            "Requirement already satisfied: kiwisolver>=1.0.1 in c:\\users\\kcurr\\anaconda3\\lib\\site-packages (from matplotlib!=3.6.1,>=3.1->seaborn) (1.4.4)\n",
            "Requirement already satisfied: contourpy>=1.0.1 in c:\\users\\kcurr\\anaconda3\\lib\\site-packages (from matplotlib!=3.6.1,>=3.1->seaborn) (1.0.5)\n",
            "Requirement already satisfied: pyparsing>=2.3.1 in c:\\users\\kcurr\\anaconda3\\lib\\site-packages (from matplotlib!=3.6.1,>=3.1->seaborn) (3.0.9)\n",
            "Requirement already satisfied: fonttools>=4.22.0 in c:\\users\\kcurr\\anaconda3\\lib\\site-packages (from matplotlib!=3.6.1,>=3.1->seaborn) (4.25.0)\n",
            "Requirement already satisfied: packaging>=20.0 in c:\\users\\kcurr\\anaconda3\\lib\\site-packages (from matplotlib!=3.6.1,>=3.1->seaborn) (22.0)\n",
            "Requirement already satisfied: pytz>=2020.1 in c:\\users\\kcurr\\anaconda3\\lib\\site-packages (from pandas>=0.25->seaborn) (2022.7)\n",
            "Requirement already satisfied: six>=1.5 in c:\\users\\kcurr\\anaconda3\\lib\\site-packages (from python-dateutil>=2.7->matplotlib!=3.6.1,>=3.1->seaborn) (1.16.0)\n",
            "Requirement already satisfied: scikit-learn in c:\\users\\kcurr\\anaconda3\\lib\\site-packages (1.2.1)\n",
            "Requirement already satisfied: threadpoolctl>=2.0.0 in c:\\users\\kcurr\\anaconda3\\lib\\site-packages (from scikit-learn) (2.2.0)\n",
            "Requirement already satisfied: joblib>=1.1.1 in c:\\users\\kcurr\\anaconda3\\lib\\site-packages (from scikit-learn) (1.1.1)\n",
            "Requirement already satisfied: scipy>=1.3.2 in c:\\users\\kcurr\\anaconda3\\lib\\site-packages (from scikit-learn) (1.10.0)\n",
            "Requirement already satisfied: numpy>=1.17.3 in c:\\users\\kcurr\\anaconda3\\lib\\site-packages (from scikit-learn) (1.23.5)\n",
            "Requirement already satisfied: imbalanced-learn in c:\\users\\kcurr\\anaconda3\\lib\\site-packages (0.10.1)\n",
            "Requirement already satisfied: scikit-learn>=1.0.2 in c:\\users\\kcurr\\anaconda3\\lib\\site-packages (from imbalanced-learn) (1.2.1)\n",
            "Requirement already satisfied: numpy>=1.17.3 in c:\\users\\kcurr\\anaconda3\\lib\\site-packages (from imbalanced-learn) (1.23.5)\n",
            "Requirement already satisfied: joblib>=1.1.1 in c:\\users\\kcurr\\anaconda3\\lib\\site-packages (from imbalanced-learn) (1.1.1)\n",
            "Requirement already satisfied: threadpoolctl>=2.0.0 in c:\\users\\kcurr\\anaconda3\\lib\\site-packages (from imbalanced-learn) (2.2.0)\n",
            "Requirement already satisfied: scipy>=1.3.2 in c:\\users\\kcurr\\anaconda3\\lib\\site-packages (from imbalanced-learn) (1.10.0)\n"
          ]
        }
      ],
      "source": [
        "# !pip install captum\n",
        "# !pip install umap-learn\n",
        "# !pip install datashader\n",
        "# !pip install bokeh\n",
        "# !pip install holoviews\n",
        "!pip install tensorboardX\n",
        "!pip install optuna\n",
        "!pip install captum\n",
        "!pip install pandas\n",
        "!pip install seaborn\n",
        "!pip install scikit-learn\n",
        "!pip install imbalanced-learn\n"
      ]
    },
    {
      "cell_type": "code",
      "source": [
        "!pip install torchvision"
      ],
      "metadata": {
        "colab": {
          "base_uri": "https://localhost:8080/"
        },
        "id": "SvD6e1uWywcG",
        "outputId": "d9612028-498b-442e-87a6-ac68de0ad3d1"
      },
      "execution_count": 2,
      "outputs": [
        {
          "output_type": "stream",
          "name": "stdout",
          "text": [
            "Requirement already satisfied: torchvision in c:\\users\\kcurr\\anaconda3\\lib\\site-packages (0.15.2)\n",
            "Requirement already satisfied: requests in c:\\users\\kcurr\\anaconda3\\lib\\site-packages (from torchvision) (2.28.1)\n",
            "Requirement already satisfied: torch==2.0.1 in c:\\users\\kcurr\\anaconda3\\lib\\site-packages (from torchvision) (2.0.1)\n",
            "Requirement already satisfied: pillow!=8.3.*,>=5.3.0 in c:\\users\\kcurr\\anaconda3\\lib\\site-packages (from torchvision) (9.4.0)\n",
            "Requirement already satisfied: numpy in c:\\users\\kcurr\\anaconda3\\lib\\site-packages (from torchvision) (1.23.5)\n",
            "Requirement already satisfied: filelock in c:\\users\\kcurr\\anaconda3\\lib\\site-packages (from torch==2.0.1->torchvision) (3.9.0)\n",
            "Requirement already satisfied: typing-extensions in c:\\users\\kcurr\\anaconda3\\lib\\site-packages (from torch==2.0.1->torchvision) (4.4.0)\n",
            "Requirement already satisfied: jinja2 in c:\\users\\kcurr\\anaconda3\\lib\\site-packages (from torch==2.0.1->torchvision) (3.1.2)\n",
            "Requirement already satisfied: sympy in c:\\users\\kcurr\\anaconda3\\lib\\site-packages (from torch==2.0.1->torchvision) (1.11.1)\n",
            "Requirement already satisfied: networkx in c:\\users\\kcurr\\anaconda3\\lib\\site-packages (from torch==2.0.1->torchvision) (2.8.4)\n",
            "Requirement already satisfied: idna<4,>=2.5 in c:\\users\\kcurr\\anaconda3\\lib\\site-packages (from requests->torchvision) (3.4)\n",
            "Requirement already satisfied: charset-normalizer<3,>=2 in c:\\users\\kcurr\\anaconda3\\lib\\site-packages (from requests->torchvision) (2.0.4)\n",
            "Requirement already satisfied: urllib3<1.27,>=1.21.1 in c:\\users\\kcurr\\anaconda3\\lib\\site-packages (from requests->torchvision) (1.26.14)\n",
            "Requirement already satisfied: certifi>=2017.4.17 in c:\\users\\kcurr\\anaconda3\\lib\\site-packages (from requests->torchvision) (2023.5.7)\n",
            "Requirement already satisfied: MarkupSafe>=2.0 in c:\\users\\kcurr\\anaconda3\\lib\\site-packages (from jinja2->torch==2.0.1->torchvision) (2.1.1)\n",
            "Requirement already satisfied: mpmath>=0.19 in c:\\users\\kcurr\\anaconda3\\lib\\site-packages (from sympy->torch==2.0.1->torchvision) (1.2.1)\n"
          ]
        }
      ]
    },
    {
      "cell_type": "markdown",
      "metadata": {
        "id": "bERxPXvorNic"
      },
      "source": [
        "---\n",
        "VAE Experiment 1 **[]** 6/12\n",
        "---"
      ]
    },
    {
      "cell_type": "code",
      "execution_count": 3,
      "metadata": {
        "id": "R9Op8v3LrcHv"
      },
      "outputs": [],
      "source": [
        "import torch\n",
        "import torch.nn as nn\n",
        "import torch.nn.functional as F\n",
        "import torch.optim as optim\n",
        "from torch.utils.data import TensorDataset, Dataset, DataLoader\n",
        "from torch.autograd import Variable\n",
        "import torch.utils.data\n",
        "\n",
        "import pandas as pd\n",
        "import numpy as np\n",
        "import os\n",
        "\n",
        "import matplotlib.cm as cm\n",
        "import matplotlib.pyplot as plt\n",
        "import seaborn as sns\n",
        "\n",
        "from sklearn.model_selection import train_test_split\n",
        "from sklearn import preprocessing\n",
        "from sklearn import metrics\n",
        "from sklearn.metrics import accuracy_score, roc_auc_score, f1_score, precision_score, recall_score\n",
        "from sklearn.manifold import TSNE\n",
        "from sklearn.decomposition import PCA, TruncatedSVD\n",
        "\n",
        "device = torch.device(\"cuda:0\" if torch.cuda.is_available() else \"cpu\")\n",
        "torch.cuda.empty_cache()\n",
        "\n",
        "import torchvision\n",
        "from torchvision import datasets\n",
        "\n",
        "#based on sensor data can you determine the stimulus that is currently in use?\n",
        "import optuna\n",
        "from optuna.pruners import ThresholdPruner\n",
        "from optuna.pruners import PatientPruner\n",
        "from optuna.pruners import MedianPruner\n",
        "from optuna import TrialPruned\n",
        "\n",
        "from captum.attr import IntegratedGradients\n",
        "from captum.attr import LayerConductance\n",
        "from captum.attr import NeuronConductance"
      ]
    },
    {
      "cell_type": "code",
      "execution_count": 4,
      "metadata": {
        "id": "FNJdjUb6ulmv"
      },
      "outputs": [],
      "source": [
        "import pandas as pd\n",
        "import numpy as np\n",
        "\n",
        "# Load the DataFrame from the CSV file\n",
        "df = pd.read_csv(\"Downloads/All_VAE_For_Subject_1/Subject_Experiment_1/ALL_E1_A1_1_10.csv\")\n",
        "\n",
        "# Drops all 0 labels (no label)\n",
        "indices_to_drop = df[df[\"stimulus\"] == 0].index\n",
        "df.drop(indices_to_drop, inplace=True)\n",
        "\n",
        "# Identify the indices of data points corresponding to stimulus 10\n",
        "stimulus_10_indices = df[df[\"stimulus\"] == 10].index\n",
        "\n",
        "# Number of data points to remove from stimulus 10\n",
        "points_to_remove = 10000\n",
        "\n",
        "# Randomly select 10,000 indices from stimulus 10\n",
        "indices_to_remove = np.random.choice(stimulus_10_indices, points_to_remove, replace=False)\n",
        "\n",
        "# Remove the selected indices from the DataFrame\n",
        "df.drop(indices_to_remove, inplace=True)\n",
        "\n",
        "#Removes number of features from data\n",
        "# df.drop('Cyber Glove (angles of the joints) Sensor 1', inplace=True, axis=1)\n",
        "# df.drop('Cyber Glove (angles of the joints) Sensor 2', inplace=True, axis=1)\n",
        "# df.drop('Cyber Glove (angles of the joints) Sensor 3', inplace=True, axis=1)\n",
        "# df.drop('Cyber Glove (angles of the joints) Sensor 4', inplace=True, axis=1)\n",
        "# df.drop('Cyber Glove (angles of the joints) Sensor 5', inplace=True, axis=1)\n",
        "# df.drop('Cyber Glove (angles of the joints) Sensor 6', inplace=True, axis=1)\n",
        "# df.drop('Cyber Glove (angles of the joints) Sensor 7', inplace=True, axis=1)\n",
        "# df.drop('Cyber Glove (angles of the joints) Sensor 8', inplace=True, axis=1)\n",
        "# df.drop('Cyber Glove (angles of the joints) Sensor 9', inplace=True, axis=1)\n",
        "# df.drop('Cyber Glove (angles of the joints) Sensor 10', inplace=True, axis=1)\n",
        "# df.drop('Cyber Glove (angles of the joints) Sensor 11', inplace=True, axis=1)\n",
        "# df.drop('Cyber Glove (angles of the joints) Sensor 12', inplace=True, axis=1)\n",
        "# df.drop('Cyber Glove (angles of the joints) Sensor 13', inplace=True, axis=1)\n",
        "# df.drop('Cyber Glove (angles of the joints) Sensor 14', inplace=True, axis=1)\n",
        "# df.drop('Cyber Glove (angles of the joints) Sensor 15', inplace=True, axis=1)\n",
        "# df.drop('Cyber Glove (angles of the joints) Sensor 16', inplace=True, axis=1)\n",
        "# df.drop('Cyber Glove (angles of the joints) Sensor 17', inplace=True, axis=1)\n",
        "# df.drop('Cyber Glove (angles of the joints) Sensor 18', inplace=True, axis=1)\n",
        "# df.drop('Cyber Glove (angles of the joints) Sensor 19', inplace=True, axis=1)\n",
        "# df.drop('Cyber Glove (angles of the joints) Sensor 20', inplace=True, axis=1)\n",
        "# df.drop('Cyber Glove (angles of the joints) Sensor 21', inplace=True, axis=1)\n",
        "# df.drop('Cyber Glove (angles of the joints) Sensor 22', inplace=True, axis=1)"
      ]
    },
    {
      "cell_type": "code",
      "execution_count": 5,
      "metadata": {
        "id": "XAq5Zx7euqOH",
        "colab": {
          "base_uri": "https://localhost:8080/",
          "height": 0
        },
        "outputId": "0bf743d9-27a7-483b-9b87-1367f1913dcf"
      },
      "outputs": [
        {
          "output_type": "execute_result",
          "data": {
            "text/plain": [
              "   stimulus     Acc 1    Acc 2    Acc 3  EMG Channel 1  EMG Channel 2  \\\n",
              "0         1 -0.054199  0.74414 -0.67529              0              0   \n",
              "1         1 -0.054199  0.74414 -0.67529              4              0   \n",
              "2         1 -0.053853  0.74483 -0.67495             -2             -1   \n",
              "3         1 -0.050781  0.75098 -0.67188              1             -1   \n",
              "4         1 -0.050781  0.75098 -0.67188             -3              1   \n",
              "\n",
              "   EMG Channel 3  EMG Channel 4  EMG Channel 5  EMG Channel 6  ...  \\\n",
              "0             -2             -2             -1              1  ...   \n",
              "1             -2             -1              0             -1  ...   \n",
              "2             -1              1             -2             -2  ...   \n",
              "3             -2             -1             -1              0  ...   \n",
              "4              0             -2             -2             -1  ...   \n",
              "\n",
              "   Cyber Glove (angles of the joints) Sensor 13  \\\n",
              "0                                        26.486   \n",
              "1                                        26.486   \n",
              "2                                        26.486   \n",
              "3                                        26.486   \n",
              "4                                        26.486   \n",
              "\n",
              "   Cyber Glove (angles of the joints) Sensor 14  \\\n",
              "0                                       -25.345   \n",
              "1                                       -25.345   \n",
              "2                                       -25.345   \n",
              "3                                       -25.345   \n",
              "4                                       -25.345   \n",
              "\n",
              "   Cyber Glove (angles of the joints) Sensor 15  \\\n",
              "0                                        6.3106   \n",
              "1                                        6.3106   \n",
              "2                                        6.3106   \n",
              "3                                        6.3106   \n",
              "4                                        6.3106   \n",
              "\n",
              "   Cyber Glove (angles of the joints) Sensor 16  \\\n",
              "0                                        34.944   \n",
              "1                                        34.944   \n",
              "2                                        34.944   \n",
              "3                                        34.944   \n",
              "4                                        34.944   \n",
              "\n",
              "   Cyber Glove (angles of the joints) Sensor 17  \\\n",
              "0                                        19.858   \n",
              "1                                        19.858   \n",
              "2                                        19.858   \n",
              "3                                        19.858   \n",
              "4                                        19.858   \n",
              "\n",
              "   Cyber Glove (angles of the joints) Sensor 18  \\\n",
              "0                                          0.48   \n",
              "1                                          0.48   \n",
              "2                                          0.48   \n",
              "3                                          0.48   \n",
              "4                                          0.48   \n",
              "\n",
              "   Cyber Glove (angles of the joints) Sensor 19  \\\n",
              "0                                        15.833   \n",
              "1                                        15.833   \n",
              "2                                        15.833   \n",
              "3                                        15.833   \n",
              "4                                        15.833   \n",
              "\n",
              "   Cyber Glove (angles of the joints) Sensor 20  \\\n",
              "0                                        64.597   \n",
              "1                                        64.597   \n",
              "2                                        64.597   \n",
              "3                                        64.597   \n",
              "4                                        64.597   \n",
              "\n",
              "   Cyber Glove (angles of the joints) Sensor 21  \\\n",
              "0                                        9.5294   \n",
              "1                                        9.5294   \n",
              "2                                        9.5294   \n",
              "3                                        9.5294   \n",
              "4                                        9.5294   \n",
              "\n",
              "   Cyber Glove (angles of the joints) Sensor 22  \n",
              "0                                        10.165  \n",
              "1                                        10.165  \n",
              "2                                        10.165  \n",
              "3                                        10.165  \n",
              "4                                        10.165  \n",
              "\n",
              "[5 rows x 42 columns]"
            ],
            "text/html": [
              "<div>\n",
              "<style scoped>\n",
              "    .dataframe tbody tr th:only-of-type {\n",
              "        vertical-align: middle;\n",
              "    }\n",
              "\n",
              "    .dataframe tbody tr th {\n",
              "        vertical-align: top;\n",
              "    }\n",
              "\n",
              "    .dataframe thead th {\n",
              "        text-align: right;\n",
              "    }\n",
              "</style>\n",
              "<table border=\"1\" class=\"dataframe\">\n",
              "  <thead>\n",
              "    <tr style=\"text-align: right;\">\n",
              "      <th></th>\n",
              "      <th>stimulus</th>\n",
              "      <th>Acc 1</th>\n",
              "      <th>Acc 2</th>\n",
              "      <th>Acc 3</th>\n",
              "      <th>EMG Channel 1</th>\n",
              "      <th>EMG Channel 2</th>\n",
              "      <th>EMG Channel 3</th>\n",
              "      <th>EMG Channel 4</th>\n",
              "      <th>EMG Channel 5</th>\n",
              "      <th>EMG Channel 6</th>\n",
              "      <th>...</th>\n",
              "      <th>Cyber Glove (angles of the joints) Sensor 13</th>\n",
              "      <th>Cyber Glove (angles of the joints) Sensor 14</th>\n",
              "      <th>Cyber Glove (angles of the joints) Sensor 15</th>\n",
              "      <th>Cyber Glove (angles of the joints) Sensor 16</th>\n",
              "      <th>Cyber Glove (angles of the joints) Sensor 17</th>\n",
              "      <th>Cyber Glove (angles of the joints) Sensor 18</th>\n",
              "      <th>Cyber Glove (angles of the joints) Sensor 19</th>\n",
              "      <th>Cyber Glove (angles of the joints) Sensor 20</th>\n",
              "      <th>Cyber Glove (angles of the joints) Sensor 21</th>\n",
              "      <th>Cyber Glove (angles of the joints) Sensor 22</th>\n",
              "    </tr>\n",
              "  </thead>\n",
              "  <tbody>\n",
              "    <tr>\n",
              "      <th>0</th>\n",
              "      <td>1</td>\n",
              "      <td>-0.054199</td>\n",
              "      <td>0.74414</td>\n",
              "      <td>-0.67529</td>\n",
              "      <td>0</td>\n",
              "      <td>0</td>\n",
              "      <td>-2</td>\n",
              "      <td>-2</td>\n",
              "      <td>-1</td>\n",
              "      <td>1</td>\n",
              "      <td>...</td>\n",
              "      <td>26.486</td>\n",
              "      <td>-25.345</td>\n",
              "      <td>6.3106</td>\n",
              "      <td>34.944</td>\n",
              "      <td>19.858</td>\n",
              "      <td>0.48</td>\n",
              "      <td>15.833</td>\n",
              "      <td>64.597</td>\n",
              "      <td>9.5294</td>\n",
              "      <td>10.165</td>\n",
              "    </tr>\n",
              "    <tr>\n",
              "      <th>1</th>\n",
              "      <td>1</td>\n",
              "      <td>-0.054199</td>\n",
              "      <td>0.74414</td>\n",
              "      <td>-0.67529</td>\n",
              "      <td>4</td>\n",
              "      <td>0</td>\n",
              "      <td>-2</td>\n",
              "      <td>-1</td>\n",
              "      <td>0</td>\n",
              "      <td>-1</td>\n",
              "      <td>...</td>\n",
              "      <td>26.486</td>\n",
              "      <td>-25.345</td>\n",
              "      <td>6.3106</td>\n",
              "      <td>34.944</td>\n",
              "      <td>19.858</td>\n",
              "      <td>0.48</td>\n",
              "      <td>15.833</td>\n",
              "      <td>64.597</td>\n",
              "      <td>9.5294</td>\n",
              "      <td>10.165</td>\n",
              "    </tr>\n",
              "    <tr>\n",
              "      <th>2</th>\n",
              "      <td>1</td>\n",
              "      <td>-0.053853</td>\n",
              "      <td>0.74483</td>\n",
              "      <td>-0.67495</td>\n",
              "      <td>-2</td>\n",
              "      <td>-1</td>\n",
              "      <td>-1</td>\n",
              "      <td>1</td>\n",
              "      <td>-2</td>\n",
              "      <td>-2</td>\n",
              "      <td>...</td>\n",
              "      <td>26.486</td>\n",
              "      <td>-25.345</td>\n",
              "      <td>6.3106</td>\n",
              "      <td>34.944</td>\n",
              "      <td>19.858</td>\n",
              "      <td>0.48</td>\n",
              "      <td>15.833</td>\n",
              "      <td>64.597</td>\n",
              "      <td>9.5294</td>\n",
              "      <td>10.165</td>\n",
              "    </tr>\n",
              "    <tr>\n",
              "      <th>3</th>\n",
              "      <td>1</td>\n",
              "      <td>-0.050781</td>\n",
              "      <td>0.75098</td>\n",
              "      <td>-0.67188</td>\n",
              "      <td>1</td>\n",
              "      <td>-1</td>\n",
              "      <td>-2</td>\n",
              "      <td>-1</td>\n",
              "      <td>-1</td>\n",
              "      <td>0</td>\n",
              "      <td>...</td>\n",
              "      <td>26.486</td>\n",
              "      <td>-25.345</td>\n",
              "      <td>6.3106</td>\n",
              "      <td>34.944</td>\n",
              "      <td>19.858</td>\n",
              "      <td>0.48</td>\n",
              "      <td>15.833</td>\n",
              "      <td>64.597</td>\n",
              "      <td>9.5294</td>\n",
              "      <td>10.165</td>\n",
              "    </tr>\n",
              "    <tr>\n",
              "      <th>4</th>\n",
              "      <td>1</td>\n",
              "      <td>-0.050781</td>\n",
              "      <td>0.75098</td>\n",
              "      <td>-0.67188</td>\n",
              "      <td>-3</td>\n",
              "      <td>1</td>\n",
              "      <td>0</td>\n",
              "      <td>-2</td>\n",
              "      <td>-2</td>\n",
              "      <td>-1</td>\n",
              "      <td>...</td>\n",
              "      <td>26.486</td>\n",
              "      <td>-25.345</td>\n",
              "      <td>6.3106</td>\n",
              "      <td>34.944</td>\n",
              "      <td>19.858</td>\n",
              "      <td>0.48</td>\n",
              "      <td>15.833</td>\n",
              "      <td>64.597</td>\n",
              "      <td>9.5294</td>\n",
              "      <td>10.165</td>\n",
              "    </tr>\n",
              "  </tbody>\n",
              "</table>\n",
              "<p>5 rows × 42 columns</p>\n",
              "</div>"
            ]
          },
          "metadata": {},
          "execution_count": 5
        }
      ],
      "source": [
        "df.head()"
      ]
    },
    {
      "cell_type": "code",
      "execution_count": 6,
      "metadata": {
        "id": "uBKcgR245EOX",
        "colab": {
          "base_uri": "https://localhost:8080/"
        },
        "outputId": "fd58330e-3fdc-4a5c-9528-353377cbb6ab"
      },
      "outputs": [
        {
          "output_type": "stream",
          "name": "stdout",
          "text": [
            "(880259, 41) <class 'pandas.core.frame.DataFrame'> (880259, 1) <class 'pandas.core.frame.DataFrame'>\n",
            "\n"
          ]
        }
      ],
      "source": [
        "X = df.drop('stimulus', axis=1)\n",
        "#y = df['stimulus']\n",
        "y = df.iloc[:, 0:1]\n",
        "print(X.shape, type(X), y.shape, type(y))\n",
        "print()"
      ]
    },
    {
      "cell_type": "code",
      "execution_count": 7,
      "metadata": {
        "id": "XlcbdijIOabG",
        "colab": {
          "base_uri": "https://localhost:8080/",
          "height": 0
        },
        "outputId": "3d197d81-6f96-408e-c263-d01290d4dee8"
      },
      "outputs": [
        {
          "output_type": "execute_result",
          "data": {
            "text/plain": [
              "      Acc 1    Acc 2    Acc 3  EMG Channel 1  EMG Channel 2  EMG Channel 3  \\\n",
              "0 -0.054199  0.74414 -0.67529              0              0             -2   \n",
              "1 -0.054199  0.74414 -0.67529              4              0             -2   \n",
              "2 -0.053853  0.74483 -0.67495             -2             -1             -1   \n",
              "3 -0.050781  0.75098 -0.67188              1             -1             -2   \n",
              "4 -0.050781  0.75098 -0.67188             -3              1              0   \n",
              "\n",
              "   EMG Channel 4  EMG Channel 5  EMG Channel 6  EMG Channel 7  ...  \\\n",
              "0             -2             -1              1              1  ...   \n",
              "1             -1              0             -1             -2  ...   \n",
              "2              1             -2             -2              0  ...   \n",
              "3             -1             -1              0             -2  ...   \n",
              "4             -2             -2             -1             -1  ...   \n",
              "\n",
              "   Cyber Glove (angles of the joints) Sensor 13  \\\n",
              "0                                        26.486   \n",
              "1                                        26.486   \n",
              "2                                        26.486   \n",
              "3                                        26.486   \n",
              "4                                        26.486   \n",
              "\n",
              "   Cyber Glove (angles of the joints) Sensor 14  \\\n",
              "0                                       -25.345   \n",
              "1                                       -25.345   \n",
              "2                                       -25.345   \n",
              "3                                       -25.345   \n",
              "4                                       -25.345   \n",
              "\n",
              "   Cyber Glove (angles of the joints) Sensor 15  \\\n",
              "0                                        6.3106   \n",
              "1                                        6.3106   \n",
              "2                                        6.3106   \n",
              "3                                        6.3106   \n",
              "4                                        6.3106   \n",
              "\n",
              "   Cyber Glove (angles of the joints) Sensor 16  \\\n",
              "0                                        34.944   \n",
              "1                                        34.944   \n",
              "2                                        34.944   \n",
              "3                                        34.944   \n",
              "4                                        34.944   \n",
              "\n",
              "   Cyber Glove (angles of the joints) Sensor 17  \\\n",
              "0                                        19.858   \n",
              "1                                        19.858   \n",
              "2                                        19.858   \n",
              "3                                        19.858   \n",
              "4                                        19.858   \n",
              "\n",
              "   Cyber Glove (angles of the joints) Sensor 18  \\\n",
              "0                                          0.48   \n",
              "1                                          0.48   \n",
              "2                                          0.48   \n",
              "3                                          0.48   \n",
              "4                                          0.48   \n",
              "\n",
              "   Cyber Glove (angles of the joints) Sensor 19  \\\n",
              "0                                        15.833   \n",
              "1                                        15.833   \n",
              "2                                        15.833   \n",
              "3                                        15.833   \n",
              "4                                        15.833   \n",
              "\n",
              "   Cyber Glove (angles of the joints) Sensor 20  \\\n",
              "0                                        64.597   \n",
              "1                                        64.597   \n",
              "2                                        64.597   \n",
              "3                                        64.597   \n",
              "4                                        64.597   \n",
              "\n",
              "   Cyber Glove (angles of the joints) Sensor 21  \\\n",
              "0                                        9.5294   \n",
              "1                                        9.5294   \n",
              "2                                        9.5294   \n",
              "3                                        9.5294   \n",
              "4                                        9.5294   \n",
              "\n",
              "   Cyber Glove (angles of the joints) Sensor 22  \n",
              "0                                        10.165  \n",
              "1                                        10.165  \n",
              "2                                        10.165  \n",
              "3                                        10.165  \n",
              "4                                        10.165  \n",
              "\n",
              "[5 rows x 41 columns]"
            ],
            "text/html": [
              "<div>\n",
              "<style scoped>\n",
              "    .dataframe tbody tr th:only-of-type {\n",
              "        vertical-align: middle;\n",
              "    }\n",
              "\n",
              "    .dataframe tbody tr th {\n",
              "        vertical-align: top;\n",
              "    }\n",
              "\n",
              "    .dataframe thead th {\n",
              "        text-align: right;\n",
              "    }\n",
              "</style>\n",
              "<table border=\"1\" class=\"dataframe\">\n",
              "  <thead>\n",
              "    <tr style=\"text-align: right;\">\n",
              "      <th></th>\n",
              "      <th>Acc 1</th>\n",
              "      <th>Acc 2</th>\n",
              "      <th>Acc 3</th>\n",
              "      <th>EMG Channel 1</th>\n",
              "      <th>EMG Channel 2</th>\n",
              "      <th>EMG Channel 3</th>\n",
              "      <th>EMG Channel 4</th>\n",
              "      <th>EMG Channel 5</th>\n",
              "      <th>EMG Channel 6</th>\n",
              "      <th>EMG Channel 7</th>\n",
              "      <th>...</th>\n",
              "      <th>Cyber Glove (angles of the joints) Sensor 13</th>\n",
              "      <th>Cyber Glove (angles of the joints) Sensor 14</th>\n",
              "      <th>Cyber Glove (angles of the joints) Sensor 15</th>\n",
              "      <th>Cyber Glove (angles of the joints) Sensor 16</th>\n",
              "      <th>Cyber Glove (angles of the joints) Sensor 17</th>\n",
              "      <th>Cyber Glove (angles of the joints) Sensor 18</th>\n",
              "      <th>Cyber Glove (angles of the joints) Sensor 19</th>\n",
              "      <th>Cyber Glove (angles of the joints) Sensor 20</th>\n",
              "      <th>Cyber Glove (angles of the joints) Sensor 21</th>\n",
              "      <th>Cyber Glove (angles of the joints) Sensor 22</th>\n",
              "    </tr>\n",
              "  </thead>\n",
              "  <tbody>\n",
              "    <tr>\n",
              "      <th>0</th>\n",
              "      <td>-0.054199</td>\n",
              "      <td>0.74414</td>\n",
              "      <td>-0.67529</td>\n",
              "      <td>0</td>\n",
              "      <td>0</td>\n",
              "      <td>-2</td>\n",
              "      <td>-2</td>\n",
              "      <td>-1</td>\n",
              "      <td>1</td>\n",
              "      <td>1</td>\n",
              "      <td>...</td>\n",
              "      <td>26.486</td>\n",
              "      <td>-25.345</td>\n",
              "      <td>6.3106</td>\n",
              "      <td>34.944</td>\n",
              "      <td>19.858</td>\n",
              "      <td>0.48</td>\n",
              "      <td>15.833</td>\n",
              "      <td>64.597</td>\n",
              "      <td>9.5294</td>\n",
              "      <td>10.165</td>\n",
              "    </tr>\n",
              "    <tr>\n",
              "      <th>1</th>\n",
              "      <td>-0.054199</td>\n",
              "      <td>0.74414</td>\n",
              "      <td>-0.67529</td>\n",
              "      <td>4</td>\n",
              "      <td>0</td>\n",
              "      <td>-2</td>\n",
              "      <td>-1</td>\n",
              "      <td>0</td>\n",
              "      <td>-1</td>\n",
              "      <td>-2</td>\n",
              "      <td>...</td>\n",
              "      <td>26.486</td>\n",
              "      <td>-25.345</td>\n",
              "      <td>6.3106</td>\n",
              "      <td>34.944</td>\n",
              "      <td>19.858</td>\n",
              "      <td>0.48</td>\n",
              "      <td>15.833</td>\n",
              "      <td>64.597</td>\n",
              "      <td>9.5294</td>\n",
              "      <td>10.165</td>\n",
              "    </tr>\n",
              "    <tr>\n",
              "      <th>2</th>\n",
              "      <td>-0.053853</td>\n",
              "      <td>0.74483</td>\n",
              "      <td>-0.67495</td>\n",
              "      <td>-2</td>\n",
              "      <td>-1</td>\n",
              "      <td>-1</td>\n",
              "      <td>1</td>\n",
              "      <td>-2</td>\n",
              "      <td>-2</td>\n",
              "      <td>0</td>\n",
              "      <td>...</td>\n",
              "      <td>26.486</td>\n",
              "      <td>-25.345</td>\n",
              "      <td>6.3106</td>\n",
              "      <td>34.944</td>\n",
              "      <td>19.858</td>\n",
              "      <td>0.48</td>\n",
              "      <td>15.833</td>\n",
              "      <td>64.597</td>\n",
              "      <td>9.5294</td>\n",
              "      <td>10.165</td>\n",
              "    </tr>\n",
              "    <tr>\n",
              "      <th>3</th>\n",
              "      <td>-0.050781</td>\n",
              "      <td>0.75098</td>\n",
              "      <td>-0.67188</td>\n",
              "      <td>1</td>\n",
              "      <td>-1</td>\n",
              "      <td>-2</td>\n",
              "      <td>-1</td>\n",
              "      <td>-1</td>\n",
              "      <td>0</td>\n",
              "      <td>-2</td>\n",
              "      <td>...</td>\n",
              "      <td>26.486</td>\n",
              "      <td>-25.345</td>\n",
              "      <td>6.3106</td>\n",
              "      <td>34.944</td>\n",
              "      <td>19.858</td>\n",
              "      <td>0.48</td>\n",
              "      <td>15.833</td>\n",
              "      <td>64.597</td>\n",
              "      <td>9.5294</td>\n",
              "      <td>10.165</td>\n",
              "    </tr>\n",
              "    <tr>\n",
              "      <th>4</th>\n",
              "      <td>-0.050781</td>\n",
              "      <td>0.75098</td>\n",
              "      <td>-0.67188</td>\n",
              "      <td>-3</td>\n",
              "      <td>1</td>\n",
              "      <td>0</td>\n",
              "      <td>-2</td>\n",
              "      <td>-2</td>\n",
              "      <td>-1</td>\n",
              "      <td>-1</td>\n",
              "      <td>...</td>\n",
              "      <td>26.486</td>\n",
              "      <td>-25.345</td>\n",
              "      <td>6.3106</td>\n",
              "      <td>34.944</td>\n",
              "      <td>19.858</td>\n",
              "      <td>0.48</td>\n",
              "      <td>15.833</td>\n",
              "      <td>64.597</td>\n",
              "      <td>9.5294</td>\n",
              "      <td>10.165</td>\n",
              "    </tr>\n",
              "  </tbody>\n",
              "</table>\n",
              "<p>5 rows × 41 columns</p>\n",
              "</div>"
            ]
          },
          "metadata": {},
          "execution_count": 7
        }
      ],
      "source": [
        "X.head()"
      ]
    },
    {
      "cell_type": "markdown",
      "metadata": {
        "id": "3WHYTiyNxjbB"
      },
      "source": [
        "---\n",
        "Visualization number of labels"
      ]
    },
    {
      "cell_type": "code",
      "execution_count": 8,
      "metadata": {
        "id": "GrBPneNpxio1",
        "colab": {
          "base_uri": "https://localhost:8080/",
          "height": 0
        },
        "outputId": "a256248e-032f-489e-9abf-4c0b276d1cf0"
      },
      "outputs": [
        {
          "output_type": "execute_result",
          "data": {
            "text/plain": [
              "stimulus\n",
              "10          77712\n",
              "6           74184\n",
              "5           74096\n",
              "7           73998\n",
              "8           73849\n",
              "11          73798\n",
              "12          73538\n",
              "4           72792\n",
              "3           72056\n",
              "9           71624\n",
              "1           71483\n",
              "2           71129\n",
              "dtype: int64"
            ]
          },
          "metadata": {},
          "execution_count": 8
        },
        {
          "output_type": "display_data",
          "data": {
            "text/plain": [
              "<Figure size 640x480 with 1 Axes>"
            ],
            "image/png": "[encoded data removed]"
          },
          "metadata": {}
        }
      ],
      "source": [
        "sns.countplot(x = 'stimulus', data=df)\n",
        "y.value_counts()"
      ]
    },
    {
      "cell_type": "markdown",
      "metadata": {
        "id": "Ac9B5iPx9HWR"
      },
      "source": [
        "---\n",
        "Fixing Data Imbalance via Undersampling"
      ]
    },
    {
      "cell_type": "code",
      "execution_count": 9,
      "metadata": {
        "id": "yYCz3Q5H9gN9",
        "colab": {
          "base_uri": "https://localhost:8080/"
        },
        "outputId": "bf7a01cd-7bb5-408f-e3e4-50e76ffa38a3"
      },
      "outputs": [
        {
          "output_type": "stream",
          "name": "stdout",
          "text": [
            "stimulus\n",
            "10          77712\n",
            "6           74184\n",
            "5           74096\n",
            "7           73998\n",
            "8           73849\n",
            "11          73798\n",
            "12          73538\n",
            "4           72792\n",
            "3           72056\n",
            "9           71624\n",
            "1           71483\n",
            "2           71129\n",
            "dtype: int64\n",
            "880259\n"
          ]
        }
      ],
      "source": [
        "print(y.value_counts())\n",
        "print(len(X.value_counts()))"
      ]
    },
    {
      "cell_type": "code",
      "execution_count": 10,
      "metadata": {
        "id": "hpNYb9reRugs",
        "colab": {
          "base_uri": "https://localhost:8080/"
        },
        "outputId": "3d6e7769-e85f-465e-b73d-22c327d515d1"
      },
      "outputs": [
        {
          "output_type": "stream",
          "name": "stdout",
          "text": [
            "        stimulus\n",
            "0              1\n",
            "1              1\n",
            "2              1\n",
            "3              1\n",
            "4              1\n",
            "...          ...\n",
            "890254        12\n",
            "890255        12\n",
            "890256        12\n",
            "890257        12\n",
            "890258        12\n",
            "\n",
            "[880259 rows x 1 columns]\n"
          ]
        }
      ],
      "source": [
        "print(y)"
      ]
    },
    {
      "cell_type": "markdown",
      "metadata": {
        "id": "hPN8DmEJxrse"
      },
      "source": [
        "---\n",
        "Visualization of Data Distributions"
      ]
    },
    {
      "cell_type": "code",
      "execution_count": 11,
      "metadata": {
        "id": "y5a9acbLxwRe"
      },
      "outputs": [],
      "source": [
        "# #distribution of first 19 features\n",
        "\n",
        "\n",
        "# fig, axs = plt.subplots(nrows=5, ncols=4, figsize=(40, 40))\n",
        "# axs = axs.flatten()\n",
        "# index = 0\n",
        "# for k, v in df.items():\n",
        "#   print(f\"[{index +1}] Updating plot\")\n",
        "#   sns.distplot(v, ax=axs[index])\n",
        "#   index += 1\n",
        "#   if index == 20:\n",
        "#     break\n",
        "# plt.tight_layout()"
      ]
    },
    {
      "cell_type": "markdown",
      "metadata": {
        "id": "j-Q8ps35WPO3"
      },
      "source": [
        "---\n",
        "Defining Hyperparmaeters"
      ]
    },
    {
      "cell_type": "code",
      "execution_count": 12,
      "metadata": {
        "id": "MZoF6guXlSot"
      },
      "outputs": [],
      "source": [
        "#############################################################################################################################################################################################################\n",
        "#############################################################################################################################################################################################################\n",
        "#############################################################################################################################################################################################################\n",
        "#############################################################################################################################################################################################################\n",
        "\n",
        "#Hyperparameters\n",
        "emg_channels = 16\n",
        "imu_channels = 3\n",
        "\n",
        "latent_dim = 2\n",
        "input_dim= len(X.columns)\n",
        "\n",
        "hidden_dim= round(input_dim/2)\n",
        "hidden_dim_2 = round(input_dim/4)\n",
        "output_dim = len(X.columns)\n",
        "num_classes = 12\n",
        "num_layers = round(num_classes/2)\n",
        "tempature = 1\n",
        "\n",
        "num_epochs= 10\n",
        "batch_size= 100\n",
        "learning_rate= 0.001 #3e-4 #Karpathy constant\n",
        "l2_lambda = 0\n",
        "\n",
        "\n",
        "alpha = 2        # Reconstruction Loss\n",
        "beta = 2         # Kl Divergence Loss\n",
        "gamma = 3        # Classifcation Loss\n",
        "delta = 5        # Contrastive Loss\n",
        "epsilon = 3      # Triplet Loss\n",
        "\n",
        "#############################################################################################################################################################################################################\n",
        "#############################################################################################################################################################################################################\n",
        "#############################################################################################################################################################################################################\n",
        "#############################################################################################################################################################################################################"
      ]
    },
    {
      "cell_type": "markdown",
      "metadata": {
        "id": "D3t0Wyvt9zUN"
      },
      "source": [
        "---\n",
        "Train Test Split"
      ]
    },
    {
      "cell_type": "code",
      "execution_count": 13,
      "metadata": {
        "id": "XmDYv1vB9Wyh",
        "colab": {
          "base_uri": "https://localhost:8080/"
        },
        "outputId": "d6e67bbf-2d7b-43dd-80a8-11a9df5dcb9f"
      },
      "outputs": [
        {
          "output_type": "stream",
          "name": "stdout",
          "text": [
            "(880259, 41) <class 'pandas.core.frame.DataFrame'> (880259, 1) <class 'pandas.core.frame.DataFrame'>\n",
            "\n",
            "X_train size: 528155 | X_val size: 176052 | X_test size: 176052\n",
            "y_train size: 528155 | y_val size: 176052 | y_test size: 176052\n",
            "\n",
            "Training Feature Split: (528155, 41) | Training Labels (528155, 1)\n",
            "Validation Feature Split: (176052, 41) | Validation Labels (176052, 1)\n",
            "Testing Feature Split: (176052, 41) | Testing Labels (176052, 1)\n",
            "\n"
          ]
        }
      ],
      "source": [
        "print(X.shape, type(X), y.shape, type(y))\n",
        "print()\n",
        "\n",
        "# Data Split\n",
        "X_train, X_test, y_train, y_test = train_test_split(X, y, test_size=0.2, random_state=42)\n",
        "X_train, X_val, y_train, y_val = train_test_split(X_train, y_train, test_size=0.25, random_state=42) # 0.25 x 0.8 = 0.2\n",
        "\n",
        "print(f\"X_train size: {len(X_train)} | X_val size: {len(X_val)} | X_test size: {len(X_test)}\")\n",
        "print(f\"y_train size: {len(y_train)} | y_val size: {len(y_val)} | y_test size: {len(y_test)}\")\n",
        "print()\n",
        "print(f\"Training Feature Split: {X_train.shape} | Training Labels { y_train.shape}\")\n",
        "print(f\"Validation Feature Split: {X_val.shape} | Validation Labels { y_val.shape}\")\n",
        "print(f\"Testing Feature Split: {X_test.shape} | Testing Labels { y_test.shape}\")\n",
        "print()"
      ]
    },
    {
      "cell_type": "code",
      "execution_count": 14,
      "metadata": {
        "id": "Aatdqob2o-HJ"
      },
      "outputs": [],
      "source": [
        "# from sklearn.ensemble import GradientBoostingRegressor\n",
        "# import matplotlib.pyplot as plt\n",
        "\n",
        "# plt.figure(figsize=(12,8))\n",
        "# plt.xlabel('Feature Number', fontsize=13)\n",
        "# plt.ylabel('Percentage (%)', fontsize=13)\n",
        "# plt.title('Feature Importance', fontsize=15)\n",
        "\n",
        "# gb = GradientBoostingRegressor(n_estimators=100)\n",
        "# gb.fit(X_train, y_train.values.ravel())  # Convert y_train to a 1D array using .values.ravel()\n",
        "\n",
        "# plt.bar(range(X_train.shape[1]), (gb.feature_importances_) * 100)\n",
        "\n",
        "# # Update the x-tick positions with desired values\n",
        "# custom_xticks = [1, 2, 3, 1, 2, 3, 4, 5, 6, 7, 8, 9, 10, 11, 12, 13, 14, 15, 16, 1, 2, 3, 4, 5, 6, 7, 8, 9, 10, 11, 12, 13, 14, 15, 16, 17, 18, 19, 20, 21, 22]\n",
        "# plt.xticks(range(X_train.shape[1]), custom_xticks)\n",
        "\n",
        "# plt.show()\n",
        "# plt.savefig('Downloads/All_VAE_For_Subject_1/Subject_Experiment_1/Feature_Importance_S1-10.svg')\n",
        "# plt.savefig('Downloads/All_VAE_For_Subject_1/Subject_Experiment_1/Feature_Importance_S1-10.png')\n"
      ]
    },
    {
      "cell_type": "markdown",
      "metadata": {
        "id": "4cC0dknyWXmN"
      },
      "source": [
        "---\n",
        "Scaling/Normalizing Data"
      ]
    },
    {
      "cell_type": "code",
      "execution_count": 15,
      "metadata": {
        "id": "f1X-8DFZMt_M",
        "colab": {
          "base_uri": "https://localhost:8080/"
        },
        "outputId": "8290824b-cffe-4714-eeda-abcbc81f439f"
      },
      "outputs": [
        {
          "output_type": "stream",
          "name": "stdout",
          "text": [
            "X_train: <class 'torch.Tensor'> | y_train <class 'torch.Tensor'>\n",
            "X_val: <class 'torch.Tensor'> | y_train <class 'torch.Tensor'>\n",
            "X_test: <class 'torch.Tensor'> | y_test <class 'torch.Tensor'>\n",
            "\n",
            "Training: torch.Size([528155, 41]) , torch.Size([528155])\n",
            "Validation: torch.Size([176052, 41]) , torch.Size([176052])\n",
            "Testing: torch.Size([176052, 41]) , torch.Size([176052])\n"
          ]
        }
      ],
      "source": [
        "#Normalization Data\n",
        "\n",
        "#No Normalization\n",
        "# X_train_Normalized = X_train\n",
        "# X_val_Normalized = X_val\n",
        "# X_test_Normalized = X_test\n",
        "#----------------------------------------------------------------------------------------------------------\n",
        "# Minmax without preprocessing\n",
        "# Minmax = preprocessing.MinMaxScaler()\n",
        "# X_train_Normalized= Minmax.fit_transform(X_train)\n",
        "# X_val_Normalized = Minmax.transform(X_val)\n",
        "# X_test_Normalized = Minmax.transform(X_test)\n",
        "#----------------------------------------------------------------------------------------------------------\n",
        "# Minmax with preprocessing\n",
        "# Minmax = preprocessing.MinMaxScaler()\n",
        "# X_train_Normalized= Minmax.fit_transform(X_train_preprocessed)\n",
        "# X_val_Normalized = Minmax.transform(X_val_preprocessed)\n",
        "# X_test_Normalized = Minmax.transform(X_test_preprocessed)\n",
        "\n",
        "#----------------------------------------------------------------------------------------------------------\n",
        "# # Standardization without preprocessing\n",
        "Standardized = preprocessing.StandardScaler()\n",
        "X_train_Normalized= Standardized.fit_transform(X_train)\n",
        "X_val_Normalized = Standardized.transform(X_val)\n",
        "X_test_Normalized = Standardized.transform(X_test)\n",
        "\n",
        "# Standardization with preprocessing\n",
        "# Standardized = preprocessing.StandardScaler()\n",
        "# X_train_Normalized= Standardized.fit_transform(X_train_preprocessed)\n",
        "# X_val_Normalized = Standardized.transform(X_val_preprocessed)\n",
        "# X_test_Normalized = Standardized.transform(X_test_preprocessed)\n",
        "#----------------------------------------------------------------------------------------------------------\n",
        "\n",
        "# Convert to numpy then to torch\n",
        "X_train = torch.from_numpy(X_train_Normalized).float()\n",
        "y_train = torch.from_numpy(y_train.values.ravel()).long()  # Extract the NumPy array using .values.ravel()\n",
        "\n",
        "X_val = torch.from_numpy(X_val_Normalized).float()\n",
        "y_val = torch.from_numpy(y_val.values.ravel()).long()\n",
        "\n",
        "X_test = torch.from_numpy(X_test_Normalized).float()\n",
        "y_test = torch.from_numpy(y_test.values.ravel()).long()\n",
        "\n",
        "print(f\"X_train: {type(X_train)} | y_train {type(y_train)}\")\n",
        "print(f\"X_val: {type(X_val)} | y_train {type(y_val)}\")\n",
        "print(f\"X_test: {type(X_test)} | y_test {type(y_test)}\")\n",
        "print()\n",
        "print(f\"Training: {X_train.shape} , {y_train.shape}\")\n",
        "print(f\"Validation: {X_val.shape} , {y_val.shape}\")\n",
        "print(f\"Testing: {X_test.shape} , {y_test.shape}\")"
      ]
    },
    {
      "cell_type": "markdown",
      "metadata": {
        "id": "C3UmdyVaWc2f"
      },
      "source": [
        "---\n",
        "Defining Dataloaders\n"
      ]
    },
    {
      "cell_type": "code",
      "execution_count": 16,
      "metadata": {
        "id": "pnr0p08ESkXE"
      },
      "outputs": [],
      "source": [
        "class ClassifierDataset(Dataset):\n",
        "    def __init__(self, X_data, y_data):\n",
        "        self.X_data = X_data\n",
        "        self.y_data = y_data\n",
        "\n",
        "    def __getitem__(self, index):\n",
        "        return self.X_data[index], self.y_data[index]\n",
        "\n",
        "    def __len__ (self):\n",
        "        return len(self.X_data)"
      ]
    },
    {
      "cell_type": "code",
      "execution_count": 17,
      "metadata": {
        "id": "45Ta3rYVknAi"
      },
      "outputs": [],
      "source": [
        "training = ClassifierDataset(X_train, y_train)\n",
        "validating = ClassifierDataset(X_val, y_val)\n",
        "testing = ClassifierDataset(X_test, y_test)\n",
        "\n",
        "\n",
        "train_loader = DataLoader(training, batch_size=batch_size, shuffle=True)\n",
        "val_loader = DataLoader(validating, batch_size=batch_size, shuffle=False)\n",
        "test_loader = DataLoader(testing, batch_size=batch_size, shuffle=False)\n",
        "\n",
        "def get_data_loader(optuna_batch_size):\n",
        "  train_loader = DataLoader(training, batch_size=optuna_batch_size, shuffle=True)\n",
        "  val_loader = DataLoader(validating, batch_size=optuna_batch_size, shuffle=False)\n",
        "  test_loader = DataLoader(testing, batch_size=optuna_batch_size, shuffle=False)\n",
        "  return train_loader, val_loader, test_loader"
      ]
    },
    {
      "cell_type": "markdown",
      "metadata": {
        "id": "dTrRsJbCWmG-"
      },
      "source": [
        "---\n",
        "Defining VAE Model, Loss and Optmizers"
      ]
    },
    {
      "cell_type": "code",
      "execution_count": 18,
      "metadata": {
        "id": "sgYYoP4DSnAB",
        "colab": {
          "base_uri": "https://localhost:8080/"
        },
        "outputId": "90fc97c9-f038-4474-d919-f138ee118fa2"
      },
      "outputs": [
        {
          "output_type": "stream",
          "name": "stdout",
          "text": [
            "Reconstruction X: torch.Size([100, 41])\n",
            "Mu: torch.Size([100, 2]) \n",
            "Logvar: torch.Size([100, 2])\n",
            "Latent Space Z: torch.Size([100, 2])\n",
            "Classifier: torch.Size([100, 13])\n"
          ]
        }
      ],
      "source": [
        "class VAE(nn.Module):\n",
        "  def __init__(self, input_dim, hidden_dim, latent_dim):\n",
        "    super(VAE,self).__init__()\n",
        "    self.encoder = nn.Sequential(\n",
        "        nn.Linear(input_dim, hidden_dim),\n",
        "        nn.ReLU(),\n",
        "        nn.Linear(hidden_dim, hidden_dim),\n",
        "        nn.ReLU(),\n",
        "        nn.Linear(hidden_dim, hidden_dim),\n",
        "        nn.ReLU(),\n",
        "        nn.Linear(hidden_dim, hidden_dim_2),\n",
        "        nn.ReLU(),\n",
        "        nn.Linear(hidden_dim_2, hidden_dim_2),\n",
        "        nn.ReLU(),\n",
        "        nn.Linear(hidden_dim_2, hidden_dim_2),\n",
        "    )\n",
        "    self.mu = nn.Linear(hidden_dim_2, latent_dim)   # mu\n",
        "    self.logvar = nn.Linear(hidden_dim_2, latent_dim)   # log-var\n",
        "    self.decoder = nn.Sequential(\n",
        "        nn.Linear(latent_dim, hidden_dim_2),\n",
        "        nn.ReLU(),\n",
        "        nn.Linear(hidden_dim_2, hidden_dim_2),\n",
        "        nn.ReLU(),\n",
        "        nn.Linear(hidden_dim_2, hidden_dim_2),\n",
        "        nn.ReLU(),\n",
        "        nn.Linear(hidden_dim_2, hidden_dim),\n",
        "        nn.ReLU(),\n",
        "        nn.Linear(hidden_dim, hidden_dim),\n",
        "        nn.ReLU(),\n",
        "        nn.Linear(hidden_dim, hidden_dim),\n",
        "        nn.ReLU(),\n",
        "        nn.Linear(hidden_dim, input_dim),\n",
        "    )\n",
        "    self.classifier = nn.Sequential(\n",
        "        nn.Linear(latent_dim, num_layers),\n",
        "        nn.ReLU(),\n",
        "        nn.Linear(num_layers, 13),\n",
        "        nn.Softmax(dim=1)\n",
        "    )\n",
        "\n",
        "  def encode(self, x):\n",
        "    z = self.encoder(x)\n",
        "    z1 = self.mu(z)\n",
        "    z2 = self.logvar(z)\n",
        "    return z1, z2                 # (mu, log-var)\n",
        "\n",
        "  def decode(self, x):\n",
        "\n",
        "    return self.decoder(x)\n",
        "\n",
        "  def forward(self, x):\n",
        "#  Reparamaterize\n",
        "    mu, logvar = self.encode(x)\n",
        "    stdev = torch.exp(0.5 * logvar)\n",
        "    esp = torch.randn_like(stdev)\n",
        "    z_reparmeterized = mu + (esp * stdev)\n",
        "\n",
        "    x_reconstructed = self.decode(z_reparmeterized)\n",
        "    classified = self.classifier(z_reparmeterized)\n",
        "    classified = classified / tempature\n",
        "\n",
        "    return (x_reconstructed, z_reparmeterized, classified, mu, logvar)\n",
        "\n",
        "if __name__ == \"__main__\":\n",
        "  x = torch.rand(batch_size,input_dim)\n",
        "  vae = VAE(input_dim, hidden_dim, latent_dim)\n",
        "  x_reconstructed, z_reparmeterized, classified, mu, logvar = vae(x)\n",
        "  print(f\"Reconstruction X: {x_reconstructed.shape}\")\n",
        "\n",
        "  print(f\"Mu: {mu.shape} \")\n",
        "\n",
        "  print(f\"Logvar: {logvar.shape}\")\n",
        "\n",
        "  print(f\"Latent Space Z: {z_reparmeterized.shape}\")\n",
        "\n",
        "  print(f\"Classifier: {classified.shape}\")"
      ]
    },
    {
      "cell_type": "code",
      "execution_count": 19,
      "metadata": {
        "id": "fusjHJ7PMDSS"
      },
      "outputs": [],
      "source": [
        "class ContrastiveLoss(nn.Module):\n",
        "    def __init__(self, margin):\n",
        "        super(ContrastiveLoss, self).__init__()\n",
        "        self.margin = margin\n",
        "\n",
        "    def forward(self, z_reparmeterized, labels):\n",
        "        # Compute the pairwise euclidean distances between the examples in the latent space\n",
        "        distances = torch.pow(z_reparmeterized, 2).sum(dim=1, keepdim=True) + torch.pow(z_reparmeterized, 2).sum(dim=1, keepdim=True).t() - 2 * torch.matmul(z_reparmeterized, z_reparmeterized.t())\n",
        "        # Create a mask for the positive pairs (i.e. examples with the same label)\n",
        "        positive_mask = labels.expand(z_reparmeterized.size(0), z_reparmeterized.size(0)).eq(labels.expand(z_reparmeterized.size(0), z_reparmeterized.size(0)).t())\n",
        "        # Create a mask for the negative pairs (i.e. examples with different labels)\n",
        "        negative_mask = labels.expand(z_reparmeterized.size(0), z_reparmeterized.size(0)).ne(labels.expand(z_reparmeterized.size(0), z_reparmeterized.size(0)).t())\n",
        "        # Set the distances for the positive pairs to a large value\n",
        "        distances.masked_fill_(positive_mask, 1e7)\n",
        "\n",
        "        # Compute the contrastive loss for both positive and negative pairs\n",
        "        #positive_loss = torch.sum(torch.min(distances, dim=1)[0]* positive_mask.float())\n",
        "        negative_loss = torch.sum(torch.max(torch.zeros_like(distances), self.margin - distances) * negative_mask.float())\n",
        "        positive_loss = torch.sum(torch.max(torch.zeros_like(distances), self.margin - distances) * positive_mask.float())\n",
        "\n",
        "        # Combine the positive and negative losses\n",
        "        contrastive_loss =  negative_loss + positive_loss\n",
        "\n",
        "        return contrastive_loss"
      ]
    },
    {
      "cell_type": "markdown",
      "metadata": {
        "id": "o7oakX-33vJS"
      },
      "source": [
        "---\n",
        "HyperParameter Optimization\n",
        "---\n",
        "\n"
      ]
    },
    {
      "cell_type": "code",
      "execution_count": 20,
      "metadata": {
        "colab": {
          "base_uri": "https://localhost:8080/"
        },
        "outputId": "dd09ff12-b741-4469-a797-8710a7e01499",
        "id": "SgStKuM0ccx7"
      },
      "outputs": [
        {
          "output_type": "stream",
          "name": "stdout",
          "text": [
            "Reconstruction X: torch.Size([100, 41])\n",
            "Mu: torch.Size([100, 2]) \n",
            "Logvar: torch.Size([100, 2])\n",
            "Latent Space Z: torch.Size([100, 2])\n",
            "Classifier: torch.Size([100, 12])\n",
            "Latent Space Z: torch.Size([100, 2])\n",
            "Classifier: torch.Size([100, 12])\n"
          ]
        }
      ],
      "source": [
        "class VAE(nn.Module):\n",
        "  def __init__(self, input_dim, hidden_dim,hidden_dim_2, latent_dim):\n",
        "    super(VAE,self).__init__()\n",
        "    self.encoder = nn.Sequential(\n",
        "        nn.Linear(input_dim, hidden_dim),\n",
        "        nn.ReLU(),\n",
        "        nn.Linear(hidden_dim, hidden_dim),\n",
        "        nn.ReLU(),\n",
        "        nn.Linear(hidden_dim, hidden_dim_2),\n",
        "        nn.ReLU(),\n",
        "        nn.Linear(hidden_dim_2, hidden_dim_2),\n",
        "    )\n",
        "    self.mu = nn.Linear(hidden_dim_2, latent_dim)   # mu\n",
        "    self.logvar = nn.Linear(hidden_dim_2, latent_dim)   # log-var\n",
        "    self.decoder = nn.Sequential(\n",
        "        nn.Linear(latent_dim, hidden_dim_2),\n",
        "        nn.ReLU(),\n",
        "        nn.Linear(hidden_dim_2, hidden_dim_2),\n",
        "        nn.ReLU(),\n",
        "        nn.Linear(hidden_dim_2, hidden_dim),\n",
        "        nn.ReLU(),\n",
        "        nn.Linear(hidden_dim, hidden_dim),\n",
        "        nn.ReLU(),\n",
        "        nn.Linear(hidden_dim, input_dim),\n",
        "    )\n",
        "    self.classifier = nn.Sequential(\n",
        "        nn.Linear(latent_dim, num_layers),\n",
        "        nn.Tanh(),\n",
        "        nn.Linear(num_layers, 12),\n",
        "        nn.Softmax(dim=1)\n",
        "    )\n",
        "\n",
        "  def encode(self, x):\n",
        "    z = self.encoder(x)\n",
        "    z1 = self.mu(z)\n",
        "    z2 = self.logvar(z)\n",
        "    return z1, z2                 # (mu, log-var)\n",
        "\n",
        "  def decode(self, x):\n",
        "\n",
        "    return self.decoder(x)\n",
        "\n",
        "  def forward(self, x):\n",
        "#  Reparamaterize\n",
        "    mu, logvar = self.encode(x)\n",
        "    stdev = torch.exp(0.5 * logvar)\n",
        "    esp = torch.randn_like(stdev)\n",
        "    z_reparmeterized = mu + (esp * stdev)\n",
        "\n",
        "    x_reconstructed = self.decode(z_reparmeterized)\n",
        "    classified = self.classifier(z_reparmeterized)\n",
        "\n",
        "    return (x_reconstructed, z_reparmeterized, classified, mu, logvar)\n",
        "\n",
        "if __name__ == \"__main__\":\n",
        "  x = torch.rand(batch_size,input_dim)\n",
        "  vae = VAE(input_dim, hidden_dim,hidden_dim_2, latent_dim)\n",
        "  x_reconstructed, z_reparmeterized, classified, mu, logvar = vae(x)\n",
        "  print(f\"Reconstruction X: {x_reconstructed.shape}\")\n",
        "\n",
        "  print(f\"Mu: {mu.shape} \")\n",
        "\n",
        "  print(f\"Logvar: {logvar.shape}\")\n",
        "\n",
        "  print(f\"Latent Space Z: {z_reparmeterized.shape}\")\n",
        "\n",
        "  print(f\"Classifier: {classified.shape}\")\n",
        "\n",
        "  print(f\"Latent Space Z: {z_reparmeterized.shape}\")\n",
        "\n",
        "  print(f\"Classifier: {classified.shape}\")"
      ]
    },
    {
      "cell_type": "code",
      "execution_count": 21,
      "metadata": {
        "id": "5pEM02PAcgmk"
      },
      "outputs": [],
      "source": [
        "class ContrastiveLoss(nn.Module):\n",
        "    def __init__(self, margin):\n",
        "        super(ContrastiveLoss, self).__init__()\n",
        "        self.margin = margin\n",
        "\n",
        "    def forward(self, z_reparmeterized, labels):\n",
        "        # Compute the pairwise euclidean distances between the examples in the latent space\n",
        "        distances = torch.pow(z_reparmeterized, 2).sum(dim=1, keepdim=True) + torch.pow(z_reparmeterized, 2).sum(dim=1, keepdim=True).t() - 2 * torch.matmul(z_reparmeterized, z_reparmeterized.t())\n",
        "        # Create a mask for the positive pairs (i.e. examples with the same label)\n",
        "        positive_mask = labels.expand(z_reparmeterized.size(0), z_reparmeterized.size(0)).eq(labels.expand(z_reparmeterized.size(0), z_reparmeterized.size(0)).t())\n",
        "        # Create a mask for the negative pairs (i.e. examples with different labels)\n",
        "        negative_mask = labels.expand(z_reparmeterized.size(0), z_reparmeterized.size(0)).ne(labels.expand(z_reparmeterized.size(0), z_reparmeterized.size(0)).t())\n",
        "        # Set the distances for the positive pairs to a large value\n",
        "        distances.masked_fill_(positive_mask, 1e7)\n",
        "\n",
        "        # Compute the contrastive loss for both positive and negative pairs\n",
        "        #positive_loss = torch.sum(torch.min(distances, dim=1)[0]* positive_mask.float())\n",
        "        negative_loss = torch.sum(torch.max(torch.zeros_like(distances), self.margin - distances) * negative_mask.float())\n",
        "        positive_loss = torch.sum(torch.max(torch.zeros_like(distances), self.margin - distances) * positive_mask.float())\n",
        "\n",
        "        # Combine the positive and negative losses\n",
        "        contrastive_loss =  negative_loss + positive_loss\n",
        "\n",
        "        return contrastive_loss"
      ]
    },
    {
      "cell_type": "code",
      "execution_count": 22,
      "metadata": {
        "id": "k1-AmtAYjZpS"
      },
      "outputs": [],
      "source": [
        "def train_VAE(trial, model, train_loader, val_loader, optimizer, epoch,alpha,beta,gamma, delta, contrastive_margin):\n",
        "  train_losses=[]\n",
        "  train_accuracy = []\n",
        "  accuracy_log = []\n",
        "  val_losses=[]\n",
        "  val_accuracy=[]\n",
        "\n",
        "  recon_loss_fn = nn.MSELoss(reduction=\"sum\")\n",
        "  classifier_loss_fn = nn.CrossEntropyLoss()\n",
        "  contrastive_loss_fn = ContrastiveLoss(margin=contrastive_margin)\n",
        "\n",
        "  train_running_loss = 0\n",
        "  model.train()\n",
        "  for i, data in enumerate(train_loader):\n",
        "    inputs, labels = data\n",
        "    inputs = inputs.to(device)\n",
        "    labels = labels.to(device)\n",
        "    # print(f\"Input shape: {inputs.shape}\")\n",
        "    # print(f\"Labels shape: {labels.shape}\")\n",
        "    optimizer.zero_grad()\n",
        "\n",
        "    x_reconstructed, z_reparmeterized, classified, mu, logvar = model(inputs)\n",
        "\n",
        "    # Compute the reconstruction loss and KL divergence loss #################################################\n",
        "\n",
        "    reconstruction_loss = recon_loss_fn(x_reconstructed, inputs)\n",
        "    kld_loss = -0.5 * torch.sum(1 + logvar - mu.pow(2) - logvar.exp())\n",
        "\n",
        "    contrastive_loss = contrastive_loss_fn(mu, labels)\n",
        "\n",
        "    # Compute the classificaiton loss #########################################################################\n",
        "    classified = classified.view(-1, 12)\n",
        "    labels = labels - 1\n",
        "    classification_loss = classifier_loss_fn(classified, labels.flatten())\n",
        "\n",
        "\n",
        "    loss = (alpha*reconstruction_loss + kld_loss*beta) + gamma*classification_loss + (delta*contrastive_loss)\n",
        "\n",
        "    accuracy = accuracy_score(labels, classified.argmax(dim=1))\n",
        "    train_accuracy.append(accuracy)\n",
        "    train_acc = sum(train_accuracy)/len(train_accuracy)\n",
        "    accuracy_log.append(train_acc)\n",
        "\n",
        "    loss.backward()\n",
        "    optimizer.step()\n",
        "\n",
        "    train_running_loss += loss.item()\n",
        "    train_loss= train_running_loss/len(train_loader)\n",
        "\n",
        "  with torch.inference_mode():\n",
        "    val_running_loss = 0\n",
        "    val_running_acc = 0\n",
        "\n",
        "    model.eval()\n",
        "    # Iterate over the validation data\n",
        "    for X, Y in val_loader:\n",
        "      # Pass the data through the model and get the reconstructed data and the latent representation\n",
        "      y_pred, z_reparmeterized, v_classified, mu, logvar = model(X)\n",
        "\n",
        "      # Compute the reconstruction loss\n",
        "      v_reconstruction_loss = recon_loss_fn(y_pred, X)\n",
        "\n",
        "      # Compute the KL divergence loss\n",
        "      v_kld_loss = -0.5 * torch.sum(1 + logvar - mu.pow(2) - logvar.exp())\n",
        "\n",
        "      v_contrastive_loss_value = contrastive_loss_fn(mu, Y)\n",
        "\n",
        "      # Reshape the classified output to have the same shape as the labels\n",
        "      v_classified = v_classified.view(-1, 12)\n",
        "      # Compute the classification\n",
        "      Y= Y-1\n",
        "      v_classification_loss = classifier_loss_fn(v_classified, Y.flatten())\n",
        "\n",
        "      # Compute the total loss\n",
        "      vloss = (alpha*v_reconstruction_loss + v_kld_loss*beta) + gamma*v_classification_loss + delta*v_contrastive_loss_value\n",
        "      val_running_loss += vloss.item()\n",
        "      val_loss = val_running_loss/len(val_loader)\n",
        "\n",
        "      v_accuracy = accuracy_score(Y, v_classified.argmax(dim=1))\n",
        "      val_accuracy.append(v_accuracy)\n",
        "      val_acc = sum(val_accuracy)/len(val_accuracy)\n",
        "\n",
        "  print(f\"Epoch: {epoch+1} / {num_epochs} | Reconst_loss: {reconstruction_loss:.3f} | Kldiv loss: {kld_loss:.3f} | Classifcation loss: {classification_loss:.3f} | Constrast loss: {contrastive_loss:.2f} | Total loss: {train_loss:.3f} | Train acc: {train_acc*100:.3f} % ||| Val Loss: {val_loss:.3f} | Val acc: {val_acc*100:.3f} %\")\n",
        "  print(\"-------------------------------------------------------------------------------------------------------------------------------------------------------------------------------------\")\n",
        "  train_losses.append(train_loss)\n",
        "  val_losses.append(val_loss)\n",
        "\n",
        "  # print(epoch)\n",
        "  # if epoch == num_epochs-1:\n",
        "  #   print(model)\n",
        "  trial.report(train_acc, epoch)\n",
        "  if trial.should_prune():\n",
        "      raise optuna.TrialPruned()\n",
        "\n",
        "  return train_losses, val_losses, train_acc, val_acc\n",
        "\n",
        "\n"
      ]
    },
    {
      "cell_type": "code",
      "execution_count": 23,
      "metadata": {
        "id": "p-3XPHXlpsve"
      },
      "outputs": [],
      "source": [
        "num_epochs = 20\n",
        "hidden_dim_2 = 1\n",
        "def objective(trial):\n",
        "  params = {\n",
        "          'optuna_batch_size' : trial.suggest_int('optuna_batch_size', 1e2, 1e4),\n",
        "          'num_epochs' : num_epochs,\n",
        "          'optimizer': trial.suggest_categorical(\"optimizer\", [\"Adam\", \"RMSprop\"]),\n",
        "          \"lr\": trial.suggest_float('lr', 1e-4, 1e0),\n",
        "          \"hidden_dim\": trial.suggest_int('hidden_dim', 1e1, 2e2),\n",
        "          'alpha': trial.suggest_int('alpha', 1e0, 5e0),\n",
        "          'beta': trial.suggest_int('beta', 1e0, 5e0),\n",
        "          'gamma': trial.suggest_int('gamma', 1e0, 5e0),\n",
        "          'delta': trial.suggest_int('delta', 1e0, 5e0),\n",
        "          'contrastive_margin': trial.suggest_int('contrastive_margin', 1e0, 1e1)\n",
        "  }\n",
        "\n",
        "  train_loader, val_loader, test_loader = get_data_loader(params['optuna_batch_size'])\n",
        "  model  = VAE(input_dim, params['hidden_dim'],params['hidden_dim']//2,latent_dim).to(device)\n",
        "  optimizer = getattr(optim, params['optimizer'])(model.parameters(), lr=params['lr'])\n",
        "\n",
        "  for epoch in range(params['num_epochs']):\n",
        "    train_losses, val_losses, train_acc, val_acc = train_VAE(trial, model, train_loader, val_loader, optimizer, epoch, alpha, beta, gamma, delta, params['contrastive_margin'])\n",
        "  return train_acc\n"
      ]
    },
    {
      "cell_type": "code",
      "execution_count": 24,
      "metadata": {
        "colab": {
          "base_uri": "https://localhost:8080/",
          "height": 1000
        },
        "id": "23icBK73s9bH",
        "outputId": "ff4610cb-7f56-44b4-c169-a8a3492ef75c"
      },
      "outputs": [
        {
          "output_type": "stream",
          "name": "stderr",
          "text": [
            "C:\\Users\\kcurr\\AppData\\Local\\Temp\\ipykernel_20392\\2399313174.py:4: ExperimentalWarning: PatientPruner is experimental (supported from v2.8.0). The interface can change in the future.\n",
            "  pruner = PatientPruner(MedianPruner(), patience=1),\n",
            "[I 2023-07-06 09:06:40,863] A new study created in memory with name: no-name-f970250d-c4b4-4ecf-8a32-2c9fc51fb7f1\n"
          ]
        },
        {
          "output_type": "stream",
          "name": "stdout",
          "text": [
            "Epoch: 1 / 20 | Reconst_loss: nan | Kldiv loss: nan | Classifcation loss: nan | Constrast loss: nan | Total loss: nan | Train acc: 8.088 % ||| Val Loss: nan | Val acc: 8.155 %\n",
            "-------------------------------------------------------------------------------------------------------------------------------------------------------------------------------------\n",
            "Epoch: 2 / 20 | Reconst_loss: nan | Kldiv loss: nan | Classifcation loss: nan | Constrast loss: nan | Total loss: nan | Train acc: 8.089 % ||| Val Loss: nan | Val acc: 8.155 %\n",
            "-------------------------------------------------------------------------------------------------------------------------------------------------------------------------------------\n",
            "Epoch: 3 / 20 | Reconst_loss: nan | Kldiv loss: nan | Classifcation loss: nan | Constrast loss: nan | Total loss: nan | Train acc: 8.082 % ||| Val Loss: nan | Val acc: 8.155 %\n",
            "-------------------------------------------------------------------------------------------------------------------------------------------------------------------------------------\n",
            "Epoch: 4 / 20 | Reconst_loss: nan | Kldiv loss: nan | Classifcation loss: nan | Constrast loss: nan | Total loss: nan | Train acc: 8.091 % ||| Val Loss: nan | Val acc: 8.155 %\n",
            "-------------------------------------------------------------------------------------------------------------------------------------------------------------------------------------\n",
            "Epoch: 5 / 20 | Reconst_loss: nan | Kldiv loss: nan | Classifcation loss: nan | Constrast loss: nan | Total loss: nan | Train acc: 8.089 % ||| Val Loss: nan | Val acc: 8.155 %\n",
            "-------------------------------------------------------------------------------------------------------------------------------------------------------------------------------------\n",
            "Epoch: 6 / 20 | Reconst_loss: nan | Kldiv loss: nan | Classifcation loss: nan | Constrast loss: nan | Total loss: nan | Train acc: 8.083 % ||| Val Loss: nan | Val acc: 8.155 %\n",
            "-------------------------------------------------------------------------------------------------------------------------------------------------------------------------------------\n",
            "Epoch: 7 / 20 | Reconst_loss: nan | Kldiv loss: nan | Classifcation loss: nan | Constrast loss: nan | Total loss: nan | Train acc: 8.085 % ||| Val Loss: nan | Val acc: 8.155 %\n",
            "-------------------------------------------------------------------------------------------------------------------------------------------------------------------------------------\n",
            "Epoch: 8 / 20 | Reconst_loss: nan | Kldiv loss: nan | Classifcation loss: nan | Constrast loss: nan | Total loss: nan | Train acc: 8.081 % ||| Val Loss: nan | Val acc: 8.155 %\n",
            "-------------------------------------------------------------------------------------------------------------------------------------------------------------------------------------\n",
            "Epoch: 9 / 20 | Reconst_loss: nan | Kldiv loss: nan | Classifcation loss: nan | Constrast loss: nan | Total loss: nan | Train acc: 8.092 % ||| Val Loss: nan | Val acc: 8.155 %\n",
            "-------------------------------------------------------------------------------------------------------------------------------------------------------------------------------------\n",
            "Epoch: 10 / 20 | Reconst_loss: nan | Kldiv loss: nan | Classifcation loss: nan | Constrast loss: nan | Total loss: nan | Train acc: 8.088 % ||| Val Loss: nan | Val acc: 8.155 %\n",
            "-------------------------------------------------------------------------------------------------------------------------------------------------------------------------------------\n",
            "Epoch: 11 / 20 | Reconst_loss: nan | Kldiv loss: nan | Classifcation loss: nan | Constrast loss: nan | Total loss: nan | Train acc: 8.093 % ||| Val Loss: nan | Val acc: 8.155 %\n",
            "-------------------------------------------------------------------------------------------------------------------------------------------------------------------------------------\n",
            "Epoch: 12 / 20 | Reconst_loss: nan | Kldiv loss: nan | Classifcation loss: nan | Constrast loss: nan | Total loss: nan | Train acc: 8.093 % ||| Val Loss: nan | Val acc: 8.155 %\n",
            "-------------------------------------------------------------------------------------------------------------------------------------------------------------------------------------\n",
            "Epoch: 13 / 20 | Reconst_loss: nan | Kldiv loss: nan | Classifcation loss: nan | Constrast loss: nan | Total loss: nan | Train acc: 8.089 % ||| Val Loss: nan | Val acc: 8.155 %\n",
            "-------------------------------------------------------------------------------------------------------------------------------------------------------------------------------------\n",
            "Epoch: 14 / 20 | Reconst_loss: nan | Kldiv loss: nan | Classifcation loss: nan | Constrast loss: nan | Total loss: nan | Train acc: 8.089 % ||| Val Loss: nan | Val acc: 8.155 %\n",
            "-------------------------------------------------------------------------------------------------------------------------------------------------------------------------------------\n"
          ]
        },
        {
          "output_type": "stream",
          "name": "stderr",
          "text": [
            "[W 2023-07-06 09:37:23,162] Trial 0 failed with parameters: {'optuna_batch_size': 2111, 'optimizer': 'Adam', 'lr': 0.5976075339251424, 'hidden_dim': 172, 'alpha': 5, 'beta': 4, 'gamma': 4, 'delta': 5, 'contrastive_margin': 4} because of the following error: KeyboardInterrupt().\n",
            "Traceback (most recent call last):\n",
            "  File \"C:\\Users\\kcurr\\anaconda3\\lib\\site-packages\\optuna\\study\\_optimize.py\", line 200, in _run_trial\n",
            "    value_or_values = func(trial)\n",
            "  File \"C:\\Users\\kcurr\\AppData\\Local\\Temp\\ipykernel_20392\\2845384582.py\", line 22, in objective\n",
            "    train_losses, val_losses, train_acc, val_acc = train_VAE(trial, model, train_loader, val_loader, optimizer, epoch, alpha, beta, gamma, delta, params['contrastive_margin'])\n",
            "  File \"C:\\Users\\kcurr\\AppData\\Local\\Temp\\ipykernel_20392\\1344714958.py\", line 29, in train_VAE\n",
            "    contrastive_loss = contrastive_loss_fn(mu, labels)\n",
            "  File \"C:\\Users\\kcurr\\anaconda3\\lib\\site-packages\\torch\\nn\\modules\\module.py\", line 1501, in _call_impl\n",
            "    return forward_call(*args, **kwargs)\n",
            "  File \"C:\\Users\\kcurr\\AppData\\Local\\Temp\\ipykernel_20392\\162119177.py\", line 19, in forward\n",
            "    positive_loss = torch.sum(torch.max(torch.zeros_like(distances), self.margin - distances) * positive_mask.float())\n",
            "KeyboardInterrupt\n",
            "[W 2023-07-06 09:37:23,174] Trial 0 failed with value None.\n"
          ]
        },
        {
          "output_type": "error",
          "ename": "KeyboardInterrupt",
          "evalue": "ignored",
          "traceback": [
            "\u001b[1;31m---------------------------------------------------------------------------\u001b[0m",
            "\u001b[1;31mKeyboardInterrupt\u001b[0m                         Traceback (most recent call last)",
            "Cell \u001b[1;32mIn[24], line 6\u001b[0m\n\u001b[0;32m      1\u001b[0m sampler \u001b[38;5;241m=\u001b[39m optuna\u001b[38;5;241m.\u001b[39msamplers\u001b[38;5;241m.\u001b[39mTPESampler()\n\u001b[0;32m      2\u001b[0m study \u001b[38;5;241m=\u001b[39m optuna\u001b[38;5;241m.\u001b[39mcreate_study(\n\u001b[0;32m      3\u001b[0m     sampler\u001b[38;5;241m=\u001b[39msampler,\n\u001b[0;32m      4\u001b[0m     pruner \u001b[38;5;241m=\u001b[39m PatientPruner(MedianPruner(), patience\u001b[38;5;241m=\u001b[39m\u001b[38;5;241m1\u001b[39m),\n\u001b[0;32m      5\u001b[0m     direction\u001b[38;5;241m=\u001b[39m\u001b[38;5;124m'\u001b[39m\u001b[38;5;124mmaximize\u001b[39m\u001b[38;5;124m'\u001b[39m)\n\u001b[1;32m----> 6\u001b[0m \u001b[43mstudy\u001b[49m\u001b[38;5;241;43m.\u001b[39;49m\u001b[43moptimize\u001b[49m\u001b[43m(\u001b[49m\u001b[43mfunc\u001b[49m\u001b[38;5;241;43m=\u001b[39;49m\u001b[43mobjective\u001b[49m\u001b[43m,\u001b[49m\u001b[43m \u001b[49m\u001b[43mn_trials\u001b[49m\u001b[38;5;241;43m=\u001b[39;49m\u001b[38;5;241;43m200\u001b[39;49m\u001b[43m)\u001b[49m\n",
            "File \u001b[1;32m~\\anaconda3\\lib\\site-packages\\optuna\\study\\study.py:443\u001b[0m, in \u001b[0;36mStudy.optimize\u001b[1;34m(self, func, n_trials, timeout, n_jobs, catch, callbacks, gc_after_trial, show_progress_bar)\u001b[0m\n\u001b[0;32m    339\u001b[0m \u001b[38;5;28;01mdef\u001b[39;00m \u001b[38;5;21moptimize\u001b[39m(\n\u001b[0;32m    340\u001b[0m     \u001b[38;5;28mself\u001b[39m,\n\u001b[0;32m    341\u001b[0m     func: ObjectiveFuncType,\n\u001b[1;32m   (...)\u001b[0m\n\u001b[0;32m    348\u001b[0m     show_progress_bar: \u001b[38;5;28mbool\u001b[39m \u001b[38;5;241m=\u001b[39m \u001b[38;5;28;01mFalse\u001b[39;00m,\n\u001b[0;32m    349\u001b[0m ) \u001b[38;5;241m-\u001b[39m\u001b[38;5;241m>\u001b[39m \u001b[38;5;28;01mNone\u001b[39;00m:\n\u001b[0;32m    350\u001b[0m     \u001b[38;5;124;03m\"\"\"Optimize an objective function.\u001b[39;00m\n\u001b[0;32m    351\u001b[0m \n\u001b[0;32m    352\u001b[0m \u001b[38;5;124;03m    Optimization is done by choosing a suitable set of hyperparameter values from a given\u001b[39;00m\n\u001b[1;32m   (...)\u001b[0m\n\u001b[0;32m    440\u001b[0m \u001b[38;5;124;03m            If nested invocation of this method occurs.\u001b[39;00m\n\u001b[0;32m    441\u001b[0m \u001b[38;5;124;03m    \"\"\"\u001b[39;00m\n\u001b[1;32m--> 443\u001b[0m     \u001b[43m_optimize\u001b[49m\u001b[43m(\u001b[49m\n\u001b[0;32m    444\u001b[0m \u001b[43m        \u001b[49m\u001b[43mstudy\u001b[49m\u001b[38;5;241;43m=\u001b[39;49m\u001b[38;5;28;43mself\u001b[39;49m\u001b[43m,\u001b[49m\n\u001b[0;32m    445\u001b[0m \u001b[43m        \u001b[49m\u001b[43mfunc\u001b[49m\u001b[38;5;241;43m=\u001b[39;49m\u001b[43mfunc\u001b[49m\u001b[43m,\u001b[49m\n\u001b[0;32m    446\u001b[0m \u001b[43m        \u001b[49m\u001b[43mn_trials\u001b[49m\u001b[38;5;241;43m=\u001b[39;49m\u001b[43mn_trials\u001b[49m\u001b[43m,\u001b[49m\n\u001b[0;32m    447\u001b[0m \u001b[43m        \u001b[49m\u001b[43mtimeout\u001b[49m\u001b[38;5;241;43m=\u001b[39;49m\u001b[43mtimeout\u001b[49m\u001b[43m,\u001b[49m\n\u001b[0;32m    448\u001b[0m \u001b[43m        \u001b[49m\u001b[43mn_jobs\u001b[49m\u001b[38;5;241;43m=\u001b[39;49m\u001b[43mn_jobs\u001b[49m\u001b[43m,\u001b[49m\n\u001b[0;32m    449\u001b[0m \u001b[43m        \u001b[49m\u001b[43mcatch\u001b[49m\u001b[38;5;241;43m=\u001b[39;49m\u001b[38;5;28;43mtuple\u001b[39;49m\u001b[43m(\u001b[49m\u001b[43mcatch\u001b[49m\u001b[43m)\u001b[49m\u001b[43m \u001b[49m\u001b[38;5;28;43;01mif\u001b[39;49;00m\u001b[43m \u001b[49m\u001b[38;5;28;43misinstance\u001b[39;49m\u001b[43m(\u001b[49m\u001b[43mcatch\u001b[49m\u001b[43m,\u001b[49m\u001b[43m \u001b[49m\u001b[43mIterable\u001b[49m\u001b[43m)\u001b[49m\u001b[43m \u001b[49m\u001b[38;5;28;43;01melse\u001b[39;49;00m\u001b[43m \u001b[49m\u001b[43m(\u001b[49m\u001b[43mcatch\u001b[49m\u001b[43m,\u001b[49m\u001b[43m)\u001b[49m\u001b[43m,\u001b[49m\n\u001b[0;32m    450\u001b[0m \u001b[43m        \u001b[49m\u001b[43mcallbacks\u001b[49m\u001b[38;5;241;43m=\u001b[39;49m\u001b[43mcallbacks\u001b[49m\u001b[43m,\u001b[49m\n\u001b[0;32m    451\u001b[0m \u001b[43m        \u001b[49m\u001b[43mgc_after_trial\u001b[49m\u001b[38;5;241;43m=\u001b[39;49m\u001b[43mgc_after_trial\u001b[49m\u001b[43m,\u001b[49m\n\u001b[0;32m    452\u001b[0m \u001b[43m        \u001b[49m\u001b[43mshow_progress_bar\u001b[49m\u001b[38;5;241;43m=\u001b[39;49m\u001b[43mshow_progress_bar\u001b[49m\u001b[43m,\u001b[49m\n\u001b[0;32m    453\u001b[0m \u001b[43m    \u001b[49m\u001b[43m)\u001b[49m\n",
            "File \u001b[1;32m~\\anaconda3\\lib\\site-packages\\optuna\\study\\_optimize.py:66\u001b[0m, in \u001b[0;36m_optimize\u001b[1;34m(study, func, n_trials, timeout, n_jobs, catch, callbacks, gc_after_trial, show_progress_bar)\u001b[0m\n\u001b[0;32m     64\u001b[0m \u001b[38;5;28;01mtry\u001b[39;00m:\n\u001b[0;32m     65\u001b[0m     \u001b[38;5;28;01mif\u001b[39;00m n_jobs \u001b[38;5;241m==\u001b[39m \u001b[38;5;241m1\u001b[39m:\n\u001b[1;32m---> 66\u001b[0m         \u001b[43m_optimize_sequential\u001b[49m\u001b[43m(\u001b[49m\n\u001b[0;32m     67\u001b[0m \u001b[43m            \u001b[49m\u001b[43mstudy\u001b[49m\u001b[43m,\u001b[49m\n\u001b[0;32m     68\u001b[0m \u001b[43m            \u001b[49m\u001b[43mfunc\u001b[49m\u001b[43m,\u001b[49m\n\u001b[0;32m     69\u001b[0m \u001b[43m            \u001b[49m\u001b[43mn_trials\u001b[49m\u001b[43m,\u001b[49m\n\u001b[0;32m     70\u001b[0m \u001b[43m            \u001b[49m\u001b[43mtimeout\u001b[49m\u001b[43m,\u001b[49m\n\u001b[0;32m     71\u001b[0m \u001b[43m            \u001b[49m\u001b[43mcatch\u001b[49m\u001b[43m,\u001b[49m\n\u001b[0;32m     72\u001b[0m \u001b[43m            \u001b[49m\u001b[43mcallbacks\u001b[49m\u001b[43m,\u001b[49m\n\u001b[0;32m     73\u001b[0m \u001b[43m            \u001b[49m\u001b[43mgc_after_trial\u001b[49m\u001b[43m,\u001b[49m\n\u001b[0;32m     74\u001b[0m \u001b[43m            \u001b[49m\u001b[43mreseed_sampler_rng\u001b[49m\u001b[38;5;241;43m=\u001b[39;49m\u001b[38;5;28;43;01mFalse\u001b[39;49;00m\u001b[43m,\u001b[49m\n\u001b[0;32m     75\u001b[0m \u001b[43m            \u001b[49m\u001b[43mtime_start\u001b[49m\u001b[38;5;241;43m=\u001b[39;49m\u001b[38;5;28;43;01mNone\u001b[39;49;00m\u001b[43m,\u001b[49m\n\u001b[0;32m     76\u001b[0m \u001b[43m            \u001b[49m\u001b[43mprogress_bar\u001b[49m\u001b[38;5;241;43m=\u001b[39;49m\u001b[43mprogress_bar\u001b[49m\u001b[43m,\u001b[49m\n\u001b[0;32m     77\u001b[0m \u001b[43m        \u001b[49m\u001b[43m)\u001b[49m\n\u001b[0;32m     78\u001b[0m     \u001b[38;5;28;01melse\u001b[39;00m:\n\u001b[0;32m     79\u001b[0m         \u001b[38;5;28;01mif\u001b[39;00m n_jobs \u001b[38;5;241m==\u001b[39m \u001b[38;5;241m-\u001b[39m\u001b[38;5;241m1\u001b[39m:\n",
            "File \u001b[1;32m~\\anaconda3\\lib\\site-packages\\optuna\\study\\_optimize.py:163\u001b[0m, in \u001b[0;36m_optimize_sequential\u001b[1;34m(study, func, n_trials, timeout, catch, callbacks, gc_after_trial, reseed_sampler_rng, time_start, progress_bar)\u001b[0m\n\u001b[0;32m    160\u001b[0m         \u001b[38;5;28;01mbreak\u001b[39;00m\n\u001b[0;32m    162\u001b[0m \u001b[38;5;28;01mtry\u001b[39;00m:\n\u001b[1;32m--> 163\u001b[0m     frozen_trial \u001b[38;5;241m=\u001b[39m \u001b[43m_run_trial\u001b[49m\u001b[43m(\u001b[49m\u001b[43mstudy\u001b[49m\u001b[43m,\u001b[49m\u001b[43m \u001b[49m\u001b[43mfunc\u001b[49m\u001b[43m,\u001b[49m\u001b[43m \u001b[49m\u001b[43mcatch\u001b[49m\u001b[43m)\u001b[49m\n\u001b[0;32m    164\u001b[0m \u001b[38;5;28;01mfinally\u001b[39;00m:\n\u001b[0;32m    165\u001b[0m     \u001b[38;5;66;03m# The following line mitigates memory problems that can be occurred in some\u001b[39;00m\n\u001b[0;32m    166\u001b[0m     \u001b[38;5;66;03m# environments (e.g., services that use computing containers such as GitHub Actions).\u001b[39;00m\n\u001b[0;32m    167\u001b[0m     \u001b[38;5;66;03m# Please refer to the following PR for further details:\u001b[39;00m\n\u001b[0;32m    168\u001b[0m     \u001b[38;5;66;03m# https://github.com/optuna/optuna/pull/325.\u001b[39;00m\n\u001b[0;32m    169\u001b[0m     \u001b[38;5;28;01mif\u001b[39;00m gc_after_trial:\n",
            "File \u001b[1;32m~\\anaconda3\\lib\\site-packages\\optuna\\study\\_optimize.py:251\u001b[0m, in \u001b[0;36m_run_trial\u001b[1;34m(study, func, catch)\u001b[0m\n\u001b[0;32m    244\u001b[0m         \u001b[38;5;28;01massert\u001b[39;00m \u001b[38;5;28;01mFalse\u001b[39;00m, \u001b[38;5;124m\"\u001b[39m\u001b[38;5;124mShould not reach.\u001b[39m\u001b[38;5;124m\"\u001b[39m\n\u001b[0;32m    246\u001b[0m \u001b[38;5;28;01mif\u001b[39;00m (\n\u001b[0;32m    247\u001b[0m     frozen_trial\u001b[38;5;241m.\u001b[39mstate \u001b[38;5;241m==\u001b[39m TrialState\u001b[38;5;241m.\u001b[39mFAIL\n\u001b[0;32m    248\u001b[0m     \u001b[38;5;129;01mand\u001b[39;00m func_err \u001b[38;5;129;01mis\u001b[39;00m \u001b[38;5;129;01mnot\u001b[39;00m \u001b[38;5;28;01mNone\u001b[39;00m\n\u001b[0;32m    249\u001b[0m     \u001b[38;5;129;01mand\u001b[39;00m \u001b[38;5;129;01mnot\u001b[39;00m \u001b[38;5;28misinstance\u001b[39m(func_err, catch)\n\u001b[0;32m    250\u001b[0m ):\n\u001b[1;32m--> 251\u001b[0m     \u001b[38;5;28;01mraise\u001b[39;00m func_err\n\u001b[0;32m    252\u001b[0m \u001b[38;5;28;01mreturn\u001b[39;00m frozen_trial\n",
            "File \u001b[1;32m~\\anaconda3\\lib\\site-packages\\optuna\\study\\_optimize.py:200\u001b[0m, in \u001b[0;36m_run_trial\u001b[1;34m(study, func, catch)\u001b[0m\n\u001b[0;32m    198\u001b[0m \u001b[38;5;28;01mwith\u001b[39;00m get_heartbeat_thread(trial\u001b[38;5;241m.\u001b[39m_trial_id, study\u001b[38;5;241m.\u001b[39m_storage):\n\u001b[0;32m    199\u001b[0m     \u001b[38;5;28;01mtry\u001b[39;00m:\n\u001b[1;32m--> 200\u001b[0m         value_or_values \u001b[38;5;241m=\u001b[39m \u001b[43mfunc\u001b[49m\u001b[43m(\u001b[49m\u001b[43mtrial\u001b[49m\u001b[43m)\u001b[49m\n\u001b[0;32m    201\u001b[0m     \u001b[38;5;28;01mexcept\u001b[39;00m exceptions\u001b[38;5;241m.\u001b[39mTrialPruned \u001b[38;5;28;01mas\u001b[39;00m e:\n\u001b[0;32m    202\u001b[0m         \u001b[38;5;66;03m# TODO(mamu): Handle multi-objective cases.\u001b[39;00m\n\u001b[0;32m    203\u001b[0m         state \u001b[38;5;241m=\u001b[39m TrialState\u001b[38;5;241m.\u001b[39mPRUNED\n",
            "Cell \u001b[1;32mIn[23], line 22\u001b[0m, in \u001b[0;36mobjective\u001b[1;34m(trial)\u001b[0m\n\u001b[0;32m     19\u001b[0m optimizer \u001b[38;5;241m=\u001b[39m \u001b[38;5;28mgetattr\u001b[39m(optim, params[\u001b[38;5;124m'\u001b[39m\u001b[38;5;124moptimizer\u001b[39m\u001b[38;5;124m'\u001b[39m])(model\u001b[38;5;241m.\u001b[39mparameters(), lr\u001b[38;5;241m=\u001b[39mparams[\u001b[38;5;124m'\u001b[39m\u001b[38;5;124mlr\u001b[39m\u001b[38;5;124m'\u001b[39m])\n\u001b[0;32m     21\u001b[0m \u001b[38;5;28;01mfor\u001b[39;00m epoch \u001b[38;5;129;01min\u001b[39;00m \u001b[38;5;28mrange\u001b[39m(params[\u001b[38;5;124m'\u001b[39m\u001b[38;5;124mnum_epochs\u001b[39m\u001b[38;5;124m'\u001b[39m]):\n\u001b[1;32m---> 22\u001b[0m   train_losses, val_losses, train_acc, val_acc \u001b[38;5;241m=\u001b[39m \u001b[43mtrain_VAE\u001b[49m\u001b[43m(\u001b[49m\u001b[43mtrial\u001b[49m\u001b[43m,\u001b[49m\u001b[43m \u001b[49m\u001b[43mmodel\u001b[49m\u001b[43m,\u001b[49m\u001b[43m \u001b[49m\u001b[43mtrain_loader\u001b[49m\u001b[43m,\u001b[49m\u001b[43m \u001b[49m\u001b[43mval_loader\u001b[49m\u001b[43m,\u001b[49m\u001b[43m \u001b[49m\u001b[43moptimizer\u001b[49m\u001b[43m,\u001b[49m\u001b[43m \u001b[49m\u001b[43mepoch\u001b[49m\u001b[43m,\u001b[49m\u001b[43m \u001b[49m\u001b[43malpha\u001b[49m\u001b[43m,\u001b[49m\u001b[43m \u001b[49m\u001b[43mbeta\u001b[49m\u001b[43m,\u001b[49m\u001b[43m \u001b[49m\u001b[43mgamma\u001b[49m\u001b[43m,\u001b[49m\u001b[43m \u001b[49m\u001b[43mdelta\u001b[49m\u001b[43m,\u001b[49m\u001b[43m \u001b[49m\u001b[43mparams\u001b[49m\u001b[43m[\u001b[49m\u001b[38;5;124;43m'\u001b[39;49m\u001b[38;5;124;43mcontrastive_margin\u001b[39;49m\u001b[38;5;124;43m'\u001b[39;49m\u001b[43m]\u001b[49m\u001b[43m)\u001b[49m\n\u001b[0;32m     23\u001b[0m \u001b[38;5;28;01mreturn\u001b[39;00m train_acc\n",
            "Cell \u001b[1;32mIn[22], line 29\u001b[0m, in \u001b[0;36mtrain_VAE\u001b[1;34m(trial, model, train_loader, val_loader, optimizer, epoch, alpha, beta, gamma, delta, contrastive_margin)\u001b[0m\n\u001b[0;32m     26\u001b[0m reconstruction_loss \u001b[38;5;241m=\u001b[39m recon_loss_fn(x_reconstructed, inputs)\n\u001b[0;32m     27\u001b[0m kld_loss \u001b[38;5;241m=\u001b[39m \u001b[38;5;241m-\u001b[39m\u001b[38;5;241m0.5\u001b[39m \u001b[38;5;241m*\u001b[39m torch\u001b[38;5;241m.\u001b[39msum(\u001b[38;5;241m1\u001b[39m \u001b[38;5;241m+\u001b[39m logvar \u001b[38;5;241m-\u001b[39m mu\u001b[38;5;241m.\u001b[39mpow(\u001b[38;5;241m2\u001b[39m) \u001b[38;5;241m-\u001b[39m logvar\u001b[38;5;241m.\u001b[39mexp())\n\u001b[1;32m---> 29\u001b[0m contrastive_loss \u001b[38;5;241m=\u001b[39m \u001b[43mcontrastive_loss_fn\u001b[49m\u001b[43m(\u001b[49m\u001b[43mmu\u001b[49m\u001b[43m,\u001b[49m\u001b[43m \u001b[49m\u001b[43mlabels\u001b[49m\u001b[43m)\u001b[49m\n\u001b[0;32m     31\u001b[0m \u001b[38;5;66;03m# Compute the classificaiton loss #########################################################################\u001b[39;00m\n\u001b[0;32m     32\u001b[0m classified \u001b[38;5;241m=\u001b[39m classified\u001b[38;5;241m.\u001b[39mview(\u001b[38;5;241m-\u001b[39m\u001b[38;5;241m1\u001b[39m, \u001b[38;5;241m12\u001b[39m)\n",
            "File \u001b[1;32m~\\anaconda3\\lib\\site-packages\\torch\\nn\\modules\\module.py:1501\u001b[0m, in \u001b[0;36mModule._call_impl\u001b[1;34m(self, *args, **kwargs)\u001b[0m\n\u001b[0;32m   1496\u001b[0m \u001b[38;5;66;03m# If we don't have any hooks, we want to skip the rest of the logic in\u001b[39;00m\n\u001b[0;32m   1497\u001b[0m \u001b[38;5;66;03m# this function, and just call forward.\u001b[39;00m\n\u001b[0;32m   1498\u001b[0m \u001b[38;5;28;01mif\u001b[39;00m \u001b[38;5;129;01mnot\u001b[39;00m (\u001b[38;5;28mself\u001b[39m\u001b[38;5;241m.\u001b[39m_backward_hooks \u001b[38;5;129;01mor\u001b[39;00m \u001b[38;5;28mself\u001b[39m\u001b[38;5;241m.\u001b[39m_backward_pre_hooks \u001b[38;5;129;01mor\u001b[39;00m \u001b[38;5;28mself\u001b[39m\u001b[38;5;241m.\u001b[39m_forward_hooks \u001b[38;5;129;01mor\u001b[39;00m \u001b[38;5;28mself\u001b[39m\u001b[38;5;241m.\u001b[39m_forward_pre_hooks\n\u001b[0;32m   1499\u001b[0m         \u001b[38;5;129;01mor\u001b[39;00m _global_backward_pre_hooks \u001b[38;5;129;01mor\u001b[39;00m _global_backward_hooks\n\u001b[0;32m   1500\u001b[0m         \u001b[38;5;129;01mor\u001b[39;00m _global_forward_hooks \u001b[38;5;129;01mor\u001b[39;00m _global_forward_pre_hooks):\n\u001b[1;32m-> 1501\u001b[0m     \u001b[38;5;28;01mreturn\u001b[39;00m forward_call(\u001b[38;5;241m*\u001b[39margs, \u001b[38;5;241m*\u001b[39m\u001b[38;5;241m*\u001b[39mkwargs)\n\u001b[0;32m   1502\u001b[0m \u001b[38;5;66;03m# Do not call functions when jit is used\u001b[39;00m\n\u001b[0;32m   1503\u001b[0m full_backward_hooks, non_full_backward_hooks \u001b[38;5;241m=\u001b[39m [], []\n",
            "Cell \u001b[1;32mIn[21], line 19\u001b[0m, in \u001b[0;36mContrastiveLoss.forward\u001b[1;34m(self, z_reparmeterized, labels)\u001b[0m\n\u001b[0;32m     16\u001b[0m \u001b[38;5;66;03m# Compute the contrastive loss for both positive and negative pairs\u001b[39;00m\n\u001b[0;32m     17\u001b[0m \u001b[38;5;66;03m#positive_loss = torch.sum(torch.min(distances, dim=1)[0]* positive_mask.float())\u001b[39;00m\n\u001b[0;32m     18\u001b[0m negative_loss \u001b[38;5;241m=\u001b[39m torch\u001b[38;5;241m.\u001b[39msum(torch\u001b[38;5;241m.\u001b[39mmax(torch\u001b[38;5;241m.\u001b[39mzeros_like(distances), \u001b[38;5;28mself\u001b[39m\u001b[38;5;241m.\u001b[39mmargin \u001b[38;5;241m-\u001b[39m distances) \u001b[38;5;241m*\u001b[39m negative_mask\u001b[38;5;241m.\u001b[39mfloat())\n\u001b[1;32m---> 19\u001b[0m positive_loss \u001b[38;5;241m=\u001b[39m torch\u001b[38;5;241m.\u001b[39msum(torch\u001b[38;5;241m.\u001b[39mmax(torch\u001b[38;5;241m.\u001b[39mzeros_like(distances), \u001b[38;5;28mself\u001b[39m\u001b[38;5;241m.\u001b[39mmargin \u001b[38;5;241m-\u001b[39m distances) \u001b[38;5;241m*\u001b[39m \u001b[43mpositive_mask\u001b[49m\u001b[38;5;241;43m.\u001b[39;49m\u001b[43mfloat\u001b[49m\u001b[43m(\u001b[49m\u001b[43m)\u001b[49m)\n\u001b[0;32m     21\u001b[0m \u001b[38;5;66;03m# Combine the positive and negative losses\u001b[39;00m\n\u001b[0;32m     22\u001b[0m contrastive_loss \u001b[38;5;241m=\u001b[39m  negative_loss \u001b[38;5;241m+\u001b[39m positive_loss\n",
            "\u001b[1;31mKeyboardInterrupt\u001b[0m: "
          ]
        }
      ],
      "source": [
        "sampler = optuna.samplers.TPESampler()\n",
        "study = optuna.create_study(\n",
        "    sampler=sampler,\n",
        "    pruner = PatientPruner(MedianPruner(), patience=1),\n",
        "    direction='maximize')\n",
        "study.optimize(func=objective, n_trials=200)"
      ]
    },
    {
      "cell_type": "code",
      "execution_count": null,
      "metadata": {
        "id": "NsAEDPdGOOj2"
      },
      "outputs": [],
      "source": [
        "best_trial = study.best_trial\n",
        "print(f\"Best Accuracy: {study.best_value*100:.2f}%\")\n",
        "for key, value in best_trial.params.items():\n",
        "    print(\"{}= {}\".format(key, value))"
      ]
    },
    {
      "cell_type": "code",
      "execution_count": null,
      "metadata": {
        "id": "lRYaeU6SFLeL"
      },
      "outputs": [],
      "source": [
        "optuna.visualization.plot_parallel_coordinate(study)"
      ]
    },
    {
      "cell_type": "code",
      "execution_count": null,
      "metadata": {
        "id": "_vOH85Dlpssz"
      },
      "outputs": [],
      "source": [
        "optuna.visualization.plot_param_importances(study)"
      ]
    },
    {
      "cell_type": "code",
      "execution_count": null,
      "metadata": {
        "id": "3r3cLVSWHHzV"
      },
      "outputs": [],
      "source": [
        "optuna.visualization.plot_optimization_history(study)"
      ]
    },
    {
      "cell_type": "code",
      "execution_count": null,
      "metadata": {
        "id": "7CxMNDlDI5w3"
      },
      "outputs": [],
      "source": [
        "optuna.visualization.plot_slice(study,params=['lr'])"
      ]
    },
    {
      "cell_type": "code",
      "execution_count": null,
      "metadata": {
        "id": "D0tsHeBYpsqP"
      },
      "outputs": [],
      "source": [
        "optuna.visualization.plot_intermediate_values(study)"
      ]
    },
    {
      "cell_type": "markdown",
      "metadata": {
        "id": "iXgx8B6-5b1a"
      },
      "source": [
        "---\n",
        "Training and Validation\n",
        "---"
      ]
    },
    {
      "cell_type": "code",
      "execution_count": null,
      "metadata": {
        "id": "j8py7PPt53mM",
        "colab": {
          "base_uri": "https://localhost:8080/"
        },
        "outputId": "c4906ccb-2d9b-438e-e642-773044927d89"
      },
      "outputs": [
        {
          "output_type": "stream",
          "name": "stdout",
          "text": [
            "Reconstruction X: torch.Size([10000, 41])\n",
            "Mu: torch.Size([10000, 2]) \n",
            "Logvar: torch.Size([10000, 2])\n",
            "Latent Space Z: torch.Size([10000, 2])\n",
            "Classifier: torch.Size([10000, 12])\n"
          ]
        }
      ],
      "source": [
        "class VAE(nn.Module):\n",
        "  def __init__(self, input_dim, hidden_dim, latent_dim):\n",
        "    super(VAE,self).__init__()\n",
        "    self.encoder = nn.Sequential(\n",
        "        nn.Linear(input_dim, hidden_dim),\n",
        "        nn.ReLU(),\n",
        "        nn.Linear(hidden_dim, hidden_dim),\n",
        "        nn.ReLU(),\n",
        "        nn.Linear(hidden_dim, hidden_dim_2),\n",
        "        nn.ReLU(),\n",
        "        nn.Linear(hidden_dim_2, hidden_dim_2),\n",
        "    )\n",
        "    self.mu = nn.Linear(hidden_dim_2, latent_dim)   # mu\n",
        "    self.logvar = nn.Linear(hidden_dim_2, latent_dim)   # log-var\n",
        "    self.decoder = nn.Sequential(\n",
        "        nn.Linear(latent_dim, hidden_dim_2),\n",
        "        nn.ReLU(),\n",
        "        nn.Linear(hidden_dim_2, hidden_dim_2),\n",
        "        nn.ReLU(),\n",
        "        nn.Linear(hidden_dim_2, hidden_dim),\n",
        "        nn.ReLU(),\n",
        "        nn.Linear(hidden_dim, hidden_dim),\n",
        "        nn.ReLU(),\n",
        "        nn.Linear(hidden_dim, input_dim),\n",
        "    )\n",
        "    self.classifier = nn.Sequential(\n",
        "        nn.Linear(latent_dim, num_layers),\n",
        "        nn.Tanh(),\n",
        "        nn.Linear(num_layers, 12),\n",
        "        nn.Softmax(dim=1)\n",
        "    )\n",
        "\n",
        "  def encode(self, x):\n",
        "    z = self.encoder(x)\n",
        "    z1 = self.mu(z)\n",
        "    z2 = self.logvar(z)\n",
        "    return z1, z2                 # (mu, log-var)\n",
        "\n",
        "  def decode(self, x):\n",
        "\n",
        "    return self.decoder(x)\n",
        "\n",
        "  def forward(self, x):\n",
        "#  Reparamaterize\n",
        "    mu, logvar = self.encode(x)\n",
        "    stdev = torch.exp(0.5 * logvar)\n",
        "    esp = torch.randn_like(stdev)\n",
        "    z_reparmeterized = mu + (esp * stdev)\n",
        "\n",
        "    x_reconstructed = self.decode(z_reparmeterized)\n",
        "    classified = self.classifier(z_reparmeterized)\n",
        "\n",
        "    return (x_reconstructed, z_reparmeterized, classified, mu, logvar)\n",
        "\n",
        "if __name__ == \"__main__\":\n",
        "  x = torch.rand(batch_size,input_dim)\n",
        "  vae = VAE(input_dim, hidden_dim, latent_dim)\n",
        "  x_reconstructed, z_reparmeterized, classified, mu, logvar = vae(x)\n",
        "  print(f\"Reconstruction X: {x_reconstructed.shape}\")\n",
        "\n",
        "  print(f\"Mu: {mu.shape} \")\n",
        "\n",
        "  print(f\"Logvar: {logvar.shape}\")\n",
        "\n",
        "  print(f\"Latent Space Z: {z_reparmeterized.shape}\")\n",
        "\n",
        "  print(f\"Classifier: {classified.shape}\")"
      ]
    },
    {
      "cell_type": "code",
      "execution_count": null,
      "metadata": {
        "id": "-k0KXnR3yxzw"
      },
      "outputs": [],
      "source": [
        "class ContrastiveLoss(nn.Module):\n",
        "    def __init__(self, margin):\n",
        "        super(ContrastiveLoss, self).__init__()\n",
        "        self.margin = margin\n",
        "\n",
        "    def forward(self, z_reparmeterized, labels):\n",
        "        # Compute the pairwise euclidean distances between the examples in the latent space\n",
        "        distances = torch.pow(z_reparmeterized, 2).sum(dim=1, keepdim=True) + torch.pow(z_reparmeterized, 2).sum(dim=1, keepdim=True).t() - 2 * torch.matmul(z_reparmeterized, z_reparmeterized.t())\n",
        "        # Create a mask for the positive pairs (i.e. examples with the same label)\n",
        "        positive_mask = labels.expand(z_reparmeterized.size(0), z_reparmeterized.size(0)).eq(labels.expand(z_reparmeterized.size(0), z_reparmeterized.size(0)).t())\n",
        "        # Create a mask for the negative pairs (i.e. examples with different labels)\n",
        "        negative_mask = labels.expand(z_reparmeterized.size(0), z_reparmeterized.size(0)).ne(labels.expand(z_reparmeterized.size(0), z_reparmeterized.size(0)).t())\n",
        "        # Set the distances for the positive pairs to a large value\n",
        "        distances.masked_fill_(positive_mask, 1e7)\n",
        "\n",
        "        # Compute the contrastive loss for both positive and negative pairs\n",
        "        #positive_loss = torch.sum(torch.min(distances, dim=1)[0]* positive_mask.float())\n",
        "        negative_loss = torch.sum(torch.max(torch.zeros_like(distances), self.margin - distances) * negative_mask.float())\n",
        "        positive_loss = torch.sum(torch.max(torch.zeros_like(distances), self.margin - distances) * positive_mask.float())\n",
        "\n",
        "        # Combine the positive and negative losses\n",
        "        contrastive_loss =  negative_loss + positive_loss\n",
        "\n",
        "        return contrastive_loss\n"
      ]
    },
    {
      "cell_type": "code",
      "execution_count": null,
      "metadata": {
        "id": "HLawvUR-SpJl",
        "colab": {
          "base_uri": "https://localhost:8080/"
        },
        "outputId": "82f816c6-9bc3-4622-964d-6a5fc5561b03"
      },
      "outputs": [
        {
          "output_type": "stream",
          "name": "stdout",
          "text": [
            "VAE(\n",
            "  (encoder): Sequential(\n",
            "    (0): Linear(in_features=41, out_features=20, bias=True)\n",
            "    (1): ReLU()\n",
            "    (2): Linear(in_features=20, out_features=20, bias=True)\n",
            "    (3): ReLU()\n",
            "    (4): Linear(in_features=20, out_features=10, bias=True)\n",
            "    (5): ReLU()\n",
            "    (6): Linear(in_features=10, out_features=10, bias=True)\n",
            "  )\n",
            "  (mu): Linear(in_features=10, out_features=2, bias=True)\n",
            "  (logvar): Linear(in_features=10, out_features=2, bias=True)\n",
            "  (decoder): Sequential(\n",
            "    (0): Linear(in_features=2, out_features=10, bias=True)\n",
            "    (1): ReLU()\n",
            "    (2): Linear(in_features=10, out_features=10, bias=True)\n",
            "    (3): ReLU()\n",
            "    (4): Linear(in_features=10, out_features=20, bias=True)\n",
            "    (5): ReLU()\n",
            "    (6): Linear(in_features=20, out_features=20, bias=True)\n",
            "    (7): ReLU()\n",
            "    (8): Linear(in_features=20, out_features=41, bias=True)\n",
            "  )\n",
            "  (classifier): Sequential(\n",
            "    (0): Linear(in_features=2, out_features=6, bias=True)\n",
            "    (1): Tanh()\n",
            "    (2): Linear(in_features=6, out_features=12, bias=True)\n",
            "    (3): Softmax(dim=1)\n",
            "  )\n",
            ")\n"
          ]
        }
      ],
      "source": [
        "# Loss Functions\n",
        "loss_fn = nn.MSELoss(reduction=\"sum\")\n",
        "classifier_loss_fn = nn.CrossEntropyLoss()\n",
        "contrastive_loss_fn = ContrastiveLoss(margin=2)\n",
        "\n",
        "#############################################################################################################################################################################################################\n",
        "\n",
        "#Hyperparameters\n",
        "latent_dim = 2\n",
        "\n",
        "hidden_dim= round(input_dim/2)\n",
        "hidden_dim_2 = round(input_dim/4)\n",
        "num_classes = 12\n",
        "num_layers = round(num_classes/2)\n",
        "\n",
        "num_epochs= 50\n",
        "lr= 0.006\n",
        "batch_size= 200\n",
        "hidden_dim= 20\n",
        "\n",
        "alpha= 1\n",
        "beta=  1\n",
        "gamma= 1\n",
        "delta= 1\n",
        "\n",
        "# Best Accuracy: 94.58%\n",
        "# optuna_batch_size= 367\n",
        "# optimizer= Adam\n",
        "# lr= 0.008033274147278979\n",
        "# hidden_dim= 915\n",
        "# alpha= 7\n",
        "# beta= 7\n",
        "# gamma= 10\n",
        "# delta= 5\n",
        "# contrastive_margin= 2\n",
        "\n",
        "train_loader = DataLoader(training, batch_size=batch_size, shuffle=True)\n",
        "val_loader = DataLoader(validating, batch_size=batch_size, shuffle=False)\n",
        "test_loader = DataLoader(testing, batch_size=batch_size, shuffle=False)\n",
        "\n",
        "# #Model and Optmimizer\n",
        "model  = VAE(input_dim, hidden_dim, latent_dim).to(device)\n",
        "optimizer = optim.Adam(model.parameters(), lr=lr)\n",
        "print(model)\n",
        "\n",
        "#############################################################################################################################################################################################################\n",
        "#############################################################################################################################################################################################################\n",
        "#############################################################################################################################################################################################################\n",
        "#############################################################################################################################################################################################################"
      ]
    },
    {
      "cell_type": "markdown",
      "metadata": {
        "id": "6r4_reRyWuIu"
      },
      "source": [
        "---\n",
        "Train and Validation loop"
      ]
    },
    {
      "cell_type": "code",
      "execution_count": null,
      "metadata": {
        "id": "lH7Muoa_Sr-U",
        "colab": {
          "base_uri": "https://localhost:8080/"
        },
        "outputId": "e3cc55a9-4be4-4c9d-a12e-498a0c272102"
      },
      "outputs": [
        {
          "output_type": "stream",
          "name": "stdout",
          "text": [
            "Epoch: 1 / 50 | Reconst_loss: 4726.641 | Kldiv loss: 1576.731 | Classifcation loss: 2.408 | Constrast loss: 985.42 | Total loss: 10164.597 | Train acc: 19.375 % ||| Val Loss: 9176.640 | Val acc: 24.384 %\n",
            "-------------------------------------------------------------------------------------------------------------------------------------------------------------------------------------\n",
            "Epoch: 2 / 50 | Reconst_loss: 3535.422 | Kldiv loss: 1568.738 | Classifcation loss: 2.328 | Constrast loss: 1025.62 | Total loss: 9074.790 | Train acc: 22.397 % ||| Val Loss: 8971.291 | Val acc: 25.590 %\n",
            "-------------------------------------------------------------------------------------------------------------------------------------------------------------------------------------\n",
            "Epoch: 3 / 50 | Reconst_loss: 4567.570 | Kldiv loss: 1518.309 | Classifcation loss: 2.346 | Constrast loss: 947.28 | Total loss: 8937.722 | Train acc: 24.256 % ||| Val Loss: 8970.114 | Val acc: 26.584 %\n",
            "-------------------------------------------------------------------------------------------------------------------------------------------------------------------------------------\n",
            "Epoch: 4 / 50 | Reconst_loss: 5435.201 | Kldiv loss: 1538.388 | Classifcation loss: 2.340 | Constrast loss: 1012.83 | Total loss: 8831.324 | Train acc: 25.666 % ||| Val Loss: 8793.451 | Val acc: 27.696 %\n",
            "-------------------------------------------------------------------------------------------------------------------------------------------------------------------------------------\n",
            "Epoch: 5 / 50 | Reconst_loss: 4055.432 | Kldiv loss: 1632.951 | Classifcation loss: 2.296 | Constrast loss: 846.30 | Total loss: 8760.779 | Train acc: 26.664 % ||| Val Loss: 8710.350 | Val acc: 28.389 %\n",
            "-------------------------------------------------------------------------------------------------------------------------------------------------------------------------------------\n",
            "Epoch: 6 / 50 | Reconst_loss: 4591.875 | Kldiv loss: 1475.279 | Classifcation loss: 2.271 | Constrast loss: 886.86 | Total loss: 8714.012 | Train acc: 27.383 % ||| Val Loss: 8707.113 | Val acc: 28.954 %\n",
            "-------------------------------------------------------------------------------------------------------------------------------------------------------------------------------------\n",
            "Epoch: 7 / 50 | Reconst_loss: 3958.186 | Kldiv loss: 1763.051 | Classifcation loss: 2.273 | Constrast loss: 720.77 | Total loss: 8669.968 | Train acc: 28.087 % ||| Val Loss: 8658.630 | Val acc: 29.422 %\n",
            "-------------------------------------------------------------------------------------------------------------------------------------------------------------------------------------\n",
            "Epoch: 8 / 50 | Reconst_loss: 3577.110 | Kldiv loss: 1614.015 | Classifcation loss: 2.324 | Constrast loss: 855.48 | Total loss: 8629.924 | Train acc: 28.667 % ||| Val Loss: 8594.329 | Val acc: 29.736 %\n",
            "-------------------------------------------------------------------------------------------------------------------------------------------------------------------------------------\n",
            "Epoch: 9 / 50 | Reconst_loss: 4141.087 | Kldiv loss: 1484.285 | Classifcation loss: 2.287 | Constrast loss: 861.19 | Total loss: 8632.154 | Train acc: 29.089 % ||| Val Loss: 8573.110 | Val acc: 30.085 %\n",
            "-------------------------------------------------------------------------------------------------------------------------------------------------------------------------------------\n",
            "Epoch: 10 / 50 | Reconst_loss: 4002.147 | Kldiv loss: 1494.587 | Classifcation loss: 2.280 | Constrast loss: 911.79 | Total loss: 8590.265 | Train acc: 29.487 % ||| Val Loss: 8551.658 | Val acc: 30.466 %\n",
            "-------------------------------------------------------------------------------------------------------------------------------------------------------------------------------------\n",
            "Epoch: 11 / 50 | Reconst_loss: 4356.436 | Kldiv loss: 1641.580 | Classifcation loss: 2.270 | Constrast loss: 674.34 | Total loss: 8579.916 | Train acc: 29.875 % ||| Val Loss: 8545.560 | Val acc: 30.794 %\n",
            "-------------------------------------------------------------------------------------------------------------------------------------------------------------------------------------\n",
            "Epoch: 12 / 50 | Reconst_loss: 4114.073 | Kldiv loss: 1681.998 | Classifcation loss: 2.235 | Constrast loss: 676.53 | Total loss: 8569.338 | Train acc: 30.211 % ||| Val Loss: 8543.287 | Val acc: 31.090 %\n",
            "-------------------------------------------------------------------------------------------------------------------------------------------------------------------------------------\n",
            "Epoch: 13 / 50 | Reconst_loss: 3668.306 | Kldiv loss: 1560.506 | Classifcation loss: 2.328 | Constrast loss: 857.98 | Total loss: 8547.441 | Train acc: 30.513 % ||| Val Loss: 8546.449 | Val acc: 31.290 %\n",
            "-------------------------------------------------------------------------------------------------------------------------------------------------------------------------------------\n",
            "Epoch: 14 / 50 | Reconst_loss: 3795.774 | Kldiv loss: 1507.409 | Classifcation loss: 2.264 | Constrast loss: 890.70 | Total loss: 8560.603 | Train acc: 30.758 % ||| Val Loss: 8577.371 | Val acc: 31.454 %\n",
            "-------------------------------------------------------------------------------------------------------------------------------------------------------------------------------------\n",
            "Epoch: 15 / 50 | Reconst_loss: 3339.873 | Kldiv loss: 1568.201 | Classifcation loss: 2.253 | Constrast loss: 773.49 | Total loss: 8544.679 | Train acc: 30.977 % ||| Val Loss: 8509.627 | Val acc: 31.618 %\n",
            "-------------------------------------------------------------------------------------------------------------------------------------------------------------------------------------\n",
            "Epoch: 16 / 50 | Reconst_loss: 4103.293 | Kldiv loss: 1565.144 | Classifcation loss: 2.315 | Constrast loss: 874.16 | Total loss: 8534.649 | Train acc: 31.180 % ||| Val Loss: 8508.776 | Val acc: 31.800 %\n",
            "-------------------------------------------------------------------------------------------------------------------------------------------------------------------------------------\n",
            "Epoch: 17 / 50 | Reconst_loss: 3631.020 | Kldiv loss: 1602.570 | Classifcation loss: 2.269 | Constrast loss: 743.04 | Total loss: 8522.049 | Train acc: 31.376 % ||| Val Loss: 8514.244 | Val acc: 31.904 %\n",
            "-------------------------------------------------------------------------------------------------------------------------------------------------------------------------------------\n",
            "Epoch: 18 / 50 | Reconst_loss: 4106.361 | Kldiv loss: 1572.230 | Classifcation loss: 2.324 | Constrast loss: 925.03 | Total loss: 8504.146 | Train acc: 31.580 % ||| Val Loss: 8474.150 | Val acc: 32.099 %\n",
            "-------------------------------------------------------------------------------------------------------------------------------------------------------------------------------------\n",
            "Epoch: 19 / 50 | Reconst_loss: 3791.554 | Kldiv loss: 1558.750 | Classifcation loss: 2.248 | Constrast loss: 722.43 | Total loss: 8488.393 | Train acc: 31.775 % ||| Val Loss: 8476.240 | Val acc: 32.238 %\n",
            "-------------------------------------------------------------------------------------------------------------------------------------------------------------------------------------\n",
            "Epoch: 20 / 50 | Reconst_loss: 4255.990 | Kldiv loss: 1542.723 | Classifcation loss: 2.244 | Constrast loss: 773.16 | Total loss: 8483.717 | Train acc: 31.958 % ||| Val Loss: 8440.031 | Val acc: 32.383 %\n",
            "-------------------------------------------------------------------------------------------------------------------------------------------------------------------------------------\n",
            "Epoch: 21 / 50 | Reconst_loss: 4180.212 | Kldiv loss: 1469.592 | Classifcation loss: 2.239 | Constrast loss: 738.06 | Total loss: 8473.741 | Train acc: 32.117 % ||| Val Loss: 8471.034 | Val acc: 32.506 %\n",
            "-------------------------------------------------------------------------------------------------------------------------------------------------------------------------------------\n",
            "Epoch: 22 / 50 | Reconst_loss: 4624.747 | Kldiv loss: 1602.327 | Classifcation loss: 2.286 | Constrast loss: 904.72 | Total loss: 8473.041 | Train acc: 32.264 % ||| Val Loss: 8424.832 | Val acc: 32.644 %\n",
            "-------------------------------------------------------------------------------------------------------------------------------------------------------------------------------------\n",
            "Epoch: 23 / 50 | Reconst_loss: 4489.000 | Kldiv loss: 1682.112 | Classifcation loss: 2.363 | Constrast loss: 785.59 | Total loss: 8463.538 | Train acc: 32.401 % ||| Val Loss: 8475.735 | Val acc: 32.751 %\n",
            "-------------------------------------------------------------------------------------------------------------------------------------------------------------------------------------\n",
            "Epoch: 24 / 50 | Reconst_loss: 3344.833 | Kldiv loss: 1697.057 | Classifcation loss: 2.251 | Constrast loss: 796.00 | Total loss: 8462.638 | Train acc: 32.523 % ||| Val Loss: 8477.832 | Val acc: 32.858 %\n",
            "-------------------------------------------------------------------------------------------------------------------------------------------------------------------------------------\n",
            "Epoch: 25 / 50 | Reconst_loss: 4924.744 | Kldiv loss: 1753.051 | Classifcation loss: 2.266 | Constrast loss: 685.61 | Total loss: 8474.290 | Train acc: 32.626 % ||| Val Loss: 8401.259 | Val acc: 32.967 %\n",
            "-------------------------------------------------------------------------------------------------------------------------------------------------------------------------------------\n",
            "Epoch: 26 / 50 | Reconst_loss: 3990.932 | Kldiv loss: 1694.485 | Classifcation loss: 2.278 | Constrast loss: 651.17 | Total loss: 8454.685 | Train acc: 32.742 % ||| Val Loss: 8455.188 | Val acc: 33.075 %\n",
            "-------------------------------------------------------------------------------------------------------------------------------------------------------------------------------------\n",
            "Epoch: 27 / 50 | Reconst_loss: 3919.941 | Kldiv loss: 1446.059 | Classifcation loss: 2.271 | Constrast loss: 853.34 | Total loss: 8443.203 | Train acc: 32.849 % ||| Val Loss: 8418.155 | Val acc: 33.159 %\n",
            "-------------------------------------------------------------------------------------------------------------------------------------------------------------------------------------\n",
            "Epoch: 28 / 50 | Reconst_loss: 4454.346 | Kldiv loss: 1635.572 | Classifcation loss: 2.245 | Constrast loss: 643.19 | Total loss: 8423.361 | Train acc: 32.959 % ||| Val Loss: 8389.428 | Val acc: 33.268 %\n",
            "-------------------------------------------------------------------------------------------------------------------------------------------------------------------------------------\n",
            "Epoch: 29 / 50 | Reconst_loss: 3836.828 | Kldiv loss: 1644.047 | Classifcation loss: 2.241 | Constrast loss: 694.64 | Total loss: 8454.997 | Train acc: 33.061 % ||| Val Loss: 8397.160 | Val acc: 33.370 %\n",
            "-------------------------------------------------------------------------------------------------------------------------------------------------------------------------------------\n",
            "Epoch: 30 / 50 | Reconst_loss: 3675.422 | Kldiv loss: 1593.082 | Classifcation loss: 2.244 | Constrast loss: 719.46 | Total loss: 8418.735 | Train acc: 33.155 % ||| Val Loss: 8370.990 | Val acc: 33.460 %\n",
            "-------------------------------------------------------------------------------------------------------------------------------------------------------------------------------------\n",
            "Epoch: 31 / 50 | Reconst_loss: 4377.146 | Kldiv loss: 1544.593 | Classifcation loss: 2.275 | Constrast loss: 819.09 | Total loss: 8418.687 | Train acc: 33.226 % ||| Val Loss: 8433.835 | Val acc: 33.493 %\n",
            "-------------------------------------------------------------------------------------------------------------------------------------------------------------------------------------\n",
            "Epoch: 32 / 50 | Reconst_loss: 3568.367 | Kldiv loss: 1605.568 | Classifcation loss: 2.271 | Constrast loss: 825.18 | Total loss: 8443.805 | Train acc: 33.280 % ||| Val Loss: 8379.211 | Val acc: 33.545 %\n",
            "-------------------------------------------------------------------------------------------------------------------------------------------------------------------------------------\n",
            "Epoch: 33 / 50 | Reconst_loss: 3876.841 | Kldiv loss: 1625.589 | Classifcation loss: 2.236 | Constrast loss: 726.13 | Total loss: 8403.147 | Train acc: 33.347 % ||| Val Loss: 8414.796 | Val acc: 33.623 %\n",
            "-------------------------------------------------------------------------------------------------------------------------------------------------------------------------------------\n",
            "Epoch: 34 / 50 | Reconst_loss: 3648.211 | Kldiv loss: 1476.208 | Classifcation loss: 2.213 | Constrast loss: 814.80 | Total loss: 8393.909 | Train acc: 33.416 % ||| Val Loss: 8416.494 | Val acc: 33.683 %\n",
            "-------------------------------------------------------------------------------------------------------------------------------------------------------------------------------------\n",
            "Epoch: 35 / 50 | Reconst_loss: 4093.130 | Kldiv loss: 1615.730 | Classifcation loss: 2.241 | Constrast loss: 774.93 | Total loss: 8384.960 | Train acc: 33.485 % ||| Val Loss: 8351.036 | Val acc: 33.720 %\n",
            "-------------------------------------------------------------------------------------------------------------------------------------------------------------------------------------\n",
            "Epoch: 36 / 50 | Reconst_loss: 3945.624 | Kldiv loss: 1489.808 | Classifcation loss: 2.161 | Constrast loss: 738.13 | Total loss: 8394.046 | Train acc: 33.546 % ||| Val Loss: 8372.458 | Val acc: 33.776 %\n",
            "-------------------------------------------------------------------------------------------------------------------------------------------------------------------------------------\n",
            "Epoch: 37 / 50 | Reconst_loss: 4153.247 | Kldiv loss: 1471.828 | Classifcation loss: 2.264 | Constrast loss: 888.70 | Total loss: 8383.900 | Train acc: 33.610 % ||| Val Loss: 8379.505 | Val acc: 33.822 %\n",
            "-------------------------------------------------------------------------------------------------------------------------------------------------------------------------------------\n",
            "Epoch: 38 / 50 | Reconst_loss: 3792.847 | Kldiv loss: 1512.336 | Classifcation loss: 2.300 | Constrast loss: 846.62 | Total loss: 8375.202 | Train acc: 33.666 % ||| Val Loss: 8364.330 | Val acc: 33.857 %\n",
            "-------------------------------------------------------------------------------------------------------------------------------------------------------------------------------------\n",
            "Epoch: 39 / 50 | Reconst_loss: 3697.203 | Kldiv loss: 1506.597 | Classifcation loss: 2.263 | Constrast loss: 804.57 | Total loss: 8385.564 | Train acc: 33.719 % ||| Val Loss: 8369.142 | Val acc: 33.902 %\n",
            "-------------------------------------------------------------------------------------------------------------------------------------------------------------------------------------\n",
            "Epoch: 40 / 50 | Reconst_loss: 3486.568 | Kldiv loss: 1678.930 | Classifcation loss: 2.290 | Constrast loss: 757.88 | Total loss: 8386.057 | Train acc: 33.773 % ||| Val Loss: 8326.579 | Val acc: 33.949 %\n",
            "-------------------------------------------------------------------------------------------------------------------------------------------------------------------------------------\n",
            "Epoch: 41 / 50 | Reconst_loss: 4203.350 | Kldiv loss: 1513.092 | Classifcation loss: 2.297 | Constrast loss: 834.98 | Total loss: 8391.590 | Train acc: 33.816 % ||| Val Loss: 8344.970 | Val acc: 33.968 %\n",
            "-------------------------------------------------------------------------------------------------------------------------------------------------------------------------------------\n",
            "Epoch: 42 / 50 | Reconst_loss: 3160.207 | Kldiv loss: 1509.868 | Classifcation loss: 2.338 | Constrast loss: 822.29 | Total loss: 8398.547 | Train acc: 33.850 % ||| Val Loss: 8408.386 | Val acc: 33.980 %\n",
            "-------------------------------------------------------------------------------------------------------------------------------------------------------------------------------------\n",
            "Epoch: 43 / 50 | Reconst_loss: 3969.942 | Kldiv loss: 1744.236 | Classifcation loss: 2.229 | Constrast loss: 607.44 | Total loss: 8391.160 | Train acc: 33.887 % ||| Val Loss: 8352.724 | Val acc: 34.021 %\n",
            "-------------------------------------------------------------------------------------------------------------------------------------------------------------------------------------\n",
            "Epoch: 44 / 50 | Reconst_loss: 4149.209 | Kldiv loss: 1539.149 | Classifcation loss: 2.289 | Constrast loss: 888.32 | Total loss: 8378.986 | Train acc: 33.921 % ||| Val Loss: 8344.892 | Val acc: 34.046 %\n",
            "-------------------------------------------------------------------------------------------------------------------------------------------------------------------------------------\n",
            "Epoch: 45 / 50 | Reconst_loss: 3884.243 | Kldiv loss: 1546.849 | Classifcation loss: 2.301 | Constrast loss: 760.88 | Total loss: 8389.782 | Train acc: 33.957 % ||| Val Loss: 8410.547 | Val acc: 34.091 %\n",
            "-------------------------------------------------------------------------------------------------------------------------------------------------------------------------------------\n",
            "Epoch: 46 / 50 | Reconst_loss: 4350.627 | Kldiv loss: 1787.652 | Classifcation loss: 2.246 | Constrast loss: 729.43 | Total loss: 8387.942 | Train acc: 34.007 % ||| Val Loss: 8326.575 | Val acc: 34.147 %\n",
            "-------------------------------------------------------------------------------------------------------------------------------------------------------------------------------------\n",
            "Epoch: 47 / 50 | Reconst_loss: 4085.083 | Kldiv loss: 1593.411 | Classifcation loss: 2.261 | Constrast loss: 694.31 | Total loss: 8352.030 | Train acc: 34.055 % ||| Val Loss: 8376.702 | Val acc: 34.179 %\n",
            "-------------------------------------------------------------------------------------------------------------------------------------------------------------------------------------\n",
            "Epoch: 48 / 50 | Reconst_loss: 3631.906 | Kldiv loss: 1504.332 | Classifcation loss: 2.287 | Constrast loss: 853.46 | Total loss: 8359.339 | Train acc: 34.101 % ||| Val Loss: 8299.949 | Val acc: 34.213 %\n",
            "-------------------------------------------------------------------------------------------------------------------------------------------------------------------------------------\n",
            "Epoch: 49 / 50 | Reconst_loss: 3085.170 | Kldiv loss: 1526.642 | Classifcation loss: 2.262 | Constrast loss: 850.59 | Total loss: 8344.502 | Train acc: 34.144 % ||| Val Loss: 8424.199 | Val acc: 34.245 %\n",
            "-------------------------------------------------------------------------------------------------------------------------------------------------------------------------------------\n",
            "Epoch: 50 / 50 | Reconst_loss: 4373.647 | Kldiv loss: 1497.342 | Classifcation loss: 2.281 | Constrast loss: 776.44 | Total loss: 8361.322 | Train acc: 34.176 % ||| Val Loss: 8370.265 | Val acc: 34.262 %\n",
            "-------------------------------------------------------------------------------------------------------------------------------------------------------------------------------------\n",
            "Training completed successfully!\n"
          ]
        }
      ],
      "source": [
        "target_accuracy = 0.0\n",
        "restart = True\n",
        "while restart:\n",
        "\n",
        "  train_losses=[]\n",
        "  train_accuracy = []\n",
        "\n",
        "  accuracy_log = []\n",
        "  val_losses=[]\n",
        "  val_accuracy=[]\n",
        "\n",
        "  train_acces = []\n",
        "  val_acces = []\n",
        "\n",
        "  dic = dict(latent_space = list(), mu_list=list(), logsig2_list=list(), y=list())\n",
        "\n",
        "  for epoch in range(num_epochs):\n",
        "    model.train()\n",
        "    train_running_loss = 0\n",
        "\n",
        "\n",
        "    z_list, means, logvars , labels_list = list(), list(), list(), list()\n",
        "\n",
        "    for i, data in enumerate(train_loader):\n",
        "      inputs, labels = data\n",
        "      # print(f\"Input shape: {inputs.shape}\")\n",
        "      #print(f\"Labels shape: {labels.shape}\")\n",
        "      optimizer.zero_grad()\n",
        "\n",
        "      x_reconstructed, z_reparmeterized, classified, mu, logvar = model(inputs)\n",
        "\n",
        "      # Compute the reconstruction loss and KL divergence loss #################################################\n",
        "\n",
        "      reconstruction_loss = loss_fn(x_reconstructed, inputs)\n",
        "      kld_loss = -0.5 * torch.sum(1 + logvar - mu.pow(2) - logvar.exp())\n",
        "\n",
        "      # Compute the contrastive loss #############################################################################\n",
        "      contrastive_loss = contrastive_loss_fn(mu, labels)\n",
        "\n",
        "      # Compute the classificaiton loss #########################################################################\n",
        "      classified = classified.view(-1, 12)\n",
        "      labels = labels - 1\n",
        "      #print(f\"Labels shape: {labels.shape}\")\n",
        "      classification_loss = classifier_loss_fn(classified, labels.flatten())\n",
        "\n",
        "      #print(classified.shape)\n",
        "\n",
        "      loss = (alpha*reconstruction_loss + kld_loss*beta) + gamma*classification_loss + delta*contrastive_loss #+ epsilon*triplet_loss\n",
        "\n",
        "      accuracy = accuracy_score(labels, classified.argmax(dim=1))\n",
        "      train_accuracy.append(accuracy)\n",
        "      train_acc = sum(train_accuracy)/len(train_accuracy)\n",
        "      accuracy_log.append(train_acc)\n",
        "\n",
        "      loss.backward()\n",
        "      optimizer.step()\n",
        "\n",
        "      train_running_loss += loss.item()\n",
        "      train_loss= train_running_loss/len(train_loader)\n",
        "\n",
        "    # log for latent space visualziation (gif)...\n",
        "      z_list.append(z_reparmeterized.detach())\n",
        "      means.append(mu.detach())\n",
        "      logvars.append(logvar.detach())\n",
        "      labels_list.append(labels.detach())\n",
        "\n",
        "    with torch.inference_mode():\n",
        "      val_running_loss = 0\n",
        "      val_running_acc = 0\n",
        "\n",
        "      model.eval()\n",
        "      # Iterate over the validation data\n",
        "      for X, Y in val_loader:\n",
        "        # Pass the data through the model and get the reconstructed data and the latent representation\n",
        "        y_pred, z_reparmeterized, v_classified, mu, logvar = model(X)\n",
        "\n",
        "        # Compute the reconstruction loss\n",
        "        v_reconstruction_loss = loss_fn(y_pred, X)\n",
        "\n",
        "        # Compute the KL divergence loss\n",
        "        v_kld_loss = -0.5 * torch.sum(1 + logvar - mu.pow(2) - logvar.exp())\n",
        "\n",
        "        # Compute the contrastive loss\n",
        "        v_contrastive_loss_value = contrastive_loss_fn(mu, Y)\n",
        "\n",
        "        # Reshape the classified output to have the same shape as the labels\n",
        "        v_classified = v_classified.view(-1, 12)\n",
        "        # Compute the classification\n",
        "        Y= Y-1\n",
        "        v_classification_loss = classifier_loss_fn(v_classified, Y.flatten())\n",
        "\n",
        "        # Compute the total loss\n",
        "        vloss = (alpha*v_reconstruction_loss + v_kld_loss*beta) + gamma*v_classification_loss + delta*v_contrastive_loss_value\n",
        "        val_running_loss += vloss.item()\n",
        "        val_loss = val_running_loss/len(val_loader)\n",
        "\n",
        "        v_accuracy = accuracy_score(Y, v_classified.argmax(dim=1))\n",
        "        val_accuracy.append(v_accuracy)\n",
        "        val_acc = sum(val_accuracy)/len(val_accuracy)\n",
        "\n",
        "    dic['latent_space'].append(torch.cat(z_list))\n",
        "    dic['mu_list'].append(torch.cat(means))\n",
        "    dic['logsig2_list'].append(torch.cat(logvars))\n",
        "    dic['y'].append(torch.cat(labels_list))\n",
        "\n",
        "    print(f\"Epoch: {epoch+1} / {num_epochs} | Reconst_loss: {reconstruction_loss:.3f} | Kldiv loss: {kld_loss:.3f} | Classifcation loss: {classification_loss:.3f} | Constrast loss: {contrastive_loss:.2f} | Total loss: {train_loss:.3f} | Train acc: {train_acc*100:.3f} % ||| Val Loss: {val_loss:.3f} | Val acc: {val_acc*100:.3f} %\")\n",
        "    print(\"-------------------------------------------------------------------------------------------------------------------------------------------------------------------------------------\")\n",
        "    train_losses.append(train_loss)\n",
        "    val_losses.append(val_loss)\n",
        "    train_acces.append(train_acc)\n",
        "    val_acces.append(val_acc)\n",
        "\n",
        "    if epoch == num_epochs -1:\n",
        "      if train_acc > target_accuracy:\n",
        "        restart = False\n",
        "        print(\"Training completed successfully!\")\n",
        "        break\n",
        "      else:\n",
        "        model  = VAE(input_dim, hidden_dim ,latent_dim).to(device)\n",
        "        optimizer = optim.Adam(model.parameters(), lr=lr)\n",
        "        print(\"Restarting the training...\")\n",
        "\n"
      ]
    },
    {
      "cell_type": "code",
      "execution_count": null,
      "metadata": {
        "id": "Mu-g_vKRS7V8"
      },
      "outputs": [],
      "source": [
        "torch.save(model.state_dict(), f\"Downloads/All_VAE_For_Subject_1/Subject_Experiment_1/VAE_Model_S1-10_{train_acc*100:.1f}\"+\".pt\") # Save"
      ]
    },
    {
      "cell_type": "markdown",
      "metadata": {
        "id": "aa3Thi-cW05z"
      },
      "source": [
        "---\n",
        "Model Evaluations"
      ]
    },
    {
      "cell_type": "code",
      "execution_count": null,
      "metadata": {
        "id": "OSD621NES9gA",
        "colab": {
          "base_uri": "https://localhost:8080/",
          "height": 487
        },
        "outputId": "6da2ad8e-db5a-404a-f5f0-744898f8d6d0"
      },
      "outputs": [
        {
          "output_type": "display_data",
          "data": {
            "text/plain": [
              "<Figure size 700x500 with 1 Axes>"
            ],
            "image/png": "[encoded data removed]"
          },
          "metadata": {}
        }
      ],
      "source": [
        "fig = plt.figure(figsize=(7,5))\n",
        "plt.plot(train_losses,'-o', label=\"Training loss\")\n",
        "plt.plot(val_losses,'-r',  label=\"Validation loss\")\n",
        "plt.xlabel('epoch')\n",
        "plt.ylabel('losses')\n",
        "plt.title('Training and Validation Losses')\n",
        "plt.legend()\n",
        "plt.show()\n",
        "\n",
        "fig.savefig('Downloads/All_VAE_For_Subject_1/Subject_Experiment_1/Training_and_Validation_Loss_S1-10.svg')\n",
        "fig.savefig('Downloads/All_VAE_For_Subject_1/Subject_Experiment_1/Training_and_Validation_Loss_S1-10.png')"
      ]
    },
    {
      "cell_type": "code",
      "execution_count": null,
      "metadata": {
        "id": "VxJx1SN6M8Fk",
        "colab": {
          "base_uri": "https://localhost:8080/",
          "height": 487
        },
        "outputId": "4398ab34-b2b4-4190-f7d1-b900d4589e23"
      },
      "outputs": [
        {
          "output_type": "display_data",
          "data": {
            "text/plain": [
              "<Figure size 700x500 with 1 Axes>"
            ],
            "image/png": "[encoded data removed]"
          },
          "metadata": {}
        }
      ],
      "source": [
        "fig = plt.figure(figsize=(7,5))\n",
        "plt.plot(train_acces,'-o', label=\"Training Accuracy\")\n",
        "plt.plot(val_acces,'-r',  label=\"Validation Accuracy\")\n",
        "plt.xlabel('epoch')\n",
        "plt.ylabel('accuracy')\n",
        "plt.title('Training and Validation Accuracies')\n",
        "plt.legend()\n",
        "plt.show()\n",
        "\n",
        "fig.savefig('Downloads/All_VAE_For_Subject_1/Subject_Experiment_1/Training_and_Validation_Accuracies_S1-10.svg')\n",
        "fig.savefig('Downloads/All_VAE_For_Subject_1/Subject_Experiment_1/Training_and_Validation_Accuracies_S1-10.png')"
      ]
    },
    {
      "cell_type": "markdown",
      "metadata": {
        "id": "MhYdRnwjW7SS"
      },
      "source": [
        "---\n",
        "Latent Space Visualization"
      ]
    },
    {
      "cell_type": "code",
      "execution_count": null,
      "metadata": {
        "id": "jRW82C1HTAkI",
        "colab": {
          "base_uri": "https://localhost:8080/"
        },
        "outputId": "c5b8b636-9d75-4a58-e474-ee34689ed435"
      },
      "outputs": [
        {
          "output_type": "stream",
          "name": "stdout",
          "text": [
            "Latent Space Visualization\n"
          ]
        },
        {
          "output_type": "stream",
          "name": "stderr",
          "text": [
            "C:\\Users\\kcurr\\AppData\\Local\\Temp\\ipykernel_22392\\100244150.py:8: MatplotlibDeprecationWarning: The get_cmap function was deprecated in Matplotlib 3.7 and will be removed two minor releases later. Use ``matplotlib.colormaps[name]`` or ``matplotlib.colormaps.get_cmap(obj)`` instead.\n",
            "  plt.scatter(z_arr[:, 0], z_arr[:, 1], c=y_arr, edgecolor='none', alpha=0.5, cmap=plt.cm.get_cmap('gist_rainbow', num_classes), vmin=1, vmax=12)\n"
          ]
        },
        {
          "output_type": "stream",
          "name": "stdout",
          "text": [
            "Latent Space Image 1 stored.\n",
            "Latent Space Image 2 stored.\n",
            "Latent Space Image 3 stored.\n",
            "Latent Space Image 4 stored.\n",
            "Latent Space Image 5 stored.\n",
            "Latent Space Image 6 stored.\n",
            "Latent Space Image 7 stored.\n",
            "Latent Space Image 8 stored.\n",
            "Latent Space Image 9 stored.\n",
            "Latent Space Image 10 stored.\n",
            "Latent Space Image 11 stored.\n",
            "Latent Space Image 12 stored.\n",
            "Latent Space Image 13 stored.\n",
            "Latent Space Image 14 stored.\n",
            "Latent Space Image 15 stored.\n",
            "Latent Space Image 16 stored.\n",
            "Latent Space Image 17 stored.\n",
            "Latent Space Image 18 stored.\n",
            "Latent Space Image 19 stored.\n",
            "Latent Space Image 20 stored.\n",
            "Latent Space Image 21 stored.\n",
            "Latent Space Image 22 stored.\n",
            "Latent Space Image 23 stored.\n",
            "Latent Space Image 24 stored.\n",
            "Latent Space Image 25 stored.\n",
            "Latent Space Image 26 stored.\n",
            "Latent Space Image 27 stored.\n",
            "Latent Space Image 28 stored.\n",
            "Latent Space Image 29 stored.\n",
            "Latent Space Image 30 stored.\n",
            "Latent Space Image 31 stored.\n",
            "Latent Space Image 32 stored.\n",
            "Latent Space Image 33 stored.\n",
            "Latent Space Image 34 stored.\n",
            "Latent Space Image 35 stored.\n",
            "Latent Space Image 36 stored.\n",
            "Latent Space Image 37 stored.\n",
            "Latent Space Image 38 stored.\n",
            "Latent Space Image 39 stored.\n",
            "Latent Space Image 40 stored.\n",
            "Latent Space Image 41 stored.\n",
            "Latent Space Image 42 stored.\n",
            "Latent Space Image 43 stored.\n",
            "Latent Space Image 44 stored.\n",
            "Latent Space Image 45 stored.\n",
            "Latent Space Image 46 stored.\n",
            "Latent Space Image 47 stored.\n",
            "Latent Space Image 48 stored.\n",
            "Latent Space Image 49 stored.\n",
            "Latent Space Image 50 stored.\n",
            "\n",
            "Latent Space Gif being created...\n",
            "\n"
          ]
        }
      ],
      "source": [
        "print(\"Latent Space Visualization\")\n",
        "for i in range(num_epochs):\n",
        "  fig = plt.figure(figsize=(12, 12))\n",
        "  z_arr = dic['latent_space'][i].cpu().numpy()\n",
        "  y_arr = dic['y'][i].cpu().numpy()\n",
        "  y_arr = y_arr + 1\n",
        "\n",
        "  plt.scatter(z_arr[:, 0], z_arr[:, 1], c=y_arr, edgecolor='none', alpha=0.5, cmap=plt.cm.get_cmap('gist_rainbow', num_classes), vmin=1, vmax=12)\n",
        "  cb = plt.colorbar(ticks=range(1, 13), values=range(1, 13))\n",
        "  cb.ax.tick_params(labelsize=10)\n",
        "  plt.xticks(fontsize=10)\n",
        "  plt.yticks(fontsize=10)\n",
        "  plt.xlabel('z[0]', fontsize=10)\n",
        "  plt.ylabel('z[1]', fontsize=10)\n",
        "  plt.title(f'VAE train dataset with {input_dim} features| Acc: {train_acc*100:.1f}% | latent space Dim={latent_dim} | Epoch number: {i+1} ', fontsize= 12)\n",
        "  # plt.show()\n",
        "  plt.close()\n",
        "  fig.savefig(f\"Downloads/All_VAE_For_Subject_1/Subject_Experiment_1/VAEtrain_images{i:001}\" + \".png\")\n",
        "  fig.savefig(f\"Downloads/All_VAE_For_Subject_1/Subject_Experiment_1/VAEtrain_svg{i:001}\" + \".svg\")\n",
        "\n",
        "  print(f\"Latent Space Image {i+1} stored.\")\n",
        "print()\n",
        "print(\"Latent Space Gif being created...\")\n",
        "print()\n"
      ]
    },
    {
      "cell_type": "code",
      "source": [
        "import imageio\n",
        "gif = []\n",
        "for i in range(4):\n",
        "  each_image = imageio.imread(f\"Downloads/All_VAE_For_Subject_1/Subject_Experiment_1/VAEtrain_images{i}\" + \".png\")# here read all images\n",
        "  gif.append(each_image)\n",
        "imageio.mimsave(f\"Downloads/All_VAE_For_Subject_1/Subject_Experiment_1/Latent_Space_and_Number_Features_S1-10_{input_dim}_{train_acc*100:.1f}.gif\",gif)\n",
        "imageio.mimsave(f\"Downloads/All_VAE_For_Subject_1/Subject_Experiment_1/Latent_Space_and_Number_Features_S1-10_{input_dim}_{train_acc*100:.1f}.gif\",gif)"
      ],
      "metadata": {
        "colab": {
          "base_uri": "https://localhost:8080/",
          "height": 200
        },
        "id": "alKMQRI7B0iV",
        "outputId": "3df7e12d-71d3-42ca-c6ac-c5094406d33a"
      },
      "execution_count": null,
      "outputs": [
        {
          "output_type": "error",
          "ename": "ModuleNotFoundError",
          "evalue": "ignored",
          "traceback": [
            "\u001b[1;31m---------------------------------------------------------------------------\u001b[0m",
            "\u001b[1;31mModuleNotFoundError\u001b[0m                       Traceback (most recent call last)",
            "Cell \u001b[1;32mIn[52], line 1\u001b[0m\n\u001b[1;32m----> 1\u001b[0m \u001b[38;5;28;01mimport\u001b[39;00m \u001b[38;5;21;01mimageio\u001b[39;00m\n\u001b[0;32m      2\u001b[0m gif \u001b[38;5;241m=\u001b[39m []\n\u001b[0;32m      3\u001b[0m \u001b[38;5;28;01mfor\u001b[39;00m i \u001b[38;5;129;01min\u001b[39;00m \u001b[38;5;28mrange\u001b[39m(\u001b[38;5;241m4\u001b[39m):\n",
            "\u001b[1;31mModuleNotFoundError\u001b[0m: No module named 'imageio'"
          ]
        }
      ]
    },
    {
      "cell_type": "code",
      "execution_count": null,
      "metadata": {
        "id": "h_hgJ1xUNIcg",
        "colab": {
          "base_uri": "https://localhost:8080/",
          "height": 929
        },
        "outputId": "015b6efa-7342-461f-e519-4610c4b733fc"
      },
      "outputs": [
        {
          "output_type": "stream",
          "name": "stdout",
          "text": [
            "              precision    recall  f1-score   support\n",
            "\n",
            "           1       0.45      0.28      0.35     14416\n",
            "           2       0.34      0.49      0.40     14035\n",
            "           3       0.25      0.05      0.09     14315\n",
            "           4       0.16      0.25      0.20     14557\n",
            "           5       0.50      0.34      0.40     14761\n",
            "           6       0.24      0.38      0.30     14814\n",
            "           7       0.40      0.37      0.38     15016\n",
            "           8       0.39      0.18      0.25     14680\n",
            "           9       0.36      0.43      0.39     14377\n",
            "          10       0.53      0.31      0.39     15486\n",
            "          11       0.32      0.58      0.42     14814\n",
            "          12       0.51      0.53      0.52     14781\n",
            "\n",
            "    accuracy                           0.35    176052\n",
            "   macro avg       0.37      0.35      0.34    176052\n",
            "weighted avg       0.37      0.35      0.34    176052\n",
            "\n"
          ]
        },
        {
          "output_type": "display_data",
          "data": {
            "text/plain": [
              "<Figure size 1200x700 with 2 Axes>"
            ],
            "image/png": "[encoded data removed]"
          },
          "metadata": {}
        }
      ],
      "source": [
        "from sklearn.metrics import confusion_matrix\n",
        "import seaborn as sn\n",
        "import pandas as pd\n",
        "\n",
        "y_pred = []\n",
        "y_true = []\n",
        "\n",
        "# iterate over test data\n",
        "for inputs, labels in test_loader:\n",
        "  x_reconstructed, z_reparmeterized, classified, mu, logvar = model(inputs)\n",
        "  classified = (torch.max(torch.exp(classified), 1)[1]).data.cpu().numpy()\n",
        "  y_pred.extend(classified) # Save Prediction\n",
        "\n",
        "  labels = labels-1\n",
        "\n",
        "  labels = labels.data.cpu().numpy()\n",
        "  y_true.extend(labels) # Save Truth\n",
        "\n",
        "# constant for classes\n",
        "classes = ('1', '2', '3', '4', '5','6', '7', '8', '9', '10','11','12',)\n",
        "\n",
        "# Build confusion matrix\n",
        "cf_matrix = confusion_matrix(y_true, y_pred)\n",
        "df_cm = pd.DataFrame(cf_matrix / np.sum(cf_matrix, axis=1)[:, None], index = [i for i in classes],\n",
        "                     columns = [i for i in classes])\n",
        "plt.figure(figsize = (12,7))\n",
        "sn.heatmap(df_cm, annot=True)\n",
        "plt.savefig('Downloads/All_VAE_For_Subject_1/Subject_Experiment_1/Confusion_Matrix.png')\n",
        "plt.savefig('Downloads/All_VAE_For_Subject_1/Subject_Experiment_1/Confusion_Matrix.svg')\n",
        "\n",
        "from sklearn import metrics\n",
        "from sklearn.metrics import classification_report\n",
        "label_names = ['1', '2', '3', '4','5','6','7','8','9','10','11','12']\n",
        "print(classification_report(y_true, y_pred,target_names=label_names))\n",
        "\n",
        "report = classification_report(y_true, y_pred,target_names=label_names,output_dict=True)\n",
        "\n",
        "df_report = pd.DataFrame(report).T\n",
        "df_report.head()\n",
        "\n",
        "df_report.to_csv('Downloads/All_VAE_For_Subject_1/Subject_Experiment_1/Classification_Report.csv')"
      ]
    }
  ],
  "metadata": {
    "colab": {
      "collapsed_sections": [
        "M8iJEJRDVWqt",
        "o7oakX-33vJS"
      ],
      "machine_shape": "hm",
      "provenance": [],
      "include_colab_link": true
    },
    "gpuClass": "standard",
    "kernelspec": {
      "display_name": "Python 3",
      "name": "python3"
    },
    "language_info": {
      "name": "python"
    }
  },
  "nbformat": 4,
  "nbformat_minor": 0
}