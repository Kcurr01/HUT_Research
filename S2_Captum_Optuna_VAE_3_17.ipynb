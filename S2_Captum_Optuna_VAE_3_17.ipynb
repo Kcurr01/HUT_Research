{
  "cells": [
    {
      "cell_type": "markdown",
      "metadata": {
        "id": "view-in-github",
        "colab_type": "text"
      },
      "source": [
        "<a href=\"https://colab.research.google.com/github/Kcurr01/HUT_Research/blob/main/S2_Captum_Optuna_VAE_3_17.ipynb\" target=\"_parent\"><img src=\"https://colab.research.google.com/assets/colab-badge.svg\" alt=\"Open In Colab\"/></a>"
      ]
    },
    {
      "cell_type": "markdown",
      "metadata": {
        "id": "M8iJEJRDVWqt"
      },
      "source": [
        "---\n",
        "Instalation \n",
        "---"
      ]
    },
    {
      "cell_type": "code",
      "execution_count": 46,
      "metadata": {
        "colab": {
          "base_uri": "https://localhost:8080/"
        },
        "id": "Du8slAkNSRBk",
        "outputId": "0289321d-b794-49b7-f96c-6353192e3092"
      },
      "outputs": [
        {
          "output_type": "stream",
          "name": "stdout",
          "text": [
            "Looking in indexes: https://pypi.org/simple, https://us-python.pkg.dev/colab-wheels/public/simple/\n",
            "Requirement already satisfied: tensorboardX in /usr/local/lib/python3.9/dist-packages (2.6)\n",
            "Requirement already satisfied: numpy in /usr/local/lib/python3.9/dist-packages (from tensorboardX) (1.22.4)\n",
            "Requirement already satisfied: packaging in /usr/local/lib/python3.9/dist-packages (from tensorboardX) (23.0)\n",
            "Requirement already satisfied: protobuf<4,>=3.8.0 in /usr/local/lib/python3.9/dist-packages (from tensorboardX) (3.19.6)\n",
            "Looking in indexes: https://pypi.org/simple, https://us-python.pkg.dev/colab-wheels/public/simple/\n",
            "Requirement already satisfied: optuna in /usr/local/lib/python3.9/dist-packages (3.1.0)\n",
            "Requirement already satisfied: PyYAML in /usr/local/lib/python3.9/dist-packages (from optuna) (6.0)\n",
            "Requirement already satisfied: sqlalchemy>=1.3.0 in /usr/local/lib/python3.9/dist-packages (from optuna) (1.4.46)\n",
            "Requirement already satisfied: colorlog in /usr/local/lib/python3.9/dist-packages (from optuna) (6.7.0)\n",
            "Requirement already satisfied: numpy in /usr/local/lib/python3.9/dist-packages (from optuna) (1.22.4)\n",
            "Requirement already satisfied: tqdm in /usr/local/lib/python3.9/dist-packages (from optuna) (4.65.0)\n",
            "Requirement already satisfied: alembic>=1.5.0 in /usr/local/lib/python3.9/dist-packages (from optuna) (1.10.2)\n",
            "Requirement already satisfied: packaging>=20.0 in /usr/local/lib/python3.9/dist-packages (from optuna) (23.0)\n",
            "Requirement already satisfied: cmaes>=0.9.1 in /usr/local/lib/python3.9/dist-packages (from optuna) (0.9.1)\n",
            "Requirement already satisfied: Mako in /usr/local/lib/python3.9/dist-packages (from alembic>=1.5.0->optuna) (1.2.4)\n",
            "Requirement already satisfied: typing-extensions>=4 in /usr/local/lib/python3.9/dist-packages (from alembic>=1.5.0->optuna) (4.5.0)\n",
            "Requirement already satisfied: greenlet!=0.4.17 in /usr/local/lib/python3.9/dist-packages (from sqlalchemy>=1.3.0->optuna) (2.0.2)\n",
            "Requirement already satisfied: MarkupSafe>=0.9.2 in /usr/local/lib/python3.9/dist-packages (from Mako->alembic>=1.5.0->optuna) (2.1.2)\n",
            "Looking in indexes: https://pypi.org/simple, https://us-python.pkg.dev/colab-wheels/public/simple/\n",
            "Requirement already satisfied: captum in /usr/local/lib/python3.9/dist-packages (0.6.0)\n",
            "Requirement already satisfied: torch>=1.6 in /usr/local/lib/python3.9/dist-packages (from captum) (1.13.1+cu116)\n",
            "Requirement already satisfied: numpy in /usr/local/lib/python3.9/dist-packages (from captum) (1.22.4)\n",
            "Requirement already satisfied: matplotlib in /usr/local/lib/python3.9/dist-packages (from captum) (3.7.1)\n",
            "Requirement already satisfied: typing-extensions in /usr/local/lib/python3.9/dist-packages (from torch>=1.6->captum) (4.5.0)\n",
            "Requirement already satisfied: python-dateutil>=2.7 in /usr/local/lib/python3.9/dist-packages (from matplotlib->captum) (2.8.2)\n",
            "Requirement already satisfied: importlib-resources>=3.2.0 in /usr/local/lib/python3.9/dist-packages (from matplotlib->captum) (5.12.0)\n",
            "Requirement already satisfied: pillow>=6.2.0 in /usr/local/lib/python3.9/dist-packages (from matplotlib->captum) (8.4.0)\n",
            "Requirement already satisfied: contourpy>=1.0.1 in /usr/local/lib/python3.9/dist-packages (from matplotlib->captum) (1.0.7)\n",
            "Requirement already satisfied: cycler>=0.10 in /usr/local/lib/python3.9/dist-packages (from matplotlib->captum) (0.11.0)\n",
            "Requirement already satisfied: pyparsing>=2.3.1 in /usr/local/lib/python3.9/dist-packages (from matplotlib->captum) (3.0.9)\n",
            "Requirement already satisfied: packaging>=20.0 in /usr/local/lib/python3.9/dist-packages (from matplotlib->captum) (23.0)\n",
            "Requirement already satisfied: kiwisolver>=1.0.1 in /usr/local/lib/python3.9/dist-packages (from matplotlib->captum) (1.4.4)\n",
            "Requirement already satisfied: fonttools>=4.22.0 in /usr/local/lib/python3.9/dist-packages (from matplotlib->captum) (4.39.0)\n",
            "Requirement already satisfied: zipp>=3.1.0 in /usr/local/lib/python3.9/dist-packages (from importlib-resources>=3.2.0->matplotlib->captum) (3.15.0)\n",
            "Requirement already satisfied: six>=1.5 in /usr/local/lib/python3.9/dist-packages (from python-dateutil>=2.7->matplotlib->captum) (1.15.0)\n"
          ]
        }
      ],
      "source": [
        "# !pip install captum\n",
        "# !pip install umap-learn\n",
        "# !pip install datashader\n",
        "# !pip install bokeh\n",
        "# !pip install holoviews\n",
        "!pip install tensorboardX\n",
        "!pip install optuna\n",
        "!pip install captum"
      ]
    },
    {
      "cell_type": "code",
      "execution_count": 47,
      "metadata": {
        "colab": {
          "base_uri": "https://localhost:8080/"
        },
        "id": "YmJPqHjmOY4t",
        "outputId": "ac742527-6f66-4a0a-82a6-73897d2def9a"
      },
      "outputs": [
        {
          "output_type": "stream",
          "name": "stdout",
          "text": [
            "Drive already mounted at /content/drive; to attempt to forcibly remount, call drive.mount(\"/content/drive\", force_remount=True).\n"
          ]
        }
      ],
      "source": [
        "from google.colab import drive\n",
        "drive.mount('/content/drive')"
      ]
    },
    {
      "cell_type": "markdown",
      "metadata": {
        "id": "bERxPXvorNic"
      },
      "source": [
        "---\n",
        "VAE Experiment 1 **[]** 2/27\n",
        "---"
      ]
    },
    {
      "cell_type": "code",
      "execution_count": 101,
      "metadata": {
        "id": "R9Op8v3LrcHv"
      },
      "outputs": [],
      "source": [
        "import torch   \n",
        "import torch.nn as nn                          \n",
        "import torch.nn.functional as F                \n",
        "import torch.optim as optim   \n",
        "from torch.utils.data import TensorDataset, Dataset, DataLoader\n",
        "from torch.autograd import Variable\n",
        "import torch.utils.data\n",
        "\n",
        "import pandas as pd \n",
        "import numpy as np\n",
        "import os                             \n",
        "\n",
        "import matplotlib.cm as cm\n",
        "import matplotlib.pyplot as plt\n",
        "import seaborn as sns    \n",
        "\n",
        "from sklearn.model_selection import train_test_split\n",
        "from sklearn import preprocessing\n",
        "from sklearn import metrics\n",
        "from sklearn.metrics import accuracy_score, roc_auc_score, f1_score, precision_score, recall_score\n",
        "from sklearn.manifold import TSNE\n",
        "from sklearn.decomposition import PCA, TruncatedSVD\n",
        "\n",
        "device = torch.device(\"cuda:0\" if torch.cuda.is_available() else \"cpu\")\n",
        "torch.cuda.empty_cache()\n",
        "\n",
        "import torchvision\n",
        "from torchvision import datasets\n",
        "\n",
        "#based on sensor data can you determine the stimulus that is currently in use?\n",
        "import optuna\n",
        "from optuna.pruners import ThresholdPruner\n",
        "from optuna import TrialPruned\n",
        "\n",
        "from captum.attr import IntegratedGradients\n",
        "from captum.attr import LayerConductance\n",
        "from captum.attr import NeuronConductance"
      ]
    },
    {
      "cell_type": "code",
      "execution_count": 102,
      "metadata": {
        "id": "FNJdjUb6ulmv"
      },
      "outputs": [],
      "source": [
        "df = pd.read_csv(\"/content/drive/MyDrive/WEAR_LAB/Research_Pytorch/Subject_Experiment_1/S2_E1_A1.csv\")\n",
        "#drops all 0 labels (no label)\n",
        "indices_to_drop = df[df[\"stimulus\"] == 0].index\n",
        "df.drop(indices_to_drop, inplace=True)\n",
        "\n",
        "#Removes number of features from data\n",
        "# df.drop('Cyber Glove (angles of the joints) Sensor 1', inplace=True, axis=1)\n",
        "# df.drop('Cyber Glove (angles of the joints) Sensor 2', inplace=True, axis=1)\n",
        "# df.drop('Cyber Glove (angles of the joints) Sensor 3', inplace=True, axis=1)\n",
        "# df.drop('Cyber Glove (angles of the joints) Sensor 4', inplace=True, axis=1)\n",
        "# df.drop('Cyber Glove (angles of the joints) Sensor 5', inplace=True, axis=1)\n",
        "# df.drop('Cyber Glove (angles of the joints) Sensor 6', inplace=True, axis=1)\n",
        "# df.drop('Cyber Glove (angles of the joints) Sensor 7', inplace=True, axis=1)\n",
        "# df.drop('Cyber Glove (angles of the joints) Sensor 8', inplace=True, axis=1)\n",
        "# df.drop('Cyber Glove (angles of the joints) Sensor 9', inplace=True, axis=1)\n",
        "# df.drop('Cyber Glove (angles of the joints) Sensor 10', inplace=True, axis=1)\n",
        "# df.drop('Cyber Glove (angles of the joints) Sensor 11', inplace=True, axis=1)\n",
        "# df.drop('Cyber Glove (angles of the joints) Sensor 12', inplace=True, axis=1)\n",
        "# df.drop('Cyber Glove (angles of the joints) Sensor 13', inplace=True, axis=1)\n",
        "# df.drop('Cyber Glove (angles of the joints) Sensor 14', inplace=True, axis=1)\n",
        "# df.drop('Cyber Glove (angles of the joints) Sensor 15', inplace=True, axis=1)\n",
        "# df.drop('Cyber Glove (angles of the joints) Sensor 16', inplace=True, axis=1)\n",
        "# df.drop('Cyber Glove (angles of the joints) Sensor 17', inplace=True, axis=1)\n",
        "# df.drop('Cyber Glove (angles of the joints) Sensor 18', inplace=True, axis=1)\n",
        "# df.drop('Cyber Glove (angles of the joints) Sensor 19', inplace=True, axis=1)\n",
        "# df.drop('Cyber Glove (angles of the joints) Sensor 20', inplace=True, axis=1)\n",
        "# df.drop('Cyber Glove (angles of the joints) Sensor 21', inplace=True, axis=1)\n",
        "# df.drop('Cyber Glove (angles of the joints) Sensor 22', inplace=True, axis=1)"
      ]
    },
    {
      "cell_type": "code",
      "execution_count": 103,
      "metadata": {
        "colab": {
          "base_uri": "https://localhost:8080/",
          "height": 332
        },
        "id": "XAq5Zx7euqOH",
        "outputId": "e4fd8ddf-0d28-488f-8762-503bcefdd570"
      },
      "outputs": [
        {
          "output_type": "execute_result",
          "data": {
            "text/plain": [
              "     stimulus    Acc 1    Acc 2    Acc 3  EMG Channel 1  EMG Channel 2  \\\n",
              "862         1 -0.03418  0.84131 -0.51855              0             -1   \n",
              "863         1 -0.03418  0.84131 -0.51855              0              0   \n",
              "864         1 -0.03418  0.84131 -0.51855             -1              0   \n",
              "865         1 -0.03418  0.84131 -0.51855             -4             -5   \n",
              "866         1 -0.03418  0.84131 -0.51855              0             -2   \n",
              "\n",
              "     EMG Channel 3  EMG Channel 4  EMG Channel 5  EMG Channel 6  ...  \\\n",
              "862             -1              0              0              0  ...   \n",
              "863             -2             -2             -2              0  ...   \n",
              "864             -1             -2             -1             -2  ...   \n",
              "865             -5             -1              0             -1  ...   \n",
              "866             -1             -1             -1             -1  ...   \n",
              "\n",
              "     Cyber Glove (angles of the joints) Sensor 13  \\\n",
              "862                                         67.71   \n",
              "863                                         67.71   \n",
              "864                                         67.71   \n",
              "865                                         67.71   \n",
              "866                                         67.71   \n",
              "\n",
              "     Cyber Glove (angles of the joints) Sensor 14  \\\n",
              "862                                       -25.952   \n",
              "863                                       -25.952   \n",
              "864                                       -25.952   \n",
              "865                                       -25.952   \n",
              "866                                       -25.952   \n",
              "\n",
              "     Cyber Glove (angles of the joints) Sensor 15  \\\n",
              "862                                        2.4988   \n",
              "863                                        2.4988   \n",
              "864                                        2.4988   \n",
              "865                                        2.4988   \n",
              "866                                        2.4988   \n",
              "\n",
              "     Cyber Glove (angles of the joints) Sensor 16  \\\n",
              "862                                        49.344   \n",
              "863                                        49.344   \n",
              "864                                        49.344   \n",
              "865                                        49.344   \n",
              "866                                        49.344   \n",
              "\n",
              "     Cyber Glove (angles of the joints) Sensor 17  \\\n",
              "862                                        63.171   \n",
              "863                                        63.171   \n",
              "864                                        63.171   \n",
              "865                                        63.171   \n",
              "866                                        63.171   \n",
              "\n",
              "     Cyber Glove (angles of the joints) Sensor 18  \\\n",
              "862                                       -3.4729   \n",
              "863                                       -3.4729   \n",
              "864                                       -3.4729   \n",
              "865                                       -3.4729   \n",
              "866                                       -3.4729   \n",
              "\n",
              "     Cyber Glove (angles of the joints) Sensor 19  \\\n",
              "862                                        15.409   \n",
              "863                                        15.409   \n",
              "864                                        15.409   \n",
              "865                                        15.409   \n",
              "866                                        15.409   \n",
              "\n",
              "     Cyber Glove (angles of the joints) Sensor 20  \\\n",
              "862                                        21.185   \n",
              "863                                        21.185   \n",
              "864                                        21.185   \n",
              "865                                        21.185   \n",
              "866                                        21.185   \n",
              "\n",
              "     Cyber Glove (angles of the joints) Sensor 21  \\\n",
              "862                                       -3.1765   \n",
              "863                                       -3.1765   \n",
              "864                                       -3.1765   \n",
              "865                                       -3.1765   \n",
              "866                                       -3.1765   \n",
              "\n",
              "     Cyber Glove (angles of the joints) Sensor 22  \n",
              "862                                        13.553  \n",
              "863                                        13.553  \n",
              "864                                        13.553  \n",
              "865                                        13.553  \n",
              "866                                        13.553  \n",
              "\n",
              "[5 rows x 42 columns]"
            ],
            "text/html": [
              "\n",
              "  <div id=\"df-629cb458-dc8c-4364-9f18-7e166086fef8\">\n",
              "    <div class=\"colab-df-container\">\n",
              "      <div>\n",
              "<style scoped>\n",
              "    .dataframe tbody tr th:only-of-type {\n",
              "        vertical-align: middle;\n",
              "    }\n",
              "\n",
              "    .dataframe tbody tr th {\n",
              "        vertical-align: top;\n",
              "    }\n",
              "\n",
              "    .dataframe thead th {\n",
              "        text-align: right;\n",
              "    }\n",
              "</style>\n",
              "<table border=\"1\" class=\"dataframe\">\n",
              "  <thead>\n",
              "    <tr style=\"text-align: right;\">\n",
              "      <th></th>\n",
              "      <th>stimulus</th>\n",
              "      <th>Acc 1</th>\n",
              "      <th>Acc 2</th>\n",
              "      <th>Acc 3</th>\n",
              "      <th>EMG Channel 1</th>\n",
              "      <th>EMG Channel 2</th>\n",
              "      <th>EMG Channel 3</th>\n",
              "      <th>EMG Channel 4</th>\n",
              "      <th>EMG Channel 5</th>\n",
              "      <th>EMG Channel 6</th>\n",
              "      <th>...</th>\n",
              "      <th>Cyber Glove (angles of the joints) Sensor 13</th>\n",
              "      <th>Cyber Glove (angles of the joints) Sensor 14</th>\n",
              "      <th>Cyber Glove (angles of the joints) Sensor 15</th>\n",
              "      <th>Cyber Glove (angles of the joints) Sensor 16</th>\n",
              "      <th>Cyber Glove (angles of the joints) Sensor 17</th>\n",
              "      <th>Cyber Glove (angles of the joints) Sensor 18</th>\n",
              "      <th>Cyber Glove (angles of the joints) Sensor 19</th>\n",
              "      <th>Cyber Glove (angles of the joints) Sensor 20</th>\n",
              "      <th>Cyber Glove (angles of the joints) Sensor 21</th>\n",
              "      <th>Cyber Glove (angles of the joints) Sensor 22</th>\n",
              "    </tr>\n",
              "  </thead>\n",
              "  <tbody>\n",
              "    <tr>\n",
              "      <th>862</th>\n",
              "      <td>1</td>\n",
              "      <td>-0.03418</td>\n",
              "      <td>0.84131</td>\n",
              "      <td>-0.51855</td>\n",
              "      <td>0</td>\n",
              "      <td>-1</td>\n",
              "      <td>-1</td>\n",
              "      <td>0</td>\n",
              "      <td>0</td>\n",
              "      <td>0</td>\n",
              "      <td>...</td>\n",
              "      <td>67.71</td>\n",
              "      <td>-25.952</td>\n",
              "      <td>2.4988</td>\n",
              "      <td>49.344</td>\n",
              "      <td>63.171</td>\n",
              "      <td>-3.4729</td>\n",
              "      <td>15.409</td>\n",
              "      <td>21.185</td>\n",
              "      <td>-3.1765</td>\n",
              "      <td>13.553</td>\n",
              "    </tr>\n",
              "    <tr>\n",
              "      <th>863</th>\n",
              "      <td>1</td>\n",
              "      <td>-0.03418</td>\n",
              "      <td>0.84131</td>\n",
              "      <td>-0.51855</td>\n",
              "      <td>0</td>\n",
              "      <td>0</td>\n",
              "      <td>-2</td>\n",
              "      <td>-2</td>\n",
              "      <td>-2</td>\n",
              "      <td>0</td>\n",
              "      <td>...</td>\n",
              "      <td>67.71</td>\n",
              "      <td>-25.952</td>\n",
              "      <td>2.4988</td>\n",
              "      <td>49.344</td>\n",
              "      <td>63.171</td>\n",
              "      <td>-3.4729</td>\n",
              "      <td>15.409</td>\n",
              "      <td>21.185</td>\n",
              "      <td>-3.1765</td>\n",
              "      <td>13.553</td>\n",
              "    </tr>\n",
              "    <tr>\n",
              "      <th>864</th>\n",
              "      <td>1</td>\n",
              "      <td>-0.03418</td>\n",
              "      <td>0.84131</td>\n",
              "      <td>-0.51855</td>\n",
              "      <td>-1</td>\n",
              "      <td>0</td>\n",
              "      <td>-1</td>\n",
              "      <td>-2</td>\n",
              "      <td>-1</td>\n",
              "      <td>-2</td>\n",
              "      <td>...</td>\n",
              "      <td>67.71</td>\n",
              "      <td>-25.952</td>\n",
              "      <td>2.4988</td>\n",
              "      <td>49.344</td>\n",
              "      <td>63.171</td>\n",
              "      <td>-3.4729</td>\n",
              "      <td>15.409</td>\n",
              "      <td>21.185</td>\n",
              "      <td>-3.1765</td>\n",
              "      <td>13.553</td>\n",
              "    </tr>\n",
              "    <tr>\n",
              "      <th>865</th>\n",
              "      <td>1</td>\n",
              "      <td>-0.03418</td>\n",
              "      <td>0.84131</td>\n",
              "      <td>-0.51855</td>\n",
              "      <td>-4</td>\n",
              "      <td>-5</td>\n",
              "      <td>-5</td>\n",
              "      <td>-1</td>\n",
              "      <td>0</td>\n",
              "      <td>-1</td>\n",
              "      <td>...</td>\n",
              "      <td>67.71</td>\n",
              "      <td>-25.952</td>\n",
              "      <td>2.4988</td>\n",
              "      <td>49.344</td>\n",
              "      <td>63.171</td>\n",
              "      <td>-3.4729</td>\n",
              "      <td>15.409</td>\n",
              "      <td>21.185</td>\n",
              "      <td>-3.1765</td>\n",
              "      <td>13.553</td>\n",
              "    </tr>\n",
              "    <tr>\n",
              "      <th>866</th>\n",
              "      <td>1</td>\n",
              "      <td>-0.03418</td>\n",
              "      <td>0.84131</td>\n",
              "      <td>-0.51855</td>\n",
              "      <td>0</td>\n",
              "      <td>-2</td>\n",
              "      <td>-1</td>\n",
              "      <td>-1</td>\n",
              "      <td>-1</td>\n",
              "      <td>-1</td>\n",
              "      <td>...</td>\n",
              "      <td>67.71</td>\n",
              "      <td>-25.952</td>\n",
              "      <td>2.4988</td>\n",
              "      <td>49.344</td>\n",
              "      <td>63.171</td>\n",
              "      <td>-3.4729</td>\n",
              "      <td>15.409</td>\n",
              "      <td>21.185</td>\n",
              "      <td>-3.1765</td>\n",
              "      <td>13.553</td>\n",
              "    </tr>\n",
              "  </tbody>\n",
              "</table>\n",
              "<p>5 rows × 42 columns</p>\n",
              "</div>\n",
              "      <button class=\"colab-df-convert\" onclick=\"convertToInteractive('df-629cb458-dc8c-4364-9f18-7e166086fef8')\"\n",
              "              title=\"Convert this dataframe to an interactive table.\"\n",
              "              style=\"display:none;\">\n",
              "        \n",
              "  <svg xmlns=\"http://www.w3.org/2000/svg\" height=\"24px\"viewBox=\"0 0 24 24\"\n",
              "       width=\"24px\">\n",
              "    <path d=\"M0 0h24v24H0V0z\" fill=\"none\"/>\n",
              "    <path d=\"M18.56 5.44l.94 2.06.94-2.06 2.06-.94-2.06-.94-.94-2.06-.94 2.06-2.06.94zm-11 1L8.5 8.5l.94-2.06 2.06-.94-2.06-.94L8.5 2.5l-.94 2.06-2.06.94zm10 10l.94 2.06.94-2.06 2.06-.94-2.06-.94-.94-2.06-.94 2.06-2.06.94z\"/><path d=\"M17.41 7.96l-1.37-1.37c-.4-.4-.92-.59-1.43-.59-.52 0-1.04.2-1.43.59L10.3 9.45l-7.72 7.72c-.78.78-.78 2.05 0 2.83L4 21.41c.39.39.9.59 1.41.59.51 0 1.02-.2 1.41-.59l7.78-7.78 2.81-2.81c.8-.78.8-2.07 0-2.86zM5.41 20L4 18.59l7.72-7.72 1.47 1.35L5.41 20z\"/>\n",
              "  </svg>\n",
              "      </button>\n",
              "      \n",
              "  <style>\n",
              "    .colab-df-container {\n",
              "      display:flex;\n",
              "      flex-wrap:wrap;\n",
              "      gap: 12px;\n",
              "    }\n",
              "\n",
              "    .colab-df-convert {\n",
              "      background-color: #E8F0FE;\n",
              "      border: none;\n",
              "      border-radius: 50%;\n",
              "      cursor: pointer;\n",
              "      display: none;\n",
              "      fill: #1967D2;\n",
              "      height: 32px;\n",
              "      padding: 0 0 0 0;\n",
              "      width: 32px;\n",
              "    }\n",
              "\n",
              "    .colab-df-convert:hover {\n",
              "      background-color: #E2EBFA;\n",
              "      box-shadow: 0px 1px 2px rgba(60, 64, 67, 0.3), 0px 1px 3px 1px rgba(60, 64, 67, 0.15);\n",
              "      fill: #174EA6;\n",
              "    }\n",
              "\n",
              "    [theme=dark] .colab-df-convert {\n",
              "      background-color: #3B4455;\n",
              "      fill: #D2E3FC;\n",
              "    }\n",
              "\n",
              "    [theme=dark] .colab-df-convert:hover {\n",
              "      background-color: #434B5C;\n",
              "      box-shadow: 0px 1px 3px 1px rgba(0, 0, 0, 0.15);\n",
              "      filter: drop-shadow(0px 1px 2px rgba(0, 0, 0, 0.3));\n",
              "      fill: #FFFFFF;\n",
              "    }\n",
              "  </style>\n",
              "\n",
              "      <script>\n",
              "        const buttonEl =\n",
              "          document.querySelector('#df-629cb458-dc8c-4364-9f18-7e166086fef8 button.colab-df-convert');\n",
              "        buttonEl.style.display =\n",
              "          google.colab.kernel.accessAllowed ? 'block' : 'none';\n",
              "\n",
              "        async function convertToInteractive(key) {\n",
              "          const element = document.querySelector('#df-629cb458-dc8c-4364-9f18-7e166086fef8');\n",
              "          const dataTable =\n",
              "            await google.colab.kernel.invokeFunction('convertToInteractive',\n",
              "                                                     [key], {});\n",
              "          if (!dataTable) return;\n",
              "\n",
              "          const docLinkHtml = 'Like what you see? Visit the ' +\n",
              "            '<a target=\"_blank\" href=https://colab.research.google.com/notebooks/data_table.ipynb>data table notebook</a>'\n",
              "            + ' to learn more about interactive tables.';\n",
              "          element.innerHTML = '';\n",
              "          dataTable['output_type'] = 'display_data';\n",
              "          await google.colab.output.renderOutput(dataTable, element);\n",
              "          const docLink = document.createElement('div');\n",
              "          docLink.innerHTML = docLinkHtml;\n",
              "          element.appendChild(docLink);\n",
              "        }\n",
              "      </script>\n",
              "    </div>\n",
              "  </div>\n",
              "  "
            ]
          },
          "metadata": {},
          "execution_count": 103
        }
      ],
      "source": [
        "df.head()"
      ]
    },
    {
      "cell_type": "code",
      "execution_count": 104,
      "metadata": {
        "colab": {
          "base_uri": "https://localhost:8080/"
        },
        "id": "uBKcgR245EOX",
        "outputId": "082fd9a2-a553-4b7c-b424-4ba407568e12"
      },
      "outputs": [
        {
          "output_type": "stream",
          "name": "stdout",
          "text": [
            "(90015, 41) <class 'pandas.core.frame.DataFrame'> (90015, 1) <class 'pandas.core.frame.DataFrame'>\n",
            "\n"
          ]
        }
      ],
      "source": [
        "X = df.drop('stimulus', axis=1)\n",
        "#y = df['stimulus']\n",
        "y = df.iloc[:, 0:1]\n",
        "print(X.shape, type(X), y.shape, type(y))\n",
        "print()"
      ]
    },
    {
      "cell_type": "code",
      "execution_count": 105,
      "metadata": {
        "colab": {
          "base_uri": "https://localhost:8080/",
          "height": 332
        },
        "id": "XlcbdijIOabG",
        "outputId": "9dfcc37e-e9db-4b58-90ec-d073d230e1cd"
      },
      "outputs": [
        {
          "output_type": "execute_result",
          "data": {
            "text/plain": [
              "       Acc 1    Acc 2    Acc 3  EMG Channel 1  EMG Channel 2  EMG Channel 3  \\\n",
              "862 -0.03418  0.84131 -0.51855              0             -1             -1   \n",
              "863 -0.03418  0.84131 -0.51855              0              0             -2   \n",
              "864 -0.03418  0.84131 -0.51855             -1              0             -1   \n",
              "865 -0.03418  0.84131 -0.51855             -4             -5             -5   \n",
              "866 -0.03418  0.84131 -0.51855              0             -2             -1   \n",
              "\n",
              "     EMG Channel 4  EMG Channel 5  EMG Channel 6  EMG Channel 7  ...  \\\n",
              "862              0              0              0             -1  ...   \n",
              "863             -2             -2              0              1  ...   \n",
              "864             -2             -1             -2              0  ...   \n",
              "865             -1              0             -1             -1  ...   \n",
              "866             -1             -1             -1             -2  ...   \n",
              "\n",
              "     Cyber Glove (angles of the joints) Sensor 13  \\\n",
              "862                                         67.71   \n",
              "863                                         67.71   \n",
              "864                                         67.71   \n",
              "865                                         67.71   \n",
              "866                                         67.71   \n",
              "\n",
              "     Cyber Glove (angles of the joints) Sensor 14  \\\n",
              "862                                       -25.952   \n",
              "863                                       -25.952   \n",
              "864                                       -25.952   \n",
              "865                                       -25.952   \n",
              "866                                       -25.952   \n",
              "\n",
              "     Cyber Glove (angles of the joints) Sensor 15  \\\n",
              "862                                        2.4988   \n",
              "863                                        2.4988   \n",
              "864                                        2.4988   \n",
              "865                                        2.4988   \n",
              "866                                        2.4988   \n",
              "\n",
              "     Cyber Glove (angles of the joints) Sensor 16  \\\n",
              "862                                        49.344   \n",
              "863                                        49.344   \n",
              "864                                        49.344   \n",
              "865                                        49.344   \n",
              "866                                        49.344   \n",
              "\n",
              "     Cyber Glove (angles of the joints) Sensor 17  \\\n",
              "862                                        63.171   \n",
              "863                                        63.171   \n",
              "864                                        63.171   \n",
              "865                                        63.171   \n",
              "866                                        63.171   \n",
              "\n",
              "     Cyber Glove (angles of the joints) Sensor 18  \\\n",
              "862                                       -3.4729   \n",
              "863                                       -3.4729   \n",
              "864                                       -3.4729   \n",
              "865                                       -3.4729   \n",
              "866                                       -3.4729   \n",
              "\n",
              "     Cyber Glove (angles of the joints) Sensor 19  \\\n",
              "862                                        15.409   \n",
              "863                                        15.409   \n",
              "864                                        15.409   \n",
              "865                                        15.409   \n",
              "866                                        15.409   \n",
              "\n",
              "     Cyber Glove (angles of the joints) Sensor 20  \\\n",
              "862                                        21.185   \n",
              "863                                        21.185   \n",
              "864                                        21.185   \n",
              "865                                        21.185   \n",
              "866                                        21.185   \n",
              "\n",
              "     Cyber Glove (angles of the joints) Sensor 21  \\\n",
              "862                                       -3.1765   \n",
              "863                                       -3.1765   \n",
              "864                                       -3.1765   \n",
              "865                                       -3.1765   \n",
              "866                                       -3.1765   \n",
              "\n",
              "     Cyber Glove (angles of the joints) Sensor 22  \n",
              "862                                        13.553  \n",
              "863                                        13.553  \n",
              "864                                        13.553  \n",
              "865                                        13.553  \n",
              "866                                        13.553  \n",
              "\n",
              "[5 rows x 41 columns]"
            ],
            "text/html": [
              "\n",
              "  <div id=\"df-06b9b655-e7b7-4668-9665-85c67071620e\">\n",
              "    <div class=\"colab-df-container\">\n",
              "      <div>\n",
              "<style scoped>\n",
              "    .dataframe tbody tr th:only-of-type {\n",
              "        vertical-align: middle;\n",
              "    }\n",
              "\n",
              "    .dataframe tbody tr th {\n",
              "        vertical-align: top;\n",
              "    }\n",
              "\n",
              "    .dataframe thead th {\n",
              "        text-align: right;\n",
              "    }\n",
              "</style>\n",
              "<table border=\"1\" class=\"dataframe\">\n",
              "  <thead>\n",
              "    <tr style=\"text-align: right;\">\n",
              "      <th></th>\n",
              "      <th>Acc 1</th>\n",
              "      <th>Acc 2</th>\n",
              "      <th>Acc 3</th>\n",
              "      <th>EMG Channel 1</th>\n",
              "      <th>EMG Channel 2</th>\n",
              "      <th>EMG Channel 3</th>\n",
              "      <th>EMG Channel 4</th>\n",
              "      <th>EMG Channel 5</th>\n",
              "      <th>EMG Channel 6</th>\n",
              "      <th>EMG Channel 7</th>\n",
              "      <th>...</th>\n",
              "      <th>Cyber Glove (angles of the joints) Sensor 13</th>\n",
              "      <th>Cyber Glove (angles of the joints) Sensor 14</th>\n",
              "      <th>Cyber Glove (angles of the joints) Sensor 15</th>\n",
              "      <th>Cyber Glove (angles of the joints) Sensor 16</th>\n",
              "      <th>Cyber Glove (angles of the joints) Sensor 17</th>\n",
              "      <th>Cyber Glove (angles of the joints) Sensor 18</th>\n",
              "      <th>Cyber Glove (angles of the joints) Sensor 19</th>\n",
              "      <th>Cyber Glove (angles of the joints) Sensor 20</th>\n",
              "      <th>Cyber Glove (angles of the joints) Sensor 21</th>\n",
              "      <th>Cyber Glove (angles of the joints) Sensor 22</th>\n",
              "    </tr>\n",
              "  </thead>\n",
              "  <tbody>\n",
              "    <tr>\n",
              "      <th>862</th>\n",
              "      <td>-0.03418</td>\n",
              "      <td>0.84131</td>\n",
              "      <td>-0.51855</td>\n",
              "      <td>0</td>\n",
              "      <td>-1</td>\n",
              "      <td>-1</td>\n",
              "      <td>0</td>\n",
              "      <td>0</td>\n",
              "      <td>0</td>\n",
              "      <td>-1</td>\n",
              "      <td>...</td>\n",
              "      <td>67.71</td>\n",
              "      <td>-25.952</td>\n",
              "      <td>2.4988</td>\n",
              "      <td>49.344</td>\n",
              "      <td>63.171</td>\n",
              "      <td>-3.4729</td>\n",
              "      <td>15.409</td>\n",
              "      <td>21.185</td>\n",
              "      <td>-3.1765</td>\n",
              "      <td>13.553</td>\n",
              "    </tr>\n",
              "    <tr>\n",
              "      <th>863</th>\n",
              "      <td>-0.03418</td>\n",
              "      <td>0.84131</td>\n",
              "      <td>-0.51855</td>\n",
              "      <td>0</td>\n",
              "      <td>0</td>\n",
              "      <td>-2</td>\n",
              "      <td>-2</td>\n",
              "      <td>-2</td>\n",
              "      <td>0</td>\n",
              "      <td>1</td>\n",
              "      <td>...</td>\n",
              "      <td>67.71</td>\n",
              "      <td>-25.952</td>\n",
              "      <td>2.4988</td>\n",
              "      <td>49.344</td>\n",
              "      <td>63.171</td>\n",
              "      <td>-3.4729</td>\n",
              "      <td>15.409</td>\n",
              "      <td>21.185</td>\n",
              "      <td>-3.1765</td>\n",
              "      <td>13.553</td>\n",
              "    </tr>\n",
              "    <tr>\n",
              "      <th>864</th>\n",
              "      <td>-0.03418</td>\n",
              "      <td>0.84131</td>\n",
              "      <td>-0.51855</td>\n",
              "      <td>-1</td>\n",
              "      <td>0</td>\n",
              "      <td>-1</td>\n",
              "      <td>-2</td>\n",
              "      <td>-1</td>\n",
              "      <td>-2</td>\n",
              "      <td>0</td>\n",
              "      <td>...</td>\n",
              "      <td>67.71</td>\n",
              "      <td>-25.952</td>\n",
              "      <td>2.4988</td>\n",
              "      <td>49.344</td>\n",
              "      <td>63.171</td>\n",
              "      <td>-3.4729</td>\n",
              "      <td>15.409</td>\n",
              "      <td>21.185</td>\n",
              "      <td>-3.1765</td>\n",
              "      <td>13.553</td>\n",
              "    </tr>\n",
              "    <tr>\n",
              "      <th>865</th>\n",
              "      <td>-0.03418</td>\n",
              "      <td>0.84131</td>\n",
              "      <td>-0.51855</td>\n",
              "      <td>-4</td>\n",
              "      <td>-5</td>\n",
              "      <td>-5</td>\n",
              "      <td>-1</td>\n",
              "      <td>0</td>\n",
              "      <td>-1</td>\n",
              "      <td>-1</td>\n",
              "      <td>...</td>\n",
              "      <td>67.71</td>\n",
              "      <td>-25.952</td>\n",
              "      <td>2.4988</td>\n",
              "      <td>49.344</td>\n",
              "      <td>63.171</td>\n",
              "      <td>-3.4729</td>\n",
              "      <td>15.409</td>\n",
              "      <td>21.185</td>\n",
              "      <td>-3.1765</td>\n",
              "      <td>13.553</td>\n",
              "    </tr>\n",
              "    <tr>\n",
              "      <th>866</th>\n",
              "      <td>-0.03418</td>\n",
              "      <td>0.84131</td>\n",
              "      <td>-0.51855</td>\n",
              "      <td>0</td>\n",
              "      <td>-2</td>\n",
              "      <td>-1</td>\n",
              "      <td>-1</td>\n",
              "      <td>-1</td>\n",
              "      <td>-1</td>\n",
              "      <td>-2</td>\n",
              "      <td>...</td>\n",
              "      <td>67.71</td>\n",
              "      <td>-25.952</td>\n",
              "      <td>2.4988</td>\n",
              "      <td>49.344</td>\n",
              "      <td>63.171</td>\n",
              "      <td>-3.4729</td>\n",
              "      <td>15.409</td>\n",
              "      <td>21.185</td>\n",
              "      <td>-3.1765</td>\n",
              "      <td>13.553</td>\n",
              "    </tr>\n",
              "  </tbody>\n",
              "</table>\n",
              "<p>5 rows × 41 columns</p>\n",
              "</div>\n",
              "      <button class=\"colab-df-convert\" onclick=\"convertToInteractive('df-06b9b655-e7b7-4668-9665-85c67071620e')\"\n",
              "              title=\"Convert this dataframe to an interactive table.\"\n",
              "              style=\"display:none;\">\n",
              "        \n",
              "  <svg xmlns=\"http://www.w3.org/2000/svg\" height=\"24px\"viewBox=\"0 0 24 24\"\n",
              "       width=\"24px\">\n",
              "    <path d=\"M0 0h24v24H0V0z\" fill=\"none\"/>\n",
              "    <path d=\"M18.56 5.44l.94 2.06.94-2.06 2.06-.94-2.06-.94-.94-2.06-.94 2.06-2.06.94zm-11 1L8.5 8.5l.94-2.06 2.06-.94-2.06-.94L8.5 2.5l-.94 2.06-2.06.94zm10 10l.94 2.06.94-2.06 2.06-.94-2.06-.94-.94-2.06-.94 2.06-2.06.94z\"/><path d=\"M17.41 7.96l-1.37-1.37c-.4-.4-.92-.59-1.43-.59-.52 0-1.04.2-1.43.59L10.3 9.45l-7.72 7.72c-.78.78-.78 2.05 0 2.83L4 21.41c.39.39.9.59 1.41.59.51 0 1.02-.2 1.41-.59l7.78-7.78 2.81-2.81c.8-.78.8-2.07 0-2.86zM5.41 20L4 18.59l7.72-7.72 1.47 1.35L5.41 20z\"/>\n",
              "  </svg>\n",
              "      </button>\n",
              "      \n",
              "  <style>\n",
              "    .colab-df-container {\n",
              "      display:flex;\n",
              "      flex-wrap:wrap;\n",
              "      gap: 12px;\n",
              "    }\n",
              "\n",
              "    .colab-df-convert {\n",
              "      background-color: #E8F0FE;\n",
              "      border: none;\n",
              "      border-radius: 50%;\n",
              "      cursor: pointer;\n",
              "      display: none;\n",
              "      fill: #1967D2;\n",
              "      height: 32px;\n",
              "      padding: 0 0 0 0;\n",
              "      width: 32px;\n",
              "    }\n",
              "\n",
              "    .colab-df-convert:hover {\n",
              "      background-color: #E2EBFA;\n",
              "      box-shadow: 0px 1px 2px rgba(60, 64, 67, 0.3), 0px 1px 3px 1px rgba(60, 64, 67, 0.15);\n",
              "      fill: #174EA6;\n",
              "    }\n",
              "\n",
              "    [theme=dark] .colab-df-convert {\n",
              "      background-color: #3B4455;\n",
              "      fill: #D2E3FC;\n",
              "    }\n",
              "\n",
              "    [theme=dark] .colab-df-convert:hover {\n",
              "      background-color: #434B5C;\n",
              "      box-shadow: 0px 1px 3px 1px rgba(0, 0, 0, 0.15);\n",
              "      filter: drop-shadow(0px 1px 2px rgba(0, 0, 0, 0.3));\n",
              "      fill: #FFFFFF;\n",
              "    }\n",
              "  </style>\n",
              "\n",
              "      <script>\n",
              "        const buttonEl =\n",
              "          document.querySelector('#df-06b9b655-e7b7-4668-9665-85c67071620e button.colab-df-convert');\n",
              "        buttonEl.style.display =\n",
              "          google.colab.kernel.accessAllowed ? 'block' : 'none';\n",
              "\n",
              "        async function convertToInteractive(key) {\n",
              "          const element = document.querySelector('#df-06b9b655-e7b7-4668-9665-85c67071620e');\n",
              "          const dataTable =\n",
              "            await google.colab.kernel.invokeFunction('convertToInteractive',\n",
              "                                                     [key], {});\n",
              "          if (!dataTable) return;\n",
              "\n",
              "          const docLinkHtml = 'Like what you see? Visit the ' +\n",
              "            '<a target=\"_blank\" href=https://colab.research.google.com/notebooks/data_table.ipynb>data table notebook</a>'\n",
              "            + ' to learn more about interactive tables.';\n",
              "          element.innerHTML = '';\n",
              "          dataTable['output_type'] = 'display_data';\n",
              "          await google.colab.output.renderOutput(dataTable, element);\n",
              "          const docLink = document.createElement('div');\n",
              "          docLink.innerHTML = docLinkHtml;\n",
              "          element.appendChild(docLink);\n",
              "        }\n",
              "      </script>\n",
              "    </div>\n",
              "  </div>\n",
              "  "
            ]
          },
          "metadata": {},
          "execution_count": 105
        }
      ],
      "source": [
        "X.head()"
      ]
    },
    {
      "cell_type": "markdown",
      "metadata": {
        "id": "3WHYTiyNxjbB"
      },
      "source": [
        "---\n",
        "Visualization number of labels"
      ]
    },
    {
      "cell_type": "code",
      "execution_count": 106,
      "metadata": {
        "colab": {
          "base_uri": "https://localhost:8080/",
          "height": 522
        },
        "id": "GrBPneNpxio1",
        "outputId": "853fcdb1-00ad-4053-ea9d-9ccf1d13f8b8"
      },
      "outputs": [
        {
          "output_type": "execute_result",
          "data": {
            "text/plain": [
              "stimulus\n",
              "10          7931\n",
              "6           7619\n",
              "8           7580\n",
              "7           7567\n",
              "5           7564\n",
              "11          7539\n",
              "4           7473\n",
              "3           7424\n",
              "9           7397\n",
              "12          7357\n",
              "2           7329\n",
              "1           7235\n",
              "dtype: int64"
            ]
          },
          "metadata": {},
          "execution_count": 106
        },
        {
          "output_type": "display_data",
          "data": {
            "text/plain": [
              "<Figure size 432x288 with 1 Axes>"
            ],
            "image/png": "[encoded data removed]"
          },
          "metadata": {
            "needs_background": "light"
          }
        }
      ],
      "source": [
        "sns.countplot(x = 'stimulus', data=df)\n",
        "y.value_counts()"
      ]
    },
    {
      "cell_type": "markdown",
      "metadata": {
        "id": "Ac9B5iPx9HWR"
      },
      "source": [
        "---\n",
        "Fixing Data Imbalance via Undersampling"
      ]
    },
    {
      "cell_type": "code",
      "execution_count": 107,
      "metadata": {
        "colab": {
          "base_uri": "https://localhost:8080/",
          "height": 364
        },
        "id": "F8Pf2yx55xks",
        "outputId": "689aacc7-f76e-4137-938e-29041519d12f"
      },
      "outputs": [
        {
          "output_type": "execute_result",
          "data": {
            "text/plain": [
              "<Axes: xlabel='stimulus'>"
            ]
          },
          "metadata": {},
          "execution_count": 107
        },
        {
          "output_type": "display_data",
          "data": {
            "text/plain": [
              "<Figure size 576x360 with 1 Axes>"
            ],
            "image/png": "[encoded data removed]"
          },
          "metadata": {
            "needs_background": "light"
          }
        }
      ],
      "source": [
        "from imblearn.under_sampling import RandomUnderSampler\n",
        "\n",
        "sampling_strategy = \"not minority\"\n",
        "rus = RandomUnderSampler(sampling_strategy=sampling_strategy)\n",
        "X_res, y_res = rus.fit_resample(X, y)\n",
        "y_res.value_counts().plot(kind='bar', figsize=(8,5))"
      ]
    },
    {
      "cell_type": "code",
      "execution_count": 108,
      "metadata": {
        "colab": {
          "base_uri": "https://localhost:8080/"
        },
        "id": "yYCz3Q5H9gN9",
        "outputId": "f7926587-b192-44ab-fb05-d695ac6d322c"
      },
      "outputs": [
        {
          "output_type": "stream",
          "name": "stdout",
          "text": [
            "stimulus\n",
            "1           7235\n",
            "2           7235\n",
            "3           7235\n",
            "4           7235\n",
            "5           7235\n",
            "6           7235\n",
            "7           7235\n",
            "8           7235\n",
            "9           7235\n",
            "10          7235\n",
            "11          7235\n",
            "12          7235\n",
            "dtype: int64\n",
            "86820\n"
          ]
        }
      ],
      "source": [
        "print(y_res.value_counts())\n",
        "print(len(X_res.value_counts()))"
      ]
    },
    {
      "cell_type": "code",
      "execution_count": 109,
      "metadata": {
        "colab": {
          "base_uri": "https://localhost:8080/"
        },
        "id": "hpNYb9reRugs",
        "outputId": "d71d40d5-93b0-4333-f037-1ac114c7d65c"
      },
      "outputs": [
        {
          "output_type": "stream",
          "name": "stdout",
          "text": [
            "        stimulus\n",
            "862            1\n",
            "863            1\n",
            "864            1\n",
            "865            1\n",
            "866            1\n",
            "...          ...\n",
            "148362        12\n",
            "148363        12\n",
            "148364        12\n",
            "148365        12\n",
            "148366        12\n",
            "\n",
            "[90015 rows x 1 columns]\n"
          ]
        }
      ],
      "source": [
        "print(y)"
      ]
    },
    {
      "cell_type": "markdown",
      "metadata": {
        "id": "hPN8DmEJxrse"
      },
      "source": [
        "---\n",
        "Visualization of Data Distributions"
      ]
    },
    {
      "cell_type": "code",
      "execution_count": 110,
      "metadata": {
        "id": "y5a9acbLxwRe"
      },
      "outputs": [],
      "source": [
        "# #distribution of first 19 features\n",
        "\n",
        "\n",
        "# fig, axs = plt.subplots(nrows=5, ncols=4, figsize=(40, 40))\n",
        "# axs = axs.flatten()\n",
        "# index = 0\n",
        "# for k, v in df.items():\n",
        "#   print(f\"[{index +1}] Updating plot\")\n",
        "#   sns.distplot(v, ax=axs[index])\n",
        "#   index += 1\n",
        "#   if index == 20:\n",
        "#     break \n",
        "# plt.tight_layout()"
      ]
    },
    {
      "cell_type": "markdown",
      "metadata": {
        "id": "j-Q8ps35WPO3"
      },
      "source": [
        "---\n",
        "Defining Hyperparmaeters"
      ]
    },
    {
      "cell_type": "code",
      "execution_count": 111,
      "metadata": {
        "id": "MZoF6guXlSot"
      },
      "outputs": [],
      "source": [
        "#############################################################################################################################################################################################################\n",
        "#############################################################################################################################################################################################################\n",
        "#############################################################################################################################################################################################################\n",
        "#############################################################################################################################################################################################################\n",
        "\n",
        "#Hyperparameters\n",
        "emg_channels = 16\n",
        "imu_channels = 3\n",
        "\n",
        "latent_dim = 2\n",
        "input_dim= len(X.columns)\n",
        "\n",
        "hidden_dim= round(input_dim/2)\n",
        "hidden_dim_2 = round(input_dim/4)\n",
        "output_dim = len(X.columns)\n",
        "num_classes = 12\n",
        "num_layers = round(num_classes/2)\n",
        "tempature = 1\n",
        "\n",
        "num_epochs= 10\n",
        "batch_size= 100\n",
        "learning_rate= 0.001 #3e-4 #Karpathy constant\n",
        "l2_lambda = 0\n",
        "\n",
        "\n",
        "alpha = 2        # Reconstruction Loss\n",
        "beta = 2         # Kl Divergence Loss\n",
        "gamma = 3        # Classifcation Loss\n",
        "delta = 5        # Contrastive Loss\n",
        "epsilon = 3      # Triplet Loss\n",
        "\n",
        "#############################################################################################################################################################################################################\n",
        "#############################################################################################################################################################################################################\n",
        "#############################################################################################################################################################################################################\n",
        "#############################################################################################################################################################################################################"
      ]
    },
    {
      "cell_type": "markdown",
      "metadata": {
        "id": "D3t0Wyvt9zUN"
      },
      "source": [
        "---\n",
        "Train Test Split"
      ]
    },
    {
      "cell_type": "code",
      "execution_count": 112,
      "metadata": {
        "colab": {
          "base_uri": "https://localhost:8080/"
        },
        "id": "XmDYv1vB9Wyh",
        "outputId": "f321e2ea-9f69-4276-fcbc-4fc233bc6740"
      },
      "outputs": [
        {
          "output_type": "stream",
          "name": "stdout",
          "text": [
            "(86820, 41) <class 'numpy.ndarray'> (86820, 1) <class 'numpy.ndarray'>\n",
            "\n",
            "X_train size: 52092 | X_val size: 17364 | X_test size: 17364\n",
            "y_train size: 52092 | y_val size: 17364 | y_test size: 17364\n",
            "\n",
            "Training Feature Split: (52092, 41) | Training Labels (52092, 1)\n",
            "Validation Feature Split: (17364, 41) | Validation Labels (17364, 1)\n",
            "Testing Feature Split: (17364, 41) | Testing Labels (17364, 1)\n",
            "\n"
          ]
        }
      ],
      "source": [
        "X = X_res.values\n",
        "y = y_res.values\n",
        "print(X.shape, type(X), y.shape, type(y))\n",
        "print()\n",
        "\n",
        "# Data Split\n",
        "X_train, X_test, y_train, y_test = train_test_split(X, y, test_size=0.2, random_state=42)\n",
        "X_train, X_val, y_train, y_val = train_test_split(X_train, y_train, test_size=0.25, random_state=42) # 0.25 x 0.8 = 0.2\n",
        "\n",
        "print(f\"X_train size: {len(X_train)} | X_val size: {len(X_val)} | X_test size: {len(X_test)}\")\n",
        "print(f\"y_train size: {len(y_train)} | y_val size: {len(y_val)} | y_test size: {len(y_test)}\")\n",
        "print()\n",
        "print(f\"Training Feature Split: {X_train.shape} | Training Labels { y_train.shape}\")\n",
        "print(f\"Validation Feature Split: {X_val.shape} | Validation Labels { y_val.shape}\")\n",
        "print(f\"Testing Feature Split: {X_test.shape} | Testing Labels { y_test.shape}\")\n",
        "print()"
      ]
    },
    {
      "cell_type": "markdown",
      "metadata": {
        "id": "4cC0dknyWXmN"
      },
      "source": [
        "---\n",
        "Scaling/Normalizing Data"
      ]
    },
    {
      "cell_type": "code",
      "execution_count": 113,
      "metadata": {
        "colab": {
          "base_uri": "https://localhost:8080/"
        },
        "id": "f1X-8DFZMt_M",
        "outputId": "457f356f-45b2-4fd4-ba38-3f76338c32fd"
      },
      "outputs": [
        {
          "output_type": "stream",
          "name": "stdout",
          "text": [
            "X_train: <class 'torch.Tensor'> | y_train <class 'torch.Tensor'>\n",
            "X_val: <class 'torch.Tensor'> | y_train <class 'torch.Tensor'>\n",
            "X_test: <class 'torch.Tensor'> | y_test <class 'torch.Tensor'>\n",
            "\n",
            "Training: torch.Size([52092, 41]) , torch.Size([52092, 1])\n",
            "Validation: torch.Size([17364, 41]) , torch.Size([17364, 1])\n",
            "Testing:  torch.Size([17364, 41]) , torch.Size([17364, 1])\n"
          ]
        }
      ],
      "source": [
        "#Normalization Data \n",
        "\n",
        "#No Normalization \n",
        "# X_train_Normalized = X_train\n",
        "# X_val_Normalized = X_val\n",
        "# X_test_Normalized = X_test\n",
        "#----------------------------------------------------------------------------------------------------------\n",
        "# Minmax without preprocessing\n",
        "# Minmax = preprocessing.MinMaxScaler()\n",
        "# X_train_Normalized= Minmax.fit_transform(X_train)\n",
        "# X_val_Normalized = Minmax.transform(X_val)\n",
        "# X_test_Normalized = Minmax.transform(X_test)\n",
        "#----------------------------------------------------------------------------------------------------------\n",
        "# Minmax with preprocessing\n",
        "# Minmax = preprocessing.MinMaxScaler()\n",
        "# X_train_Normalized= Minmax.fit_transform(X_train_preprocessed)\n",
        "# X_val_Normalized = Minmax.transform(X_val_preprocessed)\n",
        "# X_test_Normalized = Minmax.transform(X_test_preprocessed)\n",
        "\n",
        "#----------------------------------------------------------------------------------------------------------\n",
        "# # Standardization without preprocessing\n",
        "Standardized = preprocessing.StandardScaler()\n",
        "X_train_Normalized= Standardized.fit_transform(X_train)\n",
        "X_val_Normalized = Standardized.transform(X_val)\n",
        "X_test_Normalized = Standardized.transform(X_test)\n",
        "\n",
        "# Standardization with preprocessing\n",
        "# Standardized = preprocessing.StandardScaler()\n",
        "# X_train_Normalized= Standardized.fit_transform(X_train_preprocessed)\n",
        "# X_val_Normalized = Standardized.transform(X_val_preprocessed)\n",
        "# X_test_Normalized = Standardized.transform(X_test_preprocessed)\n",
        "#----------------------------------------------------------------------------------------------------------\n",
        "\n",
        "#Convert to numpy then to torch \n",
        "\n",
        "X_train = torch.from_numpy(X_train_Normalized).float()\n",
        "y_train = torch.from_numpy(y_train).long()\n",
        "\n",
        "X_val = torch.from_numpy(X_val_Normalized).float()\n",
        "y_val = torch.from_numpy(y_val).long()\n",
        "\n",
        "X_test = torch.from_numpy(X_test_Normalized).float()\n",
        "y_test = torch.from_numpy(y_test).long()\n",
        "\n",
        "print(f\"X_train: {type(X_train)} | y_train {type(y_train)}\")\n",
        "print(f\"X_val: {type(X_val)} | y_train {type(y_val)}\")\n",
        "print(f\"X_test: {type(X_test)} | y_test {type(y_test)}\")\n",
        "print()\n",
        "print(f\"Training: {X_train.shape} , { y_train.shape}\")\n",
        "print(f\"Validation: {X_val.shape} , { y_val.shape}\")\n",
        "print(f\"Testing:  {X_test.shape} , { y_test.shape}\")"
      ]
    },
    {
      "cell_type": "markdown",
      "metadata": {
        "id": "C3UmdyVaWc2f"
      },
      "source": [
        "---\n",
        "Defining Dataloaders\n"
      ]
    },
    {
      "cell_type": "code",
      "execution_count": 114,
      "metadata": {
        "id": "pnr0p08ESkXE"
      },
      "outputs": [],
      "source": [
        "class ClassifierDataset(Dataset):\n",
        "    def __init__(self, X_data, y_data):\n",
        "        self.X_data = X_data\n",
        "        self.y_data = y_data\n",
        "\n",
        "    def __getitem__(self, index):\n",
        "        return self.X_data[index], self.y_data[index]\n",
        "\n",
        "    def __len__ (self):\n",
        "        return len(self.X_data)"
      ]
    },
    {
      "cell_type": "code",
      "execution_count": 115,
      "metadata": {
        "id": "45Ta3rYVknAi"
      },
      "outputs": [],
      "source": [
        "training = ClassifierDataset(X_train, y_train)\n",
        "validating = ClassifierDataset(X_val, y_val)\n",
        "testing = ClassifierDataset(X_test, y_test)\n",
        "\n",
        "\n",
        "train_loader = DataLoader(training, batch_size=batch_size, shuffle=True)\n",
        "val_loader = DataLoader(validating, batch_size=batch_size, shuffle=False)\n",
        "test_loader = DataLoader(testing, batch_size=batch_size, shuffle=False)\n",
        "\n",
        "def get_data_loader(optuna_batch_size):\n",
        "  train_loader = DataLoader(training, batch_size=optuna_batch_size, shuffle=True)\n",
        "  val_loader = DataLoader(validating, batch_size=optuna_batch_size, shuffle=False)\n",
        "  test_loader = DataLoader(testing, batch_size=optuna_batch_size, shuffle=False)\n",
        "  return train_loader, val_loader, test_loader"
      ]
    },
    {
      "cell_type": "markdown",
      "metadata": {
        "id": "dTrRsJbCWmG-"
      },
      "source": [
        "---\n",
        "Defining VAE Model, Loss and Optmizers"
      ]
    },
    {
      "cell_type": "code",
      "execution_count": 116,
      "metadata": {
        "colab": {
          "base_uri": "https://localhost:8080/"
        },
        "id": "sgYYoP4DSnAB",
        "outputId": "05611c0d-3afd-4999-c192-1be2791712aa"
      },
      "outputs": [
        {
          "output_type": "stream",
          "name": "stdout",
          "text": [
            "Reconstruction X: torch.Size([100, 41])\n",
            "Mu: torch.Size([100, 2]) \n",
            "Logvar: torch.Size([100, 2])\n",
            "Latent Space Z: torch.Size([100, 2])\n",
            "Classifier: torch.Size([100, 13])\n"
          ]
        }
      ],
      "source": [
        "class VAE(nn.Module):  \n",
        "  def __init__(self, input_dim, hidden_dim, latent_dim):\n",
        "    super(VAE,self).__init__()  \n",
        "    self.encoder = nn.Sequential(\n",
        "        nn.Linear(input_dim, hidden_dim),\n",
        "        nn.ReLU(),\n",
        "        nn.Linear(hidden_dim, hidden_dim),\n",
        "        nn.ReLU(),\n",
        "        nn.Linear(hidden_dim, hidden_dim),\n",
        "        nn.ReLU(),\n",
        "        nn.Linear(hidden_dim, hidden_dim_2),\n",
        "        nn.ReLU(),\n",
        "        nn.Linear(hidden_dim_2, hidden_dim_2),\n",
        "        nn.ReLU(),\n",
        "        nn.Linear(hidden_dim_2, hidden_dim_2),\n",
        "    )\n",
        "    self.mu = nn.Linear(hidden_dim_2, latent_dim)   # mu\n",
        "    self.logvar = nn.Linear(hidden_dim_2, latent_dim)   # log-var\n",
        "    self.decoder = nn.Sequential(\n",
        "        nn.Linear(latent_dim, hidden_dim_2),\n",
        "        nn.ReLU(),\n",
        "        nn.Linear(hidden_dim_2, hidden_dim_2),\n",
        "        nn.ReLU(),\n",
        "        nn.Linear(hidden_dim_2, hidden_dim_2),\n",
        "        nn.ReLU(),\n",
        "        nn.Linear(hidden_dim_2, hidden_dim),\n",
        "        nn.ReLU(),\n",
        "        nn.Linear(hidden_dim, hidden_dim),\n",
        "        nn.ReLU(),\n",
        "        nn.Linear(hidden_dim, hidden_dim),\n",
        "        nn.ReLU(),\n",
        "        nn.Linear(hidden_dim, input_dim),\n",
        "    )\n",
        "    self.classifier = nn.Sequential(\n",
        "        nn.Linear(latent_dim, num_layers),\n",
        "        nn.ReLU(),\n",
        "        nn.Linear(num_layers, 13),\n",
        "        nn.Softmax(dim=1)\n",
        "    )\n",
        "\n",
        "  def encode(self, x):  \n",
        "    z = self.encoder(x)\n",
        "    z1 = self.mu(z)               \n",
        "    z2 = self.logvar(z) \n",
        "    return z1, z2                 # (mu, log-var)\n",
        "\n",
        "  def decode(self, x):\n",
        "\n",
        "    return self.decoder(x)\n",
        "\n",
        "  def forward(self, x):\n",
        "#  Reparamaterize\n",
        "    mu, logvar = self.encode(x)\n",
        "    stdev = torch.exp(0.5 * logvar)\n",
        "    esp = torch.randn_like(stdev)\n",
        "    z_reparmeterized = mu + (esp * stdev)   \n",
        "\n",
        "    x_reconstructed = self.decode(z_reparmeterized)\n",
        "    classified = self.classifier(z_reparmeterized)\n",
        "    classified = classified / tempature\n",
        "\n",
        "    return (x_reconstructed, z_reparmeterized, classified, mu, logvar)\n",
        "\n",
        "if __name__ == \"__main__\":\n",
        "  x = torch.rand(batch_size,input_dim)\n",
        "  vae = VAE(input_dim, hidden_dim, latent_dim)\n",
        "  x_reconstructed, z_reparmeterized, classified, mu, logvar = vae(x)\n",
        "  print(f\"Reconstruction X: {x_reconstructed.shape}\")\n",
        "\n",
        "  print(f\"Mu: {mu.shape} \")\n",
        "  \n",
        "  print(f\"Logvar: {logvar.shape}\")\n",
        " \n",
        "  print(f\"Latent Space Z: {z_reparmeterized.shape}\")\n",
        " \n",
        "  print(f\"Classifier: {classified.shape}\")"
      ]
    },
    {
      "cell_type": "code",
      "execution_count": 117,
      "metadata": {
        "id": "fusjHJ7PMDSS"
      },
      "outputs": [],
      "source": [
        "class ContrastiveLoss(nn.Module):\n",
        "  def __init__(self, margin=1.0):\n",
        "    super(ContrastiveLoss, self).__init__()\n",
        "    self.margin = margin\n",
        "        \n",
        "  def forward(self, z_reparmeterized, labels):\n",
        "    # Compute the pairwise euclidean distances between the examples in the latent space\n",
        "    distances = torch.pow(z_reparmeterized, 2).sum(dim=1, keepdim=True) + torch.pow(z_reparmeterized, 2).sum(dim=1, keepdim=True).t() - 2 * torch.matmul(z_reparmeterized, z_reparmeterized.t())\n",
        "    # Create a mask for the positive pairs (i.e. examples with the same label)\n",
        "    positive_mask = labels.expand(z_reparmeterized.size(0), z_reparmeterized.size(0)).eq(labels.expand(z_reparmeterized.size(0), z_reparmeterized.size(0)).t())\n",
        "    # Create a mask for the negative pairs (i.e. examples with different labels)\n",
        "    negative_mask = labels.expand(z_reparmeterized.size(0), z_reparmeterized.size(0)).ne(labels.expand(z_reparmeterized.size(0), z_reparmeterized.size(0)).t())\n",
        "    # Set the distances for the positive pairs to a large value\n",
        "    distances.masked_fill_(positive_mask, 1e7)\n",
        "    # Compute the contrastive loss as the sum of the max(0, margin - distance) for the negative pairs\n",
        "    contrastive_loss = torch.sum(torch.max(torch.zeros_like(distances), self.margin - distances))\n",
        "    return contrastive_loss"
      ]
    },
    {
      "cell_type": "code",
      "execution_count": 118,
      "metadata": {
        "id": "k1-AmtAYjZpS"
      },
      "outputs": [],
      "source": [
        "def train_VAE(trial, model, train_loader, val_loader, optimizer, epoch,alpha,beta,gamma, delta):\n",
        "  train_losses=[]\n",
        "  train_accuracy = []\n",
        "  accuracy_log = []\n",
        "  val_losses=[]\n",
        "  val_accuracy=[]\n",
        "\n",
        "  recon_loss_fn = nn.MSELoss(reduction=\"sum\")\n",
        "  classifier_loss_fn = nn.CrossEntropyLoss()\n",
        "  contrastive_loss_fn = ContrastiveLoss(margin=1)\n",
        "\n",
        "  train_running_loss = 0\n",
        "  model.train()\n",
        "  for i, data in enumerate(train_loader):\n",
        "    inputs, labels = data\n",
        "    inputs = inputs.to(device)\n",
        "    labels = labels.to(device)\n",
        "    # print(f\"Input shape: {inputs.shape}\")\n",
        "    # print(f\"Labels shape: {labels.shape}\")\n",
        "    optimizer.zero_grad()\n",
        "    \n",
        "    x_reconstructed, z_reparmeterized, classified, mu, logvar = model(inputs)\n",
        "\n",
        "    # Compute the reconstruction loss and KL divergence loss #################################################\n",
        "\n",
        "    reconstruction_loss = recon_loss_fn(x_reconstructed, inputs)\n",
        "    kld_loss = -0.5 * torch.sum(1 + logvar - mu.pow(2) - logvar.exp())\n",
        "\n",
        "    contrastive_loss = contrastive_loss_fn(mu, labels)\n",
        "\n",
        "    # Compute the classificaiton loss #########################################################################\n",
        "    classified = classified.view(-1, 13)\n",
        "    classification_loss = classifier_loss_fn(classified, labels.flatten())\n",
        "\n",
        "  \n",
        "    loss = (alpha*reconstruction_loss + kld_loss*beta) + gamma*classification_loss + (delta*contrastive_loss)\n",
        "\n",
        "    accuracy = accuracy_score(labels, classified.argmax(dim=1))\n",
        "    train_accuracy.append(accuracy)\n",
        "    train_acc = sum(train_accuracy)/len(train_accuracy)\n",
        "    accuracy_log.append(train_acc)\n",
        "\n",
        "    loss.backward()\n",
        "    optimizer.step()\n",
        "\n",
        "    train_running_loss += loss.item()\n",
        "    train_loss= train_running_loss/len(train_loader)\n",
        "\n",
        "  with torch.inference_mode():\n",
        "    val_running_loss = 0\n",
        "    val_running_acc = 0\n",
        "\n",
        "    model.eval()\n",
        "    # Iterate over the validation data\n",
        "    for X, Y in val_loader:\n",
        "      # Pass the data through the model and get the reconstructed data and the latent representation\n",
        "      y_pred, z_reparmeterized, v_classified, mu, logvar = model(X)\n",
        "\n",
        "      # Compute the reconstruction loss\n",
        "      v_reconstruction_loss = recon_loss_fn(y_pred, X)\n",
        "\n",
        "      # Compute the KL divergence loss\n",
        "      v_kld_loss = -0.5 * torch.sum(1 + logvar - mu.pow(2) - logvar.exp())\n",
        "\n",
        "      v_contrastive_loss_value = contrastive_loss_fn(mu, Y)\n",
        "\n",
        "      # Reshape the classified output to have the same shape as the labels\n",
        "      v_classified = v_classified.view(-1, 13)\n",
        "      # Compute the classification loss\n",
        "      v_classification_loss = classifier_loss_fn(v_classified, Y.flatten())\n",
        "\n",
        "      # Compute the total loss\n",
        "      vloss = (alpha*v_reconstruction_loss + v_kld_loss*beta) + gamma*v_classification_loss + delta*v_contrastive_loss_value\n",
        "      val_running_loss += vloss.item()\n",
        "      val_loss = val_running_loss/len(val_loader)\n",
        "\n",
        "      v_accuracy = accuracy_score(Y, v_classified.argmax(dim=1))\n",
        "      val_accuracy.append(v_accuracy)\n",
        "      val_acc = sum(val_accuracy)/len(val_accuracy)\n",
        "\n",
        "  print(f\"Epoch: {epoch+1} / {num_epochs} | Reconst_loss: {reconstruction_loss:.3f} | Kldiv loss: {kld_loss:.3f} | Classifcation loss: {classification_loss:.3f} | Constrast loss: {contrastive_loss:.2f} | Total loss: {train_loss:.3f} | Train acc: {train_acc*100:.3f} % ||| Val Loss: {val_loss:.3f} | Val acc: {val_acc*100:.3f} %\")\n",
        "  print(\"-------------------------------------------------------------------------------------------------------------------------------------------------------------------------------------\")\n",
        "  train_losses.append(train_loss)\n",
        "  val_losses.append(val_loss)\n",
        "\n",
        "  trial.report(train_acc, epoch)\n",
        "  if trial.should_prune():\n",
        "      raise optuna.TrialPruned()\n",
        "\n",
        "  return train_losses, val_losses, train_acc, val_acc\n",
        "\n"
      ]
    },
    {
      "cell_type": "code",
      "execution_count": 119,
      "metadata": {
        "id": "p-3XPHXlpsve"
      },
      "outputs": [],
      "source": [
        "def objective(trial):\n",
        "  params = {\n",
        "          'optuna_batch_size' : trial.suggest_int('optuna_batch_size', 1e2, 1e3),\n",
        "          'num_epochs' : num_epochs,\n",
        "          'optimizer': trial.suggest_categorical(\"optimizer\", [\"Adam\", \"RMSprop\"]),\n",
        "          \"lr\": trial.suggest_float('lr', 1e-4, 1e-2),\n",
        "          \"hidden_dim\": trial.suggest_int('hidden_dim', 1e2, 1e3),\n",
        "          'alpha': trial.suggest_int('alpha', 1e-1, 1e1),\n",
        "          'beta': trial.suggest_int('beta', 1e-1, 1e1), \n",
        "          'gamma': trial.suggest_int('gamma', 1e-1, 1e1), \n",
        "          'delta': trial.suggest_int('delta', 1e-1, 1e1),        \n",
        "  }\n",
        "\n",
        "  train_loader, val_loader, test_loader = get_data_loader(params['optuna_batch_size'])\n",
        "  model  = VAE(input_dim, params['hidden_dim'], latent_dim).to(device)\n",
        "  optimizer = getattr(optim, params['optimizer'])(model.parameters(), lr=params['lr'])\n",
        "\n",
        "  for epoch in range(params['num_epochs']):\n",
        "    train_losses, val_losses, train_acc, val_acc = train_VAE(trial, model, train_loader, val_loader, optimizer, epoch, alpha, beta, gamma, delta)\n",
        "  return train_acc\n"
      ]
    },
    {
      "cell_type": "code",
      "execution_count": 120,
      "metadata": {
        "colab": {
          "base_uri": "https://localhost:8080/",
          "height": 1000
        },
        "id": "23icBK73s9bH",
        "outputId": "c6768e1a-2c3a-42f6-c365-1c53196fff62"
      },
      "outputs": [
        {
          "metadata": {
            "tags": null
          },
          "name": "stderr",
          "output_type": "stream",
          "text": [
            "\u001b[32m[I 2023-03-17 20:23:19,539]\u001b[0m A new study created in memory with name: no-name-6e00680a-8b86-4392-a0e7-1f67ad049aaf\u001b[0m\n"
          ]
        },
        {
          "metadata": {
            "tags": null
          },
          "name": "stdout",
          "output_type": "stream",
          "text": [
            "Epoch: 1 / 10 | Reconst_loss: 35547.930 | Kldiv loss: 25666.193 | Classifcation loss: 2.559 | Constrast loss: 14863.19 | Total loss: 1636107.625 | Train acc: 9.262 % ||| Val Loss: 201358.089 | Val acc: 9.048 %\n",
            "-------------------------------------------------------------------------------------------------------------------------------------------------------------------------------------\n",
            "Epoch: 2 / 10 | Reconst_loss: 32104.930 | Kldiv loss: 21017.811 | Classifcation loss: 2.512 | Constrast loss: 8493.72 | Total loss: 165778.156 | Train acc: 13.600 % ||| Val Loss: 147193.201 | Val acc: 15.492 %\n",
            "-------------------------------------------------------------------------------------------------------------------------------------------------------------------------------------\n",
            "Epoch: 3 / 10 | Reconst_loss: 27014.719 | Kldiv loss: 17795.244 | Classifcation loss: 2.477 | Constrast loss: 7142.07 | Total loss: 136603.591 | Train acc: 15.858 % ||| Val Loss: 129191.270 | Val acc: 17.732 %\n",
            "-------------------------------------------------------------------------------------------------------------------------------------------------------------------------------------\n"
          ]
        },
        {
          "metadata": {
            "tags": null
          },
          "name": "stderr",
          "output_type": "stream",
          "text": [
            "\u001b[32m[I 2023-03-17 20:24:20,007]\u001b[0m Trial 0 pruned. \u001b[0m\n"
          ]
        },
        {
          "metadata": {
            "tags": null
          },
          "name": "stdout",
          "output_type": "stream",
          "text": [
            "Epoch: 4 / 10 | Reconst_loss: 26234.830 | Kldiv loss: 15974.160 | Classifcation loss: 2.454 | Constrast loss: 6478.10 | Total loss: 124482.962 | Train acc: 20.764 % ||| Val Loss: 120230.943 | Val acc: 24.613 %\n",
            "-------------------------------------------------------------------------------------------------------------------------------------------------------------------------------------\n",
            "Epoch: 1 / 10 | Reconst_loss: 5682.289 | Kldiv loss: 1934.196 | Classifcation loss: 2.409 | Constrast loss: 146.25 | Total loss: 106902.408 | Train acc: 17.322 % ||| Val Loss: 49791.257 | Val acc: 31.023 %\n",
            "-------------------------------------------------------------------------------------------------------------------------------------------------------------------------------------\n",
            "Epoch: 2 / 10 | Reconst_loss: 5142.275 | Kldiv loss: 1819.410 | Classifcation loss: 2.270 | Constrast loss: 143.85 | Total loss: 47111.493 | Train acc: 40.779 % ||| Val Loss: 49136.055 | Val acc: 45.418 %\n",
            "-------------------------------------------------------------------------------------------------------------------------------------------------------------------------------------\n",
            "Epoch: 3 / 10 | Reconst_loss: 4491.494 | Kldiv loss: 1475.089 | Classifcation loss: 2.231 | Constrast loss: 121.19 | Total loss: 40362.972 | Train acc: 50.268 % ||| Val Loss: 38198.826 | Val acc: 51.739 %\n",
            "-------------------------------------------------------------------------------------------------------------------------------------------------------------------------------------\n",
            "Epoch: 4 / 10 | Reconst_loss: 4230.664 | Kldiv loss: 1436.973 | Classifcation loss: 2.169 | Constrast loss: 107.84 | Total loss: 37901.434 | Train acc: 53.358 % ||| Val Loss: 37848.532 | Val acc: 53.603 %\n",
            "-------------------------------------------------------------------------------------------------------------------------------------------------------------------------------------\n",
            "Epoch: 5 / 10 | Reconst_loss: 5018.110 | Kldiv loss: 1362.710 | Classifcation loss: 2.133 | Constrast loss: 108.80 | Total loss: 35480.111 | Train acc: 56.662 % ||| Val Loss: 35533.109 | Val acc: 57.018 %\n",
            "-------------------------------------------------------------------------------------------------------------------------------------------------------------------------------------\n",
            "Epoch: 6 / 10 | Reconst_loss: 7383.578 | Kldiv loss: 1565.736 | Classifcation loss: 2.136 | Constrast loss: 41.82 | Total loss: 35447.000 | Train acc: 59.037 % ||| Val Loss: 40401.991 | Val acc: 55.988 %\n",
            "-------------------------------------------------------------------------------------------------------------------------------------------------------------------------------------\n",
            "Epoch: 7 / 10 | Reconst_loss: 4327.440 | Kldiv loss: 1352.524 | Classifcation loss: 2.094 | Constrast loss: 64.59 | Total loss: 35009.515 | Train acc: 59.561 % ||| Val Loss: 33156.521 | Val acc: 60.172 %\n",
            "-------------------------------------------------------------------------------------------------------------------------------------------------------------------------------------\n",
            "Epoch: 8 / 10 | Reconst_loss: 4387.201 | Kldiv loss: 1390.821 | Classifcation loss: 2.149 | Constrast loss: 100.04 | Total loss: 32885.155 | Train acc: 60.412 % ||| Val Loss: 33099.631 | Val acc: 58.190 %\n",
            "-------------------------------------------------------------------------------------------------------------------------------------------------------------------------------------\n",
            "Epoch: 9 / 10 | Reconst_loss: 4913.056 | Kldiv loss: 1342.895 | Classifcation loss: 2.051 | Constrast loss: 30.87 | Total loss: 32371.515 | Train acc: 60.766 % ||| Val Loss: 33402.453 | Val acc: 60.574 %\n",
            "-------------------------------------------------------------------------------------------------------------------------------------------------------------------------------------\n"
          ]
        },
        {
          "metadata": {
            "tags": null
          },
          "name": "stderr",
          "output_type": "stream",
          "text": [
            "\u001b[32m[I 2023-03-17 20:27:10,309]\u001b[0m Trial 1 finished with value: 0.6045867546103116 and parameters: {'optuna_batch_size': 552, 'optimizer': 'Adam', 'lr': 0.006252655488731555, 'hidden_dim': 923, 'alpha': 3, 'beta': 9, 'gamma': 1, 'delta': 0}. Best is trial 1 with value: 0.6045867546103116.\u001b[0m\n"
          ]
        },
        {
          "metadata": {
            "tags": null
          },
          "name": "stdout",
          "output_type": "stream",
          "text": [
            "Epoch: 10 / 10 | Reconst_loss: 4341.068 | Kldiv loss: 1482.443 | Classifcation loss: 2.089 | Constrast loss: 39.86 | Total loss: 32476.396 | Train acc: 60.459 % ||| Val Loss: 31917.439 | Val acc: 59.973 %\n",
            "-------------------------------------------------------------------------------------------------------------------------------------------------------------------------------------\n",
            "Epoch: 1 / 10 | Reconst_loss: 285.632 | Kldiv loss: 103.129 | Classifcation loss: 2.284 | Constrast loss: 3.16 | Total loss: 83138410208.418 | Train acc: 26.585 % ||| Val Loss: 14468.915 | Val acc: 40.673 %\n",
            "-------------------------------------------------------------------------------------------------------------------------------------------------------------------------------------\n",
            "Epoch: 2 / 10 | Reconst_loss: 360.006 | Kldiv loss: 60.441 | Classifcation loss: 2.168 | Constrast loss: 5.29 | Total loss: 13286.499 | Train acc: 48.214 % ||| Val Loss: 12499.096 | Val acc: 51.932 %\n",
            "-------------------------------------------------------------------------------------------------------------------------------------------------------------------------------------\n",
            "Epoch: 3 / 10 | Reconst_loss: 324.414 | Kldiv loss: 102.651 | Classifcation loss: 1.947 | Constrast loss: 0.00 | Total loss: 11800.345 | Train acc: 55.441 % ||| Val Loss: 11566.525 | Val acc: 56.666 %\n",
            "-------------------------------------------------------------------------------------------------------------------------------------------------------------------------------------\n",
            "Epoch: 4 / 10 | Reconst_loss: 193.283 | Kldiv loss: 58.333 | Classifcation loss: 2.128 | Constrast loss: 1.73 | Total loss: 11144.620 | Train acc: 58.800 % ||| Val Loss: 10897.812 | Val acc: 60.188 %\n",
            "-------------------------------------------------------------------------------------------------------------------------------------------------------------------------------------\n",
            "Epoch: 5 / 10 | Reconst_loss: 172.884 | Kldiv loss: 52.260 | Classifcation loss: 2.049 | Constrast loss: 0.00 | Total loss: 10796.094 | Train acc: 60.331 % ||| Val Loss: 10647.181 | Val acc: 61.287 %\n",
            "-------------------------------------------------------------------------------------------------------------------------------------------------------------------------------------\n",
            "Epoch: 6 / 10 | Reconst_loss: 444.582 | Kldiv loss: 61.491 | Classifcation loss: 2.105 | Constrast loss: 5.31 | Total loss: 10616.401 | Train acc: 61.114 % ||| Val Loss: 10796.520 | Val acc: 61.239 %\n",
            "-------------------------------------------------------------------------------------------------------------------------------------------------------------------------------------\n",
            "Epoch: 7 / 10 | Reconst_loss: 295.377 | Kldiv loss: 70.406 | Classifcation loss: 2.001 | Constrast loss: 0.08 | Total loss: 10317.078 | Train acc: 62.322 % ||| Val Loss: 10194.919 | Val acc: 62.400 %\n",
            "-------------------------------------------------------------------------------------------------------------------------------------------------------------------------------------\n",
            "Epoch: 8 / 10 | Reconst_loss: 258.924 | Kldiv loss: 82.033 | Classifcation loss: 2.119 | Constrast loss: 0.87 | Total loss: 10205.746 | Train acc: 62.536 % ||| Val Loss: 9963.402 | Val acc: 63.488 %\n",
            "-------------------------------------------------------------------------------------------------------------------------------------------------------------------------------------\n",
            "Epoch: 9 / 10 | Reconst_loss: 365.094 | Kldiv loss: 67.323 | Classifcation loss: 1.943 | Constrast loss: 0.12 | Total loss: 10071.891 | Train acc: 65.539 % ||| Val Loss: 10079.950 | Val acc: 67.297 %\n",
            "-------------------------------------------------------------------------------------------------------------------------------------------------------------------------------------\n"
          ]
        },
        {
          "metadata": {
            "tags": null
          },
          "name": "stderr",
          "output_type": "stream",
          "text": [
            "\u001b[32m[I 2023-03-17 20:30:21,988]\u001b[0m Trial 2 finished with value: 0.6869736640636968 and parameters: {'optuna_batch_size': 168, 'optimizer': 'Adam', 'lr': 0.008190457338124586, 'hidden_dim': 693, 'alpha': 8, 'beta': 0, 'gamma': 8, 'delta': 3}. Best is trial 2 with value: 0.6869736640636968.\u001b[0m\n"
          ]
        },
        {
          "metadata": {
            "tags": null
          },
          "name": "stdout",
          "output_type": "stream",
          "text": [
            "Epoch: 10 / 10 | Reconst_loss: 168.077 | Kldiv loss: 87.662 | Classifcation loss: 1.858 | Constrast loss: 0.00 | Total loss: 9854.334 | Train acc: 68.697 % ||| Val Loss: 10112.654 | Val acc: 67.128 %\n",
            "-------------------------------------------------------------------------------------------------------------------------------------------------------------------------------------\n",
            "Epoch: 1 / 10 | Reconst_loss: 2462.615 | Kldiv loss: 3655.927 | Classifcation loss: 2.526 | Constrast loss: 187.49 | Total loss: 2402140.208 | Train acc: 12.125 % ||| Val Loss: 393040.869 | Val acc: 17.363 %\n",
            "-------------------------------------------------------------------------------------------------------------------------------------------------------------------------------------\n",
            "Epoch: 2 / 10 | Reconst_loss: 2834.501 | Kldiv loss: 3711.893 | Classifcation loss: 2.516 | Constrast loss: 230.05 | Total loss: 391270.673 | Train acc: 16.986 % ||| Val Loss: 371227.208 | Val acc: 21.056 %\n",
            "-------------------------------------------------------------------------------------------------------------------------------------------------------------------------------------\n",
            "Epoch: 3 / 10 | Reconst_loss: 2426.099 | Kldiv loss: 2049.266 | Classifcation loss: 2.429 | Constrast loss: 212.78 | Total loss: 372046.392 | Train acc: 22.304 % ||| Val Loss: 349134.080 | Val acc: 25.979 %\n",
            "-------------------------------------------------------------------------------------------------------------------------------------------------------------------------------------\n"
          ]
        },
        {
          "metadata": {
            "tags": null
          },
          "name": "stderr",
          "output_type": "stream",
          "text": [
            "\u001b[32m[I 2023-03-17 20:30:48,348]\u001b[0m Trial 3 pruned. \u001b[0m\n"
          ]
        },
        {
          "metadata": {
            "tags": null
          },
          "name": "stdout",
          "output_type": "stream",
          "text": [
            "Epoch: 4 / 10 | Reconst_loss: 1894.922 | Kldiv loss: 2890.738 | Classifcation loss: 2.456 | Constrast loss: 147.01 | Total loss: 356337.110 | Train acc: 25.450 % ||| Val Loss: 332769.060 | Val acc: 25.501 %\n",
            "-------------------------------------------------------------------------------------------------------------------------------------------------------------------------------------\n",
            "Epoch: 1 / 10 | Reconst_loss: 1528.139 | Kldiv loss: 289.724 | Classifcation loss: 2.191 | Constrast loss: 43.73 | Total loss: 20646.131 | Train acc: 37.137 % ||| Val Loss: 15988.618 | Val acc: 55.919 %\n",
            "-------------------------------------------------------------------------------------------------------------------------------------------------------------------------------------\n",
            "Epoch: 2 / 10 | Reconst_loss: 1445.100 | Kldiv loss: 348.535 | Classifcation loss: 2.062 | Constrast loss: 22.30 | Total loss: 13697.290 | Train acc: 63.983 % ||| Val Loss: 13094.696 | Val acc: 66.599 %\n",
            "-------------------------------------------------------------------------------------------------------------------------------------------------------------------------------------\n",
            "Epoch: 3 / 10 | Reconst_loss: 1047.389 | Kldiv loss: 398.309 | Classifcation loss: 1.972 | Constrast loss: 4.37 | Total loss: 13104.873 | Train acc: 68.146 % ||| Val Loss: 13433.189 | Val acc: 69.052 %\n",
            "-------------------------------------------------------------------------------------------------------------------------------------------------------------------------------------\n",
            "Epoch: 4 / 10 | Reconst_loss: 1396.729 | Kldiv loss: 420.651 | Classifcation loss: 1.960 | Constrast loss: 10.55 | Total loss: 12559.255 | Train acc: 69.765 % ||| Val Loss: 12323.151 | Val acc: 71.021 %\n",
            "-------------------------------------------------------------------------------------------------------------------------------------------------------------------------------------\n",
            "Epoch: 5 / 10 | Reconst_loss: 1315.782 | Kldiv loss: 390.827 | Classifcation loss: 1.955 | Constrast loss: 5.02 | Total loss: 12277.142 | Train acc: 70.503 % ||| Val Loss: 11815.580 | Val acc: 71.642 %\n",
            "-------------------------------------------------------------------------------------------------------------------------------------------------------------------------------------\n",
            "Epoch: 6 / 10 | Reconst_loss: 1384.659 | Kldiv loss: 396.459 | Classifcation loss: 1.951 | Constrast loss: 12.23 | Total loss: 11851.799 | Train acc: 71.085 % ||| Val Loss: 12369.841 | Val acc: 70.721 %\n",
            "-------------------------------------------------------------------------------------------------------------------------------------------------------------------------------------\n",
            "Epoch: 7 / 10 | Reconst_loss: 1740.463 | Kldiv loss: 367.039 | Classifcation loss: 2.026 | Constrast loss: 8.37 | Total loss: 11884.971 | Train acc: 71.289 % ||| Val Loss: 11599.739 | Val acc: 70.131 %\n",
            "-------------------------------------------------------------------------------------------------------------------------------------------------------------------------------------\n",
            "Epoch: 8 / 10 | Reconst_loss: 1220.620 | Kldiv loss: 321.922 | Classifcation loss: 1.923 | Constrast loss: 11.70 | Total loss: 11733.741 | Train acc: 71.275 % ||| Val Loss: 12530.081 | Val acc: 72.063 %\n",
            "-------------------------------------------------------------------------------------------------------------------------------------------------------------------------------------\n",
            "Epoch: 9 / 10 | Reconst_loss: 1331.147 | Kldiv loss: 346.356 | Classifcation loss: 2.051 | Constrast loss: 13.98 | Total loss: 11549.749 | Train acc: 71.392 % ||| Val Loss: 11553.768 | Val acc: 69.874 %\n",
            "-------------------------------------------------------------------------------------------------------------------------------------------------------------------------------------\n"
          ]
        },
        {
          "metadata": {
            "tags": null
          },
          "name": "stderr",
          "output_type": "stream",
          "text": [
            "\u001b[32m[I 2023-03-17 20:35:15,339]\u001b[0m Trial 4 finished with value: 0.7131958915654838 and parameters: {'optuna_batch_size': 215, 'optimizer': 'Adam', 'lr': 0.007154603436117007, 'hidden_dim': 948, 'alpha': 4, 'beta': 7, 'gamma': 2, 'delta': 3}. Best is trial 4 with value: 0.7131958915654838.\u001b[0m\n"
          ]
        },
        {
          "metadata": {
            "tags": null
          },
          "name": "stdout",
          "output_type": "stream",
          "text": [
            "Epoch: 10 / 10 | Reconst_loss: 1331.372 | Kldiv loss: 371.526 | Classifcation loss: 1.911 | Constrast loss: 13.51 | Total loss: 11371.686 | Train acc: 71.320 % ||| Val Loss: 11761.021 | Val acc: 71.760 %\n",
            "-------------------------------------------------------------------------------------------------------------------------------------------------------------------------------------\n",
            "Epoch: 1 / 10 | Reconst_loss: 28237.777 | Kldiv loss: 35868.309 | Classifcation loss: 2.548 | Constrast loss: 7100.82 | Total loss: 275638082.102 | Train acc: 9.600 % ||| Val Loss: 210582.904 | Val acc: 11.355 %\n",
            "-------------------------------------------------------------------------------------------------------------------------------------------------------------------------------------\n",
            "Epoch: 2 / 10 | Reconst_loss: 26707.006 | Kldiv loss: 11474.883 | Classifcation loss: 2.454 | Constrast loss: 2808.83 | Total loss: 152421.654 | Train acc: 18.516 % ||| Val Loss: 115082.715 | Val acc: 23.662 %\n",
            "-------------------------------------------------------------------------------------------------------------------------------------------------------------------------------------\n",
            "Epoch: 3 / 10 | Reconst_loss: 23211.621 | Kldiv loss: 10539.119 | Classifcation loss: 2.394 | Constrast loss: 2472.45 | Total loss: 113175.643 | Train acc: 29.808 % ||| Val Loss: 102758.534 | Val acc: 31.574 %\n",
            "-------------------------------------------------------------------------------------------------------------------------------------------------------------------------------------\n",
            "Epoch: 4 / 10 | Reconst_loss: 21291.609 | Kldiv loss: 9524.369 | Classifcation loss: 2.363 | Constrast loss: 2324.07 | Total loss: 102807.731 | Train acc: 31.912 % ||| Val Loss: 94044.051 | Val acc: 32.374 %\n",
            "-------------------------------------------------------------------------------------------------------------------------------------------------------------------------------------\n",
            "Epoch: 5 / 10 | Reconst_loss: 20872.143 | Kldiv loss: 8564.805 | Classifcation loss: 2.343 | Constrast loss: 1981.54 | Total loss: 94755.075 | Train acc: 35.146 % ||| Val Loss: 89104.485 | Val acc: 37.455 %\n",
            "-------------------------------------------------------------------------------------------------------------------------------------------------------------------------------------\n",
            "Epoch: 6 / 10 | Reconst_loss: 18923.590 | Kldiv loss: 8048.898 | Classifcation loss: 2.277 | Constrast loss: 1863.89 | Total loss: 89356.335 | Train acc: 40.916 % ||| Val Loss: 82935.845 | Val acc: 43.416 %\n",
            "-------------------------------------------------------------------------------------------------------------------------------------------------------------------------------------\n",
            "Epoch: 7 / 10 | Reconst_loss: 17673.055 | Kldiv loss: 8366.066 | Classifcation loss: 2.246 | Constrast loss: 1595.00 | Total loss: 85598.349 | Train acc: 44.626 % ||| Val Loss: 80352.479 | Val acc: 48.129 %\n",
            "-------------------------------------------------------------------------------------------------------------------------------------------------------------------------------------\n",
            "Epoch: 8 / 10 | Reconst_loss: 18485.373 | Kldiv loss: 8288.673 | Classifcation loss: 2.231 | Constrast loss: 1578.55 | Total loss: 82419.321 | Train acc: 49.018 % ||| Val Loss: 79245.885 | Val acc: 49.208 %\n",
            "-------------------------------------------------------------------------------------------------------------------------------------------------------------------------------------\n",
            "Epoch: 9 / 10 | Reconst_loss: 17691.094 | Kldiv loss: 7834.972 | Classifcation loss: 2.178 | Constrast loss: 1537.21 | Total loss: 80979.542 | Train acc: 51.350 % ||| Val Loss: 76352.185 | Val acc: 53.390 %\n",
            "-------------------------------------------------------------------------------------------------------------------------------------------------------------------------------------\n"
          ]
        },
        {
          "metadata": {
            "tags": null
          },
          "name": "stderr",
          "output_type": "stream",
          "text": [
            "\u001b[32m[I 2023-03-17 20:37:37,329]\u001b[0m Trial 5 finished with value: 0.5337323376101555 and parameters: {'optuna_batch_size': 951, 'optimizer': 'Adam', 'lr': 0.007782231575807794, 'hidden_dim': 888, 'alpha': 7, 'beta': 6, 'gamma': 9, 'delta': 9}. Best is trial 4 with value: 0.7131958915654838.\u001b[0m\n"
          ]
        },
        {
          "metadata": {
            "tags": null
          },
          "name": "stdout",
          "output_type": "stream",
          "text": [
            "Epoch: 10 / 10 | Reconst_loss: 17562.266 | Kldiv loss: 7206.513 | Classifcation loss: 2.183 | Constrast loss: 1706.17 | Total loss: 78932.837 | Train acc: 53.373 % ||| Val Loss: 75369.325 | Val acc: 54.372 %\n",
            "-------------------------------------------------------------------------------------------------------------------------------------------------------------------------------------\n",
            "Epoch: 1 / 10 | Reconst_loss: nan | Kldiv loss: nan | Classifcation loss: nan | Constrast loss: nan | Total loss: nan | Train acc: 0.130 % ||| Val Loss: nan | Val acc: 0.000 %\n",
            "-------------------------------------------------------------------------------------------------------------------------------------------------------------------------------------\n",
            "Epoch: 2 / 10 | Reconst_loss: nan | Kldiv loss: nan | Classifcation loss: nan | Constrast loss: nan | Total loss: nan | Train acc: 0.000 % ||| Val Loss: nan | Val acc: 0.000 %\n",
            "-------------------------------------------------------------------------------------------------------------------------------------------------------------------------------------\n",
            "Epoch: 3 / 10 | Reconst_loss: nan | Kldiv loss: nan | Classifcation loss: nan | Constrast loss: nan | Total loss: nan | Train acc: 0.000 % ||| Val Loss: nan | Val acc: 0.000 %\n",
            "-------------------------------------------------------------------------------------------------------------------------------------------------------------------------------------\n"
          ]
        },
        {
          "metadata": {
            "tags": null
          },
          "name": "stderr",
          "output_type": "stream",
          "text": [
            "\u001b[32m[I 2023-03-17 20:38:20,481]\u001b[0m Trial 6 pruned. \u001b[0m\n"
          ]
        },
        {
          "metadata": {
            "tags": null
          },
          "name": "stdout",
          "output_type": "stream",
          "text": [
            "Epoch: 4 / 10 | Reconst_loss: nan | Kldiv loss: nan | Classifcation loss: nan | Constrast loss: nan | Total loss: nan | Train acc: 0.000 % ||| Val Loss: nan | Val acc: 0.000 %\n",
            "-------------------------------------------------------------------------------------------------------------------------------------------------------------------------------------\n",
            "Epoch: 1 / 10 | Reconst_loss: nan | Kldiv loss: nan | Classifcation loss: nan | Constrast loss: nan | Total loss: nan | Train acc: 0.266 % ||| Val Loss: nan | Val acc: 0.000 %\n",
            "-------------------------------------------------------------------------------------------------------------------------------------------------------------------------------------\n",
            "Epoch: 2 / 10 | Reconst_loss: nan | Kldiv loss: nan | Classifcation loss: nan | Constrast loss: nan | Total loss: nan | Train acc: 0.000 % ||| Val Loss: nan | Val acc: 0.000 %\n",
            "-------------------------------------------------------------------------------------------------------------------------------------------------------------------------------------\n",
            "Epoch: 3 / 10 | Reconst_loss: nan | Kldiv loss: nan | Classifcation loss: nan | Constrast loss: nan | Total loss: nan | Train acc: 0.000 % ||| Val Loss: nan | Val acc: 0.000 %\n",
            "-------------------------------------------------------------------------------------------------------------------------------------------------------------------------------------\n"
          ]
        },
        {
          "metadata": {
            "tags": null
          },
          "name": "stderr",
          "output_type": "stream",
          "text": [
            "\u001b[32m[I 2023-03-17 20:39:01,394]\u001b[0m Trial 7 pruned. \u001b[0m\n"
          ]
        },
        {
          "metadata": {
            "tags": null
          },
          "name": "stdout",
          "output_type": "stream",
          "text": [
            "Epoch: 4 / 10 | Reconst_loss: nan | Kldiv loss: nan | Classifcation loss: nan | Constrast loss: nan | Total loss: nan | Train acc: 0.000 % ||| Val Loss: nan | Val acc: 0.000 %\n",
            "-------------------------------------------------------------------------------------------------------------------------------------------------------------------------------------\n",
            "Epoch: 1 / 10 | Reconst_loss: nan | Kldiv loss: nan | Classifcation loss: nan | Constrast loss: nan | Total loss: nan | Train acc: 0.071 % ||| Val Loss: nan | Val acc: 0.000 %\n",
            "-------------------------------------------------------------------------------------------------------------------------------------------------------------------------------------\n",
            "Epoch: 2 / 10 | Reconst_loss: nan | Kldiv loss: nan | Classifcation loss: nan | Constrast loss: nan | Total loss: nan | Train acc: 0.000 % ||| Val Loss: nan | Val acc: 0.000 %\n",
            "-------------------------------------------------------------------------------------------------------------------------------------------------------------------------------------\n",
            "Epoch: 3 / 10 | Reconst_loss: nan | Kldiv loss: nan | Classifcation loss: nan | Constrast loss: nan | Total loss: nan | Train acc: 0.000 % ||| Val Loss: nan | Val acc: 0.000 %\n",
            "-------------------------------------------------------------------------------------------------------------------------------------------------------------------------------------\n"
          ]
        },
        {
          "metadata": {
            "tags": null
          },
          "name": "stderr",
          "output_type": "stream",
          "text": [
            "\u001b[32m[I 2023-03-17 20:39:58,758]\u001b[0m Trial 8 pruned. \u001b[0m\n"
          ]
        },
        {
          "metadata": {
            "tags": null
          },
          "name": "stdout",
          "output_type": "stream",
          "text": [
            "Epoch: 4 / 10 | Reconst_loss: nan | Kldiv loss: nan | Classifcation loss: nan | Constrast loss: nan | Total loss: nan | Train acc: 0.000 % ||| Val Loss: nan | Val acc: 0.000 %\n",
            "-------------------------------------------------------------------------------------------------------------------------------------------------------------------------------------\n",
            "Epoch: 1 / 10 | Reconst_loss: nan | Kldiv loss: nan | Classifcation loss: nan | Constrast loss: nan | Total loss: nan | Train acc: 0.065 % ||| Val Loss: nan | Val acc: 0.000 %\n",
            "-------------------------------------------------------------------------------------------------------------------------------------------------------------------------------------\n",
            "Epoch: 2 / 10 | Reconst_loss: nan | Kldiv loss: nan | Classifcation loss: nan | Constrast loss: nan | Total loss: nan | Train acc: 0.000 % ||| Val Loss: nan | Val acc: 0.000 %\n",
            "-------------------------------------------------------------------------------------------------------------------------------------------------------------------------------------\n",
            "Epoch: 3 / 10 | Reconst_loss: nan | Kldiv loss: nan | Classifcation loss: nan | Constrast loss: nan | Total loss: nan | Train acc: 0.000 % ||| Val Loss: nan | Val acc: 0.000 %\n",
            "-------------------------------------------------------------------------------------------------------------------------------------------------------------------------------------\n"
          ]
        },
        {
          "metadata": {
            "tags": null
          },
          "name": "stderr",
          "output_type": "stream",
          "text": [
            "\u001b[32m[I 2023-03-17 20:41:36,138]\u001b[0m Trial 9 pruned. \u001b[0m\n"
          ]
        },
        {
          "metadata": {
            "tags": null
          },
          "name": "stdout",
          "output_type": "stream",
          "text": [
            "Epoch: 4 / 10 | Reconst_loss: nan | Kldiv loss: nan | Classifcation loss: nan | Constrast loss: nan | Total loss: nan | Train acc: 0.000 % ||| Val Loss: nan | Val acc: 0.000 %\n",
            "-------------------------------------------------------------------------------------------------------------------------------------------------------------------------------------\n",
            "Epoch: 1 / 10 | Reconst_loss: 942.751 | Kldiv loss: 474.864 | Classifcation loss: 2.550 | Constrast loss: 12.90 | Total loss: 190210.396 | Train acc: 9.009 % ||| Val Loss: 50722.306 | Val acc: 13.971 %\n",
            "-------------------------------------------------------------------------------------------------------------------------------------------------------------------------------------\n",
            "Epoch: 2 / 10 | Reconst_loss: 938.161 | Kldiv loss: 396.792 | Classifcation loss: 2.495 | Constrast loss: 13.90 | Total loss: 45854.459 | Train acc: 18.413 % ||| Val Loss: 41907.498 | Val acc: 20.159 %\n",
            "-------------------------------------------------------------------------------------------------------------------------------------------------------------------------------------\n",
            "Epoch: 3 / 10 | Reconst_loss: 897.379 | Kldiv loss: 323.111 | Classifcation loss: 2.560 | Constrast loss: 11.87 | Total loss: 39798.583 | Train acc: 23.115 % ||| Val Loss: 37394.646 | Val acc: 23.976 %\n",
            "-------------------------------------------------------------------------------------------------------------------------------------------------------------------------------------\n"
          ]
        },
        {
          "metadata": {
            "tags": null
          },
          "name": "stderr",
          "output_type": "stream",
          "text": [
            "\u001b[32m[I 2023-03-17 20:41:49,931]\u001b[0m Trial 10 pruned. \u001b[0m\n"
          ]
        },
        {
          "metadata": {
            "tags": null
          },
          "name": "stdout",
          "output_type": "stream",
          "text": [
            "Epoch: 4 / 10 | Reconst_loss: 987.531 | Kldiv loss: 361.944 | Classifcation loss: 2.522 | Constrast loss: 7.13 | Total loss: 35286.012 | Train acc: 24.465 % ||| Val Loss: 33515.779 | Val acc: 25.338 %\n",
            "-------------------------------------------------------------------------------------------------------------------------------------------------------------------------------------\n",
            "Epoch: 1 / 10 | Reconst_loss: 1617.354 | Kldiv loss: 479.351 | Classifcation loss: 2.229 | Constrast loss: 69.29 | Total loss: 9788.700 | Train acc: 37.411 % ||| Val Loss: 6639.355 | Val acc: 51.270 %\n",
            "-------------------------------------------------------------------------------------------------------------------------------------------------------------------------------------\n",
            "Epoch: 2 / 10 | Reconst_loss: 1793.162 | Kldiv loss: 450.478 | Classifcation loss: 1.973 | Constrast loss: 44.99 | Total loss: 6404.075 | Train acc: 59.527 % ||| Val Loss: 6214.822 | Val acc: 63.325 %\n",
            "-------------------------------------------------------------------------------------------------------------------------------------------------------------------------------------\n",
            "Epoch: 3 / 10 | Reconst_loss: 2070.304 | Kldiv loss: 450.158 | Classifcation loss: 2.002 | Constrast loss: 24.22 | Total loss: 6127.026 | Train acc: 62.853 % ||| Val Loss: 6442.562 | Val acc: 64.515 %\n",
            "-------------------------------------------------------------------------------------------------------------------------------------------------------------------------------------\n",
            "Epoch: 4 / 10 | Reconst_loss: 1741.399 | Kldiv loss: 481.971 | Classifcation loss: 2.049 | Constrast loss: 25.05 | Total loss: 5936.056 | Train acc: 64.398 % ||| Val Loss: 5747.660 | Val acc: 65.025 %\n",
            "-------------------------------------------------------------------------------------------------------------------------------------------------------------------------------------\n",
            "Epoch: 5 / 10 | Reconst_loss: 1726.600 | Kldiv loss: 520.854 | Classifcation loss: 2.091 | Constrast loss: 21.08 | Total loss: 5927.880 | Train acc: 64.563 % ||| Val Loss: 6012.704 | Val acc: 65.461 %\n",
            "-------------------------------------------------------------------------------------------------------------------------------------------------------------------------------------\n",
            "Epoch: 6 / 10 | Reconst_loss: 1787.958 | Kldiv loss: 471.405 | Classifcation loss: 2.006 | Constrast loss: 15.98 | Total loss: 5823.423 | Train acc: 65.856 % ||| Val Loss: 5812.450 | Val acc: 66.047 %\n",
            "-------------------------------------------------------------------------------------------------------------------------------------------------------------------------------------\n",
            "Epoch: 7 / 10 | Reconst_loss: 1598.818 | Kldiv loss: 391.445 | Classifcation loss: 1.989 | Constrast loss: 25.19 | Total loss: 5713.392 | Train acc: 66.765 % ||| Val Loss: 5700.093 | Val acc: 66.983 %\n",
            "-------------------------------------------------------------------------------------------------------------------------------------------------------------------------------------\n",
            "Epoch: 8 / 10 | Reconst_loss: 1923.164 | Kldiv loss: 439.071 | Classifcation loss: 2.042 | Constrast loss: 53.22 | Total loss: 5761.361 | Train acc: 66.550 % ||| Val Loss: 5634.970 | Val acc: 68.056 %\n",
            "-------------------------------------------------------------------------------------------------------------------------------------------------------------------------------------\n",
            "Epoch: 9 / 10 | Reconst_loss: 1591.467 | Kldiv loss: 443.348 | Classifcation loss: 1.959 | Constrast loss: 24.15 | Total loss: 5622.015 | Train acc: 67.852 % ||| Val Loss: 5529.880 | Val acc: 68.240 %\n",
            "-------------------------------------------------------------------------------------------------------------------------------------------------------------------------------------\n"
          ]
        },
        {
          "metadata": {
            "tags": null
          },
          "name": "stderr",
          "output_type": "stream",
          "text": [
            "\u001b[32m[I 2023-03-17 20:44:31,298]\u001b[0m Trial 11 finished with value: 0.6771793577311809 and parameters: {'optuna_batch_size': 103, 'optimizer': 'Adam', 'lr': 0.00949614672807259, 'hidden_dim': 476, 'alpha': 10, 'beta': 0, 'gamma': 6, 'delta': 3}. Best is trial 4 with value: 0.7131958915654838.\u001b[0m\n"
          ]
        },
        {
          "metadata": {
            "tags": null
          },
          "name": "stdout",
          "output_type": "stream",
          "text": [
            "Epoch: 10 / 10 | Reconst_loss: 1411.620 | Kldiv loss: 420.770 | Classifcation loss: 1.993 | Constrast loss: 10.40 | Total loss: 5636.125 | Train acc: 67.718 % ||| Val Loss: 5836.808 | Val acc: 67.269 %\n",
            "-------------------------------------------------------------------------------------------------------------------------------------------------------------------------------------\n",
            "Epoch: 1 / 10 | Reconst_loss: 1907.563 | Kldiv loss: 826.910 | Classifcation loss: 2.368 | Constrast loss: 32.48 | Total loss: 14310956.347 | Train acc: 14.886 % ||| Val Loss: 49296.767 | Val acc: 27.833 %\n",
            "-------------------------------------------------------------------------------------------------------------------------------------------------------------------------------------\n",
            "Epoch: 2 / 10 | Reconst_loss: 1487.601 | Kldiv loss: 617.212 | Classifcation loss: 2.233 | Constrast loss: 20.30 | Total loss: 43178.443 | Train acc: 35.789 % ||| Val Loss: 38271.963 | Val acc: 41.273 %\n",
            "-------------------------------------------------------------------------------------------------------------------------------------------------------------------------------------\n",
            "Epoch: 3 / 10 | Reconst_loss: 1002.868 | Kldiv loss: 431.368 | Classifcation loss: 2.235 | Constrast loss: 21.42 | Total loss: 36284.752 | Train acc: 46.656 % ||| Val Loss: 33610.235 | Val acc: 51.717 %\n",
            "-------------------------------------------------------------------------------------------------------------------------------------------------------------------------------------\n",
            "Epoch: 4 / 10 | Reconst_loss: 1442.078 | Kldiv loss: 555.575 | Classifcation loss: 2.148 | Constrast loss: 26.59 | Total loss: 33573.504 | Train acc: 54.692 % ||| Val Loss: 35772.913 | Val acc: 50.280 %\n",
            "-------------------------------------------------------------------------------------------------------------------------------------------------------------------------------------\n",
            "Epoch: 5 / 10 | Reconst_loss: 864.571 | Kldiv loss: 395.296 | Classifcation loss: 2.087 | Constrast loss: 18.22 | Total loss: 31350.238 | Train acc: 59.253 % ||| Val Loss: 29921.060 | Val acc: 60.540 %\n",
            "-------------------------------------------------------------------------------------------------------------------------------------------------------------------------------------\n",
            "Epoch: 6 / 10 | Reconst_loss: 941.808 | Kldiv loss: 498.676 | Classifcation loss: 2.071 | Constrast loss: 9.20 | Total loss: 30102.626 | Train acc: 62.049 % ||| Val Loss: 29109.085 | Val acc: 64.476 %\n",
            "-------------------------------------------------------------------------------------------------------------------------------------------------------------------------------------\n",
            "Epoch: 7 / 10 | Reconst_loss: 1006.104 | Kldiv loss: 469.391 | Classifcation loss: 2.082 | Constrast loss: 17.71 | Total loss: 29251.709 | Train acc: 64.048 % ||| Val Loss: 28866.963 | Val acc: 63.772 %\n",
            "-------------------------------------------------------------------------------------------------------------------------------------------------------------------------------------\n",
            "Epoch: 8 / 10 | Reconst_loss: 1204.535 | Kldiv loss: 450.631 | Classifcation loss: 2.060 | Constrast loss: 8.63 | Total loss: 28366.731 | Train acc: 65.398 % ||| Val Loss: 30139.504 | Val acc: 64.762 %\n",
            "-------------------------------------------------------------------------------------------------------------------------------------------------------------------------------------\n",
            "Epoch: 9 / 10 | Reconst_loss: 1058.241 | Kldiv loss: 439.111 | Classifcation loss: 2.051 | Constrast loss: 11.52 | Total loss: 27810.664 | Train acc: 65.939 % ||| Val Loss: 29902.664 | Val acc: 61.744 %\n",
            "-------------------------------------------------------------------------------------------------------------------------------------------------------------------------------------\n"
          ]
        },
        {
          "metadata": {
            "tags": null
          },
          "name": "stderr",
          "output_type": "stream",
          "text": [
            "\u001b[32m[I 2023-03-17 20:45:29,489]\u001b[0m Trial 12 finished with value: 0.6606744778371627 and parameters: {'optuna_batch_size': 413, 'optimizer': 'Adam', 'lr': 0.007802548579361315, 'hidden_dim': 406, 'alpha': 5, 'beta': 3, 'gamma': 10, 'delta': 3}. Best is trial 4 with value: 0.7131958915654838.\u001b[0m\n"
          ]
        },
        {
          "metadata": {
            "tags": null
          },
          "name": "stdout",
          "output_type": "stream",
          "text": [
            "Epoch: 10 / 10 | Reconst_loss: 1312.489 | Kldiv loss: 481.771 | Classifcation loss: 2.062 | Constrast loss: 6.12 | Total loss: 27844.216 | Train acc: 66.067 % ||| Val Loss: 26646.497 | Val acc: 68.209 %\n",
            "-------------------------------------------------------------------------------------------------------------------------------------------------------------------------------------\n",
            "Epoch: 1 / 10 | Reconst_loss: 20723.350 | Kldiv loss: 7454.869 | Classifcation loss: 2.441 | Constrast loss: 3096.41 | Total loss: 215304.080 | Train acc: 14.421 % ||| Val Loss: 73712.544 | Val acc: 20.813 %\n",
            "-------------------------------------------------------------------------------------------------------------------------------------------------------------------------------------\n",
            "Epoch: 2 / 10 | Reconst_loss: 15021.385 | Kldiv loss: 4979.260 | Classifcation loss: 2.257 | Constrast loss: 1237.36 | Total loss: 58743.834 | Train acc: 38.534 % ||| Val Loss: 48030.635 | Val acc: 47.668 %\n",
            "-------------------------------------------------------------------------------------------------------------------------------------------------------------------------------------\n",
            "Epoch: 3 / 10 | Reconst_loss: 15225.478 | Kldiv loss: 4747.732 | Classifcation loss: 2.153 | Constrast loss: 570.00 | Total loss: 45296.466 | Train acc: 52.132 % ||| Val Loss: 41275.848 | Val acc: 55.927 %\n",
            "-------------------------------------------------------------------------------------------------------------------------------------------------------------------------------------\n",
            "Epoch: 4 / 10 | Reconst_loss: 13378.354 | Kldiv loss: 4538.381 | Classifcation loss: 2.106 | Constrast loss: 546.32 | Total loss: 41136.083 | Train acc: 55.668 % ||| Val Loss: 39055.035 | Val acc: 57.170 %\n",
            "-------------------------------------------------------------------------------------------------------------------------------------------------------------------------------------\n",
            "Epoch: 5 / 10 | Reconst_loss: 13972.322 | Kldiv loss: 4068.764 | Classifcation loss: 2.149 | Constrast loss: 582.02 | Total loss: 39392.319 | Train acc: 56.446 % ||| Val Loss: 37180.973 | Val acc: 57.859 %\n",
            "-------------------------------------------------------------------------------------------------------------------------------------------------------------------------------------\n",
            "Epoch: 6 / 10 | Reconst_loss: 14166.746 | Kldiv loss: 3935.287 | Classifcation loss: 2.098 | Constrast loss: 484.21 | Total loss: 38655.378 | Train acc: 57.432 % ||| Val Loss: 37586.262 | Val acc: 58.911 %\n",
            "-------------------------------------------------------------------------------------------------------------------------------------------------------------------------------------\n",
            "Epoch: 7 / 10 | Reconst_loss: 14190.844 | Kldiv loss: 4466.995 | Classifcation loss: 2.086 | Constrast loss: 310.62 | Total loss: 40584.346 | Train acc: 57.801 % ||| Val Loss: 37240.338 | Val acc: 59.298 %\n",
            "-------------------------------------------------------------------------------------------------------------------------------------------------------------------------------------\n",
            "Epoch: 8 / 10 | Reconst_loss: 13090.064 | Kldiv loss: 4064.213 | Classifcation loss: 2.092 | Constrast loss: 324.54 | Total loss: 37897.060 | Train acc: 58.670 % ||| Val Loss: 35940.840 | Val acc: 59.895 %\n",
            "-------------------------------------------------------------------------------------------------------------------------------------------------------------------------------------\n",
            "Epoch: 9 / 10 | Reconst_loss: 14128.878 | Kldiv loss: 4823.224 | Classifcation loss: 2.170 | Constrast loss: 1290.69 | Total loss: 38916.185 | Train acc: 58.837 % ||| Val Loss: 43531.108 | Val acc: 53.438 %\n",
            "-------------------------------------------------------------------------------------------------------------------------------------------------------------------------------------\n"
          ]
        },
        {
          "metadata": {
            "tags": null
          },
          "name": "stderr",
          "output_type": "stream",
          "text": [
            "\u001b[32m[I 2023-03-17 20:47:03,551]\u001b[0m Trial 13 finished with value: 0.5849174743306785 and parameters: {'optuna_batch_size': 613, 'optimizer': 'Adam', 'lr': 0.009810323166536693, 'hidden_dim': 641, 'alpha': 2, 'beta': 4, 'gamma': 5, 'delta': 5}. Best is trial 4 with value: 0.7131958915654838.\u001b[0m\n"
          ]
        },
        {
          "metadata": {
            "tags": null
          },
          "name": "stdout",
          "output_type": "stream",
          "text": [
            "Epoch: 10 / 10 | Reconst_loss: 12517.950 | Kldiv loss: 4105.121 | Classifcation loss: 2.069 | Constrast loss: 430.61 | Total loss: 39740.532 | Train acc: 58.492 % ||| Val Loss: 37132.458 | Val acc: 59.226 %\n",
            "-------------------------------------------------------------------------------------------------------------------------------------------------------------------------------------\n",
            "Epoch: 1 / 10 | Reconst_loss: 510.526 | Kldiv loss: 121.672 | Classifcation loss: 2.336 | Constrast loss: 1.59 | Total loss: 29631.480 | Train acc: 28.778 % ||| Val Loss: 19442.580 | Val acc: 47.179 %\n",
            "-------------------------------------------------------------------------------------------------------------------------------------------------------------------------------------\n",
            "Epoch: 2 / 10 | Reconst_loss: 317.602 | Kldiv loss: 153.561 | Classifcation loss: 2.103 | Constrast loss: 0.00 | Total loss: 17643.684 | Train acc: 55.429 % ||| Val Loss: 17033.967 | Val acc: 58.903 %\n",
            "-------------------------------------------------------------------------------------------------------------------------------------------------------------------------------------\n",
            "Epoch: 3 / 10 | Reconst_loss: 383.443 | Kldiv loss: 114.773 | Classifcation loss: 1.965 | Constrast loss: 1.51 | Total loss: 16338.386 | Train acc: 63.508 % ||| Val Loss: 15684.036 | Val acc: 64.418 %\n",
            "-------------------------------------------------------------------------------------------------------------------------------------------------------------------------------------\n",
            "Epoch: 4 / 10 | Reconst_loss: 522.259 | Kldiv loss: 120.096 | Classifcation loss: 2.030 | Constrast loss: 0.00 | Total loss: 17260.512 | Train acc: 60.510 % ||| Val Loss: 16522.503 | Val acc: 59.256 %\n",
            "-------------------------------------------------------------------------------------------------------------------------------------------------------------------------------------\n",
            "Epoch: 5 / 10 | Reconst_loss: 461.135 | Kldiv loss: 110.317 | Classifcation loss: 2.085 | Constrast loss: 3.00 | Total loss: 15786.413 | Train acc: 62.796 % ||| Val Loss: 15655.361 | Val acc: 61.957 %\n",
            "-------------------------------------------------------------------------------------------------------------------------------------------------------------------------------------\n",
            "Epoch: 6 / 10 | Reconst_loss: 432.173 | Kldiv loss: 116.683 | Classifcation loss: 2.075 | Constrast loss: 0.00 | Total loss: 15630.269 | Train acc: 66.570 % ||| Val Loss: 15954.756 | Val acc: 66.367 %\n",
            "-------------------------------------------------------------------------------------------------------------------------------------------------------------------------------------\n",
            "Epoch: 7 / 10 | Reconst_loss: 291.470 | Kldiv loss: 123.237 | Classifcation loss: 2.023 | Constrast loss: 0.00 | Total loss: 15404.663 | Train acc: 65.436 % ||| Val Loss: 15396.399 | Val acc: 63.944 %\n",
            "-------------------------------------------------------------------------------------------------------------------------------------------------------------------------------------\n",
            "Epoch: 8 / 10 | Reconst_loss: 388.104 | Kldiv loss: 121.329 | Classifcation loss: 2.140 | Constrast loss: 0.00 | Total loss: 15108.092 | Train acc: 64.310 % ||| Val Loss: 17480.614 | Val acc: 59.432 %\n",
            "-------------------------------------------------------------------------------------------------------------------------------------------------------------------------------------\n",
            "Epoch: 9 / 10 | Reconst_loss: 557.177 | Kldiv loss: 133.781 | Classifcation loss: 2.137 | Constrast loss: 0.00 | Total loss: 15188.496 | Train acc: 64.131 % ||| Val Loss: 14949.041 | Val acc: 64.205 %\n",
            "-------------------------------------------------------------------------------------------------------------------------------------------------------------------------------------\n"
          ]
        },
        {
          "metadata": {
            "tags": null
          },
          "name": "stderr",
          "output_type": "stream",
          "text": [
            "\u001b[32m[I 2023-03-17 20:47:58,583]\u001b[0m Trial 14 finished with value: 0.6464695679495917 and parameters: {'optuna_batch_size': 263, 'optimizer': 'Adam', 'lr': 0.00763195092318385, 'hidden_dim': 313, 'alpha': 6, 'beta': 2, 'gamma': 4, 'delta': 2}. Best is trial 4 with value: 0.7131958915654838.\u001b[0m\n"
          ]
        },
        {
          "metadata": {
            "tags": null
          },
          "name": "stdout",
          "output_type": "stream",
          "text": [
            "Epoch: 10 / 10 | Reconst_loss: 560.913 | Kldiv loss: 82.854 | Classifcation loss: 2.280 | Constrast loss: 1.03 | Total loss: 14717.415 | Train acc: 64.647 % ||| Val Loss: 14835.154 | Val acc: 64.466 %\n",
            "-------------------------------------------------------------------------------------------------------------------------------------------------------------------------------------\n",
            "Epoch: 1 / 10 | Reconst_loss: 16881.816 | Kldiv loss: 18619.039 | Classifcation loss: 2.539 | Constrast loss: 12439.51 | Total loss: 823869.675 | Train acc: 10.103 % ||| Val Loss: 248355.776 | Val acc: 15.680 %\n",
            "-------------------------------------------------------------------------------------------------------------------------------------------------------------------------------------\n",
            "Epoch: 2 / 10 | Reconst_loss: 15679.363 | Kldiv loss: 6335.129 | Classifcation loss: 2.449 | Constrast loss: 1467.60 | Total loss: 117417.265 | Train acc: 22.041 % ||| Val Loss: 79312.224 | Val acc: 26.473 %\n",
            "-------------------------------------------------------------------------------------------------------------------------------------------------------------------------------------\n",
            "Epoch: 3 / 10 | Reconst_loss: 13657.386 | Kldiv loss: 5358.811 | Classifcation loss: 2.255 | Constrast loss: 1000.35 | Total loss: 73851.143 | Train acc: 36.176 % ||| Val Loss: 66154.255 | Val acc: 46.496 %\n",
            "-------------------------------------------------------------------------------------------------------------------------------------------------------------------------------------\n",
            "Epoch: 4 / 10 | Reconst_loss: 13469.403 | Kldiv loss: 4866.386 | Classifcation loss: 2.189 | Constrast loss: 744.98 | Total loss: 65262.648 | Train acc: 50.541 % ||| Val Loss: 59478.934 | Val acc: 53.995 %\n",
            "-------------------------------------------------------------------------------------------------------------------------------------------------------------------------------------\n",
            "Epoch: 5 / 10 | Reconst_loss: 10829.792 | Kldiv loss: 4553.745 | Classifcation loss: 2.098 | Constrast loss: 647.00 | Total loss: 59814.931 | Train acc: 56.457 % ||| Val Loss: 55287.443 | Val acc: 58.161 %\n",
            "-------------------------------------------------------------------------------------------------------------------------------------------------------------------------------------\n",
            "Epoch: 6 / 10 | Reconst_loss: 12275.739 | Kldiv loss: 3989.449 | Classifcation loss: 2.154 | Constrast loss: 704.71 | Total loss: 54970.287 | Train acc: 60.891 % ||| Val Loss: 52079.022 | Val acc: 61.075 %\n",
            "-------------------------------------------------------------------------------------------------------------------------------------------------------------------------------------\n",
            "Epoch: 7 / 10 | Reconst_loss: 11948.188 | Kldiv loss: 3912.521 | Classifcation loss: 2.104 | Constrast loss: 480.05 | Total loss: 52535.130 | Train acc: 64.705 % ||| Val Loss: 50391.590 | Val acc: 65.450 %\n",
            "-------------------------------------------------------------------------------------------------------------------------------------------------------------------------------------\n",
            "Epoch: 8 / 10 | Reconst_loss: 11685.780 | Kldiv loss: 4031.224 | Classifcation loss: 2.032 | Constrast loss: 398.55 | Total loss: 51509.139 | Train acc: 65.918 % ||| Val Loss: 48724.222 | Val acc: 65.771 %\n",
            "-------------------------------------------------------------------------------------------------------------------------------------------------------------------------------------\n",
            "Epoch: 9 / 10 | Reconst_loss: 10847.537 | Kldiv loss: 3805.016 | Classifcation loss: 2.058 | Constrast loss: 311.06 | Total loss: 53180.150 | Train acc: 64.637 % ||| Val Loss: 48385.801 | Val acc: 66.293 %\n",
            "-------------------------------------------------------------------------------------------------------------------------------------------------------------------------------------\n"
          ]
        },
        {
          "metadata": {
            "tags": null
          },
          "name": "stderr",
          "output_type": "stream",
          "text": [
            "\u001b[32m[I 2023-03-17 20:50:54,932]\u001b[0m Trial 15 finished with value: 0.6796266233766234 and parameters: {'optuna_batch_size': 748, 'optimizer': 'Adam', 'lr': 0.006779330171396156, 'hidden_dim': 986, 'alpha': 8, 'beta': 10, 'gamma': 6, 'delta': 6}. Best is trial 4 with value: 0.7131958915654838.\u001b[0m\n"
          ]
        },
        {
          "metadata": {
            "tags": null
          },
          "name": "stdout",
          "output_type": "stream",
          "text": [
            "Epoch: 10 / 10 | Reconst_loss: 10610.464 | Kldiv loss: 3613.569 | Classifcation loss: 2.036 | Constrast loss: 312.77 | Total loss: 47789.867 | Train acc: 67.963 % ||| Val Loss: 46969.689 | Val acc: 67.097 %\n",
            "-------------------------------------------------------------------------------------------------------------------------------------------------------------------------------------\n",
            "Epoch: 1 / 10 | Reconst_loss: 4821.580 | Kldiv loss: 1297.593 | Classifcation loss: 2.221 | Constrast loss: 199.52 | Total loss: 127298.180 | Train acc: 30.773 % ||| Val Loss: 18540.302 | Val acc: 52.510 %\n",
            "-------------------------------------------------------------------------------------------------------------------------------------------------------------------------------------\n",
            "Epoch: 2 / 10 | Reconst_loss: 4389.908 | Kldiv loss: 1230.997 | Classifcation loss: 2.093 | Constrast loss: 193.01 | Total loss: 17440.893 | Train acc: 60.328 % ||| Val Loss: 16537.755 | Val acc: 63.315 %\n",
            "-------------------------------------------------------------------------------------------------------------------------------------------------------------------------------------\n",
            "Epoch: 3 / 10 | Reconst_loss: 5017.797 | Kldiv loss: 1288.554 | Classifcation loss: 2.033 | Constrast loss: 130.81 | Total loss: 16386.271 | Train acc: 66.633 % ||| Val Loss: 16615.331 | Val acc: 65.530 %\n",
            "-------------------------------------------------------------------------------------------------------------------------------------------------------------------------------------\n",
            "Epoch: 4 / 10 | Reconst_loss: 4587.645 | Kldiv loss: 1222.401 | Classifcation loss: 2.000 | Constrast loss: 75.69 | Total loss: 15786.416 | Train acc: 69.224 % ||| Val Loss: 15543.728 | Val acc: 70.348 %\n",
            "-------------------------------------------------------------------------------------------------------------------------------------------------------------------------------------\n",
            "Epoch: 5 / 10 | Reconst_loss: 3849.347 | Kldiv loss: 1136.876 | Classifcation loss: 2.019 | Constrast loss: 171.05 | Total loss: 15369.149 | Train acc: 70.271 % ||| Val Loss: 15448.241 | Val acc: 68.162 %\n",
            "-------------------------------------------------------------------------------------------------------------------------------------------------------------------------------------\n",
            "Epoch: 6 / 10 | Reconst_loss: 4039.294 | Kldiv loss: 1120.122 | Classifcation loss: 1.999 | Constrast loss: 88.21 | Total loss: 15009.653 | Train acc: 71.752 % ||| Val Loss: 14825.941 | Val acc: 70.972 %\n",
            "-------------------------------------------------------------------------------------------------------------------------------------------------------------------------------------\n",
            "Epoch: 7 / 10 | Reconst_loss: 4565.694 | Kldiv loss: 1193.568 | Classifcation loss: 1.942 | Constrast loss: 61.49 | Total loss: 14810.389 | Train acc: 72.729 % ||| Val Loss: 14579.644 | Val acc: 73.313 %\n",
            "-------------------------------------------------------------------------------------------------------------------------------------------------------------------------------------\n",
            "Epoch: 8 / 10 | Reconst_loss: 4408.133 | Kldiv loss: 1097.647 | Classifcation loss: 1.905 | Constrast loss: 78.11 | Total loss: 14572.268 | Train acc: 73.991 % ||| Val Loss: 14260.654 | Val acc: 75.393 %\n",
            "-------------------------------------------------------------------------------------------------------------------------------------------------------------------------------------\n",
            "Epoch: 9 / 10 | Reconst_loss: 4279.004 | Kldiv loss: 1169.704 | Classifcation loss: 1.974 | Constrast loss: 87.12 | Total loss: 15052.207 | Train acc: 74.304 % ||| Val Loss: 14560.374 | Val acc: 74.943 %\n",
            "-------------------------------------------------------------------------------------------------------------------------------------------------------------------------------------\n"
          ]
        },
        {
          "metadata": {
            "tags": null
          },
          "name": "stderr",
          "output_type": "stream",
          "text": [
            "\u001b[32m[I 2023-03-17 20:53:01,092]\u001b[0m Trial 16 finished with value: 0.7411066411333622 and parameters: {'optuna_batch_size': 246, 'optimizer': 'Adam', 'lr': 0.008894821583893741, 'hidden_dim': 617, 'alpha': 5, 'beta': 1, 'gamma': 2, 'delta': 2}. Best is trial 16 with value: 0.7411066411333622.\u001b[0m\n"
          ]
        },
        {
          "metadata": {
            "tags": null
          },
          "name": "stdout",
          "output_type": "stream",
          "text": [
            "Epoch: 10 / 10 | Reconst_loss: 3603.847 | Kldiv loss: 1044.602 | Classifcation loss: 1.963 | Constrast loss: 111.95 | Total loss: 14911.963 | Train acc: 74.111 % ||| Val Loss: 14218.910 | Val acc: 75.813 %\n",
            "-------------------------------------------------------------------------------------------------------------------------------------------------------------------------------------\n",
            "Epoch: 1 / 10 | Reconst_loss: 2656.102 | Kldiv loss: 700.682 | Classifcation loss: 2.357 | Constrast loss: 89.13 | Total loss: 78401.350 | Train acc: 18.576 % ||| Val Loss: 38186.703 | Val acc: 30.591 %\n",
            "-------------------------------------------------------------------------------------------------------------------------------------------------------------------------------------\n",
            "Epoch: 2 / 10 | Reconst_loss: 2074.946 | Kldiv loss: 722.746 | Classifcation loss: 2.329 | Constrast loss: 24.97 | Total loss: 32755.359 | Train acc: 39.905 % ||| Val Loss: 28474.145 | Val acc: 45.960 %\n",
            "-------------------------------------------------------------------------------------------------------------------------------------------------------------------------------------\n",
            "Epoch: 3 / 10 | Reconst_loss: 2137.120 | Kldiv loss: 654.339 | Classifcation loss: 2.201 | Constrast loss: 21.77 | Total loss: 28218.773 | Train acc: 46.954 % ||| Val Loss: 26504.940 | Val acc: 49.238 %\n",
            "-------------------------------------------------------------------------------------------------------------------------------------------------------------------------------------\n",
            "Epoch: 4 / 10 | Reconst_loss: 2063.168 | Kldiv loss: 607.221 | Classifcation loss: 2.103 | Constrast loss: 19.08 | Total loss: 25517.389 | Train acc: 50.522 % ||| Val Loss: 25054.710 | Val acc: 51.699 %\n",
            "-------------------------------------------------------------------------------------------------------------------------------------------------------------------------------------\n",
            "Epoch: 5 / 10 | Reconst_loss: 2110.582 | Kldiv loss: 572.172 | Classifcation loss: 2.186 | Constrast loss: 18.55 | Total loss: 24590.407 | Train acc: 52.069 % ||| Val Loss: 24633.704 | Val acc: 51.365 %\n",
            "-------------------------------------------------------------------------------------------------------------------------------------------------------------------------------------\n",
            "Epoch: 6 / 10 | Reconst_loss: 1665.448 | Kldiv loss: 663.362 | Classifcation loss: 2.172 | Constrast loss: 8.04 | Total loss: 24123.985 | Train acc: 54.746 % ||| Val Loss: 23825.858 | Val acc: 56.138 %\n",
            "-------------------------------------------------------------------------------------------------------------------------------------------------------------------------------------\n",
            "Epoch: 7 / 10 | Reconst_loss: 2187.699 | Kldiv loss: 581.407 | Classifcation loss: 2.124 | Constrast loss: 28.79 | Total loss: 23814.509 | Train acc: 57.487 % ||| Val Loss: 23546.398 | Val acc: 56.071 %\n",
            "-------------------------------------------------------------------------------------------------------------------------------------------------------------------------------------\n",
            "Epoch: 8 / 10 | Reconst_loss: 2053.432 | Kldiv loss: 640.842 | Classifcation loss: 2.152 | Constrast loss: 9.53 | Total loss: 22971.396 | Train acc: 58.778 % ||| Val Loss: 23114.862 | Val acc: 58.617 %\n",
            "-------------------------------------------------------------------------------------------------------------------------------------------------------------------------------------\n",
            "Epoch: 9 / 10 | Reconst_loss: 1945.767 | Kldiv loss: 623.599 | Classifcation loss: 2.087 | Constrast loss: 17.47 | Total loss: 22967.319 | Train acc: 58.778 % ||| Val Loss: 26386.698 | Val acc: 59.109 %\n",
            "-------------------------------------------------------------------------------------------------------------------------------------------------------------------------------------\n"
          ]
        },
        {
          "metadata": {
            "tags": null
          },
          "name": "stderr",
          "output_type": "stream",
          "text": [
            "\u001b[32m[I 2023-03-17 20:53:28,327]\u001b[0m Trial 17 finished with value: 0.591686856953203 and parameters: {'optuna_batch_size': 400, 'optimizer': 'Adam', 'lr': 0.008947847458987484, 'hidden_dim': 161, 'alpha': 2, 'beta': 6, 'gamma': 0, 'delta': 2}. Best is trial 16 with value: 0.7411066411333622.\u001b[0m\n"
          ]
        },
        {
          "metadata": {
            "tags": null
          },
          "name": "stdout",
          "output_type": "stream",
          "text": [
            "Epoch: 10 / 10 | Reconst_loss: 1982.262 | Kldiv loss: 441.150 | Classifcation loss: 2.146 | Constrast loss: 39.75 | Total loss: 23195.344 | Train acc: 59.169 % ||| Val Loss: 23118.384 | Val acc: 59.052 %\n",
            "-------------------------------------------------------------------------------------------------------------------------------------------------------------------------------------\n",
            "Epoch: 1 / 10 | Reconst_loss: 3224.809 | Kldiv loss: 973.268 | Classifcation loss: 2.327 | Constrast loss: 101.71 | Total loss: 358862.035 | Train acc: 16.961 % ||| Val Loss: 27565.638 | Val acc: 34.249 %\n",
            "-------------------------------------------------------------------------------------------------------------------------------------------------------------------------------------\n",
            "Epoch: 2 / 10 | Reconst_loss: 3208.339 | Kldiv loss: 1059.566 | Classifcation loss: 2.149 | Constrast loss: 55.02 | Total loss: 24447.330 | Train acc: 44.987 % ||| Val Loss: 22686.104 | Val acc: 52.746 %\n",
            "-------------------------------------------------------------------------------------------------------------------------------------------------------------------------------------\n",
            "Epoch: 3 / 10 | Reconst_loss: 2883.967 | Kldiv loss: 812.125 | Classifcation loss: 2.180 | Constrast loss: 79.97 | Total loss: 21312.712 | Train acc: 53.548 % ||| Val Loss: 20695.214 | Val acc: 56.280 %\n",
            "-------------------------------------------------------------------------------------------------------------------------------------------------------------------------------------\n",
            "Epoch: 4 / 10 | Reconst_loss: 2836.658 | Kldiv loss: 771.955 | Classifcation loss: 2.101 | Constrast loss: 41.56 | Total loss: 19809.284 | Train acc: 57.630 % ||| Val Loss: 18920.812 | Val acc: 60.380 %\n",
            "-------------------------------------------------------------------------------------------------------------------------------------------------------------------------------------\n",
            "Epoch: 5 / 10 | Reconst_loss: 2668.763 | Kldiv loss: 803.397 | Classifcation loss: 2.093 | Constrast loss: 48.18 | Total loss: 19202.644 | Train acc: 60.253 % ||| Val Loss: 18881.905 | Val acc: 60.490 %\n",
            "-------------------------------------------------------------------------------------------------------------------------------------------------------------------------------------\n",
            "Epoch: 6 / 10 | Reconst_loss: 2470.699 | Kldiv loss: 817.186 | Classifcation loss: 2.057 | Constrast loss: 38.61 | Total loss: 18395.356 | Train acc: 62.052 % ||| Val Loss: 19000.139 | Val acc: 60.087 %\n",
            "-------------------------------------------------------------------------------------------------------------------------------------------------------------------------------------\n",
            "Epoch: 7 / 10 | Reconst_loss: 3197.927 | Kldiv loss: 678.635 | Classifcation loss: 2.150 | Constrast loss: 74.71 | Total loss: 18283.393 | Train acc: 62.073 % ||| Val Loss: 18178.489 | Val acc: 62.240 %\n",
            "-------------------------------------------------------------------------------------------------------------------------------------------------------------------------------------\n",
            "Epoch: 8 / 10 | Reconst_loss: 2470.844 | Kldiv loss: 701.615 | Classifcation loss: 2.080 | Constrast loss: 37.28 | Total loss: 17385.267 | Train acc: 62.575 % ||| Val Loss: 17165.151 | Val acc: 62.809 %\n",
            "-------------------------------------------------------------------------------------------------------------------------------------------------------------------------------------\n",
            "Epoch: 9 / 10 | Reconst_loss: 2668.295 | Kldiv loss: 837.811 | Classifcation loss: 2.058 | Constrast loss: 23.12 | Total loss: 17380.834 | Train acc: 62.757 % ||| Val Loss: 17161.934 | Val acc: 62.850 %\n",
            "-------------------------------------------------------------------------------------------------------------------------------------------------------------------------------------\n"
          ]
        },
        {
          "metadata": {
            "tags": null
          },
          "name": "stderr",
          "output_type": "stream",
          "text": [
            "\u001b[32m[I 2023-03-17 20:55:16,208]\u001b[0m Trial 18 finished with value: 0.6282105752052421 and parameters: {'optuna_batch_size': 292, 'optimizer': 'Adam', 'lr': 0.008909549555271486, 'hidden_dim': 608, 'alpha': 4, 'beta': 2, 'gamma': 2, 'delta': 5}. Best is trial 16 with value: 0.7411066411333622.\u001b[0m\n"
          ]
        },
        {
          "metadata": {
            "tags": null
          },
          "name": "stdout",
          "output_type": "stream",
          "text": [
            "Epoch: 10 / 10 | Reconst_loss: 2679.851 | Kldiv loss: 736.836 | Classifcation loss: 2.039 | Constrast loss: 21.12 | Total loss: 17156.921 | Train acc: 62.821 % ||| Val Loss: 16941.319 | Val acc: 64.442 %\n",
            "-------------------------------------------------------------------------------------------------------------------------------------------------------------------------------------\n",
            "Epoch: 1 / 10 | Reconst_loss: 11031.861 | Kldiv loss: 3511.842 | Classifcation loss: 2.321 | Constrast loss: 991.48 | Total loss: 86239.555 | Train acc: 17.896 % ||| Val Loss: 41412.238 | Val acc: 36.924 %\n",
            "-------------------------------------------------------------------------------------------------------------------------------------------------------------------------------------\n",
            "Epoch: 2 / 10 | Reconst_loss: 10670.720 | Kldiv loss: 3404.174 | Classifcation loss: 2.179 | Constrast loss: 523.81 | Total loss: 36859.255 | Train acc: 47.672 % ||| Val Loss: 34460.980 | Val acc: 59.412 %\n",
            "-------------------------------------------------------------------------------------------------------------------------------------------------------------------------------------\n",
            "Epoch: 3 / 10 | Reconst_loss: 9492.570 | Kldiv loss: 3046.707 | Classifcation loss: 2.057 | Constrast loss: 489.58 | Total loss: 33172.593 | Train acc: 64.100 % ||| Val Loss: 31384.462 | Val acc: 68.110 %\n",
            "-------------------------------------------------------------------------------------------------------------------------------------------------------------------------------------\n",
            "Epoch: 4 / 10 | Reconst_loss: 8793.548 | Kldiv loss: 3013.137 | Classifcation loss: 2.000 | Constrast loss: 335.55 | Total loss: 30896.526 | Train acc: 69.053 % ||| Val Loss: 30578.940 | Val acc: 69.141 %\n",
            "-------------------------------------------------------------------------------------------------------------------------------------------------------------------------------------\n",
            "Epoch: 5 / 10 | Reconst_loss: 9270.562 | Kldiv loss: 2660.604 | Classifcation loss: 2.027 | Constrast loss: 348.92 | Total loss: 30014.361 | Train acc: 69.877 % ||| Val Loss: 29909.939 | Val acc: 69.884 %\n",
            "-------------------------------------------------------------------------------------------------------------------------------------------------------------------------------------\n",
            "Epoch: 6 / 10 | Reconst_loss: 9753.006 | Kldiv loss: 2836.419 | Classifcation loss: 2.015 | Constrast loss: 362.19 | Total loss: 29256.287 | Train acc: 70.394 % ||| Val Loss: 29862.143 | Val acc: 71.433 %\n",
            "-------------------------------------------------------------------------------------------------------------------------------------------------------------------------------------\n",
            "Epoch: 7 / 10 | Reconst_loss: 10556.858 | Kldiv loss: 3027.618 | Classifcation loss: 2.027 | Constrast loss: 314.24 | Total loss: 30418.656 | Train acc: 68.972 % ||| Val Loss: 30138.670 | Val acc: 68.490 %\n",
            "-------------------------------------------------------------------------------------------------------------------------------------------------------------------------------------\n",
            "Epoch: 8 / 10 | Reconst_loss: 8117.717 | Kldiv loss: 2807.449 | Classifcation loss: 1.998 | Constrast loss: 244.30 | Total loss: 28654.912 | Train acc: 70.820 % ||| Val Loss: 28021.263 | Val acc: 70.622 %\n",
            "-------------------------------------------------------------------------------------------------------------------------------------------------------------------------------------\n",
            "Epoch: 9 / 10 | Reconst_loss: 8354.736 | Kldiv loss: 2957.051 | Classifcation loss: 2.005 | Constrast loss: 267.18 | Total loss: 28355.798 | Train acc: 71.089 % ||| Val Loss: 28841.681 | Val acc: 69.439 %\n",
            "-------------------------------------------------------------------------------------------------------------------------------------------------------------------------------------\n"
          ]
        },
        {
          "metadata": {
            "tags": null
          },
          "name": "stderr",
          "output_type": "stream",
          "text": [
            "\u001b[32m[I 2023-03-17 20:57:34,865]\u001b[0m Trial 19 finished with value: 0.7152878876670262 and parameters: {'optuna_batch_size': 483, 'optimizer': 'Adam', 'lr': 0.006629991845037763, 'hidden_dim': 804, 'alpha': 5, 'beta': 5, 'gamma': 2, 'delta': 1}. Best is trial 16 with value: 0.7411066411333622.\u001b[0m\n"
          ]
        },
        {
          "metadata": {
            "tags": null
          },
          "name": "stdout",
          "output_type": "stream",
          "text": [
            "Epoch: 10 / 10 | Reconst_loss: 7909.604 | Kldiv loss: 2763.609 | Classifcation loss: 1.993 | Constrast loss: 198.66 | Total loss: 27963.409 | Train acc: 71.529 % ||| Val Loss: 27873.744 | Val acc: 71.848 %\n",
            "-------------------------------------------------------------------------------------------------------------------------------------------------------------------------------------\n",
            "Epoch: 1 / 10 | Reconst_loss: 14024.646 | Kldiv loss: 4371.749 | Classifcation loss: 2.381 | Constrast loss: 417.87 | Total loss: 135158.863 | Train acc: 17.868 % ||| Val Loss: 67617.873 | Val acc: 31.128 %\n",
            "-------------------------------------------------------------------------------------------------------------------------------------------------------------------------------------\n",
            "Epoch: 2 / 10 | Reconst_loss: 8977.091 | Kldiv loss: 3369.518 | Classifcation loss: 2.160 | Constrast loss: 197.57 | Total loss: 58005.101 | Train acc: 46.473 % ||| Val Loss: 51679.788 | Val acc: 59.142 %\n",
            "-------------------------------------------------------------------------------------------------------------------------------------------------------------------------------------\n",
            "Epoch: 3 / 10 | Reconst_loss: 8610.089 | Kldiv loss: 2621.681 | Classifcation loss: 2.047 | Constrast loss: 244.76 | Total loss: 50362.107 | Train acc: 62.053 % ||| Val Loss: 45830.599 | Val acc: 66.185 %\n",
            "-------------------------------------------------------------------------------------------------------------------------------------------------------------------------------------\n",
            "Epoch: 4 / 10 | Reconst_loss: 8938.414 | Kldiv loss: 2639.580 | Classifcation loss: 2.013 | Constrast loss: 178.00 | Total loss: 45014.383 | Train acc: 68.457 % ||| Val Loss: 43697.692 | Val acc: 69.721 %\n",
            "-------------------------------------------------------------------------------------------------------------------------------------------------------------------------------------\n",
            "Epoch: 5 / 10 | Reconst_loss: 7359.558 | Kldiv loss: 2702.376 | Classifcation loss: 1.983 | Constrast loss: 108.74 | Total loss: 43883.761 | Train acc: 71.899 % ||| Val Loss: 42319.163 | Val acc: 74.146 %\n",
            "-------------------------------------------------------------------------------------------------------------------------------------------------------------------------------------\n",
            "Epoch: 6 / 10 | Reconst_loss: 7077.536 | Kldiv loss: 2455.237 | Classifcation loss: 2.001 | Constrast loss: 143.79 | Total loss: 41854.572 | Train acc: 74.652 % ||| Val Loss: 41962.908 | Val acc: 73.981 %\n",
            "-------------------------------------------------------------------------------------------------------------------------------------------------------------------------------------\n",
            "Epoch: 7 / 10 | Reconst_loss: 8728.907 | Kldiv loss: 2275.657 | Classifcation loss: 1.965 | Constrast loss: 322.94 | Total loss: 44290.302 | Train acc: 73.636 % ||| Val Loss: 42150.303 | Val acc: 75.812 %\n",
            "-------------------------------------------------------------------------------------------------------------------------------------------------------------------------------------\n",
            "Epoch: 8 / 10 | Reconst_loss: 7049.382 | Kldiv loss: 2299.798 | Classifcation loss: 1.928 | Constrast loss: 126.18 | Total loss: 40940.389 | Train acc: 76.072 % ||| Val Loss: 40393.264 | Val acc: 76.294 %\n",
            "-------------------------------------------------------------------------------------------------------------------------------------------------------------------------------------\n",
            "Epoch: 9 / 10 | Reconst_loss: 6749.399 | Kldiv loss: 2455.182 | Classifcation loss: 1.930 | Constrast loss: 114.33 | Total loss: 40000.043 | Train acc: 76.081 % ||| Val Loss: 39624.435 | Val acc: 76.761 %\n",
            "-------------------------------------------------------------------------------------------------------------------------------------------------------------------------------------\n"
          ]
        },
        {
          "metadata": {
            "tags": null
          },
          "name": "stderr",
          "output_type": "stream",
          "text": [
            "\u001b[32m[I 2023-03-17 20:59:47,250]\u001b[0m Trial 20 finished with value: 0.7762274237191191 and parameters: {'optuna_batch_size': 655, 'optimizer': 'Adam', 'lr': 0.006304065658914367, 'hidden_dim': 828, 'alpha': 6, 'beta': 1, 'gamma': 3, 'delta': 1}. Best is trial 20 with value: 0.7762274237191191.\u001b[0m\n"
          ]
        },
        {
          "metadata": {
            "tags": null
          },
          "name": "stdout",
          "output_type": "stream",
          "text": [
            "Epoch: 10 / 10 | Reconst_loss: 7243.665 | Kldiv loss: 2296.432 | Classifcation loss: 1.928 | Constrast loss: 96.01 | Total loss: 38119.853 | Train acc: 77.623 % ||| Val Loss: 39367.375 | Val acc: 76.238 %\n",
            "-------------------------------------------------------------------------------------------------------------------------------------------------------------------------------------\n",
            "Epoch: 1 / 10 | Reconst_loss: 11921.696 | Kldiv loss: 4874.347 | Classifcation loss: 2.441 | Constrast loss: 1011.85 | Total loss: 229649.494 | Train acc: 13.740 % ||| Val Loss: 81119.618 | Val acc: 22.273 %\n",
            "-------------------------------------------------------------------------------------------------------------------------------------------------------------------------------------\n",
            "Epoch: 2 / 10 | Reconst_loss: 9950.781 | Kldiv loss: 4110.833 | Classifcation loss: 2.271 | Constrast loss: 535.72 | Total loss: 69529.366 | Train acc: 34.558 % ||| Val Loss: 61493.952 | Val acc: 49.132 %\n",
            "-------------------------------------------------------------------------------------------------------------------------------------------------------------------------------------\n",
            "Epoch: 3 / 10 | Reconst_loss: 8699.253 | Kldiv loss: 3444.097 | Classifcation loss: 2.156 | Constrast loss: 394.59 | Total loss: 57033.997 | Train acc: 54.062 % ||| Val Loss: 54047.699 | Val acc: 60.238 %\n",
            "-------------------------------------------------------------------------------------------------------------------------------------------------------------------------------------\n",
            "Epoch: 4 / 10 | Reconst_loss: 8440.377 | Kldiv loss: 2901.095 | Classifcation loss: 2.073 | Constrast loss: 220.90 | Total loss: 51189.737 | Train acc: 61.400 % ||| Val Loss: 47795.492 | Val acc: 64.390 %\n",
            "-------------------------------------------------------------------------------------------------------------------------------------------------------------------------------------\n",
            "Epoch: 5 / 10 | Reconst_loss: 8445.651 | Kldiv loss: 2806.684 | Classifcation loss: 2.084 | Constrast loss: 295.98 | Total loss: 45759.454 | Train acc: 64.297 % ||| Val Loss: 45325.120 | Val acc: 65.013 %\n",
            "-------------------------------------------------------------------------------------------------------------------------------------------------------------------------------------\n",
            "Epoch: 6 / 10 | Reconst_loss: 7847.268 | Kldiv loss: 2690.827 | Classifcation loss: 2.029 | Constrast loss: 220.50 | Total loss: 43485.303 | Train acc: 65.132 % ||| Val Loss: 43223.501 | Val acc: 64.987 %\n",
            "-------------------------------------------------------------------------------------------------------------------------------------------------------------------------------------\n",
            "Epoch: 7 / 10 | Reconst_loss: 7366.354 | Kldiv loss: 2893.202 | Classifcation loss: 2.016 | Constrast loss: 104.27 | Total loss: 42533.903 | Train acc: 66.321 % ||| Val Loss: 44325.933 | Val acc: 66.175 %\n",
            "-------------------------------------------------------------------------------------------------------------------------------------------------------------------------------------\n",
            "Epoch: 8 / 10 | Reconst_loss: 8282.977 | Kldiv loss: 2645.281 | Classifcation loss: 2.048 | Constrast loss: 198.65 | Total loss: 41380.677 | Train acc: 67.985 % ||| Val Loss: 41589.922 | Val acc: 68.210 %\n",
            "-------------------------------------------------------------------------------------------------------------------------------------------------------------------------------------\n",
            "Epoch: 9 / 10 | Reconst_loss: 6719.714 | Kldiv loss: 2869.556 | Classifcation loss: 2.033 | Constrast loss: 100.59 | Total loss: 41535.021 | Train acc: 67.778 % ||| Val Loss: 41472.905 | Val acc: 68.372 %\n",
            "-------------------------------------------------------------------------------------------------------------------------------------------------------------------------------------\n"
          ]
        },
        {
          "metadata": {
            "tags": null
          },
          "name": "stderr",
          "output_type": "stream",
          "text": [
            "\u001b[32m[I 2023-03-17 21:02:01,107]\u001b[0m Trial 21 finished with value: 0.6819282816201134 and parameters: {'optuna_batch_size': 699, 'optimizer': 'Adam', 'lr': 0.006177903303109669, 'hidden_dim': 834, 'alpha': 6, 'beta': 1, 'gamma': 3, 'delta': 1}. Best is trial 20 with value: 0.7762274237191191.\u001b[0m\n"
          ]
        },
        {
          "metadata": {
            "tags": null
          },
          "name": "stdout",
          "output_type": "stream",
          "text": [
            "Epoch: 10 / 10 | Reconst_loss: 6889.009 | Kldiv loss: 2661.749 | Classifcation loss: 2.045 | Constrast loss: 52.41 | Total loss: 41642.355 | Train acc: 68.193 % ||| Val Loss: 41568.429 | Val acc: 68.290 %\n",
            "-------------------------------------------------------------------------------------------------------------------------------------------------------------------------------------\n",
            "Epoch: 1 / 10 | Reconst_loss: 12389.373 | Kldiv loss: 5502.340 | Classifcation loss: 2.427 | Constrast loss: 1136.65 | Total loss: 4336726123.775 | Train acc: 14.743 % ||| Val Loss: 58528.606 | Val acc: 29.225 %\n",
            "-------------------------------------------------------------------------------------------------------------------------------------------------------------------------------------\n",
            "Epoch: 2 / 10 | Reconst_loss: 11829.478 | Kldiv loss: 3903.603 | Classifcation loss: 2.290 | Constrast loss: 923.68 | Total loss: 54076.975 | Train acc: 37.001 % ||| Val Loss: 48105.185 | Val acc: 44.009 %\n",
            "-------------------------------------------------------------------------------------------------------------------------------------------------------------------------------------\n",
            "Epoch: 3 / 10 | Reconst_loss: 11935.103 | Kldiv loss: 2883.482 | Classifcation loss: 2.241 | Constrast loss: 689.07 | Total loss: 45233.028 | Train acc: 45.733 % ||| Val Loss: 43041.750 | Val acc: 44.888 %\n",
            "-------------------------------------------------------------------------------------------------------------------------------------------------------------------------------------\n",
            "Epoch: 4 / 10 | Reconst_loss: 10134.393 | Kldiv loss: 3129.840 | Classifcation loss: 2.241 | Constrast loss: 480.60 | Total loss: 41214.710 | Train acc: 47.933 % ||| Val Loss: 39285.451 | Val acc: 47.925 %\n",
            "-------------------------------------------------------------------------------------------------------------------------------------------------------------------------------------\n",
            "Epoch: 5 / 10 | Reconst_loss: 11118.111 | Kldiv loss: 3382.583 | Classifcation loss: 2.239 | Constrast loss: 471.46 | Total loss: 39596.270 | Train acc: 48.751 % ||| Val Loss: 42161.162 | Val acc: 46.511 %\n",
            "-------------------------------------------------------------------------------------------------------------------------------------------------------------------------------------\n",
            "Epoch: 6 / 10 | Reconst_loss: 9564.976 | Kldiv loss: 2867.936 | Classifcation loss: 2.177 | Constrast loss: 410.86 | Total loss: 38617.030 | Train acc: 48.743 % ||| Val Loss: 36941.626 | Val acc: 49.673 %\n",
            "-------------------------------------------------------------------------------------------------------------------------------------------------------------------------------------\n",
            "Epoch: 7 / 10 | Reconst_loss: 9732.663 | Kldiv loss: 3066.731 | Classifcation loss: 2.141 | Constrast loss: 361.75 | Total loss: 37186.210 | Train acc: 49.894 % ||| Val Loss: 36551.754 | Val acc: 52.553 %\n",
            "-------------------------------------------------------------------------------------------------------------------------------------------------------------------------------------\n",
            "Epoch: 8 / 10 | Reconst_loss: 9684.883 | Kldiv loss: 3234.893 | Classifcation loss: 2.091 | Constrast loss: 281.92 | Total loss: 36819.683 | Train acc: 53.767 % ||| Val Loss: 37331.184 | Val acc: 55.591 %\n",
            "-------------------------------------------------------------------------------------------------------------------------------------------------------------------------------------\n",
            "Epoch: 9 / 10 | Reconst_loss: 8861.294 | Kldiv loss: 2927.068 | Classifcation loss: 2.195 | Constrast loss: 386.09 | Total loss: 36521.321 | Train acc: 54.159 % ||| Val Loss: 35914.220 | Val acc: 55.129 %\n",
            "-------------------------------------------------------------------------------------------------------------------------------------------------------------------------------------\n"
          ]
        },
        {
          "metadata": {
            "tags": null
          },
          "name": "stderr",
          "output_type": "stream",
          "text": [
            "\u001b[32m[I 2023-03-17 21:04:22,176]\u001b[0m Trial 22 finished with value: 0.554317380680338 and parameters: {'optuna_batch_size': 507, 'optimizer': 'Adam', 'lr': 0.008517931858377207, 'hidden_dim': 796, 'alpha': 5, 'beta': 2, 'gamma': 1, 'delta': 1}. Best is trial 20 with value: 0.7762274237191191.\u001b[0m\n"
          ]
        },
        {
          "metadata": {
            "tags": null
          },
          "name": "stdout",
          "output_type": "stream",
          "text": [
            "Epoch: 10 / 10 | Reconst_loss: 8720.794 | Kldiv loss: 2879.548 | Classifcation loss: 2.134 | Constrast loss: 312.68 | Total loss: 35443.047 | Train acc: 55.432 % ||| Val Loss: 34927.162 | Val acc: 55.568 %\n",
            "-------------------------------------------------------------------------------------------------------------------------------------------------------------------------------------\n",
            "Epoch: 1 / 10 | Reconst_loss: 2597.462 | Kldiv loss: 2980.651 | Classifcation loss: 2.495 | Constrast loss: 195.11 | Total loss: 331105.793 | Train acc: 12.222 % ||| Val Loss: 218887.546 | Val acc: 19.669 %\n",
            "-------------------------------------------------------------------------------------------------------------------------------------------------------------------------------------\n",
            "Epoch: 2 / 10 | Reconst_loss: 2217.087 | Kldiv loss: 1403.626 | Classifcation loss: 2.415 | Constrast loss: 149.52 | Total loss: 193943.347 | Train acc: 23.267 % ||| Val Loss: 185801.499 | Val acc: 27.463 %\n",
            "-------------------------------------------------------------------------------------------------------------------------------------------------------------------------------------\n",
            "Epoch: 3 / 10 | Reconst_loss: 2475.066 | Kldiv loss: 1785.660 | Classifcation loss: 2.400 | Constrast loss: 149.99 | Total loss: 164566.711 | Train acc: 31.981 % ||| Val Loss: 173995.645 | Val acc: 36.323 %\n",
            "-------------------------------------------------------------------------------------------------------------------------------------------------------------------------------------\n",
            "Epoch: 4 / 10 | Reconst_loss: 2415.013 | Kldiv loss: 684.985 | Classifcation loss: 2.325 | Constrast loss: 27.47 | Total loss: 123550.978 | Train acc: 38.169 % ||| Val Loss: 91320.343 | Val acc: 32.386 %\n",
            "-------------------------------------------------------------------------------------------------------------------------------------------------------------------------------------\n",
            "Epoch: 5 / 10 | Reconst_loss: 1720.985 | Kldiv loss: 606.166 | Classifcation loss: 2.158 | Constrast loss: 3.19 | Total loss: 69378.379 | Train acc: 44.655 % ||| Val Loss: 69161.267 | Val acc: 44.400 %\n",
            "-------------------------------------------------------------------------------------------------------------------------------------------------------------------------------------\n",
            "Epoch: 6 / 10 | Reconst_loss: 1918.067 | Kldiv loss: 620.526 | Classifcation loss: 2.134 | Constrast loss: 9.81 | Total loss: 60054.411 | Train acc: 50.330 % ||| Val Loss: 56384.424 | Val acc: 52.868 %\n",
            "-------------------------------------------------------------------------------------------------------------------------------------------------------------------------------------\n",
            "Epoch: 7 / 10 | Reconst_loss: 1469.890 | Kldiv loss: 604.502 | Classifcation loss: 2.136 | Constrast loss: 4.60 | Total loss: 54663.592 | Train acc: 55.154 % ||| Val Loss: 56174.346 | Val acc: 53.831 %\n",
            "-------------------------------------------------------------------------------------------------------------------------------------------------------------------------------------\n",
            "Epoch: 8 / 10 | Reconst_loss: 1959.013 | Kldiv loss: 596.785 | Classifcation loss: 2.177 | Constrast loss: 4.96 | Total loss: 51859.839 | Train acc: 57.389 % ||| Val Loss: 51591.781 | Val acc: 57.478 %\n",
            "-------------------------------------------------------------------------------------------------------------------------------------------------------------------------------------\n",
            "Epoch: 9 / 10 | Reconst_loss: 1472.691 | Kldiv loss: 557.524 | Classifcation loss: 2.107 | Constrast loss: 3.61 | Total loss: 49278.567 | Train acc: 58.658 % ||| Val Loss: 52231.918 | Val acc: 57.921 %\n",
            "-------------------------------------------------------------------------------------------------------------------------------------------------------------------------------------\n"
          ]
        },
        {
          "metadata": {
            "tags": null
          },
          "name": "stderr",
          "output_type": "stream",
          "text": [
            "\u001b[32m[I 2023-03-17 21:05:48,583]\u001b[0m Trial 23 finished with value: 0.5855830254807239 and parameters: {'optuna_batch_size': 765, 'optimizer': 'Adam', 'lr': 0.006887139011573029, 'hidden_dim': 601, 'alpha': 7, 'beta': 1, 'gamma': 3, 'delta': 1}. Best is trial 20 with value: 0.7762274237191191.\u001b[0m\n"
          ]
        },
        {
          "metadata": {
            "tags": null
          },
          "name": "stdout",
          "output_type": "stream",
          "text": [
            "Epoch: 10 / 10 | Reconst_loss: 1684.929 | Kldiv loss: 493.456 | Classifcation loss: 2.140 | Constrast loss: 14.29 | Total loss: 50545.595 | Train acc: 58.558 % ||| Val Loss: 47961.198 | Val acc: 58.285 %\n",
            "-------------------------------------------------------------------------------------------------------------------------------------------------------------------------------------\n",
            "Epoch: 1 / 10 | Reconst_loss: 11114.791 | Kldiv loss: 3565.039 | Classifcation loss: 2.370 | Constrast loss: 606.07 | Total loss: 97710.626 | Train acc: 21.520 % ||| Val Loss: 41644.769 | Val acc: 37.126 %\n",
            "-------------------------------------------------------------------------------------------------------------------------------------------------------------------------------------\n",
            "Epoch: 2 / 10 | Reconst_loss: 9311.023 | Kldiv loss: 2868.521 | Classifcation loss: 2.194 | Constrast loss: 363.56 | Total loss: 36679.319 | Train acc: 47.134 % ||| Val Loss: 33147.762 | Val acc: 53.822 %\n",
            "-------------------------------------------------------------------------------------------------------------------------------------------------------------------------------------\n",
            "Epoch: 3 / 10 | Reconst_loss: 9159.695 | Kldiv loss: 2695.875 | Classifcation loss: 2.149 | Constrast loss: 306.88 | Total loss: 32661.119 | Train acc: 55.535 % ||| Val Loss: 33154.578 | Val acc: 56.995 %\n",
            "-------------------------------------------------------------------------------------------------------------------------------------------------------------------------------------\n",
            "Epoch: 4 / 10 | Reconst_loss: 9272.098 | Kldiv loss: 2496.368 | Classifcation loss: 2.149 | Constrast loss: 306.55 | Total loss: 30991.918 | Train acc: 57.559 % ||| Val Loss: 30611.289 | Val acc: 57.302 %\n",
            "-------------------------------------------------------------------------------------------------------------------------------------------------------------------------------------\n",
            "Epoch: 5 / 10 | Reconst_loss: 8493.280 | Kldiv loss: 2400.955 | Classifcation loss: 2.090 | Constrast loss: 336.87 | Total loss: 30853.872 | Train acc: 58.421 % ||| Val Loss: 29961.829 | Val acc: 59.231 %\n",
            "-------------------------------------------------------------------------------------------------------------------------------------------------------------------------------------\n",
            "Epoch: 6 / 10 | Reconst_loss: 8145.901 | Kldiv loss: 2434.777 | Classifcation loss: 2.085 | Constrast loss: 216.57 | Total loss: 29216.663 | Train acc: 59.722 % ||| Val Loss: 29531.770 | Val acc: 60.213 %\n",
            "-------------------------------------------------------------------------------------------------------------------------------------------------------------------------------------\n",
            "Epoch: 7 / 10 | Reconst_loss: 7896.752 | Kldiv loss: 2531.343 | Classifcation loss: 2.090 | Constrast loss: 159.48 | Total loss: 29796.661 | Train acc: 59.976 % ||| Val Loss: 30789.413 | Val acc: 60.446 %\n",
            "-------------------------------------------------------------------------------------------------------------------------------------------------------------------------------------\n",
            "Epoch: 8 / 10 | Reconst_loss: 7018.541 | Kldiv loss: 2512.535 | Classifcation loss: 2.092 | Constrast loss: 141.82 | Total loss: 28682.730 | Train acc: 60.444 % ||| Val Loss: 28655.490 | Val acc: 60.308 %\n",
            "-------------------------------------------------------------------------------------------------------------------------------------------------------------------------------------\n",
            "Epoch: 9 / 10 | Reconst_loss: 7913.419 | Kldiv loss: 2253.558 | Classifcation loss: 2.093 | Constrast loss: 172.44 | Total loss: 28625.630 | Train acc: 60.392 % ||| Val Loss: 27168.578 | Val acc: 61.043 %\n",
            "-------------------------------------------------------------------------------------------------------------------------------------------------------------------------------------\n"
          ]
        },
        {
          "metadata": {
            "tags": null
          },
          "name": "stderr",
          "output_type": "stream",
          "text": [
            "\u001b[32m[I 2023-03-17 21:08:10,920]\u001b[0m Trial 24 finished with value: 0.6097419510166561 and parameters: {'optuna_batch_size': 488, 'optimizer': 'Adam', 'lr': 0.009963447042286883, 'hidden_dim': 799, 'alpha': 5, 'beta': 4, 'gamma': 4, 'delta': 2}. Best is trial 20 with value: 0.7762274237191191.\u001b[0m\n"
          ]
        },
        {
          "metadata": {
            "tags": null
          },
          "name": "stdout",
          "output_type": "stream",
          "text": [
            "Epoch: 10 / 10 | Reconst_loss: 7553.656 | Kldiv loss: 2305.371 | Classifcation loss: 2.084 | Constrast loss: 147.13 | Total loss: 28363.571 | Train acc: 60.974 % ||| Val Loss: 28526.549 | Val acc: 59.269 %\n",
            "-------------------------------------------------------------------------------------------------------------------------------------------------------------------------------------\n",
            "Epoch: 1 / 10 | Reconst_loss: 3378.330 | Kldiv loss: 1104.950 | Classifcation loss: 2.420 | Constrast loss: 59.51 | Total loss: 291407.448 | Train acc: 13.705 % ||| Val Loss: 76060.200 | Val acc: 23.082 %\n",
            "-------------------------------------------------------------------------------------------------------------------------------------------------------------------------------------\n",
            "Epoch: 2 / 10 | Reconst_loss: 2572.422 | Kldiv loss: 1047.000 | Classifcation loss: 2.244 | Constrast loss: 43.22 | Total loss: 67951.359 | Train acc: 38.777 % ||| Val Loss: 63932.966 | Val acc: 43.949 %\n",
            "-------------------------------------------------------------------------------------------------------------------------------------------------------------------------------------\n",
            "Epoch: 3 / 10 | Reconst_loss: 2222.467 | Kldiv loss: 830.854 | Classifcation loss: 2.124 | Constrast loss: 17.72 | Total loss: 54785.265 | Train acc: 55.976 % ||| Val Loss: 50093.815 | Val acc: 59.711 %\n",
            "-------------------------------------------------------------------------------------------------------------------------------------------------------------------------------------\n",
            "Epoch: 4 / 10 | Reconst_loss: 1880.380 | Kldiv loss: 822.056 | Classifcation loss: 2.035 | Constrast loss: 29.67 | Total loss: 48335.475 | Train acc: 61.370 % ||| Val Loss: 53851.210 | Val acc: 61.362 %\n",
            "-------------------------------------------------------------------------------------------------------------------------------------------------------------------------------------\n",
            "Epoch: 5 / 10 | Reconst_loss: 1908.835 | Kldiv loss: 662.230 | Classifcation loss: 2.081 | Constrast loss: 19.15 | Total loss: 45728.739 | Train acc: 63.436 % ||| Val Loss: 44000.508 | Val acc: 64.240 %\n",
            "-------------------------------------------------------------------------------------------------------------------------------------------------------------------------------------\n",
            "Epoch: 6 / 10 | Reconst_loss: 2502.147 | Kldiv loss: 722.082 | Classifcation loss: 2.037 | Constrast loss: 9.51 | Total loss: 43396.837 | Train acc: 65.094 % ||| Val Loss: 43334.258 | Val acc: 65.375 %\n",
            "-------------------------------------------------------------------------------------------------------------------------------------------------------------------------------------\n",
            "Epoch: 7 / 10 | Reconst_loss: 1903.293 | Kldiv loss: 692.165 | Classifcation loss: 2.113 | Constrast loss: 7.05 | Total loss: 41946.026 | Train acc: 65.935 % ||| Val Loss: 41821.818 | Val acc: 66.951 %\n",
            "-------------------------------------------------------------------------------------------------------------------------------------------------------------------------------------\n",
            "Epoch: 8 / 10 | Reconst_loss: 1875.440 | Kldiv loss: 739.631 | Classifcation loss: 2.002 | Constrast loss: 6.45 | Total loss: 40489.628 | Train acc: 66.863 % ||| Val Loss: 42061.097 | Val acc: 66.455 %\n",
            "-------------------------------------------------------------------------------------------------------------------------------------------------------------------------------------\n",
            "Epoch: 9 / 10 | Reconst_loss: 1692.994 | Kldiv loss: 654.236 | Classifcation loss: 2.025 | Constrast loss: 5.67 | Total loss: 39764.569 | Train acc: 67.149 % ||| Val Loss: 39354.541 | Val acc: 67.249 %\n",
            "-------------------------------------------------------------------------------------------------------------------------------------------------------------------------------------\n"
          ]
        },
        {
          "metadata": {
            "tags": null
          },
          "name": "stderr",
          "output_type": "stream",
          "text": [
            "\u001b[32m[I 2023-03-17 21:09:50,360]\u001b[0m Trial 25 finished with value: 0.6714678558156821 and parameters: {'optuna_batch_size': 650, 'optimizer': 'Adam', 'lr': 0.008501984439690993, 'hidden_dim': 667, 'alpha': 7, 'beta': 1, 'gamma': 1, 'delta': 4}. Best is trial 20 with value: 0.7762274237191191.\u001b[0m\n"
          ]
        },
        {
          "metadata": {
            "tags": null
          },
          "name": "stdout",
          "output_type": "stream",
          "text": [
            "Epoch: 10 / 10 | Reconst_loss: 1887.987 | Kldiv loss: 694.826 | Classifcation loss: 2.068 | Constrast loss: 14.77 | Total loss: 38740.955 | Train acc: 67.147 % ||| Val Loss: 39935.326 | Val acc: 67.354 %\n",
            "-------------------------------------------------------------------------------------------------------------------------------------------------------------------------------------\n",
            "Epoch: 1 / 10 | Reconst_loss: 13536.307 | Kldiv loss: 28263.385 | Classifcation loss: 2.518 | Constrast loss: 7648.29 | Total loss: 3677588623035601837795311616.000 | Train acc: 11.409 % ||| Val Loss: 362170.446 | Val acc: 16.873 %\n",
            "-------------------------------------------------------------------------------------------------------------------------------------------------------------------------------------\n",
            "Epoch: 2 / 10 | Reconst_loss: 13912.479 | Kldiv loss: 23338.424 | Classifcation loss: 2.465 | Constrast loss: 7384.57 | Total loss: 343592.419 | Train acc: 19.180 % ||| Val Loss: 336556.108 | Val acc: 21.544 %\n",
            "-------------------------------------------------------------------------------------------------------------------------------------------------------------------------------------\n",
            "Epoch: 3 / 10 | Reconst_loss: 14236.358 | Kldiv loss: 12414.903 | Classifcation loss: 2.441 | Constrast loss: 8558.27 | Total loss: 324379.680 | Train acc: 22.511 % ||| Val Loss: 313646.545 | Val acc: 24.541 %\n",
            "-------------------------------------------------------------------------------------------------------------------------------------------------------------------------------------\n"
          ]
        },
        {
          "metadata": {
            "tags": null
          },
          "name": "stderr",
          "output_type": "stream",
          "text": [
            "\u001b[32m[I 2023-03-17 21:10:16,845]\u001b[0m Trial 26 pruned. \u001b[0m\n"
          ]
        },
        {
          "metadata": {
            "tags": null
          },
          "name": "stdout",
          "output_type": "stream",
          "text": [
            "Epoch: 4 / 10 | Reconst_loss: 14228.216 | Kldiv loss: 12698.021 | Classifcation loss: 2.457 | Constrast loss: 7623.72 | Total loss: 300753.255 | Train acc: 25.832 % ||| Val Loss: 307014.713 | Val acc: 24.215 %\n",
            "-------------------------------------------------------------------------------------------------------------------------------------------------------------------------------------\n",
            "Epoch: 1 / 10 | Reconst_loss: 17274.082 | Kldiv loss: 9865.734 | Classifcation loss: 2.474 | Constrast loss: 5490.09 | Total loss: 101871112750505.359 | Train acc: 11.474 % ||| Val Loss: 85637.799 | Val acc: 16.672 %\n",
            "-------------------------------------------------------------------------------------------------------------------------------------------------------------------------------------\n",
            "Epoch: 2 / 10 | Reconst_loss: 17949.840 | Kldiv loss: 10189.507 | Classifcation loss: 2.426 | Constrast loss: 2866.73 | Total loss: 77540.289 | Train acc: 25.025 % ||| Val Loss: 72858.496 | Val acc: 29.802 %\n",
            "-------------------------------------------------------------------------------------------------------------------------------------------------------------------------------------\n",
            "Epoch: 3 / 10 | Reconst_loss: 15575.182 | Kldiv loss: 8568.856 | Classifcation loss: 2.362 | Constrast loss: 2984.73 | Total loss: 69390.360 | Train acc: 31.838 % ||| Val Loss: 65829.969 | Val acc: 34.334 %\n",
            "-------------------------------------------------------------------------------------------------------------------------------------------------------------------------------------\n",
            "Epoch: 4 / 10 | Reconst_loss: 15261.041 | Kldiv loss: 6435.840 | Classifcation loss: 2.343 | Constrast loss: 3214.68 | Total loss: 64129.553 | Train acc: 35.934 % ||| Val Loss: 59467.378 | Val acc: 37.916 %\n",
            "-------------------------------------------------------------------------------------------------------------------------------------------------------------------------------------\n",
            "Epoch: 5 / 10 | Reconst_loss: 15043.266 | Kldiv loss: 5967.159 | Classifcation loss: 2.289 | Constrast loss: 1733.16 | Total loss: 55898.452 | Train acc: 40.624 % ||| Val Loss: 50748.483 | Val acc: 43.837 %\n",
            "-------------------------------------------------------------------------------------------------------------------------------------------------------------------------------------\n",
            "Epoch: 6 / 10 | Reconst_loss: 15277.105 | Kldiv loss: 5465.578 | Classifcation loss: 2.278 | Constrast loss: 1807.37 | Total loss: 51893.605 | Train acc: 44.588 % ||| Val Loss: 48900.720 | Val acc: 46.204 %\n",
            "-------------------------------------------------------------------------------------------------------------------------------------------------------------------------------------\n",
            "Epoch: 7 / 10 | Reconst_loss: 12977.161 | Kldiv loss: 5457.449 | Classifcation loss: 2.208 | Constrast loss: 1508.05 | Total loss: 48230.335 | Train acc: 47.443 % ||| Val Loss: 47282.835 | Val acc: 48.560 %\n",
            "-------------------------------------------------------------------------------------------------------------------------------------------------------------------------------------\n",
            "Epoch: 8 / 10 | Reconst_loss: 13353.559 | Kldiv loss: 6012.853 | Classifcation loss: 2.201 | Constrast loss: 1284.76 | Total loss: 46971.927 | Train acc: 50.793 % ||| Val Loss: 48067.009 | Val acc: 52.165 %\n",
            "-------------------------------------------------------------------------------------------------------------------------------------------------------------------------------------\n",
            "Epoch: 9 / 10 | Reconst_loss: 12029.615 | Kldiv loss: 5613.438 | Classifcation loss: 2.128 | Constrast loss: 1162.80 | Total loss: 45352.393 | Train acc: 53.727 % ||| Val Loss: 44299.187 | Val acc: 54.336 %\n",
            "-------------------------------------------------------------------------------------------------------------------------------------------------------------------------------------\n"
          ]
        },
        {
          "metadata": {
            "tags": null
          },
          "name": "stderr",
          "output_type": "stream",
          "text": [
            "\u001b[32m[I 2023-03-17 21:12:36,924]\u001b[0m Trial 27 finished with value: 0.5514527577922884 and parameters: {'optuna_batch_size': 579, 'optimizer': 'Adam', 'lr': 0.007241010190107531, 'hidden_dim': 828, 'alpha': 3, 'beta': 3, 'gamma': 5, 'delta': 2}. Best is trial 20 with value: 0.7762274237191191.\u001b[0m\n"
          ]
        },
        {
          "metadata": {
            "tags": null
          },
          "name": "stdout",
          "output_type": "stream",
          "text": [
            "Epoch: 10 / 10 | Reconst_loss: 13493.408 | Kldiv loss: 5561.354 | Classifcation loss: 2.140 | Constrast loss: 1371.30 | Total loss: 44441.750 | Train acc: 55.145 % ||| Val Loss: 44369.821 | Val acc: 54.992 %\n",
            "-------------------------------------------------------------------------------------------------------------------------------------------------------------------------------------\n",
            "Epoch: 1 / 10 | Reconst_loss: 5975.996 | Kldiv loss: 1662.396 | Classifcation loss: 2.245 | Constrast loss: 216.19 | Total loss: 53194.284 | Train acc: 23.425 % ||| Val Loss: 25180.292 | Val acc: 49.590 %\n",
            "-------------------------------------------------------------------------------------------------------------------------------------------------------------------------------------\n",
            "Epoch: 2 / 10 | Reconst_loss: 5437.261 | Kldiv loss: 1599.512 | Classifcation loss: 2.116 | Constrast loss: 180.04 | Total loss: 23729.256 | Train acc: 56.413 % ||| Val Loss: 22400.486 | Val acc: 61.061 %\n",
            "-------------------------------------------------------------------------------------------------------------------------------------------------------------------------------------\n",
            "Epoch: 3 / 10 | Reconst_loss: 5422.268 | Kldiv loss: 1615.865 | Classifcation loss: 2.059 | Constrast loss: 108.05 | Total loss: 21506.154 | Train acc: 64.573 % ||| Val Loss: 20549.741 | Val acc: 65.903 %\n",
            "-------------------------------------------------------------------------------------------------------------------------------------------------------------------------------------\n",
            "Epoch: 4 / 10 | Reconst_loss: 4581.940 | Kldiv loss: 1550.758 | Classifcation loss: 2.019 | Constrast loss: 121.04 | Total loss: 20672.068 | Train acc: 67.164 % ||| Val Loss: 20599.500 | Val acc: 67.585 %\n",
            "-------------------------------------------------------------------------------------------------------------------------------------------------------------------------------------\n",
            "Epoch: 5 / 10 | Reconst_loss: 4621.326 | Kldiv loss: 1392.896 | Classifcation loss: 1.980 | Constrast loss: 67.76 | Total loss: 20167.669 | Train acc: 68.686 % ||| Val Loss: 19855.938 | Val acc: 68.768 %\n",
            "-------------------------------------------------------------------------------------------------------------------------------------------------------------------------------------\n",
            "Epoch: 6 / 10 | Reconst_loss: 5225.039 | Kldiv loss: 1469.142 | Classifcation loss: 1.993 | Constrast loss: 94.82 | Total loss: 19864.391 | Train acc: 68.969 % ||| Val Loss: 19751.370 | Val acc: 69.465 %\n",
            "-------------------------------------------------------------------------------------------------------------------------------------------------------------------------------------\n",
            "Epoch: 7 / 10 | Reconst_loss: 4441.812 | Kldiv loss: 1395.478 | Classifcation loss: 1.991 | Constrast loss: 122.12 | Total loss: 19350.411 | Train acc: 70.034 % ||| Val Loss: 19772.258 | Val acc: 67.500 %\n",
            "-------------------------------------------------------------------------------------------------------------------------------------------------------------------------------------\n",
            "Epoch: 8 / 10 | Reconst_loss: 4156.454 | Kldiv loss: 1377.902 | Classifcation loss: 1.989 | Constrast loss: 52.72 | Total loss: 19608.634 | Train acc: 65.155 % ||| Val Loss: 19099.713 | Val acc: 65.468 %\n",
            "-------------------------------------------------------------------------------------------------------------------------------------------------------------------------------------\n",
            "Epoch: 9 / 10 | Reconst_loss: 4503.529 | Kldiv loss: 1425.920 | Classifcation loss: 2.073 | Constrast loss: 80.42 | Total loss: 19093.921 | Train acc: 64.779 % ||| Val Loss: 18545.432 | Val acc: 64.232 %\n",
            "-------------------------------------------------------------------------------------------------------------------------------------------------------------------------------------\n"
          ]
        },
        {
          "metadata": {
            "tags": null
          },
          "name": "stderr",
          "output_type": "stream",
          "text": [
            "\u001b[32m[I 2023-03-17 21:13:37,489]\u001b[0m Trial 28 finished with value: 0.6615901109706426 and parameters: {'optuna_batch_size': 339, 'optimizer': 'Adam', 'lr': 0.009289646592360591, 'hidden_dim': 390, 'alpha': 4, 'beta': 5, 'gamma': 3, 'delta': 4}. Best is trial 20 with value: 0.7762274237191191.\u001b[0m\n"
          ]
        },
        {
          "metadata": {
            "tags": null
          },
          "name": "stdout",
          "output_type": "stream",
          "text": [
            "Epoch: 10 / 10 | Reconst_loss: 4596.890 | Kldiv loss: 1472.256 | Classifcation loss: 2.048 | Constrast loss: 61.96 | Total loss: 18378.789 | Train acc: 66.159 % ||| Val Loss: 18638.563 | Val acc: 65.069 %\n",
            "-------------------------------------------------------------------------------------------------------------------------------------------------------------------------------------\n",
            "Epoch: 1 / 10 | Reconst_loss: 8360.021 | Kldiv loss: 2908.770 | Classifcation loss: 2.432 | Constrast loss: 574.25 | Total loss: 97723.772 | Train acc: 17.815 % ||| Val Loss: 43928.830 | Val acc: 32.555 %\n",
            "-------------------------------------------------------------------------------------------------------------------------------------------------------------------------------------\n",
            "Epoch: 2 / 10 | Reconst_loss: 7308.690 | Kldiv loss: 2277.752 | Classifcation loss: 2.268 | Constrast loss: 205.36 | Total loss: 37959.741 | Train acc: 37.524 % ||| Val Loss: 33454.233 | Val acc: 45.983 %\n",
            "-------------------------------------------------------------------------------------------------------------------------------------------------------------------------------------\n",
            "Epoch: 3 / 10 | Reconst_loss: 7154.873 | Kldiv loss: 2200.644 | Classifcation loss: 2.135 | Constrast loss: 195.73 | Total loss: 32439.096 | Train acc: 56.030 % ||| Val Loss: 31966.732 | Val acc: 61.834 %\n",
            "-------------------------------------------------------------------------------------------------------------------------------------------------------------------------------------\n",
            "Epoch: 4 / 10 | Reconst_loss: 6568.295 | Kldiv loss: 2057.553 | Classifcation loss: 2.090 | Constrast loss: 159.47 | Total loss: 30927.543 | Train acc: 63.615 % ||| Val Loss: 29962.279 | Val acc: 64.281 %\n",
            "-------------------------------------------------------------------------------------------------------------------------------------------------------------------------------------\n",
            "Epoch: 5 / 10 | Reconst_loss: 5973.757 | Kldiv loss: 2347.694 | Classifcation loss: 2.061 | Constrast loss: 154.11 | Total loss: 30099.036 | Train acc: 65.614 % ||| Val Loss: 30712.672 | Val acc: 65.938 %\n",
            "-------------------------------------------------------------------------------------------------------------------------------------------------------------------------------------\n",
            "Epoch: 6 / 10 | Reconst_loss: 6435.612 | Kldiv loss: 1965.240 | Classifcation loss: 2.045 | Constrast loss: 123.01 | Total loss: 28987.576 | Train acc: 66.735 % ||| Val Loss: 28504.631 | Val acc: 66.978 %\n",
            "-------------------------------------------------------------------------------------------------------------------------------------------------------------------------------------\n",
            "Epoch: 7 / 10 | Reconst_loss: 6613.680 | Kldiv loss: 2181.149 | Classifcation loss: 2.004 | Constrast loss: 69.62 | Total loss: 28551.863 | Train acc: 68.011 % ||| Val Loss: 28259.317 | Val acc: 69.591 %\n",
            "-------------------------------------------------------------------------------------------------------------------------------------------------------------------------------------\n",
            "Epoch: 8 / 10 | Reconst_loss: 6327.604 | Kldiv loss: 2062.541 | Classifcation loss: 2.020 | Constrast loss: 76.33 | Total loss: 27840.093 | Train acc: 69.729 % ||| Val Loss: 27294.351 | Val acc: 70.598 %\n",
            "-------------------------------------------------------------------------------------------------------------------------------------------------------------------------------------\n",
            "Epoch: 9 / 10 | Reconst_loss: 5915.385 | Kldiv loss: 2068.121 | Classifcation loss: 2.012 | Constrast loss: 65.94 | Total loss: 27077.802 | Train acc: 70.970 % ||| Val Loss: 26695.908 | Val acc: 71.478 %\n",
            "-------------------------------------------------------------------------------------------------------------------------------------------------------------------------------------\n"
          ]
        },
        {
          "metadata": {
            "tags": null
          },
          "name": "stderr",
          "output_type": "stream",
          "text": [
            "\u001b[32m[I 2023-03-17 21:15:08,807]\u001b[0m Trial 29 finished with value: 0.7161139907850439 and parameters: {'optuna_batch_size': 484, 'optimizer': 'Adam', 'lr': 0.004789353632867144, 'hidden_dim': 582, 'alpha': 5, 'beta': 1, 'gamma': 0, 'delta': 1}. Best is trial 20 with value: 0.7762274237191191.\u001b[0m\n"
          ]
        },
        {
          "metadata": {
            "tags": null
          },
          "name": "stdout",
          "output_type": "stream",
          "text": [
            "Epoch: 10 / 10 | Reconst_loss: 5659.241 | Kldiv loss: 2004.086 | Classifcation loss: 1.999 | Constrast loss: 101.76 | Total loss: 26891.035 | Train acc: 71.611 % ||| Val Loss: 26249.416 | Val acc: 72.433 %\n",
            "-------------------------------------------------------------------------------------------------------------------------------------------------------------------------------------\n",
            "Epoch: 1 / 10 | Reconst_loss: 10175.952 | Kldiv loss: 8235.138 | Classifcation loss: 2.555 | Constrast loss: 1584.07 | Total loss: 1729101.057 | Train acc: 8.953 % ||| Val Loss: 143153.941 | Val acc: 10.126 %\n",
            "-------------------------------------------------------------------------------------------------------------------------------------------------------------------------------------\n",
            "Epoch: 2 / 10 | Reconst_loss: 9062.025 | Kldiv loss: 3951.463 | Classifcation loss: 2.381 | Constrast loss: 659.40 | Total loss: 98191.293 | Train acc: 19.027 % ||| Val Loss: 82082.816 | Val acc: 28.430 %\n",
            "-------------------------------------------------------------------------------------------------------------------------------------------------------------------------------------\n",
            "Epoch: 3 / 10 | Reconst_loss: 7691.900 | Kldiv loss: 3633.663 | Classifcation loss: 2.324 | Constrast loss: 459.58 | Total loss: 77162.055 | Train acc: 32.177 % ||| Val Loss: 69855.125 | Val acc: 37.051 %\n",
            "-------------------------------------------------------------------------------------------------------------------------------------------------------------------------------------\n",
            "Epoch: 4 / 10 | Reconst_loss: 6252.795 | Kldiv loss: 2687.814 | Classifcation loss: 2.300 | Constrast loss: 398.67 | Total loss: 64941.917 | Train acc: 40.625 % ||| Val Loss: 60643.044 | Val acc: 44.635 %\n",
            "-------------------------------------------------------------------------------------------------------------------------------------------------------------------------------------\n",
            "Epoch: 5 / 10 | Reconst_loss: 6075.273 | Kldiv loss: 2912.546 | Classifcation loss: 2.156 | Constrast loss: 222.90 | Total loss: 58560.212 | Train acc: 49.698 % ||| Val Loss: 55352.656 | Val acc: 51.550 %\n",
            "-------------------------------------------------------------------------------------------------------------------------------------------------------------------------------------\n",
            "Epoch: 6 / 10 | Reconst_loss: 5874.398 | Kldiv loss: 2635.524 | Classifcation loss: 2.124 | Constrast loss: 214.21 | Total loss: 54242.187 | Train acc: 52.926 % ||| Val Loss: 55780.653 | Val acc: 52.299 %\n",
            "-------------------------------------------------------------------------------------------------------------------------------------------------------------------------------------\n",
            "Epoch: 7 / 10 | Reconst_loss: 6354.572 | Kldiv loss: 2855.495 | Classifcation loss: 2.099 | Constrast loss: 153.49 | Total loss: 52311.554 | Train acc: 55.668 % ||| Val Loss: 49909.561 | Val acc: 57.028 %\n",
            "-------------------------------------------------------------------------------------------------------------------------------------------------------------------------------------\n",
            "Epoch: 8 / 10 | Reconst_loss: 4892.613 | Kldiv loss: 2527.010 | Classifcation loss: 2.066 | Constrast loss: 177.18 | Total loss: 49820.840 | Train acc: 60.445 % ||| Val Loss: 49787.123 | Val acc: 62.259 %\n",
            "-------------------------------------------------------------------------------------------------------------------------------------------------------------------------------------\n",
            "Epoch: 9 / 10 | Reconst_loss: 5051.296 | Kldiv loss: 2160.586 | Classifcation loss: 2.091 | Constrast loss: 246.71 | Total loss: 48571.809 | Train acc: 64.370 % ||| Val Loss: 47334.136 | Val acc: 65.013 %\n",
            "-------------------------------------------------------------------------------------------------------------------------------------------------------------------------------------\n"
          ]
        },
        {
          "metadata": {
            "tags": null
          },
          "name": "stderr",
          "output_type": "stream",
          "text": [
            "\u001b[32m[I 2023-03-17 21:15:59,926]\u001b[0m Trial 30 finished with value: 0.6782173837892314 and parameters: {'optuna_batch_size': 682, 'optimizer': 'Adam', 'lr': 0.004684461645075697, 'hidden_dim': 421, 'alpha': 2, 'beta': 1, 'gamma': 0, 'delta': 10}. Best is trial 20 with value: 0.7762274237191191.\u001b[0m\n"
          ]
        },
        {
          "metadata": {
            "tags": null
          },
          "name": "stdout",
          "output_type": "stream",
          "text": [
            "Epoch: 10 / 10 | Reconst_loss: 5365.859 | Kldiv loss: 2467.537 | Classifcation loss: 2.043 | Constrast loss: 166.18 | Total loss: 46887.074 | Train acc: 67.822 % ||| Val Loss: 46202.458 | Val acc: 67.952 %\n",
            "-------------------------------------------------------------------------------------------------------------------------------------------------------------------------------------\n",
            "Epoch: 1 / 10 | Reconst_loss: 9111.969 | Kldiv loss: 3114.380 | Classifcation loss: 2.407 | Constrast loss: 506.60 | Total loss: 99597.022 | Train acc: 20.672 % ||| Val Loss: 51817.978 | Val acc: 34.684 %\n",
            "-------------------------------------------------------------------------------------------------------------------------------------------------------------------------------------\n",
            "Epoch: 2 / 10 | Reconst_loss: 6980.888 | Kldiv loss: 2395.055 | Classifcation loss: 2.238 | Constrast loss: 275.45 | Total loss: 42806.368 | Train acc: 43.123 % ||| Val Loss: 37971.859 | Val acc: 54.003 %\n",
            "-------------------------------------------------------------------------------------------------------------------------------------------------------------------------------------\n",
            "Epoch: 3 / 10 | Reconst_loss: 6567.050 | Kldiv loss: 2351.385 | Classifcation loss: 2.158 | Constrast loss: 251.87 | Total loss: 36931.899 | Train acc: 55.513 % ||| Val Loss: 35403.829 | Val acc: 56.870 %\n",
            "-------------------------------------------------------------------------------------------------------------------------------------------------------------------------------------\n",
            "Epoch: 4 / 10 | Reconst_loss: 6707.715 | Kldiv loss: 2292.703 | Classifcation loss: 2.143 | Constrast loss: 159.05 | Total loss: 33902.921 | Train acc: 57.894 % ||| Val Loss: 33924.327 | Val acc: 59.312 %\n",
            "-------------------------------------------------------------------------------------------------------------------------------------------------------------------------------------\n",
            "Epoch: 5 / 10 | Reconst_loss: 5846.357 | Kldiv loss: 1918.681 | Classifcation loss: 2.075 | Constrast loss: 83.56 | Total loss: 32664.434 | Train acc: 60.579 % ||| Val Loss: 32235.138 | Val acc: 60.235 %\n",
            "-------------------------------------------------------------------------------------------------------------------------------------------------------------------------------------\n",
            "Epoch: 6 / 10 | Reconst_loss: 5583.117 | Kldiv loss: 1868.622 | Classifcation loss: 2.072 | Constrast loss: 115.60 | Total loss: 31152.172 | Train acc: 62.022 % ||| Val Loss: 30789.246 | Val acc: 61.924 %\n",
            "-------------------------------------------------------------------------------------------------------------------------------------------------------------------------------------\n",
            "Epoch: 7 / 10 | Reconst_loss: 5880.408 | Kldiv loss: 1803.195 | Classifcation loss: 2.111 | Constrast loss: 110.27 | Total loss: 30626.973 | Train acc: 62.814 % ||| Val Loss: 33705.553 | Val acc: 56.769 %\n",
            "-------------------------------------------------------------------------------------------------------------------------------------------------------------------------------------\n",
            "Epoch: 8 / 10 | Reconst_loss: 5352.918 | Kldiv loss: 2058.060 | Classifcation loss: 2.077 | Constrast loss: 84.32 | Total loss: 31271.922 | Train acc: 61.901 % ||| Val Loss: 30146.779 | Val acc: 62.056 %\n",
            "-------------------------------------------------------------------------------------------------------------------------------------------------------------------------------------\n",
            "Epoch: 9 / 10 | Reconst_loss: 5072.465 | Kldiv loss: 1944.196 | Classifcation loss: 2.057 | Constrast loss: 111.37 | Total loss: 29342.619 | Train acc: 63.735 % ||| Val Loss: 30262.430 | Val acc: 63.185 %\n",
            "-------------------------------------------------------------------------------------------------------------------------------------------------------------------------------------\n"
          ]
        },
        {
          "metadata": {
            "tags": null
          },
          "name": "stderr",
          "output_type": "stream",
          "text": [
            "\u001b[32m[I 2023-03-17 21:17:21,715]\u001b[0m Trial 31 finished with value: 0.642824821559133 and parameters: {'optuna_batch_size': 513, 'optimizer': 'Adam', 'lr': 0.004572369926292859, 'hidden_dim': 564, 'alpha': 5, 'beta': 2, 'gamma': 0, 'delta': 0}. Best is trial 20 with value: 0.7762274237191191.\u001b[0m\n"
          ]
        },
        {
          "metadata": {
            "tags": null
          },
          "name": "stdout",
          "output_type": "stream",
          "text": [
            "Epoch: 10 / 10 | Reconst_loss: 5931.123 | Kldiv loss: 2013.255 | Classifcation loss: 2.064 | Constrast loss: 84.59 | Total loss: 28893.530 | Train acc: 64.282 % ||| Val Loss: 29078.584 | Val acc: 63.780 %\n",
            "-------------------------------------------------------------------------------------------------------------------------------------------------------------------------------------\n",
            "Epoch: 1 / 10 | Reconst_loss: 7512.997 | Kldiv loss: 2156.128 | Classifcation loss: 2.378 | Constrast loss: 345.13 | Total loss: 73428.680 | Train acc: 20.776 % ||| Val Loss: 36853.862 | Val acc: 34.037 %\n",
            "-------------------------------------------------------------------------------------------------------------------------------------------------------------------------------------\n",
            "Epoch: 2 / 10 | Reconst_loss: 6601.872 | Kldiv loss: 1874.792 | Classifcation loss: 2.201 | Constrast loss: 193.64 | Total loss: 34007.183 | Train acc: 46.053 % ||| Val Loss: 30194.760 | Val acc: 56.873 %\n",
            "-------------------------------------------------------------------------------------------------------------------------------------------------------------------------------------\n",
            "Epoch: 3 / 10 | Reconst_loss: 5741.771 | Kldiv loss: 1789.148 | Classifcation loss: 2.084 | Constrast loss: 149.37 | Total loss: 29787.876 | Train acc: 66.340 % ||| Val Loss: 27836.555 | Val acc: 69.315 %\n",
            "-------------------------------------------------------------------------------------------------------------------------------------------------------------------------------------\n",
            "Epoch: 4 / 10 | Reconst_loss: 6000.608 | Kldiv loss: 1563.597 | Classifcation loss: 2.031 | Constrast loss: 144.71 | Total loss: 27633.976 | Train acc: 69.703 % ||| Val Loss: 27065.738 | Val acc: 68.536 %\n",
            "-------------------------------------------------------------------------------------------------------------------------------------------------------------------------------------\n",
            "Epoch: 5 / 10 | Reconst_loss: 5695.734 | Kldiv loss: 1582.434 | Classifcation loss: 2.019 | Constrast loss: 122.42 | Total loss: 27918.559 | Train acc: 68.444 % ||| Val Loss: 26916.835 | Val acc: 71.320 %\n",
            "-------------------------------------------------------------------------------------------------------------------------------------------------------------------------------------\n",
            "Epoch: 6 / 10 | Reconst_loss: 5434.863 | Kldiv loss: 1782.853 | Classifcation loss: 2.043 | Constrast loss: 85.79 | Total loss: 26531.049 | Train acc: 70.436 % ||| Val Loss: 26092.110 | Val acc: 69.190 %\n",
            "-------------------------------------------------------------------------------------------------------------------------------------------------------------------------------------\n",
            "Epoch: 7 / 10 | Reconst_loss: 5541.967 | Kldiv loss: 1783.128 | Classifcation loss: 1.992 | Constrast loss: 107.56 | Total loss: 26192.794 | Train acc: 70.758 % ||| Val Loss: 26793.951 | Val acc: 70.500 %\n",
            "-------------------------------------------------------------------------------------------------------------------------------------------------------------------------------------\n",
            "Epoch: 8 / 10 | Reconst_loss: 5865.911 | Kldiv loss: 1709.898 | Classifcation loss: 2.024 | Constrast loss: 107.72 | Total loss: 25429.535 | Train acc: 71.987 % ||| Val Loss: 25360.221 | Val acc: 72.610 %\n",
            "-------------------------------------------------------------------------------------------------------------------------------------------------------------------------------------\n",
            "Epoch: 9 / 10 | Reconst_loss: 5833.569 | Kldiv loss: 1547.037 | Classifcation loss: 2.059 | Constrast loss: 158.76 | Total loss: 27096.005 | Train acc: 68.934 % ||| Val Loss: 26630.601 | Val acc: 69.423 %\n",
            "-------------------------------------------------------------------------------------------------------------------------------------------------------------------------------------\n"
          ]
        },
        {
          "metadata": {
            "tags": null
          },
          "name": "stderr",
          "output_type": "stream",
          "text": [
            "\u001b[32m[I 2023-03-17 21:19:45,945]\u001b[0m Trial 32 finished with value: 0.6889402684857229 and parameters: {'optuna_batch_size': 432, 'optimizer': 'Adam', 'lr': 0.005791644914298372, 'hidden_dim': 779, 'alpha': 5, 'beta': 0, 'gamma': 1, 'delta': 1}. Best is trial 20 with value: 0.7762274237191191.\u001b[0m\n"
          ]
        },
        {
          "metadata": {
            "tags": null
          },
          "name": "stdout",
          "output_type": "stream",
          "text": [
            "Epoch: 10 / 10 | Reconst_loss: 5778.741 | Kldiv loss: 1755.256 | Classifcation loss: 2.034 | Constrast loss: 116.52 | Total loss: 27048.815 | Train acc: 68.894 % ||| Val Loss: 28990.993 | Val acc: 68.840 %\n",
            "-------------------------------------------------------------------------------------------------------------------------------------------------------------------------------------\n",
            "Epoch: 1 / 10 | Reconst_loss: 10334.618 | Kldiv loss: 3664.792 | Classifcation loss: 2.342 | Constrast loss: 648.58 | Total loss: 79502.044 | Train acc: 20.818 % ||| Val Loss: 40994.348 | Val acc: 40.049 %\n",
            "-------------------------------------------------------------------------------------------------------------------------------------------------------------------------------------\n",
            "Epoch: 2 / 10 | Reconst_loss: 8630.885 | Kldiv loss: 2554.022 | Classifcation loss: 2.242 | Constrast loss: 511.96 | Total loss: 37240.171 | Train acc: 46.949 % ||| Val Loss: 33127.188 | Val acc: 53.983 %\n",
            "-------------------------------------------------------------------------------------------------------------------------------------------------------------------------------------\n",
            "Epoch: 3 / 10 | Reconst_loss: 7632.742 | Kldiv loss: 2677.920 | Classifcation loss: 2.159 | Constrast loss: 254.91 | Total loss: 32893.185 | Train acc: 57.729 % ||| Val Loss: 30916.940 | Val acc: 59.526 %\n",
            "-------------------------------------------------------------------------------------------------------------------------------------------------------------------------------------\n",
            "Epoch: 4 / 10 | Reconst_loss: 7585.941 | Kldiv loss: 2758.697 | Classifcation loss: 2.093 | Constrast loss: 237.97 | Total loss: 30572.280 | Train acc: 60.390 % ||| Val Loss: 29184.841 | Val acc: 61.102 %\n",
            "-------------------------------------------------------------------------------------------------------------------------------------------------------------------------------------\n",
            "Epoch: 5 / 10 | Reconst_loss: 7961.390 | Kldiv loss: 2208.370 | Classifcation loss: 2.099 | Constrast loss: 442.90 | Total loss: 29626.000 | Train acc: 61.518 % ||| Val Loss: 28279.692 | Val acc: 61.616 %\n",
            "-------------------------------------------------------------------------------------------------------------------------------------------------------------------------------------\n",
            "Epoch: 6 / 10 | Reconst_loss: 6964.246 | Kldiv loss: 2620.927 | Classifcation loss: 2.061 | Constrast loss: 168.74 | Total loss: 28313.754 | Train acc: 62.725 % ||| Val Loss: 28009.370 | Val acc: 62.887 %\n",
            "-------------------------------------------------------------------------------------------------------------------------------------------------------------------------------------\n",
            "Epoch: 7 / 10 | Reconst_loss: 7014.424 | Kldiv loss: 2205.456 | Classifcation loss: 2.044 | Constrast loss: 165.16 | Total loss: 27861.583 | Train acc: 63.518 % ||| Val Loss: 26945.516 | Val acc: 63.679 %\n",
            "-------------------------------------------------------------------------------------------------------------------------------------------------------------------------------------\n",
            "Epoch: 8 / 10 | Reconst_loss: 7348.514 | Kldiv loss: 2159.293 | Classifcation loss: 2.017 | Constrast loss: 157.35 | Total loss: 28259.227 | Train acc: 64.392 % ||| Val Loss: 26751.902 | Val acc: 65.957 %\n",
            "-------------------------------------------------------------------------------------------------------------------------------------------------------------------------------------\n",
            "Epoch: 9 / 10 | Reconst_loss: 7639.779 | Kldiv loss: 2247.563 | Classifcation loss: 2.062 | Constrast loss: 196.93 | Total loss: 26800.487 | Train acc: 66.292 % ||| Val Loss: 26661.906 | Val acc: 67.736 %\n",
            "-------------------------------------------------------------------------------------------------------------------------------------------------------------------------------------\n"
          ]
        },
        {
          "metadata": {
            "tags": null
          },
          "name": "stderr",
          "output_type": "stream",
          "text": [
            "\u001b[32m[I 2023-03-17 21:21:39,296]\u001b[0m Trial 33 finished with value: 0.7044185113233182 and parameters: {'optuna_batch_size': 454, 'optimizer': 'Adam', 'lr': 0.0054973363827889735, 'hidden_dim': 663, 'alpha': 6, 'beta': 1, 'gamma': 1, 'delta': 0}. Best is trial 20 with value: 0.7762274237191191.\u001b[0m\n"
          ]
        },
        {
          "metadata": {
            "tags": null
          },
          "name": "stdout",
          "output_type": "stream",
          "text": [
            "Epoch: 10 / 10 | Reconst_loss: 7644.938 | Kldiv loss: 2242.201 | Classifcation loss: 1.971 | Constrast loss: 97.23 | Total loss: 27015.260 | Train acc: 70.442 % ||| Val Loss: 26191.798 | Val acc: 72.267 %\n",
            "-------------------------------------------------------------------------------------------------------------------------------------------------------------------------------------\n",
            "Epoch: 1 / 10 | Reconst_loss: 17465.617 | Kldiv loss: 7515.987 | Classifcation loss: 2.456 | Constrast loss: 2675.56 | Total loss: 163232.399 | Train acc: 16.098 % ||| Val Loss: 65751.185 | Val acc: 25.403 %\n",
            "-------------------------------------------------------------------------------------------------------------------------------------------------------------------------------------\n",
            "Epoch: 2 / 10 | Reconst_loss: 13019.740 | Kldiv loss: 5280.457 | Classifcation loss: 2.320 | Constrast loss: 1030.23 | Total loss: 53029.761 | Train acc: 31.596 % ||| Val Loss: 43932.381 | Val acc: 45.340 %\n",
            "-------------------------------------------------------------------------------------------------------------------------------------------------------------------------------------\n",
            "Epoch: 3 / 10 | Reconst_loss: 12580.380 | Kldiv loss: 4346.071 | Classifcation loss: 2.217 | Constrast loss: 939.33 | Total loss: 43014.593 | Train acc: 48.834 % ||| Val Loss: 40298.282 | Val acc: 51.875 %\n",
            "-------------------------------------------------------------------------------------------------------------------------------------------------------------------------------------\n",
            "Epoch: 4 / 10 | Reconst_loss: 11843.520 | Kldiv loss: 3890.482 | Classifcation loss: 2.169 | Constrast loss: 756.07 | Total loss: 41278.722 | Train acc: 54.286 % ||| Val Loss: 38242.048 | Val acc: 58.151 %\n",
            "-------------------------------------------------------------------------------------------------------------------------------------------------------------------------------------\n",
            "Epoch: 5 / 10 | Reconst_loss: 12073.234 | Kldiv loss: 3930.063 | Classifcation loss: 2.145 | Constrast loss: 757.12 | Total loss: 39305.463 | Train acc: 58.015 % ||| Val Loss: 37051.243 | Val acc: 57.402 %\n",
            "-------------------------------------------------------------------------------------------------------------------------------------------------------------------------------------\n",
            "Epoch: 6 / 10 | Reconst_loss: 10966.906 | Kldiv loss: 4281.450 | Classifcation loss: 2.146 | Constrast loss: 714.50 | Total loss: 37827.682 | Train acc: 59.132 % ||| Val Loss: 36924.754 | Val acc: 59.343 %\n",
            "-------------------------------------------------------------------------------------------------------------------------------------------------------------------------------------\n",
            "Epoch: 7 / 10 | Reconst_loss: 10705.713 | Kldiv loss: 4150.884 | Classifcation loss: 2.102 | Constrast loss: 421.20 | Total loss: 37008.777 | Train acc: 60.126 % ||| Val Loss: 35797.009 | Val acc: 60.480 %\n",
            "-------------------------------------------------------------------------------------------------------------------------------------------------------------------------------------\n",
            "Epoch: 8 / 10 | Reconst_loss: 11582.699 | Kldiv loss: 4185.840 | Classifcation loss: 2.076 | Constrast loss: 490.82 | Total loss: 36749.190 | Train acc: 60.536 % ||| Val Loss: 35632.640 | Val acc: 60.973 %\n",
            "-------------------------------------------------------------------------------------------------------------------------------------------------------------------------------------\n",
            "Epoch: 9 / 10 | Reconst_loss: 11400.101 | Kldiv loss: 3954.223 | Classifcation loss: 2.095 | Constrast loss: 580.24 | Total loss: 35782.080 | Train acc: 61.241 % ||| Val Loss: 34341.811 | Val acc: 60.756 %\n",
            "-------------------------------------------------------------------------------------------------------------------------------------------------------------------------------------\n"
          ]
        },
        {
          "metadata": {
            "tags": null
          },
          "name": "stderr",
          "output_type": "stream",
          "text": [
            "\u001b[32m[I 2023-03-17 21:22:42,154]\u001b[0m Trial 34 finished with value: 0.6174871446581139 and parameters: {'optuna_batch_size': 573, 'optimizer': 'Adam', 'lr': 0.006604546816665384, 'hidden_dim': 463, 'alpha': 7, 'beta': 3, 'gamma': 2, 'delta': 2}. Best is trial 20 with value: 0.7762274237191191.\u001b[0m\n"
          ]
        },
        {
          "metadata": {
            "tags": null
          },
          "name": "stdout",
          "output_type": "stream",
          "text": [
            "Epoch: 10 / 10 | Reconst_loss: 11097.837 | Kldiv loss: 3859.720 | Classifcation loss: 2.067 | Constrast loss: 290.02 | Total loss: 35202.110 | Train acc: 61.749 % ||| Val Loss: 35028.569 | Val acc: 61.722 %\n",
            "-------------------------------------------------------------------------------------------------------------------------------------------------------------------------------------\n",
            "Epoch: 1 / 10 | Reconst_loss: 10623.799 | Kldiv loss: 5005.590 | Classifcation loss: 2.483 | Constrast loss: 2881.98 | Total loss: 1362634.046 | Train acc: 12.377 % ||| Val Loss: 51734.869 | Val acc: 18.881 %\n",
            "-------------------------------------------------------------------------------------------------------------------------------------------------------------------------------------\n",
            "Epoch: 2 / 10 | Reconst_loss: 8891.574 | Kldiv loss: 2485.466 | Classifcation loss: 2.371 | Constrast loss: 654.96 | Total loss: 35630.420 | Train acc: 27.182 % ||| Val Loss: 31141.232 | Val acc: 33.898 %\n",
            "-------------------------------------------------------------------------------------------------------------------------------------------------------------------------------------\n",
            "Epoch: 3 / 10 | Reconst_loss: 7692.943 | Kldiv loss: 2257.521 | Classifcation loss: 2.324 | Constrast loss: 604.85 | Total loss: 29134.805 | Train acc: 38.861 % ||| Val Loss: 27085.797 | Val acc: 42.448 %\n",
            "-------------------------------------------------------------------------------------------------------------------------------------------------------------------------------------\n",
            "Epoch: 4 / 10 | Reconst_loss: 8288.359 | Kldiv loss: 2290.138 | Classifcation loss: 2.217 | Constrast loss: 325.50 | Total loss: 25950.460 | Train acc: 44.485 % ||| Val Loss: 24758.068 | Val acc: 45.820 %\n",
            "-------------------------------------------------------------------------------------------------------------------------------------------------------------------------------------\n",
            "Epoch: 5 / 10 | Reconst_loss: 6304.210 | Kldiv loss: 1994.413 | Classifcation loss: 2.205 | Constrast loss: 317.52 | Total loss: 24057.576 | Train acc: 47.429 % ||| Val Loss: 23461.337 | Val acc: 47.462 %\n",
            "-------------------------------------------------------------------------------------------------------------------------------------------------------------------------------------\n",
            "Epoch: 6 / 10 | Reconst_loss: 7496.023 | Kldiv loss: 2253.064 | Classifcation loss: 2.175 | Constrast loss: 315.86 | Total loss: 22904.474 | Train acc: 48.968 % ||| Val Loss: 22937.810 | Val acc: 50.980 %\n",
            "-------------------------------------------------------------------------------------------------------------------------------------------------------------------------------------\n",
            "Epoch: 7 / 10 | Reconst_loss: 6206.075 | Kldiv loss: 1931.157 | Classifcation loss: 2.206 | Constrast loss: 385.65 | Total loss: 22538.516 | Train acc: 49.650 % ||| Val Loss: 21782.684 | Val acc: 50.807 %\n",
            "-------------------------------------------------------------------------------------------------------------------------------------------------------------------------------------\n",
            "Epoch: 8 / 10 | Reconst_loss: 6667.539 | Kldiv loss: 1913.688 | Classifcation loss: 2.131 | Constrast loss: 286.95 | Total loss: 21914.251 | Train acc: 51.136 % ||| Val Loss: 21332.447 | Val acc: 52.114 %\n",
            "-------------------------------------------------------------------------------------------------------------------------------------------------------------------------------------\n",
            "Epoch: 9 / 10 | Reconst_loss: 6086.770 | Kldiv loss: 2100.332 | Classifcation loss: 2.173 | Constrast loss: 272.09 | Total loss: 21408.108 | Train acc: 52.361 % ||| Val Loss: 21388.091 | Val acc: 53.676 %\n",
            "-------------------------------------------------------------------------------------------------------------------------------------------------------------------------------------\n"
          ]
        },
        {
          "metadata": {
            "tags": null
          },
          "name": "stderr",
          "output_type": "stream",
          "text": [
            "\u001b[32m[I 2023-03-17 21:26:18,601]\u001b[0m Trial 35 finished with value: 0.5333728406744797 and parameters: {'optuna_batch_size': 343, 'optimizer': 'Adam', 'lr': 0.006265807565210823, 'hidden_dim': 932, 'alpha': 4, 'beta': 9, 'gamma': 0, 'delta': 4}. Best is trial 20 with value: 0.7762274237191191.\u001b[0m\n"
          ]
        },
        {
          "metadata": {
            "tags": null
          },
          "name": "stdout",
          "output_type": "stream",
          "text": [
            "Epoch: 10 / 10 | Reconst_loss: 7068.225 | Kldiv loss: 2016.691 | Classifcation loss: 2.197 | Constrast loss: 224.52 | Total loss: 21082.691 | Train acc: 53.337 % ||| Val Loss: 20963.134 | Val acc: 54.067 %\n",
            "-------------------------------------------------------------------------------------------------------------------------------------------------------------------------------------\n",
            "Epoch: 1 / 10 | Reconst_loss: 2612.257 | Kldiv loss: 890.624 | Classifcation loss: 2.382 | Constrast loss: 114.12 | Total loss: 20003.538 | Train acc: 19.386 % ||| Val Loss: 12875.605 | Val acc: 39.300 %\n",
            "-------------------------------------------------------------------------------------------------------------------------------------------------------------------------------------\n",
            "Epoch: 2 / 10 | Reconst_loss: 3621.576 | Kldiv loss: 899.590 | Classifcation loss: 2.240 | Constrast loss: 91.00 | Total loss: 12220.874 | Train acc: 48.820 % ||| Val Loss: 11859.897 | Val acc: 59.001 %\n",
            "-------------------------------------------------------------------------------------------------------------------------------------------------------------------------------------\n",
            "Epoch: 3 / 10 | Reconst_loss: 2594.370 | Kldiv loss: 857.328 | Classifcation loss: 2.098 | Constrast loss: 70.23 | Total loss: 11599.438 | Train acc: 60.083 % ||| Val Loss: 11304.457 | Val acc: 61.956 %\n",
            "-------------------------------------------------------------------------------------------------------------------------------------------------------------------------------------\n",
            "Epoch: 4 / 10 | Reconst_loss: 2912.510 | Kldiv loss: 860.562 | Classifcation loss: 2.063 | Constrast loss: 73.78 | Total loss: 11076.088 | Train acc: 62.527 % ||| Val Loss: 11968.691 | Val acc: 60.410 %\n",
            "-------------------------------------------------------------------------------------------------------------------------------------------------------------------------------------\n",
            "Epoch: 5 / 10 | Reconst_loss: 2675.990 | Kldiv loss: 808.310 | Classifcation loss: 2.014 | Constrast loss: 81.39 | Total loss: 10929.148 | Train acc: 62.799 % ||| Val Loss: 10725.947 | Val acc: 64.267 %\n",
            "-------------------------------------------------------------------------------------------------------------------------------------------------------------------------------------\n",
            "Epoch: 6 / 10 | Reconst_loss: 2902.465 | Kldiv loss: 850.958 | Classifcation loss: 2.026 | Constrast loss: 49.93 | Total loss: 10628.409 | Train acc: 64.974 % ||| Val Loss: 10442.114 | Val acc: 64.974 %\n",
            "-------------------------------------------------------------------------------------------------------------------------------------------------------------------------------------\n",
            "Epoch: 7 / 10 | Reconst_loss: 2798.904 | Kldiv loss: 887.051 | Classifcation loss: 2.042 | Constrast loss: 30.95 | Total loss: 10378.436 | Train acc: 66.074 % ||| Val Loss: 10297.388 | Val acc: 66.252 %\n",
            "-------------------------------------------------------------------------------------------------------------------------------------------------------------------------------------\n",
            "Epoch: 8 / 10 | Reconst_loss: 2694.441 | Kldiv loss: 782.947 | Classifcation loss: 2.010 | Constrast loss: 47.07 | Total loss: 10306.670 | Train acc: 66.468 % ||| Val Loss: 10445.005 | Val acc: 67.075 %\n",
            "-------------------------------------------------------------------------------------------------------------------------------------------------------------------------------------\n",
            "Epoch: 9 / 10 | Reconst_loss: 2359.568 | Kldiv loss: 822.860 | Classifcation loss: 2.010 | Constrast loss: 37.65 | Total loss: 10268.355 | Train acc: 66.835 % ||| Val Loss: 10312.683 | Val acc: 65.563 %\n",
            "-------------------------------------------------------------------------------------------------------------------------------------------------------------------------------------\n"
          ]
        },
        {
          "metadata": {
            "tags": null
          },
          "name": "stderr",
          "output_type": "stream",
          "text": [
            "\u001b[32m[I 2023-03-17 21:28:28,067]\u001b[0m Trial 36 finished with value: 0.6708799427946779 and parameters: {'optuna_batch_size': 191, 'optimizer': 'Adam', 'lr': 0.004719274399736226, 'hidden_dim': 572, 'alpha': 3, 'beta': 0, 'gamma': 1, 'delta': 1}. Best is trial 20 with value: 0.7762274237191191.\u001b[0m\n"
          ]
        },
        {
          "metadata": {
            "tags": null
          },
          "name": "stdout",
          "output_type": "stream",
          "text": [
            "Epoch: 10 / 10 | Reconst_loss: 2837.310 | Kldiv loss: 916.224 | Classifcation loss: 2.071 | Constrast loss: 18.46 | Total loss: 10130.709 | Train acc: 67.088 % ||| Val Loss: 9993.368 | Val acc: 67.267 %\n",
            "-------------------------------------------------------------------------------------------------------------------------------------------------------------------------------------\n",
            "Epoch: 1 / 10 | Reconst_loss: nan | Kldiv loss: nan | Classifcation loss: nan | Constrast loss: nan | Total loss: nan | Train acc: 0.086 % ||| Val Loss: nan | Val acc: 0.000 %\n",
            "-------------------------------------------------------------------------------------------------------------------------------------------------------------------------------------\n",
            "Epoch: 2 / 10 | Reconst_loss: nan | Kldiv loss: nan | Classifcation loss: nan | Constrast loss: nan | Total loss: nan | Train acc: 0.000 % ||| Val Loss: nan | Val acc: 0.000 %\n",
            "-------------------------------------------------------------------------------------------------------------------------------------------------------------------------------------\n",
            "Epoch: 3 / 10 | Reconst_loss: nan | Kldiv loss: nan | Classifcation loss: nan | Constrast loss: nan | Total loss: nan | Train acc: 0.000 % ||| Val Loss: nan | Val acc: 0.000 %\n",
            "-------------------------------------------------------------------------------------------------------------------------------------------------------------------------------------\n"
          ]
        },
        {
          "metadata": {
            "tags": null
          },
          "name": "stderr",
          "output_type": "stream",
          "text": [
            "\u001b[32m[I 2023-03-17 21:29:40,919]\u001b[0m Trial 37 pruned. \u001b[0m\n"
          ]
        },
        {
          "metadata": {
            "tags": null
          },
          "name": "stdout",
          "output_type": "stream",
          "text": [
            "Epoch: 4 / 10 | Reconst_loss: nan | Kldiv loss: nan | Classifcation loss: nan | Constrast loss: nan | Total loss: nan | Train acc: 0.000 % ||| Val Loss: nan | Val acc: 0.000 %\n",
            "-------------------------------------------------------------------------------------------------------------------------------------------------------------------------------------\n",
            "Epoch: 1 / 10 | Reconst_loss: 11905.440 | Kldiv loss: 3412.255 | Classifcation loss: 2.363 | Constrast loss: 751.66 | Total loss: 97735.675 | Train acc: 21.809 % ||| Val Loss: 47155.311 | Val acc: 35.522 %\n",
            "-------------------------------------------------------------------------------------------------------------------------------------------------------------------------------------\n",
            "Epoch: 2 / 10 | Reconst_loss: 8300.479 | Kldiv loss: 3152.853 | Classifcation loss: 2.256 | Constrast loss: 488.25 | Total loss: 43369.741 | Train acc: 46.759 % ||| Val Loss: 37240.903 | Val acc: 54.779 %\n",
            "-------------------------------------------------------------------------------------------------------------------------------------------------------------------------------------\n",
            "Epoch: 3 / 10 | Reconst_loss: 10081.593 | Kldiv loss: 2828.270 | Classifcation loss: 2.119 | Constrast loss: 337.05 | Total loss: 37540.326 | Train acc: 57.303 % ||| Val Loss: 34663.199 | Val acc: 59.883 %\n",
            "-------------------------------------------------------------------------------------------------------------------------------------------------------------------------------------\n",
            "Epoch: 4 / 10 | Reconst_loss: 7332.594 | Kldiv loss: 2694.813 | Classifcation loss: 2.095 | Constrast loss: 298.16 | Total loss: 34150.266 | Train acc: 60.990 % ||| Val Loss: 32417.474 | Val acc: 61.154 %\n",
            "-------------------------------------------------------------------------------------------------------------------------------------------------------------------------------------\n",
            "Epoch: 5 / 10 | Reconst_loss: 7902.653 | Kldiv loss: 2328.552 | Classifcation loss: 2.057 | Constrast loss: 183.65 | Total loss: 33074.453 | Train acc: 62.389 % ||| Val Loss: 31727.743 | Val acc: 62.689 %\n",
            "-------------------------------------------------------------------------------------------------------------------------------------------------------------------------------------\n",
            "Epoch: 6 / 10 | Reconst_loss: 9410.441 | Kldiv loss: 2559.791 | Classifcation loss: 2.071 | Constrast loss: 176.72 | Total loss: 32043.936 | Train acc: 63.355 % ||| Val Loss: 31896.044 | Val acc: 63.847 %\n",
            "-------------------------------------------------------------------------------------------------------------------------------------------------------------------------------------\n",
            "Epoch: 7 / 10 | Reconst_loss: 8843.643 | Kldiv loss: 2770.681 | Classifcation loss: 2.059 | Constrast loss: 256.40 | Total loss: 32760.212 | Train acc: 62.536 % ||| Val Loss: 32632.584 | Val acc: 63.172 %\n",
            "-------------------------------------------------------------------------------------------------------------------------------------------------------------------------------------\n",
            "Epoch: 8 / 10 | Reconst_loss: 8143.187 | Kldiv loss: 2599.428 | Classifcation loss: 2.044 | Constrast loss: 147.20 | Total loss: 35157.820 | Train acc: 57.923 % ||| Val Loss: 31996.346 | Val acc: 62.388 %\n",
            "-------------------------------------------------------------------------------------------------------------------------------------------------------------------------------------\n",
            "Epoch: 9 / 10 | Reconst_loss: 6896.975 | Kldiv loss: 2411.273 | Classifcation loss: 2.092 | Constrast loss: 239.50 | Total loss: 32177.494 | Train acc: 63.096 % ||| Val Loss: 31693.998 | Val acc: 63.802 %\n",
            "-------------------------------------------------------------------------------------------------------------------------------------------------------------------------------------\n"
          ]
        },
        {
          "metadata": {
            "tags": null
          },
          "name": "stderr",
          "output_type": "stream",
          "text": [
            "\u001b[32m[I 2023-03-17 21:31:39,471]\u001b[0m Trial 38 finished with value: 0.6075473667727957 and parameters: {'optuna_batch_size': 533, 'optimizer': 'Adam', 'lr': 0.008134430027277572, 'hidden_dim': 717, 'alpha': 7, 'beta': 5, 'gamma': 4, 'delta': 2}. Best is trial 20 with value: 0.7762274237191191.\u001b[0m\n"
          ]
        },
        {
          "metadata": {
            "tags": null
          },
          "name": "stdout",
          "output_type": "stream",
          "text": [
            "Epoch: 10 / 10 | Reconst_loss: 8022.385 | Kldiv loss: 2814.858 | Classifcation loss: 2.154 | Constrast loss: 375.82 | Total loss: 32790.476 | Train acc: 60.755 % ||| Val Loss: 32961.848 | Val acc: 52.948 %\n",
            "-------------------------------------------------------------------------------------------------------------------------------------------------------------------------------------\n",
            "Epoch: 1 / 10 | Reconst_loss: 9179.949 | Kldiv loss: 4866.951 | Classifcation loss: 2.522 | Constrast loss: 588.16 | Total loss: 476075170.560 | Train acc: 11.165 % ||| Val Loss: 98403.952 | Val acc: 18.440 %\n",
            "-------------------------------------------------------------------------------------------------------------------------------------------------------------------------------------\n",
            "Epoch: 2 / 10 | Reconst_loss: 8081.244 | Kldiv loss: 3222.105 | Classifcation loss: 2.440 | Constrast loss: 416.07 | Total loss: 86661.562 | Train acc: 24.807 % ||| Val Loss: 78384.108 | Val acc: 30.453 %\n",
            "-------------------------------------------------------------------------------------------------------------------------------------------------------------------------------------\n",
            "Epoch: 3 / 10 | Reconst_loss: 8305.899 | Kldiv loss: 3029.681 | Classifcation loss: 2.271 | Constrast loss: 276.00 | Total loss: 72512.507 | Train acc: 37.505 % ||| Val Loss: 65888.798 | Val acc: 42.616 %\n",
            "-------------------------------------------------------------------------------------------------------------------------------------------------------------------------------------\n",
            "Epoch: 4 / 10 | Reconst_loss: 6338.947 | Kldiv loss: 2695.597 | Classifcation loss: 2.242 | Constrast loss: 248.48 | Total loss: 64872.525 | Train acc: 44.235 % ||| Val Loss: 61123.239 | Val acc: 45.948 %\n",
            "-------------------------------------------------------------------------------------------------------------------------------------------------------------------------------------\n",
            "Epoch: 5 / 10 | Reconst_loss: 5974.120 | Kldiv loss: 2574.194 | Classifcation loss: 2.250 | Constrast loss: 214.67 | Total loss: 60032.939 | Train acc: 48.797 % ||| Val Loss: 57220.795 | Val acc: 50.235 %\n",
            "-------------------------------------------------------------------------------------------------------------------------------------------------------------------------------------\n",
            "Epoch: 6 / 10 | Reconst_loss: 6407.392 | Kldiv loss: 2525.113 | Classifcation loss: 2.205 | Constrast loss: 189.36 | Total loss: 57797.526 | Train acc: 51.544 % ||| Val Loss: 59180.750 | Val acc: 50.875 %\n",
            "-------------------------------------------------------------------------------------------------------------------------------------------------------------------------------------\n",
            "Epoch: 7 / 10 | Reconst_loss: 5905.887 | Kldiv loss: 2471.207 | Classifcation loss: 2.192 | Constrast loss: 247.03 | Total loss: 55779.949 | Train acc: 52.815 % ||| Val Loss: 52953.696 | Val acc: 53.552 %\n",
            "-------------------------------------------------------------------------------------------------------------------------------------------------------------------------------------\n",
            "Epoch: 8 / 10 | Reconst_loss: 6332.491 | Kldiv loss: 2477.541 | Classifcation loss: 2.201 | Constrast loss: 135.61 | Total loss: 54344.869 | Train acc: 53.481 % ||| Val Loss: 51632.177 | Val acc: 53.762 %\n",
            "-------------------------------------------------------------------------------------------------------------------------------------------------------------------------------------\n",
            "Epoch: 9 / 10 | Reconst_loss: 5598.384 | Kldiv loss: 2350.157 | Classifcation loss: 2.164 | Constrast loss: 205.61 | Total loss: 52828.235 | Train acc: 54.303 % ||| Val Loss: 51684.221 | Val acc: 53.504 %\n",
            "-------------------------------------------------------------------------------------------------------------------------------------------------------------------------------------\n"
          ]
        },
        {
          "metadata": {
            "tags": null
          },
          "name": "stderr",
          "output_type": "stream",
          "text": [
            "\u001b[32m[I 2023-03-17 21:34:03,801]\u001b[0m Trial 39 finished with value: 0.5456656082488305 and parameters: {'optuna_batch_size': 751, 'optimizer': 'Adam', 'lr': 0.007101577302070467, 'hidden_dim': 876, 'alpha': 4, 'beta': 0, 'gamma': 2, 'delta': 1}. Best is trial 20 with value: 0.7762274237191191.\u001b[0m\n"
          ]
        },
        {
          "metadata": {
            "tags": null
          },
          "name": "stdout",
          "output_type": "stream",
          "text": [
            "Epoch: 10 / 10 | Reconst_loss: 6077.949 | Kldiv loss: 2314.562 | Classifcation loss: 2.136 | Constrast loss: 143.27 | Total loss: 52185.818 | Train acc: 54.567 % ||| Val Loss: 55252.178 | Val acc: 53.837 %\n",
            "-------------------------------------------------------------------------------------------------------------------------------------------------------------------------------------\n",
            "Epoch: 1 / 10 | Reconst_loss: 12382.897 | Kldiv loss: 5523.869 | Classifcation loss: 2.413 | Constrast loss: 1036.92 | Total loss: 69012687.130 | Train acc: 19.566 % ||| Val Loss: 52848.829 | Val acc: 29.762 %\n",
            "-------------------------------------------------------------------------------------------------------------------------------------------------------------------------------------\n",
            "Epoch: 2 / 10 | Reconst_loss: 11377.817 | Kldiv loss: 3630.498 | Classifcation loss: 2.311 | Constrast loss: 1086.50 | Total loss: 50118.402 | Train acc: 36.424 % ||| Val Loss: 44644.504 | Val acc: 42.308 %\n",
            "-------------------------------------------------------------------------------------------------------------------------------------------------------------------------------------\n",
            "Epoch: 3 / 10 | Reconst_loss: 11031.591 | Kldiv loss: 3272.041 | Classifcation loss: 2.257 | Constrast loss: 671.07 | Total loss: 45059.090 | Train acc: 43.769 % ||| Val Loss: 40509.010 | Val acc: 47.363 %\n",
            "-------------------------------------------------------------------------------------------------------------------------------------------------------------------------------------\n",
            "Epoch: 4 / 10 | Reconst_loss: 11799.436 | Kldiv loss: 2685.380 | Classifcation loss: 2.247 | Constrast loss: 670.55 | Total loss: 41989.377 | Train acc: 48.495 % ||| Val Loss: 38500.539 | Val acc: 53.403 %\n",
            "-------------------------------------------------------------------------------------------------------------------------------------------------------------------------------------\n",
            "Epoch: 5 / 10 | Reconst_loss: 11252.301 | Kldiv loss: 3723.531 | Classifcation loss: 2.121 | Constrast loss: 342.55 | Total loss: 39573.101 | Train acc: 54.029 % ||| Val Loss: 38839.779 | Val acc: 54.841 %\n",
            "-------------------------------------------------------------------------------------------------------------------------------------------------------------------------------------\n",
            "Epoch: 6 / 10 | Reconst_loss: 11211.570 | Kldiv loss: 3241.001 | Classifcation loss: 2.146 | Constrast loss: 426.23 | Total loss: 38057.312 | Train acc: 58.258 % ||| Val Loss: 34861.115 | Val acc: 62.418 %\n",
            "-------------------------------------------------------------------------------------------------------------------------------------------------------------------------------------\n",
            "Epoch: 7 / 10 | Reconst_loss: 9434.134 | Kldiv loss: 2886.034 | Classifcation loss: 2.065 | Constrast loss: 292.97 | Total loss: 36879.432 | Train acc: 60.101 % ||| Val Loss: 33762.785 | Val acc: 62.934 %\n",
            "-------------------------------------------------------------------------------------------------------------------------------------------------------------------------------------\n",
            "Epoch: 8 / 10 | Reconst_loss: 9486.965 | Kldiv loss: 2705.503 | Classifcation loss: 2.064 | Constrast loss: 457.44 | Total loss: 36148.955 | Train acc: 61.642 % ||| Val Loss: 32726.646 | Val acc: 64.641 %\n",
            "-------------------------------------------------------------------------------------------------------------------------------------------------------------------------------------\n",
            "Epoch: 9 / 10 | Reconst_loss: 9404.758 | Kldiv loss: 2616.373 | Classifcation loss: 2.013 | Constrast loss: 371.30 | Total loss: 35184.272 | Train acc: 62.924 % ||| Val Loss: 32213.540 | Val acc: 65.910 %\n",
            "-------------------------------------------------------------------------------------------------------------------------------------------------------------------------------------\n"
          ]
        },
        {
          "metadata": {
            "tags": null
          },
          "name": "stderr",
          "output_type": "stream",
          "text": [
            "\u001b[32m[I 2023-03-17 21:35:54,046]\u001b[0m Trial 40 finished with value: 0.6395760671819563 and parameters: {'optuna_batch_size': 466, 'optimizer': 'RMSprop', 'lr': 0.004131419381542397, 'hidden_dim': 703, 'alpha': 0, 'beta': 6, 'gamma': 1, 'delta': 3}. Best is trial 20 with value: 0.7762274237191191.\u001b[0m\n"
          ]
        },
        {
          "metadata": {
            "tags": null
          },
          "name": "stdout",
          "output_type": "stream",
          "text": [
            "Epoch: 10 / 10 | Reconst_loss: 9817.746 | Kldiv loss: 2613.365 | Classifcation loss: 2.058 | Constrast loss: 462.03 | Total loss: 34213.040 | Train acc: 63.958 % ||| Val Loss: 31430.687 | Val acc: 66.889 %\n",
            "-------------------------------------------------------------------------------------------------------------------------------------------------------------------------------------\n",
            "Epoch: 1 / 10 | Reconst_loss: 41.649 | Kldiv loss: 18.259 | Classifcation loss: 2.063 | Constrast loss: 0.00 | Total loss: 17007.547 | Train acc: 30.769 % ||| Val Loss: 11513.607 | Val acc: 53.432 %\n",
            "-------------------------------------------------------------------------------------------------------------------------------------------------------------------------------------\n",
            "Epoch: 2 / 10 | Reconst_loss: 26.377 | Kldiv loss: 23.872 | Classifcation loss: 1.772 | Constrast loss: 0.00 | Total loss: 10868.121 | Train acc: 64.556 % ||| Val Loss: 12326.224 | Val acc: 60.803 %\n",
            "-------------------------------------------------------------------------------------------------------------------------------------------------------------------------------------\n",
            "Epoch: 3 / 10 | Reconst_loss: 77.363 | Kldiv loss: 26.783 | Classifcation loss: 2.017 | Constrast loss: 0.00 | Total loss: 10643.011 | Train acc: 71.004 % ||| Val Loss: 10399.140 | Val acc: 70.266 %\n",
            "-------------------------------------------------------------------------------------------------------------------------------------------------------------------------------------\n",
            "Epoch: 4 / 10 | Reconst_loss: 36.432 | Kldiv loss: 12.676 | Classifcation loss: 1.695 | Constrast loss: 0.00 | Total loss: 10529.392 | Train acc: 71.688 % ||| Val Loss: 10594.949 | Val acc: 70.876 %\n",
            "-------------------------------------------------------------------------------------------------------------------------------------------------------------------------------------\n",
            "Epoch: 5 / 10 | Reconst_loss: 64.936 | Kldiv loss: 12.304 | Classifcation loss: 1.706 | Constrast loss: 0.00 | Total loss: 10046.351 | Train acc: 71.805 % ||| Val Loss: 10168.304 | Val acc: 71.269 %\n",
            "-------------------------------------------------------------------------------------------------------------------------------------------------------------------------------------\n",
            "Epoch: 6 / 10 | Reconst_loss: 30.736 | Kldiv loss: 10.196 | Classifcation loss: 2.308 | Constrast loss: 0.00 | Total loss: 9906.455 | Train acc: 72.231 % ||| Val Loss: 10149.838 | Val acc: 73.692 %\n",
            "-------------------------------------------------------------------------------------------------------------------------------------------------------------------------------------\n",
            "Epoch: 7 / 10 | Reconst_loss: 101.391 | Kldiv loss: 15.060 | Classifcation loss: 1.745 | Constrast loss: 0.00 | Total loss: 9871.907 | Train acc: 72.607 % ||| Val Loss: 9789.240 | Val acc: 73.840 %\n",
            "-------------------------------------------------------------------------------------------------------------------------------------------------------------------------------------\n",
            "Epoch: 8 / 10 | Reconst_loss: 32.405 | Kldiv loss: 14.275 | Classifcation loss: 1.705 | Constrast loss: 0.00 | Total loss: 9690.702 | Train acc: 73.062 % ||| Val Loss: 11081.397 | Val acc: 68.960 %\n",
            "-------------------------------------------------------------------------------------------------------------------------------------------------------------------------------------\n",
            "Epoch: 9 / 10 | Reconst_loss: 60.991 | Kldiv loss: 9.905 | Classifcation loss: 1.707 | Constrast loss: 0.00 | Total loss: 9663.393 | Train acc: 73.469 % ||| Val Loss: 9560.799 | Val acc: 74.142 %\n",
            "-------------------------------------------------------------------------------------------------------------------------------------------------------------------------------------\n"
          ]
        },
        {
          "metadata": {
            "tags": null
          },
          "name": "stderr",
          "output_type": "stream",
          "text": [
            "\u001b[32m[I 2023-03-17 21:40:51,609]\u001b[0m Trial 41 finished with value: 0.7501721894849619 and parameters: {'optuna_batch_size': 179, 'optimizer': 'Adam', 'lr': 0.005601725159766012, 'hidden_dim': 946, 'alpha': 4, 'beta': 7, 'gamma': 2, 'delta': 3}. Best is trial 20 with value: 0.7762274237191191.\u001b[0m\n"
          ]
        },
        {
          "metadata": {
            "tags": null
          },
          "name": "stdout",
          "output_type": "stream",
          "text": [
            "Epoch: 10 / 10 | Reconst_loss: 23.543 | Kldiv loss: 20.431 | Classifcation loss: 1.753 | Constrast loss: 0.00 | Total loss: 9223.816 | Train acc: 75.017 % ||| Val Loss: 9003.646 | Val acc: 75.835 %\n",
            "-------------------------------------------------------------------------------------------------------------------------------------------------------------------------------------\n",
            "Epoch: 1 / 10 | Reconst_loss: 1001.651 | Kldiv loss: 255.610 | Classifcation loss: 2.042 | Constrast loss: 9.28 | Total loss: 15755.252 | Train acc: 31.161 % ||| Val Loss: 11847.421 | Val acc: 46.993 %\n",
            "-------------------------------------------------------------------------------------------------------------------------------------------------------------------------------------\n",
            "Epoch: 2 / 10 | Reconst_loss: 703.594 | Kldiv loss: 211.480 | Classifcation loss: 2.242 | Constrast loss: 18.92 | Total loss: 9885.867 | Train acc: 54.791 % ||| Val Loss: 10327.711 | Val acc: 53.314 %\n",
            "-------------------------------------------------------------------------------------------------------------------------------------------------------------------------------------\n",
            "Epoch: 3 / 10 | Reconst_loss: 1354.541 | Kldiv loss: 242.441 | Classifcation loss: 2.149 | Constrast loss: 5.63 | Total loss: 9475.124 | Train acc: 59.129 % ||| Val Loss: 9225.951 | Val acc: 60.185 %\n",
            "-------------------------------------------------------------------------------------------------------------------------------------------------------------------------------------\n",
            "Epoch: 4 / 10 | Reconst_loss: 892.042 | Kldiv loss: 254.123 | Classifcation loss: 2.165 | Constrast loss: 9.53 | Total loss: 9153.973 | Train acc: 61.845 % ||| Val Loss: 9138.448 | Val acc: 64.525 %\n",
            "-------------------------------------------------------------------------------------------------------------------------------------------------------------------------------------\n",
            "Epoch: 5 / 10 | Reconst_loss: 812.879 | Kldiv loss: 224.098 | Classifcation loss: 2.104 | Constrast loss: 8.06 | Total loss: 9101.568 | Train acc: 62.995 % ||| Val Loss: 9827.038 | Val acc: 59.436 %\n",
            "-------------------------------------------------------------------------------------------------------------------------------------------------------------------------------------\n",
            "Epoch: 6 / 10 | Reconst_loss: 953.807 | Kldiv loss: 204.161 | Classifcation loss: 2.097 | Constrast loss: 25.02 | Total loss: 9021.392 | Train acc: 63.012 % ||| Val Loss: 9289.273 | Val acc: 63.142 %\n",
            "-------------------------------------------------------------------------------------------------------------------------------------------------------------------------------------\n",
            "Epoch: 7 / 10 | Reconst_loss: 877.424 | Kldiv loss: 222.982 | Classifcation loss: 2.042 | Constrast loss: 5.19 | Total loss: 8815.362 | Train acc: 66.054 % ||| Val Loss: 9069.243 | Val acc: 68.488 %\n",
            "-------------------------------------------------------------------------------------------------------------------------------------------------------------------------------------\n",
            "Epoch: 8 / 10 | Reconst_loss: 750.070 | Kldiv loss: 247.744 | Classifcation loss: 2.002 | Constrast loss: 0.36 | Total loss: 8879.753 | Train acc: 67.341 % ||| Val Loss: 8791.934 | Val acc: 69.419 %\n",
            "-------------------------------------------------------------------------------------------------------------------------------------------------------------------------------------\n",
            "Epoch: 9 / 10 | Reconst_loss: 936.180 | Kldiv loss: 201.528 | Classifcation loss: 1.981 | Constrast loss: 4.66 | Total loss: 8688.160 | Train acc: 68.819 % ||| Val Loss: 8709.508 | Val acc: 68.973 %\n",
            "-------------------------------------------------------------------------------------------------------------------------------------------------------------------------------------\n"
          ]
        },
        {
          "metadata": {
            "tags": null
          },
          "name": "stderr",
          "output_type": "stream",
          "text": [
            "\u001b[32m[I 2023-03-17 21:45:53,374]\u001b[0m Trial 42 finished with value: 0.6859489330728261 and parameters: {'optuna_batch_size': 154, 'optimizer': 'Adam', 'lr': 0.005675301958256155, 'hidden_dim': 928, 'alpha': 4, 'beta': 7, 'gamma': 3, 'delta': 2}. Best is trial 20 with value: 0.7762274237191191.\u001b[0m\n"
          ]
        },
        {
          "metadata": {
            "tags": null
          },
          "name": "stdout",
          "output_type": "stream",
          "text": [
            "Epoch: 10 / 10 | Reconst_loss: 712.847 | Kldiv loss: 239.480 | Classifcation loss: 1.982 | Constrast loss: 0.00 | Total loss: 8646.573 | Train acc: 68.595 % ||| Val Loss: 8691.552 | Val acc: 68.269 %\n",
            "-------------------------------------------------------------------------------------------------------------------------------------------------------------------------------------\n",
            "Epoch: 1 / 10 | Reconst_loss: 2492.113 | Kldiv loss: 701.003 | Classifcation loss: 2.173 | Constrast loss: 83.34 | Total loss: 23322.514 | Train acc: 34.074 % ||| Val Loss: 15118.616 | Val acc: 54.961 %\n",
            "-------------------------------------------------------------------------------------------------------------------------------------------------------------------------------------\n",
            "Epoch: 2 / 10 | Reconst_loss: 2926.820 | Kldiv loss: 742.443 | Classifcation loss: 2.098 | Constrast loss: 29.81 | Total loss: 14249.099 | Train acc: 60.767 % ||| Val Loss: 13688.411 | Val acc: 62.156 %\n",
            "-------------------------------------------------------------------------------------------------------------------------------------------------------------------------------------\n",
            "Epoch: 3 / 10 | Reconst_loss: 2961.850 | Kldiv loss: 690.961 | Classifcation loss: 2.015 | Constrast loss: 70.76 | Total loss: 13554.846 | Train acc: 66.224 % ||| Val Loss: 13028.460 | Val acc: 70.859 %\n",
            "-------------------------------------------------------------------------------------------------------------------------------------------------------------------------------------\n",
            "Epoch: 4 / 10 | Reconst_loss: 2736.997 | Kldiv loss: 827.463 | Classifcation loss: 1.947 | Constrast loss: 20.09 | Total loss: 13076.062 | Train acc: 72.063 % ||| Val Loss: 13530.702 | Val acc: 71.155 %\n",
            "-------------------------------------------------------------------------------------------------------------------------------------------------------------------------------------\n",
            "Epoch: 5 / 10 | Reconst_loss: 2949.061 | Kldiv loss: 668.382 | Classifcation loss: 1.984 | Constrast loss: 71.15 | Total loss: 12953.038 | Train acc: 73.156 % ||| Val Loss: 12725.752 | Val acc: 74.852 %\n",
            "-------------------------------------------------------------------------------------------------------------------------------------------------------------------------------------\n",
            "Epoch: 6 / 10 | Reconst_loss: 2669.092 | Kldiv loss: 708.673 | Classifcation loss: 1.958 | Constrast loss: 30.93 | Total loss: 12507.209 | Train acc: 74.297 % ||| Val Loss: 12607.763 | Val acc: 75.059 %\n",
            "-------------------------------------------------------------------------------------------------------------------------------------------------------------------------------------\n",
            "Epoch: 7 / 10 | Reconst_loss: 2581.751 | Kldiv loss: 697.488 | Classifcation loss: 1.921 | Constrast loss: 20.86 | Total loss: 12343.767 | Train acc: 74.884 % ||| Val Loss: 12287.122 | Val acc: 75.288 %\n",
            "-------------------------------------------------------------------------------------------------------------------------------------------------------------------------------------\n",
            "Epoch: 8 / 10 | Reconst_loss: 2805.841 | Kldiv loss: 654.451 | Classifcation loss: 1.981 | Constrast loss: 43.34 | Total loss: 12091.453 | Train acc: 75.308 % ||| Val Loss: 12729.185 | Val acc: 75.203 %\n",
            "-------------------------------------------------------------------------------------------------------------------------------------------------------------------------------------\n",
            "Epoch: 9 / 10 | Reconst_loss: 2495.109 | Kldiv loss: 723.895 | Classifcation loss: 1.952 | Constrast loss: 25.60 | Total loss: 12233.970 | Train acc: 75.100 % ||| Val Loss: 11780.722 | Val acc: 76.421 %\n",
            "-------------------------------------------------------------------------------------------------------------------------------------------------------------------------------------\n"
          ]
        },
        {
          "metadata": {
            "tags": null
          },
          "name": "stderr",
          "output_type": "stream",
          "text": [
            "\u001b[32m[I 2023-03-17 21:49:49,516]\u001b[0m Trial 43 finished with value: 0.7577369415161884 and parameters: {'optuna_batch_size': 224, 'optimizer': 'Adam', 'lr': 0.005036846014038469, 'hidden_dim': 900, 'alpha': 6, 'beta': 9, 'gamma': 2, 'delta': 4}. Best is trial 20 with value: 0.7762274237191191.\u001b[0m\n"
          ]
        },
        {
          "metadata": {
            "tags": null
          },
          "name": "stdout",
          "output_type": "stream",
          "text": [
            "Epoch: 10 / 10 | Reconst_loss: 2492.581 | Kldiv loss: 715.227 | Classifcation loss: 1.931 | Constrast loss: 9.92 | Total loss: 11772.265 | Train acc: 75.774 % ||| Val Loss: 11639.600 | Val acc: 76.729 %\n",
            "-------------------------------------------------------------------------------------------------------------------------------------------------------------------------------------\n",
            "Epoch: 1 / 10 | Reconst_loss: 1712.520 | Kldiv loss: 469.885 | Classifcation loss: 2.215 | Constrast loss: 32.21 | Total loss: 18923.766 | Train acc: 27.949 % ||| Val Loss: 14129.406 | Val acc: 46.432 %\n",
            "-------------------------------------------------------------------------------------------------------------------------------------------------------------------------------------\n",
            "Epoch: 2 / 10 | Reconst_loss: 1767.382 | Kldiv loss: 378.805 | Classifcation loss: 2.126 | Constrast loss: 6.23 | Total loss: 12697.322 | Train acc: 55.459 % ||| Val Loss: 12464.546 | Val acc: 62.432 %\n",
            "-------------------------------------------------------------------------------------------------------------------------------------------------------------------------------------\n",
            "Epoch: 3 / 10 | Reconst_loss: 1743.744 | Kldiv loss: 461.328 | Classifcation loss: 2.006 | Constrast loss: 18.58 | Total loss: 12002.749 | Train acc: 67.160 % ||| Val Loss: 11954.224 | Val acc: 70.315 %\n",
            "-------------------------------------------------------------------------------------------------------------------------------------------------------------------------------------\n",
            "Epoch: 4 / 10 | Reconst_loss: 1158.328 | Kldiv loss: 405.681 | Classifcation loss: 1.981 | Constrast loss: 8.12 | Total loss: 11851.327 | Train acc: 69.510 % ||| Val Loss: 11893.954 | Val acc: 71.375 %\n",
            "-------------------------------------------------------------------------------------------------------------------------------------------------------------------------------------\n",
            "Epoch: 5 / 10 | Reconst_loss: 1444.390 | Kldiv loss: 460.200 | Classifcation loss: 1.934 | Constrast loss: 31.05 | Total loss: 11412.808 | Train acc: 71.467 % ||| Val Loss: 11272.164 | Val acc: 73.655 %\n",
            "-------------------------------------------------------------------------------------------------------------------------------------------------------------------------------------\n",
            "Epoch: 6 / 10 | Reconst_loss: 1286.620 | Kldiv loss: 453.054 | Classifcation loss: 2.069 | Constrast loss: 22.41 | Total loss: 11267.483 | Train acc: 71.872 % ||| Val Loss: 11349.388 | Val acc: 72.828 %\n",
            "-------------------------------------------------------------------------------------------------------------------------------------------------------------------------------------\n",
            "Epoch: 7 / 10 | Reconst_loss: 1321.064 | Kldiv loss: 422.775 | Classifcation loss: 1.981 | Constrast loss: 11.93 | Total loss: 11128.515 | Train acc: 73.247 % ||| Val Loss: 11030.514 | Val acc: 74.470 %\n",
            "-------------------------------------------------------------------------------------------------------------------------------------------------------------------------------------\n",
            "Epoch: 8 / 10 | Reconst_loss: 1161.798 | Kldiv loss: 406.871 | Classifcation loss: 1.907 | Constrast loss: 3.71 | Total loss: 10925.780 | Train acc: 77.611 % ||| Val Loss: 10568.472 | Val acc: 78.765 %\n",
            "-------------------------------------------------------------------------------------------------------------------------------------------------------------------------------------\n",
            "Epoch: 9 / 10 | Reconst_loss: 1541.277 | Kldiv loss: 481.320 | Classifcation loss: 1.948 | Constrast loss: 2.93 | Total loss: 10626.441 | Train acc: 79.946 % ||| Val Loss: 10753.457 | Val acc: 81.253 %\n",
            "-------------------------------------------------------------------------------------------------------------------------------------------------------------------------------------\n"
          ]
        },
        {
          "metadata": {
            "tags": null
          },
          "name": "stderr",
          "output_type": "stream",
          "text": [
            "\u001b[32m[I 2023-03-17 21:53:46,952]\u001b[0m Trial 44 finished with value: 0.795614404616013 and parameters: {'optuna_batch_size': 204, 'optimizer': 'Adam', 'lr': 0.005153852426023613, 'hidden_dim': 896, 'alpha': 8, 'beta': 8, 'gamma': 3, 'delta': 4}. Best is trial 44 with value: 0.795614404616013.\u001b[0m\n"
          ]
        },
        {
          "metadata": {
            "tags": null
          },
          "name": "stdout",
          "output_type": "stream",
          "text": [
            "Epoch: 10 / 10 | Reconst_loss: 1396.429 | Kldiv loss: 420.788 | Classifcation loss: 1.938 | Constrast loss: 12.59 | Total loss: 10664.787 | Train acc: 79.561 % ||| Val Loss: 10549.103 | Val acc: 79.278 %\n",
            "-------------------------------------------------------------------------------------------------------------------------------------------------------------------------------------\n",
            "Epoch: 1 / 10 | Reconst_loss: 2902.361 | Kldiv loss: 923.514 | Classifcation loss: 2.277 | Constrast loss: 127.22 | Total loss: 24666.565 | Train acc: 27.674 % ||| Val Loss: 14602.181 | Val acc: 49.089 %\n",
            "-------------------------------------------------------------------------------------------------------------------------------------------------------------------------------------\n",
            "Epoch: 2 / 10 | Reconst_loss: 3215.482 | Kldiv loss: 973.477 | Classifcation loss: 2.131 | Constrast loss: 91.02 | Total loss: 14194.968 | Train acc: 60.709 % ||| Val Loss: 13601.139 | Val acc: 63.271 %\n",
            "-------------------------------------------------------------------------------------------------------------------------------------------------------------------------------------\n",
            "Epoch: 3 / 10 | Reconst_loss: 3316.562 | Kldiv loss: 892.297 | Classifcation loss: 1.991 | Constrast loss: 70.50 | Total loss: 13453.927 | Train acc: 66.717 % ||| Val Loss: 13722.856 | Val acc: 67.021 %\n",
            "-------------------------------------------------------------------------------------------------------------------------------------------------------------------------------------\n",
            "Epoch: 4 / 10 | Reconst_loss: 3538.308 | Kldiv loss: 915.775 | Classifcation loss: 2.011 | Constrast loss: 66.20 | Total loss: 13045.563 | Train acc: 68.762 % ||| Val Loss: 12917.755 | Val acc: 69.430 %\n",
            "-------------------------------------------------------------------------------------------------------------------------------------------------------------------------------------\n",
            "Epoch: 5 / 10 | Reconst_loss: 2597.559 | Kldiv loss: 917.120 | Classifcation loss: 1.994 | Constrast loss: 35.65 | Total loss: 12662.893 | Train acc: 70.616 % ||| Val Loss: 13112.040 | Val acc: 69.318 %\n",
            "-------------------------------------------------------------------------------------------------------------------------------------------------------------------------------------\n",
            "Epoch: 6 / 10 | Reconst_loss: 3307.018 | Kldiv loss: 867.586 | Classifcation loss: 1.917 | Constrast loss: 46.37 | Total loss: 12382.049 | Train acc: 72.531 % ||| Val Loss: 12358.449 | Val acc: 73.096 %\n",
            "-------------------------------------------------------------------------------------------------------------------------------------------------------------------------------------\n",
            "Epoch: 7 / 10 | Reconst_loss: 2826.436 | Kldiv loss: 846.628 | Classifcation loss: 1.975 | Constrast loss: 61.99 | Total loss: 12120.624 | Train acc: 73.643 % ||| Val Loss: 11810.184 | Val acc: 74.235 %\n",
            "-------------------------------------------------------------------------------------------------------------------------------------------------------------------------------------\n",
            "Epoch: 8 / 10 | Reconst_loss: 2910.465 | Kldiv loss: 726.771 | Classifcation loss: 1.962 | Constrast loss: 62.49 | Total loss: 11908.232 | Train acc: 74.671 % ||| Val Loss: 11891.274 | Val acc: 74.526 %\n",
            "-------------------------------------------------------------------------------------------------------------------------------------------------------------------------------------\n",
            "Epoch: 9 / 10 | Reconst_loss: 2554.782 | Kldiv loss: 828.766 | Classifcation loss: 1.971 | Constrast loss: 48.76 | Total loss: 12132.798 | Train acc: 74.519 % ||| Val Loss: 11970.697 | Val acc: 74.051 %\n",
            "-------------------------------------------------------------------------------------------------------------------------------------------------------------------------------------\n"
          ]
        },
        {
          "metadata": {
            "tags": null
          },
          "name": "stderr",
          "output_type": "stream",
          "text": [
            "\u001b[32m[I 2023-03-17 21:57:34,201]\u001b[0m Trial 45 finished with value: 0.7557017123506485 and parameters: {'optuna_batch_size': 222, 'optimizer': 'Adam', 'lr': 0.005123273803074471, 'hidden_dim': 884, 'alpha': 9, 'beta': 8, 'gamma': 3, 'delta': 6}. Best is trial 44 with value: 0.795614404616013.\u001b[0m\n"
          ]
        },
        {
          "metadata": {
            "tags": null
          },
          "name": "stdout",
          "output_type": "stream",
          "text": [
            "Epoch: 10 / 10 | Reconst_loss: 2757.968 | Kldiv loss: 859.534 | Classifcation loss: 1.955 | Constrast loss: 58.45 | Total loss: 11636.967 | Train acc: 75.570 % ||| Val Loss: 11671.054 | Val acc: 76.919 %\n",
            "-------------------------------------------------------------------------------------------------------------------------------------------------------------------------------------\n",
            "Epoch: 1 / 10 | Reconst_loss: nan | Kldiv loss: nan | Classifcation loss: nan | Constrast loss: nan | Total loss: nan | Train acc: 0.029 % ||| Val Loss: nan | Val acc: 0.000 %\n",
            "-------------------------------------------------------------------------------------------------------------------------------------------------------------------------------------\n",
            "Epoch: 2 / 10 | Reconst_loss: nan | Kldiv loss: nan | Classifcation loss: nan | Constrast loss: nan | Total loss: nan | Train acc: 0.000 % ||| Val Loss: nan | Val acc: 0.000 %\n",
            "-------------------------------------------------------------------------------------------------------------------------------------------------------------------------------------\n",
            "Epoch: 3 / 10 | Reconst_loss: nan | Kldiv loss: nan | Classifcation loss: nan | Constrast loss: nan | Total loss: nan | Train acc: 0.000 % ||| Val Loss: nan | Val acc: 0.000 %\n",
            "-------------------------------------------------------------------------------------------------------------------------------------------------------------------------------------\n"
          ]
        },
        {
          "metadata": {
            "tags": null
          },
          "name": "stderr",
          "output_type": "stream",
          "text": [
            "\u001b[32m[I 2023-03-17 21:59:00,678]\u001b[0m Trial 46 pruned. \u001b[0m\n"
          ]
        },
        {
          "metadata": {
            "tags": null
          },
          "name": "stdout",
          "output_type": "stream",
          "text": [
            "Epoch: 4 / 10 | Reconst_loss: nan | Kldiv loss: nan | Classifcation loss: nan | Constrast loss: nan | Total loss: nan | Train acc: 0.000 % ||| Val Loss: nan | Val acc: 0.000 %\n",
            "-------------------------------------------------------------------------------------------------------------------------------------------------------------------------------------\n",
            "Epoch: 1 / 10 | Reconst_loss: 6741.521 | Kldiv loss: 1910.830 | Classifcation loss: 2.300 | Constrast loss: 548.57 | Total loss: 38157.656 | Train acc: 26.825 % ||| Val Loss: 21703.155 | Val acc: 41.953 %\n",
            "-------------------------------------------------------------------------------------------------------------------------------------------------------------------------------------\n",
            "Epoch: 2 / 10 | Reconst_loss: 5678.300 | Kldiv loss: 1981.526 | Classifcation loss: 2.182 | Constrast loss: 265.98 | Total loss: 20477.122 | Train acc: 47.785 % ||| Val Loss: 19082.620 | Val acc: 52.026 %\n",
            "-------------------------------------------------------------------------------------------------------------------------------------------------------------------------------------\n",
            "Epoch: 3 / 10 | Reconst_loss: 6236.265 | Kldiv loss: 1828.008 | Classifcation loss: 2.126 | Constrast loss: 277.11 | Total loss: 19141.290 | Train acc: 52.037 % ||| Val Loss: 18564.819 | Val acc: 52.869 %\n",
            "-------------------------------------------------------------------------------------------------------------------------------------------------------------------------------------\n",
            "Epoch: 4 / 10 | Reconst_loss: 5931.592 | Kldiv loss: 1634.706 | Classifcation loss: 2.189 | Constrast loss: 318.73 | Total loss: 18482.702 | Train acc: 54.734 % ||| Val Loss: 17931.414 | Val acc: 58.965 %\n",
            "-------------------------------------------------------------------------------------------------------------------------------------------------------------------------------------\n",
            "Epoch: 5 / 10 | Reconst_loss: 5828.155 | Kldiv loss: 1782.567 | Classifcation loss: 2.076 | Constrast loss: 198.39 | Total loss: 18394.931 | Train acc: 59.533 % ||| Val Loss: 18301.403 | Val acc: 58.865 %\n",
            "-------------------------------------------------------------------------------------------------------------------------------------------------------------------------------------\n",
            "Epoch: 6 / 10 | Reconst_loss: 5846.719 | Kldiv loss: 1776.411 | Classifcation loss: 2.159 | Constrast loss: 162.47 | Total loss: 17338.505 | Train acc: 60.098 % ||| Val Loss: 17228.110 | Val acc: 59.683 %\n",
            "-------------------------------------------------------------------------------------------------------------------------------------------------------------------------------------\n",
            "Epoch: 7 / 10 | Reconst_loss: 5162.679 | Kldiv loss: 1741.580 | Classifcation loss: 2.075 | Constrast loss: 160.69 | Total loss: 17266.487 | Train acc: 60.447 % ||| Val Loss: 16631.976 | Val acc: 59.955 %\n",
            "-------------------------------------------------------------------------------------------------------------------------------------------------------------------------------------\n",
            "Epoch: 8 / 10 | Reconst_loss: 5467.997 | Kldiv loss: 1769.556 | Classifcation loss: 2.081 | Constrast loss: 141.04 | Total loss: 17222.884 | Train acc: 59.994 % ||| Val Loss: 18098.854 | Val acc: 57.199 %\n",
            "-------------------------------------------------------------------------------------------------------------------------------------------------------------------------------------\n",
            "Epoch: 9 / 10 | Reconst_loss: 5402.044 | Kldiv loss: 1831.735 | Classifcation loss: 2.108 | Constrast loss: 156.28 | Total loss: 16871.820 | Train acc: 60.083 % ||| Val Loss: 16632.965 | Val acc: 59.660 %\n",
            "-------------------------------------------------------------------------------------------------------------------------------------------------------------------------------------\n"
          ]
        },
        {
          "metadata": {
            "tags": null
          },
          "name": "stderr",
          "output_type": "stream",
          "text": [
            "\u001b[32m[I 2023-03-17 22:02:10,273]\u001b[0m Trial 47 finished with value: 0.5990986195393735 and parameters: {'optuna_batch_size': 303, 'optimizer': 'Adam', 'lr': 0.005067558141360924, 'hidden_dim': 853, 'alpha': 9, 'beta': 8, 'gamma': 5, 'delta': 6}. Best is trial 44 with value: 0.795614404616013.\u001b[0m\n"
          ]
        },
        {
          "metadata": {
            "tags": null
          },
          "name": "stdout",
          "output_type": "stream",
          "text": [
            "Epoch: 10 / 10 | Reconst_loss: 5765.833 | Kldiv loss: 1859.568 | Classifcation loss: 2.080 | Constrast loss: 187.41 | Total loss: 16906.424 | Train acc: 59.910 % ||| Val Loss: 17237.755 | Val acc: 59.669 %\n",
            "-------------------------------------------------------------------------------------------------------------------------------------------------------------------------------------\n",
            "Epoch: 1 / 10 | Reconst_loss: 2176.499 | Kldiv loss: 743.277 | Classifcation loss: 2.310 | Constrast loss: 114.94 | Total loss: 26204.740 | Train acc: 25.014 % ||| Val Loss: 14613.105 | Val acc: 43.767 %\n",
            "-------------------------------------------------------------------------------------------------------------------------------------------------------------------------------------\n",
            "Epoch: 2 / 10 | Reconst_loss: 3068.696 | Kldiv loss: 919.475 | Classifcation loss: 2.030 | Constrast loss: 33.37 | Total loss: 14187.360 | Train acc: 57.509 % ||| Val Loss: 13529.673 | Val acc: 63.554 %\n",
            "-------------------------------------------------------------------------------------------------------------------------------------------------------------------------------------\n",
            "Epoch: 3 / 10 | Reconst_loss: 2468.532 | Kldiv loss: 807.310 | Classifcation loss: 2.048 | Constrast loss: 39.58 | Total loss: 13402.010 | Train acc: 64.333 % ||| Val Loss: 13136.824 | Val acc: 64.606 %\n",
            "-------------------------------------------------------------------------------------------------------------------------------------------------------------------------------------\n",
            "Epoch: 4 / 10 | Reconst_loss: 2780.913 | Kldiv loss: 695.994 | Classifcation loss: 2.056 | Constrast loss: 63.73 | Total loss: 12887.127 | Train acc: 65.300 % ||| Val Loss: 13189.879 | Val acc: 63.296 %\n",
            "-------------------------------------------------------------------------------------------------------------------------------------------------------------------------------------\n",
            "Epoch: 5 / 10 | Reconst_loss: 2360.118 | Kldiv loss: 728.317 | Classifcation loss: 2.034 | Constrast loss: 53.96 | Total loss: 12994.462 | Train acc: 63.879 % ||| Val Loss: 13128.044 | Val acc: 63.880 %\n",
            "-------------------------------------------------------------------------------------------------------------------------------------------------------------------------------------\n",
            "Epoch: 6 / 10 | Reconst_loss: 2636.600 | Kldiv loss: 768.083 | Classifcation loss: 1.963 | Constrast loss: 35.62 | Total loss: 12489.568 | Train acc: 65.032 % ||| Val Loss: 12543.538 | Val acc: 66.147 %\n",
            "-------------------------------------------------------------------------------------------------------------------------------------------------------------------------------------\n",
            "Epoch: 7 / 10 | Reconst_loss: 2282.625 | Kldiv loss: 698.446 | Classifcation loss: 2.014 | Constrast loss: 38.31 | Total loss: 12174.121 | Train acc: 66.604 % ||| Val Loss: 11890.778 | Val acc: 66.919 %\n",
            "-------------------------------------------------------------------------------------------------------------------------------------------------------------------------------------\n",
            "Epoch: 8 / 10 | Reconst_loss: 2860.154 | Kldiv loss: 744.754 | Classifcation loss: 2.005 | Constrast loss: 35.22 | Total loss: 12087.531 | Train acc: 66.878 % ||| Val Loss: 12124.237 | Val acc: 66.141 %\n",
            "-------------------------------------------------------------------------------------------------------------------------------------------------------------------------------------\n",
            "Epoch: 9 / 10 | Reconst_loss: 2541.312 | Kldiv loss: 657.696 | Classifcation loss: 2.092 | Constrast loss: 48.62 | Total loss: 11982.184 | Train acc: 67.275 % ||| Val Loss: 12893.638 | Val acc: 65.985 %\n",
            "-------------------------------------------------------------------------------------------------------------------------------------------------------------------------------------\n"
          ]
        },
        {
          "metadata": {
            "tags": null
          },
          "name": "stderr",
          "output_type": "stream",
          "text": [
            "\u001b[32m[I 2023-03-17 22:06:38,513]\u001b[0m Trial 48 finished with value: 0.6753976632186861 and parameters: {'optuna_batch_size': 224, 'optimizer': 'Adam', 'lr': 0.00533700800393369, 'hidden_dim': 969, 'alpha': 8, 'beta': 9, 'gamma': 3, 'delta': 7}. Best is trial 44 with value: 0.795614404616013.\u001b[0m\n"
          ]
        },
        {
          "metadata": {
            "tags": null
          },
          "name": "stdout",
          "output_type": "stream",
          "text": [
            "Epoch: 10 / 10 | Reconst_loss: 1864.768 | Kldiv loss: 779.773 | Classifcation loss: 1.996 | Constrast loss: 25.83 | Total loss: 11998.318 | Train acc: 67.540 % ||| Val Loss: 11554.969 | Val acc: 68.457 %\n",
            "-------------------------------------------------------------------------------------------------------------------------------------------------------------------------------------\n",
            "Epoch: 1 / 10 | Reconst_loss: 716.521 | Kldiv loss: 229.959 | Classifcation loss: 2.280 | Constrast loss: 16.22 | Total loss: 21846.001 | Train acc: 25.960 % ||| Val Loss: 9618.841 | Val acc: 50.125 %\n",
            "-------------------------------------------------------------------------------------------------------------------------------------------------------------------------------------\n",
            "Epoch: 2 / 10 | Reconst_loss: 957.094 | Kldiv loss: 246.220 | Classifcation loss: 2.215 | Constrast loss: 2.59 | Total loss: 9118.893 | Train acc: 54.566 % ||| Val Loss: 9057.929 | Val acc: 56.459 %\n",
            "-------------------------------------------------------------------------------------------------------------------------------------------------------------------------------------\n",
            "Epoch: 3 / 10 | Reconst_loss: 726.704 | Kldiv loss: 208.715 | Classifcation loss: 2.162 | Constrast loss: 3.10 | Total loss: 8748.361 | Train acc: 57.468 % ||| Val Loss: 8854.844 | Val acc: 56.936 %\n",
            "-------------------------------------------------------------------------------------------------------------------------------------------------------------------------------------\n",
            "Epoch: 4 / 10 | Reconst_loss: 779.944 | Kldiv loss: 267.528 | Classifcation loss: 2.255 | Constrast loss: 15.12 | Total loss: 8428.357 | Train acc: 59.199 % ||| Val Loss: 9363.511 | Val acc: 54.468 %\n",
            "-------------------------------------------------------------------------------------------------------------------------------------------------------------------------------------\n",
            "Epoch: 5 / 10 | Reconst_loss: 683.229 | Kldiv loss: 269.498 | Classifcation loss: 2.172 | Constrast loss: 7.35 | Total loss: 8306.696 | Train acc: 60.150 % ||| Val Loss: 8186.620 | Val acc: 61.472 %\n",
            "-------------------------------------------------------------------------------------------------------------------------------------------------------------------------------------\n",
            "Epoch: 6 / 10 | Reconst_loss: 580.071 | Kldiv loss: 235.563 | Classifcation loss: 2.200 | Constrast loss: 6.19 | Total loss: 8405.827 | Train acc: 58.407 % ||| Val Loss: 8423.208 | Val acc: 55.100 %\n",
            "-------------------------------------------------------------------------------------------------------------------------------------------------------------------------------------\n",
            "Epoch: 7 / 10 | Reconst_loss: 716.599 | Kldiv loss: 232.231 | Classifcation loss: 2.255 | Constrast loss: 2.34 | Total loss: 8353.721 | Train acc: 51.695 % ||| Val Loss: 8371.588 | Val acc: 48.478 %\n",
            "-------------------------------------------------------------------------------------------------------------------------------------------------------------------------------------\n",
            "Epoch: 8 / 10 | Reconst_loss: 765.203 | Kldiv loss: 191.344 | Classifcation loss: 2.230 | Constrast loss: 4.84 | Total loss: 8196.709 | Train acc: 50.522 % ||| Val Loss: 8062.425 | Val acc: 50.662 %\n",
            "-------------------------------------------------------------------------------------------------------------------------------------------------------------------------------------\n",
            "Epoch: 9 / 10 | Reconst_loss: 602.965 | Kldiv loss: 210.307 | Classifcation loss: 2.162 | Constrast loss: 2.36 | Total loss: 7916.636 | Train acc: 51.629 % ||| Val Loss: 8203.417 | Val acc: 50.273 %\n",
            "-------------------------------------------------------------------------------------------------------------------------------------------------------------------------------------\n"
          ]
        },
        {
          "metadata": {
            "tags": null
          },
          "name": "stderr",
          "output_type": "stream",
          "text": [
            "\u001b[32m[I 2023-03-17 22:11:54,290]\u001b[0m Trial 49 finished with value: 0.5180578854716791 and parameters: {'optuna_batch_size': 145, 'optimizer': 'Adam', 'lr': 0.005860435352029863, 'hidden_dim': 905, 'alpha': 9, 'beta': 7, 'gamma': 4, 'delta': 4}. Best is trial 44 with value: 0.795614404616013.\u001b[0m\n"
          ]
        },
        {
          "metadata": {
            "tags": null
          },
          "name": "stdout",
          "output_type": "stream",
          "text": [
            "Epoch: 10 / 10 | Reconst_loss: 495.389 | Kldiv loss: 234.634 | Classifcation loss: 2.244 | Constrast loss: 5.38 | Total loss: 7747.646 | Train acc: 51.806 % ||| Val Loss: 7816.223 | Val acc: 51.033 %\n",
            "-------------------------------------------------------------------------------------------------------------------------------------------------------------------------------------\n",
            "Epoch: 1 / 10 | Reconst_loss: 2707.836 | Kldiv loss: 544.017 | Classifcation loss: 2.157 | Constrast loss: 83.42 | Total loss: 8927.441 | Train acc: 42.307 % ||| Val Loss: 8195.981 | Val acc: 60.620 %\n",
            "-------------------------------------------------------------------------------------------------------------------------------------------------------------------------------------\n",
            "Epoch: 2 / 10 | Reconst_loss: 1888.081 | Kldiv loss: 601.805 | Classifcation loss: 1.933 | Constrast loss: 75.98 | Total loss: 6875.115 | Train acc: 75.265 % ||| Val Loss: 6601.646 | Val acc: 78.945 %\n",
            "-------------------------------------------------------------------------------------------------------------------------------------------------------------------------------------\n",
            "Epoch: 3 / 10 | Reconst_loss: 2192.231 | Kldiv loss: 529.245 | Classifcation loss: 1.903 | Constrast loss: 40.13 | Total loss: 6616.793 | Train acc: 79.521 % ||| Val Loss: 6476.575 | Val acc: 79.717 %\n",
            "-------------------------------------------------------------------------------------------------------------------------------------------------------------------------------------\n",
            "Epoch: 4 / 10 | Reconst_loss: 2280.181 | Kldiv loss: 643.339 | Classifcation loss: 1.861 | Constrast loss: 17.30 | Total loss: 6505.045 | Train acc: 80.840 % ||| Val Loss: 6226.675 | Val acc: 82.826 %\n",
            "-------------------------------------------------------------------------------------------------------------------------------------------------------------------------------------\n",
            "Epoch: 5 / 10 | Reconst_loss: 2206.119 | Kldiv loss: 595.683 | Classifcation loss: 1.853 | Constrast loss: 41.70 | Total loss: 6305.267 | Train acc: 82.996 % ||| Val Loss: 6072.282 | Val acc: 83.247 %\n",
            "-------------------------------------------------------------------------------------------------------------------------------------------------------------------------------------\n",
            "Epoch: 6 / 10 | Reconst_loss: 2039.119 | Kldiv loss: 631.580 | Classifcation loss: 1.834 | Constrast loss: 40.05 | Total loss: 6210.495 | Train acc: 83.535 % ||| Val Loss: 6184.392 | Val acc: 82.896 %\n",
            "-------------------------------------------------------------------------------------------------------------------------------------------------------------------------------------\n",
            "Epoch: 7 / 10 | Reconst_loss: 2267.329 | Kldiv loss: 628.099 | Classifcation loss: 1.868 | Constrast loss: 26.66 | Total loss: 6064.028 | Train acc: 84.372 % ||| Val Loss: 5876.891 | Val acc: 85.234 %\n",
            "-------------------------------------------------------------------------------------------------------------------------------------------------------------------------------------\n",
            "Epoch: 8 / 10 | Reconst_loss: 1871.987 | Kldiv loss: 593.490 | Classifcation loss: 1.920 | Constrast loss: 40.91 | Total loss: 5899.156 | Train acc: 85.170 % ||| Val Loss: 5963.573 | Val acc: 84.249 %\n",
            "-------------------------------------------------------------------------------------------------------------------------------------------------------------------------------------\n",
            "Epoch: 9 / 10 | Reconst_loss: 2345.168 | Kldiv loss: 606.207 | Classifcation loss: 1.793 | Constrast loss: 37.44 | Total loss: 5939.138 | Train acc: 85.589 % ||| Val Loss: 5927.536 | Val acc: 86.512 %\n",
            "-------------------------------------------------------------------------------------------------------------------------------------------------------------------------------------\n"
          ]
        },
        {
          "metadata": {
            "tags": null
          },
          "name": "stderr",
          "output_type": "stream",
          "text": [
            "\u001b[32m[I 2023-03-17 22:18:43,921]\u001b[0m Trial 50 finished with value: 0.8561023473599106 and parameters: {'optuna_batch_size': 115, 'optimizer': 'Adam', 'lr': 0.00518268486444649, 'hidden_dim': 955, 'alpha': 8, 'beta': 10, 'gamma': 6, 'delta': 8}. Best is trial 50 with value: 0.8561023473599106.\u001b[0m\n"
          ]
        },
        {
          "metadata": {
            "tags": null
          },
          "name": "stdout",
          "output_type": "stream",
          "text": [
            "Epoch: 10 / 10 | Reconst_loss: 2087.476 | Kldiv loss: 617.548 | Classifcation loss: 1.818 | Constrast loss: 20.74 | Total loss: 6015.321 | Train acc: 85.610 % ||| Val Loss: 5970.774 | Val acc: 86.339 %\n",
            "-------------------------------------------------------------------------------------------------------------------------------------------------------------------------------------\n",
            "Epoch: 1 / 10 | Reconst_loss: 290.175 | Kldiv loss: 94.631 | Classifcation loss: 2.228 | Constrast loss: 8.00 | Total loss: 9725.291 | Train acc: 37.958 % ||| Val Loss: 8125.069 | Val acc: 61.408 %\n",
            "-------------------------------------------------------------------------------------------------------------------------------------------------------------------------------------\n",
            "Epoch: 2 / 10 | Reconst_loss: 416.674 | Kldiv loss: 123.099 | Classifcation loss: 2.162 | Constrast loss: 1.21 | Total loss: 7746.951 | Train acc: 64.303 % ||| Val Loss: 7733.956 | Val acc: 64.677 %\n",
            "-------------------------------------------------------------------------------------------------------------------------------------------------------------------------------------\n",
            "Epoch: 3 / 10 | Reconst_loss: 447.335 | Kldiv loss: 139.139 | Classifcation loss: 1.964 | Constrast loss: 0.45 | Total loss: 7356.564 | Train acc: 66.244 % ||| Val Loss: 7227.678 | Val acc: 67.425 %\n",
            "-------------------------------------------------------------------------------------------------------------------------------------------------------------------------------------\n",
            "Epoch: 4 / 10 | Reconst_loss: 437.352 | Kldiv loss: 123.585 | Classifcation loss: 2.081 | Constrast loss: 0.00 | Total loss: 7074.035 | Train acc: 69.150 % ||| Val Loss: 7358.627 | Val acc: 69.169 %\n",
            "-------------------------------------------------------------------------------------------------------------------------------------------------------------------------------------\n",
            "Epoch: 5 / 10 | Reconst_loss: 360.200 | Kldiv loss: 105.528 | Classifcation loss: 2.056 | Constrast loss: 0.40 | Total loss: 6938.327 | Train acc: 73.024 % ||| Val Loss: 6935.429 | Val acc: 72.753 %\n",
            "-------------------------------------------------------------------------------------------------------------------------------------------------------------------------------------\n",
            "Epoch: 6 / 10 | Reconst_loss: 500.284 | Kldiv loss: 115.620 | Classifcation loss: 2.022 | Constrast loss: 4.29 | Total loss: 6885.254 | Train acc: 73.461 % ||| Val Loss: 6964.817 | Val acc: 73.422 %\n",
            "-------------------------------------------------------------------------------------------------------------------------------------------------------------------------------------\n",
            "Epoch: 7 / 10 | Reconst_loss: 433.866 | Kldiv loss: 130.726 | Classifcation loss: 1.918 | Constrast loss: 0.18 | Total loss: 6763.883 | Train acc: 73.606 % ||| Val Loss: 6887.663 | Val acc: 74.698 %\n",
            "-------------------------------------------------------------------------------------------------------------------------------------------------------------------------------------\n",
            "Epoch: 8 / 10 | Reconst_loss: 271.013 | Kldiv loss: 115.154 | Classifcation loss: 1.872 | Constrast loss: 1.63 | Total loss: 6787.444 | Train acc: 74.165 % ||| Val Loss: 6937.954 | Val acc: 75.148 %\n",
            "-------------------------------------------------------------------------------------------------------------------------------------------------------------------------------------\n",
            "Epoch: 9 / 10 | Reconst_loss: 518.531 | Kldiv loss: 139.143 | Classifcation loss: 2.098 | Constrast loss: 0.29 | Total loss: 6735.098 | Train acc: 74.453 % ||| Val Loss: 6648.267 | Val acc: 75.463 %\n",
            "-------------------------------------------------------------------------------------------------------------------------------------------------------------------------------------\n"
          ]
        },
        {
          "metadata": {
            "tags": null
          },
          "name": "stderr",
          "output_type": "stream",
          "text": [
            "\u001b[32m[I 2023-03-17 22:24:43,627]\u001b[0m Trial 51 finished with value: 0.747625690783343 and parameters: {'optuna_batch_size': 127, 'optimizer': 'Adam', 'lr': 0.00539052490046808, 'hidden_dim': 960, 'alpha': 8, 'beta': 10, 'gamma': 6, 'delta': 8}. Best is trial 50 with value: 0.8561023473599106.\u001b[0m\n"
          ]
        },
        {
          "metadata": {
            "tags": null
          },
          "name": "stdout",
          "output_type": "stream",
          "text": [
            "Epoch: 10 / 10 | Reconst_loss: 421.703 | Kldiv loss: 122.219 | Classifcation loss: 2.062 | Constrast loss: 1.16 | Total loss: 6646.499 | Train acc: 74.763 % ||| Val Loss: 6668.411 | Val acc: 75.789 %\n",
            "-------------------------------------------------------------------------------------------------------------------------------------------------------------------------------------\n",
            "Epoch: 1 / 10 | Reconst_loss: 3270.343 | Kldiv loss: 787.211 | Classifcation loss: 2.380 | Constrast loss: 168.87 | Total loss: 92423.553 | Train acc: 21.634 % ||| Val Loss: 16076.803 | Val acc: 34.742 %\n",
            "-------------------------------------------------------------------------------------------------------------------------------------------------------------------------------------\n",
            "Epoch: 2 / 10 | Reconst_loss: 2682.003 | Kldiv loss: 789.138 | Classifcation loss: 2.175 | Constrast loss: 101.53 | Total loss: 14433.395 | Train acc: 50.181 % ||| Val Loss: 13135.391 | Val acc: 61.394 %\n",
            "-------------------------------------------------------------------------------------------------------------------------------------------------------------------------------------\n",
            "Epoch: 3 / 10 | Reconst_loss: 2612.631 | Kldiv loss: 760.863 | Classifcation loss: 2.042 | Constrast loss: 78.66 | Total loss: 12719.018 | Train acc: 64.220 % ||| Val Loss: 12140.886 | Val acc: 66.483 %\n",
            "-------------------------------------------------------------------------------------------------------------------------------------------------------------------------------------\n",
            "Epoch: 4 / 10 | Reconst_loss: 2382.454 | Kldiv loss: 725.094 | Classifcation loss: 1.947 | Constrast loss: 39.90 | Total loss: 12150.992 | Train acc: 66.618 % ||| Val Loss: 11745.697 | Val acc: 66.704 %\n",
            "-------------------------------------------------------------------------------------------------------------------------------------------------------------------------------------\n",
            "Epoch: 5 / 10 | Reconst_loss: 2428.472 | Kldiv loss: 794.084 | Classifcation loss: 2.076 | Constrast loss: 67.25 | Total loss: 11751.373 | Train acc: 68.761 % ||| Val Loss: 11457.138 | Val acc: 70.771 %\n",
            "-------------------------------------------------------------------------------------------------------------------------------------------------------------------------------------\n",
            "Epoch: 6 / 10 | Reconst_loss: 2371.588 | Kldiv loss: 768.456 | Classifcation loss: 1.968 | Constrast loss: 42.39 | Total loss: 11552.821 | Train acc: 71.346 % ||| Val Loss: 11653.051 | Val acc: 72.393 %\n",
            "-------------------------------------------------------------------------------------------------------------------------------------------------------------------------------------\n",
            "Epoch: 7 / 10 | Reconst_loss: 2408.474 | Kldiv loss: 806.184 | Classifcation loss: 1.988 | Constrast loss: 42.31 | Total loss: 11282.091 | Train acc: 73.806 % ||| Val Loss: 11029.858 | Val acc: 74.417 %\n",
            "-------------------------------------------------------------------------------------------------------------------------------------------------------------------------------------\n",
            "Epoch: 8 / 10 | Reconst_loss: 2667.084 | Kldiv loss: 867.011 | Classifcation loss: 1.954 | Constrast loss: 31.90 | Total loss: 11171.236 | Train acc: 75.093 % ||| Val Loss: 11674.541 | Val acc: 75.178 %\n",
            "-------------------------------------------------------------------------------------------------------------------------------------------------------------------------------------\n",
            "Epoch: 9 / 10 | Reconst_loss: 2481.688 | Kldiv loss: 765.023 | Classifcation loss: 1.888 | Constrast loss: 25.30 | Total loss: 11095.235 | Train acc: 75.769 % ||| Val Loss: 11275.913 | Val acc: 75.424 %\n",
            "-------------------------------------------------------------------------------------------------------------------------------------------------------------------------------------\n"
          ]
        },
        {
          "metadata": {
            "tags": null
          },
          "name": "stderr",
          "output_type": "stream",
          "text": [
            "\u001b[32m[I 2023-03-17 22:29:09,456]\u001b[0m Trial 52 finished with value: 0.7585698333210693 and parameters: {'optuna_batch_size': 203, 'optimizer': 'Adam', 'lr': 0.005058192927076826, 'hidden_dim': 926, 'alpha': 9, 'beta': 10, 'gamma': 7, 'delta': 7}. Best is trial 50 with value: 0.8561023473599106.\u001b[0m\n"
          ]
        },
        {
          "metadata": {
            "tags": null
          },
          "name": "stdout",
          "output_type": "stream",
          "text": [
            "Epoch: 10 / 10 | Reconst_loss: 2259.682 | Kldiv loss: 756.569 | Classifcation loss: 1.892 | Constrast loss: 46.88 | Total loss: 10998.170 | Train acc: 75.857 % ||| Val Loss: 11079.788 | Val acc: 76.289 %\n",
            "-------------------------------------------------------------------------------------------------------------------------------------------------------------------------------------\n",
            "Epoch: 1 / 10 | Reconst_loss: 2573.197 | Kldiv loss: 702.326 | Classifcation loss: 2.238 | Constrast loss: 88.10 | Total loss: 22442.329 | Train acc: 25.135 % ||| Val Loss: 14378.986 | Val acc: 50.257 %\n",
            "-------------------------------------------------------------------------------------------------------------------------------------------------------------------------------------\n",
            "Epoch: 2 / 10 | Reconst_loss: 2868.429 | Kldiv loss: 819.113 | Classifcation loss: 2.072 | Constrast loss: 48.18 | Total loss: 13675.327 | Train acc: 58.316 % ||| Val Loss: 13370.332 | Val acc: 64.614 %\n",
            "-------------------------------------------------------------------------------------------------------------------------------------------------------------------------------------\n",
            "Epoch: 3 / 10 | Reconst_loss: 2629.035 | Kldiv loss: 726.259 | Classifcation loss: 1.997 | Constrast loss: 31.41 | Total loss: 12912.645 | Train acc: 68.977 % ||| Val Loss: 12494.857 | Val acc: 71.364 %\n",
            "-------------------------------------------------------------------------------------------------------------------------------------------------------------------------------------\n",
            "Epoch: 4 / 10 | Reconst_loss: 2208.536 | Kldiv loss: 678.435 | Classifcation loss: 1.997 | Constrast loss: 43.75 | Total loss: 12441.473 | Train acc: 74.268 % ||| Val Loss: 12116.480 | Val acc: 74.054 %\n",
            "-------------------------------------------------------------------------------------------------------------------------------------------------------------------------------------\n",
            "Epoch: 5 / 10 | Reconst_loss: 2749.113 | Kldiv loss: 664.299 | Classifcation loss: 1.945 | Constrast loss: 28.85 | Total loss: 12067.132 | Train acc: 75.794 % ||| Val Loss: 12104.168 | Val acc: 76.886 %\n",
            "-------------------------------------------------------------------------------------------------------------------------------------------------------------------------------------\n",
            "Epoch: 6 / 10 | Reconst_loss: 3394.063 | Kldiv loss: 699.709 | Classifcation loss: 1.947 | Constrast loss: 40.82 | Total loss: 12117.662 | Train acc: 75.845 % ||| Val Loss: 12464.182 | Val acc: 73.294 %\n",
            "-------------------------------------------------------------------------------------------------------------------------------------------------------------------------------------\n",
            "Epoch: 7 / 10 | Reconst_loss: 2412.241 | Kldiv loss: 685.810 | Classifcation loss: 1.979 | Constrast loss: 53.77 | Total loss: 12181.710 | Train acc: 74.820 % ||| Val Loss: 12753.081 | Val acc: 72.177 %\n",
            "-------------------------------------------------------------------------------------------------------------------------------------------------------------------------------------\n",
            "Epoch: 8 / 10 | Reconst_loss: 2144.284 | Kldiv loss: 719.433 | Classifcation loss: 1.946 | Constrast loss: 11.57 | Total loss: 11610.406 | Train acc: 74.115 % ||| Val Loss: 11405.783 | Val acc: 74.541 %\n",
            "-------------------------------------------------------------------------------------------------------------------------------------------------------------------------------------\n",
            "Epoch: 9 / 10 | Reconst_loss: 2055.482 | Kldiv loss: 689.296 | Classifcation loss: 1.958 | Constrast loss: 35.23 | Total loss: 11338.696 | Train acc: 75.009 % ||| Val Loss: 11863.438 | Val acc: 72.565 %\n",
            "-------------------------------------------------------------------------------------------------------------------------------------------------------------------------------------\n"
          ]
        },
        {
          "metadata": {
            "tags": null
          },
          "name": "stderr",
          "output_type": "stream",
          "text": [
            "\u001b[32m[I 2023-03-17 22:33:13,414]\u001b[0m Trial 53 finished with value: 0.7412297595094377 and parameters: {'optuna_batch_size': 213, 'optimizer': 'Adam', 'lr': 0.005005743397726146, 'hidden_dim': 916, 'alpha': 10, 'beta': 10, 'gamma': 7, 'delta': 7}. Best is trial 50 with value: 0.8561023473599106.\u001b[0m\n"
          ]
        },
        {
          "metadata": {
            "tags": null
          },
          "name": "stdout",
          "output_type": "stream",
          "text": [
            "Epoch: 10 / 10 | Reconst_loss: 2344.248 | Kldiv loss: 717.415 | Classifcation loss: 1.921 | Constrast loss: 17.29 | Total loss: 11482.581 | Train acc: 74.123 % ||| Val Loss: 11357.707 | Val acc: 74.003 %\n",
            "-------------------------------------------------------------------------------------------------------------------------------------------------------------------------------------\n",
            "Epoch: 1 / 10 | Reconst_loss: 2587.427 | Kldiv loss: 644.288 | Classifcation loss: 2.089 | Constrast loss: 46.23 | Total loss: 8904.357 | Train acc: 35.866 % ||| Val Loss: 7165.919 | Val acc: 58.001 %\n",
            "-------------------------------------------------------------------------------------------------------------------------------------------------------------------------------------\n",
            "Epoch: 2 / 10 | Reconst_loss: 3071.296 | Kldiv loss: 577.838 | Classifcation loss: 2.087 | Constrast loss: 116.61 | Total loss: 6758.513 | Train acc: 60.731 % ||| Val Loss: 6520.679 | Val acc: 66.293 %\n",
            "-------------------------------------------------------------------------------------------------------------------------------------------------------------------------------------\n",
            "Epoch: 3 / 10 | Reconst_loss: 2111.942 | Kldiv loss: 666.206 | Classifcation loss: 1.996 | Constrast loss: 60.51 | Total loss: 6463.430 | Train acc: 68.895 % ||| Val Loss: 6378.853 | Val acc: 69.686 %\n",
            "-------------------------------------------------------------------------------------------------------------------------------------------------------------------------------------\n",
            "Epoch: 4 / 10 | Reconst_loss: 2239.136 | Kldiv loss: 625.832 | Classifcation loss: 2.009 | Constrast loss: 47.88 | Total loss: 6550.989 | Train acc: 67.767 % ||| Val Loss: 6393.156 | Val acc: 69.261 %\n",
            "-------------------------------------------------------------------------------------------------------------------------------------------------------------------------------------\n",
            "Epoch: 5 / 10 | Reconst_loss: 2160.067 | Kldiv loss: 571.723 | Classifcation loss: 1.969 | Constrast loss: 63.52 | Total loss: 6124.636 | Train acc: 70.873 % ||| Val Loss: 6050.333 | Val acc: 71.362 %\n",
            "-------------------------------------------------------------------------------------------------------------------------------------------------------------------------------------\n",
            "Epoch: 6 / 10 | Reconst_loss: 1572.151 | Kldiv loss: 600.834 | Classifcation loss: 1.907 | Constrast loss: 28.81 | Total loss: 5969.280 | Train acc: 71.718 % ||| Val Loss: 5952.964 | Val acc: 72.045 %\n",
            "-------------------------------------------------------------------------------------------------------------------------------------------------------------------------------------\n",
            "Epoch: 7 / 10 | Reconst_loss: 3087.852 | Kldiv loss: 653.848 | Classifcation loss: 1.923 | Constrast loss: 26.15 | Total loss: 5978.419 | Train acc: 71.502 % ||| Val Loss: 5964.961 | Val acc: 71.385 %\n",
            "-------------------------------------------------------------------------------------------------------------------------------------------------------------------------------------\n",
            "Epoch: 8 / 10 | Reconst_loss: 2121.800 | Kldiv loss: 602.251 | Classifcation loss: 2.000 | Constrast loss: 55.72 | Total loss: 5910.789 | Train acc: 71.011 % ||| Val Loss: 5873.506 | Val acc: 71.985 %\n",
            "-------------------------------------------------------------------------------------------------------------------------------------------------------------------------------------\n",
            "Epoch: 9 / 10 | Reconst_loss: 1997.466 | Kldiv loss: 646.417 | Classifcation loss: 1.921 | Constrast loss: 15.13 | Total loss: 5807.880 | Train acc: 72.176 % ||| Val Loss: 5724.996 | Val acc: 72.215 %\n",
            "-------------------------------------------------------------------------------------------------------------------------------------------------------------------------------------\n"
          ]
        },
        {
          "metadata": {
            "tags": null
          },
          "name": "stderr",
          "output_type": "stream",
          "text": [
            "\u001b[32m[I 2023-03-17 22:37:45,029]\u001b[0m Trial 54 finished with value: 0.7192096004124475 and parameters: {'optuna_batch_size': 113, 'optimizer': 'Adam', 'lr': 0.004085855322247556, 'hidden_dim': 758, 'alpha': 9, 'beta': 9, 'gamma': 7, 'delta': 8}. Best is trial 50 with value: 0.8561023473599106.\u001b[0m\n"
          ]
        },
        {
          "metadata": {
            "tags": null
          },
          "name": "stdout",
          "output_type": "stream",
          "text": [
            "Epoch: 10 / 10 | Reconst_loss: 1978.055 | Kldiv loss: 751.541 | Classifcation loss: 1.909 | Constrast loss: 16.45 | Total loss: 5810.643 | Train acc: 71.921 % ||| Val Loss: 6138.293 | Val acc: 71.037 %\n",
            "-------------------------------------------------------------------------------------------------------------------------------------------------------------------------------------\n",
            "Epoch: 1 / 10 | Reconst_loss: 7507.426 | Kldiv loss: 2056.514 | Classifcation loss: 2.373 | Constrast loss: 502.49 | Total loss: 45681.547 | Train acc: 19.920 % ||| Val Loss: 24014.316 | Val acc: 30.029 %\n",
            "-------------------------------------------------------------------------------------------------------------------------------------------------------------------------------------\n",
            "Epoch: 2 / 10 | Reconst_loss: 5750.979 | Kldiv loss: 1617.244 | Classifcation loss: 2.236 | Constrast loss: 333.38 | Total loss: 21718.270 | Train acc: 39.852 % ||| Val Loss: 19727.845 | Val acc: 51.194 %\n",
            "-------------------------------------------------------------------------------------------------------------------------------------------------------------------------------------\n",
            "Epoch: 3 / 10 | Reconst_loss: 5543.917 | Kldiv loss: 1642.199 | Classifcation loss: 2.149 | Constrast loss: 237.97 | Total loss: 19590.233 | Train acc: 56.020 % ||| Val Loss: 17922.535 | Val acc: 60.192 %\n",
            "-------------------------------------------------------------------------------------------------------------------------------------------------------------------------------------\n",
            "Epoch: 4 / 10 | Reconst_loss: 4747.991 | Kldiv loss: 1704.940 | Classifcation loss: 2.036 | Constrast loss: 90.86 | Total loss: 17864.658 | Train acc: 60.487 % ||| Val Loss: 17030.923 | Val acc: 62.404 %\n",
            "-------------------------------------------------------------------------------------------------------------------------------------------------------------------------------------\n",
            "Epoch: 5 / 10 | Reconst_loss: 5502.484 | Kldiv loss: 1454.000 | Classifcation loss: 2.070 | Constrast loss: 229.55 | Total loss: 17239.114 | Train acc: 62.355 % ||| Val Loss: 17789.811 | Val acc: 61.023 %\n",
            "-------------------------------------------------------------------------------------------------------------------------------------------------------------------------------------\n",
            "Epoch: 6 / 10 | Reconst_loss: 4614.588 | Kldiv loss: 1484.384 | Classifcation loss: 2.066 | Constrast loss: 119.96 | Total loss: 17053.383 | Train acc: 63.540 % ||| Val Loss: 16270.591 | Val acc: 64.758 %\n",
            "-------------------------------------------------------------------------------------------------------------------------------------------------------------------------------------\n",
            "Epoch: 7 / 10 | Reconst_loss: 5006.203 | Kldiv loss: 1559.653 | Classifcation loss: 2.083 | Constrast loss: 117.04 | Total loss: 16554.636 | Train acc: 64.939 % ||| Val Loss: 16042.312 | Val acc: 65.303 %\n",
            "-------------------------------------------------------------------------------------------------------------------------------------------------------------------------------------\n",
            "Epoch: 8 / 10 | Reconst_loss: 6129.993 | Kldiv loss: 1899.264 | Classifcation loss: 2.114 | Constrast loss: 115.42 | Total loss: 16142.253 | Train acc: 65.968 % ||| Val Loss: 17865.130 | Val acc: 56.473 %\n",
            "-------------------------------------------------------------------------------------------------------------------------------------------------------------------------------------\n",
            "Epoch: 9 / 10 | Reconst_loss: 5028.796 | Kldiv loss: 1467.649 | Classifcation loss: 2.105 | Constrast loss: 159.99 | Total loss: 16313.631 | Train acc: 65.523 % ||| Val Loss: 15890.211 | Val acc: 66.011 %\n",
            "-------------------------------------------------------------------------------------------------------------------------------------------------------------------------------------\n"
          ]
        },
        {
          "metadata": {
            "tags": null
          },
          "name": "stderr",
          "output_type": "stream",
          "text": [
            "\u001b[32m[I 2023-03-17 22:40:57,321]\u001b[0m Trial 55 finished with value: 0.6615830263965626 and parameters: {'optuna_batch_size': 288, 'optimizer': 'Adam', 'lr': 0.003602994156884182, 'hidden_dim': 868, 'alpha': 8, 'beta': 10, 'gamma': 6, 'delta': 8}. Best is trial 50 with value: 0.8561023473599106.\u001b[0m\n"
          ]
        },
        {
          "metadata": {
            "tags": null
          },
          "name": "stdout",
          "output_type": "stream",
          "text": [
            "Epoch: 10 / 10 | Reconst_loss: 4787.232 | Kldiv loss: 1600.165 | Classifcation loss: 2.054 | Constrast loss: 95.10 | Total loss: 16514.814 | Train acc: 66.158 % ||| Val Loss: 16301.121 | Val acc: 64.508 %\n",
            "-------------------------------------------------------------------------------------------------------------------------------------------------------------------------------------\n",
            "Epoch: 1 / 10 | Reconst_loss: nan | Kldiv loss: nan | Classifcation loss: nan | Constrast loss: nan | Total loss: nan | Train acc: 0.090 % ||| Val Loss: nan | Val acc: 0.000 %\n",
            "-------------------------------------------------------------------------------------------------------------------------------------------------------------------------------------\n",
            "Epoch: 2 / 10 | Reconst_loss: nan | Kldiv loss: nan | Classifcation loss: nan | Constrast loss: nan | Total loss: nan | Train acc: 0.000 % ||| Val Loss: nan | Val acc: 0.000 %\n",
            "-------------------------------------------------------------------------------------------------------------------------------------------------------------------------------------\n",
            "Epoch: 3 / 10 | Reconst_loss: nan | Kldiv loss: nan | Classifcation loss: nan | Constrast loss: nan | Total loss: nan | Train acc: 0.000 % ||| Val Loss: nan | Val acc: 0.000 %\n",
            "-------------------------------------------------------------------------------------------------------------------------------------------------------------------------------------\n"
          ]
        },
        {
          "metadata": {
            "tags": null
          },
          "name": "stderr",
          "output_type": "stream",
          "text": [
            "\u001b[32m[I 2023-03-17 22:42:04,546]\u001b[0m Trial 56 pruned. \u001b[0m\n"
          ]
        },
        {
          "metadata": {
            "tags": null
          },
          "name": "stdout",
          "output_type": "stream",
          "text": [
            "Epoch: 4 / 10 | Reconst_loss: nan | Kldiv loss: nan | Classifcation loss: nan | Constrast loss: nan | Total loss: nan | Train acc: 0.000 % ||| Val Loss: nan | Val acc: 0.000 %\n",
            "-------------------------------------------------------------------------------------------------------------------------------------------------------------------------------------\n",
            "Epoch: 1 / 10 | Reconst_loss: 1173.807 | Kldiv loss: 356.787 | Classifcation loss: 2.358 | Constrast loss: 8.79 | Total loss: 39387.366 | Train acc: 15.880 % ||| Val Loss: 21138.027 | Val acc: 20.917 %\n",
            "-------------------------------------------------------------------------------------------------------------------------------------------------------------------------------------\n",
            "Epoch: 2 / 10 | Reconst_loss: 885.660 | Kldiv loss: 252.505 | Classifcation loss: 2.102 | Constrast loss: 3.98 | Total loss: 17245.833 | Train acc: 42.642 % ||| Val Loss: 17402.883 | Val acc: 51.166 %\n",
            "-------------------------------------------------------------------------------------------------------------------------------------------------------------------------------------\n",
            "Epoch: 3 / 10 | Reconst_loss: 808.384 | Kldiv loss: 202.450 | Classifcation loss: 2.124 | Constrast loss: 5.82 | Total loss: 14492.532 | Train acc: 58.473 % ||| Val Loss: 14144.679 | Val acc: 60.046 %\n",
            "-------------------------------------------------------------------------------------------------------------------------------------------------------------------------------------\n",
            "Epoch: 4 / 10 | Reconst_loss: 861.439 | Kldiv loss: 217.989 | Classifcation loss: 2.050 | Constrast loss: 1.82 | Total loss: 13479.102 | Train acc: 64.694 % ||| Val Loss: 13231.942 | Val acc: 67.635 %\n",
            "-------------------------------------------------------------------------------------------------------------------------------------------------------------------------------------\n",
            "Epoch: 5 / 10 | Reconst_loss: 829.624 | Kldiv loss: 178.625 | Classifcation loss: 2.103 | Constrast loss: 8.18 | Total loss: 13196.369 | Train acc: 67.376 % ||| Val Loss: 12764.236 | Val acc: 68.488 %\n",
            "-------------------------------------------------------------------------------------------------------------------------------------------------------------------------------------\n",
            "Epoch: 6 / 10 | Reconst_loss: 654.703 | Kldiv loss: 190.226 | Classifcation loss: 1.906 | Constrast loss: 3.89 | Total loss: 12674.999 | Train acc: 69.048 % ||| Val Loss: 13303.091 | Val acc: 72.642 %\n",
            "-------------------------------------------------------------------------------------------------------------------------------------------------------------------------------------\n",
            "Epoch: 7 / 10 | Reconst_loss: 558.962 | Kldiv loss: 217.085 | Classifcation loss: 1.957 | Constrast loss: 5.39 | Total loss: 12262.093 | Train acc: 72.838 % ||| Val Loss: 11855.302 | Val acc: 74.058 %\n",
            "-------------------------------------------------------------------------------------------------------------------------------------------------------------------------------------\n",
            "Epoch: 8 / 10 | Reconst_loss: 815.292 | Kldiv loss: 226.336 | Classifcation loss: 1.921 | Constrast loss: 0.16 | Total loss: 12239.364 | Train acc: 72.878 % ||| Val Loss: 11906.623 | Val acc: 73.411 %\n",
            "-------------------------------------------------------------------------------------------------------------------------------------------------------------------------------------\n",
            "Epoch: 9 / 10 | Reconst_loss: 749.469 | Kldiv loss: 196.681 | Classifcation loss: 1.991 | Constrast loss: 1.81 | Total loss: 11834.178 | Train acc: 73.602 % ||| Val Loss: 12019.182 | Val acc: 74.532 %\n",
            "-------------------------------------------------------------------------------------------------------------------------------------------------------------------------------------\n"
          ]
        },
        {
          "metadata": {
            "tags": null
          },
          "name": "stderr",
          "output_type": "stream",
          "text": [
            "\u001b[32m[I 2023-03-17 22:46:59,740]\u001b[0m Trial 57 finished with value: 0.7382920110192837 and parameters: {'optuna_batch_size': 216, 'optimizer': 'Adam', 'lr': 0.004388845793232885, 'hidden_dim': 999, 'alpha': 10, 'beta': 8, 'gamma': 8, 'delta': 6}. Best is trial 50 with value: 0.8561023473599106.\u001b[0m\n"
          ]
        },
        {
          "metadata": {
            "tags": null
          },
          "name": "stdout",
          "output_type": "stream",
          "text": [
            "Epoch: 10 / 10 | Reconst_loss: 860.103 | Kldiv loss: 245.202 | Classifcation loss: 2.107 | Constrast loss: 0.45 | Total loss: 11789.892 | Train acc: 73.829 % ||| Val Loss: 12703.648 | Val acc: 73.851 %\n",
            "-------------------------------------------------------------------------------------------------------------------------------------------------------------------------------------\n",
            "Epoch: 1 / 10 | Reconst_loss: 1258.533 | Kldiv loss: 284.474 | Classifcation loss: 2.468 | Constrast loss: 15.50 | Total loss: 44912.854 | Train acc: 20.178 % ||| Val Loss: 28759.838 | Val acc: 28.188 %\n",
            "-------------------------------------------------------------------------------------------------------------------------------------------------------------------------------------\n",
            "Epoch: 2 / 10 | Reconst_loss: 916.453 | Kldiv loss: 297.290 | Classifcation loss: 2.239 | Constrast loss: 4.15 | Total loss: 23897.228 | Train acc: 39.089 % ||| Val Loss: 23209.829 | Val acc: 44.212 %\n",
            "-------------------------------------------------------------------------------------------------------------------------------------------------------------------------------------\n",
            "Epoch: 3 / 10 | Reconst_loss: 1329.068 | Kldiv loss: 274.932 | Classifcation loss: 2.172 | Constrast loss: 13.02 | Total loss: 21948.560 | Train acc: 47.266 % ||| Val Loss: 21549.639 | Val acc: 50.198 %\n",
            "-------------------------------------------------------------------------------------------------------------------------------------------------------------------------------------\n",
            "Epoch: 4 / 10 | Reconst_loss: 731.575 | Kldiv loss: 266.064 | Classifcation loss: 2.249 | Constrast loss: 0.13 | Total loss: 21127.212 | Train acc: 51.361 % ||| Val Loss: 21038.213 | Val acc: 53.193 %\n",
            "-------------------------------------------------------------------------------------------------------------------------------------------------------------------------------------\n",
            "Epoch: 5 / 10 | Reconst_loss: 771.552 | Kldiv loss: 255.023 | Classifcation loss: 2.415 | Constrast loss: 7.10 | Total loss: 20397.714 | Train acc: 54.092 % ||| Val Loss: 20067.910 | Val acc: 54.396 %\n",
            "-------------------------------------------------------------------------------------------------------------------------------------------------------------------------------------\n",
            "Epoch: 6 / 10 | Reconst_loss: 1355.540 | Kldiv loss: 302.516 | Classifcation loss: 2.186 | Constrast loss: 1.49 | Total loss: 20071.032 | Train acc: 54.823 % ||| Val Loss: 19001.209 | Val acc: 55.474 %\n",
            "-------------------------------------------------------------------------------------------------------------------------------------------------------------------------------------\n",
            "Epoch: 7 / 10 | Reconst_loss: 860.773 | Kldiv loss: 282.396 | Classifcation loss: 2.061 | Constrast loss: 1.24 | Total loss: 19518.548 | Train acc: 55.236 % ||| Val Loss: 20723.423 | Val acc: 55.217 %\n",
            "-------------------------------------------------------------------------------------------------------------------------------------------------------------------------------------\n",
            "Epoch: 8 / 10 | Reconst_loss: 689.902 | Kldiv loss: 258.455 | Classifcation loss: 2.194 | Constrast loss: 2.43 | Total loss: 19375.591 | Train acc: 54.887 % ||| Val Loss: 18754.108 | Val acc: 55.837 %\n",
            "-------------------------------------------------------------------------------------------------------------------------------------------------------------------------------------\n",
            "Epoch: 9 / 10 | Reconst_loss: 603.379 | Kldiv loss: 297.403 | Classifcation loss: 2.192 | Constrast loss: 0.20 | Total loss: 20188.346 | Train acc: 50.609 % ||| Val Loss: 19430.027 | Val acc: 53.326 %\n",
            "-------------------------------------------------------------------------------------------------------------------------------------------------------------------------------------\n"
          ]
        },
        {
          "metadata": {
            "tags": null
          },
          "name": "stderr",
          "output_type": "stream",
          "text": [
            "\u001b[32m[I 2023-03-17 22:50:10,182]\u001b[0m Trial 58 finished with value: 0.5239035859014102 and parameters: {'optuna_batch_size': 347, 'optimizer': 'Adam', 'lr': 0.0031072969493445533, 'hidden_dim': 901, 'alpha': 7, 'beta': 10, 'gamma': 5, 'delta': 7}. Best is trial 50 with value: 0.8561023473599106.\u001b[0m\n"
          ]
        },
        {
          "metadata": {
            "tags": null
          },
          "name": "stdout",
          "output_type": "stream",
          "text": [
            "Epoch: 10 / 10 | Reconst_loss: 814.663 | Kldiv loss: 292.848 | Classifcation loss: 2.240 | Constrast loss: 3.74 | Total loss: 19311.593 | Train acc: 52.390 % ||| Val Loss: 19214.965 | Val acc: 52.873 %\n",
            "-------------------------------------------------------------------------------------------------------------------------------------------------------------------------------------\n",
            "Epoch: 1 / 10 | Reconst_loss: 19757.129 | Kldiv loss: 11284.512 | Classifcation loss: 2.470 | Constrast loss: 2657.15 | Total loss: 469514.098 | Train acc: 14.283 % ||| Val Loss: 125076.076 | Val acc: 20.575 %\n",
            "-------------------------------------------------------------------------------------------------------------------------------------------------------------------------------------\n",
            "Epoch: 2 / 10 | Reconst_loss: 14917.974 | Kldiv loss: 6689.025 | Classifcation loss: 2.400 | Constrast loss: 1306.21 | Total loss: 103147.835 | Train acc: 26.944 % ||| Val Loss: 85403.548 | Val acc: 29.805 %\n",
            "-------------------------------------------------------------------------------------------------------------------------------------------------------------------------------------\n",
            "Epoch: 3 / 10 | Reconst_loss: 14752.332 | Kldiv loss: 5872.146 | Classifcation loss: 2.268 | Constrast loss: 854.33 | Total loss: 80725.955 | Train acc: 38.946 % ||| Val Loss: 75306.074 | Val acc: 51.471 %\n",
            "-------------------------------------------------------------------------------------------------------------------------------------------------------------------------------------\n",
            "Epoch: 4 / 10 | Reconst_loss: 15776.300 | Kldiv loss: 5940.305 | Classifcation loss: 2.201 | Constrast loss: 824.96 | Total loss: 73787.431 | Train acc: 54.543 % ||| Val Loss: 71124.312 | Val acc: 58.384 %\n",
            "-------------------------------------------------------------------------------------------------------------------------------------------------------------------------------------\n",
            "Epoch: 5 / 10 | Reconst_loss: 13544.408 | Kldiv loss: 5656.295 | Classifcation loss: 2.133 | Constrast loss: 639.86 | Total loss: 69806.087 | Train acc: 60.108 % ||| Val Loss: 68788.172 | Val acc: 62.599 %\n",
            "-------------------------------------------------------------------------------------------------------------------------------------------------------------------------------------\n",
            "Epoch: 6 / 10 | Reconst_loss: 13596.557 | Kldiv loss: 5568.167 | Classifcation loss: 2.062 | Constrast loss: 353.07 | Total loss: 67465.731 | Train acc: 65.876 % ||| Val Loss: 66273.791 | Val acc: 67.700 %\n",
            "-------------------------------------------------------------------------------------------------------------------------------------------------------------------------------------\n",
            "Epoch: 7 / 10 | Reconst_loss: 12800.920 | Kldiv loss: 5383.638 | Classifcation loss: 2.070 | Constrast loss: 321.05 | Total loss: 65495.271 | Train acc: 68.278 % ||| Val Loss: 66765.484 | Val acc: 67.699 %\n",
            "-------------------------------------------------------------------------------------------------------------------------------------------------------------------------------------\n",
            "Epoch: 8 / 10 | Reconst_loss: 13431.106 | Kldiv loss: 4704.099 | Classifcation loss: 2.043 | Constrast loss: 591.91 | Total loss: 64489.142 | Train acc: 69.973 % ||| Val Loss: 64326.186 | Val acc: 69.086 %\n",
            "-------------------------------------------------------------------------------------------------------------------------------------------------------------------------------------\n",
            "Epoch: 9 / 10 | Reconst_loss: 12683.107 | Kldiv loss: 4775.951 | Classifcation loss: 2.012 | Constrast loss: 302.13 | Total loss: 63350.339 | Train acc: 70.622 % ||| Val Loss: 62192.443 | Val acc: 70.616 %\n",
            "-------------------------------------------------------------------------------------------------------------------------------------------------------------------------------------\n"
          ]
        },
        {
          "metadata": {
            "tags": null
          },
          "name": "stderr",
          "output_type": "stream",
          "text": [
            "\u001b[32m[I 2023-03-17 22:52:16,645]\u001b[0m Trial 59 finished with value: 0.7098448413098802 and parameters: {'optuna_batch_size': 990, 'optimizer': 'Adam', 'lr': 0.005148694943831858, 'hidden_dim': 833, 'alpha': 8, 'beta': 8, 'gamma': 7, 'delta': 5}. Best is trial 50 with value: 0.8561023473599106.\u001b[0m\n"
          ]
        },
        {
          "metadata": {
            "tags": null
          },
          "name": "stdout",
          "output_type": "stream",
          "text": [
            "Epoch: 10 / 10 | Reconst_loss: 11823.206 | Kldiv loss: 4790.199 | Classifcation loss: 1.981 | Constrast loss: 286.88 | Total loss: 61072.361 | Train acc: 70.984 % ||| Val Loss: 60268.763 | Val acc: 71.352 %\n",
            "-------------------------------------------------------------------------------------------------------------------------------------------------------------------------------------\n",
            "Epoch: 1 / 10 | Reconst_loss: 432.867 | Kldiv loss: 69.334 | Classifcation loss: 2.140 | Constrast loss: 0.17 | Total loss: 7973.372 | Train acc: 48.616 % ||| Val Loss: 6943.524 | Val acc: 66.151 %\n",
            "-------------------------------------------------------------------------------------------------------------------------------------------------------------------------------------\n",
            "Epoch: 2 / 10 | Reconst_loss: 318.554 | Kldiv loss: 78.124 | Classifcation loss: 2.053 | Constrast loss: 0.31 | Total loss: 6476.833 | Train acc: 65.994 % ||| Val Loss: 7129.471 | Val acc: 64.297 %\n",
            "-------------------------------------------------------------------------------------------------------------------------------------------------------------------------------------\n",
            "Epoch: 3 / 10 | Reconst_loss: 214.098 | Kldiv loss: 53.184 | Classifcation loss: 1.803 | Constrast loss: 2.20 | Total loss: 6096.993 | Train acc: 72.324 % ||| Val Loss: 5769.824 | Val acc: 76.318 %\n",
            "-------------------------------------------------------------------------------------------------------------------------------------------------------------------------------------\n",
            "Epoch: 4 / 10 | Reconst_loss: 213.816 | Kldiv loss: 54.820 | Classifcation loss: 1.916 | Constrast loss: 2.46 | Total loss: 5994.358 | Train acc: 75.822 % ||| Val Loss: 5768.276 | Val acc: 78.312 %\n",
            "-------------------------------------------------------------------------------------------------------------------------------------------------------------------------------------\n",
            "Epoch: 5 / 10 | Reconst_loss: 248.115 | Kldiv loss: 60.876 | Classifcation loss: 1.967 | Constrast loss: 0.00 | Total loss: 5845.774 | Train acc: 77.568 % ||| Val Loss: 6353.267 | Val acc: 74.472 %\n",
            "-------------------------------------------------------------------------------------------------------------------------------------------------------------------------------------\n",
            "Epoch: 6 / 10 | Reconst_loss: 308.540 | Kldiv loss: 63.859 | Classifcation loss: 1.786 | Constrast loss: 0.00 | Total loss: 5783.668 | Train acc: 77.379 % ||| Val Loss: 5720.049 | Val acc: 77.255 %\n",
            "-------------------------------------------------------------------------------------------------------------------------------------------------------------------------------------\n",
            "Epoch: 7 / 10 | Reconst_loss: 295.978 | Kldiv loss: 89.982 | Classifcation loss: 1.875 | Constrast loss: 0.00 | Total loss: 5881.588 | Train acc: 77.178 % ||| Val Loss: 5836.329 | Val acc: 78.247 %\n",
            "-------------------------------------------------------------------------------------------------------------------------------------------------------------------------------------\n",
            "Epoch: 8 / 10 | Reconst_loss: 350.571 | Kldiv loss: 55.438 | Classifcation loss: 1.816 | Constrast loss: 0.10 | Total loss: 5632.632 | Train acc: 78.805 % ||| Val Loss: 5614.921 | Val acc: 77.452 %\n",
            "-------------------------------------------------------------------------------------------------------------------------------------------------------------------------------------\n",
            "Epoch: 9 / 10 | Reconst_loss: 247.360 | Kldiv loss: 50.630 | Classifcation loss: 1.889 | Constrast loss: 0.00 | Total loss: 5684.592 | Train acc: 78.493 % ||| Val Loss: 5458.751 | Val acc: 79.358 %\n",
            "-------------------------------------------------------------------------------------------------------------------------------------------------------------------------------------\n"
          ]
        },
        {
          "metadata": {
            "tags": null
          },
          "name": "stderr",
          "output_type": "stream",
          "text": [
            "\u001b[32m[I 2023-03-17 22:59:28,124]\u001b[0m Trial 60 finished with value: 0.7871179457698562 and parameters: {'optuna_batch_size': 105, 'optimizer': 'Adam', 'lr': 0.00618896499630122, 'hidden_dim': 962, 'alpha': 9, 'beta': 9, 'gamma': 6, 'delta': 6}. Best is trial 50 with value: 0.8561023473599106.\u001b[0m\n"
          ]
        },
        {
          "metadata": {
            "tags": null
          },
          "name": "stdout",
          "output_type": "stream",
          "text": [
            "Epoch: 10 / 10 | Reconst_loss: 444.878 | Kldiv loss: 62.479 | Classifcation loss: 1.940 | Constrast loss: 0.00 | Total loss: 5713.092 | Train acc: 78.712 % ||| Val Loss: 5552.868 | Val acc: 78.687 %\n",
            "-------------------------------------------------------------------------------------------------------------------------------------------------------------------------------------\n",
            "Epoch: 1 / 10 | Reconst_loss: 422.565 | Kldiv loss: 66.393 | Classifcation loss: 2.168 | Constrast loss: 2.77 | Total loss: 11220.017 | Train acc: 35.260 % ||| Val Loss: 6915.550 | Val acc: 55.089 %\n",
            "-------------------------------------------------------------------------------------------------------------------------------------------------------------------------------------\n",
            "Epoch: 2 / 10 | Reconst_loss: 308.809 | Kldiv loss: 62.238 | Classifcation loss: 2.046 | Constrast loss: 0.00 | Total loss: 6402.027 | Train acc: 61.693 % ||| Val Loss: 6643.436 | Val acc: 67.733 %\n",
            "-------------------------------------------------------------------------------------------------------------------------------------------------------------------------------------\n",
            "Epoch: 3 / 10 | Reconst_loss: 407.779 | Kldiv loss: 89.174 | Classifcation loss: 1.938 | Constrast loss: 0.00 | Total loss: 6083.701 | Train acc: 69.100 % ||| Val Loss: 6201.831 | Val acc: 71.164 %\n",
            "-------------------------------------------------------------------------------------------------------------------------------------------------------------------------------------\n",
            "Epoch: 4 / 10 | Reconst_loss: 231.508 | Kldiv loss: 62.406 | Classifcation loss: 1.884 | Constrast loss: 0.00 | Total loss: 6052.741 | Train acc: 70.312 % ||| Val Loss: 6072.946 | Val acc: 72.478 %\n",
            "-------------------------------------------------------------------------------------------------------------------------------------------------------------------------------------\n",
            "Epoch: 5 / 10 | Reconst_loss: 187.117 | Kldiv loss: 67.975 | Classifcation loss: 1.861 | Constrast loss: 0.13 | Total loss: 5795.955 | Train acc: 72.945 % ||| Val Loss: 5646.286 | Val acc: 73.369 %\n",
            "-------------------------------------------------------------------------------------------------------------------------------------------------------------------------------------\n",
            "Epoch: 6 / 10 | Reconst_loss: 287.119 | Kldiv loss: 67.138 | Classifcation loss: 1.956 | Constrast loss: 0.00 | Total loss: 5807.632 | Train acc: 73.743 % ||| Val Loss: 5771.095 | Val acc: 76.171 %\n",
            "-------------------------------------------------------------------------------------------------------------------------------------------------------------------------------------\n",
            "Epoch: 7 / 10 | Reconst_loss: 207.039 | Kldiv loss: 77.088 | Classifcation loss: 1.857 | Constrast loss: 0.75 | Total loss: 5749.583 | Train acc: 75.377 % ||| Val Loss: 5624.869 | Val acc: 75.604 %\n",
            "-------------------------------------------------------------------------------------------------------------------------------------------------------------------------------------\n",
            "Epoch: 8 / 10 | Reconst_loss: 278.087 | Kldiv loss: 68.396 | Classifcation loss: 1.950 | Constrast loss: 1.46 | Total loss: 5585.186 | Train acc: 75.814 % ||| Val Loss: 5667.758 | Val acc: 73.919 %\n",
            "-------------------------------------------------------------------------------------------------------------------------------------------------------------------------------------\n",
            "Epoch: 9 / 10 | Reconst_loss: 164.043 | Kldiv loss: 64.277 | Classifcation loss: 2.032 | Constrast loss: 0.00 | Total loss: 5636.870 | Train acc: 75.890 % ||| Val Loss: 5725.542 | Val acc: 75.691 %\n",
            "-------------------------------------------------------------------------------------------------------------------------------------------------------------------------------------\n"
          ]
        },
        {
          "metadata": {
            "tags": null
          },
          "name": "stderr",
          "output_type": "stream",
          "text": [
            "\u001b[32m[I 2023-03-17 23:06:39,930]\u001b[0m Trial 61 finished with value: 0.7750694644054799 and parameters: {'optuna_batch_size': 105, 'optimizer': 'Adam', 'lr': 0.005977288369708901, 'hidden_dim': 968, 'alpha': 9, 'beta': 9, 'gamma': 6, 'delta': 6}. Best is trial 50 with value: 0.8561023473599106.\u001b[0m\n"
          ]
        },
        {
          "metadata": {
            "tags": null
          },
          "name": "stdout",
          "output_type": "stream",
          "text": [
            "Epoch: 10 / 10 | Reconst_loss: 240.793 | Kldiv loss: 54.795 | Classifcation loss: 1.985 | Constrast loss: 0.00 | Total loss: 5486.660 | Train acc: 77.507 % ||| Val Loss: 5637.947 | Val acc: 75.388 %\n",
            "-------------------------------------------------------------------------------------------------------------------------------------------------------------------------------------\n",
            "Epoch: 1 / 10 | Reconst_loss: 893.862 | Kldiv loss: 242.864 | Classifcation loss: 2.061 | Constrast loss: 9.78 | Total loss: 7956.950 | Train acc: 44.496 % ||| Val Loss: 6536.165 | Val acc: 63.975 %\n",
            "-------------------------------------------------------------------------------------------------------------------------------------------------------------------------------------\n",
            "Epoch: 2 / 10 | Reconst_loss: 960.040 | Kldiv loss: 258.955 | Classifcation loss: 2.041 | Constrast loss: 3.74 | Total loss: 6256.010 | Train acc: 65.721 % ||| Val Loss: 5964.277 | Val acc: 68.823 %\n",
            "-------------------------------------------------------------------------------------------------------------------------------------------------------------------------------------\n",
            "Epoch: 3 / 10 | Reconst_loss: 1047.651 | Kldiv loss: 236.242 | Classifcation loss: 2.129 | Constrast loss: 21.45 | Total loss: 6021.306 | Train acc: 67.557 % ||| Val Loss: 5880.062 | Val acc: 65.397 %\n",
            "-------------------------------------------------------------------------------------------------------------------------------------------------------------------------------------\n",
            "Epoch: 4 / 10 | Reconst_loss: 1490.665 | Kldiv loss: 270.476 | Classifcation loss: 1.918 | Constrast loss: 3.75 | Total loss: 5965.757 | Train acc: 68.329 % ||| Val Loss: 5932.087 | Val acc: 71.704 %\n",
            "-------------------------------------------------------------------------------------------------------------------------------------------------------------------------------------\n",
            "Epoch: 5 / 10 | Reconst_loss: 1342.576 | Kldiv loss: 289.159 | Classifcation loss: 2.011 | Constrast loss: 5.64 | Total loss: 5877.823 | Train acc: 71.448 % ||| Val Loss: 5757.356 | Val acc: 72.003 %\n",
            "-------------------------------------------------------------------------------------------------------------------------------------------------------------------------------------\n",
            "Epoch: 6 / 10 | Reconst_loss: 848.366 | Kldiv loss: 311.211 | Classifcation loss: 2.083 | Constrast loss: 14.39 | Total loss: 5927.587 | Train acc: 70.816 % ||| Val Loss: 5825.664 | Val acc: 69.782 %\n",
            "-------------------------------------------------------------------------------------------------------------------------------------------------------------------------------------\n",
            "Epoch: 7 / 10 | Reconst_loss: 743.918 | Kldiv loss: 288.979 | Classifcation loss: 1.914 | Constrast loss: 13.29 | Total loss: 5763.026 | Train acc: 70.826 % ||| Val Loss: 5858.705 | Val acc: 70.228 %\n",
            "-------------------------------------------------------------------------------------------------------------------------------------------------------------------------------------\n",
            "Epoch: 8 / 10 | Reconst_loss: 811.239 | Kldiv loss: 265.787 | Classifcation loss: 2.070 | Constrast loss: 13.11 | Total loss: 5613.691 | Train acc: 70.502 % ||| Val Loss: 5682.866 | Val acc: 69.761 %\n",
            "-------------------------------------------------------------------------------------------------------------------------------------------------------------------------------------\n",
            "Epoch: 9 / 10 | Reconst_loss: 701.108 | Kldiv loss: 247.482 | Classifcation loss: 2.037 | Constrast loss: 8.63 | Total loss: 5618.272 | Train acc: 69.240 % ||| Val Loss: 5440.387 | Val acc: 69.997 %\n",
            "-------------------------------------------------------------------------------------------------------------------------------------------------------------------------------------\n"
          ]
        },
        {
          "metadata": {
            "tags": null
          },
          "name": "stderr",
          "output_type": "stream",
          "text": [
            "\u001b[32m[I 2023-03-17 23:13:51,895]\u001b[0m Trial 62 finished with value: 0.6972261683240311 and parameters: {'optuna_batch_size': 106, 'optimizer': 'Adam', 'lr': 0.00613008743490491, 'hidden_dim': 957, 'alpha': 9, 'beta': 9, 'gamma': 6, 'delta': 7}. Best is trial 50 with value: 0.8561023473599106.\u001b[0m\n"
          ]
        },
        {
          "metadata": {
            "tags": null
          },
          "name": "stdout",
          "output_type": "stream",
          "text": [
            "Epoch: 10 / 10 | Reconst_loss: 942.856 | Kldiv loss: 264.221 | Classifcation loss: 1.985 | Constrast loss: 11.83 | Total loss: 5657.138 | Train acc: 69.723 % ||| Val Loss: 5743.788 | Val acc: 69.603 %\n",
            "-------------------------------------------------------------------------------------------------------------------------------------------------------------------------------------\n",
            "Epoch: 1 / 10 | Reconst_loss: 3231.899 | Kldiv loss: 735.501 | Classifcation loss: 2.193 | Constrast loss: 85.09 | Total loss: 15388.279 | Train acc: 36.129 % ||| Val Loss: 9382.078 | Val acc: 60.176 %\n",
            "-------------------------------------------------------------------------------------------------------------------------------------------------------------------------------------\n",
            "Epoch: 2 / 10 | Reconst_loss: 2960.232 | Kldiv loss: 793.598 | Classifcation loss: 2.037 | Constrast loss: 71.11 | Total loss: 8893.872 | Train acc: 66.789 % ||| Val Loss: 8504.388 | Val acc: 67.566 %\n",
            "-------------------------------------------------------------------------------------------------------------------------------------------------------------------------------------\n",
            "Epoch: 3 / 10 | Reconst_loss: 2825.407 | Kldiv loss: 638.263 | Classifcation loss: 1.969 | Constrast loss: 108.06 | Total loss: 8520.198 | Train acc: 70.701 % ||| Val Loss: 8327.912 | Val acc: 73.274 %\n",
            "-------------------------------------------------------------------------------------------------------------------------------------------------------------------------------------\n",
            "Epoch: 4 / 10 | Reconst_loss: 3229.002 | Kldiv loss: 743.947 | Classifcation loss: 1.998 | Constrast loss: 33.18 | Total loss: 8278.273 | Train acc: 72.740 % ||| Val Loss: 8410.667 | Val acc: 68.966 %\n",
            "-------------------------------------------------------------------------------------------------------------------------------------------------------------------------------------\n",
            "Epoch: 5 / 10 | Reconst_loss: 2164.678 | Kldiv loss: 732.799 | Classifcation loss: 1.911 | Constrast loss: 33.45 | Total loss: 8139.703 | Train acc: 74.653 % ||| Val Loss: 8020.934 | Val acc: 77.686 %\n",
            "-------------------------------------------------------------------------------------------------------------------------------------------------------------------------------------\n",
            "Epoch: 6 / 10 | Reconst_loss: 2339.981 | Kldiv loss: 655.018 | Classifcation loss: 1.974 | Constrast loss: 42.77 | Total loss: 7966.459 | Train acc: 77.748 % ||| Val Loss: 7712.912 | Val acc: 77.697 %\n",
            "-------------------------------------------------------------------------------------------------------------------------------------------------------------------------------------\n",
            "Epoch: 7 / 10 | Reconst_loss: 2601.062 | Kldiv loss: 698.733 | Classifcation loss: 1.905 | Constrast loss: 61.95 | Total loss: 7903.581 | Train acc: 78.289 % ||| Val Loss: 7783.840 | Val acc: 79.552 %\n",
            "-------------------------------------------------------------------------------------------------------------------------------------------------------------------------------------\n",
            "Epoch: 8 / 10 | Reconst_loss: 2691.004 | Kldiv loss: 727.743 | Classifcation loss: 1.856 | Constrast loss: 25.01 | Total loss: 7789.248 | Train acc: 79.145 % ||| Val Loss: 7729.140 | Val acc: 80.505 %\n",
            "-------------------------------------------------------------------------------------------------------------------------------------------------------------------------------------\n",
            "Epoch: 9 / 10 | Reconst_loss: 2234.509 | Kldiv loss: 664.680 | Classifcation loss: 1.949 | Constrast loss: 71.40 | Total loss: 7945.959 | Train acc: 78.198 % ||| Val Loss: 7879.269 | Val acc: 78.198 %\n",
            "-------------------------------------------------------------------------------------------------------------------------------------------------------------------------------------\n"
          ]
        },
        {
          "metadata": {
            "tags": null
          },
          "name": "stderr",
          "output_type": "stream",
          "text": [
            "\u001b[32m[I 2023-03-17 23:19:51,509]\u001b[0m Trial 63 finished with value: 0.7845620498650399 and parameters: {'optuna_batch_size': 142, 'optimizer': 'Adam', 'lr': 0.006342601142170954, 'hidden_dim': 971, 'alpha': 8, 'beta': 10, 'gamma': 7, 'delta': 5}. Best is trial 50 with value: 0.8561023473599106.\u001b[0m\n"
          ]
        },
        {
          "metadata": {
            "tags": null
          },
          "name": "stdout",
          "output_type": "stream",
          "text": [
            "Epoch: 10 / 10 | Reconst_loss: 2265.786 | Kldiv loss: 696.710 | Classifcation loss: 2.032 | Constrast loss: 57.31 | Total loss: 7819.919 | Train acc: 78.456 % ||| Val Loss: 7792.200 | Val acc: 73.040 %\n",
            "-------------------------------------------------------------------------------------------------------------------------------------------------------------------------------------\n",
            "Epoch: 1 / 10 | Reconst_loss: 1874.639 | Kldiv loss: 372.881 | Classifcation loss: 2.168 | Constrast loss: 36.60 | Total loss: 15770.118 | Train acc: 36.647 % ||| Val Loss: 8490.896 | Val acc: 59.096 %\n",
            "-------------------------------------------------------------------------------------------------------------------------------------------------------------------------------------\n",
            "Epoch: 2 / 10 | Reconst_loss: 1866.062 | Kldiv loss: 462.792 | Classifcation loss: 2.083 | Constrast loss: 6.96 | Total loss: 8363.793 | Train acc: 63.541 % ||| Val Loss: 8265.352 | Val acc: 66.028 %\n",
            "-------------------------------------------------------------------------------------------------------------------------------------------------------------------------------------\n",
            "Epoch: 3 / 10 | Reconst_loss: 1212.839 | Kldiv loss: 389.030 | Classifcation loss: 2.016 | Constrast loss: 34.25 | Total loss: 7897.603 | Train acc: 66.646 % ||| Val Loss: 7944.130 | Val acc: 68.675 %\n",
            "-------------------------------------------------------------------------------------------------------------------------------------------------------------------------------------\n",
            "Epoch: 4 / 10 | Reconst_loss: 1608.681 | Kldiv loss: 365.037 | Classifcation loss: 1.930 | Constrast loss: 17.20 | Total loss: 7779.509 | Train acc: 67.763 % ||| Val Loss: 7853.152 | Val acc: 68.867 %\n",
            "-------------------------------------------------------------------------------------------------------------------------------------------------------------------------------------\n",
            "Epoch: 5 / 10 | Reconst_loss: 1538.980 | Kldiv loss: 401.551 | Classifcation loss: 1.945 | Constrast loss: 13.36 | Total loss: 7609.075 | Train acc: 69.125 % ||| Val Loss: 7496.460 | Val acc: 69.575 %\n",
            "-------------------------------------------------------------------------------------------------------------------------------------------------------------------------------------\n",
            "Epoch: 6 / 10 | Reconst_loss: 1583.346 | Kldiv loss: 399.212 | Classifcation loss: 1.953 | Constrast loss: 8.26 | Total loss: 7587.090 | Train acc: 69.288 % ||| Val Loss: 7538.128 | Val acc: 69.586 %\n",
            "-------------------------------------------------------------------------------------------------------------------------------------------------------------------------------------\n",
            "Epoch: 7 / 10 | Reconst_loss: 994.538 | Kldiv loss: 363.752 | Classifcation loss: 2.021 | Constrast loss: 15.46 | Total loss: 7379.237 | Train acc: 70.002 % ||| Val Loss: 7154.651 | Val acc: 71.010 %\n",
            "-------------------------------------------------------------------------------------------------------------------------------------------------------------------------------------\n",
            "Epoch: 8 / 10 | Reconst_loss: 1311.657 | Kldiv loss: 384.307 | Classifcation loss: 2.057 | Constrast loss: 17.69 | Total loss: 7268.148 | Train acc: 70.571 % ||| Val Loss: 8035.414 | Val acc: 71.582 %\n",
            "-------------------------------------------------------------------------------------------------------------------------------------------------------------------------------------\n",
            "Epoch: 9 / 10 | Reconst_loss: 1611.240 | Kldiv loss: 375.005 | Classifcation loss: 1.968 | Constrast loss: 15.68 | Total loss: 7250.354 | Train acc: 71.253 % ||| Val Loss: 7086.841 | Val acc: 72.057 %\n",
            "-------------------------------------------------------------------------------------------------------------------------------------------------------------------------------------\n"
          ]
        },
        {
          "metadata": {
            "tags": null
          },
          "name": "stderr",
          "output_type": "stream",
          "text": [
            "\u001b[32m[I 2023-03-17 23:25:57,535]\u001b[0m Trial 64 finished with value: 0.7230378317334811 and parameters: {'optuna_batch_size': 138, 'optimizer': 'Adam', 'lr': 0.00648877116379364, 'hidden_dim': 969, 'alpha': 8, 'beta': 10, 'gamma': 7, 'delta': 5}. Best is trial 50 with value: 0.8561023473599106.\u001b[0m\n"
          ]
        },
        {
          "metadata": {
            "tags": null
          },
          "name": "stdout",
          "output_type": "stream",
          "text": [
            "Epoch: 10 / 10 | Reconst_loss: 1043.119 | Kldiv loss: 413.128 | Classifcation loss: 1.933 | Constrast loss: 14.77 | Total loss: 7200.845 | Train acc: 72.304 % ||| Val Loss: 7055.928 | Val acc: 73.627 %\n",
            "-------------------------------------------------------------------------------------------------------------------------------------------------------------------------------------\n",
            "Epoch: 1 / 10 | Reconst_loss: 443.686 | Kldiv loss: 112.650 | Classifcation loss: 2.242 | Constrast loss: 3.38 | Total loss: 24258.245 | Train acc: 28.410 % ||| Val Loss: 13106.810 | Val acc: 49.335 %\n",
            "-------------------------------------------------------------------------------------------------------------------------------------------------------------------------------------\n",
            "Epoch: 2 / 10 | Reconst_loss: 370.126 | Kldiv loss: 73.684 | Classifcation loss: 2.113 | Constrast loss: 0.00 | Total loss: 12315.364 | Train acc: 63.136 % ||| Val Loss: 12540.091 | Val acc: 64.009 %\n",
            "-------------------------------------------------------------------------------------------------------------------------------------------------------------------------------------\n",
            "Epoch: 3 / 10 | Reconst_loss: 329.731 | Kldiv loss: 116.403 | Classifcation loss: 2.107 | Constrast loss: 0.75 | Total loss: 11478.975 | Train acc: 70.564 % ||| Val Loss: 11194.390 | Val acc: 74.189 %\n",
            "-------------------------------------------------------------------------------------------------------------------------------------------------------------------------------------\n",
            "Epoch: 4 / 10 | Reconst_loss: 333.510 | Kldiv loss: 110.163 | Classifcation loss: 2.103 | Constrast loss: 0.00 | Total loss: 11121.441 | Train acc: 74.383 % ||| Val Loss: 10735.841 | Val acc: 75.635 %\n",
            "-------------------------------------------------------------------------------------------------------------------------------------------------------------------------------------\n",
            "Epoch: 5 / 10 | Reconst_loss: 217.921 | Kldiv loss: 69.617 | Classifcation loss: 2.125 | Constrast loss: 2.35 | Total loss: 10748.410 | Train acc: 76.239 % ||| Val Loss: 10926.941 | Val acc: 76.371 %\n",
            "-------------------------------------------------------------------------------------------------------------------------------------------------------------------------------------\n",
            "Epoch: 6 / 10 | Reconst_loss: 263.977 | Kldiv loss: 112.176 | Classifcation loss: 2.029 | Constrast loss: 0.00 | Total loss: 10551.536 | Train acc: 77.293 % ||| Val Loss: 10289.729 | Val acc: 78.402 %\n",
            "-------------------------------------------------------------------------------------------------------------------------------------------------------------------------------------\n",
            "Epoch: 7 / 10 | Reconst_loss: 326.443 | Kldiv loss: 96.646 | Classifcation loss: 1.813 | Constrast loss: 0.00 | Total loss: 10589.955 | Train acc: 77.597 % ||| Val Loss: 10346.800 | Val acc: 76.695 %\n",
            "-------------------------------------------------------------------------------------------------------------------------------------------------------------------------------------\n",
            "Epoch: 8 / 10 | Reconst_loss: 303.679 | Kldiv loss: 110.698 | Classifcation loss: 1.996 | Constrast loss: 2.57 | Total loss: 10469.889 | Train acc: 76.742 % ||| Val Loss: 10591.061 | Val acc: 76.656 %\n",
            "-------------------------------------------------------------------------------------------------------------------------------------------------------------------------------------\n",
            "Epoch: 9 / 10 | Reconst_loss: 212.817 | Kldiv loss: 84.115 | Classifcation loss: 2.035 | Constrast loss: 0.74 | Total loss: 10251.738 | Train acc: 76.485 % ||| Val Loss: 10872.881 | Val acc: 74.443 %\n",
            "-------------------------------------------------------------------------------------------------------------------------------------------------------------------------------------\n"
          ]
        },
        {
          "metadata": {
            "tags": null
          },
          "name": "stderr",
          "output_type": "stream",
          "text": [
            "\u001b[32m[I 2023-03-17 23:30:40,163]\u001b[0m Trial 65 finished with value: 0.7706164855349762 and parameters: {'optuna_batch_size': 188, 'optimizer': 'Adam', 'lr': 0.005906448656406162, 'hidden_dim': 930, 'alpha': 10, 'beta': 10, 'gamma': 6, 'delta': 9}. Best is trial 50 with value: 0.8561023473599106.\u001b[0m\n"
          ]
        },
        {
          "metadata": {
            "tags": null
          },
          "name": "stdout",
          "output_type": "stream",
          "text": [
            "Epoch: 10 / 10 | Reconst_loss: 145.603 | Kldiv loss: 87.711 | Classifcation loss: 1.858 | Constrast loss: 0.00 | Total loss: 10330.652 | Train acc: 77.062 % ||| Val Loss: 10357.915 | Val acc: 79.307 %\n",
            "-------------------------------------------------------------------------------------------------------------------------------------------------------------------------------------\n",
            "Epoch: 1 / 10 | Reconst_loss: 823.390 | Kldiv loss: 237.873 | Classifcation loss: 2.069 | Constrast loss: 8.96 | Total loss: 14902.430 | Train acc: 38.682 % ||| Val Loss: 10734.731 | Val acc: 60.217 %\n",
            "-------------------------------------------------------------------------------------------------------------------------------------------------------------------------------------\n",
            "Epoch: 2 / 10 | Reconst_loss: 1058.265 | Kldiv loss: 246.493 | Classifcation loss: 2.039 | Constrast loss: 4.16 | Total loss: 10497.222 | Train acc: 62.176 % ||| Val Loss: 10554.127 | Val acc: 63.070 %\n",
            "-------------------------------------------------------------------------------------------------------------------------------------------------------------------------------------\n",
            "Epoch: 3 / 10 | Reconst_loss: 1096.766 | Kldiv loss: 233.016 | Classifcation loss: 2.051 | Constrast loss: 12.31 | Total loss: 9968.076 | Train acc: 64.921 % ||| Val Loss: 9903.981 | Val acc: 64.650 %\n",
            "-------------------------------------------------------------------------------------------------------------------------------------------------------------------------------------\n",
            "Epoch: 4 / 10 | Reconst_loss: 840.707 | Kldiv loss: 237.471 | Classifcation loss: 2.117 | Constrast loss: 7.49 | Total loss: 9786.694 | Train acc: 66.449 % ||| Val Loss: 9904.178 | Val acc: 65.847 %\n",
            "-------------------------------------------------------------------------------------------------------------------------------------------------------------------------------------\n",
            "Epoch: 5 / 10 | Reconst_loss: 1084.704 | Kldiv loss: 202.440 | Classifcation loss: 2.162 | Constrast loss: 9.09 | Total loss: 9891.067 | Train acc: 63.736 % ||| Val Loss: 9863.222 | Val acc: 61.533 %\n",
            "-------------------------------------------------------------------------------------------------------------------------------------------------------------------------------------\n",
            "Epoch: 6 / 10 | Reconst_loss: 609.055 | Kldiv loss: 240.449 | Classifcation loss: 2.056 | Constrast loss: 5.81 | Total loss: 9850.214 | Train acc: 61.718 % ||| Val Loss: 9945.743 | Val acc: 61.406 %\n",
            "-------------------------------------------------------------------------------------------------------------------------------------------------------------------------------------\n",
            "Epoch: 7 / 10 | Reconst_loss: 848.344 | Kldiv loss: 249.554 | Classifcation loss: 1.990 | Constrast loss: 1.91 | Total loss: 9554.366 | Train acc: 63.291 % ||| Val Loss: 9546.631 | Val acc: 64.752 %\n",
            "-------------------------------------------------------------------------------------------------------------------------------------------------------------------------------------\n",
            "Epoch: 8 / 10 | Reconst_loss: 642.813 | Kldiv loss: 241.940 | Classifcation loss: 2.070 | Constrast loss: 2.73 | Total loss: 9129.495 | Train acc: 64.707 % ||| Val Loss: 8829.704 | Val acc: 65.194 %\n",
            "-------------------------------------------------------------------------------------------------------------------------------------------------------------------------------------\n",
            "Epoch: 9 / 10 | Reconst_loss: 589.588 | Kldiv loss: 200.855 | Classifcation loss: 2.015 | Constrast loss: 7.54 | Total loss: 8961.868 | Train acc: 64.932 % ||| Val Loss: 8638.291 | Val acc: 64.821 %\n",
            "-------------------------------------------------------------------------------------------------------------------------------------------------------------------------------------\n"
          ]
        },
        {
          "metadata": {
            "tags": null
          },
          "name": "stderr",
          "output_type": "stream",
          "text": [
            "\u001b[32m[I 2023-03-17 23:36:01,769]\u001b[0m Trial 66 finished with value: 0.6473674383868564 and parameters: {'optuna_batch_size': 169, 'optimizer': 'Adam', 'lr': 0.0058930841906473085, 'hidden_dim': 983, 'alpha': 10, 'beta': 10, 'gamma': 6, 'delta': 10}. Best is trial 50 with value: 0.8561023473599106.\u001b[0m\n"
          ]
        },
        {
          "metadata": {
            "tags": null
          },
          "name": "stdout",
          "output_type": "stream",
          "text": [
            "Epoch: 10 / 10 | Reconst_loss: 719.819 | Kldiv loss: 240.238 | Classifcation loss: 2.117 | Constrast loss: 3.71 | Total loss: 8913.671 | Train acc: 64.737 % ||| Val Loss: 9188.066 | Val acc: 64.541 %\n",
            "-------------------------------------------------------------------------------------------------------------------------------------------------------------------------------------\n",
            "Epoch: 1 / 10 | Reconst_loss: 2245.115 | Kldiv loss: 497.585 | Classifcation loss: 2.055 | Constrast loss: 73.61 | Total loss: 8813.949 | Train acc: 41.327 % ||| Val Loss: 6475.817 | Val acc: 65.559 %\n",
            "-------------------------------------------------------------------------------------------------------------------------------------------------------------------------------------\n",
            "Epoch: 2 / 10 | Reconst_loss: 1554.794 | Kldiv loss: 367.156 | Classifcation loss: 2.106 | Constrast loss: 32.32 | Total loss: 6217.080 | Train acc: 69.115 % ||| Val Loss: 5880.586 | Val acc: 71.454 %\n",
            "-------------------------------------------------------------------------------------------------------------------------------------------------------------------------------------\n",
            "Epoch: 3 / 10 | Reconst_loss: 1615.058 | Kldiv loss: 444.876 | Classifcation loss: 1.993 | Constrast loss: 40.77 | Total loss: 5969.956 | Train acc: 72.441 % ||| Val Loss: 6015.800 | Val acc: 72.535 %\n",
            "-------------------------------------------------------------------------------------------------------------------------------------------------------------------------------------\n",
            "Epoch: 4 / 10 | Reconst_loss: 1496.874 | Kldiv loss: 456.775 | Classifcation loss: 2.043 | Constrast loss: 38.20 | Total loss: 5848.344 | Train acc: 73.329 % ||| Val Loss: 5935.745 | Val acc: 72.754 %\n",
            "-------------------------------------------------------------------------------------------------------------------------------------------------------------------------------------\n",
            "Epoch: 5 / 10 | Reconst_loss: 1540.528 | Kldiv loss: 418.057 | Classifcation loss: 2.000 | Constrast loss: 31.29 | Total loss: 6153.374 | Train acc: 66.356 % ||| Val Loss: 6011.876 | Val acc: 67.531 %\n",
            "-------------------------------------------------------------------------------------------------------------------------------------------------------------------------------------\n",
            "Epoch: 6 / 10 | Reconst_loss: 1490.509 | Kldiv loss: 364.235 | Classifcation loss: 1.989 | Constrast loss: 37.67 | Total loss: 5840.030 | Train acc: 68.748 % ||| Val Loss: 5839.528 | Val acc: 68.375 %\n",
            "-------------------------------------------------------------------------------------------------------------------------------------------------------------------------------------\n",
            "Epoch: 7 / 10 | Reconst_loss: 1422.977 | Kldiv loss: 416.720 | Classifcation loss: 1.908 | Constrast loss: 19.54 | Total loss: 5617.852 | Train acc: 70.028 % ||| Val Loss: 5549.180 | Val acc: 72.221 %\n",
            "-------------------------------------------------------------------------------------------------------------------------------------------------------------------------------------\n",
            "Epoch: 8 / 10 | Reconst_loss: 1250.528 | Kldiv loss: 438.199 | Classifcation loss: 2.082 | Constrast loss: 33.42 | Total loss: 5648.825 | Train acc: 70.030 % ||| Val Loss: 5816.978 | Val acc: 69.050 %\n",
            "-------------------------------------------------------------------------------------------------------------------------------------------------------------------------------------\n",
            "Epoch: 9 / 10 | Reconst_loss: 1288.497 | Kldiv loss: 400.890 | Classifcation loss: 2.007 | Constrast loss: 40.89 | Total loss: 5530.928 | Train acc: 70.890 % ||| Val Loss: 5470.526 | Val acc: 71.643 %\n",
            "-------------------------------------------------------------------------------------------------------------------------------------------------------------------------------------\n"
          ]
        },
        {
          "metadata": {
            "tags": null
          },
          "name": "stderr",
          "output_type": "stream",
          "text": [
            "\u001b[32m[I 2023-03-17 23:42:54,779]\u001b[0m Trial 67 finished with value: 0.7385269176163619 and parameters: {'optuna_batch_size': 102, 'optimizer': 'Adam', 'lr': 0.0063974798728708565, 'hidden_dim': 944, 'alpha': 10, 'beta': 9, 'gamma': 8, 'delta': 9}. Best is trial 50 with value: 0.8561023473599106.\u001b[0m\n"
          ]
        },
        {
          "metadata": {
            "tags": null
          },
          "name": "stdout",
          "output_type": "stream",
          "text": [
            "Epoch: 10 / 10 | Reconst_loss: 1310.452 | Kldiv loss: 402.779 | Classifcation loss: 1.955 | Constrast loss: 30.12 | Total loss: 5492.470 | Train acc: 73.853 % ||| Val Loss: 5609.791 | Val acc: 76.492 %\n",
            "-------------------------------------------------------------------------------------------------------------------------------------------------------------------------------------\n",
            "Epoch: 1 / 10 | Reconst_loss: 1869.208 | Kldiv loss: 434.872 | Classifcation loss: 2.292 | Constrast loss: 59.14 | Total loss: 16676.825 | Train acc: 28.227 % ||| Val Loss: 10462.085 | Val acc: 37.008 %\n",
            "-------------------------------------------------------------------------------------------------------------------------------------------------------------------------------------\n",
            "Epoch: 2 / 10 | Reconst_loss: 1743.462 | Kldiv loss: 440.868 | Classifcation loss: 2.208 | Constrast loss: 17.04 | Total loss: 9825.583 | Train acc: 43.828 % ||| Val Loss: 9768.913 | Val acc: 44.869 %\n",
            "-------------------------------------------------------------------------------------------------------------------------------------------------------------------------------------\n",
            "Epoch: 3 / 10 | Reconst_loss: 1308.436 | Kldiv loss: 381.961 | Classifcation loss: 2.149 | Constrast loss: 27.16 | Total loss: 9378.506 | Train acc: 49.096 % ||| Val Loss: 9273.962 | Val acc: 50.748 %\n",
            "-------------------------------------------------------------------------------------------------------------------------------------------------------------------------------------\n",
            "Epoch: 4 / 10 | Reconst_loss: 1478.329 | Kldiv loss: 438.368 | Classifcation loss: 2.143 | Constrast loss: 17.74 | Total loss: 8974.394 | Train acc: 50.753 % ||| Val Loss: 8789.817 | Val acc: 51.929 %\n",
            "-------------------------------------------------------------------------------------------------------------------------------------------------------------------------------------\n",
            "Epoch: 5 / 10 | Reconst_loss: 1557.020 | Kldiv loss: 469.748 | Classifcation loss: 2.202 | Constrast loss: 6.11 | Total loss: 8722.696 | Train acc: 52.352 % ||| Val Loss: 8828.034 | Val acc: 54.292 %\n",
            "-------------------------------------------------------------------------------------------------------------------------------------------------------------------------------------\n",
            "Epoch: 6 / 10 | Reconst_loss: 1498.374 | Kldiv loss: 457.475 | Classifcation loss: 2.230 | Constrast loss: 4.66 | Total loss: 8707.146 | Train acc: 53.794 % ||| Val Loss: 8561.135 | Val acc: 55.037 %\n",
            "-------------------------------------------------------------------------------------------------------------------------------------------------------------------------------------\n",
            "Epoch: 7 / 10 | Reconst_loss: 1705.960 | Kldiv loss: 407.091 | Classifcation loss: 2.184 | Constrast loss: 31.03 | Total loss: 8562.306 | Train acc: 54.426 % ||| Val Loss: 8367.672 | Val acc: 55.272 %\n",
            "-------------------------------------------------------------------------------------------------------------------------------------------------------------------------------------\n",
            "Epoch: 8 / 10 | Reconst_loss: 1603.394 | Kldiv loss: 426.363 | Classifcation loss: 2.172 | Constrast loss: 19.52 | Total loss: 8502.743 | Train acc: 54.894 % ||| Val Loss: 10078.798 | Val acc: 48.064 %\n",
            "-------------------------------------------------------------------------------------------------------------------------------------------------------------------------------------\n",
            "Epoch: 9 / 10 | Reconst_loss: 1821.285 | Kldiv loss: 425.179 | Classifcation loss: 2.138 | Constrast loss: 0.38 | Total loss: 8438.912 | Train acc: 55.626 % ||| Val Loss: 8147.265 | Val acc: 56.097 %\n",
            "-------------------------------------------------------------------------------------------------------------------------------------------------------------------------------------\n"
          ]
        },
        {
          "metadata": {
            "tags": null
          },
          "name": "stderr",
          "output_type": "stream",
          "text": [
            "\u001b[32m[I 2023-03-17 23:47:08,896]\u001b[0m Trial 68 finished with value: 0.5654960420140686 and parameters: {'optuna_batch_size': 153, 'optimizer': 'Adam', 'lr': 0.00685098573061333, 'hidden_dim': 819, 'alpha': 8, 'beta': 10, 'gamma': 5, 'delta': 10}. Best is trial 50 with value: 0.8561023473599106.\u001b[0m\n"
          ]
        },
        {
          "metadata": {
            "tags": null
          },
          "name": "stdout",
          "output_type": "stream",
          "text": [
            "Epoch: 10 / 10 | Reconst_loss: 1447.354 | Kldiv loss: 403.285 | Classifcation loss: 2.189 | Constrast loss: 10.14 | Total loss: 8306.309 | Train acc: 56.550 % ||| Val Loss: 8330.380 | Val acc: 55.192 %\n",
            "-------------------------------------------------------------------------------------------------------------------------------------------------------------------------------------\n",
            "Epoch: 1 / 10 | Reconst_loss: 3323.711 | Kldiv loss: 596.394 | Classifcation loss: 2.329 | Constrast loss: 112.58 | Total loss: 1327338486861850426804252180480.000 | Train acc: 29.596 % ||| Val Loss: 12628.691 | Val acc: 43.098 %\n",
            "-------------------------------------------------------------------------------------------------------------------------------------------------------------------------------------\n",
            "Epoch: 2 / 10 | Reconst_loss: 2746.949 | Kldiv loss: 633.094 | Classifcation loss: 2.101 | Constrast loss: 79.35 | Total loss: 12245.843 | Train acc: 45.789 % ||| Val Loss: 11214.965 | Val acc: 49.909 %\n",
            "-------------------------------------------------------------------------------------------------------------------------------------------------------------------------------------\n",
            "Epoch: 3 / 10 | Reconst_loss: 2781.455 | Kldiv loss: 615.986 | Classifcation loss: 2.096 | Constrast loss: 64.16 | Total loss: 11195.434 | Train acc: 53.559 % ||| Val Loss: 10265.769 | Val acc: 54.283 %\n",
            "-------------------------------------------------------------------------------------------------------------------------------------------------------------------------------------\n",
            "Epoch: 4 / 10 | Reconst_loss: 2075.320 | Kldiv loss: 553.442 | Classifcation loss: 2.193 | Constrast loss: 103.49 | Total loss: 10102.760 | Train acc: 55.900 % ||| Val Loss: 9086.629 | Val acc: 57.894 %\n",
            "-------------------------------------------------------------------------------------------------------------------------------------------------------------------------------------\n",
            "Epoch: 5 / 10 | Reconst_loss: 1801.929 | Kldiv loss: 533.857 | Classifcation loss: 2.000 | Constrast loss: 77.69 | Total loss: 9248.142 | Train acc: 57.201 % ||| Val Loss: 8592.015 | Val acc: 59.650 %\n",
            "-------------------------------------------------------------------------------------------------------------------------------------------------------------------------------------\n",
            "Epoch: 6 / 10 | Reconst_loss: 2028.346 | Kldiv loss: 572.795 | Classifcation loss: 2.038 | Constrast loss: 52.68 | Total loss: 8896.237 | Train acc: 59.243 % ||| Val Loss: 8553.275 | Val acc: 60.812 %\n",
            "-------------------------------------------------------------------------------------------------------------------------------------------------------------------------------------\n",
            "Epoch: 7 / 10 | Reconst_loss: 2035.738 | Kldiv loss: 604.934 | Classifcation loss: 1.939 | Constrast loss: 14.37 | Total loss: 8726.630 | Train acc: 61.717 % ||| Val Loss: 8735.088 | Val acc: 61.381 %\n",
            "-------------------------------------------------------------------------------------------------------------------------------------------------------------------------------------\n",
            "Epoch: 8 / 10 | Reconst_loss: 2144.951 | Kldiv loss: 526.482 | Classifcation loss: 2.081 | Constrast loss: 64.31 | Total loss: 8571.402 | Train acc: 62.021 % ||| Val Loss: 8096.581 | Val acc: 64.013 %\n",
            "-------------------------------------------------------------------------------------------------------------------------------------------------------------------------------------\n",
            "Epoch: 9 / 10 | Reconst_loss: 2452.272 | Kldiv loss: 772.948 | Classifcation loss: 2.148 | Constrast loss: 52.59 | Total loss: 8585.198 | Train acc: 62.143 % ||| Val Loss: 9257.521 | Val acc: 58.276 %\n",
            "-------------------------------------------------------------------------------------------------------------------------------------------------------------------------------------\n"
          ]
        },
        {
          "metadata": {
            "tags": null
          },
          "name": "stderr",
          "output_type": "stream",
          "text": [
            "\u001b[32m[I 2023-03-17 23:50:40,107]\u001b[0m Trial 69 finished with value: 0.6208503085275672 and parameters: {'optuna_batch_size': 133, 'optimizer': 'RMSprop', 'lr': 0.005827361191389931, 'hidden_dim': 858, 'alpha': 7, 'beta': 10, 'gamma': 6, 'delta': 5}. Best is trial 50 with value: 0.8561023473599106.\u001b[0m\n"
          ]
        },
        {
          "metadata": {
            "tags": null
          },
          "name": "stdout",
          "output_type": "stream",
          "text": [
            "Epoch: 10 / 10 | Reconst_loss: 1896.048 | Kldiv loss: 569.549 | Classifcation loss: 2.021 | Constrast loss: 28.66 | Total loss: 8608.763 | Train acc: 62.085 % ||| Val Loss: 8112.406 | Val acc: 63.426 %\n",
            "-------------------------------------------------------------------------------------------------------------------------------------------------------------------------------------\n",
            "Epoch: 1 / 10 | Reconst_loss: 22282.383 | Kldiv loss: 26377.121 | Classifcation loss: 2.521 | Constrast loss: 23157.02 | Total loss: 767328.685 | Train acc: 9.050 % ||| Val Loss: 302171.863 | Val acc: 12.872 %\n",
            "-------------------------------------------------------------------------------------------------------------------------------------------------------------------------------------\n",
            "Epoch: 2 / 10 | Reconst_loss: 21325.703 | Kldiv loss: 9580.159 | Classifcation loss: 2.482 | Constrast loss: 4478.65 | Total loss: 240365.462 | Train acc: 16.439 % ||| Val Loss: 110317.766 | Val acc: 20.873 %\n",
            "-------------------------------------------------------------------------------------------------------------------------------------------------------------------------------------\n",
            "Epoch: 3 / 10 | Reconst_loss: 18303.146 | Kldiv loss: 8159.781 | Classifcation loss: 2.345 | Constrast loss: 2536.00 | Total loss: 96997.016 | Train acc: 29.907 % ||| Val Loss: 85273.811 | Val acc: 35.774 %\n",
            "-------------------------------------------------------------------------------------------------------------------------------------------------------------------------------------\n",
            "Epoch: 4 / 10 | Reconst_loss: 19789.270 | Kldiv loss: 7145.750 | Classifcation loss: 2.266 | Constrast loss: 1593.19 | Total loss: 80405.851 | Train acc: 41.219 % ||| Val Loss: 71585.815 | Val acc: 45.058 %\n",
            "-------------------------------------------------------------------------------------------------------------------------------------------------------------------------------------\n",
            "Epoch: 5 / 10 | Reconst_loss: 17562.240 | Kldiv loss: 6104.843 | Classifcation loss: 2.214 | Constrast loss: 1310.70 | Total loss: 70511.885 | Train acc: 48.923 % ||| Val Loss: 67224.855 | Val acc: 50.943 %\n",
            "-------------------------------------------------------------------------------------------------------------------------------------------------------------------------------------\n",
            "Epoch: 6 / 10 | Reconst_loss: 17627.775 | Kldiv loss: 6533.345 | Classifcation loss: 2.167 | Constrast loss: 1073.37 | Total loss: 65757.167 | Train acc: 54.531 % ||| Val Loss: 63776.487 | Val acc: 55.010 %\n",
            "-------------------------------------------------------------------------------------------------------------------------------------------------------------------------------------\n",
            "Epoch: 7 / 10 | Reconst_loss: 14684.649 | Kldiv loss: 5852.488 | Classifcation loss: 2.130 | Constrast loss: 1011.61 | Total loss: 62312.112 | Train acc: 57.045 % ||| Val Loss: 59744.851 | Val acc: 57.720 %\n",
            "-------------------------------------------------------------------------------------------------------------------------------------------------------------------------------------\n",
            "Epoch: 8 / 10 | Reconst_loss: 15862.405 | Kldiv loss: 5588.352 | Classifcation loss: 2.087 | Constrast loss: 858.40 | Total loss: 59925.975 | Train acc: 58.874 % ||| Val Loss: 58681.363 | Val acc: 58.131 %\n",
            "-------------------------------------------------------------------------------------------------------------------------------------------------------------------------------------\n",
            "Epoch: 9 / 10 | Reconst_loss: 17647.242 | Kldiv loss: 6110.473 | Classifcation loss: 2.078 | Constrast loss: 677.56 | Total loss: 59522.922 | Train acc: 59.187 % ||| Val Loss: 63415.368 | Val acc: 58.390 %\n",
            "-------------------------------------------------------------------------------------------------------------------------------------------------------------------------------------\n"
          ]
        },
        {
          "metadata": {
            "tags": null
          },
          "name": "stderr",
          "output_type": "stream",
          "text": [
            "\u001b[32m[I 2023-03-17 23:53:43,258]\u001b[0m Trial 70 finished with value: 0.5966773534360128 and parameters: {'optuna_batch_size': 804, 'optimizer': 'Adam', 'lr': 0.006132511969965391, 'hidden_dim': 979, 'alpha': 9, 'beta': 9, 'gamma': 5, 'delta': 9}. Best is trial 50 with value: 0.8561023473599106.\u001b[0m\n"
          ]
        },
        {
          "metadata": {
            "tags": null
          },
          "name": "stdout",
          "output_type": "stream",
          "text": [
            "Epoch: 10 / 10 | Reconst_loss: 14372.736 | Kldiv loss: 5405.670 | Classifcation loss: 2.143 | Constrast loss: 932.79 | Total loss: 57984.755 | Train acc: 59.668 % ||| Val Loss: 56282.927 | Val acc: 60.048 %\n",
            "-------------------------------------------------------------------------------------------------------------------------------------------------------------------------------------\n",
            "Epoch: 1 / 10 | Reconst_loss: 4542.045 | Kldiv loss: 1259.483 | Classifcation loss: 2.212 | Constrast loss: 168.95 | Total loss: 17464.351 | Train acc: 34.178 % ||| Val Loss: 13345.959 | Val acc: 62.071 %\n",
            "-------------------------------------------------------------------------------------------------------------------------------------------------------------------------------------\n",
            "Epoch: 2 / 10 | Reconst_loss: 4276.853 | Kldiv loss: 1032.075 | Classifcation loss: 2.000 | Constrast loss: 154.04 | Total loss: 12034.145 | Train acc: 68.429 % ||| Val Loss: 11781.481 | Val acc: 71.442 %\n",
            "-------------------------------------------------------------------------------------------------------------------------------------------------------------------------------------\n",
            "Epoch: 3 / 10 | Reconst_loss: 3549.155 | Kldiv loss: 1010.670 | Classifcation loss: 1.943 | Constrast loss: 134.00 | Total loss: 11697.344 | Train acc: 70.841 % ||| Val Loss: 11585.219 | Val acc: 71.954 %\n",
            "-------------------------------------------------------------------------------------------------------------------------------------------------------------------------------------\n",
            "Epoch: 4 / 10 | Reconst_loss: 3903.695 | Kldiv loss: 1032.469 | Classifcation loss: 1.957 | Constrast loss: 100.72 | Total loss: 11202.035 | Train acc: 73.593 % ||| Val Loss: 11093.619 | Val acc: 71.804 %\n",
            "-------------------------------------------------------------------------------------------------------------------------------------------------------------------------------------\n",
            "Epoch: 5 / 10 | Reconst_loss: 4006.248 | Kldiv loss: 1061.814 | Classifcation loss: 1.918 | Constrast loss: 100.45 | Total loss: 11001.026 | Train acc: 72.704 % ||| Val Loss: 11054.051 | Val acc: 75.150 %\n",
            "-------------------------------------------------------------------------------------------------------------------------------------------------------------------------------------\n",
            "Epoch: 6 / 10 | Reconst_loss: 3216.564 | Kldiv loss: 1003.440 | Classifcation loss: 1.992 | Constrast loss: 50.93 | Total loss: 11130.872 | Train acc: 71.325 % ||| Val Loss: 10801.550 | Val acc: 68.971 %\n",
            "-------------------------------------------------------------------------------------------------------------------------------------------------------------------------------------\n",
            "Epoch: 7 / 10 | Reconst_loss: 4167.870 | Kldiv loss: 1155.043 | Classifcation loss: 1.964 | Constrast loss: 23.88 | Total loss: 10707.024 | Train acc: 71.058 % ||| Val Loss: 10945.255 | Val acc: 70.088 %\n",
            "-------------------------------------------------------------------------------------------------------------------------------------------------------------------------------------\n",
            "Epoch: 8 / 10 | Reconst_loss: 2924.709 | Kldiv loss: 1123.154 | Classifcation loss: 1.997 | Constrast loss: 78.71 | Total loss: 10816.302 | Train acc: 67.316 % ||| Val Loss: 10927.502 | Val acc: 64.634 %\n",
            "-------------------------------------------------------------------------------------------------------------------------------------------------------------------------------------\n",
            "Epoch: 9 / 10 | Reconst_loss: 3390.592 | Kldiv loss: 991.200 | Classifcation loss: 2.072 | Constrast loss: 50.02 | Total loss: 10532.277 | Train acc: 67.028 % ||| Val Loss: 10366.917 | Val acc: 66.205 %\n",
            "-------------------------------------------------------------------------------------------------------------------------------------------------------------------------------------\n"
          ]
        },
        {
          "metadata": {
            "tags": null
          },
          "name": "stderr",
          "output_type": "stream",
          "text": [
            "\u001b[32m[I 2023-03-17 23:58:29,905]\u001b[0m Trial 71 finished with value: 0.671119445129808 and parameters: {'optuna_batch_size': 193, 'optimizer': 'Adam', 'lr': 0.005613659997818302, 'hidden_dim': 928, 'alpha': 9, 'beta': 10, 'gamma': 7, 'delta': 8}. Best is trial 50 with value: 0.8561023473599106.\u001b[0m\n"
          ]
        },
        {
          "metadata": {
            "tags": null
          },
          "name": "stdout",
          "output_type": "stream",
          "text": [
            "Epoch: 10 / 10 | Reconst_loss: 3399.342 | Kldiv loss: 889.188 | Classifcation loss: 2.016 | Constrast loss: 98.00 | Total loss: 10204.278 | Train acc: 67.112 % ||| Val Loss: 10073.590 | Val acc: 67.270 %\n",
            "-------------------------------------------------------------------------------------------------------------------------------------------------------------------------------------\n",
            "Epoch: 1 / 10 | Reconst_loss: 3964.611 | Kldiv loss: 950.784 | Classifcation loss: 2.241 | Constrast loss: 73.87 | Total loss: 19916.555 | Train acc: 31.240 % ||| Val Loss: 13638.351 | Val acc: 52.758 %\n",
            "-------------------------------------------------------------------------------------------------------------------------------------------------------------------------------------\n",
            "Epoch: 2 / 10 | Reconst_loss: 3171.145 | Kldiv loss: 1021.708 | Classifcation loss: 2.071 | Constrast loss: 113.63 | Total loss: 13089.811 | Train acc: 61.360 % ||| Val Loss: 12557.331 | Val acc: 67.489 %\n",
            "-------------------------------------------------------------------------------------------------------------------------------------------------------------------------------------\n",
            "Epoch: 3 / 10 | Reconst_loss: 3062.026 | Kldiv loss: 984.973 | Classifcation loss: 1.997 | Constrast loss: 170.64 | Total loss: 12423.659 | Train acc: 69.197 % ||| Val Loss: 12042.183 | Val acc: 68.053 %\n",
            "-------------------------------------------------------------------------------------------------------------------------------------------------------------------------------------\n",
            "Epoch: 4 / 10 | Reconst_loss: 3539.636 | Kldiv loss: 898.964 | Classifcation loss: 2.025 | Constrast loss: 58.42 | Total loss: 11901.694 | Train acc: 70.843 % ||| Val Loss: 11864.255 | Val acc: 71.479 %\n",
            "-------------------------------------------------------------------------------------------------------------------------------------------------------------------------------------\n",
            "Epoch: 5 / 10 | Reconst_loss: 2984.903 | Kldiv loss: 857.938 | Classifcation loss: 1.978 | Constrast loss: 48.74 | Total loss: 11707.307 | Train acc: 71.775 % ||| Val Loss: 11465.157 | Val acc: 72.157 %\n",
            "-------------------------------------------------------------------------------------------------------------------------------------------------------------------------------------\n",
            "Epoch: 6 / 10 | Reconst_loss: 3474.878 | Kldiv loss: 863.567 | Classifcation loss: 2.077 | Constrast loss: 105.67 | Total loss: 11448.684 | Train acc: 72.278 % ||| Val Loss: 11101.049 | Val acc: 70.832 %\n",
            "-------------------------------------------------------------------------------------------------------------------------------------------------------------------------------------\n",
            "Epoch: 7 / 10 | Reconst_loss: 3515.193 | Kldiv loss: 805.391 | Classifcation loss: 1.892 | Constrast loss: 60.19 | Total loss: 11153.480 | Train acc: 73.047 % ||| Val Loss: 10821.655 | Val acc: 72.733 %\n",
            "-------------------------------------------------------------------------------------------------------------------------------------------------------------------------------------\n",
            "Epoch: 8 / 10 | Reconst_loss: 3383.531 | Kldiv loss: 947.165 | Classifcation loss: 1.971 | Constrast loss: 32.71 | Total loss: 11159.558 | Train acc: 73.462 % ||| Val Loss: 10911.672 | Val acc: 74.337 %\n",
            "-------------------------------------------------------------------------------------------------------------------------------------------------------------------------------------\n",
            "Epoch: 9 / 10 | Reconst_loss: 3041.912 | Kldiv loss: 918.455 | Classifcation loss: 1.975 | Constrast loss: 100.93 | Total loss: 10840.809 | Train acc: 73.801 % ||| Val Loss: 11017.704 | Val acc: 72.192 %\n",
            "-------------------------------------------------------------------------------------------------------------------------------------------------------------------------------------\n"
          ]
        },
        {
          "metadata": {
            "tags": null
          },
          "name": "stderr",
          "output_type": "stream",
          "text": [
            "\u001b[32m[I 2023-03-18 00:03:08,920]\u001b[0m Trial 72 finished with value: 0.7369936044539407 and parameters: {'optuna_batch_size': 199, 'optimizer': 'Adam', 'lr': 0.006750449132467806, 'hidden_dim': 922, 'alpha': 10, 'beta': 10, 'gamma': 6, 'delta': 7}. Best is trial 50 with value: 0.8561023473599106.\u001b[0m\n"
          ]
        },
        {
          "metadata": {
            "tags": null
          },
          "name": "stdout",
          "output_type": "stream",
          "text": [
            "Epoch: 10 / 10 | Reconst_loss: 2762.930 | Kldiv loss: 802.177 | Classifcation loss: 1.976 | Constrast loss: 82.77 | Total loss: 10804.341 | Train acc: 73.699 % ||| Val Loss: 10595.382 | Val acc: 73.910 %\n",
            "-------------------------------------------------------------------------------------------------------------------------------------------------------------------------------------\n",
            "Epoch: 1 / 10 | Reconst_loss: 4772.161 | Kldiv loss: 1356.362 | Classifcation loss: 2.303 | Constrast loss: 144.52 | Total loss: 35382.977 | Train acc: 28.254 % ||| Val Loss: 18251.752 | Val acc: 39.907 %\n",
            "-------------------------------------------------------------------------------------------------------------------------------------------------------------------------------------\n",
            "Epoch: 2 / 10 | Reconst_loss: 4508.203 | Kldiv loss: 1267.961 | Classifcation loss: 2.181 | Constrast loss: 128.81 | Total loss: 16988.285 | Train acc: 49.308 % ||| Val Loss: 15982.231 | Val acc: 54.064 %\n",
            "-------------------------------------------------------------------------------------------------------------------------------------------------------------------------------------\n",
            "Epoch: 3 / 10 | Reconst_loss: 4043.221 | Kldiv loss: 1019.457 | Classifcation loss: 2.122 | Constrast loss: 137.63 | Total loss: 15380.774 | Train acc: 56.544 % ||| Val Loss: 14662.845 | Val acc: 58.316 %\n",
            "-------------------------------------------------------------------------------------------------------------------------------------------------------------------------------------\n",
            "Epoch: 4 / 10 | Reconst_loss: 3881.073 | Kldiv loss: 1056.876 | Classifcation loss: 2.121 | Constrast loss: 66.38 | Total loss: 14543.250 | Train acc: 59.671 % ||| Val Loss: 14083.715 | Val acc: 60.560 %\n",
            "-------------------------------------------------------------------------------------------------------------------------------------------------------------------------------------\n",
            "Epoch: 5 / 10 | Reconst_loss: 4479.864 | Kldiv loss: 1153.610 | Classifcation loss: 2.059 | Constrast loss: 66.56 | Total loss: 14397.773 | Train acc: 60.285 % ||| Val Loss: 13963.889 | Val acc: 61.339 %\n",
            "-------------------------------------------------------------------------------------------------------------------------------------------------------------------------------------\n",
            "Epoch: 6 / 10 | Reconst_loss: 3734.489 | Kldiv loss: 1088.464 | Classifcation loss: 2.109 | Constrast loss: 84.38 | Total loss: 14015.867 | Train acc: 61.550 % ||| Val Loss: 13772.109 | Val acc: 61.998 %\n",
            "-------------------------------------------------------------------------------------------------------------------------------------------------------------------------------------\n",
            "Epoch: 7 / 10 | Reconst_loss: 3791.406 | Kldiv loss: 1269.040 | Classifcation loss: 2.090 | Constrast loss: 53.24 | Total loss: 13787.980 | Train acc: 62.403 % ||| Val Loss: 13786.486 | Val acc: 62.419 %\n",
            "-------------------------------------------------------------------------------------------------------------------------------------------------------------------------------------\n",
            "Epoch: 8 / 10 | Reconst_loss: 3617.972 | Kldiv loss: 1004.763 | Classifcation loss: 2.063 | Constrast loss: 63.09 | Total loss: 13700.461 | Train acc: 62.899 % ||| Val Loss: 13268.164 | Val acc: 61.675 %\n",
            "-------------------------------------------------------------------------------------------------------------------------------------------------------------------------------------\n",
            "Epoch: 9 / 10 | Reconst_loss: 3662.338 | Kldiv loss: 1179.884 | Classifcation loss: 2.116 | Constrast loss: 54.21 | Total loss: 13474.250 | Train acc: 63.730 % ||| Val Loss: 13252.434 | Val acc: 65.146 %\n",
            "-------------------------------------------------------------------------------------------------------------------------------------------------------------------------------------\n"
          ]
        },
        {
          "metadata": {
            "tags": null
          },
          "name": "stderr",
          "output_type": "stream",
          "text": [
            "\u001b[32m[I 2023-03-18 00:07:25,589]\u001b[0m Trial 73 finished with value: 0.645730346530489 and parameters: {'optuna_batch_size': 246, 'optimizer': 'Adam', 'lr': 0.006346185660567776, 'hidden_dim': 948, 'alpha': 9, 'beta': 9, 'gamma': 7, 'delta': 6}. Best is trial 50 with value: 0.8561023473599106.\u001b[0m\n"
          ]
        },
        {
          "metadata": {
            "tags": null
          },
          "name": "stdout",
          "output_type": "stream",
          "text": [
            "Epoch: 10 / 10 | Reconst_loss: 3646.243 | Kldiv loss: 1070.153 | Classifcation loss: 2.082 | Constrast loss: 43.02 | Total loss: 13312.832 | Train acc: 64.573 % ||| Val Loss: 13041.799 | Val acc: 64.111 %\n",
            "-------------------------------------------------------------------------------------------------------------------------------------------------------------------------------------\n",
            "Epoch: 1 / 10 | Reconst_loss: 2367.551 | Kldiv loss: 617.296 | Classifcation loss: 2.153 | Constrast loss: 58.83 | Total loss: 13419.720 | Train acc: 38.960 % ||| Val Loss: 10135.622 | Val acc: 61.371 %\n",
            "-------------------------------------------------------------------------------------------------------------------------------------------------------------------------------------\n",
            "Epoch: 2 / 10 | Reconst_loss: 2473.369 | Kldiv loss: 760.386 | Classifcation loss: 2.082 | Constrast loss: 52.87 | Total loss: 9783.535 | Train acc: 65.437 % ||| Val Loss: 9840.967 | Val acc: 65.765 %\n",
            "-------------------------------------------------------------------------------------------------------------------------------------------------------------------------------------\n",
            "Epoch: 3 / 10 | Reconst_loss: 2461.879 | Kldiv loss: 579.232 | Classifcation loss: 1.994 | Constrast loss: 47.79 | Total loss: 9450.303 | Train acc: 68.103 % ||| Val Loss: 9384.781 | Val acc: 68.048 %\n",
            "-------------------------------------------------------------------------------------------------------------------------------------------------------------------------------------\n",
            "Epoch: 4 / 10 | Reconst_loss: 2276.548 | Kldiv loss: 635.875 | Classifcation loss: 1.958 | Constrast loss: 42.69 | Total loss: 9234.767 | Train acc: 68.904 % ||| Val Loss: 9050.038 | Val acc: 69.769 %\n",
            "-------------------------------------------------------------------------------------------------------------------------------------------------------------------------------------\n",
            "Epoch: 5 / 10 | Reconst_loss: 2384.983 | Kldiv loss: 577.295 | Classifcation loss: 2.010 | Constrast loss: 64.24 | Total loss: 8944.682 | Train acc: 69.842 % ||| Val Loss: 9005.627 | Val acc: 68.946 %\n",
            "-------------------------------------------------------------------------------------------------------------------------------------------------------------------------------------\n",
            "Epoch: 6 / 10 | Reconst_loss: 2059.581 | Kldiv loss: 572.253 | Classifcation loss: 1.960 | Constrast loss: 35.31 | Total loss: 8847.089 | Train acc: 70.328 % ||| Val Loss: 8933.765 | Val acc: 71.695 %\n",
            "-------------------------------------------------------------------------------------------------------------------------------------------------------------------------------------\n",
            "Epoch: 7 / 10 | Reconst_loss: 2475.333 | Kldiv loss: 692.434 | Classifcation loss: 1.996 | Constrast loss: 36.16 | Total loss: 8764.577 | Train acc: 71.046 % ||| Val Loss: 8706.581 | Val acc: 72.350 %\n",
            "-------------------------------------------------------------------------------------------------------------------------------------------------------------------------------------\n",
            "Epoch: 8 / 10 | Reconst_loss: 2102.392 | Kldiv loss: 618.901 | Classifcation loss: 1.937 | Constrast loss: 41.89 | Total loss: 8671.159 | Train acc: 72.006 % ||| Val Loss: 8637.042 | Val acc: 71.912 %\n",
            "-------------------------------------------------------------------------------------------------------------------------------------------------------------------------------------\n",
            "Epoch: 9 / 10 | Reconst_loss: 2305.450 | Kldiv loss: 627.434 | Classifcation loss: 1.979 | Constrast loss: 38.19 | Total loss: 8424.170 | Train acc: 74.147 % ||| Val Loss: 8458.929 | Val acc: 74.704 %\n",
            "-------------------------------------------------------------------------------------------------------------------------------------------------------------------------------------\n"
          ]
        },
        {
          "metadata": {
            "tags": null
          },
          "name": "stderr",
          "output_type": "stream",
          "text": [
            "\u001b[32m[I 2023-03-18 00:13:35,378]\u001b[0m Trial 74 finished with value: 0.7426177773128292 and parameters: {'optuna_batch_size': 158, 'optimizer': 'Adam', 'lr': 0.005973698963538229, 'hidden_dim': 1000, 'alpha': 9, 'beta': 9, 'gamma': 9, 'delta': 8}. Best is trial 50 with value: 0.8561023473599106.\u001b[0m\n"
          ]
        },
        {
          "metadata": {
            "tags": null
          },
          "name": "stdout",
          "output_type": "stream",
          "text": [
            "Epoch: 10 / 10 | Reconst_loss: 2123.213 | Kldiv loss: 546.473 | Classifcation loss: 1.928 | Constrast loss: 25.26 | Total loss: 8524.520 | Train acc: 74.262 % ||| Val Loss: 8385.727 | Val acc: 74.595 %\n",
            "-------------------------------------------------------------------------------------------------------------------------------------------------------------------------------------\n",
            "Epoch: 1 / 10 | Reconst_loss: 262.504 | Kldiv loss: 96.681 | Classifcation loss: 1.972 | Constrast loss: 0.00 | Total loss: 10388.840 | Train acc: 40.826 % ||| Val Loss: 7672.827 | Val acc: 66.873 %\n",
            "-------------------------------------------------------------------------------------------------------------------------------------------------------------------------------------\n",
            "Epoch: 2 / 10 | Reconst_loss: 191.217 | Kldiv loss: 53.530 | Classifcation loss: 2.020 | Constrast loss: 0.69 | Total loss: 7337.145 | Train acc: 67.714 % ||| Val Loss: 7213.603 | Val acc: 69.738 %\n",
            "-------------------------------------------------------------------------------------------------------------------------------------------------------------------------------------\n",
            "Epoch: 3 / 10 | Reconst_loss: 198.272 | Kldiv loss: 54.883 | Classifcation loss: 2.141 | Constrast loss: 2.49 | Total loss: 7085.743 | Train acc: 69.189 % ||| Val Loss: 6932.311 | Val acc: 71.248 %\n",
            "-------------------------------------------------------------------------------------------------------------------------------------------------------------------------------------\n",
            "Epoch: 4 / 10 | Reconst_loss: 224.432 | Kldiv loss: 63.896 | Classifcation loss: 1.984 | Constrast loss: 0.44 | Total loss: 6956.014 | Train acc: 70.938 % ||| Val Loss: 6854.524 | Val acc: 72.003 %\n",
            "-------------------------------------------------------------------------------------------------------------------------------------------------------------------------------------\n",
            "Epoch: 5 / 10 | Reconst_loss: 182.591 | Kldiv loss: 49.498 | Classifcation loss: 1.831 | Constrast loss: 0.00 | Total loss: 6763.307 | Train acc: 72.033 % ||| Val Loss: 7090.269 | Val acc: 69.052 %\n",
            "-------------------------------------------------------------------------------------------------------------------------------------------------------------------------------------\n",
            "Epoch: 6 / 10 | Reconst_loss: 239.270 | Kldiv loss: 60.527 | Classifcation loss: 2.099 | Constrast loss: 0.00 | Total loss: 6763.037 | Train acc: 72.085 % ||| Val Loss: 6800.017 | Val acc: 71.008 %\n",
            "-------------------------------------------------------------------------------------------------------------------------------------------------------------------------------------\n",
            "Epoch: 7 / 10 | Reconst_loss: 221.735 | Kldiv loss: 58.229 | Classifcation loss: 1.937 | Constrast loss: 0.00 | Total loss: 6597.332 | Train acc: 71.971 % ||| Val Loss: 6644.209 | Val acc: 71.082 %\n",
            "-------------------------------------------------------------------------------------------------------------------------------------------------------------------------------------\n",
            "Epoch: 8 / 10 | Reconst_loss: 179.778 | Kldiv loss: 65.496 | Classifcation loss: 1.956 | Constrast loss: 0.00 | Total loss: 6593.279 | Train acc: 71.370 % ||| Val Loss: 6573.261 | Val acc: 71.380 %\n",
            "-------------------------------------------------------------------------------------------------------------------------------------------------------------------------------------\n",
            "Epoch: 9 / 10 | Reconst_loss: 435.617 | Kldiv loss: 58.179 | Classifcation loss: 2.034 | Constrast loss: 0.00 | Total loss: 6513.590 | Train acc: 71.670 % ||| Val Loss: 6941.981 | Val acc: 70.453 %\n",
            "-------------------------------------------------------------------------------------------------------------------------------------------------------------------------------------\n"
          ]
        },
        {
          "metadata": {
            "tags": null
          },
          "name": "stderr",
          "output_type": "stream",
          "text": [
            "\u001b[32m[I 2023-03-18 00:18:26,917]\u001b[0m Trial 75 finished with value: 0.7232842949454695 and parameters: {'optuna_batch_size': 124, 'optimizer': 'Adam', 'lr': 0.005440568049508311, 'hidden_dim': 762, 'alpha': 8, 'beta': 10, 'gamma': 7, 'delta': 9}. Best is trial 50 with value: 0.8561023473599106.\u001b[0m\n"
          ]
        },
        {
          "metadata": {
            "tags": null
          },
          "name": "stdout",
          "output_type": "stream",
          "text": [
            "Epoch: 10 / 10 | Reconst_loss: 117.769 | Kldiv loss: 55.016 | Classifcation loss: 1.855 | Constrast loss: 0.00 | Total loss: 6483.243 | Train acc: 72.328 % ||| Val Loss: 6396.119 | Val acc: 73.479 %\n",
            "-------------------------------------------------------------------------------------------------------------------------------------------------------------------------------------\n",
            "Epoch: 1 / 10 | Reconst_loss: 10955.671 | Kldiv loss: 4988.770 | Classifcation loss: 2.406 | Constrast loss: 916.64 | Total loss: 322588.148 | Train acc: 18.737 % ||| Val Loss: 82426.280 | Val acc: 28.486 %\n",
            "-------------------------------------------------------------------------------------------------------------------------------------------------------------------------------------\n",
            "Epoch: 2 / 10 | Reconst_loss: 8902.158 | Kldiv loss: 4257.729 | Classifcation loss: 2.322 | Constrast loss: 643.10 | Total loss: 78691.091 | Train acc: 36.437 % ||| Val Loss: 85004.181 | Val acc: 27.687 %\n",
            "-------------------------------------------------------------------------------------------------------------------------------------------------------------------------------------\n",
            "Epoch: 3 / 10 | Reconst_loss: 8199.887 | Kldiv loss: 3594.136 | Classifcation loss: 2.251 | Constrast loss: 493.39 | Total loss: 67634.363 | Train acc: 45.030 % ||| Val Loss: 60445.336 | Val acc: 48.424 %\n",
            "-------------------------------------------------------------------------------------------------------------------------------------------------------------------------------------\n",
            "Epoch: 4 / 10 | Reconst_loss: 7956.177 | Kldiv loss: 3054.432 | Classifcation loss: 2.215 | Constrast loss: 334.21 | Total loss: 58856.057 | Train acc: 49.372 % ||| Val Loss: 58873.999 | Val acc: 46.527 %\n",
            "-------------------------------------------------------------------------------------------------------------------------------------------------------------------------------------\n",
            "Epoch: 5 / 10 | Reconst_loss: 7841.213 | Kldiv loss: 2836.405 | Classifcation loss: 2.182 | Constrast loss: 279.31 | Total loss: 53664.991 | Train acc: 54.016 % ||| Val Loss: 51214.537 | Val acc: 54.480 %\n",
            "-------------------------------------------------------------------------------------------------------------------------------------------------------------------------------------\n",
            "Epoch: 6 / 10 | Reconst_loss: 7210.127 | Kldiv loss: 2830.086 | Classifcation loss: 2.151 | Constrast loss: 311.06 | Total loss: 51485.697 | Train acc: 55.550 % ||| Val Loss: 51377.850 | Val acc: 56.035 %\n",
            "-------------------------------------------------------------------------------------------------------------------------------------------------------------------------------------\n",
            "Epoch: 7 / 10 | Reconst_loss: 7255.338 | Kldiv loss: 2963.441 | Classifcation loss: 2.121 | Constrast loss: 189.18 | Total loss: 49433.724 | Train acc: 57.220 % ||| Val Loss: 49097.107 | Val acc: 57.880 %\n",
            "-------------------------------------------------------------------------------------------------------------------------------------------------------------------------------------\n",
            "Epoch: 8 / 10 | Reconst_loss: 8222.623 | Kldiv loss: 2831.766 | Classifcation loss: 2.114 | Constrast loss: 298.22 | Total loss: 47932.134 | Train acc: 61.046 % ||| Val Loss: 47329.461 | Val acc: 63.103 %\n",
            "-------------------------------------------------------------------------------------------------------------------------------------------------------------------------------------\n",
            "Epoch: 9 / 10 | Reconst_loss: 7502.629 | Kldiv loss: 2548.218 | Classifcation loss: 2.077 | Constrast loss: 388.41 | Total loss: 47099.595 | Train acc: 63.776 % ||| Val Loss: 46840.540 | Val acc: 63.012 %\n",
            "-------------------------------------------------------------------------------------------------------------------------------------------------------------------------------------\n"
          ]
        },
        {
          "metadata": {
            "tags": null
          },
          "name": "stderr",
          "output_type": "stream",
          "text": [
            "\u001b[32m[I 2023-03-18 00:21:02,626]\u001b[0m Trial 76 finished with value: 0.6441408821405875 and parameters: {'optuna_batch_size': 709, 'optimizer': 'Adam', 'lr': 0.006557445758400676, 'hidden_dim': 909, 'alpha': 10, 'beta': 9, 'gamma': 6, 'delta': 6}. Best is trial 50 with value: 0.8561023473599106.\u001b[0m\n"
          ]
        },
        {
          "metadata": {
            "tags": null
          },
          "name": "stdout",
          "output_type": "stream",
          "text": [
            "Epoch: 10 / 10 | Reconst_loss: 8347.746 | Kldiv loss: 2674.475 | Classifcation loss: 2.054 | Constrast loss: 163.91 | Total loss: 46437.215 | Train acc: 64.414 % ||| Val Loss: 45704.204 | Val acc: 64.905 %\n",
            "-------------------------------------------------------------------------------------------------------------------------------------------------------------------------------------\n",
            "Epoch: 1 / 10 | Reconst_loss: 2635.486 | Kldiv loss: 501.545 | Classifcation loss: 2.218 | Constrast loss: 121.56 | Total loss: 13006.377 | Train acc: 31.359 % ||| Val Loss: 6398.344 | Val acc: 53.466 %\n",
            "-------------------------------------------------------------------------------------------------------------------------------------------------------------------------------------\n",
            "Epoch: 2 / 10 | Reconst_loss: 2070.453 | Kldiv loss: 478.897 | Classifcation loss: 2.132 | Constrast loss: 74.54 | Total loss: 6142.585 | Train acc: 59.531 % ||| Val Loss: 5995.702 | Val acc: 61.340 %\n",
            "-------------------------------------------------------------------------------------------------------------------------------------------------------------------------------------\n",
            "Epoch: 3 / 10 | Reconst_loss: 1882.442 | Kldiv loss: 459.852 | Classifcation loss: 2.066 | Constrast loss: 104.83 | Total loss: 6000.150 | Train acc: 61.916 % ||| Val Loss: 5676.310 | Val acc: 62.885 %\n",
            "-------------------------------------------------------------------------------------------------------------------------------------------------------------------------------------\n",
            "Epoch: 4 / 10 | Reconst_loss: 2052.368 | Kldiv loss: 471.707 | Classifcation loss: 2.087 | Constrast loss: 67.48 | Total loss: 5753.371 | Train acc: 63.677 % ||| Val Loss: 5632.237 | Val acc: 63.448 %\n",
            "-------------------------------------------------------------------------------------------------------------------------------------------------------------------------------------\n",
            "Epoch: 5 / 10 | Reconst_loss: 2215.499 | Kldiv loss: 470.183 | Classifcation loss: 2.058 | Constrast loss: 51.43 | Total loss: 5620.084 | Train acc: 64.826 % ||| Val Loss: 5596.730 | Val acc: 65.756 %\n",
            "-------------------------------------------------------------------------------------------------------------------------------------------------------------------------------------\n",
            "Epoch: 6 / 10 | Reconst_loss: 1856.336 | Kldiv loss: 400.638 | Classifcation loss: 1.954 | Constrast loss: 69.57 | Total loss: 5536.554 | Train acc: 66.970 % ||| Val Loss: 5660.891 | Val acc: 65.318 %\n",
            "-------------------------------------------------------------------------------------------------------------------------------------------------------------------------------------\n",
            "Epoch: 7 / 10 | Reconst_loss: 1982.343 | Kldiv loss: 469.005 | Classifcation loss: 2.044 | Constrast loss: 54.22 | Total loss: 5440.560 | Train acc: 67.426 % ||| Val Loss: 5380.289 | Val acc: 68.018 %\n",
            "-------------------------------------------------------------------------------------------------------------------------------------------------------------------------------------\n",
            "Epoch: 8 / 10 | Reconst_loss: 1979.983 | Kldiv loss: 497.914 | Classifcation loss: 1.966 | Constrast loss: 32.68 | Total loss: 5481.333 | Train acc: 67.178 % ||| Val Loss: 5363.149 | Val acc: 67.022 %\n",
            "-------------------------------------------------------------------------------------------------------------------------------------------------------------------------------------\n",
            "Epoch: 9 / 10 | Reconst_loss: 1909.962 | Kldiv loss: 535.417 | Classifcation loss: 1.961 | Constrast loss: 34.93 | Total loss: 5483.788 | Train acc: 67.428 % ||| Val Loss: 5419.029 | Val acc: 66.837 %\n",
            "-------------------------------------------------------------------------------------------------------------------------------------------------------------------------------------\n"
          ]
        },
        {
          "metadata": {
            "tags": null
          },
          "name": "stderr",
          "output_type": "stream",
          "text": [
            "\u001b[32m[I 2023-03-18 00:27:56,375]\u001b[0m Trial 77 finished with value: 0.6780288742385047 and parameters: {'optuna_batch_size': 100, 'optimizer': 'Adam', 'lr': 0.005992904224531943, 'hidden_dim': 877, 'alpha': 8, 'beta': 10, 'gamma': 8, 'delta': 5}. Best is trial 50 with value: 0.8561023473599106.\u001b[0m\n"
          ]
        },
        {
          "metadata": {
            "tags": null
          },
          "name": "stdout",
          "output_type": "stream",
          "text": [
            "Epoch: 10 / 10 | Reconst_loss: 1837.832 | Kldiv loss: 533.579 | Classifcation loss: 2.028 | Constrast loss: 46.46 | Total loss: 5330.373 | Train acc: 67.803 % ||| Val Loss: 5278.821 | Val acc: 68.665 %\n",
            "-------------------------------------------------------------------------------------------------------------------------------------------------------------------------------------\n",
            "Epoch: 1 / 10 | Reconst_loss: 7758.366 | Kldiv loss: 2053.459 | Classifcation loss: 2.211 | Constrast loss: 380.04 | Total loss: 42558.725 | Train acc: 30.769 % ||| Val Loss: 22118.472 | Val acc: 49.747 %\n",
            "-------------------------------------------------------------------------------------------------------------------------------------------------------------------------------------\n",
            "Epoch: 2 / 10 | Reconst_loss: 7239.428 | Kldiv loss: 1975.851 | Classifcation loss: 2.104 | Constrast loss: 340.89 | Total loss: 21294.294 | Train acc: 56.085 % ||| Val Loss: 21092.660 | Val acc: 61.412 %\n",
            "-------------------------------------------------------------------------------------------------------------------------------------------------------------------------------------\n",
            "Epoch: 3 / 10 | Reconst_loss: 6649.288 | Kldiv loss: 2093.274 | Classifcation loss: 2.064 | Constrast loss: 174.81 | Total loss: 19881.040 | Train acc: 63.807 % ||| Val Loss: 19154.712 | Val acc: 65.671 %\n",
            "-------------------------------------------------------------------------------------------------------------------------------------------------------------------------------------\n",
            "Epoch: 4 / 10 | Reconst_loss: 6146.485 | Kldiv loss: 2032.017 | Classifcation loss: 2.035 | Constrast loss: 238.94 | Total loss: 18713.715 | Train acc: 67.408 % ||| Val Loss: 18558.841 | Val acc: 68.878 %\n",
            "-------------------------------------------------------------------------------------------------------------------------------------------------------------------------------------\n",
            "Epoch: 5 / 10 | Reconst_loss: 6612.028 | Kldiv loss: 1824.559 | Classifcation loss: 2.063 | Constrast loss: 151.60 | Total loss: 18726.891 | Train acc: 67.772 % ||| Val Loss: 17986.086 | Val acc: 68.276 %\n",
            "-------------------------------------------------------------------------------------------------------------------------------------------------------------------------------------\n",
            "Epoch: 6 / 10 | Reconst_loss: 6489.767 | Kldiv loss: 1830.645 | Classifcation loss: 2.006 | Constrast loss: 128.75 | Total loss: 18479.120 | Train acc: 67.644 % ||| Val Loss: 18651.984 | Val acc: 68.107 %\n",
            "-------------------------------------------------------------------------------------------------------------------------------------------------------------------------------------\n",
            "Epoch: 7 / 10 | Reconst_loss: 5854.369 | Kldiv loss: 1899.785 | Classifcation loss: 2.097 | Constrast loss: 167.43 | Total loss: 18055.101 | Train acc: 66.582 % ||| Val Loss: 17669.760 | Val acc: 66.106 %\n",
            "-------------------------------------------------------------------------------------------------------------------------------------------------------------------------------------\n",
            "Epoch: 8 / 10 | Reconst_loss: 5948.794 | Kldiv loss: 1735.165 | Classifcation loss: 1.962 | Constrast loss: 156.01 | Total loss: 17848.575 | Train acc: 68.067 % ||| Val Loss: 19225.002 | Val acc: 67.400 %\n",
            "-------------------------------------------------------------------------------------------------------------------------------------------------------------------------------------\n",
            "Epoch: 9 / 10 | Reconst_loss: 6368.086 | Kldiv loss: 1816.902 | Classifcation loss: 1.952 | Constrast loss: 79.96 | Total loss: 18088.336 | Train acc: 68.467 % ||| Val Loss: 17970.082 | Val acc: 69.178 %\n",
            "-------------------------------------------------------------------------------------------------------------------------------------------------------------------------------------\n"
          ]
        },
        {
          "metadata": {
            "tags": null
          },
          "name": "stderr",
          "output_type": "stream",
          "text": [
            "\u001b[32m[I 2023-03-18 00:31:46,258]\u001b[0m Trial 78 finished with value: 0.6835743896821738 and parameters: {'optuna_batch_size': 312, 'optimizer': 'Adam', 'lr': 0.007115741413556053, 'hidden_dim': 945, 'alpha': 8, 'beta': 8, 'gamma': 5, 'delta': 7}. Best is trial 50 with value: 0.8561023473599106.\u001b[0m\n"
          ]
        },
        {
          "metadata": {
            "tags": null
          },
          "name": "stdout",
          "output_type": "stream",
          "text": [
            "Epoch: 10 / 10 | Reconst_loss: 6675.315 | Kldiv loss: 2224.895 | Classifcation loss: 2.122 | Constrast loss: 288.34 | Total loss: 17691.179 | Train acc: 68.357 % ||| Val Loss: 19330.332 | Val acc: 62.241 %\n",
            "-------------------------------------------------------------------------------------------------------------------------------------------------------------------------------------\n",
            "Epoch: 1 / 10 | Reconst_loss: 1014.148 | Kldiv loss: 212.135 | Classifcation loss: 2.474 | Constrast loss: 13.68 | Total loss: 45073.284 | Train acc: 20.031 % ||| Val Loss: 22639.762 | Val acc: 32.820 %\n",
            "-------------------------------------------------------------------------------------------------------------------------------------------------------------------------------------\n",
            "Epoch: 2 / 10 | Reconst_loss: 647.164 | Kldiv loss: 276.923 | Classifcation loss: 2.055 | Constrast loss: 4.88 | Total loss: 20523.835 | Train acc: 49.755 % ||| Val Loss: 19909.865 | Val acc: 60.010 %\n",
            "-------------------------------------------------------------------------------------------------------------------------------------------------------------------------------------\n",
            "Epoch: 3 / 10 | Reconst_loss: 551.165 | Kldiv loss: 206.244 | Classifcation loss: 2.032 | Constrast loss: 2.34 | Total loss: 18094.607 | Train acc: 64.785 % ||| Val Loss: 17077.479 | Val acc: 67.758 %\n",
            "-------------------------------------------------------------------------------------------------------------------------------------------------------------------------------------\n",
            "Epoch: 4 / 10 | Reconst_loss: 651.856 | Kldiv loss: 189.940 | Classifcation loss: 1.941 | Constrast loss: 1.01 | Total loss: 16893.783 | Train acc: 69.429 % ||| Val Loss: 16645.101 | Val acc: 69.497 %\n",
            "-------------------------------------------------------------------------------------------------------------------------------------------------------------------------------------\n",
            "Epoch: 5 / 10 | Reconst_loss: 741.182 | Kldiv loss: 210.014 | Classifcation loss: 2.100 | Constrast loss: 0.24 | Total loss: 16461.983 | Train acc: 70.970 % ||| Val Loss: 16179.843 | Val acc: 70.497 %\n",
            "-------------------------------------------------------------------------------------------------------------------------------------------------------------------------------------\n",
            "Epoch: 6 / 10 | Reconst_loss: 1115.148 | Kldiv loss: 178.967 | Classifcation loss: 1.987 | Constrast loss: 2.98 | Total loss: 15745.701 | Train acc: 73.505 % ||| Val Loss: 15988.903 | Val acc: 74.932 %\n",
            "-------------------------------------------------------------------------------------------------------------------------------------------------------------------------------------\n",
            "Epoch: 7 / 10 | Reconst_loss: 791.491 | Kldiv loss: 201.989 | Classifcation loss: 2.004 | Constrast loss: 7.18 | Total loss: 15325.452 | Train acc: 74.318 % ||| Val Loss: 15634.168 | Val acc: 74.119 %\n",
            "-------------------------------------------------------------------------------------------------------------------------------------------------------------------------------------\n",
            "Epoch: 8 / 10 | Reconst_loss: 613.794 | Kldiv loss: 210.575 | Classifcation loss: 1.981 | Constrast loss: 0.16 | Total loss: 15363.644 | Train acc: 74.454 % ||| Val Loss: 16324.857 | Val acc: 71.758 %\n",
            "-------------------------------------------------------------------------------------------------------------------------------------------------------------------------------------\n",
            "Epoch: 9 / 10 | Reconst_loss: 378.512 | Kldiv loss: 182.925 | Classifcation loss: 2.000 | Constrast loss: 7.41 | Total loss: 15131.751 | Train acc: 74.421 % ||| Val Loss: 15241.477 | Val acc: 73.262 %\n",
            "-------------------------------------------------------------------------------------------------------------------------------------------------------------------------------------\n"
          ]
        },
        {
          "metadata": {
            "tags": null
          },
          "name": "stderr",
          "output_type": "stream",
          "text": [
            "\u001b[32m[I 2023-03-18 00:32:36,584]\u001b[0m Trial 79 finished with value: 0.746481732716781 and parameters: {'optuna_batch_size': 274, 'optimizer': 'Adam', 'lr': 0.005674642410320518, 'hidden_dim': 281, 'alpha': 7, 'beta': 9, 'gamma': 6, 'delta': 6}. Best is trial 50 with value: 0.8561023473599106.\u001b[0m\n"
          ]
        },
        {
          "metadata": {
            "tags": null
          },
          "name": "stdout",
          "output_type": "stream",
          "text": [
            "Epoch: 10 / 10 | Reconst_loss: 772.877 | Kldiv loss: 205.563 | Classifcation loss: 1.995 | Constrast loss: 0.95 | Total loss: 15015.029 | Train acc: 74.648 % ||| Val Loss: 14698.297 | Val acc: 75.729 %\n",
            "-------------------------------------------------------------------------------------------------------------------------------------------------------------------------------------\n",
            "Epoch: 1 / 10 | Reconst_loss: 816.886 | Kldiv loss: 251.374 | Classifcation loss: 2.305 | Constrast loss: 7.49 | Total loss: 26191.463 | Train acc: 31.465 % ||| Val Loss: 18382.437 | Val acc: 48.249 %\n",
            "-------------------------------------------------------------------------------------------------------------------------------------------------------------------------------------\n",
            "Epoch: 2 / 10 | Reconst_loss: 806.285 | Kldiv loss: 177.781 | Classifcation loss: 2.179 | Constrast loss: 0.17 | Total loss: 15961.098 | Train acc: 56.943 % ||| Val Loss: 15792.128 | Val acc: 56.417 %\n",
            "-------------------------------------------------------------------------------------------------------------------------------------------------------------------------------------\n",
            "Epoch: 3 / 10 | Reconst_loss: 948.283 | Kldiv loss: 177.670 | Classifcation loss: 2.110 | Constrast loss: 8.25 | Total loss: 14992.134 | Train acc: 60.165 % ||| Val Loss: 14329.462 | Val acc: 61.505 %\n",
            "-------------------------------------------------------------------------------------------------------------------------------------------------------------------------------------\n",
            "Epoch: 4 / 10 | Reconst_loss: 799.662 | Kldiv loss: 200.947 | Classifcation loss: 2.039 | Constrast loss: 1.00 | Total loss: 14129.841 | Train acc: 62.307 % ||| Val Loss: 13680.050 | Val acc: 63.086 %\n",
            "-------------------------------------------------------------------------------------------------------------------------------------------------------------------------------------\n",
            "Epoch: 5 / 10 | Reconst_loss: 740.056 | Kldiv loss: 202.517 | Classifcation loss: 1.990 | Constrast loss: 0.68 | Total loss: 14109.333 | Train acc: 63.100 % ||| Val Loss: 14647.936 | Val acc: 62.756 %\n",
            "-------------------------------------------------------------------------------------------------------------------------------------------------------------------------------------\n",
            "Epoch: 6 / 10 | Reconst_loss: 843.182 | Kldiv loss: 211.621 | Classifcation loss: 2.131 | Constrast loss: 3.59 | Total loss: 13860.407 | Train acc: 63.521 % ||| Val Loss: 14442.241 | Val acc: 59.897 %\n",
            "-------------------------------------------------------------------------------------------------------------------------------------------------------------------------------------\n",
            "Epoch: 7 / 10 | Reconst_loss: 1115.488 | Kldiv loss: 228.337 | Classifcation loss: 2.080 | Constrast loss: 6.07 | Total loss: 13474.416 | Train acc: 64.056 % ||| Val Loss: 13205.687 | Val acc: 65.490 %\n",
            "-------------------------------------------------------------------------------------------------------------------------------------------------------------------------------------\n",
            "Epoch: 8 / 10 | Reconst_loss: 776.544 | Kldiv loss: 207.796 | Classifcation loss: 2.093 | Constrast loss: 7.91 | Total loss: 13642.239 | Train acc: 64.840 % ||| Val Loss: 15274.382 | Val acc: 61.824 %\n",
            "-------------------------------------------------------------------------------------------------------------------------------------------------------------------------------------\n",
            "Epoch: 9 / 10 | Reconst_loss: 636.178 | Kldiv loss: 180.807 | Classifcation loss: 2.070 | Constrast loss: 5.74 | Total loss: 13784.277 | Train acc: 64.520 % ||| Val Loss: 13227.133 | Val acc: 65.104 %\n",
            "-------------------------------------------------------------------------------------------------------------------------------------------------------------------------------------\n"
          ]
        },
        {
          "metadata": {
            "tags": null
          },
          "name": "stderr",
          "output_type": "stream",
          "text": [
            "\u001b[32m[I 2023-03-18 00:35:55,925]\u001b[0m Trial 80 finished with value: 0.6113480059404295 and parameters: {'optuna_batch_size': 241, 'optimizer': 'Adam', 'lr': 0.006369391546573484, 'hidden_dim': 809, 'alpha': 9, 'beta': 6, 'gamma': 6, 'delta': 5}. Best is trial 50 with value: 0.8561023473599106.\u001b[0m\n"
          ]
        },
        {
          "metadata": {
            "tags": null
          },
          "name": "stdout",
          "output_type": "stream",
          "text": [
            "Epoch: 10 / 10 | Reconst_loss: 488.684 | Kldiv loss: 244.900 | Classifcation loss: 2.021 | Constrast loss: 6.19 | Total loss: 15337.216 | Train acc: 61.135 % ||| Val Loss: 14019.316 | Val acc: 64.836 %\n",
            "-------------------------------------------------------------------------------------------------------------------------------------------------------------------------------------\n",
            "Epoch: 1 / 10 | Reconst_loss: 3298.150 | Kldiv loss: 977.986 | Classifcation loss: 2.154 | Constrast loss: 86.04 | Total loss: 17689.447 | Train acc: 34.377 % ||| Val Loss: 12700.174 | Val acc: 53.388 %\n",
            "-------------------------------------------------------------------------------------------------------------------------------------------------------------------------------------\n",
            "Epoch: 2 / 10 | Reconst_loss: 3516.599 | Kldiv loss: 907.693 | Classifcation loss: 2.072 | Constrast loss: 102.86 | Total loss: 11973.659 | Train acc: 60.800 % ||| Val Loss: 12277.304 | Val acc: 62.234 %\n",
            "-------------------------------------------------------------------------------------------------------------------------------------------------------------------------------------\n",
            "Epoch: 3 / 10 | Reconst_loss: 3180.050 | Kldiv loss: 832.192 | Classifcation loss: 2.051 | Constrast loss: 96.63 | Total loss: 11343.856 | Train acc: 64.437 % ||| Val Loss: 11151.891 | Val acc: 67.550 %\n",
            "-------------------------------------------------------------------------------------------------------------------------------------------------------------------------------------\n",
            "Epoch: 4 / 10 | Reconst_loss: 2596.169 | Kldiv loss: 845.590 | Classifcation loss: 2.029 | Constrast loss: 41.35 | Total loss: 10961.155 | Train acc: 67.255 % ||| Val Loss: 10916.212 | Val acc: 67.332 %\n",
            "-------------------------------------------------------------------------------------------------------------------------------------------------------------------------------------\n",
            "Epoch: 5 / 10 | Reconst_loss: 2604.583 | Kldiv loss: 947.417 | Classifcation loss: 2.019 | Constrast loss: 45.69 | Total loss: 10924.117 | Train acc: 67.391 % ||| Val Loss: 11148.713 | Val acc: 67.256 %\n",
            "-------------------------------------------------------------------------------------------------------------------------------------------------------------------------------------\n",
            "Epoch: 6 / 10 | Reconst_loss: 2470.958 | Kldiv loss: 932.779 | Classifcation loss: 2.020 | Constrast loss: 54.96 | Total loss: 10651.566 | Train acc: 67.696 % ||| Val Loss: 10699.042 | Val acc: 67.874 %\n",
            "-------------------------------------------------------------------------------------------------------------------------------------------------------------------------------------\n",
            "Epoch: 7 / 10 | Reconst_loss: 2673.667 | Kldiv loss: 824.347 | Classifcation loss: 1.994 | Constrast loss: 81.28 | Total loss: 10699.008 | Train acc: 68.129 % ||| Val Loss: 10379.153 | Val acc: 67.753 %\n",
            "-------------------------------------------------------------------------------------------------------------------------------------------------------------------------------------\n",
            "Epoch: 8 / 10 | Reconst_loss: 2656.706 | Kldiv loss: 889.522 | Classifcation loss: 2.047 | Constrast loss: 14.53 | Total loss: 10147.273 | Train acc: 68.429 % ||| Val Loss: 10068.166 | Val acc: 68.633 %\n",
            "-------------------------------------------------------------------------------------------------------------------------------------------------------------------------------------\n",
            "Epoch: 9 / 10 | Reconst_loss: 2490.171 | Kldiv loss: 910.877 | Classifcation loss: 2.019 | Constrast loss: 37.01 | Total loss: 10032.791 | Train acc: 68.274 % ||| Val Loss: 10018.841 | Val acc: 68.795 %\n",
            "-------------------------------------------------------------------------------------------------------------------------------------------------------------------------------------\n"
          ]
        },
        {
          "metadata": {
            "tags": null
          },
          "name": "stderr",
          "output_type": "stream",
          "text": [
            "\u001b[32m[I 2023-03-18 00:40:15,844]\u001b[0m Trial 81 finished with value: 0.6744280152657114 and parameters: {'optuna_batch_size': 191, 'optimizer': 'Adam', 'lr': 0.004869229239863979, 'hidden_dim': 899, 'alpha': 6, 'beta': 9, 'gamma': 7, 'delta': 4}. Best is trial 50 with value: 0.8561023473599106.\u001b[0m\n"
          ]
        },
        {
          "metadata": {
            "tags": null
          },
          "name": "stdout",
          "output_type": "stream",
          "text": [
            "Epoch: 10 / 10 | Reconst_loss: 2426.957 | Kldiv loss: 796.793 | Classifcation loss: 1.991 | Constrast loss: 57.61 | Total loss: 10310.611 | Train acc: 67.443 % ||| Val Loss: 10247.613 | Val acc: 68.720 %\n",
            "-------------------------------------------------------------------------------------------------------------------------------------------------------------------------------------\n",
            "Epoch: 1 / 10 | Reconst_loss: 326.486 | Kldiv loss: 48.660 | Classifcation loss: 2.275 | Constrast loss: 2.04 | Total loss: 16283.857 | Train acc: 35.689 % ||| Val Loss: 11151.641 | Val acc: 58.282 %\n",
            "-------------------------------------------------------------------------------------------------------------------------------------------------------------------------------------\n",
            "Epoch: 2 / 10 | Reconst_loss: 165.873 | Kldiv loss: 60.165 | Classifcation loss: 2.027 | Constrast loss: 3.16 | Total loss: 10399.123 | Train acc: 69.855 % ||| Val Loss: 9911.024 | Val acc: 75.082 %\n",
            "-------------------------------------------------------------------------------------------------------------------------------------------------------------------------------------\n",
            "Epoch: 3 / 10 | Reconst_loss: 179.712 | Kldiv loss: 61.426 | Classifcation loss: 1.979 | Constrast loss: 0.00 | Total loss: 9853.799 | Train acc: 76.150 % ||| Val Loss: 9713.780 | Val acc: 76.060 %\n",
            "-------------------------------------------------------------------------------------------------------------------------------------------------------------------------------------\n",
            "Epoch: 4 / 10 | Reconst_loss: 279.608 | Kldiv loss: 76.582 | Classifcation loss: 1.862 | Constrast loss: 0.00 | Total loss: 9499.463 | Train acc: 79.259 % ||| Val Loss: 9240.888 | Val acc: 79.973 %\n",
            "-------------------------------------------------------------------------------------------------------------------------------------------------------------------------------------\n",
            "Epoch: 5 / 10 | Reconst_loss: 199.053 | Kldiv loss: 62.080 | Classifcation loss: 1.844 | Constrast loss: 0.00 | Total loss: 9410.484 | Train acc: 80.665 % ||| Val Loss: 9451.687 | Val acc: 79.745 %\n",
            "-------------------------------------------------------------------------------------------------------------------------------------------------------------------------------------\n",
            "Epoch: 6 / 10 | Reconst_loss: 145.761 | Kldiv loss: 41.143 | Classifcation loss: 1.831 | Constrast loss: 1.70 | Total loss: 8947.599 | Train acc: 82.750 % ||| Val Loss: 8787.103 | Val acc: 83.009 %\n",
            "-------------------------------------------------------------------------------------------------------------------------------------------------------------------------------------\n",
            "Epoch: 7 / 10 | Reconst_loss: 152.245 | Kldiv loss: 79.142 | Classifcation loss: 1.939 | Constrast loss: 0.35 | Total loss: 8948.979 | Train acc: 83.324 % ||| Val Loss: 8915.959 | Val acc: 83.001 %\n",
            "-------------------------------------------------------------------------------------------------------------------------------------------------------------------------------------\n",
            "Epoch: 8 / 10 | Reconst_loss: 300.108 | Kldiv loss: 69.682 | Classifcation loss: 1.861 | Constrast loss: 0.00 | Total loss: 8769.069 | Train acc: 84.367 % ||| Val Loss: 8667.976 | Val acc: 84.195 %\n",
            "-------------------------------------------------------------------------------------------------------------------------------------------------------------------------------------\n",
            "Epoch: 9 / 10 | Reconst_loss: 394.900 | Kldiv loss: 74.078 | Classifcation loss: 1.802 | Constrast loss: 0.00 | Total loss: 8553.774 | Train acc: 85.416 % ||| Val Loss: 8527.646 | Val acc: 85.110 %\n",
            "-------------------------------------------------------------------------------------------------------------------------------------------------------------------------------------\n"
          ]
        },
        {
          "metadata": {
            "tags": null
          },
          "name": "stderr",
          "output_type": "stream",
          "text": [
            "\u001b[32m[I 2023-03-18 00:45:45,986]\u001b[0m Trial 82 finished with value: 0.85582223242995 and parameters: {'optuna_batch_size': 168, 'optimizer': 'Adam', 'lr': 0.00538178853378, 'hidden_dim': 974, 'alpha': 6, 'beta': 9, 'gamma': 8, 'delta': 4}. Best is trial 50 with value: 0.8561023473599106.\u001b[0m\n"
          ]
        },
        {
          "metadata": {
            "tags": null
          },
          "name": "stdout",
          "output_type": "stream",
          "text": [
            "Epoch: 10 / 10 | Reconst_loss: 205.995 | Kldiv loss: 73.616 | Classifcation loss: 1.786 | Constrast loss: 0.19 | Total loss: 8634.332 | Train acc: 85.582 % ||| Val Loss: 8699.956 | Val acc: 85.211 %\n",
            "-------------------------------------------------------------------------------------------------------------------------------------------------------------------------------------\n",
            "Epoch: 1 / 10 | Reconst_loss: 1774.048 | Kldiv loss: 554.898 | Classifcation loss: 2.172 | Constrast loss: 51.22 | Total loss: 13881.608 | Train acc: 33.224 % ||| Val Loss: 10261.157 | Val acc: 56.031 %\n",
            "-------------------------------------------------------------------------------------------------------------------------------------------------------------------------------------\n",
            "Epoch: 2 / 10 | Reconst_loss: 1811.687 | Kldiv loss: 613.517 | Classifcation loss: 2.042 | Constrast loss: 36.99 | Total loss: 10121.709 | Train acc: 64.199 % ||| Val Loss: 9854.893 | Val acc: 64.561 %\n",
            "-------------------------------------------------------------------------------------------------------------------------------------------------------------------------------------\n",
            "Epoch: 3 / 10 | Reconst_loss: 1804.985 | Kldiv loss: 424.555 | Classifcation loss: 1.999 | Constrast loss: 81.09 | Total loss: 9516.740 | Train acc: 69.375 % ||| Val Loss: 9375.506 | Val acc: 69.887 %\n",
            "-------------------------------------------------------------------------------------------------------------------------------------------------------------------------------------\n",
            "Epoch: 4 / 10 | Reconst_loss: 2386.647 | Kldiv loss: 561.709 | Classifcation loss: 2.052 | Constrast loss: 24.15 | Total loss: 9525.117 | Train acc: 70.748 % ||| Val Loss: 9384.648 | Val acc: 71.407 %\n",
            "-------------------------------------------------------------------------------------------------------------------------------------------------------------------------------------\n",
            "Epoch: 5 / 10 | Reconst_loss: 1996.729 | Kldiv loss: 503.492 | Classifcation loss: 1.942 | Constrast loss: 36.97 | Total loss: 9156.399 | Train acc: 71.980 % ||| Val Loss: 9123.487 | Val acc: 71.095 %\n",
            "-------------------------------------------------------------------------------------------------------------------------------------------------------------------------------------\n",
            "Epoch: 6 / 10 | Reconst_loss: 1530.462 | Kldiv loss: 573.317 | Classifcation loss: 1.924 | Constrast loss: 4.43 | Total loss: 8962.537 | Train acc: 74.569 % ||| Val Loss: 9042.416 | Val acc: 74.833 %\n",
            "-------------------------------------------------------------------------------------------------------------------------------------------------------------------------------------\n",
            "Epoch: 7 / 10 | Reconst_loss: 1573.793 | Kldiv loss: 512.404 | Classifcation loss: 1.892 | Constrast loss: 27.24 | Total loss: 8741.024 | Train acc: 76.358 % ||| Val Loss: 8910.648 | Val acc: 76.273 %\n",
            "-------------------------------------------------------------------------------------------------------------------------------------------------------------------------------------\n",
            "Epoch: 8 / 10 | Reconst_loss: 1564.734 | Kldiv loss: 568.155 | Classifcation loss: 1.887 | Constrast loss: 6.36 | Total loss: 8715.356 | Train acc: 77.121 % ||| Val Loss: 8629.677 | Val acc: 77.442 %\n",
            "-------------------------------------------------------------------------------------------------------------------------------------------------------------------------------------\n",
            "Epoch: 9 / 10 | Reconst_loss: 1672.608 | Kldiv loss: 492.030 | Classifcation loss: 1.845 | Constrast loss: 6.93 | Total loss: 8511.285 | Train acc: 77.698 % ||| Val Loss: 8474.340 | Val acc: 77.234 %\n",
            "-------------------------------------------------------------------------------------------------------------------------------------------------------------------------------------\n"
          ]
        },
        {
          "metadata": {
            "tags": null
          },
          "name": "stderr",
          "output_type": "stream",
          "text": [
            "\u001b[32m[I 2023-03-18 00:51:19,133]\u001b[0m Trial 83 finished with value: 0.7785560923242081 and parameters: {'optuna_batch_size': 162, 'optimizer': 'Adam', 'lr': 0.0053092976210672655, 'hidden_dim': 971, 'alpha': 7, 'beta': 8, 'gamma': 8, 'delta': 3}. Best is trial 50 with value: 0.8561023473599106.\u001b[0m\n"
          ]
        },
        {
          "metadata": {
            "tags": null
          },
          "name": "stdout",
          "output_type": "stream",
          "text": [
            "Epoch: 10 / 10 | Reconst_loss: 1854.434 | Kldiv loss: 517.015 | Classifcation loss: 1.955 | Constrast loss: 38.17 | Total loss: 8438.987 | Train acc: 77.856 % ||| Val Loss: 9051.662 | Val acc: 76.494 %\n",
            "-------------------------------------------------------------------------------------------------------------------------------------------------------------------------------------\n",
            "Epoch: 1 / 10 | Reconst_loss: 2901.417 | Kldiv loss: 966.172 | Classifcation loss: 2.222 | Constrast loss: 187.11 | Total loss: 30124.098 | Train acc: 25.633 % ||| Val Loss: 12067.011 | Val acc: 48.306 %\n",
            "-------------------------------------------------------------------------------------------------------------------------------------------------------------------------------------\n",
            "Epoch: 2 / 10 | Reconst_loss: 3349.507 | Kldiv loss: 955.246 | Classifcation loss: 1.972 | Constrast loss: 97.04 | Total loss: 11045.316 | Train acc: 62.942 % ||| Val Loss: 10345.386 | Val acc: 66.968 %\n",
            "-------------------------------------------------------------------------------------------------------------------------------------------------------------------------------------\n",
            "Epoch: 3 / 10 | Reconst_loss: 2935.332 | Kldiv loss: 932.850 | Classifcation loss: 2.025 | Constrast loss: 122.77 | Total loss: 10428.111 | Train acc: 68.298 % ||| Val Loss: 10303.900 | Val acc: 68.257 %\n",
            "-------------------------------------------------------------------------------------------------------------------------------------------------------------------------------------\n",
            "Epoch: 4 / 10 | Reconst_loss: 3557.311 | Kldiv loss: 1001.248 | Classifcation loss: 2.023 | Constrast loss: 114.18 | Total loss: 10150.034 | Train acc: 67.825 % ||| Val Loss: 10009.265 | Val acc: 66.858 %\n",
            "-------------------------------------------------------------------------------------------------------------------------------------------------------------------------------------\n",
            "Epoch: 5 / 10 | Reconst_loss: 3812.016 | Kldiv loss: 1039.116 | Classifcation loss: 2.008 | Constrast loss: 77.80 | Total loss: 9990.709 | Train acc: 69.738 % ||| Val Loss: 9928.740 | Val acc: 69.737 %\n",
            "-------------------------------------------------------------------------------------------------------------------------------------------------------------------------------------\n",
            "Epoch: 6 / 10 | Reconst_loss: 2651.597 | Kldiv loss: 865.457 | Classifcation loss: 1.943 | Constrast loss: 54.25 | Total loss: 9696.585 | Train acc: 68.937 % ||| Val Loss: 9526.416 | Val acc: 69.979 %\n",
            "-------------------------------------------------------------------------------------------------------------------------------------------------------------------------------------\n",
            "Epoch: 7 / 10 | Reconst_loss: 2698.456 | Kldiv loss: 947.331 | Classifcation loss: 2.004 | Constrast loss: 43.68 | Total loss: 9513.775 | Train acc: 70.563 % ||| Val Loss: 9290.514 | Val acc: 70.958 %\n",
            "-------------------------------------------------------------------------------------------------------------------------------------------------------------------------------------\n",
            "Epoch: 8 / 10 | Reconst_loss: 3585.788 | Kldiv loss: 944.141 | Classifcation loss: 1.994 | Constrast loss: 92.31 | Total loss: 9465.334 | Train acc: 69.412 % ||| Val Loss: 9254.572 | Val acc: 71.533 %\n",
            "-------------------------------------------------------------------------------------------------------------------------------------------------------------------------------------\n",
            "Epoch: 9 / 10 | Reconst_loss: 2918.244 | Kldiv loss: 1079.295 | Classifcation loss: 1.915 | Constrast loss: 41.15 | Total loss: 9261.686 | Train acc: 70.844 % ||| Val Loss: 9069.168 | Val acc: 70.474 %\n",
            "-------------------------------------------------------------------------------------------------------------------------------------------------------------------------------------\n"
          ]
        },
        {
          "metadata": {
            "tags": null
          },
          "name": "stderr",
          "output_type": "stream",
          "text": [
            "\u001b[32m[I 2023-03-18 00:56:41,891]\u001b[0m Trial 84 finished with value: 0.6961933151203255 and parameters: {'optuna_batch_size': 172, 'optimizer': 'Adam', 'lr': 0.00532148665515421, 'hidden_dim': 974, 'alpha': 7, 'beta': 8, 'gamma': 8, 'delta': 3}. Best is trial 50 with value: 0.8561023473599106.\u001b[0m\n"
          ]
        },
        {
          "metadata": {
            "tags": null
          },
          "name": "stdout",
          "output_type": "stream",
          "text": [
            "Epoch: 10 / 10 | Reconst_loss: 2793.146 | Kldiv loss: 889.044 | Classifcation loss: 1.916 | Constrast loss: 29.05 | Total loss: 9306.868 | Train acc: 69.619 % ||| Val Loss: 9201.052 | Val acc: 70.884 %\n",
            "-------------------------------------------------------------------------------------------------------------------------------------------------------------------------------------\n",
            "Epoch: 1 / 10 | Reconst_loss: 232.250 | Kldiv loss: 57.344 | Classifcation loss: 2.340 | Constrast loss: 0.00 | Total loss: 11032.587 | Train acc: 38.826 % ||| Val Loss: 8824.801 | Val acc: 64.097 %\n",
            "-------------------------------------------------------------------------------------------------------------------------------------------------------------------------------------\n",
            "Epoch: 2 / 10 | Reconst_loss: 227.769 | Kldiv loss: 91.243 | Classifcation loss: 1.888 | Constrast loss: 0.00 | Total loss: 8590.756 | Train acc: 67.916 % ||| Val Loss: 8451.938 | Val acc: 68.200 %\n",
            "-------------------------------------------------------------------------------------------------------------------------------------------------------------------------------------\n",
            "Epoch: 3 / 10 | Reconst_loss: 222.096 | Kldiv loss: 73.188 | Classifcation loss: 2.098 | Constrast loss: 2.26 | Total loss: 8167.944 | Train acc: 71.189 % ||| Val Loss: 7987.651 | Val acc: 73.469 %\n",
            "-------------------------------------------------------------------------------------------------------------------------------------------------------------------------------------\n",
            "Epoch: 4 / 10 | Reconst_loss: 189.940 | Kldiv loss: 55.583 | Classifcation loss: 1.822 | Constrast loss: 0.00 | Total loss: 7891.356 | Train acc: 72.923 % ||| Val Loss: 7895.005 | Val acc: 72.691 %\n",
            "-------------------------------------------------------------------------------------------------------------------------------------------------------------------------------------\n",
            "Epoch: 5 / 10 | Reconst_loss: 194.399 | Kldiv loss: 72.842 | Classifcation loss: 2.022 | Constrast loss: 0.00 | Total loss: 7649.470 | Train acc: 74.348 % ||| Val Loss: 7581.509 | Val acc: 74.851 %\n",
            "-------------------------------------------------------------------------------------------------------------------------------------------------------------------------------------\n",
            "Epoch: 6 / 10 | Reconst_loss: 321.567 | Kldiv loss: 97.563 | Classifcation loss: 1.994 | Constrast loss: 0.00 | Total loss: 7637.146 | Train acc: 74.562 % ||| Val Loss: 7524.153 | Val acc: 74.537 %\n",
            "-------------------------------------------------------------------------------------------------------------------------------------------------------------------------------------\n",
            "Epoch: 7 / 10 | Reconst_loss: 275.777 | Kldiv loss: 73.972 | Classifcation loss: 2.009 | Constrast loss: 0.00 | Total loss: 7549.318 | Train acc: 75.253 % ||| Val Loss: 7947.440 | Val acc: 74.651 %\n",
            "-------------------------------------------------------------------------------------------------------------------------------------------------------------------------------------\n",
            "Epoch: 8 / 10 | Reconst_loss: 250.142 | Kldiv loss: 65.952 | Classifcation loss: 1.854 | Constrast loss: 0.32 | Total loss: 7431.800 | Train acc: 75.492 % ||| Val Loss: 7707.739 | Val acc: 74.680 %\n",
            "-------------------------------------------------------------------------------------------------------------------------------------------------------------------------------------\n",
            "Epoch: 9 / 10 | Reconst_loss: 170.946 | Kldiv loss: 61.000 | Classifcation loss: 1.945 | Constrast loss: 0.08 | Total loss: 7244.636 | Train acc: 76.214 % ||| Val Loss: 7570.212 | Val acc: 75.069 %\n",
            "-------------------------------------------------------------------------------------------------------------------------------------------------------------------------------------\n"
          ]
        },
        {
          "metadata": {
            "tags": null
          },
          "name": "stderr",
          "output_type": "stream",
          "text": [
            "\u001b[32m[I 2023-03-18 01:02:40,390]\u001b[0m Trial 85 finished with value: 0.7603600153198012 and parameters: {'optuna_batch_size': 140, 'optimizer': 'Adam', 'lr': 0.005515948407254703, 'hidden_dim': 970, 'alpha': 6, 'beta': 8, 'gamma': 8, 'delta': 4}. Best is trial 50 with value: 0.8561023473599106.\u001b[0m\n"
          ]
        },
        {
          "metadata": {
            "tags": null
          },
          "name": "stdout",
          "output_type": "stream",
          "text": [
            "Epoch: 10 / 10 | Reconst_loss: 213.182 | Kldiv loss: 62.015 | Classifcation loss: 1.971 | Constrast loss: 0.00 | Total loss: 7306.065 | Train acc: 76.036 % ||| Val Loss: 7124.220 | Val acc: 76.686 %\n",
            "-------------------------------------------------------------------------------------------------------------------------------------------------------------------------------------\n",
            "Epoch: 1 / 10 | Reconst_loss: 313.352 | Kldiv loss: 96.088 | Classifcation loss: 2.010 | Constrast loss: 0.00 | Total loss: 13731.032 | Train acc: 34.584 % ||| Val Loss: 8235.882 | Val acc: 52.042 %\n",
            "-------------------------------------------------------------------------------------------------------------------------------------------------------------------------------------\n",
            "Epoch: 2 / 10 | Reconst_loss: 285.080 | Kldiv loss: 58.674 | Classifcation loss: 2.079 | Constrast loss: 0.27 | Total loss: 7696.105 | Train acc: 60.855 % ||| Val Loss: 7842.572 | Val acc: 68.142 %\n",
            "-------------------------------------------------------------------------------------------------------------------------------------------------------------------------------------\n",
            "Epoch: 3 / 10 | Reconst_loss: 296.510 | Kldiv loss: 61.155 | Classifcation loss: 1.998 | Constrast loss: 0.28 | Total loss: 7276.199 | Train acc: 68.561 % ||| Val Loss: 7337.456 | Val acc: 69.372 %\n",
            "-------------------------------------------------------------------------------------------------------------------------------------------------------------------------------------\n",
            "Epoch: 4 / 10 | Reconst_loss: 137.566 | Kldiv loss: 65.101 | Classifcation loss: 2.069 | Constrast loss: 0.00 | Total loss: 7125.723 | Train acc: 71.392 % ||| Val Loss: 7149.059 | Val acc: 72.827 %\n",
            "-------------------------------------------------------------------------------------------------------------------------------------------------------------------------------------\n",
            "Epoch: 5 / 10 | Reconst_loss: 214.523 | Kldiv loss: 63.805 | Classifcation loss: 1.804 | Constrast loss: 0.00 | Total loss: 7025.842 | Train acc: 72.511 % ||| Val Loss: 6993.708 | Val acc: 73.845 %\n",
            "-------------------------------------------------------------------------------------------------------------------------------------------------------------------------------------\n",
            "Epoch: 6 / 10 | Reconst_loss: 144.784 | Kldiv loss: 69.780 | Classifcation loss: 1.927 | Constrast loss: 1.33 | Total loss: 6924.979 | Train acc: 73.753 % ||| Val Loss: 6956.063 | Val acc: 73.736 %\n",
            "-------------------------------------------------------------------------------------------------------------------------------------------------------------------------------------\n",
            "Epoch: 7 / 10 | Reconst_loss: 349.477 | Kldiv loss: 78.698 | Classifcation loss: 1.834 | Constrast loss: 0.00 | Total loss: 7016.700 | Train acc: 72.446 % ||| Val Loss: 6595.313 | Val acc: 73.833 %\n",
            "-------------------------------------------------------------------------------------------------------------------------------------------------------------------------------------\n",
            "Epoch: 8 / 10 | Reconst_loss: 403.487 | Kldiv loss: 52.314 | Classifcation loss: 1.918 | Constrast loss: 0.62 | Total loss: 6620.330 | Train acc: 78.590 % ||| Val Loss: 6619.553 | Val acc: 79.867 %\n",
            "-------------------------------------------------------------------------------------------------------------------------------------------------------------------------------------\n",
            "Epoch: 9 / 10 | Reconst_loss: 378.645 | Kldiv loss: 78.428 | Classifcation loss: 1.733 | Constrast loss: 0.00 | Total loss: 6674.826 | Train acc: 79.268 % ||| Val Loss: 7026.539 | Val acc: 78.008 %\n",
            "-------------------------------------------------------------------------------------------------------------------------------------------------------------------------------------\n"
          ]
        },
        {
          "metadata": {
            "tags": null
          },
          "name": "stderr",
          "output_type": "stream",
          "text": [
            "\u001b[32m[I 2023-03-18 01:08:59,322]\u001b[0m Trial 86 finished with value: 0.7940132301483931 and parameters: {'optuna_batch_size': 124, 'optimizer': 'Adam', 'lr': 0.006096150617745451, 'hidden_dim': 943, 'alpha': 6, 'beta': 7, 'gamma': 9, 'delta': 4}. Best is trial 50 with value: 0.8561023473599106.\u001b[0m\n"
          ]
        },
        {
          "metadata": {
            "tags": null
          },
          "name": "stdout",
          "output_type": "stream",
          "text": [
            "Epoch: 10 / 10 | Reconst_loss: 319.940 | Kldiv loss: 63.685 | Classifcation loss: 2.001 | Constrast loss: 0.29 | Total loss: 6634.814 | Train acc: 79.401 % ||| Val Loss: 6678.609 | Val acc: 78.838 %\n",
            "-------------------------------------------------------------------------------------------------------------------------------------------------------------------------------------\n",
            "Epoch: 1 / 10 | Reconst_loss: nan | Kldiv loss: nan | Classifcation loss: nan | Constrast loss: nan | Total loss: nan | Train acc: 0.013 % ||| Val Loss: nan | Val acc: 0.000 %\n",
            "-------------------------------------------------------------------------------------------------------------------------------------------------------------------------------------\n",
            "Epoch: 2 / 10 | Reconst_loss: nan | Kldiv loss: nan | Classifcation loss: nan | Constrast loss: nan | Total loss: nan | Train acc: 0.000 % ||| Val Loss: nan | Val acc: 0.000 %\n",
            "-------------------------------------------------------------------------------------------------------------------------------------------------------------------------------------\n",
            "Epoch: 3 / 10 | Reconst_loss: nan | Kldiv loss: nan | Classifcation loss: nan | Constrast loss: nan | Total loss: nan | Train acc: 0.000 % ||| Val Loss: nan | Val acc: 0.000 %\n",
            "-------------------------------------------------------------------------------------------------------------------------------------------------------------------------------------\n"
          ]
        },
        {
          "metadata": {
            "tags": null
          },
          "name": "stderr",
          "output_type": "stream",
          "text": [
            "\u001b[32m[I 2023-03-18 01:12:00,756]\u001b[0m Trial 87 pruned. \u001b[0m\n"
          ]
        },
        {
          "metadata": {
            "tags": null
          },
          "name": "stdout",
          "output_type": "stream",
          "text": [
            "Epoch: 4 / 10 | Reconst_loss: nan | Kldiv loss: nan | Classifcation loss: nan | Constrast loss: nan | Total loss: nan | Train acc: 0.000 % ||| Val Loss: nan | Val acc: 0.000 %\n",
            "-------------------------------------------------------------------------------------------------------------------------------------------------------------------------------------\n",
            "Epoch: 1 / 10 | Reconst_loss: 2548.590 | Kldiv loss: 573.791 | Classifcation loss: 2.265 | Constrast loss: 52.86 | Total loss: 14846.588 | Train acc: 32.130 % ||| Val Loss: 10338.276 | Val acc: 43.534 %\n",
            "-------------------------------------------------------------------------------------------------------------------------------------------------------------------------------------\n",
            "Epoch: 2 / 10 | Reconst_loss: 2004.549 | Kldiv loss: 538.622 | Classifcation loss: 2.112 | Constrast loss: 68.92 | Total loss: 10212.017 | Train acc: 53.130 % ||| Val Loss: 9776.851 | Val acc: 60.710 %\n",
            "-------------------------------------------------------------------------------------------------------------------------------------------------------------------------------------\n",
            "Epoch: 3 / 10 | Reconst_loss: 2025.402 | Kldiv loss: 633.117 | Classifcation loss: 2.086 | Constrast loss: 27.83 | Total loss: 9595.102 | Train acc: 60.695 % ||| Val Loss: 9756.459 | Val acc: 63.218 %\n",
            "-------------------------------------------------------------------------------------------------------------------------------------------------------------------------------------\n",
            "Epoch: 4 / 10 | Reconst_loss: 1957.413 | Kldiv loss: 578.539 | Classifcation loss: 2.046 | Constrast loss: 26.16 | Total loss: 9721.612 | Train acc: 62.314 % ||| Val Loss: 9541.857 | Val acc: 61.367 %\n",
            "-------------------------------------------------------------------------------------------------------------------------------------------------------------------------------------\n",
            "Epoch: 5 / 10 | Reconst_loss: 1811.253 | Kldiv loss: 578.053 | Classifcation loss: 2.125 | Constrast loss: 38.33 | Total loss: 9392.072 | Train acc: 62.309 % ||| Val Loss: 9076.980 | Val acc: 64.143 %\n",
            "-------------------------------------------------------------------------------------------------------------------------------------------------------------------------------------\n",
            "Epoch: 6 / 10 | Reconst_loss: 1967.807 | Kldiv loss: 568.533 | Classifcation loss: 1.961 | Constrast loss: 11.10 | Total loss: 9015.187 | Train acc: 64.707 % ||| Val Loss: 9143.874 | Val acc: 63.391 %\n",
            "-------------------------------------------------------------------------------------------------------------------------------------------------------------------------------------\n",
            "Epoch: 7 / 10 | Reconst_loss: 2348.889 | Kldiv loss: 517.895 | Classifcation loss: 1.964 | Constrast loss: 25.80 | Total loss: 8821.485 | Train acc: 66.343 % ||| Val Loss: 8922.295 | Val acc: 65.956 %\n",
            "-------------------------------------------------------------------------------------------------------------------------------------------------------------------------------------\n",
            "Epoch: 8 / 10 | Reconst_loss: 2420.837 | Kldiv loss: 588.338 | Classifcation loss: 2.088 | Constrast loss: 35.72 | Total loss: 9095.055 | Train acc: 66.136 % ||| Val Loss: 8755.704 | Val acc: 67.221 %\n",
            "-------------------------------------------------------------------------------------------------------------------------------------------------------------------------------------\n",
            "Epoch: 9 / 10 | Reconst_loss: 2099.226 | Kldiv loss: 529.984 | Classifcation loss: 1.999 | Constrast loss: 24.22 | Total loss: 8778.672 | Train acc: 66.387 % ||| Val Loss: 8562.123 | Val acc: 67.088 %\n",
            "-------------------------------------------------------------------------------------------------------------------------------------------------------------------------------------\n"
          ]
        },
        {
          "metadata": {
            "tags": null
          },
          "name": "stderr",
          "output_type": "stream",
          "text": [
            "\u001b[32m[I 2023-03-18 01:18:30,680]\u001b[0m Trial 88 finished with value: 0.659500866897839 and parameters: {'optuna_batch_size': 160, 'optimizer': 'Adam', 'lr': 0.006645306538102756, 'hidden_dim': 999, 'alpha': 7, 'beta': 8, 'gamma': 10, 'delta': 3}. Best is trial 50 with value: 0.8561023473599106.\u001b[0m\n"
          ]
        },
        {
          "metadata": {
            "tags": null
          },
          "name": "stdout",
          "output_type": "stream",
          "text": [
            "Epoch: 10 / 10 | Reconst_loss: 2451.086 | Kldiv loss: 592.504 | Classifcation loss: 2.019 | Constrast loss: 23.18 | Total loss: 8669.089 | Train acc: 65.950 % ||| Val Loss: 9145.259 | Val acc: 62.014 %\n",
            "-------------------------------------------------------------------------------------------------------------------------------------------------------------------------------------\n",
            "Epoch: 1 / 10 | Reconst_loss: 1545.840 | Kldiv loss: 390.096 | Classifcation loss: 2.273 | Constrast loss: 26.95 | Total loss: 9752.818 | Train acc: 32.577 % ||| Val Loss: 7643.428 | Val acc: 49.190 %\n",
            "-------------------------------------------------------------------------------------------------------------------------------------------------------------------------------------\n",
            "Epoch: 2 / 10 | Reconst_loss: 1220.095 | Kldiv loss: 393.204 | Classifcation loss: 2.144 | Constrast loss: 14.80 | Total loss: 7550.918 | Train acc: 48.948 % ||| Val Loss: 7197.030 | Val acc: 52.276 %\n",
            "-------------------------------------------------------------------------------------------------------------------------------------------------------------------------------------\n",
            "Epoch: 3 / 10 | Reconst_loss: 1262.948 | Kldiv loss: 376.213 | Classifcation loss: 2.152 | Constrast loss: 4.56 | Total loss: 7094.593 | Train acc: 56.303 % ||| Val Loss: 6851.896 | Val acc: 59.163 %\n",
            "-------------------------------------------------------------------------------------------------------------------------------------------------------------------------------------\n",
            "Epoch: 4 / 10 | Reconst_loss: 1489.851 | Kldiv loss: 423.019 | Classifcation loss: 2.117 | Constrast loss: 5.08 | Total loss: 6936.499 | Train acc: 59.344 % ||| Val Loss: 7806.215 | Val acc: 60.026 %\n",
            "-------------------------------------------------------------------------------------------------------------------------------------------------------------------------------------\n",
            "Epoch: 5 / 10 | Reconst_loss: 1058.719 | Kldiv loss: 327.345 | Classifcation loss: 2.022 | Constrast loss: 9.88 | Total loss: 6808.945 | Train acc: 60.418 % ||| Val Loss: 6549.737 | Val acc: 61.968 %\n",
            "-------------------------------------------------------------------------------------------------------------------------------------------------------------------------------------\n",
            "Epoch: 6 / 10 | Reconst_loss: 1597.651 | Kldiv loss: 363.314 | Classifcation loss: 2.086 | Constrast loss: 12.08 | Total loss: 6720.474 | Train acc: 60.848 % ||| Val Loss: 7065.838 | Val acc: 59.924 %\n",
            "-------------------------------------------------------------------------------------------------------------------------------------------------------------------------------------\n",
            "Epoch: 7 / 10 | Reconst_loss: 1322.841 | Kldiv loss: 331.031 | Classifcation loss: 1.995 | Constrast loss: 2.18 | Total loss: 6589.009 | Train acc: 61.591 % ||| Val Loss: 6442.511 | Val acc: 61.668 %\n",
            "-------------------------------------------------------------------------------------------------------------------------------------------------------------------------------------\n",
            "Epoch: 8 / 10 | Reconst_loss: 903.971 | Kldiv loss: 311.612 | Classifcation loss: 2.025 | Constrast loss: 8.38 | Total loss: 6523.541 | Train acc: 61.781 % ||| Val Loss: 6393.690 | Val acc: 62.017 %\n",
            "-------------------------------------------------------------------------------------------------------------------------------------------------------------------------------------\n",
            "Epoch: 9 / 10 | Reconst_loss: 1061.868 | Kldiv loss: 325.269 | Classifcation loss: 1.990 | Constrast loss: 14.05 | Total loss: 6574.476 | Train acc: 61.825 % ||| Val Loss: 6338.539 | Val acc: 62.092 %\n",
            "-------------------------------------------------------------------------------------------------------------------------------------------------------------------------------------\n"
          ]
        },
        {
          "metadata": {
            "tags": null
          },
          "name": "stderr",
          "output_type": "stream",
          "text": [
            "\u001b[32m[I 2023-03-18 01:24:09,689]\u001b[0m Trial 89 finished with value: 0.6217393845097485 and parameters: {'optuna_batch_size': 123, 'optimizer': 'Adam', 'lr': 0.005314954157690018, 'hidden_dim': 849, 'alpha': 6, 'beta': 7, 'gamma': 9, 'delta': 3}. Best is trial 50 with value: 0.8561023473599106.\u001b[0m\n"
          ]
        },
        {
          "metadata": {
            "tags": null
          },
          "name": "stdout",
          "output_type": "stream",
          "text": [
            "Epoch: 10 / 10 | Reconst_loss: 1181.266 | Kldiv loss: 346.195 | Classifcation loss: 2.006 | Constrast loss: 19.39 | Total loss: 6400.630 | Train acc: 62.174 % ||| Val Loss: 6327.007 | Val acc: 61.331 %\n",
            "-------------------------------------------------------------------------------------------------------------------------------------------------------------------------------------\n",
            "Epoch: 1 / 10 | Reconst_loss: 15038.759 | Kldiv loss: 4830.089 | Classifcation loss: 2.364 | Constrast loss: 1034.45 | Total loss: 123247.163 | Train acc: 19.132 % ||| Val Loss: 58521.563 | Val acc: 31.808 %\n",
            "-------------------------------------------------------------------------------------------------------------------------------------------------------------------------------------\n",
            "Epoch: 2 / 10 | Reconst_loss: 13485.676 | Kldiv loss: 4246.635 | Classifcation loss: 2.255 | Constrast loss: 765.71 | Total loss: 54624.795 | Train acc: 42.985 % ||| Val Loss: 48127.274 | Val acc: 47.188 %\n",
            "-------------------------------------------------------------------------------------------------------------------------------------------------------------------------------------\n",
            "Epoch: 3 / 10 | Reconst_loss: 12167.525 | Kldiv loss: 4208.628 | Classifcation loss: 2.221 | Constrast loss: 559.37 | Total loss: 47707.121 | Train acc: 50.105 % ||| Val Loss: 44428.817 | Val acc: 52.828 %\n",
            "-------------------------------------------------------------------------------------------------------------------------------------------------------------------------------------\n",
            "Epoch: 4 / 10 | Reconst_loss: 10972.490 | Kldiv loss: 3951.752 | Classifcation loss: 2.138 | Constrast loss: 342.65 | Total loss: 44830.445 | Train acc: 54.974 % ||| Val Loss: 41308.993 | Val acc: 57.576 %\n",
            "-------------------------------------------------------------------------------------------------------------------------------------------------------------------------------------\n",
            "Epoch: 5 / 10 | Reconst_loss: 11935.394 | Kldiv loss: 3235.052 | Classifcation loss: 2.140 | Constrast loss: 407.52 | Total loss: 41117.141 | Train acc: 58.152 % ||| Val Loss: 38559.883 | Val acc: 60.020 %\n",
            "-------------------------------------------------------------------------------------------------------------------------------------------------------------------------------------\n",
            "Epoch: 6 / 10 | Reconst_loss: 10810.587 | Kldiv loss: 3224.470 | Classifcation loss: 2.064 | Constrast loss: 277.32 | Total loss: 41822.840 | Train acc: 58.962 % ||| Val Loss: 37842.428 | Val acc: 62.297 %\n",
            "-------------------------------------------------------------------------------------------------------------------------------------------------------------------------------------\n",
            "Epoch: 7 / 10 | Reconst_loss: 10326.180 | Kldiv loss: 3114.132 | Classifcation loss: 2.051 | Constrast loss: 278.24 | Total loss: 37938.304 | Train acc: 62.760 % ||| Val Loss: 36955.278 | Val acc: 62.968 %\n",
            "-------------------------------------------------------------------------------------------------------------------------------------------------------------------------------------\n",
            "Epoch: 8 / 10 | Reconst_loss: 10791.115 | Kldiv loss: 3302.169 | Classifcation loss: 2.057 | Constrast loss: 239.32 | Total loss: 38134.419 | Train acc: 63.079 % ||| Val Loss: 37291.020 | Val acc: 63.650 %\n",
            "-------------------------------------------------------------------------------------------------------------------------------------------------------------------------------------\n",
            "Epoch: 9 / 10 | Reconst_loss: 9841.614 | Kldiv loss: 3196.870 | Classifcation loss: 2.069 | Constrast loss: 114.45 | Total loss: 38000.721 | Train acc: 63.758 % ||| Val Loss: 38547.479 | Val acc: 62.268 %\n",
            "-------------------------------------------------------------------------------------------------------------------------------------------------------------------------------------\n"
          ]
        },
        {
          "metadata": {
            "tags": null
          },
          "name": "stderr",
          "output_type": "stream",
          "text": [
            "\u001b[32m[I 2023-03-18 01:26:56,225]\u001b[0m Trial 90 finished with value: 0.6431952097457326 and parameters: {'optuna_batch_size': 637, 'optimizer': 'Adam', 'lr': 0.005643729261293715, 'hidden_dim': 884, 'alpha': 7, 'beta': 6, 'gamma': 9, 'delta': 5}. Best is trial 50 with value: 0.8561023473599106.\u001b[0m\n"
          ]
        },
        {
          "metadata": {
            "tags": null
          },
          "name": "stdout",
          "output_type": "stream",
          "text": [
            "Epoch: 10 / 10 | Reconst_loss: 9909.618 | Kldiv loss: 2964.440 | Classifcation loss: 2.056 | Constrast loss: 192.36 | Total loss: 37122.605 | Train acc: 64.320 % ||| Val Loss: 35600.281 | Val acc: 64.268 %\n",
            "-------------------------------------------------------------------------------------------------------------------------------------------------------------------------------------\n",
            "Epoch: 1 / 10 | Reconst_loss: 4296.916 | Kldiv loss: 1150.809 | Classifcation loss: 2.210 | Constrast loss: 148.92 | Total loss: 18328.841 | Train acc: 30.860 % ||| Val Loss: 12479.842 | Val acc: 46.671 %\n",
            "-------------------------------------------------------------------------------------------------------------------------------------------------------------------------------------\n",
            "Epoch: 2 / 10 | Reconst_loss: 3669.149 | Kldiv loss: 1065.742 | Classifcation loss: 2.143 | Constrast loss: 101.99 | Total loss: 11027.679 | Train acc: 55.811 % ||| Val Loss: 10796.665 | Val acc: 57.215 %\n",
            "-------------------------------------------------------------------------------------------------------------------------------------------------------------------------------------\n",
            "Epoch: 3 / 10 | Reconst_loss: 3691.278 | Kldiv loss: 1071.712 | Classifcation loss: 2.071 | Constrast loss: 104.71 | Total loss: 10556.622 | Train acc: 59.299 % ||| Val Loss: 10494.089 | Val acc: 59.663 %\n",
            "-------------------------------------------------------------------------------------------------------------------------------------------------------------------------------------\n",
            "Epoch: 4 / 10 | Reconst_loss: 3307.690 | Kldiv loss: 1072.986 | Classifcation loss: 2.108 | Constrast loss: 28.66 | Total loss: 10185.629 | Train acc: 60.779 % ||| Val Loss: 10141.972 | Val acc: 62.097 %\n",
            "-------------------------------------------------------------------------------------------------------------------------------------------------------------------------------------\n",
            "Epoch: 5 / 10 | Reconst_loss: 3521.080 | Kldiv loss: 925.594 | Classifcation loss: 2.097 | Constrast loss: 122.82 | Total loss: 10116.979 | Train acc: 61.437 % ||| Val Loss: 10021.561 | Val acc: 62.691 %\n",
            "-------------------------------------------------------------------------------------------------------------------------------------------------------------------------------------\n",
            "Epoch: 6 / 10 | Reconst_loss: 3180.912 | Kldiv loss: 1004.557 | Classifcation loss: 2.021 | Constrast loss: 14.72 | Total loss: 9947.350 | Train acc: 62.728 % ||| Val Loss: 10061.968 | Val acc: 62.467 %\n",
            "-------------------------------------------------------------------------------------------------------------------------------------------------------------------------------------\n",
            "Epoch: 7 / 10 | Reconst_loss: 3928.031 | Kldiv loss: 988.989 | Classifcation loss: 2.026 | Constrast loss: 86.93 | Total loss: 9715.068 | Train acc: 63.252 % ||| Val Loss: 9666.497 | Val acc: 64.143 %\n",
            "-------------------------------------------------------------------------------------------------------------------------------------------------------------------------------------\n",
            "Epoch: 8 / 10 | Reconst_loss: 3739.479 | Kldiv loss: 1056.497 | Classifcation loss: 2.012 | Constrast loss: 45.02 | Total loss: 9643.282 | Train acc: 63.697 % ||| Val Loss: 9517.986 | Val acc: 63.406 %\n",
            "-------------------------------------------------------------------------------------------------------------------------------------------------------------------------------------\n",
            "Epoch: 9 / 10 | Reconst_loss: 3272.933 | Kldiv loss: 946.473 | Classifcation loss: 2.049 | Constrast loss: 57.51 | Total loss: 9523.352 | Train acc: 63.607 % ||| Val Loss: 9431.442 | Val acc: 63.294 %\n",
            "-------------------------------------------------------------------------------------------------------------------------------------------------------------------------------------\n"
          ]
        },
        {
          "output_type": "stream",
          "name": "stderr",
          "text": [
            "\u001b[32m[I 2023-03-18 01:32:15,240]\u001b[0m Trial 91 finished with value: 0.640444206759614 and parameters: {'optuna_batch_size': 176, 'optimizer': 'Adam', 'lr': 0.005931081654190201, 'hidden_dim': 943, 'alpha': 1, 'beta': 9, 'gamma': 8, 'delta': 4}. Best is trial 50 with value: 0.8561023473599106.\u001b[0m\n"
          ]
        },
        {
          "output_type": "stream",
          "name": "stdout",
          "text": [
            "Epoch: 10 / 10 | Reconst_loss: 3265.617 | Kldiv loss: 999.824 | Classifcation loss: 2.047 | Constrast loss: 38.44 | Total loss: 9343.921 | Train acc: 64.044 % ||| Val Loss: 9679.995 | Val acc: 63.870 %\n",
            "-------------------------------------------------------------------------------------------------------------------------------------------------------------------------------------\n",
            "Epoch: 1 / 10 | Reconst_loss: 949.318 | Kldiv loss: 226.193 | Classifcation loss: 2.003 | Constrast loss: 9.31 | Total loss: 13375.781 | Train acc: 39.839 % ||| Val Loss: 9566.760 | Val acc: 60.342 %\n",
            "-------------------------------------------------------------------------------------------------------------------------------------------------------------------------------------\n",
            "Epoch: 2 / 10 | Reconst_loss: 895.897 | Kldiv loss: 200.302 | Classifcation loss: 2.019 | Constrast loss: 7.47 | Total loss: 9214.019 | Train acc: 62.546 % ||| Val Loss: 8760.165 | Val acc: 66.022 %\n",
            "-------------------------------------------------------------------------------------------------------------------------------------------------------------------------------------\n",
            "Epoch: 3 / 10 | Reconst_loss: 817.013 | Kldiv loss: 173.488 | Classifcation loss: 2.076 | Constrast loss: 12.15 | Total loss: 8644.917 | Train acc: 66.918 % ||| Val Loss: 8529.626 | Val acc: 67.895 %\n",
            "-------------------------------------------------------------------------------------------------------------------------------------------------------------------------------------\n",
            "Epoch: 4 / 10 | Reconst_loss: 761.009 | Kldiv loss: 202.950 | Classifcation loss: 1.959 | Constrast loss: 4.04 | Total loss: 8388.394 | Train acc: 68.954 % ||| Val Loss: 8173.328 | Val acc: 69.709 %\n",
            "-------------------------------------------------------------------------------------------------------------------------------------------------------------------------------------\n",
            "Epoch: 5 / 10 | Reconst_loss: 794.330 | Kldiv loss: 213.727 | Classifcation loss: 2.068 | Constrast loss: 4.08 | Total loss: 8237.590 | Train acc: 69.581 % ||| Val Loss: 8029.388 | Val acc: 69.797 %\n",
            "-------------------------------------------------------------------------------------------------------------------------------------------------------------------------------------\n",
            "Epoch: 6 / 10 | Reconst_loss: 527.337 | Kldiv loss: 211.898 | Classifcation loss: 1.786 | Constrast loss: 0.00 | Total loss: 8097.553 | Train acc: 70.190 % ||| Val Loss: 8542.093 | Val acc: 67.160 %\n",
            "-------------------------------------------------------------------------------------------------------------------------------------------------------------------------------------\n",
            "Epoch: 7 / 10 | Reconst_loss: 852.342 | Kldiv loss: 231.294 | Classifcation loss: 1.988 | Constrast loss: 1.05 | Total loss: 7895.581 | Train acc: 70.720 % ||| Val Loss: 7864.279 | Val acc: 71.466 %\n",
            "-------------------------------------------------------------------------------------------------------------------------------------------------------------------------------------\n",
            "Epoch: 8 / 10 | Reconst_loss: 791.672 | Kldiv loss: 176.782 | Classifcation loss: 2.013 | Constrast loss: 3.23 | Total loss: 7782.149 | Train acc: 70.879 % ||| Val Loss: 8185.032 | Val acc: 68.805 %\n",
            "-------------------------------------------------------------------------------------------------------------------------------------------------------------------------------------\n",
            "Epoch: 9 / 10 | Reconst_loss: 802.074 | Kldiv loss: 228.495 | Classifcation loss: 1.989 | Constrast loss: 8.39 | Total loss: 7742.326 | Train acc: 70.509 % ||| Val Loss: 7584.614 | Val acc: 71.391 %\n",
            "-------------------------------------------------------------------------------------------------------------------------------------------------------------------------------------\n"
          ]
        },
        {
          "output_type": "stream",
          "name": "stderr",
          "text": [
            "\u001b[32m[I 2023-03-18 01:33:04,680]\u001b[0m Trial 92 finished with value: 0.6976146836491657 and parameters: {'optuna_batch_size': 145, 'optimizer': 'Adam', 'lr': 0.006986808805702549, 'hidden_dim': 146, 'alpha': 6, 'beta': 8, 'gamma': 8, 'delta': 4}. Best is trial 50 with value: 0.8561023473599106.\u001b[0m\n"
          ]
        },
        {
          "output_type": "stream",
          "name": "stdout",
          "text": [
            "Epoch: 10 / 10 | Reconst_loss: 854.613 | Kldiv loss: 239.169 | Classifcation loss: 1.865 | Constrast loss: 6.31 | Total loss: 7802.443 | Train acc: 69.761 % ||| Val Loss: 7622.597 | Val acc: 71.460 %\n",
            "-------------------------------------------------------------------------------------------------------------------------------------------------------------------------------------\n",
            "Epoch: 1 / 10 | Reconst_loss: 3197.487 | Kldiv loss: 963.241 | Classifcation loss: 2.294 | Constrast loss: 110.56 | Total loss: 29322.321 | Train acc: 24.395 % ||| Val Loss: 17123.128 | Val acc: 39.249 %\n",
            "-------------------------------------------------------------------------------------------------------------------------------------------------------------------------------------\n",
            "Epoch: 2 / 10 | Reconst_loss: 3311.239 | Kldiv loss: 971.065 | Classifcation loss: 2.172 | Constrast loss: 116.83 | Total loss: 15900.060 | Train acc: 51.986 % ||| Val Loss: 15212.301 | Val acc: 55.655 %\n",
            "-------------------------------------------------------------------------------------------------------------------------------------------------------------------------------------\n",
            "Epoch: 3 / 10 | Reconst_loss: 3115.878 | Kldiv loss: 853.738 | Classifcation loss: 2.120 | Constrast loss: 86.46 | Total loss: 14701.684 | Train acc: 59.672 % ||| Val Loss: 14075.716 | Val acc: 61.823 %\n",
            "-------------------------------------------------------------------------------------------------------------------------------------------------------------------------------------\n",
            "Epoch: 4 / 10 | Reconst_loss: 3165.750 | Kldiv loss: 922.007 | Classifcation loss: 2.100 | Constrast loss: 57.53 | Total loss: 14075.922 | Train acc: 62.906 % ||| Val Loss: 13506.178 | Val acc: 63.476 %\n",
            "-------------------------------------------------------------------------------------------------------------------------------------------------------------------------------------\n",
            "Epoch: 5 / 10 | Reconst_loss: 2844.227 | Kldiv loss: 877.736 | Classifcation loss: 2.085 | Constrast loss: 72.40 | Total loss: 13530.572 | Train acc: 64.007 % ||| Val Loss: 13597.120 | Val acc: 63.925 %\n",
            "-------------------------------------------------------------------------------------------------------------------------------------------------------------------------------------\n",
            "Epoch: 6 / 10 | Reconst_loss: 2621.579 | Kldiv loss: 867.073 | Classifcation loss: 2.036 | Constrast loss: 50.56 | Total loss: 13509.091 | Train acc: 64.789 % ||| Val Loss: 14653.163 | Val acc: 65.053 %\n",
            "-------------------------------------------------------------------------------------------------------------------------------------------------------------------------------------\n",
            "Epoch: 7 / 10 | Reconst_loss: 3197.260 | Kldiv loss: 890.445 | Classifcation loss: 2.012 | Constrast loss: 36.18 | Total loss: 13296.841 | Train acc: 66.075 % ||| Val Loss: 13378.452 | Val acc: 68.074 %\n",
            "-------------------------------------------------------------------------------------------------------------------------------------------------------------------------------------\n",
            "Epoch: 8 / 10 | Reconst_loss: 3102.282 | Kldiv loss: 860.812 | Classifcation loss: 1.981 | Constrast loss: 24.80 | Total loss: 13116.407 | Train acc: 68.885 % ||| Val Loss: 12716.392 | Val acc: 69.444 %\n",
            "-------------------------------------------------------------------------------------------------------------------------------------------------------------------------------------\n",
            "Epoch: 9 / 10 | Reconst_loss: 2390.587 | Kldiv loss: 819.279 | Classifcation loss: 1.915 | Constrast loss: 16.60 | Total loss: 12694.898 | Train acc: 70.076 % ||| Val Loss: 12535.524 | Val acc: 69.552 %\n",
            "-------------------------------------------------------------------------------------------------------------------------------------------------------------------------------------\n"
          ]
        },
        {
          "output_type": "stream",
          "name": "stderr",
          "text": [
            "\u001b[32m[I 2023-03-18 01:37:10,038]\u001b[0m Trial 93 finished with value: 0.7013936798129626 and parameters: {'optuna_batch_size': 234, 'optimizer': 'Adam', 'lr': 0.006293855807602612, 'hidden_dim': 929, 'alpha': 7, 'beta': 9, 'gamma': 10, 'delta': 3}. Best is trial 50 with value: 0.8561023473599106.\u001b[0m\n"
          ]
        },
        {
          "output_type": "stream",
          "name": "stdout",
          "text": [
            "Epoch: 10 / 10 | Reconst_loss: 2968.412 | Kldiv loss: 776.110 | Classifcation loss: 2.055 | Constrast loss: 45.01 | Total loss: 12486.323 | Train acc: 70.139 % ||| Val Loss: 12330.807 | Val acc: 69.672 %\n",
            "-------------------------------------------------------------------------------------------------------------------------------------------------------------------------------------\n",
            "Epoch: 1 / 10 | Reconst_loss: 2418.212 | Kldiv loss: 564.698 | Classifcation loss: 2.067 | Constrast loss: 77.48 | Total loss: 109958.861 | Train acc: 38.233 % ||| Val Loss: 6171.876 | Val acc: 62.970 %\n",
            "-------------------------------------------------------------------------------------------------------------------------------------------------------------------------------------\n",
            "Epoch: 2 / 10 | Reconst_loss: 2067.612 | Kldiv loss: 537.936 | Classifcation loss: 2.030 | Constrast loss: 50.40 | Total loss: 5996.976 | Train acc: 65.064 % ||| Val Loss: 5726.599 | Val acc: 68.205 %\n",
            "-------------------------------------------------------------------------------------------------------------------------------------------------------------------------------------\n",
            "Epoch: 3 / 10 | Reconst_loss: 2417.425 | Kldiv loss: 550.310 | Classifcation loss: 1.997 | Constrast loss: 58.61 | Total loss: 5761.372 | Train acc: 71.276 % ||| Val Loss: 6477.209 | Val acc: 68.034 %\n",
            "-------------------------------------------------------------------------------------------------------------------------------------------------------------------------------------\n",
            "Epoch: 4 / 10 | Reconst_loss: 1736.170 | Kldiv loss: 454.911 | Classifcation loss: 1.961 | Constrast loss: 96.75 | Total loss: 5641.957 | Train acc: 72.932 % ||| Val Loss: 5426.454 | Val acc: 74.955 %\n",
            "-------------------------------------------------------------------------------------------------------------------------------------------------------------------------------------\n",
            "Epoch: 5 / 10 | Reconst_loss: 2103.868 | Kldiv loss: 487.210 | Classifcation loss: 1.963 | Constrast loss: 46.48 | Total loss: 5440.916 | Train acc: 74.608 % ||| Val Loss: 5399.237 | Val acc: 73.690 %\n",
            "-------------------------------------------------------------------------------------------------------------------------------------------------------------------------------------\n",
            "Epoch: 6 / 10 | Reconst_loss: 1958.478 | Kldiv loss: 524.971 | Classifcation loss: 1.901 | Constrast loss: 46.46 | Total loss: 5393.507 | Train acc: 75.114 % ||| Val Loss: 5320.682 | Val acc: 75.987 %\n",
            "-------------------------------------------------------------------------------------------------------------------------------------------------------------------------------------\n",
            "Epoch: 7 / 10 | Reconst_loss: 1917.181 | Kldiv loss: 565.233 | Classifcation loss: 1.928 | Constrast loss: 44.68 | Total loss: 5391.844 | Train acc: 75.563 % ||| Val Loss: 5596.578 | Val acc: 74.737 %\n",
            "-------------------------------------------------------------------------------------------------------------------------------------------------------------------------------------\n",
            "Epoch: 8 / 10 | Reconst_loss: 1594.873 | Kldiv loss: 517.290 | Classifcation loss: 1.927 | Constrast loss: 35.18 | Total loss: 5272.505 | Train acc: 75.994 % ||| Val Loss: 5131.408 | Val acc: 76.029 %\n",
            "-------------------------------------------------------------------------------------------------------------------------------------------------------------------------------------\n",
            "Epoch: 9 / 10 | Reconst_loss: 1549.540 | Kldiv loss: 487.919 | Classifcation loss: 1.955 | Constrast loss: 64.42 | Total loss: 5223.648 | Train acc: 76.426 % ||| Val Loss: 5205.517 | Val acc: 76.864 %\n",
            "-------------------------------------------------------------------------------------------------------------------------------------------------------------------------------------\n"
          ]
        },
        {
          "output_type": "stream",
          "name": "stderr",
          "text": [
            "\u001b[32m[I 2023-03-18 01:44:52,386]\u001b[0m Trial 94 finished with value: 0.7623257948760741 and parameters: {'optuna_batch_size': 100, 'optimizer': 'Adam', 'lr': 0.004850121343904548, 'hidden_dim': 979, 'alpha': 8, 'beta': 7, 'gamma': 6, 'delta': 5}. Best is trial 50 with value: 0.8561023473599106.\u001b[0m\n"
          ]
        },
        {
          "output_type": "stream",
          "name": "stdout",
          "text": [
            "Epoch: 10 / 10 | Reconst_loss: 1657.915 | Kldiv loss: 496.869 | Classifcation loss: 1.913 | Constrast loss: 44.55 | Total loss: 5226.690 | Train acc: 76.233 % ||| Val Loss: 5242.054 | Val acc: 74.602 %\n",
            "-------------------------------------------------------------------------------------------------------------------------------------------------------------------------------------\n",
            "Epoch: 1 / 10 | Reconst_loss: 941.859 | Kldiv loss: 273.695 | Classifcation loss: 2.213 | Constrast loss: 11.93 | Total loss: 17003.536 | Train acc: 37.433 % ||| Val Loss: 12222.177 | Val acc: 57.661 %\n",
            "-------------------------------------------------------------------------------------------------------------------------------------------------------------------------------------\n",
            "Epoch: 2 / 10 | Reconst_loss: 704.255 | Kldiv loss: 216.661 | Classifcation loss: 1.992 | Constrast loss: 5.91 | Total loss: 11344.401 | Train acc: 66.374 % ||| Val Loss: 11383.237 | Val acc: 70.451 %\n",
            "-------------------------------------------------------------------------------------------------------------------------------------------------------------------------------------\n",
            "Epoch: 3 / 10 | Reconst_loss: 648.033 | Kldiv loss: 217.778 | Classifcation loss: 2.099 | Constrast loss: 8.16 | Total loss: 10900.911 | Train acc: 70.830 % ||| Val Loss: 11275.542 | Val acc: 72.968 %\n",
            "-------------------------------------------------------------------------------------------------------------------------------------------------------------------------------------\n",
            "Epoch: 4 / 10 | Reconst_loss: 1159.452 | Kldiv loss: 249.043 | Classifcation loss: 1.884 | Constrast loss: 3.20 | Total loss: 10559.499 | Train acc: 72.900 % ||| Val Loss: 10335.954 | Val acc: 74.219 %\n",
            "-------------------------------------------------------------------------------------------------------------------------------------------------------------------------------------\n",
            "Epoch: 5 / 10 | Reconst_loss: 903.049 | Kldiv loss: 220.266 | Classifcation loss: 1.922 | Constrast loss: 0.27 | Total loss: 10378.500 | Train acc: 73.653 % ||| Val Loss: 10505.725 | Val acc: 73.017 %\n",
            "-------------------------------------------------------------------------------------------------------------------------------------------------------------------------------------\n",
            "Epoch: 6 / 10 | Reconst_loss: 801.430 | Kldiv loss: 259.225 | Classifcation loss: 1.946 | Constrast loss: 3.19 | Total loss: 10343.585 | Train acc: 73.576 % ||| Val Loss: 10057.587 | Val acc: 74.224 %\n",
            "-------------------------------------------------------------------------------------------------------------------------------------------------------------------------------------\n",
            "Epoch: 7 / 10 | Reconst_loss: 665.037 | Kldiv loss: 158.589 | Classifcation loss: 1.936 | Constrast loss: 5.42 | Total loss: 10075.274 | Train acc: 74.583 % ||| Val Loss: 10393.211 | Val acc: 73.047 %\n",
            "-------------------------------------------------------------------------------------------------------------------------------------------------------------------------------------\n",
            "Epoch: 8 / 10 | Reconst_loss: 825.218 | Kldiv loss: 248.566 | Classifcation loss: 1.925 | Constrast loss: 0.27 | Total loss: 9809.022 | Train acc: 76.023 % ||| Val Loss: 10005.038 | Val acc: 74.496 %\n",
            "-------------------------------------------------------------------------------------------------------------------------------------------------------------------------------------\n",
            "Epoch: 9 / 10 | Reconst_loss: 771.935 | Kldiv loss: 204.209 | Classifcation loss: 1.892 | Constrast loss: 5.00 | Total loss: 9631.053 | Train acc: 76.549 % ||| Val Loss: 9653.763 | Val acc: 77.110 %\n",
            "-------------------------------------------------------------------------------------------------------------------------------------------------------------------------------------\n"
          ]
        },
        {
          "output_type": "stream",
          "name": "stderr",
          "text": [
            "\u001b[32m[I 2023-03-18 01:49:22,418]\u001b[0m Trial 95 finished with value: 0.7707269211624609 and parameters: {'optuna_batch_size': 182, 'optimizer': 'Adam', 'lr': 0.005701286583962079, 'hidden_dim': 910, 'alpha': 8, 'beta': 8, 'gamma': 4, 'delta': 4}. Best is trial 50 with value: 0.8561023473599106.\u001b[0m\n"
          ]
        },
        {
          "output_type": "stream",
          "name": "stdout",
          "text": [
            "Epoch: 10 / 10 | Reconst_loss: 950.907 | Kldiv loss: 227.387 | Classifcation loss: 1.881 | Constrast loss: 4.69 | Total loss: 9657.336 | Train acc: 77.073 % ||| Val Loss: 9308.280 | Val acc: 78.386 %\n",
            "-------------------------------------------------------------------------------------------------------------------------------------------------------------------------------------\n",
            "Epoch: 1 / 10 | Reconst_loss: 442.113 | Kldiv loss: 59.553 | Classifcation loss: 2.523 | Constrast loss: 0.00 | Total loss: 21863.465 | Train acc: 19.969 % ||| Val Loss: 11207.674 | Val acc: 36.943 %\n",
            "-------------------------------------------------------------------------------------------------------------------------------------------------------------------------------------\n",
            "Epoch: 2 / 10 | Reconst_loss: 203.767 | Kldiv loss: 65.944 | Classifcation loss: 1.990 | Constrast loss: 0.00 | Total loss: 10378.310 | Train acc: 51.958 % ||| Val Loss: 9582.986 | Val acc: 60.765 %\n",
            "-------------------------------------------------------------------------------------------------------------------------------------------------------------------------------------\n",
            "Epoch: 3 / 10 | Reconst_loss: 196.054 | Kldiv loss: 87.239 | Classifcation loss: 1.850 | Constrast loss: 0.00 | Total loss: 9522.050 | Train acc: 67.576 % ||| Val Loss: 9329.230 | Val acc: 70.969 %\n",
            "-------------------------------------------------------------------------------------------------------------------------------------------------------------------------------------\n",
            "Epoch: 4 / 10 | Reconst_loss: 327.947 | Kldiv loss: 86.078 | Classifcation loss: 1.788 | Constrast loss: 0.00 | Total loss: 9164.725 | Train acc: 73.307 % ||| Val Loss: 9024.619 | Val acc: 75.120 %\n",
            "-------------------------------------------------------------------------------------------------------------------------------------------------------------------------------------\n",
            "Epoch: 5 / 10 | Reconst_loss: 217.519 | Kldiv loss: 59.116 | Classifcation loss: 1.855 | Constrast loss: 0.00 | Total loss: 9093.975 | Train acc: 77.387 % ||| Val Loss: 8867.543 | Val acc: 80.959 %\n",
            "-------------------------------------------------------------------------------------------------------------------------------------------------------------------------------------\n",
            "Epoch: 6 / 10 | Reconst_loss: 163.973 | Kldiv loss: 73.890 | Classifcation loss: 1.836 | Constrast loss: 0.00 | Total loss: 8681.544 | Train acc: 81.840 % ||| Val Loss: 9830.160 | Val acc: 72.635 %\n",
            "-------------------------------------------------------------------------------------------------------------------------------------------------------------------------------------\n",
            "Epoch: 7 / 10 | Reconst_loss: 145.141 | Kldiv loss: 68.355 | Classifcation loss: 1.835 | Constrast loss: 0.00 | Total loss: 8692.054 | Train acc: 82.390 % ||| Val Loss: 8568.641 | Val acc: 83.997 %\n",
            "-------------------------------------------------------------------------------------------------------------------------------------------------------------------------------------\n",
            "Epoch: 8 / 10 | Reconst_loss: 167.736 | Kldiv loss: 73.201 | Classifcation loss: 1.831 | Constrast loss: 0.00 | Total loss: 8380.203 | Train acc: 84.612 % ||| Val Loss: 8192.763 | Val acc: 85.527 %\n",
            "-------------------------------------------------------------------------------------------------------------------------------------------------------------------------------------\n",
            "Epoch: 9 / 10 | Reconst_loss: 185.974 | Kldiv loss: 54.280 | Classifcation loss: 1.902 | Constrast loss: 1.01 | Total loss: 8378.394 | Train acc: 84.874 % ||| Val Loss: 8326.887 | Val acc: 86.395 %\n",
            "-------------------------------------------------------------------------------------------------------------------------------------------------------------------------------------\n"
          ]
        },
        {
          "output_type": "stream",
          "name": "stderr",
          "text": [
            "\u001b[32m[I 2023-03-18 01:54:23,814]\u001b[0m Trial 96 finished with value: 0.8590041798283392 and parameters: {'optuna_batch_size': 155, 'optimizer': 'Adam', 'lr': 0.00531846441810562, 'hidden_dim': 910, 'alpha': 8, 'beta': 8, 'gamma': 4, 'delta': 4}. Best is trial 96 with value: 0.8590041798283392.\u001b[0m\n"
          ]
        },
        {
          "output_type": "stream",
          "name": "stdout",
          "text": [
            "Epoch: 10 / 10 | Reconst_loss: 202.771 | Kldiv loss: 69.098 | Classifcation loss: 1.787 | Constrast loss: 0.00 | Total loss: 8187.452 | Train acc: 85.900 % ||| Val Loss: 8351.409 | Val acc: 84.944 %\n",
            "-------------------------------------------------------------------------------------------------------------------------------------------------------------------------------------\n",
            "Epoch: 1 / 10 | Reconst_loss: 6213.438 | Kldiv loss: -0.000 | Classifcation loss: 2.562 | Constrast loss: 18904.00 | Total loss: 123607.919 | Train acc: 8.218 % ||| Val Loss: 122549.541 | Val acc: 8.542 %\n",
            "-------------------------------------------------------------------------------------------------------------------------------------------------------------------------------------\n",
            "Epoch: 2 / 10 | Reconst_loss: 6227.000 | Kldiv loss: -0.000 | Classifcation loss: 2.555 | Constrast loss: 18756.00 | Total loss: 123577.711 | Train acc: 8.382 % ||| Val Loss: 122550.118 | Val acc: 8.505 %\n",
            "-------------------------------------------------------------------------------------------------------------------------------------------------------------------------------------\n",
            "Epoch: 3 / 10 | Reconst_loss: 5585.849 | Kldiv loss: -0.000 | Classifcation loss: 2.559 | Constrast loss: 18784.00 | Total loss: 123625.726 | Train acc: 8.362 % ||| Val Loss: 122550.003 | Val acc: 8.381 %\n",
            "-------------------------------------------------------------------------------------------------------------------------------------------------------------------------------------\n"
          ]
        },
        {
          "output_type": "stream",
          "name": "stderr",
          "text": [
            "\u001b[32m[I 2023-03-18 01:56:21,109]\u001b[0m Trial 97 pruned. \u001b[0m\n"
          ]
        },
        {
          "output_type": "stream",
          "name": "stdout",
          "text": [
            "Epoch: 4 / 10 | Reconst_loss: 5566.737 | Kldiv loss: -0.000 | Classifcation loss: 2.559 | Constrast loss: 18940.00 | Total loss: 123588.925 | Train acc: 8.249 % ||| Val Loss: 122550.655 | Val acc: 8.163 %\n",
            "-------------------------------------------------------------------------------------------------------------------------------------------------------------------------------------\n",
            "Epoch: 1 / 10 | Reconst_loss: 1902.340 | Kldiv loss: 434.434 | Classifcation loss: 2.427 | Constrast loss: 210.64 | Total loss: 25529.844 | Train acc: 20.288 % ||| Val Loss: 14480.077 | Val acc: 31.189 %\n",
            "-------------------------------------------------------------------------------------------------------------------------------------------------------------------------------------\n",
            "Epoch: 2 / 10 | Reconst_loss: 2218.565 | Kldiv loss: 332.388 | Classifcation loss: 2.216 | Constrast loss: 33.66 | Total loss: 10540.384 | Train acc: 40.316 % ||| Val Loss: 7829.883 | Val acc: 49.688 %\n",
            "-------------------------------------------------------------------------------------------------------------------------------------------------------------------------------------\n",
            "Epoch: 3 / 10 | Reconst_loss: 1203.645 | Kldiv loss: 329.672 | Classifcation loss: 1.984 | Constrast loss: 4.73 | Total loss: 7363.697 | Train acc: 63.644 % ||| Val Loss: 6954.059 | Val acc: 70.898 %\n",
            "-------------------------------------------------------------------------------------------------------------------------------------------------------------------------------------\n",
            "Epoch: 4 / 10 | Reconst_loss: 1194.929 | Kldiv loss: 286.004 | Classifcation loss: 1.960 | Constrast loss: 17.79 | Total loss: 6942.230 | Train acc: 72.087 % ||| Val Loss: 6821.883 | Val acc: 73.791 %\n",
            "-------------------------------------------------------------------------------------------------------------------------------------------------------------------------------------\n",
            "Epoch: 5 / 10 | Reconst_loss: 1111.105 | Kldiv loss: 237.502 | Classifcation loss: 2.038 | Constrast loss: 32.75 | Total loss: 6804.138 | Train acc: 74.122 % ||| Val Loss: 6545.246 | Val acc: 73.929 %\n",
            "-------------------------------------------------------------------------------------------------------------------------------------------------------------------------------------\n",
            "Epoch: 6 / 10 | Reconst_loss: 1208.979 | Kldiv loss: 298.474 | Classifcation loss: 1.850 | Constrast loss: 12.26 | Total loss: 6669.992 | Train acc: 75.387 % ||| Val Loss: 6548.643 | Val acc: 75.552 %\n",
            "-------------------------------------------------------------------------------------------------------------------------------------------------------------------------------------\n",
            "Epoch: 7 / 10 | Reconst_loss: 996.388 | Kldiv loss: 308.771 | Classifcation loss: 1.906 | Constrast loss: 13.90 | Total loss: 6641.969 | Train acc: 75.401 % ||| Val Loss: 7616.774 | Val acc: 69.378 %\n",
            "-------------------------------------------------------------------------------------------------------------------------------------------------------------------------------------\n",
            "Epoch: 8 / 10 | Reconst_loss: 1297.665 | Kldiv loss: 264.368 | Classifcation loss: 1.980 | Constrast loss: 22.65 | Total loss: 6518.827 | Train acc: 77.060 % ||| Val Loss: 6506.305 | Val acc: 75.886 %\n",
            "-------------------------------------------------------------------------------------------------------------------------------------------------------------------------------------\n",
            "Epoch: 9 / 10 | Reconst_loss: 1150.967 | Kldiv loss: 288.993 | Classifcation loss: 2.003 | Constrast loss: 12.54 | Total loss: 6586.710 | Train acc: 76.612 % ||| Val Loss: 6808.296 | Val acc: 76.977 %\n",
            "-------------------------------------------------------------------------------------------------------------------------------------------------------------------------------------\n"
          ]
        },
        {
          "output_type": "stream",
          "name": "stderr",
          "text": [
            "\u001b[32m[I 2023-03-18 02:02:05,284]\u001b[0m Trial 98 finished with value: 0.7728573538643331 and parameters: {'optuna_batch_size': 118, 'optimizer': 'Adam', 'lr': 0.0052414458645612914, 'hidden_dim': 891, 'alpha': 7, 'beta': 8, 'gamma': 3, 'delta': 4}. Best is trial 96 with value: 0.8590041798283392.\u001b[0m\n"
          ]
        },
        {
          "output_type": "stream",
          "name": "stdout",
          "text": [
            "Epoch: 10 / 10 | Reconst_loss: 1174.104 | Kldiv loss: 257.968 | Classifcation loss: 1.890 | Constrast loss: 23.08 | Total loss: 6419.149 | Train acc: 77.286 % ||| Val Loss: 6278.264 | Val acc: 76.892 %\n",
            "-------------------------------------------------------------------------------------------------------------------------------------------------------------------------------------\n",
            "Epoch: 1 / 10 | Reconst_loss: nan | Kldiv loss: nan | Classifcation loss: nan | Constrast loss: nan | Total loss: nan | Train acc: 0.080 % ||| Val Loss: nan | Val acc: 0.000 %\n",
            "-------------------------------------------------------------------------------------------------------------------------------------------------------------------------------------\n",
            "Epoch: 2 / 10 | Reconst_loss: nan | Kldiv loss: nan | Classifcation loss: nan | Constrast loss: nan | Total loss: nan | Train acc: 0.000 % ||| Val Loss: nan | Val acc: 0.000 %\n",
            "-------------------------------------------------------------------------------------------------------------------------------------------------------------------------------------\n",
            "Epoch: 3 / 10 | Reconst_loss: nan | Kldiv loss: nan | Classifcation loss: nan | Constrast loss: nan | Total loss: nan | Train acc: 0.000 % ||| Val Loss: nan | Val acc: 0.000 %\n",
            "-------------------------------------------------------------------------------------------------------------------------------------------------------------------------------------\n"
          ]
        },
        {
          "output_type": "stream",
          "name": "stderr",
          "text": [
            "\u001b[32m[I 2023-03-18 02:03:07,676]\u001b[0m Trial 99 pruned. \u001b[0m\n"
          ]
        },
        {
          "output_type": "stream",
          "name": "stdout",
          "text": [
            "Epoch: 4 / 10 | Reconst_loss: nan | Kldiv loss: nan | Classifcation loss: nan | Constrast loss: nan | Total loss: nan | Train acc: 0.000 % ||| Val Loss: nan | Val acc: 0.000 %\n",
            "-------------------------------------------------------------------------------------------------------------------------------------------------------------------------------------\n",
            "Epoch: 1 / 10 | Reconst_loss: 2952.042 | Kldiv loss: 735.640 | Classifcation loss: 2.146 | Constrast loss: 63.84 | Total loss: 12286.193 | Train acc: 39.213 % ||| Val Loss: 8892.716 | Val acc: 63.228 %\n",
            "-------------------------------------------------------------------------------------------------------------------------------------------------------------------------------------\n",
            "Epoch: 2 / 10 | Reconst_loss: 3104.448 | Kldiv loss: 681.230 | Classifcation loss: 1.963 | Constrast loss: 75.31 | Total loss: 8543.559 | Train acc: 68.171 % ||| Val Loss: 8276.764 | Val acc: 67.743 %\n",
            "-------------------------------------------------------------------------------------------------------------------------------------------------------------------------------------\n",
            "Epoch: 3 / 10 | Reconst_loss: 2233.830 | Kldiv loss: 606.505 | Classifcation loss: 2.021 | Constrast loss: 82.56 | Total loss: 8286.864 | Train acc: 71.049 % ||| Val Loss: 8139.739 | Val acc: 70.216 %\n",
            "-------------------------------------------------------------------------------------------------------------------------------------------------------------------------------------\n",
            "Epoch: 4 / 10 | Reconst_loss: 2673.611 | Kldiv loss: 743.357 | Classifcation loss: 1.928 | Constrast loss: 55.50 | Total loss: 8090.890 | Train acc: 72.802 % ||| Val Loss: 8044.840 | Val acc: 72.976 %\n",
            "-------------------------------------------------------------------------------------------------------------------------------------------------------------------------------------\n",
            "Epoch: 5 / 10 | Reconst_loss: 2272.189 | Kldiv loss: 709.912 | Classifcation loss: 1.921 | Constrast loss: 20.40 | Total loss: 7827.971 | Train acc: 74.545 % ||| Val Loss: 7932.280 | Val acc: 73.703 %\n",
            "-------------------------------------------------------------------------------------------------------------------------------------------------------------------------------------\n",
            "Epoch: 6 / 10 | Reconst_loss: 2321.900 | Kldiv loss: 653.919 | Classifcation loss: 1.958 | Constrast loss: 29.30 | Total loss: 7879.098 | Train acc: 74.629 % ||| Val Loss: 7559.668 | Val acc: 73.551 %\n",
            "-------------------------------------------------------------------------------------------------------------------------------------------------------------------------------------\n",
            "Epoch: 7 / 10 | Reconst_loss: 2205.528 | Kldiv loss: 551.234 | Classifcation loss: 1.924 | Constrast loss: 54.25 | Total loss: 7642.046 | Train acc: 75.490 % ||| Val Loss: 7531.440 | Val acc: 73.807 %\n",
            "-------------------------------------------------------------------------------------------------------------------------------------------------------------------------------------\n",
            "Epoch: 8 / 10 | Reconst_loss: 2200.829 | Kldiv loss: 723.670 | Classifcation loss: 1.903 | Constrast loss: 12.87 | Total loss: 7518.885 | Train acc: 75.852 % ||| Val Loss: 7345.010 | Val acc: 74.799 %\n",
            "-------------------------------------------------------------------------------------------------------------------------------------------------------------------------------------\n",
            "Epoch: 9 / 10 | Reconst_loss: 2086.403 | Kldiv loss: 650.929 | Classifcation loss: 1.863 | Constrast loss: 12.79 | Total loss: 7612.499 | Train acc: 75.364 % ||| Val Loss: 7462.705 | Val acc: 74.835 %\n",
            "-------------------------------------------------------------------------------------------------------------------------------------------------------------------------------------\n"
          ]
        },
        {
          "output_type": "stream",
          "name": "stderr",
          "text": [
            "\u001b[32m[I 2023-03-18 02:07:48,911]\u001b[0m Trial 100 finished with value: 0.7603024139386725 and parameters: {'optuna_batch_size': 142, 'optimizer': 'Adam', 'lr': 0.0065401081487892416, 'hidden_dim': 868, 'alpha': 8, 'beta': 4, 'gamma': 4, 'delta': 5}. Best is trial 96 with value: 0.8590041798283392.\u001b[0m\n"
          ]
        },
        {
          "output_type": "stream",
          "name": "stdout",
          "text": [
            "Epoch: 10 / 10 | Reconst_loss: 2089.587 | Kldiv loss: 591.439 | Classifcation loss: 2.011 | Constrast loss: 64.52 | Total loss: 7455.786 | Train acc: 76.030 % ||| Val Loss: 7492.291 | Val acc: 73.389 %\n",
            "-------------------------------------------------------------------------------------------------------------------------------------------------------------------------------------\n",
            "Epoch: 1 / 10 | Reconst_loss: 1500.954 | Kldiv loss: 317.450 | Classifcation loss: 2.096 | Constrast loss: 30.87 | Total loss: 9851.552 | Train acc: 40.238 % ||| Val Loss: 7196.571 | Val acc: 62.204 %\n",
            "-------------------------------------------------------------------------------------------------------------------------------------------------------------------------------------\n",
            "Epoch: 2 / 10 | Reconst_loss: 954.492 | Kldiv loss: 293.479 | Classifcation loss: 2.011 | Constrast loss: 21.79 | Total loss: 7143.438 | Train acc: 64.384 % ||| Val Loss: 7021.823 | Val acc: 68.073 %\n",
            "-------------------------------------------------------------------------------------------------------------------------------------------------------------------------------------\n",
            "Epoch: 3 / 10 | Reconst_loss: 1300.331 | Kldiv loss: 307.467 | Classifcation loss: 2.013 | Constrast loss: 22.73 | Total loss: 6812.216 | Train acc: 69.581 % ||| Val Loss: 6745.289 | Val acc: 72.399 %\n",
            "-------------------------------------------------------------------------------------------------------------------------------------------------------------------------------------\n",
            "Epoch: 4 / 10 | Reconst_loss: 1312.164 | Kldiv loss: 299.622 | Classifcation loss: 1.973 | Constrast loss: 8.38 | Total loss: 6534.820 | Train acc: 72.968 % ||| Val Loss: 6472.550 | Val acc: 73.862 %\n",
            "-------------------------------------------------------------------------------------------------------------------------------------------------------------------------------------\n",
            "Epoch: 5 / 10 | Reconst_loss: 1107.190 | Kldiv loss: 357.806 | Classifcation loss: 1.942 | Constrast loss: 21.93 | Total loss: 6561.446 | Train acc: 74.276 % ||| Val Loss: 6605.361 | Val acc: 74.440 %\n",
            "-------------------------------------------------------------------------------------------------------------------------------------------------------------------------------------\n",
            "Epoch: 6 / 10 | Reconst_loss: 1134.638 | Kldiv loss: 301.250 | Classifcation loss: 1.972 | Constrast loss: 5.07 | Total loss: 6460.014 | Train acc: 74.968 % ||| Val Loss: 6453.001 | Val acc: 74.140 %\n",
            "-------------------------------------------------------------------------------------------------------------------------------------------------------------------------------------\n",
            "Epoch: 7 / 10 | Reconst_loss: 907.179 | Kldiv loss: 300.045 | Classifcation loss: 1.991 | Constrast loss: 31.00 | Total loss: 6455.107 | Train acc: 74.668 % ||| Val Loss: 6335.680 | Val acc: 75.182 %\n",
            "-------------------------------------------------------------------------------------------------------------------------------------------------------------------------------------\n",
            "Epoch: 8 / 10 | Reconst_loss: 885.438 | Kldiv loss: 337.059 | Classifcation loss: 1.951 | Constrast loss: 12.03 | Total loss: 6332.958 | Train acc: 75.522 % ||| Val Loss: 6074.111 | Val acc: 75.947 %\n",
            "-------------------------------------------------------------------------------------------------------------------------------------------------------------------------------------\n",
            "Epoch: 9 / 10 | Reconst_loss: 917.666 | Kldiv loss: 276.904 | Classifcation loss: 1.873 | Constrast loss: 6.09 | Total loss: 6228.986 | Train acc: 75.848 % ||| Val Loss: 6115.151 | Val acc: 75.634 %\n",
            "-------------------------------------------------------------------------------------------------------------------------------------------------------------------------------------\n"
          ]
        },
        {
          "output_type": "stream",
          "name": "stderr",
          "text": [
            "\u001b[32m[I 2023-03-18 02:13:29,678]\u001b[0m Trial 101 finished with value: 0.759305417082087 and parameters: {'optuna_batch_size': 118, 'optimizer': 'Adam', 'lr': 0.005365036458001833, 'hidden_dim': 898, 'alpha': 8, 'beta': 8, 'gamma': 3, 'delta': 4}. Best is trial 96 with value: 0.8590041798283392.\u001b[0m\n"
          ]
        },
        {
          "output_type": "stream",
          "name": "stdout",
          "text": [
            "Epoch: 10 / 10 | Reconst_loss: 1188.248 | Kldiv loss: 329.958 | Classifcation loss: 1.858 | Constrast loss: 14.05 | Total loss: 6248.333 | Train acc: 75.931 % ||| Val Loss: 6298.865 | Val acc: 76.121 %\n",
            "-------------------------------------------------------------------------------------------------------------------------------------------------------------------------------------\n",
            "Epoch: 1 / 10 | Reconst_loss: 1845.880 | Kldiv loss: 458.715 | Classifcation loss: 2.114 | Constrast loss: 46.34 | Total loss: 10897.200 | Train acc: 33.382 % ||| Val Loss: 8429.742 | Val acc: 50.260 %\n",
            "-------------------------------------------------------------------------------------------------------------------------------------------------------------------------------------\n",
            "Epoch: 2 / 10 | Reconst_loss: 1870.692 | Kldiv loss: 480.252 | Classifcation loss: 2.075 | Constrast loss: 34.92 | Total loss: 8306.429 | Train acc: 56.756 % ||| Val Loss: 7890.825 | Val acc: 63.569 %\n",
            "-------------------------------------------------------------------------------------------------------------------------------------------------------------------------------------\n",
            "Epoch: 3 / 10 | Reconst_loss: 2367.821 | Kldiv loss: 657.751 | Classifcation loss: 2.100 | Constrast loss: 35.71 | Total loss: 8184.865 | Train acc: 61.368 % ||| Val Loss: 8716.980 | Val acc: 62.099 %\n",
            "-------------------------------------------------------------------------------------------------------------------------------------------------------------------------------------\n",
            "Epoch: 4 / 10 | Reconst_loss: 1930.292 | Kldiv loss: 572.662 | Classifcation loss: 1.968 | Constrast loss: 13.15 | Total loss: 7924.806 | Train acc: 61.234 % ||| Val Loss: 7730.431 | Val acc: 62.737 %\n",
            "-------------------------------------------------------------------------------------------------------------------------------------------------------------------------------------\n",
            "Epoch: 5 / 10 | Reconst_loss: 1832.978 | Kldiv loss: 498.027 | Classifcation loss: 2.090 | Constrast loss: 35.92 | Total loss: 7654.170 | Train acc: 62.152 % ||| Val Loss: 7812.716 | Val acc: 61.665 %\n",
            "-------------------------------------------------------------------------------------------------------------------------------------------------------------------------------------\n",
            "Epoch: 6 / 10 | Reconst_loss: 1670.120 | Kldiv loss: 494.348 | Classifcation loss: 2.027 | Constrast loss: 25.41 | Total loss: 7504.241 | Train acc: 62.628 % ||| Val Loss: 7387.853 | Val acc: 64.143 %\n",
            "-------------------------------------------------------------------------------------------------------------------------------------------------------------------------------------\n",
            "Epoch: 7 / 10 | Reconst_loss: 1443.663 | Kldiv loss: 538.181 | Classifcation loss: 1.998 | Constrast loss: 22.88 | Total loss: 7228.775 | Train acc: 63.373 % ||| Val Loss: 7312.169 | Val acc: 64.567 %\n",
            "-------------------------------------------------------------------------------------------------------------------------------------------------------------------------------------\n",
            "Epoch: 8 / 10 | Reconst_loss: 2161.083 | Kldiv loss: 512.749 | Classifcation loss: 2.084 | Constrast loss: 63.30 | Total loss: 7199.935 | Train acc: 63.184 % ||| Val Loss: 7031.999 | Val acc: 64.200 %\n",
            "-------------------------------------------------------------------------------------------------------------------------------------------------------------------------------------\n",
            "Epoch: 9 / 10 | Reconst_loss: 1719.548 | Kldiv loss: 483.220 | Classifcation loss: 2.098 | Constrast loss: 27.75 | Total loss: 7107.446 | Train acc: 63.434 % ||| Val Loss: 7137.830 | Val acc: 63.930 %\n",
            "-------------------------------------------------------------------------------------------------------------------------------------------------------------------------------------\n"
          ]
        },
        {
          "output_type": "stream",
          "name": "stderr",
          "text": [
            "\u001b[32m[I 2023-03-18 02:19:30,892]\u001b[0m Trial 102 finished with value: 0.6350484958079895 and parameters: {'optuna_batch_size': 132, 'optimizer': 'Adam', 'lr': 0.005271018513610933, 'hidden_dim': 984, 'alpha': 7, 'beta': 8, 'gamma': 3, 'delta': 3}. Best is trial 96 with value: 0.8590041798283392.\u001b[0m\n"
          ]
        },
        {
          "output_type": "stream",
          "name": "stdout",
          "text": [
            "Epoch: 10 / 10 | Reconst_loss: 1789.692 | Kldiv loss: 561.538 | Classifcation loss: 2.117 | Constrast loss: 19.15 | Total loss: 7121.969 | Train acc: 63.505 % ||| Val Loss: 7182.991 | Val acc: 64.452 %\n",
            "-------------------------------------------------------------------------------------------------------------------------------------------------------------------------------------\n",
            "Epoch: 1 / 10 | Reconst_loss: 11682.160 | Kldiv loss: 6171.939 | Classifcation loss: 2.463 | Constrast loss: 1035.11 | Total loss: 326473.412 | Train acc: 16.523 % ||| Val Loss: 102969.502 | Val acc: 26.443 %\n",
            "-------------------------------------------------------------------------------------------------------------------------------------------------------------------------------------\n",
            "Epoch: 2 / 10 | Reconst_loss: 9935.332 | Kldiv loss: 5049.715 | Classifcation loss: 2.391 | Constrast loss: 502.01 | Total loss: 93076.993 | Train acc: 27.344 % ||| Val Loss: 80694.684 | Val acc: 28.959 %\n",
            "-------------------------------------------------------------------------------------------------------------------------------------------------------------------------------------\n",
            "Epoch: 3 / 10 | Reconst_loss: 10179.491 | Kldiv loss: 4736.738 | Classifcation loss: 2.360 | Constrast loss: 440.66 | Total loss: 79809.184 | Train acc: 32.829 % ||| Val Loss: 73148.367 | Val acc: 36.531 %\n",
            "-------------------------------------------------------------------------------------------------------------------------------------------------------------------------------------\n",
            "Epoch: 4 / 10 | Reconst_loss: 9225.865 | Kldiv loss: 4013.403 | Classifcation loss: 2.336 | Constrast loss: 282.06 | Total loss: 71737.653 | Train acc: 40.584 % ||| Val Loss: 70182.710 | Val acc: 42.403 %\n",
            "-------------------------------------------------------------------------------------------------------------------------------------------------------------------------------------\n",
            "Epoch: 5 / 10 | Reconst_loss: 8120.576 | Kldiv loss: 3803.339 | Classifcation loss: 2.307 | Constrast loss: 320.53 | Total loss: 67736.236 | Train acc: 43.122 % ||| Val Loss: 65771.911 | Val acc: 43.157 %\n",
            "-------------------------------------------------------------------------------------------------------------------------------------------------------------------------------------\n",
            "Epoch: 6 / 10 | Reconst_loss: 8521.540 | Kldiv loss: 3724.011 | Classifcation loss: 2.277 | Constrast loss: 257.48 | Total loss: 63955.161 | Train acc: 44.654 % ||| Val Loss: 60761.886 | Val acc: 44.496 %\n",
            "-------------------------------------------------------------------------------------------------------------------------------------------------------------------------------------\n",
            "Epoch: 7 / 10 | Reconst_loss: 7469.879 | Kldiv loss: 3357.170 | Classifcation loss: 2.251 | Constrast loss: 207.89 | Total loss: 61163.209 | Train acc: 45.741 % ||| Val Loss: 61203.710 | Val acc: 45.499 %\n",
            "-------------------------------------------------------------------------------------------------------------------------------------------------------------------------------------\n",
            "Epoch: 8 / 10 | Reconst_loss: 9426.048 | Kldiv loss: 3519.943 | Classifcation loss: 2.262 | Constrast loss: 130.00 | Total loss: 59626.784 | Train acc: 47.163 % ||| Val Loss: 59670.544 | Val acc: 45.801 %\n",
            "-------------------------------------------------------------------------------------------------------------------------------------------------------------------------------------\n",
            "Epoch: 9 / 10 | Reconst_loss: 8564.767 | Kldiv loss: 3611.315 | Classifcation loss: 2.225 | Constrast loss: 240.38 | Total loss: 57937.607 | Train acc: 48.587 % ||| Val Loss: 60295.998 | Val acc: 49.664 %\n",
            "-------------------------------------------------------------------------------------------------------------------------------------------------------------------------------------\n"
          ]
        },
        {
          "output_type": "stream",
          "name": "stderr",
          "text": [
            "\u001b[32m[I 2023-03-18 02:21:59,614]\u001b[0m Trial 103 finished with value: 0.4934045681570201 and parameters: {'optuna_batch_size': 907, 'optimizer': 'Adam', 'lr': 0.0048648186461599865, 'hidden_dim': 936, 'alpha': 7, 'beta': 9, 'gamma': 3, 'delta': 4}. Best is trial 96 with value: 0.8590041798283392.\u001b[0m\n"
          ]
        },
        {
          "output_type": "stream",
          "name": "stdout",
          "text": [
            "Epoch: 10 / 10 | Reconst_loss: 9556.247 | Kldiv loss: 2965.539 | Classifcation loss: 2.189 | Constrast loss: 222.33 | Total loss: 56995.501 | Train acc: 49.340 % ||| Val Loss: 56244.981 | Val acc: 49.911 %\n",
            "-------------------------------------------------------------------------------------------------------------------------------------------------------------------------------------\n",
            "Epoch: 1 / 10 | Reconst_loss: 16866.576 | Kldiv loss: 6503.945 | Classifcation loss: 2.457 | Constrast loss: 1910.99 | Total loss: 129724.518 | Train acc: 19.900 % ||| Val Loss: 59624.855 | Val acc: 28.540 %\n",
            "-------------------------------------------------------------------------------------------------------------------------------------------------------------------------------------\n",
            "Epoch: 2 / 10 | Reconst_loss: 12318.135 | Kldiv loss: 4173.723 | Classifcation loss: 2.302 | Constrast loss: 766.81 | Total loss: 51072.681 | Train acc: 35.900 % ||| Val Loss: 42944.789 | Val acc: 42.792 %\n",
            "-------------------------------------------------------------------------------------------------------------------------------------------------------------------------------------\n",
            "Epoch: 3 / 10 | Reconst_loss: 12457.166 | Kldiv loss: 4048.514 | Classifcation loss: 2.175 | Constrast loss: 744.75 | Total loss: 41176.776 | Train acc: 49.845 % ||| Val Loss: 38961.456 | Val acc: 57.368 %\n",
            "-------------------------------------------------------------------------------------------------------------------------------------------------------------------------------------\n",
            "Epoch: 4 / 10 | Reconst_loss: 12072.169 | Kldiv loss: 3631.966 | Classifcation loss: 2.094 | Constrast loss: 453.85 | Total loss: 38432.170 | Train acc: 59.522 % ||| Val Loss: 36345.957 | Val acc: 61.217 %\n",
            "-------------------------------------------------------------------------------------------------------------------------------------------------------------------------------------\n",
            "Epoch: 5 / 10 | Reconst_loss: 11443.539 | Kldiv loss: 3570.406 | Classifcation loss: 2.069 | Constrast loss: 523.58 | Total loss: 36954.696 | Train acc: 62.738 % ||| Val Loss: 35487.917 | Val acc: 64.402 %\n",
            "-------------------------------------------------------------------------------------------------------------------------------------------------------------------------------------\n",
            "Epoch: 6 / 10 | Reconst_loss: 11286.670 | Kldiv loss: 3798.144 | Classifcation loss: 2.072 | Constrast loss: 326.64 | Total loss: 36398.539 | Train acc: 64.324 % ||| Val Loss: 36652.194 | Val acc: 62.843 %\n",
            "-------------------------------------------------------------------------------------------------------------------------------------------------------------------------------------\n",
            "Epoch: 7 / 10 | Reconst_loss: 11468.443 | Kldiv loss: 3837.453 | Classifcation loss: 2.060 | Constrast loss: 352.49 | Total loss: 35333.298 | Train acc: 64.759 % ||| Val Loss: 34405.851 | Val acc: 64.901 %\n",
            "-------------------------------------------------------------------------------------------------------------------------------------------------------------------------------------\n",
            "Epoch: 8 / 10 | Reconst_loss: 10102.542 | Kldiv loss: 3465.638 | Classifcation loss: 1.998 | Constrast loss: 386.89 | Total loss: 35320.020 | Train acc: 66.264 % ||| Val Loss: 34285.623 | Val acc: 66.424 %\n",
            "-------------------------------------------------------------------------------------------------------------------------------------------------------------------------------------\n",
            "Epoch: 9 / 10 | Reconst_loss: 11033.542 | Kldiv loss: 3237.422 | Classifcation loss: 2.040 | Constrast loss: 431.06 | Total loss: 35775.571 | Train acc: 65.468 % ||| Val Loss: 33933.435 | Val acc: 65.848 %\n",
            "-------------------------------------------------------------------------------------------------------------------------------------------------------------------------------------\n"
          ]
        },
        {
          "output_type": "stream",
          "name": "stderr",
          "text": [
            "\u001b[32m[I 2023-03-18 02:24:20,913]\u001b[0m Trial 104 finished with value: 0.6756191367491521 and parameters: {'optuna_batch_size': 586, 'optimizer': 'Adam', 'lr': 0.005201871946211802, 'hidden_dim': 837, 'alpha': 5, 'beta': 7, 'gamma': 4, 'delta': 3}. Best is trial 96 with value: 0.8590041798283392.\u001b[0m\n"
          ]
        },
        {
          "output_type": "stream",
          "name": "stdout",
          "text": [
            "Epoch: 10 / 10 | Reconst_loss: 10006.602 | Kldiv loss: 3241.252 | Classifcation loss: 2.030 | Constrast loss: 418.29 | Total loss: 33840.000 | Train acc: 67.562 % ||| Val Loss: 33304.785 | Val acc: 67.893 %\n",
            "-------------------------------------------------------------------------------------------------------------------------------------------------------------------------------------\n",
            "Epoch: 1 / 10 | Reconst_loss: 2499.544 | Kldiv loss: 524.368 | Classifcation loss: 2.171 | Constrast loss: 148.89 | Total loss: 9403.006 | Train acc: 42.647 % ||| Val Loss: 7304.373 | Val acc: 58.797 %\n",
            "-------------------------------------------------------------------------------------------------------------------------------------------------------------------------------------\n",
            "Epoch: 2 / 10 | Reconst_loss: 2404.914 | Kldiv loss: 558.978 | Classifcation loss: 2.008 | Constrast loss: 77.15 | Total loss: 6946.690 | Train acc: 68.617 % ||| Val Loss: 6773.189 | Val acc: 69.871 %\n",
            "-------------------------------------------------------------------------------------------------------------------------------------------------------------------------------------\n",
            "Epoch: 3 / 10 | Reconst_loss: 2682.972 | Kldiv loss: 699.853 | Classifcation loss: 1.907 | Constrast loss: 33.32 | Total loss: 6756.278 | Train acc: 73.273 % ||| Val Loss: 6651.489 | Val acc: 74.378 %\n",
            "-------------------------------------------------------------------------------------------------------------------------------------------------------------------------------------\n",
            "Epoch: 4 / 10 | Reconst_loss: 2473.585 | Kldiv loss: 707.942 | Classifcation loss: 1.962 | Constrast loss: 43.34 | Total loss: 6635.420 | Train acc: 74.236 % ||| Val Loss: 6701.632 | Val acc: 73.295 %\n",
            "-------------------------------------------------------------------------------------------------------------------------------------------------------------------------------------\n",
            "Epoch: 5 / 10 | Reconst_loss: 2380.965 | Kldiv loss: 606.490 | Classifcation loss: 1.908 | Constrast loss: 32.68 | Total loss: 6386.986 | Train acc: 75.605 % ||| Val Loss: 6262.560 | Val acc: 75.378 %\n",
            "-------------------------------------------------------------------------------------------------------------------------------------------------------------------------------------\n",
            "Epoch: 6 / 10 | Reconst_loss: 2310.730 | Kldiv loss: 705.211 | Classifcation loss: 1.920 | Constrast loss: 53.95 | Total loss: 6361.187 | Train acc: 75.532 % ||| Val Loss: 7062.959 | Val acc: 73.634 %\n",
            "-------------------------------------------------------------------------------------------------------------------------------------------------------------------------------------\n",
            "Epoch: 7 / 10 | Reconst_loss: 2104.144 | Kldiv loss: 600.660 | Classifcation loss: 1.989 | Constrast loss: 42.26 | Total loss: 6240.179 | Train acc: 75.604 % ||| Val Loss: 6270.019 | Val acc: 74.366 %\n",
            "-------------------------------------------------------------------------------------------------------------------------------------------------------------------------------------\n",
            "Epoch: 8 / 10 | Reconst_loss: 2145.894 | Kldiv loss: 642.994 | Classifcation loss: 1.923 | Constrast loss: 63.26 | Total loss: 6132.633 | Train acc: 76.210 % ||| Val Loss: 6258.997 | Val acc: 77.481 %\n",
            "-------------------------------------------------------------------------------------------------------------------------------------------------------------------------------------\n",
            "Epoch: 9 / 10 | Reconst_loss: 1997.544 | Kldiv loss: 664.697 | Classifcation loss: 1.880 | Constrast loss: 37.03 | Total loss: 6209.728 | Train acc: 77.655 % ||| Val Loss: 5983.031 | Val acc: 78.658 %\n",
            "-------------------------------------------------------------------------------------------------------------------------------------------------------------------------------------\n"
          ]
        },
        {
          "output_type": "stream",
          "name": "stderr",
          "text": [
            "\u001b[32m[I 2023-03-18 02:30:53,546]\u001b[0m Trial 105 finished with value: 0.7877205778852674 and parameters: {'optuna_batch_size': 114, 'optimizer': 'Adam', 'lr': 0.006112244003100115, 'hidden_dim': 959, 'alpha': 6, 'beta': 5, 'gamma': 3, 'delta': 4}. Best is trial 96 with value: 0.8590041798283392.\u001b[0m\n"
          ]
        },
        {
          "output_type": "stream",
          "name": "stdout",
          "text": [
            "Epoch: 10 / 10 | Reconst_loss: 2128.153 | Kldiv loss: 576.200 | Classifcation loss: 1.912 | Constrast loss: 39.07 | Total loss: 5972.789 | Train acc: 78.772 % ||| Val Loss: 5838.058 | Val acc: 78.503 %\n",
            "-------------------------------------------------------------------------------------------------------------------------------------------------------------------------------------\n",
            "Epoch: 1 / 10 | Reconst_loss: 2189.581 | Kldiv loss: 506.786 | Classifcation loss: 2.124 | Constrast loss: 37.06 | Total loss: 13643.871 | Train acc: 41.439 % ||| Val Loss: 13452.280 | Val acc: 49.270 %\n",
            "-------------------------------------------------------------------------------------------------------------------------------------------------------------------------------------\n",
            "Epoch: 2 / 10 | Reconst_loss: 2084.047 | Kldiv loss: 450.153 | Classifcation loss: 2.045 | Constrast loss: 22.72 | Total loss: 9866.309 | Train acc: 67.109 % ||| Val Loss: 10842.627 | Val acc: 66.806 %\n",
            "-------------------------------------------------------------------------------------------------------------------------------------------------------------------------------------\n",
            "Epoch: 3 / 10 | Reconst_loss: 2369.520 | Kldiv loss: 450.388 | Classifcation loss: 1.866 | Constrast loss: 3.21 | Total loss: 9418.619 | Train acc: 71.695 % ||| Val Loss: 9024.391 | Val acc: 72.315 %\n",
            "-------------------------------------------------------------------------------------------------------------------------------------------------------------------------------------\n",
            "Epoch: 4 / 10 | Reconst_loss: 2050.541 | Kldiv loss: 490.252 | Classifcation loss: 2.007 | Constrast loss: 20.83 | Total loss: 9099.860 | Train acc: 73.816 % ||| Val Loss: 8888.387 | Val acc: 74.901 %\n",
            "-------------------------------------------------------------------------------------------------------------------------------------------------------------------------------------\n",
            "Epoch: 5 / 10 | Reconst_loss: 1802.833 | Kldiv loss: 536.229 | Classifcation loss: 1.866 | Constrast loss: 13.34 | Total loss: 8868.071 | Train acc: 74.984 % ||| Val Loss: 8777.856 | Val acc: 75.896 %\n",
            "-------------------------------------------------------------------------------------------------------------------------------------------------------------------------------------\n",
            "Epoch: 6 / 10 | Reconst_loss: 1734.740 | Kldiv loss: 469.108 | Classifcation loss: 1.974 | Constrast loss: 53.69 | Total loss: 8866.537 | Train acc: 75.600 % ||| Val Loss: 8686.623 | Val acc: 75.727 %\n",
            "-------------------------------------------------------------------------------------------------------------------------------------------------------------------------------------\n",
            "Epoch: 7 / 10 | Reconst_loss: 2236.717 | Kldiv loss: 441.500 | Classifcation loss: 1.927 | Constrast loss: 23.01 | Total loss: 8689.031 | Train acc: 75.876 % ||| Val Loss: 8965.863 | Val acc: 75.873 %\n",
            "-------------------------------------------------------------------------------------------------------------------------------------------------------------------------------------\n",
            "Epoch: 8 / 10 | Reconst_loss: 1525.753 | Kldiv loss: 445.490 | Classifcation loss: 1.914 | Constrast loss: 12.93 | Total loss: 8631.550 | Train acc: 76.161 % ||| Val Loss: 8638.318 | Val acc: 75.956 %\n",
            "-------------------------------------------------------------------------------------------------------------------------------------------------------------------------------------\n",
            "Epoch: 9 / 10 | Reconst_loss: 1328.880 | Kldiv loss: 493.664 | Classifcation loss: 1.888 | Constrast loss: 21.37 | Total loss: 8526.972 | Train acc: 76.763 % ||| Val Loss: 8426.130 | Val acc: 76.503 %\n",
            "-------------------------------------------------------------------------------------------------------------------------------------------------------------------------------------\n"
          ]
        },
        {
          "output_type": "stream",
          "name": "stderr",
          "text": [
            "\u001b[32m[I 2023-03-18 02:36:05,982]\u001b[0m Trial 106 finished with value: 0.7703444366040033 and parameters: {'optuna_batch_size': 161, 'optimizer': 'Adam', 'lr': 0.006276856066712461, 'hidden_dim': 962, 'alpha': 5, 'beta': 5, 'gamma': 5, 'delta': 5}. Best is trial 96 with value: 0.8590041798283392.\u001b[0m\n"
          ]
        },
        {
          "output_type": "stream",
          "name": "stdout",
          "text": [
            "Epoch: 10 / 10 | Reconst_loss: 2066.990 | Kldiv loss: 489.659 | Classifcation loss: 1.880 | Constrast loss: 3.33 | Total loss: 8439.168 | Train acc: 77.034 % ||| Val Loss: 8502.115 | Val acc: 76.400 %\n",
            "-------------------------------------------------------------------------------------------------------------------------------------------------------------------------------------\n",
            "Epoch: 1 / 10 | Reconst_loss: 2742.702 | Kldiv loss: 598.204 | Classifcation loss: 2.261 | Constrast loss: 88.16 | Total loss: 18953.139 | Train acc: 27.839 % ||| Val Loss: 12078.186 | Val acc: 48.856 %\n",
            "-------------------------------------------------------------------------------------------------------------------------------------------------------------------------------------\n",
            "Epoch: 2 / 10 | Reconst_loss: 2377.060 | Kldiv loss: 644.372 | Classifcation loss: 2.076 | Constrast loss: 79.20 | Total loss: 11052.359 | Train acc: 60.062 % ||| Val Loss: 10788.693 | Val acc: 65.170 %\n",
            "-------------------------------------------------------------------------------------------------------------------------------------------------------------------------------------\n",
            "Epoch: 3 / 10 | Reconst_loss: 2643.654 | Kldiv loss: 664.181 | Classifcation loss: 2.104 | Constrast loss: 71.18 | Total loss: 10514.193 | Train acc: 65.451 % ||| Val Loss: 10417.629 | Val acc: 65.460 %\n",
            "-------------------------------------------------------------------------------------------------------------------------------------------------------------------------------------\n",
            "Epoch: 4 / 10 | Reconst_loss: 2451.432 | Kldiv loss: 587.710 | Classifcation loss: 1.974 | Constrast loss: 81.92 | Total loss: 10056.217 | Train acc: 68.583 % ||| Val Loss: 9813.361 | Val acc: 70.315 %\n",
            "-------------------------------------------------------------------------------------------------------------------------------------------------------------------------------------\n",
            "Epoch: 5 / 10 | Reconst_loss: 2258.164 | Kldiv loss: 622.531 | Classifcation loss: 1.990 | Constrast loss: 16.68 | Total loss: 9825.675 | Train acc: 70.340 % ||| Val Loss: 9718.179 | Val acc: 70.585 %\n",
            "-------------------------------------------------------------------------------------------------------------------------------------------------------------------------------------\n",
            "Epoch: 6 / 10 | Reconst_loss: 2122.139 | Kldiv loss: 585.966 | Classifcation loss: 1.899 | Constrast loss: 40.37 | Total loss: 9676.145 | Train acc: 71.150 % ||| Val Loss: 9603.565 | Val acc: 71.913 %\n",
            "-------------------------------------------------------------------------------------------------------------------------------------------------------------------------------------\n",
            "Epoch: 7 / 10 | Reconst_loss: 2366.837 | Kldiv loss: 611.100 | Classifcation loss: 1.963 | Constrast loss: 26.79 | Total loss: 9622.887 | Train acc: 71.728 % ||| Val Loss: 9632.822 | Val acc: 71.072 %\n",
            "-------------------------------------------------------------------------------------------------------------------------------------------------------------------------------------\n",
            "Epoch: 8 / 10 | Reconst_loss: 2324.121 | Kldiv loss: 599.824 | Classifcation loss: 1.978 | Constrast loss: 59.77 | Total loss: 9389.238 | Train acc: 73.364 % ||| Val Loss: 9510.894 | Val acc: 74.640 %\n",
            "-------------------------------------------------------------------------------------------------------------------------------------------------------------------------------------\n",
            "Epoch: 9 / 10 | Reconst_loss: 2085.873 | Kldiv loss: 605.909 | Classifcation loss: 1.971 | Constrast loss: 71.11 | Total loss: 9548.706 | Train acc: 75.918 % ||| Val Loss: 9221.252 | Val acc: 77.158 %\n",
            "-------------------------------------------------------------------------------------------------------------------------------------------------------------------------------------\n"
          ]
        },
        {
          "output_type": "stream",
          "name": "stderr",
          "text": [
            "\u001b[32m[I 2023-03-18 02:40:31,791]\u001b[0m Trial 107 finished with value: 0.7803118908382028 and parameters: {'optuna_batch_size': 171, 'optimizer': 'Adam', 'lr': 0.006102945453483645, 'hidden_dim': 912, 'alpha': 6, 'beta': 3, 'gamma': 2, 'delta': 4}. Best is trial 96 with value: 0.8590041798283392.\u001b[0m\n"
          ]
        },
        {
          "output_type": "stream",
          "name": "stdout",
          "text": [
            "Epoch: 10 / 10 | Reconst_loss: 2199.265 | Kldiv loss: 503.288 | Classifcation loss: 1.925 | Constrast loss: 46.36 | Total loss: 9188.324 | Train acc: 78.031 % ||| Val Loss: 9076.719 | Val acc: 77.314 %\n",
            "-------------------------------------------------------------------------------------------------------------------------------------------------------------------------------------\n",
            "Epoch: 1 / 10 | Reconst_loss: 1484.093 | Kldiv loss: 444.114 | Classifcation loss: 2.220 | Constrast loss: 9.50 | Total loss: 19454.017 | Train acc: 26.397 % ||| Val Loss: 11951.815 | Val acc: 45.366 %\n",
            "-------------------------------------------------------------------------------------------------------------------------------------------------------------------------------------\n",
            "Epoch: 2 / 10 | Reconst_loss: 1462.168 | Kldiv loss: 383.199 | Classifcation loss: 2.071 | Constrast loss: 11.18 | Total loss: 11271.092 | Train acc: 54.606 % ||| Val Loss: 10711.322 | Val acc: 56.994 %\n",
            "-------------------------------------------------------------------------------------------------------------------------------------------------------------------------------------\n",
            "Epoch: 3 / 10 | Reconst_loss: 1350.315 | Kldiv loss: 377.305 | Classifcation loss: 2.179 | Constrast loss: 38.23 | Total loss: 10548.963 | Train acc: 58.635 % ||| Val Loss: 10390.443 | Val acc: 59.561 %\n",
            "-------------------------------------------------------------------------------------------------------------------------------------------------------------------------------------\n",
            "Epoch: 4 / 10 | Reconst_loss: 1654.131 | Kldiv loss: 360.641 | Classifcation loss: 2.000 | Constrast loss: 13.58 | Total loss: 10344.719 | Train acc: 60.730 % ||| Val Loss: 10158.259 | Val acc: 61.166 %\n",
            "-------------------------------------------------------------------------------------------------------------------------------------------------------------------------------------\n",
            "Epoch: 5 / 10 | Reconst_loss: 1363.970 | Kldiv loss: 394.727 | Classifcation loss: 2.115 | Constrast loss: 32.20 | Total loss: 10082.876 | Train acc: 61.674 % ||| Val Loss: 10292.794 | Val acc: 62.343 %\n",
            "-------------------------------------------------------------------------------------------------------------------------------------------------------------------------------------\n",
            "Epoch: 6 / 10 | Reconst_loss: 1226.354 | Kldiv loss: 357.785 | Classifcation loss: 2.044 | Constrast loss: 10.51 | Total loss: 9965.788 | Train acc: 62.480 % ||| Val Loss: 9950.047 | Val acc: 62.035 %\n",
            "-------------------------------------------------------------------------------------------------------------------------------------------------------------------------------------\n",
            "Epoch: 7 / 10 | Reconst_loss: 1193.332 | Kldiv loss: 362.568 | Classifcation loss: 2.062 | Constrast loss: 10.72 | Total loss: 9769.875 | Train acc: 62.381 % ||| Val Loss: 9613.874 | Val acc: 61.961 %\n",
            "-------------------------------------------------------------------------------------------------------------------------------------------------------------------------------------\n",
            "Epoch: 8 / 10 | Reconst_loss: 1868.683 | Kldiv loss: 367.117 | Classifcation loss: 2.034 | Constrast loss: 17.91 | Total loss: 9577.084 | Train acc: 62.994 % ||| Val Loss: 9929.234 | Val acc: 62.570 %\n",
            "-------------------------------------------------------------------------------------------------------------------------------------------------------------------------------------\n",
            "Epoch: 9 / 10 | Reconst_loss: 1499.878 | Kldiv loss: 366.256 | Classifcation loss: 2.087 | Constrast loss: 18.73 | Total loss: 9542.275 | Train acc: 63.156 % ||| Val Loss: 9307.101 | Val acc: 63.525 %\n",
            "-------------------------------------------------------------------------------------------------------------------------------------------------------------------------------------\n"
          ]
        },
        {
          "output_type": "stream",
          "name": "stderr",
          "text": [
            "\u001b[32m[I 2023-03-18 02:41:06,024]\u001b[0m Trial 108 finished with value: 0.6341692789968644 and parameters: {'optuna_batch_size': 174, 'optimizer': 'Adam', 'lr': 0.005720836100744453, 'hidden_dim': 101, 'alpha': 6, 'beta': 4, 'gamma': 2, 'delta': 4}. Best is trial 96 with value: 0.8590041798283392.\u001b[0m\n"
          ]
        },
        {
          "output_type": "stream",
          "name": "stdout",
          "text": [
            "Epoch: 10 / 10 | Reconst_loss: 1394.537 | Kldiv loss: 432.704 | Classifcation loss: 2.181 | Constrast loss: 20.75 | Total loss: 9443.432 | Train acc: 63.417 % ||| Val Loss: 9806.831 | Val acc: 62.799 %\n",
            "-------------------------------------------------------------------------------------------------------------------------------------------------------------------------------------\n",
            "Epoch: 1 / 10 | Reconst_loss: 644.240 | Kldiv loss: 178.993 | Classifcation loss: 2.286 | Constrast loss: 2.45 | Total loss: 37161.229 | Train acc: 20.927 % ||| Val Loss: 21809.220 | Val acc: 37.692 %\n",
            "-------------------------------------------------------------------------------------------------------------------------------------------------------------------------------------\n",
            "Epoch: 2 / 10 | Reconst_loss: 555.433 | Kldiv loss: 192.260 | Classifcation loss: 2.085 | Constrast loss: 1.48 | Total loss: 18280.313 | Train acc: 57.657 % ||| Val Loss: 17959.042 | Val acc: 63.795 %\n",
            "-------------------------------------------------------------------------------------------------------------------------------------------------------------------------------------\n",
            "Epoch: 3 / 10 | Reconst_loss: 570.046 | Kldiv loss: 170.528 | Classifcation loss: 2.151 | Constrast loss: 4.92 | Total loss: 17000.232 | Train acc: 66.379 % ||| Val Loss: 16340.748 | Val acc: 68.303 %\n",
            "-------------------------------------------------------------------------------------------------------------------------------------------------------------------------------------\n",
            "Epoch: 4 / 10 | Reconst_loss: 735.428 | Kldiv loss: 174.478 | Classifcation loss: 2.048 | Constrast loss: 1.65 | Total loss: 16703.459 | Train acc: 65.950 % ||| Val Loss: 16631.758 | Val acc: 64.512 %\n",
            "-------------------------------------------------------------------------------------------------------------------------------------------------------------------------------------\n",
            "Epoch: 5 / 10 | Reconst_loss: 762.787 | Kldiv loss: 170.978 | Classifcation loss: 2.174 | Constrast loss: 4.52 | Total loss: 16035.374 | Train acc: 66.033 % ||| Val Loss: 16088.981 | Val acc: 65.486 %\n",
            "-------------------------------------------------------------------------------------------------------------------------------------------------------------------------------------\n",
            "Epoch: 6 / 10 | Reconst_loss: 499.868 | Kldiv loss: 181.481 | Classifcation loss: 2.027 | Constrast loss: 1.07 | Total loss: 15669.143 | Train acc: 67.815 % ||| Val Loss: 17022.238 | Val acc: 62.365 %\n",
            "-------------------------------------------------------------------------------------------------------------------------------------------------------------------------------------\n",
            "Epoch: 7 / 10 | Reconst_loss: 658.157 | Kldiv loss: 207.958 | Classifcation loss: 2.179 | Constrast loss: 0.64 | Total loss: 16579.712 | Train acc: 64.174 % ||| Val Loss: 18945.684 | Val acc: 49.086 %\n",
            "-------------------------------------------------------------------------------------------------------------------------------------------------------------------------------------\n",
            "Epoch: 8 / 10 | Reconst_loss: 392.042 | Kldiv loss: 176.958 | Classifcation loss: 1.988 | Constrast loss: 2.48 | Total loss: 16709.612 | Train acc: 60.473 % ||| Val Loss: 16344.547 | Val acc: 63.540 %\n",
            "-------------------------------------------------------------------------------------------------------------------------------------------------------------------------------------\n",
            "Epoch: 9 / 10 | Reconst_loss: 456.020 | Kldiv loss: 152.898 | Classifcation loss: 2.131 | Constrast loss: 0.27 | Total loss: 15757.561 | Train acc: 68.217 % ||| Val Loss: 16730.465 | Val acc: 66.317 %\n",
            "-------------------------------------------------------------------------------------------------------------------------------------------------------------------------------------\n"
          ]
        },
        {
          "output_type": "stream",
          "name": "stderr",
          "text": [
            "\u001b[32m[I 2023-03-18 02:44:40,946]\u001b[0m Trial 109 finished with value: 0.7140585322768316 and parameters: {'optuna_batch_size': 267, 'optimizer': 'Adam', 'lr': 0.006792807524171543, 'hidden_dim': 915, 'alpha': 6, 'beta': 3, 'gamma': 2, 'delta': 3}. Best is trial 96 with value: 0.8590041798283392.\u001b[0m\n"
          ]
        },
        {
          "output_type": "stream",
          "name": "stdout",
          "text": [
            "Epoch: 10 / 10 | Reconst_loss: 364.378 | Kldiv loss: 159.984 | Classifcation loss: 2.067 | Constrast loss: 3.84 | Total loss: 15366.304 | Train acc: 71.406 % ||| Val Loss: 15336.076 | Val acc: 71.912 %\n",
            "-------------------------------------------------------------------------------------------------------------------------------------------------------------------------------------\n",
            "Epoch: 1 / 10 | Reconst_loss: 4303.575 | Kldiv loss: 950.314 | Classifcation loss: 2.139 | Constrast loss: 129.69 | Total loss: 18615.381 | Train acc: 40.078 % ||| Val Loss: 13773.748 | Val acc: 59.002 %\n",
            "-------------------------------------------------------------------------------------------------------------------------------------------------------------------------------------\n"
          ]
        },
        {
          "output_type": "stream",
          "name": "stderr",
          "text": [
            "\u001b[33m[W 2023-03-18 02:45:11,373]\u001b[0m Trial 110 failed with parameters: {'optuna_batch_size': 206, 'optimizer': 'Adam', 'lr': 0.006080035256449955, 'hidden_dim': 861, 'alpha': 5, 'beta': 5, 'gamma': 2, 'delta': 2} because of the following error: KeyboardInterrupt().\u001b[0m\n",
            "Traceback (most recent call last):\n",
            "  File \"/usr/local/lib/python3.9/dist-packages/optuna/study/_optimize.py\", line 200, in _run_trial\n",
            "    value_or_values = func(trial)\n",
            "  File \"<ipython-input-119-d965395ef5c4>\", line 19, in objective\n",
            "    train_losses, val_losses, train_acc, val_acc = train_VAE(trial, model, train_loader, val_loader, optimizer, epoch, alpha, beta, gamma, delta)\n",
            "  File \"<ipython-input-118-7332cc24dcc1>\", line 22, in train_VAE\n",
            "    x_reconstructed, z_reparmeterized, classified, mu, logvar = model(inputs)\n",
            "  File \"/usr/local/lib/python3.9/dist-packages/torch/nn/modules/module.py\", line 1194, in _call_impl\n",
            "    return forward_call(*input, **kwargs)\n",
            "  File \"<ipython-input-116-ad9899a97951>\", line 53, in forward\n",
            "    mu, logvar = self.encode(x)\n",
            "  File \"<ipython-input-116-ad9899a97951>\", line 42, in encode\n",
            "    z = self.encoder(x)\n",
            "  File \"/usr/local/lib/python3.9/dist-packages/torch/nn/modules/module.py\", line 1194, in _call_impl\n",
            "    return forward_call(*input, **kwargs)\n",
            "  File \"/usr/local/lib/python3.9/dist-packages/torch/nn/modules/container.py\", line 204, in forward\n",
            "    input = module(input)\n",
            "  File \"/usr/local/lib/python3.9/dist-packages/torch/nn/modules/module.py\", line 1194, in _call_impl\n",
            "    return forward_call(*input, **kwargs)\n",
            "  File \"/usr/local/lib/python3.9/dist-packages/torch/nn/modules/linear.py\", line 114, in forward\n",
            "    return F.linear(input, self.weight, self.bias)\n",
            "KeyboardInterrupt\n",
            "\u001b[33m[W 2023-03-18 02:45:11,376]\u001b[0m Trial 110 failed with value None.\u001b[0m\n"
          ]
        },
        {
          "output_type": "error",
          "ename": "KeyboardInterrupt",
          "evalue": "ignored",
          "traceback": [
            "\u001b[0;31m---------------------------------------------------------------------------\u001b[0m",
            "\u001b[0;31mKeyboardInterrupt\u001b[0m                         Traceback (most recent call last)",
            "\u001b[0;32m<ipython-input-120-db2f2820d934>\u001b[0m in \u001b[0;36m<module>\u001b[0;34m\u001b[0m\n\u001b[1;32m      4\u001b[0m     \u001b[0mpruner\u001b[0m\u001b[0;34m=\u001b[0m\u001b[0mThresholdPruner\u001b[0m\u001b[0;34m(\u001b[0m\u001b[0mlower\u001b[0m\u001b[0;34m=\u001b[0m\u001b[0;36m0.3\u001b[0m\u001b[0;34m,\u001b[0m \u001b[0mn_warmup_steps\u001b[0m\u001b[0;34m=\u001b[0m\u001b[0;36m3\u001b[0m\u001b[0;34m,\u001b[0m \u001b[0minterval_steps\u001b[0m\u001b[0;34m=\u001b[0m\u001b[0;36m1\u001b[0m\u001b[0;34m)\u001b[0m\u001b[0;34m,\u001b[0m\u001b[0;34m\u001b[0m\u001b[0;34m\u001b[0m\u001b[0m\n\u001b[1;32m      5\u001b[0m     direction='maximize')\n\u001b[0;32m----> 6\u001b[0;31m \u001b[0mstudy\u001b[0m\u001b[0;34m.\u001b[0m\u001b[0moptimize\u001b[0m\u001b[0;34m(\u001b[0m\u001b[0mfunc\u001b[0m\u001b[0;34m=\u001b[0m\u001b[0mobjective\u001b[0m\u001b[0;34m,\u001b[0m \u001b[0mn_trials\u001b[0m\u001b[0;34m=\u001b[0m\u001b[0;36m200\u001b[0m\u001b[0;34m)\u001b[0m\u001b[0;34m\u001b[0m\u001b[0;34m\u001b[0m\u001b[0m\n\u001b[0m",
            "\u001b[0;32m/usr/local/lib/python3.9/dist-packages/optuna/study/study.py\u001b[0m in \u001b[0;36moptimize\u001b[0;34m(self, func, n_trials, timeout, n_jobs, catch, callbacks, gc_after_trial, show_progress_bar)\u001b[0m\n\u001b[1;32m    423\u001b[0m         \"\"\"\n\u001b[1;32m    424\u001b[0m \u001b[0;34m\u001b[0m\u001b[0m\n\u001b[0;32m--> 425\u001b[0;31m         _optimize(\n\u001b[0m\u001b[1;32m    426\u001b[0m             \u001b[0mstudy\u001b[0m\u001b[0;34m=\u001b[0m\u001b[0mself\u001b[0m\u001b[0;34m,\u001b[0m\u001b[0;34m\u001b[0m\u001b[0;34m\u001b[0m\u001b[0m\n\u001b[1;32m    427\u001b[0m             \u001b[0mfunc\u001b[0m\u001b[0;34m=\u001b[0m\u001b[0mfunc\u001b[0m\u001b[0;34m,\u001b[0m\u001b[0;34m\u001b[0m\u001b[0;34m\u001b[0m\u001b[0m\n",
            "\u001b[0;32m/usr/local/lib/python3.9/dist-packages/optuna/study/_optimize.py\u001b[0m in \u001b[0;36m_optimize\u001b[0;34m(study, func, n_trials, timeout, n_jobs, catch, callbacks, gc_after_trial, show_progress_bar)\u001b[0m\n\u001b[1;32m     64\u001b[0m     \u001b[0;32mtry\u001b[0m\u001b[0;34m:\u001b[0m\u001b[0;34m\u001b[0m\u001b[0;34m\u001b[0m\u001b[0m\n\u001b[1;32m     65\u001b[0m         \u001b[0;32mif\u001b[0m \u001b[0mn_jobs\u001b[0m \u001b[0;34m==\u001b[0m \u001b[0;36m1\u001b[0m\u001b[0;34m:\u001b[0m\u001b[0;34m\u001b[0m\u001b[0;34m\u001b[0m\u001b[0m\n\u001b[0;32m---> 66\u001b[0;31m             _optimize_sequential(\n\u001b[0m\u001b[1;32m     67\u001b[0m                 \u001b[0mstudy\u001b[0m\u001b[0;34m,\u001b[0m\u001b[0;34m\u001b[0m\u001b[0;34m\u001b[0m\u001b[0m\n\u001b[1;32m     68\u001b[0m                 \u001b[0mfunc\u001b[0m\u001b[0;34m,\u001b[0m\u001b[0;34m\u001b[0m\u001b[0;34m\u001b[0m\u001b[0m\n",
            "\u001b[0;32m/usr/local/lib/python3.9/dist-packages/optuna/study/_optimize.py\u001b[0m in \u001b[0;36m_optimize_sequential\u001b[0;34m(study, func, n_trials, timeout, catch, callbacks, gc_after_trial, reseed_sampler_rng, time_start, progress_bar)\u001b[0m\n\u001b[1;32m    161\u001b[0m \u001b[0;34m\u001b[0m\u001b[0m\n\u001b[1;32m    162\u001b[0m         \u001b[0;32mtry\u001b[0m\u001b[0;34m:\u001b[0m\u001b[0;34m\u001b[0m\u001b[0;34m\u001b[0m\u001b[0m\n\u001b[0;32m--> 163\u001b[0;31m             \u001b[0mfrozen_trial\u001b[0m \u001b[0;34m=\u001b[0m \u001b[0m_run_trial\u001b[0m\u001b[0;34m(\u001b[0m\u001b[0mstudy\u001b[0m\u001b[0;34m,\u001b[0m \u001b[0mfunc\u001b[0m\u001b[0;34m,\u001b[0m \u001b[0mcatch\u001b[0m\u001b[0;34m)\u001b[0m\u001b[0;34m\u001b[0m\u001b[0;34m\u001b[0m\u001b[0m\n\u001b[0m\u001b[1;32m    164\u001b[0m         \u001b[0;32mfinally\u001b[0m\u001b[0;34m:\u001b[0m\u001b[0;34m\u001b[0m\u001b[0;34m\u001b[0m\u001b[0m\n\u001b[1;32m    165\u001b[0m             \u001b[0;31m# The following line mitigates memory problems that can be occurred in some\u001b[0m\u001b[0;34m\u001b[0m\u001b[0;34m\u001b[0m\u001b[0m\n",
            "\u001b[0;32m/usr/local/lib/python3.9/dist-packages/optuna/study/_optimize.py\u001b[0m in \u001b[0;36m_run_trial\u001b[0;34m(study, func, catch)\u001b[0m\n\u001b[1;32m    249\u001b[0m         \u001b[0;32mand\u001b[0m \u001b[0;32mnot\u001b[0m \u001b[0misinstance\u001b[0m\u001b[0;34m(\u001b[0m\u001b[0mfunc_err\u001b[0m\u001b[0;34m,\u001b[0m \u001b[0mcatch\u001b[0m\u001b[0;34m)\u001b[0m\u001b[0;34m\u001b[0m\u001b[0;34m\u001b[0m\u001b[0m\n\u001b[1;32m    250\u001b[0m     ):\n\u001b[0;32m--> 251\u001b[0;31m         \u001b[0;32mraise\u001b[0m \u001b[0mfunc_err\u001b[0m\u001b[0;34m\u001b[0m\u001b[0;34m\u001b[0m\u001b[0m\n\u001b[0m\u001b[1;32m    252\u001b[0m     \u001b[0;32mreturn\u001b[0m \u001b[0mfrozen_trial\u001b[0m\u001b[0;34m\u001b[0m\u001b[0;34m\u001b[0m\u001b[0m\n\u001b[1;32m    253\u001b[0m \u001b[0;34m\u001b[0m\u001b[0m\n",
            "\u001b[0;32m/usr/local/lib/python3.9/dist-packages/optuna/study/_optimize.py\u001b[0m in \u001b[0;36m_run_trial\u001b[0;34m(study, func, catch)\u001b[0m\n\u001b[1;32m    198\u001b[0m     \u001b[0;32mwith\u001b[0m \u001b[0mget_heartbeat_thread\u001b[0m\u001b[0;34m(\u001b[0m\u001b[0mtrial\u001b[0m\u001b[0;34m.\u001b[0m\u001b[0m_trial_id\u001b[0m\u001b[0;34m,\u001b[0m \u001b[0mstudy\u001b[0m\u001b[0;34m.\u001b[0m\u001b[0m_storage\u001b[0m\u001b[0;34m)\u001b[0m\u001b[0;34m:\u001b[0m\u001b[0;34m\u001b[0m\u001b[0;34m\u001b[0m\u001b[0m\n\u001b[1;32m    199\u001b[0m         \u001b[0;32mtry\u001b[0m\u001b[0;34m:\u001b[0m\u001b[0;34m\u001b[0m\u001b[0;34m\u001b[0m\u001b[0m\n\u001b[0;32m--> 200\u001b[0;31m             \u001b[0mvalue_or_values\u001b[0m \u001b[0;34m=\u001b[0m \u001b[0mfunc\u001b[0m\u001b[0;34m(\u001b[0m\u001b[0mtrial\u001b[0m\u001b[0;34m)\u001b[0m\u001b[0;34m\u001b[0m\u001b[0;34m\u001b[0m\u001b[0m\n\u001b[0m\u001b[1;32m    201\u001b[0m         \u001b[0;32mexcept\u001b[0m \u001b[0mexceptions\u001b[0m\u001b[0;34m.\u001b[0m\u001b[0mTrialPruned\u001b[0m \u001b[0;32mas\u001b[0m \u001b[0me\u001b[0m\u001b[0;34m:\u001b[0m\u001b[0;34m\u001b[0m\u001b[0;34m\u001b[0m\u001b[0m\n\u001b[1;32m    202\u001b[0m             \u001b[0;31m# TODO(mamu): Handle multi-objective cases.\u001b[0m\u001b[0;34m\u001b[0m\u001b[0;34m\u001b[0m\u001b[0m\n",
            "\u001b[0;32m<ipython-input-119-d965395ef5c4>\u001b[0m in \u001b[0;36mobjective\u001b[0;34m(trial)\u001b[0m\n\u001b[1;32m     17\u001b[0m \u001b[0;34m\u001b[0m\u001b[0m\n\u001b[1;32m     18\u001b[0m   \u001b[0;32mfor\u001b[0m \u001b[0mepoch\u001b[0m \u001b[0;32min\u001b[0m \u001b[0mrange\u001b[0m\u001b[0;34m(\u001b[0m\u001b[0mparams\u001b[0m\u001b[0;34m[\u001b[0m\u001b[0;34m'num_epochs'\u001b[0m\u001b[0;34m]\u001b[0m\u001b[0;34m)\u001b[0m\u001b[0;34m:\u001b[0m\u001b[0;34m\u001b[0m\u001b[0;34m\u001b[0m\u001b[0m\n\u001b[0;32m---> 19\u001b[0;31m     \u001b[0mtrain_losses\u001b[0m\u001b[0;34m,\u001b[0m \u001b[0mval_losses\u001b[0m\u001b[0;34m,\u001b[0m \u001b[0mtrain_acc\u001b[0m\u001b[0;34m,\u001b[0m \u001b[0mval_acc\u001b[0m \u001b[0;34m=\u001b[0m \u001b[0mtrain_VAE\u001b[0m\u001b[0;34m(\u001b[0m\u001b[0mtrial\u001b[0m\u001b[0;34m,\u001b[0m \u001b[0mmodel\u001b[0m\u001b[0;34m,\u001b[0m \u001b[0mtrain_loader\u001b[0m\u001b[0;34m,\u001b[0m \u001b[0mval_loader\u001b[0m\u001b[0;34m,\u001b[0m \u001b[0moptimizer\u001b[0m\u001b[0;34m,\u001b[0m \u001b[0mepoch\u001b[0m\u001b[0;34m,\u001b[0m \u001b[0malpha\u001b[0m\u001b[0;34m,\u001b[0m \u001b[0mbeta\u001b[0m\u001b[0;34m,\u001b[0m \u001b[0mgamma\u001b[0m\u001b[0;34m,\u001b[0m \u001b[0mdelta\u001b[0m\u001b[0;34m)\u001b[0m\u001b[0;34m\u001b[0m\u001b[0;34m\u001b[0m\u001b[0m\n\u001b[0m\u001b[1;32m     20\u001b[0m   \u001b[0;32mreturn\u001b[0m \u001b[0mtrain_acc\u001b[0m\u001b[0;34m\u001b[0m\u001b[0;34m\u001b[0m\u001b[0m\n",
            "\u001b[0;32m<ipython-input-118-7332cc24dcc1>\u001b[0m in \u001b[0;36mtrain_VAE\u001b[0;34m(trial, model, train_loader, val_loader, optimizer, epoch, alpha, beta, gamma, delta)\u001b[0m\n\u001b[1;32m     20\u001b[0m     \u001b[0moptimizer\u001b[0m\u001b[0;34m.\u001b[0m\u001b[0mzero_grad\u001b[0m\u001b[0;34m(\u001b[0m\u001b[0;34m)\u001b[0m\u001b[0;34m\u001b[0m\u001b[0;34m\u001b[0m\u001b[0m\n\u001b[1;32m     21\u001b[0m \u001b[0;34m\u001b[0m\u001b[0m\n\u001b[0;32m---> 22\u001b[0;31m     \u001b[0mx_reconstructed\u001b[0m\u001b[0;34m,\u001b[0m \u001b[0mz_reparmeterized\u001b[0m\u001b[0;34m,\u001b[0m \u001b[0mclassified\u001b[0m\u001b[0;34m,\u001b[0m \u001b[0mmu\u001b[0m\u001b[0;34m,\u001b[0m \u001b[0mlogvar\u001b[0m \u001b[0;34m=\u001b[0m \u001b[0mmodel\u001b[0m\u001b[0;34m(\u001b[0m\u001b[0minputs\u001b[0m\u001b[0;34m)\u001b[0m\u001b[0;34m\u001b[0m\u001b[0;34m\u001b[0m\u001b[0m\n\u001b[0m\u001b[1;32m     23\u001b[0m \u001b[0;34m\u001b[0m\u001b[0m\n\u001b[1;32m     24\u001b[0m     \u001b[0;31m# Compute the reconstruction loss and KL divergence loss #################################################\u001b[0m\u001b[0;34m\u001b[0m\u001b[0;34m\u001b[0m\u001b[0m\n",
            "\u001b[0;32m/usr/local/lib/python3.9/dist-packages/torch/nn/modules/module.py\u001b[0m in \u001b[0;36m_call_impl\u001b[0;34m(self, *input, **kwargs)\u001b[0m\n\u001b[1;32m   1192\u001b[0m         if not (self._backward_hooks or self._forward_hooks or self._forward_pre_hooks or _global_backward_hooks\n\u001b[1;32m   1193\u001b[0m                 or _global_forward_hooks or _global_forward_pre_hooks):\n\u001b[0;32m-> 1194\u001b[0;31m             \u001b[0;32mreturn\u001b[0m \u001b[0mforward_call\u001b[0m\u001b[0;34m(\u001b[0m\u001b[0;34m*\u001b[0m\u001b[0minput\u001b[0m\u001b[0;34m,\u001b[0m \u001b[0;34m**\u001b[0m\u001b[0mkwargs\u001b[0m\u001b[0;34m)\u001b[0m\u001b[0;34m\u001b[0m\u001b[0;34m\u001b[0m\u001b[0m\n\u001b[0m\u001b[1;32m   1195\u001b[0m         \u001b[0;31m# Do not call functions when jit is used\u001b[0m\u001b[0;34m\u001b[0m\u001b[0;34m\u001b[0m\u001b[0m\n\u001b[1;32m   1196\u001b[0m         \u001b[0mfull_backward_hooks\u001b[0m\u001b[0;34m,\u001b[0m \u001b[0mnon_full_backward_hooks\u001b[0m \u001b[0;34m=\u001b[0m \u001b[0;34m[\u001b[0m\u001b[0;34m]\u001b[0m\u001b[0;34m,\u001b[0m \u001b[0;34m[\u001b[0m\u001b[0;34m]\u001b[0m\u001b[0;34m\u001b[0m\u001b[0;34m\u001b[0m\u001b[0m\n",
            "\u001b[0;32m<ipython-input-116-ad9899a97951>\u001b[0m in \u001b[0;36mforward\u001b[0;34m(self, x)\u001b[0m\n\u001b[1;32m     51\u001b[0m   \u001b[0;32mdef\u001b[0m \u001b[0mforward\u001b[0m\u001b[0;34m(\u001b[0m\u001b[0mself\u001b[0m\u001b[0;34m,\u001b[0m \u001b[0mx\u001b[0m\u001b[0;34m)\u001b[0m\u001b[0;34m:\u001b[0m\u001b[0;34m\u001b[0m\u001b[0;34m\u001b[0m\u001b[0m\n\u001b[1;32m     52\u001b[0m \u001b[0;31m#  Reparamaterize\u001b[0m\u001b[0;34m\u001b[0m\u001b[0;34m\u001b[0m\u001b[0m\n\u001b[0;32m---> 53\u001b[0;31m     \u001b[0mmu\u001b[0m\u001b[0;34m,\u001b[0m \u001b[0mlogvar\u001b[0m \u001b[0;34m=\u001b[0m \u001b[0mself\u001b[0m\u001b[0;34m.\u001b[0m\u001b[0mencode\u001b[0m\u001b[0;34m(\u001b[0m\u001b[0mx\u001b[0m\u001b[0;34m)\u001b[0m\u001b[0;34m\u001b[0m\u001b[0;34m\u001b[0m\u001b[0m\n\u001b[0m\u001b[1;32m     54\u001b[0m     \u001b[0mstdev\u001b[0m \u001b[0;34m=\u001b[0m \u001b[0mtorch\u001b[0m\u001b[0;34m.\u001b[0m\u001b[0mexp\u001b[0m\u001b[0;34m(\u001b[0m\u001b[0;36m0.5\u001b[0m \u001b[0;34m*\u001b[0m \u001b[0mlogvar\u001b[0m\u001b[0;34m)\u001b[0m\u001b[0;34m\u001b[0m\u001b[0;34m\u001b[0m\u001b[0m\n\u001b[1;32m     55\u001b[0m     \u001b[0mesp\u001b[0m \u001b[0;34m=\u001b[0m \u001b[0mtorch\u001b[0m\u001b[0;34m.\u001b[0m\u001b[0mrandn_like\u001b[0m\u001b[0;34m(\u001b[0m\u001b[0mstdev\u001b[0m\u001b[0;34m)\u001b[0m\u001b[0;34m\u001b[0m\u001b[0;34m\u001b[0m\u001b[0m\n",
            "\u001b[0;32m<ipython-input-116-ad9899a97951>\u001b[0m in \u001b[0;36mencode\u001b[0;34m(self, x)\u001b[0m\n\u001b[1;32m     40\u001b[0m \u001b[0;34m\u001b[0m\u001b[0m\n\u001b[1;32m     41\u001b[0m   \u001b[0;32mdef\u001b[0m \u001b[0mencode\u001b[0m\u001b[0;34m(\u001b[0m\u001b[0mself\u001b[0m\u001b[0;34m,\u001b[0m \u001b[0mx\u001b[0m\u001b[0;34m)\u001b[0m\u001b[0;34m:\u001b[0m\u001b[0;34m\u001b[0m\u001b[0;34m\u001b[0m\u001b[0m\n\u001b[0;32m---> 42\u001b[0;31m     \u001b[0mz\u001b[0m \u001b[0;34m=\u001b[0m \u001b[0mself\u001b[0m\u001b[0;34m.\u001b[0m\u001b[0mencoder\u001b[0m\u001b[0;34m(\u001b[0m\u001b[0mx\u001b[0m\u001b[0;34m)\u001b[0m\u001b[0;34m\u001b[0m\u001b[0;34m\u001b[0m\u001b[0m\n\u001b[0m\u001b[1;32m     43\u001b[0m     \u001b[0mz1\u001b[0m \u001b[0;34m=\u001b[0m \u001b[0mself\u001b[0m\u001b[0;34m.\u001b[0m\u001b[0mmu\u001b[0m\u001b[0;34m(\u001b[0m\u001b[0mz\u001b[0m\u001b[0;34m)\u001b[0m\u001b[0;34m\u001b[0m\u001b[0;34m\u001b[0m\u001b[0m\n\u001b[1;32m     44\u001b[0m     \u001b[0mz2\u001b[0m \u001b[0;34m=\u001b[0m \u001b[0mself\u001b[0m\u001b[0;34m.\u001b[0m\u001b[0mlogvar\u001b[0m\u001b[0;34m(\u001b[0m\u001b[0mz\u001b[0m\u001b[0;34m)\u001b[0m\u001b[0;34m\u001b[0m\u001b[0;34m\u001b[0m\u001b[0m\n",
            "\u001b[0;32m/usr/local/lib/python3.9/dist-packages/torch/nn/modules/module.py\u001b[0m in \u001b[0;36m_call_impl\u001b[0;34m(self, *input, **kwargs)\u001b[0m\n\u001b[1;32m   1192\u001b[0m         if not (self._backward_hooks or self._forward_hooks or self._forward_pre_hooks or _global_backward_hooks\n\u001b[1;32m   1193\u001b[0m                 or _global_forward_hooks or _global_forward_pre_hooks):\n\u001b[0;32m-> 1194\u001b[0;31m             \u001b[0;32mreturn\u001b[0m \u001b[0mforward_call\u001b[0m\u001b[0;34m(\u001b[0m\u001b[0;34m*\u001b[0m\u001b[0minput\u001b[0m\u001b[0;34m,\u001b[0m \u001b[0;34m**\u001b[0m\u001b[0mkwargs\u001b[0m\u001b[0;34m)\u001b[0m\u001b[0;34m\u001b[0m\u001b[0;34m\u001b[0m\u001b[0m\n\u001b[0m\u001b[1;32m   1195\u001b[0m         \u001b[0;31m# Do not call functions when jit is used\u001b[0m\u001b[0;34m\u001b[0m\u001b[0;34m\u001b[0m\u001b[0m\n\u001b[1;32m   1196\u001b[0m         \u001b[0mfull_backward_hooks\u001b[0m\u001b[0;34m,\u001b[0m \u001b[0mnon_full_backward_hooks\u001b[0m \u001b[0;34m=\u001b[0m \u001b[0;34m[\u001b[0m\u001b[0;34m]\u001b[0m\u001b[0;34m,\u001b[0m \u001b[0;34m[\u001b[0m\u001b[0;34m]\u001b[0m\u001b[0;34m\u001b[0m\u001b[0;34m\u001b[0m\u001b[0m\n",
            "\u001b[0;32m/usr/local/lib/python3.9/dist-packages/torch/nn/modules/container.py\u001b[0m in \u001b[0;36mforward\u001b[0;34m(self, input)\u001b[0m\n\u001b[1;32m    202\u001b[0m     \u001b[0;32mdef\u001b[0m \u001b[0mforward\u001b[0m\u001b[0;34m(\u001b[0m\u001b[0mself\u001b[0m\u001b[0;34m,\u001b[0m \u001b[0minput\u001b[0m\u001b[0;34m)\u001b[0m\u001b[0;34m:\u001b[0m\u001b[0;34m\u001b[0m\u001b[0;34m\u001b[0m\u001b[0m\n\u001b[1;32m    203\u001b[0m         \u001b[0;32mfor\u001b[0m \u001b[0mmodule\u001b[0m \u001b[0;32min\u001b[0m \u001b[0mself\u001b[0m\u001b[0;34m:\u001b[0m\u001b[0;34m\u001b[0m\u001b[0;34m\u001b[0m\u001b[0m\n\u001b[0;32m--> 204\u001b[0;31m             \u001b[0minput\u001b[0m \u001b[0;34m=\u001b[0m \u001b[0mmodule\u001b[0m\u001b[0;34m(\u001b[0m\u001b[0minput\u001b[0m\u001b[0;34m)\u001b[0m\u001b[0;34m\u001b[0m\u001b[0;34m\u001b[0m\u001b[0m\n\u001b[0m\u001b[1;32m    205\u001b[0m         \u001b[0;32mreturn\u001b[0m \u001b[0minput\u001b[0m\u001b[0;34m\u001b[0m\u001b[0;34m\u001b[0m\u001b[0m\n\u001b[1;32m    206\u001b[0m \u001b[0;34m\u001b[0m\u001b[0m\n",
            "\u001b[0;32m/usr/local/lib/python3.9/dist-packages/torch/nn/modules/module.py\u001b[0m in \u001b[0;36m_call_impl\u001b[0;34m(self, *input, **kwargs)\u001b[0m\n\u001b[1;32m   1192\u001b[0m         if not (self._backward_hooks or self._forward_hooks or self._forward_pre_hooks or _global_backward_hooks\n\u001b[1;32m   1193\u001b[0m                 or _global_forward_hooks or _global_forward_pre_hooks):\n\u001b[0;32m-> 1194\u001b[0;31m             \u001b[0;32mreturn\u001b[0m \u001b[0mforward_call\u001b[0m\u001b[0;34m(\u001b[0m\u001b[0;34m*\u001b[0m\u001b[0minput\u001b[0m\u001b[0;34m,\u001b[0m \u001b[0;34m**\u001b[0m\u001b[0mkwargs\u001b[0m\u001b[0;34m)\u001b[0m\u001b[0;34m\u001b[0m\u001b[0;34m\u001b[0m\u001b[0m\n\u001b[0m\u001b[1;32m   1195\u001b[0m         \u001b[0;31m# Do not call functions when jit is used\u001b[0m\u001b[0;34m\u001b[0m\u001b[0;34m\u001b[0m\u001b[0m\n\u001b[1;32m   1196\u001b[0m         \u001b[0mfull_backward_hooks\u001b[0m\u001b[0;34m,\u001b[0m \u001b[0mnon_full_backward_hooks\u001b[0m \u001b[0;34m=\u001b[0m \u001b[0;34m[\u001b[0m\u001b[0;34m]\u001b[0m\u001b[0;34m,\u001b[0m \u001b[0;34m[\u001b[0m\u001b[0;34m]\u001b[0m\u001b[0;34m\u001b[0m\u001b[0;34m\u001b[0m\u001b[0m\n",
            "\u001b[0;32m/usr/local/lib/python3.9/dist-packages/torch/nn/modules/linear.py\u001b[0m in \u001b[0;36mforward\u001b[0;34m(self, input)\u001b[0m\n\u001b[1;32m    112\u001b[0m \u001b[0;34m\u001b[0m\u001b[0m\n\u001b[1;32m    113\u001b[0m     \u001b[0;32mdef\u001b[0m \u001b[0mforward\u001b[0m\u001b[0;34m(\u001b[0m\u001b[0mself\u001b[0m\u001b[0;34m,\u001b[0m \u001b[0minput\u001b[0m\u001b[0;34m:\u001b[0m \u001b[0mTensor\u001b[0m\u001b[0;34m)\u001b[0m \u001b[0;34m->\u001b[0m \u001b[0mTensor\u001b[0m\u001b[0;34m:\u001b[0m\u001b[0;34m\u001b[0m\u001b[0;34m\u001b[0m\u001b[0m\n\u001b[0;32m--> 114\u001b[0;31m         \u001b[0;32mreturn\u001b[0m \u001b[0mF\u001b[0m\u001b[0;34m.\u001b[0m\u001b[0mlinear\u001b[0m\u001b[0;34m(\u001b[0m\u001b[0minput\u001b[0m\u001b[0;34m,\u001b[0m \u001b[0mself\u001b[0m\u001b[0;34m.\u001b[0m\u001b[0mweight\u001b[0m\u001b[0;34m,\u001b[0m \u001b[0mself\u001b[0m\u001b[0;34m.\u001b[0m\u001b[0mbias\u001b[0m\u001b[0;34m)\u001b[0m\u001b[0;34m\u001b[0m\u001b[0;34m\u001b[0m\u001b[0m\n\u001b[0m\u001b[1;32m    115\u001b[0m \u001b[0;34m\u001b[0m\u001b[0m\n\u001b[1;32m    116\u001b[0m     \u001b[0;32mdef\u001b[0m \u001b[0mextra_repr\u001b[0m\u001b[0;34m(\u001b[0m\u001b[0mself\u001b[0m\u001b[0;34m)\u001b[0m \u001b[0;34m->\u001b[0m \u001b[0mstr\u001b[0m\u001b[0;34m:\u001b[0m\u001b[0;34m\u001b[0m\u001b[0;34m\u001b[0m\u001b[0m\n",
            "\u001b[0;31mKeyboardInterrupt\u001b[0m: "
          ]
        }
      ],
      "source": [
        "sampler = optuna.samplers.TPESampler()    \n",
        "study = optuna.create_study(\n",
        "    sampler=sampler,\n",
        "    pruner=ThresholdPruner(lower=0.3, n_warmup_steps=3, interval_steps=1),\n",
        "    direction='maximize')\n",
        "study.optimize(func=objective, n_trials=200)"
      ]
    },
    {
      "cell_type": "code",
      "execution_count": 121,
      "metadata": {
        "colab": {
          "base_uri": "https://localhost:8080/"
        },
        "id": "NsAEDPdGOOj2",
        "outputId": "e0d9bbba-8802-4017-d1ab-e25e832a01d1"
      },
      "outputs": [
        {
          "output_type": "stream",
          "name": "stdout",
          "text": [
            "Best Accuracy: 85.90%\n",
            "optuna_batch_size= 155\n",
            "optimizer= Adam\n",
            "lr= 0.00531846441810562\n",
            "hidden_dim= 910\n",
            "alpha= 8\n",
            "beta= 8\n",
            "gamma= 4\n",
            "delta= 4\n"
          ]
        }
      ],
      "source": [
        "best_trial = study.best_trial\n",
        "print(f\"Best Accuracy: {study.best_value*100:.2f}%\")\n",
        "for key, value in best_trial.params.items():\n",
        "    print(\"{}= {}\".format(key, value))"
      ]
    },
    {
      "cell_type": "code",
      "execution_count": 122,
      "metadata": {
        "colab": {
          "base_uri": "https://localhost:8080/",
          "height": 542
        },
        "id": "lRYaeU6SFLeL",
        "outputId": "b79450d0-009c-4050-bf23-8ed3e257c153"
      },
      "outputs": [
        {
          "output_type": "display_data",
          "data": {
            "text/html": [
              "<html>\n",
              "<head><meta charset=\"utf-8\" /></head>\n",
              "<body>\n",
              "    <div>            <script src=\"https://cdnjs.cloudflare.com/ajax/libs/mathjax/2.7.5/MathJax.js?config=TeX-AMS-MML_SVG\"></script><script type=\"text/javascript\">if (window.MathJax) {MathJax.Hub.Config({SVG: {font: \"STIX-Web\"}});}</script>                <script type=\"text/javascript\">window.PlotlyConfig = {MathJaxConfig: 'local'};</script>\n",
              "        <script src=\"https://cdn.plot.ly/plotly-2.8.3.min.js\"></script>                <div id=\"fc0f4462-2c02-418e-82ef-3969fe653e78\" class=\"plotly-graph-div\" style=\"height:525px; width:100%;\"></div>            <script type=\"text/javascript\">                                    window.PLOTLYENV=window.PLOTLYENV || {};                                    if (document.getElementById(\"fc0f4462-2c02-418e-82ef-3969fe653e78\")) {                    Plotly.newPlot(                        \"fc0f4462-2c02-418e-82ef-3969fe653e78\",                        [{\"dimensions\":[{\"label\":\"Objective Value\",\"range\":[0.4934045681570201,0.8590041798283392],\"values\":[0.6045867546103116,0.6869736640636968,0.7131958915654838,0.5337323376101555,0.6771793577311809,0.6606744778371627,0.5849174743306785,0.6464695679495917,0.6796266233766234,0.7411066411333622,0.591686856953203,0.6282105752052421,0.7152878876670262,0.7762274237191191,0.6819282816201134,0.554317380680338,0.5855830254807239,0.6097419510166561,0.6714678558156821,0.5514527577922884,0.6615901109706426,0.7161139907850439,0.6782173837892314,0.642824821559133,0.6889402684857229,0.7044185113233182,0.6174871446581139,0.5333728406744797,0.6708799427946779,0.6075473667727957,0.5456656082488305,0.6395760671819563,0.7501721894849619,0.6859489330728261,0.7577369415161884,0.795614404616013,0.7557017123506485,0.5990986195393735,0.6753976632186861,0.5180578854716791,0.8561023473599106,0.747625690783343,0.7585698333210693,0.7412297595094377,0.7192096004124475,0.6615830263965626,0.7382920110192837,0.5239035859014102,0.7098448413098802,0.7871179457698562,0.7750694644054799,0.6972261683240311,0.7845620498650399,0.7230378317334811,0.7706164855349762,0.6473674383868564,0.7385269176163619,0.5654960420140686,0.6208503085275672,0.5966773534360128,0.671119445129808,0.7369936044539407,0.645730346530489,0.7426177773128292,0.7232842949454695,0.6441408821405875,0.6780288742385047,0.6835743896821738,0.746481732716781,0.6113480059404295,0.6744280152657114,0.85582223242995,0.7785560923242081,0.6961933151203255,0.7603600153198012,0.7940132301483931,0.659500866897839,0.6217393845097485,0.6431952097457326,0.640444206759614,0.6976146836491657,0.7013936798129626,0.7623257948760741,0.7707269211624609,0.8590041798283392,0.7728573538643331,0.7603024139386725,0.759305417082087,0.6350484958079895,0.4934045681570201,0.6756191367491521,0.7877205778852674,0.7703444366040033,0.7803118908382028,0.6341692789968644,0.7140585322768316]},{\"label\":\"alpha\",\"range\":[0,10],\"values\":[3,8,4,7,10,5,2,6,8,5,2,4,5,6,6,5,7,5,7,3,4,5,2,5,5,6,7,4,3,7,4,0,4,4,6,8,9,9,8,9,8,8,9,10,9,8,10,7,8,9,9,9,8,8,10,10,10,8,7,9,9,10,9,9,8,10,8,8,7,9,6,6,7,7,6,6,7,6,7,1,6,7,8,8,8,7,8,8,7,7,5,6,5,6,6,6]},{\"label\":\"beta\",\"range\":[0,10],\"values\":[9,0,7,6,0,3,4,2,10,1,6,2,5,1,1,2,1,4,1,3,5,1,1,2,0,1,3,9,0,5,0,6,7,7,9,8,8,8,9,7,10,10,10,10,9,10,8,10,8,9,9,9,10,10,10,10,9,10,10,9,10,10,9,9,10,9,10,8,9,6,9,9,8,8,8,7,8,7,6,9,8,9,7,8,8,8,4,8,8,9,7,5,5,3,4,3]},{\"label\":\"delta\",\"range\":[0,10],\"values\":[0,3,3,9,3,3,5,2,6,2,2,5,1,1,1,1,1,2,4,2,4,1,10,0,1,0,2,4,1,2,1,3,3,2,4,4,6,6,7,4,8,8,7,7,8,8,6,7,5,6,6,7,5,5,9,10,9,10,5,9,8,7,6,8,9,6,5,7,6,5,4,4,3,3,4,4,3,3,5,4,4,3,5,4,4,4,5,4,3,4,3,4,5,4,4,3]},{\"label\":\"gamma\",\"range\":[0,10],\"values\":[1,8,2,9,6,10,5,4,6,2,0,2,2,3,3,1,3,4,1,5,3,0,0,0,1,1,2,0,1,4,2,1,2,3,2,3,3,5,3,4,6,6,7,7,7,6,8,5,7,6,6,6,7,7,6,6,8,5,6,5,7,6,7,9,7,6,8,5,6,6,7,8,8,8,8,9,10,9,9,8,8,10,6,4,4,3,4,3,3,3,4,3,5,2,2,2]},{\"label\":\"hidden_dim\",\"range\":[101,1000],\"values\":[923,693,948,888,476,406,641,313,986,617,161,608,804,828,834,796,601,799,667,828,390,582,421,564,779,663,463,932,572,717,876,703,946,928,900,896,884,853,969,905,955,960,926,916,758,868,999,901,833,962,968,957,971,969,930,983,944,819,858,979,928,922,948,1000,762,909,877,945,281,809,899,974,971,974,970,943,999,849,884,943,146,929,979,910,910,891,868,898,984,936,837,959,962,912,101,915]},{\"label\":\"lr\",\"range\":[0.0031072969493445533,0.009963447042286883],\"values\":[0.006252655488731555,0.008190457338124586,0.007154603436117007,0.007782231575807794,0.00949614672807259,0.007802548579361315,0.009810323166536693,0.00763195092318385,0.006779330171396156,0.008894821583893741,0.008947847458987484,0.008909549555271486,0.006629991845037763,0.006304065658914367,0.006177903303109669,0.008517931858377207,0.006887139011573029,0.009963447042286883,0.008501984439690993,0.007241010190107531,0.009289646592360591,0.004789353632867144,0.004684461645075697,0.004572369926292859,0.005791644914298372,0.0054973363827889735,0.006604546816665384,0.006265807565210823,0.004719274399736226,0.008134430027277572,0.007101577302070467,0.004131419381542397,0.005601725159766012,0.005675301958256155,0.005036846014038469,0.005153852426023613,0.005123273803074471,0.005067558141360924,0.00533700800393369,0.005860435352029863,0.00518268486444649,0.00539052490046808,0.005058192927076826,0.005005743397726146,0.004085855322247556,0.003602994156884182,0.004388845793232885,0.0031072969493445533,0.005148694943831858,0.00618896499630122,0.005977288369708901,0.00613008743490491,0.006342601142170954,0.00648877116379364,0.005906448656406162,0.0058930841906473085,0.0063974798728708565,0.00685098573061333,0.005827361191389931,0.006132511969965391,0.005613659997818302,0.006750449132467806,0.006346185660567776,0.005973698963538229,0.005440568049508311,0.006557445758400676,0.005992904224531943,0.007115741413556053,0.005674642410320518,0.006369391546573484,0.004869229239863979,0.00538178853378,0.0053092976210672655,0.00532148665515421,0.005515948407254703,0.006096150617745451,0.006645306538102756,0.005314954157690018,0.005643729261293715,0.005931081654190201,0.006986808805702549,0.006293855807602612,0.004850121343904548,0.005701286583962079,0.00531846441810562,0.0052414458645612914,0.0065401081487892416,0.005365036458001833,0.005271018513610933,0.0048648186461599865,0.005201871946211802,0.006112244003100115,0.006276856066712461,0.006102945453483645,0.005720836100744453,0.006792807524171543]},{\"label\":\"optimizer\",\"range\":[0,1],\"ticktext\":[\"Adam\",\"RMSprop\"],\"tickvals\":[0,1],\"values\":[0,0,0,0,0,0,0,0,0,0,0,0,0,0,0,0,0,0,0,0,0,0,0,0,0,0,0,0,0,0,0,1,0,0,0,0,0,0,0,0,0,0,0,0,0,0,0,0,0,0,0,0,0,0,0,0,0,0,1,0,0,0,0,0,0,0,0,0,0,0,0,0,0,0,0,0,0,0,0,0,0,0,0,0,0,0,0,0,0,0,0,0,0,0,0,0]},{\"label\":\"optuna_batch_size\",\"range\":[100,990],\"values\":[552,168,215,951,103,413,613,263,748,246,400,292,483,655,699,507,765,488,650,579,339,484,682,513,432,454,573,343,191,533,751,466,179,154,224,204,222,303,224,145,115,127,203,213,113,288,216,347,990,105,105,106,142,138,188,169,102,153,133,804,193,199,246,158,124,709,100,312,274,241,191,168,162,172,140,124,160,123,637,176,145,234,100,182,155,118,142,118,132,907,586,114,161,171,174,267]}],\"labelangle\":30,\"labelside\":\"bottom\",\"line\":{\"color\":[0.6045867546103116,0.6869736640636968,0.7131958915654838,0.5337323376101555,0.6771793577311809,0.6606744778371627,0.5849174743306785,0.6464695679495917,0.6796266233766234,0.7411066411333622,0.591686856953203,0.6282105752052421,0.7152878876670262,0.7762274237191191,0.6819282816201134,0.554317380680338,0.5855830254807239,0.6097419510166561,0.6714678558156821,0.5514527577922884,0.6615901109706426,0.7161139907850439,0.6782173837892314,0.642824821559133,0.6889402684857229,0.7044185113233182,0.6174871446581139,0.5333728406744797,0.6708799427946779,0.6075473667727957,0.5456656082488305,0.6395760671819563,0.7501721894849619,0.6859489330728261,0.7577369415161884,0.795614404616013,0.7557017123506485,0.5990986195393735,0.6753976632186861,0.5180578854716791,0.8561023473599106,0.747625690783343,0.7585698333210693,0.7412297595094377,0.7192096004124475,0.6615830263965626,0.7382920110192837,0.5239035859014102,0.7098448413098802,0.7871179457698562,0.7750694644054799,0.6972261683240311,0.7845620498650399,0.7230378317334811,0.7706164855349762,0.6473674383868564,0.7385269176163619,0.5654960420140686,0.6208503085275672,0.5966773534360128,0.671119445129808,0.7369936044539407,0.645730346530489,0.7426177773128292,0.7232842949454695,0.6441408821405875,0.6780288742385047,0.6835743896821738,0.746481732716781,0.6113480059404295,0.6744280152657114,0.85582223242995,0.7785560923242081,0.6961933151203255,0.7603600153198012,0.7940132301483931,0.659500866897839,0.6217393845097485,0.6431952097457326,0.640444206759614,0.6976146836491657,0.7013936798129626,0.7623257948760741,0.7707269211624609,0.8590041798283392,0.7728573538643331,0.7603024139386725,0.759305417082087,0.6350484958079895,0.4934045681570201,0.6756191367491521,0.7877205778852674,0.7703444366040033,0.7803118908382028,0.6341692789968644,0.7140585322768316],\"colorbar\":{\"title\":{\"text\":\"Objective Value\"}},\"colorscale\":[[0.0,\"rgb(247,251,255)\"],[0.125,\"rgb(222,235,247)\"],[0.25,\"rgb(198,219,239)\"],[0.375,\"rgb(158,202,225)\"],[0.5,\"rgb(107,174,214)\"],[0.625,\"rgb(66,146,198)\"],[0.75,\"rgb(33,113,181)\"],[0.875,\"rgb(8,81,156)\"],[1.0,\"rgb(8,48,107)\"]],\"reversescale\":false,\"showscale\":true},\"type\":\"parcoords\"}],                        {\"title\":{\"text\":\"Parallel Coordinate Plot\"},\"template\":{\"data\":{\"bar\":[{\"error_x\":{\"color\":\"#2a3f5f\"},\"error_y\":{\"color\":\"#2a3f5f\"},\"marker\":{\"line\":{\"color\":\"#E5ECF6\",\"width\":0.5},\"pattern\":{\"fillmode\":\"overlay\",\"size\":10,\"solidity\":0.2}},\"type\":\"bar\"}],\"barpolar\":[{\"marker\":{\"line\":{\"color\":\"#E5ECF6\",\"width\":0.5},\"pattern\":{\"fillmode\":\"overlay\",\"size\":10,\"solidity\":0.2}},\"type\":\"barpolar\"}],\"carpet\":[{\"aaxis\":{\"endlinecolor\":\"#2a3f5f\",\"gridcolor\":\"white\",\"linecolor\":\"white\",\"minorgridcolor\":\"white\",\"startlinecolor\":\"#2a3f5f\"},\"baxis\":{\"endlinecolor\":\"#2a3f5f\",\"gridcolor\":\"white\",\"linecolor\":\"white\",\"minorgridcolor\":\"white\",\"startlinecolor\":\"#2a3f5f\"},\"type\":\"carpet\"}],\"choropleth\":[{\"colorbar\":{\"outlinewidth\":0,\"ticks\":\"\"},\"type\":\"choropleth\"}],\"contour\":[{\"colorbar\":{\"outlinewidth\":0,\"ticks\":\"\"},\"colorscale\":[[0.0,\"#0d0887\"],[0.1111111111111111,\"#46039f\"],[0.2222222222222222,\"#7201a8\"],[0.3333333333333333,\"#9c179e\"],[0.4444444444444444,\"#bd3786\"],[0.5555555555555556,\"#d8576b\"],[0.6666666666666666,\"#ed7953\"],[0.7777777777777778,\"#fb9f3a\"],[0.8888888888888888,\"#fdca26\"],[1.0,\"#f0f921\"]],\"type\":\"contour\"}],\"contourcarpet\":[{\"colorbar\":{\"outlinewidth\":0,\"ticks\":\"\"},\"type\":\"contourcarpet\"}],\"heatmap\":[{\"colorbar\":{\"outlinewidth\":0,\"ticks\":\"\"},\"colorscale\":[[0.0,\"#0d0887\"],[0.1111111111111111,\"#46039f\"],[0.2222222222222222,\"#7201a8\"],[0.3333333333333333,\"#9c179e\"],[0.4444444444444444,\"#bd3786\"],[0.5555555555555556,\"#d8576b\"],[0.6666666666666666,\"#ed7953\"],[0.7777777777777778,\"#fb9f3a\"],[0.8888888888888888,\"#fdca26\"],[1.0,\"#f0f921\"]],\"type\":\"heatmap\"}],\"heatmapgl\":[{\"colorbar\":{\"outlinewidth\":0,\"ticks\":\"\"},\"colorscale\":[[0.0,\"#0d0887\"],[0.1111111111111111,\"#46039f\"],[0.2222222222222222,\"#7201a8\"],[0.3333333333333333,\"#9c179e\"],[0.4444444444444444,\"#bd3786\"],[0.5555555555555556,\"#d8576b\"],[0.6666666666666666,\"#ed7953\"],[0.7777777777777778,\"#fb9f3a\"],[0.8888888888888888,\"#fdca26\"],[1.0,\"#f0f921\"]],\"type\":\"heatmapgl\"}],\"histogram\":[{\"marker\":{\"pattern\":{\"fillmode\":\"overlay\",\"size\":10,\"solidity\":0.2}},\"type\":\"histogram\"}],\"histogram2d\":[{\"colorbar\":{\"outlinewidth\":0,\"ticks\":\"\"},\"colorscale\":[[0.0,\"#0d0887\"],[0.1111111111111111,\"#46039f\"],[0.2222222222222222,\"#7201a8\"],[0.3333333333333333,\"#9c179e\"],[0.4444444444444444,\"#bd3786\"],[0.5555555555555556,\"#d8576b\"],[0.6666666666666666,\"#ed7953\"],[0.7777777777777778,\"#fb9f3a\"],[0.8888888888888888,\"#fdca26\"],[1.0,\"#f0f921\"]],\"type\":\"histogram2d\"}],\"histogram2dcontour\":[{\"colorbar\":{\"outlinewidth\":0,\"ticks\":\"\"},\"colorscale\":[[0.0,\"#0d0887\"],[0.1111111111111111,\"#46039f\"],[0.2222222222222222,\"#7201a8\"],[0.3333333333333333,\"#9c179e\"],[0.4444444444444444,\"#bd3786\"],[0.5555555555555556,\"#d8576b\"],[0.6666666666666666,\"#ed7953\"],[0.7777777777777778,\"#fb9f3a\"],[0.8888888888888888,\"#fdca26\"],[1.0,\"#f0f921\"]],\"type\":\"histogram2dcontour\"}],\"mesh3d\":[{\"colorbar\":{\"outlinewidth\":0,\"ticks\":\"\"},\"type\":\"mesh3d\"}],\"parcoords\":[{\"line\":{\"colorbar\":{\"outlinewidth\":0,\"ticks\":\"\"}},\"type\":\"parcoords\"}],\"pie\":[{\"automargin\":true,\"type\":\"pie\"}],\"scatter\":[{\"marker\":{\"colorbar\":{\"outlinewidth\":0,\"ticks\":\"\"}},\"type\":\"scatter\"}],\"scatter3d\":[{\"line\":{\"colorbar\":{\"outlinewidth\":0,\"ticks\":\"\"}},\"marker\":{\"colorbar\":{\"outlinewidth\":0,\"ticks\":\"\"}},\"type\":\"scatter3d\"}],\"scattercarpet\":[{\"marker\":{\"colorbar\":{\"outlinewidth\":0,\"ticks\":\"\"}},\"type\":\"scattercarpet\"}],\"scattergeo\":[{\"marker\":{\"colorbar\":{\"outlinewidth\":0,\"ticks\":\"\"}},\"type\":\"scattergeo\"}],\"scattergl\":[{\"marker\":{\"colorbar\":{\"outlinewidth\":0,\"ticks\":\"\"}},\"type\":\"scattergl\"}],\"scattermapbox\":[{\"marker\":{\"colorbar\":{\"outlinewidth\":0,\"ticks\":\"\"}},\"type\":\"scattermapbox\"}],\"scatterpolar\":[{\"marker\":{\"colorbar\":{\"outlinewidth\":0,\"ticks\":\"\"}},\"type\":\"scatterpolar\"}],\"scatterpolargl\":[{\"marker\":{\"colorbar\":{\"outlinewidth\":0,\"ticks\":\"\"}},\"type\":\"scatterpolargl\"}],\"scatterternary\":[{\"marker\":{\"colorbar\":{\"outlinewidth\":0,\"ticks\":\"\"}},\"type\":\"scatterternary\"}],\"surface\":[{\"colorbar\":{\"outlinewidth\":0,\"ticks\":\"\"},\"colorscale\":[[0.0,\"#0d0887\"],[0.1111111111111111,\"#46039f\"],[0.2222222222222222,\"#7201a8\"],[0.3333333333333333,\"#9c179e\"],[0.4444444444444444,\"#bd3786\"],[0.5555555555555556,\"#d8576b\"],[0.6666666666666666,\"#ed7953\"],[0.7777777777777778,\"#fb9f3a\"],[0.8888888888888888,\"#fdca26\"],[1.0,\"#f0f921\"]],\"type\":\"surface\"}],\"table\":[{\"cells\":{\"fill\":{\"color\":\"#EBF0F8\"},\"line\":{\"color\":\"white\"}},\"header\":{\"fill\":{\"color\":\"#C8D4E3\"},\"line\":{\"color\":\"white\"}},\"type\":\"table\"}]},\"layout\":{\"annotationdefaults\":{\"arrowcolor\":\"#2a3f5f\",\"arrowhead\":0,\"arrowwidth\":1},\"autotypenumbers\":\"strict\",\"coloraxis\":{\"colorbar\":{\"outlinewidth\":0,\"ticks\":\"\"}},\"colorscale\":{\"diverging\":[[0,\"#8e0152\"],[0.1,\"#c51b7d\"],[0.2,\"#de77ae\"],[0.3,\"#f1b6da\"],[0.4,\"#fde0ef\"],[0.5,\"#f7f7f7\"],[0.6,\"#e6f5d0\"],[0.7,\"#b8e186\"],[0.8,\"#7fbc41\"],[0.9,\"#4d9221\"],[1,\"#276419\"]],\"sequential\":[[0.0,\"#0d0887\"],[0.1111111111111111,\"#46039f\"],[0.2222222222222222,\"#7201a8\"],[0.3333333333333333,\"#9c179e\"],[0.4444444444444444,\"#bd3786\"],[0.5555555555555556,\"#d8576b\"],[0.6666666666666666,\"#ed7953\"],[0.7777777777777778,\"#fb9f3a\"],[0.8888888888888888,\"#fdca26\"],[1.0,\"#f0f921\"]],\"sequentialminus\":[[0.0,\"#0d0887\"],[0.1111111111111111,\"#46039f\"],[0.2222222222222222,\"#7201a8\"],[0.3333333333333333,\"#9c179e\"],[0.4444444444444444,\"#bd3786\"],[0.5555555555555556,\"#d8576b\"],[0.6666666666666666,\"#ed7953\"],[0.7777777777777778,\"#fb9f3a\"],[0.8888888888888888,\"#fdca26\"],[1.0,\"#f0f921\"]]},\"colorway\":[\"#636efa\",\"#EF553B\",\"#00cc96\",\"#ab63fa\",\"#FFA15A\",\"#19d3f3\",\"#FF6692\",\"#B6E880\",\"#FF97FF\",\"#FECB52\"],\"font\":{\"color\":\"#2a3f5f\"},\"geo\":{\"bgcolor\":\"white\",\"lakecolor\":\"white\",\"landcolor\":\"#E5ECF6\",\"showlakes\":true,\"showland\":true,\"subunitcolor\":\"white\"},\"hoverlabel\":{\"align\":\"left\"},\"hovermode\":\"closest\",\"mapbox\":{\"style\":\"light\"},\"paper_bgcolor\":\"white\",\"plot_bgcolor\":\"#E5ECF6\",\"polar\":{\"angularaxis\":{\"gridcolor\":\"white\",\"linecolor\":\"white\",\"ticks\":\"\"},\"bgcolor\":\"#E5ECF6\",\"radialaxis\":{\"gridcolor\":\"white\",\"linecolor\":\"white\",\"ticks\":\"\"}},\"scene\":{\"xaxis\":{\"backgroundcolor\":\"#E5ECF6\",\"gridcolor\":\"white\",\"gridwidth\":2,\"linecolor\":\"white\",\"showbackground\":true,\"ticks\":\"\",\"zerolinecolor\":\"white\"},\"yaxis\":{\"backgroundcolor\":\"#E5ECF6\",\"gridcolor\":\"white\",\"gridwidth\":2,\"linecolor\":\"white\",\"showbackground\":true,\"ticks\":\"\",\"zerolinecolor\":\"white\"},\"zaxis\":{\"backgroundcolor\":\"#E5ECF6\",\"gridcolor\":\"white\",\"gridwidth\":2,\"linecolor\":\"white\",\"showbackground\":true,\"ticks\":\"\",\"zerolinecolor\":\"white\"}},\"shapedefaults\":{\"line\":{\"color\":\"#2a3f5f\"}},\"ternary\":{\"aaxis\":{\"gridcolor\":\"white\",\"linecolor\":\"white\",\"ticks\":\"\"},\"baxis\":{\"gridcolor\":\"white\",\"linecolor\":\"white\",\"ticks\":\"\"},\"bgcolor\":\"#E5ECF6\",\"caxis\":{\"gridcolor\":\"white\",\"linecolor\":\"white\",\"ticks\":\"\"}},\"title\":{\"x\":0.05},\"xaxis\":{\"automargin\":true,\"gridcolor\":\"white\",\"linecolor\":\"white\",\"ticks\":\"\",\"title\":{\"standoff\":15},\"zerolinecolor\":\"white\",\"zerolinewidth\":2},\"yaxis\":{\"automargin\":true,\"gridcolor\":\"white\",\"linecolor\":\"white\",\"ticks\":\"\",\"title\":{\"standoff\":15},\"zerolinecolor\":\"white\",\"zerolinewidth\":2}}}},                        {\"responsive\": true}                    ).then(function(){\n",
              "                            \n",
              "var gd = document.getElementById('fc0f4462-2c02-418e-82ef-3969fe653e78');\n",
              "var x = new MutationObserver(function (mutations, observer) {{\n",
              "        var display = window.getComputedStyle(gd).display;\n",
              "        if (!display || display === 'none') {{\n",
              "            console.log([gd, 'removed!']);\n",
              "            Plotly.purge(gd);\n",
              "            observer.disconnect();\n",
              "        }}\n",
              "}});\n",
              "\n",
              "// Listen for the removal of the full notebook cells\n",
              "var notebookContainer = gd.closest('#notebook-container');\n",
              "if (notebookContainer) {{\n",
              "    x.observe(notebookContainer, {childList: true});\n",
              "}}\n",
              "\n",
              "// Listen for the clearing of the current output cell\n",
              "var outputEl = gd.closest('.output');\n",
              "if (outputEl) {{\n",
              "    x.observe(outputEl, {childList: true});\n",
              "}}\n",
              "\n",
              "                        })                };                            </script>        </div>\n",
              "</body>\n",
              "</html>"
            ]
          },
          "metadata": {}
        }
      ],
      "source": [
        "optuna.visualization.plot_parallel_coordinate(study)"
      ]
    },
    {
      "cell_type": "code",
      "execution_count": 123,
      "metadata": {
        "colab": {
          "base_uri": "https://localhost:8080/",
          "height": 542
        },
        "id": "_vOH85Dlpssz",
        "outputId": "d51e3c04-fa9f-42f8-f0a2-fd6aeb8cae5e"
      },
      "outputs": [
        {
          "output_type": "display_data",
          "data": {
            "text/html": [
              "<html>\n",
              "<head><meta charset=\"utf-8\" /></head>\n",
              "<body>\n",
              "    <div>            <script src=\"https://cdnjs.cloudflare.com/ajax/libs/mathjax/2.7.5/MathJax.js?config=TeX-AMS-MML_SVG\"></script><script type=\"text/javascript\">if (window.MathJax) {MathJax.Hub.Config({SVG: {font: \"STIX-Web\"}});}</script>                <script type=\"text/javascript\">window.PlotlyConfig = {MathJaxConfig: 'local'};</script>\n",
              "        <script src=\"https://cdn.plot.ly/plotly-2.8.3.min.js\"></script>                <div id=\"7f38b17a-e68f-4c60-bbce-36227f991a4b\" class=\"plotly-graph-div\" style=\"height:525px; width:100%;\"></div>            <script type=\"text/javascript\">                                    window.PLOTLYENV=window.PLOTLYENV || {};                                    if (document.getElementById(\"7f38b17a-e68f-4c60-bbce-36227f991a4b\")) {                    Plotly.newPlot(                        \"7f38b17a-e68f-4c60-bbce-36227f991a4b\",                        [{\"cliponaxis\":false,\"hovertemplate\":[\"optimizer (CategoricalDistribution): 0.007919524118982045<extra></extra>\",\"delta (IntDistribution): 0.044104487471274545<extra></extra>\",\"gamma (IntDistribution): 0.04927550332013125<extra></extra>\",\"alpha (IntDistribution): 0.061472566867896344<extra></extra>\",\"hidden_dim (IntDistribution): 0.0864671354908473<extra></extra>\",\"beta (IntDistribution): 0.10319451044107877<extra></extra>\",\"lr (FloatDistribution): 0.17612417229434105<extra></extra>\",\"optuna_batch_size (IntDistribution): 0.4714420999954487<extra></extra>\"],\"marker\":{\"color\":\"rgb(66,146,198)\"},\"orientation\":\"h\",\"text\":[\"<0.01\",\"0.04\",\"0.05\",\"0.06\",\"0.09\",\"0.10\",\"0.18\",\"0.47\"],\"textposition\":\"outside\",\"x\":[0.007919524118982045,0.044104487471274545,0.04927550332013125,0.061472566867896344,0.0864671354908473,0.10319451044107877,0.17612417229434105,0.4714420999954487],\"y\":[\"optimizer\",\"delta\",\"gamma\",\"alpha\",\"hidden_dim\",\"beta\",\"lr\",\"optuna_batch_size\"],\"type\":\"bar\"}],                        {\"showlegend\":false,\"title\":{\"text\":\"Hyperparameter Importances\"},\"xaxis\":{\"title\":{\"text\":\"Importance for Objective Value\"}},\"yaxis\":{\"title\":{\"text\":\"Hyperparameter\"}},\"template\":{\"data\":{\"bar\":[{\"error_x\":{\"color\":\"#2a3f5f\"},\"error_y\":{\"color\":\"#2a3f5f\"},\"marker\":{\"line\":{\"color\":\"#E5ECF6\",\"width\":0.5},\"pattern\":{\"fillmode\":\"overlay\",\"size\":10,\"solidity\":0.2}},\"type\":\"bar\"}],\"barpolar\":[{\"marker\":{\"line\":{\"color\":\"#E5ECF6\",\"width\":0.5},\"pattern\":{\"fillmode\":\"overlay\",\"size\":10,\"solidity\":0.2}},\"type\":\"barpolar\"}],\"carpet\":[{\"aaxis\":{\"endlinecolor\":\"#2a3f5f\",\"gridcolor\":\"white\",\"linecolor\":\"white\",\"minorgridcolor\":\"white\",\"startlinecolor\":\"#2a3f5f\"},\"baxis\":{\"endlinecolor\":\"#2a3f5f\",\"gridcolor\":\"white\",\"linecolor\":\"white\",\"minorgridcolor\":\"white\",\"startlinecolor\":\"#2a3f5f\"},\"type\":\"carpet\"}],\"choropleth\":[{\"colorbar\":{\"outlinewidth\":0,\"ticks\":\"\"},\"type\":\"choropleth\"}],\"contour\":[{\"colorbar\":{\"outlinewidth\":0,\"ticks\":\"\"},\"colorscale\":[[0.0,\"#0d0887\"],[0.1111111111111111,\"#46039f\"],[0.2222222222222222,\"#7201a8\"],[0.3333333333333333,\"#9c179e\"],[0.4444444444444444,\"#bd3786\"],[0.5555555555555556,\"#d8576b\"],[0.6666666666666666,\"#ed7953\"],[0.7777777777777778,\"#fb9f3a\"],[0.8888888888888888,\"#fdca26\"],[1.0,\"#f0f921\"]],\"type\":\"contour\"}],\"contourcarpet\":[{\"colorbar\":{\"outlinewidth\":0,\"ticks\":\"\"},\"type\":\"contourcarpet\"}],\"heatmap\":[{\"colorbar\":{\"outlinewidth\":0,\"ticks\":\"\"},\"colorscale\":[[0.0,\"#0d0887\"],[0.1111111111111111,\"#46039f\"],[0.2222222222222222,\"#7201a8\"],[0.3333333333333333,\"#9c179e\"],[0.4444444444444444,\"#bd3786\"],[0.5555555555555556,\"#d8576b\"],[0.6666666666666666,\"#ed7953\"],[0.7777777777777778,\"#fb9f3a\"],[0.8888888888888888,\"#fdca26\"],[1.0,\"#f0f921\"]],\"type\":\"heatmap\"}],\"heatmapgl\":[{\"colorbar\":{\"outlinewidth\":0,\"ticks\":\"\"},\"colorscale\":[[0.0,\"#0d0887\"],[0.1111111111111111,\"#46039f\"],[0.2222222222222222,\"#7201a8\"],[0.3333333333333333,\"#9c179e\"],[0.4444444444444444,\"#bd3786\"],[0.5555555555555556,\"#d8576b\"],[0.6666666666666666,\"#ed7953\"],[0.7777777777777778,\"#fb9f3a\"],[0.8888888888888888,\"#fdca26\"],[1.0,\"#f0f921\"]],\"type\":\"heatmapgl\"}],\"histogram\":[{\"marker\":{\"pattern\":{\"fillmode\":\"overlay\",\"size\":10,\"solidity\":0.2}},\"type\":\"histogram\"}],\"histogram2d\":[{\"colorbar\":{\"outlinewidth\":0,\"ticks\":\"\"},\"colorscale\":[[0.0,\"#0d0887\"],[0.1111111111111111,\"#46039f\"],[0.2222222222222222,\"#7201a8\"],[0.3333333333333333,\"#9c179e\"],[0.4444444444444444,\"#bd3786\"],[0.5555555555555556,\"#d8576b\"],[0.6666666666666666,\"#ed7953\"],[0.7777777777777778,\"#fb9f3a\"],[0.8888888888888888,\"#fdca26\"],[1.0,\"#f0f921\"]],\"type\":\"histogram2d\"}],\"histogram2dcontour\":[{\"colorbar\":{\"outlinewidth\":0,\"ticks\":\"\"},\"colorscale\":[[0.0,\"#0d0887\"],[0.1111111111111111,\"#46039f\"],[0.2222222222222222,\"#7201a8\"],[0.3333333333333333,\"#9c179e\"],[0.4444444444444444,\"#bd3786\"],[0.5555555555555556,\"#d8576b\"],[0.6666666666666666,\"#ed7953\"],[0.7777777777777778,\"#fb9f3a\"],[0.8888888888888888,\"#fdca26\"],[1.0,\"#f0f921\"]],\"type\":\"histogram2dcontour\"}],\"mesh3d\":[{\"colorbar\":{\"outlinewidth\":0,\"ticks\":\"\"},\"type\":\"mesh3d\"}],\"parcoords\":[{\"line\":{\"colorbar\":{\"outlinewidth\":0,\"ticks\":\"\"}},\"type\":\"parcoords\"}],\"pie\":[{\"automargin\":true,\"type\":\"pie\"}],\"scatter\":[{\"marker\":{\"colorbar\":{\"outlinewidth\":0,\"ticks\":\"\"}},\"type\":\"scatter\"}],\"scatter3d\":[{\"line\":{\"colorbar\":{\"outlinewidth\":0,\"ticks\":\"\"}},\"marker\":{\"colorbar\":{\"outlinewidth\":0,\"ticks\":\"\"}},\"type\":\"scatter3d\"}],\"scattercarpet\":[{\"marker\":{\"colorbar\":{\"outlinewidth\":0,\"ticks\":\"\"}},\"type\":\"scattercarpet\"}],\"scattergeo\":[{\"marker\":{\"colorbar\":{\"outlinewidth\":0,\"ticks\":\"\"}},\"type\":\"scattergeo\"}],\"scattergl\":[{\"marker\":{\"colorbar\":{\"outlinewidth\":0,\"ticks\":\"\"}},\"type\":\"scattergl\"}],\"scattermapbox\":[{\"marker\":{\"colorbar\":{\"outlinewidth\":0,\"ticks\":\"\"}},\"type\":\"scattermapbox\"}],\"scatterpolar\":[{\"marker\":{\"colorbar\":{\"outlinewidth\":0,\"ticks\":\"\"}},\"type\":\"scatterpolar\"}],\"scatterpolargl\":[{\"marker\":{\"colorbar\":{\"outlinewidth\":0,\"ticks\":\"\"}},\"type\":\"scatterpolargl\"}],\"scatterternary\":[{\"marker\":{\"colorbar\":{\"outlinewidth\":0,\"ticks\":\"\"}},\"type\":\"scatterternary\"}],\"surface\":[{\"colorbar\":{\"outlinewidth\":0,\"ticks\":\"\"},\"colorscale\":[[0.0,\"#0d0887\"],[0.1111111111111111,\"#46039f\"],[0.2222222222222222,\"#7201a8\"],[0.3333333333333333,\"#9c179e\"],[0.4444444444444444,\"#bd3786\"],[0.5555555555555556,\"#d8576b\"],[0.6666666666666666,\"#ed7953\"],[0.7777777777777778,\"#fb9f3a\"],[0.8888888888888888,\"#fdca26\"],[1.0,\"#f0f921\"]],\"type\":\"surface\"}],\"table\":[{\"cells\":{\"fill\":{\"color\":\"#EBF0F8\"},\"line\":{\"color\":\"white\"}},\"header\":{\"fill\":{\"color\":\"#C8D4E3\"},\"line\":{\"color\":\"white\"}},\"type\":\"table\"}]},\"layout\":{\"annotationdefaults\":{\"arrowcolor\":\"#2a3f5f\",\"arrowhead\":0,\"arrowwidth\":1},\"autotypenumbers\":\"strict\",\"coloraxis\":{\"colorbar\":{\"outlinewidth\":0,\"ticks\":\"\"}},\"colorscale\":{\"diverging\":[[0,\"#8e0152\"],[0.1,\"#c51b7d\"],[0.2,\"#de77ae\"],[0.3,\"#f1b6da\"],[0.4,\"#fde0ef\"],[0.5,\"#f7f7f7\"],[0.6,\"#e6f5d0\"],[0.7,\"#b8e186\"],[0.8,\"#7fbc41\"],[0.9,\"#4d9221\"],[1,\"#276419\"]],\"sequential\":[[0.0,\"#0d0887\"],[0.1111111111111111,\"#46039f\"],[0.2222222222222222,\"#7201a8\"],[0.3333333333333333,\"#9c179e\"],[0.4444444444444444,\"#bd3786\"],[0.5555555555555556,\"#d8576b\"],[0.6666666666666666,\"#ed7953\"],[0.7777777777777778,\"#fb9f3a\"],[0.8888888888888888,\"#fdca26\"],[1.0,\"#f0f921\"]],\"sequentialminus\":[[0.0,\"#0d0887\"],[0.1111111111111111,\"#46039f\"],[0.2222222222222222,\"#7201a8\"],[0.3333333333333333,\"#9c179e\"],[0.4444444444444444,\"#bd3786\"],[0.5555555555555556,\"#d8576b\"],[0.6666666666666666,\"#ed7953\"],[0.7777777777777778,\"#fb9f3a\"],[0.8888888888888888,\"#fdca26\"],[1.0,\"#f0f921\"]]},\"colorway\":[\"#636efa\",\"#EF553B\",\"#00cc96\",\"#ab63fa\",\"#FFA15A\",\"#19d3f3\",\"#FF6692\",\"#B6E880\",\"#FF97FF\",\"#FECB52\"],\"font\":{\"color\":\"#2a3f5f\"},\"geo\":{\"bgcolor\":\"white\",\"lakecolor\":\"white\",\"landcolor\":\"#E5ECF6\",\"showlakes\":true,\"showland\":true,\"subunitcolor\":\"white\"},\"hoverlabel\":{\"align\":\"left\"},\"hovermode\":\"closest\",\"mapbox\":{\"style\":\"light\"},\"paper_bgcolor\":\"white\",\"plot_bgcolor\":\"#E5ECF6\",\"polar\":{\"angularaxis\":{\"gridcolor\":\"white\",\"linecolor\":\"white\",\"ticks\":\"\"},\"bgcolor\":\"#E5ECF6\",\"radialaxis\":{\"gridcolor\":\"white\",\"linecolor\":\"white\",\"ticks\":\"\"}},\"scene\":{\"xaxis\":{\"backgroundcolor\":\"#E5ECF6\",\"gridcolor\":\"white\",\"gridwidth\":2,\"linecolor\":\"white\",\"showbackground\":true,\"ticks\":\"\",\"zerolinecolor\":\"white\"},\"yaxis\":{\"backgroundcolor\":\"#E5ECF6\",\"gridcolor\":\"white\",\"gridwidth\":2,\"linecolor\":\"white\",\"showbackground\":true,\"ticks\":\"\",\"zerolinecolor\":\"white\"},\"zaxis\":{\"backgroundcolor\":\"#E5ECF6\",\"gridcolor\":\"white\",\"gridwidth\":2,\"linecolor\":\"white\",\"showbackground\":true,\"ticks\":\"\",\"zerolinecolor\":\"white\"}},\"shapedefaults\":{\"line\":{\"color\":\"#2a3f5f\"}},\"ternary\":{\"aaxis\":{\"gridcolor\":\"white\",\"linecolor\":\"white\",\"ticks\":\"\"},\"baxis\":{\"gridcolor\":\"white\",\"linecolor\":\"white\",\"ticks\":\"\"},\"bgcolor\":\"#E5ECF6\",\"caxis\":{\"gridcolor\":\"white\",\"linecolor\":\"white\",\"ticks\":\"\"}},\"title\":{\"x\":0.05},\"xaxis\":{\"automargin\":true,\"gridcolor\":\"white\",\"linecolor\":\"white\",\"ticks\":\"\",\"title\":{\"standoff\":15},\"zerolinecolor\":\"white\",\"zerolinewidth\":2},\"yaxis\":{\"automargin\":true,\"gridcolor\":\"white\",\"linecolor\":\"white\",\"ticks\":\"\",\"title\":{\"standoff\":15},\"zerolinecolor\":\"white\",\"zerolinewidth\":2}}}},                        {\"responsive\": true}                    ).then(function(){\n",
              "                            \n",
              "var gd = document.getElementById('7f38b17a-e68f-4c60-bbce-36227f991a4b');\n",
              "var x = new MutationObserver(function (mutations, observer) {{\n",
              "        var display = window.getComputedStyle(gd).display;\n",
              "        if (!display || display === 'none') {{\n",
              "            console.log([gd, 'removed!']);\n",
              "            Plotly.purge(gd);\n",
              "            observer.disconnect();\n",
              "        }}\n",
              "}});\n",
              "\n",
              "// Listen for the removal of the full notebook cells\n",
              "var notebookContainer = gd.closest('#notebook-container');\n",
              "if (notebookContainer) {{\n",
              "    x.observe(notebookContainer, {childList: true});\n",
              "}}\n",
              "\n",
              "// Listen for the clearing of the current output cell\n",
              "var outputEl = gd.closest('.output');\n",
              "if (outputEl) {{\n",
              "    x.observe(outputEl, {childList: true});\n",
              "}}\n",
              "\n",
              "                        })                };                            </script>        </div>\n",
              "</body>\n",
              "</html>"
            ]
          },
          "metadata": {}
        }
      ],
      "source": [
        "optuna.visualization.plot_param_importances(study)"
      ]
    },
    {
      "cell_type": "code",
      "execution_count": 124,
      "metadata": {
        "colab": {
          "base_uri": "https://localhost:8080/",
          "height": 542
        },
        "id": "3r3cLVSWHHzV",
        "outputId": "1ca7c496-f56d-4d5c-fb41-d5307b5dc1dc"
      },
      "outputs": [
        {
          "output_type": "display_data",
          "data": {
            "text/html": [
              "<html>\n",
              "<head><meta charset=\"utf-8\" /></head>\n",
              "<body>\n",
              "    <div>            <script src=\"https://cdnjs.cloudflare.com/ajax/libs/mathjax/2.7.5/MathJax.js?config=TeX-AMS-MML_SVG\"></script><script type=\"text/javascript\">if (window.MathJax) {MathJax.Hub.Config({SVG: {font: \"STIX-Web\"}});}</script>                <script type=\"text/javascript\">window.PlotlyConfig = {MathJaxConfig: 'local'};</script>\n",
              "        <script src=\"https://cdn.plot.ly/plotly-2.8.3.min.js\"></script>                <div id=\"9173dbfe-b55c-4d34-a431-4dd96a4d1abf\" class=\"plotly-graph-div\" style=\"height:525px; width:100%;\"></div>            <script type=\"text/javascript\">                                    window.PLOTLYENV=window.PLOTLYENV || {};                                    if (document.getElementById(\"9173dbfe-b55c-4d34-a431-4dd96a4d1abf\")) {                    Plotly.newPlot(                        \"9173dbfe-b55c-4d34-a431-4dd96a4d1abf\",                        [{\"mode\":\"markers\",\"name\":\"Objective Value\",\"x\":[1,2,4,5,11,12,13,14,15,16,17,18,19,20,21,22,23,24,25,27,28,29,30,31,32,33,34,35,36,38,39,40,41,42,43,44,45,47,48,49,50,51,52,53,54,55,57,58,59,60,61,62,63,64,65,66,67,68,69,70,71,72,73,74,75,76,77,78,79,80,81,82,83,84,85,86,88,89,90,91,92,93,94,95,96,98,100,101,102,103,104,105,106,107,108,109],\"y\":[0.6045867546103116,0.6869736640636968,0.7131958915654838,0.5337323376101555,0.6771793577311809,0.6606744778371627,0.5849174743306785,0.6464695679495917,0.6796266233766234,0.7411066411333622,0.591686856953203,0.6282105752052421,0.7152878876670262,0.7762274237191191,0.6819282816201134,0.554317380680338,0.5855830254807239,0.6097419510166561,0.6714678558156821,0.5514527577922884,0.6615901109706426,0.7161139907850439,0.6782173837892314,0.642824821559133,0.6889402684857229,0.7044185113233182,0.6174871446581139,0.5333728406744797,0.6708799427946779,0.6075473667727957,0.5456656082488305,0.6395760671819563,0.7501721894849619,0.6859489330728261,0.7577369415161884,0.795614404616013,0.7557017123506485,0.5990986195393735,0.6753976632186861,0.5180578854716791,0.8561023473599106,0.747625690783343,0.7585698333210693,0.7412297595094377,0.7192096004124475,0.6615830263965626,0.7382920110192837,0.5239035859014102,0.7098448413098802,0.7871179457698562,0.7750694644054799,0.6972261683240311,0.7845620498650399,0.7230378317334811,0.7706164855349762,0.6473674383868564,0.7385269176163619,0.5654960420140686,0.6208503085275672,0.5966773534360128,0.671119445129808,0.7369936044539407,0.645730346530489,0.7426177773128292,0.7232842949454695,0.6441408821405875,0.6780288742385047,0.6835743896821738,0.746481732716781,0.6113480059404295,0.6744280152657114,0.85582223242995,0.7785560923242081,0.6961933151203255,0.7603600153198012,0.7940132301483931,0.659500866897839,0.6217393845097485,0.6431952097457326,0.640444206759614,0.6976146836491657,0.7013936798129626,0.7623257948760741,0.7707269211624609,0.8590041798283392,0.7728573538643331,0.7603024139386725,0.759305417082087,0.6350484958079895,0.4934045681570201,0.6756191367491521,0.7877205778852674,0.7703444366040033,0.7803118908382028,0.6341692789968644,0.7140585322768316],\"type\":\"scatter\"},{\"name\":\"Best Value\",\"x\":[1,2,4,5,11,12,13,14,15,16,17,18,19,20,21,22,23,24,25,27,28,29,30,31,32,33,34,35,36,38,39,40,41,42,43,44,45,47,48,49,50,51,52,53,54,55,57,58,59,60,61,62,63,64,65,66,67,68,69,70,71,72,73,74,75,76,77,78,79,80,81,82,83,84,85,86,88,89,90,91,92,93,94,95,96,98,100,101,102,103,104,105,106,107,108,109],\"y\":[0.6045867546103116,0.6869736640636968,0.7131958915654838,0.7131958915654838,0.7131958915654838,0.7131958915654838,0.7131958915654838,0.7131958915654838,0.7131958915654838,0.7411066411333622,0.7411066411333622,0.7411066411333622,0.7411066411333622,0.7762274237191191,0.7762274237191191,0.7762274237191191,0.7762274237191191,0.7762274237191191,0.7762274237191191,0.7762274237191191,0.7762274237191191,0.7762274237191191,0.7762274237191191,0.7762274237191191,0.7762274237191191,0.7762274237191191,0.7762274237191191,0.7762274237191191,0.7762274237191191,0.7762274237191191,0.7762274237191191,0.7762274237191191,0.7762274237191191,0.7762274237191191,0.7762274237191191,0.795614404616013,0.795614404616013,0.795614404616013,0.795614404616013,0.795614404616013,0.8561023473599106,0.8561023473599106,0.8561023473599106,0.8561023473599106,0.8561023473599106,0.8561023473599106,0.8561023473599106,0.8561023473599106,0.8561023473599106,0.8561023473599106,0.8561023473599106,0.8561023473599106,0.8561023473599106,0.8561023473599106,0.8561023473599106,0.8561023473599106,0.8561023473599106,0.8561023473599106,0.8561023473599106,0.8561023473599106,0.8561023473599106,0.8561023473599106,0.8561023473599106,0.8561023473599106,0.8561023473599106,0.8561023473599106,0.8561023473599106,0.8561023473599106,0.8561023473599106,0.8561023473599106,0.8561023473599106,0.8561023473599106,0.8561023473599106,0.8561023473599106,0.8561023473599106,0.8561023473599106,0.8561023473599106,0.8561023473599106,0.8561023473599106,0.8561023473599106,0.8561023473599106,0.8561023473599106,0.8561023473599106,0.8561023473599106,0.8590041798283392,0.8590041798283392,0.8590041798283392,0.8590041798283392,0.8590041798283392,0.8590041798283392,0.8590041798283392,0.8590041798283392,0.8590041798283392,0.8590041798283392,0.8590041798283392,0.8590041798283392],\"type\":\"scatter\"}],                        {\"title\":{\"text\":\"Optimization History Plot\"},\"xaxis\":{\"title\":{\"text\":\"Trial\"}},\"yaxis\":{\"title\":{\"text\":\"Objective Value\"}},\"template\":{\"data\":{\"bar\":[{\"error_x\":{\"color\":\"#2a3f5f\"},\"error_y\":{\"color\":\"#2a3f5f\"},\"marker\":{\"line\":{\"color\":\"#E5ECF6\",\"width\":0.5},\"pattern\":{\"fillmode\":\"overlay\",\"size\":10,\"solidity\":0.2}},\"type\":\"bar\"}],\"barpolar\":[{\"marker\":{\"line\":{\"color\":\"#E5ECF6\",\"width\":0.5},\"pattern\":{\"fillmode\":\"overlay\",\"size\":10,\"solidity\":0.2}},\"type\":\"barpolar\"}],\"carpet\":[{\"aaxis\":{\"endlinecolor\":\"#2a3f5f\",\"gridcolor\":\"white\",\"linecolor\":\"white\",\"minorgridcolor\":\"white\",\"startlinecolor\":\"#2a3f5f\"},\"baxis\":{\"endlinecolor\":\"#2a3f5f\",\"gridcolor\":\"white\",\"linecolor\":\"white\",\"minorgridcolor\":\"white\",\"startlinecolor\":\"#2a3f5f\"},\"type\":\"carpet\"}],\"choropleth\":[{\"colorbar\":{\"outlinewidth\":0,\"ticks\":\"\"},\"type\":\"choropleth\"}],\"contour\":[{\"colorbar\":{\"outlinewidth\":0,\"ticks\":\"\"},\"colorscale\":[[0.0,\"#0d0887\"],[0.1111111111111111,\"#46039f\"],[0.2222222222222222,\"#7201a8\"],[0.3333333333333333,\"#9c179e\"],[0.4444444444444444,\"#bd3786\"],[0.5555555555555556,\"#d8576b\"],[0.6666666666666666,\"#ed7953\"],[0.7777777777777778,\"#fb9f3a\"],[0.8888888888888888,\"#fdca26\"],[1.0,\"#f0f921\"]],\"type\":\"contour\"}],\"contourcarpet\":[{\"colorbar\":{\"outlinewidth\":0,\"ticks\":\"\"},\"type\":\"contourcarpet\"}],\"heatmap\":[{\"colorbar\":{\"outlinewidth\":0,\"ticks\":\"\"},\"colorscale\":[[0.0,\"#0d0887\"],[0.1111111111111111,\"#46039f\"],[0.2222222222222222,\"#7201a8\"],[0.3333333333333333,\"#9c179e\"],[0.4444444444444444,\"#bd3786\"],[0.5555555555555556,\"#d8576b\"],[0.6666666666666666,\"#ed7953\"],[0.7777777777777778,\"#fb9f3a\"],[0.8888888888888888,\"#fdca26\"],[1.0,\"#f0f921\"]],\"type\":\"heatmap\"}],\"heatmapgl\":[{\"colorbar\":{\"outlinewidth\":0,\"ticks\":\"\"},\"colorscale\":[[0.0,\"#0d0887\"],[0.1111111111111111,\"#46039f\"],[0.2222222222222222,\"#7201a8\"],[0.3333333333333333,\"#9c179e\"],[0.4444444444444444,\"#bd3786\"],[0.5555555555555556,\"#d8576b\"],[0.6666666666666666,\"#ed7953\"],[0.7777777777777778,\"#fb9f3a\"],[0.8888888888888888,\"#fdca26\"],[1.0,\"#f0f921\"]],\"type\":\"heatmapgl\"}],\"histogram\":[{\"marker\":{\"pattern\":{\"fillmode\":\"overlay\",\"size\":10,\"solidity\":0.2}},\"type\":\"histogram\"}],\"histogram2d\":[{\"colorbar\":{\"outlinewidth\":0,\"ticks\":\"\"},\"colorscale\":[[0.0,\"#0d0887\"],[0.1111111111111111,\"#46039f\"],[0.2222222222222222,\"#7201a8\"],[0.3333333333333333,\"#9c179e\"],[0.4444444444444444,\"#bd3786\"],[0.5555555555555556,\"#d8576b\"],[0.6666666666666666,\"#ed7953\"],[0.7777777777777778,\"#fb9f3a\"],[0.8888888888888888,\"#fdca26\"],[1.0,\"#f0f921\"]],\"type\":\"histogram2d\"}],\"histogram2dcontour\":[{\"colorbar\":{\"outlinewidth\":0,\"ticks\":\"\"},\"colorscale\":[[0.0,\"#0d0887\"],[0.1111111111111111,\"#46039f\"],[0.2222222222222222,\"#7201a8\"],[0.3333333333333333,\"#9c179e\"],[0.4444444444444444,\"#bd3786\"],[0.5555555555555556,\"#d8576b\"],[0.6666666666666666,\"#ed7953\"],[0.7777777777777778,\"#fb9f3a\"],[0.8888888888888888,\"#fdca26\"],[1.0,\"#f0f921\"]],\"type\":\"histogram2dcontour\"}],\"mesh3d\":[{\"colorbar\":{\"outlinewidth\":0,\"ticks\":\"\"},\"type\":\"mesh3d\"}],\"parcoords\":[{\"line\":{\"colorbar\":{\"outlinewidth\":0,\"ticks\":\"\"}},\"type\":\"parcoords\"}],\"pie\":[{\"automargin\":true,\"type\":\"pie\"}],\"scatter\":[{\"marker\":{\"colorbar\":{\"outlinewidth\":0,\"ticks\":\"\"}},\"type\":\"scatter\"}],\"scatter3d\":[{\"line\":{\"colorbar\":{\"outlinewidth\":0,\"ticks\":\"\"}},\"marker\":{\"colorbar\":{\"outlinewidth\":0,\"ticks\":\"\"}},\"type\":\"scatter3d\"}],\"scattercarpet\":[{\"marker\":{\"colorbar\":{\"outlinewidth\":0,\"ticks\":\"\"}},\"type\":\"scattercarpet\"}],\"scattergeo\":[{\"marker\":{\"colorbar\":{\"outlinewidth\":0,\"ticks\":\"\"}},\"type\":\"scattergeo\"}],\"scattergl\":[{\"marker\":{\"colorbar\":{\"outlinewidth\":0,\"ticks\":\"\"}},\"type\":\"scattergl\"}],\"scattermapbox\":[{\"marker\":{\"colorbar\":{\"outlinewidth\":0,\"ticks\":\"\"}},\"type\":\"scattermapbox\"}],\"scatterpolar\":[{\"marker\":{\"colorbar\":{\"outlinewidth\":0,\"ticks\":\"\"}},\"type\":\"scatterpolar\"}],\"scatterpolargl\":[{\"marker\":{\"colorbar\":{\"outlinewidth\":0,\"ticks\":\"\"}},\"type\":\"scatterpolargl\"}],\"scatterternary\":[{\"marker\":{\"colorbar\":{\"outlinewidth\":0,\"ticks\":\"\"}},\"type\":\"scatterternary\"}],\"surface\":[{\"colorbar\":{\"outlinewidth\":0,\"ticks\":\"\"},\"colorscale\":[[0.0,\"#0d0887\"],[0.1111111111111111,\"#46039f\"],[0.2222222222222222,\"#7201a8\"],[0.3333333333333333,\"#9c179e\"],[0.4444444444444444,\"#bd3786\"],[0.5555555555555556,\"#d8576b\"],[0.6666666666666666,\"#ed7953\"],[0.7777777777777778,\"#fb9f3a\"],[0.8888888888888888,\"#fdca26\"],[1.0,\"#f0f921\"]],\"type\":\"surface\"}],\"table\":[{\"cells\":{\"fill\":{\"color\":\"#EBF0F8\"},\"line\":{\"color\":\"white\"}},\"header\":{\"fill\":{\"color\":\"#C8D4E3\"},\"line\":{\"color\":\"white\"}},\"type\":\"table\"}]},\"layout\":{\"annotationdefaults\":{\"arrowcolor\":\"#2a3f5f\",\"arrowhead\":0,\"arrowwidth\":1},\"autotypenumbers\":\"strict\",\"coloraxis\":{\"colorbar\":{\"outlinewidth\":0,\"ticks\":\"\"}},\"colorscale\":{\"diverging\":[[0,\"#8e0152\"],[0.1,\"#c51b7d\"],[0.2,\"#de77ae\"],[0.3,\"#f1b6da\"],[0.4,\"#fde0ef\"],[0.5,\"#f7f7f7\"],[0.6,\"#e6f5d0\"],[0.7,\"#b8e186\"],[0.8,\"#7fbc41\"],[0.9,\"#4d9221\"],[1,\"#276419\"]],\"sequential\":[[0.0,\"#0d0887\"],[0.1111111111111111,\"#46039f\"],[0.2222222222222222,\"#7201a8\"],[0.3333333333333333,\"#9c179e\"],[0.4444444444444444,\"#bd3786\"],[0.5555555555555556,\"#d8576b\"],[0.6666666666666666,\"#ed7953\"],[0.7777777777777778,\"#fb9f3a\"],[0.8888888888888888,\"#fdca26\"],[1.0,\"#f0f921\"]],\"sequentialminus\":[[0.0,\"#0d0887\"],[0.1111111111111111,\"#46039f\"],[0.2222222222222222,\"#7201a8\"],[0.3333333333333333,\"#9c179e\"],[0.4444444444444444,\"#bd3786\"],[0.5555555555555556,\"#d8576b\"],[0.6666666666666666,\"#ed7953\"],[0.7777777777777778,\"#fb9f3a\"],[0.8888888888888888,\"#fdca26\"],[1.0,\"#f0f921\"]]},\"colorway\":[\"#636efa\",\"#EF553B\",\"#00cc96\",\"#ab63fa\",\"#FFA15A\",\"#19d3f3\",\"#FF6692\",\"#B6E880\",\"#FF97FF\",\"#FECB52\"],\"font\":{\"color\":\"#2a3f5f\"},\"geo\":{\"bgcolor\":\"white\",\"lakecolor\":\"white\",\"landcolor\":\"#E5ECF6\",\"showlakes\":true,\"showland\":true,\"subunitcolor\":\"white\"},\"hoverlabel\":{\"align\":\"left\"},\"hovermode\":\"closest\",\"mapbox\":{\"style\":\"light\"},\"paper_bgcolor\":\"white\",\"plot_bgcolor\":\"#E5ECF6\",\"polar\":{\"angularaxis\":{\"gridcolor\":\"white\",\"linecolor\":\"white\",\"ticks\":\"\"},\"bgcolor\":\"#E5ECF6\",\"radialaxis\":{\"gridcolor\":\"white\",\"linecolor\":\"white\",\"ticks\":\"\"}},\"scene\":{\"xaxis\":{\"backgroundcolor\":\"#E5ECF6\",\"gridcolor\":\"white\",\"gridwidth\":2,\"linecolor\":\"white\",\"showbackground\":true,\"ticks\":\"\",\"zerolinecolor\":\"white\"},\"yaxis\":{\"backgroundcolor\":\"#E5ECF6\",\"gridcolor\":\"white\",\"gridwidth\":2,\"linecolor\":\"white\",\"showbackground\":true,\"ticks\":\"\",\"zerolinecolor\":\"white\"},\"zaxis\":{\"backgroundcolor\":\"#E5ECF6\",\"gridcolor\":\"white\",\"gridwidth\":2,\"linecolor\":\"white\",\"showbackground\":true,\"ticks\":\"\",\"zerolinecolor\":\"white\"}},\"shapedefaults\":{\"line\":{\"color\":\"#2a3f5f\"}},\"ternary\":{\"aaxis\":{\"gridcolor\":\"white\",\"linecolor\":\"white\",\"ticks\":\"\"},\"baxis\":{\"gridcolor\":\"white\",\"linecolor\":\"white\",\"ticks\":\"\"},\"bgcolor\":\"#E5ECF6\",\"caxis\":{\"gridcolor\":\"white\",\"linecolor\":\"white\",\"ticks\":\"\"}},\"title\":{\"x\":0.05},\"xaxis\":{\"automargin\":true,\"gridcolor\":\"white\",\"linecolor\":\"white\",\"ticks\":\"\",\"title\":{\"standoff\":15},\"zerolinecolor\":\"white\",\"zerolinewidth\":2},\"yaxis\":{\"automargin\":true,\"gridcolor\":\"white\",\"linecolor\":\"white\",\"ticks\":\"\",\"title\":{\"standoff\":15},\"zerolinecolor\":\"white\",\"zerolinewidth\":2}}}},                        {\"responsive\": true}                    ).then(function(){\n",
              "                            \n",
              "var gd = document.getElementById('9173dbfe-b55c-4d34-a431-4dd96a4d1abf');\n",
              "var x = new MutationObserver(function (mutations, observer) {{\n",
              "        var display = window.getComputedStyle(gd).display;\n",
              "        if (!display || display === 'none') {{\n",
              "            console.log([gd, 'removed!']);\n",
              "            Plotly.purge(gd);\n",
              "            observer.disconnect();\n",
              "        }}\n",
              "}});\n",
              "\n",
              "// Listen for the removal of the full notebook cells\n",
              "var notebookContainer = gd.closest('#notebook-container');\n",
              "if (notebookContainer) {{\n",
              "    x.observe(notebookContainer, {childList: true});\n",
              "}}\n",
              "\n",
              "// Listen for the clearing of the current output cell\n",
              "var outputEl = gd.closest('.output');\n",
              "if (outputEl) {{\n",
              "    x.observe(outputEl, {childList: true});\n",
              "}}\n",
              "\n",
              "                        })                };                            </script>        </div>\n",
              "</body>\n",
              "</html>"
            ]
          },
          "metadata": {}
        }
      ],
      "source": [
        "optuna.visualization.plot_optimization_history(study)"
      ]
    },
    {
      "cell_type": "code",
      "execution_count": 125,
      "metadata": {
        "colab": {
          "base_uri": "https://localhost:8080/",
          "height": 542
        },
        "id": "7CxMNDlDI5w3",
        "outputId": "cd87f2a9-3279-4a9a-e512-a18a52540c3c"
      },
      "outputs": [
        {
          "output_type": "display_data",
          "data": {
            "text/html": [
              "<html>\n",
              "<head><meta charset=\"utf-8\" /></head>\n",
              "<body>\n",
              "    <div>            <script src=\"https://cdnjs.cloudflare.com/ajax/libs/mathjax/2.7.5/MathJax.js?config=TeX-AMS-MML_SVG\"></script><script type=\"text/javascript\">if (window.MathJax) {MathJax.Hub.Config({SVG: {font: \"STIX-Web\"}});}</script>                <script type=\"text/javascript\">window.PlotlyConfig = {MathJaxConfig: 'local'};</script>\n",
              "        <script src=\"https://cdn.plot.ly/plotly-2.8.3.min.js\"></script>                <div id=\"4c906ec2-27bd-4ef6-b7d1-cd1485afc791\" class=\"plotly-graph-div\" style=\"height:525px; width:100%;\"></div>            <script type=\"text/javascript\">                                    window.PLOTLYENV=window.PLOTLYENV || {};                                    if (document.getElementById(\"4c906ec2-27bd-4ef6-b7d1-cd1485afc791\")) {                    Plotly.newPlot(                        \"4c906ec2-27bd-4ef6-b7d1-cd1485afc791\",                        [{\"marker\":{\"color\":[1,2,4,5,11,12,13,14,15,16,17,18,19,20,21,22,23,24,25,27,28,29,30,31,32,33,34,35,36,38,39,40,41,42,43,44,45,47,48,49,50,51,52,53,54,55,57,58,59,60,61,62,63,64,65,66,67,68,69,70,71,72,73,74,75,76,77,78,79,80,81,82,83,84,85,86,88,89,90,91,92,93,94,95,96,98,100,101,102,103,104,105,106,107,108,109],\"colorbar\":{\"title\":{\"text\":\"Trial\"},\"x\":1.0,\"xpad\":40},\"colorscale\":[[0.0,\"rgb(247,251,255)\"],[0.125,\"rgb(222,235,247)\"],[0.25,\"rgb(198,219,239)\"],[0.375,\"rgb(158,202,225)\"],[0.5,\"rgb(107,174,214)\"],[0.625,\"rgb(66,146,198)\"],[0.75,\"rgb(33,113,181)\"],[0.875,\"rgb(8,81,156)\"],[1.0,\"rgb(8,48,107)\"]],\"line\":{\"color\":\"Grey\",\"width\":0.5}},\"mode\":\"markers\",\"showlegend\":false,\"x\":[0.006252655488731555,0.008190457338124586,0.007154603436117007,0.007782231575807794,0.00949614672807259,0.007802548579361315,0.009810323166536693,0.00763195092318385,0.006779330171396156,0.008894821583893741,0.008947847458987484,0.008909549555271486,0.006629991845037763,0.006304065658914367,0.006177903303109669,0.008517931858377207,0.006887139011573029,0.009963447042286883,0.008501984439690993,0.007241010190107531,0.009289646592360591,0.004789353632867144,0.004684461645075697,0.004572369926292859,0.005791644914298372,0.0054973363827889735,0.006604546816665384,0.006265807565210823,0.004719274399736226,0.008134430027277572,0.007101577302070467,0.004131419381542397,0.005601725159766012,0.005675301958256155,0.005036846014038469,0.005153852426023613,0.005123273803074471,0.005067558141360924,0.00533700800393369,0.005860435352029863,0.00518268486444649,0.00539052490046808,0.005058192927076826,0.005005743397726146,0.004085855322247556,0.003602994156884182,0.004388845793232885,0.0031072969493445533,0.005148694943831858,0.00618896499630122,0.005977288369708901,0.00613008743490491,0.006342601142170954,0.00648877116379364,0.005906448656406162,0.0058930841906473085,0.0063974798728708565,0.00685098573061333,0.005827361191389931,0.006132511969965391,0.005613659997818302,0.006750449132467806,0.006346185660567776,0.005973698963538229,0.005440568049508311,0.006557445758400676,0.005992904224531943,0.007115741413556053,0.005674642410320518,0.006369391546573484,0.004869229239863979,0.00538178853378,0.0053092976210672655,0.00532148665515421,0.005515948407254703,0.006096150617745451,0.006645306538102756,0.005314954157690018,0.005643729261293715,0.005931081654190201,0.006986808805702549,0.006293855807602612,0.004850121343904548,0.005701286583962079,0.00531846441810562,0.0052414458645612914,0.0065401081487892416,0.005365036458001833,0.005271018513610933,0.0048648186461599865,0.005201871946211802,0.006112244003100115,0.006276856066712461,0.006102945453483645,0.005720836100744453,0.006792807524171543],\"y\":[0.6045867546103116,0.6869736640636968,0.7131958915654838,0.5337323376101555,0.6771793577311809,0.6606744778371627,0.5849174743306785,0.6464695679495917,0.6796266233766234,0.7411066411333622,0.591686856953203,0.6282105752052421,0.7152878876670262,0.7762274237191191,0.6819282816201134,0.554317380680338,0.5855830254807239,0.6097419510166561,0.6714678558156821,0.5514527577922884,0.6615901109706426,0.7161139907850439,0.6782173837892314,0.642824821559133,0.6889402684857229,0.7044185113233182,0.6174871446581139,0.5333728406744797,0.6708799427946779,0.6075473667727957,0.5456656082488305,0.6395760671819563,0.7501721894849619,0.6859489330728261,0.7577369415161884,0.795614404616013,0.7557017123506485,0.5990986195393735,0.6753976632186861,0.5180578854716791,0.8561023473599106,0.747625690783343,0.7585698333210693,0.7412297595094377,0.7192096004124475,0.6615830263965626,0.7382920110192837,0.5239035859014102,0.7098448413098802,0.7871179457698562,0.7750694644054799,0.6972261683240311,0.7845620498650399,0.7230378317334811,0.7706164855349762,0.6473674383868564,0.7385269176163619,0.5654960420140686,0.6208503085275672,0.5966773534360128,0.671119445129808,0.7369936044539407,0.645730346530489,0.7426177773128292,0.7232842949454695,0.6441408821405875,0.6780288742385047,0.6835743896821738,0.746481732716781,0.6113480059404295,0.6744280152657114,0.85582223242995,0.7785560923242081,0.6961933151203255,0.7603600153198012,0.7940132301483931,0.659500866897839,0.6217393845097485,0.6431952097457326,0.640444206759614,0.6976146836491657,0.7013936798129626,0.7623257948760741,0.7707269211624609,0.8590041798283392,0.7728573538643331,0.7603024139386725,0.759305417082087,0.6350484958079895,0.4934045681570201,0.6756191367491521,0.7877205778852674,0.7703444366040033,0.7803118908382028,0.6341692789968644,0.7140585322768316],\"type\":\"scatter\"}],                        {\"title\":{\"text\":\"Slice Plot\"},\"template\":{\"data\":{\"bar\":[{\"error_x\":{\"color\":\"#2a3f5f\"},\"error_y\":{\"color\":\"#2a3f5f\"},\"marker\":{\"line\":{\"color\":\"#E5ECF6\",\"width\":0.5},\"pattern\":{\"fillmode\":\"overlay\",\"size\":10,\"solidity\":0.2}},\"type\":\"bar\"}],\"barpolar\":[{\"marker\":{\"line\":{\"color\":\"#E5ECF6\",\"width\":0.5},\"pattern\":{\"fillmode\":\"overlay\",\"size\":10,\"solidity\":0.2}},\"type\":\"barpolar\"}],\"carpet\":[{\"aaxis\":{\"endlinecolor\":\"#2a3f5f\",\"gridcolor\":\"white\",\"linecolor\":\"white\",\"minorgridcolor\":\"white\",\"startlinecolor\":\"#2a3f5f\"},\"baxis\":{\"endlinecolor\":\"#2a3f5f\",\"gridcolor\":\"white\",\"linecolor\":\"white\",\"minorgridcolor\":\"white\",\"startlinecolor\":\"#2a3f5f\"},\"type\":\"carpet\"}],\"choropleth\":[{\"colorbar\":{\"outlinewidth\":0,\"ticks\":\"\"},\"type\":\"choropleth\"}],\"contour\":[{\"colorbar\":{\"outlinewidth\":0,\"ticks\":\"\"},\"colorscale\":[[0.0,\"#0d0887\"],[0.1111111111111111,\"#46039f\"],[0.2222222222222222,\"#7201a8\"],[0.3333333333333333,\"#9c179e\"],[0.4444444444444444,\"#bd3786\"],[0.5555555555555556,\"#d8576b\"],[0.6666666666666666,\"#ed7953\"],[0.7777777777777778,\"#fb9f3a\"],[0.8888888888888888,\"#fdca26\"],[1.0,\"#f0f921\"]],\"type\":\"contour\"}],\"contourcarpet\":[{\"colorbar\":{\"outlinewidth\":0,\"ticks\":\"\"},\"type\":\"contourcarpet\"}],\"heatmap\":[{\"colorbar\":{\"outlinewidth\":0,\"ticks\":\"\"},\"colorscale\":[[0.0,\"#0d0887\"],[0.1111111111111111,\"#46039f\"],[0.2222222222222222,\"#7201a8\"],[0.3333333333333333,\"#9c179e\"],[0.4444444444444444,\"#bd3786\"],[0.5555555555555556,\"#d8576b\"],[0.6666666666666666,\"#ed7953\"],[0.7777777777777778,\"#fb9f3a\"],[0.8888888888888888,\"#fdca26\"],[1.0,\"#f0f921\"]],\"type\":\"heatmap\"}],\"heatmapgl\":[{\"colorbar\":{\"outlinewidth\":0,\"ticks\":\"\"},\"colorscale\":[[0.0,\"#0d0887\"],[0.1111111111111111,\"#46039f\"],[0.2222222222222222,\"#7201a8\"],[0.3333333333333333,\"#9c179e\"],[0.4444444444444444,\"#bd3786\"],[0.5555555555555556,\"#d8576b\"],[0.6666666666666666,\"#ed7953\"],[0.7777777777777778,\"#fb9f3a\"],[0.8888888888888888,\"#fdca26\"],[1.0,\"#f0f921\"]],\"type\":\"heatmapgl\"}],\"histogram\":[{\"marker\":{\"pattern\":{\"fillmode\":\"overlay\",\"size\":10,\"solidity\":0.2}},\"type\":\"histogram\"}],\"histogram2d\":[{\"colorbar\":{\"outlinewidth\":0,\"ticks\":\"\"},\"colorscale\":[[0.0,\"#0d0887\"],[0.1111111111111111,\"#46039f\"],[0.2222222222222222,\"#7201a8\"],[0.3333333333333333,\"#9c179e\"],[0.4444444444444444,\"#bd3786\"],[0.5555555555555556,\"#d8576b\"],[0.6666666666666666,\"#ed7953\"],[0.7777777777777778,\"#fb9f3a\"],[0.8888888888888888,\"#fdca26\"],[1.0,\"#f0f921\"]],\"type\":\"histogram2d\"}],\"histogram2dcontour\":[{\"colorbar\":{\"outlinewidth\":0,\"ticks\":\"\"},\"colorscale\":[[0.0,\"#0d0887\"],[0.1111111111111111,\"#46039f\"],[0.2222222222222222,\"#7201a8\"],[0.3333333333333333,\"#9c179e\"],[0.4444444444444444,\"#bd3786\"],[0.5555555555555556,\"#d8576b\"],[0.6666666666666666,\"#ed7953\"],[0.7777777777777778,\"#fb9f3a\"],[0.8888888888888888,\"#fdca26\"],[1.0,\"#f0f921\"]],\"type\":\"histogram2dcontour\"}],\"mesh3d\":[{\"colorbar\":{\"outlinewidth\":0,\"ticks\":\"\"},\"type\":\"mesh3d\"}],\"parcoords\":[{\"line\":{\"colorbar\":{\"outlinewidth\":0,\"ticks\":\"\"}},\"type\":\"parcoords\"}],\"pie\":[{\"automargin\":true,\"type\":\"pie\"}],\"scatter\":[{\"marker\":{\"colorbar\":{\"outlinewidth\":0,\"ticks\":\"\"}},\"type\":\"scatter\"}],\"scatter3d\":[{\"line\":{\"colorbar\":{\"outlinewidth\":0,\"ticks\":\"\"}},\"marker\":{\"colorbar\":{\"outlinewidth\":0,\"ticks\":\"\"}},\"type\":\"scatter3d\"}],\"scattercarpet\":[{\"marker\":{\"colorbar\":{\"outlinewidth\":0,\"ticks\":\"\"}},\"type\":\"scattercarpet\"}],\"scattergeo\":[{\"marker\":{\"colorbar\":{\"outlinewidth\":0,\"ticks\":\"\"}},\"type\":\"scattergeo\"}],\"scattergl\":[{\"marker\":{\"colorbar\":{\"outlinewidth\":0,\"ticks\":\"\"}},\"type\":\"scattergl\"}],\"scattermapbox\":[{\"marker\":{\"colorbar\":{\"outlinewidth\":0,\"ticks\":\"\"}},\"type\":\"scattermapbox\"}],\"scatterpolar\":[{\"marker\":{\"colorbar\":{\"outlinewidth\":0,\"ticks\":\"\"}},\"type\":\"scatterpolar\"}],\"scatterpolargl\":[{\"marker\":{\"colorbar\":{\"outlinewidth\":0,\"ticks\":\"\"}},\"type\":\"scatterpolargl\"}],\"scatterternary\":[{\"marker\":{\"colorbar\":{\"outlinewidth\":0,\"ticks\":\"\"}},\"type\":\"scatterternary\"}],\"surface\":[{\"colorbar\":{\"outlinewidth\":0,\"ticks\":\"\"},\"colorscale\":[[0.0,\"#0d0887\"],[0.1111111111111111,\"#46039f\"],[0.2222222222222222,\"#7201a8\"],[0.3333333333333333,\"#9c179e\"],[0.4444444444444444,\"#bd3786\"],[0.5555555555555556,\"#d8576b\"],[0.6666666666666666,\"#ed7953\"],[0.7777777777777778,\"#fb9f3a\"],[0.8888888888888888,\"#fdca26\"],[1.0,\"#f0f921\"]],\"type\":\"surface\"}],\"table\":[{\"cells\":{\"fill\":{\"color\":\"#EBF0F8\"},\"line\":{\"color\":\"white\"}},\"header\":{\"fill\":{\"color\":\"#C8D4E3\"},\"line\":{\"color\":\"white\"}},\"type\":\"table\"}]},\"layout\":{\"annotationdefaults\":{\"arrowcolor\":\"#2a3f5f\",\"arrowhead\":0,\"arrowwidth\":1},\"autotypenumbers\":\"strict\",\"coloraxis\":{\"colorbar\":{\"outlinewidth\":0,\"ticks\":\"\"}},\"colorscale\":{\"diverging\":[[0,\"#8e0152\"],[0.1,\"#c51b7d\"],[0.2,\"#de77ae\"],[0.3,\"#f1b6da\"],[0.4,\"#fde0ef\"],[0.5,\"#f7f7f7\"],[0.6,\"#e6f5d0\"],[0.7,\"#b8e186\"],[0.8,\"#7fbc41\"],[0.9,\"#4d9221\"],[1,\"#276419\"]],\"sequential\":[[0.0,\"#0d0887\"],[0.1111111111111111,\"#46039f\"],[0.2222222222222222,\"#7201a8\"],[0.3333333333333333,\"#9c179e\"],[0.4444444444444444,\"#bd3786\"],[0.5555555555555556,\"#d8576b\"],[0.6666666666666666,\"#ed7953\"],[0.7777777777777778,\"#fb9f3a\"],[0.8888888888888888,\"#fdca26\"],[1.0,\"#f0f921\"]],\"sequentialminus\":[[0.0,\"#0d0887\"],[0.1111111111111111,\"#46039f\"],[0.2222222222222222,\"#7201a8\"],[0.3333333333333333,\"#9c179e\"],[0.4444444444444444,\"#bd3786\"],[0.5555555555555556,\"#d8576b\"],[0.6666666666666666,\"#ed7953\"],[0.7777777777777778,\"#fb9f3a\"],[0.8888888888888888,\"#fdca26\"],[1.0,\"#f0f921\"]]},\"colorway\":[\"#636efa\",\"#EF553B\",\"#00cc96\",\"#ab63fa\",\"#FFA15A\",\"#19d3f3\",\"#FF6692\",\"#B6E880\",\"#FF97FF\",\"#FECB52\"],\"font\":{\"color\":\"#2a3f5f\"},\"geo\":{\"bgcolor\":\"white\",\"lakecolor\":\"white\",\"landcolor\":\"#E5ECF6\",\"showlakes\":true,\"showland\":true,\"subunitcolor\":\"white\"},\"hoverlabel\":{\"align\":\"left\"},\"hovermode\":\"closest\",\"mapbox\":{\"style\":\"light\"},\"paper_bgcolor\":\"white\",\"plot_bgcolor\":\"#E5ECF6\",\"polar\":{\"angularaxis\":{\"gridcolor\":\"white\",\"linecolor\":\"white\",\"ticks\":\"\"},\"bgcolor\":\"#E5ECF6\",\"radialaxis\":{\"gridcolor\":\"white\",\"linecolor\":\"white\",\"ticks\":\"\"}},\"scene\":{\"xaxis\":{\"backgroundcolor\":\"#E5ECF6\",\"gridcolor\":\"white\",\"gridwidth\":2,\"linecolor\":\"white\",\"showbackground\":true,\"ticks\":\"\",\"zerolinecolor\":\"white\"},\"yaxis\":{\"backgroundcolor\":\"#E5ECF6\",\"gridcolor\":\"white\",\"gridwidth\":2,\"linecolor\":\"white\",\"showbackground\":true,\"ticks\":\"\",\"zerolinecolor\":\"white\"},\"zaxis\":{\"backgroundcolor\":\"#E5ECF6\",\"gridcolor\":\"white\",\"gridwidth\":2,\"linecolor\":\"white\",\"showbackground\":true,\"ticks\":\"\",\"zerolinecolor\":\"white\"}},\"shapedefaults\":{\"line\":{\"color\":\"#2a3f5f\"}},\"ternary\":{\"aaxis\":{\"gridcolor\":\"white\",\"linecolor\":\"white\",\"ticks\":\"\"},\"baxis\":{\"gridcolor\":\"white\",\"linecolor\":\"white\",\"ticks\":\"\"},\"bgcolor\":\"#E5ECF6\",\"caxis\":{\"gridcolor\":\"white\",\"linecolor\":\"white\",\"ticks\":\"\"}},\"title\":{\"x\":0.05},\"xaxis\":{\"automargin\":true,\"gridcolor\":\"white\",\"linecolor\":\"white\",\"ticks\":\"\",\"title\":{\"standoff\":15},\"zerolinecolor\":\"white\",\"zerolinewidth\":2},\"yaxis\":{\"automargin\":true,\"gridcolor\":\"white\",\"linecolor\":\"white\",\"ticks\":\"\",\"title\":{\"standoff\":15},\"zerolinecolor\":\"white\",\"zerolinewidth\":2}}},\"xaxis\":{\"title\":{\"text\":\"lr\"}},\"yaxis\":{\"title\":{\"text\":\"Objective Value\"}}},                        {\"responsive\": true}                    ).then(function(){\n",
              "                            \n",
              "var gd = document.getElementById('4c906ec2-27bd-4ef6-b7d1-cd1485afc791');\n",
              "var x = new MutationObserver(function (mutations, observer) {{\n",
              "        var display = window.getComputedStyle(gd).display;\n",
              "        if (!display || display === 'none') {{\n",
              "            console.log([gd, 'removed!']);\n",
              "            Plotly.purge(gd);\n",
              "            observer.disconnect();\n",
              "        }}\n",
              "}});\n",
              "\n",
              "// Listen for the removal of the full notebook cells\n",
              "var notebookContainer = gd.closest('#notebook-container');\n",
              "if (notebookContainer) {{\n",
              "    x.observe(notebookContainer, {childList: true});\n",
              "}}\n",
              "\n",
              "// Listen for the clearing of the current output cell\n",
              "var outputEl = gd.closest('.output');\n",
              "if (outputEl) {{\n",
              "    x.observe(outputEl, {childList: true});\n",
              "}}\n",
              "\n",
              "                        })                };                            </script>        </div>\n",
              "</body>\n",
              "</html>"
            ]
          },
          "metadata": {}
        }
      ],
      "source": [
        "optuna.visualization.plot_slice(study,params=['lr'])"
      ]
    },
    {
      "cell_type": "code",
      "execution_count": 126,
      "metadata": {
        "colab": {
          "base_uri": "https://localhost:8080/",
          "height": 542
        },
        "id": "D0tsHeBYpsqP",
        "outputId": "5d1f1aa6-dfa9-4696-dac3-d87cc3b6ed15"
      },
      "outputs": [
        {
          "output_type": "display_data",
          "data": {
            "text/html": [
              "<html>\n",
              "<head><meta charset=\"utf-8\" /></head>\n",
              "<body>\n",
              "    <div>            <script src=\"https://cdnjs.cloudflare.com/ajax/libs/mathjax/2.7.5/MathJax.js?config=TeX-AMS-MML_SVG\"></script><script type=\"text/javascript\">if (window.MathJax) {MathJax.Hub.Config({SVG: {font: \"STIX-Web\"}});}</script>                <script type=\"text/javascript\">window.PlotlyConfig = {MathJaxConfig: 'local'};</script>\n",
              "        <script src=\"https://cdn.plot.ly/plotly-2.8.3.min.js\"></script>                <div id=\"511f5bc1-2adc-4e5f-81ff-47e1f4ba5c35\" class=\"plotly-graph-div\" style=\"height:525px; width:100%;\"></div>            <script type=\"text/javascript\">                                    window.PLOTLYENV=window.PLOTLYENV || {};                                    if (document.getElementById(\"511f5bc1-2adc-4e5f-81ff-47e1f4ba5c35\")) {                    Plotly.newPlot(                        \"511f5bc1-2adc-4e5f-81ff-47e1f4ba5c35\",                        [{\"marker\":{\"maxdisplayed\":10},\"mode\":\"lines+markers\",\"name\":\"Trial0\",\"x\":[0,1,2,3],\"y\":[0.09262140825080241,0.13599718084784096,0.15857759264426624,0.2076437282274094],\"type\":\"scatter\"},{\"marker\":{\"maxdisplayed\":10},\"mode\":\"lines+markers\",\"name\":\"Trial1\",\"x\":[0,1,2,3,4,5,6,7,8,9],\"y\":[0.17322430116211246,0.40778929420738563,0.5026786916139451,0.5335823574280966,0.56662291919056,0.5903733117961149,0.5956129133575631,0.6041201148651686,0.607661416969534,0.6045867546103116],\"type\":\"scatter\"},{\"marker\":{\"maxdisplayed\":10},\"mode\":\"lines+markers\",\"name\":\"Trial2\",\"x\":[0,1,2,3,4,5,6,7,8,9],\"y\":[0.26584749655489215,0.48214285714285654,0.5544135660695146,0.5880033685499929,0.6033149594242847,0.6111430102587654,0.6232200275608637,0.6253636502832645,0.6553935078854686,0.6869736640636968],\"type\":\"scatter\"},{\"marker\":{\"maxdisplayed\":10},\"mode\":\"lines+markers\",\"name\":\"Trial3\",\"x\":[0,1,2,3],\"y\":[0.1212539336132735,0.1698565875235043,0.2230431796260753,0.25449990744439355],\"type\":\"scatter\"},{\"marker\":{\"maxdisplayed\":10},\"mode\":\"lines+markers\",\"name\":\"Trial4\",\"x\":[0,1,2,3,4,5,6,7,8,9],\"y\":[0.3713715465903513,0.639826005884187,0.6814632670513303,0.697646016442382,0.7050342832621737,0.7108530218974495,0.7128945816701094,0.7127467051948168,0.7139192205458774,0.7131958915654838],\"type\":\"scatter\"},{\"marker\":{\"maxdisplayed\":10},\"mode\":\"lines+markers\",\"name\":\"Trial5\",\"x\":[0,1,2,3,4,5,6,7,8,9],\"y\":[0.09599930986404792,0.18516479715987288,0.29807958790800987,0.3191218952625432,0.35145639669760625,0.40915658081157796,0.44625970406535176,0.4901777644102797,0.5134996965111606,0.5337323376101555],\"type\":\"scatter\"},{\"marker\":{\"maxdisplayed\":10},\"mode\":\"lines+markers\",\"name\":\"Trial6\",\"x\":[0,1,2,3],\"y\":[0.0013030177134871776,0.0,0.0,0.0],\"type\":\"scatter\"},{\"marker\":{\"maxdisplayed\":10},\"mode\":\"lines+markers\",\"name\":\"Trial7\",\"x\":[0,1,2,3],\"y\":[0.002664248058500085,0.0,0.0,0.0],\"type\":\"scatter\"},{\"marker\":{\"maxdisplayed\":10},\"mode\":\"lines+markers\",\"name\":\"Trial8\",\"x\":[0,1,2,3],\"y\":[0.0007077953132472501,0.0,0.0,0.0],\"type\":\"scatter\"},{\"marker\":{\"maxdisplayed\":10},\"mode\":\"lines+markers\",\"name\":\"Trial9\",\"x\":[0,1,2,3],\"y\":[0.0006517905068629706,0.0,0.0,0.0],\"type\":\"scatter\"},{\"marker\":{\"maxdisplayed\":10},\"mode\":\"lines+markers\",\"name\":\"Trial10\",\"x\":[0,1,2,3],\"y\":[0.09009344012204423,0.18413424866514116,0.23115226926010674,0.2446510297482838],\"type\":\"scatter\"},{\"marker\":{\"maxdisplayed\":10},\"mode\":\"lines+markers\",\"name\":\"Trial11\",\"x\":[0,1,2,3,4,5,6,7,8,9],\"y\":[0.37410935125736183,0.5952693263986868,0.6285332534613006,0.6439787236057241,0.6456285761132448,0.6585612668156122,0.6676497837325182,0.6655003157171312,0.6785162341400099,0.6771793577311809],\"type\":\"scatter\"},{\"marker\":{\"maxdisplayed\":10},\"mode\":\"lines+markers\",\"name\":\"Trial12\",\"x\":[0,1,2,3,4,5,6,7,8,9],\"y\":[0.14885639295088116,0.3578931164677862,0.4665603240272931,0.5469189232701845,0.5925346902258685,0.6204902353307535,0.6404842050110972,0.653975809520985,0.6593903869360964,0.6606744778371627],\"type\":\"scatter\"},{\"marker\":{\"maxdisplayed\":10},\"mode\":\"lines+markers\",\"name\":\"Trial13\",\"x\":[0,1,2,3,4,5,6,7,8,9],\"y\":[0.14420820138822252,0.3853356683619613,0.5213210184563223,0.556680612865048,0.5644596807727987,0.5743189073345489,0.5780071010459651,0.5866994210408469,0.5883666954546904,0.5849174743306785],\"type\":\"scatter\"},{\"marker\":{\"maxdisplayed\":10},\"mode\":\"lines+markers\",\"name\":\"Trial14\",\"x\":[0,1,2,3,4,5,6,7,8,9],\"y\":[0.28777920018342656,0.5542870669358619,0.6350754618041622,0.6051041009865551,0.6279634335598565,0.6656996431247914,0.654361796307265,0.6431035617462046,0.6413075092403291,0.6464695679495917],\"type\":\"scatter\"},{\"marker\":{\"maxdisplayed\":10},\"mode\":\"lines+markers\",\"name\":\"Trial15\",\"x\":[0,1,2,3,4,5,6,7,8,9],\"y\":[0.10102797937356764,0.22041141456582633,0.3617597720906544,0.50541205118411,0.5645670995670995,0.6089062897886426,0.6470537305831423,0.6591849694423223,0.6463671377641967,0.6796266233766234],\"type\":\"scatter\"},{\"marker\":{\"maxdisplayed\":10},\"mode\":\"lines+markers\",\"name\":\"Trial16\",\"x\":[0,1,2,3,4,5,6,7,8,9],\"y\":[0.30772827813488124,0.6032824646566616,0.6663264700206344,0.6922377022005158,0.7027083364260303,0.7175229725516971,0.7272934202257422,0.7399091489393284,0.7430445249370331,0.7411066411333622],\"type\":\"scatter\"},{\"marker\":{\"maxdisplayed\":10},\"mode\":\"lines+markers\",\"name\":\"Trial17\",\"x\":[0,1,2,3,4,5,6,7,8,9],\"y\":[0.18575921008961155,0.3990482907401259,0.46954198473282455,0.5052248589445734,0.5206936608031864,0.5474626617988715,0.5748680716893461,0.5877812811151674,0.5877763026883506,0.591686856953203],\"type\":\"scatter\"},{\"marker\":{\"maxdisplayed\":10},\"mode\":\"lines+markers\",\"name\":\"Trial18\",\"x\":[0,1,2,3,4,5,6,7,8,9],\"y\":[0.16961389971578836,0.4498671304127535,0.5354822493092629,0.5763023726523511,0.6025332305914081,0.6205194448769333,0.6207252805830956,0.6257504426787142,0.6275693178129694,0.6282105752052421],\"type\":\"scatter\"},{\"marker\":{\"maxdisplayed\":10},\"mode\":\"lines+markers\",\"name\":\"Trial19\",\"x\":[0,1,2,3,4,5,6,7,8,9],\"y\":[0.17896351036623967,0.4767156307143613,0.6409972030938922,0.6905309028180077,0.6987688183869291,0.703944801823782,0.6897160947197974,0.7082015899322572,0.7108878119932804,0.7152878876670262],\"type\":\"scatter\"},{\"marker\":{\"maxdisplayed\":10},\"mode\":\"lines+markers\",\"name\":\"Trial20\",\"x\":[0,1,2,3,4,5,6,7,8,9],\"y\":[0.1786782013771257,0.46472990958488253,0.6205284114657806,0.6845720681083218,0.7189907494995269,0.7465227027740503,0.7363633763776758,0.7607185911960752,0.7608075763908748,0.7762274237191191],\"type\":\"scatter\"},{\"marker\":{\"maxdisplayed\":10},\"mode\":\"lines+markers\",\"name\":\"Trial21\",\"x\":[0,1,2,3,4,5,6,7,8,9],\"y\":[0.1374044106725455,0.3455836206290016,0.5406247801308662,0.6139992338782181,0.642973803325594,0.6513218727768788,0.6632108320238904,0.6798456811838925,0.6777804357513078,0.6819282816201134],\"type\":\"scatter\"},{\"marker\":{\"maxdisplayed\":10},\"mode\":\"lines+markers\",\"name\":\"Trial22\",\"x\":[0,1,2,3,4,5,6,7,8,9],\"y\":[0.1474270066503076,0.3700089637356255,0.45733243604789525,0.4793285435555788,0.48750533067187296,0.48742584552890766,0.4989373611479661,0.5376727662015188,0.5415915509268759,0.554317380680338],\"type\":\"scatter\"},{\"marker\":{\"maxdisplayed\":10},\"mode\":\"lines+markers\",\"name\":\"Trial23\",\"x\":[0,1,2,3,4,5,6,7,8,9],\"y\":[0.12221511793123052,0.232665529980108,0.31981386757601576,0.3816851378232448,0.44654731457800473,0.5033034953111684,0.5515439992422093,0.573889362508289,0.5865776262195703,0.5855830254807239],\"type\":\"scatter\"},{\"marker\":{\"maxdisplayed\":10},\"mode\":\"lines+markers\",\"name\":\"Trial24\",\"x\":[0,1,2,3,4,5,6,7,8,9],\"y\":[0.21519676508568794,0.4713388342927181,0.5553499664117098,0.5755923829502809,0.5842068533580714,0.5972235784745359,0.5997641664295563,0.6044370636258181,0.6039195598334557,0.6097419510166561],\"type\":\"scatter\"},{\"marker\":{\"maxdisplayed\":10},\"mode\":\"lines+markers\",\"name\":\"Trial25\",\"x\":[0,1,2,3,4,5,6,7,8,9],\"y\":[0.1370477724100912,0.38776704240472365,0.559764234691771,0.6136962715223586,0.634356084066229,0.6509397580412073,0.6593463809405837,0.6686262851480244,0.6714918039555717,0.6714678558156821],\"type\":\"scatter\"},{\"marker\":{\"maxdisplayed\":10},\"mode\":\"lines+markers\",\"name\":\"Trial26\",\"x\":[0,1,2,3],\"y\":[0.11408611206273077,0.191797752274371,0.22511336169159912,0.25831923746716906],\"type\":\"scatter\"},{\"marker\":{\"maxdisplayed\":10},\"mode\":\"lines+markers\",\"name\":\"Trial27\",\"x\":[0,1,2,3,4,5,6,7,8,9],\"y\":[0.1147432878002826,0.2502505497933722,0.3183848030236327,0.35934402441564905,0.4062428614089695,0.44587672929641864,0.47443406943559346,0.507927081441254,0.5372749131054524,0.5514527577922884],\"type\":\"scatter\"},{\"marker\":{\"maxdisplayed\":10},\"mode\":\"lines+markers\",\"name\":\"Trial28\",\"x\":[0,1,2,3,4,5,6,7,8,9],\"y\":[0.23424995849774602,0.5641292827133535,0.6457303758188714,0.6716385089836419,0.6868574493353252,0.6896921171257456,0.700341978572067,0.6515547382804022,0.6477883768149256,0.6615901109706426],\"type\":\"scatter\"},{\"marker\":{\"maxdisplayed\":10},\"mode\":\"lines+markers\",\"name\":\"Trial29\",\"x\":[0,1,2,3,4,5,6,7,8,9],\"y\":[0.17814634583474295,0.3752439164370982,0.5602982073526331,0.6361464022199667,0.6561379847115495,0.6673478203083463,0.680105732363507,0.6972936602870813,0.709698157814187,0.7161139907850439],\"type\":\"scatter\"},{\"marker\":{\"maxdisplayed\":10},\"mode\":\"lines+markers\",\"name\":\"Trial30\",\"x\":[0,1,2,3,4,5,6,7,8,9],\"y\":[0.08952528410006418,0.1902676502383247,0.32176767514010907,0.406249761968237,0.49698351501870575,0.5292606220758712,0.5566766078496284,0.6044540503484787,0.6437010203872374,0.6782173837892314],\"type\":\"scatter\"},{\"marker\":{\"maxdisplayed\":10},\"mode\":\"lines+markers\",\"name\":\"Trial31\",\"x\":[0,1,2,3,4,5,6,7,8,9],\"y\":[0.20671768676029795,0.4312344569343803,0.5551320320620238,0.5789449024909602,0.6057853185920035,0.6202171744633209,0.6281402078532473,0.6190125676127206,0.6373498402693777,0.642824821559133],\"type\":\"scatter\"},{\"marker\":{\"maxdisplayed\":10},\"mode\":\"lines+markers\",\"name\":\"Trial32\",\"x\":[0,1,2,3,4,5,6,7,8,9],\"y\":[0.20776487821942366,0.4605278980278978,0.6633980497616858,0.6970298220298222,0.6844363548909004,0.7043623464078009,0.7075790371244914,0.7198718789627879,0.6893420132056496,0.6889402684857229],\"type\":\"scatter\"},{\"marker\":{\"maxdisplayed\":10},\"mode\":\"lines+markers\",\"name\":\"Trial33\",\"x\":[0,1,2,3,4,5,6,7,8,9],\"y\":[0.20818272817650332,0.469488603715763,0.5772912277341508,0.6038957825995755,0.6151807945932641,0.6272515527950315,0.6351784460192818,0.6439154832590002,0.6629219452577049,0.7044185113233182],\"type\":\"scatter\"},{\"marker\":{\"maxdisplayed\":10},\"mode\":\"lines+markers\",\"name\":\"Trial34\",\"x\":[0,1,2,3,4,5,6,7,8,9],\"y\":[0.16098071153135254,0.3159558340999033,0.4883355696679403,0.5428592590535182,0.5801488435537904,0.5913221399771317,0.6012573513024856,0.6053591350576367,0.6124077222650972,0.6174871446581139],\"type\":\"scatter\"},{\"marker\":{\"maxdisplayed\":10},\"mode\":\"lines+markers\",\"name\":\"Trial35\",\"x\":[0,1,2,3,4,5,6,7,8,9],\"y\":[0.12377141492048327,0.2718192527595694,0.38860546355993053,0.44484588288002086,0.4742937560268153,0.48967775557931054,0.49650207355806775,0.511358061216792,0.5236104902896103,0.5333728406744797],\"type\":\"scatter\"},{\"marker\":{\"maxdisplayed\":10},\"mode\":\"lines+markers\",\"name\":\"Trial36\",\"x\":[0,1,2,3,4,5,6,7,8,9],\"y\":[0.1938591949063153,0.48819688165237946,0.600829586768256,0.6252711636406479,0.627991019202687,0.649744110290108,0.6607383267443104,0.6646768091046326,0.6683467990498653,0.6708799427946779],\"type\":\"scatter\"},{\"marker\":{\"maxdisplayed\":10},\"mode\":\"lines+markers\",\"name\":\"Trial37\",\"x\":[0,1,2,3],\"y\":[0.0008566533409480297,0.0,0.0,0.0],\"type\":\"scatter\"},{\"marker\":{\"maxdisplayed\":10},\"mode\":\"lines+markers\",\"name\":\"Trial38\",\"x\":[0,1,2,3,4,5,6,7,8,9],\"y\":[0.21809250660048665,0.46759163735646797,0.5730345649965674,0.609898433637261,0.623887812731749,0.633554131335216,0.6253602346395772,0.5792251316057867,0.6309575139297907,0.6075473667727957],\"type\":\"scatter\"},{\"marker\":{\"maxdisplayed\":10},\"mode\":\"lines+markers\",\"name\":\"Trial39\",\"x\":[0,1,2,3,4,5,6,7,8,9],\"y\":[0.1116473343408858,0.24807028619088736,0.3750545060798057,0.4423457716590682,0.4879658797863097,0.515443702831947,0.528145831722016,0.5348083594802258,0.5430261134465054,0.5456656082488305],\"type\":\"scatter\"},{\"marker\":{\"maxdisplayed\":10},\"mode\":\"lines+markers\",\"name\":\"Trial40\",\"x\":[0,1,2,3,4,5,6,7,8,9],\"y\":[0.19565777306490031,0.3642404421840502,0.4376949506320505,0.48494535100327324,0.540290495287681,0.582583474887176,0.6010139526858378,0.61642384738318,0.629240333296479,0.6395760671819563],\"type\":\"scatter\"},{\"marker\":{\"maxdisplayed\":10},\"mode\":\"lines+markers\",\"name\":\"Trial41\",\"x\":[0,1,2,3,4,5,6,7,8,9],\"y\":[0.3076898548506413,0.6455575112879769,0.7100392847121239,0.7168822223922854,0.7180492844570294,0.722309379862759,0.726065661590266,0.7306191168592642,0.7346942680033673,0.7501721894849619],\"type\":\"scatter\"},{\"marker\":{\"maxdisplayed\":10},\"mode\":\"lines+markers\",\"name\":\"Trial42\",\"x\":[0,1,2,3,4,5,6,7,8,9],\"y\":[0.3116107343983451,0.547909244148182,0.5912864421713979,0.6184509443358998,0.6299544113703401,0.630123932115082,0.6605361452706584,0.6734053557062405,0.6881900547829751,0.6859489330728261],\"type\":\"scatter\"},{\"marker\":{\"maxdisplayed\":10},\"mode\":\"lines+markers\",\"name\":\"Trial43\",\"x\":[0,1,2,3,4,5,6,7,8,9],\"y\":[0.34073878582306527,0.6076657403927931,0.6622427612191216,0.7206276824034331,0.7315600215581181,0.7429682709993873,0.7488429817448227,0.7530841458831908,0.7510037380589785,0.7577369415161884],\"type\":\"scatter\"},{\"marker\":{\"maxdisplayed\":10},\"mode\":\"lines+markers\",\"name\":\"Trial44\",\"x\":[0,1,2,3,4,5,6,7,8,9],\"y\":[0.27948516646241844,0.5545853758169936,0.6715973498774505,0.6951018688725481,0.7146682240604575,0.7187244689542484,0.7324665543300647,0.7761054942810457,0.7994600183823531,0.795614404616013],\"type\":\"scatter\"},{\"marker\":{\"maxdisplayed\":10},\"mode\":\"lines+markers\",\"name\":\"Trial45\",\"x\":[0,1,2,3,4,5,6,7,8,9],\"y\":[0.27674270014695546,0.6070929972525717,0.6671714267458946,0.6876190019807038,0.7061577534981789,0.7253146763785056,0.7364345728707429,0.7467118714459132,0.7451872084850812,0.7557017123506485],\"type\":\"scatter\"},{\"marker\":{\"maxdisplayed\":10},\"mode\":\"lines+markers\",\"name\":\"Trial46\",\"x\":[0,1,2,3],\"y\":[0.00028710331891436663,0.0,0.0,0.0],\"type\":\"scatter\"},{\"marker\":{\"maxdisplayed\":10},\"mode\":\"lines+markers\",\"name\":\"Trial47\",\"x\":[0,1,2,3,4,5,6,7,8,9],\"y\":[0.2682473423636437,0.4778502794015333,0.520374730646358,0.5473441380147019,0.5953251926843097,0.6009794527839881,0.6044745509809794,0.5999428900129323,0.6008331703387894,0.5990986195393735],\"type\":\"scatter\"},{\"marker\":{\"maxdisplayed\":10},\"mode\":\"lines+markers\",\"name\":\"Trial48\",\"x\":[0,1,2,3,4,5,6,7,8,9],\"y\":[0.2501403008247463,0.5750875180475075,0.6433349073396489,0.6530026848756945,0.6387939815272642,0.6503178091809895,0.6660358280097302,0.668783746365776,0.6727523437036446,0.6753976632186861],\"type\":\"scatter\"},{\"marker\":{\"maxdisplayed\":10},\"mode\":\"lines+markers\",\"name\":\"Trial49\",\"x\":[0,1,2,3,4,5,6,7,8,9],\"y\":[0.2596049497773633,0.5456585896241072,0.5746800248524385,0.5919866418142273,0.6015015015015012,0.5840701045873459,0.5169483276379824,0.5052226364295329,0.5162907735321528,0.5180578854716791],\"type\":\"scatter\"},{\"marker\":{\"maxdisplayed\":10},\"mode\":\"lines+markers\",\"name\":\"Trial50\",\"x\":[0,1,2,3,4,5,6,7,8,9],\"y\":[0.4230708321335999,0.7526536341573807,0.795208958907496,0.8083984616017491,0.8299557470555223,0.8353507671424516,0.8437175215608897,0.8517003619760655,0.855892737169736,0.8561023473599106],\"type\":\"scatter\"},{\"marker\":{\"maxdisplayed\":10},\"mode\":\"lines+markers\",\"name\":\"Trial51\",\"x\":[0,1,2,3,4,5,6,7,8,9],\"y\":[0.37957597702410595,0.6430306861940862,0.6624353193408887,0.6914965506551233,0.7302448590741027,0.7346129262043972,0.736060240313359,0.7416500774165008,0.7445264182720354,0.747625690783343],\"type\":\"scatter\"},{\"marker\":{\"maxdisplayed\":10},\"mode\":\"lines+markers\",\"name\":\"Trial52\",\"x\":[0,1,2,3,4,5,6,7,8,9],\"y\":[0.21633635297325615,0.5018105782411565,0.6422040485970153,0.6661847423577923,0.6876122626524055,0.7134610378649354,0.7380602002966666,0.7509253070393199,0.7576881174252652,0.7585698333210693],\"type\":\"scatter\"},{\"marker\":{\"maxdisplayed\":10},\"mode\":\"lines+markers\",\"name\":\"Trial53\",\"x\":[0,1,2,3,4,5,6,7,8,9],\"y\":[0.25134808853118706,0.583162307176391,0.6897719651240779,0.7426822841812778,0.7579395420139888,0.758446392641563,0.7481967998466988,0.7411468812877261,0.7500852735460377,0.7412297595094377],\"type\":\"scatter\"},{\"marker\":{\"maxdisplayed\":10},\"mode\":\"lines+markers\",\"name\":\"Trial54\",\"x\":[0,1,2,3,4,5,6,7,8,9],\"y\":[0.3586595470737774,0.6073104831743226,0.6889546443037294,0.6776667964711447,0.7087274887495143,0.717175120868993,0.7150246057188909,0.710108432446365,0.7217627265522361,0.7192096004124475],\"type\":\"scatter\"},{\"marker\":{\"maxdisplayed\":10},\"mode\":\"lines+markers\",\"name\":\"Trial55\",\"x\":[0,1,2,3,4,5,6,7,8,9],\"y\":[0.1992019643953346,0.39852177058668775,0.5602034552310794,0.6048654959221256,0.6235475313513987,0.6354002236253616,0.6493877707620804,0.6596756336051917,0.6552332719459791,0.6615830263965626],\"type\":\"scatter\"},{\"marker\":{\"maxdisplayed\":10},\"mode\":\"lines+markers\",\"name\":\"Trial56\",\"x\":[0,1,2,3],\"y\":[0.0009008836326694908,0.0,0.0,0.0],\"type\":\"scatter\"},{\"marker\":{\"maxdisplayed\":10},\"mode\":\"lines+markers\",\"name\":\"Trial57\",\"x\":[0,1,2,3,4,5,6,7,8,9],\"y\":[0.15880394857667604,0.4264233241505971,0.5847298745026019,0.6469429139883681,0.6737641567187026,0.6904843893480258,0.7283823079277628,0.7287840526476894,0.7360154576063666,0.7382920110192837],\"type\":\"scatter\"},{\"marker\":{\"maxdisplayed\":10},\"mode\":\"lines+markers\",\"name\":\"Trial58\",\"x\":[0,1,2,3,4,5,6,7,8,9],\"y\":[0.20178318097092077,0.3908857013805769,0.47266110291665214,0.5136076492928985,0.5409165555643409,0.5482329504506344,0.5523612311500931,0.5488718456254766,0.5060881348168789,0.5239035859014102],\"type\":\"scatter\"},{\"marker\":{\"maxdisplayed\":10},\"mode\":\"lines+markers\",\"name\":\"Trial59\",\"x\":[0,1,2,3,4,5,6,7,8,9],\"y\":[0.1428340003811702,0.26944024036143904,0.3894640074440296,0.5454270787789101,0.601080729604592,0.6587579457168802,0.6827767127434166,0.6997337414096572,0.7062186795816094,0.7098448413098802],\"type\":\"scatter\"},{\"marker\":{\"maxdisplayed\":10},\"mode\":\"lines+markers\",\"name\":\"Trial60\",\"x\":[0,1,2,3,4,5,6,7,8,9],\"y\":[0.48615981603909125,0.6599405959566924,0.7232394366197173,0.7582207530899677,0.7756778767845156,0.773790361214907,0.7717830794289541,0.788052122257352,0.7849334099837112,0.7871179457698562],\"type\":\"scatter\"},{\"marker\":{\"maxdisplayed\":10},\"mode\":\"lines+markers\",\"name\":\"Trial61\",\"x\":[0,1,2,3,4,5,6,7,8,9],\"y\":[0.3525965315703745,0.6169349429912804,0.6909983711794568,0.703123502922295,0.7294529079237314,0.737429337932355,0.7537702404905608,0.7581441027115063,0.7588962345501574,0.7750694644054799],\"type\":\"scatter\"},{\"marker\":{\"maxdisplayed\":10},\"mode\":\"lines+markers\",\"name\":\"Trial62\",\"x\":[0,1,2,3,4,5,6,7,8,9],\"y\":[0.44496355135823706,0.6572085275815853,0.6755679051868462,0.683290315265746,0.7144775805838463,0.7081649292702951,0.708255800769658,0.7050186078152839,0.692401642022984,0.6972261683240311],\"type\":\"scatter\"},{\"marker\":{\"maxdisplayed\":10},\"mode\":\"lines+markers\",\"name\":\"Trial63\",\"x\":[0,1,2,3,4,5,6,7,8,9],\"y\":[0.36129191132261335,0.6678947435749825,0.7070137902802827,0.7274008263934195,0.7465252459351933,0.7774833378106969,0.7828878356423736,0.7914479154673724,0.7819840477926592,0.7845620498650399],\"type\":\"scatter\"},{\"marker\":{\"maxdisplayed\":10},\"mode\":\"lines+markers\",\"name\":\"Trial64\",\"x\":[0,1,2,3,4,5,6,7,8,9],\"y\":[0.36647356937211967,0.6354138346891934,0.6664575360227499,0.677626855163083,0.691253459369398,0.6928811928811892,0.7000230043708271,0.7057131006406339,0.7125290168768403,0.7230378317334811],\"type\":\"scatter\"},{\"marker\":{\"maxdisplayed\":10},\"mode\":\"lines+markers\",\"name\":\"Trial65\",\"x\":[0,1,2,3,4,5,6,7,8,9],\"y\":[0.2841009107607527,0.6313619317312108,0.7056434639522421,0.7438294045614567,0.7623938083575698,0.7729268712689434,0.7759739017296801,0.767416386040105,0.7648524797183535,0.7706164855349762],\"type\":\"scatter\"},{\"marker\":{\"maxdisplayed\":10},\"mode\":\"lines+markers\",\"name\":\"Trial66\",\"x\":[0,1,2,3,4,5,6,7,8,9],\"y\":[0.3868233086306267,0.6217627965760901,0.6492143965071525,0.6644869879933357,0.637362842534614,0.6171774764941316,0.6329120468776933,0.6470696654602553,0.6493187606518449,0.6473674383868564],\"type\":\"scatter\"},{\"marker\":{\"maxdisplayed\":10},\"mode\":\"lines+markers\",\"name\":\"Trial67\",\"x\":[0,1,2,3,4,5,6,7,8,9],\"y\":[0.4132691889541206,0.6911460931404521,0.7244093984625815,0.733290804906438,0.6635553764884952,0.6874800148369855,0.7002753156056951,0.7002976989882717,0.7089025107759992,0.7385269176163619],\"type\":\"scatter\"},{\"marker\":{\"maxdisplayed\":10},\"mode\":\"lines+markers\",\"name\":\"Trial68\",\"x\":[0,1,2,3,4,5,6,7,8,9],\"y\":[0.282272439767696,0.43828225327276543,0.4909627585149407,0.5075254441952732,0.5235155156881913,0.5379434765108387,0.5442566078239701,0.5489381480842576,0.556264734632856,0.5654960420140686],\"type\":\"scatter\"},{\"marker\":{\"maxdisplayed\":10},\"mode\":\"lines+markers\",\"name\":\"Trial69\",\"x\":[0,1,2,3,4,5,6,7,8,9],\"y\":[0.29596254739117944,0.45789253861551327,0.5355931677393442,0.5590042809385305,0.5720067912270931,0.5924345661217942,0.6171667703999741,0.6202085125678218,0.6214272352516236,0.6208503085275672],\"type\":\"scatter\"},{\"marker\":{\"maxdisplayed\":10},\"mode\":\"lines+markers\",\"name\":\"Trial70\",\"x\":[0,1,2,3,4,5,6,7,8,9],\"y\":[0.09050068958545444,0.16438814635097376,0.29907285055130733,0.4121937482399325,0.4892341630021157,0.5453126241073297,0.5704546931525248,0.5887380947223243,0.5918661409931475,0.5966773534360128],\"type\":\"scatter\"},{\"marker\":{\"maxdisplayed\":10},\"mode\":\"lines+markers\",\"name\":\"Trial71\",\"x\":[0,1,2,3,4,5,6,7,8,9],\"y\":[0.34177657153822993,0.6842864270636293,0.7084070510184507,0.7359311346876122,0.727040710584752,0.7132537215231524,0.710580914000603,0.6731634728733179,0.6702765030018923,0.671119445129808],\"type\":\"scatter\"},{\"marker\":{\"maxdisplayed\":10},\"mode\":\"lines+markers\",\"name\":\"Trial72\",\"x\":[0,1,2,3,4,5,6,7,8,9],\"y\":[0.31239693954480285,0.6135997304288243,0.691972685861077,0.7084270075618829,0.7177485491620152,0.722784957065926,0.7304706940379694,0.7346153007215387,0.738010137500855,0.7369936044539407],\"type\":\"scatter\"},{\"marker\":{\"maxdisplayed\":10},\"mode\":\"lines+markers\",\"name\":\"Trial73\",\"x\":[0,1,2,3,4,5,6,7,8,9],\"y\":[0.2825425926200832,0.49307607044421053,0.5654402268307528,0.5967073912978935,0.6028538168826605,0.6154986169459989,0.6240307488284869,0.6289895788489227,0.6373008921811675,0.645730346530489],\"type\":\"scatter\"},{\"marker\":{\"maxdisplayed\":10},\"mode\":\"lines+markers\",\"name\":\"Trial74\",\"x\":[0,1,2,3,4,5,6,7,8,9],\"y\":[0.3896010740314538,0.6543665655403293,0.6810325347839735,0.6890420894793742,0.6984196394322978,0.7032778882030902,0.710464135021098,0.7200571886877992,0.7414743522683682,0.7426177773128292],\"type\":\"scatter\"},{\"marker\":{\"maxdisplayed\":10},\"mode\":\"lines+markers\",\"name\":\"Trial75\",\"x\":[0,1,2,3,4,5,6,7,8,9],\"y\":[0.408263734579726,0.6771447909483299,0.6918882333409951,0.7093836998442008,0.7203343294255858,0.7208515311725786,0.7197149643705449,0.7137000996092243,0.7167011467831326,0.7232842949454695],\"type\":\"scatter\"},{\"marker\":{\"maxdisplayed\":10},\"mode\":\"lines+markers\",\"name\":\"Trial76\",\"x\":[0,1,2,3,4,5,6,7,8,9],\"y\":[0.18736944636782538,0.3643705575351997,0.45030134654368925,0.4937186328487931,0.5401584878565281,0.5555004491892687,0.5721956678696253,0.6104623264192132,0.6377637600128815,0.6441408821405875],\"type\":\"scatter\"},{\"marker\":{\"maxdisplayed\":10},\"mode\":\"lines+markers\",\"name\":\"Trial77\",\"x\":[0,1,2,3,4,5,6,7,8,9],\"y\":[0.3135892514395396,0.5953091880163567,0.619156304765084,0.6367729283151136,0.64825920053409,0.6696962363348072,0.6742635400150212,0.671781690728532,0.6742785612951679,0.6780288742385047],\"type\":\"scatter\"},{\"marker\":{\"maxdisplayed\":10},\"mode\":\"lines+markers\",\"name\":\"Trial78\",\"x\":[0,1,2,3,4,5,6,7,8,9],\"y\":[0.30769384308306463,0.5608483033932138,0.6380669430370031,0.6740756947643176,0.6777161062490403,0.6764432673115309,0.6658237371411025,0.6806740365423005,0.684667587901121,0.6835743896821738],\"type\":\"scatter\"},{\"marker\":{\"maxdisplayed\":10},\"mode\":\"lines+markers\",\"name\":\"Trial79\",\"x\":[0,1,2,3,4,5,6,7,8,9],\"y\":[0.2003143272060228,0.4975505885275352,0.6478460465471778,0.6942917128444225,0.7096963732946077,0.7350467669201665,0.7431760423434096,0.7445351014636756,0.7442078763327855,0.746481732716781],\"type\":\"scatter\"},{\"marker\":{\"maxdisplayed\":10},\"mode\":\"lines+markers\",\"name\":\"Trial80\",\"x\":[0,1,2,3,4,5,6,7,8,9],\"y\":[0.31464573068775975,0.56943036885481,0.6016517837224572,0.623069519602781,0.6309991225330533,0.6352101140282104,0.6405583069349631,0.6483981447841705,0.6452048449772979,0.6113480059404295],\"type\":\"scatter\"},{\"marker\":{\"maxdisplayed\":10},\"mode\":\"lines+markers\",\"name\":\"Trial81\",\"x\":[0,1,2,3,4,5,6,7,8,9],\"y\":[0.34377248281511574,0.6080039506741076,0.6443724811712842,0.6725467875430481,0.6739084276481432,0.676957734362371,0.6812937498801372,0.6842871663365306,0.6827355267519818,0.6744280152657114],\"type\":\"scatter\"},{\"marker\":{\"maxdisplayed\":10},\"mode\":\"lines+markers\",\"name\":\"Trial82\",\"x\":[0,1,2,3,4,5,6,7,8,9],\"y\":[0.3568940437911497,0.6985530546623802,0.7615028326443111,0.7925853621191241,0.8066528862348799,0.8274957893125109,0.8332376358903703,0.8436686571734815,0.8541570969223716,0.85582223242995],\"type\":\"scatter\"},{\"marker\":{\"maxdisplayed\":10},\"mode\":\"lines+markers\",\"name\":\"Trial83\",\"x\":[0,1,2,3,4,5,6,7,8,9],\"y\":[0.33223679165708164,0.6419906448891959,0.6937543133195304,0.7074840886435089,0.7197990951614135,0.7456866804692898,0.7635802469135805,0.7712100299056818,0.7769841269841269,0.7785560923242081],\"type\":\"scatter\"},{\"marker\":{\"maxdisplayed\":10},\"mode\":\"lines+markers\",\"name\":\"Trial84\",\"x\":[0,1,2,3,4,5,6,7,8,9],\"y\":[0.25632528683415173,0.6294166028796463,0.6829774743659163,0.6782504931825676,0.6973808945948027,0.6893660296262183,0.7056254965534268,0.6941189404924154,0.7084352369869298,0.6961933151203255],\"type\":\"scatter\"},{\"marker\":{\"maxdisplayed\":10},\"mode\":\"lines+markers\",\"name\":\"Trial85\",\"x\":[0,1,2,3,4,5,6,7,8,9],\"y\":[0.38826120260436586,0.679158687603727,0.7118856121537083,0.7292289033575894,0.7434763181411971,0.7456210902591598,0.7525341503893781,0.7549151027703298,0.762140942167752,0.7603600153198012],\"type\":\"scatter\"},{\"marker\":{\"maxdisplayed\":10},\"mode\":\"lines+markers\",\"name\":\"Trial86\",\"x\":[0,1,2,3,4,5,6,7,8,9],\"y\":[0.34583556815569655,0.6085485148009093,0.6856115751028006,0.7139235818455791,0.7251104640768267,0.7375296912114013,0.7244591729880205,0.7858976323653376,0.7926787219370182,0.7940132301483931],\"type\":\"scatter\"},{\"marker\":{\"maxdisplayed\":10},\"mode\":\"lines+markers\",\"name\":\"Trial87\",\"x\":[0,1,2,3],\"y\":[0.00013422304034361099,0.0,0.0,0.0],\"type\":\"scatter\"},{\"marker\":{\"maxdisplayed\":10},\"mode\":\"lines+markers\",\"name\":\"Trial88\",\"x\":[0,1,2,3,4,5,6,7,8,9],\"y\":[0.32130151373699667,0.5312958455588156,0.6069518538276873,0.6231370032008533,0.6230911576420376,0.6470717191250998,0.6634252467324618,0.6613621965857566,0.6638670312083225,0.659500866897839],\"type\":\"scatter\"},{\"marker\":{\"maxdisplayed\":10},\"mode\":\"lines+markers\",\"name\":\"Trial89\",\"x\":[0,1,2,3,4,5,6,7,8,9],\"y\":[0.3257721020606436,0.48947855718449396,0.5630327832927927,0.5934429762087384,0.6041753409447844,0.6084750436453158,0.6159093565329191,0.6178094799815932,0.6182486723789072,0.6217393845097485],\"type\":\"scatter\"},{\"marker\":{\"maxdisplayed\":10},\"mode\":\"lines+markers\",\"name\":\"Trial90\",\"x\":[0,1,2,3,4,5,6,7,8,9],\"y\":[0.1913243550874213,0.42984557061212114,0.5010475393750654,0.5497360556594009,0.5815187909264563,0.5896232300413484,0.6276034843979096,0.6307949889831422,0.6375801898449981,0.6431952097457326],\"type\":\"scatter\"},{\"marker\":{\"maxdisplayed\":10},\"mode\":\"lines+markers\",\"name\":\"Trial91\",\"x\":[0,1,2,3,4,5,6,7,8,9],\"y\":[0.30860290126278483,0.558108286669333,0.5929915611965028,0.6077875907091027,0.6143733750928516,0.6272779948288667,0.632518320381693,0.6369720837380718,0.6360672247300148,0.640444206759614],\"type\":\"scatter\"},{\"marker\":{\"maxdisplayed\":10},\"mode\":\"lines+markers\",\"name\":\"Trial92\",\"x\":[0,1,2,3,4,5,6,7,8,9],\"y\":[0.39838718028373216,0.6254561458009742,0.6691788340064205,0.6895381588485042,0.6958071864968414,0.701901211556383,0.7072009940975448,0.7087925856891368,0.7050937144040582,0.6976146836491657],\"type\":\"scatter\"},{\"marker\":{\"maxdisplayed\":10},\"mode\":\"lines+markers\",\"name\":\"Trial93\",\"x\":[0,1,2,3,4,5,6,7,8,9],\"y\":[0.24395385381932447,0.5198583802843896,0.5967215706565484,0.6290603081522368,0.6400722471350283,0.6478910352228742,0.6607546663600478,0.6888462496646357,0.7007636732973054,0.7013936798129626],\"type\":\"scatter\"},{\"marker\":{\"maxdisplayed\":10},\"mode\":\"lines+markers\",\"name\":\"Trial94\",\"x\":[0,1,2,3,4,5,6,7,8,9],\"y\":[0.38233330551614825,0.6506409079529332,0.712758908453643,0.729323207877827,0.7460811149127929,0.7511391137444716,0.7556271384461315,0.7599440874572316,0.7642593674372031,0.7623257948760741],\"type\":\"scatter\"},{\"marker\":{\"maxdisplayed\":10},\"mode\":\"lines+markers\",\"name\":\"Trial95\",\"x\":[0,1,2,3,4,5,6,7,8,9],\"y\":[0.3743261094306388,0.6637429643527208,0.7082972776352569,0.7290002680246586,0.7365327181529276,0.7357564038748706,0.7458264731783892,0.7602337557912479,0.7654899107860782,0.7707269211624609],\"type\":\"scatter\"},{\"marker\":{\"maxdisplayed\":10},\"mode\":\"lines+markers\",\"name\":\"Trial96\",\"x\":[0,1,2,3,4,5,6,7,8,9],\"y\":[0.19969209661465825,0.519578188315625,0.6757554002744017,0.7330716952235089,0.7738696914584732,0.8184008168214157,0.823895217127723,0.8461200982738264,0.8487444561437091,0.8590041798283392],\"type\":\"scatter\"},{\"marker\":{\"maxdisplayed\":10},\"mode\":\"lines+markers\",\"name\":\"Trial97\",\"x\":[0,1,2,3],\"y\":[0.08217859153487905,0.08381794104099494,0.08362281846563299,0.08249046778238397],\"type\":\"scatter\"},{\"marker\":{\"maxdisplayed\":10},\"mode\":\"lines+markers\",\"name\":\"Trial98\",\"x\":[0,1,2,3,4,5,6,7,8,9],\"y\":[0.20287996409631498,0.403163018068302,0.6364361331958543,0.7208680227124884,0.7412158112556912,0.75386731543262,0.7540136002249661,0.7705963306661218,0.7661218623332277,0.7728573538643331],\"type\":\"scatter\"},{\"marker\":{\"maxdisplayed\":10},\"mode\":\"lines+markers\",\"name\":\"Trial99\",\"x\":[0,1,2,3],\"y\":[0.0008044744100520993,0.0,0.0,0.0],\"type\":\"scatter\"},{\"marker\":{\"maxdisplayed\":10},\"mode\":\"lines+markers\",\"name\":\"Trial100\",\"x\":[0,1,2,3,4,5,6,7,8,9],\"y\":[0.3921335917411827,0.6817109286052375,0.7104850264164458,0.7280203016463904,0.7454471607117731,0.7462895447160713,0.7549036727175038,0.7585217024216142,0.7536426552046154,0.7603024139386725],\"type\":\"scatter\"},{\"marker\":{\"maxdisplayed\":10},\"mode\":\"lines+markers\",\"name\":\"Trial101\",\"x\":[0,1,2,3,4,5,6,7,8,9],\"y\":[0.40237549459882427,0.6438384277367328,0.695813556481552,0.729680616270846,0.7427638736213016,0.7496783154809081,0.7466837379599097,0.755222935183054,0.7584809673543478,0.759305417082087],\"type\":\"scatter\"},{\"marker\":{\"maxdisplayed\":10},\"mode\":\"lines+markers\",\"name\":\"Trial102\",\"x\":[0,1,2,3,4,5,6,7,8,9],\"y\":[0.33381829141322855,0.5675571264178855,0.613677461778728,0.6123404022138195,0.6215217272179302,0.6262754123513617,0.6337306153761849,0.6318401008274429,0.6343416077593297,0.6350484958079895],\"type\":\"scatter\"},{\"marker\":{\"maxdisplayed\":10},\"mode\":\"lines+markers\",\"name\":\"Trial103\",\"x\":[0,1,2,3,4,5,6,7,8,9],\"y\":[0.16523454062796655,0.2734395761123621,0.32829008078587785,0.4058390673032489,0.43121640068727346,0.44653934636660886,0.45741413023930655,0.4716300900863773,0.48587391080207476,0.4934045681570201],\"type\":\"scatter\"},{\"marker\":{\"maxdisplayed\":10},\"mode\":\"lines+markers\",\"name\":\"Trial104\",\"x\":[0,1,2,3,4,5,6,7,8,9],\"y\":[0.19899742014767202,0.35899985861015826,0.4984473463351491,0.5952223991953364,0.6273794402777214,0.6432396188972936,0.6475888201910551,0.6626431059864694,0.6546844386574464,0.6756191367491521],\"type\":\"scatter\"},{\"marker\":{\"maxdisplayed\":10},\"mode\":\"lines+markers\",\"name\":\"Trial105\",\"x\":[0,1,2,3,4,5,6,7,8,9],\"y\":[0.42647190551140746,0.6861705077183596,0.7327301965099969,0.7423594849023849,0.7560526955609299,0.7553190354929377,0.7560409655307729,0.7620957938244582,0.7765535891759555,0.7877205778852674],\"type\":\"scatter\"},{\"marker\":{\"maxdisplayed\":10},\"mode\":\"lines+markers\",\"name\":\"Trial106\",\"x\":[0,1,2,3,4,5,6,7,8,9],\"y\":[0.41438669227303,0.6710861767855745,0.7169478024794744,0.7381557645765426,0.7498440527670288,0.7559959987903316,0.7587610466213291,0.7616137609216906,0.767625914466819,0.7703444366040033],\"type\":\"scatter\"},{\"marker\":{\"maxdisplayed\":10},\"mode\":\"lines+markers\",\"name\":\"Trial107\",\"x\":[0,1,2,3,4,5,6,7,8,9],\"y\":[0.27839293132649445,0.6006215447544165,0.6545121912248723,0.6858259035567038,0.7034017192343313,0.711500974658867,0.7172818202153816,0.7336417090084013,0.7591809669894193,0.7803118908382028],\"type\":\"scatter\"},{\"marker\":{\"maxdisplayed\":10},\"mode\":\"lines+markers\",\"name\":\"Trial108\",\"x\":[0,1,2,3,4,5,6,7,8,9],\"y\":[0.2639707419017764,0.5460553814002089,0.5863531870428418,0.6073040752351092,0.6167398119122256,0.6247962382445138,0.6238070358760012,0.6299425287356318,0.631560431905259,0.6341692789968644],\"type\":\"scatter\"},{\"marker\":{\"maxdisplayed\":10},\"mode\":\"lines+markers\",\"name\":\"Trial109\",\"x\":[0,1,2,3,4,5,6,7,8,9],\"y\":[0.20927497091221,0.5765688297791033,0.6637854892269033,0.6595008790032874,0.6603331719704125,0.6781510356951784,0.6417403415798284,0.604733029291617,0.6821681231793599,0.7140585322768316],\"type\":\"scatter\"}],                        {\"showlegend\":false,\"title\":{\"text\":\"Intermediate Values Plot\"},\"xaxis\":{\"title\":{\"text\":\"Step\"}},\"yaxis\":{\"title\":{\"text\":\"Intermediate Value\"}},\"template\":{\"data\":{\"bar\":[{\"error_x\":{\"color\":\"#2a3f5f\"},\"error_y\":{\"color\":\"#2a3f5f\"},\"marker\":{\"line\":{\"color\":\"#E5ECF6\",\"width\":0.5},\"pattern\":{\"fillmode\":\"overlay\",\"size\":10,\"solidity\":0.2}},\"type\":\"bar\"}],\"barpolar\":[{\"marker\":{\"line\":{\"color\":\"#E5ECF6\",\"width\":0.5},\"pattern\":{\"fillmode\":\"overlay\",\"size\":10,\"solidity\":0.2}},\"type\":\"barpolar\"}],\"carpet\":[{\"aaxis\":{\"endlinecolor\":\"#2a3f5f\",\"gridcolor\":\"white\",\"linecolor\":\"white\",\"minorgridcolor\":\"white\",\"startlinecolor\":\"#2a3f5f\"},\"baxis\":{\"endlinecolor\":\"#2a3f5f\",\"gridcolor\":\"white\",\"linecolor\":\"white\",\"minorgridcolor\":\"white\",\"startlinecolor\":\"#2a3f5f\"},\"type\":\"carpet\"}],\"choropleth\":[{\"colorbar\":{\"outlinewidth\":0,\"ticks\":\"\"},\"type\":\"choropleth\"}],\"contour\":[{\"colorbar\":{\"outlinewidth\":0,\"ticks\":\"\"},\"colorscale\":[[0.0,\"#0d0887\"],[0.1111111111111111,\"#46039f\"],[0.2222222222222222,\"#7201a8\"],[0.3333333333333333,\"#9c179e\"],[0.4444444444444444,\"#bd3786\"],[0.5555555555555556,\"#d8576b\"],[0.6666666666666666,\"#ed7953\"],[0.7777777777777778,\"#fb9f3a\"],[0.8888888888888888,\"#fdca26\"],[1.0,\"#f0f921\"]],\"type\":\"contour\"}],\"contourcarpet\":[{\"colorbar\":{\"outlinewidth\":0,\"ticks\":\"\"},\"type\":\"contourcarpet\"}],\"heatmap\":[{\"colorbar\":{\"outlinewidth\":0,\"ticks\":\"\"},\"colorscale\":[[0.0,\"#0d0887\"],[0.1111111111111111,\"#46039f\"],[0.2222222222222222,\"#7201a8\"],[0.3333333333333333,\"#9c179e\"],[0.4444444444444444,\"#bd3786\"],[0.5555555555555556,\"#d8576b\"],[0.6666666666666666,\"#ed7953\"],[0.7777777777777778,\"#fb9f3a\"],[0.8888888888888888,\"#fdca26\"],[1.0,\"#f0f921\"]],\"type\":\"heatmap\"}],\"heatmapgl\":[{\"colorbar\":{\"outlinewidth\":0,\"ticks\":\"\"},\"colorscale\":[[0.0,\"#0d0887\"],[0.1111111111111111,\"#46039f\"],[0.2222222222222222,\"#7201a8\"],[0.3333333333333333,\"#9c179e\"],[0.4444444444444444,\"#bd3786\"],[0.5555555555555556,\"#d8576b\"],[0.6666666666666666,\"#ed7953\"],[0.7777777777777778,\"#fb9f3a\"],[0.8888888888888888,\"#fdca26\"],[1.0,\"#f0f921\"]],\"type\":\"heatmapgl\"}],\"histogram\":[{\"marker\":{\"pattern\":{\"fillmode\":\"overlay\",\"size\":10,\"solidity\":0.2}},\"type\":\"histogram\"}],\"histogram2d\":[{\"colorbar\":{\"outlinewidth\":0,\"ticks\":\"\"},\"colorscale\":[[0.0,\"#0d0887\"],[0.1111111111111111,\"#46039f\"],[0.2222222222222222,\"#7201a8\"],[0.3333333333333333,\"#9c179e\"],[0.4444444444444444,\"#bd3786\"],[0.5555555555555556,\"#d8576b\"],[0.6666666666666666,\"#ed7953\"],[0.7777777777777778,\"#fb9f3a\"],[0.8888888888888888,\"#fdca26\"],[1.0,\"#f0f921\"]],\"type\":\"histogram2d\"}],\"histogram2dcontour\":[{\"colorbar\":{\"outlinewidth\":0,\"ticks\":\"\"},\"colorscale\":[[0.0,\"#0d0887\"],[0.1111111111111111,\"#46039f\"],[0.2222222222222222,\"#7201a8\"],[0.3333333333333333,\"#9c179e\"],[0.4444444444444444,\"#bd3786\"],[0.5555555555555556,\"#d8576b\"],[0.6666666666666666,\"#ed7953\"],[0.7777777777777778,\"#fb9f3a\"],[0.8888888888888888,\"#fdca26\"],[1.0,\"#f0f921\"]],\"type\":\"histogram2dcontour\"}],\"mesh3d\":[{\"colorbar\":{\"outlinewidth\":0,\"ticks\":\"\"},\"type\":\"mesh3d\"}],\"parcoords\":[{\"line\":{\"colorbar\":{\"outlinewidth\":0,\"ticks\":\"\"}},\"type\":\"parcoords\"}],\"pie\":[{\"automargin\":true,\"type\":\"pie\"}],\"scatter\":[{\"marker\":{\"colorbar\":{\"outlinewidth\":0,\"ticks\":\"\"}},\"type\":\"scatter\"}],\"scatter3d\":[{\"line\":{\"colorbar\":{\"outlinewidth\":0,\"ticks\":\"\"}},\"marker\":{\"colorbar\":{\"outlinewidth\":0,\"ticks\":\"\"}},\"type\":\"scatter3d\"}],\"scattercarpet\":[{\"marker\":{\"colorbar\":{\"outlinewidth\":0,\"ticks\":\"\"}},\"type\":\"scattercarpet\"}],\"scattergeo\":[{\"marker\":{\"colorbar\":{\"outlinewidth\":0,\"ticks\":\"\"}},\"type\":\"scattergeo\"}],\"scattergl\":[{\"marker\":{\"colorbar\":{\"outlinewidth\":0,\"ticks\":\"\"}},\"type\":\"scattergl\"}],\"scattermapbox\":[{\"marker\":{\"colorbar\":{\"outlinewidth\":0,\"ticks\":\"\"}},\"type\":\"scattermapbox\"}],\"scatterpolar\":[{\"marker\":{\"colorbar\":{\"outlinewidth\":0,\"ticks\":\"\"}},\"type\":\"scatterpolar\"}],\"scatterpolargl\":[{\"marker\":{\"colorbar\":{\"outlinewidth\":0,\"ticks\":\"\"}},\"type\":\"scatterpolargl\"}],\"scatterternary\":[{\"marker\":{\"colorbar\":{\"outlinewidth\":0,\"ticks\":\"\"}},\"type\":\"scatterternary\"}],\"surface\":[{\"colorbar\":{\"outlinewidth\":0,\"ticks\":\"\"},\"colorscale\":[[0.0,\"#0d0887\"],[0.1111111111111111,\"#46039f\"],[0.2222222222222222,\"#7201a8\"],[0.3333333333333333,\"#9c179e\"],[0.4444444444444444,\"#bd3786\"],[0.5555555555555556,\"#d8576b\"],[0.6666666666666666,\"#ed7953\"],[0.7777777777777778,\"#fb9f3a\"],[0.8888888888888888,\"#fdca26\"],[1.0,\"#f0f921\"]],\"type\":\"surface\"}],\"table\":[{\"cells\":{\"fill\":{\"color\":\"#EBF0F8\"},\"line\":{\"color\":\"white\"}},\"header\":{\"fill\":{\"color\":\"#C8D4E3\"},\"line\":{\"color\":\"white\"}},\"type\":\"table\"}]},\"layout\":{\"annotationdefaults\":{\"arrowcolor\":\"#2a3f5f\",\"arrowhead\":0,\"arrowwidth\":1},\"autotypenumbers\":\"strict\",\"coloraxis\":{\"colorbar\":{\"outlinewidth\":0,\"ticks\":\"\"}},\"colorscale\":{\"diverging\":[[0,\"#8e0152\"],[0.1,\"#c51b7d\"],[0.2,\"#de77ae\"],[0.3,\"#f1b6da\"],[0.4,\"#fde0ef\"],[0.5,\"#f7f7f7\"],[0.6,\"#e6f5d0\"],[0.7,\"#b8e186\"],[0.8,\"#7fbc41\"],[0.9,\"#4d9221\"],[1,\"#276419\"]],\"sequential\":[[0.0,\"#0d0887\"],[0.1111111111111111,\"#46039f\"],[0.2222222222222222,\"#7201a8\"],[0.3333333333333333,\"#9c179e\"],[0.4444444444444444,\"#bd3786\"],[0.5555555555555556,\"#d8576b\"],[0.6666666666666666,\"#ed7953\"],[0.7777777777777778,\"#fb9f3a\"],[0.8888888888888888,\"#fdca26\"],[1.0,\"#f0f921\"]],\"sequentialminus\":[[0.0,\"#0d0887\"],[0.1111111111111111,\"#46039f\"],[0.2222222222222222,\"#7201a8\"],[0.3333333333333333,\"#9c179e\"],[0.4444444444444444,\"#bd3786\"],[0.5555555555555556,\"#d8576b\"],[0.6666666666666666,\"#ed7953\"],[0.7777777777777778,\"#fb9f3a\"],[0.8888888888888888,\"#fdca26\"],[1.0,\"#f0f921\"]]},\"colorway\":[\"#636efa\",\"#EF553B\",\"#00cc96\",\"#ab63fa\",\"#FFA15A\",\"#19d3f3\",\"#FF6692\",\"#B6E880\",\"#FF97FF\",\"#FECB52\"],\"font\":{\"color\":\"#2a3f5f\"},\"geo\":{\"bgcolor\":\"white\",\"lakecolor\":\"white\",\"landcolor\":\"#E5ECF6\",\"showlakes\":true,\"showland\":true,\"subunitcolor\":\"white\"},\"hoverlabel\":{\"align\":\"left\"},\"hovermode\":\"closest\",\"mapbox\":{\"style\":\"light\"},\"paper_bgcolor\":\"white\",\"plot_bgcolor\":\"#E5ECF6\",\"polar\":{\"angularaxis\":{\"gridcolor\":\"white\",\"linecolor\":\"white\",\"ticks\":\"\"},\"bgcolor\":\"#E5ECF6\",\"radialaxis\":{\"gridcolor\":\"white\",\"linecolor\":\"white\",\"ticks\":\"\"}},\"scene\":{\"xaxis\":{\"backgroundcolor\":\"#E5ECF6\",\"gridcolor\":\"white\",\"gridwidth\":2,\"linecolor\":\"white\",\"showbackground\":true,\"ticks\":\"\",\"zerolinecolor\":\"white\"},\"yaxis\":{\"backgroundcolor\":\"#E5ECF6\",\"gridcolor\":\"white\",\"gridwidth\":2,\"linecolor\":\"white\",\"showbackground\":true,\"ticks\":\"\",\"zerolinecolor\":\"white\"},\"zaxis\":{\"backgroundcolor\":\"#E5ECF6\",\"gridcolor\":\"white\",\"gridwidth\":2,\"linecolor\":\"white\",\"showbackground\":true,\"ticks\":\"\",\"zerolinecolor\":\"white\"}},\"shapedefaults\":{\"line\":{\"color\":\"#2a3f5f\"}},\"ternary\":{\"aaxis\":{\"gridcolor\":\"white\",\"linecolor\":\"white\",\"ticks\":\"\"},\"baxis\":{\"gridcolor\":\"white\",\"linecolor\":\"white\",\"ticks\":\"\"},\"bgcolor\":\"#E5ECF6\",\"caxis\":{\"gridcolor\":\"white\",\"linecolor\":\"white\",\"ticks\":\"\"}},\"title\":{\"x\":0.05},\"xaxis\":{\"automargin\":true,\"gridcolor\":\"white\",\"linecolor\":\"white\",\"ticks\":\"\",\"title\":{\"standoff\":15},\"zerolinecolor\":\"white\",\"zerolinewidth\":2},\"yaxis\":{\"automargin\":true,\"gridcolor\":\"white\",\"linecolor\":\"white\",\"ticks\":\"\",\"title\":{\"standoff\":15},\"zerolinecolor\":\"white\",\"zerolinewidth\":2}}}},                        {\"responsive\": true}                    ).then(function(){\n",
              "                            \n",
              "var gd = document.getElementById('511f5bc1-2adc-4e5f-81ff-47e1f4ba5c35');\n",
              "var x = new MutationObserver(function (mutations, observer) {{\n",
              "        var display = window.getComputedStyle(gd).display;\n",
              "        if (!display || display === 'none') {{\n",
              "            console.log([gd, 'removed!']);\n",
              "            Plotly.purge(gd);\n",
              "            observer.disconnect();\n",
              "        }}\n",
              "}});\n",
              "\n",
              "// Listen for the removal of the full notebook cells\n",
              "var notebookContainer = gd.closest('#notebook-container');\n",
              "if (notebookContainer) {{\n",
              "    x.observe(notebookContainer, {childList: true});\n",
              "}}\n",
              "\n",
              "// Listen for the clearing of the current output cell\n",
              "var outputEl = gd.closest('.output');\n",
              "if (outputEl) {{\n",
              "    x.observe(outputEl, {childList: true});\n",
              "}}\n",
              "\n",
              "                        })                };                            </script>        </div>\n",
              "</body>\n",
              "</html>"
            ]
          },
          "metadata": {}
        }
      ],
      "source": [
        "optuna.visualization.plot_intermediate_values(study)"
      ]
    },
    {
      "cell_type": "code",
      "execution_count": null,
      "metadata": {
        "id": "PyG4shxFpsnY"
      },
      "outputs": [],
      "source": []
    },
    {
      "cell_type": "code",
      "execution_count": null,
      "metadata": {
        "id": "QqmsOzO4pskg"
      },
      "outputs": [],
      "source": []
    },
    {
      "cell_type": "code",
      "execution_count": null,
      "metadata": {
        "id": "-k0KXnR3yxzw"
      },
      "outputs": [],
      "source": [
        "class ContrastiveLoss(nn.Module):\n",
        "  def __init__(self, margin=1.0):\n",
        "    super(ContrastiveLoss, self).__init__()\n",
        "    self.margin = margin\n",
        "        \n",
        "  def forward(self, z_reparmeterized, labels):\n",
        "    # Compute the pairwise euclidean distances between the examples in the latent space\n",
        "    distances = torch.pow(z_reparmeterized, 2).sum(dim=1, keepdim=True) + torch.pow(z_reparmeterized, 2).sum(dim=1, keepdim=True).t() - 2 * torch.matmul(z_reparmeterized, z_reparmeterized.t())\n",
        "    # Create a mask for the positive pairs (i.e. examples with the same label)\n",
        "    positive_mask = labels.expand(z_reparmeterized.size(0), z_reparmeterized.size(0)).eq(labels.expand(z_reparmeterized.size(0), z_reparmeterized.size(0)).t())\n",
        "    # Create a mask for the negative pairs (i.e. examples with different labels)\n",
        "    negative_mask = labels.expand(z_reparmeterized.size(0), z_reparmeterized.size(0)).ne(labels.expand(z_reparmeterized.size(0), z_reparmeterized.size(0)).t())\n",
        "    # Set the distances for the positive pairs to a large value\n",
        "    distances.masked_fill_(positive_mask, 1e7)\n",
        "    # Compute the contrastive loss as the sum of the max(0, margin - distance) for the negative pairs\n",
        "    contrastive_loss = torch.sum(torch.max(torch.zeros_like(distances), self.margin - distances))\n",
        "    return contrastive_loss\n"
      ]
    },
    {
      "cell_type": "code",
      "execution_count": null,
      "metadata": {
        "id": "00s0At_uPOOb"
      },
      "outputs": [],
      "source": [
        "class MagneticLoss(torch.nn.Module):\n",
        "  def __init__(self, num_classes, strength, width):\n",
        "      super().__init__()\n",
        "      self.num_classes = num_classes\n",
        "      self.strength = strength\n",
        "      self.width = width     \n",
        "\n",
        "  def forward(self, z, y):\n",
        "    N = z.shape[0] # number of samples\n",
        "    K = self.num_classes # number of classes\n",
        "    mu = torch.stack([z[y.squeeze==k].mean(dim=0) for k in range(K)], dim=0) # mean of each class\n",
        "    print(f\"mu: {mu}\")\n",
        "    z_center = z[None, :, :] - mu[:, None, :] # centered z\n",
        "    print(f\"z_center: {z_center}\")\n",
        "    z_Norm = z_center.norm(dim=2) # L2 norm of z_Center\n",
        "    print(f\"z_Norm: {z_Norm}\")\n",
        "    exp_term = torch.exp(-self.width * z_Norm)\n",
        "    pairwise_sum = (exp_term[:, :, None] * exp_term[None, :, :]).sum() - exp_term.sum()\n",
        "    loss = 0.5 * self.strength * pairwise_sum / N / (K - 1)\n",
        "    return loss"
      ]
    },
    {
      "cell_type": "code",
      "execution_count": null,
      "metadata": {
        "id": "HLawvUR-SpJl"
      },
      "outputs": [],
      "source": [
        "# Loss Functions\n",
        "loss_fn = nn.MSELoss(reduction=\"sum\")\n",
        "classifier_loss_fn = nn.CrossEntropyLoss()\n",
        "triplet_loss_fn = nn.TripletMarginLoss(margin=1.0)\n",
        "#triplet_loss_fn = TripletLoss(margin=1.0)\n",
        "\n",
        "contrastive_loss_fn = ContrastiveLoss(margin=1)\n",
        "magnetic_loss_fn = MagneticLoss(num_classes=num_classes, strength=1, width=1)\n",
        "\n",
        "#############################################################################################################################################################################################################\n",
        "#############################################################################################################################################################################################################\n",
        "#############################################################################################################################################################################################################\n",
        "#############################################################################################################################################################################################################\n",
        "\n",
        "num_epochs= 100\n",
        "learning_rate= 0.001 #3e-4 #Karpathy constant\n",
        "l2_lambda = 0\n",
        "\n",
        "batch_size= 192\n",
        "lr= 0.007738229055712843\n",
        "alpha= 6.861503020532726\n",
        "beta= 4.6777471208607455\n",
        "gamma= 8.045332469671456\n",
        "delta= 8.69344645086914\n",
        "\n",
        "train_loader = DataLoader(training, batch_size=batch_size, shuffle=True)\n",
        "val_loader = DataLoader(validating, batch_size=batch_size, shuffle=False)\n",
        "test_loader = DataLoader(testing, batch_size=batch_size, shuffle=False)\n",
        "\n",
        "# #Model and Optmimizer\n",
        "model  = VAE(input_dim, hidden_dim, latent_dim).to(device)\n",
        "optimizer = optim.Adam(model.parameters(), lr=lr)\n",
        "print(model)\n",
        "\n",
        "#############################################################################################################################################################################################################\n",
        "#############################################################################################################################################################################################################\n",
        "#############################################################################################################################################################################################################\n",
        "#############################################################################################################################################################################################################"
      ]
    },
    {
      "cell_type": "markdown",
      "metadata": {
        "id": "6r4_reRyWuIu"
      },
      "source": [
        "---\n",
        "Train and Validation loop"
      ]
    },
    {
      "cell_type": "code",
      "execution_count": null,
      "metadata": {
        "id": "lH7Muoa_Sr-U"
      },
      "outputs": [],
      "source": [
        "train_losses=[]\n",
        "train_accuracy = []\n",
        "accuracy_log = []\n",
        "val_losses=[]\n",
        "val_accuracy=[]\n",
        "\n",
        "dic = dict(latent_space = list(), mu_list=list(), logsig2_list=list(), y=list())\n",
        "\n",
        "from tensorboardX import SummaryWriter\n",
        "\n",
        "# Create a SummaryWriter object\n",
        "writer = SummaryWriter() \n",
        "\n",
        "\n",
        "\n",
        "for epoch in range(num_epochs):\n",
        "  model.train()\n",
        "  train_running_loss = 0\n",
        "  \n",
        "\n",
        "  z_list, means, logvars , labels_list = list(), list(), list(), list()\n",
        "\n",
        "  for i, data in enumerate(train_loader):\n",
        "    inputs, labels = data\n",
        "    # print(f\"Input shape: {inputs.shape}\")\n",
        "    # print(f\"Labels shape: {labels.shape}\")\n",
        "    optimizer.zero_grad()\n",
        "    \n",
        "    x_reconstructed, z_reparmeterized, classified, mu, logvar = model(inputs)\n",
        "\n",
        "    # Compute the reconstruction loss and KL divergence loss #################################################\n",
        "\n",
        "    reconstruction_loss = loss_fn(x_reconstructed, inputs)\n",
        "    kld_loss = -0.5 * torch.sum(1 + logvar - mu.pow(2) - logvar.exp())\n",
        "\n",
        "    # Compute the contrastive loss #############################################################################\n",
        "    contrastive_loss = contrastive_loss_fn(mu, labels)\n",
        "\n",
        "    # Compute the classificaiton loss #########################################################################\n",
        "    classified = classified.view(-1, 13)\n",
        "    classification_loss = classifier_loss_fn(classified, labels.flatten())\n",
        "\n",
        "    # Compute the triplet loss #########################\n",
        "    # Select a random sample as the anchor, then select the positive samples (samples with the same label as the anchor)\n",
        "    # and negative samples (samples with a different label than the anchor) from the mu\n",
        "    batch_size = mu.size(0)\n",
        "    # Select a random sample as the anchor\n",
        "    anchor_index = torch.randint(0, batch_size, (1,))\n",
        "    anchor_embeddings = mu[anchor_index].view(1, -1) # Take the embedding for the current sample\n",
        "    anchor_embeddings = anchor_embeddings.expand(batch_size,-1)\n",
        "    # Select a fixed number of positive samples\n",
        "    positive_indices = torch.randint(0, batch_size, (batch_size,))\n",
        "    positive_embeddings = mu[positive_indices].view(-1,latent_dim)\n",
        "    # Select a fixed number of negative samples\n",
        "    negative_indices = torch.randint(0, batch_size, (batch_size,))\n",
        "    negative_embeddings = mu[negative_indices].view(-1,latent_dim)\n",
        "    #print(f\"anchor_embeddings shape: {anchor_embeddings.shape}, positive_embeddings shape: {positive_embeddings.shape}, negative_embeddings shape: {negative_embeddings.shape}\")\n",
        "    triplet_loss = triplet_loss_fn(anchor_embeddings, positive_embeddings, negative_embeddings)\n",
        "   \n",
        "    loss = (alpha*reconstruction_loss + kld_loss*beta) + gamma*classification_loss + delta*contrastive_loss #+ epsilon*triplet_loss\n",
        "\n",
        "    accuracy = accuracy_score(labels, classified.argmax(dim=1))\n",
        "    train_accuracy.append(accuracy)\n",
        "    train_acc = sum(train_accuracy)/len(train_accuracy)\n",
        "    accuracy_log.append(train_acc)\n",
        "\n",
        "    loss.backward()\n",
        "    optimizer.step()\n",
        "\n",
        "    train_running_loss += loss.item()\n",
        "    train_loss= train_running_loss/len(train_loader)\n",
        "\n",
        "   # log for latent space visualziation (gif)...\n",
        "    z_list.append(z_reparmeterized.detach())\n",
        "    means.append(mu.detach())\n",
        "    logvars.append(logvar.detach())\n",
        "    labels_list.append(labels.detach())\n",
        "\n",
        "   # Write the scalar values to TensorBoard\n",
        "    writer.add_scalar('loss/total', loss.item(), i)\n",
        "    writer.add_scalar('loss/reconstruction', reconstruction_loss.item(), i)\n",
        "    writer.add_scalar('loss/kld', kld_loss.item(), i)\n",
        "    writer.add_scalar('loss/classification', classification_loss.item(), i)\n",
        "\n",
        "  writer.add_embedding(z_reparmeterized, metadata=labels, global_step=epoch)\n",
        "\n",
        "  with torch.inference_mode():\n",
        "    val_running_loss = 0\n",
        "    val_running_acc = 0\n",
        "\n",
        "    model.eval()\n",
        "    # Iterate over the validation data\n",
        "    for X, Y in val_loader:\n",
        "      # Pass the data through the model and get the reconstructed data and the latent representation\n",
        "      y_pred, z_reparmeterized, v_classified, mu, logvar = model(X)\n",
        "\n",
        "      # Compute the reconstruction loss\n",
        "      v_reconstruction_loss = loss_fn(y_pred, X)\n",
        "\n",
        "      # Compute the KL divergence loss\n",
        "      v_kld_loss = -0.5 * torch.sum(1 + logvar - mu.pow(2) - logvar.exp())\n",
        "\n",
        "      # Compute the contrastive loss\n",
        "      v_contrastive_loss_value = contrastive_loss_fn(mu, Y)\n",
        "\n",
        "      # Reshape the classified output to have the same shape as the labels\n",
        "      v_classified = v_classified.view(-1, 13)\n",
        "      # Compute the classification loss\n",
        "      v_classification_loss = classifier_loss_fn(v_classified, Y.flatten())\n",
        "\n",
        "      # Compute the total loss\n",
        "      vloss = (alpha*v_reconstruction_loss + v_kld_loss*beta) + gamma*v_classification_loss + delta*v_contrastive_loss_value\n",
        "      val_running_loss += vloss.item()\n",
        "      val_loss = val_running_loss/len(val_loader)\n",
        "\n",
        "      v_accuracy = accuracy_score(Y, v_classified.argmax(dim=1))\n",
        "      val_accuracy.append(v_accuracy)\n",
        "      val_acc = sum(val_accuracy)/len(val_accuracy)\n",
        "\n",
        "  dic['latent_space'].append(torch.cat(z_list))\n",
        "  dic['mu_list'].append(torch.cat(means))\n",
        "  dic['logsig2_list'].append(torch.cat(logvars))\n",
        "  dic['y'].append(torch.cat(labels_list))\n",
        "\n",
        "  print(f\"Epoch: {epoch+1} / {num_epochs} | Reconst_loss: {reconstruction_loss:.3f} | Kldiv loss: {kld_loss:.3f} | Classifcation loss: {classification_loss:.3f} | Constrast loss: {contrastive_loss:.2f} | Triplet loss: {triplet_loss:.3f} | Total loss: {train_loss:.3f} | Train acc: {train_acc*100:.3f} % ||| Val Loss: {val_loss:.3f} | Val acc: {val_acc*100:.3f} %\")\n",
        "  print(\"-------------------------------------------------------------------------------------------------------------------------------------------------------------------------------------\")\n",
        "  train_losses.append(train_loss)\n",
        "  val_losses.append(val_loss)\n",
        "\n",
        "# Close the SummaryWriter\n",
        "writer.close()"
      ]
    },
    {
      "cell_type": "code",
      "execution_count": null,
      "metadata": {
        "id": "Mu-g_vKRS7V8"
      },
      "outputs": [],
      "source": [
        "torch.save(model.state_dict(), 'VAE_Model.pt') # Save"
      ]
    },
    {
      "cell_type": "markdown",
      "metadata": {
        "id": "aa3Thi-cW05z"
      },
      "source": [
        "---\n",
        "Model Evaluations"
      ]
    },
    {
      "cell_type": "code",
      "execution_count": null,
      "metadata": {
        "id": "OSD621NES9gA"
      },
      "outputs": [],
      "source": [
        "plt.plot(train_losses,'-o', label=\"Training loss\")\n",
        "plt.plot(val_losses,'-r',  label=\"Validation loss\")\n",
        "plt.xlabel('epoch')\n",
        "plt.ylabel('losses')\n",
        "plt.title('Training and Validation Losses')\n",
        "plt.legend()\n",
        "plt.show()"
      ]
    },
    {
      "cell_type": "markdown",
      "metadata": {
        "id": "MhYdRnwjW7SS"
      },
      "source": [
        "---\n",
        "Latent Space Visualization"
      ]
    },
    {
      "cell_type": "code",
      "execution_count": null,
      "metadata": {
        "id": "jRW82C1HTAkI"
      },
      "outputs": [],
      "source": [
        "print(\"Latent Space Visualization\")\n",
        "for i in range (num_epochs):\n",
        "  fig = plt.figure(figsize=(12,12))\n",
        "  z_arr = dic['latent_space'][i].cpu().numpy()\n",
        "  y_arr = dic['y'][i].cpu().numpy()\n",
        "\n",
        "  #Experiment 1\n",
        "  plt.scatter(z_arr[:,0], z_arr[:,1], c = y_arr, edgecolor='none', alpha=0.5,\n",
        "              cmap=plt.cm.get_cmap('gist_rainbow', num_classes))\n",
        "  cb = plt.colorbar(ticks=[1,2,3,4,5,6,7,8,9,10,11,12],values=[1,2,3,4,5,6,7,8,9,10,11,12])\n",
        "  #Experiment 3\n",
        "  # plt.scatter(z_arr[:,0], z_arr[:,1], c = y_arr, edgecolor='none', alpha=0.5,\n",
        "  #             cmap=plt.cm.get_cmap('hsv', 23))\n",
        "  #cb = plt.colorbar(ticks=[0,1,2,3,4,5,6,7,8,9,10,11,12,13,14,15,16,17,18,19,20,21,22,23],values=[0,1,2,3,4,5,6,7,8,9,10,11,12,13,14,15,16,17,18,19,20,21,22,23])\n",
        "  cb.ax.tick_params(labelsize=10)\n",
        "  # plt.xlim(-5, 5)\n",
        "  # plt.ylim(-5, 5)\n",
        "  plt.xticks(fontsize= 10)\n",
        "  plt.yticks(fontsize= 10)\n",
        "  plt.xlabel('z[0]', fontsize= 10)\n",
        "  plt.ylabel('z[1]', fontsize= 10)\n",
        "  plt.title(f'VAE train dataset with {input_dim} features| Acc: {train_acc*100:.1f}% | latent space Dim={latent_dim} | Epoch number: {i+1} ', fontsize= 12)\n",
        "  # plt.show()\n",
        "  plt.close()\n",
        "  fig.savefig(f\"/content/drive/MyDrive/WEAR_LAB/Research_Pytorch/VAE_Images/VAEtrain_images{i:001}\" + \".png\")\n",
        "  print(f\"Latent Space Image {i+1} stored.\")\n",
        "print()\n",
        "print(\"Latent Space Gif being created...\")\n",
        "print()\n",
        "\n",
        "import imageio\n",
        "gif = []\n",
        "for i in range(num_epochs):\n",
        "  each_image = imageio.imread(f\"/content/drive/MyDrive/WEAR_LAB/Research_Pytorch/VAE_Images/VAEtrain_images{i}\" + \".png\")# here read all images\n",
        "  gif.append(each_image)\n",
        "imageio.mimsave(f\"/content/Latent_Space_and_Number_Features_{input_dim}.gif\",gif)\n",
        "\n",
        "from IPython.display import Image\n",
        "\n",
        "fname = f'/content/Latent_Space_and_Number_Features_{input_dim}.gif'\n",
        "Image(open(fname, 'rb').read())  # local"
      ]
    },
    {
      "cell_type": "code",
      "execution_count": null,
      "metadata": {
        "id": "_yhSCW0l98lK"
      },
      "outputs": [],
      "source": [
        "%tensorboard --logdir=runs"
      ]
    }
  ],
  "metadata": {
    "colab": {
      "collapsed_sections": [
        "M8iJEJRDVWqt",
        "nXr0DgjjvCJa",
        "Sl7Bo_dsuqR7"
      ],
      "machine_shape": "hm",
      "provenance": [],
      "include_colab_link": true
    },
    "gpuClass": "standard",
    "kernelspec": {
      "display_name": "Python 3",
      "name": "python3"
    },
    "language_info": {
      "name": "python"
    }
  },
  "nbformat": 4,
  "nbformat_minor": 0
}